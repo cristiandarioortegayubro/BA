{
  "nbformat": 4,
  "nbformat_minor": 0,
  "metadata": {
    "colab": {
      "provenance": [],
      "include_colab_link": true
    },
    "kernelspec": {
      "name": "python3",
      "display_name": "Python 3"
    },
    "language_info": {
      "name": "python"
    }
  },
  "cells": [
    {
      "cell_type": "markdown",
      "metadata": {
        "id": "view-in-github",
        "colab_type": "text"
      },
      "source": [
        "<a href=\"https://colab.research.google.com/github/cristiandarioortegayubro/BA/blob/main/modulo.04/bds_algoritmos_001_01.ipynb\" target=\"_parent\"><img src=\"https://colab.research.google.com/assets/colab-badge.svg\" alt=\"Open In Colab\"/></a>"
      ]
    },
    {
      "cell_type": "markdown",
      "source": [
        "<p align=\"center\">\n",
        "<img src=\"https://github.com/cristiandarioortegayubro/BDS/blob/main/images/Logo%20BDS%20Horizontal%208.png?raw=true\">\n",
        "</p>\n"
      ],
      "metadata": {
        "id": "iheuwam9e4CH"
      }
    },
    {
      "cell_type": "markdown",
      "source": [
        "<p align=\"center\">\n",
        "<img src=\"https://github.com/cristiandarioortegayubro/BDS/blob/main/images/Logo%20Statsmodels.png?raw=true\" width=\"280\">\n",
        "</p>"
      ],
      "metadata": {
        "id": "fBNtvjpUxHaM"
      }
    },
    {
      "cell_type": "markdown",
      "source": [
        " # **<font color=\"DeepPink\">Modelos Supervisados: Regresión Lineal Simple</font>**"
      ],
      "metadata": {
        "id": "_o8tuKydjnRZ"
      }
    },
    {
      "cell_type": "markdown",
      "source": [
        "<p align=\"justify\">\n",
        "La regresión lineal es un método estadístico que trata de modelar la relación entre una <b>variable continua</b> y una o más variables independientes mediante el ajuste de una ecuación lineal. Se llama <b>regresión lineal simple</b> cuando solo hay una variable independiente y <b>regresión lineal múltiple</b> cuando hay más de una.\n",
        "<br>\n",
        "<br>\n",
        "A la variable dependiente también se le conoce como variable explicada o variable respuesta, y a las variables independientes como regresoras, explicativas o <i>features</i>.\n",
        "<br>\n",
        "<br>\n",
        "Suponga que llamamos $x$ a la variable explicativa o independiente e $y$ a la variable explicada o dependiente. Entonces, para cada valor de $x$, la variable explicada $y$ responde a la expresión de la forma:\n",
        "<br>\n",
        "<br>\n",
        "$$ y = \\beta_0+\\beta_1x+\\epsilon $$\n",
        "<br>\n",
        "<br>\n",
        "Donde $\\epsilon$ es una variable aleatoria con distribución normal $N(0,\\sigma^2)$ y $\\beta_0$ y $\\beta_1$ son los parámetros del modelo.\n",
        "<br>\n",
        "<br>\n",
        "Los supuestos que se analizan más adelante son 2:\n",
        "<br>\n",
        "<br>\n",
        "\n",
        "* ***Normalidad*** *: cada variable aleatoria $\\epsilon_i$, i=1,...,n tiene distribución normal.*\n",
        "* ***Homoscedasticidad*** *(igualdad de varianzas): $var(\\epsilon_1)=var(\\epsilon_2)=...=var(\\epsilon_n)$*\n",
        "\n",
        "<p align=\"justify\">\n",
        "Por lo tanto, la regresión lineal es un método estadístico para predecir o inferir el valor que tomará la variable dependiente $y$ basado en los valores de una variable independiente $x$.\n",
        "<br>\n",
        "<br>\n",
        "Se trata de encontrar la función lineal (con sus parámetros) que predice $y$ en función de la variable $x$.\n",
        "\n"
      ],
      "metadata": {
        "id": "Yxw_Z81Bw8hO"
      }
    },
    {
      "cell_type": "markdown",
      "source": [
        "<p align=\"center\">\n",
        "<img src=\"https://github.com/cristiandarioortegayubro/BDS/blob/main/images/Regresion-lineal-001.png?raw=true\" width=\"500\">\n",
        "</p>\n"
      ],
      "metadata": {
        "id": "A2v04wYNB6fX"
      }
    },
    {
      "cell_type": "markdown",
      "source": [
        "<p align=\"justify\">\n",
        "Para calcular la función lineal se puede utilizar el <b>método de mínimos cuadrados</b>. El cual busca la recta que minimiza la distancia total de los puntos (valor real) respecto de las predicciones."
      ],
      "metadata": {
        "id": "SGPMMfvEiGJ8"
      }
    },
    {
      "cell_type": "markdown",
      "source": [
        "<p align=\"center\">\n",
        "<img src=\"https://github.com/cristiandarioortegayubro/BDS/blob/main/images/Regresion-lineal-002.png?raw=true\" width=\"500\">\n",
        "</p>\n"
      ],
      "metadata": {
        "id": "RuZR2rv7Dr-Q"
      }
    },
    {
      "cell_type": "markdown",
      "source": [
        " ## **<font color=\"DeepPink\">Bibliotecas</font>**"
      ],
      "metadata": {
        "id": "qPNI5Lubihsi"
      }
    },
    {
      "cell_type": "code",
      "source": [
        "import yfinance as yf #para obtener las series de precios históricos del fondo\n",
        "import pandas_datareader.data as web #para obtener los factores del modelo de Fama & French\n",
        "import pandas as pd\n",
        "import numpy as np\n",
        "import datetime as dt\n",
        "import plotly.express as px\n",
        "import plotly.graph_objects as go"
      ],
      "metadata": {
        "id": "KdD4Hy5zkFqj"
      },
      "execution_count": 1,
      "outputs": []
    },
    {
      "cell_type": "markdown",
      "source": [
        " ## **<font color=\"DeepPink\">Conjunto de datos</font>**"
      ],
      "metadata": {
        "id": "wYCND7puiyw4"
      }
    },
    {
      "cell_type": "markdown",
      "source": [
        "👀 [Fidelity® Growth Company (FDGRX)](https://fundresearch.fidelity.com/mutual-funds/summary/316200104?type=sq-NavBar) es un fondo de inversiones que contiene más 500 compañías."
      ],
      "metadata": {
        "id": "vENRTcHYoPNy"
      }
    },
    {
      "cell_type": "markdown",
      "source": [
        "El siguiente proceso es explicado en el Colab [Datos remotos 001.01 de yahoo finanzas](https://campus.uda.edu.ar/mod/hvp/view.php?id=197654):"
      ],
      "metadata": {
        "id": "h9cXUSAZazd5"
      }
    },
    {
      "cell_type": "code",
      "source": [
        "end = dt.date(2022, 12, 31)\n",
        "start = dt.date(end.year - 20, end.month, end.day)\n",
        "fund = ['FDGRX']\n",
        "priceFund = yf.download(fund, start, end, interval = '1mo', rounding='true')['Adj Close']\n",
        "retFund = priceFund.pct_change()[1:]\n",
        "factors = web.DataReader('F-F_Research_Data_Factors', 'famafrench', start, end)[0]\n",
        "factors = factors[2:]\n",
        "retFund.index = factors.index\n",
        "df = pd.merge(retFund, factors, on=\"Date\")\n",
        "df[['Mkt-RF','SMB','HML','RF']]=df[['Mkt-RF','SMB','HML','RF']]/100\n",
        "df.rename(columns={\"Adj Close\":\"Ri\"}, inplace=True)\n",
        "df['Ri-RF'] = df['Ri'] - df['RF']\n",
        "df.drop(columns=[\"Ri\", \"RF\"], inplace=True)"
      ],
      "metadata": {
        "colab": {
          "base_uri": "https://localhost:8080/"
        },
        "id": "gG-18IYLoHxC",
        "outputId": "1b4159b0-28dd-4885-fc58-79d9cf38b730"
      },
      "execution_count": 2,
      "outputs": [
        {
          "output_type": "stream",
          "name": "stdout",
          "text": [
            "\r[*********************100%***********************]  1 of 1 completed\n"
          ]
        }
      ]
    },
    {
      "cell_type": "code",
      "source": [
        "df.head()"
      ],
      "metadata": {
        "colab": {
          "base_uri": "https://localhost:8080/",
          "height": 252
        },
        "id": "J2aSV6QBr9cC",
        "outputId": "7ee5bc98-e2cd-48c3-ff28-5b9bbbf55b57"
      },
      "execution_count": 3,
      "outputs": [
        {
          "output_type": "execute_result",
          "data": {
            "text/plain": [
              "         Mkt-RF     SMB     HML     Ri-RF\n",
              "Date                                     \n",
              "2003-02 -0.0188 -0.0045 -0.0138 -0.000900\n",
              "2003-03  0.0109  0.0103 -0.0191  0.021989\n",
              "2003-04  0.0822  0.0066  0.0117  0.083270\n",
              "2003-05  0.0605  0.0474  0.0050  0.092364\n",
              "2003-06  0.0142  0.0177  0.0015  0.008479"
            ],
            "text/html": [
              "\n",
              "  <div id=\"df-9a3cd9c6-a389-4b7a-8a0b-aca4b975d23b\">\n",
              "    <div class=\"colab-df-container\">\n",
              "      <div>\n",
              "<style scoped>\n",
              "    .dataframe tbody tr th:only-of-type {\n",
              "        vertical-align: middle;\n",
              "    }\n",
              "\n",
              "    .dataframe tbody tr th {\n",
              "        vertical-align: top;\n",
              "    }\n",
              "\n",
              "    .dataframe thead th {\n",
              "        text-align: right;\n",
              "    }\n",
              "</style>\n",
              "<table border=\"1\" class=\"dataframe\">\n",
              "  <thead>\n",
              "    <tr style=\"text-align: right;\">\n",
              "      <th></th>\n",
              "      <th>Mkt-RF</th>\n",
              "      <th>SMB</th>\n",
              "      <th>HML</th>\n",
              "      <th>Ri-RF</th>\n",
              "    </tr>\n",
              "    <tr>\n",
              "      <th>Date</th>\n",
              "      <th></th>\n",
              "      <th></th>\n",
              "      <th></th>\n",
              "      <th></th>\n",
              "    </tr>\n",
              "  </thead>\n",
              "  <tbody>\n",
              "    <tr>\n",
              "      <th>2003-02</th>\n",
              "      <td>-0.0188</td>\n",
              "      <td>-0.0045</td>\n",
              "      <td>-0.0138</td>\n",
              "      <td>-0.000900</td>\n",
              "    </tr>\n",
              "    <tr>\n",
              "      <th>2003-03</th>\n",
              "      <td>0.0109</td>\n",
              "      <td>0.0103</td>\n",
              "      <td>-0.0191</td>\n",
              "      <td>0.021989</td>\n",
              "    </tr>\n",
              "    <tr>\n",
              "      <th>2003-04</th>\n",
              "      <td>0.0822</td>\n",
              "      <td>0.0066</td>\n",
              "      <td>0.0117</td>\n",
              "      <td>0.083270</td>\n",
              "    </tr>\n",
              "    <tr>\n",
              "      <th>2003-05</th>\n",
              "      <td>0.0605</td>\n",
              "      <td>0.0474</td>\n",
              "      <td>0.0050</td>\n",
              "      <td>0.092364</td>\n",
              "    </tr>\n",
              "    <tr>\n",
              "      <th>2003-06</th>\n",
              "      <td>0.0142</td>\n",
              "      <td>0.0177</td>\n",
              "      <td>0.0015</td>\n",
              "      <td>0.008479</td>\n",
              "    </tr>\n",
              "  </tbody>\n",
              "</table>\n",
              "</div>\n",
              "      <button class=\"colab-df-convert\" onclick=\"convertToInteractive('df-9a3cd9c6-a389-4b7a-8a0b-aca4b975d23b')\"\n",
              "              title=\"Convert this dataframe to an interactive table.\"\n",
              "              style=\"display:none;\">\n",
              "        \n",
              "  <svg xmlns=\"http://www.w3.org/2000/svg\" height=\"24px\"viewBox=\"0 0 24 24\"\n",
              "       width=\"24px\">\n",
              "    <path d=\"M0 0h24v24H0V0z\" fill=\"none\"/>\n",
              "    <path d=\"M18.56 5.44l.94 2.06.94-2.06 2.06-.94-2.06-.94-.94-2.06-.94 2.06-2.06.94zm-11 1L8.5 8.5l.94-2.06 2.06-.94-2.06-.94L8.5 2.5l-.94 2.06-2.06.94zm10 10l.94 2.06.94-2.06 2.06-.94-2.06-.94-.94-2.06-.94 2.06-2.06.94z\"/><path d=\"M17.41 7.96l-1.37-1.37c-.4-.4-.92-.59-1.43-.59-.52 0-1.04.2-1.43.59L10.3 9.45l-7.72 7.72c-.78.78-.78 2.05 0 2.83L4 21.41c.39.39.9.59 1.41.59.51 0 1.02-.2 1.41-.59l7.78-7.78 2.81-2.81c.8-.78.8-2.07 0-2.86zM5.41 20L4 18.59l7.72-7.72 1.47 1.35L5.41 20z\"/>\n",
              "  </svg>\n",
              "      </button>\n",
              "      \n",
              "  <style>\n",
              "    .colab-df-container {\n",
              "      display:flex;\n",
              "      flex-wrap:wrap;\n",
              "      gap: 12px;\n",
              "    }\n",
              "\n",
              "    .colab-df-convert {\n",
              "      background-color: #E8F0FE;\n",
              "      border: none;\n",
              "      border-radius: 50%;\n",
              "      cursor: pointer;\n",
              "      display: none;\n",
              "      fill: #1967D2;\n",
              "      height: 32px;\n",
              "      padding: 0 0 0 0;\n",
              "      width: 32px;\n",
              "    }\n",
              "\n",
              "    .colab-df-convert:hover {\n",
              "      background-color: #E2EBFA;\n",
              "      box-shadow: 0px 1px 2px rgba(60, 64, 67, 0.3), 0px 1px 3px 1px rgba(60, 64, 67, 0.15);\n",
              "      fill: #174EA6;\n",
              "    }\n",
              "\n",
              "    [theme=dark] .colab-df-convert {\n",
              "      background-color: #3B4455;\n",
              "      fill: #D2E3FC;\n",
              "    }\n",
              "\n",
              "    [theme=dark] .colab-df-convert:hover {\n",
              "      background-color: #434B5C;\n",
              "      box-shadow: 0px 1px 3px 1px rgba(0, 0, 0, 0.15);\n",
              "      filter: drop-shadow(0px 1px 2px rgba(0, 0, 0, 0.3));\n",
              "      fill: #FFFFFF;\n",
              "    }\n",
              "  </style>\n",
              "\n",
              "      <script>\n",
              "        const buttonEl =\n",
              "          document.querySelector('#df-9a3cd9c6-a389-4b7a-8a0b-aca4b975d23b button.colab-df-convert');\n",
              "        buttonEl.style.display =\n",
              "          google.colab.kernel.accessAllowed ? 'block' : 'none';\n",
              "\n",
              "        async function convertToInteractive(key) {\n",
              "          const element = document.querySelector('#df-9a3cd9c6-a389-4b7a-8a0b-aca4b975d23b');\n",
              "          const dataTable =\n",
              "            await google.colab.kernel.invokeFunction('convertToInteractive',\n",
              "                                                     [key], {});\n",
              "          if (!dataTable) return;\n",
              "\n",
              "          const docLinkHtml = 'Like what you see? Visit the ' +\n",
              "            '<a target=\"_blank\" href=https://colab.research.google.com/notebooks/data_table.ipynb>data table notebook</a>'\n",
              "            + ' to learn more about interactive tables.';\n",
              "          element.innerHTML = '';\n",
              "          dataTable['output_type'] = 'display_data';\n",
              "          await google.colab.output.renderOutput(dataTable, element);\n",
              "          const docLink = document.createElement('div');\n",
              "          docLink.innerHTML = docLinkHtml;\n",
              "          element.appendChild(docLink);\n",
              "        }\n",
              "      </script>\n",
              "    </div>\n",
              "  </div>\n",
              "  "
            ]
          },
          "metadata": {},
          "execution_count": 3
        }
      ]
    },
    {
      "cell_type": "code",
      "source": [
        "df.info()"
      ],
      "metadata": {
        "colab": {
          "base_uri": "https://localhost:8080/"
        },
        "id": "_YePyl6gwyBr",
        "outputId": "0bda8498-6e44-49d2-f286-b58ff780a2bc"
      },
      "execution_count": 4,
      "outputs": [
        {
          "output_type": "stream",
          "name": "stdout",
          "text": [
            "<class 'pandas.core.frame.DataFrame'>\n",
            "PeriodIndex: 239 entries, 2003-02 to 2022-12\n",
            "Freq: M\n",
            "Data columns (total 4 columns):\n",
            " #   Column  Non-Null Count  Dtype  \n",
            "---  ------  --------------  -----  \n",
            " 0   Mkt-RF  239 non-null    float64\n",
            " 1   SMB     239 non-null    float64\n",
            " 2   HML     239 non-null    float64\n",
            " 3   Ri-RF   239 non-null    float64\n",
            "dtypes: float64(4)\n",
            "memory usage: 9.3 KB\n"
          ]
        }
      ]
    },
    {
      "cell_type": "markdown",
      "source": [
        "<p align=\"justify\">\n",
        "El modelo de tres factores Fama-French es una extensión del modelo de valoración de activos de capital (CAPM por sus siglas en inglés). El modelo Fama-French tiene como objetivo explicar los rendimientos de las acciones a través de tres factores:</p>\n",
        "\n",
        "- (1) prima por riesgo de mercado,\n",
        "- (2) el rendimiento superior de las empresas de pequeña capitalización en relación con las empresas de gran capitalización bursatil, y\n",
        "- (3) el rendimiento superior de las empresas de valor (valor libro - valor de mercado alto) en relación a las empresas de crecimiento (valor libro - valor de mercado bajo).\n",
        "\n",
        "<p align=\"justify\">\n",
        "La lógica detrás del modelo es que las empresas de valor y de pequeña capitalización bursatil tienden a superar regularmente en cuanto a rendimiento esperado a las empresas de crecimiento y alta capitalización bursatil.<p>\n",
        "\n",
        "La fórmula del modelo de tres factores es:\n",
        "\n",
        "$$r_i = r_f + \\beta_1(r_m - r_f) + \\beta_2(SMB)+\\beta_3(HML)+ϵ_i$$\n",
        "\n",
        "donde:\n",
        "* $r_i$  = tasa de rendimiento esperada\n",
        "* $rf$ = tasa libre de riesgo\n",
        "* $\\beta$  = coeficiente del factor (sensibilidad)\n",
        "* $(r_m – r_f)$ = prima de riesgo de mercado\n",
        "* $SMB$ (Small Minus Big) = rendimiento excedente histórico de las empresas de pequeña capitalización bursatil sobre las empresas de gran capitalización. Efecto tamaño.\n",
        "* $HML$ (High Minus Low) = exceso de rendimiento histórico de las acciones de valor sobre las acciones de crecimiento\n",
        "* $\\epsilon_i$  = error aleatorio\n",
        "\n",
        "Más información sobre el modelo de Fama y French y la base de datos:\n",
        "* [CFI: Fama-French Three-Factor Model](https://corporatefinanceinstitute.com/resources/valuation/fama-french-three-factor-model/)\n",
        "* [Base de datos](http://mba.tuck.dartmouth.edu/pages/faculty/ken.french/data_library.html)\n",
        "* [Pandas DataReader](https://pandas-datareader.readthedocs.io/en/latest/remote_data.html#fama-french)\n",
        "\n"
      ],
      "metadata": {
        "id": "5gtKnvURuJhS"
      }
    },
    {
      "cell_type": "code",
      "source": [
        "df.rename(columns={'Mkt-RF':'PrimaRiesgoMercado',\n",
        "                   'SMB':'EfectoTamaño',\n",
        "                   'HML':'ValorCrecimiento',\n",
        "                   'Ri-RF':'Rendimiento' }, inplace=True)"
      ],
      "metadata": {
        "id": "BQSqkj9n4bOM"
      },
      "execution_count": 5,
      "outputs": []
    },
    {
      "cell_type": "code",
      "source": [
        "df.reset_index(drop=True, inplace=True)"
      ],
      "metadata": {
        "id": "uG1qFR_vp3sZ"
      },
      "execution_count": 6,
      "outputs": []
    },
    {
      "cell_type": "code",
      "source": [
        "df.head()"
      ],
      "metadata": {
        "colab": {
          "base_uri": "https://localhost:8080/",
          "height": 221
        },
        "id": "iscNuisHCaHG",
        "outputId": "f890c4fc-bdae-4bd8-8c46-fb8deb1e6a28"
      },
      "execution_count": 7,
      "outputs": [
        {
          "output_type": "execute_result",
          "data": {
            "text/plain": [
              "   PrimaRiesgoMercado  EfectoTamaño  ValorCrecimiento  Rendimiento\n",
              "0             -0.0188       -0.0045           -0.0138    -0.000900\n",
              "1              0.0109        0.0103           -0.0191     0.021989\n",
              "2              0.0822        0.0066            0.0117     0.083270\n",
              "3              0.0605        0.0474            0.0050     0.092364\n",
              "4              0.0142        0.0177            0.0015     0.008479"
            ],
            "text/html": [
              "\n",
              "  <div id=\"df-cc8bc35c-7925-4d7b-828f-aacf28ec1086\">\n",
              "    <div class=\"colab-df-container\">\n",
              "      <div>\n",
              "<style scoped>\n",
              "    .dataframe tbody tr th:only-of-type {\n",
              "        vertical-align: middle;\n",
              "    }\n",
              "\n",
              "    .dataframe tbody tr th {\n",
              "        vertical-align: top;\n",
              "    }\n",
              "\n",
              "    .dataframe thead th {\n",
              "        text-align: right;\n",
              "    }\n",
              "</style>\n",
              "<table border=\"1\" class=\"dataframe\">\n",
              "  <thead>\n",
              "    <tr style=\"text-align: right;\">\n",
              "      <th></th>\n",
              "      <th>PrimaRiesgoMercado</th>\n",
              "      <th>EfectoTamaño</th>\n",
              "      <th>ValorCrecimiento</th>\n",
              "      <th>Rendimiento</th>\n",
              "    </tr>\n",
              "  </thead>\n",
              "  <tbody>\n",
              "    <tr>\n",
              "      <th>0</th>\n",
              "      <td>-0.0188</td>\n",
              "      <td>-0.0045</td>\n",
              "      <td>-0.0138</td>\n",
              "      <td>-0.000900</td>\n",
              "    </tr>\n",
              "    <tr>\n",
              "      <th>1</th>\n",
              "      <td>0.0109</td>\n",
              "      <td>0.0103</td>\n",
              "      <td>-0.0191</td>\n",
              "      <td>0.021989</td>\n",
              "    </tr>\n",
              "    <tr>\n",
              "      <th>2</th>\n",
              "      <td>0.0822</td>\n",
              "      <td>0.0066</td>\n",
              "      <td>0.0117</td>\n",
              "      <td>0.083270</td>\n",
              "    </tr>\n",
              "    <tr>\n",
              "      <th>3</th>\n",
              "      <td>0.0605</td>\n",
              "      <td>0.0474</td>\n",
              "      <td>0.0050</td>\n",
              "      <td>0.092364</td>\n",
              "    </tr>\n",
              "    <tr>\n",
              "      <th>4</th>\n",
              "      <td>0.0142</td>\n",
              "      <td>0.0177</td>\n",
              "      <td>0.0015</td>\n",
              "      <td>0.008479</td>\n",
              "    </tr>\n",
              "  </tbody>\n",
              "</table>\n",
              "</div>\n",
              "      <button class=\"colab-df-convert\" onclick=\"convertToInteractive('df-cc8bc35c-7925-4d7b-828f-aacf28ec1086')\"\n",
              "              title=\"Convert this dataframe to an interactive table.\"\n",
              "              style=\"display:none;\">\n",
              "        \n",
              "  <svg xmlns=\"http://www.w3.org/2000/svg\" height=\"24px\"viewBox=\"0 0 24 24\"\n",
              "       width=\"24px\">\n",
              "    <path d=\"M0 0h24v24H0V0z\" fill=\"none\"/>\n",
              "    <path d=\"M18.56 5.44l.94 2.06.94-2.06 2.06-.94-2.06-.94-.94-2.06-.94 2.06-2.06.94zm-11 1L8.5 8.5l.94-2.06 2.06-.94-2.06-.94L8.5 2.5l-.94 2.06-2.06.94zm10 10l.94 2.06.94-2.06 2.06-.94-2.06-.94-.94-2.06-.94 2.06-2.06.94z\"/><path d=\"M17.41 7.96l-1.37-1.37c-.4-.4-.92-.59-1.43-.59-.52 0-1.04.2-1.43.59L10.3 9.45l-7.72 7.72c-.78.78-.78 2.05 0 2.83L4 21.41c.39.39.9.59 1.41.59.51 0 1.02-.2 1.41-.59l7.78-7.78 2.81-2.81c.8-.78.8-2.07 0-2.86zM5.41 20L4 18.59l7.72-7.72 1.47 1.35L5.41 20z\"/>\n",
              "  </svg>\n",
              "      </button>\n",
              "      \n",
              "  <style>\n",
              "    .colab-df-container {\n",
              "      display:flex;\n",
              "      flex-wrap:wrap;\n",
              "      gap: 12px;\n",
              "    }\n",
              "\n",
              "    .colab-df-convert {\n",
              "      background-color: #E8F0FE;\n",
              "      border: none;\n",
              "      border-radius: 50%;\n",
              "      cursor: pointer;\n",
              "      display: none;\n",
              "      fill: #1967D2;\n",
              "      height: 32px;\n",
              "      padding: 0 0 0 0;\n",
              "      width: 32px;\n",
              "    }\n",
              "\n",
              "    .colab-df-convert:hover {\n",
              "      background-color: #E2EBFA;\n",
              "      box-shadow: 0px 1px 2px rgba(60, 64, 67, 0.3), 0px 1px 3px 1px rgba(60, 64, 67, 0.15);\n",
              "      fill: #174EA6;\n",
              "    }\n",
              "\n",
              "    [theme=dark] .colab-df-convert {\n",
              "      background-color: #3B4455;\n",
              "      fill: #D2E3FC;\n",
              "    }\n",
              "\n",
              "    [theme=dark] .colab-df-convert:hover {\n",
              "      background-color: #434B5C;\n",
              "      box-shadow: 0px 1px 3px 1px rgba(0, 0, 0, 0.15);\n",
              "      filter: drop-shadow(0px 1px 2px rgba(0, 0, 0, 0.3));\n",
              "      fill: #FFFFFF;\n",
              "    }\n",
              "  </style>\n",
              "\n",
              "      <script>\n",
              "        const buttonEl =\n",
              "          document.querySelector('#df-cc8bc35c-7925-4d7b-828f-aacf28ec1086 button.colab-df-convert');\n",
              "        buttonEl.style.display =\n",
              "          google.colab.kernel.accessAllowed ? 'block' : 'none';\n",
              "\n",
              "        async function convertToInteractive(key) {\n",
              "          const element = document.querySelector('#df-cc8bc35c-7925-4d7b-828f-aacf28ec1086');\n",
              "          const dataTable =\n",
              "            await google.colab.kernel.invokeFunction('convertToInteractive',\n",
              "                                                     [key], {});\n",
              "          if (!dataTable) return;\n",
              "\n",
              "          const docLinkHtml = 'Like what you see? Visit the ' +\n",
              "            '<a target=\"_blank\" href=https://colab.research.google.com/notebooks/data_table.ipynb>data table notebook</a>'\n",
              "            + ' to learn more about interactive tables.';\n",
              "          element.innerHTML = '';\n",
              "          dataTable['output_type'] = 'display_data';\n",
              "          await google.colab.output.renderOutput(dataTable, element);\n",
              "          const docLink = document.createElement('div');\n",
              "          docLink.innerHTML = docLinkHtml;\n",
              "          element.appendChild(docLink);\n",
              "        }\n",
              "      </script>\n",
              "    </div>\n",
              "  </div>\n",
              "  "
            ]
          },
          "metadata": {},
          "execution_count": 7
        }
      ]
    },
    {
      "cell_type": "markdown",
      "source": [
        " ## **<font color=\"DeepPink\">División del conjunto de datos</font>**"
      ],
      "metadata": {
        "id": "jBYjhfbwm2xB"
      }
    },
    {
      "cell_type": "markdown",
      "source": [
        "<p align=\"justify\">\n",
        "👀 División del conjunto de entrenamiento y prueba.\n",
        "</p>\n"
      ],
      "metadata": {
        "id": "maDN30FykfRq"
      }
    },
    {
      "cell_type": "code",
      "source": [
        "from sklearn.model_selection import train_test_split\n",
        "df_train, df_test = train_test_split(df, random_state=123)"
      ],
      "metadata": {
        "id": "epi6n2xrm4LV"
      },
      "execution_count": 8,
      "outputs": []
    },
    {
      "cell_type": "code",
      "source": [
        "df_train.shape"
      ],
      "metadata": {
        "colab": {
          "base_uri": "https://localhost:8080/"
        },
        "id": "1PBVM27Ym__m",
        "outputId": "50f60f28-a0c7-41c9-dc17-67962474fdf5"
      },
      "execution_count": 9,
      "outputs": [
        {
          "output_type": "execute_result",
          "data": {
            "text/plain": [
              "(179, 4)"
            ]
          },
          "metadata": {},
          "execution_count": 9
        }
      ]
    },
    {
      "cell_type": "code",
      "source": [
        "df_test.shape"
      ],
      "metadata": {
        "colab": {
          "base_uri": "https://localhost:8080/"
        },
        "id": "WDbbtwNLnHO0",
        "outputId": "4450185e-0d41-4f72-ecb0-91d1902e5540"
      },
      "execution_count": 10,
      "outputs": [
        {
          "output_type": "execute_result",
          "data": {
            "text/plain": [
              "(60, 4)"
            ]
          },
          "metadata": {},
          "execution_count": 10
        }
      ]
    },
    {
      "cell_type": "markdown",
      "source": [
        " # **<font color=\"DeepPink\">Regresión Lineal Simple con `statmodels`</font>**"
      ],
      "metadata": {
        "id": "C9Z8u7VvYxnT"
      }
    },
    {
      "cell_type": "markdown",
      "source": [
        "<p align=\"justify\">\n",
        "Suponga que un analista financiero quiere saber si existe una relación entre el <b>rendimiento del mercado</b> y el <b>rendimiento del activo financiero</b>. En caso de existir y de establecer un modelo, podría predecir el rendimiento del activo."
      ],
      "metadata": {
        "id": "jHYsychfvspf"
      }
    },
    {
      "cell_type": "markdown",
      "source": [
        " ## **<font color=\"DeepPink\">Representación Gráfica</font>**"
      ],
      "metadata": {
        "id": "c1s-Ce0sxiAb"
      }
    },
    {
      "cell_type": "code",
      "source": [
        "px.scatter(df,\n",
        "           x='PrimaRiesgoMercado',\n",
        "           y='Rendimiento',\n",
        "           title=\"Rendimiento del activo en función del rendimiento del mercado\",\n",
        "           template=\"gridon\",\n",
        "           trendline=\"ols\",\n",
        "           trendline_color_override=\"darkorange\",\n",
        "           labels={'PrimaRiesgoMercado':'Prima riesgo del Mercado'}\n",
        "           )"
      ],
      "metadata": {
        "colab": {
          "base_uri": "https://localhost:8080/",
          "height": 562
        },
        "id": "rcyCQQYLxnpR",
        "outputId": "41adfcf0-20bc-46a1-9faa-8044eeb1f1ab"
      },
      "execution_count": 11,
      "outputs": [
        {
          "output_type": "display_data",
          "data": {
            "text/html": [
              "<html>\n",
              "<head><meta charset=\"utf-8\" /></head>\n",
              "<body>\n",
              "    <div>            <script src=\"https://cdnjs.cloudflare.com/ajax/libs/mathjax/2.7.5/MathJax.js?config=TeX-AMS-MML_SVG\"></script><script type=\"text/javascript\">if (window.MathJax && window.MathJax.Hub && window.MathJax.Hub.Config) {window.MathJax.Hub.Config({SVG: {font: \"STIX-Web\"}});}</script>                <script type=\"text/javascript\">window.PlotlyConfig = {MathJaxConfig: 'local'};</script>\n",
              "        <script src=\"https://cdn.plot.ly/plotly-2.18.2.min.js\"></script>                <div id=\"c1d18555-7072-4377-a423-c7f5326423cb\" class=\"plotly-graph-div\" style=\"height:525px; width:100%;\"></div>            <script type=\"text/javascript\">                                    window.PLOTLYENV=window.PLOTLYENV || {};                                    if (document.getElementById(\"c1d18555-7072-4377-a423-c7f5326423cb\")) {                    Plotly.newPlot(                        \"c1d18555-7072-4377-a423-c7f5326423cb\",                        [{\"hovertemplate\":\"Prima riesgo del Mercado=%{x}<br>Rendimiento=%{y}<extra></extra>\",\"legendgroup\":\"\",\"marker\":{\"color\":\"#1F77B4\",\"symbol\":\"circle\"},\"mode\":\"markers\",\"name\":\"\",\"orientation\":\"v\",\"showlegend\":false,\"x\":[-0.018799999999999997,0.0109,0.08220000000000001,0.0605,0.014199999999999999,0.0235,0.023399999999999997,-0.0124,0.0608,0.013500000000000002,0.0429,0.0215,0.013999999999999999,-0.0132,-0.0183,0.011699999999999999,0.018600000000000002,-0.0406,0.0008,0.016,0.0143,0.0454,0.034300000000000004,-0.0276,0.0189,-0.0197,-0.026099999999999998,0.0365,0.005699999999999999,0.0392,-0.012199999999999999,0.0049,-0.0202,0.0361,-0.0025,0.0304,-0.003,0.0146,0.0073,-0.035699999999999996,-0.0034999999999999996,-0.0078000000000000005,0.0203,0.0184,0.0323,0.0171,0.0087,0.013999999999999999,-0.0196,0.0068000000000000005,0.0349,0.032400000000000005,-0.0196,-0.0373,0.0092,0.0322,0.018000000000000002,-0.0483,-0.0087,-0.0636,-0.030899999999999997,-0.009300000000000001,0.046,0.018600000000000002,-0.08439999999999999,-0.0077,0.015300000000000001,-0.0924,-0.1723,-0.0786,0.0174,-0.0812,-0.10099999999999999,0.0895,0.1018,0.0521,0.0043,0.07719999999999999,0.0333,0.0408,-0.0259,0.0556,0.0275,-0.0336,0.034,0.06309999999999999,0.02,-0.0789,-0.0557,0.0693,-0.04769999999999999,0.09539999999999998,0.0388,0.006,0.0682,0.0199,0.0349,0.0046,0.028999999999999998,-0.0127,-0.0175,-0.0235,-0.0599,-0.0759,0.11349999999999999,-0.0028000000000000004,0.0074,0.050499999999999996,0.044199999999999996,0.0311,-0.0085,-0.061900000000000004,0.038900000000000004,0.0079,0.0255,0.0273,-0.0176,0.0078000000000000005,0.0118,0.0557,0.0129,0.0403,0.0155,0.027999999999999997,-0.012,0.0565,-0.0271,0.0377,0.0418,0.0313,0.0281,-0.0332,0.04650000000000001,0.0043,-0.0019,0.0206,0.026099999999999998,-0.0204,0.0424,-0.0197,0.0252,0.0255,-0.0006,-0.0311,0.0613,-0.011200000000000002,0.0059,0.013600000000000001,-0.015300000000000001,0.0154,-0.0604,-0.030699999999999998,0.0775,0.005600000000000001,-0.0217,-0.057699999999999994,-0.0007000000000000001,0.0696,0.0091,0.0178,-0.0005,0.0395,0.0049,0.0025,-0.0202,0.048600000000000004,0.0181,0.0194,0.035699999999999996,0.0017000000000000001,0.0109,0.0106,0.0078000000000000005,0.0187,0.0016,0.025099999999999997,0.0225,0.031200000000000002,0.0106,0.0557,-0.0365,-0.0235,0.0028000000000000004,0.0265,0.0048,0.0319,0.0344,0.0006,-0.0768,0.0169,-0.09570000000000001,0.084,0.034,0.011000000000000001,0.0397,-0.0694,0.0693,0.011899999999999999,-0.0258,0.0143,0.0206,0.0387,0.0277,-0.0011,-0.08130000000000001,-0.13390000000000002,0.1365,0.0558,0.0246,0.057699999999999994,0.07629999999999999,-0.0363,-0.021,0.1247,0.0463,-0.0003,0.0278,0.0308,0.0493,0.0029,0.0275,0.0127,0.0291,-0.0437,0.0665,-0.0155,0.031,-0.0625,-0.0229,0.0305,-0.0946,-0.0034000000000000002,-0.0843,0.09570000000000001,-0.0377,-0.0935,0.0783,0.046,-0.0641],\"xaxis\":\"x\",\"y\":[-0.0009,0.021988505747126408,0.08326966292134819,0.0923642487046631,0.008478672985782088,0.04155352112676073,0.04884954954954949,-0.009383690987124526,0.07289307359307365,0.0033322580645162364,0.015264257028112205,0.026967984189723383,-0.0006,-0.0009,-0.023876923076923105,0.03089606299212593,0.018283969465648833,-0.08714232209737827,-0.013395081967213073,0.03624439834024883,0.034900000000000035,0.04869305019305031,0.038841176470588094,-0.047536395759717305,0.005807407407407307,-0.020482352941176517,-0.02082659176029956,0.07775267175572527,-0.005833568904593776,0.04724539007092195,-0.009756756756756798,0.027712244897959107,-0.01590132013201303,0.05375618729096986,0.015787341772152,0.04929503105590066,-0.009299705014749235,0.017071513353115665,-0.009413953488372102,-0.06277953216374257,0.002211180124223503,-0.03486419753086423,0.011723566878980778,0.014708777429467183,0.04205384615384621,0.03109411764705892,-0.004,0.012645454545454585,-0.026146368715083777,-0.0014428571428571086,0.04688205128205132,0.03926043360433606,-0.006597402597402709,-0.004,0.01663333333333326,0.06567755102040827,0.06601241050119332,-0.0592035714285714,-0.012156264775413726,-0.08801885441527459,-0.024798694516971285,-0.004373796791443861,0.07594798927613924,0.03302587064676634,-0.04256538461538458,-0.04661278195488722,-0.014423359580052617,-0.13447872340425532,-0.17257914110429437,-0.11141111111111116,0.03750000000000009,-0.03614457831325313,-0.0709333333333333,0.08948609865470855,0.09043497942386812,0.05660377358490565,0.007042857142857117,0.07436808510638303,0.01970198019801982,0.06138867313915862,-0.03963414634146334,0.06349206349206349,0.050646268656716384,-0.05397727272727271,0.04204204204204198,0.0777097982708934,0.021290374331550666,-0.0760162303664922,-0.062422946175637276,0.06636525679758297,-0.03409433427762033,0.11720205278592365,0.03927007874015741,0.025152525252525083,0.04669802955665035,0.018723529411764684,0.03916096997690531,0.022122222222222144,0.039130434782608914,-0.008368200836820106,-0.012658227848101333,-0.012820512820512775,-0.06719956709956722,-0.0788863109048723,0.1183879093198994,-0.018018018018018056,-0.052752293577981724,0.12348668280871666,0.06896551724137945,0.04435483870967727,-0.009652509652509633,-0.0800220272904484,0.025423728813559254,0.004132231404958775,0.04722510288065827,0.0215110019646365,-0.050099999999999936,0.026215789473684293,-0.02574102564102566,0.06680161943319818,0.00379506641366234,0.03969754253308122,0.023636363636363678,0.03730017761989335,-0.022260273972602773,0.08056042031523636,-0.00972447325769843,0.057283142389525255,0.024767801857585203,0.024169184290030232,-0.0383480825958703,0.06288343558282206,0.07070707070707072,-0.035040431266846306,-0.027932960893854775,0.031609195402298784,0.03481894150417819,-0.026917900403768402,0.056708160442600075,-0.020942408376963262,0.04010695187165769,0.024421593830334043,-0.031367628607277265,0.0272020725388602,0.07061790668348045,-0.012956419316843326,0.0011933174224343368,0.02502979737783062,-0.013953488372092981,0.037735849056603765,-0.06704545454545452,-0.040194884287454435,0.08248730964466988,0.02110199296600257,-0.04602422502870264,-0.07591227436823113,-0.00931458333333326,0.06681708278580809,-0.0013315270935960854,0.03442527743526534,-0.022846007151370883,0.07053170731707323,0.002077904328018332,0.0179818181818183,-0.03145000000000011,0.03791843317972353,-0.0424753607103218,0.10388736964078778,0.03632612801678921,0.01994291497975694,0.022317460317460458,0.04595674102812779,0.006814272474513428,0.03977838086476552,0.018551812555260738,0.012976843018213459,0.04101616766467066,0.015620361247947434,-0.03644119547657519,0.15039128978224467,-0.020009090909090876,-0.026303854707190554,-0.0006395437262358018,0.054071124620060765,3.9884809215197034e-05,0.012778145219266613,0.07423274273564844,-0.008087615283267456,-0.12325278514588865,-0.009347169811320753,-0.14952851711026616,0.17988037466547713,0.050275471698113104,0.025359684361549575,0.031419553072625776,-0.07642432432432446,0.06827299270072998,0.015153206002728415,-0.01501381623071758,-0.018115431679129854,0.03710076019350366,0.0706562874251496,-0.009469522036002419,0.06503291614518134,-0.04521408450704225,-0.10381688152240634,0.18399452804377558,0.101575332177932,0.0775088096486629,0.08116520681265203,0.12591260126012616,-0.03327346123101517,-0.02862418354692021,0.13862340425531916,-0.04643781763826617,0.1029564263322884,0.020959147424511437,-0.010438413361169019,0.06434599156118148,-0.01156260323752889,0.07352941176470584,0.0037359900373601374,0.045285359801488845,-0.051038575667655905,0.08255159474671658,0.017331022530329365,-0.12531294718909713,-0.01914962674456344,-0.033090668431502324,0.03720321697467498,-0.1446067634444077,-0.040793636714230676,-0.08741672025723475,0.118918309859155,-0.036884276729559726,-0.1012890020366599,0.06282890094979662,0.046356900212314214,-0.15344164305949007],\"yaxis\":\"y\",\"type\":\"scatter\"},{\"hovertemplate\":\"<b>OLS trendline</b><br>Rendimiento = 1.11617 * PrimaRiesgoMercado + 0.00204414<br>R<sup>2</sup>=0.744377<br><br>Prima riesgo del Mercado=%{x}<br>Rendimiento=%{y} <b>(trend)</b><extra></extra>\",\"legendgroup\":\"\",\"line\":{\"color\":\"darkorange\"},\"marker\":{\"color\":\"#1F77B4\",\"symbol\":\"circle\"},\"mode\":\"lines\",\"name\":\"\",\"showlegend\":false,\"x\":[-0.1723,-0.13390000000000002,-0.10099999999999999,-0.09570000000000001,-0.0946,-0.0935,-0.0924,-0.08439999999999999,-0.0843,-0.08130000000000001,-0.0812,-0.0789,-0.0786,-0.0768,-0.0759,-0.0694,-0.0641,-0.0636,-0.0625,-0.061900000000000004,-0.0604,-0.0599,-0.057699999999999994,-0.0557,-0.0483,-0.04769999999999999,-0.0437,-0.0406,-0.0377,-0.0373,-0.0365,-0.0363,-0.035699999999999996,-0.0336,-0.0332,-0.0311,-0.030899999999999997,-0.030699999999999998,-0.0276,-0.0271,-0.026099999999999998,-0.0259,-0.0258,-0.0235,-0.0235,-0.0229,-0.0217,-0.021,-0.0204,-0.0202,-0.0202,-0.0197,-0.0197,-0.0196,-0.0196,-0.018799999999999997,-0.0183,-0.0176,-0.0175,-0.0155,-0.015300000000000001,-0.0132,-0.0127,-0.0124,-0.012199999999999999,-0.012,-0.011200000000000002,-0.009300000000000001,-0.0087,-0.0085,-0.0078000000000000005,-0.0077,-0.0034999999999999996,-0.0034000000000000002,-0.003,-0.0028000000000000004,-0.0025,-0.0019,-0.0011,-0.0007000000000000001,-0.0006,-0.0005,-0.0003,0.0006,0.0008,0.0016,0.0017000000000000001,0.0025,0.0028000000000000004,0.0029,0.0043,0.0043,0.0046,0.0048,0.0049,0.0049,0.005600000000000001,0.005699999999999999,0.0059,0.006,0.0068000000000000005,0.0073,0.0074,0.0078000000000000005,0.0078000000000000005,0.0079,0.0087,0.0091,0.0092,0.0106,0.0106,0.0109,0.0109,0.011000000000000001,0.011699999999999999,0.0118,0.011899999999999999,0.0127,0.0129,0.013500000000000002,0.013600000000000001,0.013999999999999999,0.013999999999999999,0.014199999999999999,0.0143,0.0143,0.0146,0.015300000000000001,0.0154,0.0155,0.016,0.0169,0.0171,0.0174,0.0178,0.018000000000000002,0.0181,0.0184,0.018600000000000002,0.018600000000000002,0.0187,0.0189,0.0194,0.0199,0.02,0.0203,0.0206,0.0206,0.0215,0.0225,0.023399999999999997,0.0235,0.0246,0.025099999999999997,0.0252,0.0255,0.0255,0.026099999999999998,0.0265,0.0273,0.0275,0.0275,0.0277,0.0278,0.027999999999999997,0.0281,0.028999999999999998,0.0291,0.0304,0.0305,0.0308,0.031,0.0311,0.031200000000000002,0.0313,0.0319,0.0322,0.0323,0.032400000000000005,0.0333,0.034,0.034,0.034300000000000004,0.0344,0.0349,0.0349,0.035699999999999996,0.0361,0.0365,0.0377,0.0387,0.0388,0.038900000000000004,0.0392,0.0395,0.0397,0.0403,0.0408,0.0418,0.0424,0.0429,0.044199999999999996,0.0454,0.046,0.046,0.0463,0.04650000000000001,0.048600000000000004,0.0493,0.050499999999999996,0.0521,0.0556,0.0557,0.0557,0.0558,0.0565,0.057699999999999994,0.0605,0.0608,0.0613,0.06309999999999999,0.0665,0.0682,0.0693,0.0693,0.0696,0.07629999999999999,0.07719999999999999,0.0775,0.0783,0.08220000000000001,0.084,0.0895,0.09539999999999998,0.09570000000000001,0.1018,0.11349999999999999,0.1247,0.1365],\"xaxis\":\"x\",\"y\":[-0.1902722122405476,-0.14741122626579428,-0.1106891835947165,-0.10477347459299274,-0.10354568593225762,-0.10231789727152249,-0.10109010861078736,-0.09216073653271374,-0.09204911938173783,-0.08870060485246024,-0.08858898770148431,-0.08602179322903815,-0.08568694177611039,-0.08367783305854382,-0.08267327869976053,-0.07541816388632573,-0.06950245488460197,-0.06894436912972236,-0.06771658046898724,-0.06704687756313171,-0.06537262029849292,-0.06481453454361331,-0.06235895722214307,-0.06012661420262467,-0.051866945030406585,-0.05119724212455105,-0.04673255608551425,-0.043272424405260725,-0.040035527026959034,-0.03958905842305536,-0.03869612121524799,-0.03847288691329616,-0.03780318400744063,-0.03545922383694631,-0.03501275523304263,-0.03266879506254831,-0.032445560760596466,-0.032222326458644625,-0.028762194778391103,-0.0282041090235115,-0.027087937513752297,-0.02686470321180046,-0.02675308606082454,-0.024185891588378375,-0.024185891588378375,-0.023516188682522855,-0.02217678287081181,-0.021395462813980373,-0.02072575990812485,-0.020502525606173008,-0.020502525606173008,-0.019944439851293405,-0.019944439851293405,-0.019832822700317488,-0.019832822700317488,-0.018939885492510123,-0.018381799737630527,-0.017600479680799086,-0.017488862529823165,-0.01525651951030476,-0.015033285208352922,-0.012689325037858596,-0.012131239282978993,-0.011796387830051235,-0.011573153528099393,-0.011349919226147552,-0.010456982018340194,-0.00833625614979771,-0.007666553243942186,-0.0074433189419903486,-0.006661998885158906,-0.006550381734182985,-0.0018624613931943384,-0.0017508442422184186,-0.0013043756383147374,-0.0010811413363628975,-0.0007462898834351369,-7.65869775796158e-05,0.0008163502302277457,0.0012628188341314264,0.0013744359851073466,0.0014860531360832668,0.0017092874380351072,0.002713841796818389,0.0029370760987702292,0.0038300133065775907,0.0039416304575535105,0.004834567665360872,0.005169419118288633,0.005281036269264553,0.006843676382927435,0.006843676382927435,0.0071785278358551955,0.007401762137807036,0.0075133792887829565,0.0075133792887829565,0.008294699345614397,0.008406316496590318,0.00862955079854216,0.008741167949518078,0.009634105157325441,0.010192190912205041,0.010303808063180962,0.01075027666708464,0.01075027666708464,0.010861893818060561,0.011754831025867923,0.012201299629771605,0.012312916780747522,0.013875556894410408,0.013875556894410408,0.014210408347338166,0.014210408347338166,0.01432202549831409,0.015103345555145527,0.015214962706121448,0.015326579857097369,0.01621951706490473,0.01644275136685657,0.01711245427271209,0.017224071423688012,0.01767054002759169,0.01767054002759169,0.017893774329543533,0.018005391480519453,0.018005391480519453,0.01834024293344721,0.019121562990278656,0.019233180141254573,0.019344797292230494,0.019902883047110097,0.020907437405893375,0.021130671707845217,0.021465523160772975,0.021911991764676658,0.022135226066628502,0.02224684321760442,0.022581694670532178,0.022804928972484022,0.022804928972484022,0.02291654612345994,0.02313978042541178,0.02369786618029138,0.024255951935170984,0.024367569086146904,0.024702420539074663,0.025037271992002424,0.025037271992002424,0.026041826350785703,0.027157997860544906,0.028162552219328185,0.02827416937030411,0.029501958031039232,0.030060043785918828,0.030171660936894752,0.03050651238982251,0.03050651238982251,0.03117621529567803,0.03162268389958171,0.03251562110738908,0.03273885540934092,0.03273885540934092,0.032962089711292754,0.033073706862268674,0.033296941164220516,0.033408558315196436,0.034413112673979715,0.03452472982495564,0.035975752787642604,0.03608736993861852,0.03642222139154628,0.03664545569349812,0.03675707284447404,0.03686868999544996,0.03698030714642588,0.0376500100522814,0.03798486150520916,0.03809647865618509,0.03820809580716101,0.03921265016594429,0.03999397022277573,0.03999397022277573,0.040328821675703494,0.04044043882667941,0.04099852458155901,0.04099852458155901,0.04189146178936636,0.04233793039327005,0.04278439899717373,0.04412380480888477,0.045239976318643974,0.045351593469619894,0.04546321062059582,0.04579806207352358,0.04613291352645134,0.04635614782840317,0.0470258507342587,0.0475839364891383,0.0487001079988975,0.04936981090475302,0.049927896659632626,0.05137891962231958,0.05271832543403063,0.053388028339886144,0.053388028339886144,0.05372287979281391,0.053946114094765754,0.05629007426526008,0.05707139432209151,0.05841080013380255,0.06019667454941728,0.06410327483357449,0.06421489198455041,0.06421489198455041,0.06432650913552633,0.06510782919235777,0.06644723500406881,0.06957251523139457,0.06990736668432235,0.07046545243920194,0.0724745611567685,0.0762695442899498,0.07816703585654043,0.07939482451727556,0.07939482451727556,0.0797296759702033,0.08720802508558996,0.08821257944437325,0.08854743089730101,0.08944036810510837,0.09379343699316926,0.09580254571073583,0.10194148901441143,0.1085269009219907,0.10886175237491849,0.11567039858444962,0.12872960524863225,0.14123072615793533,0.1544015499730939],\"yaxis\":\"y\",\"type\":\"scatter\"}],                        {\"template\":{\"data\":{\"pie\":[{\"automargin\":true,\"type\":\"pie\"}]},\"layout\":{\"xaxis\":{\"showgrid\":true,\"title\":{\"standoff\":15}},\"yaxis\":{\"showgrid\":true,\"title\":{\"standoff\":15}}}},\"xaxis\":{\"anchor\":\"y\",\"domain\":[0.0,1.0],\"title\":{\"text\":\"Prima riesgo del Mercado\"}},\"yaxis\":{\"anchor\":\"x\",\"domain\":[0.0,1.0],\"title\":{\"text\":\"Rendimiento\"}},\"legend\":{\"tracegroupgap\":0},\"title\":{\"text\":\"Rendimiento del activo en funci\\u00f3n del rendimiento del mercado\"}},                        {\"responsive\": true}                    ).then(function(){\n",
              "                            \n",
              "var gd = document.getElementById('c1d18555-7072-4377-a423-c7f5326423cb');\n",
              "var x = new MutationObserver(function (mutations, observer) {{\n",
              "        var display = window.getComputedStyle(gd).display;\n",
              "        if (!display || display === 'none') {{\n",
              "            console.log([gd, 'removed!']);\n",
              "            Plotly.purge(gd);\n",
              "            observer.disconnect();\n",
              "        }}\n",
              "}});\n",
              "\n",
              "// Listen for the removal of the full notebook cells\n",
              "var notebookContainer = gd.closest('#notebook-container');\n",
              "if (notebookContainer) {{\n",
              "    x.observe(notebookContainer, {childList: true});\n",
              "}}\n",
              "\n",
              "// Listen for the clearing of the current output cell\n",
              "var outputEl = gd.closest('.output');\n",
              "if (outputEl) {{\n",
              "    x.observe(outputEl, {childList: true});\n",
              "}}\n",
              "\n",
              "                        })                };                            </script>        </div>\n",
              "</body>\n",
              "</html>"
            ]
          },
          "metadata": {}
        }
      ]
    },
    {
      "cell_type": "markdown",
      "source": [
        "<p align=\"justify\">\n",
        "En este gráfico se evidencia una significativa relación lineal entre la variable independiente y la variable dependiente, lo cual implica a priori una relación sólida y consistente entre ambas."
      ],
      "metadata": {
        "id": "1DypYe8zhAA2"
      }
    },
    {
      "cell_type": "markdown",
      "source": [
        " ## **<font color=\"DeepPink\">Correlación Lineal</font>**"
      ],
      "metadata": {
        "id": "GwcQehZLy8fl"
      }
    },
    {
      "cell_type": "code",
      "source": [
        "from scipy.stats import pearsonr"
      ],
      "metadata": {
        "id": "qanWCSXhh0bh"
      },
      "execution_count": 12,
      "outputs": []
    },
    {
      "cell_type": "markdown",
      "source": [
        "<p align=\"justify\">\n",
        "La función <code>pearsonr</code> de la biblioteca <code>scipy.stats</code> en Python se utiliza para calcular el <b>coeficiente de correlación de Pearson</b> entre dos variables. El coeficiente de correlación de Pearson es una medida estadística que evalúa la fuerza y dirección de la relación lineal entre dos variables continuas. El resultado de pearsonr es un par de valores: el <b>coeficiente de correlación</b> y el <b>p-valor</b> asociado.\n",
        "\n",
        "- El **coeficiente de correlación** de Pearson varía entre $-1$ y $1$. Un valor de $1$ indica una correlación positiva perfecta, lo que significa que las dos variables están perfectamente relacionadas en una relación lineal positiva. Un valor de $-1$ indica una correlación negativa perfecta, lo que implica una relación lineal negativa perfecta entre las variables. Un valor cercano a $0$ indica una correlación débil o inexistente entre las variables.\n",
        "\n",
        "- El **p-valor** asociado proporciona una medida de la significancia estadística de la correlación calculada. Si el p-valor es menor que un umbral  predefinido (generalmente $0.05$), se considera que la correlación es estadísticamente significativa."
      ],
      "metadata": {
        "id": "xPdzxvdshven"
      }
    },
    {
      "cell_type": "code",
      "source": [
        "corr_test = pearsonr(x = df['PrimaRiesgoMercado'], y = df['Rendimiento'])\n",
        "print(\"\")\n",
        "print(\"Coeficiente de correlación de Pearson: \", corr_test[0])\n",
        "print(\"P-valor: \", corr_test[1])"
      ],
      "metadata": {
        "colab": {
          "base_uri": "https://localhost:8080/"
        },
        "id": "FkFVX__vzIxr",
        "outputId": "b8b682ac-97ea-418f-a9c7-dcefb27c62ba"
      },
      "execution_count": 13,
      "outputs": [
        {
          "output_type": "stream",
          "name": "stdout",
          "text": [
            "\n",
            "Coeficiente de correlación de Pearson:  0.8627731033442474\n",
            "P-valor:  3.785250543795665e-72\n"
          ]
        }
      ]
    },
    {
      "cell_type": "markdown",
      "source": [
        "<p align=\"justify\">\n",
        "Al igual que el gráfico anterior, el test de correlación muestran una <b>relación lineal positiva de intensidad fuerte</b> (r = 0.86) y <b>estadísticamente significativa</b> (p-value = 3.785250543795665e-72). Tiene sentido intentar generar un modelo de regresión lineal con el objetivo de predecir el rendimiento del activo en función del rendimiento del mercado."
      ],
      "metadata": {
        "id": "R0IaHte_0Jl1"
      }
    },
    {
      "cell_type": "markdown",
      "source": [
        " ## **<font color=\"DeepPink\">Ajuste del modelo</font>**"
      ],
      "metadata": {
        "id": "RQkO1sm1nNGk"
      }
    },
    {
      "cell_type": "markdown",
      "source": [
        "[Documentación](https://www.statsmodels.org/stable/index.html)\n",
        "\n",
        "<p align=\"justify\">\n",
        "<code>Statsmodels</code> es un módulo de Python que proporciona clases y funciones para la estimación de modelos estadísticos, así como para realizar pruebas estadísticas y exploración de datos estadísticos. Hay disponible una lista extensa de estadísticas de resultados para cada estimador. Los resultados se comparan con los paquetes estadísticos existentes para garantizar que sean correctos. Este módulo tiene una sintaxis y características muy simulares a las del lenguaje <b>R</b>.\n",
        "<br>\n",
        "<br>\n",
        "La implementación de regresión lineal de <code>Statsmodels</code>, es más completa que la de <code>Scikit-learn</code> ya que, además de ajustar el modelo, permite calcular los test estadísticos y análisis necesarios para verificar que se cumplen las condiciones sobre las que se basa este tipo de modelos.\n",
        "<br>\n",
        "<br>\n",
        "<code>Statsmodels</code> tiene dos formas de entrenar el modelo:\n",
        "\n",
        "- Indicando la fórmula del modelo y pasando los datos de entrenamiento como un dataframe que incluye la variable respuesta y los predictores. Esta forma es similar a la utilizada en **R**.\n",
        "\n",
        "- Pasar dos matrices, una con los predictores y otra con la variable respuesta. Esta es igual a la empleada por `Scikit-learn`."
      ],
      "metadata": {
        "id": "i9fWGPa_wPrK"
      }
    },
    {
      "cell_type": "code",
      "source": [
        "# bibliotecas utilizadas en este modelo:\n",
        "import statsmodels.formula.api as smf\n",
        "import statsmodels.stats.api as sms"
      ],
      "metadata": {
        "id": "6dmvp93zivVY"
      },
      "execution_count": 14,
      "outputs": []
    },
    {
      "cell_type": "markdown",
      "source": [
        "Creación del modelo utilizando el **modo fórmula** (similar a R)."
      ],
      "metadata": {
        "id": "vO4zkuxOwo5o"
      }
    },
    {
      "cell_type": "code",
      "source": [
        "model = smf.ols(formula=\"Rendimiento~PrimaRiesgoMercado\", data=df_train)\n",
        "model = model.fit()\n",
        "print(model.summary());"
      ],
      "metadata": {
        "colab": {
          "base_uri": "https://localhost:8080/"
        },
        "id": "PBQ90lXIwkpc",
        "outputId": "50c1fcc4-1956-4d1c-d4d4-78c8727e2ea8"
      },
      "execution_count": 15,
      "outputs": [
        {
          "output_type": "stream",
          "name": "stdout",
          "text": [
            "                            OLS Regression Results                            \n",
            "==============================================================================\n",
            "Dep. Variable:            Rendimiento   R-squared:                       0.727\n",
            "Model:                            OLS   Adj. R-squared:                  0.725\n",
            "Method:                 Least Squares   F-statistic:                     471.2\n",
            "Date:                Tue, 27 Jun 2023   Prob (F-statistic):           8.97e-52\n",
            "Time:                        02:38:51   Log-Likelihood:                 368.88\n",
            "No. Observations:                 179   AIC:                            -733.8\n",
            "Df Residuals:                     177   BIC:                            -727.4\n",
            "Df Model:                           1                                         \n",
            "Covariance Type:            nonrobust                                         \n",
            "======================================================================================\n",
            "                         coef    std err          t      P>|t|      [0.025      0.975]\n",
            "--------------------------------------------------------------------------------------\n",
            "Intercept              0.0012      0.002      0.503      0.615      -0.003       0.006\n",
            "PrimaRiesgoMercado     1.1721      0.054     21.708      0.000       1.066       1.279\n",
            "==============================================================================\n",
            "Omnibus:                       34.051   Durbin-Watson:                   2.042\n",
            "Prob(Omnibus):                  0.000   Jarque-Bera (JB):              223.413\n",
            "Skew:                          -0.401   Prob(JB):                     3.07e-49\n",
            "Kurtosis:                       8.414   Cond. No.                         23.3\n",
            "==============================================================================\n",
            "\n",
            "Notes:\n",
            "[1] Standard Errors assume that the covariance matrix of the errors is correctly specified.\n"
          ]
        }
      ]
    },
    {
      "cell_type": "markdown",
      "source": [
        "<p align=\"justify\">\n",
        "El modelo tiene un $𝑅^2$ alto (0.727). Es decir, <code>PrimaRiesgoMercado</code> es capaz de explicar el $72,7$% de la variabilidad observada en el <code>Rendimiento</code>.\n",
        "<br>\n",
        "<br>\n",
        "F estadísitco grande (F-statistic =\t471.2) y p-valor asociado extremadamente pequeño (Prob (F-statistic) = 8.97e-52), el modelo en su conjunto es estadísticamente significativo.\n",
        "<br>\n",
        "<br>\n",
        "La constante (<code>Intercept</code>) no es estadísticamente significativa. La variable si es es estadísticamente significativa. Es decir, <code>PrimaRiesgoMercado</code> explican significativamente el <code>Rendimiento</code> de un activo financiero. Dicho de otro modo, el rendimiento del mercado explica el rendimiento de un activo."
      ],
      "metadata": {
        "id": "GbJguY5DxySV"
      }
    },
    {
      "cell_type": "markdown",
      "source": [
        " ## **<font color=\"DeepPink\">Interpretación</font>**"
      ],
      "metadata": {
        "id": "xrb6Vb-yyW7Q"
      }
    },
    {
      "cell_type": "code",
      "source": [
        "model.params #parámetros (coeficientes) del modelo generado."
      ],
      "metadata": {
        "colab": {
          "base_uri": "https://localhost:8080/"
        },
        "id": "nZpzsVXTx4wR",
        "outputId": "646438e4-da91-4dc1-cfdc-4d374719d780"
      },
      "execution_count": 16,
      "outputs": [
        {
          "output_type": "execute_result",
          "data": {
            "text/plain": [
              "Intercept             0.001180\n",
              "PrimaRiesgoMercado    1.172052\n",
              "dtype: float64"
            ]
          },
          "metadata": {},
          "execution_count": 16
        }
      ]
    },
    {
      "cell_type": "markdown",
      "source": [
        "$$Rendimiento = 1.172052\\ PrimaRiesgoMercado$$"
      ],
      "metadata": {
        "id": "RLExlddkykzY"
      }
    },
    {
      "cell_type": "markdown",
      "source": [
        "<p align=\"justify\">\n",
        "El coeficiente $\\beta_1$ de $1.172052$ indica que cuando el rendimiento de mercado aumenta en un $1$% el rendimiento del activo lo hace en un $1.172052$%. Este coeficiente en la literatura financiera se conoce como \"Coeficiente Beta\".\n"
      ],
      "metadata": {
        "id": "9gc__rE-yjnP"
      }
    },
    {
      "cell_type": "markdown",
      "source": [
        " ## **<font color=\"DeepPink\">Predicción</font>**"
      ],
      "metadata": {
        "id": "opzecX2uy6Ra"
      }
    },
    {
      "cell_type": "code",
      "source": [
        "df_test.reset_index(drop=True, inplace=True)"
      ],
      "metadata": {
        "id": "qHMcyPaUtO5_"
      },
      "execution_count": 17,
      "outputs": []
    },
    {
      "cell_type": "code",
      "source": [
        "X_test = df_test[['PrimaRiesgoMercado']]\n",
        "y_test = df_test['Rendimiento']"
      ],
      "metadata": {
        "id": "ii3f5VI_x4pK"
      },
      "execution_count": 18,
      "outputs": []
    },
    {
      "cell_type": "markdown",
      "source": [
        "<p align=\"justify\">\n",
        "Una vez entrenado el modelo, se pueden obtener predicciones para nuevos datos. Los modelos de <code>statsmodels</code> permiten calcular las predicciones de dos formas:\n",
        "\n",
        "- `predict()`: devuelve únicamente el valor de las predicciones.\n",
        "\n",
        "- `get_prediction().summary_frame()`: devuelve, además de las predicciones, los intervalos de confianza asociados."
      ],
      "metadata": {
        "id": "Cdkq6gG0y4Xr"
      }
    },
    {
      "cell_type": "code",
      "source": [
        "prediction = model.predict(X_test)"
      ],
      "metadata": {
        "id": "1Bv5ORo4AX4X"
      },
      "execution_count": 19,
      "outputs": []
    },
    {
      "cell_type": "code",
      "source": [
        "tabla = pd.DataFrame({\"Prediccion\":prediction,\n",
        "                      \"Real\":y_test,\n",
        "                      \"Residuos\": (y_test-prediction),\n",
        "                      \"Rendimiento_medio\": y_test.mean()})\n",
        "tabla.head()"
      ],
      "metadata": {
        "colab": {
          "base_uri": "https://localhost:8080/",
          "height": 221
        },
        "id": "Fa-BQUOUYd_Q",
        "outputId": "19db0f43-ae05-4cb1-e3be-c1cc8edf4b77"
      },
      "execution_count": 20,
      "outputs": [
        {
          "output_type": "execute_result",
          "data": {
            "text/plain": [
              "   Prediccion      Real  Residuos  Rendimiento_medio\n",
              "0    0.050172  0.024768 -0.025404           0.017176\n",
              "1    0.022043  0.034425  0.012382           0.017176\n",
              "2    0.055095  0.075948  0.020853           0.017176\n",
              "3   -0.155757 -0.103817  0.051940           0.017176\n",
              "4    0.049000  0.061389  0.012389           0.017176"
            ],
            "text/html": [
              "\n",
              "  <div id=\"df-bc4cb0a8-72d1-47b2-a4a7-4af0baa9455b\">\n",
              "    <div class=\"colab-df-container\">\n",
              "      <div>\n",
              "<style scoped>\n",
              "    .dataframe tbody tr th:only-of-type {\n",
              "        vertical-align: middle;\n",
              "    }\n",
              "\n",
              "    .dataframe tbody tr th {\n",
              "        vertical-align: top;\n",
              "    }\n",
              "\n",
              "    .dataframe thead th {\n",
              "        text-align: right;\n",
              "    }\n",
              "</style>\n",
              "<table border=\"1\" class=\"dataframe\">\n",
              "  <thead>\n",
              "    <tr style=\"text-align: right;\">\n",
              "      <th></th>\n",
              "      <th>Prediccion</th>\n",
              "      <th>Real</th>\n",
              "      <th>Residuos</th>\n",
              "      <th>Rendimiento_medio</th>\n",
              "    </tr>\n",
              "  </thead>\n",
              "  <tbody>\n",
              "    <tr>\n",
              "      <th>0</th>\n",
              "      <td>0.050172</td>\n",
              "      <td>0.024768</td>\n",
              "      <td>-0.025404</td>\n",
              "      <td>0.017176</td>\n",
              "    </tr>\n",
              "    <tr>\n",
              "      <th>1</th>\n",
              "      <td>0.022043</td>\n",
              "      <td>0.034425</td>\n",
              "      <td>0.012382</td>\n",
              "      <td>0.017176</td>\n",
              "    </tr>\n",
              "    <tr>\n",
              "      <th>2</th>\n",
              "      <td>0.055095</td>\n",
              "      <td>0.075948</td>\n",
              "      <td>0.020853</td>\n",
              "      <td>0.017176</td>\n",
              "    </tr>\n",
              "    <tr>\n",
              "      <th>3</th>\n",
              "      <td>-0.155757</td>\n",
              "      <td>-0.103817</td>\n",
              "      <td>0.051940</td>\n",
              "      <td>0.017176</td>\n",
              "    </tr>\n",
              "    <tr>\n",
              "      <th>4</th>\n",
              "      <td>0.049000</td>\n",
              "      <td>0.061389</td>\n",
              "      <td>0.012389</td>\n",
              "      <td>0.017176</td>\n",
              "    </tr>\n",
              "  </tbody>\n",
              "</table>\n",
              "</div>\n",
              "      <button class=\"colab-df-convert\" onclick=\"convertToInteractive('df-bc4cb0a8-72d1-47b2-a4a7-4af0baa9455b')\"\n",
              "              title=\"Convert this dataframe to an interactive table.\"\n",
              "              style=\"display:none;\">\n",
              "        \n",
              "  <svg xmlns=\"http://www.w3.org/2000/svg\" height=\"24px\"viewBox=\"0 0 24 24\"\n",
              "       width=\"24px\">\n",
              "    <path d=\"M0 0h24v24H0V0z\" fill=\"none\"/>\n",
              "    <path d=\"M18.56 5.44l.94 2.06.94-2.06 2.06-.94-2.06-.94-.94-2.06-.94 2.06-2.06.94zm-11 1L8.5 8.5l.94-2.06 2.06-.94-2.06-.94L8.5 2.5l-.94 2.06-2.06.94zm10 10l.94 2.06.94-2.06 2.06-.94-2.06-.94-.94-2.06-.94 2.06-2.06.94z\"/><path d=\"M17.41 7.96l-1.37-1.37c-.4-.4-.92-.59-1.43-.59-.52 0-1.04.2-1.43.59L10.3 9.45l-7.72 7.72c-.78.78-.78 2.05 0 2.83L4 21.41c.39.39.9.59 1.41.59.51 0 1.02-.2 1.41-.59l7.78-7.78 2.81-2.81c.8-.78.8-2.07 0-2.86zM5.41 20L4 18.59l7.72-7.72 1.47 1.35L5.41 20z\"/>\n",
              "  </svg>\n",
              "      </button>\n",
              "      \n",
              "  <style>\n",
              "    .colab-df-container {\n",
              "      display:flex;\n",
              "      flex-wrap:wrap;\n",
              "      gap: 12px;\n",
              "    }\n",
              "\n",
              "    .colab-df-convert {\n",
              "      background-color: #E8F0FE;\n",
              "      border: none;\n",
              "      border-radius: 50%;\n",
              "      cursor: pointer;\n",
              "      display: none;\n",
              "      fill: #1967D2;\n",
              "      height: 32px;\n",
              "      padding: 0 0 0 0;\n",
              "      width: 32px;\n",
              "    }\n",
              "\n",
              "    .colab-df-convert:hover {\n",
              "      background-color: #E2EBFA;\n",
              "      box-shadow: 0px 1px 2px rgba(60, 64, 67, 0.3), 0px 1px 3px 1px rgba(60, 64, 67, 0.15);\n",
              "      fill: #174EA6;\n",
              "    }\n",
              "\n",
              "    [theme=dark] .colab-df-convert {\n",
              "      background-color: #3B4455;\n",
              "      fill: #D2E3FC;\n",
              "    }\n",
              "\n",
              "    [theme=dark] .colab-df-convert:hover {\n",
              "      background-color: #434B5C;\n",
              "      box-shadow: 0px 1px 3px 1px rgba(0, 0, 0, 0.15);\n",
              "      filter: drop-shadow(0px 1px 2px rgba(0, 0, 0, 0.3));\n",
              "      fill: #FFFFFF;\n",
              "    }\n",
              "  </style>\n",
              "\n",
              "      <script>\n",
              "        const buttonEl =\n",
              "          document.querySelector('#df-bc4cb0a8-72d1-47b2-a4a7-4af0baa9455b button.colab-df-convert');\n",
              "        buttonEl.style.display =\n",
              "          google.colab.kernel.accessAllowed ? 'block' : 'none';\n",
              "\n",
              "        async function convertToInteractive(key) {\n",
              "          const element = document.querySelector('#df-bc4cb0a8-72d1-47b2-a4a7-4af0baa9455b');\n",
              "          const dataTable =\n",
              "            await google.colab.kernel.invokeFunction('convertToInteractive',\n",
              "                                                     [key], {});\n",
              "          if (!dataTable) return;\n",
              "\n",
              "          const docLinkHtml = 'Like what you see? Visit the ' +\n",
              "            '<a target=\"_blank\" href=https://colab.research.google.com/notebooks/data_table.ipynb>data table notebook</a>'\n",
              "            + ' to learn more about interactive tables.';\n",
              "          element.innerHTML = '';\n",
              "          dataTable['output_type'] = 'display_data';\n",
              "          await google.colab.output.renderOutput(dataTable, element);\n",
              "          const docLink = document.createElement('div');\n",
              "          docLink.innerHTML = docLinkHtml;\n",
              "          element.appendChild(docLink);\n",
              "        }\n",
              "      </script>\n",
              "    </div>\n",
              "  </div>\n",
              "  "
            ]
          },
          "metadata": {},
          "execution_count": 20
        }
      ]
    },
    {
      "cell_type": "code",
      "source": [
        "fig = go.Figure([go.Scatter(x = X_test.PrimaRiesgoMercado,\n",
        "                            y = y_test,\n",
        "                            mode = \"markers\",\n",
        "                            showlegend = False,\n",
        "                            name = \"Real\"),\n",
        "                 go.Scatter(x = X_test.PrimaRiesgoMercado,\n",
        "                            y = prediction,\n",
        "                            name = \"Regresión Lineal\")\n",
        "                 ])\n",
        "\n",
        "fig.update_layout(template =    \"gridon\",\n",
        "                  title =       \"Regresion lineal simple\",\n",
        "                  yaxis_title = \"Rendimiento del activo financiero\",\n",
        "                  xaxis_title = \"Rendimiento del mercado\")\n",
        "\n",
        "fig.show()"
      ],
      "metadata": {
        "colab": {
          "base_uri": "https://localhost:8080/",
          "height": 562
        },
        "id": "68btdKU8n6OO",
        "outputId": "f2c82365-7032-4232-f019-350e1d751b1f"
      },
      "execution_count": 21,
      "outputs": [
        {
          "output_type": "display_data",
          "data": {
            "text/html": [
              "<html>\n",
              "<head><meta charset=\"utf-8\" /></head>\n",
              "<body>\n",
              "    <div>            <script src=\"https://cdnjs.cloudflare.com/ajax/libs/mathjax/2.7.5/MathJax.js?config=TeX-AMS-MML_SVG\"></script><script type=\"text/javascript\">if (window.MathJax && window.MathJax.Hub && window.MathJax.Hub.Config) {window.MathJax.Hub.Config({SVG: {font: \"STIX-Web\"}});}</script>                <script type=\"text/javascript\">window.PlotlyConfig = {MathJaxConfig: 'local'};</script>\n",
              "        <script src=\"https://cdn.plot.ly/plotly-2.18.2.min.js\"></script>                <div id=\"e53ee854-0992-449f-bd06-84133299915f\" class=\"plotly-graph-div\" style=\"height:525px; width:100%;\"></div>            <script type=\"text/javascript\">                                    window.PLOTLYENV=window.PLOTLYENV || {};                                    if (document.getElementById(\"e53ee854-0992-449f-bd06-84133299915f\")) {                    Plotly.newPlot(                        \"e53ee854-0992-449f-bd06-84133299915f\",                        [{\"mode\":\"markers\",\"name\":\"Real\",\"showlegend\":false,\"x\":[0.0418,0.0178,0.046,-0.13390000000000002,0.0408,0.0203,0.0255,0.0556,0.048600000000000004,0.0029,0.031200000000000002,0.0665,0.0557,0.0143,0.0693,-0.0373,0.0493,-0.0235,0.016,0.0109,-0.0935,0.0049,0.0189,0.0281,-0.04769999999999999,0.0146,0.06309999999999999,-0.0768,0.0017000000000000001,0.0565,-0.0625,-0.0196,-0.0204,0.0361,0.0255,0.0028000000000000004,0.0235,0.014199999999999999,0.0199,0.1247,0.0319,0.0454,0.0252,0.0127,0.0129,-0.009300000000000001,-0.0259,-0.0276,0.0377,0.09539999999999998,0.0429,0.0693,0.013600000000000001,-0.026099999999999998,0.0215,-0.10099999999999999,-0.0812,-0.0006,0.057699999999999994,0.0092],\"y\":[0.024767801857585203,0.03442527743526534,0.07594798927613924,-0.10381688152240634,0.06138867313915862,0.011723566878980778,0.024421593830334043,0.06349206349206349,0.03791843317972353,-0.01156260323752889,0.015620361247947434,0.08255159474671658,0.06680161943319818,0.034900000000000035,0.06636525679758297,-0.004,0.06434599156118148,-0.026303854707190554,0.03624439834024883,0.022317460317460458,-0.1012890020366599,0.027712244897959107,0.005807407407407307,-0.0383480825958703,-0.03409433427762033,0.017071513353115665,0.0777097982708934,-0.12325278514588865,0.01994291497975694,0.08056042031523636,-0.01914962674456344,-0.006597402597402709,-0.026917900403768402,0.05375618729096986,0.04722510288065827,-0.0006395437262358018,0.04155352112676073,0.008478672985782088,0.018723529411764684,0.13862340425531916,0.012778145219266613,0.04869305019305031,0.04010695187165769,0.0037359900373601374,0.00379506641366234,-0.004373796791443861,-0.03963414634146334,-0.047536395759717305,0.057283142389525255,0.11720205278592365,0.015264257028112205,0.06827299270072998,0.02502979737783062,-0.02082659176029956,0.026967984189723383,-0.0709333333333333,-0.03614457831325313,-0.031367628607277265,0.08116520681265203,0.01663333333333326],\"type\":\"scatter\"},{\"name\":\"Regresi\\u00f3n Lineal\",\"x\":[0.0418,0.0178,0.046,-0.13390000000000002,0.0408,0.0203,0.0255,0.0556,0.048600000000000004,0.0029,0.031200000000000002,0.0665,0.0557,0.0143,0.0693,-0.0373,0.0493,-0.0235,0.016,0.0109,-0.0935,0.0049,0.0189,0.0281,-0.04769999999999999,0.0146,0.06309999999999999,-0.0768,0.0017000000000000001,0.0565,-0.0625,-0.0196,-0.0204,0.0361,0.0255,0.0028000000000000004,0.0235,0.014199999999999999,0.0199,0.1247,0.0319,0.0454,0.0252,0.0127,0.0129,-0.009300000000000001,-0.0259,-0.0276,0.0377,0.09539999999999998,0.0429,0.0693,0.013600000000000001,-0.026099999999999998,0.0215,-0.10099999999999999,-0.0812,-0.0006,0.057699999999999994,0.0092],\"y\":[0.0501721267124463,0.02204288858002537,0.05509474338561997,-0.155757337448652,0.04900007512359544,0.02497301755215255,0.031067685814177088,0.06634643863858834,0.058142077516632244,0.004579319906147371,0.03774837987062706,0.07912180095706287,0.06646364379747344,0.01794070801904732,0.0824035454058453,-0.04253715396565771,0.058962513628827845,-0.026362842039515662,0.0199331957200938,0.01395573261695435,-0.10840645325907673,0.006923423083849116,0.02333214532776133,0.034115019945189354,-0.05472649048970677,0.01829232349570258,0.07513682555496988,-0.08883319172526716,0.003172857999526324,0.06740128506855414,-0.07207285400469969,-0.02179184084299726,-0.022729482114077958,0.04349143265599634,0.031067685814177088,0.004462114747262285,0.028723582636475346,0.01782350286016223,0.024504196916612205,0.14733520342818365,0.03856881598282267,0.05439151243230945,0.030716070337521828,0.01606542547688592,0.016299835794656096,-0.009719709477833273,-0.029175765852757756,-0.031168253553804235,0.04536671519815773,0.11299409187485306,0.05146138346018227,0.0824035454058453,0.017120271906851708,-0.029410176170527928,0.026379479458773596,-0.11719684017545827,-0.093990218716211,0.0004771393451693173,0.06880774697517517,0.011963244915907868],\"type\":\"scatter\"}],                        {\"template\":{\"data\":{\"pie\":[{\"automargin\":true,\"type\":\"pie\"}]},\"layout\":{\"xaxis\":{\"showgrid\":true,\"title\":{\"standoff\":15}},\"yaxis\":{\"showgrid\":true,\"title\":{\"standoff\":15}}}},\"title\":{\"text\":\"Regresion lineal simple\"},\"yaxis\":{\"title\":{\"text\":\"Rendimiento del activo financiero\"}},\"xaxis\":{\"title\":{\"text\":\"Rendimiento del mercado\"}}},                        {\"responsive\": true}                    ).then(function(){\n",
              "                            \n",
              "var gd = document.getElementById('e53ee854-0992-449f-bd06-84133299915f');\n",
              "var x = new MutationObserver(function (mutations, observer) {{\n",
              "        var display = window.getComputedStyle(gd).display;\n",
              "        if (!display || display === 'none') {{\n",
              "            console.log([gd, 'removed!']);\n",
              "            Plotly.purge(gd);\n",
              "            observer.disconnect();\n",
              "        }}\n",
              "}});\n",
              "\n",
              "// Listen for the removal of the full notebook cells\n",
              "var notebookContainer = gd.closest('#notebook-container');\n",
              "if (notebookContainer) {{\n",
              "    x.observe(notebookContainer, {childList: true});\n",
              "}}\n",
              "\n",
              "// Listen for the clearing of the current output cell\n",
              "var outputEl = gd.closest('.output');\n",
              "if (outputEl) {{\n",
              "    x.observe(outputEl, {childList: true});\n",
              "}}\n",
              "\n",
              "                        })                };                            </script>        </div>\n",
              "</body>\n",
              "</html>"
            ]
          },
          "metadata": {}
        }
      ]
    },
    {
      "cell_type": "markdown",
      "source": [
        "<p align=\"justify\">\n",
        "Además de la línea de mínimos cuadrados, es recomendable incluir los límites superior e inferior del intervalo de confianza. Esto permite identificar la región en la que, según el modelo generado y para un determinado nivel de confianza, se encuentra el valor promedio de la variable respuesta."
      ],
      "metadata": {
        "id": "UGsLnl5-_avi"
      }
    },
    {
      "cell_type": "code",
      "source": [
        "prediction2 = model.get_prediction(exog = X_test).summary_frame(alpha=0.05)\n",
        "prediction2['x'] = X_test.PrimaRiesgoMercado\n",
        "prediction2['y'] = y_test\n",
        "prediction2 = prediction2.sort_values('x')\n",
        "prediction2.head()"
      ],
      "metadata": {
        "id": "YFSH-iQMx4eH",
        "colab": {
          "base_uri": "https://localhost:8080/",
          "height": 221
        },
        "outputId": "ac894ff1-c9c2-4c84-cb0c-885ba40acfe5"
      },
      "execution_count": 22,
      "outputs": [
        {
          "output_type": "execute_result",
          "data": {
            "text/plain": [
              "        mean   mean_se  mean_ci_lower  mean_ci_upper  obs_ci_lower  \\\n",
              "3  -0.155757  0.007940      -0.171427      -0.140088     -0.218889   \n",
              "55 -0.117197  0.006263      -0.129556      -0.104838     -0.179589   \n",
              "20 -0.108406  0.005888      -0.120027      -0.096786     -0.170657   \n",
              "56 -0.093990  0.005284      -0.104418      -0.083562     -0.156029   \n",
              "27 -0.088833  0.005072      -0.098842      -0.078824     -0.150803   \n",
              "\n",
              "    obs_ci_upper       x         y  \n",
              "3      -0.092626 -0.1339 -0.103817  \n",
              "55     -0.054804 -0.1010 -0.070933  \n",
              "20     -0.046156 -0.0935 -0.101289  \n",
              "56     -0.031951 -0.0812 -0.036145  \n",
              "27     -0.026863 -0.0768 -0.123253  "
            ],
            "text/html": [
              "\n",
              "  <div id=\"df-2c910b3d-1fec-4fb3-a295-e138b72f40da\">\n",
              "    <div class=\"colab-df-container\">\n",
              "      <div>\n",
              "<style scoped>\n",
              "    .dataframe tbody tr th:only-of-type {\n",
              "        vertical-align: middle;\n",
              "    }\n",
              "\n",
              "    .dataframe tbody tr th {\n",
              "        vertical-align: top;\n",
              "    }\n",
              "\n",
              "    .dataframe thead th {\n",
              "        text-align: right;\n",
              "    }\n",
              "</style>\n",
              "<table border=\"1\" class=\"dataframe\">\n",
              "  <thead>\n",
              "    <tr style=\"text-align: right;\">\n",
              "      <th></th>\n",
              "      <th>mean</th>\n",
              "      <th>mean_se</th>\n",
              "      <th>mean_ci_lower</th>\n",
              "      <th>mean_ci_upper</th>\n",
              "      <th>obs_ci_lower</th>\n",
              "      <th>obs_ci_upper</th>\n",
              "      <th>x</th>\n",
              "      <th>y</th>\n",
              "    </tr>\n",
              "  </thead>\n",
              "  <tbody>\n",
              "    <tr>\n",
              "      <th>3</th>\n",
              "      <td>-0.155757</td>\n",
              "      <td>0.007940</td>\n",
              "      <td>-0.171427</td>\n",
              "      <td>-0.140088</td>\n",
              "      <td>-0.218889</td>\n",
              "      <td>-0.092626</td>\n",
              "      <td>-0.1339</td>\n",
              "      <td>-0.103817</td>\n",
              "    </tr>\n",
              "    <tr>\n",
              "      <th>55</th>\n",
              "      <td>-0.117197</td>\n",
              "      <td>0.006263</td>\n",
              "      <td>-0.129556</td>\n",
              "      <td>-0.104838</td>\n",
              "      <td>-0.179589</td>\n",
              "      <td>-0.054804</td>\n",
              "      <td>-0.1010</td>\n",
              "      <td>-0.070933</td>\n",
              "    </tr>\n",
              "    <tr>\n",
              "      <th>20</th>\n",
              "      <td>-0.108406</td>\n",
              "      <td>0.005888</td>\n",
              "      <td>-0.120027</td>\n",
              "      <td>-0.096786</td>\n",
              "      <td>-0.170657</td>\n",
              "      <td>-0.046156</td>\n",
              "      <td>-0.0935</td>\n",
              "      <td>-0.101289</td>\n",
              "    </tr>\n",
              "    <tr>\n",
              "      <th>56</th>\n",
              "      <td>-0.093990</td>\n",
              "      <td>0.005284</td>\n",
              "      <td>-0.104418</td>\n",
              "      <td>-0.083562</td>\n",
              "      <td>-0.156029</td>\n",
              "      <td>-0.031951</td>\n",
              "      <td>-0.0812</td>\n",
              "      <td>-0.036145</td>\n",
              "    </tr>\n",
              "    <tr>\n",
              "      <th>27</th>\n",
              "      <td>-0.088833</td>\n",
              "      <td>0.005072</td>\n",
              "      <td>-0.098842</td>\n",
              "      <td>-0.078824</td>\n",
              "      <td>-0.150803</td>\n",
              "      <td>-0.026863</td>\n",
              "      <td>-0.0768</td>\n",
              "      <td>-0.123253</td>\n",
              "    </tr>\n",
              "  </tbody>\n",
              "</table>\n",
              "</div>\n",
              "      <button class=\"colab-df-convert\" onclick=\"convertToInteractive('df-2c910b3d-1fec-4fb3-a295-e138b72f40da')\"\n",
              "              title=\"Convert this dataframe to an interactive table.\"\n",
              "              style=\"display:none;\">\n",
              "        \n",
              "  <svg xmlns=\"http://www.w3.org/2000/svg\" height=\"24px\"viewBox=\"0 0 24 24\"\n",
              "       width=\"24px\">\n",
              "    <path d=\"M0 0h24v24H0V0z\" fill=\"none\"/>\n",
              "    <path d=\"M18.56 5.44l.94 2.06.94-2.06 2.06-.94-2.06-.94-.94-2.06-.94 2.06-2.06.94zm-11 1L8.5 8.5l.94-2.06 2.06-.94-2.06-.94L8.5 2.5l-.94 2.06-2.06.94zm10 10l.94 2.06.94-2.06 2.06-.94-2.06-.94-.94-2.06-.94 2.06-2.06.94z\"/><path d=\"M17.41 7.96l-1.37-1.37c-.4-.4-.92-.59-1.43-.59-.52 0-1.04.2-1.43.59L10.3 9.45l-7.72 7.72c-.78.78-.78 2.05 0 2.83L4 21.41c.39.39.9.59 1.41.59.51 0 1.02-.2 1.41-.59l7.78-7.78 2.81-2.81c.8-.78.8-2.07 0-2.86zM5.41 20L4 18.59l7.72-7.72 1.47 1.35L5.41 20z\"/>\n",
              "  </svg>\n",
              "      </button>\n",
              "      \n",
              "  <style>\n",
              "    .colab-df-container {\n",
              "      display:flex;\n",
              "      flex-wrap:wrap;\n",
              "      gap: 12px;\n",
              "    }\n",
              "\n",
              "    .colab-df-convert {\n",
              "      background-color: #E8F0FE;\n",
              "      border: none;\n",
              "      border-radius: 50%;\n",
              "      cursor: pointer;\n",
              "      display: none;\n",
              "      fill: #1967D2;\n",
              "      height: 32px;\n",
              "      padding: 0 0 0 0;\n",
              "      width: 32px;\n",
              "    }\n",
              "\n",
              "    .colab-df-convert:hover {\n",
              "      background-color: #E2EBFA;\n",
              "      box-shadow: 0px 1px 2px rgba(60, 64, 67, 0.3), 0px 1px 3px 1px rgba(60, 64, 67, 0.15);\n",
              "      fill: #174EA6;\n",
              "    }\n",
              "\n",
              "    [theme=dark] .colab-df-convert {\n",
              "      background-color: #3B4455;\n",
              "      fill: #D2E3FC;\n",
              "    }\n",
              "\n",
              "    [theme=dark] .colab-df-convert:hover {\n",
              "      background-color: #434B5C;\n",
              "      box-shadow: 0px 1px 3px 1px rgba(0, 0, 0, 0.15);\n",
              "      filter: drop-shadow(0px 1px 2px rgba(0, 0, 0, 0.3));\n",
              "      fill: #FFFFFF;\n",
              "    }\n",
              "  </style>\n",
              "\n",
              "      <script>\n",
              "        const buttonEl =\n",
              "          document.querySelector('#df-2c910b3d-1fec-4fb3-a295-e138b72f40da button.colab-df-convert');\n",
              "        buttonEl.style.display =\n",
              "          google.colab.kernel.accessAllowed ? 'block' : 'none';\n",
              "\n",
              "        async function convertToInteractive(key) {\n",
              "          const element = document.querySelector('#df-2c910b3d-1fec-4fb3-a295-e138b72f40da');\n",
              "          const dataTable =\n",
              "            await google.colab.kernel.invokeFunction('convertToInteractive',\n",
              "                                                     [key], {});\n",
              "          if (!dataTable) return;\n",
              "\n",
              "          const docLinkHtml = 'Like what you see? Visit the ' +\n",
              "            '<a target=\"_blank\" href=https://colab.research.google.com/notebooks/data_table.ipynb>data table notebook</a>'\n",
              "            + ' to learn more about interactive tables.';\n",
              "          element.innerHTML = '';\n",
              "          dataTable['output_type'] = 'display_data';\n",
              "          await google.colab.output.renderOutput(dataTable, element);\n",
              "          const docLink = document.createElement('div');\n",
              "          docLink.innerHTML = docLinkHtml;\n",
              "          element.appendChild(docLink);\n",
              "        }\n",
              "      </script>\n",
              "    </div>\n",
              "  </div>\n",
              "  "
            ]
          },
          "metadata": {},
          "execution_count": 22
        }
      ]
    },
    {
      "cell_type": "code",
      "source": [
        "fig = go.Figure([go.Scatter(x = prediction2.x,\n",
        "                            y = prediction2[\"mean\"],\n",
        "                            name = \"Predicción media (OLS)\"),\n",
        "                 go.Scatter(x = prediction2.x,\n",
        "                            y = prediction2.mean_ci_upper,\n",
        "                            name = \"Limite superior\"),\n",
        "                 go.Scatter(x = prediction2.x,\n",
        "                            y = prediction2.mean_ci_lower,\n",
        "                            name = \"Limite inferior\"),\n",
        "                 go.Scatter(x = prediction2.x,\n",
        "                            y = prediction2.y,\n",
        "                            mode = \"markers\",\n",
        "                            showlegend = False,\n",
        "                            name = \"Real\")\n",
        "                 ])\n",
        "\n",
        "fig.update_layout(template =    \"gridon\",\n",
        "                  title =       \"Regresion lineal simple\",\n",
        "                  yaxis_title = \"Rendimiento del activo financiero\",\n",
        "                  xaxis_title = \"Rendimiento del mercado\")\n",
        "\n",
        "fig.show()"
      ],
      "metadata": {
        "id": "wvpvBXTVx4bP",
        "colab": {
          "base_uri": "https://localhost:8080/",
          "height": 562
        },
        "outputId": "56d51500-9066-418b-d994-5a252f729786"
      },
      "execution_count": 23,
      "outputs": [
        {
          "output_type": "display_data",
          "data": {
            "text/html": [
              "<html>\n",
              "<head><meta charset=\"utf-8\" /></head>\n",
              "<body>\n",
              "    <div>            <script src=\"https://cdnjs.cloudflare.com/ajax/libs/mathjax/2.7.5/MathJax.js?config=TeX-AMS-MML_SVG\"></script><script type=\"text/javascript\">if (window.MathJax && window.MathJax.Hub && window.MathJax.Hub.Config) {window.MathJax.Hub.Config({SVG: {font: \"STIX-Web\"}});}</script>                <script type=\"text/javascript\">window.PlotlyConfig = {MathJaxConfig: 'local'};</script>\n",
              "        <script src=\"https://cdn.plot.ly/plotly-2.18.2.min.js\"></script>                <div id=\"e9fa6dc8-ea8b-4e42-8ac0-a696ec0000c5\" class=\"plotly-graph-div\" style=\"height:525px; width:100%;\"></div>            <script type=\"text/javascript\">                                    window.PLOTLYENV=window.PLOTLYENV || {};                                    if (document.getElementById(\"e9fa6dc8-ea8b-4e42-8ac0-a696ec0000c5\")) {                    Plotly.newPlot(                        \"e9fa6dc8-ea8b-4e42-8ac0-a696ec0000c5\",                        [{\"name\":\"Predicci\\u00f3n media (OLS)\",\"x\":[-0.13390000000000002,-0.10099999999999999,-0.0935,-0.0812,-0.0768,-0.0625,-0.04769999999999999,-0.0373,-0.0276,-0.026099999999999998,-0.0259,-0.0235,-0.0204,-0.0196,-0.009300000000000001,-0.0006,0.0017000000000000001,0.0028000000000000004,0.0029,0.0049,0.0092,0.0109,0.0127,0.0129,0.013600000000000001,0.014199999999999999,0.0143,0.0146,0.016,0.0178,0.0189,0.0199,0.0203,0.0215,0.0235,0.0252,0.0255,0.0255,0.0281,0.031200000000000002,0.0319,0.0361,0.0377,0.0408,0.0418,0.0429,0.0454,0.046,0.048600000000000004,0.0493,0.0556,0.0557,0.0565,0.057699999999999994,0.06309999999999999,0.0665,0.0693,0.0693,0.09539999999999998,0.1247],\"y\":[-0.155757337448652,-0.11719684017545827,-0.10840645325907673,-0.093990218716211,-0.08883319172526716,-0.07207285400469969,-0.05472649048970677,-0.04253715396565771,-0.031168253553804235,-0.029410176170527928,-0.029175765852757756,-0.026362842039515662,-0.022729482114077958,-0.02179184084299726,-0.009719709477833273,0.0004771393451693173,0.003172857999526324,0.004462114747262285,0.004579319906147371,0.006923423083849116,0.011963244915907868,0.01395573261695435,0.01606542547688592,0.016299835794656096,0.017120271906851708,0.01782350286016223,0.01794070801904732,0.01829232349570258,0.0199331957200938,0.02204288858002537,0.02333214532776133,0.024504196916612205,0.02497301755215255,0.026379479458773596,0.028723582636475346,0.030716070337521828,0.031067685814177088,0.031067685814177088,0.034115019945189354,0.03774837987062706,0.03856881598282267,0.04349143265599634,0.04536671519815773,0.04900007512359544,0.0501721267124463,0.05146138346018227,0.05439151243230945,0.05509474338561997,0.058142077516632244,0.058962513628827845,0.06634643863858834,0.06646364379747344,0.06740128506855414,0.06880774697517517,0.07513682555496988,0.07912180095706287,0.0824035454058453,0.0824035454058453,0.11299409187485306,0.14733520342818365],\"type\":\"scatter\"},{\"name\":\"Limite superior\",\"x\":[-0.13390000000000002,-0.10099999999999999,-0.0935,-0.0812,-0.0768,-0.0625,-0.04769999999999999,-0.0373,-0.0276,-0.026099999999999998,-0.0259,-0.0235,-0.0204,-0.0196,-0.009300000000000001,-0.0006,0.0017000000000000001,0.0028000000000000004,0.0029,0.0049,0.0092,0.0109,0.0127,0.0129,0.013600000000000001,0.014199999999999999,0.0143,0.0146,0.016,0.0178,0.0189,0.0199,0.0203,0.0215,0.0235,0.0252,0.0255,0.0255,0.0281,0.031200000000000002,0.0319,0.0361,0.0377,0.0408,0.0418,0.0429,0.0454,0.046,0.048600000000000004,0.0493,0.0556,0.0557,0.0565,0.057699999999999994,0.06309999999999999,0.0665,0.0693,0.0693,0.09539999999999998,0.1247],\"y\":[-0.14008785535124402,-0.10483801299545253,-0.0967863261098773,-0.08356225050668878,-0.07882449387777013,-0.06339170523754344,-0.047339162682780454,-0.03598436840524844,-0.025311470655285676,-0.02365196438388495,-0.02343048872582264,-0.02076878025554727,-0.017319094159227204,-0.016426571837103745,-0.004838680068256775,0.0051150456587345005,0.007775638231234327,0.009052627541042045,0.009168864274316917,0.011498769622119265,0.016541627449956808,0.01854794057913287,0.020679983214858387,0.020917361922911576,0.02174894508783131,0.022462663843027544,0.022581700283764054,0.02293895187406417,0.024608926368304196,0.026762704977938426,0.028082514890842125,0.02928466680680435,0.029766137891769347,0.031212607944077254,0.033630075334150036,0.035691252694432504,0.03605557454730428,0.03605557454730428,0.03922009467731939,0.0430088553011891,0.04386660163323329,0.049028919742852436,0.05100218677978114,0.054834891542422465,0.05607375566118622,0.05743783770868016,0.06054294635206464,0.061289141494510334,0.06452671132531704,0.06539944133837923,0.07327241219144208,0.07339762583151133,0.07439958904432152,0.075903360634755,0.08268162437117203,0.08695788899533859,0.09048383074223512,0.09048383074223512,0.12348620183255286,0.16070674076882815],\"type\":\"scatter\"},{\"name\":\"Limite inferior\",\"x\":[-0.13390000000000002,-0.10099999999999999,-0.0935,-0.0812,-0.0768,-0.0625,-0.04769999999999999,-0.0373,-0.0276,-0.026099999999999998,-0.0259,-0.0235,-0.0204,-0.0196,-0.009300000000000001,-0.0006,0.0017000000000000001,0.0028000000000000004,0.0029,0.0049,0.0092,0.0109,0.0127,0.0129,0.013600000000000001,0.014199999999999999,0.0143,0.0146,0.016,0.0178,0.0189,0.0199,0.0203,0.0215,0.0235,0.0252,0.0255,0.0255,0.0281,0.031200000000000002,0.0319,0.0361,0.0377,0.0408,0.0418,0.0429,0.0454,0.046,0.048600000000000004,0.0493,0.0556,0.0557,0.0565,0.057699999999999994,0.06309999999999999,0.0665,0.0693,0.0693,0.09539999999999998,0.1247],\"y\":[-0.17142681954605998,-0.129555667355464,-0.12002658040827617,-0.10441818692573321,-0.09884188957276419,-0.08075400277185595,-0.06211381829663309,-0.049089939526066974,-0.037025036452322795,-0.03516838795717091,-0.03492104297969287,-0.031956903823484054,-0.02813987006892871,-0.027157109848890772,-0.014600738887409771,-0.004160766968395866,-0.0014299222321816794,-0.00012839804651747656,-1.0224462022175376e-05,0.0023480765455789667,0.00738486238185893,0.009363524654775832,0.011450867738913453,0.011682309666400617,0.012491598725872105,0.013184341877296916,0.013299715754330584,0.013645695117340987,0.015257465071883409,0.017323072182112317,0.018581775764680536,0.01972372702642006,0.02017989721253575,0.02154635097346994,0.02381708993880065,0.025740887980611152,0.026079797081049898,0.026079797081049898,0.02900994521305932,0.032487904440065024,0.03327103033241205,0.03795394556914024,0.039731243616534316,0.04316525870476841,0.04427049776370638,0.04548492921168437,0.048240078512554255,0.0489003452767296,0.051757443707947444,0.05252558591927646,0.059420465085734606,0.059529661763435555,0.06040298109278676,0.06171213331559533,0.06759202673876773,0.07128571291878714,0.07432326006945547,0.07432326006945547,0.10250198191715325,0.13396366608753915],\"type\":\"scatter\"},{\"mode\":\"markers\",\"name\":\"Real\",\"showlegend\":false,\"x\":[-0.13390000000000002,-0.10099999999999999,-0.0935,-0.0812,-0.0768,-0.0625,-0.04769999999999999,-0.0373,-0.0276,-0.026099999999999998,-0.0259,-0.0235,-0.0204,-0.0196,-0.009300000000000001,-0.0006,0.0017000000000000001,0.0028000000000000004,0.0029,0.0049,0.0092,0.0109,0.0127,0.0129,0.013600000000000001,0.014199999999999999,0.0143,0.0146,0.016,0.0178,0.0189,0.0199,0.0203,0.0215,0.0235,0.0252,0.0255,0.0255,0.0281,0.031200000000000002,0.0319,0.0361,0.0377,0.0408,0.0418,0.0429,0.0454,0.046,0.048600000000000004,0.0493,0.0556,0.0557,0.0565,0.057699999999999994,0.06309999999999999,0.0665,0.0693,0.0693,0.09539999999999998,0.1247],\"y\":[-0.10381688152240634,-0.0709333333333333,-0.1012890020366599,-0.03614457831325313,-0.12325278514588865,-0.01914962674456344,-0.03409433427762033,-0.004,-0.047536395759717305,-0.02082659176029956,-0.03963414634146334,-0.026303854707190554,-0.026917900403768402,-0.006597402597402709,-0.004373796791443861,-0.031367628607277265,0.01994291497975694,-0.0006395437262358018,-0.01156260323752889,0.027712244897959107,0.01663333333333326,0.022317460317460458,0.0037359900373601374,0.00379506641366234,0.02502979737783062,0.008478672985782088,0.034900000000000035,0.017071513353115665,0.03624439834024883,0.03442527743526534,0.005807407407407307,0.018723529411764684,0.011723566878980778,0.026967984189723383,0.04155352112676073,0.04010695187165769,0.04722510288065827,0.024421593830334043,-0.0383480825958703,0.015620361247947434,0.012778145219266613,0.05375618729096986,0.057283142389525255,0.06138867313915862,0.024767801857585203,0.015264257028112205,0.04869305019305031,0.07594798927613924,0.03791843317972353,0.06434599156118148,0.06349206349206349,0.06680161943319818,0.08056042031523636,0.08116520681265203,0.0777097982708934,0.08255159474671658,0.06827299270072998,0.06636525679758297,0.11720205278592365,0.13862340425531916],\"type\":\"scatter\"}],                        {\"template\":{\"data\":{\"pie\":[{\"automargin\":true,\"type\":\"pie\"}]},\"layout\":{\"xaxis\":{\"showgrid\":true,\"title\":{\"standoff\":15}},\"yaxis\":{\"showgrid\":true,\"title\":{\"standoff\":15}}}},\"title\":{\"text\":\"Regresion lineal simple\"},\"yaxis\":{\"title\":{\"text\":\"Rendimiento del activo financiero\"}},\"xaxis\":{\"title\":{\"text\":\"Rendimiento del mercado\"}}},                        {\"responsive\": true}                    ).then(function(){\n",
              "                            \n",
              "var gd = document.getElementById('e9fa6dc8-ea8b-4e42-8ac0-a696ec0000c5');\n",
              "var x = new MutationObserver(function (mutations, observer) {{\n",
              "        var display = window.getComputedStyle(gd).display;\n",
              "        if (!display || display === 'none') {{\n",
              "            console.log([gd, 'removed!']);\n",
              "            Plotly.purge(gd);\n",
              "            observer.disconnect();\n",
              "        }}\n",
              "}});\n",
              "\n",
              "// Listen for the removal of the full notebook cells\n",
              "var notebookContainer = gd.closest('#notebook-container');\n",
              "if (notebookContainer) {{\n",
              "    x.observe(notebookContainer, {childList: true});\n",
              "}}\n",
              "\n",
              "// Listen for the clearing of the current output cell\n",
              "var outputEl = gd.closest('.output');\n",
              "if (outputEl) {{\n",
              "    x.observe(outputEl, {childList: true});\n",
              "}}\n",
              "\n",
              "                        })                };                            </script>        </div>\n",
              "</body>\n",
              "</html>"
            ]
          },
          "metadata": {}
        }
      ]
    },
    {
      "cell_type": "markdown",
      "source": [
        " ## **<font color=\"DeepPink\">Evaluación del modelo</font>**"
      ],
      "metadata": {
        "id": "kJ_jbWv0IlDT"
      }
    },
    {
      "cell_type": "markdown",
      "source": [
        "**<font color=\"DeepPink\">Standardised mean squared error (SMSE):**\n",
        "\n",
        "$$SMSE = \\sqrt{MSE}=\\sqrt{\\frac{1}{n}\\sum_{i=1}^{n}(y_i-\\hat{y})^2}$$"
      ],
      "metadata": {
        "id": "isI_7-rLGEBU"
      }
    },
    {
      "cell_type": "code",
      "source": [
        "SMSE = np.sqrt(sum((tabla.Real-tabla.Prediccion)**2)/(len(tabla))).round(2)\n",
        "SMSE"
      ],
      "metadata": {
        "colab": {
          "base_uri": "https://localhost:8080/"
        },
        "id": "pTPUkQrt0TVD",
        "outputId": "ffd33697-297d-45c6-eac3-d034e7bdf997"
      },
      "execution_count": 24,
      "outputs": [
        {
          "output_type": "execute_result",
          "data": {
            "text/plain": [
              "0.02"
            ]
          },
          "metadata": {},
          "execution_count": 24
        }
      ]
    },
    {
      "cell_type": "markdown",
      "source": [
        "**<font color=\"DeepPink\">Mean Absolute Error(MAE):**\n",
        "\n",
        "$$MAE=\\frac{1}{n}\\sum_{i=1}^{n}|y_i-\\hat{y}|$$"
      ],
      "metadata": {
        "id": "s8VNkc99FYqL"
      }
    },
    {
      "cell_type": "code",
      "source": [
        "MAE = round(sum(abs(tabla.Real-tabla.Prediccion))/(len(tabla)),2)\n",
        "MAE"
      ],
      "metadata": {
        "colab": {
          "base_uri": "https://localhost:8080/"
        },
        "id": "U6WUOtpV0ZEG",
        "outputId": "fc102df3-95ec-4464-abd3-245765a683e9"
      },
      "execution_count": 25,
      "outputs": [
        {
          "output_type": "execute_result",
          "data": {
            "text/plain": [
              "0.02"
            ]
          },
          "metadata": {},
          "execution_count": 25
        }
      ]
    },
    {
      "cell_type": "markdown",
      "source": [
        "**<font color=\"DeepPink\">$R_2$:**\n",
        "\n",
        "\n",
        "$$R_2 = 1-\\frac{\\frac{1}{n}\\sum_{i=1}^{n}(y_i-\\hat{y})^2}{\\frac{1}{n}\\sum_{i=1}^{n}(y_i-\\bar{y})^2}$$\n",
        "\n",
        "Donde:\n",
        "* $\\hat{y}$ es la predicción de la variable respuesta,\n",
        "* $\\bar{y}$ es el promedio de la variable respuesta."
      ],
      "metadata": {
        "id": "rBliciKHI0Dy"
      }
    },
    {
      "cell_type": "code",
      "source": [
        "R2= round(1-((sum((tabla.Real-tabla.Prediccion)**2)/(len(tabla)))/(sum((tabla.Real-tabla.Rendimiento_medio)**2)/(len(tabla)))),2)\n",
        "R2"
      ],
      "metadata": {
        "colab": {
          "base_uri": "https://localhost:8080/"
        },
        "id": "XL-bjwcDsjwO",
        "outputId": "1f375582-5405-458b-f8c5-c598a0c03023"
      },
      "execution_count": 26,
      "outputs": [
        {
          "output_type": "execute_result",
          "data": {
            "text/plain": [
              "0.8"
            ]
          },
          "metadata": {},
          "execution_count": 26
        }
      ]
    },
    {
      "cell_type": "code",
      "source": [
        "fig = go.Figure([go.Scatter(x = X_test.PrimaRiesgoMercado,\n",
        "                            y = y_test,\n",
        "                            mode = \"markers\",\n",
        "                            showlegend = False,\n",
        "                            name = \"Real\"),\n",
        "                 go.Scatter(x = X_test.PrimaRiesgoMercado,\n",
        "                            y = tabla.Prediccion,\n",
        "                            name = \"Predicción media (OLS)\"),\n",
        "                 go.Scatter(x = X_test.PrimaRiesgoMercado,\n",
        "                            y = tabla.Rendimiento_medio,\n",
        "                            name = \"Rendimiento medio\")\n",
        "                 ])\n",
        "\n",
        "fig.update_layout(template =    \"gridon\",\n",
        "                  title =       \"Regresion lineal simple\",\n",
        "                  yaxis_title = \"Rendimiento del activo financiero\",\n",
        "                  xaxis_title = \"Rendimiento del mercado\")\n",
        "\n",
        "fig.show()"
      ],
      "metadata": {
        "colab": {
          "base_uri": "https://localhost:8080/",
          "height": 562
        },
        "id": "8EgummEHO8ja",
        "outputId": "f94416db-521e-41c1-84dc-7ed22e3fa1b4"
      },
      "execution_count": 27,
      "outputs": [
        {
          "output_type": "display_data",
          "data": {
            "text/html": [
              "<html>\n",
              "<head><meta charset=\"utf-8\" /></head>\n",
              "<body>\n",
              "    <div>            <script src=\"https://cdnjs.cloudflare.com/ajax/libs/mathjax/2.7.5/MathJax.js?config=TeX-AMS-MML_SVG\"></script><script type=\"text/javascript\">if (window.MathJax && window.MathJax.Hub && window.MathJax.Hub.Config) {window.MathJax.Hub.Config({SVG: {font: \"STIX-Web\"}});}</script>                <script type=\"text/javascript\">window.PlotlyConfig = {MathJaxConfig: 'local'};</script>\n",
              "        <script src=\"https://cdn.plot.ly/plotly-2.18.2.min.js\"></script>                <div id=\"2d71de18-3066-4039-962f-ea4f32be9daf\" class=\"plotly-graph-div\" style=\"height:525px; width:100%;\"></div>            <script type=\"text/javascript\">                                    window.PLOTLYENV=window.PLOTLYENV || {};                                    if (document.getElementById(\"2d71de18-3066-4039-962f-ea4f32be9daf\")) {                    Plotly.newPlot(                        \"2d71de18-3066-4039-962f-ea4f32be9daf\",                        [{\"mode\":\"markers\",\"name\":\"Real\",\"showlegend\":false,\"x\":[0.0418,0.0178,0.046,-0.13390000000000002,0.0408,0.0203,0.0255,0.0556,0.048600000000000004,0.0029,0.031200000000000002,0.0665,0.0557,0.0143,0.0693,-0.0373,0.0493,-0.0235,0.016,0.0109,-0.0935,0.0049,0.0189,0.0281,-0.04769999999999999,0.0146,0.06309999999999999,-0.0768,0.0017000000000000001,0.0565,-0.0625,-0.0196,-0.0204,0.0361,0.0255,0.0028000000000000004,0.0235,0.014199999999999999,0.0199,0.1247,0.0319,0.0454,0.0252,0.0127,0.0129,-0.009300000000000001,-0.0259,-0.0276,0.0377,0.09539999999999998,0.0429,0.0693,0.013600000000000001,-0.026099999999999998,0.0215,-0.10099999999999999,-0.0812,-0.0006,0.057699999999999994,0.0092],\"y\":[0.024767801857585203,0.03442527743526534,0.07594798927613924,-0.10381688152240634,0.06138867313915862,0.011723566878980778,0.024421593830334043,0.06349206349206349,0.03791843317972353,-0.01156260323752889,0.015620361247947434,0.08255159474671658,0.06680161943319818,0.034900000000000035,0.06636525679758297,-0.004,0.06434599156118148,-0.026303854707190554,0.03624439834024883,0.022317460317460458,-0.1012890020366599,0.027712244897959107,0.005807407407407307,-0.0383480825958703,-0.03409433427762033,0.017071513353115665,0.0777097982708934,-0.12325278514588865,0.01994291497975694,0.08056042031523636,-0.01914962674456344,-0.006597402597402709,-0.026917900403768402,0.05375618729096986,0.04722510288065827,-0.0006395437262358018,0.04155352112676073,0.008478672985782088,0.018723529411764684,0.13862340425531916,0.012778145219266613,0.04869305019305031,0.04010695187165769,0.0037359900373601374,0.00379506641366234,-0.004373796791443861,-0.03963414634146334,-0.047536395759717305,0.057283142389525255,0.11720205278592365,0.015264257028112205,0.06827299270072998,0.02502979737783062,-0.02082659176029956,0.026967984189723383,-0.0709333333333333,-0.03614457831325313,-0.031367628607277265,0.08116520681265203,0.01663333333333326],\"type\":\"scatter\"},{\"name\":\"Predicci\\u00f3n media (OLS)\",\"x\":[0.0418,0.0178,0.046,-0.13390000000000002,0.0408,0.0203,0.0255,0.0556,0.048600000000000004,0.0029,0.031200000000000002,0.0665,0.0557,0.0143,0.0693,-0.0373,0.0493,-0.0235,0.016,0.0109,-0.0935,0.0049,0.0189,0.0281,-0.04769999999999999,0.0146,0.06309999999999999,-0.0768,0.0017000000000000001,0.0565,-0.0625,-0.0196,-0.0204,0.0361,0.0255,0.0028000000000000004,0.0235,0.014199999999999999,0.0199,0.1247,0.0319,0.0454,0.0252,0.0127,0.0129,-0.009300000000000001,-0.0259,-0.0276,0.0377,0.09539999999999998,0.0429,0.0693,0.013600000000000001,-0.026099999999999998,0.0215,-0.10099999999999999,-0.0812,-0.0006,0.057699999999999994,0.0092],\"y\":[0.0501721267124463,0.02204288858002537,0.05509474338561997,-0.155757337448652,0.04900007512359544,0.02497301755215255,0.031067685814177088,0.06634643863858834,0.058142077516632244,0.004579319906147371,0.03774837987062706,0.07912180095706287,0.06646364379747344,0.01794070801904732,0.0824035454058453,-0.04253715396565771,0.058962513628827845,-0.026362842039515662,0.0199331957200938,0.01395573261695435,-0.10840645325907673,0.006923423083849116,0.02333214532776133,0.034115019945189354,-0.05472649048970677,0.01829232349570258,0.07513682555496988,-0.08883319172526716,0.003172857999526324,0.06740128506855414,-0.07207285400469969,-0.02179184084299726,-0.022729482114077958,0.04349143265599634,0.031067685814177088,0.004462114747262285,0.028723582636475346,0.01782350286016223,0.024504196916612205,0.14733520342818365,0.03856881598282267,0.05439151243230945,0.030716070337521828,0.01606542547688592,0.016299835794656096,-0.009719709477833273,-0.029175765852757756,-0.031168253553804235,0.04536671519815773,0.11299409187485306,0.05146138346018227,0.0824035454058453,0.017120271906851708,-0.029410176170527928,0.026379479458773596,-0.11719684017545827,-0.093990218716211,0.0004771393451693173,0.06880774697517517,0.011963244915907868],\"type\":\"scatter\"},{\"name\":\"Rendimiento medio\",\"x\":[0.0418,0.0178,0.046,-0.13390000000000002,0.0408,0.0203,0.0255,0.0556,0.048600000000000004,0.0029,0.031200000000000002,0.0665,0.0557,0.0143,0.0693,-0.0373,0.0493,-0.0235,0.016,0.0109,-0.0935,0.0049,0.0189,0.0281,-0.04769999999999999,0.0146,0.06309999999999999,-0.0768,0.0017000000000000001,0.0565,-0.0625,-0.0196,-0.0204,0.0361,0.0255,0.0028000000000000004,0.0235,0.014199999999999999,0.0199,0.1247,0.0319,0.0454,0.0252,0.0127,0.0129,-0.009300000000000001,-0.0259,-0.0276,0.0377,0.09539999999999998,0.0429,0.0693,0.013600000000000001,-0.026099999999999998,0.0215,-0.10099999999999999,-0.0812,-0.0006,0.057699999999999994,0.0092],\"y\":[0.0171756046860019,0.0171756046860019,0.0171756046860019,0.0171756046860019,0.0171756046860019,0.0171756046860019,0.0171756046860019,0.0171756046860019,0.0171756046860019,0.0171756046860019,0.0171756046860019,0.0171756046860019,0.0171756046860019,0.0171756046860019,0.0171756046860019,0.0171756046860019,0.0171756046860019,0.0171756046860019,0.0171756046860019,0.0171756046860019,0.0171756046860019,0.0171756046860019,0.0171756046860019,0.0171756046860019,0.0171756046860019,0.0171756046860019,0.0171756046860019,0.0171756046860019,0.0171756046860019,0.0171756046860019,0.0171756046860019,0.0171756046860019,0.0171756046860019,0.0171756046860019,0.0171756046860019,0.0171756046860019,0.0171756046860019,0.0171756046860019,0.0171756046860019,0.0171756046860019,0.0171756046860019,0.0171756046860019,0.0171756046860019,0.0171756046860019,0.0171756046860019,0.0171756046860019,0.0171756046860019,0.0171756046860019,0.0171756046860019,0.0171756046860019,0.0171756046860019,0.0171756046860019,0.0171756046860019,0.0171756046860019,0.0171756046860019,0.0171756046860019,0.0171756046860019,0.0171756046860019,0.0171756046860019,0.0171756046860019],\"type\":\"scatter\"}],                        {\"template\":{\"data\":{\"pie\":[{\"automargin\":true,\"type\":\"pie\"}]},\"layout\":{\"xaxis\":{\"showgrid\":true,\"title\":{\"standoff\":15}},\"yaxis\":{\"showgrid\":true,\"title\":{\"standoff\":15}}}},\"title\":{\"text\":\"Regresion lineal simple\"},\"yaxis\":{\"title\":{\"text\":\"Rendimiento del activo financiero\"}},\"xaxis\":{\"title\":{\"text\":\"Rendimiento del mercado\"}}},                        {\"responsive\": true}                    ).then(function(){\n",
              "                            \n",
              "var gd = document.getElementById('2d71de18-3066-4039-962f-ea4f32be9daf');\n",
              "var x = new MutationObserver(function (mutations, observer) {{\n",
              "        var display = window.getComputedStyle(gd).display;\n",
              "        if (!display || display === 'none') {{\n",
              "            console.log([gd, 'removed!']);\n",
              "            Plotly.purge(gd);\n",
              "            observer.disconnect();\n",
              "        }}\n",
              "}});\n",
              "\n",
              "// Listen for the removal of the full notebook cells\n",
              "var notebookContainer = gd.closest('#notebook-container');\n",
              "if (notebookContainer) {{\n",
              "    x.observe(notebookContainer, {childList: true});\n",
              "}}\n",
              "\n",
              "// Listen for the clearing of the current output cell\n",
              "var outputEl = gd.closest('.output');\n",
              "if (outputEl) {{\n",
              "    x.observe(outputEl, {childList: true});\n",
              "}}\n",
              "\n",
              "                        })                };                            </script>        </div>\n",
              "</body>\n",
              "</html>"
            ]
          },
          "metadata": {}
        }
      ]
    },
    {
      "cell_type": "markdown",
      "source": [
        "Podemos calcular las métricas anteriores (calculadas manualmente) usando el módulo `metrics` de `scikit-learn`:"
      ],
      "metadata": {
        "id": "HTBrxZEvGnS0"
      }
    },
    {
      "cell_type": "code",
      "source": [
        "from sklearn import metrics\n",
        "SMSE = round(metrics.mean_squared_error(y_test, prediction,squared=False),2) #Error cuadrático medio\n",
        "MAE = round(metrics.mean_absolute_error(y_test, prediction),2) #Error absoluto medio\n",
        "R2 = round(metrics.r2_score(y_test, prediction),4)\n",
        "print(\"\")\n",
        "print(\"SMSE: {}\".format(SMSE))\n",
        "print(\"MAE: {}\".format(MAE))\n",
        "print(\"R2: {}\".format(R2))"
      ],
      "metadata": {
        "id": "ewBKbAtaD3YP",
        "colab": {
          "base_uri": "https://localhost:8080/"
        },
        "outputId": "12dbdb41-6794-4797-a6b5-e3cac90f4509"
      },
      "execution_count": 28,
      "outputs": [
        {
          "output_type": "stream",
          "name": "stdout",
          "text": [
            "\n",
            "SMSE: 0.02\n",
            "MAE: 0.02\n",
            "R2: 0.8017\n"
          ]
        }
      ]
    },
    {
      "cell_type": "markdown",
      "source": [
        " # **<font color=\"DeepPink\">Conclusiones</font>**"
      ],
      "metadata": {
        "id": "AeFSFlMVY2kF"
      }
    },
    {
      "cell_type": "markdown",
      "source": [
        "<p align=\"justify\">\n",
        "👀 En este colab nosotros:<br><br>\n",
        "✅\n",
        "Estudiamos la correlación lineal entre variables. <br>\n",
        "✅ Vimos como entrenar un modelo de regresión lineal simple usando la biblioteca <code>Statsmodels</code>. <br>✅ Realizamos la predicción y evaluación, usando diferentes métricas, con un conjunto de prueba. <br>\n",
        "\n",
        "<p align=\"justify\">\n",
        "\n"
      ],
      "metadata": {
        "id": "hMlr5a9OY9xY"
      }
    },
    {
      "cell_type": "markdown",
      "source": [
        "<br>\n",
        "<br>\n",
        "<p align=\"center\"><b>\n",
        "💗\n",
        "<font color=\"DeepPink\">\n",
        "Hemos llegado al final de nuestro colab, a seguir codeando...\n",
        "</font>\n",
        "</p>\n",
        "<br>\n",
        "<p align=\"center\">\n",
        "<img src=\"https://github.com/cristiandarioortegayubro/BDS/blob/main/images/Logo%20BDS%20Horizontal%208.png?raw=true\">\n",
        "</p>\n",
        "\n",
        "---\n"
      ],
      "metadata": {
        "id": "wtgChAZSaUMQ"
      }
    }
  ]
}