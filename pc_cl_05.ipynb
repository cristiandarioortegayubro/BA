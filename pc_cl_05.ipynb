{
  "cells": [
    {
      "cell_type": "markdown",
      "metadata": {
        "id": "view-in-github",
        "colab_type": "text"
      },
      "source": [
        "<a href=\"https://colab.research.google.com/github/cristiandarioortegayubro/BA/blob/main/pc_cl_05.ipynb\" target=\"_parent\"><img src=\"https://colab.research.google.com/assets/colab-badge.svg\" alt=\"Open In Colab\"/></a>"
      ]
    },
    {
      "cell_type": "markdown",
      "id": "acddaa8a-3105-45e9-b94a-09ed3fdf1a99",
      "metadata": {
        "id": "acddaa8a-3105-45e9-b94a-09ed3fdf1a99"
      },
      "source": [
        "![logo](https://github.com/cristiandarioortegayubro/BA/blob/main/dba.png?raw=true)"
      ]
    },
    {
      "cell_type": "markdown",
      "source": [
        "![logo](https://github.com/cristiandarioortegayubro/BA/blob/main/PyCaret.png?raw=true)"
      ],
      "metadata": {
        "id": "TFz9EwKUvQoc"
      },
      "id": "TFz9EwKUvQoc"
    },
    {
      "cell_type": "markdown",
      "source": [
        "https://pycaret.org"
      ],
      "metadata": {
        "id": "ksqUwVd-JqtB"
      },
      "id": "ksqUwVd-JqtB"
    },
    {
      "cell_type": "markdown",
      "source": [
        "# **Clasificación**"
      ],
      "metadata": {
        "id": "nNrnRppTvPMC"
      },
      "id": "nNrnRppTvPMC"
    },
    {
      "cell_type": "markdown",
      "source": [
        "## **Instalando módulos necesarios**"
      ],
      "metadata": {
        "id": "abJvKO8mvVZ0"
      },
      "id": "abJvKO8mvVZ0"
    },
    {
      "cell_type": "markdown",
      "source": [
        "### **PyCaret**"
      ],
      "metadata": {
        "id": "XT8IhSy4F8Ss"
      },
      "id": "XT8IhSy4F8Ss"
    },
    {
      "cell_type": "code",
      "source": [
        "!pip install pycaret[full]"
      ],
      "metadata": {
        "colab": {
          "base_uri": "https://localhost:8080/"
        },
        "id": "Yw-UIm7SDm56",
        "outputId": "4b05ec03-8e1e-4100-d580-ee809048e397"
      },
      "id": "Yw-UIm7SDm56",
      "execution_count": 1,
      "outputs": [
        {
          "output_type": "stream",
          "name": "stdout",
          "text": [
            "Looking in indexes: https://pypi.org/simple, https://us-python.pkg.dev/colab-wheels/public/simple/\n",
            "Requirement already satisfied: pycaret[full] in /usr/local/lib/python3.7/dist-packages (3.0.0rc1)\n",
            "Requirement already satisfied: joblib>=1.1.0 in /usr/local/lib/python3.7/dist-packages (from pycaret[full]) (1.1.0)\n",
            "Requirement already satisfied: lightgbm>=3.0.0 in /usr/local/lib/python3.7/dist-packages (from pycaret[full]) (3.3.2)\n",
            "Requirement already satisfied: pandas<1.5.0,>=1.3.0 in /usr/local/lib/python3.7/dist-packages (from pycaret[full]) (1.3.5)\n",
            "Requirement already satisfied: scikit-learn>=1.0 in /usr/local/lib/python3.7/dist-packages (from pycaret[full]) (1.0.2)\n",
            "Requirement already satisfied: pmdarima>=1.8.0 in /usr/local/lib/python3.7/dist-packages (from pycaret[full]) (2.0.1)\n",
            "Requirement already satisfied: pyod>=0.9.8 in /usr/local/lib/python3.7/dist-packages (from pycaret[full]) (1.0.4)\n",
            "Requirement already satisfied: sktime>=0.11.4 in /usr/local/lib/python3.7/dist-packages (from pycaret[full]) (0.11.4)\n",
            "Requirement already satisfied: statsmodels>=0.12.1 in /usr/local/lib/python3.7/dist-packages (from pycaret[full]) (0.13.2)\n",
            "Requirement already satisfied: ipywidgets>=7.6.5 in /usr/local/lib/python3.7/dist-packages (from pycaret[full]) (7.7.1)\n",
            "Requirement already satisfied: schemdraw>=0.14 in /usr/local/lib/python3.7/dist-packages (from pycaret[full]) (0.15)\n",
            "Requirement already satisfied: scikit-plot>=0.3.7 in /usr/local/lib/python3.7/dist-packages (from pycaret[full]) (0.3.7)\n",
            "Requirement already satisfied: scipy<1.9.0 in /usr/local/lib/python3.7/dist-packages (from pycaret[full]) (1.7.3)\n",
            "Requirement already satisfied: numpy~=1.21 in /usr/local/lib/python3.7/dist-packages (from pycaret[full]) (1.21.6)\n",
            "Requirement already satisfied: yellowbrick>=1.4 in /usr/local/lib/python3.7/dist-packages (from pycaret[full]) (1.5)\n",
            "Requirement already satisfied: kaleido>=0.2.1 in /usr/local/lib/python3.7/dist-packages (from pycaret[full]) (0.2.1)\n",
            "Requirement already satisfied: matplotlib>=3.3.0 in /usr/local/lib/python3.7/dist-packages (from pycaret[full]) (3.5.3)\n",
            "Requirement already satisfied: numba~=0.55.0 in /usr/local/lib/python3.7/dist-packages (from pycaret[full]) (0.55.2)\n",
            "Requirement already satisfied: ipython>=5.5.0 in /usr/local/lib/python3.7/dist-packages (from pycaret[full]) (7.9.0)\n",
            "Requirement already satisfied: psutil>=5.9.0 in /usr/local/lib/python3.7/dist-packages (from pycaret[full]) (5.9.1)\n",
            "Requirement already satisfied: tqdm in /usr/local/lib/python3.7/dist-packages (from pycaret[full]) (4.64.0)\n",
            "Requirement already satisfied: requests>=2.27.1 in /usr/local/lib/python3.7/dist-packages (from pycaret[full]) (2.28.1)\n",
            "Requirement already satisfied: category-encoders>=2.4.0 in /usr/local/lib/python3.7/dist-packages (from pycaret[full]) (2.5.0)\n",
            "Requirement already satisfied: plotly>=5.0.0 in /usr/local/lib/python3.7/dist-packages (from pycaret[full]) (5.5.0)\n",
            "Requirement already satisfied: tbats>=1.1.0 in /usr/local/lib/python3.7/dist-packages (from pycaret[full]) (1.1.0)\n",
            "Requirement already satisfied: jinja2>=1.2 in /usr/local/lib/python3.7/dist-packages (from pycaret[full]) (3.1.2)\n",
            "Requirement already satisfied: imbalanced-learn>=0.8.1 in /usr/local/lib/python3.7/dist-packages (from pycaret[full]) (0.8.1)\n",
            "Requirement already satisfied: umap-learn>=0.5.2 in /usr/local/lib/python3.7/dist-packages (from pycaret[full]) (0.5.3)\n",
            "Requirement already satisfied: explainerdashboard>=0.3.8 in /usr/local/lib/python3.7/dist-packages (from pycaret[full]) (0.3.8.2)\n",
            "Requirement already satisfied: uvicorn>=0.17.6 in /usr/local/lib/python3.7/dist-packages (from pycaret[full]) (0.18.3)\n",
            "Requirement already satisfied: mlflow>=1.24.0 in /usr/local/lib/python3.7/dist-packages (from pycaret[full]) (1.28.0)\n",
            "Requirement already satisfied: flask>=2.0.3 in /usr/local/lib/python3.7/dist-packages (from pycaret[full]) (2.1.3)\n",
            "Requirement already satisfied: protobuf<4.0.0 in /usr/local/lib/python3.7/dist-packages (from pycaret[full]) (3.17.3)\n",
            "Requirement already satisfied: autoviz>=0.1.36 in /usr/local/lib/python3.7/dist-packages (from pycaret[full]) (0.1.43)\n",
            "Requirement already satisfied: evidently>=0.1.45.dev0 in /usr/local/lib/python3.7/dist-packages (from pycaret[full]) (0.1.56.dev0)\n",
            "Requirement already satisfied: shap>=0.38.0 in /usr/local/lib/python3.7/dist-packages (from pycaret[full]) (0.41.0)\n",
            "Requirement already satisfied: gradio>=2.8.10 in /usr/local/lib/python3.7/dist-packages (from pycaret[full]) (3.1.7)\n",
            "Requirement already satisfied: m2cgen>=0.9.0 in /usr/local/lib/python3.7/dist-packages (from pycaret[full]) (0.10.0)\n",
            "Requirement already satisfied: tune-sklearn>=0.2.1 in /usr/local/lib/python3.7/dist-packages (from pycaret[full]) (0.4.3)\n",
            "Requirement already satisfied: fugue>=0.6.6 in /usr/local/lib/python3.7/dist-packages (from pycaret[full]) (0.7.2)\n",
            "Requirement already satisfied: xgboost>=1.1.0 in /usr/local/lib/python3.7/dist-packages (from pycaret[full]) (1.6.2)\n",
            "Requirement already satisfied: statsforecast>=0.5.5 in /usr/local/lib/python3.7/dist-packages (from pycaret[full]) (1.0.0)\n",
            "Requirement already satisfied: interpret>=0.2.7 in /usr/local/lib/python3.7/dist-packages (from pycaret[full]) (0.2.7)\n",
            "Requirement already satisfied: fairlearn>=0.7.0 in /usr/local/lib/python3.7/dist-packages (from pycaret[full]) (0.7.0)\n",
            "Requirement already satisfied: catboost>=0.23.2 in /usr/local/lib/python3.7/dist-packages (from pycaret[full]) (1.0.6)\n",
            "Requirement already satisfied: pandas-profiling>=3.1.0 in /usr/local/lib/python3.7/dist-packages (from pycaret[full]) (3.2.0)\n",
            "Requirement already satisfied: kmodes>=0.11.1 in /usr/local/lib/python3.7/dist-packages (from pycaret[full]) (0.12.1)\n",
            "Requirement already satisfied: scikit-optimize>=0.9.0 in /usr/local/lib/python3.7/dist-packages (from pycaret[full]) (0.9.0)\n",
            "Requirement already satisfied: mlxtend>=0.19.0 in /usr/local/lib/python3.7/dist-packages (from pycaret[full]) (0.20.0)\n",
            "Requirement already satisfied: ray[tune]>=1.0.0 in /usr/local/lib/python3.7/dist-packages (from pycaret[full]) (2.0.0)\n",
            "Requirement already satisfied: hyperopt>=0.2.7 in /usr/local/lib/python3.7/dist-packages (from pycaret[full]) (0.2.7)\n",
            "Requirement already satisfied: fastapi>=0.75.0 in /usr/local/lib/python3.7/dist-packages (from pycaret[full]) (0.81.0)\n",
            "Requirement already satisfied: optuna>=2.2.0 in /usr/local/lib/python3.7/dist-packages (from pycaret[full]) (3.0.0)\n",
            "Requirement already satisfied: panel~=0.12.6 in /usr/local/lib/python3.7/dist-packages (from autoviz>=0.1.36->pycaret[full]) (0.12.7)\n",
            "Requirement already satisfied: holoviews>=1.14.6 in /usr/local/lib/python3.7/dist-packages (from autoviz>=0.1.36->pycaret[full]) (1.14.9)\n",
            "Requirement already satisfied: fsspec>=0.8.3 in /usr/local/lib/python3.7/dist-packages (from autoviz>=0.1.36->pycaret[full]) (2022.7.1)\n",
            "Requirement already satisfied: jupyter in /usr/local/lib/python3.7/dist-packages (from autoviz>=0.1.36->pycaret[full]) (1.0.0)\n",
            "Requirement already satisfied: nltk in /usr/local/lib/python3.7/dist-packages (from autoviz>=0.1.36->pycaret[full]) (3.7)\n",
            "Requirement already satisfied: hvplot>=0.7.3 in /usr/local/lib/python3.7/dist-packages (from autoviz>=0.1.36->pycaret[full]) (0.8.1)\n",
            "Requirement already satisfied: wordcloud in /usr/local/lib/python3.7/dist-packages (from autoviz>=0.1.36->pycaret[full]) (1.8.2.2)\n",
            "Requirement already satisfied: typing-extensions>=4.1.1 in /usr/local/lib/python3.7/dist-packages (from autoviz>=0.1.36->pycaret[full]) (4.1.1)\n",
            "Requirement already satisfied: emoji in /usr/local/lib/python3.7/dist-packages (from autoviz>=0.1.36->pycaret[full]) (2.0.0)\n",
            "Requirement already satisfied: xlrd in /usr/local/lib/python3.7/dist-packages (from autoviz>=0.1.36->pycaret[full]) (1.1.0)\n",
            "Requirement already satisfied: textblob in /usr/local/lib/python3.7/dist-packages (from autoviz>=0.1.36->pycaret[full]) (0.15.3)\n",
            "Requirement already satisfied: seaborn>=0.11.1 in /usr/local/lib/python3.7/dist-packages (from autoviz>=0.1.36->pycaret[full]) (0.11.2)\n",
            "Requirement already satisfied: pyamg in /usr/local/lib/python3.7/dist-packages (from autoviz>=0.1.36->pycaret[full]) (4.2.3)\n",
            "Requirement already satisfied: bokeh>=2.4.2 in /usr/local/lib/python3.7/dist-packages (from autoviz>=0.1.36->pycaret[full]) (2.4.3)\n",
            "Requirement already satisfied: pillow>=7.1.0 in /usr/local/lib/python3.7/dist-packages (from bokeh>=2.4.2->autoviz>=0.1.36->pycaret[full]) (7.1.2)\n",
            "Requirement already satisfied: packaging>=16.8 in /usr/local/lib/python3.7/dist-packages (from bokeh>=2.4.2->autoviz>=0.1.36->pycaret[full]) (21.3)\n",
            "Requirement already satisfied: PyYAML>=3.10 in /usr/local/lib/python3.7/dist-packages (from bokeh>=2.4.2->autoviz>=0.1.36->pycaret[full]) (5.4.1)\n",
            "Requirement already satisfied: tornado>=5.1 in /usr/local/lib/python3.7/dist-packages (from bokeh>=2.4.2->autoviz>=0.1.36->pycaret[full]) (5.1.1)\n",
            "Requirement already satisfied: six in /usr/local/lib/python3.7/dist-packages (from catboost>=0.23.2->pycaret[full]) (1.15.0)\n",
            "Requirement already satisfied: graphviz in /usr/local/lib/python3.7/dist-packages (from catboost>=0.23.2->pycaret[full]) (0.20.1)\n",
            "Requirement already satisfied: patsy>=0.5.1 in /usr/local/lib/python3.7/dist-packages (from category-encoders>=2.4.0->pycaret[full]) (0.5.2)\n",
            "Requirement already satisfied: dataclasses>=0.6 in /usr/local/lib/python3.7/dist-packages (from evidently>=0.1.45.dev0->pycaret[full]) (0.6)\n",
            "Requirement already satisfied: click in /usr/local/lib/python3.7/dist-packages (from explainerdashboard>=0.3.8->pycaret[full]) (8.0.4)\n",
            "Requirement already satisfied: flask-simplelogin in /usr/local/lib/python3.7/dist-packages (from explainerdashboard>=0.3.8->pycaret[full]) (0.1.1)\n",
            "Requirement already satisfied: dash-bootstrap-components<1 in /usr/local/lib/python3.7/dist-packages (from explainerdashboard>=0.3.8->pycaret[full]) (0.13.1)\n",
            "Requirement already satisfied: dtreeviz>=1.3 in /usr/local/lib/python3.7/dist-packages (from explainerdashboard>=0.3.8->pycaret[full]) (1.3.7)\n",
            "Requirement already satisfied: oyaml in /usr/local/lib/python3.7/dist-packages (from explainerdashboard>=0.3.8->pycaret[full]) (1.0)\n",
            "Requirement already satisfied: dash-auth in /usr/local/lib/python3.7/dist-packages (from explainerdashboard>=0.3.8->pycaret[full]) (1.4.1)\n",
            "Requirement already satisfied: waitress in /usr/local/lib/python3.7/dist-packages (from explainerdashboard>=0.3.8->pycaret[full]) (2.1.2)\n",
            "Requirement already satisfied: Werkzeug<=2.0.3 in /usr/local/lib/python3.7/dist-packages (from explainerdashboard>=0.3.8->pycaret[full]) (2.0.3)\n",
            "Requirement already satisfied: dash>=2 in /usr/local/lib/python3.7/dist-packages (from explainerdashboard>=0.3.8->pycaret[full]) (2.6.1)\n",
            "Requirement already satisfied: jupyter-dash in /usr/local/lib/python3.7/dist-packages (from explainerdashboard>=0.3.8->pycaret[full]) (0.4.2)\n",
            "Requirement already satisfied: dash-table==5.0.0 in /usr/local/lib/python3.7/dist-packages (from dash>=2->explainerdashboard>=0.3.8->pycaret[full]) (5.0.0)\n",
            "Requirement already satisfied: dash-html-components==2.0.0 in /usr/local/lib/python3.7/dist-packages (from dash>=2->explainerdashboard>=0.3.8->pycaret[full]) (2.0.0)\n",
            "Requirement already satisfied: dash-core-components==2.0.0 in /usr/local/lib/python3.7/dist-packages (from dash>=2->explainerdashboard>=0.3.8->pycaret[full]) (2.0.0)\n",
            "Requirement already satisfied: flask-compress in /usr/local/lib/python3.7/dist-packages (from dash>=2->explainerdashboard>=0.3.8->pycaret[full]) (1.12)\n",
            "Requirement already satisfied: pytest in /usr/local/lib/python3.7/dist-packages (from dtreeviz>=1.3->explainerdashboard>=0.3.8->pycaret[full]) (3.6.4)\n",
            "Requirement already satisfied: colour in /usr/local/lib/python3.7/dist-packages (from dtreeviz>=1.3->explainerdashboard>=0.3.8->pycaret[full]) (0.1.5)\n",
            "Requirement already satisfied: starlette==0.19.1 in /usr/local/lib/python3.7/dist-packages (from fastapi>=0.75.0->pycaret[full]) (0.19.1)\n",
            "Requirement already satisfied: pydantic!=1.7,!=1.7.1,!=1.7.2,!=1.7.3,!=1.8,!=1.8.1,<2.0.0,>=1.6.2 in /usr/local/lib/python3.7/dist-packages (from fastapi>=0.75.0->pycaret[full]) (1.9.2)\n",
            "Requirement already satisfied: anyio<5,>=3.4.0 in /usr/local/lib/python3.7/dist-packages (from starlette==0.19.1->fastapi>=0.75.0->pycaret[full]) (3.6.1)\n",
            "Requirement already satisfied: sniffio>=1.1 in /usr/local/lib/python3.7/dist-packages (from anyio<5,>=3.4.0->starlette==0.19.1->fastapi>=0.75.0->pycaret[full]) (1.2.0)\n",
            "Requirement already satisfied: idna>=2.8 in /usr/local/lib/python3.7/dist-packages (from anyio<5,>=3.4.0->starlette==0.19.1->fastapi>=0.75.0->pycaret[full]) (2.10)\n",
            "Requirement already satisfied: itsdangerous>=2.0 in /usr/local/lib/python3.7/dist-packages (from flask>=2.0.3->pycaret[full]) (2.1.2)\n",
            "Requirement already satisfied: importlib-metadata>=3.6.0 in /usr/local/lib/python3.7/dist-packages (from flask>=2.0.3->pycaret[full]) (4.12.0)\n",
            "Requirement already satisfied: pyarrow>=0.15.1 in /usr/local/lib/python3.7/dist-packages (from fugue>=0.6.6->pycaret[full]) (6.0.1)\n",
            "Requirement already satisfied: qpd>=0.3.1 in /usr/local/lib/python3.7/dist-packages (from fugue>=0.6.6->pycaret[full]) (0.3.3)\n",
            "Requirement already satisfied: sqlalchemy in /usr/local/lib/python3.7/dist-packages (from fugue>=0.6.6->pycaret[full]) (1.4.40)\n",
            "Requirement already satisfied: fugue-sql-antlr>=0.1.0 in /usr/local/lib/python3.7/dist-packages (from fugue>=0.6.6->pycaret[full]) (0.1.0)\n",
            "Requirement already satisfied: triad>=0.6.6 in /usr/local/lib/python3.7/dist-packages (from fugue>=0.6.6->pycaret[full]) (0.6.7)\n",
            "Requirement already satisfied: adagio>=0.2.4 in /usr/local/lib/python3.7/dist-packages (from fugue>=0.6.6->pycaret[full]) (0.2.4)\n",
            "Requirement already satisfied: antlr4-python3-runtime>=4.10 in /usr/local/lib/python3.7/dist-packages (from fugue-sql-antlr>=0.1.0->fugue>=0.6.6->pycaret[full]) (4.10)\n",
            "Requirement already satisfied: pycryptodome in /usr/local/lib/python3.7/dist-packages (from gradio>=2.8.10->pycaret[full]) (3.15.0)\n",
            "Requirement already satisfied: websockets in /usr/local/lib/python3.7/dist-packages (from gradio>=2.8.10->pycaret[full]) (10.3)\n",
            "Requirement already satisfied: h11<0.13,>=0.11 in /usr/local/lib/python3.7/dist-packages (from gradio>=2.8.10->pycaret[full]) (0.12.0)\n",
            "Requirement already satisfied: orjson in /usr/local/lib/python3.7/dist-packages (from gradio>=2.8.10->pycaret[full]) (3.8.0)\n",
            "Requirement already satisfied: paramiko in /usr/local/lib/python3.7/dist-packages (from gradio>=2.8.10->pycaret[full]) (2.11.0)\n",
            "Requirement already satisfied: httpx in /usr/local/lib/python3.7/dist-packages (from gradio>=2.8.10->pycaret[full]) (0.23.0)\n",
            "Requirement already satisfied: markdown-it-py[linkify,plugins] in /usr/local/lib/python3.7/dist-packages (from gradio>=2.8.10->pycaret[full]) (2.1.0)\n",
            "Requirement already satisfied: aiohttp in /usr/local/lib/python3.7/dist-packages (from gradio>=2.8.10->pycaret[full]) (3.8.1)\n",
            "Requirement already satisfied: python-multipart in /usr/local/lib/python3.7/dist-packages (from gradio>=2.8.10->pycaret[full]) (0.0.5)\n",
            "Requirement already satisfied: analytics-python in /usr/local/lib/python3.7/dist-packages (from gradio>=2.8.10->pycaret[full]) (1.4.0)\n",
            "Requirement already satisfied: ffmpy in /usr/local/lib/python3.7/dist-packages (from gradio>=2.8.10->pycaret[full]) (0.3.0)\n",
            "Requirement already satisfied: pydub in /usr/local/lib/python3.7/dist-packages (from gradio>=2.8.10->pycaret[full]) (0.25.1)\n",
            "Requirement already satisfied: colorcet in /usr/local/lib/python3.7/dist-packages (from holoviews>=1.14.6->autoviz>=0.1.36->pycaret[full]) (3.0.0)\n",
            "Requirement already satisfied: pyviz-comms>=0.7.4 in /usr/local/lib/python3.7/dist-packages (from holoviews>=1.14.6->autoviz>=0.1.36->pycaret[full]) (2.2.1)\n",
            "Requirement already satisfied: param<2.0,>=1.9.3 in /usr/local/lib/python3.7/dist-packages (from holoviews>=1.14.6->autoviz>=0.1.36->pycaret[full]) (1.12.2)\n",
            "Requirement already satisfied: pyct>=0.4.4 in /usr/local/lib/python3.7/dist-packages (from colorcet->holoviews>=1.14.6->autoviz>=0.1.36->pycaret[full]) (0.4.8)\n",
            "Requirement already satisfied: future in /usr/local/lib/python3.7/dist-packages (from hyperopt>=0.2.7->pycaret[full]) (0.16.0)\n",
            "Requirement already satisfied: cloudpickle in /usr/local/lib/python3.7/dist-packages (from hyperopt>=0.2.7->pycaret[full]) (1.5.0)\n",
            "Requirement already satisfied: py4j in /usr/local/lib/python3.7/dist-packages (from hyperopt>=0.2.7->pycaret[full]) (0.10.9.7)\n",
            "Requirement already satisfied: networkx>=2.2 in /usr/local/lib/python3.7/dist-packages (from hyperopt>=0.2.7->pycaret[full]) (2.6.3)\n",
            "Requirement already satisfied: zipp>=0.5 in /usr/local/lib/python3.7/dist-packages (from importlib-metadata>=3.6.0->flask>=2.0.3->pycaret[full]) (3.8.1)\n",
            "Requirement already satisfied: interpret-core[dash,debug,decisiontree,ebm,lime,linear,notebook,plotly,required,sensitivity,shap,skoperules,treeinterpreter]>=0.2.7 in /usr/local/lib/python3.7/dist-packages (from interpret>=0.2.7->pycaret[full]) (0.2.7)\n",
            "Requirement already satisfied: dash-cytoscape>=0.1.1 in /usr/local/lib/python3.7/dist-packages (from interpret-core[dash,debug,decisiontree,ebm,lime,linear,notebook,plotly,required,sensitivity,shap,skoperules,treeinterpreter]>=0.2.7->interpret>=0.2.7->pycaret[full]) (0.3.0)\n",
            "Requirement already satisfied: gevent>=1.3.6 in /usr/local/lib/python3.7/dist-packages (from interpret-core[dash,debug,decisiontree,ebm,lime,linear,notebook,plotly,required,sensitivity,shap,skoperules,treeinterpreter]>=0.2.7->interpret>=0.2.7->pycaret[full]) (21.12.0)\n",
            "Requirement already satisfied: ipykernel>=5.1.0 in /usr/local/lib/python3.7/dist-packages (from interpret-core[dash,debug,decisiontree,ebm,lime,linear,notebook,plotly,required,sensitivity,shap,skoperules,treeinterpreter]>=0.2.7->interpret>=0.2.7->pycaret[full]) (5.3.4)\n",
            "Requirement already satisfied: SALib>=1.3.3 in /usr/local/lib/python3.7/dist-packages (from interpret-core[dash,debug,decisiontree,ebm,lime,linear,notebook,plotly,required,sensitivity,shap,skoperules,treeinterpreter]>=0.2.7->interpret>=0.2.7->pycaret[full]) (1.4.5)\n",
            "Requirement already satisfied: skope-rules>=1.0.1 in /usr/local/lib/python3.7/dist-packages (from interpret-core[dash,debug,decisiontree,ebm,lime,linear,notebook,plotly,required,sensitivity,shap,skoperules,treeinterpreter]>=0.2.7->interpret>=0.2.7->pycaret[full]) (1.0.1)\n",
            "Requirement already satisfied: treeinterpreter>=0.2.2 in /usr/local/lib/python3.7/dist-packages (from interpret-core[dash,debug,decisiontree,ebm,lime,linear,notebook,plotly,required,sensitivity,shap,skoperules,treeinterpreter]>=0.2.7->interpret>=0.2.7->pycaret[full]) (0.2.3)\n",
            "Requirement already satisfied: lime>=0.1.1.33 in /usr/local/lib/python3.7/dist-packages (from interpret-core[dash,debug,decisiontree,ebm,lime,linear,notebook,plotly,required,sensitivity,shap,skoperules,treeinterpreter]>=0.2.7->interpret>=0.2.7->pycaret[full]) (0.2.0.1)\n",
            "Requirement already satisfied: dill>=0.2.5 in /usr/local/lib/python3.7/dist-packages (from interpret-core[dash,debug,decisiontree,ebm,lime,linear,notebook,plotly,required,sensitivity,shap,skoperules,treeinterpreter]>=0.2.7->interpret>=0.2.7->pycaret[full]) (0.3.5.1)\n",
            "Requirement already satisfied: greenlet<2.0,>=1.1.0 in /usr/local/lib/python3.7/dist-packages (from gevent>=1.3.6->interpret-core[dash,debug,decisiontree,ebm,lime,linear,notebook,plotly,required,sensitivity,shap,skoperules,treeinterpreter]>=0.2.7->interpret>=0.2.7->pycaret[full]) (1.1.3)\n",
            "Requirement already satisfied: zope.event in /usr/local/lib/python3.7/dist-packages (from gevent>=1.3.6->interpret-core[dash,debug,decisiontree,ebm,lime,linear,notebook,plotly,required,sensitivity,shap,skoperules,treeinterpreter]>=0.2.7->interpret>=0.2.7->pycaret[full]) (4.5.0)\n",
            "Requirement already satisfied: setuptools in /usr/local/lib/python3.7/dist-packages (from gevent>=1.3.6->interpret-core[dash,debug,decisiontree,ebm,lime,linear,notebook,plotly,required,sensitivity,shap,skoperules,treeinterpreter]>=0.2.7->interpret>=0.2.7->pycaret[full]) (57.4.0)\n",
            "Requirement already satisfied: zope.interface in /usr/local/lib/python3.7/dist-packages (from gevent>=1.3.6->interpret-core[dash,debug,decisiontree,ebm,lime,linear,notebook,plotly,required,sensitivity,shap,skoperules,treeinterpreter]>=0.2.7->interpret>=0.2.7->pycaret[full]) (5.4.0)\n",
            "Requirement already satisfied: jupyter-client in /usr/local/lib/python3.7/dist-packages (from ipykernel>=5.1.0->interpret-core[dash,debug,decisiontree,ebm,lime,linear,notebook,plotly,required,sensitivity,shap,skoperules,treeinterpreter]>=0.2.7->interpret>=0.2.7->pycaret[full]) (6.1.12)\n",
            "Requirement already satisfied: traitlets>=4.1.0 in /usr/local/lib/python3.7/dist-packages (from ipykernel>=5.1.0->interpret-core[dash,debug,decisiontree,ebm,lime,linear,notebook,plotly,required,sensitivity,shap,skoperules,treeinterpreter]>=0.2.7->interpret>=0.2.7->pycaret[full]) (5.1.1)\n",
            "Requirement already satisfied: pygments in /usr/local/lib/python3.7/dist-packages (from ipython>=5.5.0->pycaret[full]) (2.6.1)\n",
            "Requirement already satisfied: jedi>=0.10 in /usr/local/lib/python3.7/dist-packages (from ipython>=5.5.0->pycaret[full]) (0.18.1)\n",
            "Requirement already satisfied: backcall in /usr/local/lib/python3.7/dist-packages (from ipython>=5.5.0->pycaret[full]) (0.2.0)\n",
            "Requirement already satisfied: prompt-toolkit<2.1.0,>=2.0.0 in /usr/local/lib/python3.7/dist-packages (from ipython>=5.5.0->pycaret[full]) (2.0.10)\n",
            "Requirement already satisfied: pickleshare in /usr/local/lib/python3.7/dist-packages (from ipython>=5.5.0->pycaret[full]) (0.7.5)\n",
            "Requirement already satisfied: decorator in /usr/local/lib/python3.7/dist-packages (from ipython>=5.5.0->pycaret[full]) (4.4.2)\n",
            "Requirement already satisfied: pexpect in /usr/local/lib/python3.7/dist-packages (from ipython>=5.5.0->pycaret[full]) (4.8.0)\n",
            "Requirement already satisfied: ipython-genutils~=0.2.0 in /usr/local/lib/python3.7/dist-packages (from ipywidgets>=7.6.5->pycaret[full]) (0.2.0)\n",
            "Requirement already satisfied: widgetsnbextension~=3.6.0 in /usr/local/lib/python3.7/dist-packages (from ipywidgets>=7.6.5->pycaret[full]) (3.6.1)\n",
            "Requirement already satisfied: jupyterlab-widgets>=1.0.0 in /usr/local/lib/python3.7/dist-packages (from ipywidgets>=7.6.5->pycaret[full]) (3.0.2)\n",
            "Requirement already satisfied: parso<0.9.0,>=0.8.0 in /usr/local/lib/python3.7/dist-packages (from jedi>=0.10->ipython>=5.5.0->pycaret[full]) (0.8.3)\n",
            "Requirement already satisfied: MarkupSafe>=2.0 in /usr/local/lib/python3.7/dist-packages (from jinja2>=1.2->pycaret[full]) (2.1.1)\n",
            "Requirement already satisfied: wheel in /usr/local/lib/python3.7/dist-packages (from lightgbm>=3.0.0->pycaret[full]) (0.37.1)\n",
            "Requirement already satisfied: scikit-image>=0.12 in /usr/local/lib/python3.7/dist-packages (from lime>=0.1.1.33->interpret-core[dash,debug,decisiontree,ebm,lime,linear,notebook,plotly,required,sensitivity,shap,skoperules,treeinterpreter]>=0.2.7->interpret>=0.2.7->pycaret[full]) (0.18.3)\n",
            "Requirement already satisfied: fonttools>=4.22.0 in /usr/local/lib/python3.7/dist-packages (from matplotlib>=3.3.0->pycaret[full]) (4.37.1)\n",
            "Requirement already satisfied: python-dateutil>=2.7 in /usr/local/lib/python3.7/dist-packages (from matplotlib>=3.3.0->pycaret[full]) (2.8.2)\n",
            "Requirement already satisfied: kiwisolver>=1.0.1 in /usr/local/lib/python3.7/dist-packages (from matplotlib>=3.3.0->pycaret[full]) (1.4.4)\n",
            "Requirement already satisfied: cycler>=0.10 in /usr/local/lib/python3.7/dist-packages (from matplotlib>=3.3.0->pycaret[full]) (0.11.0)\n",
            "Requirement already satisfied: pyparsing>=2.2.1 in /usr/local/lib/python3.7/dist-packages (from matplotlib>=3.3.0->pycaret[full]) (3.0.9)\n",
            "Requirement already satisfied: pytz<2023 in /usr/local/lib/python3.7/dist-packages (from mlflow>=1.24.0->pycaret[full]) (2022.2.1)\n",
            "Requirement already satisfied: databricks-cli<1,>=0.8.7 in /usr/local/lib/python3.7/dist-packages (from mlflow>=1.24.0->pycaret[full]) (0.17.3)\n",
            "Requirement already satisfied: entrypoints<1 in /usr/local/lib/python3.7/dist-packages (from mlflow>=1.24.0->pycaret[full]) (0.4)\n",
            "Requirement already satisfied: docker<6,>=4.0.0 in /usr/local/lib/python3.7/dist-packages (from mlflow>=1.24.0->pycaret[full]) (5.0.3)\n",
            "Requirement already satisfied: sqlparse<1,>=0.4.0 in /usr/local/lib/python3.7/dist-packages (from mlflow>=1.24.0->pycaret[full]) (0.4.2)\n",
            "Requirement already satisfied: gunicorn<21 in /usr/local/lib/python3.7/dist-packages (from mlflow>=1.24.0->pycaret[full]) (20.1.0)\n",
            "Requirement already satisfied: alembic<2 in /usr/local/lib/python3.7/dist-packages (from mlflow>=1.24.0->pycaret[full]) (1.8.1)\n",
            "Requirement already satisfied: querystring-parser<2 in /usr/local/lib/python3.7/dist-packages (from mlflow>=1.24.0->pycaret[full]) (1.2.4)\n",
            "Requirement already satisfied: gitpython<4,>=2.1.0 in /usr/local/lib/python3.7/dist-packages (from mlflow>=1.24.0->pycaret[full]) (3.1.27)\n",
            "Requirement already satisfied: prometheus-flask-exporter<1 in /usr/local/lib/python3.7/dist-packages (from mlflow>=1.24.0->pycaret[full]) (0.20.3)\n",
            "Requirement already satisfied: Mako in /usr/local/lib/python3.7/dist-packages (from alembic<2->mlflow>=1.24.0->pycaret[full]) (1.2.2)\n",
            "Requirement already satisfied: importlib-resources in /usr/local/lib/python3.7/dist-packages (from alembic<2->mlflow>=1.24.0->pycaret[full]) (5.9.0)\n",
            "Requirement already satisfied: oauthlib>=3.1.0 in /usr/local/lib/python3.7/dist-packages (from databricks-cli<1,>=0.8.7->mlflow>=1.24.0->pycaret[full]) (3.2.0)\n",
            "Requirement already satisfied: tabulate>=0.7.7 in /usr/local/lib/python3.7/dist-packages (from databricks-cli<1,>=0.8.7->mlflow>=1.24.0->pycaret[full]) (0.8.10)\n",
            "Requirement already satisfied: pyjwt>=1.7.0 in /usr/local/lib/python3.7/dist-packages (from databricks-cli<1,>=0.8.7->mlflow>=1.24.0->pycaret[full]) (2.4.0)\n",
            "Requirement already satisfied: websocket-client>=0.32.0 in /usr/local/lib/python3.7/dist-packages (from docker<6,>=4.0.0->mlflow>=1.24.0->pycaret[full]) (1.4.0)\n",
            "Requirement already satisfied: gitdb<5,>=4.0.1 in /usr/local/lib/python3.7/dist-packages (from gitpython<4,>=2.1.0->mlflow>=1.24.0->pycaret[full]) (4.0.9)\n",
            "Requirement already satisfied: smmap<6,>=3.0.1 in /usr/local/lib/python3.7/dist-packages (from gitdb<5,>=4.0.1->gitpython<4,>=2.1.0->mlflow>=1.24.0->pycaret[full]) (5.0.0)\n",
            "Requirement already satisfied: llvmlite<0.39,>=0.38.0rc1 in /usr/local/lib/python3.7/dist-packages (from numba~=0.55.0->pycaret[full]) (0.38.1)\n",
            "Requirement already satisfied: cmaes>=0.8.2 in /usr/local/lib/python3.7/dist-packages (from optuna>=2.2.0->pycaret[full]) (0.8.2)\n",
            "Requirement already satisfied: cliff in /usr/local/lib/python3.7/dist-packages (from optuna>=2.2.0->pycaret[full]) (3.10.1)\n",
            "Requirement already satisfied: colorlog in /usr/local/lib/python3.7/dist-packages (from optuna>=2.2.0->pycaret[full]) (6.7.0)\n",
            "Requirement already satisfied: missingno>=0.4.2 in /usr/local/lib/python3.7/dist-packages (from pandas-profiling>=3.1.0->pycaret[full]) (0.5.1)\n",
            "Requirement already satisfied: htmlmin>=0.1.12 in /usr/local/lib/python3.7/dist-packages (from pandas-profiling>=3.1.0->pycaret[full]) (0.1.12)\n",
            "Requirement already satisfied: phik>=0.11.1 in /usr/local/lib/python3.7/dist-packages (from pandas-profiling>=3.1.0->pycaret[full]) (0.12.2)\n",
            "Requirement already satisfied: multimethod>=1.4 in /usr/local/lib/python3.7/dist-packages (from pandas-profiling>=3.1.0->pycaret[full]) (1.8)\n",
            "Requirement already satisfied: tangled-up-in-unicode==0.2.0 in /usr/local/lib/python3.7/dist-packages (from pandas-profiling>=3.1.0->pycaret[full]) (0.2.0)\n",
            "Requirement already satisfied: visions[type_image_path]==0.7.4 in /usr/local/lib/python3.7/dist-packages (from pandas-profiling>=3.1.0->pycaret[full]) (0.7.4)\n",
            "Requirement already satisfied: attrs>=19.3.0 in /usr/local/lib/python3.7/dist-packages (from visions[type_image_path]==0.7.4->pandas-profiling>=3.1.0->pycaret[full]) (22.1.0)\n",
            "Requirement already satisfied: imagehash in /usr/local/lib/python3.7/dist-packages (from visions[type_image_path]==0.7.4->pandas-profiling>=3.1.0->pycaret[full]) (4.2.1)\n",
            "Requirement already satisfied: markdown in /usr/local/lib/python3.7/dist-packages (from panel~=0.12.6->autoviz>=0.1.36->pycaret[full]) (3.4.1)\n",
            "Requirement already satisfied: bleach in /usr/local/lib/python3.7/dist-packages (from panel~=0.12.6->autoviz>=0.1.36->pycaret[full]) (5.0.1)\n",
            "Requirement already satisfied: tenacity>=6.2.0 in /usr/local/lib/python3.7/dist-packages (from plotly>=5.0.0->pycaret[full]) (8.0.1)\n",
            "Requirement already satisfied: urllib3 in /usr/local/lib/python3.7/dist-packages (from pmdarima>=1.8.0->pycaret[full]) (1.24.3)\n",
            "Requirement already satisfied: Cython!=0.29.18,!=0.29.31,>=0.29 in /usr/local/lib/python3.7/dist-packages (from pmdarima>=1.8.0->pycaret[full]) (0.29.32)\n",
            "Requirement already satisfied: prometheus-client in /usr/local/lib/python3.7/dist-packages (from prometheus-flask-exporter<1->mlflow>=1.24.0->pycaret[full]) (0.14.1)\n",
            "Requirement already satisfied: wcwidth in /usr/local/lib/python3.7/dist-packages (from prompt-toolkit<2.1.0,>=2.0.0->ipython>=5.5.0->pycaret[full]) (0.2.5)\n",
            "Requirement already satisfied: grpcio<=1.43.0,>=1.28.1 in /usr/local/lib/python3.7/dist-packages (from ray[tune]>=1.0.0->pycaret[full]) (1.43.0)\n",
            "Requirement already satisfied: msgpack<2.0.0,>=1.0.0 in /usr/local/lib/python3.7/dist-packages (from ray[tune]>=1.0.0->pycaret[full]) (1.0.4)\n",
            "Requirement already satisfied: aiosignal in /usr/local/lib/python3.7/dist-packages (from ray[tune]>=1.0.0->pycaret[full]) (1.2.0)\n",
            "Requirement already satisfied: virtualenv in /usr/local/lib/python3.7/dist-packages (from ray[tune]>=1.0.0->pycaret[full]) (20.16.4)\n",
            "Requirement already satisfied: filelock in /usr/local/lib/python3.7/dist-packages (from ray[tune]>=1.0.0->pycaret[full]) (3.8.0)\n",
            "Requirement already satisfied: jsonschema in /usr/local/lib/python3.7/dist-packages (from ray[tune]>=1.0.0->pycaret[full]) (4.3.3)\n",
            "Requirement already satisfied: frozenlist in /usr/local/lib/python3.7/dist-packages (from ray[tune]>=1.0.0->pycaret[full]) (1.3.1)\n",
            "Requirement already satisfied: tensorboardX>=1.9 in /usr/local/lib/python3.7/dist-packages (from ray[tune]>=1.0.0->pycaret[full]) (2.5.1)\n",
            "Requirement already satisfied: certifi>=2017.4.17 in /usr/local/lib/python3.7/dist-packages (from requests>=2.27.1->pycaret[full]) (2022.6.15)\n",
            "Requirement already satisfied: charset-normalizer<3,>=2 in /usr/local/lib/python3.7/dist-packages (from requests>=2.27.1->pycaret[full]) (2.1.1)\n",
            "Requirement already satisfied: pathos in /usr/local/lib/python3.7/dist-packages (from SALib>=1.3.3->interpret-core[dash,debug,decisiontree,ebm,lime,linear,notebook,plotly,required,sensitivity,shap,skoperules,treeinterpreter]>=0.2.7->interpret>=0.2.7->pycaret[full]) (0.2.9)\n",
            "Requirement already satisfied: tifffile>=2019.7.26 in /usr/local/lib/python3.7/dist-packages (from scikit-image>=0.12->lime>=0.1.1.33->interpret-core[dash,debug,decisiontree,ebm,lime,linear,notebook,plotly,required,sensitivity,shap,skoperules,treeinterpreter]>=0.2.7->interpret>=0.2.7->pycaret[full]) (2021.11.2)\n",
            "Requirement already satisfied: PyWavelets>=1.1.1 in /usr/local/lib/python3.7/dist-packages (from scikit-image>=0.12->lime>=0.1.1.33->interpret-core[dash,debug,decisiontree,ebm,lime,linear,notebook,plotly,required,sensitivity,shap,skoperules,treeinterpreter]>=0.2.7->interpret>=0.2.7->pycaret[full]) (1.3.0)\n",
            "Requirement already satisfied: imageio>=2.3.0 in /usr/local/lib/python3.7/dist-packages (from scikit-image>=0.12->lime>=0.1.1.33->interpret-core[dash,debug,decisiontree,ebm,lime,linear,notebook,plotly,required,sensitivity,shap,skoperules,treeinterpreter]>=0.2.7->interpret>=0.2.7->pycaret[full]) (2.9.0)\n",
            "Requirement already satisfied: threadpoolctl>=2.0.0 in /usr/local/lib/python3.7/dist-packages (from scikit-learn>=1.0->pycaret[full]) (3.1.0)\n",
            "Requirement already satisfied: pyaml>=16.9 in /usr/local/lib/python3.7/dist-packages (from scikit-optimize>=0.9.0->pycaret[full]) (21.10.1)\n",
            "Requirement already satisfied: slicer==0.0.7 in /usr/local/lib/python3.7/dist-packages (from shap>=0.38.0->pycaret[full]) (0.0.7)\n",
            "Requirement already satisfied: deprecated>=1.2.13 in /usr/local/lib/python3.7/dist-packages (from sktime>=0.11.4->pycaret[full]) (1.2.13)\n",
            "Requirement already satisfied: wrapt<2,>=1.10 in /usr/local/lib/python3.7/dist-packages (from deprecated>=1.2.13->sktime>=0.11.4->pycaret[full]) (1.14.1)\n",
            "Requirement already satisfied: fs in /usr/local/lib/python3.7/dist-packages (from triad>=0.6.6->fugue>=0.6.6->pycaret[full]) (2.4.16)\n",
            "Requirement already satisfied: pynndescent>=0.5 in /usr/local/lib/python3.7/dist-packages (from umap-learn>=0.5.2->pycaret[full]) (0.5.7)\n",
            "Requirement already satisfied: notebook>=4.4.1 in /usr/local/lib/python3.7/dist-packages (from widgetsnbextension~=3.6.0->ipywidgets>=7.6.5->pycaret[full]) (5.3.1)\n",
            "Requirement already satisfied: nbformat in /usr/local/lib/python3.7/dist-packages (from notebook>=4.4.1->widgetsnbextension~=3.6.0->ipywidgets>=7.6.5->pycaret[full]) (5.4.0)\n",
            "Requirement already satisfied: Send2Trash in /usr/local/lib/python3.7/dist-packages (from notebook>=4.4.1->widgetsnbextension~=3.6.0->ipywidgets>=7.6.5->pycaret[full]) (1.8.0)\n",
            "Requirement already satisfied: terminado>=0.8.1 in /usr/local/lib/python3.7/dist-packages (from notebook>=4.4.1->widgetsnbextension~=3.6.0->ipywidgets>=7.6.5->pycaret[full]) (0.13.3)\n",
            "Requirement already satisfied: jupyter-core>=4.4.0 in /usr/local/lib/python3.7/dist-packages (from notebook>=4.4.1->widgetsnbextension~=3.6.0->ipywidgets>=7.6.5->pycaret[full]) (4.11.1)\n",
            "Requirement already satisfied: nbconvert in /usr/local/lib/python3.7/dist-packages (from notebook>=4.4.1->widgetsnbextension~=3.6.0->ipywidgets>=7.6.5->pycaret[full]) (5.6.1)\n",
            "Requirement already satisfied: pyzmq>=13 in /usr/local/lib/python3.7/dist-packages (from jupyter-client->ipykernel>=5.1.0->interpret-core[dash,debug,decisiontree,ebm,lime,linear,notebook,plotly,required,sensitivity,shap,skoperules,treeinterpreter]>=0.2.7->interpret>=0.2.7->pycaret[full]) (23.2.1)\n",
            "Requirement already satisfied: ptyprocess in /usr/local/lib/python3.7/dist-packages (from terminado>=0.8.1->notebook>=4.4.1->widgetsnbextension~=3.6.0->ipywidgets>=7.6.5->pycaret[full]) (0.7.0)\n",
            "Requirement already satisfied: multidict<7.0,>=4.5 in /usr/local/lib/python3.7/dist-packages (from aiohttp->gradio>=2.8.10->pycaret[full]) (6.0.2)\n",
            "Requirement already satisfied: yarl<2.0,>=1.0 in /usr/local/lib/python3.7/dist-packages (from aiohttp->gradio>=2.8.10->pycaret[full]) (1.8.1)\n",
            "Requirement already satisfied: asynctest==0.13.0 in /usr/local/lib/python3.7/dist-packages (from aiohttp->gradio>=2.8.10->pycaret[full]) (0.13.0)\n",
            "Requirement already satisfied: async-timeout<5.0,>=4.0.0a3 in /usr/local/lib/python3.7/dist-packages (from aiohttp->gradio>=2.8.10->pycaret[full]) (4.0.2)\n",
            "Requirement already satisfied: backoff==1.10.0 in /usr/local/lib/python3.7/dist-packages (from analytics-python->gradio>=2.8.10->pycaret[full]) (1.10.0)\n",
            "Requirement already satisfied: monotonic>=1.5 in /usr/local/lib/python3.7/dist-packages (from analytics-python->gradio>=2.8.10->pycaret[full]) (1.6)\n",
            "Requirement already satisfied: webencodings in /usr/local/lib/python3.7/dist-packages (from bleach->panel~=0.12.6->autoviz>=0.1.36->pycaret[full]) (0.5.1)\n",
            "Requirement already satisfied: PrettyTable>=0.7.2 in /usr/local/lib/python3.7/dist-packages (from cliff->optuna>=2.2.0->pycaret[full]) (3.4.0)\n",
            "Requirement already satisfied: cmd2>=1.0.0 in /usr/local/lib/python3.7/dist-packages (from cliff->optuna>=2.2.0->pycaret[full]) (2.4.2)\n",
            "Requirement already satisfied: pbr!=2.1.0,>=2.0.0 in /usr/local/lib/python3.7/dist-packages (from cliff->optuna>=2.2.0->pycaret[full]) (5.10.0)\n",
            "Requirement already satisfied: stevedore>=2.0.1 in /usr/local/lib/python3.7/dist-packages (from cliff->optuna>=2.2.0->pycaret[full]) (3.5.0)\n",
            "Requirement already satisfied: autopage>=0.4.0 in /usr/local/lib/python3.7/dist-packages (from cliff->optuna>=2.2.0->pycaret[full]) (0.5.1)\n",
            "Requirement already satisfied: pyperclip>=1.6 in /usr/local/lib/python3.7/dist-packages (from cmd2>=1.0.0->cliff->optuna>=2.2.0->pycaret[full]) (1.8.2)\n",
            "Requirement already satisfied: flask-seasurf in /usr/local/lib/python3.7/dist-packages (from dash-auth->explainerdashboard>=0.3.8->pycaret[full]) (1.1.1)\n",
            "Requirement already satisfied: ua-parser in /usr/local/lib/python3.7/dist-packages (from dash-auth->explainerdashboard>=0.3.8->pycaret[full]) (0.16.1)\n",
            "Requirement already satisfied: chart-studio>=1.0.0 in /usr/local/lib/python3.7/dist-packages (from dash-auth->explainerdashboard>=0.3.8->pycaret[full]) (1.1.0)\n",
            "Requirement already satisfied: retrying in /usr/local/lib/python3.7/dist-packages (from dash-auth->explainerdashboard>=0.3.8->pycaret[full]) (1.3.3)\n",
            "Requirement already satisfied: brotli in /usr/local/lib/python3.7/dist-packages (from flask-compress->dash>=2->explainerdashboard>=0.3.8->pycaret[full]) (1.0.9)\n",
            "Requirement already satisfied: Flask-WTF<0.16.0,>=0.15.1 in /usr/local/lib/python3.7/dist-packages (from flask-simplelogin->explainerdashboard>=0.3.8->pycaret[full]) (0.15.1)\n",
            "Requirement already satisfied: WTForms>=2.1 in /usr/local/lib/python3.7/dist-packages (from flask-simplelogin->explainerdashboard>=0.3.8->pycaret[full]) (3.0.1)\n",
            "Requirement already satisfied: appdirs~=1.4.3 in /usr/local/lib/python3.7/dist-packages (from fs->triad>=0.6.6->fugue>=0.6.6->pycaret[full]) (1.4.4)\n",
            "Requirement already satisfied: httpcore<0.16.0,>=0.15.0 in /usr/local/lib/python3.7/dist-packages (from httpx->gradio>=2.8.10->pycaret[full]) (0.15.0)\n",
            "Requirement already satisfied: rfc3986[idna2008]<2,>=1.3 in /usr/local/lib/python3.7/dist-packages (from httpx->gradio>=2.8.10->pycaret[full]) (1.5.0)\n",
            "Requirement already satisfied: pyrsistent!=0.17.0,!=0.17.1,!=0.17.2,>=0.14.0 in /usr/local/lib/python3.7/dist-packages (from jsonschema->ray[tune]>=1.0.0->pycaret[full]) (0.18.1)\n",
            "Requirement already satisfied: jupyter-console in /usr/local/lib/python3.7/dist-packages (from jupyter->autoviz>=0.1.36->pycaret[full]) (6.1.0)\n",
            "Requirement already satisfied: qtconsole in /usr/local/lib/python3.7/dist-packages (from jupyter->autoviz>=0.1.36->pycaret[full]) (5.3.2)\n",
            "Requirement already satisfied: ansi2html in /usr/local/lib/python3.7/dist-packages (from jupyter-dash->explainerdashboard>=0.3.8->pycaret[full]) (1.8.0)\n",
            "Requirement already satisfied: nest-asyncio in /usr/local/lib/python3.7/dist-packages (from jupyter-dash->explainerdashboard>=0.3.8->pycaret[full]) (1.5.5)\n",
            "Requirement already satisfied: mdurl~=0.1 in /usr/local/lib/python3.7/dist-packages (from markdown-it-py[linkify,plugins]->gradio>=2.8.10->pycaret[full]) (0.1.2)\n",
            "Requirement already satisfied: mdit-py-plugins in /usr/local/lib/python3.7/dist-packages (from markdown-it-py[linkify,plugins]->gradio>=2.8.10->pycaret[full]) (0.3.0)\n",
            "Requirement already satisfied: linkify-it-py~=1.0 in /usr/local/lib/python3.7/dist-packages (from markdown-it-py[linkify,plugins]->gradio>=2.8.10->pycaret[full]) (1.0.3)\n",
            "Requirement already satisfied: uc-micro-py in /usr/local/lib/python3.7/dist-packages (from linkify-it-py~=1.0->markdown-it-py[linkify,plugins]->gradio>=2.8.10->pycaret[full]) (1.0.1)\n",
            "Requirement already satisfied: pandocfilters>=1.4.1 in /usr/local/lib/python3.7/dist-packages (from nbconvert->notebook>=4.4.1->widgetsnbextension~=3.6.0->ipywidgets>=7.6.5->pycaret[full]) (1.5.0)\n",
            "Requirement already satisfied: defusedxml in /usr/local/lib/python3.7/dist-packages (from nbconvert->notebook>=4.4.1->widgetsnbextension~=3.6.0->ipywidgets>=7.6.5->pycaret[full]) (0.7.1)\n",
            "Requirement already satisfied: testpath in /usr/local/lib/python3.7/dist-packages (from nbconvert->notebook>=4.4.1->widgetsnbextension~=3.6.0->ipywidgets>=7.6.5->pycaret[full]) (0.6.0)\n",
            "Requirement already satisfied: mistune<2,>=0.8.1 in /usr/local/lib/python3.7/dist-packages (from nbconvert->notebook>=4.4.1->widgetsnbextension~=3.6.0->ipywidgets>=7.6.5->pycaret[full]) (0.8.4)\n",
            "Requirement already satisfied: fastjsonschema in /usr/local/lib/python3.7/dist-packages (from nbformat->notebook>=4.4.1->widgetsnbextension~=3.6.0->ipywidgets>=7.6.5->pycaret[full]) (2.16.1)\n",
            "Requirement already satisfied: regex>=2021.8.3 in /usr/local/lib/python3.7/dist-packages (from nltk->autoviz>=0.1.36->pycaret[full]) (2022.6.2)\n",
            "Requirement already satisfied: cryptography>=2.5 in /usr/local/lib/python3.7/dist-packages (from paramiko->gradio>=2.8.10->pycaret[full]) (37.0.4)\n",
            "Requirement already satisfied: bcrypt>=3.1.3 in /usr/local/lib/python3.7/dist-packages (from paramiko->gradio>=2.8.10->pycaret[full]) (4.0.0)\n",
            "Requirement already satisfied: pynacl>=1.0.1 in /usr/local/lib/python3.7/dist-packages (from paramiko->gradio>=2.8.10->pycaret[full]) (1.5.0)\n",
            "Requirement already satisfied: cffi>=1.12 in /usr/local/lib/python3.7/dist-packages (from cryptography>=2.5->paramiko->gradio>=2.8.10->pycaret[full]) (1.15.1)\n",
            "Requirement already satisfied: pycparser in /usr/local/lib/python3.7/dist-packages (from cffi>=1.12->cryptography>=2.5->paramiko->gradio>=2.8.10->pycaret[full]) (2.21)\n",
            "Requirement already satisfied: ppft>=1.7.6.5 in /usr/local/lib/python3.7/dist-packages (from pathos->SALib>=1.3.3->interpret-core[dash,debug,decisiontree,ebm,lime,linear,notebook,plotly,required,sensitivity,shap,skoperules,treeinterpreter]>=0.2.7->interpret>=0.2.7->pycaret[full]) (1.7.6.5)\n",
            "Requirement already satisfied: pox>=0.3.1 in /usr/local/lib/python3.7/dist-packages (from pathos->SALib>=1.3.3->interpret-core[dash,debug,decisiontree,ebm,lime,linear,notebook,plotly,required,sensitivity,shap,skoperules,treeinterpreter]>=0.2.7->interpret>=0.2.7->pycaret[full]) (0.3.1)\n",
            "Requirement already satisfied: multiprocess>=0.70.13 in /usr/local/lib/python3.7/dist-packages (from pathos->SALib>=1.3.3->interpret-core[dash,debug,decisiontree,ebm,lime,linear,notebook,plotly,required,sensitivity,shap,skoperules,treeinterpreter]>=0.2.7->interpret>=0.2.7->pycaret[full]) (0.70.13)\n",
            "Requirement already satisfied: py>=1.5.0 in /usr/local/lib/python3.7/dist-packages (from pytest->dtreeviz>=1.3->explainerdashboard>=0.3.8->pycaret[full]) (1.11.0)\n",
            "Requirement already satisfied: atomicwrites>=1.0 in /usr/local/lib/python3.7/dist-packages (from pytest->dtreeviz>=1.3->explainerdashboard>=0.3.8->pycaret[full]) (1.4.1)\n",
            "Requirement already satisfied: pluggy<0.8,>=0.5 in /usr/local/lib/python3.7/dist-packages (from pytest->dtreeviz>=1.3->explainerdashboard>=0.3.8->pycaret[full]) (0.7.1)\n",
            "Requirement already satisfied: more-itertools>=4.0.0 in /usr/local/lib/python3.7/dist-packages (from pytest->dtreeviz>=1.3->explainerdashboard>=0.3.8->pycaret[full]) (8.14.0)\n",
            "Requirement already satisfied: qtpy>=2.0.1 in /usr/local/lib/python3.7/dist-packages (from qtconsole->jupyter->autoviz>=0.1.36->pycaret[full]) (2.2.0)\n",
            "Requirement already satisfied: distlib<1,>=0.3.5 in /usr/local/lib/python3.7/dist-packages (from virtualenv->ray[tune]>=1.0.0->pycaret[full]) (0.3.6)\n",
            "Requirement already satisfied: platformdirs<3,>=2.4 in /usr/local/lib/python3.7/dist-packages (from virtualenv->ray[tune]>=1.0.0->pycaret[full]) (2.5.2)\n"
          ]
        }
      ]
    },
    {
      "cell_type": "code",
      "source": [
        "from pycaret.utils import version\n",
        "version()"
      ],
      "metadata": {
        "colab": {
          "base_uri": "https://localhost:8080/",
          "height": 37
        },
        "id": "M6qi_33TzMSl",
        "outputId": "0a00d16d-f79a-4f0c-d8fd-ed59d323d76b"
      },
      "id": "M6qi_33TzMSl",
      "execution_count": 2,
      "outputs": [
        {
          "output_type": "execute_result",
          "data": {
            "text/plain": [
              "'3.0.0.rc1'"
            ],
            "application/vnd.google.colaboratory.intrinsic+json": {
              "type": "string"
            }
          },
          "metadata": {},
          "execution_count": 2
        }
      ]
    },
    {
      "cell_type": "markdown",
      "source": [
        "### **Auto EDA**"
      ],
      "metadata": {
        "id": "BLamZVCcGCoA"
      },
      "id": "BLamZVCcGCoA"
    },
    {
      "cell_type": "code",
      "source": [
        "!pip install autoviz"
      ],
      "metadata": {
        "colab": {
          "base_uri": "https://localhost:8080/"
        },
        "id": "9FbOz9m3GFF9",
        "outputId": "50f31f4f-90ff-47fb-80a8-b333759b4eaa"
      },
      "id": "9FbOz9m3GFF9",
      "execution_count": 42,
      "outputs": [
        {
          "output_type": "stream",
          "name": "stdout",
          "text": [
            "Looking in indexes: https://pypi.org/simple, https://us-python.pkg.dev/colab-wheels/public/simple/\n",
            "Requirement already satisfied: autoviz in /usr/local/lib/python3.7/dist-packages (0.1.43)\n",
            "Requirement already satisfied: holoviews>=1.14.6 in /usr/local/lib/python3.7/dist-packages (from autoviz) (1.14.9)\n",
            "Requirement already satisfied: wordcloud in /usr/local/lib/python3.7/dist-packages (from autoviz) (1.8.2.2)\n",
            "Requirement already satisfied: statsmodels in /usr/local/lib/python3.7/dist-packages (from autoviz) (0.13.2)\n",
            "Requirement already satisfied: scikit-learn in /usr/local/lib/python3.7/dist-packages (from autoviz) (1.0.2)\n",
            "Requirement already satisfied: panel~=0.12.6 in /usr/local/lib/python3.7/dist-packages (from autoviz) (0.12.7)\n",
            "Requirement already satisfied: xlrd in /usr/local/lib/python3.7/dist-packages (from autoviz) (1.1.0)\n",
            "Requirement already satisfied: hvplot>=0.7.3 in /usr/local/lib/python3.7/dist-packages (from autoviz) (0.8.1)\n",
            "Requirement already satisfied: pandas in /usr/local/lib/python3.7/dist-packages (from autoviz) (1.3.5)\n",
            "Requirement already satisfied: ipython in /usr/local/lib/python3.7/dist-packages (from autoviz) (7.9.0)\n",
            "Requirement already satisfied: fsspec>=0.8.3 in /usr/local/lib/python3.7/dist-packages (from autoviz) (2022.7.1)\n",
            "Requirement already satisfied: textblob in /usr/local/lib/python3.7/dist-packages (from autoviz) (0.15.3)\n",
            "Requirement already satisfied: numpy in /usr/local/lib/python3.7/dist-packages (from autoviz) (1.21.6)\n",
            "Requirement already satisfied: nltk in /usr/local/lib/python3.7/dist-packages (from autoviz) (3.7)\n",
            "Requirement already satisfied: bokeh>=2.4.2 in /usr/local/lib/python3.7/dist-packages (from autoviz) (2.4.3)\n",
            "Requirement already satisfied: pyamg in /usr/local/lib/python3.7/dist-packages (from autoviz) (4.2.3)\n",
            "Requirement already satisfied: seaborn>=0.11.1 in /usr/local/lib/python3.7/dist-packages (from autoviz) (0.11.2)\n",
            "Requirement already satisfied: typing-extensions>=4.1.1 in /usr/local/lib/python3.7/dist-packages (from autoviz) (4.1.1)\n",
            "Requirement already satisfied: matplotlib>=3.3.3 in /usr/local/lib/python3.7/dist-packages (from autoviz) (3.5.3)\n",
            "Requirement already satisfied: emoji in /usr/local/lib/python3.7/dist-packages (from autoviz) (2.0.0)\n",
            "Requirement already satisfied: xgboost>=0.82 in /usr/local/lib/python3.7/dist-packages (from autoviz) (1.6.2)\n",
            "Requirement already satisfied: jupyter in /usr/local/lib/python3.7/dist-packages (from autoviz) (1.0.0)\n",
            "Requirement already satisfied: pillow>=7.1.0 in /usr/local/lib/python3.7/dist-packages (from bokeh>=2.4.2->autoviz) (7.1.2)\n",
            "Requirement already satisfied: Jinja2>=2.9 in /usr/local/lib/python3.7/dist-packages (from bokeh>=2.4.2->autoviz) (3.1.2)\n",
            "Requirement already satisfied: packaging>=16.8 in /usr/local/lib/python3.7/dist-packages (from bokeh>=2.4.2->autoviz) (21.3)\n",
            "Requirement already satisfied: PyYAML>=3.10 in /usr/local/lib/python3.7/dist-packages (from bokeh>=2.4.2->autoviz) (5.4.1)\n",
            "Requirement already satisfied: tornado>=5.1 in /usr/local/lib/python3.7/dist-packages (from bokeh>=2.4.2->autoviz) (5.1.1)\n",
            "Requirement already satisfied: pyviz-comms>=0.7.4 in /usr/local/lib/python3.7/dist-packages (from holoviews>=1.14.6->autoviz) (2.2.1)\n",
            "Requirement already satisfied: colorcet in /usr/local/lib/python3.7/dist-packages (from holoviews>=1.14.6->autoviz) (3.0.0)\n",
            "Requirement already satisfied: param<2.0,>=1.9.3 in /usr/local/lib/python3.7/dist-packages (from holoviews>=1.14.6->autoviz) (1.12.2)\n",
            "Requirement already satisfied: pyct>=0.4.4 in /usr/local/lib/python3.7/dist-packages (from colorcet->holoviews>=1.14.6->autoviz) (0.4.8)\n",
            "Requirement already satisfied: MarkupSafe>=2.0 in /usr/local/lib/python3.7/dist-packages (from Jinja2>=2.9->bokeh>=2.4.2->autoviz) (2.1.1)\n",
            "Requirement already satisfied: python-dateutil>=2.7 in /usr/local/lib/python3.7/dist-packages (from matplotlib>=3.3.3->autoviz) (2.8.2)\n",
            "Requirement already satisfied: fonttools>=4.22.0 in /usr/local/lib/python3.7/dist-packages (from matplotlib>=3.3.3->autoviz) (4.37.1)\n",
            "Requirement already satisfied: kiwisolver>=1.0.1 in /usr/local/lib/python3.7/dist-packages (from matplotlib>=3.3.3->autoviz) (1.4.4)\n",
            "Requirement already satisfied: pyparsing>=2.2.1 in /usr/local/lib/python3.7/dist-packages (from matplotlib>=3.3.3->autoviz) (3.0.9)\n",
            "Requirement already satisfied: cycler>=0.10 in /usr/local/lib/python3.7/dist-packages (from matplotlib>=3.3.3->autoviz) (0.11.0)\n",
            "Requirement already satisfied: pytz>=2017.3 in /usr/local/lib/python3.7/dist-packages (from pandas->autoviz) (2022.2.1)\n",
            "Requirement already satisfied: markdown in /usr/local/lib/python3.7/dist-packages (from panel~=0.12.6->autoviz) (3.4.1)\n",
            "Requirement already satisfied: tqdm>=4.48.0 in /usr/local/lib/python3.7/dist-packages (from panel~=0.12.6->autoviz) (4.64.0)\n",
            "Requirement already satisfied: bleach in /usr/local/lib/python3.7/dist-packages (from panel~=0.12.6->autoviz) (5.0.1)\n",
            "Requirement already satisfied: setuptools<61,>=42 in /usr/local/lib/python3.7/dist-packages (from panel~=0.12.6->autoviz) (57.4.0)\n",
            "Requirement already satisfied: requests in /usr/local/lib/python3.7/dist-packages (from panel~=0.12.6->autoviz) (2.28.1)\n",
            "Requirement already satisfied: six>=1.5 in /usr/local/lib/python3.7/dist-packages (from python-dateutil>=2.7->matplotlib>=3.3.3->autoviz) (1.15.0)\n",
            "Requirement already satisfied: scipy>=1.0 in /usr/local/lib/python3.7/dist-packages (from seaborn>=0.11.1->autoviz) (1.7.3)\n",
            "Requirement already satisfied: webencodings in /usr/local/lib/python3.7/dist-packages (from bleach->panel~=0.12.6->autoviz) (0.5.1)\n",
            "Requirement already satisfied: pickleshare in /usr/local/lib/python3.7/dist-packages (from ipython->autoviz) (0.7.5)\n",
            "Requirement already satisfied: decorator in /usr/local/lib/python3.7/dist-packages (from ipython->autoviz) (4.4.2)\n",
            "Requirement already satisfied: prompt-toolkit<2.1.0,>=2.0.0 in /usr/local/lib/python3.7/dist-packages (from ipython->autoviz) (2.0.10)\n",
            "Requirement already satisfied: pexpect in /usr/local/lib/python3.7/dist-packages (from ipython->autoviz) (4.8.0)\n",
            "Requirement already satisfied: jedi>=0.10 in /usr/local/lib/python3.7/dist-packages (from ipython->autoviz) (0.18.1)\n",
            "Requirement already satisfied: pygments in /usr/local/lib/python3.7/dist-packages (from ipython->autoviz) (2.6.1)\n",
            "Requirement already satisfied: traitlets>=4.2 in /usr/local/lib/python3.7/dist-packages (from ipython->autoviz) (5.1.1)\n",
            "Requirement already satisfied: backcall in /usr/local/lib/python3.7/dist-packages (from ipython->autoviz) (0.2.0)\n",
            "Requirement already satisfied: parso<0.9.0,>=0.8.0 in /usr/local/lib/python3.7/dist-packages (from jedi>=0.10->ipython->autoviz) (0.8.3)\n",
            "Requirement already satisfied: wcwidth in /usr/local/lib/python3.7/dist-packages (from prompt-toolkit<2.1.0,>=2.0.0->ipython->autoviz) (0.2.5)\n",
            "Requirement already satisfied: ipywidgets in /usr/local/lib/python3.7/dist-packages (from jupyter->autoviz) (7.7.1)\n",
            "Requirement already satisfied: notebook in /usr/local/lib/python3.7/dist-packages (from jupyter->autoviz) (5.3.1)\n",
            "Requirement already satisfied: nbconvert in /usr/local/lib/python3.7/dist-packages (from jupyter->autoviz) (5.6.1)\n",
            "Requirement already satisfied: qtconsole in /usr/local/lib/python3.7/dist-packages (from jupyter->autoviz) (5.3.2)\n",
            "Requirement already satisfied: ipykernel in /usr/local/lib/python3.7/dist-packages (from jupyter->autoviz) (5.3.4)\n",
            "Requirement already satisfied: jupyter-console in /usr/local/lib/python3.7/dist-packages (from jupyter->autoviz) (6.1.0)\n",
            "Requirement already satisfied: jupyter-client in /usr/local/lib/python3.7/dist-packages (from ipykernel->jupyter->autoviz) (6.1.12)\n",
            "Requirement already satisfied: jupyterlab-widgets>=1.0.0 in /usr/local/lib/python3.7/dist-packages (from ipywidgets->jupyter->autoviz) (3.0.2)\n",
            "Requirement already satisfied: widgetsnbextension~=3.6.0 in /usr/local/lib/python3.7/dist-packages (from ipywidgets->jupyter->autoviz) (3.6.1)\n",
            "Requirement already satisfied: ipython-genutils~=0.2.0 in /usr/local/lib/python3.7/dist-packages (from ipywidgets->jupyter->autoviz) (0.2.0)\n",
            "Requirement already satisfied: terminado>=0.8.1 in /usr/local/lib/python3.7/dist-packages (from notebook->jupyter->autoviz) (0.13.3)\n",
            "Requirement already satisfied: Send2Trash in /usr/local/lib/python3.7/dist-packages (from notebook->jupyter->autoviz) (1.8.0)\n",
            "Requirement already satisfied: nbformat in /usr/local/lib/python3.7/dist-packages (from notebook->jupyter->autoviz) (5.4.0)\n",
            "Requirement already satisfied: jupyter-core>=4.4.0 in /usr/local/lib/python3.7/dist-packages (from notebook->jupyter->autoviz) (4.11.1)\n",
            "Requirement already satisfied: pyzmq>=13 in /usr/local/lib/python3.7/dist-packages (from jupyter-client->ipykernel->jupyter->autoviz) (23.2.1)\n",
            "Requirement already satisfied: ptyprocess in /usr/local/lib/python3.7/dist-packages (from terminado>=0.8.1->notebook->jupyter->autoviz) (0.7.0)\n",
            "Requirement already satisfied: importlib-metadata>=4.4 in /usr/local/lib/python3.7/dist-packages (from markdown->panel~=0.12.6->autoviz) (4.12.0)\n",
            "Requirement already satisfied: zipp>=0.5 in /usr/local/lib/python3.7/dist-packages (from importlib-metadata>=4.4->markdown->panel~=0.12.6->autoviz) (3.8.1)\n",
            "Requirement already satisfied: pandocfilters>=1.4.1 in /usr/local/lib/python3.7/dist-packages (from nbconvert->jupyter->autoviz) (1.5.0)\n",
            "Requirement already satisfied: mistune<2,>=0.8.1 in /usr/local/lib/python3.7/dist-packages (from nbconvert->jupyter->autoviz) (0.8.4)\n",
            "Requirement already satisfied: testpath in /usr/local/lib/python3.7/dist-packages (from nbconvert->jupyter->autoviz) (0.6.0)\n",
            "Requirement already satisfied: defusedxml in /usr/local/lib/python3.7/dist-packages (from nbconvert->jupyter->autoviz) (0.7.1)\n",
            "Requirement already satisfied: entrypoints>=0.2.2 in /usr/local/lib/python3.7/dist-packages (from nbconvert->jupyter->autoviz) (0.4)\n",
            "Requirement already satisfied: jsonschema>=2.6 in /usr/local/lib/python3.7/dist-packages (from nbformat->notebook->jupyter->autoviz) (4.3.3)\n",
            "Requirement already satisfied: fastjsonschema in /usr/local/lib/python3.7/dist-packages (from nbformat->notebook->jupyter->autoviz) (2.16.1)\n",
            "Requirement already satisfied: pyrsistent!=0.17.0,!=0.17.1,!=0.17.2,>=0.14.0 in /usr/local/lib/python3.7/dist-packages (from jsonschema>=2.6->nbformat->notebook->jupyter->autoviz) (0.18.1)\n",
            "Requirement already satisfied: attrs>=17.4.0 in /usr/local/lib/python3.7/dist-packages (from jsonschema>=2.6->nbformat->notebook->jupyter->autoviz) (22.1.0)\n",
            "Requirement already satisfied: importlib-resources>=1.4.0 in /usr/local/lib/python3.7/dist-packages (from jsonschema>=2.6->nbformat->notebook->jupyter->autoviz) (5.9.0)\n",
            "Requirement already satisfied: regex>=2021.8.3 in /usr/local/lib/python3.7/dist-packages (from nltk->autoviz) (2022.6.2)\n",
            "Requirement already satisfied: joblib in /usr/local/lib/python3.7/dist-packages (from nltk->autoviz) (1.1.0)\n",
            "Requirement already satisfied: click in /usr/local/lib/python3.7/dist-packages (from nltk->autoviz) (8.0.4)\n",
            "Requirement already satisfied: qtpy>=2.0.1 in /usr/local/lib/python3.7/dist-packages (from qtconsole->jupyter->autoviz) (2.2.0)\n",
            "Requirement already satisfied: idna<4,>=2.5 in /usr/local/lib/python3.7/dist-packages (from requests->panel~=0.12.6->autoviz) (2.10)\n",
            "Requirement already satisfied: certifi>=2017.4.17 in /usr/local/lib/python3.7/dist-packages (from requests->panel~=0.12.6->autoviz) (2022.6.15)\n",
            "Requirement already satisfied: urllib3<1.27,>=1.21.1 in /usr/local/lib/python3.7/dist-packages (from requests->panel~=0.12.6->autoviz) (1.24.3)\n",
            "Requirement already satisfied: charset-normalizer<3,>=2 in /usr/local/lib/python3.7/dist-packages (from requests->panel~=0.12.6->autoviz) (2.1.1)\n",
            "Requirement already satisfied: threadpoolctl>=2.0.0 in /usr/local/lib/python3.7/dist-packages (from scikit-learn->autoviz) (3.1.0)\n",
            "Requirement already satisfied: patsy>=0.5.2 in /usr/local/lib/python3.7/dist-packages (from statsmodels->autoviz) (0.5.2)\n"
          ]
        }
      ]
    },
    {
      "cell_type": "markdown",
      "source": [
        "## **Ocultando advertencias**"
      ],
      "metadata": {
        "id": "tXd_Mf8vgBwK"
      },
      "id": "tXd_Mf8vgBwK"
    },
    {
      "cell_type": "code",
      "source": [
        "import logging\n",
        "logging.warnings.filterwarnings(\"ignore\")"
      ],
      "metadata": {
        "id": "l5bbShdc1YWw"
      },
      "id": "l5bbShdc1YWw",
      "execution_count": 3,
      "outputs": []
    },
    {
      "cell_type": "markdown",
      "source": [
        "## **Carga de librerías necesarias**"
      ],
      "metadata": {
        "id": "0KvvwrWIs7M7"
      },
      "id": "0KvvwrWIs7M7"
    },
    {
      "cell_type": "code",
      "source": [
        "import pandas as pd"
      ],
      "metadata": {
        "id": "1x-LR5D4s8RO"
      },
      "id": "1x-LR5D4s8RO",
      "execution_count": 5,
      "outputs": []
    },
    {
      "cell_type": "markdown",
      "source": [
        "## **Ingeniería de las características de los Datos**"
      ],
      "metadata": {
        "id": "8176hoVVsf7Q"
      },
      "id": "8176hoVVsf7Q"
    },
    {
      "cell_type": "markdown",
      "source": [
        "### **Extracción de Datos - Creación del DataFrame**"
      ],
      "metadata": {
        "id": "DqfCzCDmshQv"
      },
      "id": "DqfCzCDmshQv"
    },
    {
      "cell_type": "code",
      "source": [
        "url = \"https://raw.githubusercontent.com/cristiandarioortegayubro/BA/main/Datasets/\""
      ],
      "metadata": {
        "id": "7YT3DDQ3soWa"
      },
      "id": "7YT3DDQ3soWa",
      "execution_count": 6,
      "outputs": []
    },
    {
      "cell_type": "code",
      "source": [
        "archivo = \"Clientes.csv\""
      ],
      "metadata": {
        "id": "NQQSkU6Qsrik"
      },
      "id": "NQQSkU6Qsrik",
      "execution_count": 7,
      "outputs": []
    },
    {
      "cell_type": "code",
      "source": [
        "datos = pd.read_csv(url+archivo) #los datos están separados por comas\n",
        "datos #vista del dataframe"
      ],
      "metadata": {
        "colab": {
          "base_uri": "https://localhost:8080/",
          "height": 419
        },
        "id": "tbzyKP1Zss4b",
        "outputId": "060cf9c2-ff33-47c7-f7ac-e225c800b810"
      },
      "id": "tbzyKP1Zss4b",
      "execution_count": 8,
      "outputs": [
        {
          "output_type": "execute_result",
          "data": {
            "text/plain": [
              "           ID  Trabajo  Edad  Salario Compra\n",
              "0    15624510        1    19    19000     No\n",
              "1    15810944        1    35    20000     No\n",
              "2    15668575        0    26    43000     No\n",
              "3    15603246        0    27    57000     No\n",
              "4    15804002        1    19    76000     No\n",
              "..        ...      ...   ...      ...    ...\n",
              "395  15691863        0    46    41000     Si\n",
              "396  15706071        1    51    23000     Si\n",
              "397  15654296        0    50    20000     Si\n",
              "398  15755018        1    36    33000     No\n",
              "399  15594041        0    49    36000     Si\n",
              "\n",
              "[400 rows x 5 columns]"
            ],
            "text/html": [
              "\n",
              "  <div id=\"df-d285a22e-1c3a-4aff-9911-bfa5df4b98be\">\n",
              "    <div class=\"colab-df-container\">\n",
              "      <div>\n",
              "<style scoped>\n",
              "    .dataframe tbody tr th:only-of-type {\n",
              "        vertical-align: middle;\n",
              "    }\n",
              "\n",
              "    .dataframe tbody tr th {\n",
              "        vertical-align: top;\n",
              "    }\n",
              "\n",
              "    .dataframe thead th {\n",
              "        text-align: right;\n",
              "    }\n",
              "</style>\n",
              "<table border=\"1\" class=\"dataframe\">\n",
              "  <thead>\n",
              "    <tr style=\"text-align: right;\">\n",
              "      <th></th>\n",
              "      <th>ID</th>\n",
              "      <th>Trabajo</th>\n",
              "      <th>Edad</th>\n",
              "      <th>Salario</th>\n",
              "      <th>Compra</th>\n",
              "    </tr>\n",
              "  </thead>\n",
              "  <tbody>\n",
              "    <tr>\n",
              "      <th>0</th>\n",
              "      <td>15624510</td>\n",
              "      <td>1</td>\n",
              "      <td>19</td>\n",
              "      <td>19000</td>\n",
              "      <td>No</td>\n",
              "    </tr>\n",
              "    <tr>\n",
              "      <th>1</th>\n",
              "      <td>15810944</td>\n",
              "      <td>1</td>\n",
              "      <td>35</td>\n",
              "      <td>20000</td>\n",
              "      <td>No</td>\n",
              "    </tr>\n",
              "    <tr>\n",
              "      <th>2</th>\n",
              "      <td>15668575</td>\n",
              "      <td>0</td>\n",
              "      <td>26</td>\n",
              "      <td>43000</td>\n",
              "      <td>No</td>\n",
              "    </tr>\n",
              "    <tr>\n",
              "      <th>3</th>\n",
              "      <td>15603246</td>\n",
              "      <td>0</td>\n",
              "      <td>27</td>\n",
              "      <td>57000</td>\n",
              "      <td>No</td>\n",
              "    </tr>\n",
              "    <tr>\n",
              "      <th>4</th>\n",
              "      <td>15804002</td>\n",
              "      <td>1</td>\n",
              "      <td>19</td>\n",
              "      <td>76000</td>\n",
              "      <td>No</td>\n",
              "    </tr>\n",
              "    <tr>\n",
              "      <th>...</th>\n",
              "      <td>...</td>\n",
              "      <td>...</td>\n",
              "      <td>...</td>\n",
              "      <td>...</td>\n",
              "      <td>...</td>\n",
              "    </tr>\n",
              "    <tr>\n",
              "      <th>395</th>\n",
              "      <td>15691863</td>\n",
              "      <td>0</td>\n",
              "      <td>46</td>\n",
              "      <td>41000</td>\n",
              "      <td>Si</td>\n",
              "    </tr>\n",
              "    <tr>\n",
              "      <th>396</th>\n",
              "      <td>15706071</td>\n",
              "      <td>1</td>\n",
              "      <td>51</td>\n",
              "      <td>23000</td>\n",
              "      <td>Si</td>\n",
              "    </tr>\n",
              "    <tr>\n",
              "      <th>397</th>\n",
              "      <td>15654296</td>\n",
              "      <td>0</td>\n",
              "      <td>50</td>\n",
              "      <td>20000</td>\n",
              "      <td>Si</td>\n",
              "    </tr>\n",
              "    <tr>\n",
              "      <th>398</th>\n",
              "      <td>15755018</td>\n",
              "      <td>1</td>\n",
              "      <td>36</td>\n",
              "      <td>33000</td>\n",
              "      <td>No</td>\n",
              "    </tr>\n",
              "    <tr>\n",
              "      <th>399</th>\n",
              "      <td>15594041</td>\n",
              "      <td>0</td>\n",
              "      <td>49</td>\n",
              "      <td>36000</td>\n",
              "      <td>Si</td>\n",
              "    </tr>\n",
              "  </tbody>\n",
              "</table>\n",
              "<p>400 rows × 5 columns</p>\n",
              "</div>\n",
              "      <button class=\"colab-df-convert\" onclick=\"convertToInteractive('df-d285a22e-1c3a-4aff-9911-bfa5df4b98be')\"\n",
              "              title=\"Convert this dataframe to an interactive table.\"\n",
              "              style=\"display:none;\">\n",
              "        \n",
              "  <svg xmlns=\"http://www.w3.org/2000/svg\" height=\"24px\"viewBox=\"0 0 24 24\"\n",
              "       width=\"24px\">\n",
              "    <path d=\"M0 0h24v24H0V0z\" fill=\"none\"/>\n",
              "    <path d=\"M18.56 5.44l.94 2.06.94-2.06 2.06-.94-2.06-.94-.94-2.06-.94 2.06-2.06.94zm-11 1L8.5 8.5l.94-2.06 2.06-.94-2.06-.94L8.5 2.5l-.94 2.06-2.06.94zm10 10l.94 2.06.94-2.06 2.06-.94-2.06-.94-.94-2.06-.94 2.06-2.06.94z\"/><path d=\"M17.41 7.96l-1.37-1.37c-.4-.4-.92-.59-1.43-.59-.52 0-1.04.2-1.43.59L10.3 9.45l-7.72 7.72c-.78.78-.78 2.05 0 2.83L4 21.41c.39.39.9.59 1.41.59.51 0 1.02-.2 1.41-.59l7.78-7.78 2.81-2.81c.8-.78.8-2.07 0-2.86zM5.41 20L4 18.59l7.72-7.72 1.47 1.35L5.41 20z\"/>\n",
              "  </svg>\n",
              "      </button>\n",
              "      \n",
              "  <style>\n",
              "    .colab-df-container {\n",
              "      display:flex;\n",
              "      flex-wrap:wrap;\n",
              "      gap: 12px;\n",
              "    }\n",
              "\n",
              "    .colab-df-convert {\n",
              "      background-color: #E8F0FE;\n",
              "      border: none;\n",
              "      border-radius: 50%;\n",
              "      cursor: pointer;\n",
              "      display: none;\n",
              "      fill: #1967D2;\n",
              "      height: 32px;\n",
              "      padding: 0 0 0 0;\n",
              "      width: 32px;\n",
              "    }\n",
              "\n",
              "    .colab-df-convert:hover {\n",
              "      background-color: #E2EBFA;\n",
              "      box-shadow: 0px 1px 2px rgba(60, 64, 67, 0.3), 0px 1px 3px 1px rgba(60, 64, 67, 0.15);\n",
              "      fill: #174EA6;\n",
              "    }\n",
              "\n",
              "    [theme=dark] .colab-df-convert {\n",
              "      background-color: #3B4455;\n",
              "      fill: #D2E3FC;\n",
              "    }\n",
              "\n",
              "    [theme=dark] .colab-df-convert:hover {\n",
              "      background-color: #434B5C;\n",
              "      box-shadow: 0px 1px 3px 1px rgba(0, 0, 0, 0.15);\n",
              "      filter: drop-shadow(0px 1px 2px rgba(0, 0, 0, 0.3));\n",
              "      fill: #FFFFFF;\n",
              "    }\n",
              "  </style>\n",
              "\n",
              "      <script>\n",
              "        const buttonEl =\n",
              "          document.querySelector('#df-d285a22e-1c3a-4aff-9911-bfa5df4b98be button.colab-df-convert');\n",
              "        buttonEl.style.display =\n",
              "          google.colab.kernel.accessAllowed ? 'block' : 'none';\n",
              "\n",
              "        async function convertToInteractive(key) {\n",
              "          const element = document.querySelector('#df-d285a22e-1c3a-4aff-9911-bfa5df4b98be');\n",
              "          const dataTable =\n",
              "            await google.colab.kernel.invokeFunction('convertToInteractive',\n",
              "                                                     [key], {});\n",
              "          if (!dataTable) return;\n",
              "\n",
              "          const docLinkHtml = 'Like what you see? Visit the ' +\n",
              "            '<a target=\"_blank\" href=https://colab.research.google.com/notebooks/data_table.ipynb>data table notebook</a>'\n",
              "            + ' to learn more about interactive tables.';\n",
              "          element.innerHTML = '';\n",
              "          dataTable['output_type'] = 'display_data';\n",
              "          await google.colab.output.renderOutput(dataTable, element);\n",
              "          const docLink = document.createElement('div');\n",
              "          docLink.innerHTML = docLinkHtml;\n",
              "          element.appendChild(docLink);\n",
              "        }\n",
              "      </script>\n",
              "    </div>\n",
              "  </div>\n",
              "  "
            ]
          },
          "metadata": {},
          "execution_count": 8
        }
      ]
    },
    {
      "cell_type": "markdown",
      "source": [
        "**El dataframe contiene 5 variables y 400 observaciones.**\n",
        "\n",
        "**Las variables indican:**\n",
        "- **ID:** La identificación del cliente\n",
        "- **Trabajo:** Corresponde 1 cuando es Dependiente y 0 cuando es Independiente\n",
        "- **Edad:** La edad del cliente\n",
        "- **Salario:** El salario estimado del cliente\n",
        "- **Compra:** Si, cuando el cliente ha comprado y no cuando no lo ha hecho."
      ],
      "metadata": {
        "id": "3z8zANSytbpe"
      },
      "id": "3z8zANSytbpe"
    },
    {
      "cell_type": "markdown",
      "source": [
        "**El problema a resolver es con los datos historicos (entrenamiento) predecir en virtud de las variables independientes, si un cliente va a efectuar una compra.**"
      ],
      "metadata": {
        "id": "tCQDm813trt5"
      },
      "id": "tCQDm813trt5"
    },
    {
      "cell_type": "markdown",
      "source": [
        "### **Selección de características**"
      ],
      "metadata": {
        "id": "-Jg11MGyts4E"
      },
      "id": "-Jg11MGyts4E"
    },
    {
      "cell_type": "code",
      "source": [
        "datos.info() #visualizacion de los tipos de datos del dataframe"
      ],
      "metadata": {
        "colab": {
          "base_uri": "https://localhost:8080/"
        },
        "id": "ocGN96rCtyS7",
        "outputId": "41ae3f3c-cb89-427a-c055-5a8145f1cda9"
      },
      "id": "ocGN96rCtyS7",
      "execution_count": 9,
      "outputs": [
        {
          "output_type": "stream",
          "name": "stdout",
          "text": [
            "<class 'pandas.core.frame.DataFrame'>\n",
            "RangeIndex: 400 entries, 0 to 399\n",
            "Data columns (total 5 columns):\n",
            " #   Column   Non-Null Count  Dtype \n",
            "---  ------   --------------  ----- \n",
            " 0   ID       400 non-null    int64 \n",
            " 1   Trabajo  400 non-null    int64 \n",
            " 2   Edad     400 non-null    int64 \n",
            " 3   Salario  400 non-null    int64 \n",
            " 4   Compra   400 non-null    object\n",
            "dtypes: int64(4), object(1)\n",
            "memory usage: 15.8+ KB\n"
          ]
        }
      ]
    },
    {
      "cell_type": "markdown",
      "source": [
        "**Podemos constatar que no hay valores nulos, ya que todas las columnas tienen la misma cantidad de datos, pero lo que no podemos constatar es si hay valores duplicados...**"
      ],
      "metadata": {
        "id": "Fv-NOHuNt2aK"
      },
      "id": "Fv-NOHuNt2aK"
    },
    {
      "cell_type": "code",
      "source": [
        "datos.drop_duplicates(inplace=True)\n",
        "datos.shape"
      ],
      "metadata": {
        "colab": {
          "base_uri": "https://localhost:8080/"
        },
        "id": "0VXG3dVit6n4",
        "outputId": "c20d0ec2-6c91-45a5-bfc2-152b843a399b"
      },
      "id": "0VXG3dVit6n4",
      "execution_count": 10,
      "outputs": [
        {
          "output_type": "execute_result",
          "data": {
            "text/plain": [
              "(400, 5)"
            ]
          },
          "metadata": {},
          "execution_count": 10
        }
      ]
    },
    {
      "cell_type": "markdown",
      "source": [
        "**Ahora vamos a eliminar la variable o columna que no es pertinente para el problema planteado...**"
      ],
      "metadata": {
        "id": "yyYEHYCvt8U0"
      },
      "id": "yyYEHYCvt8U0"
    },
    {
      "cell_type": "code",
      "source": [
        "datos = datos.drop(columns=[\"ID\"]) #se elimina la variable no relevante\n",
        "datos #vista del dataframe"
      ],
      "metadata": {
        "colab": {
          "base_uri": "https://localhost:8080/",
          "height": 419
        },
        "id": "V7vQpxRjuBry",
        "outputId": "9d3881c1-c989-447a-bbdc-48bf611b509d"
      },
      "id": "V7vQpxRjuBry",
      "execution_count": 11,
      "outputs": [
        {
          "output_type": "execute_result",
          "data": {
            "text/plain": [
              "     Trabajo  Edad  Salario Compra\n",
              "0          1    19    19000     No\n",
              "1          1    35    20000     No\n",
              "2          0    26    43000     No\n",
              "3          0    27    57000     No\n",
              "4          1    19    76000     No\n",
              "..       ...   ...      ...    ...\n",
              "395        0    46    41000     Si\n",
              "396        1    51    23000     Si\n",
              "397        0    50    20000     Si\n",
              "398        1    36    33000     No\n",
              "399        0    49    36000     Si\n",
              "\n",
              "[400 rows x 4 columns]"
            ],
            "text/html": [
              "\n",
              "  <div id=\"df-b38990d4-32f3-4591-8c1e-bfad3fc3039b\">\n",
              "    <div class=\"colab-df-container\">\n",
              "      <div>\n",
              "<style scoped>\n",
              "    .dataframe tbody tr th:only-of-type {\n",
              "        vertical-align: middle;\n",
              "    }\n",
              "\n",
              "    .dataframe tbody tr th {\n",
              "        vertical-align: top;\n",
              "    }\n",
              "\n",
              "    .dataframe thead th {\n",
              "        text-align: right;\n",
              "    }\n",
              "</style>\n",
              "<table border=\"1\" class=\"dataframe\">\n",
              "  <thead>\n",
              "    <tr style=\"text-align: right;\">\n",
              "      <th></th>\n",
              "      <th>Trabajo</th>\n",
              "      <th>Edad</th>\n",
              "      <th>Salario</th>\n",
              "      <th>Compra</th>\n",
              "    </tr>\n",
              "  </thead>\n",
              "  <tbody>\n",
              "    <tr>\n",
              "      <th>0</th>\n",
              "      <td>1</td>\n",
              "      <td>19</td>\n",
              "      <td>19000</td>\n",
              "      <td>No</td>\n",
              "    </tr>\n",
              "    <tr>\n",
              "      <th>1</th>\n",
              "      <td>1</td>\n",
              "      <td>35</td>\n",
              "      <td>20000</td>\n",
              "      <td>No</td>\n",
              "    </tr>\n",
              "    <tr>\n",
              "      <th>2</th>\n",
              "      <td>0</td>\n",
              "      <td>26</td>\n",
              "      <td>43000</td>\n",
              "      <td>No</td>\n",
              "    </tr>\n",
              "    <tr>\n",
              "      <th>3</th>\n",
              "      <td>0</td>\n",
              "      <td>27</td>\n",
              "      <td>57000</td>\n",
              "      <td>No</td>\n",
              "    </tr>\n",
              "    <tr>\n",
              "      <th>4</th>\n",
              "      <td>1</td>\n",
              "      <td>19</td>\n",
              "      <td>76000</td>\n",
              "      <td>No</td>\n",
              "    </tr>\n",
              "    <tr>\n",
              "      <th>...</th>\n",
              "      <td>...</td>\n",
              "      <td>...</td>\n",
              "      <td>...</td>\n",
              "      <td>...</td>\n",
              "    </tr>\n",
              "    <tr>\n",
              "      <th>395</th>\n",
              "      <td>0</td>\n",
              "      <td>46</td>\n",
              "      <td>41000</td>\n",
              "      <td>Si</td>\n",
              "    </tr>\n",
              "    <tr>\n",
              "      <th>396</th>\n",
              "      <td>1</td>\n",
              "      <td>51</td>\n",
              "      <td>23000</td>\n",
              "      <td>Si</td>\n",
              "    </tr>\n",
              "    <tr>\n",
              "      <th>397</th>\n",
              "      <td>0</td>\n",
              "      <td>50</td>\n",
              "      <td>20000</td>\n",
              "      <td>Si</td>\n",
              "    </tr>\n",
              "    <tr>\n",
              "      <th>398</th>\n",
              "      <td>1</td>\n",
              "      <td>36</td>\n",
              "      <td>33000</td>\n",
              "      <td>No</td>\n",
              "    </tr>\n",
              "    <tr>\n",
              "      <th>399</th>\n",
              "      <td>0</td>\n",
              "      <td>49</td>\n",
              "      <td>36000</td>\n",
              "      <td>Si</td>\n",
              "    </tr>\n",
              "  </tbody>\n",
              "</table>\n",
              "<p>400 rows × 4 columns</p>\n",
              "</div>\n",
              "      <button class=\"colab-df-convert\" onclick=\"convertToInteractive('df-b38990d4-32f3-4591-8c1e-bfad3fc3039b')\"\n",
              "              title=\"Convert this dataframe to an interactive table.\"\n",
              "              style=\"display:none;\">\n",
              "        \n",
              "  <svg xmlns=\"http://www.w3.org/2000/svg\" height=\"24px\"viewBox=\"0 0 24 24\"\n",
              "       width=\"24px\">\n",
              "    <path d=\"M0 0h24v24H0V0z\" fill=\"none\"/>\n",
              "    <path d=\"M18.56 5.44l.94 2.06.94-2.06 2.06-.94-2.06-.94-.94-2.06-.94 2.06-2.06.94zm-11 1L8.5 8.5l.94-2.06 2.06-.94-2.06-.94L8.5 2.5l-.94 2.06-2.06.94zm10 10l.94 2.06.94-2.06 2.06-.94-2.06-.94-.94-2.06-.94 2.06-2.06.94z\"/><path d=\"M17.41 7.96l-1.37-1.37c-.4-.4-.92-.59-1.43-.59-.52 0-1.04.2-1.43.59L10.3 9.45l-7.72 7.72c-.78.78-.78 2.05 0 2.83L4 21.41c.39.39.9.59 1.41.59.51 0 1.02-.2 1.41-.59l7.78-7.78 2.81-2.81c.8-.78.8-2.07 0-2.86zM5.41 20L4 18.59l7.72-7.72 1.47 1.35L5.41 20z\"/>\n",
              "  </svg>\n",
              "      </button>\n",
              "      \n",
              "  <style>\n",
              "    .colab-df-container {\n",
              "      display:flex;\n",
              "      flex-wrap:wrap;\n",
              "      gap: 12px;\n",
              "    }\n",
              "\n",
              "    .colab-df-convert {\n",
              "      background-color: #E8F0FE;\n",
              "      border: none;\n",
              "      border-radius: 50%;\n",
              "      cursor: pointer;\n",
              "      display: none;\n",
              "      fill: #1967D2;\n",
              "      height: 32px;\n",
              "      padding: 0 0 0 0;\n",
              "      width: 32px;\n",
              "    }\n",
              "\n",
              "    .colab-df-convert:hover {\n",
              "      background-color: #E2EBFA;\n",
              "      box-shadow: 0px 1px 2px rgba(60, 64, 67, 0.3), 0px 1px 3px 1px rgba(60, 64, 67, 0.15);\n",
              "      fill: #174EA6;\n",
              "    }\n",
              "\n",
              "    [theme=dark] .colab-df-convert {\n",
              "      background-color: #3B4455;\n",
              "      fill: #D2E3FC;\n",
              "    }\n",
              "\n",
              "    [theme=dark] .colab-df-convert:hover {\n",
              "      background-color: #434B5C;\n",
              "      box-shadow: 0px 1px 3px 1px rgba(0, 0, 0, 0.15);\n",
              "      filter: drop-shadow(0px 1px 2px rgba(0, 0, 0, 0.3));\n",
              "      fill: #FFFFFF;\n",
              "    }\n",
              "  </style>\n",
              "\n",
              "      <script>\n",
              "        const buttonEl =\n",
              "          document.querySelector('#df-b38990d4-32f3-4591-8c1e-bfad3fc3039b button.colab-df-convert');\n",
              "        buttonEl.style.display =\n",
              "          google.colab.kernel.accessAllowed ? 'block' : 'none';\n",
              "\n",
              "        async function convertToInteractive(key) {\n",
              "          const element = document.querySelector('#df-b38990d4-32f3-4591-8c1e-bfad3fc3039b');\n",
              "          const dataTable =\n",
              "            await google.colab.kernel.invokeFunction('convertToInteractive',\n",
              "                                                     [key], {});\n",
              "          if (!dataTable) return;\n",
              "\n",
              "          const docLinkHtml = 'Like what you see? Visit the ' +\n",
              "            '<a target=\"_blank\" href=https://colab.research.google.com/notebooks/data_table.ipynb>data table notebook</a>'\n",
              "            + ' to learn more about interactive tables.';\n",
              "          element.innerHTML = '';\n",
              "          dataTable['output_type'] = 'display_data';\n",
              "          await google.colab.output.renderOutput(dataTable, element);\n",
              "          const docLink = document.createElement('div');\n",
              "          docLink.innerHTML = docLinkHtml;\n",
              "          element.appendChild(docLink);\n",
              "        }\n",
              "      </script>\n",
              "    </div>\n",
              "  </div>\n",
              "  "
            ]
          },
          "metadata": {},
          "execution_count": 11
        }
      ]
    },
    {
      "cell_type": "markdown",
      "source": [
        "## **División del Conjunto de Datos**"
      ],
      "metadata": {
        "id": "HfPOHNsXunJ3"
      },
      "id": "HfPOHNsXunJ3"
    },
    {
      "cell_type": "code",
      "source": [
        "clientes = datos.sample(frac=0.75, random_state=0)\n",
        "clientes_no_vistos = datos.drop(clientes.index)"
      ],
      "metadata": {
        "id": "QuUYws6surcO"
      },
      "id": "QuUYws6surcO",
      "execution_count": 12,
      "outputs": []
    },
    {
      "cell_type": "code",
      "source": [
        "clientes.reset_index(inplace=True, drop=True)\n",
        "clientes_no_vistos.reset_index(inplace=True, drop=True)"
      ],
      "metadata": {
        "id": "JXYNJxK2vLpl"
      },
      "id": "JXYNJxK2vLpl",
      "execution_count": 13,
      "outputs": []
    },
    {
      "cell_type": "code",
      "source": [
        "print(\"Datos para Modelar: \" + str(clientes.shape))\n",
        "print(\"Datos no vistos para Predicciones: \" + str(clientes_no_vistos.shape))"
      ],
      "metadata": {
        "colab": {
          "base_uri": "https://localhost:8080/"
        },
        "id": "lEuBE7l7vPTq",
        "outputId": "8dfb47f9-b622-456a-964c-a9376922351d"
      },
      "id": "lEuBE7l7vPTq",
      "execution_count": 14,
      "outputs": [
        {
          "output_type": "stream",
          "name": "stdout",
          "text": [
            "Datos para Modelar: (300, 4)\n",
            "Datos no vistos para Predicciones: (100, 4)\n"
          ]
        }
      ]
    },
    {
      "cell_type": "code",
      "source": [
        "clientes"
      ],
      "metadata": {
        "colab": {
          "base_uri": "https://localhost:8080/",
          "height": 419
        },
        "id": "aUPAMtvkvSaF",
        "outputId": "390b2397-a3fb-4c09-ed12-0eec2f139707"
      },
      "id": "aUPAMtvkvSaF",
      "execution_count": 15,
      "outputs": [
        {
          "output_type": "execute_result",
          "data": {
            "text/plain": [
              "     Trabajo  Edad  Salario Compra\n",
              "0          1    30    87000     No\n",
              "1          0    38    50000     No\n",
              "2          1    35    75000     No\n",
              "3          0    30    79000     No\n",
              "4          0    35    50000     No\n",
              "..       ...   ...      ...    ...\n",
              "295        1    31    58000     No\n",
              "296        0    33    41000     No\n",
              "297        0    45    22000     Si\n",
              "298        1    30    15000     No\n",
              "299        1    19    19000     No\n",
              "\n",
              "[300 rows x 4 columns]"
            ],
            "text/html": [
              "\n",
              "  <div id=\"df-0573e2e1-2c88-46f0-8a5d-a2b5fc7bb236\">\n",
              "    <div class=\"colab-df-container\">\n",
              "      <div>\n",
              "<style scoped>\n",
              "    .dataframe tbody tr th:only-of-type {\n",
              "        vertical-align: middle;\n",
              "    }\n",
              "\n",
              "    .dataframe tbody tr th {\n",
              "        vertical-align: top;\n",
              "    }\n",
              "\n",
              "    .dataframe thead th {\n",
              "        text-align: right;\n",
              "    }\n",
              "</style>\n",
              "<table border=\"1\" class=\"dataframe\">\n",
              "  <thead>\n",
              "    <tr style=\"text-align: right;\">\n",
              "      <th></th>\n",
              "      <th>Trabajo</th>\n",
              "      <th>Edad</th>\n",
              "      <th>Salario</th>\n",
              "      <th>Compra</th>\n",
              "    </tr>\n",
              "  </thead>\n",
              "  <tbody>\n",
              "    <tr>\n",
              "      <th>0</th>\n",
              "      <td>1</td>\n",
              "      <td>30</td>\n",
              "      <td>87000</td>\n",
              "      <td>No</td>\n",
              "    </tr>\n",
              "    <tr>\n",
              "      <th>1</th>\n",
              "      <td>0</td>\n",
              "      <td>38</td>\n",
              "      <td>50000</td>\n",
              "      <td>No</td>\n",
              "    </tr>\n",
              "    <tr>\n",
              "      <th>2</th>\n",
              "      <td>1</td>\n",
              "      <td>35</td>\n",
              "      <td>75000</td>\n",
              "      <td>No</td>\n",
              "    </tr>\n",
              "    <tr>\n",
              "      <th>3</th>\n",
              "      <td>0</td>\n",
              "      <td>30</td>\n",
              "      <td>79000</td>\n",
              "      <td>No</td>\n",
              "    </tr>\n",
              "    <tr>\n",
              "      <th>4</th>\n",
              "      <td>0</td>\n",
              "      <td>35</td>\n",
              "      <td>50000</td>\n",
              "      <td>No</td>\n",
              "    </tr>\n",
              "    <tr>\n",
              "      <th>...</th>\n",
              "      <td>...</td>\n",
              "      <td>...</td>\n",
              "      <td>...</td>\n",
              "      <td>...</td>\n",
              "    </tr>\n",
              "    <tr>\n",
              "      <th>295</th>\n",
              "      <td>1</td>\n",
              "      <td>31</td>\n",
              "      <td>58000</td>\n",
              "      <td>No</td>\n",
              "    </tr>\n",
              "    <tr>\n",
              "      <th>296</th>\n",
              "      <td>0</td>\n",
              "      <td>33</td>\n",
              "      <td>41000</td>\n",
              "      <td>No</td>\n",
              "    </tr>\n",
              "    <tr>\n",
              "      <th>297</th>\n",
              "      <td>0</td>\n",
              "      <td>45</td>\n",
              "      <td>22000</td>\n",
              "      <td>Si</td>\n",
              "    </tr>\n",
              "    <tr>\n",
              "      <th>298</th>\n",
              "      <td>1</td>\n",
              "      <td>30</td>\n",
              "      <td>15000</td>\n",
              "      <td>No</td>\n",
              "    </tr>\n",
              "    <tr>\n",
              "      <th>299</th>\n",
              "      <td>1</td>\n",
              "      <td>19</td>\n",
              "      <td>19000</td>\n",
              "      <td>No</td>\n",
              "    </tr>\n",
              "  </tbody>\n",
              "</table>\n",
              "<p>300 rows × 4 columns</p>\n",
              "</div>\n",
              "      <button class=\"colab-df-convert\" onclick=\"convertToInteractive('df-0573e2e1-2c88-46f0-8a5d-a2b5fc7bb236')\"\n",
              "              title=\"Convert this dataframe to an interactive table.\"\n",
              "              style=\"display:none;\">\n",
              "        \n",
              "  <svg xmlns=\"http://www.w3.org/2000/svg\" height=\"24px\"viewBox=\"0 0 24 24\"\n",
              "       width=\"24px\">\n",
              "    <path d=\"M0 0h24v24H0V0z\" fill=\"none\"/>\n",
              "    <path d=\"M18.56 5.44l.94 2.06.94-2.06 2.06-.94-2.06-.94-.94-2.06-.94 2.06-2.06.94zm-11 1L8.5 8.5l.94-2.06 2.06-.94-2.06-.94L8.5 2.5l-.94 2.06-2.06.94zm10 10l.94 2.06.94-2.06 2.06-.94-2.06-.94-.94-2.06-.94 2.06-2.06.94z\"/><path d=\"M17.41 7.96l-1.37-1.37c-.4-.4-.92-.59-1.43-.59-.52 0-1.04.2-1.43.59L10.3 9.45l-7.72 7.72c-.78.78-.78 2.05 0 2.83L4 21.41c.39.39.9.59 1.41.59.51 0 1.02-.2 1.41-.59l7.78-7.78 2.81-2.81c.8-.78.8-2.07 0-2.86zM5.41 20L4 18.59l7.72-7.72 1.47 1.35L5.41 20z\"/>\n",
              "  </svg>\n",
              "      </button>\n",
              "      \n",
              "  <style>\n",
              "    .colab-df-container {\n",
              "      display:flex;\n",
              "      flex-wrap:wrap;\n",
              "      gap: 12px;\n",
              "    }\n",
              "\n",
              "    .colab-df-convert {\n",
              "      background-color: #E8F0FE;\n",
              "      border: none;\n",
              "      border-radius: 50%;\n",
              "      cursor: pointer;\n",
              "      display: none;\n",
              "      fill: #1967D2;\n",
              "      height: 32px;\n",
              "      padding: 0 0 0 0;\n",
              "      width: 32px;\n",
              "    }\n",
              "\n",
              "    .colab-df-convert:hover {\n",
              "      background-color: #E2EBFA;\n",
              "      box-shadow: 0px 1px 2px rgba(60, 64, 67, 0.3), 0px 1px 3px 1px rgba(60, 64, 67, 0.15);\n",
              "      fill: #174EA6;\n",
              "    }\n",
              "\n",
              "    [theme=dark] .colab-df-convert {\n",
              "      background-color: #3B4455;\n",
              "      fill: #D2E3FC;\n",
              "    }\n",
              "\n",
              "    [theme=dark] .colab-df-convert:hover {\n",
              "      background-color: #434B5C;\n",
              "      box-shadow: 0px 1px 3px 1px rgba(0, 0, 0, 0.15);\n",
              "      filter: drop-shadow(0px 1px 2px rgba(0, 0, 0, 0.3));\n",
              "      fill: #FFFFFF;\n",
              "    }\n",
              "  </style>\n",
              "\n",
              "      <script>\n",
              "        const buttonEl =\n",
              "          document.querySelector('#df-0573e2e1-2c88-46f0-8a5d-a2b5fc7bb236 button.colab-df-convert');\n",
              "        buttonEl.style.display =\n",
              "          google.colab.kernel.accessAllowed ? 'block' : 'none';\n",
              "\n",
              "        async function convertToInteractive(key) {\n",
              "          const element = document.querySelector('#df-0573e2e1-2c88-46f0-8a5d-a2b5fc7bb236');\n",
              "          const dataTable =\n",
              "            await google.colab.kernel.invokeFunction('convertToInteractive',\n",
              "                                                     [key], {});\n",
              "          if (!dataTable) return;\n",
              "\n",
              "          const docLinkHtml = 'Like what you see? Visit the ' +\n",
              "            '<a target=\"_blank\" href=https://colab.research.google.com/notebooks/data_table.ipynb>data table notebook</a>'\n",
              "            + ' to learn more about interactive tables.';\n",
              "          element.innerHTML = '';\n",
              "          dataTable['output_type'] = 'display_data';\n",
              "          await google.colab.output.renderOutput(dataTable, element);\n",
              "          const docLink = document.createElement('div');\n",
              "          docLink.innerHTML = docLinkHtml;\n",
              "          element.appendChild(docLink);\n",
              "        }\n",
              "      </script>\n",
              "    </div>\n",
              "  </div>\n",
              "  "
            ]
          },
          "metadata": {},
          "execution_count": 15
        }
      ]
    },
    {
      "cell_type": "code",
      "source": [
        "clientes_no_vistos"
      ],
      "metadata": {
        "colab": {
          "base_uri": "https://localhost:8080/",
          "height": 419
        },
        "id": "cvM_Mg2wvVdX",
        "outputId": "8722e9e1-b0c7-4354-afa2-2f86ce6c67d5"
      },
      "id": "cvM_Mg2wvVdX",
      "execution_count": 16,
      "outputs": [
        {
          "output_type": "execute_result",
          "data": {
            "text/plain": [
              "    Trabajo  Edad  Salario Compra\n",
              "0         0    35    65000     No\n",
              "1         1    47    20000     Si\n",
              "2         1    29    43000     No\n",
              "3         0    27   137000     Si\n",
              "4         0    21    16000     No\n",
              "..      ...   ...      ...    ...\n",
              "95        0    39    73000     No\n",
              "96        0    57    33000     Si\n",
              "97        0    49    39000     Si\n",
              "98        1    39    71000     No\n",
              "99        1    36    33000     No\n",
              "\n",
              "[100 rows x 4 columns]"
            ],
            "text/html": [
              "\n",
              "  <div id=\"df-1159e0fd-b8b8-49b8-ad11-d42a68bc98e4\">\n",
              "    <div class=\"colab-df-container\">\n",
              "      <div>\n",
              "<style scoped>\n",
              "    .dataframe tbody tr th:only-of-type {\n",
              "        vertical-align: middle;\n",
              "    }\n",
              "\n",
              "    .dataframe tbody tr th {\n",
              "        vertical-align: top;\n",
              "    }\n",
              "\n",
              "    .dataframe thead th {\n",
              "        text-align: right;\n",
              "    }\n",
              "</style>\n",
              "<table border=\"1\" class=\"dataframe\">\n",
              "  <thead>\n",
              "    <tr style=\"text-align: right;\">\n",
              "      <th></th>\n",
              "      <th>Trabajo</th>\n",
              "      <th>Edad</th>\n",
              "      <th>Salario</th>\n",
              "      <th>Compra</th>\n",
              "    </tr>\n",
              "  </thead>\n",
              "  <tbody>\n",
              "    <tr>\n",
              "      <th>0</th>\n",
              "      <td>0</td>\n",
              "      <td>35</td>\n",
              "      <td>65000</td>\n",
              "      <td>No</td>\n",
              "    </tr>\n",
              "    <tr>\n",
              "      <th>1</th>\n",
              "      <td>1</td>\n",
              "      <td>47</td>\n",
              "      <td>20000</td>\n",
              "      <td>Si</td>\n",
              "    </tr>\n",
              "    <tr>\n",
              "      <th>2</th>\n",
              "      <td>1</td>\n",
              "      <td>29</td>\n",
              "      <td>43000</td>\n",
              "      <td>No</td>\n",
              "    </tr>\n",
              "    <tr>\n",
              "      <th>3</th>\n",
              "      <td>0</td>\n",
              "      <td>27</td>\n",
              "      <td>137000</td>\n",
              "      <td>Si</td>\n",
              "    </tr>\n",
              "    <tr>\n",
              "      <th>4</th>\n",
              "      <td>0</td>\n",
              "      <td>21</td>\n",
              "      <td>16000</td>\n",
              "      <td>No</td>\n",
              "    </tr>\n",
              "    <tr>\n",
              "      <th>...</th>\n",
              "      <td>...</td>\n",
              "      <td>...</td>\n",
              "      <td>...</td>\n",
              "      <td>...</td>\n",
              "    </tr>\n",
              "    <tr>\n",
              "      <th>95</th>\n",
              "      <td>0</td>\n",
              "      <td>39</td>\n",
              "      <td>73000</td>\n",
              "      <td>No</td>\n",
              "    </tr>\n",
              "    <tr>\n",
              "      <th>96</th>\n",
              "      <td>0</td>\n",
              "      <td>57</td>\n",
              "      <td>33000</td>\n",
              "      <td>Si</td>\n",
              "    </tr>\n",
              "    <tr>\n",
              "      <th>97</th>\n",
              "      <td>0</td>\n",
              "      <td>49</td>\n",
              "      <td>39000</td>\n",
              "      <td>Si</td>\n",
              "    </tr>\n",
              "    <tr>\n",
              "      <th>98</th>\n",
              "      <td>1</td>\n",
              "      <td>39</td>\n",
              "      <td>71000</td>\n",
              "      <td>No</td>\n",
              "    </tr>\n",
              "    <tr>\n",
              "      <th>99</th>\n",
              "      <td>1</td>\n",
              "      <td>36</td>\n",
              "      <td>33000</td>\n",
              "      <td>No</td>\n",
              "    </tr>\n",
              "  </tbody>\n",
              "</table>\n",
              "<p>100 rows × 4 columns</p>\n",
              "</div>\n",
              "      <button class=\"colab-df-convert\" onclick=\"convertToInteractive('df-1159e0fd-b8b8-49b8-ad11-d42a68bc98e4')\"\n",
              "              title=\"Convert this dataframe to an interactive table.\"\n",
              "              style=\"display:none;\">\n",
              "        \n",
              "  <svg xmlns=\"http://www.w3.org/2000/svg\" height=\"24px\"viewBox=\"0 0 24 24\"\n",
              "       width=\"24px\">\n",
              "    <path d=\"M0 0h24v24H0V0z\" fill=\"none\"/>\n",
              "    <path d=\"M18.56 5.44l.94 2.06.94-2.06 2.06-.94-2.06-.94-.94-2.06-.94 2.06-2.06.94zm-11 1L8.5 8.5l.94-2.06 2.06-.94-2.06-.94L8.5 2.5l-.94 2.06-2.06.94zm10 10l.94 2.06.94-2.06 2.06-.94-2.06-.94-.94-2.06-.94 2.06-2.06.94z\"/><path d=\"M17.41 7.96l-1.37-1.37c-.4-.4-.92-.59-1.43-.59-.52 0-1.04.2-1.43.59L10.3 9.45l-7.72 7.72c-.78.78-.78 2.05 0 2.83L4 21.41c.39.39.9.59 1.41.59.51 0 1.02-.2 1.41-.59l7.78-7.78 2.81-2.81c.8-.78.8-2.07 0-2.86zM5.41 20L4 18.59l7.72-7.72 1.47 1.35L5.41 20z\"/>\n",
              "  </svg>\n",
              "      </button>\n",
              "      \n",
              "  <style>\n",
              "    .colab-df-container {\n",
              "      display:flex;\n",
              "      flex-wrap:wrap;\n",
              "      gap: 12px;\n",
              "    }\n",
              "\n",
              "    .colab-df-convert {\n",
              "      background-color: #E8F0FE;\n",
              "      border: none;\n",
              "      border-radius: 50%;\n",
              "      cursor: pointer;\n",
              "      display: none;\n",
              "      fill: #1967D2;\n",
              "      height: 32px;\n",
              "      padding: 0 0 0 0;\n",
              "      width: 32px;\n",
              "    }\n",
              "\n",
              "    .colab-df-convert:hover {\n",
              "      background-color: #E2EBFA;\n",
              "      box-shadow: 0px 1px 2px rgba(60, 64, 67, 0.3), 0px 1px 3px 1px rgba(60, 64, 67, 0.15);\n",
              "      fill: #174EA6;\n",
              "    }\n",
              "\n",
              "    [theme=dark] .colab-df-convert {\n",
              "      background-color: #3B4455;\n",
              "      fill: #D2E3FC;\n",
              "    }\n",
              "\n",
              "    [theme=dark] .colab-df-convert:hover {\n",
              "      background-color: #434B5C;\n",
              "      box-shadow: 0px 1px 3px 1px rgba(0, 0, 0, 0.15);\n",
              "      filter: drop-shadow(0px 1px 2px rgba(0, 0, 0, 0.3));\n",
              "      fill: #FFFFFF;\n",
              "    }\n",
              "  </style>\n",
              "\n",
              "      <script>\n",
              "        const buttonEl =\n",
              "          document.querySelector('#df-1159e0fd-b8b8-49b8-ad11-d42a68bc98e4 button.colab-df-convert');\n",
              "        buttonEl.style.display =\n",
              "          google.colab.kernel.accessAllowed ? 'block' : 'none';\n",
              "\n",
              "        async function convertToInteractive(key) {\n",
              "          const element = document.querySelector('#df-1159e0fd-b8b8-49b8-ad11-d42a68bc98e4');\n",
              "          const dataTable =\n",
              "            await google.colab.kernel.invokeFunction('convertToInteractive',\n",
              "                                                     [key], {});\n",
              "          if (!dataTable) return;\n",
              "\n",
              "          const docLinkHtml = 'Like what you see? Visit the ' +\n",
              "            '<a target=\"_blank\" href=https://colab.research.google.com/notebooks/data_table.ipynb>data table notebook</a>'\n",
              "            + ' to learn more about interactive tables.';\n",
              "          element.innerHTML = '';\n",
              "          dataTable['output_type'] = 'display_data';\n",
              "          await google.colab.output.renderOutput(dataTable, element);\n",
              "          const docLink = document.createElement('div');\n",
              "          docLink.innerHTML = docLinkHtml;\n",
              "          element.appendChild(docLink);\n",
              "        }\n",
              "      </script>\n",
              "    </div>\n",
              "  </div>\n",
              "  "
            ]
          },
          "metadata": {},
          "execution_count": 16
        }
      ]
    },
    {
      "cell_type": "markdown",
      "source": [
        "# **Configuración del entorno en PyCaret**"
      ],
      "metadata": {
        "id": "WNfzgCUxvhZn"
      },
      "id": "WNfzgCUxvhZn"
    },
    {
      "cell_type": "markdown",
      "source": [
        "**La función setup() inicializa el entorno en PyCaret y prepara los datos para el modelo seleccionado y la implementación de ese modelo. La función setup() debe ser llamada antes de ejecutar cualquier función de PyCaret.** \n",
        "\n",
        "**Se necesitan dos parámetros obligatorios:** \n",
        "- Un marco de datos de Pandas y, \n",
        "- el nombre de la columna de destino. \n",
        "\n",
        "**Todos los demás parámetros son opcionales y se utilizan para personalizar el preprocesamiento de los datos.**"
      ],
      "metadata": {
        "id": "IWAn0o750O5y"
      },
      "id": "IWAn0o750O5y"
    },
    {
      "cell_type": "code",
      "source": [
        "from pycaret.classification import *"
      ],
      "metadata": {
        "id": "ruJzioeQvgwq"
      },
      "id": "ruJzioeQvgwq",
      "execution_count": 17,
      "outputs": []
    },
    {
      "cell_type": "code",
      "source": [
        "from pycaret.classification.oop import *\n",
        "LOGGER.disabled=True"
      ],
      "metadata": {
        "id": "UKC9hwl0Epj2"
      },
      "id": "UKC9hwl0Epj2",
      "execution_count": 40,
      "outputs": []
    },
    {
      "cell_type": "markdown",
      "source": [
        "**Cuando se ejecuta setup(), el algoritmo de inferencia de PyCaret determina automáticamente los tipos de datos para todas las funciones en función de determinadas propiedades.**\n",
        "\n",
        "**El tipo de datos debe inferirse correctamente, pero no siempre es así. Para tener en cuenta esto, PyCaret muestra una tabla que contiene las características y sus tipos de datos inferidos después de que se ejecuta setup( ).** \n",
        "\n",
        "**Si todos los tipos de datos están identificados correctamente, se debe presionar enter para continuar o se puede ingresar salir para finalizar la experiencia. Asegurarse de que los tipos de datos sean correctos es  fundamental, ya que se realiza automáticamente algunas tareas de preprocesamiento que son imperativas para cualquier experimento de aprendizaje automático.** \n",
        "\n",
        "**Estas tareas se realizan de forma diferente para cada tipo de datos, por lo que es muy importante que estén configuradas correctamente.**"
      ],
      "metadata": {
        "id": "y3NsY-020ZCv"
      },
      "id": "y3NsY-020ZCv"
    },
    {
      "cell_type": "code",
      "source": [
        "clasificacion = setup(data = clientes, target = \"Compra\", session_id=123)"
      ],
      "metadata": {
        "colab": {
          "base_uri": "https://localhost:8080/",
          "height": 669
        },
        "id": "jvGpkdyr0Yku",
        "outputId": "c6b16303-427d-4faa-ede8-cd5ad355f07c"
      },
      "id": "jvGpkdyr0Yku",
      "execution_count": 18,
      "outputs": [
        {
          "output_type": "display_data",
          "data": {
            "text/plain": [
              "<pandas.io.formats.style.Styler at 0x7fe77489dcd0>"
            ],
            "text/html": [
              "<style type=\"text/css\">\n",
              "#T_d713d_row9_col1 {\n",
              "  background-color: lightgreen;\n",
              "}\n",
              "</style>\n",
              "<table id=\"T_d713d_\" class=\"dataframe\">\n",
              "  <thead>\n",
              "    <tr>\n",
              "      <th class=\"blank level0\" >&nbsp;</th>\n",
              "      <th class=\"col_heading level0 col0\" >Description</th>\n",
              "      <th class=\"col_heading level0 col1\" >Value</th>\n",
              "    </tr>\n",
              "  </thead>\n",
              "  <tbody>\n",
              "    <tr>\n",
              "      <th id=\"T_d713d_level0_row0\" class=\"row_heading level0 row0\" >0</th>\n",
              "      <td id=\"T_d713d_row0_col0\" class=\"data row0 col0\" >Session id</td>\n",
              "      <td id=\"T_d713d_row0_col1\" class=\"data row0 col1\" >123</td>\n",
              "    </tr>\n",
              "    <tr>\n",
              "      <th id=\"T_d713d_level0_row1\" class=\"row_heading level0 row1\" >1</th>\n",
              "      <td id=\"T_d713d_row1_col0\" class=\"data row1 col0\" >Target</td>\n",
              "      <td id=\"T_d713d_row1_col1\" class=\"data row1 col1\" >Compra</td>\n",
              "    </tr>\n",
              "    <tr>\n",
              "      <th id=\"T_d713d_level0_row2\" class=\"row_heading level0 row2\" >2</th>\n",
              "      <td id=\"T_d713d_row2_col0\" class=\"data row2 col0\" >Target type</td>\n",
              "      <td id=\"T_d713d_row2_col1\" class=\"data row2 col1\" >Binary</td>\n",
              "    </tr>\n",
              "    <tr>\n",
              "      <th id=\"T_d713d_level0_row3\" class=\"row_heading level0 row3\" >3</th>\n",
              "      <td id=\"T_d713d_row3_col0\" class=\"data row3 col0\" >Target mapping</td>\n",
              "      <td id=\"T_d713d_row3_col1\" class=\"data row3 col1\" >No: 0, Si: 1</td>\n",
              "    </tr>\n",
              "    <tr>\n",
              "      <th id=\"T_d713d_level0_row4\" class=\"row_heading level0 row4\" >4</th>\n",
              "      <td id=\"T_d713d_row4_col0\" class=\"data row4 col0\" >Original data shape</td>\n",
              "      <td id=\"T_d713d_row4_col1\" class=\"data row4 col1\" >(300, 4)</td>\n",
              "    </tr>\n",
              "    <tr>\n",
              "      <th id=\"T_d713d_level0_row5\" class=\"row_heading level0 row5\" >5</th>\n",
              "      <td id=\"T_d713d_row5_col0\" class=\"data row5 col0\" >Transformed data shape</td>\n",
              "      <td id=\"T_d713d_row5_col1\" class=\"data row5 col1\" >(300, 4)</td>\n",
              "    </tr>\n",
              "    <tr>\n",
              "      <th id=\"T_d713d_level0_row6\" class=\"row_heading level0 row6\" >6</th>\n",
              "      <td id=\"T_d713d_row6_col0\" class=\"data row6 col0\" >Transformed train set shape</td>\n",
              "      <td id=\"T_d713d_row6_col1\" class=\"data row6 col1\" >(209, 4)</td>\n",
              "    </tr>\n",
              "    <tr>\n",
              "      <th id=\"T_d713d_level0_row7\" class=\"row_heading level0 row7\" >7</th>\n",
              "      <td id=\"T_d713d_row7_col0\" class=\"data row7 col0\" >Transformed test set shape</td>\n",
              "      <td id=\"T_d713d_row7_col1\" class=\"data row7 col1\" >(91, 4)</td>\n",
              "    </tr>\n",
              "    <tr>\n",
              "      <th id=\"T_d713d_level0_row8\" class=\"row_heading level0 row8\" >8</th>\n",
              "      <td id=\"T_d713d_row8_col0\" class=\"data row8 col0\" >Numeric features</td>\n",
              "      <td id=\"T_d713d_row8_col1\" class=\"data row8 col1\" >3</td>\n",
              "    </tr>\n",
              "    <tr>\n",
              "      <th id=\"T_d713d_level0_row9\" class=\"row_heading level0 row9\" >9</th>\n",
              "      <td id=\"T_d713d_row9_col0\" class=\"data row9 col0\" >Preprocess</td>\n",
              "      <td id=\"T_d713d_row9_col1\" class=\"data row9 col1\" >True</td>\n",
              "    </tr>\n",
              "    <tr>\n",
              "      <th id=\"T_d713d_level0_row10\" class=\"row_heading level0 row10\" >10</th>\n",
              "      <td id=\"T_d713d_row10_col0\" class=\"data row10 col0\" >Imputation type</td>\n",
              "      <td id=\"T_d713d_row10_col1\" class=\"data row10 col1\" >simple</td>\n",
              "    </tr>\n",
              "    <tr>\n",
              "      <th id=\"T_d713d_level0_row11\" class=\"row_heading level0 row11\" >11</th>\n",
              "      <td id=\"T_d713d_row11_col0\" class=\"data row11 col0\" >Numeric imputation</td>\n",
              "      <td id=\"T_d713d_row11_col1\" class=\"data row11 col1\" >mean</td>\n",
              "    </tr>\n",
              "    <tr>\n",
              "      <th id=\"T_d713d_level0_row12\" class=\"row_heading level0 row12\" >12</th>\n",
              "      <td id=\"T_d713d_row12_col0\" class=\"data row12 col0\" >Categorical imputation</td>\n",
              "      <td id=\"T_d713d_row12_col1\" class=\"data row12 col1\" >constant</td>\n",
              "    </tr>\n",
              "    <tr>\n",
              "      <th id=\"T_d713d_level0_row13\" class=\"row_heading level0 row13\" >13</th>\n",
              "      <td id=\"T_d713d_row13_col0\" class=\"data row13 col0\" >Fold Generator</td>\n",
              "      <td id=\"T_d713d_row13_col1\" class=\"data row13 col1\" >StratifiedKFold</td>\n",
              "    </tr>\n",
              "    <tr>\n",
              "      <th id=\"T_d713d_level0_row14\" class=\"row_heading level0 row14\" >14</th>\n",
              "      <td id=\"T_d713d_row14_col0\" class=\"data row14 col0\" >Fold Number</td>\n",
              "      <td id=\"T_d713d_row14_col1\" class=\"data row14 col1\" >10</td>\n",
              "    </tr>\n",
              "    <tr>\n",
              "      <th id=\"T_d713d_level0_row15\" class=\"row_heading level0 row15\" >15</th>\n",
              "      <td id=\"T_d713d_row15_col0\" class=\"data row15 col0\" >CPU Jobs</td>\n",
              "      <td id=\"T_d713d_row15_col1\" class=\"data row15 col1\" >-1</td>\n",
              "    </tr>\n",
              "    <tr>\n",
              "      <th id=\"T_d713d_level0_row16\" class=\"row_heading level0 row16\" >16</th>\n",
              "      <td id=\"T_d713d_row16_col0\" class=\"data row16 col0\" >Use GPU</td>\n",
              "      <td id=\"T_d713d_row16_col1\" class=\"data row16 col1\" >False</td>\n",
              "    </tr>\n",
              "    <tr>\n",
              "      <th id=\"T_d713d_level0_row17\" class=\"row_heading level0 row17\" >17</th>\n",
              "      <td id=\"T_d713d_row17_col0\" class=\"data row17 col0\" >Log Experiment</td>\n",
              "      <td id=\"T_d713d_row17_col1\" class=\"data row17 col1\" >False</td>\n",
              "    </tr>\n",
              "    <tr>\n",
              "      <th id=\"T_d713d_level0_row18\" class=\"row_heading level0 row18\" >18</th>\n",
              "      <td id=\"T_d713d_row18_col0\" class=\"data row18 col0\" >Experiment Name</td>\n",
              "      <td id=\"T_d713d_row18_col1\" class=\"data row18 col1\" >clf-default-name</td>\n",
              "    </tr>\n",
              "    <tr>\n",
              "      <th id=\"T_d713d_level0_row19\" class=\"row_heading level0 row19\" >19</th>\n",
              "      <td id=\"T_d713d_row19_col0\" class=\"data row19 col0\" >USI</td>\n",
              "      <td id=\"T_d713d_row19_col1\" class=\"data row19 col1\" >8c85</td>\n",
              "    </tr>\n",
              "  </tbody>\n",
              "</table>\n"
            ]
          },
          "metadata": {}
        }
      ]
    },
    {
      "cell_type": "markdown",
      "source": [
        "# **Comparando los algoritmos de Clasificación**"
      ],
      "metadata": {
        "id": "zPHv9OzM04ad"
      },
      "id": "zPHv9OzM04ad"
    },
    {
      "cell_type": "markdown",
      "source": [
        "**Comparar todos los modelos para evaluar el rendimiento es el punto de partida recomendado para el modelado una vez que se completa la configuración (a menos que sepa exactamente qué tipo de modelo necesita, que a menudo no es el caso).**"
      ],
      "metadata": {
        "id": "qmesJ8Zh093T"
      },
      "id": "qmesJ8Zh093T"
    },
    {
      "cell_type": "code",
      "source": [
        "mejor_modelo = compare_models()"
      ],
      "metadata": {
        "colab": {
          "base_uri": "https://localhost:8080/",
          "height": 545,
          "referenced_widgets": [
            "8d2da2d88aee48b091cce58a5b500986",
            "a4ce0f5c837a4f97826f6f3fde102a9a",
            "4bf1c1d37166475a9b708488f1896f75",
            "f0d0e1e491714307ad977a65d7e6d8c9",
            "623d7ae09bbd4ab383a083733ef07525",
            "e01e9213c3f748b888bbedff2689b4fd",
            "733d86988640443b87c711d8272cf176",
            "734465b861544ca88cce5393c4501cc7",
            "622258a063264762a3d3571ae4c22ef0",
            "c75a79d1c2a344f28e4608d69646abd3",
            "9daeadbb694b48dc8be0aa3be024603c"
          ]
        },
        "id": "FzbTpftK1CEr",
        "outputId": "00399206-8f68-4a0d-c185-9be56aee2ab1"
      },
      "id": "FzbTpftK1CEr",
      "execution_count": 19,
      "outputs": [
        {
          "output_type": "display_data",
          "data": {
            "text/plain": [
              "<IPython.core.display.HTML object>"
            ],
            "text/html": []
          },
          "metadata": {}
        },
        {
          "output_type": "display_data",
          "data": {
            "text/plain": [
              "<pandas.io.formats.style.Styler at 0x7fe772130fd0>"
            ],
            "text/html": [
              "<style type=\"text/css\">\n",
              "#T_f4ee9_ th {\n",
              "  text-align: left;\n",
              "}\n",
              "#T_f4ee9_row0_col0, #T_f4ee9_row0_col2, #T_f4ee9_row0_col4, #T_f4ee9_row1_col0, #T_f4ee9_row1_col2, #T_f4ee9_row1_col3, #T_f4ee9_row1_col4, #T_f4ee9_row1_col5, #T_f4ee9_row1_col6, #T_f4ee9_row1_col7, #T_f4ee9_row2_col0, #T_f4ee9_row2_col1, #T_f4ee9_row2_col2, #T_f4ee9_row2_col4, #T_f4ee9_row2_col5, #T_f4ee9_row2_col6, #T_f4ee9_row2_col7, #T_f4ee9_row3_col0, #T_f4ee9_row3_col1, #T_f4ee9_row3_col2, #T_f4ee9_row3_col4, #T_f4ee9_row3_col5, #T_f4ee9_row3_col6, #T_f4ee9_row3_col7, #T_f4ee9_row4_col0, #T_f4ee9_row4_col1, #T_f4ee9_row4_col3, #T_f4ee9_row4_col5, #T_f4ee9_row4_col6, #T_f4ee9_row4_col7, #T_f4ee9_row5_col0, #T_f4ee9_row5_col1, #T_f4ee9_row5_col2, #T_f4ee9_row5_col3, #T_f4ee9_row5_col4, #T_f4ee9_row5_col5, #T_f4ee9_row5_col6, #T_f4ee9_row5_col7, #T_f4ee9_row6_col0, #T_f4ee9_row6_col1, #T_f4ee9_row6_col2, #T_f4ee9_row6_col3, #T_f4ee9_row6_col4, #T_f4ee9_row6_col5, #T_f4ee9_row6_col6, #T_f4ee9_row6_col7, #T_f4ee9_row7_col0, #T_f4ee9_row7_col1, #T_f4ee9_row7_col2, #T_f4ee9_row7_col3, #T_f4ee9_row7_col4, #T_f4ee9_row7_col5, #T_f4ee9_row7_col6, #T_f4ee9_row7_col7, #T_f4ee9_row8_col0, #T_f4ee9_row8_col1, #T_f4ee9_row8_col2, #T_f4ee9_row8_col3, #T_f4ee9_row8_col4, #T_f4ee9_row8_col5, #T_f4ee9_row8_col6, #T_f4ee9_row8_col7, #T_f4ee9_row9_col0, #T_f4ee9_row9_col1, #T_f4ee9_row9_col2, #T_f4ee9_row9_col3, #T_f4ee9_row9_col4, #T_f4ee9_row9_col5, #T_f4ee9_row9_col6, #T_f4ee9_row9_col7, #T_f4ee9_row10_col0, #T_f4ee9_row10_col1, #T_f4ee9_row10_col2, #T_f4ee9_row10_col3, #T_f4ee9_row10_col4, #T_f4ee9_row10_col5, #T_f4ee9_row10_col6, #T_f4ee9_row10_col7, #T_f4ee9_row11_col0, #T_f4ee9_row11_col1, #T_f4ee9_row11_col2, #T_f4ee9_row11_col3, #T_f4ee9_row11_col4, #T_f4ee9_row11_col5, #T_f4ee9_row11_col6, #T_f4ee9_row11_col7, #T_f4ee9_row12_col0, #T_f4ee9_row12_col1, #T_f4ee9_row12_col2, #T_f4ee9_row12_col3, #T_f4ee9_row12_col4, #T_f4ee9_row12_col5, #T_f4ee9_row12_col6, #T_f4ee9_row12_col7, #T_f4ee9_row13_col0, #T_f4ee9_row13_col1, #T_f4ee9_row13_col2, #T_f4ee9_row13_col3, #T_f4ee9_row13_col4, #T_f4ee9_row13_col5, #T_f4ee9_row13_col6, #T_f4ee9_row13_col7, #T_f4ee9_row14_col0, #T_f4ee9_row14_col1, #T_f4ee9_row14_col2, #T_f4ee9_row14_col3, #T_f4ee9_row14_col4, #T_f4ee9_row14_col5, #T_f4ee9_row14_col6, #T_f4ee9_row14_col7, #T_f4ee9_row15_col0, #T_f4ee9_row15_col1, #T_f4ee9_row15_col2, #T_f4ee9_row15_col3, #T_f4ee9_row15_col4, #T_f4ee9_row15_col5, #T_f4ee9_row15_col6, #T_f4ee9_row15_col7 {\n",
              "  text-align: left;\n",
              "}\n",
              "#T_f4ee9_row0_col1, #T_f4ee9_row0_col3, #T_f4ee9_row0_col5, #T_f4ee9_row0_col6, #T_f4ee9_row0_col7, #T_f4ee9_row1_col1, #T_f4ee9_row2_col3, #T_f4ee9_row3_col3, #T_f4ee9_row4_col2, #T_f4ee9_row4_col4 {\n",
              "  text-align: left;\n",
              "  background-color: yellow;\n",
              "}\n",
              "#T_f4ee9_row0_col8, #T_f4ee9_row1_col8, #T_f4ee9_row2_col8, #T_f4ee9_row3_col8, #T_f4ee9_row4_col8, #T_f4ee9_row5_col8, #T_f4ee9_row6_col8, #T_f4ee9_row7_col8, #T_f4ee9_row8_col8, #T_f4ee9_row9_col8, #T_f4ee9_row10_col8, #T_f4ee9_row12_col8, #T_f4ee9_row13_col8, #T_f4ee9_row14_col8 {\n",
              "  text-align: left;\n",
              "  background-color: lightgrey;\n",
              "}\n",
              "#T_f4ee9_row11_col8, #T_f4ee9_row15_col8 {\n",
              "  text-align: left;\n",
              "  background-color: yellow;\n",
              "  background-color: lightgrey;\n",
              "}\n",
              "</style>\n",
              "<table id=\"T_f4ee9_\" class=\"dataframe\">\n",
              "  <thead>\n",
              "    <tr>\n",
              "      <th class=\"blank level0\" >&nbsp;</th>\n",
              "      <th class=\"col_heading level0 col0\" >Model</th>\n",
              "      <th class=\"col_heading level0 col1\" >Accuracy</th>\n",
              "      <th class=\"col_heading level0 col2\" >AUC</th>\n",
              "      <th class=\"col_heading level0 col3\" >Recall</th>\n",
              "      <th class=\"col_heading level0 col4\" >Prec.</th>\n",
              "      <th class=\"col_heading level0 col5\" >F1</th>\n",
              "      <th class=\"col_heading level0 col6\" >Kappa</th>\n",
              "      <th class=\"col_heading level0 col7\" >MCC</th>\n",
              "      <th class=\"col_heading level0 col8\" >TT (Sec)</th>\n",
              "    </tr>\n",
              "  </thead>\n",
              "  <tbody>\n",
              "    <tr>\n",
              "      <th id=\"T_f4ee9_level0_row0\" class=\"row_heading level0 row0\" >rf</th>\n",
              "      <td id=\"T_f4ee9_row0_col0\" class=\"data row0 col0\" >Random Forest Classifier</td>\n",
              "      <td id=\"T_f4ee9_row0_col1\" class=\"data row0 col1\" >0.8800</td>\n",
              "      <td id=\"T_f4ee9_row0_col2\" class=\"data row0 col2\" >0.9171</td>\n",
              "      <td id=\"T_f4ee9_row0_col3\" class=\"data row0 col3\" >0.8482</td>\n",
              "      <td id=\"T_f4ee9_row0_col4\" class=\"data row0 col4\" >0.8593</td>\n",
              "      <td id=\"T_f4ee9_row0_col5\" class=\"data row0 col5\" >0.8404</td>\n",
              "      <td id=\"T_f4ee9_row0_col6\" class=\"data row0 col6\" >0.7455</td>\n",
              "      <td id=\"T_f4ee9_row0_col7\" class=\"data row0 col7\" >0.7601</td>\n",
              "      <td id=\"T_f4ee9_row0_col8\" class=\"data row0 col8\" >0.2930</td>\n",
              "    </tr>\n",
              "    <tr>\n",
              "      <th id=\"T_f4ee9_level0_row1\" class=\"row_heading level0 row1\" >catboost</th>\n",
              "      <td id=\"T_f4ee9_row1_col0\" class=\"data row1 col0\" >CatBoost Classifier</td>\n",
              "      <td id=\"T_f4ee9_row1_col1\" class=\"data row1 col1\" >0.8800</td>\n",
              "      <td id=\"T_f4ee9_row1_col2\" class=\"data row1 col2\" >0.9181</td>\n",
              "      <td id=\"T_f4ee9_row1_col3\" class=\"data row1 col3\" >0.8357</td>\n",
              "      <td id=\"T_f4ee9_row1_col4\" class=\"data row1 col4\" >0.8584</td>\n",
              "      <td id=\"T_f4ee9_row1_col5\" class=\"data row1 col5\" >0.8402</td>\n",
              "      <td id=\"T_f4ee9_row1_col6\" class=\"data row1 col6\" >0.7448</td>\n",
              "      <td id=\"T_f4ee9_row1_col7\" class=\"data row1 col7\" >0.7524</td>\n",
              "      <td id=\"T_f4ee9_row1_col8\" class=\"data row1 col8\" >0.6560</td>\n",
              "    </tr>\n",
              "    <tr>\n",
              "      <th id=\"T_f4ee9_level0_row2\" class=\"row_heading level0 row2\" >lightgbm</th>\n",
              "      <td id=\"T_f4ee9_row2_col0\" class=\"data row2 col0\" >Light Gradient Boosting Machine</td>\n",
              "      <td id=\"T_f4ee9_row2_col1\" class=\"data row2 col1\" >0.8752</td>\n",
              "      <td id=\"T_f4ee9_row2_col2\" class=\"data row2 col2\" >0.9160</td>\n",
              "      <td id=\"T_f4ee9_row2_col3\" class=\"data row2 col3\" >0.8482</td>\n",
              "      <td id=\"T_f4ee9_row2_col4\" class=\"data row2 col4\" >0.8426</td>\n",
              "      <td id=\"T_f4ee9_row2_col5\" class=\"data row2 col5\" >0.8349</td>\n",
              "      <td id=\"T_f4ee9_row2_col6\" class=\"data row2 col6\" >0.7357</td>\n",
              "      <td id=\"T_f4ee9_row2_col7\" class=\"data row2 col7\" >0.7478</td>\n",
              "      <td id=\"T_f4ee9_row2_col8\" class=\"data row2 col8\" >0.1440</td>\n",
              "    </tr>\n",
              "    <tr>\n",
              "      <th id=\"T_f4ee9_level0_row3\" class=\"row_heading level0 row3\" >gbc</th>\n",
              "      <td id=\"T_f4ee9_row3_col0\" class=\"data row3 col0\" >Gradient Boosting Classifier</td>\n",
              "      <td id=\"T_f4ee9_row3_col1\" class=\"data row3 col1\" >0.8705</td>\n",
              "      <td id=\"T_f4ee9_row3_col2\" class=\"data row3 col2\" >0.9166</td>\n",
              "      <td id=\"T_f4ee9_row3_col3\" class=\"data row3 col3\" >0.8482</td>\n",
              "      <td id=\"T_f4ee9_row3_col4\" class=\"data row3 col4\" >0.8282</td>\n",
              "      <td id=\"T_f4ee9_row3_col5\" class=\"data row3 col5\" >0.8276</td>\n",
              "      <td id=\"T_f4ee9_row3_col6\" class=\"data row3 col6\" >0.7252</td>\n",
              "      <td id=\"T_f4ee9_row3_col7\" class=\"data row3 col7\" >0.7367</td>\n",
              "      <td id=\"T_f4ee9_row3_col8\" class=\"data row3 col8\" >0.0900</td>\n",
              "    </tr>\n",
              "    <tr>\n",
              "      <th id=\"T_f4ee9_level0_row4\" class=\"row_heading level0 row4\" >qda</th>\n",
              "      <td id=\"T_f4ee9_row4_col0\" class=\"data row4 col0\" >Quadratic Discriminant Analysis</td>\n",
              "      <td id=\"T_f4ee9_row4_col1\" class=\"data row4 col1\" >0.8614</td>\n",
              "      <td id=\"T_f4ee9_row4_col2\" class=\"data row4 col2\" >0.9466</td>\n",
              "      <td id=\"T_f4ee9_row4_col3\" class=\"data row4 col3\" >0.7607</td>\n",
              "      <td id=\"T_f4ee9_row4_col4\" class=\"data row4 col4\" >0.8706</td>\n",
              "      <td id=\"T_f4ee9_row4_col5\" class=\"data row4 col5\" >0.8064</td>\n",
              "      <td id=\"T_f4ee9_row4_col6\" class=\"data row4 col6\" >0.6995</td>\n",
              "      <td id=\"T_f4ee9_row4_col7\" class=\"data row4 col7\" >0.7085</td>\n",
              "      <td id=\"T_f4ee9_row4_col8\" class=\"data row4 col8\" >0.0360</td>\n",
              "    </tr>\n",
              "    <tr>\n",
              "      <th id=\"T_f4ee9_level0_row5\" class=\"row_heading level0 row5\" >ada</th>\n",
              "      <td id=\"T_f4ee9_row5_col0\" class=\"data row5 col0\" >Ada Boost Classifier</td>\n",
              "      <td id=\"T_f4ee9_row5_col1\" class=\"data row5 col1\" >0.8612</td>\n",
              "      <td id=\"T_f4ee9_row5_col2\" class=\"data row5 col2\" >0.9006</td>\n",
              "      <td id=\"T_f4ee9_row5_col3\" class=\"data row5 col3\" >0.7732</td>\n",
              "      <td id=\"T_f4ee9_row5_col4\" class=\"data row5 col4\" >0.8663</td>\n",
              "      <td id=\"T_f4ee9_row5_col5\" class=\"data row5 col5\" >0.8088</td>\n",
              "      <td id=\"T_f4ee9_row5_col6\" class=\"data row5 col6\" >0.7008</td>\n",
              "      <td id=\"T_f4ee9_row5_col7\" class=\"data row5 col7\" >0.7117</td>\n",
              "      <td id=\"T_f4ee9_row5_col8\" class=\"data row5 col8\" >0.1160</td>\n",
              "    </tr>\n",
              "    <tr>\n",
              "      <th id=\"T_f4ee9_level0_row6\" class=\"row_heading level0 row6\" >dt</th>\n",
              "      <td id=\"T_f4ee9_row6_col0\" class=\"data row6 col0\" >Decision Tree Classifier</td>\n",
              "      <td id=\"T_f4ee9_row6_col1\" class=\"data row6 col1\" >0.8610</td>\n",
              "      <td id=\"T_f4ee9_row6_col2\" class=\"data row6 col2\" >0.8563</td>\n",
              "      <td id=\"T_f4ee9_row6_col3\" class=\"data row6 col3\" >0.8357</td>\n",
              "      <td id=\"T_f4ee9_row6_col4\" class=\"data row6 col4\" >0.8022</td>\n",
              "      <td id=\"T_f4ee9_row6_col5\" class=\"data row6 col5\" >0.8130</td>\n",
              "      <td id=\"T_f4ee9_row6_col6\" class=\"data row6 col6\" >0.7034</td>\n",
              "      <td id=\"T_f4ee9_row6_col7\" class=\"data row6 col7\" >0.7096</td>\n",
              "      <td id=\"T_f4ee9_row6_col8\" class=\"data row6 col8\" >0.0380</td>\n",
              "    </tr>\n",
              "    <tr>\n",
              "      <th id=\"T_f4ee9_level0_row7\" class=\"row_heading level0 row7\" >nb</th>\n",
              "      <td id=\"T_f4ee9_row7_col0\" class=\"data row7 col0\" >Naive Bayes</td>\n",
              "      <td id=\"T_f4ee9_row7_col1\" class=\"data row7 col1\" >0.8514</td>\n",
              "      <td id=\"T_f4ee9_row7_col2\" class=\"data row7 col2\" >0.9437</td>\n",
              "      <td id=\"T_f4ee9_row7_col3\" class=\"data row7 col3\" >0.7732</td>\n",
              "      <td id=\"T_f4ee9_row7_col4\" class=\"data row7 col4\" >0.8399</td>\n",
              "      <td id=\"T_f4ee9_row7_col5\" class=\"data row7 col5\" >0.7953</td>\n",
              "      <td id=\"T_f4ee9_row7_col6\" class=\"data row7 col6\" >0.6802</td>\n",
              "      <td id=\"T_f4ee9_row7_col7\" class=\"data row7 col7\" >0.6915</td>\n",
              "      <td id=\"T_f4ee9_row7_col8\" class=\"data row7 col8\" >0.0390</td>\n",
              "    </tr>\n",
              "    <tr>\n",
              "      <th id=\"T_f4ee9_level0_row8\" class=\"row_heading level0 row8\" >et</th>\n",
              "      <td id=\"T_f4ee9_row8_col0\" class=\"data row8 col0\" >Extra Trees Classifier</td>\n",
              "      <td id=\"T_f4ee9_row8_col1\" class=\"data row8 col1\" >0.8464</td>\n",
              "      <td id=\"T_f4ee9_row8_col2\" class=\"data row8 col2\" >0.9216</td>\n",
              "      <td id=\"T_f4ee9_row8_col3\" class=\"data row8 col3\" >0.7714</td>\n",
              "      <td id=\"T_f4ee9_row8_col4\" class=\"data row8 col4\" >0.8371</td>\n",
              "      <td id=\"T_f4ee9_row8_col5\" class=\"data row8 col5\" >0.7876</td>\n",
              "      <td id=\"T_f4ee9_row8_col6\" class=\"data row8 col6\" >0.6693</td>\n",
              "      <td id=\"T_f4ee9_row8_col7\" class=\"data row8 col7\" >0.6849</td>\n",
              "      <td id=\"T_f4ee9_row8_col8\" class=\"data row8 col8\" >0.2730</td>\n",
              "    </tr>\n",
              "    <tr>\n",
              "      <th id=\"T_f4ee9_level0_row9\" class=\"row_heading level0 row9\" >xgboost</th>\n",
              "      <td id=\"T_f4ee9_row9_col0\" class=\"data row9 col0\" >Extreme Gradient Boosting</td>\n",
              "      <td id=\"T_f4ee9_row9_col1\" class=\"data row9 col1\" >0.8464</td>\n",
              "      <td id=\"T_f4ee9_row9_col2\" class=\"data row9 col2\" >0.8999</td>\n",
              "      <td id=\"T_f4ee9_row9_col3\" class=\"data row9 col3\" >0.8089</td>\n",
              "      <td id=\"T_f4ee9_row9_col4\" class=\"data row9 col4\" >0.7950</td>\n",
              "      <td id=\"T_f4ee9_row9_col5\" class=\"data row9 col5\" >0.7941</td>\n",
              "      <td id=\"T_f4ee9_row9_col6\" class=\"data row9 col6\" >0.6726</td>\n",
              "      <td id=\"T_f4ee9_row9_col7\" class=\"data row9 col7\" >0.6816</td>\n",
              "      <td id=\"T_f4ee9_row9_col8\" class=\"data row9 col8\" >0.5700</td>\n",
              "    </tr>\n",
              "    <tr>\n",
              "      <th id=\"T_f4ee9_level0_row10\" class=\"row_heading level0 row10\" >lda</th>\n",
              "      <td id=\"T_f4ee9_row10_col0\" class=\"data row10 col0\" >Linear Discriminant Analysis</td>\n",
              "      <td id=\"T_f4ee9_row10_col1\" class=\"data row10 col1\" >0.8088</td>\n",
              "      <td id=\"T_f4ee9_row10_col2\" class=\"data row10 col2\" >0.9044</td>\n",
              "      <td id=\"T_f4ee9_row10_col3\" class=\"data row10 col3\" >0.6982</td>\n",
              "      <td id=\"T_f4ee9_row10_col4\" class=\"data row10 col4\" >0.7810</td>\n",
              "      <td id=\"T_f4ee9_row10_col5\" class=\"data row10 col5\" >0.7307</td>\n",
              "      <td id=\"T_f4ee9_row10_col6\" class=\"data row10 col6\" >0.5845</td>\n",
              "      <td id=\"T_f4ee9_row10_col7\" class=\"data row10 col7\" >0.5922</td>\n",
              "      <td id=\"T_f4ee9_row10_col8\" class=\"data row10 col8\" >0.0380</td>\n",
              "    </tr>\n",
              "    <tr>\n",
              "      <th id=\"T_f4ee9_level0_row11\" class=\"row_heading level0 row11\" >ridge</th>\n",
              "      <td id=\"T_f4ee9_row11_col0\" class=\"data row11 col0\" >Ridge Classifier</td>\n",
              "      <td id=\"T_f4ee9_row11_col1\" class=\"data row11 col1\" >0.8040</td>\n",
              "      <td id=\"T_f4ee9_row11_col2\" class=\"data row11 col2\" >0.0000</td>\n",
              "      <td id=\"T_f4ee9_row11_col3\" class=\"data row11 col3\" >0.6857</td>\n",
              "      <td id=\"T_f4ee9_row11_col4\" class=\"data row11 col4\" >0.7782</td>\n",
              "      <td id=\"T_f4ee9_row11_col5\" class=\"data row11 col5\" >0.7233</td>\n",
              "      <td id=\"T_f4ee9_row11_col6\" class=\"data row11 col6\" >0.5736</td>\n",
              "      <td id=\"T_f4ee9_row11_col7\" class=\"data row11 col7\" >0.5811</td>\n",
              "      <td id=\"T_f4ee9_row11_col8\" class=\"data row11 col8\" >0.0320</td>\n",
              "    </tr>\n",
              "    <tr>\n",
              "      <th id=\"T_f4ee9_level0_row12\" class=\"row_heading level0 row12\" >knn</th>\n",
              "      <td id=\"T_f4ee9_row12_col0\" class=\"data row12 col0\" >K Neighbors Classifier</td>\n",
              "      <td id=\"T_f4ee9_row12_col1\" class=\"data row12 col1\" >0.8036</td>\n",
              "      <td id=\"T_f4ee9_row12_col2\" class=\"data row12 col2\" >0.8361</td>\n",
              "      <td id=\"T_f4ee9_row12_col3\" class=\"data row12 col3\" >0.6571</td>\n",
              "      <td id=\"T_f4ee9_row12_col4\" class=\"data row12 col4\" >0.7989</td>\n",
              "      <td id=\"T_f4ee9_row12_col5\" class=\"data row12 col5\" >0.7058</td>\n",
              "      <td id=\"T_f4ee9_row12_col6\" class=\"data row12 col6\" >0.5636</td>\n",
              "      <td id=\"T_f4ee9_row12_col7\" class=\"data row12 col7\" >0.5815</td>\n",
              "      <td id=\"T_f4ee9_row12_col8\" class=\"data row12 col8\" >0.1370</td>\n",
              "    </tr>\n",
              "    <tr>\n",
              "      <th id=\"T_f4ee9_level0_row13\" class=\"row_heading level0 row13\" >lr</th>\n",
              "      <td id=\"T_f4ee9_row13_col0\" class=\"data row13 col0\" >Logistic Regression</td>\n",
              "      <td id=\"T_f4ee9_row13_col1\" class=\"data row13 col1\" >0.6221</td>\n",
              "      <td id=\"T_f4ee9_row13_col2\" class=\"data row13 col2\" >0.2753</td>\n",
              "      <td id=\"T_f4ee9_row13_col3\" class=\"data row13 col3\" >0.0000</td>\n",
              "      <td id=\"T_f4ee9_row13_col4\" class=\"data row13 col4\" >0.0000</td>\n",
              "      <td id=\"T_f4ee9_row13_col5\" class=\"data row13 col5\" >0.0000</td>\n",
              "      <td id=\"T_f4ee9_row13_col6\" class=\"data row13 col6\" >0.0000</td>\n",
              "      <td id=\"T_f4ee9_row13_col7\" class=\"data row13 col7\" >0.0000</td>\n",
              "      <td id=\"T_f4ee9_row13_col8\" class=\"data row13 col8\" >0.4260</td>\n",
              "    </tr>\n",
              "    <tr>\n",
              "      <th id=\"T_f4ee9_level0_row14\" class=\"row_heading level0 row14\" >dummy</th>\n",
              "      <td id=\"T_f4ee9_row14_col0\" class=\"data row14 col0\" >Dummy Classifier</td>\n",
              "      <td id=\"T_f4ee9_row14_col1\" class=\"data row14 col1\" >0.6221</td>\n",
              "      <td id=\"T_f4ee9_row14_col2\" class=\"data row14 col2\" >0.5000</td>\n",
              "      <td id=\"T_f4ee9_row14_col3\" class=\"data row14 col3\" >0.0000</td>\n",
              "      <td id=\"T_f4ee9_row14_col4\" class=\"data row14 col4\" >0.0000</td>\n",
              "      <td id=\"T_f4ee9_row14_col5\" class=\"data row14 col5\" >0.0000</td>\n",
              "      <td id=\"T_f4ee9_row14_col6\" class=\"data row14 col6\" >0.0000</td>\n",
              "      <td id=\"T_f4ee9_row14_col7\" class=\"data row14 col7\" >0.0000</td>\n",
              "      <td id=\"T_f4ee9_row14_col8\" class=\"data row14 col8\" >0.0340</td>\n",
              "    </tr>\n",
              "    <tr>\n",
              "      <th id=\"T_f4ee9_level0_row15\" class=\"row_heading level0 row15\" >svm</th>\n",
              "      <td id=\"T_f4ee9_row15_col0\" class=\"data row15 col0\" >SVM - Linear Kernel</td>\n",
              "      <td id=\"T_f4ee9_row15_col1\" class=\"data row15 col1\" >0.5445</td>\n",
              "      <td id=\"T_f4ee9_row15_col2\" class=\"data row15 col2\" >0.0000</td>\n",
              "      <td id=\"T_f4ee9_row15_col3\" class=\"data row15 col3\" >0.3000</td>\n",
              "      <td id=\"T_f4ee9_row15_col4\" class=\"data row15 col4\" >0.1112</td>\n",
              "      <td id=\"T_f4ee9_row15_col5\" class=\"data row15 col5\" >0.1622</td>\n",
              "      <td id=\"T_f4ee9_row15_col6\" class=\"data row15 col6\" >0.0000</td>\n",
              "      <td id=\"T_f4ee9_row15_col7\" class=\"data row15 col7\" >0.0000</td>\n",
              "      <td id=\"T_f4ee9_row15_col8\" class=\"data row15 col8\" >0.0320</td>\n",
              "    </tr>\n",
              "  </tbody>\n",
              "</table>\n"
            ]
          },
          "metadata": {}
        },
        {
          "output_type": "display_data",
          "data": {
            "text/plain": [
              "Processing:   0%|          | 0/69 [00:00<?, ?it/s]"
            ],
            "application/vnd.jupyter.widget-view+json": {
              "version_major": 2,
              "version_minor": 0,
              "model_id": "8d2da2d88aee48b091cce58a5b500986"
            }
          },
          "metadata": {
            "application/vnd.jupyter.widget-view+json": {
              "colab": {
                "custom_widget_manager": {
                  "url": "https://ssl.gstatic.com/colaboratory-static/widgets/colab-cdn-widget-manager/d2e234f7cc04bf79/manager.min.js"
                }
              }
            }
          }
        },
        {
          "output_type": "display_data",
          "data": {
            "text/plain": [
              "<IPython.core.display.HTML object>"
            ],
            "text/html": []
          },
          "metadata": {}
        }
      ]
    },
    {
      "cell_type": "markdown",
      "source": [
        "**De forma predeterminada, compare_models( ) devuelve el modelo con mejor rendimiento según el orden de clasificación predeterminado, pero se puede usar para devolver una lista de los $N$ modelos principales mediante el parámetro include = lista.**"
      ],
      "metadata": {
        "id": "Yfzl5krB1NY9"
      },
      "id": "Yfzl5krB1NY9"
    },
    {
      "cell_type": "code",
      "source": [
        "print(mejor_modelo)"
      ],
      "metadata": {
        "colab": {
          "base_uri": "https://localhost:8080/"
        },
        "id": "WlqXj-jN1ZI3",
        "outputId": "42100622-41d0-4bb3-dd08-d37e9848e2bd"
      },
      "id": "WlqXj-jN1ZI3",
      "execution_count": 20,
      "outputs": [
        {
          "output_type": "stream",
          "name": "stdout",
          "text": [
            "RandomForestClassifier(bootstrap=True, ccp_alpha=0.0, class_weight=None,\n",
            "                       criterion='gini', max_depth=None, max_features='auto',\n",
            "                       max_leaf_nodes=None, max_samples=None,\n",
            "                       min_impurity_decrease=0.0, min_samples_leaf=1,\n",
            "                       min_samples_split=2, min_weight_fraction_leaf=0.0,\n",
            "                       n_estimators=100, n_jobs=-1, oob_score=False,\n",
            "                       random_state=123, verbose=0, warm_start=False)\n"
          ]
        }
      ]
    },
    {
      "cell_type": "markdown",
      "source": [
        "# **Creación del Modelo**"
      ],
      "metadata": {
        "id": "tzyrw_Nt1Yu5"
      },
      "id": "tzyrw_Nt1Yu5"
    },
    {
      "cell_type": "code",
      "source": [
        "print(\"Los clasificadores son:\", len(models()))"
      ],
      "metadata": {
        "colab": {
          "base_uri": "https://localhost:8080/"
        },
        "id": "R1zC8RzP1oYo",
        "outputId": "8c65c4e4-9cd9-48af-d070-bc364f4ec89b"
      },
      "id": "R1zC8RzP1oYo",
      "execution_count": 21,
      "outputs": [
        {
          "output_type": "stream",
          "name": "stdout",
          "text": [
            "Los clasificadores son: 19\n"
          ]
        }
      ]
    },
    {
      "cell_type": "code",
      "source": [
        "models()"
      ],
      "metadata": {
        "colab": {
          "base_uri": "https://localhost:8080/",
          "height": 669
        },
        "id": "4nPGrR2Q1kyT",
        "outputId": "6f3649dd-dee8-42a4-c1b4-ef5e4ecb9ea2"
      },
      "id": "4nPGrR2Q1kyT",
      "execution_count": 22,
      "outputs": [
        {
          "output_type": "execute_result",
          "data": {
            "text/plain": [
              "                                     Name  \\\n",
              "ID                                          \n",
              "lr                    Logistic Regression   \n",
              "knn                K Neighbors Classifier   \n",
              "nb                            Naive Bayes   \n",
              "dt               Decision Tree Classifier   \n",
              "svm                   SVM - Linear Kernel   \n",
              "rbfsvm                SVM - Radial Kernel   \n",
              "gpc           Gaussian Process Classifier   \n",
              "mlp                        MLP Classifier   \n",
              "ridge                    Ridge Classifier   \n",
              "rf               Random Forest Classifier   \n",
              "qda       Quadratic Discriminant Analysis   \n",
              "ada                  Ada Boost Classifier   \n",
              "gbc          Gradient Boosting Classifier   \n",
              "lda          Linear Discriminant Analysis   \n",
              "et                 Extra Trees Classifier   \n",
              "xgboost         Extreme Gradient Boosting   \n",
              "lightgbm  Light Gradient Boosting Machine   \n",
              "catboost              CatBoost Classifier   \n",
              "dummy                    Dummy Classifier   \n",
              "\n",
              "                                                  Reference  Turbo  \n",
              "ID                                                                  \n",
              "lr        sklearn.linear_model._logistic.LogisticRegression   True  \n",
              "knn       sklearn.neighbors._classification.KNeighborsCl...   True  \n",
              "nb                           sklearn.naive_bayes.GaussianNB   True  \n",
              "dt             sklearn.tree._classes.DecisionTreeClassifier   True  \n",
              "svm       sklearn.linear_model._stochastic_gradient.SGDC...   True  \n",
              "rbfsvm                             sklearn.svm._classes.SVC  False  \n",
              "gpc       sklearn.gaussian_process._gpc.GaussianProcessC...  False  \n",
              "mlp       sklearn.neural_network._multilayer_perceptron....  False  \n",
              "ridge           sklearn.linear_model._ridge.RidgeClassifier   True  \n",
              "rf          sklearn.ensemble._forest.RandomForestClassifier   True  \n",
              "qda       sklearn.discriminant_analysis.QuadraticDiscrim...   True  \n",
              "ada       sklearn.ensemble._weight_boosting.AdaBoostClas...   True  \n",
              "gbc         sklearn.ensemble._gb.GradientBoostingClassifier   True  \n",
              "lda       sklearn.discriminant_analysis.LinearDiscrimina...   True  \n",
              "et            sklearn.ensemble._forest.ExtraTreesClassifier   True  \n",
              "xgboost                       xgboost.sklearn.XGBClassifier   True  \n",
              "lightgbm                    lightgbm.sklearn.LGBMClassifier   True  \n",
              "catboost                   catboost.core.CatBoostClassifier   True  \n",
              "dummy                         sklearn.dummy.DummyClassifier   True  "
            ],
            "text/html": [
              "\n",
              "  <div id=\"df-e2aac158-b02d-4c24-a241-368b318c6e12\">\n",
              "    <div class=\"colab-df-container\">\n",
              "      <div>\n",
              "<style scoped>\n",
              "    .dataframe tbody tr th:only-of-type {\n",
              "        vertical-align: middle;\n",
              "    }\n",
              "\n",
              "    .dataframe tbody tr th {\n",
              "        vertical-align: top;\n",
              "    }\n",
              "\n",
              "    .dataframe thead th {\n",
              "        text-align: right;\n",
              "    }\n",
              "</style>\n",
              "<table border=\"1\" class=\"dataframe\">\n",
              "  <thead>\n",
              "    <tr style=\"text-align: right;\">\n",
              "      <th></th>\n",
              "      <th>Name</th>\n",
              "      <th>Reference</th>\n",
              "      <th>Turbo</th>\n",
              "    </tr>\n",
              "    <tr>\n",
              "      <th>ID</th>\n",
              "      <th></th>\n",
              "      <th></th>\n",
              "      <th></th>\n",
              "    </tr>\n",
              "  </thead>\n",
              "  <tbody>\n",
              "    <tr>\n",
              "      <th>lr</th>\n",
              "      <td>Logistic Regression</td>\n",
              "      <td>sklearn.linear_model._logistic.LogisticRegression</td>\n",
              "      <td>True</td>\n",
              "    </tr>\n",
              "    <tr>\n",
              "      <th>knn</th>\n",
              "      <td>K Neighbors Classifier</td>\n",
              "      <td>sklearn.neighbors._classification.KNeighborsCl...</td>\n",
              "      <td>True</td>\n",
              "    </tr>\n",
              "    <tr>\n",
              "      <th>nb</th>\n",
              "      <td>Naive Bayes</td>\n",
              "      <td>sklearn.naive_bayes.GaussianNB</td>\n",
              "      <td>True</td>\n",
              "    </tr>\n",
              "    <tr>\n",
              "      <th>dt</th>\n",
              "      <td>Decision Tree Classifier</td>\n",
              "      <td>sklearn.tree._classes.DecisionTreeClassifier</td>\n",
              "      <td>True</td>\n",
              "    </tr>\n",
              "    <tr>\n",
              "      <th>svm</th>\n",
              "      <td>SVM - Linear Kernel</td>\n",
              "      <td>sklearn.linear_model._stochastic_gradient.SGDC...</td>\n",
              "      <td>True</td>\n",
              "    </tr>\n",
              "    <tr>\n",
              "      <th>rbfsvm</th>\n",
              "      <td>SVM - Radial Kernel</td>\n",
              "      <td>sklearn.svm._classes.SVC</td>\n",
              "      <td>False</td>\n",
              "    </tr>\n",
              "    <tr>\n",
              "      <th>gpc</th>\n",
              "      <td>Gaussian Process Classifier</td>\n",
              "      <td>sklearn.gaussian_process._gpc.GaussianProcessC...</td>\n",
              "      <td>False</td>\n",
              "    </tr>\n",
              "    <tr>\n",
              "      <th>mlp</th>\n",
              "      <td>MLP Classifier</td>\n",
              "      <td>sklearn.neural_network._multilayer_perceptron....</td>\n",
              "      <td>False</td>\n",
              "    </tr>\n",
              "    <tr>\n",
              "      <th>ridge</th>\n",
              "      <td>Ridge Classifier</td>\n",
              "      <td>sklearn.linear_model._ridge.RidgeClassifier</td>\n",
              "      <td>True</td>\n",
              "    </tr>\n",
              "    <tr>\n",
              "      <th>rf</th>\n",
              "      <td>Random Forest Classifier</td>\n",
              "      <td>sklearn.ensemble._forest.RandomForestClassifier</td>\n",
              "      <td>True</td>\n",
              "    </tr>\n",
              "    <tr>\n",
              "      <th>qda</th>\n",
              "      <td>Quadratic Discriminant Analysis</td>\n",
              "      <td>sklearn.discriminant_analysis.QuadraticDiscrim...</td>\n",
              "      <td>True</td>\n",
              "    </tr>\n",
              "    <tr>\n",
              "      <th>ada</th>\n",
              "      <td>Ada Boost Classifier</td>\n",
              "      <td>sklearn.ensemble._weight_boosting.AdaBoostClas...</td>\n",
              "      <td>True</td>\n",
              "    </tr>\n",
              "    <tr>\n",
              "      <th>gbc</th>\n",
              "      <td>Gradient Boosting Classifier</td>\n",
              "      <td>sklearn.ensemble._gb.GradientBoostingClassifier</td>\n",
              "      <td>True</td>\n",
              "    </tr>\n",
              "    <tr>\n",
              "      <th>lda</th>\n",
              "      <td>Linear Discriminant Analysis</td>\n",
              "      <td>sklearn.discriminant_analysis.LinearDiscrimina...</td>\n",
              "      <td>True</td>\n",
              "    </tr>\n",
              "    <tr>\n",
              "      <th>et</th>\n",
              "      <td>Extra Trees Classifier</td>\n",
              "      <td>sklearn.ensemble._forest.ExtraTreesClassifier</td>\n",
              "      <td>True</td>\n",
              "    </tr>\n",
              "    <tr>\n",
              "      <th>xgboost</th>\n",
              "      <td>Extreme Gradient Boosting</td>\n",
              "      <td>xgboost.sklearn.XGBClassifier</td>\n",
              "      <td>True</td>\n",
              "    </tr>\n",
              "    <tr>\n",
              "      <th>lightgbm</th>\n",
              "      <td>Light Gradient Boosting Machine</td>\n",
              "      <td>lightgbm.sklearn.LGBMClassifier</td>\n",
              "      <td>True</td>\n",
              "    </tr>\n",
              "    <tr>\n",
              "      <th>catboost</th>\n",
              "      <td>CatBoost Classifier</td>\n",
              "      <td>catboost.core.CatBoostClassifier</td>\n",
              "      <td>True</td>\n",
              "    </tr>\n",
              "    <tr>\n",
              "      <th>dummy</th>\n",
              "      <td>Dummy Classifier</td>\n",
              "      <td>sklearn.dummy.DummyClassifier</td>\n",
              "      <td>True</td>\n",
              "    </tr>\n",
              "  </tbody>\n",
              "</table>\n",
              "</div>\n",
              "      <button class=\"colab-df-convert\" onclick=\"convertToInteractive('df-e2aac158-b02d-4c24-a241-368b318c6e12')\"\n",
              "              title=\"Convert this dataframe to an interactive table.\"\n",
              "              style=\"display:none;\">\n",
              "        \n",
              "  <svg xmlns=\"http://www.w3.org/2000/svg\" height=\"24px\"viewBox=\"0 0 24 24\"\n",
              "       width=\"24px\">\n",
              "    <path d=\"M0 0h24v24H0V0z\" fill=\"none\"/>\n",
              "    <path d=\"M18.56 5.44l.94 2.06.94-2.06 2.06-.94-2.06-.94-.94-2.06-.94 2.06-2.06.94zm-11 1L8.5 8.5l.94-2.06 2.06-.94-2.06-.94L8.5 2.5l-.94 2.06-2.06.94zm10 10l.94 2.06.94-2.06 2.06-.94-2.06-.94-.94-2.06-.94 2.06-2.06.94z\"/><path d=\"M17.41 7.96l-1.37-1.37c-.4-.4-.92-.59-1.43-.59-.52 0-1.04.2-1.43.59L10.3 9.45l-7.72 7.72c-.78.78-.78 2.05 0 2.83L4 21.41c.39.39.9.59 1.41.59.51 0 1.02-.2 1.41-.59l7.78-7.78 2.81-2.81c.8-.78.8-2.07 0-2.86zM5.41 20L4 18.59l7.72-7.72 1.47 1.35L5.41 20z\"/>\n",
              "  </svg>\n",
              "      </button>\n",
              "      \n",
              "  <style>\n",
              "    .colab-df-container {\n",
              "      display:flex;\n",
              "      flex-wrap:wrap;\n",
              "      gap: 12px;\n",
              "    }\n",
              "\n",
              "    .colab-df-convert {\n",
              "      background-color: #E8F0FE;\n",
              "      border: none;\n",
              "      border-radius: 50%;\n",
              "      cursor: pointer;\n",
              "      display: none;\n",
              "      fill: #1967D2;\n",
              "      height: 32px;\n",
              "      padding: 0 0 0 0;\n",
              "      width: 32px;\n",
              "    }\n",
              "\n",
              "    .colab-df-convert:hover {\n",
              "      background-color: #E2EBFA;\n",
              "      box-shadow: 0px 1px 2px rgba(60, 64, 67, 0.3), 0px 1px 3px 1px rgba(60, 64, 67, 0.15);\n",
              "      fill: #174EA6;\n",
              "    }\n",
              "\n",
              "    [theme=dark] .colab-df-convert {\n",
              "      background-color: #3B4455;\n",
              "      fill: #D2E3FC;\n",
              "    }\n",
              "\n",
              "    [theme=dark] .colab-df-convert:hover {\n",
              "      background-color: #434B5C;\n",
              "      box-shadow: 0px 1px 3px 1px rgba(0, 0, 0, 0.15);\n",
              "      filter: drop-shadow(0px 1px 2px rgba(0, 0, 0, 0.3));\n",
              "      fill: #FFFFFF;\n",
              "    }\n",
              "  </style>\n",
              "\n",
              "      <script>\n",
              "        const buttonEl =\n",
              "          document.querySelector('#df-e2aac158-b02d-4c24-a241-368b318c6e12 button.colab-df-convert');\n",
              "        buttonEl.style.display =\n",
              "          google.colab.kernel.accessAllowed ? 'block' : 'none';\n",
              "\n",
              "        async function convertToInteractive(key) {\n",
              "          const element = document.querySelector('#df-e2aac158-b02d-4c24-a241-368b318c6e12');\n",
              "          const dataTable =\n",
              "            await google.colab.kernel.invokeFunction('convertToInteractive',\n",
              "                                                     [key], {});\n",
              "          if (!dataTable) return;\n",
              "\n",
              "          const docLinkHtml = 'Like what you see? Visit the ' +\n",
              "            '<a target=\"_blank\" href=https://colab.research.google.com/notebooks/data_table.ipynb>data table notebook</a>'\n",
              "            + ' to learn more about interactive tables.';\n",
              "          element.innerHTML = '';\n",
              "          dataTable['output_type'] = 'display_data';\n",
              "          await google.colab.output.renderOutput(dataTable, element);\n",
              "          const docLink = document.createElement('div');\n",
              "          docLink.innerHTML = docLinkHtml;\n",
              "          element.appendChild(docLink);\n",
              "        }\n",
              "      </script>\n",
              "    </div>\n",
              "  </div>\n",
              "  "
            ]
          },
          "metadata": {},
          "execution_count": 22
        }
      ]
    },
    {
      "cell_type": "markdown",
      "source": [
        "## **Auto EDA**"
      ],
      "metadata": {
        "id": "u-ZlK09NGp3F"
      },
      "id": "u-ZlK09NGp3F"
    },
    {
      "cell_type": "code",
      "source": [
        "eda()"
      ],
      "metadata": {
        "colab": {
          "base_uri": "https://localhost:8080/",
          "height": 187
        },
        "id": "hAz1wVW6FbgU",
        "outputId": "d98dac0d-8165-432f-d0b1-d216107b3b1a"
      },
      "id": "hAz1wVW6FbgU",
      "execution_count": 45,
      "outputs": [
        {
          "output_type": "stream",
          "name": "stdout",
          "text": [
            "Shape of your Data Set loaded: (300, 4)\n",
            "#######################################################################################\n",
            "######################## C L A S S I F Y I N G  V A R I A B L E S  ####################\n",
            "#######################################################################################\n",
            "Classifying variables in data set...\n",
            "    3 Predictors classified...\n",
            "        No variables removed since no ID or low-information variables found in data set\n",
            "\n",
            "################ Binary_Classification problem #####################\n"
          ]
        },
        {
          "output_type": "display_data",
          "data": {},
          "metadata": {}
        },
        {
          "output_type": "display_data",
          "data": {},
          "metadata": {}
        },
        {
          "output_type": "display_data",
          "data": {
            "text/html": [
              "<div id='3494'>\n",
              "  <div class=\"bk-root\" id=\"42b36cec-1aa7-4a61-b93a-c6dc8db7f027\" data-root-id=\"3494\"></div>\n",
              "</div>\n",
              "<script type=\"application/javascript\">(function(root) {\n",
              "  function embed_document(root) {\n",
              "    var docs_json = {\"192b8844-454d-46ad-8f13-bf2e1d5a1c03\":{\"defs\":[{\"extends\":null,\"module\":null,\"name\":\"ReactiveHTML1\",\"overrides\":[],\"properties\":[]},{\"extends\":null,\"module\":null,\"name\":\"FlexBox1\",\"overrides\":[],\"properties\":[{\"default\":\"flex-start\",\"kind\":null,\"name\":\"align_content\"},{\"default\":\"flex-start\",\"kind\":null,\"name\":\"align_items\"},{\"default\":\"row\",\"kind\":null,\"name\":\"flex_direction\"},{\"default\":\"wrap\",\"kind\":null,\"name\":\"flex_wrap\"},{\"default\":\"flex-start\",\"kind\":null,\"name\":\"justify_content\"}]},{\"extends\":null,\"module\":null,\"name\":\"TemplateActions1\",\"overrides\":[],\"properties\":[{\"default\":0,\"kind\":null,\"name\":\"open_modal\"},{\"default\":0,\"kind\":null,\"name\":\"close_modal\"}]},{\"extends\":null,\"module\":null,\"name\":\"MaterialTemplateActions1\",\"overrides\":[],\"properties\":[{\"default\":0,\"kind\":null,\"name\":\"open_modal\"},{\"default\":0,\"kind\":null,\"name\":\"close_modal\"}]}],\"roots\":{\"references\":[{\"attributes\":{\"data\":{\"Compra\":[0,1,0,1,1,0,1,0,0,0,0,0,1,0,0,0,0,1,0,0,0,0,1,0,0,0,1,1,1,0,0,1,0,1,1,1,0,1,0,1,1,0,0,1,0,0,0,1,0,1,1,0,0,0,0,0,0,1,1,0,0,1,0,0,1,0,1,0,1,0,1,0,1,0,0,1,1,1,1,0,1,0,0,1,1,0,1,0,1,0,0,1,0,0,0,0,1,0,0,0,0,1,0,0,0,0,0,0,1,1,0,0,1,0,0,1,1,1,0,0,0,0,0,1,0,0,1,0,0,0,0,1,1,1,0,1,0,1,0,0,0,0,1,1,1,0,0,0,0,1,1,0,0,0,0,0,1,1,0,0,1,1,0,0,1,0,0,1,1,0,0,0,1,1,0,1,1,0,0,1,0,0,0,0,0,0,0,0,1,1,1,0,0,0,0,1,1,0,1,0,1,0,0,0,1,0,0,0,0,1,0,1,0,0,0,0,0,0,1,1,0,0,1,1,0,0,0,1,0,0,1,0,1,0,1,1,0,0,0,0,0,0,0,1,1,1,0,0,1,0,0,0,1,0,0,1,1,1,0,0,1,1,0,0,1,0,1,1,1,0,0,0,0,1,0,0,1,0,0,0,0,1,0,1,0,1,0,1,1,0,0,0,0,0,0,1,0,0,1,1],\"Edad\":{\"__ndarray__\":\"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\",\"dtype\":\"float64\",\"order\":\"little\",\"shape\":[300]}},\"selected\":{\"id\":\"3532\"},\"selection_policy\":{\"id\":\"3553\"}},\"id\":\"3531\",\"type\":\"ColumnDataSource\"},{\"attributes\":{\"margin\":[5,10,5,10],\"options\":[\"Edad\",\"Salario\"],\"title\":\"y\",\"value\":\"Edad\"},\"id\":\"3496\",\"type\":\"Select\"},{\"attributes\":{\"axis\":{\"id\":\"3510\"},\"coordinates\":null,\"grid_line_color\":null,\"group\":null,\"ticker\":null},\"id\":\"3513\",\"type\":\"Grid\"},{\"attributes\":{\"end\":64.2,\"reset_end\":64.2,\"reset_start\":13.8,\"start\":13.8,\"tags\":[[[\"Edad\",\"Edad\",null]]]},\"id\":\"3499\",\"type\":\"Range1d\"},{\"attributes\":{\"axis_label\":\"Edad\",\"coordinates\":null,\"formatter\":{\"id\":\"3544\"},\"group\":null,\"major_label_policy\":{\"id\":\"3545\"},\"ticker\":{\"id\":\"3515\"}},\"id\":\"3514\",\"type\":\"LinearAxis\"},{\"attributes\":{\"client_comm_id\":\"d8ed7a44628e481d9cd5a37f8a070227\",\"comm_id\":\"36525201d07241758f7139293b787e89\",\"plot_id\":\"3494\"},\"id\":\"3596\",\"type\":\"panel.models.comm_manager.CommManager\"},{\"attributes\":{\"fill_alpha\":{\"value\":0.1},\"fill_color\":{\"value\":\"#30a2da\"},\"hatch_alpha\":{\"value\":0.1},\"hatch_color\":{\"value\":\"#30a2da\"},\"line_alpha\":{\"value\":0.1},\"line_color\":{\"value\":\"#30a2da\"},\"size\":{\"value\":3.1622776601683795},\"x\":{\"field\":\"Compra\"},\"y\":{\"field\":\"Edad\"}},\"id\":\"3535\",\"type\":\"Scatter\"},{\"attributes\":{\"fill_color\":{\"value\":\"#30a2da\"},\"hatch_color\":{\"value\":\"#30a2da\"},\"line_color\":{\"value\":\"#30a2da\"},\"size\":{\"value\":3.1622776601683795},\"x\":{\"field\":\"Compra\"},\"y\":{\"field\":\"Edad\"}},\"id\":\"3534\",\"type\":\"Scatter\"},{\"attributes\":{},\"id\":\"3506\",\"type\":\"LinearScale\"},{\"attributes\":{},\"id\":\"3515\",\"type\":\"BasicTicker\"},{\"attributes\":{\"fill_alpha\":{\"value\":0.2},\"fill_color\":{\"value\":\"#30a2da\"},\"hatch_alpha\":{\"value\":0.2},\"hatch_color\":{\"value\":\"#30a2da\"},\"line_alpha\":{\"value\":0.2},\"line_color\":{\"value\":\"#30a2da\"},\"size\":{\"value\":3.1622776601683795},\"x\":{\"field\":\"Compra\"},\"y\":{\"field\":\"Edad\"}},\"id\":\"3536\",\"type\":\"Scatter\"},{\"attributes\":{\"overlay\":{\"id\":\"3523\"}},\"id\":\"3521\",\"type\":\"BoxZoomTool\"},{\"attributes\":{\"source\":{\"id\":\"3531\"}},\"id\":\"3538\",\"type\":\"CDSView\"},{\"attributes\":{},\"id\":\"3520\",\"type\":\"WheelZoomTool\"},{\"attributes\":{},\"id\":\"3545\",\"type\":\"AllLabels\"},{\"attributes\":{},\"id\":\"3541\",\"type\":\"BasicTickFormatter\"},{\"attributes\":{\"tools\":[{\"id\":\"3500\"},{\"id\":\"3518\"},{\"id\":\"3519\"},{\"id\":\"3520\"},{\"id\":\"3521\"},{\"id\":\"3522\"}]},\"id\":\"3524\",\"type\":\"Toolbar\"},{\"attributes\":{},\"id\":\"3518\",\"type\":\"SaveTool\"},{\"attributes\":{\"callback\":null,\"renderers\":[{\"id\":\"3537\"}],\"tags\":[\"hv_created\"],\"tooltips\":[[\"Compra\",\"@{Compra}\"],[\"Edad\",\"@{Edad}\"]]},\"id\":\"3500\",\"type\":\"HoverTool\"},{\"attributes\":{},\"id\":\"3522\",\"type\":\"ResetTool\"},{\"attributes\":{},\"id\":\"3519\",\"type\":\"PanTool\"},{\"attributes\":{},\"id\":\"3544\",\"type\":\"BasicTickFormatter\"},{\"attributes\":{},\"id\":\"3542\",\"type\":\"AllLabels\"},{\"attributes\":{\"angle\":{\"value\":0.0},\"fill_alpha\":{\"value\":1.0},\"fill_color\":{\"value\":\"#30a2da\"},\"hatch_alpha\":{\"value\":1.0},\"hatch_color\":{\"value\":\"#30a2da\"},\"hatch_scale\":{\"value\":12.0},\"hatch_weight\":{\"value\":1.0},\"line_alpha\":{\"value\":1.0},\"line_cap\":{\"value\":\"butt\"},\"line_color\":{\"value\":\"#30a2da\"},\"line_dash\":{\"value\":[]},\"line_dash_offset\":{\"value\":0},\"line_join\":{\"value\":\"bevel\"},\"line_width\":{\"value\":1},\"marker\":{\"value\":\"circle\"},\"size\":{\"value\":3.1622776601683795},\"x\":{\"field\":\"Compra\"},\"y\":{\"field\":\"Edad\"}},\"id\":\"3539\",\"type\":\"Scatter\"},{\"attributes\":{\"below\":[{\"id\":\"3510\"}],\"center\":[{\"id\":\"3513\"},{\"id\":\"3517\"}],\"height\":400,\"left\":[{\"id\":\"3514\"}],\"margin\":[5,5,5,5],\"min_border_bottom\":10,\"min_border_left\":10,\"min_border_right\":10,\"min_border_top\":10,\"renderers\":[{\"id\":\"3537\"}],\"sizing_mode\":\"fixed\",\"title\":{\"id\":\"3502\"},\"toolbar\":{\"id\":\"3524\"},\"x_range\":{\"id\":\"3498\"},\"x_scale\":{\"id\":\"3506\"},\"y_range\":{\"id\":\"3499\"},\"y_scale\":{\"id\":\"3508\"}},\"id\":\"3501\",\"subtype\":\"Figure\",\"type\":\"Plot\"},{\"attributes\":{\"children\":[{\"id\":\"3495\"},{\"id\":\"3497\"}],\"margin\":[0,0,0,0],\"name\":\"Row07205\"},\"id\":\"3494\",\"type\":\"Row\"},{\"attributes\":{\"end\":1.0666666666666667,\"reset_end\":1.0666666666666667,\"reset_start\":-0.06666666666666667,\"start\":-0.06666666666666667,\"tags\":[[[\"Compra\",\"Compra\",null]]]},\"id\":\"3498\",\"type\":\"Range1d\"},{\"attributes\":{},\"id\":\"3508\",\"type\":\"LinearScale\"},{\"attributes\":{\"children\":[{\"id\":\"3501\"}],\"margin\":[0,0,0,0],\"name\":\"Row07066\"},\"id\":\"3497\",\"type\":\"Row\"},{\"attributes\":{\"axis\":{\"id\":\"3514\"},\"coordinates\":null,\"dimension\":1,\"grid_line_color\":null,\"group\":null,\"ticker\":null},\"id\":\"3517\",\"type\":\"Grid\"},{\"attributes\":{\"axis_label\":\"Compra\",\"coordinates\":null,\"formatter\":{\"id\":\"3541\"},\"group\":null,\"major_label_policy\":{\"id\":\"3542\"},\"ticker\":{\"id\":\"3511\"}},\"id\":\"3510\",\"type\":\"LinearAxis\"},{\"attributes\":{},\"id\":\"3553\",\"type\":\"UnionRenderers\"},{\"attributes\":{},\"id\":\"3511\",\"type\":\"BasicTicker\"},{\"attributes\":{\"bottom_units\":\"screen\",\"coordinates\":null,\"fill_alpha\":0.5,\"fill_color\":\"lightgrey\",\"group\":null,\"left_units\":\"screen\",\"level\":\"overlay\",\"line_alpha\":1.0,\"line_color\":\"black\",\"line_dash\":[4,4],\"line_width\":2,\"right_units\":\"screen\",\"syncable\":false,\"top_units\":\"screen\"},\"id\":\"3523\",\"type\":\"BoxAnnotation\"},{\"attributes\":{\"coordinates\":null,\"data_source\":{\"id\":\"3531\"},\"glyph\":{\"id\":\"3534\"},\"group\":null,\"hover_glyph\":null,\"muted_glyph\":{\"id\":\"3536\"},\"nonselection_glyph\":{\"id\":\"3535\"},\"selection_glyph\":{\"id\":\"3539\"},\"view\":{\"id\":\"3538\"}},\"id\":\"3537\",\"type\":\"GlyphRenderer\"},{\"attributes\":{},\"id\":\"3532\",\"type\":\"Selection\"},{\"attributes\":{\"coordinates\":null,\"group\":null,\"text\":\"Scatter Plot of each independent numeric variable against target variable\",\"text_color\":\"black\",\"text_font_size\":\"12pt\"},\"id\":\"3502\",\"type\":\"Title\"},{\"attributes\":{\"children\":[{\"id\":\"3496\"}],\"css_classes\":[\"panel-widget-box\"],\"margin\":[5,5,5,5],\"name\":\"WidgetBox07204\"},\"id\":\"3495\",\"type\":\"Column\"}],\"root_ids\":[\"3494\",\"3596\"]},\"title\":\"Bokeh Application\",\"version\":\"2.4.3\"}};\n",
              "    var render_items = [{\"docid\":\"192b8844-454d-46ad-8f13-bf2e1d5a1c03\",\"root_ids\":[\"3494\"],\"roots\":{\"3494\":\"42b36cec-1aa7-4a61-b93a-c6dc8db7f027\"}}];\n",
              "    root.Bokeh.embed.embed_items_notebook(docs_json, render_items);\n",
              "  }\n",
              "  if (root.Bokeh !== undefined && root.Bokeh.Panel !== undefined) {\n",
              "    embed_document(root);\n",
              "  } else {\n",
              "    var attempts = 0;\n",
              "    var timer = setInterval(function(root) {\n",
              "      if (root.Bokeh !== undefined && root.Bokeh.Panel !== undefined) {\n",
              "        clearInterval(timer);\n",
              "        embed_document(root);\n",
              "      } else if (document.readyState == \"complete\") {\n",
              "        attempts++;\n",
              "        if (attempts > 200) {\n",
              "          clearInterval(timer);\n",
              "          console.log(\"Bokeh: ERROR: Unable to run BokehJS code because BokehJS library is missing\");\n",
              "        }\n",
              "      }\n",
              "    }, 25, root)\n",
              "  }\n",
              "})(window);</script>"
            ],
            "application/vnd.holoviews_exec.v0+json": "",
            "text/plain": [
              "Row\n",
              "    [0] WidgetBox\n",
              "        [0] Select(name='y', options=['Edad', 'Salario'], value='Edad')\n",
              "    [1] ParamFunction(function)"
            ]
          },
          "metadata": {
            "application/vnd.holoviews_exec.v0+json": {
              "id": "3494"
            }
          }
        },
        {
          "output_type": "display_data",
          "data": {},
          "metadata": {}
        },
        {
          "output_type": "display_data",
          "data": {},
          "metadata": {}
        },
        {
          "output_type": "display_data",
          "data": {
            "text/html": [
              "<div id='3647'>\n",
              "  <div class=\"bk-root\" id=\"c9a1391c-434a-4242-ba83-9cf88415d689\" data-root-id=\"3647\"></div>\n",
              "</div>\n",
              "<script type=\"application/javascript\">(function(root) {\n",
              "  function embed_document(root) {\n",
              "    var docs_json = {\"116400fe-9857-4a8b-bb94-41fb061cd0da\":{\"defs\":[{\"extends\":null,\"module\":null,\"name\":\"ReactiveHTML1\",\"overrides\":[],\"properties\":[]},{\"extends\":null,\"module\":null,\"name\":\"FlexBox1\",\"overrides\":[],\"properties\":[{\"default\":\"flex-start\",\"kind\":null,\"name\":\"align_content\"},{\"default\":\"flex-start\",\"kind\":null,\"name\":\"align_items\"},{\"default\":\"row\",\"kind\":null,\"name\":\"flex_direction\"},{\"default\":\"wrap\",\"kind\":null,\"name\":\"flex_wrap\"},{\"default\":\"flex-start\",\"kind\":null,\"name\":\"justify_content\"}]},{\"extends\":null,\"module\":null,\"name\":\"TemplateActions1\",\"overrides\":[],\"properties\":[{\"default\":0,\"kind\":null,\"name\":\"open_modal\"},{\"default\":0,\"kind\":null,\"name\":\"close_modal\"}]},{\"extends\":null,\"module\":null,\"name\":\"MaterialTemplateActions1\",\"overrides\":[],\"properties\":[{\"default\":0,\"kind\":null,\"name\":\"open_modal\"},{\"default\":0,\"kind\":null,\"name\":\"close_modal\"}]}],\"roots\":{\"references\":[{\"attributes\":{\"axis_label\":\"Edad\",\"coordinates\":null,\"formatter\":{\"id\":\"3696\"},\"group\":null,\"major_label_policy\":{\"id\":\"3697\"},\"ticker\":{\"id\":\"3666\"}},\"id\":\"3665\",\"type\":\"LinearAxis\"},{\"attributes\":{},\"id\":\"3661\",\"type\":\"LinearScale\"},{\"attributes\":{},\"id\":\"3700\",\"type\":\"AllLabels\"},{\"attributes\":{\"margin\":[5,10,5,10],\"options\":[\"None\",\"Compra\"],\"title\":\"Color\",\"value\":\"None\"},\"id\":\"3651\",\"type\":\"Select\"},{\"attributes\":{\"fill_alpha\":{\"value\":0.2},\"fill_color\":{\"value\":\"#30a2da\"},\"hatch_alpha\":{\"value\":0.2},\"hatch_color\":{\"value\":\"#30a2da\"},\"line_alpha\":{\"value\":0.2},\"size\":{\"value\":10},\"x\":{\"field\":\"Edad\"},\"y\":{\"field\":\"Salario\"}},\"id\":\"3691\",\"type\":\"Scatter\"},{\"attributes\":{},\"id\":\"3666\",\"type\":\"BasicTicker\"},{\"attributes\":{},\"id\":\"3697\",\"type\":\"AllLabels\"},{\"attributes\":{\"children\":[{\"id\":\"3649\"},{\"id\":\"3650\"},{\"id\":\"3651\"}],\"css_classes\":[\"panel-widget-box\"],\"margin\":[5,5,5,5],\"name\":\"WidgetBox07308\"},\"id\":\"3648\",\"type\":\"Column\"},{\"attributes\":{},\"id\":\"3696\",\"type\":\"BasicTickFormatter\"},{\"attributes\":{\"axis\":{\"id\":\"3665\"},\"coordinates\":null,\"grid_line_color\":null,\"group\":null,\"ticker\":null},\"id\":\"3668\",\"type\":\"Grid\"},{\"attributes\":{},\"id\":\"3663\",\"type\":\"LinearScale\"},{\"attributes\":{\"data\":{\"Compra\":[0,1,0,1,1,0,1,0,0,0,0,0,1,0,0,0,0,1,0,0,0,0,1,0,0,0,1,1,1,0,0,1,0,1,1,1,0,1,0,1,1,0,0,1,0,0,0,1,0,1,1,0,0,0,0,0,0,1,1,0,0,1,0,0,1,0,1,0,1,0,1,0,1,0,0,1,1,1,1,0,1,0,0,1,1,0,1,0,1,0,0,1,0,0,0,0,1,0,0,0,0,1,0,0,0,0,0,0,1,1,0,0,1,0,0,1,1,1,0,0,0,0,0,1,0,0,1,0,0,0,0,1,1,1,0,1,0,1,0,0,0,0,1,1,1,0,0,0,0,1,1,0,0,0,0,0,1,1,0,0,1,1,0,0,1,0,0,1,1,0,0,0,1,1,0,1,1,0,0,1,0,0,0,0,0,0,0,0,1,1,1,0,0,0,0,1,1,0,1,0,1,0,0,0,1,0,0,0,0,1,0,1,0,0,0,0,0,0,1,1,0,0,1,1,0,0,0,1,0,0,1,0,1,0,1,1,0,0,0,0,0,0,0,1,1,1,0,0,1,0,0,0,1,0,0,1,1,1,0,0,1,1,0,0,1,0,1,1,1,0,0,0,0,1,0,0,1,0,0,0,0,1,0,1,0,1,0,1,1,0,0,0,0,0,0,1,0,0,1,1],\"Edad\":{\"__ndarray__\":\"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\",\"dtype\":\"float64\",\"order\":\"little\",\"shape\":[300]},\"Salario\":{\"__ndarray__\":\"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\",\"dtype\":\"float64\",\"order\":\"little\",\"shape\":[300]},\"Trabajo\":{\"__ndarray__\":\"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\",\"dtype\":\"float64\",\"order\":\"little\",\"shape\":[300]}},\"selected\":{\"id\":\"3687\"},\"selection_policy\":{\"id\":\"3708\"}},\"id\":\"3686\",\"type\":\"ColumnDataSource\"},{\"attributes\":{},\"id\":\"3670\",\"type\":\"BasicTicker\"},{\"attributes\":{\"axis_label\":\"Salario\",\"coordinates\":null,\"formatter\":{\"id\":\"3699\"},\"group\":null,\"major_label_policy\":{\"id\":\"3700\"},\"ticker\":{\"id\":\"3670\"}},\"id\":\"3669\",\"type\":\"LinearAxis\"},{\"attributes\":{\"source\":{\"id\":\"3686\"}},\"id\":\"3693\",\"type\":\"CDSView\"},{\"attributes\":{\"coordinates\":null,\"data_source\":{\"id\":\"3686\"},\"glyph\":{\"id\":\"3689\"},\"group\":null,\"hover_glyph\":null,\"muted_glyph\":{\"id\":\"3691\"},\"nonselection_glyph\":{\"id\":\"3690\"},\"selection_glyph\":{\"id\":\"3694\"},\"view\":{\"id\":\"3693\"}},\"id\":\"3692\",\"type\":\"GlyphRenderer\"},{\"attributes\":{\"axis\":{\"id\":\"3669\"},\"coordinates\":null,\"dimension\":1,\"grid_line_color\":null,\"group\":null,\"ticker\":null},\"id\":\"3672\",\"type\":\"Grid\"},{\"attributes\":{\"callback\":null,\"renderers\":[{\"id\":\"3692\"}],\"tags\":[\"hv_created\"],\"tooltips\":[[\"Edad\",\"@{Edad}\"],[\"Salario\",\"@{Salario}\"],[\"Trabajo\",\"@{Trabajo}\"],[\"Compra\",\"@{Compra}\"]]},\"id\":\"3655\",\"type\":\"HoverTool\"},{\"attributes\":{\"fill_alpha\":{\"value\":0.5},\"fill_color\":{\"value\":\"#30a2da\"},\"hatch_alpha\":{\"value\":0.1},\"hatch_color\":{\"value\":\"#30a2da\"},\"line_alpha\":{\"value\":0.5},\"size\":{\"value\":10},\"x\":{\"field\":\"Edad\"},\"y\":{\"field\":\"Salario\"}},\"id\":\"3690\",\"type\":\"Scatter\"},{\"attributes\":{\"end\":62.8,\"reset_end\":62.8,\"reset_start\":15.2,\"start\":15.2,\"tags\":[[[\"Edad\",\"Edad\",null]]]},\"id\":\"3653\",\"type\":\"Range1d\"},{\"attributes\":{\"children\":[{\"id\":\"3656\"}],\"margin\":[0,0,0,0],\"name\":\"Row07313\"},\"id\":\"3652\",\"type\":\"Row\"},{\"attributes\":{\"fill_alpha\":{\"value\":0.5},\"fill_color\":{\"value\":\"#30a2da\"},\"hatch_alpha\":{\"value\":0.5},\"hatch_color\":{\"value\":\"#30a2da\"},\"line_alpha\":{\"value\":0.5},\"size\":{\"value\":10},\"x\":{\"field\":\"Edad\"},\"y\":{\"field\":\"Salario\"}},\"id\":\"3689\",\"type\":\"Scatter\"},{\"attributes\":{},\"id\":\"3673\",\"type\":\"SaveTool\"},{\"attributes\":{},\"id\":\"3699\",\"type\":\"BasicTickFormatter\"},{\"attributes\":{\"below\":[{\"id\":\"3665\"}],\"center\":[{\"id\":\"3668\"},{\"id\":\"3672\"}],\"height\":400,\"left\":[{\"id\":\"3669\"}],\"margin\":[5,5,5,5],\"min_border_bottom\":10,\"min_border_left\":10,\"min_border_right\":10,\"min_border_top\":10,\"renderers\":[{\"id\":\"3692\"}],\"sizing_mode\":\"fixed\",\"title\":{\"id\":\"3657\"},\"toolbar\":{\"id\":\"3679\"},\"toolbar_location\":\"above\",\"x_range\":{\"id\":\"3653\"},\"x_scale\":{\"id\":\"3661\"},\"y_range\":{\"id\":\"3654\"},\"y_scale\":{\"id\":\"3663\"}},\"id\":\"3656\",\"subtype\":\"Figure\",\"type\":\"Plot\"},{\"attributes\":{},\"id\":\"3674\",\"type\":\"PanTool\"},{\"attributes\":{},\"id\":\"3687\",\"type\":\"Selection\"},{\"attributes\":{\"angle\":{\"value\":0.0},\"fill_alpha\":{\"value\":0.5},\"fill_color\":{\"value\":\"#30a2da\"},\"hatch_alpha\":{\"value\":0.5},\"hatch_color\":{\"value\":\"#30a2da\"},\"hatch_scale\":{\"value\":12.0},\"hatch_weight\":{\"value\":1.0},\"line_alpha\":{\"value\":0.5},\"line_cap\":{\"value\":\"butt\"},\"line_color\":{\"value\":\"black\"},\"line_dash\":{\"value\":[]},\"line_dash_offset\":{\"value\":0},\"line_join\":{\"value\":\"bevel\"},\"line_width\":{\"value\":1},\"marker\":{\"value\":\"circle\"},\"size\":{\"value\":10},\"x\":{\"field\":\"Edad\"},\"y\":{\"field\":\"Salario\"}},\"id\":\"3694\",\"type\":\"Scatter\"},{\"attributes\":{\"client_comm_id\":\"507715808c6d449284d393877cf4e062\",\"comm_id\":\"c3eeb99c98e14b15a7a98f652387d7ae\",\"plot_id\":\"3647\"},\"id\":\"3751\",\"type\":\"panel.models.comm_manager.CommManager\"},{\"attributes\":{\"children\":[{\"id\":\"3648\"},{\"id\":\"3652\"}],\"margin\":[0,0,0,0],\"name\":\"Row07351\"},\"id\":\"3647\",\"type\":\"Row\"},{\"attributes\":{},\"id\":\"3675\",\"type\":\"WheelZoomTool\"},{\"attributes\":{\"end\":163500.0,\"reset_end\":163500.0,\"reset_start\":1500.0,\"start\":1500.0,\"tags\":[[[\"Salario\",\"Salario\",null]]]},\"id\":\"3654\",\"type\":\"Range1d\"},{\"attributes\":{\"margin\":[5,10,5,10],\"options\":[\"Edad\",\"Salario\"],\"title\":\"X-Axis\",\"value\":\"Edad\"},\"id\":\"3649\",\"type\":\"Select\"},{\"attributes\":{\"overlay\":{\"id\":\"3678\"}},\"id\":\"3676\",\"type\":\"BoxZoomTool\"},{\"attributes\":{\"margin\":[5,10,5,10],\"options\":[\"Edad\",\"Salario\"],\"title\":\"Y-Axis\",\"value\":\"Salario\"},\"id\":\"3650\",\"type\":\"Select\"},{\"attributes\":{\"coordinates\":null,\"group\":null,\"text\":\"Edad vs Salario\",\"text_color\":\"black\",\"text_font_size\":\"12pt\"},\"id\":\"3657\",\"type\":\"Title\"},{\"attributes\":{},\"id\":\"3708\",\"type\":\"UnionRenderers\"},{\"attributes\":{},\"id\":\"3677\",\"type\":\"ResetTool\"},{\"attributes\":{\"bottom_units\":\"screen\",\"coordinates\":null,\"fill_alpha\":0.5,\"fill_color\":\"lightgrey\",\"group\":null,\"left_units\":\"screen\",\"level\":\"overlay\",\"line_alpha\":1.0,\"line_color\":\"black\",\"line_dash\":[4,4],\"line_width\":2,\"right_units\":\"screen\",\"syncable\":false,\"top_units\":\"screen\"},\"id\":\"3678\",\"type\":\"BoxAnnotation\"},{\"attributes\":{\"tools\":[{\"id\":\"3655\"},{\"id\":\"3673\"},{\"id\":\"3674\"},{\"id\":\"3675\"},{\"id\":\"3676\"},{\"id\":\"3677\"}]},\"id\":\"3679\",\"type\":\"Toolbar\"}],\"root_ids\":[\"3647\",\"3751\"]},\"title\":\"Bokeh Application\",\"version\":\"2.4.3\"}};\n",
              "    var render_items = [{\"docid\":\"116400fe-9857-4a8b-bb94-41fb061cd0da\",\"root_ids\":[\"3647\"],\"roots\":{\"3647\":\"c9a1391c-434a-4242-ba83-9cf88415d689\"}}];\n",
              "    root.Bokeh.embed.embed_items_notebook(docs_json, render_items);\n",
              "  }\n",
              "  if (root.Bokeh !== undefined && root.Bokeh.Panel !== undefined) {\n",
              "    embed_document(root);\n",
              "  } else {\n",
              "    var attempts = 0;\n",
              "    var timer = setInterval(function(root) {\n",
              "      if (root.Bokeh !== undefined && root.Bokeh.Panel !== undefined) {\n",
              "        clearInterval(timer);\n",
              "        embed_document(root);\n",
              "      } else if (document.readyState == \"complete\") {\n",
              "        attempts++;\n",
              "        if (attempts > 200) {\n",
              "          clearInterval(timer);\n",
              "          console.log(\"Bokeh: ERROR: Unable to run BokehJS code because BokehJS library is missing\");\n",
              "        }\n",
              "      }\n",
              "    }, 25, root)\n",
              "  }\n",
              "})(window);</script>"
            ],
            "application/vnd.holoviews_exec.v0+json": "",
            "text/plain": [
              "Row\n",
              "    [0] WidgetBox\n",
              "        [0] Select(name='X-Axis', options=['Edad', 'Salario'], value='Edad')\n",
              "        [1] Select(name='Y-Axis', options=['Edad', 'Salario'], value='Salario')\n",
              "        [2] Select(name='Color', options=['None', 'Compra'], value='None')\n",
              "    [1] ParamFunction(function)"
            ]
          },
          "metadata": {
            "application/vnd.holoviews_exec.v0+json": {
              "id": "3647"
            }
          }
        },
        {
          "output_type": "display_data",
          "data": {},
          "metadata": {}
        },
        {
          "output_type": "display_data",
          "data": {},
          "metadata": {}
        },
        {
          "output_type": "display_data",
          "data": {
            "text/html": [
              "<div id='3802'>\n",
              "  <div class=\"bk-root\" id=\"d0705058-5095-44b9-83ef-80f08cdbfac1\" data-root-id=\"3802\"></div>\n",
              "</div>\n",
              "<script type=\"application/javascript\">(function(root) {\n",
              "  function embed_document(root) {\n",
              "    var docs_json = {\"f2f02dbf-7ac8-45d8-8dfd-dc74204da5ec\":{\"defs\":[{\"extends\":null,\"module\":null,\"name\":\"ReactiveHTML1\",\"overrides\":[],\"properties\":[]},{\"extends\":null,\"module\":null,\"name\":\"FlexBox1\",\"overrides\":[],\"properties\":[{\"default\":\"flex-start\",\"kind\":null,\"name\":\"align_content\"},{\"default\":\"flex-start\",\"kind\":null,\"name\":\"align_items\"},{\"default\":\"row\",\"kind\":null,\"name\":\"flex_direction\"},{\"default\":\"wrap\",\"kind\":null,\"name\":\"flex_wrap\"},{\"default\":\"flex-start\",\"kind\":null,\"name\":\"justify_content\"}]},{\"extends\":null,\"module\":null,\"name\":\"TemplateActions1\",\"overrides\":[],\"properties\":[{\"default\":0,\"kind\":null,\"name\":\"open_modal\"},{\"default\":0,\"kind\":null,\"name\":\"close_modal\"}]},{\"extends\":null,\"module\":null,\"name\":\"MaterialTemplateActions1\",\"overrides\":[],\"properties\":[{\"default\":0,\"kind\":null,\"name\":\"open_modal\"},{\"default\":0,\"kind\":null,\"name\":\"close_modal\"}]}],\"roots\":{\"references\":[{\"attributes\":{\"coordinates\":null,\"group\":null,\"items\":[{\"id\":\"3856\"}],\"location\":[0,0]},\"id\":\"3855\",\"type\":\"Legend\"},{\"attributes\":{\"margin\":[5,5,5,5],\"name\":\"VSpacer07472\",\"sizing_mode\":\"stretch_height\"},\"id\":\"3893\",\"type\":\"Spacer\"},{\"attributes\":{\"callback\":null,\"renderers\":[{\"id\":\"3843\"}],\"tags\":[\"hv_created\"],\"tooltips\":[[\"Trabajo\",\"@{Trabajo}\"],[\"Variable\",\"@{Variable}\"],[\"value\",\"@{value}\"]]},\"id\":\"3806\",\"type\":\"HoverTool\"},{\"attributes\":{},\"id\":\"3824\",\"type\":\"PanTool\"},{\"attributes\":{\"axis\":{\"id\":\"3819\"},\"coordinates\":null,\"dimension\":1,\"grid_line_color\":null,\"group\":null,\"ticker\":null},\"id\":\"3822\",\"type\":\"Grid\"},{\"attributes\":{\"coordinates\":null,\"group\":null,\"text\":\"Target = Compra Histogram by each Categorical Variable\",\"text_color\":\"black\",\"text_font_size\":\"12pt\"},\"id\":\"3808\",\"type\":\"Title\"},{\"attributes\":{\"axis\":{\"id\":\"3816\"},\"coordinates\":null,\"grid_line_color\":null,\"group\":null,\"ticker\":null},\"id\":\"3818\",\"type\":\"Grid\"},{\"attributes\":{\"bottom\":{\"field\":\"bottom\"},\"fill_color\":{\"field\":\"Variable\",\"transform\":{\"id\":\"3836\"}},\"hatch_color\":{\"field\":\"Variable\",\"transform\":{\"id\":\"3836\"}},\"top\":{\"field\":\"top\"},\"width\":{\"value\":0.8},\"x\":{\"field\":\"Trabajo\"}},\"id\":\"3840\",\"type\":\"VBar\"},{\"attributes\":{\"margin\":[20,20,20,20],\"min_width\":250,\"options\":[\"Trabajo\"],\"title\":\"Select_categorical_var\",\"value\":\"Trabajo\",\"width\":250},\"id\":\"3892\",\"type\":\"Select\"},{\"attributes\":{\"factors\":[\"0\",\"1\"],\"tags\":[[[\"Trabajo\",\"Trabajo\",null]]]},\"id\":\"3804\",\"type\":\"FactorRange\"},{\"attributes\":{\"below\":[{\"id\":\"3816\"}],\"center\":[{\"id\":\"3818\"},{\"id\":\"3822\"},{\"id\":\"3855\"}],\"height\":400,\"left\":[{\"id\":\"3819\"}],\"margin\":[5,5,5,5],\"min_border_bottom\":10,\"min_border_left\":10,\"min_border_right\":10,\"min_border_top\":10,\"renderers\":[{\"id\":\"3843\"}],\"right\":[{\"id\":\"3855\"}],\"sizing_mode\":\"fixed\",\"title\":{\"id\":\"3808\"},\"toolbar\":{\"id\":\"3829\"},\"x_range\":{\"id\":\"3804\"},\"x_scale\":{\"id\":\"3812\"},\"y_range\":{\"id\":\"3805\"},\"y_scale\":{\"id\":\"3814\"}},\"id\":\"3807\",\"subtype\":\"Figure\",\"type\":\"Plot\"},{\"attributes\":{\"children\":[{\"id\":\"3803\"}],\"margin\":[0,0,0,0],\"name\":\"Column07475\"},\"id\":\"3802\",\"type\":\"Column\"},{\"attributes\":{\"factors\":[\"0\",\"1\"],\"palette\":[\"#30a2da\",\"#fc4f30\"]},\"id\":\"3836\",\"type\":\"CategoricalColorMapper\"},{\"attributes\":{\"axis_label\":\"\",\"coordinates\":null,\"formatter\":{\"id\":\"3847\"},\"group\":null,\"major_label_policy\":{\"id\":\"3848\"},\"ticker\":{\"id\":\"3820\"}},\"id\":\"3819\",\"type\":\"LinearAxis\"},{\"attributes\":{},\"id\":\"3827\",\"type\":\"ResetTool\"},{\"attributes\":{},\"id\":\"3838\",\"type\":\"Selection\"},{\"attributes\":{},\"id\":\"3812\",\"type\":\"CategoricalScale\"},{\"attributes\":{\"coordinates\":null,\"data_source\":{\"id\":\"3837\"},\"glyph\":{\"id\":\"3840\"},\"group\":null,\"hover_glyph\":null,\"muted_glyph\":{\"id\":\"3842\"},\"nonselection_glyph\":{\"id\":\"3841\"},\"selection_glyph\":{\"id\":\"3857\"},\"view\":{\"id\":\"3844\"}},\"id\":\"3843\",\"type\":\"GlyphRenderer\"},{\"attributes\":{\"tools\":[{\"id\":\"3806\"},{\"id\":\"3823\"},{\"id\":\"3824\"},{\"id\":\"3825\"},{\"id\":\"3826\"},{\"id\":\"3827\"}]},\"id\":\"3829\",\"type\":\"Toolbar\"},{\"attributes\":{\"bottom\":{\"field\":\"bottom\"},\"fill_alpha\":{\"value\":0.2},\"fill_color\":{\"field\":\"Variable\",\"transform\":{\"id\":\"3836\"}},\"hatch_alpha\":{\"value\":0.2},\"hatch_color\":{\"field\":\"Variable\",\"transform\":{\"id\":\"3836\"}},\"line_alpha\":{\"value\":0.2},\"top\":{\"field\":\"top\"},\"width\":{\"value\":0.8},\"x\":{\"field\":\"Trabajo\"}},\"id\":\"3842\",\"type\":\"VBar\"},{\"attributes\":{},\"id\":\"3848\",\"type\":\"AllLabels\"},{\"attributes\":{\"overlay\":{\"id\":\"3828\"}},\"id\":\"3826\",\"type\":\"BoxZoomTool\"},{\"attributes\":{},\"id\":\"3820\",\"type\":\"BasicTicker\"},{\"attributes\":{},\"id\":\"3851\",\"type\":\"AllLabels\"},{\"attributes\":{\"data\":{\"Trabajo\":[\"0\",\"1\",\"0\",\"1\"],\"Variable\":[\"0\",\"0\",\"1\",\"1\"],\"bottom\":{\"__ndarray__\":\"AAAAAAAAAAAAAAAAAAAAAAAAAAAAAFhAAAAAAACAVkA=\",\"dtype\":\"float64\",\"order\":\"little\",\"shape\":[4]},\"top\":{\"__ndarray__\":\"AAAAAAAAWEAAAAAAAIBWQAAAAAAAYGNAAAAAAAAgYkA=\",\"dtype\":\"float64\",\"order\":\"little\",\"shape\":[4]},\"value\":[96,90,59,55]},\"selected\":{\"id\":\"3838\"},\"selection_policy\":{\"id\":\"3852\"}},\"id\":\"3837\",\"type\":\"ColumnDataSource\"},{\"attributes\":{\"bottom\":{\"field\":\"bottom\"},\"fill_alpha\":{\"value\":0.1},\"fill_color\":{\"field\":\"Variable\",\"transform\":{\"id\":\"3836\"}},\"hatch_alpha\":{\"value\":0.1},\"hatch_color\":{\"field\":\"Variable\",\"transform\":{\"id\":\"3836\"}},\"line_alpha\":{\"value\":0.1},\"top\":{\"field\":\"top\"},\"width\":{\"value\":0.8},\"x\":{\"field\":\"Trabajo\"}},\"id\":\"3841\",\"type\":\"VBar\"},{\"attributes\":{},\"id\":\"3823\",\"type\":\"SaveTool\"},{\"attributes\":{\"children\":[{\"id\":\"3807\"},{\"id\":\"3890\"}],\"margin\":[0,0,0,0],\"name\":\"Row07474\"},\"id\":\"3803\",\"type\":\"Row\"},{\"attributes\":{},\"id\":\"3817\",\"type\":\"CategoricalTicker\"},{\"attributes\":{\"client_comm_id\":\"1f41da4f33ce49c59e3682985ac9b751\",\"comm_id\":\"01dd29a153c843088fa68d91e8aab2bd\",\"plot_id\":\"3802\"},\"id\":\"3924\",\"type\":\"panel.models.comm_manager.CommManager\"},{\"attributes\":{\"bottom_units\":\"screen\",\"coordinates\":null,\"fill_alpha\":0.5,\"fill_color\":\"lightgrey\",\"group\":null,\"left_units\":\"screen\",\"level\":\"overlay\",\"line_alpha\":1.0,\"line_color\":\"black\",\"line_dash\":[4,4],\"line_width\":2,\"right_units\":\"screen\",\"syncable\":false,\"top_units\":\"screen\"},\"id\":\"3828\",\"type\":\"BoxAnnotation\"},{\"attributes\":{\"children\":[{\"id\":\"3892\"}],\"css_classes\":[\"panel-widget-box\"],\"margin\":[5,5,5,5],\"name\":\"WidgetBox07467\"},\"id\":\"3891\",\"type\":\"Column\"},{\"attributes\":{\"source\":{\"id\":\"3837\"}},\"id\":\"3844\",\"type\":\"CDSView\"},{\"attributes\":{},\"id\":\"3847\",\"type\":\"BasicTickFormatter\"},{\"attributes\":{\"axis_label\":\"Trabajo\",\"coordinates\":null,\"formatter\":{\"id\":\"3850\"},\"group\":null,\"major_label_orientation\":1.2217304763960306,\"major_label_policy\":{\"id\":\"3851\"},\"ticker\":{\"id\":\"3817\"}},\"id\":\"3816\",\"type\":\"CategoricalAxis\"},{\"attributes\":{\"children\":[{\"id\":\"3891\"},{\"id\":\"3893\"}],\"margin\":[0,0,0,0],\"name\":\"Column07473\"},\"id\":\"3890\",\"type\":\"Column\"},{\"attributes\":{\"end\":156.0,\"reset_end\":156.0,\"reset_start\":0.0,\"tags\":[[[\"value\",\"value\",null]]]},\"id\":\"3805\",\"type\":\"Range1d\"},{\"attributes\":{},\"id\":\"3814\",\"type\":\"LinearScale\"},{\"attributes\":{},\"id\":\"3825\",\"type\":\"WheelZoomTool\"},{\"attributes\":{\"bottom\":{\"field\":\"bottom\"},\"fill_alpha\":{\"value\":1.0},\"fill_color\":{\"field\":\"Variable\",\"transform\":{\"id\":\"3836\"}},\"hatch_alpha\":{\"value\":1.0},\"hatch_color\":{\"field\":\"Variable\",\"transform\":{\"id\":\"3836\"}},\"hatch_scale\":{\"value\":12.0},\"hatch_weight\":{\"value\":1.0},\"line_alpha\":{\"value\":1.0},\"line_cap\":{\"value\":\"butt\"},\"line_color\":{\"value\":\"black\"},\"line_dash\":{\"value\":[]},\"line_dash_offset\":{\"value\":0},\"line_join\":{\"value\":\"bevel\"},\"line_width\":{\"value\":1},\"top\":{\"field\":\"top\"},\"width\":{\"value\":0.8},\"x\":{\"field\":\"Trabajo\"}},\"id\":\"3857\",\"type\":\"VBar\"},{\"attributes\":{\"label\":{\"field\":\"Variable\"},\"renderers\":[{\"id\":\"3843\"}]},\"id\":\"3856\",\"type\":\"LegendItem\"},{\"attributes\":{},\"id\":\"3852\",\"type\":\"UnionRenderers\"},{\"attributes\":{},\"id\":\"3850\",\"type\":\"CategoricalTickFormatter\"}],\"root_ids\":[\"3802\",\"3924\"]},\"title\":\"Bokeh Application\",\"version\":\"2.4.3\"}};\n",
              "    var render_items = [{\"docid\":\"f2f02dbf-7ac8-45d8-8dfd-dc74204da5ec\",\"root_ids\":[\"3802\"],\"roots\":{\"3802\":\"d0705058-5095-44b9-83ef-80f08cdbfac1\"}}];\n",
              "    root.Bokeh.embed.embed_items_notebook(docs_json, render_items);\n",
              "  }\n",
              "  if (root.Bokeh !== undefined && root.Bokeh.Panel !== undefined) {\n",
              "    embed_document(root);\n",
              "  } else {\n",
              "    var attempts = 0;\n",
              "    var timer = setInterval(function(root) {\n",
              "      if (root.Bokeh !== undefined && root.Bokeh.Panel !== undefined) {\n",
              "        clearInterval(timer);\n",
              "        embed_document(root);\n",
              "      } else if (document.readyState == \"complete\") {\n",
              "        attempts++;\n",
              "        if (attempts > 200) {\n",
              "          clearInterval(timer);\n",
              "          console.log(\"Bokeh: ERROR: Unable to run BokehJS code because BokehJS library is missing\");\n",
              "        }\n",
              "      }\n",
              "    }, 25, root)\n",
              "  }\n",
              "})(window);</script>"
            ],
            "application/vnd.holoviews_exec.v0+json": "",
            "text/plain": [
              "Column\n",
              "    [0] Row\n",
              "        [0] HoloViews(DynamicMap)\n",
              "        [1] Column\n",
              "            [0] WidgetBox\n",
              "                [0] Select(margin=(20, 20, 20, 20), options=['Trabajo'], value='Trabajo', width=250)\n",
              "            [1] VSpacer()"
            ]
          },
          "metadata": {
            "application/vnd.holoviews_exec.v0+json": {
              "id": "3802"
            }
          }
        },
        {
          "output_type": "display_data",
          "data": {},
          "metadata": {}
        },
        {
          "output_type": "display_data",
          "data": {},
          "metadata": {}
        },
        {
          "output_type": "display_data",
          "data": {
            "text/html": [
              "<div id='3975'>\n",
              "  <div class=\"bk-root\" id=\"3eea0fed-d248-47ad-a8f9-f39a0b1e747c\" data-root-id=\"3975\"></div>\n",
              "</div>\n",
              "<script type=\"application/javascript\">(function(root) {\n",
              "  function embed_document(root) {\n",
              "    var docs_json = {\"c14223e6-fb61-47ae-bee7-3973a5a990b8\":{\"defs\":[{\"extends\":null,\"module\":null,\"name\":\"ReactiveHTML1\",\"overrides\":[],\"properties\":[]},{\"extends\":null,\"module\":null,\"name\":\"FlexBox1\",\"overrides\":[],\"properties\":[{\"default\":\"flex-start\",\"kind\":null,\"name\":\"align_content\"},{\"default\":\"flex-start\",\"kind\":null,\"name\":\"align_items\"},{\"default\":\"row\",\"kind\":null,\"name\":\"flex_direction\"},{\"default\":\"wrap\",\"kind\":null,\"name\":\"flex_wrap\"},{\"default\":\"flex-start\",\"kind\":null,\"name\":\"justify_content\"}]},{\"extends\":null,\"module\":null,\"name\":\"TemplateActions1\",\"overrides\":[],\"properties\":[{\"default\":0,\"kind\":null,\"name\":\"open_modal\"},{\"default\":0,\"kind\":null,\"name\":\"close_modal\"}]},{\"extends\":null,\"module\":null,\"name\":\"MaterialTemplateActions1\",\"overrides\":[],\"properties\":[{\"default\":0,\"kind\":null,\"name\":\"open_modal\"},{\"default\":0,\"kind\":null,\"name\":\"close_modal\"}]}],\"roots\":{\"references\":[{\"attributes\":{\"axis\":{\"id\":\"3992\"},\"coordinates\":null,\"dimension\":1,\"grid_line_color\":null,\"group\":null,\"ticker\":null},\"id\":\"3995\",\"type\":\"Grid\"},{\"attributes\":{\"margin\":[5,5,5,5],\"name\":\"VSpacer07885\",\"sizing_mode\":\"stretch_height\"},\"id\":\"4174\",\"type\":\"Spacer\"},{\"attributes\":{\"margin\":[20,20,20,20],\"min_width\":250,\"options\":[\"Edad\",\"Salario\"],\"title\":\"Select_numeric_variable\",\"value\":\"Edad\",\"width\":250},\"id\":\"4173\",\"type\":\"Select\"},{\"attributes\":{\"bottom_units\":\"screen\",\"coordinates\":null,\"fill_alpha\":0.5,\"fill_color\":\"lightgrey\",\"group\":null,\"left_units\":\"screen\",\"level\":\"overlay\",\"line_alpha\":1.0,\"line_color\":\"black\",\"line_dash\":[4,4],\"line_width\":2,\"right_units\":\"screen\",\"syncable\":false,\"top_units\":\"screen\"},\"id\":\"4001\",\"type\":\"BoxAnnotation\"},{\"attributes\":{\"end\":70.8464750306265,\"reset_end\":70.8464750306265,\"reset_start\":-25.846475030626486,\"start\":-25.846475030626486,\"tags\":[[[\"Value\",\"Value\",null]]]},\"id\":\"3977\",\"type\":\"Range1d\"},{\"attributes\":{\"source\":{\"id\":\"4035\"}},\"id\":\"4042\",\"type\":\"CDSView\"},{\"attributes\":{},\"id\":\"4009\",\"type\":\"BasicTickFormatter\"},{\"attributes\":{},\"id\":\"4029\",\"type\":\"UnionRenderers\"},{\"attributes\":{\"coordinates\":null,\"group\":null,\"text\":\"KDE (Distribution) Plots of all Numeric Variables by Classes\",\"text_color\":\"black\",\"text_font_size\":\"12pt\"},\"id\":\"3980\",\"type\":\"Title\"},{\"attributes\":{\"children\":[{\"id\":\"4172\"},{\"id\":\"4174\"}],\"margin\":[0,0,0,0],\"name\":\"Column07886\"},\"id\":\"4171\",\"type\":\"Column\"},{\"attributes\":{},\"id\":\"3986\",\"type\":\"LinearScale\"},{\"attributes\":{},\"id\":\"3984\",\"type\":\"LinearScale\"},{\"attributes\":{\"fill_alpha\":0.2,\"fill_color\":\"#30a2da\",\"hatch_alpha\":0.2,\"hatch_color\":\"#30a2da\",\"line_alpha\":0.2,\"x\":{\"field\":\"x\"},\"y\":{\"field\":\"y\"}},\"id\":\"4019\",\"type\":\"Patch\"},{\"attributes\":{\"axis\":{\"id\":\"3988\"},\"coordinates\":null,\"grid_line_color\":null,\"group\":null,\"ticker\":null},\"id\":\"3991\",\"type\":\"Grid\"},{\"attributes\":{\"coordinates\":null,\"data_source\":{\"id\":\"4014\"},\"glyph\":{\"id\":\"4017\"},\"group\":null,\"hover_glyph\":null,\"muted_glyph\":{\"id\":\"4019\"},\"nonselection_glyph\":{\"id\":\"4018\"},\"selection_glyph\":{\"id\":\"4034\"},\"view\":{\"id\":\"4021\"}},\"id\":\"4020\",\"type\":\"GlyphRenderer\"},{\"attributes\":{},\"id\":\"3993\",\"type\":\"BasicTicker\"},{\"attributes\":{\"axis_label\":\"Edad\",\"coordinates\":null,\"formatter\":{\"id\":\"4012\"},\"group\":null,\"major_label_policy\":{\"id\":\"4013\"},\"ticker\":{\"id\":\"3993\"}},\"id\":\"3992\",\"type\":\"LinearAxis\"},{\"attributes\":{\"label\":{\"value\":\"0\"},\"renderers\":[{\"id\":\"4020\"}]},\"id\":\"4033\",\"type\":\"LegendItem\"},{\"attributes\":{},\"id\":\"4015\",\"type\":\"Selection\"},{\"attributes\":{\"source\":{\"id\":\"4014\"}},\"id\":\"4021\",\"type\":\"CDSView\"},{\"attributes\":{},\"id\":\"4010\",\"type\":\"AllLabels\"},{\"attributes\":{\"data\":{\"x\":{\"__ndarray__\":\"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\",\"dtype\":\"float64\",\"order\":\"little\",\"shape\":[200]},\"y\":{\"__ndarray__\":\"AAAAAAAAAAAAAAAAAAAAAAAAAAAAAAAAAAAAAAAAAAAAAAAAAAAAAAAAAAAAAAAAAAAAAAAAAAAAAAAAAAAAAAAAAAAAAAAAAAAAAAAAAAAAAAAAAAAAAAAAAAAAAAAAAAAAAAAAAAAAAAAAAAAAAAAAAAAAAAAAAAAAAAAAAAAAAAAAAAAAAAAAAAAAAAAAAAAAAAAAAAAAAAAAAAAAAAAAAAAAAAAAAAAAAAAAAAAAAAAAAAAAAAAAAAAAAAAAAAAAAAAAAAAAAAAAAAAAAAAAAAAAAAAAAAAAAAAAAAAAAAAAAAAAAAAAAAAAAAAAAAAAAAAAAAAAAAAAAAAAAAAAAAAAAAAAAAAAAAAAAAAAAAAAAAAAAAAAAAAAAAAAAAAAAAAAAAAAAAAAAAAAAAAAAAAAAAAAAAAAAAAAAAAAAAAAAAAAAAAAAAAAAAAAAAAAAAAAAAAAAAAAAAAAAAAAAAAAAAAAAAAAAAAAAAAAAAAAAAAAAAAAAAAAAAAAAAAAAAAAAAAAAAAAAAAAAAAAAAAAAAAAAAAAAAAAAAAAAAAAAAAAAAAAAAAAAAAAAAAAAAAAAAAAAAAAAAAAAAAAAAAAAAAAAAAAAAAAAAAAAAAAAAAAAAAAAAAAAAAAAAAAAAAAAAAAAAAAAAAAAAAAAAAAAAAAAAAAAAAAAAAAAAAAAAAAAAAAAAAAAAAAAAAAAAAAAAAAAAAAAAAAAAAAAAAAAAAAAAAAAAAAAAAAAAAAAAAAAAAAAAAAAAAAAAAAAAAAAAAAAAAAAAAAAAAAAAAAAAAAAAAAAAAAAAAAAAAAAAAAAAAAAAAAAAAAAAAAAAAAAAAAAAAAAAAAAAAAAAAAAAAAAAAAAAAAAAAAAAAAAAAAAAAAAAAAAAAAAAAAAAAAAAAAAAAAAAAAAAAAAAAAAAAAAAAAAAAAAAAAAAAAAAAAAAAAAAAAAAAAAAAAAAAAAAAAAAAAAAAAAAAAAAAAAAAAAAAAAAAAAAAAAAAAAAAAAAAAAAAAAAAAAAAAAAAAAAAAAAAAAAAAAAAAAAAAAAAAAAAAAAAAAAAtqN8L1eEZP7IokiMRBCI/3H2OUoDEKD8/yNzu988wP0roc7BKijY/Hb+Zw+HXPT9EH7pqwYJDP/akm8LeMUk/iV908ekQUD9RmYPvqjxUP8jDU9ZgLVk/td5W1qbwXj8LHlDZhsdiPzXhqBJZhWY/grxb5wGvaj+4DDlDcT1vP215876NEnI/cVzGjgmrdD87jadtPV53P2SgQtGpIHo/7uOIztDlfD9y/qAB7aB/Pz2UlZrgIoE/W/HcuLhkgj9XW6DhqZGDP6r0OjnTpoQ/ZYXUdA2jhT/cLjH9E4eGPw5bs7aNVYc/foT+j/QSiD+U3H1VXsWIP2I1TmYsdIk/0LhYW6onij+ANFUkpeiKP9ZfeloEwIs/VubEg262jD/G9Rbg/tONP/RN9WgQII8/E778LI9QkD/EyjOvWy6RP8pKc+u+K5I/iPc1+ZZKkz88IfblUIyUPxlirjnm8ZU/IOHXTtN7lz8Myt4yBSqZP5aIvVW/+5o/OCf84nrvnD+KQY38wgKfP0sifwUJmaA/tp6bZ1q8oT/Vb+XlW+iiP+NbLX5xGaQ//W97X2NLpT+eEAG4bXmmP2V6KtdZnqc/PgDn2p+0qD9DVZdwj7apP2aiHqh9nqo/YZ+vfPVmqz++CZyP6AqsP0Atcpzdhaw/7QfeZBrUrD9pMSEsx/KsP9BAbEkK4Kw/agBs0RqbrD/YOKLOSSSsP94p6uwBfas/ODmT2b2nqj8YMUXl9aepPyAWNrEFgqg/XFsw4go7pz9Jm2v+vdilP+RXc8NGYaQ/RT9OaQ3boj9ZktduikyhPzYAYlkteJ8/dGqxA3tfnD/CjkveJVqZP2jjb70ecpY/+YNlOuWvkz/YGUtnXhqRP4nTUHh7bY0/lWCxTwERiT8lHA8k+CKFP77vWBL0o4E/lRQtrJMjfT93HriZ8s93P4MJc0NJQHM/AAzNyDHKbj8icEbcJlpoPxZrb+L8C2M/5C7hlu11XT+1QZX/uoZWP2ZZb8MJB1E/MIrVUxtyST9UotHk4cpCP8eiLjEMbzs/BSI+GAHKMz/ETokuSzYsPw==\",\"dtype\":\"float64\",\"order\":\"little\",\"shape\":[200]}},\"selected\":{\"id\":\"4036\"},\"selection_policy\":{\"id\":\"4052\"}},\"id\":\"4035\",\"type\":\"ColumnDataSource\"},{\"attributes\":{},\"id\":\"4036\",\"type\":\"Selection\"},{\"attributes\":{\"fill_alpha\":0.5,\"fill_color\":\"#30a2da\",\"hatch_alpha\":0.1,\"hatch_color\":\"#30a2da\",\"line_alpha\":0.5,\"x\":{\"field\":\"x\"},\"y\":{\"field\":\"y\"}},\"id\":\"4018\",\"type\":\"Patch\"},{\"attributes\":{\"children\":[{\"id\":\"3979\"},{\"id\":\"4171\"}],\"margin\":[0,0,0,0],\"name\":\"Row07887\"},\"id\":\"3976\",\"type\":\"Row\"},{\"attributes\":{\"click_policy\":\"mute\",\"coordinates\":null,\"group\":null,\"items\":[{\"id\":\"4033\"},{\"id\":\"4055\"}],\"title\":\"Element\"},\"id\":\"4032\",\"type\":\"Legend\"},{\"attributes\":{\"fill_alpha\":0.5,\"fill_color\":\"#30a2da\",\"hatch_alpha\":0.5,\"hatch_color\":\"#30a2da\",\"line_alpha\":0.5,\"x\":{\"field\":\"x\"},\"y\":{\"field\":\"y\"}},\"id\":\"4017\",\"type\":\"Patch\"},{\"attributes\":{},\"id\":\"4052\",\"type\":\"UnionRenderers\"},{\"attributes\":{\"children\":[{\"id\":\"3976\"}],\"margin\":[0,0,0,0],\"name\":\"Column07888\"},\"id\":\"3975\",\"type\":\"Column\"},{\"attributes\":{\"tools\":[{\"id\":\"3996\"},{\"id\":\"3997\"},{\"id\":\"3998\"},{\"id\":\"3999\"},{\"id\":\"4000\"}]},\"id\":\"4002\",\"type\":\"Toolbar\"},{\"attributes\":{\"fill_alpha\":0.5,\"fill_color\":\"#fc4f30\",\"hatch_alpha\":0.1,\"hatch_color\":\"#fc4f30\",\"line_alpha\":0.5,\"x\":{\"field\":\"x\"},\"y\":{\"field\":\"y\"}},\"id\":\"4039\",\"type\":\"Patch\"},{\"attributes\":{},\"id\":\"4013\",\"type\":\"AllLabels\"},{\"attributes\":{\"below\":[{\"id\":\"3988\"}],\"center\":[{\"id\":\"3991\"},{\"id\":\"3995\"},{\"id\":\"4032\"}],\"height\":400,\"left\":[{\"id\":\"3992\"}],\"margin\":[5,5,5,5],\"min_border_bottom\":10,\"min_border_left\":10,\"min_border_right\":10,\"min_border_top\":10,\"renderers\":[{\"id\":\"4020\"},{\"id\":\"4041\"}],\"sizing_mode\":\"fixed\",\"title\":{\"id\":\"3980\"},\"toolbar\":{\"id\":\"4002\"},\"x_range\":{\"id\":\"3977\"},\"x_scale\":{\"id\":\"3984\"},\"y_range\":{\"id\":\"3978\"},\"y_scale\":{\"id\":\"3986\"}},\"id\":\"3979\",\"subtype\":\"Figure\",\"type\":\"Plot\"},{\"attributes\":{\"end\":0.062188754118724814,\"reset_end\":0.062188754118724814,\"reset_start\":0.0,\"tags\":[[[\"Value_density\",\"Density\",null]]]},\"id\":\"3978\",\"type\":\"Range1d\"},{\"attributes\":{\"children\":[{\"id\":\"4173\"}],\"css_classes\":[\"panel-widget-box\"],\"margin\":[5,5,5,5],\"name\":\"WidgetBox07880\"},\"id\":\"4172\",\"type\":\"Column\"},{\"attributes\":{},\"id\":\"3996\",\"type\":\"SaveTool\"},{\"attributes\":{\"fill_alpha\":0.5,\"fill_color\":\"#30a2da\",\"hatch_alpha\":0.5,\"hatch_color\":\"#30a2da\",\"line_alpha\":0.5,\"x\":{\"field\":\"x\"},\"y\":{\"field\":\"y\"}},\"id\":\"4034\",\"type\":\"Patch\"},{\"attributes\":{\"coordinates\":null,\"data_source\":{\"id\":\"4035\"},\"glyph\":{\"id\":\"4038\"},\"group\":null,\"hover_glyph\":null,\"muted_glyph\":{\"id\":\"4040\"},\"nonselection_glyph\":{\"id\":\"4039\"},\"selection_glyph\":{\"id\":\"4056\"},\"view\":{\"id\":\"4042\"}},\"id\":\"4041\",\"type\":\"GlyphRenderer\"},{\"attributes\":{},\"id\":\"3997\",\"type\":\"PanTool\"},{\"attributes\":{\"label\":{\"value\":\"1\"},\"renderers\":[{\"id\":\"4041\"}]},\"id\":\"4055\",\"type\":\"LegendItem\"},{\"attributes\":{},\"id\":\"3998\",\"type\":\"WheelZoomTool\"},{\"attributes\":{\"overlay\":{\"id\":\"4001\"}},\"id\":\"3999\",\"type\":\"BoxZoomTool\"},{\"attributes\":{},\"id\":\"4012\",\"type\":\"BasicTickFormatter\"},{\"attributes\":{\"client_comm_id\":\"e209e31856bf45a9ae4c692b5af97fe7\",\"comm_id\":\"ecff9325b0f34d0599298ecc749fc71a\",\"plot_id\":\"3975\"},\"id\":\"4211\",\"type\":\"panel.models.comm_manager.CommManager\"},{\"attributes\":{\"axis_label\":\"Compra\",\"coordinates\":null,\"formatter\":{\"id\":\"4009\"},\"group\":null,\"major_label_policy\":{\"id\":\"4010\"},\"ticker\":{\"id\":\"3989\"}},\"id\":\"3988\",\"type\":\"LinearAxis\"},{\"attributes\":{\"fill_alpha\":0.5,\"fill_color\":\"#fc4f30\",\"hatch_alpha\":0.5,\"hatch_color\":\"#fc4f30\",\"line_alpha\":0.5,\"x\":{\"field\":\"x\"},\"y\":{\"field\":\"y\"}},\"id\":\"4038\",\"type\":\"Patch\"},{\"attributes\":{},\"id\":\"4000\",\"type\":\"ResetTool\"},{\"attributes\":{\"data\":{\"x\":{\"__ndarray__\":\"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\",\"dtype\":\"float64\",\"order\":\"little\",\"shape\":[200]},\"y\":{\"__ndarray__\":\"AAAAAAAAAAAAAAAAAAAAAAAAAAAAAAAAAAAAAAAAAAAAAAAAAAAAAAAAAAAAAAAAAAAAAAAAAAAAAAAAAAAAAAAAAAAAAAAAAAAAAAAAAAAAAAAAAAAAAAAAAAAAAAAAAAAAAAAAAAAAAAAAAAAAAAAAAAAAAAAAAAAAAAAAAAAAAAAAAAAAAAAAAAAAAAAAAAAAAAAAAAAAAAAAAAAAAAAAAAAAAAAAAAAAAAAAAAAAAAAAAAAAAAAAAAAAAAAAAAAAAAAAAAAAAAAAAAAAAAAAAAAAAAAAAAAAAAAAAAAAAAAAAAAAAAAAAAAAAAAAAAAAAAAAAAAAAAAAAAAAAAAAAAAAAAAAAAAAAAAAAAAAAAAAAAAAAAAAAAAAAAAAAAAAAAAAAAAAAAAAAAAAAAAAAAAAAAAAAAAAAAAAAAAAAAAAAAAAAAAAAAAAAAAAAAAAAAAAAAAAAAAAAAAAAAAAAAAAAAAAAAAAAAAAAAAAAAAAAAAAAAAAAAAAAAAAAAAAAAAAAAAAAAAAAAAAAAAAAAAAAAAAAAAAAAAAAAAAAAAAAAAAAAAAAAAAAAAAAAAAAAAAAAAAAAAAAAAAAAAAAAAAAAAAAAAAAAAAAAAAAAAAAAAAAAAAAAAAAAAAAAAAAAAAAAAAAAAAAAAAAAAAAAAAAAAAAAAAAAAAAAAAAAAAAAAAAAAAAAAAAAAAAAAAAAAAAAAAAAAAAAAAAAAAAAAAAAAAAAAAAAAAAAAAAAAAAAAAAAAAAAAAAAAAAAAAAAAAAAAAAAAAAAAAAAAAAAAAAAAAAAAAAAAAAAAAAAAAAAAAAAAAAAAAAAAAAAAAAAAAAAAAAAAAAAAAAAAAAAAAAAAAAAAAAAAAAAAAAAAAAAAAAAAAAAAAAAAAAAAAAAAAAAAAAAAAAAAAAAAAAAAAAAAAAAAAAAAAAAAAAAAAAAAAAAAAAAAAAAAAAAAAAAAAAAAAAAAAAAAAAAAAAAAAAAAAAAAAAAAAAAAAAAAAAAAAAAAAAAAAAAAAAAAAAAAAAAAAAAAAAAAAAAAAAAAAAAAAAAAAAAAAAABcvz8xvA4KP5rY/0pa+xE/2YQ93heHGD9RtqrXe4ggP4voTPuQByY/JGRILGsDLT8lbvZEqOIyP7vJWyDTTTg//bbK6t7rPj+jUBoyv3JDP9S9PvbdMEg/LfjZXQzCTT/+sKQ3qBpSP15JwVkIy1U/zQexaK31WT9y5Xq5uJteP8kYhN7u3WE/kItCRkqpZD/u2AyGRq1nP7mU1+6w5mo/Map2UEFSbj+hgFEqkfZwP8h9EVfA2nI/igeeuojVdD9qq6EJv+d2P6VuUfVRE3k/4UPZ5Etbez+zVomjsMN9Pz37uQ6aKIA/TQ+ti2WEgT+hcG6IjfeCP1v1YF/pg4Q/mjdjJHwqhj+5nz+cHuuHP+l67rI0xIk/5r8m8nayiz9m16pz17CNPxnvJ++HuI8/kZ4i+5HgkD/eAJ61f+CRP0akIAPL1pI/Rd0s0Qq+kz9BscQr/ZCUPzRR8rDYSpU/5j/2VpvnlT9HJKRcUGSWP7+ze6lHv5Y/JCo8zDn4lj/j5FIZVRCXP3FnhAwyCpc/8A924q7plj+A/co7tLOWP+1m+1/mbZY/zVctP0gelj8OGU2B1sqVP0gRnawheZU/MUbrpe4tlT8ogdV45OyUPww0onlNuJQ/SUKUefCQlD9oWwwKBXaUP4lgNMtDZZQ/DV86qBFblD/hwQTZwlKUP/5SmrPwRpQ/cccF7tsxlD/jkRQM1A2UPyLOWGec1ZM/VzPpkceEkz8HV0q9AhiTP6xKWThMjZI/NciN3hHkkT/CmotNNh2RP/wwzrT9OpA/2pZz0MmBjj9ilnjCzWaMPy/6q9hrL4o/AIvOoNzmhz8EssGLkJiFP3wCuz6dT4M/P2OfUD0WgT8Aap1b0up9P2Kdw3ka6Xk/ZIU6aL0ydj+RVPIxnM9yP89+kk9RiG8/YCJq8lYjaj+qqSpcVm1lP/8BjZLQXmE/Et6gC43ZWz88PxUpiRNWP/r4dV26TVE/wgbL6xnSSj++m4xQTY1EP8JhxfogJD8/kuaMO3xTNz+ZzAaTL0YxP6iYzeVGSyk/9peb0s5OIj8Ck/JXQDMaPw==\",\"dtype\":\"float64\",\"order\":\"little\",\"shape\":[200]}},\"selected\":{\"id\":\"4015\"},\"selection_policy\":{\"id\":\"4029\"}},\"id\":\"4014\",\"type\":\"ColumnDataSource\"},{\"attributes\":{\"fill_alpha\":0.2,\"fill_color\":\"#fc4f30\",\"hatch_alpha\":0.2,\"hatch_color\":\"#fc4f30\",\"line_alpha\":0.2,\"x\":{\"field\":\"x\"},\"y\":{\"field\":\"y\"}},\"id\":\"4040\",\"type\":\"Patch\"},{\"attributes\":{\"fill_alpha\":0.5,\"fill_color\":\"#fc4f30\",\"hatch_alpha\":0.5,\"hatch_color\":\"#fc4f30\",\"line_alpha\":0.5,\"x\":{\"field\":\"x\"},\"y\":{\"field\":\"y\"}},\"id\":\"4056\",\"type\":\"Patch\"},{\"attributes\":{},\"id\":\"3989\",\"type\":\"BasicTicker\"}],\"root_ids\":[\"3975\",\"4211\"]},\"title\":\"Bokeh Application\",\"version\":\"2.4.3\"}};\n",
              "    var render_items = [{\"docid\":\"c14223e6-fb61-47ae-bee7-3973a5a990b8\",\"root_ids\":[\"3975\"],\"roots\":{\"3975\":\"3eea0fed-d248-47ad-a8f9-f39a0b1e747c\"}}];\n",
              "    root.Bokeh.embed.embed_items_notebook(docs_json, render_items);\n",
              "  }\n",
              "  if (root.Bokeh !== undefined && root.Bokeh.Panel !== undefined) {\n",
              "    embed_document(root);\n",
              "  } else {\n",
              "    var attempts = 0;\n",
              "    var timer = setInterval(function(root) {\n",
              "      if (root.Bokeh !== undefined && root.Bokeh.Panel !== undefined) {\n",
              "        clearInterval(timer);\n",
              "        embed_document(root);\n",
              "      } else if (document.readyState == \"complete\") {\n",
              "        attempts++;\n",
              "        if (attempts > 200) {\n",
              "          clearInterval(timer);\n",
              "          console.log(\"Bokeh: ERROR: Unable to run BokehJS code because BokehJS library is missing\");\n",
              "        }\n",
              "      }\n",
              "    }, 25, root)\n",
              "  }\n",
              "})(window);</script>"
            ],
            "application/vnd.holoviews_exec.v0+json": "",
            "text/plain": [
              "Column\n",
              "    [0] Row\n",
              "        [0] HoloViews(DynamicMap)\n",
              "        [1] Column\n",
              "            [0] WidgetBox\n",
              "                [0] Select(margin=(20, 20, 20, 20), options=['Edad', 'Salario'], value='Edad', width=250)\n",
              "            [1] VSpacer()"
            ]
          },
          "metadata": {
            "application/vnd.holoviews_exec.v0+json": {
              "id": "3975"
            }
          }
        },
        {
          "output_type": "display_data",
          "data": {},
          "metadata": {}
        },
        {
          "output_type": "display_data",
          "data": {},
          "metadata": {}
        },
        {
          "output_type": "display_data",
          "data": {
            "text/html": [
              "<div id='4272'>\n",
              "  <div class=\"bk-root\" id=\"cd9d9d3b-e5b1-478f-817d-f1b3e0ab48b2\" data-root-id=\"4272\"></div>\n",
              "</div>\n",
              "<script type=\"application/javascript\">(function(root) {\n",
              "  function embed_document(root) {\n",
              "    var docs_json = {\"c8b4488c-629f-41d7-8ed3-633d8b66ca49\":{\"defs\":[{\"extends\":null,\"module\":null,\"name\":\"ReactiveHTML1\",\"overrides\":[],\"properties\":[]},{\"extends\":null,\"module\":null,\"name\":\"FlexBox1\",\"overrides\":[],\"properties\":[{\"default\":\"flex-start\",\"kind\":null,\"name\":\"align_content\"},{\"default\":\"flex-start\",\"kind\":null,\"name\":\"align_items\"},{\"default\":\"row\",\"kind\":null,\"name\":\"flex_direction\"},{\"default\":\"wrap\",\"kind\":null,\"name\":\"flex_wrap\"},{\"default\":\"flex-start\",\"kind\":null,\"name\":\"justify_content\"}]},{\"extends\":null,\"module\":null,\"name\":\"TemplateActions1\",\"overrides\":[],\"properties\":[{\"default\":0,\"kind\":null,\"name\":\"open_modal\"},{\"default\":0,\"kind\":null,\"name\":\"close_modal\"}]},{\"extends\":null,\"module\":null,\"name\":\"MaterialTemplateActions1\",\"overrides\":[],\"properties\":[{\"default\":0,\"kind\":null,\"name\":\"open_modal\"},{\"default\":0,\"kind\":null,\"name\":\"close_modal\"}]}],\"roots\":{\"references\":[{\"attributes\":{\"factors\":[\"0\",\"1\"],\"tags\":[[[\"index\",\"index\",null]]]},\"id\":\"4318\",\"type\":\"FactorRange\"},{\"attributes\":{},\"id\":\"4295\",\"type\":\"ResetTool\"},{\"attributes\":{},\"id\":\"4358\",\"type\":\"CategoricalTickFormatter\"},{\"attributes\":{},\"id\":\"4370\",\"type\":\"UnionRenderers\"},{\"attributes\":{\"bottom\":{\"value\":0},\"fill_alpha\":{\"value\":1.0},\"fill_color\":{\"value\":\"#30a2da\"},\"hatch_alpha\":{\"value\":1.0},\"hatch_color\":{\"value\":\"#30a2da\"},\"hatch_scale\":{\"value\":12.0},\"hatch_weight\":{\"value\":1.0},\"line_alpha\":{\"value\":1.0},\"line_cap\":{\"value\":\"butt\"},\"line_color\":{\"value\":\"black\"},\"line_dash\":{\"value\":[]},\"line_dash_offset\":{\"value\":0},\"line_join\":{\"value\":\"bevel\"},\"line_width\":{\"value\":1},\"top\":{\"field\":\"Compra\"},\"width\":{\"value\":0.8},\"x\":{\"field\":\"index\"}},\"id\":\"4356\",\"type\":\"VBar\"},{\"attributes\":{},\"id\":\"4325\",\"type\":\"CategoricalScale\"},{\"attributes\":{\"end\":193.2,\"reset_end\":193.2,\"reset_start\":0.0,\"tags\":[[[\"Compra\",\"Compra\",null]]]},\"id\":\"4274\",\"type\":\"Range1d\"},{\"attributes\":{},\"id\":\"4317\",\"type\":\"AllLabels\"},{\"attributes\":{},\"id\":\"4361\",\"type\":\"BasicTickFormatter\"},{\"attributes\":{},\"id\":\"4349\",\"type\":\"Selection\"},{\"attributes\":{},\"id\":\"4362\",\"type\":\"AllLabels\"},{\"attributes\":{\"children\":[{\"id\":\"4389\"},{\"id\":\"4388\"}]},\"id\":\"4390\",\"type\":\"Column\"},{\"attributes\":{\"below\":[{\"id\":\"4329\"}],\"center\":[{\"id\":\"4331\"},{\"id\":\"4335\"}],\"height\":300,\"left\":[{\"id\":\"4332\"}],\"margin\":null,\"min_border_bottom\":10,\"min_border_left\":10,\"min_border_right\":10,\"min_border_top\":10,\"renderers\":[{\"id\":\"4354\"}],\"sizing_mode\":\"fixed\",\"title\":{\"id\":\"4321\"},\"toolbar\":{\"id\":\"4342\"},\"toolbar_location\":null,\"width\":300,\"x_range\":{\"id\":\"4318\"},\"x_scale\":{\"id\":\"4325\"},\"y_range\":{\"id\":\"4319\"},\"y_scale\":{\"id\":\"4327\"}},\"id\":\"4320\",\"subtype\":\"Figure\",\"type\":\"Plot\"},{\"attributes\":{\"end\":0.644,\"reset_end\":0.644,\"reset_start\":0.0,\"tags\":[[[\"Compra\",\"Compra\",null]]]},\"id\":\"4319\",\"type\":\"Range1d\"},{\"attributes\":{\"fill_color\":{\"value\":\"#30a2da\"},\"hatch_color\":{\"value\":\"#30a2da\"},\"top\":{\"field\":\"Compra\"},\"width\":{\"value\":0.8},\"x\":{\"field\":\"index\"}},\"id\":\"4306\",\"type\":\"VBar\"},{\"attributes\":{},\"id\":\"4316\",\"type\":\"BasicTickFormatter\"},{\"attributes\":{\"fill_alpha\":{\"value\":0.2},\"fill_color\":{\"value\":\"#30a2da\"},\"hatch_alpha\":{\"value\":0.2},\"hatch_color\":{\"value\":\"#30a2da\"},\"line_alpha\":{\"value\":0.2},\"top\":{\"field\":\"Compra\"},\"width\":{\"value\":0.8},\"x\":{\"field\":\"index\"}},\"id\":\"4353\",\"type\":\"VBar\"},{\"attributes\":{},\"id\":\"4381\",\"type\":\"UnionRenderers\"},{\"attributes\":{\"factors\":[\"0\",\"1\"],\"tags\":[[[\"index\",\"index\",null]]]},\"id\":\"4273\",\"type\":\"FactorRange\"},{\"attributes\":{\"axis\":{\"id\":\"4332\"},\"coordinates\":null,\"dimension\":1,\"grid_line_color\":null,\"group\":null,\"ticker\":null},\"id\":\"4335\",\"type\":\"Grid\"},{\"attributes\":{\"children\":[{\"id\":\"4390\"}],\"margin\":[0,0,0,0],\"name\":\"Row09433\"},\"id\":\"4272\",\"type\":\"Row\"},{\"attributes\":{\"coordinates\":null,\"group\":null,\"text_color\":\"black\",\"text_font_size\":\"12pt\"},\"id\":\"4321\",\"type\":\"Title\"},{\"attributes\":{\"style\":{\"white-space\":\"nowrap\"},\"text\":\"<span style=\\\"color:black;font-family:Arial;font-style:bold;font-weight:bold;font-size:12pt\\\">Histogram and KDE of Target = Compra</span>\",\"width\":450},\"id\":\"4389\",\"type\":\"Div\"},{\"attributes\":{\"toolbars\":[{\"id\":\"4297\"},{\"id\":\"4342\"}],\"tools\":[{\"id\":\"4291\"},{\"id\":\"4292\"},{\"id\":\"4293\"},{\"id\":\"4294\"},{\"id\":\"4295\"},{\"id\":\"4336\"},{\"id\":\"4337\"},{\"id\":\"4338\"},{\"id\":\"4339\"},{\"id\":\"4340\"}]},\"id\":\"4386\",\"type\":\"ProxyToolbar\"},{\"attributes\":{\"source\":{\"id\":\"4303\"}},\"id\":\"4310\",\"type\":\"CDSView\"},{\"attributes\":{\"children\":[{\"id\":\"4387\"},{\"id\":\"4385\"}]},\"id\":\"4388\",\"type\":\"Column\"},{\"attributes\":{\"children\":[[{\"id\":\"4275\"},0,0],[{\"id\":\"4320\"},0,1]]},\"id\":\"4385\",\"type\":\"GridBox\"},{\"attributes\":{},\"id\":\"4327\",\"type\":\"LinearScale\"},{\"attributes\":{\"below\":[{\"id\":\"4284\"}],\"center\":[{\"id\":\"4286\"},{\"id\":\"4290\"}],\"height\":300,\"left\":[{\"id\":\"4287\"}],\"margin\":null,\"min_border_bottom\":10,\"min_border_left\":10,\"min_border_right\":10,\"min_border_top\":10,\"renderers\":[{\"id\":\"4309\"}],\"sizing_mode\":\"fixed\",\"title\":{\"id\":\"4276\"},\"toolbar\":{\"id\":\"4297\"},\"toolbar_location\":null,\"width\":300,\"x_range\":{\"id\":\"4273\"},\"x_scale\":{\"id\":\"4280\"},\"y_range\":{\"id\":\"4274\"},\"y_scale\":{\"id\":\"4282\"}},\"id\":\"4275\",\"subtype\":\"Figure\",\"type\":\"Plot\"},{\"attributes\":{\"axis_label\":\"index\",\"coordinates\":null,\"formatter\":{\"id\":\"4358\"},\"group\":null,\"major_label_policy\":{\"id\":\"4359\"},\"ticker\":{\"id\":\"4330\"}},\"id\":\"4329\",\"type\":\"CategoricalAxis\"},{\"attributes\":{\"client_comm_id\":\"33a455681fd84aabb3ed45183d4d6bc4\",\"comm_id\":\"b5ef55355a224439a4b679d11a8a05af\",\"plot_id\":\"4272\"},\"id\":\"4631\",\"type\":\"panel.models.comm_manager.CommManager\"},{\"attributes\":{\"data\":{\"Compra\":[186,114],\"index\":[\"0\",\"1\"]},\"selected\":{\"id\":\"4304\"},\"selection_policy\":{\"id\":\"4370\"}},\"id\":\"4303\",\"type\":\"ColumnDataSource\"},{\"attributes\":{\"bottom\":{\"value\":0},\"fill_alpha\":{\"value\":1.0},\"fill_color\":{\"value\":\"#30a2da\"},\"hatch_alpha\":{\"value\":1.0},\"hatch_color\":{\"value\":\"#30a2da\"},\"hatch_scale\":{\"value\":12.0},\"hatch_weight\":{\"value\":1.0},\"line_alpha\":{\"value\":1.0},\"line_cap\":{\"value\":\"butt\"},\"line_color\":{\"value\":\"black\"},\"line_dash\":{\"value\":[]},\"line_dash_offset\":{\"value\":0},\"line_join\":{\"value\":\"bevel\"},\"line_width\":{\"value\":1},\"top\":{\"field\":\"Compra\"},\"width\":{\"value\":0.8},\"x\":{\"field\":\"index\"}},\"id\":\"4311\",\"type\":\"VBar\"},{\"attributes\":{},\"id\":\"4330\",\"type\":\"CategoricalTicker\"},{\"attributes\":{},\"id\":\"4304\",\"type\":\"Selection\"},{\"attributes\":{\"axis\":{\"id\":\"4287\"},\"coordinates\":null,\"dimension\":1,\"grid_line_color\":null,\"group\":null,\"ticker\":null},\"id\":\"4290\",\"type\":\"Grid\"},{\"attributes\":{\"axis\":{\"id\":\"4329\"},\"coordinates\":null,\"grid_line_color\":null,\"group\":null,\"ticker\":null},\"id\":\"4331\",\"type\":\"Grid\"},{\"attributes\":{\"coordinates\":null,\"group\":null,\"text_color\":\"black\",\"text_font_size\":\"12pt\"},\"id\":\"4276\",\"type\":\"Title\"},{\"attributes\":{},\"id\":\"4333\",\"type\":\"BasicTicker\"},{\"attributes\":{\"axis_label\":\"Compra\",\"coordinates\":null,\"formatter\":{\"id\":\"4361\"},\"group\":null,\"major_label_policy\":{\"id\":\"4362\"},\"ticker\":{\"id\":\"4333\"}},\"id\":\"4332\",\"type\":\"LinearAxis\"},{\"attributes\":{\"bottom_units\":\"screen\",\"coordinates\":null,\"fill_alpha\":0.5,\"fill_color\":\"lightgrey\",\"group\":null,\"left_units\":\"screen\",\"level\":\"overlay\",\"line_alpha\":1.0,\"line_color\":\"black\",\"line_dash\":[4,4],\"line_width\":2,\"right_units\":\"screen\",\"syncable\":false,\"top_units\":\"screen\"},\"id\":\"4296\",\"type\":\"BoxAnnotation\"},{\"attributes\":{\"fill_alpha\":{\"value\":0.1},\"fill_color\":{\"value\":\"#30a2da\"},\"hatch_alpha\":{\"value\":0.1},\"hatch_color\":{\"value\":\"#30a2da\"},\"line_alpha\":{\"value\":0.1},\"top\":{\"field\":\"Compra\"},\"width\":{\"value\":0.8},\"x\":{\"field\":\"index\"}},\"id\":\"4307\",\"type\":\"VBar\"},{\"attributes\":{\"axis_label\":\"index\",\"coordinates\":null,\"formatter\":{\"id\":\"4313\"},\"group\":null,\"major_label_policy\":{\"id\":\"4314\"},\"ticker\":{\"id\":\"4285\"}},\"id\":\"4284\",\"type\":\"CategoricalAxis\"},{\"attributes\":{},\"id\":\"4280\",\"type\":\"CategoricalScale\"},{\"attributes\":{\"source\":{\"id\":\"4348\"}},\"id\":\"4355\",\"type\":\"CDSView\"},{\"attributes\":{\"fill_alpha\":{\"value\":0.1},\"fill_color\":{\"value\":\"#30a2da\"},\"hatch_alpha\":{\"value\":0.1},\"hatch_color\":{\"value\":\"#30a2da\"},\"line_alpha\":{\"value\":0.1},\"top\":{\"field\":\"Compra\"},\"width\":{\"value\":0.8},\"x\":{\"field\":\"index\"}},\"id\":\"4352\",\"type\":\"VBar\"},{\"attributes\":{},\"id\":\"4282\",\"type\":\"LinearScale\"},{\"attributes\":{\"coordinates\":null,\"data_source\":{\"id\":\"4348\"},\"glyph\":{\"id\":\"4351\"},\"group\":null,\"hover_glyph\":null,\"muted_glyph\":{\"id\":\"4353\"},\"nonselection_glyph\":{\"id\":\"4352\"},\"selection_glyph\":{\"id\":\"4356\"},\"view\":{\"id\":\"4355\"}},\"id\":\"4354\",\"type\":\"GlyphRenderer\"},{\"attributes\":{\"toolbar\":{\"id\":\"4386\"},\"toolbar_location\":\"above\"},\"id\":\"4387\",\"type\":\"ToolbarBox\"},{\"attributes\":{\"fill_color\":{\"value\":\"#30a2da\"},\"hatch_color\":{\"value\":\"#30a2da\"},\"top\":{\"field\":\"Compra\"},\"width\":{\"value\":0.8},\"x\":{\"field\":\"index\"}},\"id\":\"4351\",\"type\":\"VBar\"},{\"attributes\":{},\"id\":\"4285\",\"type\":\"CategoricalTicker\"},{\"attributes\":{},\"id\":\"4336\",\"type\":\"SaveTool\"},{\"attributes\":{\"axis\":{\"id\":\"4284\"},\"coordinates\":null,\"grid_line_color\":null,\"group\":null,\"ticker\":null},\"id\":\"4286\",\"type\":\"Grid\"},{\"attributes\":{},\"id\":\"4313\",\"type\":\"CategoricalTickFormatter\"},{\"attributes\":{},\"id\":\"4337\",\"type\":\"PanTool\"},{\"attributes\":{},\"id\":\"4288\",\"type\":\"BasicTicker\"},{\"attributes\":{},\"id\":\"4314\",\"type\":\"AllLabels\"},{\"attributes\":{},\"id\":\"4338\",\"type\":\"WheelZoomTool\"},{\"attributes\":{\"axis_label\":\"Compra\",\"coordinates\":null,\"formatter\":{\"id\":\"4316\"},\"group\":null,\"major_label_policy\":{\"id\":\"4317\"},\"ticker\":{\"id\":\"4288\"}},\"id\":\"4287\",\"type\":\"LinearAxis\"},{\"attributes\":{\"overlay\":{\"id\":\"4341\"}},\"id\":\"4339\",\"type\":\"BoxZoomTool\"},{\"attributes\":{},\"id\":\"4340\",\"type\":\"ResetTool\"},{\"attributes\":{\"data\":{\"Compra\":{\"__ndarray__\":\"16NwPQrX4z9SuB6F61HYPw==\",\"dtype\":\"float64\",\"order\":\"little\",\"shape\":[2]},\"index\":[\"0\",\"1\"]},\"selected\":{\"id\":\"4349\"},\"selection_policy\":{\"id\":\"4381\"}},\"id\":\"4348\",\"type\":\"ColumnDataSource\"},{\"attributes\":{\"fill_alpha\":{\"value\":0.2},\"fill_color\":{\"value\":\"#30a2da\"},\"hatch_alpha\":{\"value\":0.2},\"hatch_color\":{\"value\":\"#30a2da\"},\"line_alpha\":{\"value\":0.2},\"top\":{\"field\":\"Compra\"},\"width\":{\"value\":0.8},\"x\":{\"field\":\"index\"}},\"id\":\"4308\",\"type\":\"VBar\"},{\"attributes\":{\"tools\":[{\"id\":\"4291\"},{\"id\":\"4292\"},{\"id\":\"4293\"},{\"id\":\"4294\"},{\"id\":\"4295\"}]},\"id\":\"4297\",\"type\":\"Toolbar\"},{\"attributes\":{\"coordinates\":null,\"data_source\":{\"id\":\"4303\"},\"glyph\":{\"id\":\"4306\"},\"group\":null,\"hover_glyph\":null,\"muted_glyph\":{\"id\":\"4308\"},\"nonselection_glyph\":{\"id\":\"4307\"},\"selection_glyph\":{\"id\":\"4311\"},\"view\":{\"id\":\"4310\"}},\"id\":\"4309\",\"type\":\"GlyphRenderer\"},{\"attributes\":{\"bottom_units\":\"screen\",\"coordinates\":null,\"fill_alpha\":0.5,\"fill_color\":\"lightgrey\",\"group\":null,\"left_units\":\"screen\",\"level\":\"overlay\",\"line_alpha\":1.0,\"line_color\":\"black\",\"line_dash\":[4,4],\"line_width\":2,\"right_units\":\"screen\",\"syncable\":false,\"top_units\":\"screen\"},\"id\":\"4341\",\"type\":\"BoxAnnotation\"},{\"attributes\":{\"tools\":[{\"id\":\"4336\"},{\"id\":\"4337\"},{\"id\":\"4338\"},{\"id\":\"4339\"},{\"id\":\"4340\"}]},\"id\":\"4342\",\"type\":\"Toolbar\"},{\"attributes\":{},\"id\":\"4291\",\"type\":\"SaveTool\"},{\"attributes\":{},\"id\":\"4292\",\"type\":\"PanTool\"},{\"attributes\":{},\"id\":\"4293\",\"type\":\"WheelZoomTool\"},{\"attributes\":{},\"id\":\"4359\",\"type\":\"AllLabels\"},{\"attributes\":{\"overlay\":{\"id\":\"4296\"}},\"id\":\"4294\",\"type\":\"BoxZoomTool\"}],\"root_ids\":[\"4272\",\"4631\"]},\"title\":\"Bokeh Application\",\"version\":\"2.4.3\"}};\n",
              "    var render_items = [{\"docid\":\"c8b4488c-629f-41d7-8ed3-633d8b66ca49\",\"root_ids\":[\"4272\"],\"roots\":{\"4272\":\"cd9d9d3b-e5b1-478f-817d-f1b3e0ab48b2\"}}];\n",
              "    root.Bokeh.embed.embed_items_notebook(docs_json, render_items);\n",
              "  }\n",
              "  if (root.Bokeh !== undefined && root.Bokeh.Panel !== undefined) {\n",
              "    embed_document(root);\n",
              "  } else {\n",
              "    var attempts = 0;\n",
              "    var timer = setInterval(function(root) {\n",
              "      if (root.Bokeh !== undefined && root.Bokeh.Panel !== undefined) {\n",
              "        clearInterval(timer);\n",
              "        embed_document(root);\n",
              "      } else if (document.readyState == \"complete\") {\n",
              "        attempts++;\n",
              "        if (attempts > 200) {\n",
              "          clearInterval(timer);\n",
              "          console.log(\"Bokeh: ERROR: Unable to run BokehJS code because BokehJS library is missing\");\n",
              "        }\n",
              "      }\n",
              "    }, 25, root)\n",
              "  }\n",
              "})(window);</script>"
            ],
            "application/vnd.holoviews_exec.v0+json": "",
            "text/plain": [
              "HoloViews(DynamicMap)"
            ]
          },
          "metadata": {
            "application/vnd.holoviews_exec.v0+json": {
              "id": "4272"
            }
          }
        },
        {
          "output_type": "display_data",
          "data": {},
          "metadata": {}
        },
        {
          "output_type": "display_data",
          "data": {},
          "metadata": {}
        },
        {
          "output_type": "display_data",
          "data": {
            "text/html": [
              "<div id='4732'>\n",
              "  <div class=\"bk-root\" id=\"13db2756-e1a3-4be9-b159-24bb89631638\" data-root-id=\"4732\"></div>\n",
              "</div>\n",
              "<script type=\"application/javascript\">(function(root) {\n",
              "  function embed_document(root) {\n",
              "    var docs_json = {\"6017da1f-2f64-454d-8f6d-6c1fc7c0a786\":{\"defs\":[{\"extends\":null,\"module\":null,\"name\":\"ReactiveHTML1\",\"overrides\":[],\"properties\":[]},{\"extends\":null,\"module\":null,\"name\":\"FlexBox1\",\"overrides\":[],\"properties\":[{\"default\":\"flex-start\",\"kind\":null,\"name\":\"align_content\"},{\"default\":\"flex-start\",\"kind\":null,\"name\":\"align_items\"},{\"default\":\"row\",\"kind\":null,\"name\":\"flex_direction\"},{\"default\":\"wrap\",\"kind\":null,\"name\":\"flex_wrap\"},{\"default\":\"flex-start\",\"kind\":null,\"name\":\"justify_content\"}]},{\"extends\":null,\"module\":null,\"name\":\"TemplateActions1\",\"overrides\":[],\"properties\":[{\"default\":0,\"kind\":null,\"name\":\"open_modal\"},{\"default\":0,\"kind\":null,\"name\":\"close_modal\"}]},{\"extends\":null,\"module\":null,\"name\":\"MaterialTemplateActions1\",\"overrides\":[],\"properties\":[{\"default\":0,\"kind\":null,\"name\":\"open_modal\"},{\"default\":0,\"kind\":null,\"name\":\"close_modal\"}]}],\"roots\":{\"references\":[{\"attributes\":{},\"id\":\"4921\",\"type\":\"Selection\"},{\"attributes\":{},\"id\":\"4809\",\"type\":\"BasicTickFormatter\"},{\"attributes\":{},\"id\":\"4923\",\"type\":\"Selection\"},{\"attributes\":{\"fill_alpha\":{\"value\":0.5},\"fill_color\":{\"value\":\"#30a2da\"},\"hatch_alpha\":{\"value\":0.1},\"line_alpha\":{\"value\":0.1},\"line_color\":{\"value\":\"#1f77b4\"},\"line_width\":{\"value\":0},\"xs\":{\"field\":\"xs\"},\"ys\":{\"field\":\"ys\"}},\"id\":\"4845\",\"type\":\"Patches\"},{\"attributes\":{\"axis_label\":\"Variable\",\"coordinates\":null,\"formatter\":{\"id\":\"4883\"},\"group\":null,\"major_label_policy\":{\"id\":\"4884\"},\"ticker\":{\"id\":\"4823\"}},\"id\":\"4822\",\"type\":\"CategoricalAxis\"},{\"attributes\":{},\"id\":\"4820\",\"type\":\"LinearScale\"},{\"attributes\":{\"bottom\":{\"field\":\"bottom\"},\"fill_alpha\":{\"value\":0.2},\"fill_color\":{\"value\":\"#0000ff\"},\"hatch_alpha\":{\"value\":0.2},\"hatch_color\":{\"value\":\"#0000ff\"},\"line_alpha\":{\"value\":0.2},\"line_color\":{\"value\":\"#0000ff\"},\"top\":{\"field\":\"top\"},\"width\":{\"value\":0.1},\"x\":{\"field\":\"x\"}},\"id\":\"4793\",\"type\":\"VBar\"},{\"attributes\":{\"coordinates\":null,\"group\":null,\"text\":\"Violin Plot for Compra = 1: first 2 variables\",\"text_color\":\"black\",\"text_font_size\":\"12pt\"},\"id\":\"4814\",\"type\":\"Title\"},{\"attributes\":{\"source\":{\"id\":\"4866\"}},\"id\":\"4872\",\"type\":\"CDSView\"},{\"attributes\":{},\"id\":\"4922\",\"type\":\"UnionRenderers\"},{\"attributes\":{\"source\":{\"id\":\"4789\"}},\"id\":\"4795\",\"type\":\"CDSView\"},{\"attributes\":{\"coordinates\":null,\"data_source\":{\"id\":\"4850\"},\"glyph\":{\"id\":\"4852\"},\"group\":null,\"hover_glyph\":null,\"muted_glyph\":{\"id\":\"4854\"},\"nonselection_glyph\":{\"id\":\"4853\"},\"selection_glyph\":{\"id\":\"4857\"},\"view\":{\"id\":\"4856\"}},\"id\":\"4855\",\"type\":\"GlyphRenderer\"},{\"attributes\":{},\"id\":\"4920\",\"type\":\"UnionRenderers\"},{\"attributes\":{},\"id\":\"4810\",\"type\":\"AllLabels\"},{\"attributes\":{},\"id\":\"4919\",\"type\":\"Selection\"},{\"attributes\":{\"axis\":{\"id\":\"4822\"},\"coordinates\":null,\"grid_line_color\":null,\"group\":null,\"ticker\":null},\"id\":\"4824\",\"type\":\"Grid\"},{\"attributes\":{\"bottom\":{\"field\":\"bottom\"},\"fill_alpha\":{\"value\":1.0},\"fill_color\":{\"value\":\"#0000ff\"},\"hatch_alpha\":{\"value\":1.0},\"hatch_color\":{\"value\":\"#0000ff\"},\"hatch_scale\":{\"value\":12.0},\"hatch_weight\":{\"value\":1.0},\"line_alpha\":{\"value\":1.0},\"line_cap\":{\"value\":\"butt\"},\"line_color\":{\"value\":\"#0000ff\"},\"line_dash\":{\"value\":[]},\"line_dash_offset\":{\"value\":0},\"line_join\":{\"value\":\"bevel\"},\"line_width\":{\"value\":1},\"top\":{\"field\":\"top\"},\"width\":{\"value\":0.1},\"x\":{\"field\":\"x\"}},\"id\":\"4796\",\"type\":\"VBar\"},{\"attributes\":{\"coordinates\":null,\"data_source\":{\"id\":\"4789\"},\"glyph\":{\"id\":\"4791\"},\"group\":null,\"hover_glyph\":null,\"muted_glyph\":{\"id\":\"4793\"},\"nonselection_glyph\":{\"id\":\"4792\"},\"selection_glyph\":{\"id\":\"4796\"},\"view\":{\"id\":\"4795\"}},\"id\":\"4794\",\"type\":\"GlyphRenderer\"},{\"attributes\":{\"x0\":{\"field\":\"x\"},\"x1\":{\"field\":\"x\"},\"y0\":{\"field\":\"y0\"},\"y1\":{\"field\":\"y1\"}},\"id\":\"4860\",\"type\":\"Segment\"},{\"attributes\":{\"bottom\":{\"field\":\"bottom\"},\"fill_color\":{\"value\":\"#ff0000\"},\"hatch_color\":{\"value\":\"#ff0000\"},\"line_color\":{\"value\":\"#ff0000\"},\"top\":{\"field\":\"top\"},\"width\":{\"value\":0.1},\"x\":{\"field\":\"x\"}},\"id\":\"4868\",\"type\":\"VBar\"},{\"attributes\":{\"toolbar\":{\"id\":\"4927\"},\"toolbar_location\":\"above\"},\"id\":\"4928\",\"type\":\"ToolbarBox\"},{\"attributes\":{\"coordinates\":null,\"data_source\":{\"id\":\"4842\"},\"glyph\":{\"id\":\"4844\"},\"group\":null,\"hover_glyph\":null,\"muted_glyph\":{\"id\":\"4846\"},\"nonselection_glyph\":{\"id\":\"4845\"},\"selection_glyph\":{\"id\":\"4849\"},\"view\":{\"id\":\"4848\"}},\"id\":\"4847\",\"type\":\"GlyphRenderer\"},{\"attributes\":{\"bottom\":{\"field\":\"bottom\"},\"fill_color\":{\"value\":\"#0000ff\"},\"hatch_color\":{\"value\":\"#0000ff\"},\"line_color\":{\"value\":\"#0000ff\"},\"top\":{\"field\":\"top\"},\"width\":{\"value\":0.1},\"x\":{\"field\":\"x\"}},\"id\":\"4791\",\"type\":\"VBar\"},{\"attributes\":{},\"id\":\"4903\",\"type\":\"UnionRenderers\"},{\"attributes\":{\"fill_alpha\":{\"value\":0.5},\"fill_color\":{\"value\":\"#30a2da\"},\"hatch_alpha\":{\"value\":0.2},\"line_alpha\":{\"value\":0.2},\"line_color\":{\"value\":\"#1f77b4\"},\"line_width\":{\"value\":0},\"xs\":{\"field\":\"xs\"},\"ys\":{\"field\":\"ys\"}},\"id\":\"4846\",\"type\":\"Patches\"},{\"attributes\":{\"bottom\":{\"field\":\"bottom\"},\"fill_alpha\":{\"value\":1.0},\"fill_color\":{\"value\":\"#ff0000\"},\"hatch_alpha\":{\"value\":1.0},\"hatch_color\":{\"value\":\"#ff0000\"},\"hatch_scale\":{\"value\":12.0},\"hatch_weight\":{\"value\":1.0},\"line_alpha\":{\"value\":1.0},\"line_cap\":{\"value\":\"butt\"},\"line_color\":{\"value\":\"#ff0000\"},\"line_dash\":{\"value\":[]},\"line_dash_offset\":{\"value\":0},\"line_join\":{\"value\":\"bevel\"},\"line_width\":{\"value\":1},\"top\":{\"field\":\"top\"},\"width\":{\"value\":0.1},\"x\":{\"field\":\"x\"}},\"id\":\"4873\",\"type\":\"VBar\"},{\"attributes\":{\"children\":[{\"id\":\"4928\"},{\"id\":\"4926\"}]},\"id\":\"4929\",\"type\":\"Column\"},{\"attributes\":{\"callback\":null,\"renderers\":[{\"id\":\"4871\"}],\"tags\":[\"hv_created\"],\"tooltips\":[[\"Variable\",\"@{Variable}\"],[\"value\",\"@{value}\"]]},\"id\":\"4812\",\"type\":\"HoverTool\"},{\"attributes\":{\"toolbars\":[{\"id\":\"4758\"},{\"id\":\"4835\"}],\"tools\":[{\"id\":\"4735\"},{\"id\":\"4752\"},{\"id\":\"4753\"},{\"id\":\"4754\"},{\"id\":\"4755\"},{\"id\":\"4756\"},{\"id\":\"4812\"},{\"id\":\"4829\"},{\"id\":\"4830\"},{\"id\":\"4831\"},{\"id\":\"4832\"},{\"id\":\"4833\"}]},\"id\":\"4927\",\"type\":\"ProxyToolbar\"},{\"attributes\":{\"source\":{\"id\":\"4858\"}},\"id\":\"4864\",\"type\":\"CDSView\"},{\"attributes\":{\"below\":[{\"id\":\"4822\"}],\"center\":[{\"id\":\"4824\"},{\"id\":\"4828\"}],\"height\":500,\"left\":[{\"id\":\"4825\"}],\"margin\":null,\"min_border_bottom\":10,\"min_border_left\":10,\"min_border_right\":10,\"min_border_top\":10,\"renderers\":[{\"id\":\"4847\"},{\"id\":\"4855\"},{\"id\":\"4863\"},{\"id\":\"4871\"},{\"id\":\"4879\"}],\"sizing_mode\":\"fixed\",\"title\":{\"id\":\"4814\"},\"toolbar\":{\"id\":\"4835\"},\"toolbar_location\":null,\"width\":800,\"x_range\":{\"id\":\"4733\"},\"x_scale\":{\"id\":\"4818\"},\"y_range\":{\"id\":\"4734\"},\"y_scale\":{\"id\":\"4820\"}},\"id\":\"4813\",\"subtype\":\"Figure\",\"type\":\"Plot\"},{\"attributes\":{\"bottom\":{\"field\":\"bottom\"},\"fill_alpha\":{\"value\":0.1},\"fill_color\":{\"value\":\"#0000ff\"},\"hatch_alpha\":{\"value\":0.1},\"hatch_color\":{\"value\":\"#0000ff\"},\"line_alpha\":{\"value\":0.1},\"line_color\":{\"value\":\"#0000ff\"},\"top\":{\"field\":\"top\"},\"width\":{\"value\":0.1},\"x\":{\"field\":\"x\"}},\"id\":\"4792\",\"type\":\"VBar\"},{\"attributes\":{\"line_alpha\":{\"value\":1.0},\"line_cap\":{\"value\":\"butt\"},\"line_color\":{\"value\":\"black\"},\"line_dash\":{\"value\":[]},\"line_dash_offset\":{\"value\":0},\"line_join\":{\"value\":\"bevel\"},\"line_width\":{\"value\":1},\"x0\":{\"field\":\"x\"},\"x1\":{\"field\":\"x\"},\"y0\":{\"field\":\"y0\"},\"y1\":{\"field\":\"y1\"}},\"id\":\"4865\",\"type\":\"Segment\"},{\"attributes\":{\"coordinates\":null,\"data_source\":{\"id\":\"4866\"},\"glyph\":{\"id\":\"4868\"},\"group\":null,\"hover_glyph\":null,\"muted_glyph\":{\"id\":\"4870\"},\"nonselection_glyph\":{\"id\":\"4869\"},\"selection_glyph\":{\"id\":\"4873\"},\"view\":{\"id\":\"4872\"}},\"id\":\"4871\",\"type\":\"GlyphRenderer\"},{\"attributes\":{},\"id\":\"4823\",\"type\":\"CategoricalTicker\"},{\"attributes\":{},\"id\":\"4826\",\"type\":\"BasicTicker\"},{\"attributes\":{\"coordinates\":null,\"data_source\":{\"id\":\"4858\"},\"glyph\":{\"id\":\"4860\"},\"group\":null,\"hover_glyph\":null,\"muted_glyph\":{\"id\":\"4862\"},\"nonselection_glyph\":{\"id\":\"4861\"},\"selection_glyph\":{\"id\":\"4865\"},\"view\":{\"id\":\"4864\"}},\"id\":\"4863\",\"type\":\"GlyphRenderer\"},{\"attributes\":{\"fill_alpha\":{\"value\":0.5},\"fill_color\":{\"value\":\"#30a2da\"},\"line_color\":{\"value\":\"#1f77b4\"},\"line_width\":{\"value\":0},\"xs\":{\"field\":\"xs\"},\"ys\":{\"field\":\"ys\"}},\"id\":\"4844\",\"type\":\"Patches\"},{\"attributes\":{\"line_alpha\":{\"value\":0.1},\"x0\":{\"field\":\"x\"},\"x1\":{\"field\":\"x\"},\"y0\":{\"field\":\"y0\"},\"y1\":{\"field\":\"y1\"}},\"id\":\"4861\",\"type\":\"Segment\"},{\"attributes\":{\"axis\":{\"id\":\"4825\"},\"coordinates\":null,\"dimension\":1,\"grid_line_color\":null,\"group\":null,\"ticker\":null},\"id\":\"4828\",\"type\":\"Grid\"},{\"attributes\":{\"bottom\":{\"field\":\"bottom\"},\"fill_alpha\":{\"value\":0.2},\"fill_color\":{\"value\":\"#ff0000\"},\"hatch_alpha\":{\"value\":0.2},\"hatch_color\":{\"value\":\"#ff0000\"},\"line_alpha\":{\"value\":0.2},\"line_color\":{\"value\":\"#ff0000\"},\"top\":{\"field\":\"top\"},\"width\":{\"value\":0.1},\"x\":{\"field\":\"x\"}},\"id\":\"4870\",\"type\":\"VBar\"},{\"attributes\":{\"data\":{\"xs\":[[[\"Edad\",-1.2741672703718482e-07],[\"Edad\",-4.275426502465096e-07],[\"Edad\",-1.354262189967657e-06],[\"Edad\",-4.050112992647825e-06],[\"Edad\",-1.1438038639469447e-05],[\"Edad\",-3.051018409815083e-05],[\"Edad\",-7.688609852222752e-05],[\"Edad\",-0.00018309496652314317],[\"Edad\",-0.000412159488998793],[\"Edad\",-0.0008773508835834953],[\"Edad\",-0.0017668117511012767],[\"Edad\",-0.003367800392680949],[\"Edad\",-0.006080291135501521],[\"Edad\",-0.010405819924165114],[\"Edad\",-0.01689835749079314],[\"Edad\",-0.026072882733774252],[\"Edad\",-0.03828439569281161],[\"Edad\",-0.053610075033259375],[\"Edad\",-0.07177981204866374],[\"Edad\",-0.09219466332811492],[\"Edad\",-0.1140449902997607],[\"Edad\",-0.13649866193139157],[\"Edad\",-0.1588938919344014],[\"Edad\",-0.180861301290084],[\"Edad\",-0.20232430917999605],[\"Edad\",-0.22337631320623383],[\"Edad\",-0.24408407040953542],[\"Edad\",-0.2642958678070903],[\"Edad\",-0.28352982317382136],[\"Edad\",-0.30098754258110016],[\"Edad\",-0.31569646902216253],[\"Edad\",-0.32674530705017857],[\"Edad\",-0.3335499417505814],[\"Edad\",-0.33607657483357967],[\"Edad\",-0.33495646009082836],[\"Edad\",-0.33145204554410546],[\"Edad\",-0.32727161025019735],[\"Edad\",-0.3242674456270685],[\"Edad\",-0.32407997224107005],[\"Edad\",-0.32780171486041576],[\"Edad\",-0.33573260934959204],[\"Edad\",-0.3472848855167061],[\"Edad\",-0.3610706995167138],[\"Edad\",-0.37516554841863486],[\"Edad\",-0.38748927155331625],[\"Edad\",-0.39620197233891785],[\"Edad\",-0.4],[\"Edad\",-0.3982326624818289],[\"Edad\",-0.3908333981018808],[\"Edad\",-0.37813496794572815],[\"Edad\",-0.36067711206497854],[\"Edad\",-0.33909701839001694],[\"Edad\",-0.3141299762846074],[\"Edad\",-0.28667618675984213],[\"Edad\",-0.2578490903525535],[\"Edad\",-0.22893119555305552],[\"Edad\",-0.2012171938891814],[\"Edad\",-0.17579038885767628],[\"Edad\",-0.1533208856789964],[\"Edad\",-0.13397027823708585],[\"Edad\",-0.1174410090844613],[\"Edad\",-0.10314536157327024],[\"Edad\",-0.0904225890396037],[\"Edad\",-0.07872435681840909],[\"Edad\",-0.06771690968524245],[\"Edad\",-0.05729258131987949],[\"Edad\",-0.0475185537858552],[\"Edad\",-0.03856281428879808],[\"Edad\",-0.030627730426348077],[\"Edad\",-0.02390293222849583],[\"Edad\",-0.018534131982604493],[\"Edad\",-0.014599309451080617],[\"Edad\",-0.012087034971098283],[\"Edad\",-0.010878539437576336],[\"Edad\",-0.01074068253569585],[\"Edad\",-0.01133844903661517],[\"Edad\",-0.01227213507407016],[\"Edad\",-0.01313668071391998],[\"Edad\",-0.013591188220258989],[\"Edad\",-0.013419721004432087],[\"Edad\",-0.012564221748004445],[\"Edad\",-0.011118407442223907],[\"Edad\",-0.009285032228141515],[\"Edad\",-0.0073118208078627915],[\"Edad\",-0.005427581400544538],[\"Edad\",-0.0037970479020888893],[\"Edad\",-0.002503257205637379],[\"Edad\",-0.00155512446551023],[\"Edad\",-0.0009103649028360059],[\"Edad\",-0.0005021711492360073],[\"Edad\",-0.00026101864519988567],[\"Edad\",-0.00012784202403819166],[\"Edad\",-5.900074342804373e-05],[\"Edad\",-2.5657998252005534e-05],[\"Edad\",-1.0514033347936129e-05],[\"Edad\",-4.059729949138774e-06],[\"Edad\",-1.4770871480282496e-06],[\"Edad\",-5.064029800343654e-07],[\"Edad\",-1.6359406193611528e-07],[\"Edad\",-4.9798924536076906e-08],[\"Edad\",4.9798924536076906e-08],[\"Edad\",1.6359406193611528e-07],[\"Edad\",5.064029800343654e-07],[\"Edad\",1.4770871480282496e-06],[\"Edad\",4.059729949138774e-06],[\"Edad\",1.0514033347936129e-05],[\"Edad\",2.5657998252005534e-05],[\"Edad\",5.900074342804373e-05],[\"Edad\",0.00012784202403819166],[\"Edad\",0.00026101864519988567],[\"Edad\",0.0005021711492360073],[\"Edad\",0.0009103649028360059],[\"Edad\",0.00155512446551023],[\"Edad\",0.002503257205637379],[\"Edad\",0.0037970479020888893],[\"Edad\",0.005427581400544538],[\"Edad\",0.0073118208078627915],[\"Edad\",0.009285032228141515],[\"Edad\",0.011118407442223907],[\"Edad\",0.012564221748004445],[\"Edad\",0.013419721004432087],[\"Edad\",0.013591188220258989],[\"Edad\",0.01313668071391998],[\"Edad\",0.01227213507407016],[\"Edad\",0.01133844903661517],[\"Edad\",0.01074068253569585],[\"Edad\",0.010878539437576336],[\"Edad\",0.012087034971098283],[\"Edad\",0.014599309451080617],[\"Edad\",0.018534131982604493],[\"Edad\",0.02390293222849583],[\"Edad\",0.030627730426348077],[\"Edad\",0.03856281428879808],[\"Edad\",0.0475185537858552],[\"Edad\",0.05729258131987949],[\"Edad\",0.06771690968524245],[\"Edad\",0.07872435681840909],[\"Edad\",0.0904225890396037],[\"Edad\",0.10314536157327024],[\"Edad\",0.1174410090844613],[\"Edad\",0.13397027823708585],[\"Edad\",0.1533208856789964],[\"Edad\",0.17579038885767628],[\"Edad\",0.2012171938891814],[\"Edad\",0.22893119555305552],[\"Edad\",0.2578490903525535],[\"Edad\",0.28667618675984213],[\"Edad\",0.3141299762846074],[\"Edad\",0.33909701839001694],[\"Edad\",0.36067711206497854],[\"Edad\",0.37813496794572815],[\"Edad\",0.3908333981018808],[\"Edad\",0.3982326624818289],[\"Edad\",0.4],[\"Edad\",0.39620197233891785],[\"Edad\",0.38748927155331625],[\"Edad\",0.37516554841863486],[\"Edad\",0.3610706995167138],[\"Edad\",0.3472848855167061],[\"Edad\",0.33573260934959204],[\"Edad\",0.32780171486041576],[\"Edad\",0.32407997224107005],[\"Edad\",0.3242674456270685],[\"Edad\",0.32727161025019735],[\"Edad\",0.33145204554410546],[\"Edad\",0.33495646009082836],[\"Edad\",0.33607657483357967],[\"Edad\",0.3335499417505814],[\"Edad\",0.32674530705017857],[\"Edad\",0.31569646902216253],[\"Edad\",0.30098754258110016],[\"Edad\",0.28352982317382136],[\"Edad\",0.2642958678070903],[\"Edad\",0.24408407040953542],[\"Edad\",0.22337631320623383],[\"Edad\",0.20232430917999605],[\"Edad\",0.180861301290084],[\"Edad\",0.1588938919344014],[\"Edad\",0.13649866193139157],[\"Edad\",0.1140449902997607],[\"Edad\",0.09219466332811492],[\"Edad\",0.07177981204866374],[\"Edad\",0.053610075033259375],[\"Edad\",0.03828439569281161],[\"Edad\",0.026072882733774252],[\"Edad\",0.01689835749079314],[\"Edad\",0.010405819924165114],[\"Edad\",0.006080291135501521],[\"Edad\",0.003367800392680949],[\"Edad\",0.0017668117511012767],[\"Edad\",0.0008773508835834953],[\"Edad\",0.000412159488998793],[\"Edad\",0.00018309496652314317],[\"Edad\",7.688609852222752e-05],[\"Edad\",3.051018409815083e-05],[\"Edad\",1.1438038639469447e-05],[\"Edad\",4.050112992647825e-06],[\"Edad\",1.354262189967657e-06],[\"Edad\",4.275426502465096e-07],[\"Edad\",1.2741672703718482e-07]],[[\"Salario\",-1.3545521520017967e-07],[\"Salario\",-4.645080967101706e-07],[\"Salario\",-1.501535754568312e-06],[\"Salario\",-4.576096895804957e-06],[\"Salario\",-1.3150775483851302e-05],[\"Salario\",-3.564446123008102e-05],[\"Salario\",-9.114131810428898e-05],[\"Salario\",-0.00021990309737027064],[\"Salario\",-0.000500801164452543],[\"Salario\",-0.0010768638006051579],[\"Salario\",-0.0021871771595595056],[\"Salario\",-0.004197874127010138],[\"Salario\",-0.00761775140535277],[\"Salario\",-0.01307824314994004],[\"Salario\",-0.02125810369385708],[\"Salario\",-0.03274506414175632],[\"Salario\",-0.04785069968265566],[\"Salario\",-0.06642403887210892],[\"Salario\",-0.08773014979306112],[\"Salario\",-0.110457042814631],[\"Salario\",-0.13288136156760327],[\"Salario\",-0.15316982041206387],[\"Salario\",-0.16974213206881794],[\"Salario\",-0.181596758144799],[\"Salario\",-0.1885144759967512],[\"Salario\",-0.19109766372367107],[\"Salario\",-0.19065295312948569],[\"Salario\",-0.18896038380503807],[\"Salario\",-0.18798534047241391],[\"Salario\",-0.18958573481148178],[\"Salario\",-0.19525596827938654],[\"Salario\",-0.20593675922418458],[\"Salario\",-0.22190613105552354],[\"Salario\",-0.24275204231302921],[\"Salario\",-0.267416080837361],[\"Salario\",-0.29429694202494966],[\"Salario\",-0.32141269304709136],[\"Salario\",-0.3466318601243558],[\"Salario\",-0.3679786274736607],[\"Salario\",-0.3839867965595924],[\"Salario\",-0.3940289149713207],[\"Salario\",-0.3985086883229591],[\"Salario\",-0.39880913852122196],[\"Salario\",-0.3969517035162848],[\"Salario\",-0.39502579052553055],[\"Salario\",-0.39454857818831246],[\"Salario\",-0.3959603085511269],[\"Salario\",-0.398424548857371],[\"Salario\",-0.4],[\"Salario\",-0.39812645675168895],[\"Salario\",-0.3902740238532536],[\"Salario\",-0.374572240579542],[\"Salario\",-0.35026372758260926],[\"Salario\",-0.31789218088077864],[\"Salario\",-0.2792088147744952],[\"Salario\",-0.23684462517231106],[\"Salario\",-0.19383874463732806],[\"Salario\",-0.15313252578760994],[\"Salario\",-0.11713381402757828],[\"Salario\",-0.08742794318495915],[\"Salario\",-0.06466893730554855],[\"Salario\",-0.04863975759344029],[\"Salario\",-0.03843825565589687],[\"Salario\",-0.032732930438399636],[\"Salario\",-0.03003650232258317],[\"Salario\",-0.028956092154104357],[\"Salario\",-0.028388260539578193],[\"Salario\",-0.02763421033254615],[\"Salario\",-0.026419976980217474],[\"Salario\",-0.024823078763348543],[\"Salario\",-0.023129403345728577],[\"Salario\",-0.02166383862668608],[\"Salario\",-0.02064530377332947],[\"Salario\",-0.020106315612962056],[\"Salario\",-0.019892514949008976],[\"Salario\",-0.01972905566102538],[\"Salario\",-0.019320155506601818],[\"Salario\",-0.01844264327109414],[\"Salario\",-0.017003824427201643],[\"Salario\",-0.01505202252775878],[\"Salario\",-0.012746135775065039],[\"Salario\",-0.010301935370030955],[\"Salario\",-0.007935401521262774],[\"Salario\",-0.005818875294583928],[\"Salario\",-0.004057875213184969],[\"Salario\",-0.002688621949781121],[\"Salario\",-0.0016908730318285924],[\"Salario\",-0.0010083688245449902],[\"Salario\",-0.0005696903533778069],[\"Salario\",-0.00030462860382042046],[\"Salario\",-0.00015404324943577954],[\"Salario\",-7.360638418944233e-05],[\"Salario\",-3.321130670428773e-05],[\"Salario\",-1.4141255072151903e-05],[\"Salario\",-5.679252401829062e-06],[\"Salario\",-2.150298416954114e-06],[\"Salario\",-7.672625742621036e-07],[\"Salario\",-2.579212412773135e-07],[\"Salario\",-8.166037128148005e-08],[\"Salario\",-2.4345570610167936e-08],[\"Salario\",2.4345570610167936e-08],[\"Salario\",8.166037128148005e-08],[\"Salario\",2.579212412773135e-07],[\"Salario\",7.672625742621036e-07],[\"Salario\",2.150298416954114e-06],[\"Salario\",5.679252401829062e-06],[\"Salario\",1.4141255072151903e-05],[\"Salario\",3.321130670428773e-05],[\"Salario\",7.360638418944233e-05],[\"Salario\",0.00015404324943577954],[\"Salario\",0.00030462860382042046],[\"Salario\",0.0005696903533778069],[\"Salario\",0.0010083688245449902],[\"Salario\",0.0016908730318285924],[\"Salario\",0.002688621949781121],[\"Salario\",0.004057875213184969],[\"Salario\",0.005818875294583928],[\"Salario\",0.007935401521262774],[\"Salario\",0.010301935370030955],[\"Salario\",0.012746135775065039],[\"Salario\",0.01505202252775878],[\"Salario\",0.017003824427201643],[\"Salario\",0.01844264327109414],[\"Salario\",0.019320155506601818],[\"Salario\",0.01972905566102538],[\"Salario\",0.019892514949008976],[\"Salario\",0.020106315612962056],[\"Salario\",0.02064530377332947],[\"Salario\",0.02166383862668608],[\"Salario\",0.023129403345728577],[\"Salario\",0.024823078763348543],[\"Salario\",0.026419976980217474],[\"Salario\",0.02763421033254615],[\"Salario\",0.028388260539578193],[\"Salario\",0.028956092154104357],[\"Salario\",0.03003650232258317],[\"Salario\",0.032732930438399636],[\"Salario\",0.03843825565589687],[\"Salario\",0.04863975759344029],[\"Salario\",0.06466893730554855],[\"Salario\",0.08742794318495915],[\"Salario\",0.11713381402757828],[\"Salario\",0.15313252578760994],[\"Salario\",0.19383874463732806],[\"Salario\",0.23684462517231106],[\"Salario\",0.2792088147744952],[\"Salario\",0.31789218088077864],[\"Salario\",0.35026372758260926],[\"Salario\",0.374572240579542],[\"Salario\",0.3902740238532536],[\"Salario\",0.39812645675168895],[\"Salario\",0.4],[\"Salario\",0.398424548857371],[\"Salario\",0.3959603085511269],[\"Salario\",0.39454857818831246],[\"Salario\",0.39502579052553055],[\"Salario\",0.3969517035162848],[\"Salario\",0.39880913852122196],[\"Salario\",0.3985086883229591],[\"Salario\",0.3940289149713207],[\"Salario\",0.3839867965595924],[\"Salario\",0.3679786274736607],[\"Salario\",0.3466318601243558],[\"Salario\",0.32141269304709136],[\"Salario\",0.29429694202494966],[\"Salario\",0.267416080837361],[\"Salario\",0.24275204231302921],[\"Salario\",0.22190613105552354],[\"Salario\",0.20593675922418458],[\"Salario\",0.19525596827938654],[\"Salario\",0.18958573481148178],[\"Salario\",0.18798534047241391],[\"Salario\",0.18896038380503807],[\"Salario\",0.19065295312948569],[\"Salario\",0.19109766372367107],[\"Salario\",0.1885144759967512],[\"Salario\",0.181596758144799],[\"Salario\",0.16974213206881794],[\"Salario\",0.15316982041206387],[\"Salario\",0.13288136156760327],[\"Salario\",0.110457042814631],[\"Salario\",0.08773014979306112],[\"Salario\",0.06642403887210892],[\"Salario\",0.04785069968265566],[\"Salario\",0.03274506414175632],[\"Salario\",0.02125810369385708],[\"Salario\",0.01307824314994004],[\"Salario\",0.00761775140535277],[\"Salario\",0.004197874127010138],[\"Salario\",0.0021871771595595056],[\"Salario\",0.0010768638006051579],[\"Salario\",0.000500801164452543],[\"Salario\",0.00021990309737027064],[\"Salario\",9.114131810428898e-05],[\"Salario\",3.564446123008102e-05],[\"Salario\",1.3150775483851302e-05],[\"Salario\",4.576096895804957e-06],[\"Salario\",1.501535754568312e-06],[\"Salario\",4.645080967101706e-07],[\"Salario\",1.3545521520017967e-07]]],\"ys\":[{\"__ndarray__\":\"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\",\"dtype\":\"float64\",\"order\":\"little\",\"shape\":[200]},{\"__ndarray__\":\"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\",\"dtype\":\"float64\",\"order\":\"little\",\"shape\":[200]}]},\"selected\":{\"id\":\"4896\"},\"selection_policy\":{\"id\":\"4895\"}},\"id\":\"4765\",\"type\":\"ColumnDataSource\"},{\"attributes\":{\"children\":[[{\"id\":\"4736\"},0,0],[{\"id\":\"4813\"},0,1]]},\"id\":\"4926\",\"type\":\"GridBox\"},{\"attributes\":{},\"id\":\"4818\",\"type\":\"CategoricalScale\"},{\"attributes\":{\"data\":{\"bottom\":{\"__ndarray__\":\"RoDfqkmXwj8L5N/4PRHrvw==\",\"dtype\":\"float64\",\"order\":\"little\",\"shape\":[2]},\"top\":{\"__ndarray__\":\"+GqvnICw9T8HROmrpHr3Pw==\",\"dtype\":\"float64\",\"order\":\"little\",\"shape\":[2]},\"x\":[[\"Edad\",0],[\"Salario\",0]]},\"selected\":{\"id\":\"4921\"},\"selection_policy\":{\"id\":\"4920\"}},\"id\":\"4866\",\"type\":\"ColumnDataSource\"},{\"attributes\":{\"bottom\":{\"field\":\"bottom\"},\"fill_alpha\":{\"value\":0.1},\"fill_color\":{\"value\":\"#ff0000\"},\"hatch_alpha\":{\"value\":0.1},\"hatch_color\":{\"value\":\"#ff0000\"},\"line_alpha\":{\"value\":0.1},\"line_color\":{\"value\":\"#ff0000\"},\"top\":{\"field\":\"top\"},\"width\":{\"value\":0.1},\"x\":{\"field\":\"x\"}},\"id\":\"4869\",\"type\":\"VBar\"},{\"attributes\":{\"line_alpha\":{\"value\":0.2},\"x0\":{\"field\":\"x\"},\"x1\":{\"field\":\"x\"},\"y0\":{\"field\":\"y0\"},\"y1\":{\"field\":\"y1\"}},\"id\":\"4862\",\"type\":\"Segment\"},{\"attributes\":{\"axis_label\":\"\",\"coordinates\":null,\"formatter\":{\"id\":\"4886\"},\"group\":null,\"major_label_policy\":{\"id\":\"4887\"},\"ticker\":{\"id\":\"4826\"}},\"id\":\"4825\",\"type\":\"LinearAxis\"},{\"attributes\":{\"fill_alpha\":{\"value\":0.5},\"fill_color\":{\"value\":\"#30a2da\"},\"line_color\":{\"value\":\"#1f77b4\"},\"line_width\":{\"value\":0},\"xs\":{\"field\":\"xs\"},\"ys\":{\"field\":\"ys\"}},\"id\":\"4767\",\"type\":\"Patches\"},{\"attributes\":{\"tools\":[{\"id\":\"4812\"},{\"id\":\"4829\"},{\"id\":\"4830\"},{\"id\":\"4831\"},{\"id\":\"4832\"},{\"id\":\"4833\"}]},\"id\":\"4835\",\"type\":\"Toolbar\"},{\"attributes\":{},\"id\":\"4829\",\"type\":\"SaveTool\"},{\"attributes\":{\"coordinates\":null,\"group\":null,\"text\":\"Violin Plot for Compra = 0: first 2 variables\",\"text_color\":\"black\",\"text_font_size\":\"12pt\"},\"id\":\"4737\",\"type\":\"Title\"},{\"attributes\":{\"fill_alpha\":{\"value\":0.2},\"fill_color\":{\"value\":\"white\"},\"hatch_alpha\":{\"value\":0.2},\"hatch_color\":{\"value\":\"white\"},\"line_alpha\":{\"value\":0.2},\"line_color\":{\"value\":\"white\"},\"x\":{\"field\":\"x\"},\"y\":{\"field\":\"y\"}},\"id\":\"4801\",\"type\":\"Scatter\"},{\"attributes\":{\"data\":{\"x\":[[\"Edad\",0],[\"Salario\",0]],\"y\":{\"__ndarray__\":\"XU0OorIw7D9C7GhF1VziPw==\",\"dtype\":\"float64\",\"order\":\"little\",\"shape\":[2]}},\"selected\":{\"id\":\"4923\"},\"selection_policy\":{\"id\":\"4922\"}},\"id\":\"4874\",\"type\":\"ColumnDataSource\"},{\"attributes\":{},\"id\":\"4916\",\"type\":\"UnionRenderers\"},{\"attributes\":{\"fill_alpha\":{\"value\":0.5},\"fill_color\":{\"value\":\"#30a2da\"},\"hatch_alpha\":{\"value\":0.1},\"line_alpha\":{\"value\":0.1},\"line_color\":{\"value\":\"#1f77b4\"},\"line_width\":{\"value\":0},\"xs\":{\"field\":\"xs\"},\"ys\":{\"field\":\"ys\"}},\"id\":\"4768\",\"type\":\"Patches\"},{\"attributes\":{\"coordinates\":null,\"data_source\":{\"id\":\"4781\"},\"glyph\":{\"id\":\"4783\"},\"group\":null,\"hover_glyph\":null,\"muted_glyph\":{\"id\":\"4785\"},\"nonselection_glyph\":{\"id\":\"4784\"},\"selection_glyph\":{\"id\":\"4788\"},\"view\":{\"id\":\"4787\"}},\"id\":\"4786\",\"type\":\"GlyphRenderer\"},{\"attributes\":{\"fill_alpha\":{\"value\":0.1},\"fill_color\":{\"value\":\"white\"},\"hatch_alpha\":{\"value\":0.1},\"hatch_color\":{\"value\":\"white\"},\"line_alpha\":{\"value\":0.1},\"line_color\":{\"value\":\"white\"},\"x\":{\"field\":\"x\"},\"y\":{\"field\":\"y\"}},\"id\":\"4800\",\"type\":\"Scatter\"},{\"attributes\":{},\"id\":\"4807\",\"type\":\"AllLabels\"},{\"attributes\":{},\"id\":\"4886\",\"type\":\"BasicTickFormatter\"},{\"attributes\":{\"coordinates\":null,\"data_source\":{\"id\":\"4874\"},\"glyph\":{\"id\":\"4876\"},\"group\":null,\"hover_glyph\":null,\"muted_glyph\":{\"id\":\"4878\"},\"nonselection_glyph\":{\"id\":\"4877\"},\"selection_glyph\":{\"id\":\"4881\"},\"view\":{\"id\":\"4880\"}},\"id\":\"4879\",\"type\":\"GlyphRenderer\"},{\"attributes\":{\"angle\":{\"value\":0.0},\"fill_alpha\":{\"value\":1.0},\"fill_color\":{\"value\":\"white\"},\"hatch_alpha\":{\"value\":1.0},\"hatch_color\":{\"value\":\"white\"},\"hatch_scale\":{\"value\":12.0},\"hatch_weight\":{\"value\":1.0},\"line_alpha\":{\"value\":1.0},\"line_cap\":{\"value\":\"butt\"},\"line_color\":{\"value\":\"white\"},\"line_dash\":{\"value\":[]},\"line_dash_offset\":{\"value\":0},\"line_join\":{\"value\":\"bevel\"},\"line_width\":{\"value\":1},\"marker\":{\"value\":\"circle\"},\"size\":{\"value\":4},\"x\":{\"field\":\"x\"},\"y\":{\"field\":\"y\"}},\"id\":\"4804\",\"type\":\"Scatter\"},{\"attributes\":{\"data\":{\"xs\":[[[\"Edad\",-1.2741672703718482e-07],[\"Edad\",-4.275426502465096e-07],[\"Edad\",-1.354262189967657e-06],[\"Edad\",-4.050112992647825e-06],[\"Edad\",-1.1438038639469447e-05],[\"Edad\",-3.051018409815083e-05],[\"Edad\",-7.688609852222752e-05],[\"Edad\",-0.00018309496652314317],[\"Edad\",-0.000412159488998793],[\"Edad\",-0.0008773508835834953],[\"Edad\",-0.0017668117511012767],[\"Edad\",-0.003367800392680949],[\"Edad\",-0.006080291135501521],[\"Edad\",-0.010405819924165114],[\"Edad\",-0.01689835749079314],[\"Edad\",-0.026072882733774252],[\"Edad\",-0.03828439569281161],[\"Edad\",-0.053610075033259375],[\"Edad\",-0.07177981204866374],[\"Edad\",-0.09219466332811492],[\"Edad\",-0.1140449902997607],[\"Edad\",-0.13649866193139157],[\"Edad\",-0.1588938919344014],[\"Edad\",-0.180861301290084],[\"Edad\",-0.20232430917999605],[\"Edad\",-0.22337631320623383],[\"Edad\",-0.24408407040953542],[\"Edad\",-0.2642958678070903],[\"Edad\",-0.28352982317382136],[\"Edad\",-0.30098754258110016],[\"Edad\",-0.31569646902216253],[\"Edad\",-0.32674530705017857],[\"Edad\",-0.3335499417505814],[\"Edad\",-0.33607657483357967],[\"Edad\",-0.33495646009082836],[\"Edad\",-0.33145204554410546],[\"Edad\",-0.32727161025019735],[\"Edad\",-0.3242674456270685],[\"Edad\",-0.32407997224107005],[\"Edad\",-0.32780171486041576],[\"Edad\",-0.33573260934959204],[\"Edad\",-0.3472848855167061],[\"Edad\",-0.3610706995167138],[\"Edad\",-0.37516554841863486],[\"Edad\",-0.38748927155331625],[\"Edad\",-0.39620197233891785],[\"Edad\",-0.4],[\"Edad\",-0.3982326624818289],[\"Edad\",-0.3908333981018808],[\"Edad\",-0.37813496794572815],[\"Edad\",-0.36067711206497854],[\"Edad\",-0.33909701839001694],[\"Edad\",-0.3141299762846074],[\"Edad\",-0.28667618675984213],[\"Edad\",-0.2578490903525535],[\"Edad\",-0.22893119555305552],[\"Edad\",-0.2012171938891814],[\"Edad\",-0.17579038885767628],[\"Edad\",-0.1533208856789964],[\"Edad\",-0.13397027823708585],[\"Edad\",-0.1174410090844613],[\"Edad\",-0.10314536157327024],[\"Edad\",-0.0904225890396037],[\"Edad\",-0.07872435681840909],[\"Edad\",-0.06771690968524245],[\"Edad\",-0.05729258131987949],[\"Edad\",-0.0475185537858552],[\"Edad\",-0.03856281428879808],[\"Edad\",-0.030627730426348077],[\"Edad\",-0.02390293222849583],[\"Edad\",-0.018534131982604493],[\"Edad\",-0.014599309451080617],[\"Edad\",-0.012087034971098283],[\"Edad\",-0.010878539437576336],[\"Edad\",-0.01074068253569585],[\"Edad\",-0.01133844903661517],[\"Edad\",-0.01227213507407016],[\"Edad\",-0.01313668071391998],[\"Edad\",-0.013591188220258989],[\"Edad\",-0.013419721004432087],[\"Edad\",-0.012564221748004445],[\"Edad\",-0.011118407442223907],[\"Edad\",-0.009285032228141515],[\"Edad\",-0.0073118208078627915],[\"Edad\",-0.005427581400544538],[\"Edad\",-0.0037970479020888893],[\"Edad\",-0.002503257205637379],[\"Edad\",-0.00155512446551023],[\"Edad\",-0.0009103649028360059],[\"Edad\",-0.0005021711492360073],[\"Edad\",-0.00026101864519988567],[\"Edad\",-0.00012784202403819166],[\"Edad\",-5.900074342804373e-05],[\"Edad\",-2.5657998252005534e-05],[\"Edad\",-1.0514033347936129e-05],[\"Edad\",-4.059729949138774e-06],[\"Edad\",-1.4770871480282496e-06],[\"Edad\",-5.064029800343654e-07],[\"Edad\",-1.6359406193611528e-07],[\"Edad\",-4.9798924536076906e-08],[\"Edad\",4.9798924536076906e-08],[\"Edad\",1.6359406193611528e-07],[\"Edad\",5.064029800343654e-07],[\"Edad\",1.4770871480282496e-06],[\"Edad\",4.059729949138774e-06],[\"Edad\",1.0514033347936129e-05],[\"Edad\",2.5657998252005534e-05],[\"Edad\",5.900074342804373e-05],[\"Edad\",0.00012784202403819166],[\"Edad\",0.00026101864519988567],[\"Edad\",0.0005021711492360073],[\"Edad\",0.0009103649028360059],[\"Edad\",0.00155512446551023],[\"Edad\",0.002503257205637379],[\"Edad\",0.0037970479020888893],[\"Edad\",0.005427581400544538],[\"Edad\",0.0073118208078627915],[\"Edad\",0.009285032228141515],[\"Edad\",0.011118407442223907],[\"Edad\",0.012564221748004445],[\"Edad\",0.013419721004432087],[\"Edad\",0.013591188220258989],[\"Edad\",0.01313668071391998],[\"Edad\",0.01227213507407016],[\"Edad\",0.01133844903661517],[\"Edad\",0.01074068253569585],[\"Edad\",0.010878539437576336],[\"Edad\",0.012087034971098283],[\"Edad\",0.014599309451080617],[\"Edad\",0.018534131982604493],[\"Edad\",0.02390293222849583],[\"Edad\",0.030627730426348077],[\"Edad\",0.03856281428879808],[\"Edad\",0.0475185537858552],[\"Edad\",0.05729258131987949],[\"Edad\",0.06771690968524245],[\"Edad\",0.07872435681840909],[\"Edad\",0.0904225890396037],[\"Edad\",0.10314536157327024],[\"Edad\",0.1174410090844613],[\"Edad\",0.13397027823708585],[\"Edad\",0.1533208856789964],[\"Edad\",0.17579038885767628],[\"Edad\",0.2012171938891814],[\"Edad\",0.22893119555305552],[\"Edad\",0.2578490903525535],[\"Edad\",0.28667618675984213],[\"Edad\",0.3141299762846074],[\"Edad\",0.33909701839001694],[\"Edad\",0.36067711206497854],[\"Edad\",0.37813496794572815],[\"Edad\",0.3908333981018808],[\"Edad\",0.3982326624818289],[\"Edad\",0.4],[\"Edad\",0.39620197233891785],[\"Edad\",0.38748927155331625],[\"Edad\",0.37516554841863486],[\"Edad\",0.3610706995167138],[\"Edad\",0.3472848855167061],[\"Edad\",0.33573260934959204],[\"Edad\",0.32780171486041576],[\"Edad\",0.32407997224107005],[\"Edad\",0.3242674456270685],[\"Edad\",0.32727161025019735],[\"Edad\",0.33145204554410546],[\"Edad\",0.33495646009082836],[\"Edad\",0.33607657483357967],[\"Edad\",0.3335499417505814],[\"Edad\",0.32674530705017857],[\"Edad\",0.31569646902216253],[\"Edad\",0.30098754258110016],[\"Edad\",0.28352982317382136],[\"Edad\",0.2642958678070903],[\"Edad\",0.24408407040953542],[\"Edad\",0.22337631320623383],[\"Edad\",0.20232430917999605],[\"Edad\",0.180861301290084],[\"Edad\",0.1588938919344014],[\"Edad\",0.13649866193139157],[\"Edad\",0.1140449902997607],[\"Edad\",0.09219466332811492],[\"Edad\",0.07177981204866374],[\"Edad\",0.053610075033259375],[\"Edad\",0.03828439569281161],[\"Edad\",0.026072882733774252],[\"Edad\",0.01689835749079314],[\"Edad\",0.010405819924165114],[\"Edad\",0.006080291135501521],[\"Edad\",0.003367800392680949],[\"Edad\",0.0017668117511012767],[\"Edad\",0.0008773508835834953],[\"Edad\",0.000412159488998793],[\"Edad\",0.00018309496652314317],[\"Edad\",7.688609852222752e-05],[\"Edad\",3.051018409815083e-05],[\"Edad\",1.1438038639469447e-05],[\"Edad\",4.050112992647825e-06],[\"Edad\",1.354262189967657e-06],[\"Edad\",4.275426502465096e-07],[\"Edad\",1.2741672703718482e-07]],[[\"Salario\",-1.3545521520017967e-07],[\"Salario\",-4.645080967101706e-07],[\"Salario\",-1.501535754568312e-06],[\"Salario\",-4.576096895804957e-06],[\"Salario\",-1.3150775483851302e-05],[\"Salario\",-3.564446123008102e-05],[\"Salario\",-9.114131810428898e-05],[\"Salario\",-0.00021990309737027064],[\"Salario\",-0.000500801164452543],[\"Salario\",-0.0010768638006051579],[\"Salario\",-0.0021871771595595056],[\"Salario\",-0.004197874127010138],[\"Salario\",-0.00761775140535277],[\"Salario\",-0.01307824314994004],[\"Salario\",-0.02125810369385708],[\"Salario\",-0.03274506414175632],[\"Salario\",-0.04785069968265566],[\"Salario\",-0.06642403887210892],[\"Salario\",-0.08773014979306112],[\"Salario\",-0.110457042814631],[\"Salario\",-0.13288136156760327],[\"Salario\",-0.15316982041206387],[\"Salario\",-0.16974213206881794],[\"Salario\",-0.181596758144799],[\"Salario\",-0.1885144759967512],[\"Salario\",-0.19109766372367107],[\"Salario\",-0.19065295312948569],[\"Salario\",-0.18896038380503807],[\"Salario\",-0.18798534047241391],[\"Salario\",-0.18958573481148178],[\"Salario\",-0.19525596827938654],[\"Salario\",-0.20593675922418458],[\"Salario\",-0.22190613105552354],[\"Salario\",-0.24275204231302921],[\"Salario\",-0.267416080837361],[\"Salario\",-0.29429694202494966],[\"Salario\",-0.32141269304709136],[\"Salario\",-0.3466318601243558],[\"Salario\",-0.3679786274736607],[\"Salario\",-0.3839867965595924],[\"Salario\",-0.3940289149713207],[\"Salario\",-0.3985086883229591],[\"Salario\",-0.39880913852122196],[\"Salario\",-0.3969517035162848],[\"Salario\",-0.39502579052553055],[\"Salario\",-0.39454857818831246],[\"Salario\",-0.3959603085511269],[\"Salario\",-0.398424548857371],[\"Salario\",-0.4],[\"Salario\",-0.39812645675168895],[\"Salario\",-0.3902740238532536],[\"Salario\",-0.374572240579542],[\"Salario\",-0.35026372758260926],[\"Salario\",-0.31789218088077864],[\"Salario\",-0.2792088147744952],[\"Salario\",-0.23684462517231106],[\"Salario\",-0.19383874463732806],[\"Salario\",-0.15313252578760994],[\"Salario\",-0.11713381402757828],[\"Salario\",-0.08742794318495915],[\"Salario\",-0.06466893730554855],[\"Salario\",-0.04863975759344029],[\"Salario\",-0.03843825565589687],[\"Salario\",-0.032732930438399636],[\"Salario\",-0.03003650232258317],[\"Salario\",-0.028956092154104357],[\"Salario\",-0.028388260539578193],[\"Salario\",-0.02763421033254615],[\"Salario\",-0.026419976980217474],[\"Salario\",-0.024823078763348543],[\"Salario\",-0.023129403345728577],[\"Salario\",-0.02166383862668608],[\"Salario\",-0.02064530377332947],[\"Salario\",-0.020106315612962056],[\"Salario\",-0.019892514949008976],[\"Salario\",-0.01972905566102538],[\"Salario\",-0.019320155506601818],[\"Salario\",-0.01844264327109414],[\"Salario\",-0.017003824427201643],[\"Salario\",-0.01505202252775878],[\"Salario\",-0.012746135775065039],[\"Salario\",-0.010301935370030955],[\"Salario\",-0.007935401521262774],[\"Salario\",-0.005818875294583928],[\"Salario\",-0.004057875213184969],[\"Salario\",-0.002688621949781121],[\"Salario\",-0.0016908730318285924],[\"Salario\",-0.0010083688245449902],[\"Salario\",-0.0005696903533778069],[\"Salario\",-0.00030462860382042046],[\"Salario\",-0.00015404324943577954],[\"Salario\",-7.360638418944233e-05],[\"Salario\",-3.321130670428773e-05],[\"Salario\",-1.4141255072151903e-05],[\"Salario\",-5.679252401829062e-06],[\"Salario\",-2.150298416954114e-06],[\"Salario\",-7.672625742621036e-07],[\"Salario\",-2.579212412773135e-07],[\"Salario\",-8.166037128148005e-08],[\"Salario\",-2.4345570610167936e-08],[\"Salario\",2.4345570610167936e-08],[\"Salario\",8.166037128148005e-08],[\"Salario\",2.579212412773135e-07],[\"Salario\",7.672625742621036e-07],[\"Salario\",2.150298416954114e-06],[\"Salario\",5.679252401829062e-06],[\"Salario\",1.4141255072151903e-05],[\"Salario\",3.321130670428773e-05],[\"Salario\",7.360638418944233e-05],[\"Salario\",0.00015404324943577954],[\"Salario\",0.00030462860382042046],[\"Salario\",0.0005696903533778069],[\"Salario\",0.0010083688245449902],[\"Salario\",0.0016908730318285924],[\"Salario\",0.002688621949781121],[\"Salario\",0.004057875213184969],[\"Salario\",0.005818875294583928],[\"Salario\",0.007935401521262774],[\"Salario\",0.010301935370030955],[\"Salario\",0.012746135775065039],[\"Salario\",0.01505202252775878],[\"Salario\",0.017003824427201643],[\"Salario\",0.01844264327109414],[\"Salario\",0.019320155506601818],[\"Salario\",0.01972905566102538],[\"Salario\",0.019892514949008976],[\"Salario\",0.020106315612962056],[\"Salario\",0.02064530377332947],[\"Salario\",0.02166383862668608],[\"Salario\",0.023129403345728577],[\"Salario\",0.024823078763348543],[\"Salario\",0.026419976980217474],[\"Salario\",0.02763421033254615],[\"Salario\",0.028388260539578193],[\"Salario\",0.028956092154104357],[\"Salario\",0.03003650232258317],[\"Salario\",0.032732930438399636],[\"Salario\",0.03843825565589687],[\"Salario\",0.04863975759344029],[\"Salario\",0.06466893730554855],[\"Salario\",0.08742794318495915],[\"Salario\",0.11713381402757828],[\"Salario\",0.15313252578760994],[\"Salario\",0.19383874463732806],[\"Salario\",0.23684462517231106],[\"Salario\",0.2792088147744952],[\"Salario\",0.31789218088077864],[\"Salario\",0.35026372758260926],[\"Salario\",0.374572240579542],[\"Salario\",0.3902740238532536],[\"Salario\",0.39812645675168895],[\"Salario\",0.4],[\"Salario\",0.398424548857371],[\"Salario\",0.3959603085511269],[\"Salario\",0.39454857818831246],[\"Salario\",0.39502579052553055],[\"Salario\",0.3969517035162848],[\"Salario\",0.39880913852122196],[\"Salario\",0.3985086883229591],[\"Salario\",0.3940289149713207],[\"Salario\",0.3839867965595924],[\"Salario\",0.3679786274736607],[\"Salario\",0.3466318601243558],[\"Salario\",0.32141269304709136],[\"Salario\",0.29429694202494966],[\"Salario\",0.267416080837361],[\"Salario\",0.24275204231302921],[\"Salario\",0.22190613105552354],[\"Salario\",0.20593675922418458],[\"Salario\",0.19525596827938654],[\"Salario\",0.18958573481148178],[\"Salario\",0.18798534047241391],[\"Salario\",0.18896038380503807],[\"Salario\",0.19065295312948569],[\"Salario\",0.19109766372367107],[\"Salario\",0.1885144759967512],[\"Salario\",0.181596758144799],[\"Salario\",0.16974213206881794],[\"Salario\",0.15316982041206387],[\"Salario\",0.13288136156760327],[\"Salario\",0.110457042814631],[\"Salario\",0.08773014979306112],[\"Salario\",0.06642403887210892],[\"Salario\",0.04785069968265566],[\"Salario\",0.03274506414175632],[\"Salario\",0.02125810369385708],[\"Salario\",0.01307824314994004],[\"Salario\",0.00761775140535277],[\"Salario\",0.004197874127010138],[\"Salario\",0.0021871771595595056],[\"Salario\",0.0010768638006051579],[\"Salario\",0.000500801164452543],[\"Salario\",0.00021990309737027064],[\"Salario\",9.114131810428898e-05],[\"Salario\",3.564446123008102e-05],[\"Salario\",1.3150775483851302e-05],[\"Salario\",4.576096895804957e-06],[\"Salario\",1.501535754568312e-06],[\"Salario\",4.645080967101706e-07],[\"Salario\",1.3545521520017967e-07]]],\"ys\":[{\"__ndarray__\":\"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\",\"dtype\":\"float64\",\"order\":\"little\",\"shape\":[200]},{\"__ndarray__\":\"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\",\"dtype\":\"float64\",\"order\":\"little\",\"shape\":[200]}]},\"selected\":{\"id\":\"4898\"},\"selection_policy\":{\"id\":\"4897\"}},\"id\":\"4773\",\"type\":\"ColumnDataSource\"},{\"attributes\":{\"source\":{\"id\":\"4797\"}},\"id\":\"4803\",\"type\":\"CDSView\"},{\"attributes\":{\"fill_alpha\":{\"value\":0.2},\"fill_color\":{\"value\":\"white\"},\"hatch_alpha\":{\"value\":0.2},\"hatch_color\":{\"value\":\"white\"},\"line_alpha\":{\"value\":0.2},\"line_color\":{\"value\":\"white\"},\"x\":{\"field\":\"x\"},\"y\":{\"field\":\"y\"}},\"id\":\"4878\",\"type\":\"Scatter\"},{\"attributes\":{\"factors\":[\"Edad\",\"Salario\"],\"tags\":[[[\"Variable\",\"Variable\",null]]]},\"id\":\"4733\",\"type\":\"FactorRange\"},{\"attributes\":{\"overlay\":{\"id\":\"4834\"}},\"id\":\"4832\",\"type\":\"BoxZoomTool\"},{\"attributes\":{\"data\":{\"xs\":[[[\"Edad\",-4.231661430206264e-08],[\"Edad\",-1.151745650821133e-07],[\"Edad\",-3.014407878275633e-07],[\"Edad\",-7.587563156735037e-07],[\"Edad\",-1.8370468977132548e-06],[\"Edad\",-4.278855406892614e-06],[\"Edad\",-9.589744059059434e-06],[\"Edad\",-2.0684921760124253e-05],[\"Edad\",-4.29515574113907e-05],[\"Edad\",-8.588375560881706e-05],[\"Edad\",-0.0001654248568929025],[\"Edad\",-0.0003070607541818699],[\"Edad\",-0.0005495256979065273],[\"Edad\",-0.000948709873722468],[\"Edad\",-0.0015810397748632155],[\"Edad\",-0.0025453332485614183],[\"Edad\",-0.0039620429310408154],[\"Edad\",-0.005969018198280935],[\"Edad\",-0.008713485925587834],[\"Edad\",-0.012340790731014186],[\"Edad\",-0.01698131925284942],[\"Edad\",-0.02273765513193659],[\"Edad\",-0.029674115968314808],[\"Edad\",-0.03781033583923491],[\"Edad\",-0.047119635834240524],[\"Edad\",-0.057531886200692044],[\"Edad\",-0.06893970592064609],[\"Edad\",-0.08120629509255137],[\"Edad\",-0.09417289589973078],[\"Edad\",-0.10766375813923386],[\"Edad\",-0.12148668231892175],[\"Edad\",-0.13542812749288854],[\"Edad\",-0.14924390153033193],[\"Edad\",-0.16264950108441545],[\"Edad\",-0.17531726218156368],[\"Edad\",-0.18688890137717293],[\"Edad\",-0.1970100939371537],[\"Edad\",-0.20538791614078838],[\"Edad\",-0.21186362477800605],[\"Edad\",-0.2164853590864047],[\"Edad\",-0.21956129570401034],[\"Edad\",-0.22167559153746896],[\"Edad\",-0.22365667048777121],[\"Edad\",-0.22649733814370082],[\"Edad\",-0.23123535328675834],[\"Edad\",-0.23880907169643786],[\"Edad\",-0.24990546599928046],[\"Edad\",-0.26481891256668655],[\"Edad\",-0.28334047517671096],[\"Edad\",-0.30469914803345644],[\"Edad\",-0.3275763488576815],[\"Edad\",-0.3502092241460468],[\"Edad\",-0.3705845113216307],[\"Edad\",-0.3867038471328148],[\"Edad\",-0.39687901205788184],[\"Edad\",-0.4],[\"Edad\",-0.3957176213605535],[\"Edad\",-0.38449860010498454],[\"Edad\",-0.36754107474897135],[\"Edad\",-0.34657248663821005],[\"Edad\",-0.32357842207747567],[\"Edad\",-0.3005213803810727],[\"Edad\",-0.2791006451582807],[\"Edad\",-0.26058372694164167],[\"Edad\",-0.24571604517307932],[\"Edad\",-0.23469821818717898],[\"Edad\",-0.22721453235725175],[\"Edad\",-0.22250046228691153],[\"Edad\",-0.21944518817045502],[\"Edad\",-0.2167294836532756],[\"Edad\",-0.21299569176827166],[\"Edad\",-0.20703557568024109],[\"Edad\",-0.19796909912773908],[\"Edad\",-0.1853798576023622],[\"Edad\",-0.16937616713638787],[\"Edad\",-0.1505613528950258],[\"Edad\",-0.12991825442328306],[\"Edad\",-0.10863405777180526],[\"Edad\",-0.087905106538828],[\"Edad\",-0.06876319728267719],[\"Edad\",-0.051955304146614006],[\"Edad\",-0.037891840226751364],[\"Edad\",-0.026660449624221406],[\"Edad\",-0.01808837890075642],[\"Edad\",-0.0118297965844191],[\"Edad\",-0.007455192240690591],[\"Edad\",-0.00452606794718432],[\"Edad\",-0.0026463976084884146],[\"Edad\",-0.0014899227312134605],[\"Edad\",-0.0008075315190663774],[\"Edad\",-0.00042127229180759717],[\"Edad\",-0.00021149571214302057],[\"Edad\",-0.0001021666596726838],[\"Edad\",-4.748155139629624e-05],[\"Edad\",-2.1227198257869857e-05],[\"Edad\",-9.127690767585351e-06],[\"Edad\",-3.7746964943466027e-06],[\"Edad\",-1.5011086131268963e-06],[\"Edad\",-5.739983030249901e-07],[\"Edad\",-2.1102799092870116e-07],[\"Edad\",2.1102799092870116e-07],[\"Edad\",5.739983030249901e-07],[\"Edad\",1.5011086131268963e-06],[\"Edad\",3.7746964943466027e-06],[\"Edad\",9.127690767585351e-06],[\"Edad\",2.1227198257869857e-05],[\"Edad\",4.748155139629624e-05],[\"Edad\",0.0001021666596726838],[\"Edad\",0.00021149571214302057],[\"Edad\",0.00042127229180759717],[\"Edad\",0.0008075315190663774],[\"Edad\",0.0014899227312134605],[\"Edad\",0.0026463976084884146],[\"Edad\",0.00452606794718432],[\"Edad\",0.007455192240690591],[\"Edad\",0.0118297965844191],[\"Edad\",0.01808837890075642],[\"Edad\",0.026660449624221406],[\"Edad\",0.037891840226751364],[\"Edad\",0.051955304146614006],[\"Edad\",0.06876319728267719],[\"Edad\",0.087905106538828],[\"Edad\",0.10863405777180526],[\"Edad\",0.12991825442328306],[\"Edad\",0.1505613528950258],[\"Edad\",0.16937616713638787],[\"Edad\",0.1853798576023622],[\"Edad\",0.19796909912773908],[\"Edad\",0.20703557568024109],[\"Edad\",0.21299569176827166],[\"Edad\",0.2167294836532756],[\"Edad\",0.21944518817045502],[\"Edad\",0.22250046228691153],[\"Edad\",0.22721453235725175],[\"Edad\",0.23469821818717898],[\"Edad\",0.24571604517307932],[\"Edad\",0.26058372694164167],[\"Edad\",0.2791006451582807],[\"Edad\",0.3005213803810727],[\"Edad\",0.32357842207747567],[\"Edad\",0.34657248663821005],[\"Edad\",0.36754107474897135],[\"Edad\",0.38449860010498454],[\"Edad\",0.3957176213605535],[\"Edad\",0.4],[\"Edad\",0.39687901205788184],[\"Edad\",0.3867038471328148],[\"Edad\",0.3705845113216307],[\"Edad\",0.3502092241460468],[\"Edad\",0.3275763488576815],[\"Edad\",0.30469914803345644],[\"Edad\",0.28334047517671096],[\"Edad\",0.26481891256668655],[\"Edad\",0.24990546599928046],[\"Edad\",0.23880907169643786],[\"Edad\",0.23123535328675834],[\"Edad\",0.22649733814370082],[\"Edad\",0.22365667048777121],[\"Edad\",0.22167559153746896],[\"Edad\",0.21956129570401034],[\"Edad\",0.2164853590864047],[\"Edad\",0.21186362477800605],[\"Edad\",0.20538791614078838],[\"Edad\",0.1970100939371537],[\"Edad\",0.18688890137717293],[\"Edad\",0.17531726218156368],[\"Edad\",0.16264950108441545],[\"Edad\",0.14924390153033193],[\"Edad\",0.13542812749288854],[\"Edad\",0.12148668231892175],[\"Edad\",0.10766375813923386],[\"Edad\",0.09417289589973078],[\"Edad\",0.08120629509255137],[\"Edad\",0.06893970592064609],[\"Edad\",0.057531886200692044],[\"Edad\",0.047119635834240524],[\"Edad\",0.03781033583923491],[\"Edad\",0.029674115968314808],[\"Edad\",0.02273765513193659],[\"Edad\",0.01698131925284942],[\"Edad\",0.012340790731014186],[\"Edad\",0.008713485925587834],[\"Edad\",0.005969018198280935],[\"Edad\",0.0039620429310408154],[\"Edad\",0.0025453332485614183],[\"Edad\",0.0015810397748632155],[\"Edad\",0.000948709873722468],[\"Edad\",0.0005495256979065273],[\"Edad\",0.0003070607541818699],[\"Edad\",0.0001654248568929025],[\"Edad\",8.588375560881706e-05],[\"Edad\",4.29515574113907e-05],[\"Edad\",2.0684921760124253e-05],[\"Edad\",9.589744059059434e-06],[\"Edad\",4.278855406892614e-06],[\"Edad\",1.8370468977132548e-06],[\"Edad\",7.587563156735037e-07],[\"Edad\",3.014407878275633e-07],[\"Edad\",1.151745650821133e-07],[\"Edad\",4.231661430206264e-08]],[[\"Salario\",-2.1771382969230788e-07],[\"Salario\",-5.472991294531796e-07],[\"Salario\",-1.3326026559837934e-06],[\"Salario\",-3.1429587007134532e-06],[\"Salario\",-7.180682083487873e-06],[\"Salario\",-1.5893183886966535e-05],[\"Salario\",-3.4080493229216413e-05],[\"Salario\",-7.080840001213543e-05],[\"Salario\",-0.00014255573083535734],[\"Salario\",-0.00027812864043153435],[\"Salario\",-0.00052590994724634],[\"Salario\",-0.0009638930785841025],[\"Salario\",-0.0017125737105789308],[\"Salario\",-0.0029500410149100992],[\"Salario\",-0.004927484990316591],[\"Salario\",-0.007981898723769395],[\"Salario\",-0.012541267725311459],[\"Salario\",-0.019116467955602727],[\"Salario\",-0.02827405249412911],[\"Salario\",-0.04058570040054994],[\"Salario\",-0.05655369010989051],[\"Salario\",-0.07651719280881825],[\"Salario\",-0.10055061552198137],[\"Salario\",-0.12837114241176023],[\"Salario\",-0.1592761282501573],[\"Salario\",-0.1921303526513011],[\"Salario\",-0.22541741539878843],[\"Salario\",-0.2573591305437891],[\"Salario\",-0.2860935179472123],[\"Salario\",-0.3098888764468972],[\"Salario\",-0.32736176913286674],[\"Salario\",-0.33766322538564253],[\"Salario\",-0.3406012481844245],[\"Salario\",-0.336678124864992],[\"Salario\",-0.3270357371131556],[\"Salario\",-0.3133177711178048],[\"Salario\",-0.2974711543937298],[\"Salario\",-0.28151772436331146],[\"Salario\",-0.26732988458972334],[\"Salario\",-0.2564409664243397],[\"Salario\",-0.24991334449104352],[\"Salario\",-0.24827679191327126],[\"Salario\",-0.2515380277553219],[\"Salario\",-0.2592517417312866],[\"Salario\",-0.2706351640522909],[\"Salario\",-0.2847036687535988],[\"Salario\",-0.30040457358385364],[\"Salario\",-0.3167300967094438],[\"Salario\",-0.3327973875234898],[\"Salario\",-0.3478919942069255],[\"Salario\",-0.36147904774405204],[\"Salario\",-0.37319199705578726],[\"Salario\",-0.3828107891995043],[\"Salario\",-0.3902398324109927],[\"Salario\",-0.39549179292352366],[\"Salario\",-0.3986778279180631],[\"Salario\",-0.4],[\"Salario\",-0.39973879613763297],[\"Salario\",-0.3982286785676777],[\"Salario\",-0.39581744458701357],[\"Salario\",-0.39281017096467497],[\"Salario\",-0.38940443286447285],[\"Salario\",-0.3856287744455928],[\"Salario\",-0.38129949188091433],[\"Salario\",-0.3760103880387209],[\"Salario\",-0.3691656598850573],[\"Salario\",-0.3600578784642597],[\"Salario\",-0.34798266260559246],[\"Salario\",-0.33237163318909696],[\"Salario\",-0.3129184300470494],[\"Salario\",-0.2896713332253592],[\"Salario\",-0.263071331560047],[\"Salario\",-0.23392541713685647],[\"Salario\",-0.20331877762853054],[\"Salario\",-0.17248272769702905],[\"Salario\",-0.1426441432389892],[\"Salario\",-0.11488461035774351],[\"Salario\",-0.09003321465422744],[\"Salario\",-0.06860755460856953],[\"Salario\",-0.050806099308899136],[\"Salario\",-0.036544578073016594],[\"Salario\",-0.02552207962563598],[\"Salario\",-0.01729999844248323],[\"Salario\",-0.011378546409630584],[\"Salario\",-0.007259902705310914],[\"Salario\",-0.00449247917569841],[\"Salario\",-0.002695710337822759],[\"Salario\",-0.0015682790256181288],[\"Salario\",-0.0008844558468561935],[\"Salario\",-0.00048348018344954397],[\"Salario\",-0.00025614385303174275],[\"Salario\",-0.000131507365208606],[\"Salario\",-6.542436995460351e-05],[\"Salario\",-3.153686236317139e-05],[\"Salario\",-1.4728419564999807e-05],[\"Salario\",-6.663839309338987e-06],[\"Salario\",-2.9207736456422725e-06],[\"Salario\",-1.2400884170671494e-06],[\"Salario\",-5.099961461150562e-07],[\"Salario\",-2.0315163754033984e-07],[\"Salario\",2.0315163754033984e-07],[\"Salario\",5.099961461150562e-07],[\"Salario\",1.2400884170671494e-06],[\"Salario\",2.9207736456422725e-06],[\"Salario\",6.663839309338987e-06],[\"Salario\",1.4728419564999807e-05],[\"Salario\",3.153686236317139e-05],[\"Salario\",6.542436995460351e-05],[\"Salario\",0.000131507365208606],[\"Salario\",0.00025614385303174275],[\"Salario\",0.00048348018344954397],[\"Salario\",0.0008844558468561935],[\"Salario\",0.0015682790256181288],[\"Salario\",0.002695710337822759],[\"Salario\",0.00449247917569841],[\"Salario\",0.007259902705310914],[\"Salario\",0.011378546409630584],[\"Salario\",0.01729999844248323],[\"Salario\",0.02552207962563598],[\"Salario\",0.036544578073016594],[\"Salario\",0.050806099308899136],[\"Salario\",0.06860755460856953],[\"Salario\",0.09003321465422744],[\"Salario\",0.11488461035774351],[\"Salario\",0.1426441432389892],[\"Salario\",0.17248272769702905],[\"Salario\",0.20331877762853054],[\"Salario\",0.23392541713685647],[\"Salario\",0.263071331560047],[\"Salario\",0.2896713332253592],[\"Salario\",0.3129184300470494],[\"Salario\",0.33237163318909696],[\"Salario\",0.34798266260559246],[\"Salario\",0.3600578784642597],[\"Salario\",0.3691656598850573],[\"Salario\",0.3760103880387209],[\"Salario\",0.38129949188091433],[\"Salario\",0.3856287744455928],[\"Salario\",0.38940443286447285],[\"Salario\",0.39281017096467497],[\"Salario\",0.39581744458701357],[\"Salario\",0.3982286785676777],[\"Salario\",0.39973879613763297],[\"Salario\",0.4],[\"Salario\",0.3986778279180631],[\"Salario\",0.39549179292352366],[\"Salario\",0.3902398324109927],[\"Salario\",0.3828107891995043],[\"Salario\",0.37319199705578726],[\"Salario\",0.36147904774405204],[\"Salario\",0.3478919942069255],[\"Salario\",0.3327973875234898],[\"Salario\",0.3167300967094438],[\"Salario\",0.30040457358385364],[\"Salario\",0.2847036687535988],[\"Salario\",0.2706351640522909],[\"Salario\",0.2592517417312866],[\"Salario\",0.2515380277553219],[\"Salario\",0.24827679191327126],[\"Salario\",0.24991334449104352],[\"Salario\",0.2564409664243397],[\"Salario\",0.26732988458972334],[\"Salario\",0.28151772436331146],[\"Salario\",0.2974711543937298],[\"Salario\",0.3133177711178048],[\"Salario\",0.3270357371131556],[\"Salario\",0.336678124864992],[\"Salario\",0.3406012481844245],[\"Salario\",0.33766322538564253],[\"Salario\",0.32736176913286674],[\"Salario\",0.3098888764468972],[\"Salario\",0.2860935179472123],[\"Salario\",0.2573591305437891],[\"Salario\",0.22541741539878843],[\"Salario\",0.1921303526513011],[\"Salario\",0.1592761282501573],[\"Salario\",0.12837114241176023],[\"Salario\",0.10055061552198137],[\"Salario\",0.07651719280881825],[\"Salario\",0.05655369010989051],[\"Salario\",0.04058570040054994],[\"Salario\",0.02827405249412911],[\"Salario\",0.019116467955602727],[\"Salario\",0.012541267725311459],[\"Salario\",0.007981898723769395],[\"Salario\",0.004927484990316591],[\"Salario\",0.0029500410149100992],[\"Salario\",0.0017125737105789308],[\"Salario\",0.0009638930785841025],[\"Salario\",0.00052590994724634],[\"Salario\",0.00027812864043153435],[\"Salario\",0.00014255573083535734],[\"Salario\",7.080840001213543e-05],[\"Salario\",3.4080493229216413e-05],[\"Salario\",1.5893183886966535e-05],[\"Salario\",7.180682083487873e-06],[\"Salario\",3.1429587007134532e-06],[\"Salario\",1.3326026559837934e-06],[\"Salario\",5.472991294531796e-07],[\"Salario\",2.1771382969230788e-07]]],\"ys\":[{\"__ndarray__\":\"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\",\"dtype\":\"float64\",\"order\":\"little\",\"shape\":[200]},{\"__ndarray__\":\"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\",\"dtype\":\"float64\",\"order\":\"little\",\"shape\":[200]}]},\"selected\":{\"id\":\"4915\"},\"selection_policy\":{\"id\":\"4914\"}},\"id\":\"4842\",\"type\":\"ColumnDataSource\"},{\"attributes\":{\"below\":[{\"id\":\"4745\"}],\"center\":[{\"id\":\"4747\"},{\"id\":\"4751\"}],\"height\":500,\"left\":[{\"id\":\"4748\"}],\"margin\":null,\"min_border_bottom\":10,\"min_border_left\":10,\"min_border_right\":10,\"min_border_top\":10,\"renderers\":[{\"id\":\"4770\"},{\"id\":\"4778\"},{\"id\":\"4786\"},{\"id\":\"4794\"},{\"id\":\"4802\"}],\"sizing_mode\":\"fixed\",\"title\":{\"id\":\"4737\"},\"toolbar\":{\"id\":\"4758\"},\"toolbar_location\":null,\"width\":800,\"x_range\":{\"id\":\"4733\"},\"x_scale\":{\"id\":\"4741\"},\"y_range\":{\"id\":\"4734\"},\"y_scale\":{\"id\":\"4743\"}},\"id\":\"4736\",\"subtype\":\"Figure\",\"type\":\"Plot\"},{\"attributes\":{},\"id\":\"4904\",\"type\":\"Selection\"},{\"attributes\":{\"coordinates\":null,\"data_source\":{\"id\":\"4797\"},\"glyph\":{\"id\":\"4799\"},\"group\":null,\"hover_glyph\":null,\"muted_glyph\":{\"id\":\"4801\"},\"nonselection_glyph\":{\"id\":\"4800\"},\"selection_glyph\":{\"id\":\"4804\"},\"view\":{\"id\":\"4803\"}},\"id\":\"4802\",\"type\":\"GlyphRenderer\"},{\"attributes\":{\"bottom_units\":\"screen\",\"coordinates\":null,\"fill_alpha\":0.5,\"fill_color\":\"lightgrey\",\"group\":null,\"left_units\":\"screen\",\"level\":\"overlay\",\"line_alpha\":1.0,\"line_color\":\"black\",\"line_dash\":[4,4],\"line_width\":2,\"right_units\":\"screen\",\"syncable\":false,\"top_units\":\"screen\"},\"id\":\"4834\",\"type\":\"BoxAnnotation\"},{\"attributes\":{\"source\":{\"id\":\"4765\"}},\"id\":\"4771\",\"type\":\"CDSView\"},{\"attributes\":{\"fill_alpha\":{\"value\":0.5},\"fill_color\":{\"value\":\"#30a2da\"},\"hatch_alpha\":{\"value\":1.0},\"hatch_color\":{\"value\":\"black\"},\"hatch_scale\":{\"value\":12.0},\"hatch_weight\":{\"value\":1.0},\"line_alpha\":{\"value\":1.0},\"line_cap\":{\"value\":\"butt\"},\"line_color\":{\"value\":\"#1f77b4\"},\"line_dash\":{\"value\":[]},\"line_dash_offset\":{\"value\":0},\"line_join\":{\"value\":\"bevel\"},\"line_width\":{\"value\":0},\"xs\":{\"field\":\"xs\"},\"ys\":{\"field\":\"ys\"}},\"id\":\"4849\",\"type\":\"Patches\"},{\"attributes\":{},\"id\":\"4883\",\"type\":\"CategoricalTickFormatter\"},{\"attributes\":{},\"id\":\"4895\",\"type\":\"UnionRenderers\"},{\"attributes\":{\"client_comm_id\":\"99c5173bb599482eb154c20beaaf78b6\",\"comm_id\":\"c5d066d5ad9c45e3aa04e7dd575024cc\",\"plot_id\":\"4732\"},\"id\":\"5362\",\"type\":\"panel.models.comm_manager.CommManager\"},{\"attributes\":{},\"id\":\"4831\",\"type\":\"WheelZoomTool\"},{\"attributes\":{\"line_alpha\":{\"value\":0.1},\"x0\":{\"field\":\"x\"},\"x1\":{\"field\":\"x\"},\"y0\":{\"field\":\"y0\"},\"y1\":{\"field\":\"y1\"}},\"id\":\"4784\",\"type\":\"Segment\"},{\"attributes\":{\"source\":{\"id\":\"4842\"}},\"id\":\"4848\",\"type\":\"CDSView\"},{\"attributes\":{\"end\":2.7050863173411384,\"reset_end\":2.7050863173411384,\"reset_start\":-2.288106585540265,\"start\":-2.288106585540265,\"tags\":[[[\"value\",\"value\",null]]]},\"id\":\"4734\",\"type\":\"Range1d\"},{\"attributes\":{\"callback\":null,\"renderers\":[{\"id\":\"4794\"}],\"tags\":[\"hv_created\"],\"tooltips\":[[\"Variable\",\"@{Variable}\"],[\"value\",\"@{value}\"]]},\"id\":\"4735\",\"type\":\"HoverTool\"},{\"attributes\":{\"fill_color\":{\"value\":\"white\"},\"hatch_color\":{\"value\":\"white\"},\"line_color\":{\"value\":\"white\"},\"x\":{\"field\":\"x\"},\"y\":{\"field\":\"y\"}},\"id\":\"4876\",\"type\":\"Scatter\"},{\"attributes\":{\"axis\":{\"id\":\"4748\"},\"coordinates\":null,\"dimension\":1,\"grid_line_color\":null,\"group\":null,\"ticker\":null},\"id\":\"4751\",\"type\":\"Grid\"},{\"attributes\":{\"source\":{\"id\":\"4850\"}},\"id\":\"4856\",\"type\":\"CDSView\"},{\"attributes\":{\"coordinates\":null,\"data_source\":{\"id\":\"4773\"},\"glyph\":{\"id\":\"4775\"},\"group\":null,\"hover_glyph\":null,\"muted_glyph\":{\"id\":\"4777\"},\"nonselection_glyph\":{\"id\":\"4776\"},\"selection_glyph\":{\"id\":\"4780\"},\"view\":{\"id\":\"4779\"}},\"id\":\"4778\",\"type\":\"GlyphRenderer\"},{\"attributes\":{},\"id\":\"4746\",\"type\":\"CategoricalTicker\"},{\"attributes\":{},\"id\":\"4833\",\"type\":\"ResetTool\"},{\"attributes\":{},\"id\":\"4743\",\"type\":\"LinearScale\"},{\"attributes\":{\"x0\":{\"field\":\"x\"},\"x1\":{\"field\":\"x\"},\"y0\":{\"field\":\"y0\"},\"y1\":{\"field\":\"y1\"}},\"id\":\"4783\",\"type\":\"Segment\"},{\"attributes\":{},\"id\":\"4917\",\"type\":\"Selection\"},{\"attributes\":{\"children\":[{\"id\":\"4929\"}],\"margin\":[0,0,0,0],\"name\":\"Row10163\"},\"id\":\"4732\",\"type\":\"Row\"},{\"attributes\":{\"axis_label\":\"Variable\",\"coordinates\":null,\"formatter\":{\"id\":\"4806\"},\"group\":null,\"major_label_policy\":{\"id\":\"4807\"},\"ticker\":{\"id\":\"4746\"}},\"id\":\"4745\",\"type\":\"CategoricalAxis\"},{\"attributes\":{\"source\":{\"id\":\"4773\"}},\"id\":\"4779\",\"type\":\"CDSView\"},{\"attributes\":{},\"id\":\"4830\",\"type\":\"PanTool\"},{\"attributes\":{\"source\":{\"id\":\"4874\"}},\"id\":\"4880\",\"type\":\"CDSView\"},{\"attributes\":{},\"id\":\"4899\",\"type\":\"UnionRenderers\"},{\"attributes\":{\"axis\":{\"id\":\"4745\"},\"coordinates\":null,\"grid_line_color\":null,\"group\":null,\"ticker\":null},\"id\":\"4747\",\"type\":\"Grid\"},{\"attributes\":{\"line_alpha\":{\"value\":1.0},\"line_cap\":{\"value\":\"butt\"},\"line_color\":{\"value\":\"black\"},\"line_dash\":{\"value\":[]},\"line_dash_offset\":{\"value\":0},\"line_join\":{\"value\":\"bevel\"},\"line_width\":{\"value\":1},\"xs\":{\"field\":\"xs\"},\"ys\":{\"field\":\"ys\"}},\"id\":\"4857\",\"type\":\"MultiLine\"},{\"attributes\":{},\"id\":\"4884\",\"type\":\"AllLabels\"},{\"attributes\":{},\"id\":\"4749\",\"type\":\"BasicTicker\"},{\"attributes\":{\"axis_label\":\"\",\"coordinates\":null,\"formatter\":{\"id\":\"4809\"},\"group\":null,\"major_label_policy\":{\"id\":\"4810\"},\"ticker\":{\"id\":\"4749\"}},\"id\":\"4748\",\"type\":\"LinearAxis\"},{\"attributes\":{\"line_alpha\":{\"value\":1.0},\"line_cap\":{\"value\":\"butt\"},\"line_color\":{\"value\":\"black\"},\"line_dash\":{\"value\":[]},\"line_dash_offset\":{\"value\":0},\"line_join\":{\"value\":\"bevel\"},\"line_width\":{\"value\":1},\"x0\":{\"field\":\"x\"},\"x1\":{\"field\":\"x\"},\"y0\":{\"field\":\"y0\"},\"y1\":{\"field\":\"y1\"}},\"id\":\"4788\",\"type\":\"Segment\"},{\"attributes\":{},\"id\":\"4898\",\"type\":\"Selection\"},{\"attributes\":{\"line_alpha\":{\"value\":1.0},\"line_cap\":{\"value\":\"butt\"},\"line_color\":{\"value\":\"black\"},\"line_dash\":{\"value\":[]},\"line_dash_offset\":{\"value\":0},\"line_join\":{\"value\":\"bevel\"},\"line_width\":{\"value\":1},\"xs\":{\"field\":\"xs\"},\"ys\":{\"field\":\"ys\"}},\"id\":\"4780\",\"type\":\"MultiLine\"},{\"attributes\":{},\"id\":\"4918\",\"type\":\"UnionRenderers\"},{\"attributes\":{\"data\":{\"x\":[[\"Edad\",0],[\"Salario\",0]],\"y0\":{\"__ndarray__\":\"MTIvzL3z/b/08oWtAaT5vw==\",\"dtype\":\"float64\",\"order\":\"little\",\"shape\":[2]},\"y1\":{\"__ndarray__\":\"HSr086sr9D9FqqPsUWf1Pw==\",\"dtype\":\"float64\",\"order\":\"little\",\"shape\":[2]}},\"selected\":{\"id\":\"4900\"},\"selection_policy\":{\"id\":\"4899\"}},\"id\":\"4781\",\"type\":\"ColumnDataSource\"},{\"attributes\":{},\"id\":\"4806\",\"type\":\"CategoricalTickFormatter\"},{\"attributes\":{\"fill_alpha\":{\"value\":0.1},\"fill_color\":{\"value\":\"white\"},\"hatch_alpha\":{\"value\":0.1},\"hatch_color\":{\"value\":\"white\"},\"line_alpha\":{\"value\":0.1},\"line_color\":{\"value\":\"white\"},\"x\":{\"field\":\"x\"},\"y\":{\"field\":\"y\"}},\"id\":\"4877\",\"type\":\"Scatter\"},{\"attributes\":{},\"id\":\"4914\",\"type\":\"UnionRenderers\"},{\"attributes\":{},\"id\":\"4741\",\"type\":\"CategoricalScale\"},{\"attributes\":{\"xs\":{\"field\":\"xs\"},\"ys\":{\"field\":\"ys\"}},\"id\":\"4775\",\"type\":\"MultiLine\"},{\"attributes\":{},\"id\":\"4887\",\"type\":\"AllLabels\"},{\"attributes\":{\"fill_alpha\":{\"value\":0.5},\"fill_color\":{\"value\":\"#30a2da\"},\"hatch_alpha\":{\"value\":1.0},\"hatch_color\":{\"value\":\"black\"},\"hatch_scale\":{\"value\":12.0},\"hatch_weight\":{\"value\":1.0},\"line_alpha\":{\"value\":1.0},\"line_cap\":{\"value\":\"butt\"},\"line_color\":{\"value\":\"#1f77b4\"},\"line_dash\":{\"value\":[]},\"line_dash_offset\":{\"value\":0},\"line_join\":{\"value\":\"bevel\"},\"line_width\":{\"value\":0},\"xs\":{\"field\":\"xs\"},\"ys\":{\"field\":\"ys\"}},\"id\":\"4772\",\"type\":\"Patches\"},{\"attributes\":{},\"id\":\"4752\",\"type\":\"SaveTool\"},{\"attributes\":{\"xs\":{\"field\":\"xs\"},\"ys\":{\"field\":\"ys\"}},\"id\":\"4852\",\"type\":\"MultiLine\"},{\"attributes\":{},\"id\":\"4753\",\"type\":\"PanTool\"},{\"attributes\":{\"line_alpha\":{\"value\":0.2},\"x0\":{\"field\":\"x\"},\"x1\":{\"field\":\"x\"},\"y0\":{\"field\":\"y0\"},\"y1\":{\"field\":\"y1\"}},\"id\":\"4785\",\"type\":\"Segment\"},{\"attributes\":{},\"id\":\"4900\",\"type\":\"Selection\"},{\"attributes\":{},\"id\":\"4754\",\"type\":\"WheelZoomTool\"},{\"attributes\":{\"line_alpha\":{\"value\":0.2},\"xs\":{\"field\":\"xs\"},\"ys\":{\"field\":\"ys\"}},\"id\":\"4777\",\"type\":\"MultiLine\"},{\"attributes\":{\"tools\":[{\"id\":\"4735\"},{\"id\":\"4752\"},{\"id\":\"4753\"},{\"id\":\"4754\"},{\"id\":\"4755\"},{\"id\":\"4756\"}]},\"id\":\"4758\",\"type\":\"Toolbar\"},{\"attributes\":{\"overlay\":{\"id\":\"4757\"}},\"id\":\"4755\",\"type\":\"BoxZoomTool\"},{\"attributes\":{\"line_alpha\":{\"value\":0.2},\"xs\":{\"field\":\"xs\"},\"ys\":{\"field\":\"ys\"}},\"id\":\"4854\",\"type\":\"MultiLine\"},{\"attributes\":{\"data\":{\"x\":[[\"Edad\",0],[\"Salario\",0]],\"y0\":{\"__ndarray__\":\"eeqZ3UNI8L/H8o28pVX3vw==\",\"dtype\":\"float64\",\"order\":\"little\",\"shape\":[2]},\"y1\":{\"__ndarray__\":\"6rhE8ZLrAEDsCFFe2E8CQA==\",\"dtype\":\"float64\",\"order\":\"little\",\"shape\":[2]}},\"selected\":{\"id\":\"4919\"},\"selection_policy\":{\"id\":\"4918\"}},\"id\":\"4858\",\"type\":\"ColumnDataSource\"},{\"attributes\":{\"coordinates\":null,\"data_source\":{\"id\":\"4765\"},\"glyph\":{\"id\":\"4767\"},\"group\":null,\"hover_glyph\":null,\"muted_glyph\":{\"id\":\"4769\"},\"nonselection_glyph\":{\"id\":\"4768\"},\"selection_glyph\":{\"id\":\"4772\"},\"view\":{\"id\":\"4771\"}},\"id\":\"4770\",\"type\":\"GlyphRenderer\"},{\"attributes\":{\"angle\":{\"value\":0.0},\"fill_alpha\":{\"value\":1.0},\"fill_color\":{\"value\":\"white\"},\"hatch_alpha\":{\"value\":1.0},\"hatch_color\":{\"value\":\"white\"},\"hatch_scale\":{\"value\":12.0},\"hatch_weight\":{\"value\":1.0},\"line_alpha\":{\"value\":1.0},\"line_cap\":{\"value\":\"butt\"},\"line_color\":{\"value\":\"white\"},\"line_dash\":{\"value\":[]},\"line_dash_offset\":{\"value\":0},\"line_join\":{\"value\":\"bevel\"},\"line_width\":{\"value\":1},\"marker\":{\"value\":\"circle\"},\"size\":{\"value\":4},\"x\":{\"field\":\"x\"},\"y\":{\"field\":\"y\"}},\"id\":\"4881\",\"type\":\"Scatter\"},{\"attributes\":{\"source\":{\"id\":\"4781\"}},\"id\":\"4787\",\"type\":\"CDSView\"},{\"attributes\":{\"fill_color\":{\"value\":\"white\"},\"hatch_color\":{\"value\":\"white\"},\"line_color\":{\"value\":\"white\"},\"x\":{\"field\":\"x\"},\"y\":{\"field\":\"y\"}},\"id\":\"4799\",\"type\":\"Scatter\"},{\"attributes\":{\"line_alpha\":{\"value\":0.1},\"xs\":{\"field\":\"xs\"},\"ys\":{\"field\":\"ys\"}},\"id\":\"4853\",\"type\":\"MultiLine\"},{\"attributes\":{},\"id\":\"4756\",\"type\":\"ResetTool\"},{\"attributes\":{\"data\":{\"x\":[[\"Edad\",0],[\"Salario\",0]],\"y\":{\"__ndarray__\":\"TpXZpB+t3L/AK24M9J7Svw==\",\"dtype\":\"float64\",\"order\":\"little\",\"shape\":[2]}},\"selected\":{\"id\":\"4904\"},\"selection_policy\":{\"id\":\"4903\"}},\"id\":\"4797\",\"type\":\"ColumnDataSource\"},{\"attributes\":{},\"id\":\"4901\",\"type\":\"UnionRenderers\"},{\"attributes\":{\"bottom_units\":\"screen\",\"coordinates\":null,\"fill_alpha\":0.5,\"fill_color\":\"lightgrey\",\"group\":null,\"left_units\":\"screen\",\"level\":\"overlay\",\"line_alpha\":1.0,\"line_color\":\"black\",\"line_dash\":[4,4],\"line_width\":2,\"right_units\":\"screen\",\"syncable\":false,\"top_units\":\"screen\"},\"id\":\"4757\",\"type\":\"BoxAnnotation\"},{\"attributes\":{\"line_alpha\":{\"value\":0.1},\"xs\":{\"field\":\"xs\"},\"ys\":{\"field\":\"ys\"}},\"id\":\"4776\",\"type\":\"MultiLine\"},{\"attributes\":{},\"id\":\"4902\",\"type\":\"Selection\"},{\"attributes\":{\"data\":{\"bottom\":{\"__ndarray__\":\"VStVhhjN8b8xSh5Bvdbnvw==\",\"dtype\":\"float64\",\"order\":\"little\",\"shape\":[2]},\"top\":{\"__ndarray__\":\"kr13nNg3mz8oFGpduQTPPw==\",\"dtype\":\"float64\",\"order\":\"little\",\"shape\":[2]},\"x\":[[\"Edad\",0],[\"Salario\",0]]},\"selected\":{\"id\":\"4902\"},\"selection_policy\":{\"id\":\"4901\"}},\"id\":\"4789\",\"type\":\"ColumnDataSource\"},{\"attributes\":{},\"id\":\"4897\",\"type\":\"UnionRenderers\"},{\"attributes\":{\"data\":{\"xs\":[[[\"Edad\",-4.231661430206264e-08],[\"Edad\",-1.151745650821133e-07],[\"Edad\",-3.014407878275633e-07],[\"Edad\",-7.587563156735037e-07],[\"Edad\",-1.8370468977132548e-06],[\"Edad\",-4.278855406892614e-06],[\"Edad\",-9.589744059059434e-06],[\"Edad\",-2.0684921760124253e-05],[\"Edad\",-4.29515574113907e-05],[\"Edad\",-8.588375560881706e-05],[\"Edad\",-0.0001654248568929025],[\"Edad\",-0.0003070607541818699],[\"Edad\",-0.0005495256979065273],[\"Edad\",-0.000948709873722468],[\"Edad\",-0.0015810397748632155],[\"Edad\",-0.0025453332485614183],[\"Edad\",-0.0039620429310408154],[\"Edad\",-0.005969018198280935],[\"Edad\",-0.008713485925587834],[\"Edad\",-0.012340790731014186],[\"Edad\",-0.01698131925284942],[\"Edad\",-0.02273765513193659],[\"Edad\",-0.029674115968314808],[\"Edad\",-0.03781033583923491],[\"Edad\",-0.047119635834240524],[\"Edad\",-0.057531886200692044],[\"Edad\",-0.06893970592064609],[\"Edad\",-0.08120629509255137],[\"Edad\",-0.09417289589973078],[\"Edad\",-0.10766375813923386],[\"Edad\",-0.12148668231892175],[\"Edad\",-0.13542812749288854],[\"Edad\",-0.14924390153033193],[\"Edad\",-0.16264950108441545],[\"Edad\",-0.17531726218156368],[\"Edad\",-0.18688890137717293],[\"Edad\",-0.1970100939371537],[\"Edad\",-0.20538791614078838],[\"Edad\",-0.21186362477800605],[\"Edad\",-0.2164853590864047],[\"Edad\",-0.21956129570401034],[\"Edad\",-0.22167559153746896],[\"Edad\",-0.22365667048777121],[\"Edad\",-0.22649733814370082],[\"Edad\",-0.23123535328675834],[\"Edad\",-0.23880907169643786],[\"Edad\",-0.24990546599928046],[\"Edad\",-0.26481891256668655],[\"Edad\",-0.28334047517671096],[\"Edad\",-0.30469914803345644],[\"Edad\",-0.3275763488576815],[\"Edad\",-0.3502092241460468],[\"Edad\",-0.3705845113216307],[\"Edad\",-0.3867038471328148],[\"Edad\",-0.39687901205788184],[\"Edad\",-0.4],[\"Edad\",-0.3957176213605535],[\"Edad\",-0.38449860010498454],[\"Edad\",-0.36754107474897135],[\"Edad\",-0.34657248663821005],[\"Edad\",-0.32357842207747567],[\"Edad\",-0.3005213803810727],[\"Edad\",-0.2791006451582807],[\"Edad\",-0.26058372694164167],[\"Edad\",-0.24571604517307932],[\"Edad\",-0.23469821818717898],[\"Edad\",-0.22721453235725175],[\"Edad\",-0.22250046228691153],[\"Edad\",-0.21944518817045502],[\"Edad\",-0.2167294836532756],[\"Edad\",-0.21299569176827166],[\"Edad\",-0.20703557568024109],[\"Edad\",-0.19796909912773908],[\"Edad\",-0.1853798576023622],[\"Edad\",-0.16937616713638787],[\"Edad\",-0.1505613528950258],[\"Edad\",-0.12991825442328306],[\"Edad\",-0.10863405777180526],[\"Edad\",-0.087905106538828],[\"Edad\",-0.06876319728267719],[\"Edad\",-0.051955304146614006],[\"Edad\",-0.037891840226751364],[\"Edad\",-0.026660449624221406],[\"Edad\",-0.01808837890075642],[\"Edad\",-0.0118297965844191],[\"Edad\",-0.007455192240690591],[\"Edad\",-0.00452606794718432],[\"Edad\",-0.0026463976084884146],[\"Edad\",-0.0014899227312134605],[\"Edad\",-0.0008075315190663774],[\"Edad\",-0.00042127229180759717],[\"Edad\",-0.00021149571214302057],[\"Edad\",-0.0001021666596726838],[\"Edad\",-4.748155139629624e-05],[\"Edad\",-2.1227198257869857e-05],[\"Edad\",-9.127690767585351e-06],[\"Edad\",-3.7746964943466027e-06],[\"Edad\",-1.5011086131268963e-06],[\"Edad\",-5.739983030249901e-07],[\"Edad\",-2.1102799092870116e-07],[\"Edad\",2.1102799092870116e-07],[\"Edad\",5.739983030249901e-07],[\"Edad\",1.5011086131268963e-06],[\"Edad\",3.7746964943466027e-06],[\"Edad\",9.127690767585351e-06],[\"Edad\",2.1227198257869857e-05],[\"Edad\",4.748155139629624e-05],[\"Edad\",0.0001021666596726838],[\"Edad\",0.00021149571214302057],[\"Edad\",0.00042127229180759717],[\"Edad\",0.0008075315190663774],[\"Edad\",0.0014899227312134605],[\"Edad\",0.0026463976084884146],[\"Edad\",0.00452606794718432],[\"Edad\",0.007455192240690591],[\"Edad\",0.0118297965844191],[\"Edad\",0.01808837890075642],[\"Edad\",0.026660449624221406],[\"Edad\",0.037891840226751364],[\"Edad\",0.051955304146614006],[\"Edad\",0.06876319728267719],[\"Edad\",0.087905106538828],[\"Edad\",0.10863405777180526],[\"Edad\",0.12991825442328306],[\"Edad\",0.1505613528950258],[\"Edad\",0.16937616713638787],[\"Edad\",0.1853798576023622],[\"Edad\",0.19796909912773908],[\"Edad\",0.20703557568024109],[\"Edad\",0.21299569176827166],[\"Edad\",0.2167294836532756],[\"Edad\",0.21944518817045502],[\"Edad\",0.22250046228691153],[\"Edad\",0.22721453235725175],[\"Edad\",0.23469821818717898],[\"Edad\",0.24571604517307932],[\"Edad\",0.26058372694164167],[\"Edad\",0.2791006451582807],[\"Edad\",0.3005213803810727],[\"Edad\",0.32357842207747567],[\"Edad\",0.34657248663821005],[\"Edad\",0.36754107474897135],[\"Edad\",0.38449860010498454],[\"Edad\",0.3957176213605535],[\"Edad\",0.4],[\"Edad\",0.39687901205788184],[\"Edad\",0.3867038471328148],[\"Edad\",0.3705845113216307],[\"Edad\",0.3502092241460468],[\"Edad\",0.3275763488576815],[\"Edad\",0.30469914803345644],[\"Edad\",0.28334047517671096],[\"Edad\",0.26481891256668655],[\"Edad\",0.24990546599928046],[\"Edad\",0.23880907169643786],[\"Edad\",0.23123535328675834],[\"Edad\",0.22649733814370082],[\"Edad\",0.22365667048777121],[\"Edad\",0.22167559153746896],[\"Edad\",0.21956129570401034],[\"Edad\",0.2164853590864047],[\"Edad\",0.21186362477800605],[\"Edad\",0.20538791614078838],[\"Edad\",0.1970100939371537],[\"Edad\",0.18688890137717293],[\"Edad\",0.17531726218156368],[\"Edad\",0.16264950108441545],[\"Edad\",0.14924390153033193],[\"Edad\",0.13542812749288854],[\"Edad\",0.12148668231892175],[\"Edad\",0.10766375813923386],[\"Edad\",0.09417289589973078],[\"Edad\",0.08120629509255137],[\"Edad\",0.06893970592064609],[\"Edad\",0.057531886200692044],[\"Edad\",0.047119635834240524],[\"Edad\",0.03781033583923491],[\"Edad\",0.029674115968314808],[\"Edad\",0.02273765513193659],[\"Edad\",0.01698131925284942],[\"Edad\",0.012340790731014186],[\"Edad\",0.008713485925587834],[\"Edad\",0.005969018198280935],[\"Edad\",0.0039620429310408154],[\"Edad\",0.0025453332485614183],[\"Edad\",0.0015810397748632155],[\"Edad\",0.000948709873722468],[\"Edad\",0.0005495256979065273],[\"Edad\",0.0003070607541818699],[\"Edad\",0.0001654248568929025],[\"Edad\",8.588375560881706e-05],[\"Edad\",4.29515574113907e-05],[\"Edad\",2.0684921760124253e-05],[\"Edad\",9.589744059059434e-06],[\"Edad\",4.278855406892614e-06],[\"Edad\",1.8370468977132548e-06],[\"Edad\",7.587563156735037e-07],[\"Edad\",3.014407878275633e-07],[\"Edad\",1.151745650821133e-07],[\"Edad\",4.231661430206264e-08]],[[\"Salario\",-2.1771382969230788e-07],[\"Salario\",-5.472991294531796e-07],[\"Salario\",-1.3326026559837934e-06],[\"Salario\",-3.1429587007134532e-06],[\"Salario\",-7.180682083487873e-06],[\"Salario\",-1.5893183886966535e-05],[\"Salario\",-3.4080493229216413e-05],[\"Salario\",-7.080840001213543e-05],[\"Salario\",-0.00014255573083535734],[\"Salario\",-0.00027812864043153435],[\"Salario\",-0.00052590994724634],[\"Salario\",-0.0009638930785841025],[\"Salario\",-0.0017125737105789308],[\"Salario\",-0.0029500410149100992],[\"Salario\",-0.004927484990316591],[\"Salario\",-0.007981898723769395],[\"Salario\",-0.012541267725311459],[\"Salario\",-0.019116467955602727],[\"Salario\",-0.02827405249412911],[\"Salario\",-0.04058570040054994],[\"Salario\",-0.05655369010989051],[\"Salario\",-0.07651719280881825],[\"Salario\",-0.10055061552198137],[\"Salario\",-0.12837114241176023],[\"Salario\",-0.1592761282501573],[\"Salario\",-0.1921303526513011],[\"Salario\",-0.22541741539878843],[\"Salario\",-0.2573591305437891],[\"Salario\",-0.2860935179472123],[\"Salario\",-0.3098888764468972],[\"Salario\",-0.32736176913286674],[\"Salario\",-0.33766322538564253],[\"Salario\",-0.3406012481844245],[\"Salario\",-0.336678124864992],[\"Salario\",-0.3270357371131556],[\"Salario\",-0.3133177711178048],[\"Salario\",-0.2974711543937298],[\"Salario\",-0.28151772436331146],[\"Salario\",-0.26732988458972334],[\"Salario\",-0.2564409664243397],[\"Salario\",-0.24991334449104352],[\"Salario\",-0.24827679191327126],[\"Salario\",-0.2515380277553219],[\"Salario\",-0.2592517417312866],[\"Salario\",-0.2706351640522909],[\"Salario\",-0.2847036687535988],[\"Salario\",-0.30040457358385364],[\"Salario\",-0.3167300967094438],[\"Salario\",-0.3327973875234898],[\"Salario\",-0.3478919942069255],[\"Salario\",-0.36147904774405204],[\"Salario\",-0.37319199705578726],[\"Salario\",-0.3828107891995043],[\"Salario\",-0.3902398324109927],[\"Salario\",-0.39549179292352366],[\"Salario\",-0.3986778279180631],[\"Salario\",-0.4],[\"Salario\",-0.39973879613763297],[\"Salario\",-0.3982286785676777],[\"Salario\",-0.39581744458701357],[\"Salario\",-0.39281017096467497],[\"Salario\",-0.38940443286447285],[\"Salario\",-0.3856287744455928],[\"Salario\",-0.38129949188091433],[\"Salario\",-0.3760103880387209],[\"Salario\",-0.3691656598850573],[\"Salario\",-0.3600578784642597],[\"Salario\",-0.34798266260559246],[\"Salario\",-0.33237163318909696],[\"Salario\",-0.3129184300470494],[\"Salario\",-0.2896713332253592],[\"Salario\",-0.263071331560047],[\"Salario\",-0.23392541713685647],[\"Salario\",-0.20331877762853054],[\"Salario\",-0.17248272769702905],[\"Salario\",-0.1426441432389892],[\"Salario\",-0.11488461035774351],[\"Salario\",-0.09003321465422744],[\"Salario\",-0.06860755460856953],[\"Salario\",-0.050806099308899136],[\"Salario\",-0.036544578073016594],[\"Salario\",-0.02552207962563598],[\"Salario\",-0.01729999844248323],[\"Salario\",-0.011378546409630584],[\"Salario\",-0.007259902705310914],[\"Salario\",-0.00449247917569841],[\"Salario\",-0.002695710337822759],[\"Salario\",-0.0015682790256181288],[\"Salario\",-0.0008844558468561935],[\"Salario\",-0.00048348018344954397],[\"Salario\",-0.00025614385303174275],[\"Salario\",-0.000131507365208606],[\"Salario\",-6.542436995460351e-05],[\"Salario\",-3.153686236317139e-05],[\"Salario\",-1.4728419564999807e-05],[\"Salario\",-6.663839309338987e-06],[\"Salario\",-2.9207736456422725e-06],[\"Salario\",-1.2400884170671494e-06],[\"Salario\",-5.099961461150562e-07],[\"Salario\",-2.0315163754033984e-07],[\"Salario\",2.0315163754033984e-07],[\"Salario\",5.099961461150562e-07],[\"Salario\",1.2400884170671494e-06],[\"Salario\",2.9207736456422725e-06],[\"Salario\",6.663839309338987e-06],[\"Salario\",1.4728419564999807e-05],[\"Salario\",3.153686236317139e-05],[\"Salario\",6.542436995460351e-05],[\"Salario\",0.000131507365208606],[\"Salario\",0.00025614385303174275],[\"Salario\",0.00048348018344954397],[\"Salario\",0.0008844558468561935],[\"Salario\",0.0015682790256181288],[\"Salario\",0.002695710337822759],[\"Salario\",0.00449247917569841],[\"Salario\",0.007259902705310914],[\"Salario\",0.011378546409630584],[\"Salario\",0.01729999844248323],[\"Salario\",0.02552207962563598],[\"Salario\",0.036544578073016594],[\"Salario\",0.050806099308899136],[\"Salario\",0.06860755460856953],[\"Salario\",0.09003321465422744],[\"Salario\",0.11488461035774351],[\"Salario\",0.1426441432389892],[\"Salario\",0.17248272769702905],[\"Salario\",0.20331877762853054],[\"Salario\",0.23392541713685647],[\"Salario\",0.263071331560047],[\"Salario\",0.2896713332253592],[\"Salario\",0.3129184300470494],[\"Salario\",0.33237163318909696],[\"Salario\",0.34798266260559246],[\"Salario\",0.3600578784642597],[\"Salario\",0.3691656598850573],[\"Salario\",0.3760103880387209],[\"Salario\",0.38129949188091433],[\"Salario\",0.3856287744455928],[\"Salario\",0.38940443286447285],[\"Salario\",0.39281017096467497],[\"Salario\",0.39581744458701357],[\"Salario\",0.3982286785676777],[\"Salario\",0.39973879613763297],[\"Salario\",0.4],[\"Salario\",0.3986778279180631],[\"Salario\",0.39549179292352366],[\"Salario\",0.3902398324109927],[\"Salario\",0.3828107891995043],[\"Salario\",0.37319199705578726],[\"Salario\",0.36147904774405204],[\"Salario\",0.3478919942069255],[\"Salario\",0.3327973875234898],[\"Salario\",0.3167300967094438],[\"Salario\",0.30040457358385364],[\"Salario\",0.2847036687535988],[\"Salario\",0.2706351640522909],[\"Salario\",0.2592517417312866],[\"Salario\",0.2515380277553219],[\"Salario\",0.24827679191327126],[\"Salario\",0.24991334449104352],[\"Salario\",0.2564409664243397],[\"Salario\",0.26732988458972334],[\"Salario\",0.28151772436331146],[\"Salario\",0.2974711543937298],[\"Salario\",0.3133177711178048],[\"Salario\",0.3270357371131556],[\"Salario\",0.336678124864992],[\"Salario\",0.3406012481844245],[\"Salario\",0.33766322538564253],[\"Salario\",0.32736176913286674],[\"Salario\",0.3098888764468972],[\"Salario\",0.2860935179472123],[\"Salario\",0.2573591305437891],[\"Salario\",0.22541741539878843],[\"Salario\",0.1921303526513011],[\"Salario\",0.1592761282501573],[\"Salario\",0.12837114241176023],[\"Salario\",0.10055061552198137],[\"Salario\",0.07651719280881825],[\"Salario\",0.05655369010989051],[\"Salario\",0.04058570040054994],[\"Salario\",0.02827405249412911],[\"Salario\",0.019116467955602727],[\"Salario\",0.012541267725311459],[\"Salario\",0.007981898723769395],[\"Salario\",0.004927484990316591],[\"Salario\",0.0029500410149100992],[\"Salario\",0.0017125737105789308],[\"Salario\",0.0009638930785841025],[\"Salario\",0.00052590994724634],[\"Salario\",0.00027812864043153435],[\"Salario\",0.00014255573083535734],[\"Salario\",7.080840001213543e-05],[\"Salario\",3.4080493229216413e-05],[\"Salario\",1.5893183886966535e-05],[\"Salario\",7.180682083487873e-06],[\"Salario\",3.1429587007134532e-06],[\"Salario\",1.3326026559837934e-06],[\"Salario\",5.472991294531796e-07],[\"Salario\",2.1771382969230788e-07]]],\"ys\":[{\"__ndarray__\":\"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\",\"dtype\":\"float64\",\"order\":\"little\",\"shape\":[200]},{\"__ndarray__\":\"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\",\"dtype\":\"float64\",\"order\":\"little\",\"shape\":[200]}]},\"selected\":{\"id\":\"4917\"},\"selection_policy\":{\"id\":\"4916\"}},\"id\":\"4850\",\"type\":\"ColumnDataSource\"},{\"attributes\":{},\"id\":\"4896\",\"type\":\"Selection\"},{\"attributes\":{\"fill_alpha\":{\"value\":0.5},\"fill_color\":{\"value\":\"#30a2da\"},\"hatch_alpha\":{\"value\":0.2},\"line_alpha\":{\"value\":0.2},\"line_color\":{\"value\":\"#1f77b4\"},\"line_width\":{\"value\":0},\"xs\":{\"field\":\"xs\"},\"ys\":{\"field\":\"ys\"}},\"id\":\"4769\",\"type\":\"Patches\"},{\"attributes\":{},\"id\":\"4915\",\"type\":\"Selection\"}],\"root_ids\":[\"4732\",\"5362\"]},\"title\":\"Bokeh Application\",\"version\":\"2.4.3\"}};\n",
              "    var render_items = [{\"docid\":\"6017da1f-2f64-454d-8f6d-6c1fc7c0a786\",\"root_ids\":[\"4732\"],\"roots\":{\"4732\":\"13db2756-e1a3-4be9-b159-24bb89631638\"}}];\n",
              "    root.Bokeh.embed.embed_items_notebook(docs_json, render_items);\n",
              "  }\n",
              "  if (root.Bokeh !== undefined && root.Bokeh.Panel !== undefined) {\n",
              "    embed_document(root);\n",
              "  } else {\n",
              "    var attempts = 0;\n",
              "    var timer = setInterval(function(root) {\n",
              "      if (root.Bokeh !== undefined && root.Bokeh.Panel !== undefined) {\n",
              "        clearInterval(timer);\n",
              "        embed_document(root);\n",
              "      } else if (document.readyState == \"complete\") {\n",
              "        attempts++;\n",
              "        if (attempts > 200) {\n",
              "          clearInterval(timer);\n",
              "          console.log(\"Bokeh: ERROR: Unable to run BokehJS code because BokehJS library is missing\");\n",
              "        }\n",
              "      }\n",
              "    }, 25, root)\n",
              "  }\n",
              "})(window);</script>"
            ],
            "application/vnd.holoviews_exec.v0+json": "",
            "text/plain": [
              "HoloViews(Layout)"
            ]
          },
          "metadata": {
            "application/vnd.holoviews_exec.v0+json": {
              "id": "4732"
            }
          }
        },
        {
          "output_type": "display_data",
          "data": {},
          "metadata": {}
        },
        {
          "output_type": "display_data",
          "data": {},
          "metadata": {}
        },
        {
          "output_type": "display_data",
          "data": {
            "text/html": [
              "<div id='5543'>\n",
              "  <div class=\"bk-root\" id=\"3f640ca5-3356-4494-806a-b61f7544afd5\" data-root-id=\"5543\"></div>\n",
              "</div>\n",
              "<script type=\"application/javascript\">(function(root) {\n",
              "  function embed_document(root) {\n",
              "    var docs_json = {\"5747d0fd-dc0e-4af6-bba8-1012dedd0f97\":{\"defs\":[{\"extends\":null,\"module\":null,\"name\":\"ReactiveHTML1\",\"overrides\":[],\"properties\":[]},{\"extends\":null,\"module\":null,\"name\":\"FlexBox1\",\"overrides\":[],\"properties\":[{\"default\":\"flex-start\",\"kind\":null,\"name\":\"align_content\"},{\"default\":\"flex-start\",\"kind\":null,\"name\":\"align_items\"},{\"default\":\"row\",\"kind\":null,\"name\":\"flex_direction\"},{\"default\":\"wrap\",\"kind\":null,\"name\":\"flex_wrap\"},{\"default\":\"flex-start\",\"kind\":null,\"name\":\"justify_content\"}]},{\"extends\":null,\"module\":null,\"name\":\"TemplateActions1\",\"overrides\":[],\"properties\":[{\"default\":0,\"kind\":null,\"name\":\"open_modal\"},{\"default\":0,\"kind\":null,\"name\":\"close_modal\"}]},{\"extends\":null,\"module\":null,\"name\":\"MaterialTemplateActions1\",\"overrides\":[],\"properties\":[{\"default\":0,\"kind\":null,\"name\":\"open_modal\"},{\"default\":0,\"kind\":null,\"name\":\"close_modal\"}]}],\"roots\":{\"references\":[{\"attributes\":{\"high\":1.0,\"low\":-0.06345915704066465,\"nan_color\":\"white\",\"palette\":[\"#75968f\",\"#a5bab7\",\"#c9d9d3\",\"#e2e2e2\",\"#dfccce\",\"#ddb7b1\",\"#cc7878\",\"#933b41\",\"#550b1d\"]},\"id\":\"5581\",\"type\":\"LinearColorMapper\"},{\"attributes\":{},\"id\":\"5579\",\"type\":\"CategoricalTickFormatter\"},{\"attributes\":{\"factors\":[\"Trabajo\",\"Edad\",\"Salario\",\"Compra\"],\"tags\":[[[\"columns\",\"columns\",null]]]},\"id\":\"5544\",\"type\":\"FactorRange\"},{\"attributes\":{\"source\":{\"id\":\"5582\"}},\"id\":\"5590\",\"type\":\"CDSView\"},{\"attributes\":{},\"id\":\"5591\",\"type\":\"BasicTicker\"},{\"attributes\":{\"client_comm_id\":\"aab260d1029d41eead15d16c44839383\",\"comm_id\":\"59de093dbed2499281bb5fe878cea95c\",\"plot_id\":\"5543\"},\"id\":\"5758\",\"type\":\"panel.models.comm_manager.CommManager\"},{\"attributes\":{\"children\":[{\"id\":\"5547\"}],\"margin\":[0,0,0,0],\"name\":\"Row10708\"},\"id\":\"5543\",\"type\":\"Row\"},{\"attributes\":{\"coordinates\":null,\"data_source\":{\"id\":\"5582\"},\"glyph\":{\"id\":\"5585\"},\"group\":null,\"hover_glyph\":null,\"muted_glyph\":{\"id\":\"5588\"},\"nonselection_glyph\":{\"id\":\"5586\"},\"selection_glyph\":{\"id\":\"5587\"},\"view\":{\"id\":\"5590\"}},\"id\":\"5589\",\"type\":\"GlyphRenderer\"},{\"attributes\":{},\"id\":\"5552\",\"type\":\"CategoricalScale\"},{\"attributes\":{},\"id\":\"5562\",\"type\":\"SaveTool\"},{\"attributes\":{\"axis\":{\"id\":\"5559\"},\"coordinates\":null,\"dimension\":1,\"grid_line_color\":null,\"group\":null,\"ticker\":null},\"id\":\"5561\",\"type\":\"Grid\"},{\"attributes\":{\"fill_color\":{\"field\":\"zvalues\",\"transform\":{\"id\":\"5581\"}},\"height\":{\"value\":1},\"line_alpha\":{\"value\":0},\"line_color\":{\"value\":\"#1f77b4\"},\"width\":{\"value\":1},\"x\":{\"field\":\"columns\"},\"y\":{\"field\":\"index\"}},\"id\":\"5585\",\"type\":\"Rect\"},{\"attributes\":{\"data\":{\"columns\":[\"Trabajo\",\"Trabajo\",\"Trabajo\",\"Trabajo\",\"Edad\",\"Edad\",\"Edad\",\"Edad\",\"Salario\",\"Salario\",\"Salario\",\"Salario\",\"Compra\",\"Compra\",\"Compra\",\"Compra\"],\"index\":[\"Trabajo\",\"Edad\",\"Salario\",\"Compra\",\"Trabajo\",\"Edad\",\"Salario\",\"Compra\",\"Trabajo\",\"Edad\",\"Salario\",\"Compra\",\"Trabajo\",\"Edad\",\"Salario\",\"Compra\"],\"value\":[\"1\",\"-0.056609\",\"-0.063459\",\"-0.0013742\",\"-0.056609\",\"1\",\"0.15021\",\"0.60949\",\"-0.063459\",\"0.15021\",\"1\",\"0.36075\",\"-0.0013742\",\"0.60949\",\"0.36075\",\"1\"]},\"selected\":{\"id\":\"5594\"},\"selection_policy\":{\"id\":\"5612\"}},\"id\":\"5593\",\"type\":\"ColumnDataSource\"},{\"attributes\":{\"factors\":[\"Trabajo\",\"Edad\",\"Salario\",\"Compra\"],\"tags\":[[[\"index\",\"index\",null]]]},\"id\":\"5545\",\"type\":\"FactorRange\"},{\"attributes\":{},\"id\":\"5563\",\"type\":\"PanTool\"},{\"attributes\":{\"fill_alpha\":{\"value\":0.2},\"fill_color\":{\"field\":\"zvalues\",\"transform\":{\"id\":\"5581\"}},\"hatch_alpha\":{\"value\":0.2},\"height\":{\"value\":1},\"line_alpha\":{\"value\":0},\"line_color\":{\"value\":\"#1f77b4\"},\"width\":{\"value\":1},\"x\":{\"field\":\"columns\"},\"y\":{\"field\":\"index\"}},\"id\":\"5588\",\"type\":\"Rect\"},{\"attributes\":{\"source\":{\"id\":\"5593\"}},\"id\":\"5600\",\"type\":\"CDSView\"},{\"attributes\":{},\"id\":\"5564\",\"type\":\"WheelZoomTool\"},{\"attributes\":{\"tools\":[{\"id\":\"5546\"},{\"id\":\"5562\"},{\"id\":\"5563\"},{\"id\":\"5564\"},{\"id\":\"5565\"},{\"id\":\"5566\"}]},\"id\":\"5568\",\"type\":\"Toolbar\"},{\"attributes\":{\"fill_color\":{\"field\":\"zvalues\",\"transform\":{\"id\":\"5581\"}},\"height\":{\"value\":1},\"line_alpha\":{\"value\":0},\"line_color\":{\"value\":\"#1f77b4\"},\"width\":{\"value\":1},\"x\":{\"field\":\"columns\"},\"y\":{\"field\":\"index\"}},\"id\":\"5587\",\"type\":\"Rect\"},{\"attributes\":{},\"id\":\"5577\",\"type\":\"AllLabels\"},{\"attributes\":{\"overlay\":{\"id\":\"5567\"}},\"id\":\"5565\",\"type\":\"BoxZoomTool\"},{\"attributes\":{},\"id\":\"5576\",\"type\":\"CategoricalTickFormatter\"},{\"attributes\":{},\"id\":\"5583\",\"type\":\"Selection\"},{\"attributes\":{\"axis_label\":\"\",\"coordinates\":null,\"formatter\":{\"id\":\"5576\"},\"group\":null,\"major_label_orientation\":1.2217304763960306,\"major_label_policy\":{\"id\":\"5577\"},\"ticker\":{\"id\":\"5557\"}},\"id\":\"5556\",\"type\":\"CategoricalAxis\"},{\"attributes\":{\"fill_alpha\":{\"value\":0.1},\"fill_color\":{\"field\":\"zvalues\",\"transform\":{\"id\":\"5581\"}},\"hatch_alpha\":{\"value\":0.1},\"height\":{\"value\":1},\"line_alpha\":{\"value\":0},\"line_color\":{\"value\":\"#1f77b4\"},\"width\":{\"value\":1},\"x\":{\"field\":\"columns\"},\"y\":{\"field\":\"index\"}},\"id\":\"5586\",\"type\":\"Rect\"},{\"attributes\":{\"angle\":{\"value\":0},\"text\":{\"field\":\"value\"},\"text_align\":{\"value\":\"center\"},\"text_alpha\":{\"value\":1.0},\"text_baseline\":{\"value\":\"middle\"},\"text_color\":{\"value\":\"black\"},\"text_font_size\":{\"value\":\"7pt\"},\"text_font_style\":{\"value\":\"normal\"},\"text_line_height\":{\"value\":1.2},\"x\":{\"field\":\"columns\"},\"x_offset\":{\"value\":0},\"y\":{\"field\":\"index\"},\"y_offset\":{\"value\":0}},\"id\":\"5601\",\"type\":\"Text\"},{\"attributes\":{\"bar_line_color\":\"black\",\"color_mapper\":{\"id\":\"5581\"},\"coordinates\":null,\"group\":null,\"label_standoff\":8,\"location\":[0,0],\"major_label_policy\":{\"id\":\"5606\"},\"major_tick_line_color\":\"black\",\"ticker\":{\"id\":\"5591\"}},\"id\":\"5592\",\"type\":\"ColorBar\"},{\"attributes\":{\"text\":{\"field\":\"value\"},\"text_align\":{\"value\":\"center\"},\"text_alpha\":{\"value\":0.2},\"text_baseline\":{\"value\":\"middle\"},\"text_color\":{\"value\":\"black\"},\"text_font_size\":{\"value\":\"7pt\"},\"x\":{\"field\":\"columns\"},\"y\":{\"field\":\"index\"}},\"id\":\"5598\",\"type\":\"Text\"},{\"attributes\":{\"below\":[{\"id\":\"5556\"}],\"center\":[{\"id\":\"5558\"},{\"id\":\"5561\"}],\"height\":500,\"left\":[{\"id\":\"5559\"}],\"margin\":[5,5,5,5],\"min_border_bottom\":10,\"min_border_left\":10,\"min_border_right\":10,\"min_border_top\":10,\"renderers\":[{\"id\":\"5589\"},{\"id\":\"5599\"}],\"right\":[{\"id\":\"5592\"}],\"sizing_mode\":\"fixed\",\"title\":{\"id\":\"5548\"},\"toolbar\":{\"id\":\"5568\"},\"x_range\":{\"id\":\"5544\"},\"x_scale\":{\"id\":\"5552\"},\"y_range\":{\"id\":\"5545\"},\"y_scale\":{\"id\":\"5554\"}},\"id\":\"5547\",\"subtype\":\"Figure\",\"type\":\"Plot\"},{\"attributes\":{\"text\":{\"field\":\"value\"},\"text_align\":{\"value\":\"center\"},\"text_baseline\":{\"value\":\"middle\"},\"text_color\":{\"value\":\"black\"},\"text_font_size\":{\"value\":\"7pt\"},\"x\":{\"field\":\"columns\"},\"y\":{\"field\":\"index\"}},\"id\":\"5596\",\"type\":\"Text\"},{\"attributes\":{},\"id\":\"5554\",\"type\":\"CategoricalScale\"},{\"attributes\":{\"data\":{\"columns\":[\"Trabajo\",\"Trabajo\",\"Trabajo\",\"Trabajo\",\"Edad\",\"Edad\",\"Edad\",\"Edad\",\"Salario\",\"Salario\",\"Salario\",\"Salario\",\"Compra\",\"Compra\",\"Compra\",\"Compra\"],\"index\":[\"Trabajo\",\"Edad\",\"Salario\",\"Compra\",\"Trabajo\",\"Edad\",\"Salario\",\"Compra\",\"Trabajo\",\"Edad\",\"Salario\",\"Compra\",\"Trabajo\",\"Edad\",\"Salario\",\"Compra\"],\"value\":[\"1\",\"-0.056609\",\"-0.063459\",\"-0.0013742\",\"-0.056609\",\"1\",\"0.15021\",\"0.60949\",\"-0.063459\",\"0.15021\",\"1\",\"0.36075\",\"-0.0013742\",\"0.60949\",\"0.36075\",\"1\"],\"zvalues\":{\"__ndarray__\":\"AAAAAAAA8D8RA9AE5/usv/ISH/zbPrC/PTpssvqDVr8RA9AE5/usvwAAAAAAAPA/16mS5x46wz8f0+Hl74DjP/ISH/zbPrC/16mS5x46wz8AAAAAAADwPwlDUpCZFtc/PTpssvqDVr8f0+Hl74DjPwlDUpCZFtc/AAAAAAAA8D8=\",\"dtype\":\"float64\",\"order\":\"little\",\"shape\":[16]}},\"selected\":{\"id\":\"5583\"},\"selection_policy\":{\"id\":\"5610\"}},\"id\":\"5582\",\"type\":\"ColumnDataSource\"},{\"attributes\":{},\"id\":\"5566\",\"type\":\"ResetTool\"},{\"attributes\":{\"coordinates\":null,\"data_source\":{\"id\":\"5593\"},\"glyph\":{\"id\":\"5596\"},\"group\":null,\"hover_glyph\":null,\"muted_glyph\":{\"id\":\"5598\"},\"nonselection_glyph\":{\"id\":\"5597\"},\"selection_glyph\":{\"id\":\"5601\"},\"view\":{\"id\":\"5600\"}},\"id\":\"5599\",\"type\":\"GlyphRenderer\"},{\"attributes\":{\"bottom_units\":\"screen\",\"coordinates\":null,\"fill_alpha\":0.5,\"fill_color\":\"lightgrey\",\"group\":null,\"left_units\":\"screen\",\"level\":\"overlay\",\"line_alpha\":1.0,\"line_color\":\"black\",\"line_dash\":[4,4],\"line_width\":2,\"right_units\":\"screen\",\"syncable\":false,\"top_units\":\"screen\"},\"id\":\"5567\",\"type\":\"BoxAnnotation\"},{\"attributes\":{},\"id\":\"5580\",\"type\":\"AllLabels\"},{\"attributes\":{},\"id\":\"5594\",\"type\":\"Selection\"},{\"attributes\":{\"text\":{\"field\":\"value\"},\"text_align\":{\"value\":\"center\"},\"text_alpha\":{\"value\":0.1},\"text_baseline\":{\"value\":\"middle\"},\"text_color\":{\"value\":\"black\"},\"text_font_size\":{\"value\":\"7pt\"},\"x\":{\"field\":\"columns\"},\"y\":{\"field\":\"index\"}},\"id\":\"5597\",\"type\":\"Text\"},{\"attributes\":{\"coordinates\":null,\"group\":null,\"text\":\"Heatmap of all Continuous Variables including target\",\"text_color\":\"black\",\"text_font_size\":\"12pt\"},\"id\":\"5548\",\"type\":\"Title\"},{\"attributes\":{\"callback\":null,\"renderers\":[{\"id\":\"5589\"}],\"tags\":[\"hv_created\"],\"tooltips\":[[\"columns\",\"@{columns}\"],[\"index\",\"@{index}\"],[\"value\",\"@{value}\"]]},\"id\":\"5546\",\"type\":\"HoverTool\"},{\"attributes\":{},\"id\":\"5606\",\"type\":\"NoOverlap\"},{\"attributes\":{},\"id\":\"5557\",\"type\":\"CategoricalTicker\"},{\"attributes\":{},\"id\":\"5610\",\"type\":\"UnionRenderers\"},{\"attributes\":{},\"id\":\"5612\",\"type\":\"UnionRenderers\"},{\"attributes\":{\"axis\":{\"id\":\"5556\"},\"coordinates\":null,\"grid_line_color\":null,\"group\":null,\"ticker\":null},\"id\":\"5558\",\"type\":\"Grid\"},{\"attributes\":{},\"id\":\"5560\",\"type\":\"CategoricalTicker\"},{\"attributes\":{\"axis_label\":\"\",\"coordinates\":null,\"formatter\":{\"id\":\"5579\"},\"group\":null,\"major_label_policy\":{\"id\":\"5580\"},\"ticker\":{\"id\":\"5560\"}},\"id\":\"5559\",\"type\":\"CategoricalAxis\"}],\"root_ids\":[\"5543\",\"5758\"]},\"title\":\"Bokeh Application\",\"version\":\"2.4.3\"}};\n",
              "    var render_items = [{\"docid\":\"5747d0fd-dc0e-4af6-bba8-1012dedd0f97\",\"root_ids\":[\"5543\"],\"roots\":{\"5543\":\"3f640ca5-3356-4494-806a-b61f7544afd5\"}}];\n",
              "    root.Bokeh.embed.embed_items_notebook(docs_json, render_items);\n",
              "  }\n",
              "  if (root.Bokeh !== undefined && root.Bokeh.Panel !== undefined) {\n",
              "    embed_document(root);\n",
              "  } else {\n",
              "    var attempts = 0;\n",
              "    var timer = setInterval(function(root) {\n",
              "      if (root.Bokeh !== undefined && root.Bokeh.Panel !== undefined) {\n",
              "        clearInterval(timer);\n",
              "        embed_document(root);\n",
              "      } else if (document.readyState == \"complete\") {\n",
              "        attempts++;\n",
              "        if (attempts > 200) {\n",
              "          clearInterval(timer);\n",
              "          console.log(\"Bokeh: ERROR: Unable to run BokehJS code because BokehJS library is missing\");\n",
              "        }\n",
              "      }\n",
              "    }, 25, root)\n",
              "  }\n",
              "})(window);</script>"
            ],
            "application/vnd.holoviews_exec.v0+json": "",
            "text/plain": [
              "HoloViews(Overlay)"
            ]
          },
          "metadata": {
            "application/vnd.holoviews_exec.v0+json": {
              "id": "5543"
            }
          }
        },
        {
          "output_type": "display_data",
          "data": {},
          "metadata": {}
        },
        {
          "output_type": "display_data",
          "data": {},
          "metadata": {}
        },
        {
          "output_type": "display_data",
          "data": {
            "text/html": [
              "<div id='5824'>\n",
              "  <div class=\"bk-root\" id=\"cef17ba4-5f86-4aa6-8be3-354bb636dc19\" data-root-id=\"5824\"></div>\n",
              "</div>\n",
              "<script type=\"application/javascript\">(function(root) {\n",
              "  function embed_document(root) {\n",
              "    var docs_json = {\"cae081ca-d965-4068-8125-b98136f8a2df\":{\"defs\":[{\"extends\":null,\"module\":null,\"name\":\"ReactiveHTML1\",\"overrides\":[],\"properties\":[]},{\"extends\":null,\"module\":null,\"name\":\"FlexBox1\",\"overrides\":[],\"properties\":[{\"default\":\"flex-start\",\"kind\":null,\"name\":\"align_content\"},{\"default\":\"flex-start\",\"kind\":null,\"name\":\"align_items\"},{\"default\":\"row\",\"kind\":null,\"name\":\"flex_direction\"},{\"default\":\"wrap\",\"kind\":null,\"name\":\"flex_wrap\"},{\"default\":\"flex-start\",\"kind\":null,\"name\":\"justify_content\"}]},{\"extends\":null,\"module\":null,\"name\":\"TemplateActions1\",\"overrides\":[],\"properties\":[{\"default\":0,\"kind\":null,\"name\":\"open_modal\"},{\"default\":0,\"kind\":null,\"name\":\"close_modal\"}]},{\"extends\":null,\"module\":null,\"name\":\"MaterialTemplateActions1\",\"overrides\":[],\"properties\":[{\"default\":0,\"kind\":null,\"name\":\"open_modal\"},{\"default\":0,\"kind\":null,\"name\":\"close_modal\"}]}],\"roots\":{\"references\":[{\"attributes\":{\"axis\":{\"id\":\"5843\"},\"coordinates\":null,\"dimension\":1,\"grid_line_color\":null,\"group\":null,\"ticker\":null},\"id\":\"5846\",\"type\":\"Grid\"},{\"attributes\":{\"fill_color\":{\"value\":\"#30a2da\"},\"hatch_color\":{\"value\":\"#30a2da\"},\"top\":{\"field\":\"Edad\"},\"width\":{\"value\":0.8},\"x\":{\"field\":\"Trabajo\"}},\"id\":\"5862\",\"type\":\"VBar\"},{\"attributes\":{\"end\":38.41610678531702,\"reset_end\":38.41610678531702,\"reset_start\":0.0,\"tags\":[[[\"Edad\",\"Edad\",null]]]},\"id\":\"5830\",\"type\":\"Range1d\"},{\"attributes\":{},\"id\":\"5844\",\"type\":\"BasicTicker\"},{\"attributes\":{\"below\":[{\"id\":\"5840\"}],\"center\":[{\"id\":\"5842\"},{\"id\":\"5846\"}],\"height\":400,\"left\":[{\"id\":\"5843\"}],\"margin\":[5,5,5,5],\"min_border_bottom\":10,\"min_border_left\":10,\"min_border_right\":10,\"min_border_top\":10,\"renderers\":[{\"id\":\"5865\"}],\"sizing_mode\":\"fixed\",\"title\":{\"id\":\"5832\"},\"toolbar\":{\"id\":\"5853\"},\"x_range\":{\"id\":\"5829\"},\"x_scale\":{\"id\":\"5836\"},\"y_range\":{\"id\":\"5830\"},\"y_scale\":{\"id\":\"5838\"}},\"id\":\"5831\",\"subtype\":\"Figure\",\"type\":\"Plot\"},{\"attributes\":{},\"id\":\"5870\",\"type\":\"AllLabels\"},{\"attributes\":{\"margin\":[5,10,5,10],\"options\":[\"Trabajo\",\"Compra\"],\"title\":\"X-Axis\",\"value\":\"Trabajo\"},\"id\":\"5826\",\"type\":\"Select\"},{\"attributes\":{\"bottom\":{\"value\":0},\"fill_alpha\":{\"value\":1.0},\"fill_color\":{\"value\":\"#30a2da\"},\"hatch_alpha\":{\"value\":1.0},\"hatch_color\":{\"value\":\"#30a2da\"},\"hatch_scale\":{\"value\":12.0},\"hatch_weight\":{\"value\":1.0},\"line_alpha\":{\"value\":1.0},\"line_cap\":{\"value\":\"butt\"},\"line_color\":{\"value\":\"black\"},\"line_dash\":{\"value\":[]},\"line_dash_offset\":{\"value\":0},\"line_join\":{\"value\":\"bevel\"},\"line_width\":{\"value\":1},\"top\":{\"field\":\"Edad\"},\"width\":{\"value\":0.8},\"x\":{\"field\":\"Trabajo\"}},\"id\":\"5867\",\"type\":\"VBar\"},{\"attributes\":{},\"id\":\"5869\",\"type\":\"CategoricalTickFormatter\"},{\"attributes\":{\"client_comm_id\":\"b64126156c064882a8013b8ed319424a\",\"comm_id\":\"a1a0205e71ac472090904b973cdb58c3\",\"plot_id\":\"5824\"},\"id\":\"5924\",\"type\":\"panel.models.comm_manager.CommManager\"},{\"attributes\":{\"source\":{\"id\":\"5859\"}},\"id\":\"5866\",\"type\":\"CDSView\"},{\"attributes\":{\"fill_alpha\":{\"value\":0.2},\"fill_color\":{\"value\":\"#30a2da\"},\"hatch_alpha\":{\"value\":0.2},\"hatch_color\":{\"value\":\"#30a2da\"},\"line_alpha\":{\"value\":0.2},\"top\":{\"field\":\"Edad\"},\"width\":{\"value\":0.8},\"x\":{\"field\":\"Trabajo\"}},\"id\":\"5864\",\"type\":\"VBar\"},{\"attributes\":{},\"id\":\"5847\",\"type\":\"SaveTool\"},{\"attributes\":{},\"id\":\"5848\",\"type\":\"PanTool\"},{\"attributes\":{},\"id\":\"5860\",\"type\":\"Selection\"},{\"attributes\":{\"factors\":[\"0\",\"1\"],\"tags\":[[[\"Trabajo\",\"Trabajo\",null]]]},\"id\":\"5829\",\"type\":\"FactorRange\"},{\"attributes\":{},\"id\":\"5849\",\"type\":\"WheelZoomTool\"},{\"attributes\":{},\"id\":\"5873\",\"type\":\"AllLabels\"},{\"attributes\":{\"axis_label\":\"Trabajo\",\"coordinates\":null,\"formatter\":{\"id\":\"5869\"},\"group\":null,\"major_label_orientation\":1.2217304763960306,\"major_label_policy\":{\"id\":\"5870\"},\"ticker\":{\"id\":\"5841\"}},\"id\":\"5840\",\"type\":\"CategoricalAxis\"},{\"attributes\":{\"overlay\":{\"id\":\"5852\"}},\"id\":\"5850\",\"type\":\"BoxZoomTool\"},{\"attributes\":{},\"id\":\"5881\",\"type\":\"UnionRenderers\"},{\"attributes\":{\"fill_alpha\":{\"value\":0.1},\"fill_color\":{\"value\":\"#30a2da\"},\"hatch_alpha\":{\"value\":0.1},\"hatch_color\":{\"value\":\"#30a2da\"},\"line_alpha\":{\"value\":0.1},\"top\":{\"field\":\"Edad\"},\"width\":{\"value\":0.8},\"x\":{\"field\":\"Trabajo\"}},\"id\":\"5863\",\"type\":\"VBar\"},{\"attributes\":{},\"id\":\"5851\",\"type\":\"ResetTool\"},{\"attributes\":{\"children\":[{\"id\":\"5826\"},{\"id\":\"5827\"}],\"css_classes\":[\"panel-widget-box\"],\"margin\":[5,5,5,5],\"name\":\"WidgetBox11031\"},\"id\":\"5825\",\"type\":\"Column\"},{\"attributes\":{},\"id\":\"5838\",\"type\":\"LinearScale\"},{\"attributes\":{\"coordinates\":null,\"data_source\":{\"id\":\"5859\"},\"glyph\":{\"id\":\"5862\"},\"group\":null,\"hover_glyph\":null,\"muted_glyph\":{\"id\":\"5864\"},\"nonselection_glyph\":{\"id\":\"5863\"},\"selection_glyph\":{\"id\":\"5867\"},\"view\":{\"id\":\"5866\"}},\"id\":\"5865\",\"type\":\"GlyphRenderer\"},{\"attributes\":{\"children\":[{\"id\":\"5825\"},{\"id\":\"5828\"}],\"margin\":[0,0,0,0],\"name\":\"Row11072\"},\"id\":\"5824\",\"type\":\"Row\"},{\"attributes\":{\"children\":[{\"id\":\"5831\"}],\"margin\":[0,0,0,0],\"name\":\"Row11036\"},\"id\":\"5828\",\"type\":\"Row\"},{\"attributes\":{\"bottom_units\":\"screen\",\"coordinates\":null,\"fill_alpha\":0.5,\"fill_color\":\"lightgrey\",\"group\":null,\"left_units\":\"screen\",\"level\":\"overlay\",\"line_alpha\":1.0,\"line_color\":\"black\",\"line_dash\":[4,4],\"line_width\":2,\"right_units\":\"screen\",\"syncable\":false,\"top_units\":\"screen\"},\"id\":\"5852\",\"type\":\"BoxAnnotation\"},{\"attributes\":{\"tools\":[{\"id\":\"5847\"},{\"id\":\"5848\"},{\"id\":\"5849\"},{\"id\":\"5850\"},{\"id\":\"5851\"}]},\"id\":\"5853\",\"type\":\"Toolbar\"},{\"attributes\":{\"margin\":[5,10,5,10],\"options\":[\"Edad\",\"Salario\"],\"title\":\"Y-Axis\",\"value\":\"Edad\"},\"id\":\"5827\",\"type\":\"Select\"},{\"attributes\":{},\"id\":\"5872\",\"type\":\"BasicTickFormatter\"},{\"attributes\":{\"coordinates\":null,\"group\":null,\"text\":\"Average of each numeric var by categorical var\",\"text_color\":\"black\",\"text_font_size\":\"12pt\"},\"id\":\"5832\",\"type\":\"Title\"},{\"attributes\":{\"data\":{\"Edad\":{\"__ndarray__\":\"JstfsvwlQ0Dd0wjLPY1CQA==\",\"dtype\":\"float64\",\"order\":\"little\",\"shape\":[2]},\"Trabajo\":[\"0\",\"1\"]},\"selected\":{\"id\":\"5860\"},\"selection_policy\":{\"id\":\"5881\"}},\"id\":\"5859\",\"type\":\"ColumnDataSource\"},{\"attributes\":{},\"id\":\"5841\",\"type\":\"CategoricalTicker\"},{\"attributes\":{},\"id\":\"5836\",\"type\":\"CategoricalScale\"},{\"attributes\":{\"axis_label\":\"Edad\",\"coordinates\":null,\"formatter\":{\"id\":\"5872\"},\"group\":null,\"major_label_policy\":{\"id\":\"5873\"},\"ticker\":{\"id\":\"5844\"}},\"id\":\"5843\",\"type\":\"LinearAxis\"},{\"attributes\":{\"axis\":{\"id\":\"5840\"},\"coordinates\":null,\"grid_line_color\":null,\"group\":null,\"ticker\":null},\"id\":\"5842\",\"type\":\"Grid\"}],\"root_ids\":[\"5824\",\"5924\"]},\"title\":\"Bokeh Application\",\"version\":\"2.4.3\"}};\n",
              "    var render_items = [{\"docid\":\"cae081ca-d965-4068-8125-b98136f8a2df\",\"root_ids\":[\"5824\"],\"roots\":{\"5824\":\"cef17ba4-5f86-4aa6-8be3-354bb636dc19\"}}];\n",
              "    root.Bokeh.embed.embed_items_notebook(docs_json, render_items);\n",
              "  }\n",
              "  if (root.Bokeh !== undefined && root.Bokeh.Panel !== undefined) {\n",
              "    embed_document(root);\n",
              "  } else {\n",
              "    var attempts = 0;\n",
              "    var timer = setInterval(function(root) {\n",
              "      if (root.Bokeh !== undefined && root.Bokeh.Panel !== undefined) {\n",
              "        clearInterval(timer);\n",
              "        embed_document(root);\n",
              "      } else if (document.readyState == \"complete\") {\n",
              "        attempts++;\n",
              "        if (attempts > 200) {\n",
              "          clearInterval(timer);\n",
              "          console.log(\"Bokeh: ERROR: Unable to run BokehJS code because BokehJS library is missing\");\n",
              "        }\n",
              "      }\n",
              "    }, 25, root)\n",
              "  }\n",
              "})(window);</script>"
            ],
            "application/vnd.holoviews_exec.v0+json": "",
            "text/plain": [
              "Row\n",
              "    [0] WidgetBox\n",
              "        [0] Select(name='X-Axis', options=['Trabajo', 'Compra'], value='Trabajo')\n",
              "        [1] Select(name='Y-Axis', options=['Edad', 'Salario'], value='Edad')\n",
              "    [1] ParamFunction(function)"
            ]
          },
          "metadata": {
            "application/vnd.holoviews_exec.v0+json": {
              "id": "5824"
            }
          }
        },
        {
          "output_type": "stream",
          "name": "stdout",
          "text": [
            "Time to run AutoViz (in seconds) = 3\n"
          ]
        }
      ]
    },
    {
      "cell_type": "markdown",
      "source": [
        "## **Algoritmo Árbol de Decisión**"
      ],
      "metadata": {
        "id": "QUkPEAHQ2KMt"
      },
      "id": "QUkPEAHQ2KMt"
    },
    {
      "cell_type": "code",
      "source": [
        "dt = create_model('dt')\n",
        "print(dt)"
      ],
      "metadata": {
        "colab": {
          "base_uri": "https://localhost:8080/",
          "height": 537,
          "referenced_widgets": [
            "a92c85ea60bb49a9911a086ca6c363d5",
            "cbcf663765624ea2ba19063da8f78a9f",
            "88623ddd45594e6391a36829da6b483d",
            "4331937cb099428e9c3f5f93f19d6143",
            "74aa3baf972f4a54ad2a4453e694d7b3",
            "8d8ac8724ed248eab73bdeae339d3579",
            "80d2854cb8524b4ca4b830ab508647f3",
            "cff2990d6ec2414db5cc4251f533ddbc",
            "59dc651921f447cebe97c4227c32afbe",
            "54845e903cbf439d995b14172351cbdd",
            "79134e7445d741e784eedb7306cddee3"
          ]
        },
        "id": "AD0atnNW2NAT",
        "outputId": "b9262687-0dc5-4302-e056-fc4818dacea0"
      },
      "id": "AD0atnNW2NAT",
      "execution_count": 23,
      "outputs": [
        {
          "output_type": "display_data",
          "data": {
            "text/plain": [
              "<IPython.core.display.HTML object>"
            ],
            "text/html": []
          },
          "metadata": {}
        },
        {
          "output_type": "display_data",
          "data": {
            "text/plain": [
              "<pandas.io.formats.style.Styler at 0x7fe772133450>"
            ],
            "text/html": [
              "<style type=\"text/css\">\n",
              "#T_1ab8f_row10_col0, #T_1ab8f_row10_col1, #T_1ab8f_row10_col2, #T_1ab8f_row10_col3, #T_1ab8f_row10_col4, #T_1ab8f_row10_col5, #T_1ab8f_row10_col6 {\n",
              "  background: yellow;\n",
              "}\n",
              "</style>\n",
              "<table id=\"T_1ab8f_\" class=\"dataframe\">\n",
              "  <thead>\n",
              "    <tr>\n",
              "      <th class=\"blank level0\" >&nbsp;</th>\n",
              "      <th class=\"col_heading level0 col0\" >Accuracy</th>\n",
              "      <th class=\"col_heading level0 col1\" >AUC</th>\n",
              "      <th class=\"col_heading level0 col2\" >Recall</th>\n",
              "      <th class=\"col_heading level0 col3\" >Prec.</th>\n",
              "      <th class=\"col_heading level0 col4\" >F1</th>\n",
              "      <th class=\"col_heading level0 col5\" >Kappa</th>\n",
              "      <th class=\"col_heading level0 col6\" >MCC</th>\n",
              "    </tr>\n",
              "    <tr>\n",
              "      <th class=\"index_name level0\" >Fold</th>\n",
              "      <th class=\"blank col0\" >&nbsp;</th>\n",
              "      <th class=\"blank col1\" >&nbsp;</th>\n",
              "      <th class=\"blank col2\" >&nbsp;</th>\n",
              "      <th class=\"blank col3\" >&nbsp;</th>\n",
              "      <th class=\"blank col4\" >&nbsp;</th>\n",
              "      <th class=\"blank col5\" >&nbsp;</th>\n",
              "      <th class=\"blank col6\" >&nbsp;</th>\n",
              "    </tr>\n",
              "  </thead>\n",
              "  <tbody>\n",
              "    <tr>\n",
              "      <th id=\"T_1ab8f_level0_row0\" class=\"row_heading level0 row0\" >0</th>\n",
              "      <td id=\"T_1ab8f_row0_col0\" class=\"data row0 col0\" >0.8571</td>\n",
              "      <td id=\"T_1ab8f_row0_col1\" class=\"data row0 col1\" >0.8606</td>\n",
              "      <td id=\"T_1ab8f_row0_col2\" class=\"data row0 col2\" >0.8750</td>\n",
              "      <td id=\"T_1ab8f_row0_col3\" class=\"data row0 col3\" >0.7778</td>\n",
              "      <td id=\"T_1ab8f_row0_col4\" class=\"data row0 col4\" >0.8235</td>\n",
              "      <td id=\"T_1ab8f_row0_col5\" class=\"data row0 col5\" >0.7042</td>\n",
              "      <td id=\"T_1ab8f_row0_col6\" class=\"data row0 col6\" >0.7077</td>\n",
              "    </tr>\n",
              "    <tr>\n",
              "      <th id=\"T_1ab8f_level0_row1\" class=\"row_heading level0 row1\" >1</th>\n",
              "      <td id=\"T_1ab8f_row1_col0\" class=\"data row1 col0\" >0.9048</td>\n",
              "      <td id=\"T_1ab8f_row1_col1\" class=\"data row1 col1\" >0.9231</td>\n",
              "      <td id=\"T_1ab8f_row1_col2\" class=\"data row1 col2\" >1.0000</td>\n",
              "      <td id=\"T_1ab8f_row1_col3\" class=\"data row1 col3\" >0.8000</td>\n",
              "      <td id=\"T_1ab8f_row1_col4\" class=\"data row1 col4\" >0.8889</td>\n",
              "      <td id=\"T_1ab8f_row1_col5\" class=\"data row1 col5\" >0.8073</td>\n",
              "      <td id=\"T_1ab8f_row1_col6\" class=\"data row1 col6\" >0.8228</td>\n",
              "    </tr>\n",
              "    <tr>\n",
              "      <th id=\"T_1ab8f_level0_row2\" class=\"row_heading level0 row2\" >2</th>\n",
              "      <td id=\"T_1ab8f_row2_col0\" class=\"data row2 col0\" >0.8095</td>\n",
              "      <td id=\"T_1ab8f_row2_col1\" class=\"data row2 col1\" >0.7981</td>\n",
              "      <td id=\"T_1ab8f_row2_col2\" class=\"data row2 col2\" >0.7500</td>\n",
              "      <td id=\"T_1ab8f_row2_col3\" class=\"data row2 col3\" >0.7500</td>\n",
              "      <td id=\"T_1ab8f_row2_col4\" class=\"data row2 col4\" >0.7500</td>\n",
              "      <td id=\"T_1ab8f_row2_col5\" class=\"data row2 col5\" >0.5962</td>\n",
              "      <td id=\"T_1ab8f_row2_col6\" class=\"data row2 col6\" >0.5962</td>\n",
              "    </tr>\n",
              "    <tr>\n",
              "      <th id=\"T_1ab8f_level0_row3\" class=\"row_heading level0 row3\" >3</th>\n",
              "      <td id=\"T_1ab8f_row3_col0\" class=\"data row3 col0\" >0.9524</td>\n",
              "      <td id=\"T_1ab8f_row3_col1\" class=\"data row3 col1\" >0.9615</td>\n",
              "      <td id=\"T_1ab8f_row3_col2\" class=\"data row3 col2\" >1.0000</td>\n",
              "      <td id=\"T_1ab8f_row3_col3\" class=\"data row3 col3\" >0.8889</td>\n",
              "      <td id=\"T_1ab8f_row3_col4\" class=\"data row3 col4\" >0.9412</td>\n",
              "      <td id=\"T_1ab8f_row3_col5\" class=\"data row3 col5\" >0.9014</td>\n",
              "      <td id=\"T_1ab8f_row3_col6\" class=\"data row3 col6\" >0.9058</td>\n",
              "    </tr>\n",
              "    <tr>\n",
              "      <th id=\"T_1ab8f_level0_row4\" class=\"row_heading level0 row4\" >4</th>\n",
              "      <td id=\"T_1ab8f_row4_col0\" class=\"data row4 col0\" >0.9048</td>\n",
              "      <td id=\"T_1ab8f_row4_col1\" class=\"data row4 col1\" >0.8990</td>\n",
              "      <td id=\"T_1ab8f_row4_col2\" class=\"data row4 col2\" >0.8750</td>\n",
              "      <td id=\"T_1ab8f_row4_col3\" class=\"data row4 col3\" >0.8750</td>\n",
              "      <td id=\"T_1ab8f_row4_col4\" class=\"data row4 col4\" >0.8750</td>\n",
              "      <td id=\"T_1ab8f_row4_col5\" class=\"data row4 col5\" >0.7981</td>\n",
              "      <td id=\"T_1ab8f_row4_col6\" class=\"data row4 col6\" >0.7981</td>\n",
              "    </tr>\n",
              "    <tr>\n",
              "      <th id=\"T_1ab8f_level0_row5\" class=\"row_heading level0 row5\" >5</th>\n",
              "      <td id=\"T_1ab8f_row5_col0\" class=\"data row5 col0\" >0.9524</td>\n",
              "      <td id=\"T_1ab8f_row5_col1\" class=\"data row5 col1\" >0.9615</td>\n",
              "      <td id=\"T_1ab8f_row5_col2\" class=\"data row5 col2\" >1.0000</td>\n",
              "      <td id=\"T_1ab8f_row5_col3\" class=\"data row5 col3\" >0.8889</td>\n",
              "      <td id=\"T_1ab8f_row5_col4\" class=\"data row5 col4\" >0.9412</td>\n",
              "      <td id=\"T_1ab8f_row5_col5\" class=\"data row5 col5\" >0.9014</td>\n",
              "      <td id=\"T_1ab8f_row5_col6\" class=\"data row5 col6\" >0.9058</td>\n",
              "    </tr>\n",
              "    <tr>\n",
              "      <th id=\"T_1ab8f_level0_row6\" class=\"row_heading level0 row6\" >6</th>\n",
              "      <td id=\"T_1ab8f_row6_col0\" class=\"data row6 col0\" >0.9048</td>\n",
              "      <td id=\"T_1ab8f_row6_col1\" class=\"data row6 col1\" >0.8990</td>\n",
              "      <td id=\"T_1ab8f_row6_col2\" class=\"data row6 col2\" >0.8750</td>\n",
              "      <td id=\"T_1ab8f_row6_col3\" class=\"data row6 col3\" >0.8750</td>\n",
              "      <td id=\"T_1ab8f_row6_col4\" class=\"data row6 col4\" >0.8750</td>\n",
              "      <td id=\"T_1ab8f_row6_col5\" class=\"data row6 col5\" >0.7981</td>\n",
              "      <td id=\"T_1ab8f_row6_col6\" class=\"data row6 col6\" >0.7981</td>\n",
              "    </tr>\n",
              "    <tr>\n",
              "      <th id=\"T_1ab8f_level0_row7\" class=\"row_heading level0 row7\" >7</th>\n",
              "      <td id=\"T_1ab8f_row7_col0\" class=\"data row7 col0\" >0.8095</td>\n",
              "      <td id=\"T_1ab8f_row7_col1\" class=\"data row7 col1\" >0.7740</td>\n",
              "      <td id=\"T_1ab8f_row7_col2\" class=\"data row7 col2\" >0.6250</td>\n",
              "      <td id=\"T_1ab8f_row7_col3\" class=\"data row7 col3\" >0.8333</td>\n",
              "      <td id=\"T_1ab8f_row7_col4\" class=\"data row7 col4\" >0.7143</td>\n",
              "      <td id=\"T_1ab8f_row7_col5\" class=\"data row7 col5\" >0.5758</td>\n",
              "      <td id=\"T_1ab8f_row7_col6\" class=\"data row7 col6\" >0.5892</td>\n",
              "    </tr>\n",
              "    <tr>\n",
              "      <th id=\"T_1ab8f_level0_row8\" class=\"row_heading level0 row8\" >8</th>\n",
              "      <td id=\"T_1ab8f_row8_col0\" class=\"data row8 col0\" >0.7143</td>\n",
              "      <td id=\"T_1ab8f_row8_col1\" class=\"data row8 col1\" >0.6731</td>\n",
              "      <td id=\"T_1ab8f_row8_col2\" class=\"data row8 col2\" >0.5000</td>\n",
              "      <td id=\"T_1ab8f_row8_col3\" class=\"data row8 col3\" >0.6667</td>\n",
              "      <td id=\"T_1ab8f_row8_col4\" class=\"data row8 col4\" >0.5714</td>\n",
              "      <td id=\"T_1ab8f_row8_col5\" class=\"data row8 col5\" >0.3636</td>\n",
              "      <td id=\"T_1ab8f_row8_col6\" class=\"data row8 col6\" >0.3721</td>\n",
              "    </tr>\n",
              "    <tr>\n",
              "      <th id=\"T_1ab8f_level0_row9\" class=\"row_heading level0 row9\" >9</th>\n",
              "      <td id=\"T_1ab8f_row9_col0\" class=\"data row9 col0\" >0.8000</td>\n",
              "      <td id=\"T_1ab8f_row9_col1\" class=\"data row9 col1\" >0.8132</td>\n",
              "      <td id=\"T_1ab8f_row9_col2\" class=\"data row9 col2\" >0.8571</td>\n",
              "      <td id=\"T_1ab8f_row9_col3\" class=\"data row9 col3\" >0.6667</td>\n",
              "      <td id=\"T_1ab8f_row9_col4\" class=\"data row9 col4\" >0.7500</td>\n",
              "      <td id=\"T_1ab8f_row9_col5\" class=\"data row9 col5\" >0.5876</td>\n",
              "      <td id=\"T_1ab8f_row9_col6\" class=\"data row9 col6\" >0.6005</td>\n",
              "    </tr>\n",
              "    <tr>\n",
              "      <th id=\"T_1ab8f_level0_row10\" class=\"row_heading level0 row10\" >Mean</th>\n",
              "      <td id=\"T_1ab8f_row10_col0\" class=\"data row10 col0\" >0.8610</td>\n",
              "      <td id=\"T_1ab8f_row10_col1\" class=\"data row10 col1\" >0.8563</td>\n",
              "      <td id=\"T_1ab8f_row10_col2\" class=\"data row10 col2\" >0.8357</td>\n",
              "      <td id=\"T_1ab8f_row10_col3\" class=\"data row10 col3\" >0.8022</td>\n",
              "      <td id=\"T_1ab8f_row10_col4\" class=\"data row10 col4\" >0.8130</td>\n",
              "      <td id=\"T_1ab8f_row10_col5\" class=\"data row10 col5\" >0.7034</td>\n",
              "      <td id=\"T_1ab8f_row10_col6\" class=\"data row10 col6\" >0.7096</td>\n",
              "    </tr>\n",
              "    <tr>\n",
              "      <th id=\"T_1ab8f_level0_row11\" class=\"row_heading level0 row11\" >Std</th>\n",
              "      <td id=\"T_1ab8f_row11_col0\" class=\"data row11 col0\" >0.0728</td>\n",
              "      <td id=\"T_1ab8f_row11_col1\" class=\"data row11 col1\" >0.0871</td>\n",
              "      <td id=\"T_1ab8f_row11_col2\" class=\"data row11 col2\" >0.1583</td>\n",
              "      <td id=\"T_1ab8f_row11_col3\" class=\"data row11 col3\" >0.0816</td>\n",
              "      <td id=\"T_1ab8f_row11_col4\" class=\"data row11 col4\" >0.1107</td>\n",
              "      <td id=\"T_1ab8f_row11_col5\" class=\"data row11 col5\" >0.1624</td>\n",
              "      <td id=\"T_1ab8f_row11_col6\" class=\"data row11 col6\" >0.1608</td>\n",
              "    </tr>\n",
              "  </tbody>\n",
              "</table>\n"
            ]
          },
          "metadata": {}
        },
        {
          "output_type": "display_data",
          "data": {
            "text/plain": [
              "Processing:   0%|          | 0/4 [00:00<?, ?it/s]"
            ],
            "application/vnd.jupyter.widget-view+json": {
              "version_major": 2,
              "version_minor": 0,
              "model_id": "a92c85ea60bb49a9911a086ca6c363d5"
            }
          },
          "metadata": {
            "application/vnd.jupyter.widget-view+json": {
              "colab": {
                "custom_widget_manager": {
                  "url": "https://ssl.gstatic.com/colaboratory-static/widgets/colab-cdn-widget-manager/d2e234f7cc04bf79/manager.min.js"
                }
              }
            }
          }
        },
        {
          "output_type": "display_data",
          "data": {
            "text/plain": [
              "<IPython.core.display.HTML object>"
            ],
            "text/html": []
          },
          "metadata": {}
        },
        {
          "output_type": "stream",
          "name": "stdout",
          "text": [
            "DecisionTreeClassifier(ccp_alpha=0.0, class_weight=None, criterion='gini',\n",
            "                       max_depth=None, max_features=None, max_leaf_nodes=None,\n",
            "                       min_impurity_decrease=0.0, min_samples_leaf=1,\n",
            "                       min_samples_split=2, min_weight_fraction_leaf=0.0,\n",
            "                       random_state=123, splitter='best')\n"
          ]
        }
      ]
    },
    {
      "cell_type": "markdown",
      "source": [
        "# **Optimizando el Modelo**"
      ],
      "metadata": {
        "id": "3MxqlsAx2aTP"
      },
      "id": "3MxqlsAx2aTP"
    },
    {
      "cell_type": "code",
      "source": [
        "optimizar_dt = tune_model(dt)\n",
        "print(optimizar_dt)"
      ],
      "metadata": {
        "colab": {
          "base_uri": "https://localhost:8080/",
          "height": 608,
          "referenced_widgets": [
            "cab2327f095546e9ab9ddc023b7c5999",
            "7bd8a425acf64035839e114b1cee558a",
            "3122572637ee47e58d8a3b213d3aecc4",
            "96e39d30960f46029181fec9b6468c88",
            "b205f5000aff440da482a3c8b7dde17b",
            "c31f079a97744139a184dcf6dc18cd5b",
            "3f003e0865d34ef89fd2fe646e97af7f",
            "d394a2316faa4e7a8620cd40dd24a4c3",
            "f07b3415d9e64bb0af2a48813ee6821d",
            "6b187f048c0b42628a3f3a94c1de9fb0",
            "02765d7aa28f4807ab7bffafdb3fc1cd"
          ]
        },
        "id": "H0OV-EJ-2cvu",
        "outputId": "d43a1d72-8b57-4a9c-853c-d8c0a2250a96"
      },
      "id": "H0OV-EJ-2cvu",
      "execution_count": 24,
      "outputs": [
        {
          "output_type": "display_data",
          "data": {
            "text/plain": [
              "<IPython.core.display.HTML object>"
            ],
            "text/html": []
          },
          "metadata": {}
        },
        {
          "output_type": "display_data",
          "data": {
            "text/plain": [
              "<pandas.io.formats.style.Styler at 0x7fe77213b610>"
            ],
            "text/html": [
              "<style type=\"text/css\">\n",
              "#T_42098_row10_col0, #T_42098_row10_col1, #T_42098_row10_col2, #T_42098_row10_col3, #T_42098_row10_col4, #T_42098_row10_col5, #T_42098_row10_col6 {\n",
              "  background: yellow;\n",
              "}\n",
              "</style>\n",
              "<table id=\"T_42098_\" class=\"dataframe\">\n",
              "  <thead>\n",
              "    <tr>\n",
              "      <th class=\"blank level0\" >&nbsp;</th>\n",
              "      <th class=\"col_heading level0 col0\" >Accuracy</th>\n",
              "      <th class=\"col_heading level0 col1\" >AUC</th>\n",
              "      <th class=\"col_heading level0 col2\" >Recall</th>\n",
              "      <th class=\"col_heading level0 col3\" >Prec.</th>\n",
              "      <th class=\"col_heading level0 col4\" >F1</th>\n",
              "      <th class=\"col_heading level0 col5\" >Kappa</th>\n",
              "      <th class=\"col_heading level0 col6\" >MCC</th>\n",
              "    </tr>\n",
              "    <tr>\n",
              "      <th class=\"index_name level0\" >Fold</th>\n",
              "      <th class=\"blank col0\" >&nbsp;</th>\n",
              "      <th class=\"blank col1\" >&nbsp;</th>\n",
              "      <th class=\"blank col2\" >&nbsp;</th>\n",
              "      <th class=\"blank col3\" >&nbsp;</th>\n",
              "      <th class=\"blank col4\" >&nbsp;</th>\n",
              "      <th class=\"blank col5\" >&nbsp;</th>\n",
              "      <th class=\"blank col6\" >&nbsp;</th>\n",
              "    </tr>\n",
              "  </thead>\n",
              "  <tbody>\n",
              "    <tr>\n",
              "      <th id=\"T_42098_level0_row0\" class=\"row_heading level0 row0\" >0</th>\n",
              "      <td id=\"T_42098_row0_col0\" class=\"data row0 col0\" >0.9048</td>\n",
              "      <td id=\"T_42098_row0_col1\" class=\"data row0 col1\" >0.9327</td>\n",
              "      <td id=\"T_42098_row0_col2\" class=\"data row0 col2\" >0.8750</td>\n",
              "      <td id=\"T_42098_row0_col3\" class=\"data row0 col3\" >0.8750</td>\n",
              "      <td id=\"T_42098_row0_col4\" class=\"data row0 col4\" >0.8750</td>\n",
              "      <td id=\"T_42098_row0_col5\" class=\"data row0 col5\" >0.7981</td>\n",
              "      <td id=\"T_42098_row0_col6\" class=\"data row0 col6\" >0.7981</td>\n",
              "    </tr>\n",
              "    <tr>\n",
              "      <th id=\"T_42098_level0_row1\" class=\"row_heading level0 row1\" >1</th>\n",
              "      <td id=\"T_42098_row1_col0\" class=\"data row1 col0\" >0.8571</td>\n",
              "      <td id=\"T_42098_row1_col1\" class=\"data row1 col1\" >0.8846</td>\n",
              "      <td id=\"T_42098_row1_col2\" class=\"data row1 col2\" >1.0000</td>\n",
              "      <td id=\"T_42098_row1_col3\" class=\"data row1 col3\" >0.7273</td>\n",
              "      <td id=\"T_42098_row1_col4\" class=\"data row1 col4\" >0.8421</td>\n",
              "      <td id=\"T_42098_row1_col5\" class=\"data row1 col5\" >0.7175</td>\n",
              "      <td id=\"T_42098_row1_col6\" class=\"data row1 col6\" >0.7480</td>\n",
              "    </tr>\n",
              "    <tr>\n",
              "      <th id=\"T_42098_level0_row2\" class=\"row_heading level0 row2\" >2</th>\n",
              "      <td id=\"T_42098_row2_col0\" class=\"data row2 col0\" >0.8571</td>\n",
              "      <td id=\"T_42098_row2_col1\" class=\"data row2 col1\" >0.8510</td>\n",
              "      <td id=\"T_42098_row2_col2\" class=\"data row2 col2\" >0.8750</td>\n",
              "      <td id=\"T_42098_row2_col3\" class=\"data row2 col3\" >0.7778</td>\n",
              "      <td id=\"T_42098_row2_col4\" class=\"data row2 col4\" >0.8235</td>\n",
              "      <td id=\"T_42098_row2_col5\" class=\"data row2 col5\" >0.7042</td>\n",
              "      <td id=\"T_42098_row2_col6\" class=\"data row2 col6\" >0.7077</td>\n",
              "    </tr>\n",
              "    <tr>\n",
              "      <th id=\"T_42098_level0_row3\" class=\"row_heading level0 row3\" >3</th>\n",
              "      <td id=\"T_42098_row3_col0\" class=\"data row3 col0\" >0.9524</td>\n",
              "      <td id=\"T_42098_row3_col1\" class=\"data row3 col1\" >1.0000</td>\n",
              "      <td id=\"T_42098_row3_col2\" class=\"data row3 col2\" >1.0000</td>\n",
              "      <td id=\"T_42098_row3_col3\" class=\"data row3 col3\" >0.8889</td>\n",
              "      <td id=\"T_42098_row3_col4\" class=\"data row3 col4\" >0.9412</td>\n",
              "      <td id=\"T_42098_row3_col5\" class=\"data row3 col5\" >0.9014</td>\n",
              "      <td id=\"T_42098_row3_col6\" class=\"data row3 col6\" >0.9058</td>\n",
              "    </tr>\n",
              "    <tr>\n",
              "      <th id=\"T_42098_level0_row4\" class=\"row_heading level0 row4\" >4</th>\n",
              "      <td id=\"T_42098_row4_col0\" class=\"data row4 col0\" >0.9048</td>\n",
              "      <td id=\"T_42098_row4_col1\" class=\"data row4 col1\" >0.9327</td>\n",
              "      <td id=\"T_42098_row4_col2\" class=\"data row4 col2\" >0.8750</td>\n",
              "      <td id=\"T_42098_row4_col3\" class=\"data row4 col3\" >0.8750</td>\n",
              "      <td id=\"T_42098_row4_col4\" class=\"data row4 col4\" >0.8750</td>\n",
              "      <td id=\"T_42098_row4_col5\" class=\"data row4 col5\" >0.7981</td>\n",
              "      <td id=\"T_42098_row4_col6\" class=\"data row4 col6\" >0.7981</td>\n",
              "    </tr>\n",
              "    <tr>\n",
              "      <th id=\"T_42098_level0_row5\" class=\"row_heading level0 row5\" >5</th>\n",
              "      <td id=\"T_42098_row5_col0\" class=\"data row5 col0\" >1.0000</td>\n",
              "      <td id=\"T_42098_row5_col1\" class=\"data row5 col1\" >1.0000</td>\n",
              "      <td id=\"T_42098_row5_col2\" class=\"data row5 col2\" >1.0000</td>\n",
              "      <td id=\"T_42098_row5_col3\" class=\"data row5 col3\" >1.0000</td>\n",
              "      <td id=\"T_42098_row5_col4\" class=\"data row5 col4\" >1.0000</td>\n",
              "      <td id=\"T_42098_row5_col5\" class=\"data row5 col5\" >1.0000</td>\n",
              "      <td id=\"T_42098_row5_col6\" class=\"data row5 col6\" >1.0000</td>\n",
              "    </tr>\n",
              "    <tr>\n",
              "      <th id=\"T_42098_level0_row6\" class=\"row_heading level0 row6\" >6</th>\n",
              "      <td id=\"T_42098_row6_col0\" class=\"data row6 col0\" >0.9524</td>\n",
              "      <td id=\"T_42098_row6_col1\" class=\"data row6 col1\" >0.9808</td>\n",
              "      <td id=\"T_42098_row6_col2\" class=\"data row6 col2\" >0.8750</td>\n",
              "      <td id=\"T_42098_row6_col3\" class=\"data row6 col3\" >1.0000</td>\n",
              "      <td id=\"T_42098_row6_col4\" class=\"data row6 col4\" >0.9333</td>\n",
              "      <td id=\"T_42098_row6_col5\" class=\"data row6 col5\" >0.8966</td>\n",
              "      <td id=\"T_42098_row6_col6\" class=\"data row6 col6\" >0.9014</td>\n",
              "    </tr>\n",
              "    <tr>\n",
              "      <th id=\"T_42098_level0_row7\" class=\"row_heading level0 row7\" >7</th>\n",
              "      <td id=\"T_42098_row7_col0\" class=\"data row7 col0\" >0.8095</td>\n",
              "      <td id=\"T_42098_row7_col1\" class=\"data row7 col1\" >0.9423</td>\n",
              "      <td id=\"T_42098_row7_col2\" class=\"data row7 col2\" >0.8750</td>\n",
              "      <td id=\"T_42098_row7_col3\" class=\"data row7 col3\" >0.7000</td>\n",
              "      <td id=\"T_42098_row7_col4\" class=\"data row7 col4\" >0.7778</td>\n",
              "      <td id=\"T_42098_row7_col5\" class=\"data row7 col5\" >0.6147</td>\n",
              "      <td id=\"T_42098_row7_col6\" class=\"data row7 col6\" >0.6264</td>\n",
              "    </tr>\n",
              "    <tr>\n",
              "      <th id=\"T_42098_level0_row8\" class=\"row_heading level0 row8\" >8</th>\n",
              "      <td id=\"T_42098_row8_col0\" class=\"data row8 col0\" >0.8571</td>\n",
              "      <td id=\"T_42098_row8_col1\" class=\"data row8 col1\" >0.8029</td>\n",
              "      <td id=\"T_42098_row8_col2\" class=\"data row8 col2\" >0.7500</td>\n",
              "      <td id=\"T_42098_row8_col3\" class=\"data row8 col3\" >0.8571</td>\n",
              "      <td id=\"T_42098_row8_col4\" class=\"data row8 col4\" >0.8000</td>\n",
              "      <td id=\"T_42098_row8_col5\" class=\"data row8 col5\" >0.6897</td>\n",
              "      <td id=\"T_42098_row8_col6\" class=\"data row8 col6\" >0.6934</td>\n",
              "    </tr>\n",
              "    <tr>\n",
              "      <th id=\"T_42098_level0_row9\" class=\"row_heading level0 row9\" >9</th>\n",
              "      <td id=\"T_42098_row9_col0\" class=\"data row9 col0\" >0.8500</td>\n",
              "      <td id=\"T_42098_row9_col1\" class=\"data row9 col1\" >0.8352</td>\n",
              "      <td id=\"T_42098_row9_col2\" class=\"data row9 col2\" >0.8571</td>\n",
              "      <td id=\"T_42098_row9_col3\" class=\"data row9 col3\" >0.7500</td>\n",
              "      <td id=\"T_42098_row9_col4\" class=\"data row9 col4\" >0.8000</td>\n",
              "      <td id=\"T_42098_row9_col5\" class=\"data row9 col5\" >0.6809</td>\n",
              "      <td id=\"T_42098_row9_col6\" class=\"data row9 col6\" >0.6847</td>\n",
              "    </tr>\n",
              "    <tr>\n",
              "      <th id=\"T_42098_level0_row10\" class=\"row_heading level0 row10\" >Mean</th>\n",
              "      <td id=\"T_42098_row10_col0\" class=\"data row10 col0\" >0.8945</td>\n",
              "      <td id=\"T_42098_row10_col1\" class=\"data row10 col1\" >0.9162</td>\n",
              "      <td id=\"T_42098_row10_col2\" class=\"data row10 col2\" >0.8982</td>\n",
              "      <td id=\"T_42098_row10_col3\" class=\"data row10 col3\" >0.8451</td>\n",
              "      <td id=\"T_42098_row10_col4\" class=\"data row10 col4\" >0.8668</td>\n",
              "      <td id=\"T_42098_row10_col5\" class=\"data row10 col5\" >0.7801</td>\n",
              "      <td id=\"T_42098_row10_col6\" class=\"data row10 col6\" >0.7864</td>\n",
              "    </tr>\n",
              "    <tr>\n",
              "      <th id=\"T_42098_level0_row11\" class=\"row_heading level0 row11\" >Std</th>\n",
              "      <td id=\"T_42098_row11_col0\" class=\"data row11 col0\" >0.0561</td>\n",
              "      <td id=\"T_42098_row11_col1\" class=\"data row11 col1\" >0.0664</td>\n",
              "      <td id=\"T_42098_row11_col2\" class=\"data row11 col2\" >0.0758</td>\n",
              "      <td id=\"T_42098_row11_col3\" class=\"data row11 col3\" >0.1002</td>\n",
              "      <td id=\"T_42098_row11_col4\" class=\"data row11 col4\" >0.0687</td>\n",
              "      <td id=\"T_42098_row11_col5\" class=\"data row11 col5\" >0.1150</td>\n",
              "      <td id=\"T_42098_row11_col6\" class=\"data row11 col6\" >0.1121</td>\n",
              "    </tr>\n",
              "  </tbody>\n",
              "</table>\n"
            ]
          },
          "metadata": {}
        },
        {
          "output_type": "display_data",
          "data": {
            "text/plain": [
              "Processing:   0%|          | 0/7 [00:00<?, ?it/s]"
            ],
            "application/vnd.jupyter.widget-view+json": {
              "version_major": 2,
              "version_minor": 0,
              "model_id": "cab2327f095546e9ab9ddc023b7c5999"
            }
          },
          "metadata": {
            "application/vnd.jupyter.widget-view+json": {
              "colab": {
                "custom_widget_manager": {
                  "url": "https://ssl.gstatic.com/colaboratory-static/widgets/colab-cdn-widget-manager/d2e234f7cc04bf79/manager.min.js"
                }
              }
            }
          }
        },
        {
          "output_type": "stream",
          "name": "stdout",
          "text": [
            "Fitting 10 folds for each of 10 candidates, totalling 100 fits\n"
          ]
        },
        {
          "output_type": "display_data",
          "data": {
            "text/plain": [
              "<IPython.core.display.HTML object>"
            ],
            "text/html": []
          },
          "metadata": {}
        },
        {
          "output_type": "stream",
          "name": "stdout",
          "text": [
            "Original model was better than the tuned model, hence it will be returned. NOTE: The display metrics are for the tuned model (not the original one).\n",
            "Original model was better than the tuned model, hence it will be returned. NOTE: The display metrics are for the tuned model (not the original one).\n",
            "DecisionTreeClassifier(ccp_alpha=0.0, class_weight=None, criterion='entropy',\n",
            "                       max_depth=6, max_features=1.0, max_leaf_nodes=None,\n",
            "                       min_impurity_decrease=0.002, min_samples_leaf=5,\n",
            "                       min_samples_split=5, min_weight_fraction_leaf=0.0,\n",
            "                       random_state=123, splitter='best')\n"
          ]
        }
      ]
    },
    {
      "cell_type": "markdown",
      "source": [
        "De forma predeterminada, tune_model( ) optimiza la precisión, pero esto se puede cambiar usando el parámetro de optimización. \n",
        "\n",
        "***Por ejemplo: tune_model (dt, optimizar = 'AUC') buscará los hiperparámetros de un clasificador de árbol de decisión que resulte en el AUC más alto en lugar de Precisión.*** \n",
        "\n",
        "Para los propósitos de este ejemplo, se ha utilizado la métrica predeterminada  solo por simplicidad. Generalmente, cuando el conjunto de datos está desequilibrado, la precisión no es una buena métrica para considerar."
      ],
      "metadata": {
        "id": "8jauDfk82iw2"
      },
      "id": "8jauDfk82iw2"
    },
    {
      "cell_type": "markdown",
      "source": [
        "# **Visualización del Modelo**"
      ],
      "metadata": {
        "id": "fpD6_h7a2sR8"
      },
      "id": "fpD6_h7a2sR8"
    },
    {
      "cell_type": "code",
      "source": [
        "plot_model(optimizar_dt, plot = 'auc')"
      ],
      "metadata": {
        "colab": {
          "base_uri": "https://localhost:8080/",
          "height": 294
        },
        "id": "F5wP01Df2un1",
        "outputId": "3efc7f59-731e-47be-851e-b5b051666790"
      },
      "id": "F5wP01Df2un1",
      "execution_count": 25,
      "outputs": [
        {
          "output_type": "display_data",
          "data": {
            "text/plain": [
              "<IPython.core.display.HTML object>"
            ],
            "text/html": []
          },
          "metadata": {}
        },
        {
          "output_type": "display_data",
          "data": {
            "text/plain": [
              "<Figure size 432x288 with 1 Axes>"
            ],
            "image/png": "[encoded data removed]"
          },
          "metadata": {
            "needs_background": "light"
          }
        }
      ]
    },
    {
      "cell_type": "code",
      "source": [
        "plot_model(optimizar_dt, plot = 'pr')"
      ],
      "metadata": {
        "colab": {
          "base_uri": "https://localhost:8080/",
          "height": 294
        },
        "id": "T2c1STwQ22cY",
        "outputId": "a6600791-dad8-4f97-8dcb-c165a198f5c1"
      },
      "id": "T2c1STwQ22cY",
      "execution_count": 26,
      "outputs": [
        {
          "output_type": "display_data",
          "data": {
            "text/plain": [
              "<IPython.core.display.HTML object>"
            ],
            "text/html": []
          },
          "metadata": {}
        },
        {
          "output_type": "display_data",
          "data": {
            "text/plain": [
              "<Figure size 432x288 with 1 Axes>"
            ],
            "image/png": "[encoded data removed]"
          },
          "metadata": {
            "needs_background": "light"
          }
        }
      ]
    },
    {
      "cell_type": "code",
      "source": [
        "plot_model(optimizar_dt, plot = 'confusion_matrix')"
      ],
      "metadata": {
        "colab": {
          "base_uri": "https://localhost:8080/",
          "height": 297
        },
        "id": "ELTEhmdX28cw",
        "outputId": "0c598ca2-3994-46d9-a9dd-44b10af8d2da"
      },
      "id": "ELTEhmdX28cw",
      "execution_count": 27,
      "outputs": [
        {
          "output_type": "display_data",
          "data": {
            "text/plain": [
              "<IPython.core.display.HTML object>"
            ],
            "text/html": []
          },
          "metadata": {}
        },
        {
          "output_type": "display_data",
          "data": {
            "text/plain": [
              "<Figure size 432x288 with 1 Axes>"
            ],
            "image/png": "[encoded data removed]"
          },
          "metadata": {
            "needs_background": "light"
          }
        }
      ]
    },
    {
      "cell_type": "code",
      "source": [
        "plot_model(optimizar_dt, plot = 'tree')"
      ],
      "metadata": {
        "colab": {
          "base_uri": "https://localhost:8080/",
          "height": 775
        },
        "id": "tBK5bgtc3Hwq",
        "outputId": "073aa984-8738-41f2-db6d-cccb1f8c2d11"
      },
      "id": "tBK5bgtc3Hwq",
      "execution_count": 28,
      "outputs": [
        {
          "output_type": "display_data",
          "data": {
            "text/plain": [
              "<IPython.core.display.HTML object>"
            ],
            "text/html": []
          },
          "metadata": {}
        },
        {
          "output_type": "display_data",
          "data": {
            "text/plain": [
              "<Figure size 2000x1600 with 1 Axes>"
            ],
            "image/png": "[encoded data removed]"
          },
          "metadata": {
            "needs_background": "light"
          }
        }
      ]
    },
    {
      "cell_type": "markdown",
      "source": [
        "# **Evaluacion del Modelo**"
      ],
      "metadata": {
        "id": "hMQcrlaX3CN6"
      },
      "id": "hMQcrlaX3CN6"
    },
    {
      "cell_type": "code",
      "source": [
        "evaluate_model(optimizar_dt)"
      ],
      "metadata": {
        "colab": {
          "base_uri": "https://localhost:8080/",
          "height": 247,
          "referenced_widgets": [
            "e23541713b2a47afbf0f3c3d78ebd8c2",
            "0fc723fb93274a9e8106c80ceb10f030",
            "e4f189e7dc6d4837b13bdf80c59eee16",
            "4e7745f75a594e74b65c7b6eefcd9e6d",
            "508018e63b7546b28a2fe790cebf9986",
            "43c44bad96074aa38a1c53d930e21c05",
            "a05ba8e56f344ae99a29887126f795d3"
          ]
        },
        "id": "0Mg9jiap3AOR",
        "outputId": "f5a860db-3913-40d6-9292-76f03ed14efe"
      },
      "id": "0Mg9jiap3AOR",
      "execution_count": 29,
      "outputs": [
        {
          "output_type": "display_data",
          "data": {
            "text/plain": [
              "interactive(children=(ToggleButtons(description='Plot Type:', icons=('',), options=(('Pipeline Plot', 'pipelin…"
            ],
            "application/vnd.jupyter.widget-view+json": {
              "version_major": 2,
              "version_minor": 0,
              "model_id": "e23541713b2a47afbf0f3c3d78ebd8c2"
            }
          },
          "metadata": {
            "application/vnd.jupyter.widget-view+json": {
              "colab": {
                "custom_widget_manager": {
                  "url": "https://ssl.gstatic.com/colaboratory-static/widgets/colab-cdn-widget-manager/d2e234f7cc04bf79/manager.min.js"
                }
              }
            }
          }
        }
      ]
    },
    {
      "cell_type": "markdown",
      "source": [
        "# **Predicción sobre datos de prueba**"
      ],
      "metadata": {
        "id": "-VeDRsHm3VVw"
      },
      "id": "-VeDRsHm3VVw"
    },
    {
      "cell_type": "code",
      "source": [
        "predict_model(optimizar_dt)"
      ],
      "metadata": {
        "colab": {
          "base_uri": "https://localhost:8080/",
          "height": 482
        },
        "id": "kGdNhpjb3Xww",
        "outputId": "b34f3993-294a-4e61-90e2-46b7864848eb"
      },
      "id": "kGdNhpjb3Xww",
      "execution_count": 30,
      "outputs": [
        {
          "output_type": "display_data",
          "data": {
            "text/plain": [
              "<pandas.io.formats.style.Styler at 0x7fe76f068c50>"
            ],
            "text/html": [
              "<style type=\"text/css\">\n",
              "</style>\n",
              "<table id=\"T_ead7b_\" class=\"dataframe\">\n",
              "  <thead>\n",
              "    <tr>\n",
              "      <th class=\"blank level0\" >&nbsp;</th>\n",
              "      <th class=\"col_heading level0 col0\" >Model</th>\n",
              "      <th class=\"col_heading level0 col1\" >Accuracy</th>\n",
              "      <th class=\"col_heading level0 col2\" >AUC</th>\n",
              "      <th class=\"col_heading level0 col3\" >Recall</th>\n",
              "      <th class=\"col_heading level0 col4\" >Prec.</th>\n",
              "      <th class=\"col_heading level0 col5\" >F1</th>\n",
              "      <th class=\"col_heading level0 col6\" >Kappa</th>\n",
              "      <th class=\"col_heading level0 col7\" >MCC</th>\n",
              "    </tr>\n",
              "  </thead>\n",
              "  <tbody>\n",
              "    <tr>\n",
              "      <th id=\"T_ead7b_level0_row0\" class=\"row_heading level0 row0\" >0</th>\n",
              "      <td id=\"T_ead7b_row0_col0\" class=\"data row0 col0\" >Decision Tree Classifier</td>\n",
              "      <td id=\"T_ead7b_row0_col1\" class=\"data row0 col1\" >0.8901</td>\n",
              "      <td id=\"T_ead7b_row0_col2\" class=\"data row0 col2\" >0.9416</td>\n",
              "      <td id=\"T_ead7b_row0_col3\" class=\"data row0 col3\" >0</td>\n",
              "      <td id=\"T_ead7b_row0_col4\" class=\"data row0 col4\" >0</td>\n",
              "      <td id=\"T_ead7b_row0_col5\" class=\"data row0 col5\" >0</td>\n",
              "      <td id=\"T_ead7b_row0_col6\" class=\"data row0 col6\" >0.7703</td>\n",
              "      <td id=\"T_ead7b_row0_col7\" class=\"data row0 col7\" >0.7711</td>\n",
              "    </tr>\n",
              "  </tbody>\n",
              "</table>\n"
            ]
          },
          "metadata": {}
        },
        {
          "output_type": "execute_result",
          "data": {
            "text/plain": [
              "     Trabajo  Edad   Salario Compra Label   Score\n",
              "209      0.0  32.0  135000.0     Si    Si  1.0000\n",
              "210      0.0  20.0   82000.0     No    No  1.0000\n",
              "211      0.0  37.0   78000.0     Si    No  0.8462\n",
              "212      0.0  38.0   50000.0     No    No  1.0000\n",
              "213      0.0  28.0   44000.0     No    No  1.0000\n",
              "..       ...   ...       ...    ...   ...     ...\n",
              "295      1.0  54.0   70000.0     Si    Si  1.0000\n",
              "296      0.0  27.0   17000.0     No    No  1.0000\n",
              "297      0.0  39.0   59000.0     No    No  1.0000\n",
              "298      1.0  41.0   87000.0     Si    No  0.5000\n",
              "299      0.0  48.0   29000.0     Si    Si  0.8000\n",
              "\n",
              "[91 rows x 6 columns]"
            ],
            "text/html": [
              "\n",
              "  <div id=\"df-d941f9cb-3005-4418-89f1-1d2e0c79b805\">\n",
              "    <div class=\"colab-df-container\">\n",
              "      <div>\n",
              "<style scoped>\n",
              "    .dataframe tbody tr th:only-of-type {\n",
              "        vertical-align: middle;\n",
              "    }\n",
              "\n",
              "    .dataframe tbody tr th {\n",
              "        vertical-align: top;\n",
              "    }\n",
              "\n",
              "    .dataframe thead th {\n",
              "        text-align: right;\n",
              "    }\n",
              "</style>\n",
              "<table border=\"1\" class=\"dataframe\">\n",
              "  <thead>\n",
              "    <tr style=\"text-align: right;\">\n",
              "      <th></th>\n",
              "      <th>Trabajo</th>\n",
              "      <th>Edad</th>\n",
              "      <th>Salario</th>\n",
              "      <th>Compra</th>\n",
              "      <th>Label</th>\n",
              "      <th>Score</th>\n",
              "    </tr>\n",
              "  </thead>\n",
              "  <tbody>\n",
              "    <tr>\n",
              "      <th>209</th>\n",
              "      <td>0.0</td>\n",
              "      <td>32.0</td>\n",
              "      <td>135000.0</td>\n",
              "      <td>Si</td>\n",
              "      <td>Si</td>\n",
              "      <td>1.0000</td>\n",
              "    </tr>\n",
              "    <tr>\n",
              "      <th>210</th>\n",
              "      <td>0.0</td>\n",
              "      <td>20.0</td>\n",
              "      <td>82000.0</td>\n",
              "      <td>No</td>\n",
              "      <td>No</td>\n",
              "      <td>1.0000</td>\n",
              "    </tr>\n",
              "    <tr>\n",
              "      <th>211</th>\n",
              "      <td>0.0</td>\n",
              "      <td>37.0</td>\n",
              "      <td>78000.0</td>\n",
              "      <td>Si</td>\n",
              "      <td>No</td>\n",
              "      <td>0.8462</td>\n",
              "    </tr>\n",
              "    <tr>\n",
              "      <th>212</th>\n",
              "      <td>0.0</td>\n",
              "      <td>38.0</td>\n",
              "      <td>50000.0</td>\n",
              "      <td>No</td>\n",
              "      <td>No</td>\n",
              "      <td>1.0000</td>\n",
              "    </tr>\n",
              "    <tr>\n",
              "      <th>213</th>\n",
              "      <td>0.0</td>\n",
              "      <td>28.0</td>\n",
              "      <td>44000.0</td>\n",
              "      <td>No</td>\n",
              "      <td>No</td>\n",
              "      <td>1.0000</td>\n",
              "    </tr>\n",
              "    <tr>\n",
              "      <th>...</th>\n",
              "      <td>...</td>\n",
              "      <td>...</td>\n",
              "      <td>...</td>\n",
              "      <td>...</td>\n",
              "      <td>...</td>\n",
              "      <td>...</td>\n",
              "    </tr>\n",
              "    <tr>\n",
              "      <th>295</th>\n",
              "      <td>1.0</td>\n",
              "      <td>54.0</td>\n",
              "      <td>70000.0</td>\n",
              "      <td>Si</td>\n",
              "      <td>Si</td>\n",
              "      <td>1.0000</td>\n",
              "    </tr>\n",
              "    <tr>\n",
              "      <th>296</th>\n",
              "      <td>0.0</td>\n",
              "      <td>27.0</td>\n",
              "      <td>17000.0</td>\n",
              "      <td>No</td>\n",
              "      <td>No</td>\n",
              "      <td>1.0000</td>\n",
              "    </tr>\n",
              "    <tr>\n",
              "      <th>297</th>\n",
              "      <td>0.0</td>\n",
              "      <td>39.0</td>\n",
              "      <td>59000.0</td>\n",
              "      <td>No</td>\n",
              "      <td>No</td>\n",
              "      <td>1.0000</td>\n",
              "    </tr>\n",
              "    <tr>\n",
              "      <th>298</th>\n",
              "      <td>1.0</td>\n",
              "      <td>41.0</td>\n",
              "      <td>87000.0</td>\n",
              "      <td>Si</td>\n",
              "      <td>No</td>\n",
              "      <td>0.5000</td>\n",
              "    </tr>\n",
              "    <tr>\n",
              "      <th>299</th>\n",
              "      <td>0.0</td>\n",
              "      <td>48.0</td>\n",
              "      <td>29000.0</td>\n",
              "      <td>Si</td>\n",
              "      <td>Si</td>\n",
              "      <td>0.8000</td>\n",
              "    </tr>\n",
              "  </tbody>\n",
              "</table>\n",
              "<p>91 rows × 6 columns</p>\n",
              "</div>\n",
              "      <button class=\"colab-df-convert\" onclick=\"convertToInteractive('df-d941f9cb-3005-4418-89f1-1d2e0c79b805')\"\n",
              "              title=\"Convert this dataframe to an interactive table.\"\n",
              "              style=\"display:none;\">\n",
              "        \n",
              "  <svg xmlns=\"http://www.w3.org/2000/svg\" height=\"24px\"viewBox=\"0 0 24 24\"\n",
              "       width=\"24px\">\n",
              "    <path d=\"M0 0h24v24H0V0z\" fill=\"none\"/>\n",
              "    <path d=\"M18.56 5.44l.94 2.06.94-2.06 2.06-.94-2.06-.94-.94-2.06-.94 2.06-2.06.94zm-11 1L8.5 8.5l.94-2.06 2.06-.94-2.06-.94L8.5 2.5l-.94 2.06-2.06.94zm10 10l.94 2.06.94-2.06 2.06-.94-2.06-.94-.94-2.06-.94 2.06-2.06.94z\"/><path d=\"M17.41 7.96l-1.37-1.37c-.4-.4-.92-.59-1.43-.59-.52 0-1.04.2-1.43.59L10.3 9.45l-7.72 7.72c-.78.78-.78 2.05 0 2.83L4 21.41c.39.39.9.59 1.41.59.51 0 1.02-.2 1.41-.59l7.78-7.78 2.81-2.81c.8-.78.8-2.07 0-2.86zM5.41 20L4 18.59l7.72-7.72 1.47 1.35L5.41 20z\"/>\n",
              "  </svg>\n",
              "      </button>\n",
              "      \n",
              "  <style>\n",
              "    .colab-df-container {\n",
              "      display:flex;\n",
              "      flex-wrap:wrap;\n",
              "      gap: 12px;\n",
              "    }\n",
              "\n",
              "    .colab-df-convert {\n",
              "      background-color: #E8F0FE;\n",
              "      border: none;\n",
              "      border-radius: 50%;\n",
              "      cursor: pointer;\n",
              "      display: none;\n",
              "      fill: #1967D2;\n",
              "      height: 32px;\n",
              "      padding: 0 0 0 0;\n",
              "      width: 32px;\n",
              "    }\n",
              "\n",
              "    .colab-df-convert:hover {\n",
              "      background-color: #E2EBFA;\n",
              "      box-shadow: 0px 1px 2px rgba(60, 64, 67, 0.3), 0px 1px 3px 1px rgba(60, 64, 67, 0.15);\n",
              "      fill: #174EA6;\n",
              "    }\n",
              "\n",
              "    [theme=dark] .colab-df-convert {\n",
              "      background-color: #3B4455;\n",
              "      fill: #D2E3FC;\n",
              "    }\n",
              "\n",
              "    [theme=dark] .colab-df-convert:hover {\n",
              "      background-color: #434B5C;\n",
              "      box-shadow: 0px 1px 3px 1px rgba(0, 0, 0, 0.15);\n",
              "      filter: drop-shadow(0px 1px 2px rgba(0, 0, 0, 0.3));\n",
              "      fill: #FFFFFF;\n",
              "    }\n",
              "  </style>\n",
              "\n",
              "      <script>\n",
              "        const buttonEl =\n",
              "          document.querySelector('#df-d941f9cb-3005-4418-89f1-1d2e0c79b805 button.colab-df-convert');\n",
              "        buttonEl.style.display =\n",
              "          google.colab.kernel.accessAllowed ? 'block' : 'none';\n",
              "\n",
              "        async function convertToInteractive(key) {\n",
              "          const element = document.querySelector('#df-d941f9cb-3005-4418-89f1-1d2e0c79b805');\n",
              "          const dataTable =\n",
              "            await google.colab.kernel.invokeFunction('convertToInteractive',\n",
              "                                                     [key], {});\n",
              "          if (!dataTable) return;\n",
              "\n",
              "          const docLinkHtml = 'Like what you see? Visit the ' +\n",
              "            '<a target=\"_blank\" href=https://colab.research.google.com/notebooks/data_table.ipynb>data table notebook</a>'\n",
              "            + ' to learn more about interactive tables.';\n",
              "          element.innerHTML = '';\n",
              "          dataTable['output_type'] = 'display_data';\n",
              "          await google.colab.output.renderOutput(dataTable, element);\n",
              "          const docLink = document.createElement('div');\n",
              "          docLink.innerHTML = docLinkHtml;\n",
              "          element.appendChild(docLink);\n",
              "        }\n",
              "      </script>\n",
              "    </div>\n",
              "  </div>\n",
              "  "
            ]
          },
          "metadata": {},
          "execution_count": 30
        }
      ]
    },
    {
      "cell_type": "markdown",
      "source": [
        "# **Finalizando el modelo para implementación**"
      ],
      "metadata": {
        "id": "gL_4DsGj3i5m"
      },
      "id": "gL_4DsGj3i5m"
    },
    {
      "cell_type": "code",
      "source": [
        "final_dt = finalize_model(optimizar_dt)\n",
        "print(final_dt)"
      ],
      "metadata": {
        "colab": {
          "base_uri": "https://localhost:8080/"
        },
        "id": "CUagbScI3mso",
        "outputId": "cc6fd586-af76-4122-adc5-3aadebfffd07"
      },
      "id": "CUagbScI3mso",
      "execution_count": 31,
      "outputs": [
        {
          "output_type": "stream",
          "name": "stdout",
          "text": [
            "DecisionTreeClassifier(ccp_alpha=0.0, class_weight=None, criterion='entropy',\n",
            "                       max_depth=6, max_features=1.0, max_leaf_nodes=None,\n",
            "                       min_impurity_decrease=0.002, min_samples_leaf=5,\n",
            "                       min_samples_split=5, min_weight_fraction_leaf=0.0,\n",
            "                       random_state=123, splitter='best')\n"
          ]
        }
      ]
    },
    {
      "cell_type": "code",
      "source": [
        "predict_model(final_dt);"
      ],
      "metadata": {
        "colab": {
          "base_uri": "https://localhost:8080/",
          "height": 80
        },
        "id": "XSn6zKoc3tqA",
        "outputId": "38154317-1624-431a-ebc5-11eedb3f4e36"
      },
      "id": "XSn6zKoc3tqA",
      "execution_count": 32,
      "outputs": [
        {
          "output_type": "display_data",
          "data": {
            "text/plain": [
              "<pandas.io.formats.style.Styler at 0x7fe8a964e750>"
            ],
            "text/html": [
              "<style type=\"text/css\">\n",
              "</style>\n",
              "<table id=\"T_cb679_\" class=\"dataframe\">\n",
              "  <thead>\n",
              "    <tr>\n",
              "      <th class=\"blank level0\" >&nbsp;</th>\n",
              "      <th class=\"col_heading level0 col0\" >Model</th>\n",
              "      <th class=\"col_heading level0 col1\" >Accuracy</th>\n",
              "      <th class=\"col_heading level0 col2\" >AUC</th>\n",
              "      <th class=\"col_heading level0 col3\" >Recall</th>\n",
              "      <th class=\"col_heading level0 col4\" >Prec.</th>\n",
              "      <th class=\"col_heading level0 col5\" >F1</th>\n",
              "      <th class=\"col_heading level0 col6\" >Kappa</th>\n",
              "      <th class=\"col_heading level0 col7\" >MCC</th>\n",
              "    </tr>\n",
              "  </thead>\n",
              "  <tbody>\n",
              "    <tr>\n",
              "      <th id=\"T_cb679_level0_row0\" class=\"row_heading level0 row0\" >0</th>\n",
              "      <td id=\"T_cb679_row0_col0\" class=\"data row0 col0\" >Decision Tree Classifier</td>\n",
              "      <td id=\"T_cb679_row0_col1\" class=\"data row0 col1\" >0.9231</td>\n",
              "      <td id=\"T_cb679_row0_col2\" class=\"data row0 col2\" >0.9844</td>\n",
              "      <td id=\"T_cb679_row0_col3\" class=\"data row0 col3\" >0</td>\n",
              "      <td id=\"T_cb679_row0_col4\" class=\"data row0 col4\" >0</td>\n",
              "      <td id=\"T_cb679_row0_col5\" class=\"data row0 col5\" >0</td>\n",
              "      <td id=\"T_cb679_row0_col6\" class=\"data row0 col6\" >0.8366</td>\n",
              "      <td id=\"T_cb679_row0_col7\" class=\"data row0 col7\" >0.8369</td>\n",
              "    </tr>\n",
              "  </tbody>\n",
              "</table>\n"
            ]
          },
          "metadata": {}
        }
      ]
    },
    {
      "cell_type": "markdown",
      "source": [
        "# **Predecir sobre datos no disponibles**"
      ],
      "metadata": {
        "id": "GyHjTijV3yFF"
      },
      "id": "GyHjTijV3yFF"
    },
    {
      "cell_type": "code",
      "source": [
        "clientes_no_vistos_prediccion = predict_model(final_dt, data=clientes_no_vistos)\n",
        "clientes_no_vistos_prediccion.head()"
      ],
      "metadata": {
        "colab": {
          "base_uri": "https://localhost:8080/",
          "height": 267
        },
        "id": "pE3S7UAM30mQ",
        "outputId": "ba1dd955-60cd-4ed0-ce76-9d90b448b665"
      },
      "id": "pE3S7UAM30mQ",
      "execution_count": 33,
      "outputs": [
        {
          "output_type": "display_data",
          "data": {
            "text/plain": [
              "<pandas.io.formats.style.Styler at 0x7fe892505c90>"
            ],
            "text/html": [
              "<style type=\"text/css\">\n",
              "</style>\n",
              "<table id=\"T_33325_\" class=\"dataframe\">\n",
              "  <thead>\n",
              "    <tr>\n",
              "      <th class=\"blank level0\" >&nbsp;</th>\n",
              "      <th class=\"col_heading level0 col0\" >Model</th>\n",
              "      <th class=\"col_heading level0 col1\" >Accuracy</th>\n",
              "      <th class=\"col_heading level0 col2\" >AUC</th>\n",
              "      <th class=\"col_heading level0 col3\" >Recall</th>\n",
              "      <th class=\"col_heading level0 col4\" >Prec.</th>\n",
              "      <th class=\"col_heading level0 col5\" >F1</th>\n",
              "      <th class=\"col_heading level0 col6\" >Kappa</th>\n",
              "      <th class=\"col_heading level0 col7\" >MCC</th>\n",
              "    </tr>\n",
              "  </thead>\n",
              "  <tbody>\n",
              "    <tr>\n",
              "      <th id=\"T_33325_level0_row0\" class=\"row_heading level0 row0\" >0</th>\n",
              "      <td id=\"T_33325_row0_col0\" class=\"data row0 col0\" >Decision Tree Classifier</td>\n",
              "      <td id=\"T_33325_row0_col1\" class=\"data row0 col1\" >0.9700</td>\n",
              "      <td id=\"T_33325_row0_col2\" class=\"data row0 col2\" >0.9738</td>\n",
              "      <td id=\"T_33325_row0_col3\" class=\"data row0 col3\" >0</td>\n",
              "      <td id=\"T_33325_row0_col4\" class=\"data row0 col4\" >0</td>\n",
              "      <td id=\"T_33325_row0_col5\" class=\"data row0 col5\" >0</td>\n",
              "      <td id=\"T_33325_row0_col6\" class=\"data row0 col6\" >0.9293</td>\n",
              "      <td id=\"T_33325_row0_col7\" class=\"data row0 col7\" >0.9316</td>\n",
              "    </tr>\n",
              "  </tbody>\n",
              "</table>\n"
            ]
          },
          "metadata": {}
        },
        {
          "output_type": "execute_result",
          "data": {
            "text/plain": [
              "   Trabajo  Edad   Salario Compra Label  Score\n",
              "0      0.0  35.0   65000.0     No    No    1.0\n",
              "1      1.0  47.0   20000.0     Si    Si    0.8\n",
              "2      1.0  29.0   43000.0     No    No    1.0\n",
              "3      0.0  27.0  137000.0     Si    Si    1.0\n",
              "4      0.0  21.0   16000.0     No    No    1.0"
            ],
            "text/html": [
              "\n",
              "  <div id=\"df-a0bc2e0c-e58b-4dd2-985b-715888094e23\">\n",
              "    <div class=\"colab-df-container\">\n",
              "      <div>\n",
              "<style scoped>\n",
              "    .dataframe tbody tr th:only-of-type {\n",
              "        vertical-align: middle;\n",
              "    }\n",
              "\n",
              "    .dataframe tbody tr th {\n",
              "        vertical-align: top;\n",
              "    }\n",
              "\n",
              "    .dataframe thead th {\n",
              "        text-align: right;\n",
              "    }\n",
              "</style>\n",
              "<table border=\"1\" class=\"dataframe\">\n",
              "  <thead>\n",
              "    <tr style=\"text-align: right;\">\n",
              "      <th></th>\n",
              "      <th>Trabajo</th>\n",
              "      <th>Edad</th>\n",
              "      <th>Salario</th>\n",
              "      <th>Compra</th>\n",
              "      <th>Label</th>\n",
              "      <th>Score</th>\n",
              "    </tr>\n",
              "  </thead>\n",
              "  <tbody>\n",
              "    <tr>\n",
              "      <th>0</th>\n",
              "      <td>0.0</td>\n",
              "      <td>35.0</td>\n",
              "      <td>65000.0</td>\n",
              "      <td>No</td>\n",
              "      <td>No</td>\n",
              "      <td>1.0</td>\n",
              "    </tr>\n",
              "    <tr>\n",
              "      <th>1</th>\n",
              "      <td>1.0</td>\n",
              "      <td>47.0</td>\n",
              "      <td>20000.0</td>\n",
              "      <td>Si</td>\n",
              "      <td>Si</td>\n",
              "      <td>0.8</td>\n",
              "    </tr>\n",
              "    <tr>\n",
              "      <th>2</th>\n",
              "      <td>1.0</td>\n",
              "      <td>29.0</td>\n",
              "      <td>43000.0</td>\n",
              "      <td>No</td>\n",
              "      <td>No</td>\n",
              "      <td>1.0</td>\n",
              "    </tr>\n",
              "    <tr>\n",
              "      <th>3</th>\n",
              "      <td>0.0</td>\n",
              "      <td>27.0</td>\n",
              "      <td>137000.0</td>\n",
              "      <td>Si</td>\n",
              "      <td>Si</td>\n",
              "      <td>1.0</td>\n",
              "    </tr>\n",
              "    <tr>\n",
              "      <th>4</th>\n",
              "      <td>0.0</td>\n",
              "      <td>21.0</td>\n",
              "      <td>16000.0</td>\n",
              "      <td>No</td>\n",
              "      <td>No</td>\n",
              "      <td>1.0</td>\n",
              "    </tr>\n",
              "  </tbody>\n",
              "</table>\n",
              "</div>\n",
              "      <button class=\"colab-df-convert\" onclick=\"convertToInteractive('df-a0bc2e0c-e58b-4dd2-985b-715888094e23')\"\n",
              "              title=\"Convert this dataframe to an interactive table.\"\n",
              "              style=\"display:none;\">\n",
              "        \n",
              "  <svg xmlns=\"http://www.w3.org/2000/svg\" height=\"24px\"viewBox=\"0 0 24 24\"\n",
              "       width=\"24px\">\n",
              "    <path d=\"M0 0h24v24H0V0z\" fill=\"none\"/>\n",
              "    <path d=\"M18.56 5.44l.94 2.06.94-2.06 2.06-.94-2.06-.94-.94-2.06-.94 2.06-2.06.94zm-11 1L8.5 8.5l.94-2.06 2.06-.94-2.06-.94L8.5 2.5l-.94 2.06-2.06.94zm10 10l.94 2.06.94-2.06 2.06-.94-2.06-.94-.94-2.06-.94 2.06-2.06.94z\"/><path d=\"M17.41 7.96l-1.37-1.37c-.4-.4-.92-.59-1.43-.59-.52 0-1.04.2-1.43.59L10.3 9.45l-7.72 7.72c-.78.78-.78 2.05 0 2.83L4 21.41c.39.39.9.59 1.41.59.51 0 1.02-.2 1.41-.59l7.78-7.78 2.81-2.81c.8-.78.8-2.07 0-2.86zM5.41 20L4 18.59l7.72-7.72 1.47 1.35L5.41 20z\"/>\n",
              "  </svg>\n",
              "      </button>\n",
              "      \n",
              "  <style>\n",
              "    .colab-df-container {\n",
              "      display:flex;\n",
              "      flex-wrap:wrap;\n",
              "      gap: 12px;\n",
              "    }\n",
              "\n",
              "    .colab-df-convert {\n",
              "      background-color: #E8F0FE;\n",
              "      border: none;\n",
              "      border-radius: 50%;\n",
              "      cursor: pointer;\n",
              "      display: none;\n",
              "      fill: #1967D2;\n",
              "      height: 32px;\n",
              "      padding: 0 0 0 0;\n",
              "      width: 32px;\n",
              "    }\n",
              "\n",
              "    .colab-df-convert:hover {\n",
              "      background-color: #E2EBFA;\n",
              "      box-shadow: 0px 1px 2px rgba(60, 64, 67, 0.3), 0px 1px 3px 1px rgba(60, 64, 67, 0.15);\n",
              "      fill: #174EA6;\n",
              "    }\n",
              "\n",
              "    [theme=dark] .colab-df-convert {\n",
              "      background-color: #3B4455;\n",
              "      fill: #D2E3FC;\n",
              "    }\n",
              "\n",
              "    [theme=dark] .colab-df-convert:hover {\n",
              "      background-color: #434B5C;\n",
              "      box-shadow: 0px 1px 3px 1px rgba(0, 0, 0, 0.15);\n",
              "      filter: drop-shadow(0px 1px 2px rgba(0, 0, 0, 0.3));\n",
              "      fill: #FFFFFF;\n",
              "    }\n",
              "  </style>\n",
              "\n",
              "      <script>\n",
              "        const buttonEl =\n",
              "          document.querySelector('#df-a0bc2e0c-e58b-4dd2-985b-715888094e23 button.colab-df-convert');\n",
              "        buttonEl.style.display =\n",
              "          google.colab.kernel.accessAllowed ? 'block' : 'none';\n",
              "\n",
              "        async function convertToInteractive(key) {\n",
              "          const element = document.querySelector('#df-a0bc2e0c-e58b-4dd2-985b-715888094e23');\n",
              "          const dataTable =\n",
              "            await google.colab.kernel.invokeFunction('convertToInteractive',\n",
              "                                                     [key], {});\n",
              "          if (!dataTable) return;\n",
              "\n",
              "          const docLinkHtml = 'Like what you see? Visit the ' +\n",
              "            '<a target=\"_blank\" href=https://colab.research.google.com/notebooks/data_table.ipynb>data table notebook</a>'\n",
              "            + ' to learn more about interactive tables.';\n",
              "          element.innerHTML = '';\n",
              "          dataTable['output_type'] = 'display_data';\n",
              "          await google.colab.output.renderOutput(dataTable, element);\n",
              "          const docLink = document.createElement('div');\n",
              "          docLink.innerHTML = docLinkHtml;\n",
              "          element.appendChild(docLink);\n",
              "        }\n",
              "      </script>\n",
              "    </div>\n",
              "  </div>\n",
              "  "
            ]
          },
          "metadata": {},
          "execution_count": 33
        }
      ]
    },
    {
      "cell_type": "code",
      "source": [
        "from pycaret.utils import check_metric\n",
        "check_metric(clientes_no_vistos_prediccion['Compra'], clientes_no_vistos_prediccion['Label'], metric = 'Accuracy')"
      ],
      "metadata": {
        "colab": {
          "base_uri": "https://localhost:8080/"
        },
        "id": "cf_2Apr136xD",
        "outputId": "c1ea88ce-24c8-4072-eeaa-a2e4826ef0fb"
      },
      "id": "cf_2Apr136xD",
      "execution_count": 34,
      "outputs": [
        {
          "output_type": "execute_result",
          "data": {
            "text/plain": [
              "0.97"
            ]
          },
          "metadata": {},
          "execution_count": 34
        }
      ]
    },
    {
      "cell_type": "markdown",
      "source": [
        "# **Guardando el modelo**"
      ],
      "metadata": {
        "id": "k7utDFrD4Da6"
      },
      "id": "k7utDFrD4Da6"
    },
    {
      "cell_type": "code",
      "source": [
        "from google.colab import drive\n",
        "drive.mount('/content/drive')"
      ],
      "metadata": {
        "colab": {
          "base_uri": "https://localhost:8080/"
        },
        "id": "zAZoKl9p4VFC",
        "outputId": "a36cf9ea-88b9-4b5c-b869-778f521f8cd6"
      },
      "id": "zAZoKl9p4VFC",
      "execution_count": 35,
      "outputs": [
        {
          "output_type": "stream",
          "name": "stdout",
          "text": [
            "Drive already mounted at /content/drive; to attempt to forcibly remount, call drive.mount(\"/content/drive\", force_remount=True).\n"
          ]
        }
      ]
    },
    {
      "cell_type": "code",
      "source": [
        "save_model(final_dt,\"/content/drive/MyDrive/Modelos/modelo_dt_PyCaret\")"
      ],
      "metadata": {
        "colab": {
          "base_uri": "https://localhost:8080/"
        },
        "id": "IJy77MQK4Clq",
        "outputId": "e86c4529-c42f-44e3-b6c1-a924674ac5f2"
      },
      "id": "IJy77MQK4Clq",
      "execution_count": 36,
      "outputs": [
        {
          "output_type": "stream",
          "name": "stdout",
          "text": [
            "Transformation Pipeline and Model Successfully Saved\n"
          ]
        },
        {
          "output_type": "execute_result",
          "data": {
            "text/plain": [
              "(Pipeline(memory=Memory(location=/tmp/joblib),\n",
              "          steps=[('label_encoding',\n",
              "                  TransformerWrapperWithInverse(exclude=None, include=None, transformer=LabelEncoder())),\n",
              "                 ('numerical_imputer',\n",
              "                  TransformerWrapper(exclude=None, include=['Trabajo', 'Edad', 'Salario'], transformer=SimpleImputer(add_indicator=False, copy=True, fill_value=None, missing_values=nan, strategy='mean...\n",
              "                  TransformerWrapper(exclude=None, include=[], transformer=SimpleImputer(add_indicator=False, copy=True, fill_value='constant', missing_values=nan, strategy='constant', verbose=0))),\n",
              "                 ['trained_model',\n",
              "                  DecisionTreeClassifier(ccp_alpha=0.0, class_weight=None,\n",
              "                                         criterion='entropy', max_depth=6,\n",
              "                                         max_features=1.0, max_leaf_nodes=None,\n",
              "                                         min_impurity_decrease=0.002,\n",
              "                                         min_samples_leaf=5, min_samples_split=5,\n",
              "                                         min_weight_fraction_leaf=0.0,\n",
              "                                         random_state=123, splitter='best')]],\n",
              "          verbose=False),\n",
              " '/content/drive/MyDrive/Modelos/modelo_dt_PyCaret.pkl')"
            ]
          },
          "metadata": {},
          "execution_count": 36
        }
      ]
    },
    {
      "cell_type": "markdown",
      "source": [
        "# **Accediendo al modelo guardado**"
      ],
      "metadata": {
        "id": "A3Liprru4g6z"
      },
      "id": "A3Liprru4g6z"
    },
    {
      "cell_type": "code",
      "source": [
        "saved_final_dt = load_model(\"/content/drive/MyDrive/Modelos/modelo_dt_PyCaret\")"
      ],
      "metadata": {
        "colab": {
          "base_uri": "https://localhost:8080/"
        },
        "id": "eNGV5PC74mI_",
        "outputId": "9266712b-1bc5-452e-e4ec-53bd0e9b81cd"
      },
      "id": "eNGV5PC74mI_",
      "execution_count": 37,
      "outputs": [
        {
          "output_type": "stream",
          "name": "stdout",
          "text": [
            "Transformation Pipeline and Model Successfully Loaded\n"
          ]
        }
      ]
    },
    {
      "cell_type": "code",
      "source": [
        "nueva_prediccion = predict_model(saved_final_dt, data=clientes_no_vistos)\n",
        "nueva_prediccion.head()"
      ],
      "metadata": {
        "colab": {
          "base_uri": "https://localhost:8080/",
          "height": 267
        },
        "id": "72b09z-Y4oDR",
        "outputId": "764ea530-d94c-4aa2-90c3-9788ee4c602b"
      },
      "id": "72b09z-Y4oDR",
      "execution_count": 38,
      "outputs": [
        {
          "output_type": "display_data",
          "data": {
            "text/plain": [
              "<pandas.io.formats.style.Styler at 0x7fe88046db10>"
            ],
            "text/html": [
              "<style type=\"text/css\">\n",
              "</style>\n",
              "<table id=\"T_af45d_\" class=\"dataframe\">\n",
              "  <thead>\n",
              "    <tr>\n",
              "      <th class=\"blank level0\" >&nbsp;</th>\n",
              "      <th class=\"col_heading level0 col0\" >Model</th>\n",
              "      <th class=\"col_heading level0 col1\" >Accuracy</th>\n",
              "      <th class=\"col_heading level0 col2\" >AUC</th>\n",
              "      <th class=\"col_heading level0 col3\" >Recall</th>\n",
              "      <th class=\"col_heading level0 col4\" >Prec.</th>\n",
              "      <th class=\"col_heading level0 col5\" >F1</th>\n",
              "      <th class=\"col_heading level0 col6\" >Kappa</th>\n",
              "      <th class=\"col_heading level0 col7\" >MCC</th>\n",
              "    </tr>\n",
              "  </thead>\n",
              "  <tbody>\n",
              "    <tr>\n",
              "      <th id=\"T_af45d_level0_row0\" class=\"row_heading level0 row0\" >0</th>\n",
              "      <td id=\"T_af45d_row0_col0\" class=\"data row0 col0\" >Decision Tree Classifier</td>\n",
              "      <td id=\"T_af45d_row0_col1\" class=\"data row0 col1\" >0.9700</td>\n",
              "      <td id=\"T_af45d_row0_col2\" class=\"data row0 col2\" >0.9738</td>\n",
              "      <td id=\"T_af45d_row0_col3\" class=\"data row0 col3\" >0</td>\n",
              "      <td id=\"T_af45d_row0_col4\" class=\"data row0 col4\" >0</td>\n",
              "      <td id=\"T_af45d_row0_col5\" class=\"data row0 col5\" >0</td>\n",
              "      <td id=\"T_af45d_row0_col6\" class=\"data row0 col6\" >0.9293</td>\n",
              "      <td id=\"T_af45d_row0_col7\" class=\"data row0 col7\" >0.9316</td>\n",
              "    </tr>\n",
              "  </tbody>\n",
              "</table>\n"
            ]
          },
          "metadata": {}
        },
        {
          "output_type": "execute_result",
          "data": {
            "text/plain": [
              "   Trabajo  Edad   Salario Compra Label  Score\n",
              "0      0.0  35.0   65000.0     No    No    1.0\n",
              "1      1.0  47.0   20000.0     Si    Si    0.8\n",
              "2      1.0  29.0   43000.0     No    No    1.0\n",
              "3      0.0  27.0  137000.0     Si    Si    1.0\n",
              "4      0.0  21.0   16000.0     No    No    1.0"
            ],
            "text/html": [
              "\n",
              "  <div id=\"df-b3909bce-6da9-4864-8c68-3ade4d80ed86\">\n",
              "    <div class=\"colab-df-container\">\n",
              "      <div>\n",
              "<style scoped>\n",
              "    .dataframe tbody tr th:only-of-type {\n",
              "        vertical-align: middle;\n",
              "    }\n",
              "\n",
              "    .dataframe tbody tr th {\n",
              "        vertical-align: top;\n",
              "    }\n",
              "\n",
              "    .dataframe thead th {\n",
              "        text-align: right;\n",
              "    }\n",
              "</style>\n",
              "<table border=\"1\" class=\"dataframe\">\n",
              "  <thead>\n",
              "    <tr style=\"text-align: right;\">\n",
              "      <th></th>\n",
              "      <th>Trabajo</th>\n",
              "      <th>Edad</th>\n",
              "      <th>Salario</th>\n",
              "      <th>Compra</th>\n",
              "      <th>Label</th>\n",
              "      <th>Score</th>\n",
              "    </tr>\n",
              "  </thead>\n",
              "  <tbody>\n",
              "    <tr>\n",
              "      <th>0</th>\n",
              "      <td>0.0</td>\n",
              "      <td>35.0</td>\n",
              "      <td>65000.0</td>\n",
              "      <td>No</td>\n",
              "      <td>No</td>\n",
              "      <td>1.0</td>\n",
              "    </tr>\n",
              "    <tr>\n",
              "      <th>1</th>\n",
              "      <td>1.0</td>\n",
              "      <td>47.0</td>\n",
              "      <td>20000.0</td>\n",
              "      <td>Si</td>\n",
              "      <td>Si</td>\n",
              "      <td>0.8</td>\n",
              "    </tr>\n",
              "    <tr>\n",
              "      <th>2</th>\n",
              "      <td>1.0</td>\n",
              "      <td>29.0</td>\n",
              "      <td>43000.0</td>\n",
              "      <td>No</td>\n",
              "      <td>No</td>\n",
              "      <td>1.0</td>\n",
              "    </tr>\n",
              "    <tr>\n",
              "      <th>3</th>\n",
              "      <td>0.0</td>\n",
              "      <td>27.0</td>\n",
              "      <td>137000.0</td>\n",
              "      <td>Si</td>\n",
              "      <td>Si</td>\n",
              "      <td>1.0</td>\n",
              "    </tr>\n",
              "    <tr>\n",
              "      <th>4</th>\n",
              "      <td>0.0</td>\n",
              "      <td>21.0</td>\n",
              "      <td>16000.0</td>\n",
              "      <td>No</td>\n",
              "      <td>No</td>\n",
              "      <td>1.0</td>\n",
              "    </tr>\n",
              "  </tbody>\n",
              "</table>\n",
              "</div>\n",
              "      <button class=\"colab-df-convert\" onclick=\"convertToInteractive('df-b3909bce-6da9-4864-8c68-3ade4d80ed86')\"\n",
              "              title=\"Convert this dataframe to an interactive table.\"\n",
              "              style=\"display:none;\">\n",
              "        \n",
              "  <svg xmlns=\"http://www.w3.org/2000/svg\" height=\"24px\"viewBox=\"0 0 24 24\"\n",
              "       width=\"24px\">\n",
              "    <path d=\"M0 0h24v24H0V0z\" fill=\"none\"/>\n",
              "    <path d=\"M18.56 5.44l.94 2.06.94-2.06 2.06-.94-2.06-.94-.94-2.06-.94 2.06-2.06.94zm-11 1L8.5 8.5l.94-2.06 2.06-.94-2.06-.94L8.5 2.5l-.94 2.06-2.06.94zm10 10l.94 2.06.94-2.06 2.06-.94-2.06-.94-.94-2.06-.94 2.06-2.06.94z\"/><path d=\"M17.41 7.96l-1.37-1.37c-.4-.4-.92-.59-1.43-.59-.52 0-1.04.2-1.43.59L10.3 9.45l-7.72 7.72c-.78.78-.78 2.05 0 2.83L4 21.41c.39.39.9.59 1.41.59.51 0 1.02-.2 1.41-.59l7.78-7.78 2.81-2.81c.8-.78.8-2.07 0-2.86zM5.41 20L4 18.59l7.72-7.72 1.47 1.35L5.41 20z\"/>\n",
              "  </svg>\n",
              "      </button>\n",
              "      \n",
              "  <style>\n",
              "    .colab-df-container {\n",
              "      display:flex;\n",
              "      flex-wrap:wrap;\n",
              "      gap: 12px;\n",
              "    }\n",
              "\n",
              "    .colab-df-convert {\n",
              "      background-color: #E8F0FE;\n",
              "      border: none;\n",
              "      border-radius: 50%;\n",
              "      cursor: pointer;\n",
              "      display: none;\n",
              "      fill: #1967D2;\n",
              "      height: 32px;\n",
              "      padding: 0 0 0 0;\n",
              "      width: 32px;\n",
              "    }\n",
              "\n",
              "    .colab-df-convert:hover {\n",
              "      background-color: #E2EBFA;\n",
              "      box-shadow: 0px 1px 2px rgba(60, 64, 67, 0.3), 0px 1px 3px 1px rgba(60, 64, 67, 0.15);\n",
              "      fill: #174EA6;\n",
              "    }\n",
              "\n",
              "    [theme=dark] .colab-df-convert {\n",
              "      background-color: #3B4455;\n",
              "      fill: #D2E3FC;\n",
              "    }\n",
              "\n",
              "    [theme=dark] .colab-df-convert:hover {\n",
              "      background-color: #434B5C;\n",
              "      box-shadow: 0px 1px 3px 1px rgba(0, 0, 0, 0.15);\n",
              "      filter: drop-shadow(0px 1px 2px rgba(0, 0, 0, 0.3));\n",
              "      fill: #FFFFFF;\n",
              "    }\n",
              "  </style>\n",
              "\n",
              "      <script>\n",
              "        const buttonEl =\n",
              "          document.querySelector('#df-b3909bce-6da9-4864-8c68-3ade4d80ed86 button.colab-df-convert');\n",
              "        buttonEl.style.display =\n",
              "          google.colab.kernel.accessAllowed ? 'block' : 'none';\n",
              "\n",
              "        async function convertToInteractive(key) {\n",
              "          const element = document.querySelector('#df-b3909bce-6da9-4864-8c68-3ade4d80ed86');\n",
              "          const dataTable =\n",
              "            await google.colab.kernel.invokeFunction('convertToInteractive',\n",
              "                                                     [key], {});\n",
              "          if (!dataTable) return;\n",
              "\n",
              "          const docLinkHtml = 'Like what you see? Visit the ' +\n",
              "            '<a target=\"_blank\" href=https://colab.research.google.com/notebooks/data_table.ipynb>data table notebook</a>'\n",
              "            + ' to learn more about interactive tables.';\n",
              "          element.innerHTML = '';\n",
              "          dataTable['output_type'] = 'display_data';\n",
              "          await google.colab.output.renderOutput(dataTable, element);\n",
              "          const docLink = document.createElement('div');\n",
              "          docLink.innerHTML = docLinkHtml;\n",
              "          element.appendChild(docLink);\n",
              "        }\n",
              "      </script>\n",
              "    </div>\n",
              "  </div>\n",
              "  "
            ]
          },
          "metadata": {},
          "execution_count": 38
        }
      ]
    },
    {
      "cell_type": "code",
      "source": [
        "from pycaret.utils import check_metric\n",
        "check_metric(nueva_prediccion['Compra'], nueva_prediccion['Label'], metric = 'Accuracy')"
      ],
      "metadata": {
        "colab": {
          "base_uri": "https://localhost:8080/"
        },
        "id": "Rh7whBrK4tMM",
        "outputId": "f97fb486-a087-4484-c12b-f60f06d111ba"
      },
      "id": "Rh7whBrK4tMM",
      "execution_count": 39,
      "outputs": [
        {
          "output_type": "execute_result",
          "data": {
            "text/plain": [
              "0.97"
            ]
          },
          "metadata": {},
          "execution_count": 39
        }
      ]
    }
  ],
  "metadata": {
    "kernelspec": {
      "display_name": "Python 3 (ipykernel)",
      "language": "python",
      "name": "python3"
    },
    "language_info": {
      "codemirror_mode": {
        "name": "ipython",
        "version": 3
      },
      "file_extension": ".py",
      "mimetype": "text/x-python",
      "name": "python",
      "nbconvert_exporter": "python",
      "pygments_lexer": "ipython3",
      "version": "3.10.2"
    },
    "colab": {
      "name": "pc-cl-05.ipynb",
      "provenance": [],
      "toc_visible": true,
      "collapsed_sections": [],
      "include_colab_link": true
    },
    "widgets": {
      "application/vnd.jupyter.widget-state+json": {
        "8d2da2d88aee48b091cce58a5b500986": {
          "model_module": "@jupyter-widgets/controls",
          "model_name": "HBoxModel",
          "model_module_version": "1.5.0",
          "state": {
            "_dom_classes": [],
            "_model_module": "@jupyter-widgets/controls",
            "_model_module_version": "1.5.0",
            "_model_name": "HBoxModel",
            "_view_count": null,
            "_view_module": "@jupyter-widgets/controls",
            "_view_module_version": "1.5.0",
            "_view_name": "HBoxView",
            "box_style": "",
            "children": [
              "IPY_MODEL_a4ce0f5c837a4f97826f6f3fde102a9a",
              "IPY_MODEL_4bf1c1d37166475a9b708488f1896f75",
              "IPY_MODEL_f0d0e1e491714307ad977a65d7e6d8c9"
            ],
            "layout": "IPY_MODEL_623d7ae09bbd4ab383a083733ef07525"
          }
        },
        "a4ce0f5c837a4f97826f6f3fde102a9a": {
          "model_module": "@jupyter-widgets/controls",
          "model_name": "HTMLModel",
          "model_module_version": "1.5.0",
          "state": {
            "_dom_classes": [],
            "_model_module": "@jupyter-widgets/controls",
            "_model_module_version": "1.5.0",
            "_model_name": "HTMLModel",
            "_view_count": null,
            "_view_module": "@jupyter-widgets/controls",
            "_view_module_version": "1.5.0",
            "_view_name": "HTMLView",
            "description": "",
            "description_tooltip": null,
            "layout": "IPY_MODEL_e01e9213c3f748b888bbedff2689b4fd",
            "placeholder": "​",
            "style": "IPY_MODEL_733d86988640443b87c711d8272cf176",
            "value": "Processing: 100%"
          }
        },
        "4bf1c1d37166475a9b708488f1896f75": {
          "model_module": "@jupyter-widgets/controls",
          "model_name": "FloatProgressModel",
          "model_module_version": "1.5.0",
          "state": {
            "_dom_classes": [],
            "_model_module": "@jupyter-widgets/controls",
            "_model_module_version": "1.5.0",
            "_model_name": "FloatProgressModel",
            "_view_count": null,
            "_view_module": "@jupyter-widgets/controls",
            "_view_module_version": "1.5.0",
            "_view_name": "ProgressView",
            "bar_style": "",
            "description": "",
            "description_tooltip": null,
            "layout": "IPY_MODEL_734465b861544ca88cce5393c4501cc7",
            "max": 69,
            "min": 0,
            "orientation": "horizontal",
            "style": "IPY_MODEL_622258a063264762a3d3571ae4c22ef0",
            "value": 69
          }
        },
        "f0d0e1e491714307ad977a65d7e6d8c9": {
          "model_module": "@jupyter-widgets/controls",
          "model_name": "HTMLModel",
          "model_module_version": "1.5.0",
          "state": {
            "_dom_classes": [],
            "_model_module": "@jupyter-widgets/controls",
            "_model_module_version": "1.5.0",
            "_model_name": "HTMLModel",
            "_view_count": null,
            "_view_module": "@jupyter-widgets/controls",
            "_view_module_version": "1.5.0",
            "_view_name": "HTMLView",
            "description": "",
            "description_tooltip": null,
            "layout": "IPY_MODEL_c75a79d1c2a344f28e4608d69646abd3",
            "placeholder": "​",
            "style": "IPY_MODEL_9daeadbb694b48dc8be0aa3be024603c",
            "value": " 69/69 [00:39&lt;00:00,  1.73it/s]"
          }
        },
        "623d7ae09bbd4ab383a083733ef07525": {
          "model_module": "@jupyter-widgets/base",
          "model_name": "LayoutModel",
          "model_module_version": "1.2.0",
          "state": {
            "_model_module": "@jupyter-widgets/base",
            "_model_module_version": "1.2.0",
            "_model_name": "LayoutModel",
            "_view_count": null,
            "_view_module": "@jupyter-widgets/base",
            "_view_module_version": "1.2.0",
            "_view_name": "LayoutView",
            "align_content": null,
            "align_items": null,
            "align_self": null,
            "border": null,
            "bottom": null,
            "display": null,
            "flex": null,
            "flex_flow": null,
            "grid_area": null,
            "grid_auto_columns": null,
            "grid_auto_flow": null,
            "grid_auto_rows": null,
            "grid_column": null,
            "grid_gap": null,
            "grid_row": null,
            "grid_template_areas": null,
            "grid_template_columns": null,
            "grid_template_rows": null,
            "height": null,
            "justify_content": null,
            "justify_items": null,
            "left": null,
            "margin": null,
            "max_height": null,
            "max_width": null,
            "min_height": null,
            "min_width": null,
            "object_fit": null,
            "object_position": null,
            "order": null,
            "overflow": null,
            "overflow_x": null,
            "overflow_y": null,
            "padding": null,
            "right": null,
            "top": null,
            "visibility": null,
            "width": null
          }
        },
        "e01e9213c3f748b888bbedff2689b4fd": {
          "model_module": "@jupyter-widgets/base",
          "model_name": "LayoutModel",
          "model_module_version": "1.2.0",
          "state": {
            "_model_module": "@jupyter-widgets/base",
            "_model_module_version": "1.2.0",
            "_model_name": "LayoutModel",
            "_view_count": null,
            "_view_module": "@jupyter-widgets/base",
            "_view_module_version": "1.2.0",
            "_view_name": "LayoutView",
            "align_content": null,
            "align_items": null,
            "align_self": null,
            "border": null,
            "bottom": null,
            "display": null,
            "flex": null,
            "flex_flow": null,
            "grid_area": null,
            "grid_auto_columns": null,
            "grid_auto_flow": null,
            "grid_auto_rows": null,
            "grid_column": null,
            "grid_gap": null,
            "grid_row": null,
            "grid_template_areas": null,
            "grid_template_columns": null,
            "grid_template_rows": null,
            "height": null,
            "justify_content": null,
            "justify_items": null,
            "left": null,
            "margin": null,
            "max_height": null,
            "max_width": null,
            "min_height": null,
            "min_width": null,
            "object_fit": null,
            "object_position": null,
            "order": null,
            "overflow": null,
            "overflow_x": null,
            "overflow_y": null,
            "padding": null,
            "right": null,
            "top": null,
            "visibility": null,
            "width": null
          }
        },
        "733d86988640443b87c711d8272cf176": {
          "model_module": "@jupyter-widgets/controls",
          "model_name": "DescriptionStyleModel",
          "model_module_version": "1.5.0",
          "state": {
            "_model_module": "@jupyter-widgets/controls",
            "_model_module_version": "1.5.0",
            "_model_name": "DescriptionStyleModel",
            "_view_count": null,
            "_view_module": "@jupyter-widgets/base",
            "_view_module_version": "1.2.0",
            "_view_name": "StyleView",
            "description_width": ""
          }
        },
        "734465b861544ca88cce5393c4501cc7": {
          "model_module": "@jupyter-widgets/base",
          "model_name": "LayoutModel",
          "model_module_version": "1.2.0",
          "state": {
            "_model_module": "@jupyter-widgets/base",
            "_model_module_version": "1.2.0",
            "_model_name": "LayoutModel",
            "_view_count": null,
            "_view_module": "@jupyter-widgets/base",
            "_view_module_version": "1.2.0",
            "_view_name": "LayoutView",
            "align_content": null,
            "align_items": null,
            "align_self": null,
            "border": null,
            "bottom": null,
            "display": null,
            "flex": null,
            "flex_flow": null,
            "grid_area": null,
            "grid_auto_columns": null,
            "grid_auto_flow": null,
            "grid_auto_rows": null,
            "grid_column": null,
            "grid_gap": null,
            "grid_row": null,
            "grid_template_areas": null,
            "grid_template_columns": null,
            "grid_template_rows": null,
            "height": null,
            "justify_content": null,
            "justify_items": null,
            "left": null,
            "margin": null,
            "max_height": null,
            "max_width": null,
            "min_height": null,
            "min_width": null,
            "object_fit": null,
            "object_position": null,
            "order": null,
            "overflow": null,
            "overflow_x": null,
            "overflow_y": null,
            "padding": null,
            "right": null,
            "top": null,
            "visibility": null,
            "width": null
          }
        },
        "622258a063264762a3d3571ae4c22ef0": {
          "model_module": "@jupyter-widgets/controls",
          "model_name": "ProgressStyleModel",
          "model_module_version": "1.5.0",
          "state": {
            "_model_module": "@jupyter-widgets/controls",
            "_model_module_version": "1.5.0",
            "_model_name": "ProgressStyleModel",
            "_view_count": null,
            "_view_module": "@jupyter-widgets/base",
            "_view_module_version": "1.2.0",
            "_view_name": "StyleView",
            "bar_color": null,
            "description_width": ""
          }
        },
        "c75a79d1c2a344f28e4608d69646abd3": {
          "model_module": "@jupyter-widgets/base",
          "model_name": "LayoutModel",
          "model_module_version": "1.2.0",
          "state": {
            "_model_module": "@jupyter-widgets/base",
            "_model_module_version": "1.2.0",
            "_model_name": "LayoutModel",
            "_view_count": null,
            "_view_module": "@jupyter-widgets/base",
            "_view_module_version": "1.2.0",
            "_view_name": "LayoutView",
            "align_content": null,
            "align_items": null,
            "align_self": null,
            "border": null,
            "bottom": null,
            "display": null,
            "flex": null,
            "flex_flow": null,
            "grid_area": null,
            "grid_auto_columns": null,
            "grid_auto_flow": null,
            "grid_auto_rows": null,
            "grid_column": null,
            "grid_gap": null,
            "grid_row": null,
            "grid_template_areas": null,
            "grid_template_columns": null,
            "grid_template_rows": null,
            "height": null,
            "justify_content": null,
            "justify_items": null,
            "left": null,
            "margin": null,
            "max_height": null,
            "max_width": null,
            "min_height": null,
            "min_width": null,
            "object_fit": null,
            "object_position": null,
            "order": null,
            "overflow": null,
            "overflow_x": null,
            "overflow_y": null,
            "padding": null,
            "right": null,
            "top": null,
            "visibility": null,
            "width": null
          }
        },
        "9daeadbb694b48dc8be0aa3be024603c": {
          "model_module": "@jupyter-widgets/controls",
          "model_name": "DescriptionStyleModel",
          "model_module_version": "1.5.0",
          "state": {
            "_model_module": "@jupyter-widgets/controls",
            "_model_module_version": "1.5.0",
            "_model_name": "DescriptionStyleModel",
            "_view_count": null,
            "_view_module": "@jupyter-widgets/base",
            "_view_module_version": "1.2.0",
            "_view_name": "StyleView",
            "description_width": ""
          }
        },
        "a92c85ea60bb49a9911a086ca6c363d5": {
          "model_module": "@jupyter-widgets/controls",
          "model_name": "HBoxModel",
          "model_module_version": "1.5.0",
          "state": {
            "_dom_classes": [],
            "_model_module": "@jupyter-widgets/controls",
            "_model_module_version": "1.5.0",
            "_model_name": "HBoxModel",
            "_view_count": null,
            "_view_module": "@jupyter-widgets/controls",
            "_view_module_version": "1.5.0",
            "_view_name": "HBoxView",
            "box_style": "",
            "children": [
              "IPY_MODEL_cbcf663765624ea2ba19063da8f78a9f",
              "IPY_MODEL_88623ddd45594e6391a36829da6b483d",
              "IPY_MODEL_4331937cb099428e9c3f5f93f19d6143"
            ],
            "layout": "IPY_MODEL_74aa3baf972f4a54ad2a4453e694d7b3"
          }
        },
        "cbcf663765624ea2ba19063da8f78a9f": {
          "model_module": "@jupyter-widgets/controls",
          "model_name": "HTMLModel",
          "model_module_version": "1.5.0",
          "state": {
            "_dom_classes": [],
            "_model_module": "@jupyter-widgets/controls",
            "_model_module_version": "1.5.0",
            "_model_name": "HTMLModel",
            "_view_count": null,
            "_view_module": "@jupyter-widgets/controls",
            "_view_module_version": "1.5.0",
            "_view_name": "HTMLView",
            "description": "",
            "description_tooltip": null,
            "layout": "IPY_MODEL_8d8ac8724ed248eab73bdeae339d3579",
            "placeholder": "​",
            "style": "IPY_MODEL_80d2854cb8524b4ca4b830ab508647f3",
            "value": "Processing:   0%"
          }
        },
        "88623ddd45594e6391a36829da6b483d": {
          "model_module": "@jupyter-widgets/controls",
          "model_name": "FloatProgressModel",
          "model_module_version": "1.5.0",
          "state": {
            "_dom_classes": [],
            "_model_module": "@jupyter-widgets/controls",
            "_model_module_version": "1.5.0",
            "_model_name": "FloatProgressModel",
            "_view_count": null,
            "_view_module": "@jupyter-widgets/controls",
            "_view_module_version": "1.5.0",
            "_view_name": "ProgressView",
            "bar_style": "",
            "description": "",
            "description_tooltip": null,
            "layout": "IPY_MODEL_cff2990d6ec2414db5cc4251f533ddbc",
            "max": 4,
            "min": 0,
            "orientation": "horizontal",
            "style": "IPY_MODEL_59dc651921f447cebe97c4227c32afbe",
            "value": 4
          }
        },
        "4331937cb099428e9c3f5f93f19d6143": {
          "model_module": "@jupyter-widgets/controls",
          "model_name": "HTMLModel",
          "model_module_version": "1.5.0",
          "state": {
            "_dom_classes": [],
            "_model_module": "@jupyter-widgets/controls",
            "_model_module_version": "1.5.0",
            "_model_name": "HTMLModel",
            "_view_count": null,
            "_view_module": "@jupyter-widgets/controls",
            "_view_module_version": "1.5.0",
            "_view_name": "HTMLView",
            "description": "",
            "description_tooltip": null,
            "layout": "IPY_MODEL_54845e903cbf439d995b14172351cbdd",
            "placeholder": "​",
            "style": "IPY_MODEL_79134e7445d741e784eedb7306cddee3",
            "value": " 0/4 [00:00&lt;?, ?it/s]"
          }
        },
        "74aa3baf972f4a54ad2a4453e694d7b3": {
          "model_module": "@jupyter-widgets/base",
          "model_name": "LayoutModel",
          "model_module_version": "1.2.0",
          "state": {
            "_model_module": "@jupyter-widgets/base",
            "_model_module_version": "1.2.0",
            "_model_name": "LayoutModel",
            "_view_count": null,
            "_view_module": "@jupyter-widgets/base",
            "_view_module_version": "1.2.0",
            "_view_name": "LayoutView",
            "align_content": null,
            "align_items": null,
            "align_self": null,
            "border": null,
            "bottom": null,
            "display": null,
            "flex": null,
            "flex_flow": null,
            "grid_area": null,
            "grid_auto_columns": null,
            "grid_auto_flow": null,
            "grid_auto_rows": null,
            "grid_column": null,
            "grid_gap": null,
            "grid_row": null,
            "grid_template_areas": null,
            "grid_template_columns": null,
            "grid_template_rows": null,
            "height": null,
            "justify_content": null,
            "justify_items": null,
            "left": null,
            "margin": null,
            "max_height": null,
            "max_width": null,
            "min_height": null,
            "min_width": null,
            "object_fit": null,
            "object_position": null,
            "order": null,
            "overflow": null,
            "overflow_x": null,
            "overflow_y": null,
            "padding": null,
            "right": null,
            "top": null,
            "visibility": null,
            "width": null
          }
        },
        "8d8ac8724ed248eab73bdeae339d3579": {
          "model_module": "@jupyter-widgets/base",
          "model_name": "LayoutModel",
          "model_module_version": "1.2.0",
          "state": {
            "_model_module": "@jupyter-widgets/base",
            "_model_module_version": "1.2.0",
            "_model_name": "LayoutModel",
            "_view_count": null,
            "_view_module": "@jupyter-widgets/base",
            "_view_module_version": "1.2.0",
            "_view_name": "LayoutView",
            "align_content": null,
            "align_items": null,
            "align_self": null,
            "border": null,
            "bottom": null,
            "display": null,
            "flex": null,
            "flex_flow": null,
            "grid_area": null,
            "grid_auto_columns": null,
            "grid_auto_flow": null,
            "grid_auto_rows": null,
            "grid_column": null,
            "grid_gap": null,
            "grid_row": null,
            "grid_template_areas": null,
            "grid_template_columns": null,
            "grid_template_rows": null,
            "height": null,
            "justify_content": null,
            "justify_items": null,
            "left": null,
            "margin": null,
            "max_height": null,
            "max_width": null,
            "min_height": null,
            "min_width": null,
            "object_fit": null,
            "object_position": null,
            "order": null,
            "overflow": null,
            "overflow_x": null,
            "overflow_y": null,
            "padding": null,
            "right": null,
            "top": null,
            "visibility": null,
            "width": null
          }
        },
        "80d2854cb8524b4ca4b830ab508647f3": {
          "model_module": "@jupyter-widgets/controls",
          "model_name": "DescriptionStyleModel",
          "model_module_version": "1.5.0",
          "state": {
            "_model_module": "@jupyter-widgets/controls",
            "_model_module_version": "1.5.0",
            "_model_name": "DescriptionStyleModel",
            "_view_count": null,
            "_view_module": "@jupyter-widgets/base",
            "_view_module_version": "1.2.0",
            "_view_name": "StyleView",
            "description_width": ""
          }
        },
        "cff2990d6ec2414db5cc4251f533ddbc": {
          "model_module": "@jupyter-widgets/base",
          "model_name": "LayoutModel",
          "model_module_version": "1.2.0",
          "state": {
            "_model_module": "@jupyter-widgets/base",
            "_model_module_version": "1.2.0",
            "_model_name": "LayoutModel",
            "_view_count": null,
            "_view_module": "@jupyter-widgets/base",
            "_view_module_version": "1.2.0",
            "_view_name": "LayoutView",
            "align_content": null,
            "align_items": null,
            "align_self": null,
            "border": null,
            "bottom": null,
            "display": null,
            "flex": null,
            "flex_flow": null,
            "grid_area": null,
            "grid_auto_columns": null,
            "grid_auto_flow": null,
            "grid_auto_rows": null,
            "grid_column": null,
            "grid_gap": null,
            "grid_row": null,
            "grid_template_areas": null,
            "grid_template_columns": null,
            "grid_template_rows": null,
            "height": null,
            "justify_content": null,
            "justify_items": null,
            "left": null,
            "margin": null,
            "max_height": null,
            "max_width": null,
            "min_height": null,
            "min_width": null,
            "object_fit": null,
            "object_position": null,
            "order": null,
            "overflow": null,
            "overflow_x": null,
            "overflow_y": null,
            "padding": null,
            "right": null,
            "top": null,
            "visibility": null,
            "width": null
          }
        },
        "59dc651921f447cebe97c4227c32afbe": {
          "model_module": "@jupyter-widgets/controls",
          "model_name": "ProgressStyleModel",
          "model_module_version": "1.5.0",
          "state": {
            "_model_module": "@jupyter-widgets/controls",
            "_model_module_version": "1.5.0",
            "_model_name": "ProgressStyleModel",
            "_view_count": null,
            "_view_module": "@jupyter-widgets/base",
            "_view_module_version": "1.2.0",
            "_view_name": "StyleView",
            "bar_color": null,
            "description_width": ""
          }
        },
        "54845e903cbf439d995b14172351cbdd": {
          "model_module": "@jupyter-widgets/base",
          "model_name": "LayoutModel",
          "model_module_version": "1.2.0",
          "state": {
            "_model_module": "@jupyter-widgets/base",
            "_model_module_version": "1.2.0",
            "_model_name": "LayoutModel",
            "_view_count": null,
            "_view_module": "@jupyter-widgets/base",
            "_view_module_version": "1.2.0",
            "_view_name": "LayoutView",
            "align_content": null,
            "align_items": null,
            "align_self": null,
            "border": null,
            "bottom": null,
            "display": null,
            "flex": null,
            "flex_flow": null,
            "grid_area": null,
            "grid_auto_columns": null,
            "grid_auto_flow": null,
            "grid_auto_rows": null,
            "grid_column": null,
            "grid_gap": null,
            "grid_row": null,
            "grid_template_areas": null,
            "grid_template_columns": null,
            "grid_template_rows": null,
            "height": null,
            "justify_content": null,
            "justify_items": null,
            "left": null,
            "margin": null,
            "max_height": null,
            "max_width": null,
            "min_height": null,
            "min_width": null,
            "object_fit": null,
            "object_position": null,
            "order": null,
            "overflow": null,
            "overflow_x": null,
            "overflow_y": null,
            "padding": null,
            "right": null,
            "top": null,
            "visibility": null,
            "width": null
          }
        },
        "79134e7445d741e784eedb7306cddee3": {
          "model_module": "@jupyter-widgets/controls",
          "model_name": "DescriptionStyleModel",
          "model_module_version": "1.5.0",
          "state": {
            "_model_module": "@jupyter-widgets/controls",
            "_model_module_version": "1.5.0",
            "_model_name": "DescriptionStyleModel",
            "_view_count": null,
            "_view_module": "@jupyter-widgets/base",
            "_view_module_version": "1.2.0",
            "_view_name": "StyleView",
            "description_width": ""
          }
        },
        "cab2327f095546e9ab9ddc023b7c5999": {
          "model_module": "@jupyter-widgets/controls",
          "model_name": "HBoxModel",
          "model_module_version": "1.5.0",
          "state": {
            "_dom_classes": [],
            "_model_module": "@jupyter-widgets/controls",
            "_model_module_version": "1.5.0",
            "_model_name": "HBoxModel",
            "_view_count": null,
            "_view_module": "@jupyter-widgets/controls",
            "_view_module_version": "1.5.0",
            "_view_name": "HBoxView",
            "box_style": "",
            "children": [
              "IPY_MODEL_7bd8a425acf64035839e114b1cee558a",
              "IPY_MODEL_3122572637ee47e58d8a3b213d3aecc4",
              "IPY_MODEL_96e39d30960f46029181fec9b6468c88"
            ],
            "layout": "IPY_MODEL_b205f5000aff440da482a3c8b7dde17b"
          }
        },
        "7bd8a425acf64035839e114b1cee558a": {
          "model_module": "@jupyter-widgets/controls",
          "model_name": "HTMLModel",
          "model_module_version": "1.5.0",
          "state": {
            "_dom_classes": [],
            "_model_module": "@jupyter-widgets/controls",
            "_model_module_version": "1.5.0",
            "_model_name": "HTMLModel",
            "_view_count": null,
            "_view_module": "@jupyter-widgets/controls",
            "_view_module_version": "1.5.0",
            "_view_name": "HTMLView",
            "description": "",
            "description_tooltip": null,
            "layout": "IPY_MODEL_c31f079a97744139a184dcf6dc18cd5b",
            "placeholder": "​",
            "style": "IPY_MODEL_3f003e0865d34ef89fd2fe646e97af7f",
            "value": "Processing:  86%"
          }
        },
        "3122572637ee47e58d8a3b213d3aecc4": {
          "model_module": "@jupyter-widgets/controls",
          "model_name": "FloatProgressModel",
          "model_module_version": "1.5.0",
          "state": {
            "_dom_classes": [],
            "_model_module": "@jupyter-widgets/controls",
            "_model_module_version": "1.5.0",
            "_model_name": "FloatProgressModel",
            "_view_count": null,
            "_view_module": "@jupyter-widgets/controls",
            "_view_module_version": "1.5.0",
            "_view_name": "ProgressView",
            "bar_style": "",
            "description": "",
            "description_tooltip": null,
            "layout": "IPY_MODEL_d394a2316faa4e7a8620cd40dd24a4c3",
            "max": 7,
            "min": 0,
            "orientation": "horizontal",
            "style": "IPY_MODEL_f07b3415d9e64bb0af2a48813ee6821d",
            "value": 7
          }
        },
        "96e39d30960f46029181fec9b6468c88": {
          "model_module": "@jupyter-widgets/controls",
          "model_name": "HTMLModel",
          "model_module_version": "1.5.0",
          "state": {
            "_dom_classes": [],
            "_model_module": "@jupyter-widgets/controls",
            "_model_module_version": "1.5.0",
            "_model_name": "HTMLModel",
            "_view_count": null,
            "_view_module": "@jupyter-widgets/controls",
            "_view_module_version": "1.5.0",
            "_view_name": "HTMLView",
            "description": "",
            "description_tooltip": null,
            "layout": "IPY_MODEL_6b187f048c0b42628a3f3a94c1de9fb0",
            "placeholder": "​",
            "style": "IPY_MODEL_02765d7aa28f4807ab7bffafdb3fc1cd",
            "value": " 6/7 [00:03&lt;00:00,  2.02it/s]"
          }
        },
        "b205f5000aff440da482a3c8b7dde17b": {
          "model_module": "@jupyter-widgets/base",
          "model_name": "LayoutModel",
          "model_module_version": "1.2.0",
          "state": {
            "_model_module": "@jupyter-widgets/base",
            "_model_module_version": "1.2.0",
            "_model_name": "LayoutModel",
            "_view_count": null,
            "_view_module": "@jupyter-widgets/base",
            "_view_module_version": "1.2.0",
            "_view_name": "LayoutView",
            "align_content": null,
            "align_items": null,
            "align_self": null,
            "border": null,
            "bottom": null,
            "display": null,
            "flex": null,
            "flex_flow": null,
            "grid_area": null,
            "grid_auto_columns": null,
            "grid_auto_flow": null,
            "grid_auto_rows": null,
            "grid_column": null,
            "grid_gap": null,
            "grid_row": null,
            "grid_template_areas": null,
            "grid_template_columns": null,
            "grid_template_rows": null,
            "height": null,
            "justify_content": null,
            "justify_items": null,
            "left": null,
            "margin": null,
            "max_height": null,
            "max_width": null,
            "min_height": null,
            "min_width": null,
            "object_fit": null,
            "object_position": null,
            "order": null,
            "overflow": null,
            "overflow_x": null,
            "overflow_y": null,
            "padding": null,
            "right": null,
            "top": null,
            "visibility": null,
            "width": null
          }
        },
        "c31f079a97744139a184dcf6dc18cd5b": {
          "model_module": "@jupyter-widgets/base",
          "model_name": "LayoutModel",
          "model_module_version": "1.2.0",
          "state": {
            "_model_module": "@jupyter-widgets/base",
            "_model_module_version": "1.2.0",
            "_model_name": "LayoutModel",
            "_view_count": null,
            "_view_module": "@jupyter-widgets/base",
            "_view_module_version": "1.2.0",
            "_view_name": "LayoutView",
            "align_content": null,
            "align_items": null,
            "align_self": null,
            "border": null,
            "bottom": null,
            "display": null,
            "flex": null,
            "flex_flow": null,
            "grid_area": null,
            "grid_auto_columns": null,
            "grid_auto_flow": null,
            "grid_auto_rows": null,
            "grid_column": null,
            "grid_gap": null,
            "grid_row": null,
            "grid_template_areas": null,
            "grid_template_columns": null,
            "grid_template_rows": null,
            "height": null,
            "justify_content": null,
            "justify_items": null,
            "left": null,
            "margin": null,
            "max_height": null,
            "max_width": null,
            "min_height": null,
            "min_width": null,
            "object_fit": null,
            "object_position": null,
            "order": null,
            "overflow": null,
            "overflow_x": null,
            "overflow_y": null,
            "padding": null,
            "right": null,
            "top": null,
            "visibility": null,
            "width": null
          }
        },
        "3f003e0865d34ef89fd2fe646e97af7f": {
          "model_module": "@jupyter-widgets/controls",
          "model_name": "DescriptionStyleModel",
          "model_module_version": "1.5.0",
          "state": {
            "_model_module": "@jupyter-widgets/controls",
            "_model_module_version": "1.5.0",
            "_model_name": "DescriptionStyleModel",
            "_view_count": null,
            "_view_module": "@jupyter-widgets/base",
            "_view_module_version": "1.2.0",
            "_view_name": "StyleView",
            "description_width": ""
          }
        },
        "d394a2316faa4e7a8620cd40dd24a4c3": {
          "model_module": "@jupyter-widgets/base",
          "model_name": "LayoutModel",
          "model_module_version": "1.2.0",
          "state": {
            "_model_module": "@jupyter-widgets/base",
            "_model_module_version": "1.2.0",
            "_model_name": "LayoutModel",
            "_view_count": null,
            "_view_module": "@jupyter-widgets/base",
            "_view_module_version": "1.2.0",
            "_view_name": "LayoutView",
            "align_content": null,
            "align_items": null,
            "align_self": null,
            "border": null,
            "bottom": null,
            "display": null,
            "flex": null,
            "flex_flow": null,
            "grid_area": null,
            "grid_auto_columns": null,
            "grid_auto_flow": null,
            "grid_auto_rows": null,
            "grid_column": null,
            "grid_gap": null,
            "grid_row": null,
            "grid_template_areas": null,
            "grid_template_columns": null,
            "grid_template_rows": null,
            "height": null,
            "justify_content": null,
            "justify_items": null,
            "left": null,
            "margin": null,
            "max_height": null,
            "max_width": null,
            "min_height": null,
            "min_width": null,
            "object_fit": null,
            "object_position": null,
            "order": null,
            "overflow": null,
            "overflow_x": null,
            "overflow_y": null,
            "padding": null,
            "right": null,
            "top": null,
            "visibility": null,
            "width": null
          }
        },
        "f07b3415d9e64bb0af2a48813ee6821d": {
          "model_module": "@jupyter-widgets/controls",
          "model_name": "ProgressStyleModel",
          "model_module_version": "1.5.0",
          "state": {
            "_model_module": "@jupyter-widgets/controls",
            "_model_module_version": "1.5.0",
            "_model_name": "ProgressStyleModel",
            "_view_count": null,
            "_view_module": "@jupyter-widgets/base",
            "_view_module_version": "1.2.0",
            "_view_name": "StyleView",
            "bar_color": null,
            "description_width": ""
          }
        },
        "6b187f048c0b42628a3f3a94c1de9fb0": {
          "model_module": "@jupyter-widgets/base",
          "model_name": "LayoutModel",
          "model_module_version": "1.2.0",
          "state": {
            "_model_module": "@jupyter-widgets/base",
            "_model_module_version": "1.2.0",
            "_model_name": "LayoutModel",
            "_view_count": null,
            "_view_module": "@jupyter-widgets/base",
            "_view_module_version": "1.2.0",
            "_view_name": "LayoutView",
            "align_content": null,
            "align_items": null,
            "align_self": null,
            "border": null,
            "bottom": null,
            "display": null,
            "flex": null,
            "flex_flow": null,
            "grid_area": null,
            "grid_auto_columns": null,
            "grid_auto_flow": null,
            "grid_auto_rows": null,
            "grid_column": null,
            "grid_gap": null,
            "grid_row": null,
            "grid_template_areas": null,
            "grid_template_columns": null,
            "grid_template_rows": null,
            "height": null,
            "justify_content": null,
            "justify_items": null,
            "left": null,
            "margin": null,
            "max_height": null,
            "max_width": null,
            "min_height": null,
            "min_width": null,
            "object_fit": null,
            "object_position": null,
            "order": null,
            "overflow": null,
            "overflow_x": null,
            "overflow_y": null,
            "padding": null,
            "right": null,
            "top": null,
            "visibility": null,
            "width": null
          }
        },
        "02765d7aa28f4807ab7bffafdb3fc1cd": {
          "model_module": "@jupyter-widgets/controls",
          "model_name": "DescriptionStyleModel",
          "model_module_version": "1.5.0",
          "state": {
            "_model_module": "@jupyter-widgets/controls",
            "_model_module_version": "1.5.0",
            "_model_name": "DescriptionStyleModel",
            "_view_count": null,
            "_view_module": "@jupyter-widgets/base",
            "_view_module_version": "1.2.0",
            "_view_name": "StyleView",
            "description_width": ""
          }
        },
        "e23541713b2a47afbf0f3c3d78ebd8c2": {
          "model_module": "@jupyter-widgets/controls",
          "model_name": "VBoxModel",
          "model_module_version": "1.5.0",
          "state": {
            "_dom_classes": [
              "widget-interact"
            ],
            "_model_module": "@jupyter-widgets/controls",
            "_model_module_version": "1.5.0",
            "_model_name": "VBoxModel",
            "_view_count": null,
            "_view_module": "@jupyter-widgets/controls",
            "_view_module_version": "1.5.0",
            "_view_name": "VBoxView",
            "box_style": "",
            "children": [
              "IPY_MODEL_0fc723fb93274a9e8106c80ceb10f030",
              "IPY_MODEL_e4f189e7dc6d4837b13bdf80c59eee16"
            ],
            "layout": "IPY_MODEL_4e7745f75a594e74b65c7b6eefcd9e6d"
          }
        },
        "0fc723fb93274a9e8106c80ceb10f030": {
          "model_module": "@jupyter-widgets/controls",
          "model_name": "ToggleButtonsModel",
          "model_module_version": "1.5.0",
          "state": {
            "_dom_classes": [],
            "_model_module": "@jupyter-widgets/controls",
            "_model_module_version": "1.5.0",
            "_model_name": "ToggleButtonsModel",
            "_options_labels": [
              "Pipeline Plot",
              "Hyperparameters",
              "AUC",
              "Confusion Matrix",
              "Threshold",
              "Precision Recall",
              "Prediction Error",
              "Class Report",
              "Feature Selection",
              "Learning Curve",
              "Manifold Learning",
              "Calibration Curve",
              "Validation Curve",
              "Dimensions",
              "Feature Importance",
              "Feature Importance (All)",
              "Decision Boundary",
              "Lift Chart",
              "Gain Chart",
              "Decision Tree",
              "KS Statistic Plot"
            ],
            "_view_count": null,
            "_view_module": "@jupyter-widgets/controls",
            "_view_module_version": "1.5.0",
            "_view_name": "ToggleButtonsView",
            "button_style": "",
            "description": "Plot Type:",
            "description_tooltip": null,
            "disabled": false,
            "icons": [
              ""
            ],
            "index": 0,
            "layout": "IPY_MODEL_508018e63b7546b28a2fe790cebf9986",
            "style": "IPY_MODEL_43c44bad96074aa38a1c53d930e21c05",
            "tooltips": []
          }
        },
        "e4f189e7dc6d4837b13bdf80c59eee16": {
          "model_module": "@jupyter-widgets/output",
          "model_name": "OutputModel",
          "model_module_version": "1.0.0",
          "state": {
            "_dom_classes": [],
            "_model_module": "@jupyter-widgets/output",
            "_model_module_version": "1.0.0",
            "_model_name": "OutputModel",
            "_view_count": null,
            "_view_module": "@jupyter-widgets/output",
            "_view_module_version": "1.0.0",
            "_view_name": "OutputView",
            "layout": "IPY_MODEL_a05ba8e56f344ae99a29887126f795d3",
            "msg_id": "",
            "outputs": [
              {
                "output_type": "display_data",
                "data": {
                  "text/plain": "<Figure size 1700x600 with 1 Axes>",
                  "image/png": "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\n"
                },
                "metadata": {
                  "needs_background": "light"
                }
              }
            ]
          }
        },
        "4e7745f75a594e74b65c7b6eefcd9e6d": {
          "model_module": "@jupyter-widgets/base",
          "model_name": "LayoutModel",
          "model_module_version": "1.2.0",
          "state": {
            "_model_module": "@jupyter-widgets/base",
            "_model_module_version": "1.2.0",
            "_model_name": "LayoutModel",
            "_view_count": null,
            "_view_module": "@jupyter-widgets/base",
            "_view_module_version": "1.2.0",
            "_view_name": "LayoutView",
            "align_content": null,
            "align_items": null,
            "align_self": null,
            "border": null,
            "bottom": null,
            "display": null,
            "flex": null,
            "flex_flow": null,
            "grid_area": null,
            "grid_auto_columns": null,
            "grid_auto_flow": null,
            "grid_auto_rows": null,
            "grid_column": null,
            "grid_gap": null,
            "grid_row": null,
            "grid_template_areas": null,
            "grid_template_columns": null,
            "grid_template_rows": null,
            "height": null,
            "justify_content": null,
            "justify_items": null,
            "left": null,
            "margin": null,
            "max_height": null,
            "max_width": null,
            "min_height": null,
            "min_width": null,
            "object_fit": null,
            "object_position": null,
            "order": null,
            "overflow": null,
            "overflow_x": null,
            "overflow_y": null,
            "padding": null,
            "right": null,
            "top": null,
            "visibility": null,
            "width": null
          }
        },
        "508018e63b7546b28a2fe790cebf9986": {
          "model_module": "@jupyter-widgets/base",
          "model_name": "LayoutModel",
          "model_module_version": "1.2.0",
          "state": {
            "_model_module": "@jupyter-widgets/base",
            "_model_module_version": "1.2.0",
            "_model_name": "LayoutModel",
            "_view_count": null,
            "_view_module": "@jupyter-widgets/base",
            "_view_module_version": "1.2.0",
            "_view_name": "LayoutView",
            "align_content": null,
            "align_items": null,
            "align_self": null,
            "border": null,
            "bottom": null,
            "display": null,
            "flex": null,
            "flex_flow": null,
            "grid_area": null,
            "grid_auto_columns": null,
            "grid_auto_flow": null,
            "grid_auto_rows": null,
            "grid_column": null,
            "grid_gap": null,
            "grid_row": null,
            "grid_template_areas": null,
            "grid_template_columns": null,
            "grid_template_rows": null,
            "height": null,
            "justify_content": null,
            "justify_items": null,
            "left": null,
            "margin": null,
            "max_height": null,
            "max_width": null,
            "min_height": null,
            "min_width": null,
            "object_fit": null,
            "object_position": null,
            "order": null,
            "overflow": null,
            "overflow_x": null,
            "overflow_y": null,
            "padding": null,
            "right": null,
            "top": null,
            "visibility": null,
            "width": null
          }
        },
        "43c44bad96074aa38a1c53d930e21c05": {
          "model_module": "@jupyter-widgets/controls",
          "model_name": "ToggleButtonsStyleModel",
          "model_module_version": "1.5.0",
          "state": {
            "_model_module": "@jupyter-widgets/controls",
            "_model_module_version": "1.5.0",
            "_model_name": "ToggleButtonsStyleModel",
            "_view_count": null,
            "_view_module": "@jupyter-widgets/base",
            "_view_module_version": "1.2.0",
            "_view_name": "StyleView",
            "button_width": "",
            "description_width": "",
            "font_weight": ""
          }
        },
        "a05ba8e56f344ae99a29887126f795d3": {
          "model_module": "@jupyter-widgets/base",
          "model_name": "LayoutModel",
          "model_module_version": "1.2.0",
          "state": {
            "_model_module": "@jupyter-widgets/base",
            "_model_module_version": "1.2.0",
            "_model_name": "LayoutModel",
            "_view_count": null,
            "_view_module": "@jupyter-widgets/base",
            "_view_module_version": "1.2.0",
            "_view_name": "LayoutView",
            "align_content": null,
            "align_items": null,
            "align_self": null,
            "border": null,
            "bottom": null,
            "display": null,
            "flex": null,
            "flex_flow": null,
            "grid_area": null,
            "grid_auto_columns": null,
            "grid_auto_flow": null,
            "grid_auto_rows": null,
            "grid_column": null,
            "grid_gap": null,
            "grid_row": null,
            "grid_template_areas": null,
            "grid_template_columns": null,
            "grid_template_rows": null,
            "height": null,
            "justify_content": null,
            "justify_items": null,
            "left": null,
            "margin": null,
            "max_height": null,
            "max_width": null,
            "min_height": null,
            "min_width": null,
            "object_fit": null,
            "object_position": null,
            "order": null,
            "overflow": null,
            "overflow_x": null,
            "overflow_y": null,
            "padding": null,
            "right": null,
            "top": null,
            "visibility": null,
            "width": null
          }
        }
      }
    }
  },
  "nbformat": 4,
  "nbformat_minor": 5
}