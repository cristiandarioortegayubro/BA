{
  "nbformat": 4,
  "nbformat_minor": 0,
  "metadata": {
    "colab": {
      "name": "tf-00.ipynb",
      "provenance": [],
      "collapsed_sections": [],
      "include_colab_link": true
    },
    "kernelspec": {
      "name": "python3",
      "display_name": "Python 3"
    }
  },
  "cells": [
    {
      "cell_type": "markdown",
      "metadata": {
        "id": "view-in-github",
        "colab_type": "text"
      },
      "source": [
        "<a href=\"https://colab.research.google.com/github/cristiandarioortegayubro/BA/blob/main/tf_00.ipynb\" target=\"_parent\"><img src=\"https://colab.research.google.com/assets/colab-badge.svg\" alt=\"Open In Colab\"/></a>"
      ]
    },
    {
      "cell_type": "markdown",
      "source": [
        "![logo](https://github.com/cristiandarioortegayubro/BA/blob/main/dba.png?raw=true)"
      ],
      "metadata": {
        "id": "qRJbnb0emd60"
      }
    },
    {
      "cell_type": "markdown",
      "metadata": {
        "id": "IEyDsUOkWQKr"
      },
      "source": [
        "# **Trabajo Final - Módulo 6 - Introducción a Ciencia de Datos**"
      ]
    },
    {
      "cell_type": "markdown",
      "metadata": {
        "id": "K95L1l2Oqtmo"
      },
      "source": [
        "~~~\n",
        "Colocar Apellido y Nombre (reemplazar esta línea)\n",
        "~~~"
      ]
    },
    {
      "cell_type": "markdown",
      "metadata": {
        "id": "7Ke7Qen3ucdM"
      },
      "source": [
        "# **Aclaraciones previas**\n",
        "\n",
        "\n",
        "\n",
        "*   Solo trabajar con celdas de texto.\n",
        "*   Al finalizar, descargar el archivo y entregarlo por el campus.\n",
        "*   Al finalizar se debería borrar esta celda.\n",
        "\n"
      ]
    },
    {
      "cell_type": "markdown",
      "metadata": {
        "id": "Fdo1n4BKrYxk"
      },
      "source": [
        "# **Consigna**"
      ]
    },
    {
      "cell_type": "markdown",
      "source": [
        "**Lea el material del módulo y analice en profundidad los siguientes perfiles:**\n",
        "\n",
        "+ Ingeniero Junior, \n",
        "+ Ingeniero Semi Senior, \n",
        "+ Ingeniero Senior, \n",
        "+ Analista Junior, \n",
        "+ Analista Semi Senior, \n",
        "+ Analista Senior, \n",
        "+ Diseñador Senior, \n",
        "+ Diseñador Semi Senior y \n",
        "+ Diseñador Senior \n",
        "\n",
        "**Y en base a los requerimientos de cada perfil, haga una autoevaluación personal donde especifiqué fortalezas y debilidades de su actual perfil y allí elija uno o dos perfiles de los cuales crea se asemejan más a sus capacidades o a cual usted aplicaría en caso de presentarse a una empresa.**\n",
        "\n",
        "**Detalle lo anterior en no más de un par de párrafos (o varias celdas de texto) definiendo perfil elegido y porque.**\n",
        "\n",
        "**También determinar qué competencias debe ampliar a los efectos de calificar a otro perfil de su interés.**\n",
        "\n",
        "***El objetivo de este trabajo es generar en cada colega no solo una autoevaluación de competencias, sino que esté más preparado a la hora de aplicar a un empleo en base a sus fortalezas, o de requerir uno de estos perfiles.***"
      ],
      "metadata": {
        "id": "qPt4YmYAmtZk"
      }
    },
    {
      "cell_type": "markdown",
      "source": [
        "## **Autoevaluación**"
      ],
      "metadata": {
        "id": "8t8u1NZsoCE5"
      }
    },
    {
      "cell_type": "markdown",
      "source": [
        "Completar aquí mis fortalezas..."
      ],
      "metadata": {
        "id": "U5x7DwpVoGvy"
      }
    },
    {
      "cell_type": "markdown",
      "source": [
        "Completar aquí mis debilidades..."
      ],
      "metadata": {
        "id": "S8wKNmneoXt_"
      }
    },
    {
      "cell_type": "markdown",
      "source": [
        "Perfil o perfiles a los que me asemejo..."
      ],
      "metadata": {
        "id": "vfTgWrpfod64"
      }
    },
    {
      "cell_type": "markdown",
      "source": [
        "## **Justificación del perfil**"
      ],
      "metadata": {
        "id": "JLzMakFookR-"
      }
    },
    {
      "cell_type": "markdown",
      "source": [
        "Justificación..."
      ],
      "metadata": {
        "id": "8gS1Weg_oo5D"
      }
    },
    {
      "cell_type": "markdown",
      "source": [
        "## **Competencias**"
      ],
      "metadata": {
        "id": "EtPPlhxAovOG"
      }
    },
    {
      "cell_type": "markdown",
      "source": [
        "Comentar las competencias que creo debo adquirir en virtud del perfil que busco... "
      ],
      "metadata": {
        "id": "dHNeRK96oyqZ"
      }
    }
  ]
}