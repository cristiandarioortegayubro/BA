{
  "cells": [
    {
      "cell_type": "markdown",
      "metadata": {
        "id": "view-in-github",
        "colab_type": "text"
      },
      "source": [
        "<a href=\"https://colab.research.google.com/github/cristiandarioortegayubro/BA/blob/main/lt_01.ipynb\" target=\"_parent\"><img src=\"https://colab.research.google.com/assets/colab-badge.svg\" alt=\"Open In Colab\"/></a>"
      ]
    },
    {
      "cell_type": "markdown",
      "source": [
        "![logo](https://github.com/cristiandarioortegayubro/BA/blob/main/dba.png?raw=true)"
      ],
      "metadata": {
        "id": "_pY_VJ3ETJXI"
      },
      "id": "_pY_VJ3ETJXI"
    },
    {
      "cell_type": "markdown",
      "id": "795ca1b3-d014-48a1-8cd2-a69a90043112",
      "metadata": {
        "id": "795ca1b3-d014-48a1-8cd2-a69a90043112"
      },
      "source": [
        "# $\\LaTeX{}$ **para cuadernos Google Colab**"
      ]
    },
    {
      "cell_type": "markdown",
      "id": "65c27d22-1803-44f8-9c57-4566f07ecacc",
      "metadata": {
        "id": "65c27d22-1803-44f8-9c57-4566f07ecacc"
      },
      "source": [
        "![latex](https://www.latex-project.org/img/latex-project-logo.svg)"
      ]
    },
    {
      "cell_type": "markdown",
      "id": "5dca8b7a-3e24-4610-ba58-3dca0360851d",
      "metadata": {
        "id": "5dca8b7a-3e24-4610-ba58-3dca0360851d"
      },
      "source": [
        "# **Expresiones matemáticas en celda de texto**"
      ]
    },
    {
      "cell_type": "markdown",
      "id": "4c6449e6-8b19-415d-b898-81035cf081ad",
      "metadata": {
        "id": "4c6449e6-8b19-415d-b898-81035cf081ad"
      },
      "source": [
        "***Las expresiones matemáticas son muy utilizadas. Para empezar a escribir una expresión matemática, debe colocarse el símbolo $. Este símbolo debe colocarse al inicio y al final de la expresión matemática. Cuando se coloca un solo símbolo, la expresión matemática comienza al inicio de la celda de texto, y cuando se colocan dos símbolos, la expresión matemática queda centrada en la celda de texto.***"
      ]
    },
    {
      "cell_type": "markdown",
      "id": "b4a7ea97-2873-47b6-90de-e9c0f91688a5",
      "metadata": {
        "id": "b4a7ea97-2873-47b6-90de-e9c0f91688a5"
      },
      "source": [
        "## **Fracciones y binomiales**"
      ]
    },
    {
      "cell_type": "markdown",
      "id": "2555c723-4113-452c-b256-5290b28fe1e4",
      "metadata": {
        "id": "2555c723-4113-452c-b256-5290b28fe1e4"
      },
      "source": [
        "### **Fracciones**"
      ]
    },
    {
      "cell_type": "markdown",
      "id": "33fa57e4-3b02-40f9-8337-af73980dc18e",
      "metadata": {
        "id": "33fa57e4-3b02-40f9-8337-af73980dc18e"
      },
      "source": [
        "**Una fracción es creada usando la siguiente sintaxis:**\n",
        "\n",
        "~~~latex\n",
        "$\\frac{numerador}{denominador}$\n",
        "~~~\n",
        "\n",
        "**y queda de la siguiente forma:**\n",
        "\n",
        "$\\frac{numerador}{denominador}$"
      ]
    },
    {
      "cell_type": "markdown",
      "id": "30726cb3-b112-48ea-a842-aa3d19a49f4b",
      "metadata": {
        "id": "30726cb3-b112-48ea-a842-aa3d19a49f4b"
      },
      "source": [
        "**Si se desea que la fracción quede centrada en la celda de texto:**\n",
        "\n",
        "~~~latex\n",
        "$$\\frac{numerador}{denominador}$$\n",
        "~~~\n",
        "\n",
        "**y queda de la siguiente forma:**\n",
        "\n",
        "$$\\frac{numerador}{denominador}$$"
      ]
    },
    {
      "cell_type": "markdown",
      "id": "5da61272-0a5e-4ae7-9c31-9212a1562e70",
      "metadata": {
        "id": "5da61272-0a5e-4ae7-9c31-9212a1562e70"
      },
      "source": [
        "**También se pueden incorporar fracciones dentro de una fracción, de la siguiente manera:**\n",
        "\n",
        "~~~latex\n",
        "$$\\frac{\\frac{1}{x}+\\frac{1}{y}}{y-z}$$\n",
        "~~~\n",
        "\n",
        "**y queda de la siguiente forma:**\n",
        "\n",
        "$$\\frac{\\frac{1}{x}+\\frac{1}{y}}{y-z}$$"
      ]
    },
    {
      "cell_type": "markdown",
      "id": "0704f8ba-d1ae-480e-8b07-00e56e54df80",
      "metadata": {
        "id": "0704f8ba-d1ae-480e-8b07-00e56e54df80"
      },
      "source": [
        "### **Binomiales**"
      ]
    },
    {
      "cell_type": "markdown",
      "id": "9968282f-cd37-47dd-bd2d-a9b81383b345",
      "metadata": {
        "id": "9968282f-cd37-47dd-bd2d-a9b81383b345"
      },
      "source": [
        "**Una binomial se logra con \\binom y las llaves, como por ejemplo:**\n",
        "\n",
        "~~~latex\n",
        "$\\binom{n}{k}$\n",
        "~~~\n",
        "\n",
        "**y queda de la siguiente forma:**\n",
        "\n",
        "$\\binom{n}{k}$\n"
      ]
    },
    {
      "cell_type": "markdown",
      "id": "8c6b319f-3150-4f57-85bf-6b0bbde560fd",
      "metadata": {
        "id": "8c6b319f-3150-4f57-85bf-6b0bbde560fd"
      },
      "source": [
        "### **Combinaciones de fracciones con binomiales**"
      ]
    },
    {
      "cell_type": "markdown",
      "id": "62a363a3-c472-41f3-9306-9def45f8ae9d",
      "metadata": {
        "id": "62a363a3-c472-41f3-9306-9def45f8ae9d"
      },
      "source": [
        "**Para combinar fracciones con binomiales se podría hacer algo como por ejemplo:**\n",
        "\n",
        "~~~latex\n",
        "$\\frac{n!}{k!(n-k)!}=\\binom{n}{k}$\n",
        "~~~\n",
        "\n",
        "**y queda de la siguiente forma:**\n",
        "\n",
        "$\\frac{n!}{k!(n-k)!}=\\binom{n}{k}$\n"
      ]
    },
    {
      "cell_type": "markdown",
      "id": "287b1141-1009-4d4e-8420-136f629e0769",
      "metadata": {
        "id": "287b1141-1009-4d4e-8420-136f629e0769"
      },
      "source": [
        "## **Potencias e índices**"
      ]
    },
    {
      "cell_type": "markdown",
      "id": "5282df97-4867-4266-8911-af2a2def1e19",
      "metadata": {
        "id": "5282df97-4867-4266-8911-af2a2def1e19"
      },
      "source": [
        "### **Potencias**"
      ]
    },
    {
      "cell_type": "markdown",
      "id": "c6be52ca-76e4-4938-b1ee-2d316b269775",
      "metadata": {
        "id": "c6be52ca-76e4-4938-b1ee-2d316b269775"
      },
      "source": [
        "**Para potencias se utliza el símbolo ^ que indica la potencia, y la misma debe escribirse entre llaves, por ejemplo:**\n",
        "\n",
        "~~~latex\n",
        "$n^{10}$\n",
        "~~~\n",
        "\n",
        "**y queda de la siguiente forma:**\n",
        "\n",
        "$n^{10}$\n"
      ]
    },
    {
      "cell_type": "markdown",
      "id": "e1912e9a-a1d5-45a7-a322-91b01b056643",
      "metadata": {
        "id": "e1912e9a-a1d5-45a7-a322-91b01b056643"
      },
      "source": [
        "### **Índices**"
      ]
    },
    {
      "cell_type": "markdown",
      "id": "f22263c8-5603-4319-a1eb-7cc95f10a514",
      "metadata": {
        "id": "f22263c8-5603-4319-a1eb-7cc95f10a514"
      },
      "source": [
        "**Para los índices, se utiliza el símbolo _ guión bajo, y también se debe escribir entre llaves, por ejemplo:**\n",
        "\n",
        "~~~latex\n",
        "$k_{n+1}$\n",
        "~~~\n",
        "\n",
        "**y queda de la siguiente forma:**\n",
        "\n",
        "$k_{n+1}$\n"
      ]
    },
    {
      "cell_type": "markdown",
      "id": "34f2c747-8478-4fe0-90b2-deb45d5c0d77",
      "metadata": {
        "id": "34f2c747-8478-4fe0-90b2-deb45d5c0d77"
      },
      "source": [
        "### **Combinación de potencias e índices**"
      ]
    },
    {
      "cell_type": "markdown",
      "id": "c7538aee-2f89-4662-9681-709edb29421b",
      "metadata": {
        "id": "c7538aee-2f89-4662-9681-709edb29421b"
      },
      "source": [
        "**Se pueden combinar las potencias y los índices, por ejemplo en el caso de escribir la sumatoria \\sum, que tiene un índice y una potencia, lo que se hace de esta forma:**\n",
        "\n",
        "~~~latex\n",
        "$\\sum_{i=0}^t$\n",
        "~~~\n",
        "\n",
        "**y queda de la siguiente forma:**\n",
        "\n",
        "$\\sum_{i=0}^t$\n"
      ]
    },
    {
      "cell_type": "markdown",
      "id": "0c8e4a06-8a85-4211-b40e-57e0c6bfc045",
      "metadata": {
        "id": "0c8e4a06-8a85-4211-b40e-57e0c6bfc045"
      },
      "source": [
        "**Tambien se pueden utilizar los símbolos para potencias e índices, y escribir fracciones:**\n",
        "\n",
        "~~~latex\n",
        "$^3/_7$\n",
        "~~~\n",
        "\n",
        "**y queda de la siguiente forma:**\n",
        "\n",
        "$^3/_7$\n"
      ]
    },
    {
      "cell_type": "markdown",
      "id": "5c79a051-f0d2-4af7-9814-d779a243fe55",
      "metadata": {
        "id": "5c79a051-f0d2-4af7-9814-d779a243fe55"
      },
      "source": [
        "## **Raíces**"
      ]
    },
    {
      "cell_type": "markdown",
      "id": "860297ad-ecb5-498f-bd8f-64387f439cac",
      "metadata": {
        "id": "860297ad-ecb5-498f-bd8f-64387f439cac"
      },
      "source": [
        "**La raiz cuadrada se logra con \\sqrt y entre llaves el contenido de la misma:**\n",
        "\n",
        "~~~latex\n",
        "$\\sqrt{\\frac{a}{b}}$\n",
        "~~~\n",
        "\n",
        "**y queda de la siguiente forma:**\n",
        "\n",
        "$\\sqrt{\\frac{a}{b}}$\n",
        "\n",
        "**Para una raiz cúbica, se coloca entre corchetes en número 3:**\n",
        "\n",
        "~~~latex\n",
        "$\\sqrt[3]{\\frac{a}{b}}$\n",
        "~~~\n",
        "\n",
        "**y queda de la siguiente forma:**\n",
        "\n",
        "$\\sqrt[3]{\\frac{a}{b}}$\n",
        "\n",
        "**Otro ejemplo de raiz:**\n",
        "\n",
        "~~~latex\n",
        "$\\sqrt[n]{1+x+x^2+x^3\\dots+x^n}$\n",
        "~~~\n",
        "\n",
        "**y queda de la siguiente forma:**\n",
        "\n",
        "$\\sqrt[n]{1+x+x^2+x^3\\dots+x^n}$\n"
      ]
    },
    {
      "cell_type": "markdown",
      "id": "8aa42907-64a5-4ac2-8f09-2f3f3b127c1a",
      "metadata": {
        "id": "8aa42907-64a5-4ac2-8f09-2f3f3b127c1a"
      },
      "source": [
        "## **Sumatorias e integrales**"
      ]
    },
    {
      "cell_type": "markdown",
      "id": "4ece49f4-28d7-4157-84e9-f221cdbf41dd",
      "metadata": {
        "id": "4ece49f4-28d7-4157-84e9-f221cdbf41dd"
      },
      "source": [
        "### **Sumatorias**"
      ]
    },
    {
      "cell_type": "markdown",
      "id": "45bfa437-b408-452d-aed2-cd98e6459acf",
      "metadata": {
        "id": "45bfa437-b408-452d-aed2-cd98e6459acf"
      },
      "source": [
        "**Las sumatorias se logran con \\sum, y los símbolos asignados para potencia y para índice:**\n",
        "\n",
        "~~~latex\n",
        "$\\sum_{i=1}^{10} t_i$\n",
        "~~~\n",
        "\n",
        "**y queda de la siguiente manera:**\n",
        "\n",
        "$\\sum_{i=1}^{10} t_i$\n",
        "\n",
        "**Si quisieramos la sumatoria en la notación matemática que usualmente estamos acostumbrados, se debe agregar antes \\displaystyle de la siguiente forma:**\n",
        "\n",
        "~~~latex\n",
        "$\\displaystyle\\sum_{i=1}^{n} t_i$\n",
        "~~~\n",
        "\n",
        "**y queda de la siguiente manera:**\n",
        "\n",
        "$\\displaystyle\\sum_{i=1}^{n} t_i$\n"
      ]
    },
    {
      "cell_type": "markdown",
      "id": "08be1597-6c53-4a57-a56f-2ecf019110f7",
      "metadata": {
        "id": "08be1597-6c53-4a57-a56f-2ecf019110f7"
      },
      "source": [
        "### **Integrales**"
      ]
    },
    {
      "cell_type": "markdown",
      "id": "6c4ca41d-7ef4-4e58-8a7c-b1618b1ad447",
      "metadata": {
        "id": "6c4ca41d-7ef4-4e58-8a7c-b1618b1ad447"
      },
      "source": [
        "**Para una integral se usa \\int, y para el símbolo infinito se usa \\infty, y la integral se escribe:**\n",
        "\n",
        "~~~latex\n",
        "$\\int_0^\\infty e^{-x} dx$\n",
        "~~~\n",
        "\n",
        "**y queda de la siguiente manera:**\n",
        "\n",
        "$\\int_0^\\infty e^{-x} dx$\n",
        "\n",
        "**Si quisieramos la integral en la notación matemática que usualmente estamos acostumbrados, al igual que en la sumatoria, se debe agregar antes \\displaystyle de la siguiente forma:**\n",
        "\n",
        "~~~latex\n",
        "$\\displaystyle\\int_0^\\infty e^{-x} dx$\n",
        "~~~\n",
        "\n",
        "**y queda de la siguiente manera:**\n",
        "\n",
        "$\\displaystyle\\int_0^\\infty e^{-x} dx$"
      ]
    },
    {
      "cell_type": "markdown",
      "id": "eb6a87e2-eab4-452e-83b4-6269d0f0e69a",
      "metadata": {
        "id": "eb6a87e2-eab4-452e-83b4-6269d0f0e69a"
      },
      "source": [
        "## **Paréntesis, corchetes y llaves**"
      ]
    },
    {
      "cell_type": "markdown",
      "id": "9b1757a6-9df3-4233-9d5c-3eb1d60554a4",
      "metadata": {
        "id": "9b1757a6-9df3-4233-9d5c-3eb1d60554a4"
      },
      "source": [
        "**Los paréntesis, corchetes y llaves se escriben directamente con los símbolos que conocemos, y quedan de la siguiente manera:**\n",
        "\n",
        "$(a+b+c)$\n",
        "\n",
        "$[123+89]$\n",
        "\n",
        "${2x+8y}$"
      ]
    },
    {
      "cell_type": "markdown",
      "id": "312f5531-2730-4d7b-a24f-d2ddfd18cbb7",
      "metadata": {
        "id": "312f5531-2730-4d7b-a24f-d2ddfd18cbb7"
      },
      "source": [
        "## **Matrices**"
      ]
    },
    {
      "cell_type": "markdown",
      "id": "00dcdb06-5b75-460b-b165-d785e00c41f7",
      "metadata": {
        "id": "00dcdb06-5b75-460b-b165-d785e00c41f7"
      },
      "source": [
        "**Para una matriz se usan diferentes comandos en la sintaxis. Para comenzar la matriz se usa \\begin{matrix}.** \n",
        "\n",
        "**Luego los valores de la matriz se separan por dos símbolos \\, y para finalizar se usa \\end{matrix}**\n",
        "\n",
        "**En el caso de una matriz $3\\times3$**\n",
        "\n",
        "~~~\n",
        "$\\begin{matrix} 21 & 34 & 23 \\\\ 45 & 32 & 45 \\\\ 23 & 54 & 38\\end{matrix}$\n",
        "~~~\n",
        "\n",
        "**y queda de la siguiente forma:**\n",
        "\n",
        "$\\begin{matrix} 21 & 34 & 23 \\\\45 & 32 & 45 \\\\23 & 54 & 38\\end{matrix}$\n"
      ]
    },
    {
      "cell_type": "markdown",
      "id": "5f49a1da-4f81-494c-b09f-25922ddbaafc",
      "metadata": {
        "id": "5f49a1da-4f81-494c-b09f-25922ddbaafc"
      },
      "source": [
        "**Otro ejemplo de matriz:**\n",
        "\n",
        "**Para agregar paréntesis a la matriz se usa {pmatrix}**\n",
        "\n",
        "~~~\n",
        "$$A_{m,n} = \\begin{pmatrix} \n",
        "            a_{1,1} & a_{1,2} & \\cdots & a_{1,n} \\\\ \n",
        "            a_{2,1} & a_{2,2} & \\cdots & a_{2,n} \\\\ \n",
        "            \\vdots  & \\vdots  & \\ddots & \\vdots  \\\\ \n",
        "            a_{m,1} & a_{m,2} & \\cdots & a_{m,n} \n",
        "            \\end{pmatrix}$$\n",
        "~~~\n",
        " \n",
        "**y queda de la siguiente forma:**\n",
        "\n",
        "$$A_{m,n} = \\begin{pmatrix} a_{1,1} & a_{1,2} & \\cdots & a_{1,n} \\\\ a_{2,1} & a_{2,2} & \\cdots & a_{2,n} \\\\ \\vdots  & \\vdots  & \\ddots & \\vdots  \\\\ a_{m,1} & a_{m,2} & \\cdots & a_{m,n} \\end{pmatrix}$$"
      ]
    },
    {
      "cell_type": "markdown",
      "id": "ecf0b5d3-5201-4705-9de0-b91aa6d45d30",
      "metadata": {
        "id": "ecf0b5d3-5201-4705-9de0-b91aa6d45d30"
      },
      "source": [
        "**Lo mismo, pero con corchetes, {bmatrix}:**\n",
        "\n",
        "~~~\n",
        "$$A_{m,n} = \\begin{bmatrix} \n",
        "            a_{1,1} & a_{1,2} & \\cdots & a_{1,n} \\\\ \n",
        "            a_{2,1} & a_{2,2} & \\cdots & a_{2,n} \\\\ \n",
        "            \\vdots  & \\vdots  & \\ddots & \\vdots  \\\\ \n",
        "            a_{m,1} & a_{m,2} & \\cdots & a_{m,n} \n",
        "            \\end{bmatrix}$$\n",
        "~~~\n",
        " \n",
        "**y queda de la siguiente forma:**\n",
        "\n",
        "$$A_{m,n} = \\begin{bmatrix} a_{1,1} & a_{1,2} & \\cdots & a_{1,n} \\\\ a_{2,1} & a_{2,2} & \\cdots & a_{2,n} \\\\ \\vdots  & \\vdots  & \\ddots & \\vdots  \\\\ a_{m,1} & a_{m,2} & \\cdots & a_{m,n} \\end{bmatrix}$$"
      ]
    },
    {
      "cell_type": "markdown",
      "id": "0b02adec-546a-4c71-9def-ed1e61c6f591",
      "metadata": {
        "id": "0b02adec-546a-4c71-9def-ed1e61c6f591"
      },
      "source": [
        "**Ahora con llaves {Bmatrix}:**\n",
        "\n",
        "~~~\n",
        "$$A_{m,n} = \\begin{Bmatrix} \n",
        "            a_{1,1} & a_{1,2} & \\cdots & a_{1,n} \\\\ \n",
        "            a_{2,1} & a_{2,2} & \\cdots & a_{2,n} \\\\ \n",
        "            \\vdots  & \\vdots  & \\ddots & \\vdots  \\\\ \n",
        "            a_{m,1} & a_{m,2} & \\cdots & a_{m,n} \n",
        "            \\end{Bmatrix}$$\n",
        "~~~\n",
        " \n",
        "**y queda de la siguiente forma:**\n",
        "\n",
        "$$A_{m,n} = \\begin{Bmatrix} a_{1,1} & a_{1,2} & \\cdots & a_{1,n} \\\\ a_{2,1} & a_{2,2} & \\cdots & a_{2,n} \\\\ \\vdots  & \\vdots  & \\ddots & \\vdots  \\\\ a_{m,1} & a_{m,2} & \\cdots & a_{m,n} \\end{Bmatrix}$$"
      ]
    },
    {
      "cell_type": "markdown",
      "id": "4039ccdc-6b6a-4e84-bcde-06804b6d20ea",
      "metadata": {
        "id": "4039ccdc-6b6a-4e84-bcde-06804b6d20ea"
      },
      "source": [
        "**Con barras {vmatrix}:**\n",
        "\n",
        "~~~\n",
        "$$A_{m,n} = \\begin{vmatrix} \n",
        "            a_{1,1} & a_{1,2} & \\cdots & a_{1,n} \\\\ \n",
        "            a_{2,1} & a_{2,2} & \\cdots & a_{2,n} \\\\ \n",
        "            \\vdots  & \\vdots  & \\ddots & \\vdots  \\\\ \n",
        "            a_{m,1} & a_{m,2} & \\cdots & a_{m,n} \n",
        "            \\end{vmatrix}$$\n",
        "~~~\n",
        " \n",
        "**y queda de la siguiente forma:**\n",
        "\n",
        "$$A_{m,n} = \\begin{vmatrix} a_{1,1} & a_{1,2} & \\cdots & a_{1,n} \\\\ a_{2,1} & a_{2,2} & \\cdots & a_{2,n} \\\\ \\vdots  & \\vdots  & \\ddots & \\vdots  \\\\ a_{m,1} & a_{m,2} & \\cdots & a_{m,n} \\end{vmatrix}$$"
      ]
    },
    {
      "cell_type": "markdown",
      "id": "58b83a36-ee8b-4d20-a7a1-36d40555d8da",
      "metadata": {
        "id": "58b83a36-ee8b-4d20-a7a1-36d40555d8da"
      },
      "source": [
        "**Con doble barras {Vmatrix}:**\n",
        "\n",
        "~~~\n",
        "$$A_{m,n} = \\begin{Vmatrix} \n",
        "            a_{1,1} & a_{1,2} & \\cdots & a_{1,n} \\\\ \n",
        "            a_{2,1} & a_{2,2} & \\cdots & a_{2,n} \\\\ \n",
        "            \\vdots  & \\vdots  & \\ddots & \\vdots  \\\\ \n",
        "            a_{m,1} & a_{m,2} & \\cdots & a_{m,n} \n",
        "            \\end{Vmatrix}$$\n",
        "~~~\n",
        " \n",
        "**y queda de la siguiente forma:**\n",
        "\n",
        "$$A_{m,n} = \\begin{Vmatrix} a_{1,1} & a_{1,2} & \\cdots & a_{1,n} \\\\ a_{2,1} & a_{2,2} & \\cdots & a_{2,n} \\\\ \\vdots  & \\vdots  & \\ddots & \\vdots  \\\\ a_{m,1} & a_{m,2} & \\cdots & a_{m,n} \\end{Vmatrix}$$"
      ]
    },
    {
      "cell_type": "markdown",
      "id": "7ff4afa9-6d8e-4287-bc60-cf26c4c52ad6",
      "metadata": {
        "id": "7ff4afa9-6d8e-4287-bc60-cf26c4c52ad6"
      },
      "source": [
        "## **Símbolos de relación**\n",
        "\n",
        "**Algunos símbolos de relación y su correspondiente notación en $\\LaTeX{}$**"
      ]
    },
    {
      "cell_type": "markdown",
      "id": "9e4e2b28-051f-4409-a4b9-343394ffe125",
      "metadata": {
        "id": "9e4e2b28-051f-4409-a4b9-343394ffe125"
      },
      "source": [
        "+ Se escribe \\leq para el símbolo $\\leq$\n",
        "+ Se escribe \\ll para el símbolo $\\ll$\n",
        "+ Se escribe \\subset para el símbolo $\\subset$\n",
        "+ Se escribe \\subseteq para el símbolo $\\subseteq$\n",
        "+ Se escribe \\nsubseteq para el símbolo $\\nsubseteq$\n",
        "+ Se escribe \\sqsubset para el símbolo $\\sqsubset$\n",
        "+ Se escribe \\sqsubseteq para el símbolo $\\sqsubseteq$\n",
        "+ Se escribe \\preceq para el símbolo $\\preceq$\n",
        "+ Se escribe \\therefore para el símbolo $\\therefore$\n",
        "+ Se escribe \\geq para el símbolo $\\geq$\n",
        "+ Se escribe \\gg para el símbolo $\\gg$\n",
        "+ Se escribe \\supset para el símbolo $\\supset$\n",
        "+ Se escribe \\supseteq para el símbolo $\\supseteq$\n",
        "+ Se escribe \\nsupseteq para el símbolo $\\nsupseteq$\n",
        "+ Se escribe \\sqsupset para el símbolo $\\sqsupset$\n",
        "+ Se escribe \\sqsupseteq para el símbolo $\\sqsupseteq$\n",
        "+ Se escribe \\succeq para el símbolo $\\succeq$\n",
        "+ Se escribe \\because para el símbolo $\\because$"
      ]
    },
    {
      "cell_type": "markdown",
      "id": "fb086422-80c4-47d6-903f-866b91e29d4f",
      "metadata": {
        "id": "fb086422-80c4-47d6-903f-866b91e29d4f"
      },
      "source": [
        "## **Símbolos de puntuación**\n",
        "\n",
        "**Algunos simbolos de puntuación...***"
      ]
    },
    {
      "cell_type": "markdown",
      "id": "b851334f-2dd3-4328-ae3d-2a7097d5bbe7",
      "metadata": {
        "id": "b851334f-2dd3-4328-ae3d-2a7097d5bbe7"
      },
      "source": [
        "+ Se escribe \\dots para el símbolo $\\dots$\n",
        "+ Se escribe \\cdots para el símbolo $\\cdots$ y quedan centrados en la línea\n",
        "+ Se escribe \\vdots para el símbolo $\\vdots$\n",
        "+ Se escribe \\ddots para el símbolo $\\ddots$"
      ]
    },
    {
      "cell_type": "markdown",
      "id": "db7b7924-f8a4-4530-9fe6-a807ac05f179",
      "metadata": {
        "id": "db7b7924-f8a4-4530-9fe6-a807ac05f179"
      },
      "source": [
        "## **Símbolos de operaciones binarias**\n",
        "\n",
        "**Algunos símbolos para operaciones binarias...**"
      ]
    },
    {
      "cell_type": "markdown",
      "id": "3c96aef8-dd99-4d82-b6d1-a3ca987ccc04",
      "metadata": {
        "id": "3c96aef8-dd99-4d82-b6d1-a3ca987ccc04"
      },
      "source": [
        "+ Se escribe \\times para el símbolo $\\times$\n",
        "+ Se escribe \\div para el símbolo $\\div$\n",
        "+ Se escribe \\ast para el símbolo $\\ast$\n",
        "+ Se escribe \\star para el símbolo $\\star$\n",
        "+ Se escribe \\vee para el símbolo $\\vee$\n",
        "+ Se escribe \\wedge para el símbolo $\\wedge$\n",
        "+ Se escribe \\cdot para el símbolo $\\cdot$\n",
        "+ Se escribe \\bullet para el símbolo $\\bullet$\n",
        "+ Se escribe \\otimes para el símbolo $\\otimes$\n",
        "+ Se escribe \\odot para el símbolo $\\odot$\n",
        "+ Se escribe \\setminus para el símbolo $\\setminus$\n",
        "+ Se escribe \\diamond para el símbolo $\\diamond$\n",
        "+ Se escribe \\bigtriangleup para el símbolo $\\bigtriangleup$\n",
        "+ Se escribe \\bigtriangledown para el símbolo $\\bigtriangledown$"
      ]
    },
    {
      "cell_type": "markdown",
      "id": "a52ec133-4b78-4fdd-8288-a0651f405b20",
      "metadata": {
        "id": "a52ec133-4b78-4fdd-8288-a0651f405b20"
      },
      "source": [
        "## **Símbolos de notaciones lógicas**\n",
        "\n",
        "**Algunos símbolos para notaciones lógicas**"
      ]
    },
    {
      "cell_type": "markdown",
      "id": "f7bedbe6-bb05-4301-b756-bc989b2b185b",
      "metadata": {
        "id": "f7bedbe6-bb05-4301-b756-bc989b2b185b"
      },
      "source": [
        "+ Se escribe \\exists para el símbolo $\\exists$\n",
        "+ Se escribe \\nexists para el símbolo $\\nexists$\n",
        "+ Se escribe \\forall para el símbolo $\\forall$\n",
        "+ Se escribe \\subset para el símbolo $\\subset$\n",
        "+ Se escribe \\supset para el símbolo $\\supset$\n",
        "+ Se escribe \\in para el símbolo $\\in$\n",
        "+ Se escribe \\notin para el símbolo $\\notin$\n",
        "+ Se escribe \\ni para el símbolo $\\ni$\n",
        "+ Se escribe \\implies para el símbolo $\\implies$"
      ]
    },
    {
      "cell_type": "markdown",
      "id": "8211c63f-87ec-476a-b9ad-d4968cf6194c",
      "metadata": {
        "id": "8211c63f-87ec-476a-b9ad-d4968cf6194c"
      },
      "source": [
        "## **Algunas letras griegas**"
      ]
    },
    {
      "cell_type": "markdown",
      "id": "61517fb6-023f-4270-b45f-5ae58fa63c92",
      "metadata": {
        "id": "61517fb6-023f-4270-b45f-5ae58fa63c92"
      },
      "source": [
        "+ La letra alfa se escribe \\alpha y se visualiza $\\alpha$\n",
        "+ La letra beta se escribe \\beta y se visualiza $\\beta$\n",
        "+ La letra gama se escribe \\gamma y se visualiza $\\gamma$\n",
        "+ La letra delta se escribe \\delta y se visualiza $\\delta$\n",
        "+ La letra epsilon se escribe \\epsilon y se visualiza $\\epsilon$\n",
        "+ La letra omega se escribe \\omega y se visualiza $\\omega$\n",
        "+ La letra pi se escribe \\pi y se visualiza $\\pi$\n",
        "+ La letra tita se escribe \\theta y se visualiza $\\theta$\n",
        "+ La letra kapa se escribe \\kappa y se visualiza $\\kappa$\n",
        "+ La letra lambda se escribe \\lambda y se visualiza $\\lambda$\n",
        "+ La letra sigma se escribe \\sigma y se visualiza $\\sigma$\n"
      ]
    },
    {
      "cell_type": "markdown",
      "source": [
        "## **Algunos ejemplos de ecuaciones...**"
      ],
      "metadata": {
        "id": "TYlhr6ZyUg_Z"
      },
      "id": "TYlhr6ZyUg_Z"
    },
    {
      "cell_type": "markdown",
      "source": [
        "**Primer ejemplo:**\n",
        "~~~md\n",
        "$y_t = \\frac{\\sum_{i=0}^t w_i x_{t-i}}{\\sum_{i=0}^t w_i}$\n",
        "~~~\n",
        "\n",
        "$y_t = \\frac{\\sum_{i=0}^t w_i x_{t-i}}{\\sum_{i=0}^t w_i}$\n",
        "\n",
        "**Segundo ejemplo:**\n",
        "~~~markdown\n",
        "$y_t = \\frac{x_t + (1 - \\alpha)x_{t-1} + (1 - \\alpha)^2 x_{t-2} +(1 - \\alpha)^t x_{0}}{1 + (1 - \\alpha) + (1 - \\alpha)^2 + (1 - \\alpha)^t} $\n",
        "~~~\n",
        "\n",
        "$ y_t = \\frac{x_t + (1 - \\alpha)x_{t-1} + (1 - \\alpha)^2 x_{t-2} +(1 - \\alpha)^t x_{0}}{1 + (1 - \\alpha) + (1 - \\alpha)^2 + (1 - \\alpha)^t} $\n",
        "\n",
        "**Tercer ejemplo:**\n",
        "~~~markdown\n",
        "$\\begin{split}y_0 &= x_0 \\\\\n",
        "y_t &= (1 - \\alpha) y_{t-1} + \\alpha x_t,\\end{split}$\n",
        "~~~\n",
        "\n",
        "$ \\begin{split}y_0 &= x_0 \\\\\n",
        "y_t &= (1 - \\alpha) y_{t-1} + \\alpha x_t,\\end{split}$\n",
        "\n",
        "**Cuarto ejemplo:**\n",
        "~~~markdown\n",
        "$\\begin{split}w_j = \\begin{cases}\n",
        "    \\alpha (1 - \\alpha)^j & \\text{si } j < t \\\\\n",
        "    (1 - \\alpha)^j        & \\text{si } j = t.\n",
        "\\end{cases}\\end{split}$\n",
        "~~~\n",
        "\n",
        "$\\begin{split}w_j = \\begin{cases}\n",
        "    \\alpha (1 - \\alpha)^j & \\text{si } j < t \\\\\n",
        "    (1 - \\alpha)^j        & \\text{si } j = t.\n",
        "\\end{cases}\\end{split}$\n"
      ],
      "metadata": {
        "id": "RyiHG4VIUqrR"
      },
      "id": "RyiHG4VIUqrR"
    },
    {
      "cell_type": "markdown",
      "id": "57eb80af-b4cb-43f5-87df-3280ecff796f",
      "metadata": {
        "id": "57eb80af-b4cb-43f5-87df-3280ecff796f"
      },
      "source": [
        "![latex](https://www.latex-project.org/img/latex-project-logo.svg)"
      ]
    },
    {
      "cell_type": "markdown",
      "id": "27edb042-13a0-4e39-939e-e009eae00a9b",
      "metadata": {
        "id": "27edb042-13a0-4e39-939e-e009eae00a9b"
      },
      "source": [
        "**Hemos llegado al fin de este cuaderno, felicitaciones hemos aprendido un poco de $\\LaTeX{}$ para poder mejorar nuestras celdas de texto, ahora a seguir en el proximo cuaderno...** "
      ]
    },
    {
      "cell_type": "markdown",
      "id": "140bef33-fc23-4e0b-b188-8f4a253a0b19",
      "metadata": {
        "id": "140bef33-fc23-4e0b-b188-8f4a253a0b19"
      },
      "source": [
        "![nenunenu](https://emojipedia-us.s3.dualstack.us-west-1.amazonaws.com/thumbs/60/apple/124/smiling-face-with-smiling-eyes_1f60a.png)"
      ]
    }
  ],
  "metadata": {
    "kernelspec": {
      "display_name": "Python 3 (ipykernel)",
      "language": "python",
      "name": "python3"
    },
    "language_info": {
      "codemirror_mode": {
        "name": "ipython",
        "version": 3
      },
      "file_extension": ".py",
      "mimetype": "text/x-python",
      "name": "python",
      "nbconvert_exporter": "python",
      "pygments_lexer": "ipython3",
      "version": "3.10.2"
    },
    "colab": {
      "name": "lt-01.ipynb",
      "provenance": [],
      "collapsed_sections": [],
      "include_colab_link": true
    }
  },
  "nbformat": 4,
  "nbformat_minor": 5
}