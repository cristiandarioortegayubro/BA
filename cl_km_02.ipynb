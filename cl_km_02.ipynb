{
  "nbformat": 4,
  "nbformat_minor": 0,
  "metadata": {
    "colab": {
      "provenance": [],
      "collapsed_sections": [],
      "toc_visible": true,
      "include_colab_link": true
    },
    "kernelspec": {
      "name": "python3",
      "display_name": "Python 3"
    }
  },
  "cells": [
    {
      "cell_type": "markdown",
      "metadata": {
        "id": "view-in-github",
        "colab_type": "text"
      },
      "source": [
        "<a href=\"https://colab.research.google.com/github/cristiandarioortegayubro/BA/blob/main/cl_km_02.ipynb\" target=\"_parent\"><img src=\"https://colab.research.google.com/assets/colab-badge.svg\" alt=\"Open In Colab\"/></a>"
      ]
    },
    {
      "cell_type": "markdown",
      "metadata": {
        "id": "qm37t7DadMXJ"
      },
      "source": [
        "![logo](https://github.com/cristiandarioortegayubro/BA/blob/main/dba.png?raw=true)"
      ]
    },
    {
      "cell_type": "markdown",
      "source": [
        "![](https://scikit-learn.org/stable/_static/scikit-learn-logo-small.png)"
      ],
      "metadata": {
        "id": "B3QmA6yV-SWf"
      }
    },
    {
      "cell_type": "markdown",
      "metadata": {
        "id": "aFDMU-W_5qMZ"
      },
      "source": [
        "## **Carga de bibliotecas necesarias**"
      ]
    },
    {
      "cell_type": "markdown",
      "metadata": {
        "id": "HyiJ29ckp36X"
      },
      "source": [
        "### **Para el tratamiento de los datos**"
      ]
    },
    {
      "cell_type": "code",
      "metadata": {
        "id": "dgWMRzBsCfMf"
      },
      "source": [
        "import pandas as pd\n",
        "import numpy as np"
      ],
      "execution_count": 1,
      "outputs": []
    },
    {
      "cell_type": "markdown",
      "metadata": {
        "id": "MKZgiKQRqB4T"
      },
      "source": [
        "### **Para gráficos**"
      ]
    },
    {
      "cell_type": "code",
      "metadata": {
        "id": "a0UTrTOwqMa2"
      },
      "source": [
        "import plotly.express as px\n",
        "import plotly.graph_objects as go"
      ],
      "execution_count": 2,
      "outputs": []
    },
    {
      "cell_type": "markdown",
      "metadata": {
        "id": "I8M_73sPqNMF"
      },
      "source": [
        "### **Para preprocesamiento de datos y modelo**"
      ]
    },
    {
      "cell_type": "code",
      "metadata": {
        "id": "7FIclv-VqnEd"
      },
      "source": [
        "import sklearn\n",
        "from sklearn import cluster\n",
        "from sklearn.cluster import KMeans\n",
        "from sklearn.preprocessing import scale\n",
        "import sklearn.metrics as metrics\n",
        "from sklearn.metrics import silhouette_score"
      ],
      "execution_count": 3,
      "outputs": []
    },
    {
      "cell_type": "markdown",
      "metadata": {
        "id": "QhP9QDanakVE"
      },
      "source": [
        "## **Extracción de Datos - Creación del DataFrame**"
      ]
    },
    {
      "cell_type": "code",
      "metadata": {
        "id": "G8vmNkoHasus"
      },
      "source": [
        "datos = \"https://raw.githubusercontent.com/cristiandarioortegayubro/BA/main/Datasets/Clientes.csv\""
      ],
      "execution_count": 4,
      "outputs": []
    },
    {
      "cell_type": "code",
      "metadata": {
        "colab": {
          "base_uri": "https://localhost:8080/",
          "height": 419
        },
        "id": "w1CY0Bo-b1Nh",
        "outputId": "a27df93e-893d-4301-f8c1-4aa18f584d30"
      },
      "source": [
        "clientes = pd.read_csv(datos)\n",
        "clientes"
      ],
      "execution_count": 5,
      "outputs": [
        {
          "output_type": "execute_result",
          "data": {
            "text/plain": [
              "           ID  Trabajo  Edad  Salario Compra\n",
              "0    15624510        1    19    19000     No\n",
              "1    15810944        1    35    20000     No\n",
              "2    15668575        0    26    43000     No\n",
              "3    15603246        0    27    57000     No\n",
              "4    15804002        1    19    76000     No\n",
              "..        ...      ...   ...      ...    ...\n",
              "395  15691863        0    46    41000     Si\n",
              "396  15706071        1    51    23000     Si\n",
              "397  15654296        0    50    20000     Si\n",
              "398  15755018        1    36    33000     No\n",
              "399  15594041        0    49    36000     Si\n",
              "\n",
              "[400 rows x 5 columns]"
            ],
            "text/html": [
              "\n",
              "  <div id=\"df-c60639bb-19a6-4828-ae44-a106bd1b814f\">\n",
              "    <div class=\"colab-df-container\">\n",
              "      <div>\n",
              "<style scoped>\n",
              "    .dataframe tbody tr th:only-of-type {\n",
              "        vertical-align: middle;\n",
              "    }\n",
              "\n",
              "    .dataframe tbody tr th {\n",
              "        vertical-align: top;\n",
              "    }\n",
              "\n",
              "    .dataframe thead th {\n",
              "        text-align: right;\n",
              "    }\n",
              "</style>\n",
              "<table border=\"1\" class=\"dataframe\">\n",
              "  <thead>\n",
              "    <tr style=\"text-align: right;\">\n",
              "      <th></th>\n",
              "      <th>ID</th>\n",
              "      <th>Trabajo</th>\n",
              "      <th>Edad</th>\n",
              "      <th>Salario</th>\n",
              "      <th>Compra</th>\n",
              "    </tr>\n",
              "  </thead>\n",
              "  <tbody>\n",
              "    <tr>\n",
              "      <th>0</th>\n",
              "      <td>15624510</td>\n",
              "      <td>1</td>\n",
              "      <td>19</td>\n",
              "      <td>19000</td>\n",
              "      <td>No</td>\n",
              "    </tr>\n",
              "    <tr>\n",
              "      <th>1</th>\n",
              "      <td>15810944</td>\n",
              "      <td>1</td>\n",
              "      <td>35</td>\n",
              "      <td>20000</td>\n",
              "      <td>No</td>\n",
              "    </tr>\n",
              "    <tr>\n",
              "      <th>2</th>\n",
              "      <td>15668575</td>\n",
              "      <td>0</td>\n",
              "      <td>26</td>\n",
              "      <td>43000</td>\n",
              "      <td>No</td>\n",
              "    </tr>\n",
              "    <tr>\n",
              "      <th>3</th>\n",
              "      <td>15603246</td>\n",
              "      <td>0</td>\n",
              "      <td>27</td>\n",
              "      <td>57000</td>\n",
              "      <td>No</td>\n",
              "    </tr>\n",
              "    <tr>\n",
              "      <th>4</th>\n",
              "      <td>15804002</td>\n",
              "      <td>1</td>\n",
              "      <td>19</td>\n",
              "      <td>76000</td>\n",
              "      <td>No</td>\n",
              "    </tr>\n",
              "    <tr>\n",
              "      <th>...</th>\n",
              "      <td>...</td>\n",
              "      <td>...</td>\n",
              "      <td>...</td>\n",
              "      <td>...</td>\n",
              "      <td>...</td>\n",
              "    </tr>\n",
              "    <tr>\n",
              "      <th>395</th>\n",
              "      <td>15691863</td>\n",
              "      <td>0</td>\n",
              "      <td>46</td>\n",
              "      <td>41000</td>\n",
              "      <td>Si</td>\n",
              "    </tr>\n",
              "    <tr>\n",
              "      <th>396</th>\n",
              "      <td>15706071</td>\n",
              "      <td>1</td>\n",
              "      <td>51</td>\n",
              "      <td>23000</td>\n",
              "      <td>Si</td>\n",
              "    </tr>\n",
              "    <tr>\n",
              "      <th>397</th>\n",
              "      <td>15654296</td>\n",
              "      <td>0</td>\n",
              "      <td>50</td>\n",
              "      <td>20000</td>\n",
              "      <td>Si</td>\n",
              "    </tr>\n",
              "    <tr>\n",
              "      <th>398</th>\n",
              "      <td>15755018</td>\n",
              "      <td>1</td>\n",
              "      <td>36</td>\n",
              "      <td>33000</td>\n",
              "      <td>No</td>\n",
              "    </tr>\n",
              "    <tr>\n",
              "      <th>399</th>\n",
              "      <td>15594041</td>\n",
              "      <td>0</td>\n",
              "      <td>49</td>\n",
              "      <td>36000</td>\n",
              "      <td>Si</td>\n",
              "    </tr>\n",
              "  </tbody>\n",
              "</table>\n",
              "<p>400 rows × 5 columns</p>\n",
              "</div>\n",
              "      <button class=\"colab-df-convert\" onclick=\"convertToInteractive('df-c60639bb-19a6-4828-ae44-a106bd1b814f')\"\n",
              "              title=\"Convert this dataframe to an interactive table.\"\n",
              "              style=\"display:none;\">\n",
              "        \n",
              "  <svg xmlns=\"http://www.w3.org/2000/svg\" height=\"24px\"viewBox=\"0 0 24 24\"\n",
              "       width=\"24px\">\n",
              "    <path d=\"M0 0h24v24H0V0z\" fill=\"none\"/>\n",
              "    <path d=\"M18.56 5.44l.94 2.06.94-2.06 2.06-.94-2.06-.94-.94-2.06-.94 2.06-2.06.94zm-11 1L8.5 8.5l.94-2.06 2.06-.94-2.06-.94L8.5 2.5l-.94 2.06-2.06.94zm10 10l.94 2.06.94-2.06 2.06-.94-2.06-.94-.94-2.06-.94 2.06-2.06.94z\"/><path d=\"M17.41 7.96l-1.37-1.37c-.4-.4-.92-.59-1.43-.59-.52 0-1.04.2-1.43.59L10.3 9.45l-7.72 7.72c-.78.78-.78 2.05 0 2.83L4 21.41c.39.39.9.59 1.41.59.51 0 1.02-.2 1.41-.59l7.78-7.78 2.81-2.81c.8-.78.8-2.07 0-2.86zM5.41 20L4 18.59l7.72-7.72 1.47 1.35L5.41 20z\"/>\n",
              "  </svg>\n",
              "      </button>\n",
              "      \n",
              "  <style>\n",
              "    .colab-df-container {\n",
              "      display:flex;\n",
              "      flex-wrap:wrap;\n",
              "      gap: 12px;\n",
              "    }\n",
              "\n",
              "    .colab-df-convert {\n",
              "      background-color: #E8F0FE;\n",
              "      border: none;\n",
              "      border-radius: 50%;\n",
              "      cursor: pointer;\n",
              "      display: none;\n",
              "      fill: #1967D2;\n",
              "      height: 32px;\n",
              "      padding: 0 0 0 0;\n",
              "      width: 32px;\n",
              "    }\n",
              "\n",
              "    .colab-df-convert:hover {\n",
              "      background-color: #E2EBFA;\n",
              "      box-shadow: 0px 1px 2px rgba(60, 64, 67, 0.3), 0px 1px 3px 1px rgba(60, 64, 67, 0.15);\n",
              "      fill: #174EA6;\n",
              "    }\n",
              "\n",
              "    [theme=dark] .colab-df-convert {\n",
              "      background-color: #3B4455;\n",
              "      fill: #D2E3FC;\n",
              "    }\n",
              "\n",
              "    [theme=dark] .colab-df-convert:hover {\n",
              "      background-color: #434B5C;\n",
              "      box-shadow: 0px 1px 3px 1px rgba(0, 0, 0, 0.15);\n",
              "      filter: drop-shadow(0px 1px 2px rgba(0, 0, 0, 0.3));\n",
              "      fill: #FFFFFF;\n",
              "    }\n",
              "  </style>\n",
              "\n",
              "      <script>\n",
              "        const buttonEl =\n",
              "          document.querySelector('#df-c60639bb-19a6-4828-ae44-a106bd1b814f button.colab-df-convert');\n",
              "        buttonEl.style.display =\n",
              "          google.colab.kernel.accessAllowed ? 'block' : 'none';\n",
              "\n",
              "        async function convertToInteractive(key) {\n",
              "          const element = document.querySelector('#df-c60639bb-19a6-4828-ae44-a106bd1b814f');\n",
              "          const dataTable =\n",
              "            await google.colab.kernel.invokeFunction('convertToInteractive',\n",
              "                                                     [key], {});\n",
              "          if (!dataTable) return;\n",
              "\n",
              "          const docLinkHtml = 'Like what you see? Visit the ' +\n",
              "            '<a target=\"_blank\" href=https://colab.research.google.com/notebooks/data_table.ipynb>data table notebook</a>'\n",
              "            + ' to learn more about interactive tables.';\n",
              "          element.innerHTML = '';\n",
              "          dataTable['output_type'] = 'display_data';\n",
              "          await google.colab.output.renderOutput(dataTable, element);\n",
              "          const docLink = document.createElement('div');\n",
              "          docLink.innerHTML = docLinkHtml;\n",
              "          element.appendChild(docLink);\n",
              "        }\n",
              "      </script>\n",
              "    </div>\n",
              "  </div>\n",
              "  "
            ]
          },
          "metadata": {},
          "execution_count": 5
        }
      ]
    },
    {
      "cell_type": "markdown",
      "metadata": {
        "id": "mGlGYvLsApqF"
      },
      "source": [
        "El dataframe contiene 5 variables y 400 observaciones. \n",
        "\n",
        "Las variables indican:\n",
        "- **ID:** La identificación del cliente\n",
        "- **Trabajo:** Corresponde 1 cuando es dependiente y 0 cuando es independiente\n",
        "- **Edad:** La edad del cliente\n",
        "- **Salario:** El salario estimado del cliente\n",
        "- **Compra:** Si, cuando el cliente ha comprado y no cuando no lo ha hecho.\n",
        "\n",
        "Pero para el desarrollo del algoritmo se simplificara a un problema bidimensional, seleccionando las variables de edad y salario."
      ]
    },
    {
      "cell_type": "markdown",
      "metadata": {
        "id": "m9pwgoyGmBCW"
      },
      "source": [
        "## **Eliminando variables**"
      ]
    },
    {
      "cell_type": "code",
      "metadata": {
        "colab": {
          "base_uri": "https://localhost:8080/"
        },
        "id": "J_fVqk_Cx1Us",
        "outputId": "8a8b9671-2dbf-4ccc-d09d-5e9b757e52bf"
      },
      "source": [
        "clientes.info() #visualizacion de los tipos de datos del dataframe"
      ],
      "execution_count": 6,
      "outputs": [
        {
          "output_type": "stream",
          "name": "stdout",
          "text": [
            "<class 'pandas.core.frame.DataFrame'>\n",
            "RangeIndex: 400 entries, 0 to 399\n",
            "Data columns (total 5 columns):\n",
            " #   Column   Non-Null Count  Dtype \n",
            "---  ------   --------------  ----- \n",
            " 0   ID       400 non-null    int64 \n",
            " 1   Trabajo  400 non-null    int64 \n",
            " 2   Edad     400 non-null    int64 \n",
            " 3   Salario  400 non-null    int64 \n",
            " 4   Compra   400 non-null    object\n",
            "dtypes: int64(4), object(1)\n",
            "memory usage: 15.8+ KB\n"
          ]
        }
      ]
    },
    {
      "cell_type": "code",
      "metadata": {
        "colab": {
          "base_uri": "https://localhost:8080/",
          "height": 419
        },
        "id": "N7F5xGUjx7hv",
        "outputId": "74fc6013-0a6b-4894-8f15-b190edbc3845"
      },
      "source": [
        "clientes = clientes.drop(columns=[\"ID\", \"Trabajo\", \"Compra\"]) #se elimina la variable no relevante\n",
        "clientes #vista del dataframe"
      ],
      "execution_count": 7,
      "outputs": [
        {
          "output_type": "execute_result",
          "data": {
            "text/plain": [
              "     Edad  Salario\n",
              "0      19    19000\n",
              "1      35    20000\n",
              "2      26    43000\n",
              "3      27    57000\n",
              "4      19    76000\n",
              "..    ...      ...\n",
              "395    46    41000\n",
              "396    51    23000\n",
              "397    50    20000\n",
              "398    36    33000\n",
              "399    49    36000\n",
              "\n",
              "[400 rows x 2 columns]"
            ],
            "text/html": [
              "\n",
              "  <div id=\"df-b93d0fc3-9b7d-4613-a987-a0978d7b5eea\">\n",
              "    <div class=\"colab-df-container\">\n",
              "      <div>\n",
              "<style scoped>\n",
              "    .dataframe tbody tr th:only-of-type {\n",
              "        vertical-align: middle;\n",
              "    }\n",
              "\n",
              "    .dataframe tbody tr th {\n",
              "        vertical-align: top;\n",
              "    }\n",
              "\n",
              "    .dataframe thead th {\n",
              "        text-align: right;\n",
              "    }\n",
              "</style>\n",
              "<table border=\"1\" class=\"dataframe\">\n",
              "  <thead>\n",
              "    <tr style=\"text-align: right;\">\n",
              "      <th></th>\n",
              "      <th>Edad</th>\n",
              "      <th>Salario</th>\n",
              "    </tr>\n",
              "  </thead>\n",
              "  <tbody>\n",
              "    <tr>\n",
              "      <th>0</th>\n",
              "      <td>19</td>\n",
              "      <td>19000</td>\n",
              "    </tr>\n",
              "    <tr>\n",
              "      <th>1</th>\n",
              "      <td>35</td>\n",
              "      <td>20000</td>\n",
              "    </tr>\n",
              "    <tr>\n",
              "      <th>2</th>\n",
              "      <td>26</td>\n",
              "      <td>43000</td>\n",
              "    </tr>\n",
              "    <tr>\n",
              "      <th>3</th>\n",
              "      <td>27</td>\n",
              "      <td>57000</td>\n",
              "    </tr>\n",
              "    <tr>\n",
              "      <th>4</th>\n",
              "      <td>19</td>\n",
              "      <td>76000</td>\n",
              "    </tr>\n",
              "    <tr>\n",
              "      <th>...</th>\n",
              "      <td>...</td>\n",
              "      <td>...</td>\n",
              "    </tr>\n",
              "    <tr>\n",
              "      <th>395</th>\n",
              "      <td>46</td>\n",
              "      <td>41000</td>\n",
              "    </tr>\n",
              "    <tr>\n",
              "      <th>396</th>\n",
              "      <td>51</td>\n",
              "      <td>23000</td>\n",
              "    </tr>\n",
              "    <tr>\n",
              "      <th>397</th>\n",
              "      <td>50</td>\n",
              "      <td>20000</td>\n",
              "    </tr>\n",
              "    <tr>\n",
              "      <th>398</th>\n",
              "      <td>36</td>\n",
              "      <td>33000</td>\n",
              "    </tr>\n",
              "    <tr>\n",
              "      <th>399</th>\n",
              "      <td>49</td>\n",
              "      <td>36000</td>\n",
              "    </tr>\n",
              "  </tbody>\n",
              "</table>\n",
              "<p>400 rows × 2 columns</p>\n",
              "</div>\n",
              "      <button class=\"colab-df-convert\" onclick=\"convertToInteractive('df-b93d0fc3-9b7d-4613-a987-a0978d7b5eea')\"\n",
              "              title=\"Convert this dataframe to an interactive table.\"\n",
              "              style=\"display:none;\">\n",
              "        \n",
              "  <svg xmlns=\"http://www.w3.org/2000/svg\" height=\"24px\"viewBox=\"0 0 24 24\"\n",
              "       width=\"24px\">\n",
              "    <path d=\"M0 0h24v24H0V0z\" fill=\"none\"/>\n",
              "    <path d=\"M18.56 5.44l.94 2.06.94-2.06 2.06-.94-2.06-.94-.94-2.06-.94 2.06-2.06.94zm-11 1L8.5 8.5l.94-2.06 2.06-.94-2.06-.94L8.5 2.5l-.94 2.06-2.06.94zm10 10l.94 2.06.94-2.06 2.06-.94-2.06-.94-.94-2.06-.94 2.06-2.06.94z\"/><path d=\"M17.41 7.96l-1.37-1.37c-.4-.4-.92-.59-1.43-.59-.52 0-1.04.2-1.43.59L10.3 9.45l-7.72 7.72c-.78.78-.78 2.05 0 2.83L4 21.41c.39.39.9.59 1.41.59.51 0 1.02-.2 1.41-.59l7.78-7.78 2.81-2.81c.8-.78.8-2.07 0-2.86zM5.41 20L4 18.59l7.72-7.72 1.47 1.35L5.41 20z\"/>\n",
              "  </svg>\n",
              "      </button>\n",
              "      \n",
              "  <style>\n",
              "    .colab-df-container {\n",
              "      display:flex;\n",
              "      flex-wrap:wrap;\n",
              "      gap: 12px;\n",
              "    }\n",
              "\n",
              "    .colab-df-convert {\n",
              "      background-color: #E8F0FE;\n",
              "      border: none;\n",
              "      border-radius: 50%;\n",
              "      cursor: pointer;\n",
              "      display: none;\n",
              "      fill: #1967D2;\n",
              "      height: 32px;\n",
              "      padding: 0 0 0 0;\n",
              "      width: 32px;\n",
              "    }\n",
              "\n",
              "    .colab-df-convert:hover {\n",
              "      background-color: #E2EBFA;\n",
              "      box-shadow: 0px 1px 2px rgba(60, 64, 67, 0.3), 0px 1px 3px 1px rgba(60, 64, 67, 0.15);\n",
              "      fill: #174EA6;\n",
              "    }\n",
              "\n",
              "    [theme=dark] .colab-df-convert {\n",
              "      background-color: #3B4455;\n",
              "      fill: #D2E3FC;\n",
              "    }\n",
              "\n",
              "    [theme=dark] .colab-df-convert:hover {\n",
              "      background-color: #434B5C;\n",
              "      box-shadow: 0px 1px 3px 1px rgba(0, 0, 0, 0.15);\n",
              "      filter: drop-shadow(0px 1px 2px rgba(0, 0, 0, 0.3));\n",
              "      fill: #FFFFFF;\n",
              "    }\n",
              "  </style>\n",
              "\n",
              "      <script>\n",
              "        const buttonEl =\n",
              "          document.querySelector('#df-b93d0fc3-9b7d-4613-a987-a0978d7b5eea button.colab-df-convert');\n",
              "        buttonEl.style.display =\n",
              "          google.colab.kernel.accessAllowed ? 'block' : 'none';\n",
              "\n",
              "        async function convertToInteractive(key) {\n",
              "          const element = document.querySelector('#df-b93d0fc3-9b7d-4613-a987-a0978d7b5eea');\n",
              "          const dataTable =\n",
              "            await google.colab.kernel.invokeFunction('convertToInteractive',\n",
              "                                                     [key], {});\n",
              "          if (!dataTable) return;\n",
              "\n",
              "          const docLinkHtml = 'Like what you see? Visit the ' +\n",
              "            '<a target=\"_blank\" href=https://colab.research.google.com/notebooks/data_table.ipynb>data table notebook</a>'\n",
              "            + ' to learn more about interactive tables.';\n",
              "          element.innerHTML = '';\n",
              "          dataTable['output_type'] = 'display_data';\n",
              "          await google.colab.output.renderOutput(dataTable, element);\n",
              "          const docLink = document.createElement('div');\n",
              "          docLink.innerHTML = docLinkHtml;\n",
              "          element.appendChild(docLink);\n",
              "        }\n",
              "      </script>\n",
              "    </div>\n",
              "  </div>\n",
              "  "
            ]
          },
          "metadata": {},
          "execution_count": 7
        }
      ]
    },
    {
      "cell_type": "markdown",
      "metadata": {
        "id": "tpvjHocL5H55"
      },
      "source": [
        "## **Número de clusters**"
      ]
    },
    {
      "cell_type": "code",
      "metadata": {
        "id": "vxxjcJQI5jBm"
      },
      "source": [
        "clusters = pd.DataFrame()\n",
        "inertia = []"
      ],
      "execution_count": 8,
      "outputs": []
    },
    {
      "cell_type": "code",
      "metadata": {
        "id": "Uy0udiaK5arh"
      },
      "source": [
        "clusters[\"cluster_range\"] = range(1, 10)"
      ],
      "execution_count": 9,
      "outputs": []
    },
    {
      "cell_type": "code",
      "metadata": {
        "id": "u2dl-FDY5liM"
      },
      "source": [
        "for k in clusters[\"cluster_range\"]:\n",
        "    kmeans = cluster.KMeans(n_clusters=k, random_state=8).fit(clientes)\n",
        "    inertia.append(kmeans.inertia_)"
      ],
      "execution_count": 10,
      "outputs": []
    },
    {
      "cell_type": "code",
      "metadata": {
        "id": "wlCzOhtx6lqO"
      },
      "source": [
        "clusters[\"inertia\"] = inertia"
      ],
      "execution_count": 11,
      "outputs": []
    },
    {
      "cell_type": "code",
      "metadata": {
        "id": "UT3wmE-D0Ytt"
      },
      "source": [
        "clusters.inertia = round(clusters.inertia, 4)"
      ],
      "execution_count": 12,
      "outputs": []
    },
    {
      "cell_type": "code",
      "metadata": {
        "colab": {
          "base_uri": "https://localhost:8080/",
          "height": 328
        },
        "id": "Lx7PAtZV7ACo",
        "outputId": "44e7373c-c267-4d0a-b3f9-b0a49f4f69ca"
      },
      "source": [
        "clusters.head(10)"
      ],
      "execution_count": 13,
      "outputs": [
        {
          "output_type": "execute_result",
          "data": {
            "text/plain": [
              "   cluster_range       inertia\n",
              "0              1  4.638785e+11\n",
              "1              2  1.651974e+11\n",
              "2              3  5.952127e+10\n",
              "3              4  3.349234e+10\n",
              "4              5  1.998340e+10\n",
              "5              6  1.468427e+10\n",
              "6              7  1.012251e+10\n",
              "7              8  8.096856e+09\n",
              "8              9  6.340387e+09"
            ],
            "text/html": [
              "\n",
              "  <div id=\"df-fb11d155-910d-47a0-a4fd-195a3a2d90d1\">\n",
              "    <div class=\"colab-df-container\">\n",
              "      <div>\n",
              "<style scoped>\n",
              "    .dataframe tbody tr th:only-of-type {\n",
              "        vertical-align: middle;\n",
              "    }\n",
              "\n",
              "    .dataframe tbody tr th {\n",
              "        vertical-align: top;\n",
              "    }\n",
              "\n",
              "    .dataframe thead th {\n",
              "        text-align: right;\n",
              "    }\n",
              "</style>\n",
              "<table border=\"1\" class=\"dataframe\">\n",
              "  <thead>\n",
              "    <tr style=\"text-align: right;\">\n",
              "      <th></th>\n",
              "      <th>cluster_range</th>\n",
              "      <th>inertia</th>\n",
              "    </tr>\n",
              "  </thead>\n",
              "  <tbody>\n",
              "    <tr>\n",
              "      <th>0</th>\n",
              "      <td>1</td>\n",
              "      <td>4.638785e+11</td>\n",
              "    </tr>\n",
              "    <tr>\n",
              "      <th>1</th>\n",
              "      <td>2</td>\n",
              "      <td>1.651974e+11</td>\n",
              "    </tr>\n",
              "    <tr>\n",
              "      <th>2</th>\n",
              "      <td>3</td>\n",
              "      <td>5.952127e+10</td>\n",
              "    </tr>\n",
              "    <tr>\n",
              "      <th>3</th>\n",
              "      <td>4</td>\n",
              "      <td>3.349234e+10</td>\n",
              "    </tr>\n",
              "    <tr>\n",
              "      <th>4</th>\n",
              "      <td>5</td>\n",
              "      <td>1.998340e+10</td>\n",
              "    </tr>\n",
              "    <tr>\n",
              "      <th>5</th>\n",
              "      <td>6</td>\n",
              "      <td>1.468427e+10</td>\n",
              "    </tr>\n",
              "    <tr>\n",
              "      <th>6</th>\n",
              "      <td>7</td>\n",
              "      <td>1.012251e+10</td>\n",
              "    </tr>\n",
              "    <tr>\n",
              "      <th>7</th>\n",
              "      <td>8</td>\n",
              "      <td>8.096856e+09</td>\n",
              "    </tr>\n",
              "    <tr>\n",
              "      <th>8</th>\n",
              "      <td>9</td>\n",
              "      <td>6.340387e+09</td>\n",
              "    </tr>\n",
              "  </tbody>\n",
              "</table>\n",
              "</div>\n",
              "      <button class=\"colab-df-convert\" onclick=\"convertToInteractive('df-fb11d155-910d-47a0-a4fd-195a3a2d90d1')\"\n",
              "              title=\"Convert this dataframe to an interactive table.\"\n",
              "              style=\"display:none;\">\n",
              "        \n",
              "  <svg xmlns=\"http://www.w3.org/2000/svg\" height=\"24px\"viewBox=\"0 0 24 24\"\n",
              "       width=\"24px\">\n",
              "    <path d=\"M0 0h24v24H0V0z\" fill=\"none\"/>\n",
              "    <path d=\"M18.56 5.44l.94 2.06.94-2.06 2.06-.94-2.06-.94-.94-2.06-.94 2.06-2.06.94zm-11 1L8.5 8.5l.94-2.06 2.06-.94-2.06-.94L8.5 2.5l-.94 2.06-2.06.94zm10 10l.94 2.06.94-2.06 2.06-.94-2.06-.94-.94-2.06-.94 2.06-2.06.94z\"/><path d=\"M17.41 7.96l-1.37-1.37c-.4-.4-.92-.59-1.43-.59-.52 0-1.04.2-1.43.59L10.3 9.45l-7.72 7.72c-.78.78-.78 2.05 0 2.83L4 21.41c.39.39.9.59 1.41.59.51 0 1.02-.2 1.41-.59l7.78-7.78 2.81-2.81c.8-.78.8-2.07 0-2.86zM5.41 20L4 18.59l7.72-7.72 1.47 1.35L5.41 20z\"/>\n",
              "  </svg>\n",
              "      </button>\n",
              "      \n",
              "  <style>\n",
              "    .colab-df-container {\n",
              "      display:flex;\n",
              "      flex-wrap:wrap;\n",
              "      gap: 12px;\n",
              "    }\n",
              "\n",
              "    .colab-df-convert {\n",
              "      background-color: #E8F0FE;\n",
              "      border: none;\n",
              "      border-radius: 50%;\n",
              "      cursor: pointer;\n",
              "      display: none;\n",
              "      fill: #1967D2;\n",
              "      height: 32px;\n",
              "      padding: 0 0 0 0;\n",
              "      width: 32px;\n",
              "    }\n",
              "\n",
              "    .colab-df-convert:hover {\n",
              "      background-color: #E2EBFA;\n",
              "      box-shadow: 0px 1px 2px rgba(60, 64, 67, 0.3), 0px 1px 3px 1px rgba(60, 64, 67, 0.15);\n",
              "      fill: #174EA6;\n",
              "    }\n",
              "\n",
              "    [theme=dark] .colab-df-convert {\n",
              "      background-color: #3B4455;\n",
              "      fill: #D2E3FC;\n",
              "    }\n",
              "\n",
              "    [theme=dark] .colab-df-convert:hover {\n",
              "      background-color: #434B5C;\n",
              "      box-shadow: 0px 1px 3px 1px rgba(0, 0, 0, 0.15);\n",
              "      filter: drop-shadow(0px 1px 2px rgba(0, 0, 0, 0.3));\n",
              "      fill: #FFFFFF;\n",
              "    }\n",
              "  </style>\n",
              "\n",
              "      <script>\n",
              "        const buttonEl =\n",
              "          document.querySelector('#df-fb11d155-910d-47a0-a4fd-195a3a2d90d1 button.colab-df-convert');\n",
              "        buttonEl.style.display =\n",
              "          google.colab.kernel.accessAllowed ? 'block' : 'none';\n",
              "\n",
              "        async function convertToInteractive(key) {\n",
              "          const element = document.querySelector('#df-fb11d155-910d-47a0-a4fd-195a3a2d90d1');\n",
              "          const dataTable =\n",
              "            await google.colab.kernel.invokeFunction('convertToInteractive',\n",
              "                                                     [key], {});\n",
              "          if (!dataTable) return;\n",
              "\n",
              "          const docLinkHtml = 'Like what you see? Visit the ' +\n",
              "            '<a target=\"_blank\" href=https://colab.research.google.com/notebooks/data_table.ipynb>data table notebook</a>'\n",
              "            + ' to learn more about interactive tables.';\n",
              "          element.innerHTML = '';\n",
              "          dataTable['output_type'] = 'display_data';\n",
              "          await google.colab.output.renderOutput(dataTable, element);\n",
              "          const docLink = document.createElement('div');\n",
              "          docLink.innerHTML = docLinkHtml;\n",
              "          element.appendChild(docLink);\n",
              "        }\n",
              "      </script>\n",
              "    </div>\n",
              "  </div>\n",
              "  "
            ]
          },
          "metadata": {},
          "execution_count": 13
        }
      ]
    },
    {
      "cell_type": "markdown",
      "metadata": {
        "id": "oMiEWUe-14t5"
      },
      "source": [
        "### Graficando clusters óptimos."
      ]
    },
    {
      "cell_type": "code",
      "metadata": {
        "colab": {
          "base_uri": "https://localhost:8080/",
          "height": 542
        },
        "id": "JErhs8vv7KBh",
        "outputId": "43d3db20-62fe-41c3-b3c6-6eb290daf309"
      },
      "source": [
        "fig = px.line(clusters,\n",
        "              x = \"cluster_range\",\n",
        "              y = \"inertia\",\n",
        "              markers = True,\n",
        "              title = \"Metodo del codo\",\n",
        "              template = \"gridon\",\n",
        "              labels = {\"cluster_range\":\"clusters\"})\n",
        "fig.show()"
      ],
      "execution_count": 14,
      "outputs": [
        {
          "output_type": "display_data",
          "data": {
            "text/html": [
              "<html>\n",
              "<head><meta charset=\"utf-8\" /></head>\n",
              "<body>\n",
              "    <div>            <script src=\"https://cdnjs.cloudflare.com/ajax/libs/mathjax/2.7.5/MathJax.js?config=TeX-AMS-MML_SVG\"></script><script type=\"text/javascript\">if (window.MathJax) {MathJax.Hub.Config({SVG: {font: \"STIX-Web\"}});}</script>                <script type=\"text/javascript\">window.PlotlyConfig = {MathJaxConfig: 'local'};</script>\n",
              "        <script src=\"https://cdn.plot.ly/plotly-2.8.3.min.js\"></script>                <div id=\"44689c36-d221-4416-bed9-e1e130bbb531\" class=\"plotly-graph-div\" style=\"height:525px; width:100%;\"></div>            <script type=\"text/javascript\">                                    window.PLOTLYENV=window.PLOTLYENV || {};                                    if (document.getElementById(\"44689c36-d221-4416-bed9-e1e130bbb531\")) {                    Plotly.newPlot(                        \"44689c36-d221-4416-bed9-e1e130bbb531\",                        [{\"hovertemplate\":\"clusters=%{x}<br>inertia=%{y}<extra></extra>\",\"legendgroup\":\"\",\"line\":{\"color\":\"#1F77B4\",\"dash\":\"solid\"},\"marker\":{\"symbol\":\"circle\"},\"mode\":\"markers+lines\",\"name\":\"\",\"orientation\":\"v\",\"showlegend\":false,\"x\":[1,2,3,4,5,6,7,8,9],\"xaxis\":\"x\",\"y\":[463878521346.3898,165197378568.7129,59521270263.7774,33492335040.1211,19983401049.3007,14684267943.5003,10122506995.9338,8096855922.0491,6340386985.3944],\"yaxis\":\"y\",\"type\":\"scatter\"}],                        {\"template\":{\"data\":{\"pie\":[{\"automargin\":true,\"type\":\"pie\"}]},\"layout\":{\"xaxis\":{\"showgrid\":true,\"title\":{\"standoff\":15}},\"yaxis\":{\"showgrid\":true,\"title\":{\"standoff\":15}}}},\"xaxis\":{\"anchor\":\"y\",\"domain\":[0.0,1.0],\"title\":{\"text\":\"clusters\"}},\"yaxis\":{\"anchor\":\"x\",\"domain\":[0.0,1.0],\"title\":{\"text\":\"inertia\"}},\"legend\":{\"tracegroupgap\":0},\"title\":{\"text\":\"Metodo del codo\"}},                        {\"responsive\": true}                    ).then(function(){\n",
              "                            \n",
              "var gd = document.getElementById('44689c36-d221-4416-bed9-e1e130bbb531');\n",
              "var x = new MutationObserver(function (mutations, observer) {{\n",
              "        var display = window.getComputedStyle(gd).display;\n",
              "        if (!display || display === 'none') {{\n",
              "            console.log([gd, 'removed!']);\n",
              "            Plotly.purge(gd);\n",
              "            observer.disconnect();\n",
              "        }}\n",
              "}});\n",
              "\n",
              "// Listen for the removal of the full notebook cells\n",
              "var notebookContainer = gd.closest('#notebook-container');\n",
              "if (notebookContainer) {{\n",
              "    x.observe(notebookContainer, {childList: true});\n",
              "}}\n",
              "\n",
              "// Listen for the clearing of the current output cell\n",
              "var outputEl = gd.closest('.output');\n",
              "if (outputEl) {{\n",
              "    x.observe(outputEl, {childList: true});\n",
              "}}\n",
              "\n",
              "                        })                };                            </script>        </div>\n",
              "</body>\n",
              "</html>"
            ]
          },
          "metadata": {}
        }
      ]
    },
    {
      "cell_type": "markdown",
      "metadata": {
        "id": "VXdYvT5txgGo"
      },
      "source": [
        "# **Evaluando el Algoritmo**"
      ]
    },
    {
      "cell_type": "markdown",
      "metadata": {
        "id": "vfO8Tre1xx8p"
      },
      "source": [
        "## **Algoritmo K-means**"
      ]
    },
    {
      "cell_type": "code",
      "source": [
        "clientes.head()"
      ],
      "metadata": {
        "colab": {
          "base_uri": "https://localhost:8080/",
          "height": 204
        },
        "id": "28mlfmJQAGyJ",
        "outputId": "f61412df-e365-460f-cf6a-afd0d21ca474"
      },
      "execution_count": 15,
      "outputs": [
        {
          "output_type": "execute_result",
          "data": {
            "text/plain": [
              "   Edad  Salario\n",
              "0    19    19000\n",
              "1    35    20000\n",
              "2    26    43000\n",
              "3    27    57000\n",
              "4    19    76000"
            ],
            "text/html": [
              "\n",
              "  <div id=\"df-05334cc7-1d76-4778-949a-7e082a94fa87\">\n",
              "    <div class=\"colab-df-container\">\n",
              "      <div>\n",
              "<style scoped>\n",
              "    .dataframe tbody tr th:only-of-type {\n",
              "        vertical-align: middle;\n",
              "    }\n",
              "\n",
              "    .dataframe tbody tr th {\n",
              "        vertical-align: top;\n",
              "    }\n",
              "\n",
              "    .dataframe thead th {\n",
              "        text-align: right;\n",
              "    }\n",
              "</style>\n",
              "<table border=\"1\" class=\"dataframe\">\n",
              "  <thead>\n",
              "    <tr style=\"text-align: right;\">\n",
              "      <th></th>\n",
              "      <th>Edad</th>\n",
              "      <th>Salario</th>\n",
              "    </tr>\n",
              "  </thead>\n",
              "  <tbody>\n",
              "    <tr>\n",
              "      <th>0</th>\n",
              "      <td>19</td>\n",
              "      <td>19000</td>\n",
              "    </tr>\n",
              "    <tr>\n",
              "      <th>1</th>\n",
              "      <td>35</td>\n",
              "      <td>20000</td>\n",
              "    </tr>\n",
              "    <tr>\n",
              "      <th>2</th>\n",
              "      <td>26</td>\n",
              "      <td>43000</td>\n",
              "    </tr>\n",
              "    <tr>\n",
              "      <th>3</th>\n",
              "      <td>27</td>\n",
              "      <td>57000</td>\n",
              "    </tr>\n",
              "    <tr>\n",
              "      <th>4</th>\n",
              "      <td>19</td>\n",
              "      <td>76000</td>\n",
              "    </tr>\n",
              "  </tbody>\n",
              "</table>\n",
              "</div>\n",
              "      <button class=\"colab-df-convert\" onclick=\"convertToInteractive('df-05334cc7-1d76-4778-949a-7e082a94fa87')\"\n",
              "              title=\"Convert this dataframe to an interactive table.\"\n",
              "              style=\"display:none;\">\n",
              "        \n",
              "  <svg xmlns=\"http://www.w3.org/2000/svg\" height=\"24px\"viewBox=\"0 0 24 24\"\n",
              "       width=\"24px\">\n",
              "    <path d=\"M0 0h24v24H0V0z\" fill=\"none\"/>\n",
              "    <path d=\"M18.56 5.44l.94 2.06.94-2.06 2.06-.94-2.06-.94-.94-2.06-.94 2.06-2.06.94zm-11 1L8.5 8.5l.94-2.06 2.06-.94-2.06-.94L8.5 2.5l-.94 2.06-2.06.94zm10 10l.94 2.06.94-2.06 2.06-.94-2.06-.94-.94-2.06-.94 2.06-2.06.94z\"/><path d=\"M17.41 7.96l-1.37-1.37c-.4-.4-.92-.59-1.43-.59-.52 0-1.04.2-1.43.59L10.3 9.45l-7.72 7.72c-.78.78-.78 2.05 0 2.83L4 21.41c.39.39.9.59 1.41.59.51 0 1.02-.2 1.41-.59l7.78-7.78 2.81-2.81c.8-.78.8-2.07 0-2.86zM5.41 20L4 18.59l7.72-7.72 1.47 1.35L5.41 20z\"/>\n",
              "  </svg>\n",
              "      </button>\n",
              "      \n",
              "  <style>\n",
              "    .colab-df-container {\n",
              "      display:flex;\n",
              "      flex-wrap:wrap;\n",
              "      gap: 12px;\n",
              "    }\n",
              "\n",
              "    .colab-df-convert {\n",
              "      background-color: #E8F0FE;\n",
              "      border: none;\n",
              "      border-radius: 50%;\n",
              "      cursor: pointer;\n",
              "      display: none;\n",
              "      fill: #1967D2;\n",
              "      height: 32px;\n",
              "      padding: 0 0 0 0;\n",
              "      width: 32px;\n",
              "    }\n",
              "\n",
              "    .colab-df-convert:hover {\n",
              "      background-color: #E2EBFA;\n",
              "      box-shadow: 0px 1px 2px rgba(60, 64, 67, 0.3), 0px 1px 3px 1px rgba(60, 64, 67, 0.15);\n",
              "      fill: #174EA6;\n",
              "    }\n",
              "\n",
              "    [theme=dark] .colab-df-convert {\n",
              "      background-color: #3B4455;\n",
              "      fill: #D2E3FC;\n",
              "    }\n",
              "\n",
              "    [theme=dark] .colab-df-convert:hover {\n",
              "      background-color: #434B5C;\n",
              "      box-shadow: 0px 1px 3px 1px rgba(0, 0, 0, 0.15);\n",
              "      filter: drop-shadow(0px 1px 2px rgba(0, 0, 0, 0.3));\n",
              "      fill: #FFFFFF;\n",
              "    }\n",
              "  </style>\n",
              "\n",
              "      <script>\n",
              "        const buttonEl =\n",
              "          document.querySelector('#df-05334cc7-1d76-4778-949a-7e082a94fa87 button.colab-df-convert');\n",
              "        buttonEl.style.display =\n",
              "          google.colab.kernel.accessAllowed ? 'block' : 'none';\n",
              "\n",
              "        async function convertToInteractive(key) {\n",
              "          const element = document.querySelector('#df-05334cc7-1d76-4778-949a-7e082a94fa87');\n",
              "          const dataTable =\n",
              "            await google.colab.kernel.invokeFunction('convertToInteractive',\n",
              "                                                     [key], {});\n",
              "          if (!dataTable) return;\n",
              "\n",
              "          const docLinkHtml = 'Like what you see? Visit the ' +\n",
              "            '<a target=\"_blank\" href=https://colab.research.google.com/notebooks/data_table.ipynb>data table notebook</a>'\n",
              "            + ' to learn more about interactive tables.';\n",
              "          element.innerHTML = '';\n",
              "          dataTable['output_type'] = 'display_data';\n",
              "          await google.colab.output.renderOutput(dataTable, element);\n",
              "          const docLink = document.createElement('div');\n",
              "          docLink.innerHTML = docLinkHtml;\n",
              "          element.appendChild(docLink);\n",
              "        }\n",
              "      </script>\n",
              "    </div>\n",
              "  </div>\n",
              "  "
            ]
          },
          "metadata": {},
          "execution_count": 15
        }
      ]
    },
    {
      "cell_type": "code",
      "metadata": {
        "id": "uujAp5qLRJkw",
        "colab": {
          "base_uri": "https://localhost:8080/"
        },
        "outputId": "22b1184b-88c4-4718-d55d-e36d392ffd34"
      },
      "source": [
        "km = cluster.KMeans(n_clusters = 4, n_init = 20, random_state = 123)\n",
        "km"
      ],
      "execution_count": 16,
      "outputs": [
        {
          "output_type": "execute_result",
          "data": {
            "text/plain": [
              "KMeans(n_clusters=4, n_init=20, random_state=123)"
            ]
          },
          "metadata": {},
          "execution_count": 16
        }
      ]
    },
    {
      "cell_type": "code",
      "metadata": {
        "colab": {
          "base_uri": "https://localhost:8080/"
        },
        "id": "M6A343WRyhZH",
        "outputId": "0dc1fafa-0ccc-420f-ba98-3e7ebf801f76"
      },
      "source": [
        "km.fit(clientes)"
      ],
      "execution_count": 17,
      "outputs": [
        {
          "output_type": "execute_result",
          "data": {
            "text/plain": [
              "KMeans(n_clusters=4, n_init=20, random_state=123)"
            ]
          },
          "metadata": {},
          "execution_count": 17
        }
      ]
    },
    {
      "cell_type": "code",
      "metadata": {
        "id": "s-PsATxkycyB"
      },
      "source": [
        "centroids = km.cluster_centers_\n",
        "labels = km.labels_"
      ],
      "execution_count": 18,
      "outputs": []
    },
    {
      "cell_type": "code",
      "metadata": {
        "colab": {
          "base_uri": "https://localhost:8080/"
        },
        "id": "5wdkgznOmKsq",
        "outputId": "c534ee98-33f8-4fcd-eefc-391f77dfbb28"
      },
      "source": [
        "centroids"
      ],
      "execution_count": 19,
      "outputs": [
        {
          "output_type": "execute_result",
          "data": {
            "text/plain": [
              "array([[3.68888889e+01, 5.37407407e+04],\n",
              "       [4.24788732e+01, 1.26338028e+05],\n",
              "       [3.59701493e+01, 8.04850746e+04],\n",
              "       [3.72643678e+01, 2.68735632e+04]])"
            ]
          },
          "metadata": {},
          "execution_count": 19
        }
      ]
    },
    {
      "cell_type": "code",
      "metadata": {
        "id": "JvCebJY8Fig-",
        "colab": {
          "base_uri": "https://localhost:8080/",
          "height": 173
        },
        "outputId": "325e25e1-b6ce-4e88-b57e-cd945dbb2a5a"
      },
      "source": [
        "centroids = pd.DataFrame(centroids, columns=['Edad', 'Salario'])\n",
        "centroids"
      ],
      "execution_count": 20,
      "outputs": [
        {
          "output_type": "execute_result",
          "data": {
            "text/plain": [
              "        Edad        Salario\n",
              "0  36.888889   53740.740741\n",
              "1  42.478873  126338.028169\n",
              "2  35.970149   80485.074627\n",
              "3  37.264368   26873.563218"
            ],
            "text/html": [
              "\n",
              "  <div id=\"df-cc4e57eb-abd2-47d3-a132-4eab0e68a4ab\">\n",
              "    <div class=\"colab-df-container\">\n",
              "      <div>\n",
              "<style scoped>\n",
              "    .dataframe tbody tr th:only-of-type {\n",
              "        vertical-align: middle;\n",
              "    }\n",
              "\n",
              "    .dataframe tbody tr th {\n",
              "        vertical-align: top;\n",
              "    }\n",
              "\n",
              "    .dataframe thead th {\n",
              "        text-align: right;\n",
              "    }\n",
              "</style>\n",
              "<table border=\"1\" class=\"dataframe\">\n",
              "  <thead>\n",
              "    <tr style=\"text-align: right;\">\n",
              "      <th></th>\n",
              "      <th>Edad</th>\n",
              "      <th>Salario</th>\n",
              "    </tr>\n",
              "  </thead>\n",
              "  <tbody>\n",
              "    <tr>\n",
              "      <th>0</th>\n",
              "      <td>36.888889</td>\n",
              "      <td>53740.740741</td>\n",
              "    </tr>\n",
              "    <tr>\n",
              "      <th>1</th>\n",
              "      <td>42.478873</td>\n",
              "      <td>126338.028169</td>\n",
              "    </tr>\n",
              "    <tr>\n",
              "      <th>2</th>\n",
              "      <td>35.970149</td>\n",
              "      <td>80485.074627</td>\n",
              "    </tr>\n",
              "    <tr>\n",
              "      <th>3</th>\n",
              "      <td>37.264368</td>\n",
              "      <td>26873.563218</td>\n",
              "    </tr>\n",
              "  </tbody>\n",
              "</table>\n",
              "</div>\n",
              "      <button class=\"colab-df-convert\" onclick=\"convertToInteractive('df-cc4e57eb-abd2-47d3-a132-4eab0e68a4ab')\"\n",
              "              title=\"Convert this dataframe to an interactive table.\"\n",
              "              style=\"display:none;\">\n",
              "        \n",
              "  <svg xmlns=\"http://www.w3.org/2000/svg\" height=\"24px\"viewBox=\"0 0 24 24\"\n",
              "       width=\"24px\">\n",
              "    <path d=\"M0 0h24v24H0V0z\" fill=\"none\"/>\n",
              "    <path d=\"M18.56 5.44l.94 2.06.94-2.06 2.06-.94-2.06-.94-.94-2.06-.94 2.06-2.06.94zm-11 1L8.5 8.5l.94-2.06 2.06-.94-2.06-.94L8.5 2.5l-.94 2.06-2.06.94zm10 10l.94 2.06.94-2.06 2.06-.94-2.06-.94-.94-2.06-.94 2.06-2.06.94z\"/><path d=\"M17.41 7.96l-1.37-1.37c-.4-.4-.92-.59-1.43-.59-.52 0-1.04.2-1.43.59L10.3 9.45l-7.72 7.72c-.78.78-.78 2.05 0 2.83L4 21.41c.39.39.9.59 1.41.59.51 0 1.02-.2 1.41-.59l7.78-7.78 2.81-2.81c.8-.78.8-2.07 0-2.86zM5.41 20L4 18.59l7.72-7.72 1.47 1.35L5.41 20z\"/>\n",
              "  </svg>\n",
              "      </button>\n",
              "      \n",
              "  <style>\n",
              "    .colab-df-container {\n",
              "      display:flex;\n",
              "      flex-wrap:wrap;\n",
              "      gap: 12px;\n",
              "    }\n",
              "\n",
              "    .colab-df-convert {\n",
              "      background-color: #E8F0FE;\n",
              "      border: none;\n",
              "      border-radius: 50%;\n",
              "      cursor: pointer;\n",
              "      display: none;\n",
              "      fill: #1967D2;\n",
              "      height: 32px;\n",
              "      padding: 0 0 0 0;\n",
              "      width: 32px;\n",
              "    }\n",
              "\n",
              "    .colab-df-convert:hover {\n",
              "      background-color: #E2EBFA;\n",
              "      box-shadow: 0px 1px 2px rgba(60, 64, 67, 0.3), 0px 1px 3px 1px rgba(60, 64, 67, 0.15);\n",
              "      fill: #174EA6;\n",
              "    }\n",
              "\n",
              "    [theme=dark] .colab-df-convert {\n",
              "      background-color: #3B4455;\n",
              "      fill: #D2E3FC;\n",
              "    }\n",
              "\n",
              "    [theme=dark] .colab-df-convert:hover {\n",
              "      background-color: #434B5C;\n",
              "      box-shadow: 0px 1px 3px 1px rgba(0, 0, 0, 0.15);\n",
              "      filter: drop-shadow(0px 1px 2px rgba(0, 0, 0, 0.3));\n",
              "      fill: #FFFFFF;\n",
              "    }\n",
              "  </style>\n",
              "\n",
              "      <script>\n",
              "        const buttonEl =\n",
              "          document.querySelector('#df-cc4e57eb-abd2-47d3-a132-4eab0e68a4ab button.colab-df-convert');\n",
              "        buttonEl.style.display =\n",
              "          google.colab.kernel.accessAllowed ? 'block' : 'none';\n",
              "\n",
              "        async function convertToInteractive(key) {\n",
              "          const element = document.querySelector('#df-cc4e57eb-abd2-47d3-a132-4eab0e68a4ab');\n",
              "          const dataTable =\n",
              "            await google.colab.kernel.invokeFunction('convertToInteractive',\n",
              "                                                     [key], {});\n",
              "          if (!dataTable) return;\n",
              "\n",
              "          const docLinkHtml = 'Like what you see? Visit the ' +\n",
              "            '<a target=\"_blank\" href=https://colab.research.google.com/notebooks/data_table.ipynb>data table notebook</a>'\n",
              "            + ' to learn more about interactive tables.';\n",
              "          element.innerHTML = '';\n",
              "          dataTable['output_type'] = 'display_data';\n",
              "          await google.colab.output.renderOutput(dataTable, element);\n",
              "          const docLink = document.createElement('div');\n",
              "          docLink.innerHTML = docLinkHtml;\n",
              "          element.appendChild(docLink);\n",
              "        }\n",
              "      </script>\n",
              "    </div>\n",
              "  </div>\n",
              "  "
            ]
          },
          "metadata": {},
          "execution_count": 20
        }
      ]
    },
    {
      "cell_type": "code",
      "metadata": {
        "colab": {
          "base_uri": "https://localhost:8080/"
        },
        "id": "Jdj4wQ5tntp4",
        "outputId": "2e30871a-5a18-4b45-bf61-0844251f6de5"
      },
      "source": [
        "labels"
      ],
      "execution_count": 21,
      "outputs": [
        {
          "output_type": "execute_result",
          "data": {
            "text/plain": [
              "array([3, 3, 0, 0, 2, 0, 2, 1, 3, 0, 2, 0, 2, 3, 2, 2, 3, 3, 3, 3, 3, 0,\n",
              "       0, 3, 3, 3, 3, 3, 0, 3, 2, 1, 3, 0, 2, 3, 3, 0, 2, 3, 3, 0, 1, 3,\n",
              "       2, 3, 2, 0, 1, 2, 3, 0, 2, 3, 0, 0, 0, 2, 3, 1, 3, 2, 0, 1, 2, 0,\n",
              "       3, 2, 0, 2, 2, 3, 3, 1, 3, 1, 0, 3, 2, 3, 2, 0, 0, 2, 0, 1, 0, 2,\n",
              "       2, 0, 2, 1, 3, 3, 2, 0, 3, 1, 2, 3, 2, 0, 2, 1, 3, 2, 3, 2, 2, 2,\n",
              "       2, 2, 0, 0, 2, 0, 2, 0, 0, 0, 2, 2, 2, 0, 0, 0, 0, 3, 3, 2, 0, 3,\n",
              "       2, 2, 0, 0, 2, 1, 0, 3, 2, 2, 0, 2, 3, 2, 2, 3, 0, 2, 3, 0, 2, 0,\n",
              "       0, 3, 0, 2, 3, 1, 2, 2, 3, 3, 2, 2, 0, 2, 1, 0, 2, 1, 1, 0, 2, 3,\n",
              "       0, 3, 3, 3, 3, 2, 1, 0, 0, 0, 2, 0, 2, 3, 2, 3, 0, 2, 2, 0, 2, 3,\n",
              "       2, 3, 3, 2, 1, 2, 2, 0, 1, 1, 1, 3, 2, 1, 0, 0, 0, 1, 0, 2, 2, 1,\n",
              "       2, 2, 1, 2, 0, 0, 1, 1, 2, 2, 1, 0, 1, 2, 1, 2, 0, 2, 2, 1, 1, 0,\n",
              "       2, 1, 2, 1, 0, 1, 0, 2, 3, 0, 1, 1, 0, 2, 2, 0, 2, 1, 2, 1, 1, 2,\n",
              "       2, 1, 2, 2, 1, 0, 1, 2, 0, 1, 3, 2, 2, 2, 3, 3, 2, 0, 2, 3, 1, 2,\n",
              "       0, 1, 2, 2, 1, 2, 3, 2, 0, 0, 2, 1, 2, 1, 3, 2, 1, 2, 0, 0, 1, 1,\n",
              "       1, 0, 2, 2, 0, 1, 2, 2, 1, 0, 3, 0, 1, 2, 0, 3, 1, 0, 2, 2, 1, 1,\n",
              "       0, 1, 0, 0, 0, 0, 1, 2, 0, 1, 1, 2, 0, 0, 1, 0, 2, 1, 2, 0, 1, 2,\n",
              "       2, 0, 2, 3, 2, 2, 2, 0, 1, 3, 0, 2, 1, 3, 0, 2, 2, 3, 0, 2, 2, 1,\n",
              "       2, 3, 2, 0, 2, 3, 0, 3, 1, 3, 3, 0, 3, 2, 3, 3, 3, 3, 0, 0, 0, 0,\n",
              "       3, 3, 3, 3], dtype=int32)"
            ]
          },
          "metadata": {},
          "execution_count": 21
        }
      ]
    },
    {
      "cell_type": "markdown",
      "metadata": {
        "id": "-FBhTTjIW_Tu"
      },
      "source": [
        "## **Métricas**"
      ]
    },
    {
      "cell_type": "markdown",
      "source": [
        "### **Calinski Harabasz**"
      ],
      "metadata": {
        "id": "j318Uq8NBdkV"
      }
    },
    {
      "cell_type": "code",
      "metadata": {
        "colab": {
          "base_uri": "https://localhost:8080/"
        },
        "id": "moCmQ99woRvn",
        "outputId": "859e6300-cd34-40b4-bc13-dcda0c3fc742"
      },
      "source": [
        "metrics.calinski_harabasz_score(clientes, labels)"
      ],
      "execution_count": 22,
      "outputs": [
        {
          "output_type": "execute_result",
          "data": {
            "text/plain": [
              "1698.0186456742101"
            ]
          },
          "metadata": {},
          "execution_count": 22
        }
      ]
    },
    {
      "cell_type": "markdown",
      "source": [
        "### **Silhouette**"
      ],
      "metadata": {
        "id": "FgCwtMo5Blkv"
      }
    },
    {
      "cell_type": "code",
      "metadata": {
        "colab": {
          "base_uri": "https://localhost:8080/"
        },
        "id": "DIqsphvep9cw",
        "outputId": "14ed787c-649a-4b73-d17c-c2c7c90cfbf8"
      },
      "source": [
        "metrics.silhouette_score(clientes, labels)"
      ],
      "execution_count": 23,
      "outputs": [
        {
          "output_type": "execute_result",
          "data": {
            "text/plain": [
              "0.6065989841357814"
            ]
          },
          "metadata": {},
          "execution_count": 23
        }
      ]
    },
    {
      "cell_type": "markdown",
      "source": [
        "### **Davies Bouldin**"
      ],
      "metadata": {
        "id": "Ha5Y-M6iBqli"
      }
    },
    {
      "cell_type": "code",
      "metadata": {
        "colab": {
          "base_uri": "https://localhost:8080/"
        },
        "id": "8D3crYFtqqsr",
        "outputId": "e628df45-f06a-4b69-ec47-0584e7a33772"
      },
      "source": [
        "metrics.davies_bouldin_score(clientes, labels)"
      ],
      "execution_count": 24,
      "outputs": [
        {
          "output_type": "execute_result",
          "data": {
            "text/plain": [
              "0.4605605033920007"
            ]
          },
          "metadata": {},
          "execution_count": 24
        }
      ]
    },
    {
      "cell_type": "code",
      "metadata": {
        "id": "5UkZUkJ3CNnp"
      },
      "source": [
        "clientes['cluster'] = labels"
      ],
      "execution_count": 25,
      "outputs": []
    },
    {
      "cell_type": "code",
      "source": [
        "clientes"
      ],
      "metadata": {
        "colab": {
          "base_uri": "https://localhost:8080/",
          "height": 419
        },
        "id": "h3mEEvDbCBW3",
        "outputId": "5fac0913-f3ea-40f9-bdea-c2a629090abd"
      },
      "execution_count": 26,
      "outputs": [
        {
          "output_type": "execute_result",
          "data": {
            "text/plain": [
              "     Edad  Salario  cluster\n",
              "0      19    19000        3\n",
              "1      35    20000        3\n",
              "2      26    43000        0\n",
              "3      27    57000        0\n",
              "4      19    76000        2\n",
              "..    ...      ...      ...\n",
              "395    46    41000        0\n",
              "396    51    23000        3\n",
              "397    50    20000        3\n",
              "398    36    33000        3\n",
              "399    49    36000        3\n",
              "\n",
              "[400 rows x 3 columns]"
            ],
            "text/html": [
              "\n",
              "  <div id=\"df-8a1f0f37-8987-4a3e-88f3-b8ac797c283a\">\n",
              "    <div class=\"colab-df-container\">\n",
              "      <div>\n",
              "<style scoped>\n",
              "    .dataframe tbody tr th:only-of-type {\n",
              "        vertical-align: middle;\n",
              "    }\n",
              "\n",
              "    .dataframe tbody tr th {\n",
              "        vertical-align: top;\n",
              "    }\n",
              "\n",
              "    .dataframe thead th {\n",
              "        text-align: right;\n",
              "    }\n",
              "</style>\n",
              "<table border=\"1\" class=\"dataframe\">\n",
              "  <thead>\n",
              "    <tr style=\"text-align: right;\">\n",
              "      <th></th>\n",
              "      <th>Edad</th>\n",
              "      <th>Salario</th>\n",
              "      <th>cluster</th>\n",
              "    </tr>\n",
              "  </thead>\n",
              "  <tbody>\n",
              "    <tr>\n",
              "      <th>0</th>\n",
              "      <td>19</td>\n",
              "      <td>19000</td>\n",
              "      <td>3</td>\n",
              "    </tr>\n",
              "    <tr>\n",
              "      <th>1</th>\n",
              "      <td>35</td>\n",
              "      <td>20000</td>\n",
              "      <td>3</td>\n",
              "    </tr>\n",
              "    <tr>\n",
              "      <th>2</th>\n",
              "      <td>26</td>\n",
              "      <td>43000</td>\n",
              "      <td>0</td>\n",
              "    </tr>\n",
              "    <tr>\n",
              "      <th>3</th>\n",
              "      <td>27</td>\n",
              "      <td>57000</td>\n",
              "      <td>0</td>\n",
              "    </tr>\n",
              "    <tr>\n",
              "      <th>4</th>\n",
              "      <td>19</td>\n",
              "      <td>76000</td>\n",
              "      <td>2</td>\n",
              "    </tr>\n",
              "    <tr>\n",
              "      <th>...</th>\n",
              "      <td>...</td>\n",
              "      <td>...</td>\n",
              "      <td>...</td>\n",
              "    </tr>\n",
              "    <tr>\n",
              "      <th>395</th>\n",
              "      <td>46</td>\n",
              "      <td>41000</td>\n",
              "      <td>0</td>\n",
              "    </tr>\n",
              "    <tr>\n",
              "      <th>396</th>\n",
              "      <td>51</td>\n",
              "      <td>23000</td>\n",
              "      <td>3</td>\n",
              "    </tr>\n",
              "    <tr>\n",
              "      <th>397</th>\n",
              "      <td>50</td>\n",
              "      <td>20000</td>\n",
              "      <td>3</td>\n",
              "    </tr>\n",
              "    <tr>\n",
              "      <th>398</th>\n",
              "      <td>36</td>\n",
              "      <td>33000</td>\n",
              "      <td>3</td>\n",
              "    </tr>\n",
              "    <tr>\n",
              "      <th>399</th>\n",
              "      <td>49</td>\n",
              "      <td>36000</td>\n",
              "      <td>3</td>\n",
              "    </tr>\n",
              "  </tbody>\n",
              "</table>\n",
              "<p>400 rows × 3 columns</p>\n",
              "</div>\n",
              "      <button class=\"colab-df-convert\" onclick=\"convertToInteractive('df-8a1f0f37-8987-4a3e-88f3-b8ac797c283a')\"\n",
              "              title=\"Convert this dataframe to an interactive table.\"\n",
              "              style=\"display:none;\">\n",
              "        \n",
              "  <svg xmlns=\"http://www.w3.org/2000/svg\" height=\"24px\"viewBox=\"0 0 24 24\"\n",
              "       width=\"24px\">\n",
              "    <path d=\"M0 0h24v24H0V0z\" fill=\"none\"/>\n",
              "    <path d=\"M18.56 5.44l.94 2.06.94-2.06 2.06-.94-2.06-.94-.94-2.06-.94 2.06-2.06.94zm-11 1L8.5 8.5l.94-2.06 2.06-.94-2.06-.94L8.5 2.5l-.94 2.06-2.06.94zm10 10l.94 2.06.94-2.06 2.06-.94-2.06-.94-.94-2.06-.94 2.06-2.06.94z\"/><path d=\"M17.41 7.96l-1.37-1.37c-.4-.4-.92-.59-1.43-.59-.52 0-1.04.2-1.43.59L10.3 9.45l-7.72 7.72c-.78.78-.78 2.05 0 2.83L4 21.41c.39.39.9.59 1.41.59.51 0 1.02-.2 1.41-.59l7.78-7.78 2.81-2.81c.8-.78.8-2.07 0-2.86zM5.41 20L4 18.59l7.72-7.72 1.47 1.35L5.41 20z\"/>\n",
              "  </svg>\n",
              "      </button>\n",
              "      \n",
              "  <style>\n",
              "    .colab-df-container {\n",
              "      display:flex;\n",
              "      flex-wrap:wrap;\n",
              "      gap: 12px;\n",
              "    }\n",
              "\n",
              "    .colab-df-convert {\n",
              "      background-color: #E8F0FE;\n",
              "      border: none;\n",
              "      border-radius: 50%;\n",
              "      cursor: pointer;\n",
              "      display: none;\n",
              "      fill: #1967D2;\n",
              "      height: 32px;\n",
              "      padding: 0 0 0 0;\n",
              "      width: 32px;\n",
              "    }\n",
              "\n",
              "    .colab-df-convert:hover {\n",
              "      background-color: #E2EBFA;\n",
              "      box-shadow: 0px 1px 2px rgba(60, 64, 67, 0.3), 0px 1px 3px 1px rgba(60, 64, 67, 0.15);\n",
              "      fill: #174EA6;\n",
              "    }\n",
              "\n",
              "    [theme=dark] .colab-df-convert {\n",
              "      background-color: #3B4455;\n",
              "      fill: #D2E3FC;\n",
              "    }\n",
              "\n",
              "    [theme=dark] .colab-df-convert:hover {\n",
              "      background-color: #434B5C;\n",
              "      box-shadow: 0px 1px 3px 1px rgba(0, 0, 0, 0.15);\n",
              "      filter: drop-shadow(0px 1px 2px rgba(0, 0, 0, 0.3));\n",
              "      fill: #FFFFFF;\n",
              "    }\n",
              "  </style>\n",
              "\n",
              "      <script>\n",
              "        const buttonEl =\n",
              "          document.querySelector('#df-8a1f0f37-8987-4a3e-88f3-b8ac797c283a button.colab-df-convert');\n",
              "        buttonEl.style.display =\n",
              "          google.colab.kernel.accessAllowed ? 'block' : 'none';\n",
              "\n",
              "        async function convertToInteractive(key) {\n",
              "          const element = document.querySelector('#df-8a1f0f37-8987-4a3e-88f3-b8ac797c283a');\n",
              "          const dataTable =\n",
              "            await google.colab.kernel.invokeFunction('convertToInteractive',\n",
              "                                                     [key], {});\n",
              "          if (!dataTable) return;\n",
              "\n",
              "          const docLinkHtml = 'Like what you see? Visit the ' +\n",
              "            '<a target=\"_blank\" href=https://colab.research.google.com/notebooks/data_table.ipynb>data table notebook</a>'\n",
              "            + ' to learn more about interactive tables.';\n",
              "          element.innerHTML = '';\n",
              "          dataTable['output_type'] = 'display_data';\n",
              "          await google.colab.output.renderOutput(dataTable, element);\n",
              "          const docLink = document.createElement('div');\n",
              "          docLink.innerHTML = docLinkHtml;\n",
              "          element.appendChild(docLink);\n",
              "        }\n",
              "      </script>\n",
              "    </div>\n",
              "  </div>\n",
              "  "
            ]
          },
          "metadata": {},
          "execution_count": 26
        }
      ]
    },
    {
      "cell_type": "markdown",
      "metadata": {
        "id": "z7wUr01DXSfc"
      },
      "source": [
        "## **Grafico**"
      ]
    },
    {
      "cell_type": "markdown",
      "metadata": {
        "id": "xDiKNxIKm1aM"
      },
      "source": [
        "### **Plotly**"
      ]
    },
    {
      "cell_type": "code",
      "metadata": {
        "colab": {
          "base_uri": "https://localhost:8080/",
          "height": 542
        },
        "id": "K3byow17mwA2",
        "outputId": "62fa8279-76a7-441a-94e2-1a4e45debb75"
      },
      "source": [
        "fig = go.Figure([go.Scatter(x = clientes.Edad, \n",
        "                            y = clientes.Salario,\n",
        "                            mode = \"markers\",\n",
        "                            name = \"Clusters\",\n",
        "                            marker = dict(color = clientes.Salario,\n",
        "                                          colorscale = 'bluered',\n",
        "                                          showscale = False)),\n",
        "\n",
        "                 go.Scatter(x = centroids.Edad,\n",
        "                            y = centroids.Salario,\n",
        "                            mode = \"markers\",\n",
        "                            name = \"Centroide\",\n",
        "                            marker_color = \"orange\",\n",
        "                            marker = dict(size = 12)),\n",
        "                 ])\n",
        "\n",
        "fig.update_layout(template =    \"gridon\",\n",
        "                  title =       \"Edad y Salarios\",\n",
        "                  yaxis_title = \"Y\",\n",
        "                  xaxis_title = \"X\")\n",
        "\n",
        "fig.show()"
      ],
      "execution_count": 27,
      "outputs": [
        {
          "output_type": "display_data",
          "data": {
            "text/html": [
              "<html>\n",
              "<head><meta charset=\"utf-8\" /></head>\n",
              "<body>\n",
              "    <div>            <script src=\"https://cdnjs.cloudflare.com/ajax/libs/mathjax/2.7.5/MathJax.js?config=TeX-AMS-MML_SVG\"></script><script type=\"text/javascript\">if (window.MathJax) {MathJax.Hub.Config({SVG: {font: \"STIX-Web\"}});}</script>                <script type=\"text/javascript\">window.PlotlyConfig = {MathJaxConfig: 'local'};</script>\n",
              "        <script src=\"https://cdn.plot.ly/plotly-2.8.3.min.js\"></script>                <div id=\"a8eb206d-31e0-46fa-a73e-332bcf4bddac\" class=\"plotly-graph-div\" style=\"height:525px; width:100%;\"></div>            <script type=\"text/javascript\">                                    window.PLOTLYENV=window.PLOTLYENV || {};                                    if (document.getElementById(\"a8eb206d-31e0-46fa-a73e-332bcf4bddac\")) {                    Plotly.newPlot(                        \"a8eb206d-31e0-46fa-a73e-332bcf4bddac\",                        [{\"marker\":{\"color\":[19000,20000,43000,57000,76000,58000,84000,150000,33000,65000,80000,52000,86000,18000,82000,80000,25000,26000,28000,29000,22000,49000,41000,22000,23000,20000,28000,30000,43000,18000,74000,137000,16000,44000,90000,27000,28000,49000,72000,31000,17000,51000,108000,15000,84000,20000,79000,54000,135000,89000,32000,44000,83000,23000,58000,55000,48000,79000,18000,117000,20000,87000,66000,120000,83000,58000,19000,82000,63000,68000,80000,27000,23000,113000,18000,112000,52000,27000,87000,17000,80000,42000,49000,88000,62000,118000,55000,85000,81000,50000,81000,116000,15000,28000,83000,44000,25000,123000,73000,37000,88000,59000,86000,149000,21000,72000,35000,89000,86000,80000,71000,71000,61000,55000,80000,57000,75000,52000,59000,59000,75000,72000,75000,53000,51000,61000,65000,32000,17000,84000,58000,31000,87000,68000,55000,63000,82000,107000,59000,25000,85000,68000,59000,89000,25000,89000,96000,30000,61000,74000,15000,45000,76000,50000,47000,15000,59000,75000,30000,135000,100000,90000,33000,38000,69000,86000,55000,71000,148000,47000,88000,115000,118000,43000,72000,28000,47000,22000,23000,34000,16000,71000,117000,43000,60000,66000,82000,41000,72000,32000,84000,26000,43000,70000,89000,43000,79000,36000,80000,22000,39000,74000,134000,71000,101000,47000,130000,114000,142000,22000,96000,150000,42000,58000,43000,108000,65000,78000,96000,143000,80000,91000,144000,102000,60000,53000,126000,133000,72000,80000,147000,42000,107000,86000,112000,79000,57000,80000,82000,143000,149000,59000,88000,104000,72000,146000,50000,122000,52000,97000,39000,52000,134000,146000,44000,90000,72000,57000,95000,131000,77000,144000,125000,72000,90000,108000,75000,74000,144000,61000,133000,76000,42000,106000,26000,74000,71000,88000,38000,36000,88000,61000,70000,21000,141000,93000,62000,138000,79000,78000,134000,89000,39000,77000,57000,63000,73000,112000,79000,117000,38000,74000,137000,79000,60000,54000,134000,113000,125000,50000,70000,96000,50000,141000,79000,75000,104000,55000,32000,60000,138000,82000,52000,30000,131000,60000,72000,75000,118000,107000,51000,119000,65000,65000,60000,54000,144000,79000,55000,122000,104000,75000,65000,51000,105000,63000,72000,108000,77000,61000,113000,75000,90000,57000,99000,34000,70000,72000,71000,54000,129000,34000,50000,79000,104000,29000,47000,88000,71000,26000,46000,83000,73000,130000,80000,32000,74000,53000,87000,23000,64000,33000,139000,28000,33000,60000,39000,71000,34000,35000,33000,23000,45000,42000,59000,41000,23000,20000,33000,36000],\"colorscale\":[[0.0,\"rgb(0,0,255)\"],[1.0,\"rgb(255,0,0)\"]],\"showscale\":false},\"mode\":\"markers\",\"name\":\"Clusters\",\"x\":[19,35,26,27,19,27,27,32,25,35,26,26,20,32,18,29,47,45,46,48,45,47,48,45,46,47,49,47,29,31,31,27,21,28,27,35,33,30,26,27,27,33,35,30,28,23,25,27,30,31,24,18,29,35,27,24,23,28,22,32,27,25,23,32,59,24,24,23,22,31,25,24,20,33,32,34,18,22,28,26,30,39,20,35,30,31,24,28,26,35,22,30,26,29,29,35,35,28,35,28,27,28,32,33,19,21,26,27,26,38,39,37,38,37,42,40,35,36,40,41,36,37,40,35,41,39,42,26,30,26,31,33,30,21,28,23,20,30,28,19,19,18,35,30,34,24,27,41,29,20,26,41,31,36,40,31,46,29,26,32,32,25,37,35,33,18,22,35,29,29,21,34,26,34,34,23,35,25,24,31,26,31,32,33,33,31,20,33,35,28,24,19,29,19,28,34,30,20,26,35,35,49,39,41,58,47,55,52,40,46,48,52,59,35,47,60,49,40,46,59,41,35,37,60,35,37,36,56,40,42,35,39,40,49,38,46,40,37,46,53,42,38,50,56,41,51,35,57,41,35,44,37,48,37,50,52,41,40,58,45,35,36,55,35,48,42,40,37,47,40,43,59,60,39,57,57,38,49,52,50,59,35,37,52,48,37,37,48,41,37,39,49,55,37,35,36,42,43,45,46,58,48,37,37,40,42,51,47,36,38,42,39,38,49,39,39,54,35,45,36,52,53,41,48,48,41,41,42,36,47,38,48,42,40,57,36,58,35,38,39,53,35,38,47,47,41,53,54,39,38,38,37,42,37,36,60,54,41,40,42,43,53,47,42,42,59,58,46,38,54,60,60,39,59,37,46,46,42,41,58,42,48,44,49,57,56,49,39,47,48,48,47,45,60,39,46,51,50,36,49],\"y\":[19000,20000,43000,57000,76000,58000,84000,150000,33000,65000,80000,52000,86000,18000,82000,80000,25000,26000,28000,29000,22000,49000,41000,22000,23000,20000,28000,30000,43000,18000,74000,137000,16000,44000,90000,27000,28000,49000,72000,31000,17000,51000,108000,15000,84000,20000,79000,54000,135000,89000,32000,44000,83000,23000,58000,55000,48000,79000,18000,117000,20000,87000,66000,120000,83000,58000,19000,82000,63000,68000,80000,27000,23000,113000,18000,112000,52000,27000,87000,17000,80000,42000,49000,88000,62000,118000,55000,85000,81000,50000,81000,116000,15000,28000,83000,44000,25000,123000,73000,37000,88000,59000,86000,149000,21000,72000,35000,89000,86000,80000,71000,71000,61000,55000,80000,57000,75000,52000,59000,59000,75000,72000,75000,53000,51000,61000,65000,32000,17000,84000,58000,31000,87000,68000,55000,63000,82000,107000,59000,25000,85000,68000,59000,89000,25000,89000,96000,30000,61000,74000,15000,45000,76000,50000,47000,15000,59000,75000,30000,135000,100000,90000,33000,38000,69000,86000,55000,71000,148000,47000,88000,115000,118000,43000,72000,28000,47000,22000,23000,34000,16000,71000,117000,43000,60000,66000,82000,41000,72000,32000,84000,26000,43000,70000,89000,43000,79000,36000,80000,22000,39000,74000,134000,71000,101000,47000,130000,114000,142000,22000,96000,150000,42000,58000,43000,108000,65000,78000,96000,143000,80000,91000,144000,102000,60000,53000,126000,133000,72000,80000,147000,42000,107000,86000,112000,79000,57000,80000,82000,143000,149000,59000,88000,104000,72000,146000,50000,122000,52000,97000,39000,52000,134000,146000,44000,90000,72000,57000,95000,131000,77000,144000,125000,72000,90000,108000,75000,74000,144000,61000,133000,76000,42000,106000,26000,74000,71000,88000,38000,36000,88000,61000,70000,21000,141000,93000,62000,138000,79000,78000,134000,89000,39000,77000,57000,63000,73000,112000,79000,117000,38000,74000,137000,79000,60000,54000,134000,113000,125000,50000,70000,96000,50000,141000,79000,75000,104000,55000,32000,60000,138000,82000,52000,30000,131000,60000,72000,75000,118000,107000,51000,119000,65000,65000,60000,54000,144000,79000,55000,122000,104000,75000,65000,51000,105000,63000,72000,108000,77000,61000,113000,75000,90000,57000,99000,34000,70000,72000,71000,54000,129000,34000,50000,79000,104000,29000,47000,88000,71000,26000,46000,83000,73000,130000,80000,32000,74000,53000,87000,23000,64000,33000,139000,28000,33000,60000,39000,71000,34000,35000,33000,23000,45000,42000,59000,41000,23000,20000,33000,36000],\"type\":\"scatter\"},{\"marker\":{\"color\":\"orange\",\"size\":12},\"mode\":\"markers\",\"name\":\"Centroide\",\"x\":[36.8888888888889,42.47887323943662,35.97014925373136,37.26436781609196],\"y\":[53740.740740740745,126338.02816901408,80485.07462686567,26873.563218390802],\"type\":\"scatter\"}],                        {\"template\":{\"data\":{\"pie\":[{\"automargin\":true,\"type\":\"pie\"}]},\"layout\":{\"xaxis\":{\"showgrid\":true,\"title\":{\"standoff\":15}},\"yaxis\":{\"showgrid\":true,\"title\":{\"standoff\":15}}}},\"title\":{\"text\":\"Edad y Salarios\"},\"yaxis\":{\"title\":{\"text\":\"Y\"}},\"xaxis\":{\"title\":{\"text\":\"X\"}}},                        {\"responsive\": true}                    ).then(function(){\n",
              "                            \n",
              "var gd = document.getElementById('a8eb206d-31e0-46fa-a73e-332bcf4bddac');\n",
              "var x = new MutationObserver(function (mutations, observer) {{\n",
              "        var display = window.getComputedStyle(gd).display;\n",
              "        if (!display || display === 'none') {{\n",
              "            console.log([gd, 'removed!']);\n",
              "            Plotly.purge(gd);\n",
              "            observer.disconnect();\n",
              "        }}\n",
              "}});\n",
              "\n",
              "// Listen for the removal of the full notebook cells\n",
              "var notebookContainer = gd.closest('#notebook-container');\n",
              "if (notebookContainer) {{\n",
              "    x.observe(notebookContainer, {childList: true});\n",
              "}}\n",
              "\n",
              "// Listen for the clearing of the current output cell\n",
              "var outputEl = gd.closest('.output');\n",
              "if (outputEl) {{\n",
              "    x.observe(outputEl, {childList: true});\n",
              "}}\n",
              "\n",
              "                        })                };                            </script>        </div>\n",
              "</body>\n",
              "</html>"
            ]
          },
          "metadata": {}
        }
      ]
    }
  ]
}