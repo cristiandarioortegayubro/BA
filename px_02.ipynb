{
  "cells": [
    {
      "cell_type": "markdown",
      "metadata": {
        "id": "view-in-github",
        "colab_type": "text"
      },
      "source": [
        "<a href=\"https://colab.research.google.com/github/cristiandarioortegayubro/BA/blob/main/px_02.ipynb\" target=\"_parent\"><img src=\"https://colab.research.google.com/assets/colab-badge.svg\" alt=\"Open In Colab\"/></a>"
      ]
    },
    {
      "cell_type": "markdown",
      "source": [
        "![logo](https://github.com/cristiandarioortegayubro/BA/blob/main/dba.png?raw=true)"
      ],
      "metadata": {
        "id": "P0-C2-G_al-v"
      },
      "id": "P0-C2-G_al-v"
    },
    {
      "cell_type": "markdown",
      "id": "8174abb8-eaef-4072-9ce7-eb7a40b222d7",
      "metadata": {
        "id": "8174abb8-eaef-4072-9ce7-eb7a40b222d7"
      },
      "source": [
        "![plotly](https://github.com/cristiandarioortegayubro/BA/blob/main/plotly.png?raw=true)"
      ]
    },
    {
      "cell_type": "markdown",
      "id": "8cbac609-3183-40ac-b3a8-21040364e302",
      "metadata": {
        "id": "8cbac609-3183-40ac-b3a8-21040364e302"
      },
      "source": [
        "\n",
        "[plotly.com/python](https://plotly.com/python/)"
      ]
    },
    {
      "cell_type": "markdown",
      "id": "6f1a825c-2f53-41a5-818b-f9dbc9d9f020",
      "metadata": {
        "id": "6f1a825c-2f53-41a5-818b-f9dbc9d9f020"
      },
      "source": [
        "## ***Actualización de los módulos requeridos***"
      ]
    },
    {
      "cell_type": "code",
      "execution_count": 1,
      "id": "ce30d18d-2f72-4046-bb35-3404ca063e11",
      "metadata": {
        "colab": {
          "base_uri": "https://localhost:8080/"
        },
        "id": "ce30d18d-2f72-4046-bb35-3404ca063e11",
        "outputId": "cbdd8b28-e4b6-434a-ffc5-f822405378ef"
      },
      "outputs": [
        {
          "output_type": "stream",
          "name": "stdout",
          "text": [
            "Requirement already satisfied: plotly in /usr/local/lib/python3.10/dist-packages (5.13.1)\n",
            "Collecting plotly\n",
            "  Downloading plotly-5.15.0-py2.py3-none-any.whl (15.5 MB)\n",
            "\u001b[2K     \u001b[90m━━━━━━━━━━━━━━━━━━━━━━━━━━━━━━━━━━━━━━━━\u001b[0m \u001b[32m15.5/15.5 MB\u001b[0m \u001b[31m82.8 MB/s\u001b[0m eta \u001b[36m0:00:00\u001b[0m\n",
            "\u001b[?25hRequirement already satisfied: tenacity>=6.2.0 in /usr/local/lib/python3.10/dist-packages (from plotly) (8.2.2)\n",
            "Requirement already satisfied: packaging in /usr/local/lib/python3.10/dist-packages (from plotly) (23.1)\n",
            "Installing collected packages: plotly\n",
            "  Attempting uninstall: plotly\n",
            "    Found existing installation: plotly 5.13.1\n",
            "    Uninstalling plotly-5.13.1:\n",
            "      Successfully uninstalled plotly-5.13.1\n",
            "Successfully installed plotly-5.15.0\n"
          ]
        }
      ],
      "source": [
        "!pip install plotly --upgrade"
      ]
    },
    {
      "cell_type": "code",
      "source": [
        "!pip install yfinance"
      ],
      "metadata": {
        "colab": {
          "base_uri": "https://localhost:8080/"
        },
        "id": "33xxlv6-8IUC",
        "outputId": "9f85d39d-09cf-44ad-839d-961bf267c096"
      },
      "id": "33xxlv6-8IUC",
      "execution_count": 8,
      "outputs": [
        {
          "output_type": "stream",
          "name": "stdout",
          "text": [
            "Requirement already satisfied: yfinance in /usr/local/lib/python3.10/dist-packages (0.2.21)\n",
            "Requirement already satisfied: pandas>=1.3.0 in /usr/local/lib/python3.10/dist-packages (from yfinance) (1.5.3)\n",
            "Requirement already satisfied: numpy>=1.16.5 in /usr/local/lib/python3.10/dist-packages (from yfinance) (1.22.4)\n",
            "Requirement already satisfied: requests>=2.26 in /usr/local/lib/python3.10/dist-packages (from yfinance) (2.27.1)\n",
            "Requirement already satisfied: multitasking>=0.0.7 in /usr/local/lib/python3.10/dist-packages (from yfinance) (0.0.11)\n",
            "Requirement already satisfied: lxml>=4.9.1 in /usr/local/lib/python3.10/dist-packages (from yfinance) (4.9.2)\n",
            "Requirement already satisfied: appdirs>=1.4.4 in /usr/local/lib/python3.10/dist-packages (from yfinance) (1.4.4)\n",
            "Requirement already satisfied: pytz>=2022.5 in /usr/local/lib/python3.10/dist-packages (from yfinance) (2022.7.1)\n",
            "Requirement already satisfied: frozendict>=2.3.4 in /usr/local/lib/python3.10/dist-packages (from yfinance) (2.3.8)\n",
            "Requirement already satisfied: beautifulsoup4>=4.11.1 in /usr/local/lib/python3.10/dist-packages (from yfinance) (4.11.2)\n",
            "Requirement already satisfied: html5lib>=1.1 in /usr/local/lib/python3.10/dist-packages (from yfinance) (1.1)\n",
            "Requirement already satisfied: soupsieve>1.2 in /usr/local/lib/python3.10/dist-packages (from beautifulsoup4>=4.11.1->yfinance) (2.4.1)\n",
            "Requirement already satisfied: six>=1.9 in /usr/local/lib/python3.10/dist-packages (from html5lib>=1.1->yfinance) (1.16.0)\n",
            "Requirement already satisfied: webencodings in /usr/local/lib/python3.10/dist-packages (from html5lib>=1.1->yfinance) (0.5.1)\n",
            "Requirement already satisfied: python-dateutil>=2.8.1 in /usr/local/lib/python3.10/dist-packages (from pandas>=1.3.0->yfinance) (2.8.2)\n",
            "Requirement already satisfied: urllib3<1.27,>=1.21.1 in /usr/local/lib/python3.10/dist-packages (from requests>=2.26->yfinance) (1.26.16)\n",
            "Requirement already satisfied: certifi>=2017.4.17 in /usr/local/lib/python3.10/dist-packages (from requests>=2.26->yfinance) (2023.5.7)\n",
            "Requirement already satisfied: charset-normalizer~=2.0.0 in /usr/local/lib/python3.10/dist-packages (from requests>=2.26->yfinance) (2.0.12)\n",
            "Requirement already satisfied: idna<4,>=2.5 in /usr/local/lib/python3.10/dist-packages (from requests>=2.26->yfinance) (3.4)\n"
          ]
        }
      ]
    },
    {
      "cell_type": "markdown",
      "id": "d88f6875-6927-4c21-b911-1e7121f0f28e",
      "metadata": {
        "id": "d88f6875-6927-4c21-b911-1e7121f0f28e"
      },
      "source": [
        "[Plotly JupyterLab](https://plotly.com/python/getting-started/#jupyterlab-support)"
      ]
    },
    {
      "cell_type": "markdown",
      "id": "bf0bff14-3cec-4651-b58f-fbf2478545d8",
      "metadata": {
        "tags": [],
        "id": "bf0bff14-3cec-4651-b58f-fbf2478545d8"
      },
      "source": [
        "## **Módulos necesarios**"
      ]
    },
    {
      "cell_type": "markdown",
      "id": "7d63b745-559f-40ab-a80c-8d81e436337b",
      "metadata": {
        "id": "7d63b745-559f-40ab-a80c-8d81e436337b"
      },
      "source": [
        "### ***Para análisis de datos***"
      ]
    },
    {
      "cell_type": "code",
      "execution_count": 3,
      "id": "a858daa9-7ed1-4584-b26c-7c66b4ffbf3a",
      "metadata": {
        "id": "a858daa9-7ed1-4584-b26c-7c66b4ffbf3a"
      },
      "outputs": [],
      "source": [
        "import pandas as pd\n",
        "import numpy as np"
      ]
    },
    {
      "cell_type": "markdown",
      "id": "421b733e-b8c1-4f81-9190-35b5f1e8b53c",
      "metadata": {
        "id": "421b733e-b8c1-4f81-9190-35b5f1e8b53c"
      },
      "source": [
        "### ***Para acceso remoto de datos***"
      ]
    },
    {
      "cell_type": "code",
      "execution_count": 9,
      "id": "8394ac14-0dd2-485b-8105-6809353b11da",
      "metadata": {
        "id": "8394ac14-0dd2-485b-8105-6809353b11da"
      },
      "outputs": [],
      "source": [
        "import yfinance as yf"
      ]
    },
    {
      "cell_type": "markdown",
      "id": "2255566c-5fa2-49c8-815f-67a90f904c91",
      "metadata": {
        "id": "2255566c-5fa2-49c8-815f-67a90f904c91"
      },
      "source": [
        "### ***Módulo gráfico***"
      ]
    },
    {
      "cell_type": "code",
      "execution_count": 5,
      "id": "a540c506-ed88-4e2c-9c04-38b89aee5b07",
      "metadata": {
        "id": "a540c506-ed88-4e2c-9c04-38b89aee5b07"
      },
      "outputs": [],
      "source": [
        "import plotly.express as px\n",
        "import plotly.graph_objects as go"
      ]
    },
    {
      "cell_type": "markdown",
      "id": "318be14c-aebc-4b96-a587-9f85d7c45348",
      "metadata": {
        "id": "318be14c-aebc-4b96-a587-9f85d7c45348"
      },
      "source": [
        "## **Obtención de datos**"
      ]
    },
    {
      "cell_type": "code",
      "source": [
        "SOL = yf.download(\"SOL-USD\", start=\"2023-01-01\").round(2)"
      ],
      "metadata": {
        "id": "WsZKU-BDD0q6",
        "outputId": "f31e5157-0e5c-4780-f701-136c0d13da77",
        "colab": {
          "base_uri": "https://localhost:8080/"
        }
      },
      "id": "WsZKU-BDD0q6",
      "execution_count": 10,
      "outputs": [
        {
          "output_type": "stream",
          "name": "stdout",
          "text": [
            "\r[*********************100%***********************]  1 of 1 completed\n"
          ]
        }
      ]
    },
    {
      "cell_type": "code",
      "source": [
        "AVAX = yf.download(\"AVAX-USD\", start=\"2023-01-01\").round(2)"
      ],
      "metadata": {
        "id": "UKSKJojtAbOY",
        "outputId": "d4baa577-bed9-4fc9-9040-6ab7b9a4297c",
        "colab": {
          "base_uri": "https://localhost:8080/"
        }
      },
      "id": "UKSKJojtAbOY",
      "execution_count": 11,
      "outputs": [
        {
          "output_type": "stream",
          "name": "stdout",
          "text": [
            "\r[*********************100%***********************]  1 of 1 completed\n"
          ]
        }
      ]
    },
    {
      "cell_type": "code",
      "source": [
        "SOL[\"Name\"] = \"SOL\"\n",
        "AVAX[\"Name\"] = \"AVAX\"\n",
        "CRIPTO = pd.concat([SOL, AVAX])"
      ],
      "metadata": {
        "id": "csAVzQP2Aedo"
      },
      "id": "csAVzQP2Aedo",
      "execution_count": 12,
      "outputs": []
    },
    {
      "cell_type": "code",
      "execution_count": 13,
      "id": "5901a106-4024-4f69-a9b0-bfa933ebe01e",
      "metadata": {
        "id": "5901a106-4024-4f69-a9b0-bfa933ebe01e",
        "colab": {
          "base_uri": "https://localhost:8080/"
        },
        "outputId": "1452d3e1-eba4-494c-cd60-26910d9642b8"
      },
      "outputs": [
        {
          "output_type": "stream",
          "name": "stdout",
          "text": [
            "[*********************100%***********************]  2 of 2 completed\n"
          ]
        }
      ],
      "source": [
        "LISTA = [\"SOL-USD\", \"AVAX-USD\"]\n",
        "ACCIONES = yf.download(LISTA, start=\"2023-01-01\").round(2)"
      ]
    },
    {
      "cell_type": "code",
      "source": [
        "SOL.head()"
      ],
      "metadata": {
        "id": "xzwzIPDHE3Vj",
        "outputId": "3c7c172b-e082-4f1d-e123-31bbed246aaa",
        "colab": {
          "base_uri": "https://localhost:8080/",
          "height": 235
        }
      },
      "id": "xzwzIPDHE3Vj",
      "execution_count": 14,
      "outputs": [
        {
          "output_type": "execute_result",
          "data": {
            "text/plain": [
              "             Open   High    Low  Close  Adj Close      Volume Name\n",
              "Date                                                              \n",
              "2023-01-01   9.96  10.05   9.72   9.98       9.98   194221164  SOL\n",
              "2023-01-02   9.98  11.37   9.85  11.27      11.27   558570124  SOL\n",
              "2023-01-03  11.27  13.50  11.05  13.34      13.34  1149255381  SOL\n",
              "2023-01-04  13.35  14.10  12.92  13.44      13.44  1142852070  SOL\n",
              "2023-01-05  13.43  13.77  12.99  13.42      13.42   564255825  SOL"
            ],
            "text/html": [
              "\n",
              "  <div id=\"df-ef9736cb-39e4-4547-8543-476a4a91ce56\">\n",
              "    <div class=\"colab-df-container\">\n",
              "      <div>\n",
              "<style scoped>\n",
              "    .dataframe tbody tr th:only-of-type {\n",
              "        vertical-align: middle;\n",
              "    }\n",
              "\n",
              "    .dataframe tbody tr th {\n",
              "        vertical-align: top;\n",
              "    }\n",
              "\n",
              "    .dataframe thead th {\n",
              "        text-align: right;\n",
              "    }\n",
              "</style>\n",
              "<table border=\"1\" class=\"dataframe\">\n",
              "  <thead>\n",
              "    <tr style=\"text-align: right;\">\n",
              "      <th></th>\n",
              "      <th>Open</th>\n",
              "      <th>High</th>\n",
              "      <th>Low</th>\n",
              "      <th>Close</th>\n",
              "      <th>Adj Close</th>\n",
              "      <th>Volume</th>\n",
              "      <th>Name</th>\n",
              "    </tr>\n",
              "    <tr>\n",
              "      <th>Date</th>\n",
              "      <th></th>\n",
              "      <th></th>\n",
              "      <th></th>\n",
              "      <th></th>\n",
              "      <th></th>\n",
              "      <th></th>\n",
              "      <th></th>\n",
              "    </tr>\n",
              "  </thead>\n",
              "  <tbody>\n",
              "    <tr>\n",
              "      <th>2023-01-01</th>\n",
              "      <td>9.96</td>\n",
              "      <td>10.05</td>\n",
              "      <td>9.72</td>\n",
              "      <td>9.98</td>\n",
              "      <td>9.98</td>\n",
              "      <td>194221164</td>\n",
              "      <td>SOL</td>\n",
              "    </tr>\n",
              "    <tr>\n",
              "      <th>2023-01-02</th>\n",
              "      <td>9.98</td>\n",
              "      <td>11.37</td>\n",
              "      <td>9.85</td>\n",
              "      <td>11.27</td>\n",
              "      <td>11.27</td>\n",
              "      <td>558570124</td>\n",
              "      <td>SOL</td>\n",
              "    </tr>\n",
              "    <tr>\n",
              "      <th>2023-01-03</th>\n",
              "      <td>11.27</td>\n",
              "      <td>13.50</td>\n",
              "      <td>11.05</td>\n",
              "      <td>13.34</td>\n",
              "      <td>13.34</td>\n",
              "      <td>1149255381</td>\n",
              "      <td>SOL</td>\n",
              "    </tr>\n",
              "    <tr>\n",
              "      <th>2023-01-04</th>\n",
              "      <td>13.35</td>\n",
              "      <td>14.10</td>\n",
              "      <td>12.92</td>\n",
              "      <td>13.44</td>\n",
              "      <td>13.44</td>\n",
              "      <td>1142852070</td>\n",
              "      <td>SOL</td>\n",
              "    </tr>\n",
              "    <tr>\n",
              "      <th>2023-01-05</th>\n",
              "      <td>13.43</td>\n",
              "      <td>13.77</td>\n",
              "      <td>12.99</td>\n",
              "      <td>13.42</td>\n",
              "      <td>13.42</td>\n",
              "      <td>564255825</td>\n",
              "      <td>SOL</td>\n",
              "    </tr>\n",
              "  </tbody>\n",
              "</table>\n",
              "</div>\n",
              "      <button class=\"colab-df-convert\" onclick=\"convertToInteractive('df-ef9736cb-39e4-4547-8543-476a4a91ce56')\"\n",
              "              title=\"Convert this dataframe to an interactive table.\"\n",
              "              style=\"display:none;\">\n",
              "        \n",
              "  <svg xmlns=\"http://www.w3.org/2000/svg\" height=\"24px\"viewBox=\"0 0 24 24\"\n",
              "       width=\"24px\">\n",
              "    <path d=\"M0 0h24v24H0V0z\" fill=\"none\"/>\n",
              "    <path d=\"M18.56 5.44l.94 2.06.94-2.06 2.06-.94-2.06-.94-.94-2.06-.94 2.06-2.06.94zm-11 1L8.5 8.5l.94-2.06 2.06-.94-2.06-.94L8.5 2.5l-.94 2.06-2.06.94zm10 10l.94 2.06.94-2.06 2.06-.94-2.06-.94-.94-2.06-.94 2.06-2.06.94z\"/><path d=\"M17.41 7.96l-1.37-1.37c-.4-.4-.92-.59-1.43-.59-.52 0-1.04.2-1.43.59L10.3 9.45l-7.72 7.72c-.78.78-.78 2.05 0 2.83L4 21.41c.39.39.9.59 1.41.59.51 0 1.02-.2 1.41-.59l7.78-7.78 2.81-2.81c.8-.78.8-2.07 0-2.86zM5.41 20L4 18.59l7.72-7.72 1.47 1.35L5.41 20z\"/>\n",
              "  </svg>\n",
              "      </button>\n",
              "      \n",
              "  <style>\n",
              "    .colab-df-container {\n",
              "      display:flex;\n",
              "      flex-wrap:wrap;\n",
              "      gap: 12px;\n",
              "    }\n",
              "\n",
              "    .colab-df-convert {\n",
              "      background-color: #E8F0FE;\n",
              "      border: none;\n",
              "      border-radius: 50%;\n",
              "      cursor: pointer;\n",
              "      display: none;\n",
              "      fill: #1967D2;\n",
              "      height: 32px;\n",
              "      padding: 0 0 0 0;\n",
              "      width: 32px;\n",
              "    }\n",
              "\n",
              "    .colab-df-convert:hover {\n",
              "      background-color: #E2EBFA;\n",
              "      box-shadow: 0px 1px 2px rgba(60, 64, 67, 0.3), 0px 1px 3px 1px rgba(60, 64, 67, 0.15);\n",
              "      fill: #174EA6;\n",
              "    }\n",
              "\n",
              "    [theme=dark] .colab-df-convert {\n",
              "      background-color: #3B4455;\n",
              "      fill: #D2E3FC;\n",
              "    }\n",
              "\n",
              "    [theme=dark] .colab-df-convert:hover {\n",
              "      background-color: #434B5C;\n",
              "      box-shadow: 0px 1px 3px 1px rgba(0, 0, 0, 0.15);\n",
              "      filter: drop-shadow(0px 1px 2px rgba(0, 0, 0, 0.3));\n",
              "      fill: #FFFFFF;\n",
              "    }\n",
              "  </style>\n",
              "\n",
              "      <script>\n",
              "        const buttonEl =\n",
              "          document.querySelector('#df-ef9736cb-39e4-4547-8543-476a4a91ce56 button.colab-df-convert');\n",
              "        buttonEl.style.display =\n",
              "          google.colab.kernel.accessAllowed ? 'block' : 'none';\n",
              "\n",
              "        async function convertToInteractive(key) {\n",
              "          const element = document.querySelector('#df-ef9736cb-39e4-4547-8543-476a4a91ce56');\n",
              "          const dataTable =\n",
              "            await google.colab.kernel.invokeFunction('convertToInteractive',\n",
              "                                                     [key], {});\n",
              "          if (!dataTable) return;\n",
              "\n",
              "          const docLinkHtml = 'Like what you see? Visit the ' +\n",
              "            '<a target=\"_blank\" href=https://colab.research.google.com/notebooks/data_table.ipynb>data table notebook</a>'\n",
              "            + ' to learn more about interactive tables.';\n",
              "          element.innerHTML = '';\n",
              "          dataTable['output_type'] = 'display_data';\n",
              "          await google.colab.output.renderOutput(dataTable, element);\n",
              "          const docLink = document.createElement('div');\n",
              "          docLink.innerHTML = docLinkHtml;\n",
              "          element.appendChild(docLink);\n",
              "        }\n",
              "      </script>\n",
              "    </div>\n",
              "  </div>\n",
              "  "
            ]
          },
          "metadata": {},
          "execution_count": 14
        }
      ]
    },
    {
      "cell_type": "code",
      "source": [
        "AVAX.head()"
      ],
      "metadata": {
        "id": "KTjIc8DuAmsc",
        "outputId": "3c7554b1-a5cc-41f9-831c-715000e6d595",
        "colab": {
          "base_uri": "https://localhost:8080/",
          "height": 235
        }
      },
      "id": "KTjIc8DuAmsc",
      "execution_count": 15,
      "outputs": [
        {
          "output_type": "execute_result",
          "data": {
            "text/plain": [
              "             Open   High    Low  Close  Adj Close     Volume  Name\n",
              "Date                                                              \n",
              "2023-01-01  10.90  10.93  10.67  10.87      10.87   95741904  AVAX\n",
              "2023-01-02  10.87  11.23  10.74  11.15      11.15  128530323  AVAX\n",
              "2023-01-03  11.15  11.53  11.09  11.38      11.38  165410541  AVAX\n",
              "2023-01-04  11.38  12.27  11.36  12.08      12.08  203700017  AVAX\n",
              "2023-01-05  12.08  12.15  11.72  11.74      11.74  148011463  AVAX"
            ],
            "text/html": [
              "\n",
              "  <div id=\"df-f4b49532-3daf-4e77-9d0f-4596d66da49e\">\n",
              "    <div class=\"colab-df-container\">\n",
              "      <div>\n",
              "<style scoped>\n",
              "    .dataframe tbody tr th:only-of-type {\n",
              "        vertical-align: middle;\n",
              "    }\n",
              "\n",
              "    .dataframe tbody tr th {\n",
              "        vertical-align: top;\n",
              "    }\n",
              "\n",
              "    .dataframe thead th {\n",
              "        text-align: right;\n",
              "    }\n",
              "</style>\n",
              "<table border=\"1\" class=\"dataframe\">\n",
              "  <thead>\n",
              "    <tr style=\"text-align: right;\">\n",
              "      <th></th>\n",
              "      <th>Open</th>\n",
              "      <th>High</th>\n",
              "      <th>Low</th>\n",
              "      <th>Close</th>\n",
              "      <th>Adj Close</th>\n",
              "      <th>Volume</th>\n",
              "      <th>Name</th>\n",
              "    </tr>\n",
              "    <tr>\n",
              "      <th>Date</th>\n",
              "      <th></th>\n",
              "      <th></th>\n",
              "      <th></th>\n",
              "      <th></th>\n",
              "      <th></th>\n",
              "      <th></th>\n",
              "      <th></th>\n",
              "    </tr>\n",
              "  </thead>\n",
              "  <tbody>\n",
              "    <tr>\n",
              "      <th>2023-01-01</th>\n",
              "      <td>10.90</td>\n",
              "      <td>10.93</td>\n",
              "      <td>10.67</td>\n",
              "      <td>10.87</td>\n",
              "      <td>10.87</td>\n",
              "      <td>95741904</td>\n",
              "      <td>AVAX</td>\n",
              "    </tr>\n",
              "    <tr>\n",
              "      <th>2023-01-02</th>\n",
              "      <td>10.87</td>\n",
              "      <td>11.23</td>\n",
              "      <td>10.74</td>\n",
              "      <td>11.15</td>\n",
              "      <td>11.15</td>\n",
              "      <td>128530323</td>\n",
              "      <td>AVAX</td>\n",
              "    </tr>\n",
              "    <tr>\n",
              "      <th>2023-01-03</th>\n",
              "      <td>11.15</td>\n",
              "      <td>11.53</td>\n",
              "      <td>11.09</td>\n",
              "      <td>11.38</td>\n",
              "      <td>11.38</td>\n",
              "      <td>165410541</td>\n",
              "      <td>AVAX</td>\n",
              "    </tr>\n",
              "    <tr>\n",
              "      <th>2023-01-04</th>\n",
              "      <td>11.38</td>\n",
              "      <td>12.27</td>\n",
              "      <td>11.36</td>\n",
              "      <td>12.08</td>\n",
              "      <td>12.08</td>\n",
              "      <td>203700017</td>\n",
              "      <td>AVAX</td>\n",
              "    </tr>\n",
              "    <tr>\n",
              "      <th>2023-01-05</th>\n",
              "      <td>12.08</td>\n",
              "      <td>12.15</td>\n",
              "      <td>11.72</td>\n",
              "      <td>11.74</td>\n",
              "      <td>11.74</td>\n",
              "      <td>148011463</td>\n",
              "      <td>AVAX</td>\n",
              "    </tr>\n",
              "  </tbody>\n",
              "</table>\n",
              "</div>\n",
              "      <button class=\"colab-df-convert\" onclick=\"convertToInteractive('df-f4b49532-3daf-4e77-9d0f-4596d66da49e')\"\n",
              "              title=\"Convert this dataframe to an interactive table.\"\n",
              "              style=\"display:none;\">\n",
              "        \n",
              "  <svg xmlns=\"http://www.w3.org/2000/svg\" height=\"24px\"viewBox=\"0 0 24 24\"\n",
              "       width=\"24px\">\n",
              "    <path d=\"M0 0h24v24H0V0z\" fill=\"none\"/>\n",
              "    <path d=\"M18.56 5.44l.94 2.06.94-2.06 2.06-.94-2.06-.94-.94-2.06-.94 2.06-2.06.94zm-11 1L8.5 8.5l.94-2.06 2.06-.94-2.06-.94L8.5 2.5l-.94 2.06-2.06.94zm10 10l.94 2.06.94-2.06 2.06-.94-2.06-.94-.94-2.06-.94 2.06-2.06.94z\"/><path d=\"M17.41 7.96l-1.37-1.37c-.4-.4-.92-.59-1.43-.59-.52 0-1.04.2-1.43.59L10.3 9.45l-7.72 7.72c-.78.78-.78 2.05 0 2.83L4 21.41c.39.39.9.59 1.41.59.51 0 1.02-.2 1.41-.59l7.78-7.78 2.81-2.81c.8-.78.8-2.07 0-2.86zM5.41 20L4 18.59l7.72-7.72 1.47 1.35L5.41 20z\"/>\n",
              "  </svg>\n",
              "      </button>\n",
              "      \n",
              "  <style>\n",
              "    .colab-df-container {\n",
              "      display:flex;\n",
              "      flex-wrap:wrap;\n",
              "      gap: 12px;\n",
              "    }\n",
              "\n",
              "    .colab-df-convert {\n",
              "      background-color: #E8F0FE;\n",
              "      border: none;\n",
              "      border-radius: 50%;\n",
              "      cursor: pointer;\n",
              "      display: none;\n",
              "      fill: #1967D2;\n",
              "      height: 32px;\n",
              "      padding: 0 0 0 0;\n",
              "      width: 32px;\n",
              "    }\n",
              "\n",
              "    .colab-df-convert:hover {\n",
              "      background-color: #E2EBFA;\n",
              "      box-shadow: 0px 1px 2px rgba(60, 64, 67, 0.3), 0px 1px 3px 1px rgba(60, 64, 67, 0.15);\n",
              "      fill: #174EA6;\n",
              "    }\n",
              "\n",
              "    [theme=dark] .colab-df-convert {\n",
              "      background-color: #3B4455;\n",
              "      fill: #D2E3FC;\n",
              "    }\n",
              "\n",
              "    [theme=dark] .colab-df-convert:hover {\n",
              "      background-color: #434B5C;\n",
              "      box-shadow: 0px 1px 3px 1px rgba(0, 0, 0, 0.15);\n",
              "      filter: drop-shadow(0px 1px 2px rgba(0, 0, 0, 0.3));\n",
              "      fill: #FFFFFF;\n",
              "    }\n",
              "  </style>\n",
              "\n",
              "      <script>\n",
              "        const buttonEl =\n",
              "          document.querySelector('#df-f4b49532-3daf-4e77-9d0f-4596d66da49e button.colab-df-convert');\n",
              "        buttonEl.style.display =\n",
              "          google.colab.kernel.accessAllowed ? 'block' : 'none';\n",
              "\n",
              "        async function convertToInteractive(key) {\n",
              "          const element = document.querySelector('#df-f4b49532-3daf-4e77-9d0f-4596d66da49e');\n",
              "          const dataTable =\n",
              "            await google.colab.kernel.invokeFunction('convertToInteractive',\n",
              "                                                     [key], {});\n",
              "          if (!dataTable) return;\n",
              "\n",
              "          const docLinkHtml = 'Like what you see? Visit the ' +\n",
              "            '<a target=\"_blank\" href=https://colab.research.google.com/notebooks/data_table.ipynb>data table notebook</a>'\n",
              "            + ' to learn more about interactive tables.';\n",
              "          element.innerHTML = '';\n",
              "          dataTable['output_type'] = 'display_data';\n",
              "          await google.colab.output.renderOutput(dataTable, element);\n",
              "          const docLink = document.createElement('div');\n",
              "          docLink.innerHTML = docLinkHtml;\n",
              "          element.appendChild(docLink);\n",
              "        }\n",
              "      </script>\n",
              "    </div>\n",
              "  </div>\n",
              "  "
            ]
          },
          "metadata": {},
          "execution_count": 15
        }
      ]
    },
    {
      "cell_type": "code",
      "source": [
        "CRIPTO.head()"
      ],
      "metadata": {
        "id": "mIqlEw8VApdd",
        "outputId": "324fbaf9-5f30-4162-de76-68bf648a002d",
        "colab": {
          "base_uri": "https://localhost:8080/",
          "height": 235
        }
      },
      "id": "mIqlEw8VApdd",
      "execution_count": 16,
      "outputs": [
        {
          "output_type": "execute_result",
          "data": {
            "text/plain": [
              "             Open   High    Low  Close  Adj Close      Volume Name\n",
              "Date                                                              \n",
              "2023-01-01   9.96  10.05   9.72   9.98       9.98   194221164  SOL\n",
              "2023-01-02   9.98  11.37   9.85  11.27      11.27   558570124  SOL\n",
              "2023-01-03  11.27  13.50  11.05  13.34      13.34  1149255381  SOL\n",
              "2023-01-04  13.35  14.10  12.92  13.44      13.44  1142852070  SOL\n",
              "2023-01-05  13.43  13.77  12.99  13.42      13.42   564255825  SOL"
            ],
            "text/html": [
              "\n",
              "  <div id=\"df-e2aa1840-56a9-4215-b5a7-042031e6a796\">\n",
              "    <div class=\"colab-df-container\">\n",
              "      <div>\n",
              "<style scoped>\n",
              "    .dataframe tbody tr th:only-of-type {\n",
              "        vertical-align: middle;\n",
              "    }\n",
              "\n",
              "    .dataframe tbody tr th {\n",
              "        vertical-align: top;\n",
              "    }\n",
              "\n",
              "    .dataframe thead th {\n",
              "        text-align: right;\n",
              "    }\n",
              "</style>\n",
              "<table border=\"1\" class=\"dataframe\">\n",
              "  <thead>\n",
              "    <tr style=\"text-align: right;\">\n",
              "      <th></th>\n",
              "      <th>Open</th>\n",
              "      <th>High</th>\n",
              "      <th>Low</th>\n",
              "      <th>Close</th>\n",
              "      <th>Adj Close</th>\n",
              "      <th>Volume</th>\n",
              "      <th>Name</th>\n",
              "    </tr>\n",
              "    <tr>\n",
              "      <th>Date</th>\n",
              "      <th></th>\n",
              "      <th></th>\n",
              "      <th></th>\n",
              "      <th></th>\n",
              "      <th></th>\n",
              "      <th></th>\n",
              "      <th></th>\n",
              "    </tr>\n",
              "  </thead>\n",
              "  <tbody>\n",
              "    <tr>\n",
              "      <th>2023-01-01</th>\n",
              "      <td>9.96</td>\n",
              "      <td>10.05</td>\n",
              "      <td>9.72</td>\n",
              "      <td>9.98</td>\n",
              "      <td>9.98</td>\n",
              "      <td>194221164</td>\n",
              "      <td>SOL</td>\n",
              "    </tr>\n",
              "    <tr>\n",
              "      <th>2023-01-02</th>\n",
              "      <td>9.98</td>\n",
              "      <td>11.37</td>\n",
              "      <td>9.85</td>\n",
              "      <td>11.27</td>\n",
              "      <td>11.27</td>\n",
              "      <td>558570124</td>\n",
              "      <td>SOL</td>\n",
              "    </tr>\n",
              "    <tr>\n",
              "      <th>2023-01-03</th>\n",
              "      <td>11.27</td>\n",
              "      <td>13.50</td>\n",
              "      <td>11.05</td>\n",
              "      <td>13.34</td>\n",
              "      <td>13.34</td>\n",
              "      <td>1149255381</td>\n",
              "      <td>SOL</td>\n",
              "    </tr>\n",
              "    <tr>\n",
              "      <th>2023-01-04</th>\n",
              "      <td>13.35</td>\n",
              "      <td>14.10</td>\n",
              "      <td>12.92</td>\n",
              "      <td>13.44</td>\n",
              "      <td>13.44</td>\n",
              "      <td>1142852070</td>\n",
              "      <td>SOL</td>\n",
              "    </tr>\n",
              "    <tr>\n",
              "      <th>2023-01-05</th>\n",
              "      <td>13.43</td>\n",
              "      <td>13.77</td>\n",
              "      <td>12.99</td>\n",
              "      <td>13.42</td>\n",
              "      <td>13.42</td>\n",
              "      <td>564255825</td>\n",
              "      <td>SOL</td>\n",
              "    </tr>\n",
              "  </tbody>\n",
              "</table>\n",
              "</div>\n",
              "      <button class=\"colab-df-convert\" onclick=\"convertToInteractive('df-e2aa1840-56a9-4215-b5a7-042031e6a796')\"\n",
              "              title=\"Convert this dataframe to an interactive table.\"\n",
              "              style=\"display:none;\">\n",
              "        \n",
              "  <svg xmlns=\"http://www.w3.org/2000/svg\" height=\"24px\"viewBox=\"0 0 24 24\"\n",
              "       width=\"24px\">\n",
              "    <path d=\"M0 0h24v24H0V0z\" fill=\"none\"/>\n",
              "    <path d=\"M18.56 5.44l.94 2.06.94-2.06 2.06-.94-2.06-.94-.94-2.06-.94 2.06-2.06.94zm-11 1L8.5 8.5l.94-2.06 2.06-.94-2.06-.94L8.5 2.5l-.94 2.06-2.06.94zm10 10l.94 2.06.94-2.06 2.06-.94-2.06-.94-.94-2.06-.94 2.06-2.06.94z\"/><path d=\"M17.41 7.96l-1.37-1.37c-.4-.4-.92-.59-1.43-.59-.52 0-1.04.2-1.43.59L10.3 9.45l-7.72 7.72c-.78.78-.78 2.05 0 2.83L4 21.41c.39.39.9.59 1.41.59.51 0 1.02-.2 1.41-.59l7.78-7.78 2.81-2.81c.8-.78.8-2.07 0-2.86zM5.41 20L4 18.59l7.72-7.72 1.47 1.35L5.41 20z\"/>\n",
              "  </svg>\n",
              "      </button>\n",
              "      \n",
              "  <style>\n",
              "    .colab-df-container {\n",
              "      display:flex;\n",
              "      flex-wrap:wrap;\n",
              "      gap: 12px;\n",
              "    }\n",
              "\n",
              "    .colab-df-convert {\n",
              "      background-color: #E8F0FE;\n",
              "      border: none;\n",
              "      border-radius: 50%;\n",
              "      cursor: pointer;\n",
              "      display: none;\n",
              "      fill: #1967D2;\n",
              "      height: 32px;\n",
              "      padding: 0 0 0 0;\n",
              "      width: 32px;\n",
              "    }\n",
              "\n",
              "    .colab-df-convert:hover {\n",
              "      background-color: #E2EBFA;\n",
              "      box-shadow: 0px 1px 2px rgba(60, 64, 67, 0.3), 0px 1px 3px 1px rgba(60, 64, 67, 0.15);\n",
              "      fill: #174EA6;\n",
              "    }\n",
              "\n",
              "    [theme=dark] .colab-df-convert {\n",
              "      background-color: #3B4455;\n",
              "      fill: #D2E3FC;\n",
              "    }\n",
              "\n",
              "    [theme=dark] .colab-df-convert:hover {\n",
              "      background-color: #434B5C;\n",
              "      box-shadow: 0px 1px 3px 1px rgba(0, 0, 0, 0.15);\n",
              "      filter: drop-shadow(0px 1px 2px rgba(0, 0, 0, 0.3));\n",
              "      fill: #FFFFFF;\n",
              "    }\n",
              "  </style>\n",
              "\n",
              "      <script>\n",
              "        const buttonEl =\n",
              "          document.querySelector('#df-e2aa1840-56a9-4215-b5a7-042031e6a796 button.colab-df-convert');\n",
              "        buttonEl.style.display =\n",
              "          google.colab.kernel.accessAllowed ? 'block' : 'none';\n",
              "\n",
              "        async function convertToInteractive(key) {\n",
              "          const element = document.querySelector('#df-e2aa1840-56a9-4215-b5a7-042031e6a796');\n",
              "          const dataTable =\n",
              "            await google.colab.kernel.invokeFunction('convertToInteractive',\n",
              "                                                     [key], {});\n",
              "          if (!dataTable) return;\n",
              "\n",
              "          const docLinkHtml = 'Like what you see? Visit the ' +\n",
              "            '<a target=\"_blank\" href=https://colab.research.google.com/notebooks/data_table.ipynb>data table notebook</a>'\n",
              "            + ' to learn more about interactive tables.';\n",
              "          element.innerHTML = '';\n",
              "          dataTable['output_type'] = 'display_data';\n",
              "          await google.colab.output.renderOutput(dataTable, element);\n",
              "          const docLink = document.createElement('div');\n",
              "          docLink.innerHTML = docLinkHtml;\n",
              "          element.appendChild(docLink);\n",
              "        }\n",
              "      </script>\n",
              "    </div>\n",
              "  </div>\n",
              "  "
            ]
          },
          "metadata": {},
          "execution_count": 16
        }
      ]
    },
    {
      "cell_type": "code",
      "source": [
        "ACCIONES.head()"
      ],
      "metadata": {
        "id": "kltVfy2-Auer",
        "outputId": "c300957f-4754-4724-ed9b-b9ccb3720a0e",
        "colab": {
          "base_uri": "https://localhost:8080/",
          "height": 412
        }
      },
      "id": "kltVfy2-Auer",
      "execution_count": 17,
      "outputs": [
        {
          "output_type": "execute_result",
          "data": {
            "text/plain": [
              "           Adj Close            Close             High              Low  \\\n",
              "            AVAX-USD SOL-USD AVAX-USD SOL-USD AVAX-USD SOL-USD AVAX-USD   \n",
              "Date                                                                      \n",
              "2023-01-01     10.87    9.98    10.87    9.98    10.93   10.05    10.67   \n",
              "2023-01-02     11.15   11.27    11.15   11.27    11.23   11.37    10.74   \n",
              "2023-01-03     11.38   13.34    11.38   13.34    11.53   13.50    11.09   \n",
              "2023-01-04     12.08   13.44    12.08   13.44    12.27   14.10    11.36   \n",
              "2023-01-05     11.74   13.42    11.74   13.42    12.15   13.77    11.72   \n",
              "\n",
              "                       Open             Volume              \n",
              "           SOL-USD AVAX-USD SOL-USD   AVAX-USD     SOL-USD  \n",
              "Date                                                        \n",
              "2023-01-01    9.72    10.90    9.96   95741904   194221164  \n",
              "2023-01-02    9.85    10.87    9.98  128530323   558570124  \n",
              "2023-01-03   11.05    11.15   11.27  165410541  1149255381  \n",
              "2023-01-04   12.92    11.38   13.35  203700017  1142852070  \n",
              "2023-01-05   12.99    12.08   13.43  148011463   564255825  "
            ],
            "text/html": [
              "\n",
              "  <div id=\"df-7f718441-492f-4c35-a97e-d47065dbaa74\">\n",
              "    <div class=\"colab-df-container\">\n",
              "      <div>\n",
              "<style scoped>\n",
              "    .dataframe tbody tr th:only-of-type {\n",
              "        vertical-align: middle;\n",
              "    }\n",
              "\n",
              "    .dataframe tbody tr th {\n",
              "        vertical-align: top;\n",
              "    }\n",
              "\n",
              "    .dataframe thead tr th {\n",
              "        text-align: left;\n",
              "    }\n",
              "\n",
              "    .dataframe thead tr:last-of-type th {\n",
              "        text-align: right;\n",
              "    }\n",
              "</style>\n",
              "<table border=\"1\" class=\"dataframe\">\n",
              "  <thead>\n",
              "    <tr>\n",
              "      <th></th>\n",
              "      <th colspan=\"2\" halign=\"left\">Adj Close</th>\n",
              "      <th colspan=\"2\" halign=\"left\">Close</th>\n",
              "      <th colspan=\"2\" halign=\"left\">High</th>\n",
              "      <th colspan=\"2\" halign=\"left\">Low</th>\n",
              "      <th colspan=\"2\" halign=\"left\">Open</th>\n",
              "      <th colspan=\"2\" halign=\"left\">Volume</th>\n",
              "    </tr>\n",
              "    <tr>\n",
              "      <th></th>\n",
              "      <th>AVAX-USD</th>\n",
              "      <th>SOL-USD</th>\n",
              "      <th>AVAX-USD</th>\n",
              "      <th>SOL-USD</th>\n",
              "      <th>AVAX-USD</th>\n",
              "      <th>SOL-USD</th>\n",
              "      <th>AVAX-USD</th>\n",
              "      <th>SOL-USD</th>\n",
              "      <th>AVAX-USD</th>\n",
              "      <th>SOL-USD</th>\n",
              "      <th>AVAX-USD</th>\n",
              "      <th>SOL-USD</th>\n",
              "    </tr>\n",
              "    <tr>\n",
              "      <th>Date</th>\n",
              "      <th></th>\n",
              "      <th></th>\n",
              "      <th></th>\n",
              "      <th></th>\n",
              "      <th></th>\n",
              "      <th></th>\n",
              "      <th></th>\n",
              "      <th></th>\n",
              "      <th></th>\n",
              "      <th></th>\n",
              "      <th></th>\n",
              "      <th></th>\n",
              "    </tr>\n",
              "  </thead>\n",
              "  <tbody>\n",
              "    <tr>\n",
              "      <th>2023-01-01</th>\n",
              "      <td>10.87</td>\n",
              "      <td>9.98</td>\n",
              "      <td>10.87</td>\n",
              "      <td>9.98</td>\n",
              "      <td>10.93</td>\n",
              "      <td>10.05</td>\n",
              "      <td>10.67</td>\n",
              "      <td>9.72</td>\n",
              "      <td>10.90</td>\n",
              "      <td>9.96</td>\n",
              "      <td>95741904</td>\n",
              "      <td>194221164</td>\n",
              "    </tr>\n",
              "    <tr>\n",
              "      <th>2023-01-02</th>\n",
              "      <td>11.15</td>\n",
              "      <td>11.27</td>\n",
              "      <td>11.15</td>\n",
              "      <td>11.27</td>\n",
              "      <td>11.23</td>\n",
              "      <td>11.37</td>\n",
              "      <td>10.74</td>\n",
              "      <td>9.85</td>\n",
              "      <td>10.87</td>\n",
              "      <td>9.98</td>\n",
              "      <td>128530323</td>\n",
              "      <td>558570124</td>\n",
              "    </tr>\n",
              "    <tr>\n",
              "      <th>2023-01-03</th>\n",
              "      <td>11.38</td>\n",
              "      <td>13.34</td>\n",
              "      <td>11.38</td>\n",
              "      <td>13.34</td>\n",
              "      <td>11.53</td>\n",
              "      <td>13.50</td>\n",
              "      <td>11.09</td>\n",
              "      <td>11.05</td>\n",
              "      <td>11.15</td>\n",
              "      <td>11.27</td>\n",
              "      <td>165410541</td>\n",
              "      <td>1149255381</td>\n",
              "    </tr>\n",
              "    <tr>\n",
              "      <th>2023-01-04</th>\n",
              "      <td>12.08</td>\n",
              "      <td>13.44</td>\n",
              "      <td>12.08</td>\n",
              "      <td>13.44</td>\n",
              "      <td>12.27</td>\n",
              "      <td>14.10</td>\n",
              "      <td>11.36</td>\n",
              "      <td>12.92</td>\n",
              "      <td>11.38</td>\n",
              "      <td>13.35</td>\n",
              "      <td>203700017</td>\n",
              "      <td>1142852070</td>\n",
              "    </tr>\n",
              "    <tr>\n",
              "      <th>2023-01-05</th>\n",
              "      <td>11.74</td>\n",
              "      <td>13.42</td>\n",
              "      <td>11.74</td>\n",
              "      <td>13.42</td>\n",
              "      <td>12.15</td>\n",
              "      <td>13.77</td>\n",
              "      <td>11.72</td>\n",
              "      <td>12.99</td>\n",
              "      <td>12.08</td>\n",
              "      <td>13.43</td>\n",
              "      <td>148011463</td>\n",
              "      <td>564255825</td>\n",
              "    </tr>\n",
              "  </tbody>\n",
              "</table>\n",
              "</div>\n",
              "      <button class=\"colab-df-convert\" onclick=\"convertToInteractive('df-7f718441-492f-4c35-a97e-d47065dbaa74')\"\n",
              "              title=\"Convert this dataframe to an interactive table.\"\n",
              "              style=\"display:none;\">\n",
              "        \n",
              "  <svg xmlns=\"http://www.w3.org/2000/svg\" height=\"24px\"viewBox=\"0 0 24 24\"\n",
              "       width=\"24px\">\n",
              "    <path d=\"M0 0h24v24H0V0z\" fill=\"none\"/>\n",
              "    <path d=\"M18.56 5.44l.94 2.06.94-2.06 2.06-.94-2.06-.94-.94-2.06-.94 2.06-2.06.94zm-11 1L8.5 8.5l.94-2.06 2.06-.94-2.06-.94L8.5 2.5l-.94 2.06-2.06.94zm10 10l.94 2.06.94-2.06 2.06-.94-2.06-.94-.94-2.06-.94 2.06-2.06.94z\"/><path d=\"M17.41 7.96l-1.37-1.37c-.4-.4-.92-.59-1.43-.59-.52 0-1.04.2-1.43.59L10.3 9.45l-7.72 7.72c-.78.78-.78 2.05 0 2.83L4 21.41c.39.39.9.59 1.41.59.51 0 1.02-.2 1.41-.59l7.78-7.78 2.81-2.81c.8-.78.8-2.07 0-2.86zM5.41 20L4 18.59l7.72-7.72 1.47 1.35L5.41 20z\"/>\n",
              "  </svg>\n",
              "      </button>\n",
              "      \n",
              "  <style>\n",
              "    .colab-df-container {\n",
              "      display:flex;\n",
              "      flex-wrap:wrap;\n",
              "      gap: 12px;\n",
              "    }\n",
              "\n",
              "    .colab-df-convert {\n",
              "      background-color: #E8F0FE;\n",
              "      border: none;\n",
              "      border-radius: 50%;\n",
              "      cursor: pointer;\n",
              "      display: none;\n",
              "      fill: #1967D2;\n",
              "      height: 32px;\n",
              "      padding: 0 0 0 0;\n",
              "      width: 32px;\n",
              "    }\n",
              "\n",
              "    .colab-df-convert:hover {\n",
              "      background-color: #E2EBFA;\n",
              "      box-shadow: 0px 1px 2px rgba(60, 64, 67, 0.3), 0px 1px 3px 1px rgba(60, 64, 67, 0.15);\n",
              "      fill: #174EA6;\n",
              "    }\n",
              "\n",
              "    [theme=dark] .colab-df-convert {\n",
              "      background-color: #3B4455;\n",
              "      fill: #D2E3FC;\n",
              "    }\n",
              "\n",
              "    [theme=dark] .colab-df-convert:hover {\n",
              "      background-color: #434B5C;\n",
              "      box-shadow: 0px 1px 3px 1px rgba(0, 0, 0, 0.15);\n",
              "      filter: drop-shadow(0px 1px 2px rgba(0, 0, 0, 0.3));\n",
              "      fill: #FFFFFF;\n",
              "    }\n",
              "  </style>\n",
              "\n",
              "      <script>\n",
              "        const buttonEl =\n",
              "          document.querySelector('#df-7f718441-492f-4c35-a97e-d47065dbaa74 button.colab-df-convert');\n",
              "        buttonEl.style.display =\n",
              "          google.colab.kernel.accessAllowed ? 'block' : 'none';\n",
              "\n",
              "        async function convertToInteractive(key) {\n",
              "          const element = document.querySelector('#df-7f718441-492f-4c35-a97e-d47065dbaa74');\n",
              "          const dataTable =\n",
              "            await google.colab.kernel.invokeFunction('convertToInteractive',\n",
              "                                                     [key], {});\n",
              "          if (!dataTable) return;\n",
              "\n",
              "          const docLinkHtml = 'Like what you see? Visit the ' +\n",
              "            '<a target=\"_blank\" href=https://colab.research.google.com/notebooks/data_table.ipynb>data table notebook</a>'\n",
              "            + ' to learn more about interactive tables.';\n",
              "          element.innerHTML = '';\n",
              "          dataTable['output_type'] = 'display_data';\n",
              "          await google.colab.output.renderOutput(dataTable, element);\n",
              "          const docLink = document.createElement('div');\n",
              "          docLink.innerHTML = docLinkHtml;\n",
              "          element.appendChild(docLink);\n",
              "        }\n",
              "      </script>\n",
              "    </div>\n",
              "  </div>\n",
              "  "
            ]
          },
          "metadata": {},
          "execution_count": 17
        }
      ]
    },
    {
      "cell_type": "markdown",
      "id": "189bd785-9648-49b8-830c-73679a6537d5",
      "metadata": {
        "id": "189bd785-9648-49b8-830c-73679a6537d5"
      },
      "source": [
        "## **Gráfico de Lineas**"
      ]
    },
    {
      "cell_type": "code",
      "execution_count": 18,
      "id": "c1685b1a-b643-407a-b1b6-a0644c21756e",
      "metadata": {
        "colab": {
          "base_uri": "https://localhost:8080/",
          "height": 542
        },
        "id": "c1685b1a-b643-407a-b1b6-a0644c21756e",
        "outputId": "56fb6be0-b906-437b-b0af-477b4058ab9a"
      },
      "outputs": [
        {
          "output_type": "display_data",
          "data": {
            "text/html": [
              "<html>\n",
              "<head><meta charset=\"utf-8\" /></head>\n",
              "<body>\n",
              "    <div>            <script src=\"https://cdnjs.cloudflare.com/ajax/libs/mathjax/2.7.5/MathJax.js?config=TeX-AMS-MML_SVG\"></script><script type=\"text/javascript\">if (window.MathJax && window.MathJax.Hub && window.MathJax.Hub.Config) {window.MathJax.Hub.Config({SVG: {font: \"STIX-Web\"}});}</script>                <script type=\"text/javascript\">window.PlotlyConfig = {MathJaxConfig: 'local'};</script>\n",
              "        <script charset=\"utf-8\" src=\"https://cdn.plot.ly/plotly-2.24.1.min.js\"></script>                <div id=\"9947b3ca-8ba8-476b-a70b-7f47d621dcb7\" class=\"plotly-graph-div\" style=\"height:525px; width:100%;\"></div>            <script type=\"text/javascript\">                                    window.PLOTLYENV=window.PLOTLYENV || {};                                    if (document.getElementById(\"9947b3ca-8ba8-476b-a70b-7f47d621dcb7\")) {                    Plotly.newPlot(                        \"9947b3ca-8ba8-476b-a70b-7f47d621dcb7\",                        [{\"hovertemplate\":\"Name=SOL\\u003cbr\\u003eDate=%{x}\\u003cbr\\u003eClose=%{y}\\u003cextra\\u003e\\u003c\\u002fextra\\u003e\",\"legendgroup\":\"SOL\",\"line\":{\"color\":\"#1F77B4\",\"dash\":\"solid\"},\"marker\":{\"symbol\":\"circle\"},\"mode\":\"lines+markers\",\"name\":\"SOL\",\"orientation\":\"v\",\"showlegend\":true,\"x\":[\"2023-01-01T00:00:00\",\"2023-01-02T00:00:00\",\"2023-01-03T00:00:00\",\"2023-01-04T00:00:00\",\"2023-01-05T00:00:00\",\"2023-01-06T00:00:00\",\"2023-01-07T00:00:00\",\"2023-01-08T00:00:00\",\"2023-01-09T00:00:00\",\"2023-01-10T00:00:00\",\"2023-01-11T00:00:00\",\"2023-01-12T00:00:00\",\"2023-01-13T00:00:00\",\"2023-01-14T00:00:00\",\"2023-01-15T00:00:00\",\"2023-01-16T00:00:00\",\"2023-01-17T00:00:00\",\"2023-01-18T00:00:00\",\"2023-01-19T00:00:00\",\"2023-01-20T00:00:00\",\"2023-01-21T00:00:00\",\"2023-01-22T00:00:00\",\"2023-01-23T00:00:00\",\"2023-01-24T00:00:00\",\"2023-01-25T00:00:00\",\"2023-01-26T00:00:00\",\"2023-01-27T00:00:00\",\"2023-01-28T00:00:00\",\"2023-01-29T00:00:00\",\"2023-01-30T00:00:00\",\"2023-01-31T00:00:00\",\"2023-02-01T00:00:00\",\"2023-02-02T00:00:00\",\"2023-02-03T00:00:00\",\"2023-02-04T00:00:00\",\"2023-02-05T00:00:00\",\"2023-02-06T00:00:00\",\"2023-02-07T00:00:00\",\"2023-02-08T00:00:00\",\"2023-02-09T00:00:00\",\"2023-02-10T00:00:00\",\"2023-02-11T00:00:00\",\"2023-02-12T00:00:00\",\"2023-02-13T00:00:00\",\"2023-02-14T00:00:00\",\"2023-02-15T00:00:00\",\"2023-02-16T00:00:00\",\"2023-02-17T00:00:00\",\"2023-02-18T00:00:00\",\"2023-02-19T00:00:00\",\"2023-02-20T00:00:00\",\"2023-02-21T00:00:00\",\"2023-02-22T00:00:00\",\"2023-02-23T00:00:00\",\"2023-02-24T00:00:00\",\"2023-02-25T00:00:00\",\"2023-02-26T00:00:00\",\"2023-02-27T00:00:00\",\"2023-02-28T00:00:00\",\"2023-03-01T00:00:00\",\"2023-03-02T00:00:00\",\"2023-03-03T00:00:00\",\"2023-03-04T00:00:00\",\"2023-03-05T00:00:00\",\"2023-03-06T00:00:00\",\"2023-03-07T00:00:00\",\"2023-03-08T00:00:00\",\"2023-03-09T00:00:00\",\"2023-03-10T00:00:00\",\"2023-03-11T00:00:00\",\"2023-03-12T00:00:00\",\"2023-03-13T00:00:00\",\"2023-03-14T00:00:00\",\"2023-03-15T00:00:00\",\"2023-03-16T00:00:00\",\"2023-03-17T00:00:00\",\"2023-03-18T00:00:00\",\"2023-03-19T00:00:00\",\"2023-03-20T00:00:00\",\"2023-03-21T00:00:00\",\"2023-03-22T00:00:00\",\"2023-03-23T00:00:00\",\"2023-03-24T00:00:00\",\"2023-03-25T00:00:00\",\"2023-03-26T00:00:00\",\"2023-03-27T00:00:00\",\"2023-03-28T00:00:00\",\"2023-03-29T00:00:00\",\"2023-03-30T00:00:00\",\"2023-03-31T00:00:00\",\"2023-04-01T00:00:00\",\"2023-04-02T00:00:00\",\"2023-04-03T00:00:00\",\"2023-04-04T00:00:00\",\"2023-04-05T00:00:00\",\"2023-04-06T00:00:00\",\"2023-04-07T00:00:00\",\"2023-04-08T00:00:00\",\"2023-04-09T00:00:00\",\"2023-04-10T00:00:00\",\"2023-04-11T00:00:00\",\"2023-04-12T00:00:00\",\"2023-04-13T00:00:00\",\"2023-04-14T00:00:00\",\"2023-04-15T00:00:00\",\"2023-04-16T00:00:00\",\"2023-04-17T00:00:00\",\"2023-04-18T00:00:00\",\"2023-04-19T00:00:00\",\"2023-04-20T00:00:00\",\"2023-04-21T00:00:00\",\"2023-04-22T00:00:00\",\"2023-04-23T00:00:00\",\"2023-04-24T00:00:00\",\"2023-04-25T00:00:00\",\"2023-04-26T00:00:00\",\"2023-04-27T00:00:00\",\"2023-04-28T00:00:00\",\"2023-04-29T00:00:00\",\"2023-04-30T00:00:00\",\"2023-05-01T00:00:00\",\"2023-05-02T00:00:00\",\"2023-05-03T00:00:00\",\"2023-05-04T00:00:00\",\"2023-05-05T00:00:00\",\"2023-05-06T00:00:00\",\"2023-05-07T00:00:00\",\"2023-05-08T00:00:00\",\"2023-05-09T00:00:00\",\"2023-05-10T00:00:00\",\"2023-05-11T00:00:00\",\"2023-05-12T00:00:00\",\"2023-05-13T00:00:00\",\"2023-05-14T00:00:00\",\"2023-05-15T00:00:00\",\"2023-05-16T00:00:00\",\"2023-05-17T00:00:00\",\"2023-05-18T00:00:00\",\"2023-05-19T00:00:00\",\"2023-05-20T00:00:00\",\"2023-05-21T00:00:00\",\"2023-05-22T00:00:00\",\"2023-05-23T00:00:00\",\"2023-05-24T00:00:00\",\"2023-05-25T00:00:00\",\"2023-05-26T00:00:00\",\"2023-05-27T00:00:00\",\"2023-05-28T00:00:00\",\"2023-05-29T00:00:00\",\"2023-05-30T00:00:00\",\"2023-05-31T00:00:00\",\"2023-06-01T00:00:00\",\"2023-06-02T00:00:00\",\"2023-06-03T00:00:00\",\"2023-06-04T00:00:00\",\"2023-06-05T00:00:00\",\"2023-06-06T00:00:00\",\"2023-06-07T00:00:00\",\"2023-06-08T00:00:00\",\"2023-06-09T00:00:00\",\"2023-06-10T00:00:00\",\"2023-06-11T00:00:00\",\"2023-06-12T00:00:00\",\"2023-06-13T00:00:00\",\"2023-06-14T00:00:00\",\"2023-06-15T00:00:00\",\"2023-06-16T00:00:00\",\"2023-06-17T00:00:00\",\"2023-06-18T00:00:00\",\"2023-06-19T00:00:00\",\"2023-06-20T00:00:00\",\"2023-06-21T00:00:00\",\"2023-06-22T00:00:00\",\"2023-06-23T00:00:00\",\"2023-06-24T00:00:00\",\"2023-06-25T00:00:00\",\"2023-06-26T00:00:00\",\"2023-06-27T00:00:00\",\"2023-06-28T00:00:00\",\"2023-06-29T00:00:00\",\"2023-06-30T00:00:00\",\"2023-07-01T00:00:00\",\"2023-07-02T00:00:00\",\"2023-07-03T00:00:00\",\"2023-07-04T00:00:00\",\"2023-07-06T00:00:00\"],\"xaxis\":\"x\",\"y\":[9.98,11.27,13.34,13.44,13.42,13.53,13.09,14.32,16.3,16.2,16.36,16.62,18.29,24.25,22.87,23.58,22.88,20.85,21.43,25.55,24.63,24.23,24.36,22.8,24.57,24.35,24.41,23.98,26.13,23.95,23.95,24.99,24.27,24.68,24.32,23.49,22.71,23.86,23.19,20.45,20.13,20.83,21.49,20.79,21.82,23.88,22.29,23.17,23.48,24.84,26.18,24.95,24.18,23.9,23.05,22.52,23.26,22.69,21.92,22.51,21.98,21.4,20.97,20.98,20.64,20.24,18.42,17.31,18.24,18.23,20.31,20.43,20.93,19.29,19.73,21.63,21.2,21.9,22.18,22.62,21.48,22.22,20.68,20.45,20.98,19.92,20.47,21.11,20.55,21.17,20.98,20.54,20.44,20.92,20.97,20.61,20.47,20.04,20.3,20.88,23.02,23.99,24.43,24.77,24.08,25.36,24.56,24.85,22.71,22.18,21.28,21.82,21.48,21.39,21.93,21.28,22.34,23.37,23.18,22.83,21.99,22.26,22.22,21.73,22.83,21.97,21.84,20.66,20.68,20.95,20.23,20.91,20.87,20.95,21.01,20.68,21.07,20.35,20.35,20.29,19.61,19.54,20.04,19.22,19.26,19.37,20.43,20.8,20.59,21.25,20.82,20.5,21.26,21.16,21.82,20.08,20.4,18.63,18.91,17.38,15.66,15.56,15.2,15.02,14.49,14.76,15.31,15.65,15.44,16.07,16.64,17.26,16.64,17.15,16.65,16.97,16.27,16.62,15.99,17.97,18.9,18.68,19.45,19.24,19.14,19.56],\"yaxis\":\"y\",\"type\":\"scatter\"},{\"hovertemplate\":\"Name=AVAX\\u003cbr\\u003eDate=%{x}\\u003cbr\\u003eClose=%{y}\\u003cextra\\u003e\\u003c\\u002fextra\\u003e\",\"legendgroup\":\"AVAX\",\"line\":{\"color\":\"#FF7F0E\",\"dash\":\"solid\"},\"marker\":{\"symbol\":\"circle\"},\"mode\":\"lines+markers\",\"name\":\"AVAX\",\"orientation\":\"v\",\"showlegend\":true,\"x\":[\"2023-01-01T00:00:00\",\"2023-01-02T00:00:00\",\"2023-01-03T00:00:00\",\"2023-01-04T00:00:00\",\"2023-01-05T00:00:00\",\"2023-01-06T00:00:00\",\"2023-01-07T00:00:00\",\"2023-01-08T00:00:00\",\"2023-01-09T00:00:00\",\"2023-01-10T00:00:00\",\"2023-01-11T00:00:00\",\"2023-01-12T00:00:00\",\"2023-01-13T00:00:00\",\"2023-01-14T00:00:00\",\"2023-01-15T00:00:00\",\"2023-01-16T00:00:00\",\"2023-01-17T00:00:00\",\"2023-01-18T00:00:00\",\"2023-01-19T00:00:00\",\"2023-01-20T00:00:00\",\"2023-01-21T00:00:00\",\"2023-01-22T00:00:00\",\"2023-01-23T00:00:00\",\"2023-01-24T00:00:00\",\"2023-01-25T00:00:00\",\"2023-01-26T00:00:00\",\"2023-01-27T00:00:00\",\"2023-01-28T00:00:00\",\"2023-01-29T00:00:00\",\"2023-01-30T00:00:00\",\"2023-01-31T00:00:00\",\"2023-02-01T00:00:00\",\"2023-02-02T00:00:00\",\"2023-02-03T00:00:00\",\"2023-02-04T00:00:00\",\"2023-02-05T00:00:00\",\"2023-02-06T00:00:00\",\"2023-02-07T00:00:00\",\"2023-02-08T00:00:00\",\"2023-02-09T00:00:00\",\"2023-02-10T00:00:00\",\"2023-02-11T00:00:00\",\"2023-02-12T00:00:00\",\"2023-02-13T00:00:00\",\"2023-02-14T00:00:00\",\"2023-02-15T00:00:00\",\"2023-02-16T00:00:00\",\"2023-02-17T00:00:00\",\"2023-02-18T00:00:00\",\"2023-02-19T00:00:00\",\"2023-02-20T00:00:00\",\"2023-02-21T00:00:00\",\"2023-02-22T00:00:00\",\"2023-02-23T00:00:00\",\"2023-02-24T00:00:00\",\"2023-02-25T00:00:00\",\"2023-02-26T00:00:00\",\"2023-02-27T00:00:00\",\"2023-02-28T00:00:00\",\"2023-03-01T00:00:00\",\"2023-03-02T00:00:00\",\"2023-03-03T00:00:00\",\"2023-03-04T00:00:00\",\"2023-03-05T00:00:00\",\"2023-03-06T00:00:00\",\"2023-03-07T00:00:00\",\"2023-03-08T00:00:00\",\"2023-03-09T00:00:00\",\"2023-03-10T00:00:00\",\"2023-03-11T00:00:00\",\"2023-03-12T00:00:00\",\"2023-03-13T00:00:00\",\"2023-03-14T00:00:00\",\"2023-03-15T00:00:00\",\"2023-03-16T00:00:00\",\"2023-03-17T00:00:00\",\"2023-03-18T00:00:00\",\"2023-03-19T00:00:00\",\"2023-03-20T00:00:00\",\"2023-03-21T00:00:00\",\"2023-03-22T00:00:00\",\"2023-03-23T00:00:00\",\"2023-03-24T00:00:00\",\"2023-03-25T00:00:00\",\"2023-03-26T00:00:00\",\"2023-03-27T00:00:00\",\"2023-03-28T00:00:00\",\"2023-03-29T00:00:00\",\"2023-03-30T00:00:00\",\"2023-03-31T00:00:00\",\"2023-04-01T00:00:00\",\"2023-04-02T00:00:00\",\"2023-04-03T00:00:00\",\"2023-04-04T00:00:00\",\"2023-04-05T00:00:00\",\"2023-04-06T00:00:00\",\"2023-04-07T00:00:00\",\"2023-04-08T00:00:00\",\"2023-04-09T00:00:00\",\"2023-04-10T00:00:00\",\"2023-04-11T00:00:00\",\"2023-04-12T00:00:00\",\"2023-04-13T00:00:00\",\"2023-04-14T00:00:00\",\"2023-04-15T00:00:00\",\"2023-04-16T00:00:00\",\"2023-04-17T00:00:00\",\"2023-04-18T00:00:00\",\"2023-04-19T00:00:00\",\"2023-04-20T00:00:00\",\"2023-04-21T00:00:00\",\"2023-04-22T00:00:00\",\"2023-04-23T00:00:00\",\"2023-04-24T00:00:00\",\"2023-04-25T00:00:00\",\"2023-04-26T00:00:00\",\"2023-04-27T00:00:00\",\"2023-04-28T00:00:00\",\"2023-04-29T00:00:00\",\"2023-04-30T00:00:00\",\"2023-05-01T00:00:00\",\"2023-05-02T00:00:00\",\"2023-05-03T00:00:00\",\"2023-05-04T00:00:00\",\"2023-05-05T00:00:00\",\"2023-05-06T00:00:00\",\"2023-05-07T00:00:00\",\"2023-05-08T00:00:00\",\"2023-05-09T00:00:00\",\"2023-05-10T00:00:00\",\"2023-05-11T00:00:00\",\"2023-05-12T00:00:00\",\"2023-05-13T00:00:00\",\"2023-05-14T00:00:00\",\"2023-05-15T00:00:00\",\"2023-05-16T00:00:00\",\"2023-05-17T00:00:00\",\"2023-05-18T00:00:00\",\"2023-05-19T00:00:00\",\"2023-05-20T00:00:00\",\"2023-05-21T00:00:00\",\"2023-05-22T00:00:00\",\"2023-05-23T00:00:00\",\"2023-05-24T00:00:00\",\"2023-05-25T00:00:00\",\"2023-05-26T00:00:00\",\"2023-05-27T00:00:00\",\"2023-05-28T00:00:00\",\"2023-05-29T00:00:00\",\"2023-05-30T00:00:00\",\"2023-05-31T00:00:00\",\"2023-06-01T00:00:00\",\"2023-06-02T00:00:00\",\"2023-06-03T00:00:00\",\"2023-06-04T00:00:00\",\"2023-06-05T00:00:00\",\"2023-06-06T00:00:00\",\"2023-06-07T00:00:00\",\"2023-06-08T00:00:00\",\"2023-06-09T00:00:00\",\"2023-06-10T00:00:00\",\"2023-06-11T00:00:00\",\"2023-06-12T00:00:00\",\"2023-06-13T00:00:00\",\"2023-06-14T00:00:00\",\"2023-06-15T00:00:00\",\"2023-06-16T00:00:00\",\"2023-06-17T00:00:00\",\"2023-06-18T00:00:00\",\"2023-06-19T00:00:00\",\"2023-06-20T00:00:00\",\"2023-06-21T00:00:00\",\"2023-06-22T00:00:00\",\"2023-06-23T00:00:00\",\"2023-06-24T00:00:00\",\"2023-06-25T00:00:00\",\"2023-06-26T00:00:00\",\"2023-06-27T00:00:00\",\"2023-06-28T00:00:00\",\"2023-06-29T00:00:00\",\"2023-06-30T00:00:00\",\"2023-07-01T00:00:00\",\"2023-07-02T00:00:00\",\"2023-07-03T00:00:00\",\"2023-07-04T00:00:00\",\"2023-07-06T00:00:00\"],\"xaxis\":\"x\",\"y\":[10.87,11.15,11.38,12.08,11.74,11.78,11.74,12.07,12.21,12.73,15.91,15.46,15.96,16.96,16.8,16.74,17.13,15.8,16.2,17.52,16.9,17.36,18.01,17.02,17.8,18.11,21.25,20.6,21.08,19.74,19.84,20.97,21.18,21.37,21.02,20.11,19.59,20.85,20.08,17.87,17.8,18.03,17.77,17.62,18.15,19.92,18.61,19.48,19.58,19.8,20.81,20.94,20.31,19.7,18.37,17.96,18.44,17.94,17.08,17.76,17.45,16.65,16.12,16.16,16.52,16.17,15.13,14.4,14.83,14.64,16.26,16.5,17.18,15.59,15.88,17.65,16.99,17.56,16.64,17.49,16.78,17.56,16.99,16.88,17.13,16.5,16.73,17.29,17.25,17.72,17.66,17.26,17.1,17.65,17.99,18.0,17.62,17.46,17.56,17.93,18.16,18.49,18.85,19.25,19.11,20.2,20.51,21.23,18.99,18.33,16.95,17.23,16.87,16.94,17.64,17.19,17.72,17.56,17.48,17.17,16.66,16.85,17.22,16.92,17.39,16.64,16.45,15.42,15.34,15.54,14.97,15.19,14.94,15.03,15.09,14.9,15.16,14.7,14.68,14.64,14.31,14.68,14.71,14.15,14.1,14.35,14.55,14.94,14.48,14.45,14.12,14.11,14.49,14.57,14.78,13.9,14.63,14.03,13.93,13.77,11.68,11.58,11.52,11.79,11.37,11.4,11.54,11.63,11.34,11.45,12.11,12.92,12.67,13.28,13.02,13.44,13.15,13.21,12.36,12.68,13.01,12.99,13.12,13.22,13.04,12.68],\"yaxis\":\"y\",\"type\":\"scatter\"}],                        {\"template\":{\"data\":{\"pie\":[{\"automargin\":true,\"type\":\"pie\"}]},\"layout\":{\"xaxis\":{\"showgrid\":true,\"title\":{\"standoff\":15}},\"yaxis\":{\"showgrid\":true,\"title\":{\"standoff\":15}}}},\"xaxis\":{\"anchor\":\"y\",\"domain\":[0.0,1.0],\"title\":{\"text\":\"Date\"}},\"yaxis\":{\"anchor\":\"x\",\"domain\":[0.0,1.0],\"title\":{\"text\":\"Close\"}},\"legend\":{\"title\":{\"text\":\"Name\"},\"tracegroupgap\":0},\"title\":{\"text\":\"1er trimestre 2022 Cripto\"}},                        {\"responsive\": true}                    ).then(function(){\n",
              "                            \n",
              "var gd = document.getElementById('9947b3ca-8ba8-476b-a70b-7f47d621dcb7');\n",
              "var x = new MutationObserver(function (mutations, observer) {{\n",
              "        var display = window.getComputedStyle(gd).display;\n",
              "        if (!display || display === 'none') {{\n",
              "            console.log([gd, 'removed!']);\n",
              "            Plotly.purge(gd);\n",
              "            observer.disconnect();\n",
              "        }}\n",
              "}});\n",
              "\n",
              "// Listen for the removal of the full notebook cells\n",
              "var notebookContainer = gd.closest('#notebook-container');\n",
              "if (notebookContainer) {{\n",
              "    x.observe(notebookContainer, {childList: true});\n",
              "}}\n",
              "\n",
              "// Listen for the clearing of the current output cell\n",
              "var outputEl = gd.closest('.output');\n",
              "if (outputEl) {{\n",
              "    x.observe(outputEl, {childList: true});\n",
              "}}\n",
              "\n",
              "                        })                };                            </script>        </div>\n",
              "</body>\n",
              "</html>"
            ]
          },
          "metadata": {}
        }
      ],
      "source": [
        "px.line(CRIPTO,\n",
        "        x=CRIPTO.index,\n",
        "        y=\"Close\",\n",
        "        template=\"gridon\",\n",
        "        color=\"Name\",\n",
        "        markers=True,\n",
        "        title=\"1er trimestre 2022 Cripto\")"
      ]
    },
    {
      "cell_type": "markdown",
      "source": [
        "## **Gráfico de Cajas**"
      ],
      "metadata": {
        "id": "s9cig0wBBET9"
      },
      "id": "s9cig0wBBET9"
    },
    {
      "cell_type": "code",
      "execution_count": 19,
      "id": "33ac3f7f-0d38-4eeb-a829-de0798adaeab",
      "metadata": {
        "colab": {
          "base_uri": "https://localhost:8080/",
          "height": 542
        },
        "id": "33ac3f7f-0d38-4eeb-a829-de0798adaeab",
        "outputId": "202d8b81-4052-4462-9bff-30f801027d40"
      },
      "outputs": [
        {
          "output_type": "display_data",
          "data": {
            "text/html": [
              "<html>\n",
              "<head><meta charset=\"utf-8\" /></head>\n",
              "<body>\n",
              "    <div>            <script src=\"https://cdnjs.cloudflare.com/ajax/libs/mathjax/2.7.5/MathJax.js?config=TeX-AMS-MML_SVG\"></script><script type=\"text/javascript\">if (window.MathJax && window.MathJax.Hub && window.MathJax.Hub.Config) {window.MathJax.Hub.Config({SVG: {font: \"STIX-Web\"}});}</script>                <script type=\"text/javascript\">window.PlotlyConfig = {MathJaxConfig: 'local'};</script>\n",
              "        <script charset=\"utf-8\" src=\"https://cdn.plot.ly/plotly-2.24.1.min.js\"></script>                <div id=\"9661f3d7-f7d7-47cb-99ab-96063b78a627\" class=\"plotly-graph-div\" style=\"height:525px; width:100%;\"></div>            <script type=\"text/javascript\">                                    window.PLOTLYENV=window.PLOTLYENV || {};                                    if (document.getElementById(\"9661f3d7-f7d7-47cb-99ab-96063b78a627\")) {                    Plotly.newPlot(                        \"9661f3d7-f7d7-47cb-99ab-96063b78a627\",                        [{\"alignmentgroup\":\"True\",\"boxpoints\":\"all\",\"hovertemplate\":\"Name=SOL\\u003cbr\\u003eClose=%{y}\\u003cextra\\u003e\\u003c\\u002fextra\\u003e\",\"legendgroup\":\"SOL\",\"marker\":{\"color\":\"#1F77B4\"},\"name\":\"SOL\",\"notched\":false,\"offsetgroup\":\"SOL\",\"orientation\":\"v\",\"showlegend\":true,\"x0\":\" \",\"xaxis\":\"x\",\"y\":[9.98,11.27,13.34,13.44,13.42,13.53,13.09,14.32,16.3,16.2,16.36,16.62,18.29,24.25,22.87,23.58,22.88,20.85,21.43,25.55,24.63,24.23,24.36,22.8,24.57,24.35,24.41,23.98,26.13,23.95,23.95,24.99,24.27,24.68,24.32,23.49,22.71,23.86,23.19,20.45,20.13,20.83,21.49,20.79,21.82,23.88,22.29,23.17,23.48,24.84,26.18,24.95,24.18,23.9,23.05,22.52,23.26,22.69,21.92,22.51,21.98,21.4,20.97,20.98,20.64,20.24,18.42,17.31,18.24,18.23,20.31,20.43,20.93,19.29,19.73,21.63,21.2,21.9,22.18,22.62,21.48,22.22,20.68,20.45,20.98,19.92,20.47,21.11,20.55,21.17,20.98,20.54,20.44,20.92,20.97,20.61,20.47,20.04,20.3,20.88,23.02,23.99,24.43,24.77,24.08,25.36,24.56,24.85,22.71,22.18,21.28,21.82,21.48,21.39,21.93,21.28,22.34,23.37,23.18,22.83,21.99,22.26,22.22,21.73,22.83,21.97,21.84,20.66,20.68,20.95,20.23,20.91,20.87,20.95,21.01,20.68,21.07,20.35,20.35,20.29,19.61,19.54,20.04,19.22,19.26,19.37,20.43,20.8,20.59,21.25,20.82,20.5,21.26,21.16,21.82,20.08,20.4,18.63,18.91,17.38,15.66,15.56,15.2,15.02,14.49,14.76,15.31,15.65,15.44,16.07,16.64,17.26,16.64,17.15,16.65,16.97,16.27,16.62,15.99,17.97,18.9,18.68,19.45,19.24,19.14,19.56],\"y0\":\" \",\"yaxis\":\"y\",\"type\":\"box\"},{\"alignmentgroup\":\"True\",\"boxpoints\":\"all\",\"hovertemplate\":\"Name=AVAX\\u003cbr\\u003eClose=%{y}\\u003cextra\\u003e\\u003c\\u002fextra\\u003e\",\"legendgroup\":\"AVAX\",\"marker\":{\"color\":\"#FF7F0E\"},\"name\":\"AVAX\",\"notched\":false,\"offsetgroup\":\"AVAX\",\"orientation\":\"v\",\"showlegend\":true,\"x0\":\" \",\"xaxis\":\"x\",\"y\":[10.87,11.15,11.38,12.08,11.74,11.78,11.74,12.07,12.21,12.73,15.91,15.46,15.96,16.96,16.8,16.74,17.13,15.8,16.2,17.52,16.9,17.36,18.01,17.02,17.8,18.11,21.25,20.6,21.08,19.74,19.84,20.97,21.18,21.37,21.02,20.11,19.59,20.85,20.08,17.87,17.8,18.03,17.77,17.62,18.15,19.92,18.61,19.48,19.58,19.8,20.81,20.94,20.31,19.7,18.37,17.96,18.44,17.94,17.08,17.76,17.45,16.65,16.12,16.16,16.52,16.17,15.13,14.4,14.83,14.64,16.26,16.5,17.18,15.59,15.88,17.65,16.99,17.56,16.64,17.49,16.78,17.56,16.99,16.88,17.13,16.5,16.73,17.29,17.25,17.72,17.66,17.26,17.1,17.65,17.99,18.0,17.62,17.46,17.56,17.93,18.16,18.49,18.85,19.25,19.11,20.2,20.51,21.23,18.99,18.33,16.95,17.23,16.87,16.94,17.64,17.19,17.72,17.56,17.48,17.17,16.66,16.85,17.22,16.92,17.39,16.64,16.45,15.42,15.34,15.54,14.97,15.19,14.94,15.03,15.09,14.9,15.16,14.7,14.68,14.64,14.31,14.68,14.71,14.15,14.1,14.35,14.55,14.94,14.48,14.45,14.12,14.11,14.49,14.57,14.78,13.9,14.63,14.03,13.93,13.77,11.68,11.58,11.52,11.79,11.37,11.4,11.54,11.63,11.34,11.45,12.11,12.92,12.67,13.28,13.02,13.44,13.15,13.21,12.36,12.68,13.01,12.99,13.12,13.22,13.04,12.68],\"y0\":\" \",\"yaxis\":\"y\",\"type\":\"box\"}],                        {\"template\":{\"data\":{\"pie\":[{\"automargin\":true,\"type\":\"pie\"}]},\"layout\":{\"xaxis\":{\"showgrid\":true,\"title\":{\"standoff\":15}},\"yaxis\":{\"showgrid\":true,\"title\":{\"standoff\":15}}}},\"xaxis\":{\"anchor\":\"y\",\"domain\":[0.0,1.0]},\"yaxis\":{\"anchor\":\"x\",\"domain\":[0.0,1.0],\"title\":{\"text\":\"Close\"}},\"legend\":{\"title\":{\"text\":\"Name\"},\"tracegroupgap\":0},\"margin\":{\"t\":60},\"boxmode\":\"group\"},                        {\"responsive\": true}                    ).then(function(){\n",
              "                            \n",
              "var gd = document.getElementById('9661f3d7-f7d7-47cb-99ab-96063b78a627');\n",
              "var x = new MutationObserver(function (mutations, observer) {{\n",
              "        var display = window.getComputedStyle(gd).display;\n",
              "        if (!display || display === 'none') {{\n",
              "            console.log([gd, 'removed!']);\n",
              "            Plotly.purge(gd);\n",
              "            observer.disconnect();\n",
              "        }}\n",
              "}});\n",
              "\n",
              "// Listen for the removal of the full notebook cells\n",
              "var notebookContainer = gd.closest('#notebook-container');\n",
              "if (notebookContainer) {{\n",
              "    x.observe(notebookContainer, {childList: true});\n",
              "}}\n",
              "\n",
              "// Listen for the clearing of the current output cell\n",
              "var outputEl = gd.closest('.output');\n",
              "if (outputEl) {{\n",
              "    x.observe(outputEl, {childList: true});\n",
              "}}\n",
              "\n",
              "                        })                };                            </script>        </div>\n",
              "</body>\n",
              "</html>"
            ]
          },
          "metadata": {}
        }
      ],
      "source": [
        "px.box(CRIPTO,\n",
        "       y = \"Close\",\n",
        "       template = \"gridon\",\n",
        "       points=\"all\",\n",
        "       color = \"Name\")"
      ]
    },
    {
      "cell_type": "markdown",
      "source": [
        "## **Gráfico de Velas**"
      ],
      "metadata": {
        "id": "f4nIpTHiHQUc"
      },
      "id": "f4nIpTHiHQUc"
    },
    {
      "cell_type": "code",
      "source": [
        "fig = go.Figure(data=[go.Candlestick(x=AVAX.index,\n",
        "                open=AVAX.Open,\n",
        "                high=AVAX.High,\n",
        "                low=AVAX.Low,\n",
        "                close=AVAX.Close)])\n",
        "\n",
        "fig.update_layout(template=\"gridon\")\n",
        "\n",
        "fig.show()"
      ],
      "metadata": {
        "colab": {
          "base_uri": "https://localhost:8080/",
          "height": 542
        },
        "id": "2O2_-Q3mHSQT",
        "outputId": "8bb0314d-c4fa-40a1-a1c6-5841c82209b8"
      },
      "id": "2O2_-Q3mHSQT",
      "execution_count": 20,
      "outputs": [
        {
          "output_type": "display_data",
          "data": {
            "text/html": [
              "<html>\n",
              "<head><meta charset=\"utf-8\" /></head>\n",
              "<body>\n",
              "    <div>            <script src=\"https://cdnjs.cloudflare.com/ajax/libs/mathjax/2.7.5/MathJax.js?config=TeX-AMS-MML_SVG\"></script><script type=\"text/javascript\">if (window.MathJax && window.MathJax.Hub && window.MathJax.Hub.Config) {window.MathJax.Hub.Config({SVG: {font: \"STIX-Web\"}});}</script>                <script type=\"text/javascript\">window.PlotlyConfig = {MathJaxConfig: 'local'};</script>\n",
              "        <script charset=\"utf-8\" src=\"https://cdn.plot.ly/plotly-2.24.1.min.js\"></script>                <div id=\"f0a14a3a-4d27-4498-ad53-d3c624c4aacf\" class=\"plotly-graph-div\" style=\"height:525px; width:100%;\"></div>            <script type=\"text/javascript\">                                    window.PLOTLYENV=window.PLOTLYENV || {};                                    if (document.getElementById(\"f0a14a3a-4d27-4498-ad53-d3c624c4aacf\")) {                    Plotly.newPlot(                        \"f0a14a3a-4d27-4498-ad53-d3c624c4aacf\",                        [{\"close\":[10.87,11.15,11.38,12.08,11.74,11.78,11.74,12.07,12.21,12.73,15.91,15.46,15.96,16.96,16.8,16.74,17.13,15.8,16.2,17.52,16.9,17.36,18.01,17.02,17.8,18.11,21.25,20.6,21.08,19.74,19.84,20.97,21.18,21.37,21.02,20.11,19.59,20.85,20.08,17.87,17.8,18.03,17.77,17.62,18.15,19.92,18.61,19.48,19.58,19.8,20.81,20.94,20.31,19.7,18.37,17.96,18.44,17.94,17.08,17.76,17.45,16.65,16.12,16.16,16.52,16.17,15.13,14.4,14.83,14.64,16.26,16.5,17.18,15.59,15.88,17.65,16.99,17.56,16.64,17.49,16.78,17.56,16.99,16.88,17.13,16.5,16.73,17.29,17.25,17.72,17.66,17.26,17.1,17.65,17.99,18.0,17.62,17.46,17.56,17.93,18.16,18.49,18.85,19.25,19.11,20.2,20.51,21.23,18.99,18.33,16.95,17.23,16.87,16.94,17.64,17.19,17.72,17.56,17.48,17.17,16.66,16.85,17.22,16.92,17.39,16.64,16.45,15.42,15.34,15.54,14.97,15.19,14.94,15.03,15.09,14.9,15.16,14.7,14.68,14.64,14.31,14.68,14.71,14.15,14.1,14.35,14.55,14.94,14.48,14.45,14.12,14.11,14.49,14.57,14.78,13.9,14.63,14.03,13.93,13.77,11.68,11.58,11.52,11.79,11.37,11.4,11.54,11.63,11.34,11.45,12.11,12.92,12.67,13.28,13.02,13.44,13.15,13.21,12.36,12.68,13.01,12.99,13.12,13.22,13.04,12.68],\"high\":[10.93,11.23,11.53,12.27,12.15,11.8,11.85,12.13,12.63,12.87,15.91,16.11,16.43,18.34,17.04,17.28,18.14,17.38,16.26,17.53,17.73,18.37,18.28,18.86,18.22,18.72,21.55,21.68,21.12,21.18,20.1,20.97,22.71,21.84,21.62,21.12,20.37,20.92,21.0,20.21,18.22,18.07,18.47,17.84,18.26,19.92,20.31,19.62,20.03,20.37,21.31,21.6,21.46,20.7,19.81,18.56,18.56,18.62,17.94,17.8,17.83,17.47,16.87,16.5,16.58,16.7,16.24,15.67,15.09,15.18,16.31,16.79,17.89,17.48,16.07,17.72,18.18,18.1,17.8,17.53,17.92,17.83,17.64,17.15,17.28,17.15,16.8,17.39,17.53,17.83,17.88,17.84,17.42,17.65,18.31,18.31,18.12,17.74,17.64,17.96,18.56,18.7,19.01,19.31,19.51,20.46,21.09,21.53,21.22,19.4,18.49,17.34,17.25,17.22,17.74,18.2,17.9,17.81,17.72,17.81,17.21,16.97,17.31,17.25,17.41,17.48,16.74,16.51,15.58,15.71,15.54,15.2,15.2,15.14,15.34,15.14,15.28,15.17,14.81,14.7,14.69,14.75,14.95,14.71,14.25,14.39,14.58,15.03,14.96,14.72,14.46,14.28,14.56,14.6,14.92,14.87,14.66,14.68,14.1,14.23,13.77,11.8,11.58,12.04,11.95,11.55,11.69,11.82,11.63,11.49,12.11,13.01,13.21,13.48,13.39,13.67,13.64,13.46,13.21,12.92,13.31,13.14,13.2,13.43,13.39,12.71],\"low\":[10.67,10.74,11.09,11.36,11.72,11.39,11.67,11.61,12.07,12.09,12.32,14.89,15.05,15.94,16.05,16.22,16.67,15.77,15.75,15.9,16.89,16.88,17.35,16.94,16.6,17.8,17.63,20.15,20.23,19.43,19.4,18.8,20.95,20.88,20.99,19.78,19.56,19.57,19.74,17.66,17.63,17.7,17.62,16.93,17.38,17.94,18.58,18.52,19.36,19.44,19.22,20.02,19.65,19.58,18.14,17.54,17.85,17.79,17.0,17.03,17.16,15.94,15.82,16.09,15.86,15.91,15.09,14.26,13.94,14.1,14.36,15.56,16.21,15.45,15.38,15.71,16.95,16.99,16.62,16.43,16.38,16.65,16.76,16.43,16.88,16.15,16.35,16.69,17.06,17.12,17.57,17.12,16.74,16.99,17.64,17.7,17.54,17.41,17.28,17.41,17.9,17.73,18.15,18.52,19.03,18.94,20.03,20.38,18.79,18.3,16.81,16.85,16.59,16.6,16.81,16.44,17.15,17.31,17.41,17.15,16.54,16.53,16.44,16.83,16.9,16.5,16.44,15.07,15.26,14.91,14.86,14.68,14.93,14.86,14.86,14.77,14.69,14.49,14.6,14.56,14.25,14.15,14.63,14.03,13.83,13.99,14.29,14.39,14.38,14.41,14.03,13.89,14.02,14.42,14.53,13.61,13.85,14.0,13.81,13.74,10.42,11.5,11.3,11.46,11.26,11.03,11.28,11.49,11.34,11.21,11.21,12.08,12.65,12.66,12.8,13.0,13.03,13.13,12.17,12.29,12.38,12.9,12.75,13.1,13.04,12.59],\"open\":[10.9,10.87,11.15,11.38,12.08,11.74,11.78,11.74,12.07,12.21,12.73,15.85,15.46,15.96,16.96,16.8,16.74,17.13,15.81,16.19,17.52,16.89,17.36,18.0,17.02,17.8,18.11,21.25,20.6,21.08,19.74,19.84,20.96,21.17,21.36,21.03,20.11,19.58,20.84,20.09,17.88,17.8,18.03,17.77,17.62,18.15,19.92,18.61,19.48,19.57,19.81,20.82,20.94,20.32,19.7,18.37,17.96,18.44,17.94,17.08,17.76,17.45,16.65,16.12,16.16,16.52,16.17,15.14,14.41,14.83,14.64,16.26,16.5,17.18,15.59,15.88,17.65,16.99,17.56,16.65,17.48,16.78,17.56,16.98,16.88,17.13,16.5,16.73,17.3,17.25,17.71,17.8,17.26,17.1,17.65,17.99,18.0,17.62,17.47,17.56,17.93,18.16,18.26,18.85,19.25,19.11,20.2,20.52,21.22,18.99,18.33,16.95,17.23,16.86,16.94,17.64,17.19,17.72,17.56,17.48,17.16,16.66,16.85,17.22,16.92,17.39,16.64,16.45,15.42,15.34,15.54,14.97,15.19,14.94,15.03,15.09,14.9,15.16,14.7,14.68,14.64,14.31,14.68,14.71,14.15,14.1,14.35,14.55,14.94,14.49,14.45,14.12,14.11,14.49,14.57,14.78,13.89,14.63,14.03,13.93,13.77,11.68,11.58,11.52,11.79,11.37,11.4,11.54,11.62,11.34,11.46,12.11,12.92,12.67,13.28,13.02,13.44,13.15,13.21,12.36,12.68,13.01,13.0,13.12,13.22,12.66],\"x\":[\"2023-01-01T00:00:00\",\"2023-01-02T00:00:00\",\"2023-01-03T00:00:00\",\"2023-01-04T00:00:00\",\"2023-01-05T00:00:00\",\"2023-01-06T00:00:00\",\"2023-01-07T00:00:00\",\"2023-01-08T00:00:00\",\"2023-01-09T00:00:00\",\"2023-01-10T00:00:00\",\"2023-01-11T00:00:00\",\"2023-01-12T00:00:00\",\"2023-01-13T00:00:00\",\"2023-01-14T00:00:00\",\"2023-01-15T00:00:00\",\"2023-01-16T00:00:00\",\"2023-01-17T00:00:00\",\"2023-01-18T00:00:00\",\"2023-01-19T00:00:00\",\"2023-01-20T00:00:00\",\"2023-01-21T00:00:00\",\"2023-01-22T00:00:00\",\"2023-01-23T00:00:00\",\"2023-01-24T00:00:00\",\"2023-01-25T00:00:00\",\"2023-01-26T00:00:00\",\"2023-01-27T00:00:00\",\"2023-01-28T00:00:00\",\"2023-01-29T00:00:00\",\"2023-01-30T00:00:00\",\"2023-01-31T00:00:00\",\"2023-02-01T00:00:00\",\"2023-02-02T00:00:00\",\"2023-02-03T00:00:00\",\"2023-02-04T00:00:00\",\"2023-02-05T00:00:00\",\"2023-02-06T00:00:00\",\"2023-02-07T00:00:00\",\"2023-02-08T00:00:00\",\"2023-02-09T00:00:00\",\"2023-02-10T00:00:00\",\"2023-02-11T00:00:00\",\"2023-02-12T00:00:00\",\"2023-02-13T00:00:00\",\"2023-02-14T00:00:00\",\"2023-02-15T00:00:00\",\"2023-02-16T00:00:00\",\"2023-02-17T00:00:00\",\"2023-02-18T00:00:00\",\"2023-02-19T00:00:00\",\"2023-02-20T00:00:00\",\"2023-02-21T00:00:00\",\"2023-02-22T00:00:00\",\"2023-02-23T00:00:00\",\"2023-02-24T00:00:00\",\"2023-02-25T00:00:00\",\"2023-02-26T00:00:00\",\"2023-02-27T00:00:00\",\"2023-02-28T00:00:00\",\"2023-03-01T00:00:00\",\"2023-03-02T00:00:00\",\"2023-03-03T00:00:00\",\"2023-03-04T00:00:00\",\"2023-03-05T00:00:00\",\"2023-03-06T00:00:00\",\"2023-03-07T00:00:00\",\"2023-03-08T00:00:00\",\"2023-03-09T00:00:00\",\"2023-03-10T00:00:00\",\"2023-03-11T00:00:00\",\"2023-03-12T00:00:00\",\"2023-03-13T00:00:00\",\"2023-03-14T00:00:00\",\"2023-03-15T00:00:00\",\"2023-03-16T00:00:00\",\"2023-03-17T00:00:00\",\"2023-03-18T00:00:00\",\"2023-03-19T00:00:00\",\"2023-03-20T00:00:00\",\"2023-03-21T00:00:00\",\"2023-03-22T00:00:00\",\"2023-03-23T00:00:00\",\"2023-03-24T00:00:00\",\"2023-03-25T00:00:00\",\"2023-03-26T00:00:00\",\"2023-03-27T00:00:00\",\"2023-03-28T00:00:00\",\"2023-03-29T00:00:00\",\"2023-03-30T00:00:00\",\"2023-03-31T00:00:00\",\"2023-04-01T00:00:00\",\"2023-04-02T00:00:00\",\"2023-04-03T00:00:00\",\"2023-04-04T00:00:00\",\"2023-04-05T00:00:00\",\"2023-04-06T00:00:00\",\"2023-04-07T00:00:00\",\"2023-04-08T00:00:00\",\"2023-04-09T00:00:00\",\"2023-04-10T00:00:00\",\"2023-04-11T00:00:00\",\"2023-04-12T00:00:00\",\"2023-04-13T00:00:00\",\"2023-04-14T00:00:00\",\"2023-04-15T00:00:00\",\"2023-04-16T00:00:00\",\"2023-04-17T00:00:00\",\"2023-04-18T00:00:00\",\"2023-04-19T00:00:00\",\"2023-04-20T00:00:00\",\"2023-04-21T00:00:00\",\"2023-04-22T00:00:00\",\"2023-04-23T00:00:00\",\"2023-04-24T00:00:00\",\"2023-04-25T00:00:00\",\"2023-04-26T00:00:00\",\"2023-04-27T00:00:00\",\"2023-04-28T00:00:00\",\"2023-04-29T00:00:00\",\"2023-04-30T00:00:00\",\"2023-05-01T00:00:00\",\"2023-05-02T00:00:00\",\"2023-05-03T00:00:00\",\"2023-05-04T00:00:00\",\"2023-05-05T00:00:00\",\"2023-05-06T00:00:00\",\"2023-05-07T00:00:00\",\"2023-05-08T00:00:00\",\"2023-05-09T00:00:00\",\"2023-05-10T00:00:00\",\"2023-05-11T00:00:00\",\"2023-05-12T00:00:00\",\"2023-05-13T00:00:00\",\"2023-05-14T00:00:00\",\"2023-05-15T00:00:00\",\"2023-05-16T00:00:00\",\"2023-05-17T00:00:00\",\"2023-05-18T00:00:00\",\"2023-05-19T00:00:00\",\"2023-05-20T00:00:00\",\"2023-05-21T00:00:00\",\"2023-05-22T00:00:00\",\"2023-05-23T00:00:00\",\"2023-05-24T00:00:00\",\"2023-05-25T00:00:00\",\"2023-05-26T00:00:00\",\"2023-05-27T00:00:00\",\"2023-05-28T00:00:00\",\"2023-05-29T00:00:00\",\"2023-05-30T00:00:00\",\"2023-05-31T00:00:00\",\"2023-06-01T00:00:00\",\"2023-06-02T00:00:00\",\"2023-06-03T00:00:00\",\"2023-06-04T00:00:00\",\"2023-06-05T00:00:00\",\"2023-06-06T00:00:00\",\"2023-06-07T00:00:00\",\"2023-06-08T00:00:00\",\"2023-06-09T00:00:00\",\"2023-06-10T00:00:00\",\"2023-06-11T00:00:00\",\"2023-06-12T00:00:00\",\"2023-06-13T00:00:00\",\"2023-06-14T00:00:00\",\"2023-06-15T00:00:00\",\"2023-06-16T00:00:00\",\"2023-06-17T00:00:00\",\"2023-06-18T00:00:00\",\"2023-06-19T00:00:00\",\"2023-06-20T00:00:00\",\"2023-06-21T00:00:00\",\"2023-06-22T00:00:00\",\"2023-06-23T00:00:00\",\"2023-06-24T00:00:00\",\"2023-06-25T00:00:00\",\"2023-06-26T00:00:00\",\"2023-06-27T00:00:00\",\"2023-06-28T00:00:00\",\"2023-06-29T00:00:00\",\"2023-06-30T00:00:00\",\"2023-07-01T00:00:00\",\"2023-07-02T00:00:00\",\"2023-07-03T00:00:00\",\"2023-07-04T00:00:00\",\"2023-07-06T00:00:00\"],\"type\":\"candlestick\"}],                        {\"template\":{\"data\":{\"pie\":[{\"automargin\":true,\"type\":\"pie\"}]},\"layout\":{\"xaxis\":{\"showgrid\":true,\"title\":{\"standoff\":15}},\"yaxis\":{\"showgrid\":true,\"title\":{\"standoff\":15}}}}},                        {\"responsive\": true}                    ).then(function(){\n",
              "                            \n",
              "var gd = document.getElementById('f0a14a3a-4d27-4498-ad53-d3c624c4aacf');\n",
              "var x = new MutationObserver(function (mutations, observer) {{\n",
              "        var display = window.getComputedStyle(gd).display;\n",
              "        if (!display || display === 'none') {{\n",
              "            console.log([gd, 'removed!']);\n",
              "            Plotly.purge(gd);\n",
              "            observer.disconnect();\n",
              "        }}\n",
              "}});\n",
              "\n",
              "// Listen for the removal of the full notebook cells\n",
              "var notebookContainer = gd.closest('#notebook-container');\n",
              "if (notebookContainer) {{\n",
              "    x.observe(notebookContainer, {childList: true});\n",
              "}}\n",
              "\n",
              "// Listen for the clearing of the current output cell\n",
              "var outputEl = gd.closest('.output');\n",
              "if (outputEl) {{\n",
              "    x.observe(outputEl, {childList: true});\n",
              "}}\n",
              "\n",
              "                        })                };                            </script>        </div>\n",
              "</body>\n",
              "</html>"
            ]
          },
          "metadata": {}
        }
      ]
    }
  ],
  "metadata": {
    "kernelspec": {
      "display_name": "Python 3 (ipykernel)",
      "language": "python",
      "name": "python3"
    },
    "language_info": {
      "codemirror_mode": {
        "name": "ipython",
        "version": 3
      },
      "file_extension": ".py",
      "mimetype": "text/x-python",
      "name": "python",
      "nbconvert_exporter": "python",
      "pygments_lexer": "ipython3",
      "version": "3.10.2"
    },
    "colab": {
      "name": "px-02.ipynb",
      "provenance": [],
      "toc_visible": true,
      "include_colab_link": true
    }
  },
  "nbformat": 4,
  "nbformat_minor": 5
}