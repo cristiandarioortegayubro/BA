{
  "nbformat": 4,
  "nbformat_minor": 0,
  "metadata": {
    "colab": {
      "name": "eda-04.ipynb",
      "provenance": [],
      "collapsed_sections": [],
      "toc_visible": true,
      "include_colab_link": true
    },
    "kernelspec": {
      "name": "python3",
      "display_name": "Python 3"
    }
  },
  "cells": [
    {
      "cell_type": "markdown",
      "metadata": {
        "id": "view-in-github",
        "colab_type": "text"
      },
      "source": [
        "<a href=\"https://colab.research.google.com/github/cristiandarioortegayubro/BA/blob/main/eda_04.ipynb\" target=\"_parent\"><img src=\"https://colab.research.google.com/assets/colab-badge.svg\" alt=\"Open In Colab\"/></a>"
      ]
    },
    {
      "cell_type": "markdown",
      "source": [
        "![logo](https://github.com/cristiandarioortegayubro/BA/blob/main/dba.png?raw=true)"
      ],
      "metadata": {
        "id": "YrL2j9qj6MUw"
      }
    },
    {
      "cell_type": "markdown",
      "source": [
        "## **Análisis Exploratorio de los Datos y Preprocesamiento de los Datos**"
      ],
      "metadata": {
        "id": "rwI-bNlq6Pkc"
      }
    },
    {
      "cell_type": "markdown",
      "metadata": {
        "id": "6huflJemad6H"
      },
      "source": [
        "## **Conjunto de Datos**"
      ]
    },
    {
      "cell_type": "markdown",
      "metadata": {
        "id": "tIBuh0hsatD7"
      },
      "source": [
        "**El conjunto de datos *SaratogaHouses* del paquete mosaicData de R contiene información sobre el precio de 1728 viviendas situadas en Saratoga County, New York, USA en el año 2006. Además del precio de las viviendas, el conjunto de datos incluye 15 variables adicionales:**"
      ]
    },
    {
      "cell_type": "markdown",
      "metadata": {
        "id": "3mNRG5XZbEKd"
      },
      "source": [
        "- **price:** precio de la vivienda.\n",
        "- **lotSize:** metros cuadrados de la vivienda.\n",
        "- **age:** antigüedad de la vivienda.\n",
        "- **landValue:** valor del terreno.\n",
        "- **livingArea:** metros cuadrados habitables.\n",
        "- **pctCollege:** porcentaje del vecindario con título universitario.\n",
        "- **bedrooms:** número de dormitorios.\n",
        "- **firplaces:** número de chimeneas.\n",
        "- **bathrooms:** número de cuartos de baño (el valor 0.5 hace referencia a cuartos de baño sin ducha).\n",
        "- **rooms:** número de habitaciones.\n",
        "- **heating:** tipo de calefacción.\n",
        "- **fuel:** tipo de alimentación de la calefacción (gas, electricidad o diesel).\n",
        "- **sewer:** tipo de desagüe.\n",
        "- **waterfront:** si la vivienda tiene vistas al lago.\n",
        "- **newConstruction:** si la vivienda es de nueva construcción.\n",
        "- **centralAir:** si la vivienda tiene aire acondicionado."
      ]
    },
    {
      "cell_type": "markdown",
      "source": [
        "## **Actualizando los módulos necesarios**"
      ],
      "metadata": {
        "id": "if5jeRUL6pr2"
      }
    },
    {
      "cell_type": "code",
      "source": [
        "!pip install scikit-learn --upgrade"
      ],
      "metadata": {
        "colab": {
          "base_uri": "https://localhost:8080/"
        },
        "id": "aN_cR6mX6rbi",
        "outputId": "315b4aae-579a-4080-9edf-898ccd713555"
      },
      "execution_count": 1,
      "outputs": [
        {
          "output_type": "stream",
          "name": "stdout",
          "text": [
            "Looking in indexes: https://pypi.org/simple, https://us-python.pkg.dev/colab-wheels/public/simple/\n",
            "Requirement already satisfied: scikit-learn in /usr/local/lib/python3.7/dist-packages (1.0.2)\n",
            "Requirement already satisfied: threadpoolctl>=2.0.0 in /usr/local/lib/python3.7/dist-packages (from scikit-learn) (3.1.0)\n",
            "Requirement already satisfied: numpy>=1.14.6 in /usr/local/lib/python3.7/dist-packages (from scikit-learn) (1.21.6)\n",
            "Requirement already satisfied: scipy>=1.1.0 in /usr/local/lib/python3.7/dist-packages (from scikit-learn) (1.4.1)\n",
            "Requirement already satisfied: joblib>=0.11 in /usr/local/lib/python3.7/dist-packages (from scikit-learn) (1.1.0)\n"
          ]
        }
      ]
    },
    {
      "cell_type": "code",
      "source": [
        "!pip install plotly --upgrade"
      ],
      "metadata": {
        "colab": {
          "base_uri": "https://localhost:8080/"
        },
        "id": "7qNi3Xye7ppr",
        "outputId": "1c490411-a4da-4eeb-95a3-378d93180d57"
      },
      "execution_count": 2,
      "outputs": [
        {
          "output_type": "stream",
          "name": "stdout",
          "text": [
            "Looking in indexes: https://pypi.org/simple, https://us-python.pkg.dev/colab-wheels/public/simple/\n",
            "Requirement already satisfied: plotly in /usr/local/lib/python3.7/dist-packages (5.5.0)\n",
            "Collecting plotly\n",
            "  Downloading plotly-5.9.0-py2.py3-none-any.whl (15.2 MB)\n",
            "\u001b[K     |████████████████████████████████| 15.2 MB 5.1 MB/s \n",
            "\u001b[?25hRequirement already satisfied: tenacity>=6.2.0 in /usr/local/lib/python3.7/dist-packages (from plotly) (8.0.1)\n",
            "Installing collected packages: plotly\n",
            "  Attempting uninstall: plotly\n",
            "    Found existing installation: plotly 5.5.0\n",
            "    Uninstalling plotly-5.5.0:\n",
            "      Successfully uninstalled plotly-5.5.0\n",
            "Successfully installed plotly-5.9.0\n"
          ]
        }
      ]
    },
    {
      "cell_type": "markdown",
      "metadata": {
        "id": "ZwJxBrO5OKYx"
      },
      "source": [
        "## **Carga de módulos**"
      ]
    },
    {
      "cell_type": "markdown",
      "source": [
        "### **Para análisis de los datos**"
      ],
      "metadata": {
        "id": "NDPCMpMV65FG"
      }
    },
    {
      "cell_type": "code",
      "metadata": {
        "id": "pCtcmSOaN36q"
      },
      "source": [
        "import pandas as pd\n",
        "import numpy as np"
      ],
      "execution_count": 3,
      "outputs": []
    },
    {
      "cell_type": "markdown",
      "source": [
        "### **Para preprocesamiento de los datos**"
      ],
      "metadata": {
        "id": "3cgKgCDC7Bqq"
      }
    },
    {
      "cell_type": "code",
      "source": [
        "from sklearn.model_selection import train_test_split"
      ],
      "metadata": {
        "id": "l7E6wtb07FVA"
      },
      "execution_count": 4,
      "outputs": []
    },
    {
      "cell_type": "code",
      "source": [
        "import sklearn\n",
        "from sklearn.preprocessing import StandardScaler\n",
        "from sklearn.preprocessing import OneHotEncoder\n",
        "from sklearn.compose import ColumnTransformer\n",
        "from sklearn.compose import make_column_selector\n",
        "from sklearn.pipeline import Pipeline\n",
        "from sklearn.impute import SimpleImputer"
      ],
      "metadata": {
        "id": "Mg_nE_0iHens"
      },
      "execution_count": 56,
      "outputs": []
    },
    {
      "cell_type": "markdown",
      "source": [
        "### **Para graficos**"
      ],
      "metadata": {
        "id": "Fja45Erd7goe"
      }
    },
    {
      "cell_type": "code",
      "source": [
        "import matplotlib.pyplot as plt\n",
        "import seaborn as sns\n",
        "import plotly.express as px\n",
        "import plotly.figure_factory as ff"
      ],
      "metadata": {
        "id": "iAn_ZMsk7mzj"
      },
      "execution_count": 5,
      "outputs": []
    },
    {
      "cell_type": "markdown",
      "source": [
        "## **Carga de Datos**"
      ],
      "metadata": {
        "id": "IMrnmqR57F7v"
      }
    },
    {
      "cell_type": "code",
      "metadata": {
        "id": "NR1EJ5SmNeRR"
      },
      "source": [
        "url = \"https://raw.githubusercontent.com/LucaAPiattelli/Diplomatura_Business_Analytics_UDA/main/Modulo_08_Aprendizaje_Automatico/SaratogaHouses.csv\""
      ],
      "execution_count": 6,
      "outputs": []
    },
    {
      "cell_type": "code",
      "metadata": {
        "id": "jbX4z29eN0vE",
        "colab": {
          "base_uri": "https://localhost:8080/",
          "height": 302
        },
        "outputId": "389b2617-e3b4-4a07-f6a8-4f2ba8eadc02"
      },
      "source": [
        "datos = pd.read_csv(url)\n",
        "datos.head()"
      ],
      "execution_count": 7,
      "outputs": [
        {
          "output_type": "execute_result",
          "data": {
            "text/plain": [
              "    price  lotSize  age  landValue  livingArea  pctCollege  bedrooms  \\\n",
              "0  132500     0.09   42      50000         906          35         2   \n",
              "1  181115     0.92    0      22300        1953          51         3   \n",
              "2  109000     0.19  133       7300        1944          51         4   \n",
              "3  155000     0.41   13      18700        1944          51         3   \n",
              "4   86060     0.11    0      15000         840          51         2   \n",
              "\n",
              "   fireplaces  bathrooms  rooms          heating      fuel              sewer  \\\n",
              "0           1        1.0      5         electric  electric             septic   \n",
              "1           0        2.5      6  hot water/steam       gas             septic   \n",
              "2           1        1.0      8  hot water/steam       gas  public/commercial   \n",
              "3           1        1.5      5          hot air       gas             septic   \n",
              "4           0        1.0      3          hot air       gas  public/commercial   \n",
              "\n",
              "  waterfront newConstruction centralAir  \n",
              "0         No              No         No  \n",
              "1         No              No         No  \n",
              "2         No              No         No  \n",
              "3         No              No         No  \n",
              "4         No             Yes        Yes  "
            ],
            "text/html": [
              "\n",
              "  <div id=\"df-759bb134-54da-4b9f-9402-46fa2aa240be\">\n",
              "    <div class=\"colab-df-container\">\n",
              "      <div>\n",
              "<style scoped>\n",
              "    .dataframe tbody tr th:only-of-type {\n",
              "        vertical-align: middle;\n",
              "    }\n",
              "\n",
              "    .dataframe tbody tr th {\n",
              "        vertical-align: top;\n",
              "    }\n",
              "\n",
              "    .dataframe thead th {\n",
              "        text-align: right;\n",
              "    }\n",
              "</style>\n",
              "<table border=\"1\" class=\"dataframe\">\n",
              "  <thead>\n",
              "    <tr style=\"text-align: right;\">\n",
              "      <th></th>\n",
              "      <th>price</th>\n",
              "      <th>lotSize</th>\n",
              "      <th>age</th>\n",
              "      <th>landValue</th>\n",
              "      <th>livingArea</th>\n",
              "      <th>pctCollege</th>\n",
              "      <th>bedrooms</th>\n",
              "      <th>fireplaces</th>\n",
              "      <th>bathrooms</th>\n",
              "      <th>rooms</th>\n",
              "      <th>heating</th>\n",
              "      <th>fuel</th>\n",
              "      <th>sewer</th>\n",
              "      <th>waterfront</th>\n",
              "      <th>newConstruction</th>\n",
              "      <th>centralAir</th>\n",
              "    </tr>\n",
              "  </thead>\n",
              "  <tbody>\n",
              "    <tr>\n",
              "      <th>0</th>\n",
              "      <td>132500</td>\n",
              "      <td>0.09</td>\n",
              "      <td>42</td>\n",
              "      <td>50000</td>\n",
              "      <td>906</td>\n",
              "      <td>35</td>\n",
              "      <td>2</td>\n",
              "      <td>1</td>\n",
              "      <td>1.0</td>\n",
              "      <td>5</td>\n",
              "      <td>electric</td>\n",
              "      <td>electric</td>\n",
              "      <td>septic</td>\n",
              "      <td>No</td>\n",
              "      <td>No</td>\n",
              "      <td>No</td>\n",
              "    </tr>\n",
              "    <tr>\n",
              "      <th>1</th>\n",
              "      <td>181115</td>\n",
              "      <td>0.92</td>\n",
              "      <td>0</td>\n",
              "      <td>22300</td>\n",
              "      <td>1953</td>\n",
              "      <td>51</td>\n",
              "      <td>3</td>\n",
              "      <td>0</td>\n",
              "      <td>2.5</td>\n",
              "      <td>6</td>\n",
              "      <td>hot water/steam</td>\n",
              "      <td>gas</td>\n",
              "      <td>septic</td>\n",
              "      <td>No</td>\n",
              "      <td>No</td>\n",
              "      <td>No</td>\n",
              "    </tr>\n",
              "    <tr>\n",
              "      <th>2</th>\n",
              "      <td>109000</td>\n",
              "      <td>0.19</td>\n",
              "      <td>133</td>\n",
              "      <td>7300</td>\n",
              "      <td>1944</td>\n",
              "      <td>51</td>\n",
              "      <td>4</td>\n",
              "      <td>1</td>\n",
              "      <td>1.0</td>\n",
              "      <td>8</td>\n",
              "      <td>hot water/steam</td>\n",
              "      <td>gas</td>\n",
              "      <td>public/commercial</td>\n",
              "      <td>No</td>\n",
              "      <td>No</td>\n",
              "      <td>No</td>\n",
              "    </tr>\n",
              "    <tr>\n",
              "      <th>3</th>\n",
              "      <td>155000</td>\n",
              "      <td>0.41</td>\n",
              "      <td>13</td>\n",
              "      <td>18700</td>\n",
              "      <td>1944</td>\n",
              "      <td>51</td>\n",
              "      <td>3</td>\n",
              "      <td>1</td>\n",
              "      <td>1.5</td>\n",
              "      <td>5</td>\n",
              "      <td>hot air</td>\n",
              "      <td>gas</td>\n",
              "      <td>septic</td>\n",
              "      <td>No</td>\n",
              "      <td>No</td>\n",
              "      <td>No</td>\n",
              "    </tr>\n",
              "    <tr>\n",
              "      <th>4</th>\n",
              "      <td>86060</td>\n",
              "      <td>0.11</td>\n",
              "      <td>0</td>\n",
              "      <td>15000</td>\n",
              "      <td>840</td>\n",
              "      <td>51</td>\n",
              "      <td>2</td>\n",
              "      <td>0</td>\n",
              "      <td>1.0</td>\n",
              "      <td>3</td>\n",
              "      <td>hot air</td>\n",
              "      <td>gas</td>\n",
              "      <td>public/commercial</td>\n",
              "      <td>No</td>\n",
              "      <td>Yes</td>\n",
              "      <td>Yes</td>\n",
              "    </tr>\n",
              "  </tbody>\n",
              "</table>\n",
              "</div>\n",
              "      <button class=\"colab-df-convert\" onclick=\"convertToInteractive('df-759bb134-54da-4b9f-9402-46fa2aa240be')\"\n",
              "              title=\"Convert this dataframe to an interactive table.\"\n",
              "              style=\"display:none;\">\n",
              "        \n",
              "  <svg xmlns=\"http://www.w3.org/2000/svg\" height=\"24px\"viewBox=\"0 0 24 24\"\n",
              "       width=\"24px\">\n",
              "    <path d=\"M0 0h24v24H0V0z\" fill=\"none\"/>\n",
              "    <path d=\"M18.56 5.44l.94 2.06.94-2.06 2.06-.94-2.06-.94-.94-2.06-.94 2.06-2.06.94zm-11 1L8.5 8.5l.94-2.06 2.06-.94-2.06-.94L8.5 2.5l-.94 2.06-2.06.94zm10 10l.94 2.06.94-2.06 2.06-.94-2.06-.94-.94-2.06-.94 2.06-2.06.94z\"/><path d=\"M17.41 7.96l-1.37-1.37c-.4-.4-.92-.59-1.43-.59-.52 0-1.04.2-1.43.59L10.3 9.45l-7.72 7.72c-.78.78-.78 2.05 0 2.83L4 21.41c.39.39.9.59 1.41.59.51 0 1.02-.2 1.41-.59l7.78-7.78 2.81-2.81c.8-.78.8-2.07 0-2.86zM5.41 20L4 18.59l7.72-7.72 1.47 1.35L5.41 20z\"/>\n",
              "  </svg>\n",
              "      </button>\n",
              "      \n",
              "  <style>\n",
              "    .colab-df-container {\n",
              "      display:flex;\n",
              "      flex-wrap:wrap;\n",
              "      gap: 12px;\n",
              "    }\n",
              "\n",
              "    .colab-df-convert {\n",
              "      background-color: #E8F0FE;\n",
              "      border: none;\n",
              "      border-radius: 50%;\n",
              "      cursor: pointer;\n",
              "      display: none;\n",
              "      fill: #1967D2;\n",
              "      height: 32px;\n",
              "      padding: 0 0 0 0;\n",
              "      width: 32px;\n",
              "    }\n",
              "\n",
              "    .colab-df-convert:hover {\n",
              "      background-color: #E2EBFA;\n",
              "      box-shadow: 0px 1px 2px rgba(60, 64, 67, 0.3), 0px 1px 3px 1px rgba(60, 64, 67, 0.15);\n",
              "      fill: #174EA6;\n",
              "    }\n",
              "\n",
              "    [theme=dark] .colab-df-convert {\n",
              "      background-color: #3B4455;\n",
              "      fill: #D2E3FC;\n",
              "    }\n",
              "\n",
              "    [theme=dark] .colab-df-convert:hover {\n",
              "      background-color: #434B5C;\n",
              "      box-shadow: 0px 1px 3px 1px rgba(0, 0, 0, 0.15);\n",
              "      filter: drop-shadow(0px 1px 2px rgba(0, 0, 0, 0.3));\n",
              "      fill: #FFFFFF;\n",
              "    }\n",
              "  </style>\n",
              "\n",
              "      <script>\n",
              "        const buttonEl =\n",
              "          document.querySelector('#df-759bb134-54da-4b9f-9402-46fa2aa240be button.colab-df-convert');\n",
              "        buttonEl.style.display =\n",
              "          google.colab.kernel.accessAllowed ? 'block' : 'none';\n",
              "\n",
              "        async function convertToInteractive(key) {\n",
              "          const element = document.querySelector('#df-759bb134-54da-4b9f-9402-46fa2aa240be');\n",
              "          const dataTable =\n",
              "            await google.colab.kernel.invokeFunction('convertToInteractive',\n",
              "                                                     [key], {});\n",
              "          if (!dataTable) return;\n",
              "\n",
              "          const docLinkHtml = 'Like what you see? Visit the ' +\n",
              "            '<a target=\"_blank\" href=https://colab.research.google.com/notebooks/data_table.ipynb>data table notebook</a>'\n",
              "            + ' to learn more about interactive tables.';\n",
              "          element.innerHTML = '';\n",
              "          dataTable['output_type'] = 'display_data';\n",
              "          await google.colab.output.renderOutput(dataTable, element);\n",
              "          const docLink = document.createElement('div');\n",
              "          docLink.innerHTML = docLinkHtml;\n",
              "          element.appendChild(docLink);\n",
              "        }\n",
              "      </script>\n",
              "    </div>\n",
              "  </div>\n",
              "  "
            ]
          },
          "metadata": {},
          "execution_count": 7
        }
      ]
    },
    {
      "cell_type": "markdown",
      "metadata": {
        "id": "TxrXy6xQQo46"
      },
      "source": [
        "**Se cambian los nombres de las columnas para mejor interpretacion...**"
      ]
    },
    {
      "cell_type": "code",
      "metadata": {
        "id": "k3qqo_6wS0qg"
      },
      "source": [
        "datos.columns = [\"precio\", \"metros_totales\", \"antiguedad\", \"precio_terreno\",\n",
        "                 \"metros_habitables\", \"universitarios\", \"dormitorios\", \n",
        "                 \"chimenea\", \"baños\", \"habitaciones\", \"calefaccion\",\n",
        "                 \"consumo_calefacion\", \"desague\", \"vistas_lago\",\n",
        "                 \"nueva_construccion\", \"aire_acondicionado\"]"
      ],
      "execution_count": 8,
      "outputs": []
    },
    {
      "cell_type": "markdown",
      "metadata": {
        "id": "JOgQW2ethNL0"
      },
      "source": [
        "# **Análisis Exploratorio de los Datos**"
      ]
    },
    {
      "cell_type": "markdown",
      "metadata": {
        "id": "IwEUBYWchiI1"
      },
      "source": [
        "El Análisis Exploratorio de los Datos es  una exploración descriptiva del Conjunto de Datos. Este proceso permite entender  qué información contiene cada variable, así como detectar  errores. Algunos ejemplos frecuentes son:\n",
        "\n",
        "- **Que una columna se haya almacenado con el tipo de dato incorrecto:** una variable numérica está siendo reconocida como texto o viceversa.\n",
        "- **Que una variable contenga valores que no tienen sentido:** por ejemplo, para indicar que no se dispone del precio de una vivienda se introduce el valor 0 o un espacio en blanco.\n",
        "- **Que en una variable de tipo numérico se haya introducido una palabra en lugar de un número.**\n",
        "\n",
        "Además, el Análisis Exploratorio de los Datos puede dar pistas sobre qué variables son adecuadas como predictores en un modelo."
      ]
    },
    {
      "cell_type": "code",
      "metadata": {
        "colab": {
          "base_uri": "https://localhost:8080/",
          "height": 271
        },
        "id": "m1odjErLiboH",
        "outputId": "6aef5885-a147-4985-fb5a-d78c23666fdd"
      },
      "source": [
        "datos.head(4)"
      ],
      "execution_count": 9,
      "outputs": [
        {
          "output_type": "execute_result",
          "data": {
            "text/plain": [
              "   precio  metros_totales  antiguedad  precio_terreno  metros_habitables  \\\n",
              "0  132500            0.09          42           50000                906   \n",
              "1  181115            0.92           0           22300               1953   \n",
              "2  109000            0.19         133            7300               1944   \n",
              "3  155000            0.41          13           18700               1944   \n",
              "\n",
              "   universitarios  dormitorios  chimenea  baños  habitaciones  \\\n",
              "0              35            2         1    1.0             5   \n",
              "1              51            3         0    2.5             6   \n",
              "2              51            4         1    1.0             8   \n",
              "3              51            3         1    1.5             5   \n",
              "\n",
              "       calefaccion consumo_calefacion            desague vistas_lago  \\\n",
              "0         electric           electric             septic          No   \n",
              "1  hot water/steam                gas             septic          No   \n",
              "2  hot water/steam                gas  public/commercial          No   \n",
              "3          hot air                gas             septic          No   \n",
              "\n",
              "  nueva_construccion aire_acondicionado  \n",
              "0                 No                 No  \n",
              "1                 No                 No  \n",
              "2                 No                 No  \n",
              "3                 No                 No  "
            ],
            "text/html": [
              "\n",
              "  <div id=\"df-81dfc4f5-35f4-4150-85b1-13c201c23794\">\n",
              "    <div class=\"colab-df-container\">\n",
              "      <div>\n",
              "<style scoped>\n",
              "    .dataframe tbody tr th:only-of-type {\n",
              "        vertical-align: middle;\n",
              "    }\n",
              "\n",
              "    .dataframe tbody tr th {\n",
              "        vertical-align: top;\n",
              "    }\n",
              "\n",
              "    .dataframe thead th {\n",
              "        text-align: right;\n",
              "    }\n",
              "</style>\n",
              "<table border=\"1\" class=\"dataframe\">\n",
              "  <thead>\n",
              "    <tr style=\"text-align: right;\">\n",
              "      <th></th>\n",
              "      <th>precio</th>\n",
              "      <th>metros_totales</th>\n",
              "      <th>antiguedad</th>\n",
              "      <th>precio_terreno</th>\n",
              "      <th>metros_habitables</th>\n",
              "      <th>universitarios</th>\n",
              "      <th>dormitorios</th>\n",
              "      <th>chimenea</th>\n",
              "      <th>baños</th>\n",
              "      <th>habitaciones</th>\n",
              "      <th>calefaccion</th>\n",
              "      <th>consumo_calefacion</th>\n",
              "      <th>desague</th>\n",
              "      <th>vistas_lago</th>\n",
              "      <th>nueva_construccion</th>\n",
              "      <th>aire_acondicionado</th>\n",
              "    </tr>\n",
              "  </thead>\n",
              "  <tbody>\n",
              "    <tr>\n",
              "      <th>0</th>\n",
              "      <td>132500</td>\n",
              "      <td>0.09</td>\n",
              "      <td>42</td>\n",
              "      <td>50000</td>\n",
              "      <td>906</td>\n",
              "      <td>35</td>\n",
              "      <td>2</td>\n",
              "      <td>1</td>\n",
              "      <td>1.0</td>\n",
              "      <td>5</td>\n",
              "      <td>electric</td>\n",
              "      <td>electric</td>\n",
              "      <td>septic</td>\n",
              "      <td>No</td>\n",
              "      <td>No</td>\n",
              "      <td>No</td>\n",
              "    </tr>\n",
              "    <tr>\n",
              "      <th>1</th>\n",
              "      <td>181115</td>\n",
              "      <td>0.92</td>\n",
              "      <td>0</td>\n",
              "      <td>22300</td>\n",
              "      <td>1953</td>\n",
              "      <td>51</td>\n",
              "      <td>3</td>\n",
              "      <td>0</td>\n",
              "      <td>2.5</td>\n",
              "      <td>6</td>\n",
              "      <td>hot water/steam</td>\n",
              "      <td>gas</td>\n",
              "      <td>septic</td>\n",
              "      <td>No</td>\n",
              "      <td>No</td>\n",
              "      <td>No</td>\n",
              "    </tr>\n",
              "    <tr>\n",
              "      <th>2</th>\n",
              "      <td>109000</td>\n",
              "      <td>0.19</td>\n",
              "      <td>133</td>\n",
              "      <td>7300</td>\n",
              "      <td>1944</td>\n",
              "      <td>51</td>\n",
              "      <td>4</td>\n",
              "      <td>1</td>\n",
              "      <td>1.0</td>\n",
              "      <td>8</td>\n",
              "      <td>hot water/steam</td>\n",
              "      <td>gas</td>\n",
              "      <td>public/commercial</td>\n",
              "      <td>No</td>\n",
              "      <td>No</td>\n",
              "      <td>No</td>\n",
              "    </tr>\n",
              "    <tr>\n",
              "      <th>3</th>\n",
              "      <td>155000</td>\n",
              "      <td>0.41</td>\n",
              "      <td>13</td>\n",
              "      <td>18700</td>\n",
              "      <td>1944</td>\n",
              "      <td>51</td>\n",
              "      <td>3</td>\n",
              "      <td>1</td>\n",
              "      <td>1.5</td>\n",
              "      <td>5</td>\n",
              "      <td>hot air</td>\n",
              "      <td>gas</td>\n",
              "      <td>septic</td>\n",
              "      <td>No</td>\n",
              "      <td>No</td>\n",
              "      <td>No</td>\n",
              "    </tr>\n",
              "  </tbody>\n",
              "</table>\n",
              "</div>\n",
              "      <button class=\"colab-df-convert\" onclick=\"convertToInteractive('df-81dfc4f5-35f4-4150-85b1-13c201c23794')\"\n",
              "              title=\"Convert this dataframe to an interactive table.\"\n",
              "              style=\"display:none;\">\n",
              "        \n",
              "  <svg xmlns=\"http://www.w3.org/2000/svg\" height=\"24px\"viewBox=\"0 0 24 24\"\n",
              "       width=\"24px\">\n",
              "    <path d=\"M0 0h24v24H0V0z\" fill=\"none\"/>\n",
              "    <path d=\"M18.56 5.44l.94 2.06.94-2.06 2.06-.94-2.06-.94-.94-2.06-.94 2.06-2.06.94zm-11 1L8.5 8.5l.94-2.06 2.06-.94-2.06-.94L8.5 2.5l-.94 2.06-2.06.94zm10 10l.94 2.06.94-2.06 2.06-.94-2.06-.94-.94-2.06-.94 2.06-2.06.94z\"/><path d=\"M17.41 7.96l-1.37-1.37c-.4-.4-.92-.59-1.43-.59-.52 0-1.04.2-1.43.59L10.3 9.45l-7.72 7.72c-.78.78-.78 2.05 0 2.83L4 21.41c.39.39.9.59 1.41.59.51 0 1.02-.2 1.41-.59l7.78-7.78 2.81-2.81c.8-.78.8-2.07 0-2.86zM5.41 20L4 18.59l7.72-7.72 1.47 1.35L5.41 20z\"/>\n",
              "  </svg>\n",
              "      </button>\n",
              "      \n",
              "  <style>\n",
              "    .colab-df-container {\n",
              "      display:flex;\n",
              "      flex-wrap:wrap;\n",
              "      gap: 12px;\n",
              "    }\n",
              "\n",
              "    .colab-df-convert {\n",
              "      background-color: #E8F0FE;\n",
              "      border: none;\n",
              "      border-radius: 50%;\n",
              "      cursor: pointer;\n",
              "      display: none;\n",
              "      fill: #1967D2;\n",
              "      height: 32px;\n",
              "      padding: 0 0 0 0;\n",
              "      width: 32px;\n",
              "    }\n",
              "\n",
              "    .colab-df-convert:hover {\n",
              "      background-color: #E2EBFA;\n",
              "      box-shadow: 0px 1px 2px rgba(60, 64, 67, 0.3), 0px 1px 3px 1px rgba(60, 64, 67, 0.15);\n",
              "      fill: #174EA6;\n",
              "    }\n",
              "\n",
              "    [theme=dark] .colab-df-convert {\n",
              "      background-color: #3B4455;\n",
              "      fill: #D2E3FC;\n",
              "    }\n",
              "\n",
              "    [theme=dark] .colab-df-convert:hover {\n",
              "      background-color: #434B5C;\n",
              "      box-shadow: 0px 1px 3px 1px rgba(0, 0, 0, 0.15);\n",
              "      filter: drop-shadow(0px 1px 2px rgba(0, 0, 0, 0.3));\n",
              "      fill: #FFFFFF;\n",
              "    }\n",
              "  </style>\n",
              "\n",
              "      <script>\n",
              "        const buttonEl =\n",
              "          document.querySelector('#df-81dfc4f5-35f4-4150-85b1-13c201c23794 button.colab-df-convert');\n",
              "        buttonEl.style.display =\n",
              "          google.colab.kernel.accessAllowed ? 'block' : 'none';\n",
              "\n",
              "        async function convertToInteractive(key) {\n",
              "          const element = document.querySelector('#df-81dfc4f5-35f4-4150-85b1-13c201c23794');\n",
              "          const dataTable =\n",
              "            await google.colab.kernel.invokeFunction('convertToInteractive',\n",
              "                                                     [key], {});\n",
              "          if (!dataTable) return;\n",
              "\n",
              "          const docLinkHtml = 'Like what you see? Visit the ' +\n",
              "            '<a target=\"_blank\" href=https://colab.research.google.com/notebooks/data_table.ipynb>data table notebook</a>'\n",
              "            + ' to learn more about interactive tables.';\n",
              "          element.innerHTML = '';\n",
              "          dataTable['output_type'] = 'display_data';\n",
              "          await google.colab.output.renderOutput(dataTable, element);\n",
              "          const docLink = document.createElement('div');\n",
              "          docLink.innerHTML = docLinkHtml;\n",
              "          element.appendChild(docLink);\n",
              "        }\n",
              "      </script>\n",
              "    </div>\n",
              "  </div>\n",
              "  "
            ]
          },
          "metadata": {},
          "execution_count": 9
        }
      ]
    },
    {
      "cell_type": "markdown",
      "metadata": {
        "id": "whBbDkNPinSp"
      },
      "source": [
        "## **Tipos de Datos**"
      ]
    },
    {
      "cell_type": "code",
      "metadata": {
        "colab": {
          "base_uri": "https://localhost:8080/"
        },
        "id": "Hll9SGvGisE2",
        "outputId": "b48f8494-4193-4e0a-8099-2cda6a335b99"
      },
      "source": [
        "datos.info()"
      ],
      "execution_count": 10,
      "outputs": [
        {
          "output_type": "stream",
          "name": "stdout",
          "text": [
            "<class 'pandas.core.frame.DataFrame'>\n",
            "RangeIndex: 1728 entries, 0 to 1727\n",
            "Data columns (total 16 columns):\n",
            " #   Column              Non-Null Count  Dtype  \n",
            "---  ------              --------------  -----  \n",
            " 0   precio              1728 non-null   int64  \n",
            " 1   metros_totales      1728 non-null   float64\n",
            " 2   antiguedad          1728 non-null   int64  \n",
            " 3   precio_terreno      1728 non-null   int64  \n",
            " 4   metros_habitables   1728 non-null   int64  \n",
            " 5   universitarios      1728 non-null   int64  \n",
            " 6   dormitorios         1728 non-null   int64  \n",
            " 7   chimenea            1728 non-null   int64  \n",
            " 8   baños               1728 non-null   float64\n",
            " 9   habitaciones        1728 non-null   int64  \n",
            " 10  calefaccion         1728 non-null   object \n",
            " 11  consumo_calefacion  1728 non-null   object \n",
            " 12  desague             1728 non-null   object \n",
            " 13  vistas_lago         1728 non-null   object \n",
            " 14  nueva_construccion  1728 non-null   object \n",
            " 15  aire_acondicionado  1728 non-null   object \n",
            "dtypes: float64(2), int64(8), object(6)\n",
            "memory usage: 216.1+ KB\n"
          ]
        }
      ]
    },
    {
      "cell_type": "markdown",
      "metadata": {
        "id": "KwnoK1oui8nP"
      },
      "source": [
        "##**Dimensiones del DataFrame y valores ausentes**"
      ]
    },
    {
      "cell_type": "markdown",
      "metadata": {
        "id": "zoI6KJiVjdb5"
      },
      "source": [
        "Se debe conocer el número de observaciones disponibles y si  ellas están completas. Los valores ausentes son muy importantes a la hora de crear modelos, la mayoría de algoritmos no aceptan observaciones incompletas o bien se ven muy influenciados por ellas. \n",
        "\n",
        "***Aunque la imputación de valores ausentes*** es parte del preprocesado y, por lo tanto, debe de aprenderse únicamente con los datos de entrenamiento, su identificación se tiene que realizar antes de separar los datos para asegurar que se establecen todas las estrategias de imputación a utilizar."
      ]
    },
    {
      "cell_type": "code",
      "metadata": {
        "colab": {
          "base_uri": "https://localhost:8080/"
        },
        "id": "qbdod77MjJb_",
        "outputId": "137a7a0b-8e7e-4bad-90b7-33c163ffd3d6"
      },
      "source": [
        "datos.shape # Dimensión del DataFrame, 2 dimensiones"
      ],
      "execution_count": 11,
      "outputs": [
        {
          "output_type": "execute_result",
          "data": {
            "text/plain": [
              "(1728, 16)"
            ]
          },
          "metadata": {},
          "execution_count": 11
        }
      ]
    },
    {
      "cell_type": "code",
      "metadata": {
        "colab": {
          "base_uri": "https://localhost:8080/"
        },
        "id": "COdib9W8jPkw",
        "outputId": "5bb8d286-189b-496f-b9d0-28bb416110e4"
      },
      "source": [
        "datos.size # Cantidad de celdas del DataFrame"
      ],
      "execution_count": 12,
      "outputs": [
        {
          "output_type": "execute_result",
          "data": {
            "text/plain": [
              "27648"
            ]
          },
          "metadata": {},
          "execution_count": 12
        }
      ]
    },
    {
      "cell_type": "code",
      "metadata": {
        "colab": {
          "base_uri": "https://localhost:8080/"
        },
        "id": "IB5c2ZSCkBM5",
        "outputId": "fe5fece7-c0c2-4849-9142-a18d6e84b1ac"
      },
      "source": [
        "datos.isna().sum().sort_values() # Cantidad de datos ausentes por variable del DataFrame"
      ],
      "execution_count": 13,
      "outputs": [
        {
          "output_type": "execute_result",
          "data": {
            "text/plain": [
              "precio                0\n",
              "metros_totales        0\n",
              "antiguedad            0\n",
              "precio_terreno        0\n",
              "metros_habitables     0\n",
              "universitarios        0\n",
              "dormitorios           0\n",
              "chimenea              0\n",
              "baños                 0\n",
              "habitaciones          0\n",
              "calefaccion           0\n",
              "consumo_calefacion    0\n",
              "desague               0\n",
              "vistas_lago           0\n",
              "nueva_construccion    0\n",
              "aire_acondicionado    0\n",
              "dtype: int64"
            ]
          },
          "metadata": {},
          "execution_count": 13
        }
      ]
    },
    {
      "cell_type": "markdown",
      "metadata": {
        "id": "SEUqUqCnkY8L"
      },
      "source": [
        "##**Variable Objetivo o Variable Respuesta**"
      ]
    },
    {
      "cell_type": "markdown",
      "metadata": {
        "id": "7QdTKum2kpDf"
      },
      "source": [
        "Es  importante estudiar la distribución de la variable objetivo o variable respuesta, ya que esta es la variable que interesa predecir. \n",
        "\n",
        "La variable precio tiene una distribución asimétrica positiva debido a que, unas pocas viviendas, tienen un precio muy superior a la media. Este tipo de distribución suele visualizarse mejor tras aplicar logaritmo o raíz cuadrada."
      ]
    },
    {
      "cell_type": "code",
      "metadata": {
        "colab": {
          "base_uri": "https://localhost:8080/",
          "height": 542
        },
        "id": "sy4YPWLQzWgW",
        "outputId": "a018cccb-e38c-48d6-8e03-5e375bca6000"
      },
      "source": [
        "px.histogram(datos, \n",
        "             x = datos.precio,\n",
        "             title=\"Distribución variable objetivo\", \n",
        "             color_discrete_sequence = [\"red\"], # color \n",
        "             marginal=\"rug\",\n",
        "             template=\"gridon\")"
      ],
      "execution_count": 14,
      "outputs": [
        {
          "output_type": "display_data",
          "data": {
            "text/html": [
              "<html>\n",
              "<head><meta charset=\"utf-8\" /></head>\n",
              "<body>\n",
              "    <div>            <script src=\"https://cdnjs.cloudflare.com/ajax/libs/mathjax/2.7.5/MathJax.js?config=TeX-AMS-MML_SVG\"></script><script type=\"text/javascript\">if (window.MathJax && window.MathJax.Hub && window.MathJax.Hub.Config) {window.MathJax.Hub.Config({SVG: {font: \"STIX-Web\"}});}</script>                <script type=\"text/javascript\">window.PlotlyConfig = {MathJaxConfig: 'local'};</script>\n",
              "        <script src=\"https://cdn.plot.ly/plotly-2.12.1.min.js\"></script>                <div id=\"291a6706-3882-4bbf-a8c3-709a0b496afe\" class=\"plotly-graph-div\" style=\"height:525px; width:100%;\"></div>            <script type=\"text/javascript\">                                    window.PLOTLYENV=window.PLOTLYENV || {};                                    if (document.getElementById(\"291a6706-3882-4bbf-a8c3-709a0b496afe\")) {                    Plotly.newPlot(                        \"291a6706-3882-4bbf-a8c3-709a0b496afe\",                        [{\"alignmentgroup\":\"True\",\"bingroup\":\"x\",\"hovertemplate\":\"precio=%{x}<br>count=%{y}<extra></extra>\",\"legendgroup\":\"\",\"marker\":{\"color\":\"red\",\"pattern\":{\"shape\":\"\"}},\"name\":\"\",\"offsetgroup\":\"\",\"orientation\":\"v\",\"showlegend\":false,\"x\":[132500,181115,109000,155000,86060,120000,153000,170000,90000,122900,325000,120000,85860,97000,127000,89900,155000,253750,60000,87500,112000,104900,148635,150000,90400,248800,135000,145000,457000,140000,130000,187000,229000,227000,179900,169900,209900,169900,293000,245900,157000,195000,150000,234900,279550,246500,124000,138000,290000,108000,134900,64500,142000,125000,88000,135000,90000,90100,126900,175000,158000,92000,82800,140000,171000,200640,139000,225000,182000,208767,186000,93000,257386,161000,92000,211002,115000,113000,216300,145000,114000,139050,104000,169900,177900,133000,185000,115000,100000,117000,150000,187500,107000,126900,147000,62000,101000,143500,113400,76320,110000,88000,108000,114900,146000,225000,138000,218070,25000,112000,112500,97000,121000,65720,225000,192000,158500,247000,193777,136500,75000,45000,243000,90000,158000,174000,150000,159650,139062,84950,102000,175000,78500,232478,93805,119900,146000,125000,135000,157500,135000,142900,259900,85000,180377,163500,106500,115000,115000,135000,198900,139000,206000,120000,205980,275000,139000,89900,139900,172750,136000,270000,174000,379000,382500,144900,349900,133000,115000,211950,227812,164400,340000,139900,279900,225000,144500,362710,247000,120000,136000,228500,162800,230000,115800,175000,263008,146000,204900,265000,167500,205000,170000,176000,132000,115500,150000,120000,125000,150000,362360,133500,91000,104000,148000,182000,152500,97000,113000,172000,179900,84000,117900,177000,107500,92500,102900,134800,150000,165000,120000,177500,300000,123500,141000,105400,100600,108900,105500,109900,172700,166500,105000,490000,120000,107500,116600,65000,118000,115900,100000,171000,188000,140000,124500,107200,107500,180000,214325,128850,208700,139900,350000,108000,115500,135000,135000,107400,233000,105000,335000,139000,209500,101000,77500,150500,167000,114000,160000,85000,143000,126000,140000,140000,205000,79900,139000,190000,151500,97500,194500,195160,152500,159500,185000,240000,187900,262000,212500,220000,245000,120000,102500,136000,212500,205900,259900,191500,272500,191500,158000,195000,187500,160000,137500,109900,85000,184350,134500,154900,255000,238600,106000,625000,195000,168500,87000,215000,197500,215000,118000,187900,275000,249900,270000,157900,120000,126400,220000,180000,203600,249900,193000,215000,201000,65000,195000,215900,92000,155000,123500,110400,198900,150000,104000,245000,180000,154300,170000,219000,295000,181500,260000,239900,135500,191500,225000,98500,110500,290000,184400,178500,415000,244900,150000,168000,159000,127000,175000,255250,175000,235000,324000,173000,116900,105900,112000,235000,235000,130000,235000,191900,284900,335000,140000,191000,153000,196000,248000,240000,132000,199000,217000,167000,245000,358000,412500,208000,270000,100000,130000,182500,139000,104000,221000,260000,182500,196000,132000,224900,199900,165835,189000,89900,235000,166000,153100,162000,224000,222400,199000,166000,149900,152000,162500,274900,100000,215000,124000,125000,138000,225000,180000,189900,435000,120000,163000,131000,126500,122500,425000,225000,209000,189100,285000,266600,80000,225000,159000,119900,130900,194670,72000,144700,139500,319000,348000,189900,20000,60000,179500,133300,153000,111900,187000,158500,153000,190000,242000,234500,225000,165000,129900,315000,129900,257000,324000,520000,150414,290000,112000,185000,295000,290000,79900,256000,245000,140000,272000,164000,182500,219900,325000,352000,315000,154000,199000,202000,292000,116600,155000,215000,373490,259142,293565,285558,273960,185000,190000,171000,208000,168000,165000,138500,179900,180000,112000,152000,100000,154000,133000,285000,138000,303000,250000,167500,190000,182500,107000,195000,169000,156000,120000,170000,249835,188095,176450,322277,149000,95000,198500,185000,168900,220000,129900,167000,330000,336000,512971,229000,145000,103000,210000,559000,218000,262138,125000,130000,157500,193000,275000,240000,200136,395000,366703,103150,310000,142900,359770,126000,760000,282500,132000,325000,207000,155000,330000,101760,496000,185000,125000,286000,269000,303374,371165,287600,131000,187000,169000,133500,620000,549254,280000,135000,195388,337020,330850,248495,120000,240000,235000,500075,240000,270000,225000,280000,225000,248220,275000,137000,150000,649000,195000,373200,169450,144200,189900,166000,160000,327355,247000,318000,341000,288650,157000,449000,142000,389000,476000,249230,139900,301900,425000,121000,150000,138000,199900,145000,465000,158000,375000,147783,339000,267000,290000,271295,278140,138000,367500,428500,140000,140000,145000,280000,190400,267000,164900,280000,225000,148000,165000,340455,133000,115540,240000,600000,71500,189900,325000,280000,255000,300000,106000,139000,165000,169000,159400,300000,161000,230500,220000,177900,350000,335000,597185,173000,518000,212000,149900,140958,95000,161600,351400,155000,198500,276000,167000,227000,405100,395000,360000,775000,285000,300000,214000,229000,330000,146000,381500,430000,650000,194500,279000,183000,195000,470000,167000,309278,217500,200000,199995,179000,329000,374900,165000,647000,315000,208000,405000,535000,184020,95000,87550,131000,127000,104695,120000,278500,75500,121900,208000,151000,138000,229000,130000,89900,145000,86000,95000,195000,107325,131000,166900,127000,119000,92509,174000,180000,155000,146500,162500,210000,165000,123000,150000,128900,88100,175000,120975,147543,118000,199000,79900,279000,90000,91900,153000,170000,145200,296000,150000,86000,118000,155000,222500,250000,365000,120000,193000,85568,82000,225000,240000,234900,112000,261000,400000,310000,182000,187500,405000,420000,359000,120000,171500,159900,186500,260000,115000,191000,355465,339900,90000,245000,320900,159000,174900,293500,210000,182500,219900,370000,286000,169900,161000,287000,315000,177000,332000,249000,179000,150000,225000,182000,329900,165000,180000,321000,180000,178000,279900,179000,183000,500000,170000,179000,184900,177500,112500,180000,10300,137900,144000,131600,123500,123000,109000,173000,105000,122500,191000,149000,205000,225000,210000,188900,192000,137500,200000,126000,214500,152000,115000,88000,170000,137000,145000,202000,130000,265000,185000,130000,190000,204000,125000,349900,142000,132500,220000,160000,10300,95000,122055,149000,115000,140000,137900,144000,131600,123500,123000,109000,173000,105000,122500,191000,149000,205000,225000,210000,188900,192000,137500,200000,126000,214500,152000,115000,88000,170000,137000,145000,202000,130000,265000,185000,130000,190000,204000,125000,349900,142000,132500,220000,160000,156900,138000,166000,195000,295600,460000,126000,220300,175000,255000,185000,234000,133500,151000,157500,285000,217500,300000,161225,217000,250000,124000,248000,187000,195000,239900,475000,246000,219900,193500,122000,118000,125000,101000,249000,180000,292500,199500,205100,330000,179000,342000,145000,66000,269900,154000,454900,249900,165000,329000,49387,445000,73000,125000,146500,209000,196500,157000,125500,190000,250000,255000,129700,65000,107000,255000,398000,176000,249900,244900,220000,241000,159900,177555,95000,5000,264900,315000,155000,130000,238000,224000,211000,279000,242000,199875,259900,200000,212000,230000,189000,313635,185000,239900,202000,155000,120000,78000,311000,198000,158500,227000,265900,163000,165000,151000,200000,299900,210000,220000,326900,204900,234000,236000,124000,199100,245000,264000,105000,187000,127000,100000,251000,105000,431250,149900,180000,123500,253000,330000,124500,424200,120000,205000,175000,295000,156500,143000,215000,287000,122500,180000,143000,137000,271000,129900,133000,179000,302000,168000,120000,119000,168000,124900,415000,150000,310000,157000,205000,275000,320000,380000,119900,345000,145000,123000,202500,182000,175000,132500,239000,86125,245000,229900,129000,200000,144200,166000,178000,165000,218000,175000,145000,195000,288139,187500,255000,145000,183000,318310,192500,195000,138000,230000,237500,375000,105000,168000,221000,135000,129900,344100,112000,380000,125000,145000,190000,135000,58500,80500,150410,170000,242551,176500,212000,135000,215000,262000,155000,207000,185000,92200,111000,97000,200000,230000,299900,183855,174900,335000,208000,380000,289900,188000,600000,262000,220000,275000,215000,100000,158500,148900,218000,355840,168000,171000,195000,201880,145000,206000,78000,320900,159000,180000,129900,150000,171134,151000,100000,655000,243500,265000,400000,272800,255000,220000,775000,233000,216977,245000,159000,725000,268300,159000,155000,345000,165200,185000,225500,420000,220000,620000,260000,359900,375000,302900,175000,260000,270000,485000,200000,367000,175000,203000,170000,375000,159900,230000,375000,421000,218000,167850,252500,650000,380000,214500,218500,174000,225000,309750,658300,203000,375000,62500,205000,84500,280500,182000,571000,168000,354000,238000,182000,218500,227500,375000,399900,360000,412500,268500,300300,382500,189000,295000,220000,223000,399000,169480,347750,455000,249900,250000,265000,670000,195000,360000,175000,166500,190100,180500,440000,170000,220000,70500,65000,127500,155000,255500,136000,204000,200000,163000,149350,235000,260000,210000,159900,209000,135000,200000,432600,195000,165000,198000,219000,430000,120000,373735,183853,213500,155000,197000,392499,229900,289250,189900,397200,389405,135000,174000,525000,135000,412000,186000,453935,355000,186000,197000,180000,178000,305000,262000,225000,403040,388500,417000,410000,170000,295000,216000,221649,199900,463000,146500,225000,160000,275055,315513,323759,167500,272699,177500,128000,317105,144500,260000,244000,287989,159000,167000,348000,140000,145000,150450,230000,147423,223000,167500,299000,235900,147000,305000,154000,149000,300279,278000,202000,328463,185000,128000,335000,148900,229900,215000,253000,304065,222000,165000,275000,325000,406000,230000,125000,148000,279000,250000,314940,165900,150000,133000,155000,220000,229000,177000,120000,195000,315371,137000,225700,204900,189500,374000,319000,294100,440760,128000,239505,141700,215500,320210,273495,256350,255000,124000,293000,147000,284595,342269,229000,216900,164900,149000,150000,214990,173000,149900,155000,170000,237500,297065,342202,345264,325046,367000,159900,145000,272500,163255,319000,160600,246000,153000,295000,159000,148400,311000,314000,250000,149000,307890,223000,219000,178000,295925,141160,229900,254900,126000,176500,161800,112200,154500,300000,206000,257000,182000,161000,176000,177160,355063,213000,266500,285000,178900,300000,211000,451000,201400,195900,190000,150000,206000,285000,120000,377500,340000,240000,295000,215000,275000,189000,156000,410000,264500,145500,116500,264500,215000,263000,243000,203000,335000,385000,210000,154000,155000,165000,300000,240000,182000,194000,410000,280000,235000,185000,167000,206500,165000,230000,235000,200500,310000,169900,210500,305000,508000,220000,256000,196900,233000,140000,162900,178000,265000,454900,215000,248000,395000,171500,268000,166500,355000,165000,300000,350000,279900,265000,267000,235000,299900,167000,168000,150000,255000,455000,351100,315000,220000,159000,341000,276000,309000,217021,188500,320000,247000,166000,236000,233900,162740,225000,360000,281520,365000,315000,297900,270000,260000,72000,229500,275000,155000,225570,224000,290000,262000,319900,265000,255000,217300,291000,319000,271500,224900,260000,199900,252659,312500,290000,155000,355000,190000,130000,264000,193980,219900,469900,314230,138900,160000,228000,224400,132870,135600,150600,335000,316250,181280,158000,221000,230000,299000,148000,267500,259000,321000,409790,184000,145000,310000,170000,210500,199900,150000,153000,334000,216900,259000,240000,186030,203000,255000,119000,260800,169000,225000,124000,245000,250000,172000,153500,165000,159000,171500,240000,409550,302000,285000,385900,140595,213000,335000,290000,265000,334000,382406,149300,212000,195000,245000,422680,240000,156000,265000,334000,382406,149300,212000,195000,171600,245000,282000,260000,254500,179900,255000,265000,174000,322000,337000,221450,247000,180000,229900,230000,388000,350000,169700,190000,317500,70000,300000,145400,183500,275900,436023,319900,249000,289000,285000,194900,125000,111300],\"xaxis\":\"x\",\"yaxis\":\"y\",\"type\":\"histogram\"},{\"alignmentgroup\":\"True\",\"boxpoints\":\"all\",\"fillcolor\":\"rgba(255,255,255,0)\",\"hoveron\":\"points\",\"hovertemplate\":\"precio=%{x}<extra></extra>\",\"jitter\":0,\"legendgroup\":\"\",\"line\":{\"color\":\"rgba(255,255,255,0)\"},\"marker\":{\"color\":\"red\",\"symbol\":\"line-ns-open\"},\"name\":\"\",\"offsetgroup\":\"\",\"showlegend\":false,\"x\":[132500,181115,109000,155000,86060,120000,153000,170000,90000,122900,325000,120000,85860,97000,127000,89900,155000,253750,60000,87500,112000,104900,148635,150000,90400,248800,135000,145000,457000,140000,130000,187000,229000,227000,179900,169900,209900,169900,293000,245900,157000,195000,150000,234900,279550,246500,124000,138000,290000,108000,134900,64500,142000,125000,88000,135000,90000,90100,126900,175000,158000,92000,82800,140000,171000,200640,139000,225000,182000,208767,186000,93000,257386,161000,92000,211002,115000,113000,216300,145000,114000,139050,104000,169900,177900,133000,185000,115000,100000,117000,150000,187500,107000,126900,147000,62000,101000,143500,113400,76320,110000,88000,108000,114900,146000,225000,138000,218070,25000,112000,112500,97000,121000,65720,225000,192000,158500,247000,193777,136500,75000,45000,243000,90000,158000,174000,150000,159650,139062,84950,102000,175000,78500,232478,93805,119900,146000,125000,135000,157500,135000,142900,259900,85000,180377,163500,106500,115000,115000,135000,198900,139000,206000,120000,205980,275000,139000,89900,139900,172750,136000,270000,174000,379000,382500,144900,349900,133000,115000,211950,227812,164400,340000,139900,279900,225000,144500,362710,247000,120000,136000,228500,162800,230000,115800,175000,263008,146000,204900,265000,167500,205000,170000,176000,132000,115500,150000,120000,125000,150000,362360,133500,91000,104000,148000,182000,152500,97000,113000,172000,179900,84000,117900,177000,107500,92500,102900,134800,150000,165000,120000,177500,300000,123500,141000,105400,100600,108900,105500,109900,172700,166500,105000,490000,120000,107500,116600,65000,118000,115900,100000,171000,188000,140000,124500,107200,107500,180000,214325,128850,208700,139900,350000,108000,115500,135000,135000,107400,233000,105000,335000,139000,209500,101000,77500,150500,167000,114000,160000,85000,143000,126000,140000,140000,205000,79900,139000,190000,151500,97500,194500,195160,152500,159500,185000,240000,187900,262000,212500,220000,245000,120000,102500,136000,212500,205900,259900,191500,272500,191500,158000,195000,187500,160000,137500,109900,85000,184350,134500,154900,255000,238600,106000,625000,195000,168500,87000,215000,197500,215000,118000,187900,275000,249900,270000,157900,120000,126400,220000,180000,203600,249900,193000,215000,201000,65000,195000,215900,92000,155000,123500,110400,198900,150000,104000,245000,180000,154300,170000,219000,295000,181500,260000,239900,135500,191500,225000,98500,110500,290000,184400,178500,415000,244900,150000,168000,159000,127000,175000,255250,175000,235000,324000,173000,116900,105900,112000,235000,235000,130000,235000,191900,284900,335000,140000,191000,153000,196000,248000,240000,132000,199000,217000,167000,245000,358000,412500,208000,270000,100000,130000,182500,139000,104000,221000,260000,182500,196000,132000,224900,199900,165835,189000,89900,235000,166000,153100,162000,224000,222400,199000,166000,149900,152000,162500,274900,100000,215000,124000,125000,138000,225000,180000,189900,435000,120000,163000,131000,126500,122500,425000,225000,209000,189100,285000,266600,80000,225000,159000,119900,130900,194670,72000,144700,139500,319000,348000,189900,20000,60000,179500,133300,153000,111900,187000,158500,153000,190000,242000,234500,225000,165000,129900,315000,129900,257000,324000,520000,150414,290000,112000,185000,295000,290000,79900,256000,245000,140000,272000,164000,182500,219900,325000,352000,315000,154000,199000,202000,292000,116600,155000,215000,373490,259142,293565,285558,273960,185000,190000,171000,208000,168000,165000,138500,179900,180000,112000,152000,100000,154000,133000,285000,138000,303000,250000,167500,190000,182500,107000,195000,169000,156000,120000,170000,249835,188095,176450,322277,149000,95000,198500,185000,168900,220000,129900,167000,330000,336000,512971,229000,145000,103000,210000,559000,218000,262138,125000,130000,157500,193000,275000,240000,200136,395000,366703,103150,310000,142900,359770,126000,760000,282500,132000,325000,207000,155000,330000,101760,496000,185000,125000,286000,269000,303374,371165,287600,131000,187000,169000,133500,620000,549254,280000,135000,195388,337020,330850,248495,120000,240000,235000,500075,240000,270000,225000,280000,225000,248220,275000,137000,150000,649000,195000,373200,169450,144200,189900,166000,160000,327355,247000,318000,341000,288650,157000,449000,142000,389000,476000,249230,139900,301900,425000,121000,150000,138000,199900,145000,465000,158000,375000,147783,339000,267000,290000,271295,278140,138000,367500,428500,140000,140000,145000,280000,190400,267000,164900,280000,225000,148000,165000,340455,133000,115540,240000,600000,71500,189900,325000,280000,255000,300000,106000,139000,165000,169000,159400,300000,161000,230500,220000,177900,350000,335000,597185,173000,518000,212000,149900,140958,95000,161600,351400,155000,198500,276000,167000,227000,405100,395000,360000,775000,285000,300000,214000,229000,330000,146000,381500,430000,650000,194500,279000,183000,195000,470000,167000,309278,217500,200000,199995,179000,329000,374900,165000,647000,315000,208000,405000,535000,184020,95000,87550,131000,127000,104695,120000,278500,75500,121900,208000,151000,138000,229000,130000,89900,145000,86000,95000,195000,107325,131000,166900,127000,119000,92509,174000,180000,155000,146500,162500,210000,165000,123000,150000,128900,88100,175000,120975,147543,118000,199000,79900,279000,90000,91900,153000,170000,145200,296000,150000,86000,118000,155000,222500,250000,365000,120000,193000,85568,82000,225000,240000,234900,112000,261000,400000,310000,182000,187500,405000,420000,359000,120000,171500,159900,186500,260000,115000,191000,355465,339900,90000,245000,320900,159000,174900,293500,210000,182500,219900,370000,286000,169900,161000,287000,315000,177000,332000,249000,179000,150000,225000,182000,329900,165000,180000,321000,180000,178000,279900,179000,183000,500000,170000,179000,184900,177500,112500,180000,10300,137900,144000,131600,123500,123000,109000,173000,105000,122500,191000,149000,205000,225000,210000,188900,192000,137500,200000,126000,214500,152000,115000,88000,170000,137000,145000,202000,130000,265000,185000,130000,190000,204000,125000,349900,142000,132500,220000,160000,10300,95000,122055,149000,115000,140000,137900,144000,131600,123500,123000,109000,173000,105000,122500,191000,149000,205000,225000,210000,188900,192000,137500,200000,126000,214500,152000,115000,88000,170000,137000,145000,202000,130000,265000,185000,130000,190000,204000,125000,349900,142000,132500,220000,160000,156900,138000,166000,195000,295600,460000,126000,220300,175000,255000,185000,234000,133500,151000,157500,285000,217500,300000,161225,217000,250000,124000,248000,187000,195000,239900,475000,246000,219900,193500,122000,118000,125000,101000,249000,180000,292500,199500,205100,330000,179000,342000,145000,66000,269900,154000,454900,249900,165000,329000,49387,445000,73000,125000,146500,209000,196500,157000,125500,190000,250000,255000,129700,65000,107000,255000,398000,176000,249900,244900,220000,241000,159900,177555,95000,5000,264900,315000,155000,130000,238000,224000,211000,279000,242000,199875,259900,200000,212000,230000,189000,313635,185000,239900,202000,155000,120000,78000,311000,198000,158500,227000,265900,163000,165000,151000,200000,299900,210000,220000,326900,204900,234000,236000,124000,199100,245000,264000,105000,187000,127000,100000,251000,105000,431250,149900,180000,123500,253000,330000,124500,424200,120000,205000,175000,295000,156500,143000,215000,287000,122500,180000,143000,137000,271000,129900,133000,179000,302000,168000,120000,119000,168000,124900,415000,150000,310000,157000,205000,275000,320000,380000,119900,345000,145000,123000,202500,182000,175000,132500,239000,86125,245000,229900,129000,200000,144200,166000,178000,165000,218000,175000,145000,195000,288139,187500,255000,145000,183000,318310,192500,195000,138000,230000,237500,375000,105000,168000,221000,135000,129900,344100,112000,380000,125000,145000,190000,135000,58500,80500,150410,170000,242551,176500,212000,135000,215000,262000,155000,207000,185000,92200,111000,97000,200000,230000,299900,183855,174900,335000,208000,380000,289900,188000,600000,262000,220000,275000,215000,100000,158500,148900,218000,355840,168000,171000,195000,201880,145000,206000,78000,320900,159000,180000,129900,150000,171134,151000,100000,655000,243500,265000,400000,272800,255000,220000,775000,233000,216977,245000,159000,725000,268300,159000,155000,345000,165200,185000,225500,420000,220000,620000,260000,359900,375000,302900,175000,260000,270000,485000,200000,367000,175000,203000,170000,375000,159900,230000,375000,421000,218000,167850,252500,650000,380000,214500,218500,174000,225000,309750,658300,203000,375000,62500,205000,84500,280500,182000,571000,168000,354000,238000,182000,218500,227500,375000,399900,360000,412500,268500,300300,382500,189000,295000,220000,223000,399000,169480,347750,455000,249900,250000,265000,670000,195000,360000,175000,166500,190100,180500,440000,170000,220000,70500,65000,127500,155000,255500,136000,204000,200000,163000,149350,235000,260000,210000,159900,209000,135000,200000,432600,195000,165000,198000,219000,430000,120000,373735,183853,213500,155000,197000,392499,229900,289250,189900,397200,389405,135000,174000,525000,135000,412000,186000,453935,355000,186000,197000,180000,178000,305000,262000,225000,403040,388500,417000,410000,170000,295000,216000,221649,199900,463000,146500,225000,160000,275055,315513,323759,167500,272699,177500,128000,317105,144500,260000,244000,287989,159000,167000,348000,140000,145000,150450,230000,147423,223000,167500,299000,235900,147000,305000,154000,149000,300279,278000,202000,328463,185000,128000,335000,148900,229900,215000,253000,304065,222000,165000,275000,325000,406000,230000,125000,148000,279000,250000,314940,165900,150000,133000,155000,220000,229000,177000,120000,195000,315371,137000,225700,204900,189500,374000,319000,294100,440760,128000,239505,141700,215500,320210,273495,256350,255000,124000,293000,147000,284595,342269,229000,216900,164900,149000,150000,214990,173000,149900,155000,170000,237500,297065,342202,345264,325046,367000,159900,145000,272500,163255,319000,160600,246000,153000,295000,159000,148400,311000,314000,250000,149000,307890,223000,219000,178000,295925,141160,229900,254900,126000,176500,161800,112200,154500,300000,206000,257000,182000,161000,176000,177160,355063,213000,266500,285000,178900,300000,211000,451000,201400,195900,190000,150000,206000,285000,120000,377500,340000,240000,295000,215000,275000,189000,156000,410000,264500,145500,116500,264500,215000,263000,243000,203000,335000,385000,210000,154000,155000,165000,300000,240000,182000,194000,410000,280000,235000,185000,167000,206500,165000,230000,235000,200500,310000,169900,210500,305000,508000,220000,256000,196900,233000,140000,162900,178000,265000,454900,215000,248000,395000,171500,268000,166500,355000,165000,300000,350000,279900,265000,267000,235000,299900,167000,168000,150000,255000,455000,351100,315000,220000,159000,341000,276000,309000,217021,188500,320000,247000,166000,236000,233900,162740,225000,360000,281520,365000,315000,297900,270000,260000,72000,229500,275000,155000,225570,224000,290000,262000,319900,265000,255000,217300,291000,319000,271500,224900,260000,199900,252659,312500,290000,155000,355000,190000,130000,264000,193980,219900,469900,314230,138900,160000,228000,224400,132870,135600,150600,335000,316250,181280,158000,221000,230000,299000,148000,267500,259000,321000,409790,184000,145000,310000,170000,210500,199900,150000,153000,334000,216900,259000,240000,186030,203000,255000,119000,260800,169000,225000,124000,245000,250000,172000,153500,165000,159000,171500,240000,409550,302000,285000,385900,140595,213000,335000,290000,265000,334000,382406,149300,212000,195000,245000,422680,240000,156000,265000,334000,382406,149300,212000,195000,171600,245000,282000,260000,254500,179900,255000,265000,174000,322000,337000,221450,247000,180000,229900,230000,388000,350000,169700,190000,317500,70000,300000,145400,183500,275900,436023,319900,249000,289000,285000,194900,125000,111300],\"xaxis\":\"x2\",\"yaxis\":\"y2\",\"type\":\"box\"}],                        {\"template\":{\"data\":{\"pie\":[{\"automargin\":true,\"type\":\"pie\"}]},\"layout\":{\"xaxis\":{\"showgrid\":true,\"title\":{\"standoff\":15}},\"yaxis\":{\"showgrid\":true,\"title\":{\"standoff\":15}}}},\"xaxis\":{\"anchor\":\"y\",\"domain\":[0.0,1.0],\"title\":{\"text\":\"precio\"}},\"yaxis\":{\"anchor\":\"x\",\"domain\":[0.0,0.8316],\"title\":{\"text\":\"count\"}},\"xaxis2\":{\"anchor\":\"y2\",\"domain\":[0.0,1.0],\"matches\":\"x\",\"showticklabels\":false},\"yaxis2\":{\"anchor\":\"x2\",\"domain\":[0.8416,1.0],\"matches\":\"y2\",\"showticklabels\":false,\"showline\":false,\"ticks\":\"\"},\"legend\":{\"tracegroupgap\":0},\"title\":{\"text\":\"Distribuci\\u00f3n variable objetivo\"},\"barmode\":\"relative\"},                        {\"responsive\": true}                    ).then(function(){\n",
              "                            \n",
              "var gd = document.getElementById('291a6706-3882-4bbf-a8c3-709a0b496afe');\n",
              "var x = new MutationObserver(function (mutations, observer) {{\n",
              "        var display = window.getComputedStyle(gd).display;\n",
              "        if (!display || display === 'none') {{\n",
              "            console.log([gd, 'removed!']);\n",
              "            Plotly.purge(gd);\n",
              "            observer.disconnect();\n",
              "        }}\n",
              "}});\n",
              "\n",
              "// Listen for the removal of the full notebook cells\n",
              "var notebookContainer = gd.closest('#notebook-container');\n",
              "if (notebookContainer) {{\n",
              "    x.observe(notebookContainer, {childList: true});\n",
              "}}\n",
              "\n",
              "// Listen for the clearing of the current output cell\n",
              "var outputEl = gd.closest('.output');\n",
              "if (outputEl) {{\n",
              "    x.observe(outputEl, {childList: true});\n",
              "}}\n",
              "\n",
              "                        })                };                            </script>        </div>\n",
              "</body>\n",
              "</html>"
            ]
          },
          "metadata": {}
        }
      ]
    },
    {
      "cell_type": "code",
      "metadata": {
        "colab": {
          "base_uri": "https://localhost:8080/",
          "height": 542
        },
        "id": "0nh9RIiq0BgQ",
        "outputId": "90c14d6b-75c2-4058-e4af-5626d8c1185d"
      },
      "source": [
        "px.histogram(datos, \n",
        "             x = np.sqrt(datos.precio),\n",
        "             title=\"Transformación raíz cuadrada\",\n",
        "             color_discrete_sequence = [\"green\"], # color \n",
        "             marginal=\"rug\",\n",
        "             template=\"gridon\")"
      ],
      "execution_count": 15,
      "outputs": [
        {
          "output_type": "display_data",
          "data": {
            "text/html": [
              "<html>\n",
              "<head><meta charset=\"utf-8\" /></head>\n",
              "<body>\n",
              "    <div>            <script src=\"https://cdnjs.cloudflare.com/ajax/libs/mathjax/2.7.5/MathJax.js?config=TeX-AMS-MML_SVG\"></script><script type=\"text/javascript\">if (window.MathJax && window.MathJax.Hub && window.MathJax.Hub.Config) {window.MathJax.Hub.Config({SVG: {font: \"STIX-Web\"}});}</script>                <script type=\"text/javascript\">window.PlotlyConfig = {MathJaxConfig: 'local'};</script>\n",
              "        <script src=\"https://cdn.plot.ly/plotly-2.12.1.min.js\"></script>                <div id=\"cc4c2bd4-dc3e-487c-98e2-68c7f2cdab2b\" class=\"plotly-graph-div\" style=\"height:525px; width:100%;\"></div>            <script type=\"text/javascript\">                                    window.PLOTLYENV=window.PLOTLYENV || {};                                    if (document.getElementById(\"cc4c2bd4-dc3e-487c-98e2-68c7f2cdab2b\")) {                    Plotly.newPlot(                        \"cc4c2bd4-dc3e-487c-98e2-68c7f2cdab2b\",                        [{\"alignmentgroup\":\"True\",\"bingroup\":\"x\",\"hovertemplate\":\"x=%{x}<br>count=%{y}<extra></extra>\",\"legendgroup\":\"\",\"marker\":{\"color\":\"green\",\"pattern\":{\"shape\":\"\"}},\"name\":\"\",\"offsetgroup\":\"\",\"orientation\":\"v\",\"showlegend\":false,\"x\":[364.0054944640259,425.5760801548884,330.15148038438355,393.70039370059055,293.3598472865706,346.41016151377545,391.1521443121589,412.31056256176606,300.0,350.5709628591621,570.087712549569,346.41016151377545,293.0187707297947,311.44823004794875,356.37059362410923,299.833287011299,393.70039370059055,503.7360419902471,244.94897427831782,295.8039891549808,334.66401061363024,323.88269481403296,385.5320998308701,387.2983346207417,300.66592756745814,498.79855653359704,367.4234614174767,380.7886552931954,676.0177512462228,374.16573867739413,360.5551275463989,432.43496620879307,478.53944456021594,476.44516998286383,424.1462012089699,412.18927691049896,458.1484475582123,412.18927691049896,541.2947441089743,495.8830507286975,396.23225512317896,441.5880433163923,387.2983346207417,484.66483264210535,528.7248812000433,496.4876634922564,352.1363372331802,371.4835124201342,538.5164807134504,328.63353450309967,367.28735344413917,253.96850198400588,376.82887362833543,353.5533905932738,296.6479394838265,367.4234614174767,300.0,300.1666203960727,356.2302626111375,418.33001326703777,397.4921382870358,303.31501776206204,287.74989139876317,374.16573867739413,413.52146256270663,447.9285657334214,372.82703764614496,474.3416490252569,426.6145801540308,456.91027565595414,431.2771730569565,304.9590136395381,507.3322382817792,401.24805295477756,303.31501776206204,459.3495401107962,339.1164991562634,336.1547262794322,465.0806381693394,380.7886552931954,337.63886032268266,372.8940868396816,322.49030993194197,412.18927691049896,421.7819341792628,364.6916505762094,430.11626335213134,339.1164991562634,316.22776601683796,342.0526275297414,387.2983346207417,433.0127018922193,327.10854467592253,356.2302626111375,383.40579025361626,248.99799195977465,317.80497164141406,378.81393849751623,336.7491648096547,276.2607463973121,331.66247903554,296.6479394838265,328.63353450309967,338.9690251335659,382.099463490856,474.3416490252569,371.4835124201342,466.97965694449687,158.11388300841898,334.66401061363024,335.4101966249685,311.44823004794875,347.85054261852173,256.35912310662945,474.3416490252569,438.1780460041329,398.1205847478877,496.9909455915671,440.2010904120979,369.45906403822335,273.8612787525831,212.13203435596427,492.9503017546495,300.0,397.4921382870358,417.1330722922842,387.2983346207417,399.56226048014094,372.91017685228167,291.4618328357934,319.37438845342626,418.33001326703777,280.178514522438,482.15972457267725,306.27601930285044,346.2657938636157,382.099463490856,353.5533905932738,367.4234614174767,396.8626966596886,367.4234614174767,378.02116342871597,509.8038838612354,291.547594742265,424.70813507631334,404.3513323831146,326.3433774416144,339.1164991562634,339.1164991562634,367.4234614174767,445.9820624195552,372.82703764614496,453.8722287164087,346.41016151377545,453.8501955491481,524.4044240850758,372.82703764614496,299.833287011299,374.03208418530085,415.63204881240813,368.7817782917155,519.6152422706632,417.1330722922842,615.6297588648554,618.4658438426491,380.6573262134856,591.5234568468101,364.6916505762094,339.1164991562634,460.3802775966842,477.2965535178313,405.46269865426586,583.09518948453,374.03208418530085,529.055762656452,474.3416490252569,380.13155617496426,602.2540991973405,496.9909455915671,346.41016151377545,368.7817782917155,478.0167361086848,403.4848200366403,479.58315233127195,340.2939905434711,418.33001326703777,512.84305591477,382.099463490856,452.658811910251,514.78150704935,409.2676385936225,452.76925690687085,412.31056256176606,419.52353926806063,363.318042491699,339.8529093593286,387.2983346207417,346.41016151377545,353.5533905932738,387.2983346207417,601.9634540401934,365.3765181289022,301.66206257996714,322.49030993194197,384.7076812334269,426.6145801540308,390.51248379533274,311.44823004794875,336.1547262794322,414.7288270665544,424.1462012089699,289.8275349237888,343.3656942677879,420.7136793592526,327.8719262151,304.138126514911,320.7802986469088,367.1511950137164,387.2983346207417,406.201920231798,346.41016151377545,421.30748865881793,547.7225575051662,351.42566781611157,375.4996671103718,324.65366161495854,317.1750305430741,330.0,324.8076353782343,331.5116890850155,415.57189510360297,408.0441152620633,324.037034920393,700.0,346.41016151377545,327.8719262151,341.46742157927747,254.95097567963924,343.51128074635335,340.440890610984,316.22776601683796,413.52146256270663,433.58966777357597,374.16573867739413,352.845575287547,327.414110874898,327.8719262151,424.26406871192853,462.95248136282845,358.9568219159513,456.8369512200168,374.03208418530085,591.6079783099616,328.63353450309967,339.8529093593286,367.4234614174767,367.4234614174767,327.7193921634788,482.7007354458868,324.037034920393,578.7918451395112,372.82703764614496,457.71169965383234,317.80497164141406,278.3882181415011,387.94329482541644,408.656334834051,337.63886032268266,400.0,291.547594742265,378.15340802378074,354.96478698597696,374.16573867739413,374.16573867739413,452.76925690687085,282.6658805020514,372.82703764614496,435.88989435406734,389.23000912057125,312.2498999199199,441.02154142399894,441.7691704951807,390.51248379533274,399.37451095431715,430.11626335213134,489.89794855663564,433.47433603386486,511.8593556827891,460.9772228646444,469.041575982343,494.9747468305833,346.41016151377545,320.1562118716424,368.7817782917155,460.9772228646444,453.7620521815371,509.8038838612354,437.6071297408213,522.0153254455275,437.6071297408213,397.4921382870358,441.5880433163923,433.0127018922193,400.0,370.80992435478316,331.5116890850155,291.547594742265,429.35998882057,366.742416417845,393.57337308308854,504.9752469181039,488.4669896727925,325.5764119219941,790.5694150420949,441.5880433163923,410.48751503547584,294.95762407505254,463.6809247747852,444.40972086577943,463.6809247747852,343.51128074635335,433.47433603386486,524.4044240850758,499.8999899979995,519.6152422706632,397.36632972611056,346.41016151377545,355.52777669262355,469.041575982343,424.26406871192853,451.22056690713913,499.8999899979995,439.31765272977594,463.6809247747852,448.3302354291979,254.95097567963924,441.5880433163923,464.65040621955774,303.31501776206204,393.70039370059055,351.42566781611157,332.264954516723,445.9820624195552,387.2983346207417,322.49030993194197,494.9747468305833,424.26406871192853,392.8103868280471,412.31056256176606,467.9743582719036,543.1390245600107,426.02816808281585,509.9019513592785,489.7958758503383,368.1032463861192,437.6071297408213,474.3416490252569,313.8470965295043,332.41540277189324,538.5164807134504,429.4182110716778,422.49260348555214,644.2049363362563,494.8737212663449,387.2983346207417,409.87803063838396,398.74804074753774,356.37059362410923,418.33001326703777,505.22272316276513,418.33001326703777,484.7679857416329,569.2099788303083,415.9326868617084,341.9064199455752,325.4228019054596,334.66401061363024,484.7679857416329,484.7679857416329,360.5551275463989,484.7679857416329,438.06392227619017,533.7602458033007,578.7918451395112,374.16573867739413,437.03546766824314,391.1521443121589,442.7188724235731,497.9959839195493,489.89794855663564,363.318042491699,446.09416046390925,465.83258795408466,408.656334834051,494.9747468305833,598.3310120660636,642.2616289332565,456.0701700396552,519.6152422706632,316.22776601683796,360.5551275463989,427.20018726587654,372.82703764614496,322.49030993194197,470.1063709417263,509.9019513592785,427.20018726587654,442.7188724235731,363.318042491699,474.23622805517505,447.1017781221631,407.22843712098495,434.7413023856832,299.833287011299,484.7679857416329,407.43097574926725,391.27995093027704,402.49223594996215,473.2863826479693,471.59304490206387,446.09416046390925,407.43097574926725,387.1692136521188,389.87177379235857,403.11288741492746,524.3090691567331,316.22776601683796,463.6809247747852,352.1363372331802,353.5533905932738,371.4835124201342,474.3416490252569,424.26406871192853,435.7751713900185,659.545297913646,346.41016151377545,403.732584763727,361.93922141707714,355.6683848755748,350.0,651.9202405202649,474.3416490252569,457.16517802649844,434.856298103178,533.8539126015655,516.3332257370234,282.842712474619,474.3416490252569,398.74804074753774,346.2657938636157,361.8010503025109,441.2142336779266,268.32815729997475,380.39453203220467,373.49698793966195,564.8008498577176,589.9152481501051,435.7751713900185,141.4213562373095,244.94897427831782,423.6744032862972,365.10272527057367,391.1521443121589,334.5145736735546,432.43496620879307,398.1205847478877,391.1521443121589,435.88989435406734,491.9349550499537,484.25200051213005,474.3416490252569,406.201920231798,360.416425818802,561.2486080160912,360.416425818802,506.951674225463,569.2099788303083,721.1102550927978,387.83243804509186,538.5164807134504,334.66401061363024,430.11626335213134,543.1390245600107,538.5164807134504,282.6658805020514,505.9644256269407,494.9747468305833,374.16573867739413,521.5361924162119,404.96913462633177,427.20018726587654,468.9349635077342,570.087712549569,593.295878967653,561.2486080160912,392.42833740697165,446.09416046390925,449.44410108488466,540.3702434442519,341.46742157927747,393.70039370059055,463.6809247747852,611.1382822242442,509.05991788786514,541.8163895638447,534.3762719283109,523.4118837015453,430.11626335213134,435.88989435406734,413.52146256270663,456.0701700396552,409.87803063838396,406.201920231798,372.1558813185679,424.1462012089699,424.26406871192853,334.66401061363024,389.87177379235857,316.22776601683796,392.42833740697165,364.6916505762094,533.8539126015655,371.4835124201342,550.4543577809154,500.0,409.2676385936225,435.88989435406734,427.20018726587654,327.10854467592253,441.5880433163923,411.0960958218893,394.96835316262997,346.41016151377545,412.31056256176606,499.834972766012,433.6992045185234,420.05951959216446,567.6944600751358,386.00518131237567,308.2207001484488,445.5333881989093,430.11626335213134,410.97445176069033,469.041575982343,360.416425818802,408.656334834051,574.4562646538029,579.6550698475776,716.2199382871158,478.53944456021594,380.7886552931954,320.9361307176242,458.257569495584,747.6630257007498,466.9047011971501,511.994140591472,353.5533905932738,360.5551275463989,396.8626966596886,439.31765272977594,524.4044240850758,489.89794855663564,447.365622282267,628.4902544988267,605.5600713389217,321.1697370550345,556.7764362830022,378.02116342871597,599.8083027101242,354.96478698597696,871.7797887081347,531.5072906367325,363.318042491699,570.087712549569,454.97252664309303,393.70039370059055,574.4562646538029,318.99843259803015,704.2726744663604,430.11626335213134,353.5533905932738,534.7896782848375,518.6520991955975,550.7939723707949,609.2331245098218,536.2835071116768,361.93922141707714,432.43496620879307,411.0960958218893,365.3765181289022,787.4007874011811,741.1167249495858,529.1502622129182,367.4234614174767,442.0271484875109,580.534236716492,575.1956188984752,498.49272813151447,346.41016151377545,489.89794855663564,484.7679857416329,707.1598122065478,489.89794855663564,519.6152422706632,474.3416490252569,529.1502622129182,474.3416490252569,498.2168202700507,524.4044240850758,370.1351104664349,387.2983346207417,805.6053624449132,441.5880433163923,610.9009739720506,411.6430492550554,379.7367509209505,435.7751713900185,407.43097574926725,400.0,572.1494559990423,496.9909455915671,563.9148871948673,583.9520528262573,537.2615750265414,396.23225512317896,670.0746227100382,376.82887362833543,623.698645180507,689.9275324264136,499.22940618517254,374.03208418530085,549.4542747126461,651.9202405202649,347.85054261852173,387.2983346207417,371.4835124201342,447.1017781221631,380.7886552931954,681.9090848492928,397.4921382870358,612.3724356957945,384.4255454571145,582.2370651203855,516.7204273105525,538.5164807134504,520.859865990844,527.3897989153753,371.4835124201342,606.2177826491071,654.5991139621257,374.16573867739413,374.16573867739413,380.7886552931954,529.1502622129182,436.3484845854286,516.7204273105525,406.07881008493905,529.1502622129182,474.3416490252569,384.7076812334269,406.201920231798,583.4852183217669,364.6916505762094,339.91175325369375,489.89794855663564,774.5966692414834,267.39483914241873,435.7751713900185,570.087712549569,529.1502622129182,504.9752469181039,547.7225575051662,325.5764119219941,372.82703764614496,406.201920231798,411.0960958218893,399.2492955535426,547.7225575051662,401.24805295477756,480.10415536631217,469.041575982343,421.7819341792628,591.6079783099616,578.7918451395112,772.7774582633735,415.9326868617084,719.7221686178633,460.43457732885355,387.1692136521188,375.4437374627522,308.2207001484488,401.9950248448356,592.7900134111572,393.70039370059055,445.5333881989093,525.3570214625479,408.656334834051,476.44516998286383,636.4746656387825,628.4902544988267,600.0,880.3408430829504,533.8539126015655,547.7225575051662,462.6013402488151,478.53944456021594,574.4562646538029,382.099463490856,617.6568626672904,655.7438524302,806.2257748298549,441.02154142399894,528.2045058497703,427.78499272414876,441.5880433163923,685.5654600401044,408.656334834051,556.1276831807602,466.36895265444076,447.21359549995793,447.20800529507517,423.0839160261236,573.5852159879995,612.2907805936653,406.201920231798,804.3631020876082,561.2486080160912,456.0701700396552,636.3961030678928,731.4369419163896,428.97552377728965,308.2207001484488,295.8884925102698,361.93922141707714,356.37059362410923,323.5660674421841,346.41016151377545,527.7309920783505,274.7726332806817,349.1418050019218,456.0701700396552,388.58718455450895,371.4835124201342,478.53944456021594,360.5551275463989,299.833287011299,380.7886552931954,293.2575659723036,308.2207001484488,441.5880433163923,327.6049450176233,361.93922141707714,408.53396431630995,356.37059362410923,344.9637662132068,304.1529220638855,417.1330722922842,424.26406871192853,393.70039370059055,382.7531841800928,403.11288741492746,458.257569495584,406.201920231798,350.71355833500365,387.2983346207417,359.02646142032484,296.8164415931166,418.33001326703777,347.81460578877363,384.1132645457587,343.51128074635335,446.09416046390925,282.6658805020514,528.2045058497703,300.0,303.15012782448235,391.1521443121589,412.31056256176606,381.051177665153,544.0588203494177,387.2983346207417,293.2575659723036,343.51128074635335,393.70039370059055,471.6990566028302,500.0,604.1522986797286,346.41016151377545,439.31765272977594,292.52008478051556,286.35642126552705,474.3416490252569,489.89794855663564,484.66483264210535,334.66401061363024,510.88159097779203,632.4555320336759,556.7764362830022,426.6145801540308,433.0127018922193,636.3961030678928,648.074069840786,599.1660871578097,346.41016151377545,414.1255848169731,399.8749804626441,431.8564576337837,509.9019513592785,339.1164991562634,437.03546766824314,596.2088560227867,583.0094338859363,300.0,494.9747468305833,566.4803615307419,398.74804074753774,418.21047332652967,541.7564028232615,458.257569495584,427.20018726587654,468.9349635077342,608.276253029822,534.7896782848375,412.18927691049896,401.24805295477756,535.7238094391549,561.2486080160912,420.7136793592526,576.1944116355173,498.998997994986,423.0839160261236,387.2983346207417,474.3416490252569,426.6145801540308,574.3692192309752,406.201920231798,424.26406871192853,566.5686189686118,424.26406871192853,421.90046219457975,529.055762656452,423.0839160261236,427.78499272414876,707.1067811865476,412.31056256176606,423.0839160261236,430.0,421.30748865881793,335.4101966249685,424.26406871192853,101.4889156509222,371.34889255254285,379.4733192202055,362.76714294434106,351.42566781611157,350.71355833500365,330.15148038438355,415.9326868617084,324.037034920393,350.0,437.03546766824314,386.00518131237567,452.76925690687085,474.3416490252569,458.257569495584,434.6262762420146,438.1780460041329,370.80992435478316,447.21359549995793,354.96478698597696,463.14144707637644,389.87177379235857,339.1164991562634,296.6479394838265,412.31056256176606,370.1351104664349,380.7886552931954,449.44410108488466,360.5551275463989,514.78150704935,430.11626335213134,360.5551275463989,435.88989435406734,451.6635916254486,353.5533905932738,591.5234568468101,376.82887362833543,364.0054944640259,469.041575982343,400.0,101.4889156509222,308.2207001484488,349.36370733091326,386.00518131237567,339.1164991562634,374.16573867739413,371.34889255254285,379.4733192202055,362.76714294434106,351.42566781611157,350.71355833500365,330.15148038438355,415.9326868617084,324.037034920393,350.0,437.03546766824314,386.00518131237567,452.76925690687085,474.3416490252569,458.257569495584,434.6262762420146,438.1780460041329,370.80992435478316,447.21359549995793,354.96478698597696,463.14144707637644,389.87177379235857,339.1164991562634,296.6479394838265,412.31056256176606,370.1351104664349,380.7886552931954,449.44410108488466,360.5551275463989,514.78150704935,430.11626335213134,360.5551275463989,435.88989435406734,451.6635916254486,353.5533905932738,591.5234568468101,376.82887362833543,364.0054944640259,469.041575982343,400.0,396.1060464067672,371.4835124201342,407.43097574926725,441.5880433163923,543.6910887627274,678.2329983125268,354.96478698597696,469.3612681080534,418.33001326703777,504.9752469181039,430.11626335213134,483.735464897913,365.3765181289022,388.58718455450895,396.8626966596886,533.8539126015655,466.36895265444076,547.7225575051662,401.52833025827704,465.83258795408466,500.0,352.1363372331802,497.9959839195493,432.43496620879307,441.5880433163923,489.7958758503383,689.202437604511,495.9838707054898,468.9349635077342,439.8863489584554,349.28498393145964,343.51128074635335,353.5533905932738,317.80497164141406,498.998997994986,424.26406871192853,540.8326913195984,446.65422868254586,452.8796749689701,574.4562646538029,423.0839160261236,584.8076606885378,380.7886552931954,256.9046515733026,519.5190083144215,392.42833740697165,674.4627491566899,499.8999899979995,406.201920231798,573.5852159879995,222.23186090207676,667.0832032063167,270.1851217221259,353.5533905932738,382.7531841800928,457.16517802649844,443.28320518603005,396.23225512317896,354.25979167836704,435.88989435406734,500.0,504.9752469181039,360.1388621073821,254.95097567963924,327.10854467592253,504.9752469181039,630.8724118235002,419.52353926806063,499.8999899979995,494.8737212663449,469.041575982343,490.9175083453431,399.8749804626441,421.37275659444333,308.2207001484488,70.71067811865476,514.6843692983108,561.2486080160912,393.70039370059055,360.5551275463989,487.8524367060187,473.2863826479693,459.34736311423404,528.2045058497703,491.9349550499537,447.07381940793624,509.8038838612354,447.21359549995793,460.43457732885355,479.58315233127195,434.7413023856832,560.0312491281179,430.11626335213134,489.7958758503383,449.44410108488466,393.70039370059055,346.41016151377545,279.28480087537883,557.6737397439474,444.97190922573975,398.1205847478877,476.44516998286383,515.6549233741495,403.732584763727,406.201920231798,388.58718455450895,447.21359549995793,547.6312628037227,458.257569495584,469.041575982343,571.7516943569123,452.658811910251,483.735464897913,485.7983120596448,352.1363372331802,446.2062303464621,494.9747468305833,513.8093031466052,324.037034920393,432.43496620879307,356.37059362410923,316.22776601683796,500.99900199501394,324.037034920393,656.6962768281849,387.1692136521188,424.26406871192853,351.42566781611157,502.99105359837165,574.4562646538029,352.845575287547,651.3063795173513,346.41016151377545,452.76925690687085,418.33001326703777,543.1390245600107,395.60080889704966,378.15340802378074,463.6809247747852,535.7238094391549,350.0,424.26406871192853,378.15340802378074,370.1351104664349,520.5766033928148,360.416425818802,364.6916505762094,423.0839160261236,549.5452665613634,409.87803063838396,346.41016151377545,344.9637662132068,409.87803063838396,353.41194094144583,644.2049363362563,387.2983346207417,556.7764362830022,396.23225512317896,452.76925690687085,524.4044240850758,565.685424949238,616.4414002968977,346.2657938636157,587.3670062235366,380.7886552931954,350.71355833500365,450.0,426.6145801540308,418.33001326703777,364.0054944640259,488.87626246321264,293.47061181658376,494.9747468305833,479.4788837894741,359.1656999213594,447.21359549995793,379.7367509209505,407.43097574926725,421.90046219457975,406.201920231798,466.9047011971501,418.33001326703777,380.7886552931954,441.5880433163923,536.785804581306,433.0127018922193,504.9752469181039,380.7886552931954,427.78499272414876,564.1896844147366,438.7482193696061,441.5880433163923,371.4835124201342,479.58315233127195,487.3397172404482,612.3724356957945,324.037034920393,409.87803063838396,470.1063709417263,367.4234614174767,360.416425818802,586.6003750424986,334.66401061363024,616.4414002968977,353.5533905932738,380.7886552931954,435.88989435406734,367.4234614174767,241.8677324489565,283.72521918222213,387.82728114458376,412.31056256176606,492.4946700219201,420.11903075200007,460.43457732885355,367.4234614174767,463.6809247747852,511.8593556827891,393.70039370059055,454.97252664309303,430.11626335213134,303.6445290137795,333.16662497915365,311.44823004794875,447.21359549995793,479.58315233127195,547.6312628037227,428.7831619828372,418.21047332652967,578.7918451395112,456.0701700396552,616.4414002968977,538.4236250388722,433.58966777357597,774.5966692414834,511.8593556827891,469.041575982343,524.4044240850758,463.6809247747852,316.22776601683796,398.1205847478877,385.87562763149475,466.9047011971501,596.5232602338319,409.87803063838396,413.52146256270663,441.5880433163923,449.31058300467396,380.7886552931954,453.8722287164087,279.28480087537883,566.4803615307419,398.74804074753774,424.26406871192853,360.416425818802,387.2983346207417,413.6834538629748,388.58718455450895,316.22776601683796,809.3207028119323,493.4571916590131,514.78150704935,632.4555320336759,522.3025942880238,504.9752469181039,469.041575982343,880.3408430829504,482.7007354458868,465.8079003194343,494.9747468305833,398.74804074753774,851.46931829632,517.9768334587948,398.74804074753774,393.70039370059055,587.3670062235366,406.4480286580315,430.11626335213134,474.8684028233506,648.074069840786,469.041575982343,787.4007874011811,509.9019513592785,599.9166608788257,612.3724356957945,550.3635162326806,418.33001326703777,509.9019513592785,519.6152422706632,696.419413859206,447.21359549995793,605.8052492344384,418.33001326703777,450.55521304275237,412.31056256176606,612.3724356957945,399.8749804626441,479.58315233127195,612.3724356957945,648.8451279003334,466.9047011971501,409.69500851242987,502.4937810560445,806.2257748298549,616.4414002968977,463.14144707637644,467.43983570080974,417.1330722922842,474.3416490252569,556.5518843737751,811.3568881817667,450.55521304275237,612.3724356957945,250.0,452.76925690687085,290.68883707497264,529.6225070746144,426.6145801540308,755.6454194925025,409.87803063838396,594.9789912257406,487.8524367060187,426.6145801540308,467.43983570080974,476.9696007084728,612.3724356957945,632.376470150495,600.0,642.2616289332565,518.1698563212645,547.9963503528103,618.4658438426491,434.7413023856832,543.1390245600107,469.041575982343,472.2287581247038,631.6644678941502,411.6794869798591,589.7033152357209,674.5368781616021,499.8999899979995,500.0,514.78150704935,818.535277187245,441.5880433163923,600.0,418.33001326703777,408.0441152620633,436.0045871318328,424.85291572496004,663.32495807108,412.31056256176606,469.041575982343,265.5183609470351,254.95097567963924,357.0714214271425,393.70039370059055,505.47007824400447,368.7817782917155,451.6635916254486,447.21359549995793,403.732584763727,386.45827717879195,484.7679857416329,509.9019513592785,458.257569495584,399.8749804626441,457.16517802649844,367.4234614174767,447.21359549995793,657.723346096214,441.5880433163923,406.201920231798,444.97190922573975,467.9743582719036,655.7438524302,346.41016151377545,611.3386949964806,428.78082979536293,462.06060208591686,393.70039370059055,443.8468204234429,626.4974062196906,479.4788837894741,537.8196723809942,435.7751713900185,630.2380502635492,624.0232367468378,367.4234614174767,417.1330722922842,724.568837309472,367.4234614174767,641.8722614352484,431.2771730569565,673.7469851509542,595.8187643906492,431.2771730569565,443.8468204234429,424.26406871192853,421.90046219457975,552.268050859363,511.8593556827891,474.3416490252569,634.8543139965263,623.2976816898969,645.7553716385177,640.3124237432849,412.31056256176606,543.1390245600107,464.75800154489,470.7961342237211,447.1017781221631,680.44103344816,382.7531841800928,474.3416490252569,400.0,524.4568619057243,561.7054388200278,568.9982425280416,409.2676385936225,522.2058980900158,421.30748865881793,357.77087639996637,563.1207685745572,380.13155617496426,509.9019513592785,493.9635614091388,536.6460658571905,398.74804074753774,408.656334834051,589.9152481501051,374.16573867739413,380.7886552931954,387.87884706438945,479.58315233127195,383.957028845677,472.2287581247038,409.2676385936225,546.8089245796926,485.69537778323564,383.40579025361626,552.268050859363,392.42833740697165,386.00518131237567,547.9771893062702,527.2570530585627,449.44410108488466,573.116916518785,430.11626335213134,357.77087639996637,578.7918451395112,385.87562763149475,479.4788837894741,463.6809247747852,502.99105359837165,551.4208918784271,471.16875957558983,406.201920231798,524.4044240850758,570.087712549569,637.1812928829596,479.58315233127195,353.5533905932738,384.7076812334269,528.2045058497703,500.0,561.1951532221211,407.308237088326,387.2983346207417,364.6916505762094,393.70039370059055,469.041575982343,478.53944456021594,420.7136793592526,346.41016151377545,441.5880433163923,561.5790238247864,370.1351104664349,475.0789408087881,452.658811910251,435.3159771935783,611.5553940568262,564.8008498577176,542.3098745182499,663.8975824628374,357.77087639996637,489.3924805307086,376.4306044943742,464.2197755374064,565.8710100367398,522.9674942097262,506.31018160807315,504.9752469181039,352.1363372331802,541.2947441089743,383.40579025361626,533.4744604945957,585.0376056289032,478.53944456021594,465.72524088780074,406.07881008493905,386.00518131237567,387.2983346207417,463.67014137207497,415.9326868617084,387.1692136521188,393.70039370059055,412.31056256176606,487.3397172404482,545.036696012296,584.9803415500387,587.5916949719423,570.1280557909776,605.8052492344384,399.8749804626441,380.7886552931954,522.0153254455275,404.0482644437419,564.8008498577176,400.74929819027756,495.9838707054898,391.1521443121589,543.1390245600107,398.74804074753774,385.22720568516445,557.6737397439474,560.357029044876,500.0,386.00518131237567,554.8783650494944,472.2287581247038,467.9743582719036,421.90046219457975,543.9898896119302,375.71265616159377,479.4788837894741,504.8762224545735,354.96478698597696,420.11903075200007,402.24370722237535,334.9626844888845,393.06488014067094,547.7225575051662,453.8722287164087,506.951674225463,426.6145801540308,401.24805295477756,419.52353926806063,420.90378948163436,595.871630470859,461.51923036857306,516.2363799656123,533.8539126015655,422.965719651132,547.7225575051662,459.34736311423404,671.5653356152326,448.7761134463375,442.60591952661457,435.88989435406734,387.2983346207417,453.8722287164087,533.8539126015655,346.41016151377545,614.4102863722254,583.09518948453,489.89794855663564,543.1390245600107,463.6809247747852,524.4044240850758,434.7413023856832,394.96835316262997,640.3124237432849,514.2956348249517,381.444622455213,341.32096331752024,514.2956348249517,463.6809247747852,512.8352561983233,492.9503017546495,450.55521304275237,578.7918451395112,620.4836822995428,458.257569495584,392.42833740697165,393.70039370059055,406.201920231798,547.7225575051662,489.89794855663564,426.6145801540308,440.45431091090484,640.3124237432849,529.1502622129182,484.7679857416329,430.11626335213134,408.656334834051,454.4227107000705,406.201920231798,479.58315233127195,484.7679857416329,447.7722635447622,556.7764362830022,412.18927691049896,458.8027898781785,552.268050859363,712.7411872482185,469.041575982343,505.9644256269407,443.7341546466758,482.7007354458868,374.16573867739413,403.6087214122113,421.90046219457975,514.78150704935,674.4627491566899,463.6809247747852,497.9959839195493,628.4902544988267,414.1255848169731,517.6871642217914,408.0441152620633,595.8187643906492,406.201920231798,547.7225575051662,591.6079783099616,529.055762656452,514.78150704935,516.7204273105525,484.7679857416329,547.6312628037227,408.656334834051,409.87803063838396,387.2983346207417,504.9752469181039,674.5368781616021,592.5369186810219,561.2486080160912,469.041575982343,398.74804074753774,583.9520528262573,525.3570214625479,555.8776843874919,465.85512769529544,434.1658669218482,565.685424949238,496.9909455915671,407.43097574926725,485.7983120596448,483.6320915737499,403.4104609451768,474.3416490252569,600.0,530.5845832664195,604.1522986797286,561.2486080160912,545.8021619598076,519.6152422706632,509.9019513592785,268.32815729997475,479.06158268013934,524.4044240850758,393.70039370059055,474.9421017345167,473.2863826479693,538.5164807134504,511.8593556827891,565.5970296951708,514.78150704935,504.9752469181039,466.1544808322666,539.4441583704471,564.8008498577176,521.0566188045211,474.23622805517505,509.9019513592785,447.1017781221631,502.65196707065616,559.0169943749474,538.5164807134504,393.70039370059055,595.8187643906492,435.88989435406734,360.5551275463989,513.8093031466052,440.43160649526504,468.9349635077342,685.4925236645546,560.5622177778306,372.6929030716845,400.0,477.4934554525329,473.7087712930805,364.5133742402328,368.23905279043936,388.0721582386451,578.7918451395112,562.3610939600997,425.7698909035255,397.4921382870358,470.1063709417263,479.58315233127195,546.8089245796926,384.7076812334269,517.20402163943,508.9204259999789,566.5686189686118,640.14842029017,428.9522117905443,380.7886552931954,556.7764362830022,412.31056256176606,458.8027898781785,447.1017781221631,387.2983346207417,391.1521443121589,577.9273310719956,465.72524088780074,508.9204259999789,489.89794855663564,431.3119520718154,450.55521304275237,504.9752469181039,344.9637662132068,510.6858133921482,411.0960958218893,474.3416490252569,352.1363372331802,494.9747468305833,500.0,414.7288270665544,391.7907604831947,406.201920231798,398.74804074753774,414.1255848169731,489.89794855663564,639.9609363078343,549.5452665613634,533.8539126015655,621.2084996198942,374.9599978664391,461.51923036857306,578.7918451395112,538.5164807134504,514.78150704935,577.9273310719956,618.3898446772877,386.39358172723314,460.43457732885355,441.5880433163923,494.9747468305833,650.1384467942194,489.89794855663564,394.96835316262997,514.78150704935,577.9273310719956,618.3898446772877,386.39358172723314,460.43457732885355,441.5880433163923,414.24630354415956,494.9747468305833,531.0367218940702,509.9019513592785,504.47993022517755,424.1462012089699,504.9752469181039,514.78150704935,417.1330722922842,567.4504383644443,580.5170109479997,470.5847426340977,496.9909455915671,424.26406871192853,479.4788837894741,479.58315233127195,622.8964600958975,591.6079783099616,411.9465984809196,435.88989435406734,563.4713834792323,264.5751311064591,547.7225575051662,381.3135192987524,428.3689998120779,525.2618394667559,660.3203767869048,565.5970296951708,498.998997994986,537.5872022286245,533.8539126015655,441.47480109288233,353.5533905932738,333.61654635224556],\"xaxis\":\"x\",\"yaxis\":\"y\",\"type\":\"histogram\"},{\"alignmentgroup\":\"True\",\"boxpoints\":\"all\",\"fillcolor\":\"rgba(255,255,255,0)\",\"hoveron\":\"points\",\"hovertemplate\":\"x=%{x}<extra></extra>\",\"jitter\":0,\"legendgroup\":\"\",\"line\":{\"color\":\"rgba(255,255,255,0)\"},\"marker\":{\"color\":\"green\",\"symbol\":\"line-ns-open\"},\"name\":\"\",\"offsetgroup\":\"\",\"showlegend\":false,\"x\":[364.0054944640259,425.5760801548884,330.15148038438355,393.70039370059055,293.3598472865706,346.41016151377545,391.1521443121589,412.31056256176606,300.0,350.5709628591621,570.087712549569,346.41016151377545,293.0187707297947,311.44823004794875,356.37059362410923,299.833287011299,393.70039370059055,503.7360419902471,244.94897427831782,295.8039891549808,334.66401061363024,323.88269481403296,385.5320998308701,387.2983346207417,300.66592756745814,498.79855653359704,367.4234614174767,380.7886552931954,676.0177512462228,374.16573867739413,360.5551275463989,432.43496620879307,478.53944456021594,476.44516998286383,424.1462012089699,412.18927691049896,458.1484475582123,412.18927691049896,541.2947441089743,495.8830507286975,396.23225512317896,441.5880433163923,387.2983346207417,484.66483264210535,528.7248812000433,496.4876634922564,352.1363372331802,371.4835124201342,538.5164807134504,328.63353450309967,367.28735344413917,253.96850198400588,376.82887362833543,353.5533905932738,296.6479394838265,367.4234614174767,300.0,300.1666203960727,356.2302626111375,418.33001326703777,397.4921382870358,303.31501776206204,287.74989139876317,374.16573867739413,413.52146256270663,447.9285657334214,372.82703764614496,474.3416490252569,426.6145801540308,456.91027565595414,431.2771730569565,304.9590136395381,507.3322382817792,401.24805295477756,303.31501776206204,459.3495401107962,339.1164991562634,336.1547262794322,465.0806381693394,380.7886552931954,337.63886032268266,372.8940868396816,322.49030993194197,412.18927691049896,421.7819341792628,364.6916505762094,430.11626335213134,339.1164991562634,316.22776601683796,342.0526275297414,387.2983346207417,433.0127018922193,327.10854467592253,356.2302626111375,383.40579025361626,248.99799195977465,317.80497164141406,378.81393849751623,336.7491648096547,276.2607463973121,331.66247903554,296.6479394838265,328.63353450309967,338.9690251335659,382.099463490856,474.3416490252569,371.4835124201342,466.97965694449687,158.11388300841898,334.66401061363024,335.4101966249685,311.44823004794875,347.85054261852173,256.35912310662945,474.3416490252569,438.1780460041329,398.1205847478877,496.9909455915671,440.2010904120979,369.45906403822335,273.8612787525831,212.13203435596427,492.9503017546495,300.0,397.4921382870358,417.1330722922842,387.2983346207417,399.56226048014094,372.91017685228167,291.4618328357934,319.37438845342626,418.33001326703777,280.178514522438,482.15972457267725,306.27601930285044,346.2657938636157,382.099463490856,353.5533905932738,367.4234614174767,396.8626966596886,367.4234614174767,378.02116342871597,509.8038838612354,291.547594742265,424.70813507631334,404.3513323831146,326.3433774416144,339.1164991562634,339.1164991562634,367.4234614174767,445.9820624195552,372.82703764614496,453.8722287164087,346.41016151377545,453.8501955491481,524.4044240850758,372.82703764614496,299.833287011299,374.03208418530085,415.63204881240813,368.7817782917155,519.6152422706632,417.1330722922842,615.6297588648554,618.4658438426491,380.6573262134856,591.5234568468101,364.6916505762094,339.1164991562634,460.3802775966842,477.2965535178313,405.46269865426586,583.09518948453,374.03208418530085,529.055762656452,474.3416490252569,380.13155617496426,602.2540991973405,496.9909455915671,346.41016151377545,368.7817782917155,478.0167361086848,403.4848200366403,479.58315233127195,340.2939905434711,418.33001326703777,512.84305591477,382.099463490856,452.658811910251,514.78150704935,409.2676385936225,452.76925690687085,412.31056256176606,419.52353926806063,363.318042491699,339.8529093593286,387.2983346207417,346.41016151377545,353.5533905932738,387.2983346207417,601.9634540401934,365.3765181289022,301.66206257996714,322.49030993194197,384.7076812334269,426.6145801540308,390.51248379533274,311.44823004794875,336.1547262794322,414.7288270665544,424.1462012089699,289.8275349237888,343.3656942677879,420.7136793592526,327.8719262151,304.138126514911,320.7802986469088,367.1511950137164,387.2983346207417,406.201920231798,346.41016151377545,421.30748865881793,547.7225575051662,351.42566781611157,375.4996671103718,324.65366161495854,317.1750305430741,330.0,324.8076353782343,331.5116890850155,415.57189510360297,408.0441152620633,324.037034920393,700.0,346.41016151377545,327.8719262151,341.46742157927747,254.95097567963924,343.51128074635335,340.440890610984,316.22776601683796,413.52146256270663,433.58966777357597,374.16573867739413,352.845575287547,327.414110874898,327.8719262151,424.26406871192853,462.95248136282845,358.9568219159513,456.8369512200168,374.03208418530085,591.6079783099616,328.63353450309967,339.8529093593286,367.4234614174767,367.4234614174767,327.7193921634788,482.7007354458868,324.037034920393,578.7918451395112,372.82703764614496,457.71169965383234,317.80497164141406,278.3882181415011,387.94329482541644,408.656334834051,337.63886032268266,400.0,291.547594742265,378.15340802378074,354.96478698597696,374.16573867739413,374.16573867739413,452.76925690687085,282.6658805020514,372.82703764614496,435.88989435406734,389.23000912057125,312.2498999199199,441.02154142399894,441.7691704951807,390.51248379533274,399.37451095431715,430.11626335213134,489.89794855663564,433.47433603386486,511.8593556827891,460.9772228646444,469.041575982343,494.9747468305833,346.41016151377545,320.1562118716424,368.7817782917155,460.9772228646444,453.7620521815371,509.8038838612354,437.6071297408213,522.0153254455275,437.6071297408213,397.4921382870358,441.5880433163923,433.0127018922193,400.0,370.80992435478316,331.5116890850155,291.547594742265,429.35998882057,366.742416417845,393.57337308308854,504.9752469181039,488.4669896727925,325.5764119219941,790.5694150420949,441.5880433163923,410.48751503547584,294.95762407505254,463.6809247747852,444.40972086577943,463.6809247747852,343.51128074635335,433.47433603386486,524.4044240850758,499.8999899979995,519.6152422706632,397.36632972611056,346.41016151377545,355.52777669262355,469.041575982343,424.26406871192853,451.22056690713913,499.8999899979995,439.31765272977594,463.6809247747852,448.3302354291979,254.95097567963924,441.5880433163923,464.65040621955774,303.31501776206204,393.70039370059055,351.42566781611157,332.264954516723,445.9820624195552,387.2983346207417,322.49030993194197,494.9747468305833,424.26406871192853,392.8103868280471,412.31056256176606,467.9743582719036,543.1390245600107,426.02816808281585,509.9019513592785,489.7958758503383,368.1032463861192,437.6071297408213,474.3416490252569,313.8470965295043,332.41540277189324,538.5164807134504,429.4182110716778,422.49260348555214,644.2049363362563,494.8737212663449,387.2983346207417,409.87803063838396,398.74804074753774,356.37059362410923,418.33001326703777,505.22272316276513,418.33001326703777,484.7679857416329,569.2099788303083,415.9326868617084,341.9064199455752,325.4228019054596,334.66401061363024,484.7679857416329,484.7679857416329,360.5551275463989,484.7679857416329,438.06392227619017,533.7602458033007,578.7918451395112,374.16573867739413,437.03546766824314,391.1521443121589,442.7188724235731,497.9959839195493,489.89794855663564,363.318042491699,446.09416046390925,465.83258795408466,408.656334834051,494.9747468305833,598.3310120660636,642.2616289332565,456.0701700396552,519.6152422706632,316.22776601683796,360.5551275463989,427.20018726587654,372.82703764614496,322.49030993194197,470.1063709417263,509.9019513592785,427.20018726587654,442.7188724235731,363.318042491699,474.23622805517505,447.1017781221631,407.22843712098495,434.7413023856832,299.833287011299,484.7679857416329,407.43097574926725,391.27995093027704,402.49223594996215,473.2863826479693,471.59304490206387,446.09416046390925,407.43097574926725,387.1692136521188,389.87177379235857,403.11288741492746,524.3090691567331,316.22776601683796,463.6809247747852,352.1363372331802,353.5533905932738,371.4835124201342,474.3416490252569,424.26406871192853,435.7751713900185,659.545297913646,346.41016151377545,403.732584763727,361.93922141707714,355.6683848755748,350.0,651.9202405202649,474.3416490252569,457.16517802649844,434.856298103178,533.8539126015655,516.3332257370234,282.842712474619,474.3416490252569,398.74804074753774,346.2657938636157,361.8010503025109,441.2142336779266,268.32815729997475,380.39453203220467,373.49698793966195,564.8008498577176,589.9152481501051,435.7751713900185,141.4213562373095,244.94897427831782,423.6744032862972,365.10272527057367,391.1521443121589,334.5145736735546,432.43496620879307,398.1205847478877,391.1521443121589,435.88989435406734,491.9349550499537,484.25200051213005,474.3416490252569,406.201920231798,360.416425818802,561.2486080160912,360.416425818802,506.951674225463,569.2099788303083,721.1102550927978,387.83243804509186,538.5164807134504,334.66401061363024,430.11626335213134,543.1390245600107,538.5164807134504,282.6658805020514,505.9644256269407,494.9747468305833,374.16573867739413,521.5361924162119,404.96913462633177,427.20018726587654,468.9349635077342,570.087712549569,593.295878967653,561.2486080160912,392.42833740697165,446.09416046390925,449.44410108488466,540.3702434442519,341.46742157927747,393.70039370059055,463.6809247747852,611.1382822242442,509.05991788786514,541.8163895638447,534.3762719283109,523.4118837015453,430.11626335213134,435.88989435406734,413.52146256270663,456.0701700396552,409.87803063838396,406.201920231798,372.1558813185679,424.1462012089699,424.26406871192853,334.66401061363024,389.87177379235857,316.22776601683796,392.42833740697165,364.6916505762094,533.8539126015655,371.4835124201342,550.4543577809154,500.0,409.2676385936225,435.88989435406734,427.20018726587654,327.10854467592253,441.5880433163923,411.0960958218893,394.96835316262997,346.41016151377545,412.31056256176606,499.834972766012,433.6992045185234,420.05951959216446,567.6944600751358,386.00518131237567,308.2207001484488,445.5333881989093,430.11626335213134,410.97445176069033,469.041575982343,360.416425818802,408.656334834051,574.4562646538029,579.6550698475776,716.2199382871158,478.53944456021594,380.7886552931954,320.9361307176242,458.257569495584,747.6630257007498,466.9047011971501,511.994140591472,353.5533905932738,360.5551275463989,396.8626966596886,439.31765272977594,524.4044240850758,489.89794855663564,447.365622282267,628.4902544988267,605.5600713389217,321.1697370550345,556.7764362830022,378.02116342871597,599.8083027101242,354.96478698597696,871.7797887081347,531.5072906367325,363.318042491699,570.087712549569,454.97252664309303,393.70039370059055,574.4562646538029,318.99843259803015,704.2726744663604,430.11626335213134,353.5533905932738,534.7896782848375,518.6520991955975,550.7939723707949,609.2331245098218,536.2835071116768,361.93922141707714,432.43496620879307,411.0960958218893,365.3765181289022,787.4007874011811,741.1167249495858,529.1502622129182,367.4234614174767,442.0271484875109,580.534236716492,575.1956188984752,498.49272813151447,346.41016151377545,489.89794855663564,484.7679857416329,707.1598122065478,489.89794855663564,519.6152422706632,474.3416490252569,529.1502622129182,474.3416490252569,498.2168202700507,524.4044240850758,370.1351104664349,387.2983346207417,805.6053624449132,441.5880433163923,610.9009739720506,411.6430492550554,379.7367509209505,435.7751713900185,407.43097574926725,400.0,572.1494559990423,496.9909455915671,563.9148871948673,583.9520528262573,537.2615750265414,396.23225512317896,670.0746227100382,376.82887362833543,623.698645180507,689.9275324264136,499.22940618517254,374.03208418530085,549.4542747126461,651.9202405202649,347.85054261852173,387.2983346207417,371.4835124201342,447.1017781221631,380.7886552931954,681.9090848492928,397.4921382870358,612.3724356957945,384.4255454571145,582.2370651203855,516.7204273105525,538.5164807134504,520.859865990844,527.3897989153753,371.4835124201342,606.2177826491071,654.5991139621257,374.16573867739413,374.16573867739413,380.7886552931954,529.1502622129182,436.3484845854286,516.7204273105525,406.07881008493905,529.1502622129182,474.3416490252569,384.7076812334269,406.201920231798,583.4852183217669,364.6916505762094,339.91175325369375,489.89794855663564,774.5966692414834,267.39483914241873,435.7751713900185,570.087712549569,529.1502622129182,504.9752469181039,547.7225575051662,325.5764119219941,372.82703764614496,406.201920231798,411.0960958218893,399.2492955535426,547.7225575051662,401.24805295477756,480.10415536631217,469.041575982343,421.7819341792628,591.6079783099616,578.7918451395112,772.7774582633735,415.9326868617084,719.7221686178633,460.43457732885355,387.1692136521188,375.4437374627522,308.2207001484488,401.9950248448356,592.7900134111572,393.70039370059055,445.5333881989093,525.3570214625479,408.656334834051,476.44516998286383,636.4746656387825,628.4902544988267,600.0,880.3408430829504,533.8539126015655,547.7225575051662,462.6013402488151,478.53944456021594,574.4562646538029,382.099463490856,617.6568626672904,655.7438524302,806.2257748298549,441.02154142399894,528.2045058497703,427.78499272414876,441.5880433163923,685.5654600401044,408.656334834051,556.1276831807602,466.36895265444076,447.21359549995793,447.20800529507517,423.0839160261236,573.5852159879995,612.2907805936653,406.201920231798,804.3631020876082,561.2486080160912,456.0701700396552,636.3961030678928,731.4369419163896,428.97552377728965,308.2207001484488,295.8884925102698,361.93922141707714,356.37059362410923,323.5660674421841,346.41016151377545,527.7309920783505,274.7726332806817,349.1418050019218,456.0701700396552,388.58718455450895,371.4835124201342,478.53944456021594,360.5551275463989,299.833287011299,380.7886552931954,293.2575659723036,308.2207001484488,441.5880433163923,327.6049450176233,361.93922141707714,408.53396431630995,356.37059362410923,344.9637662132068,304.1529220638855,417.1330722922842,424.26406871192853,393.70039370059055,382.7531841800928,403.11288741492746,458.257569495584,406.201920231798,350.71355833500365,387.2983346207417,359.02646142032484,296.8164415931166,418.33001326703777,347.81460578877363,384.1132645457587,343.51128074635335,446.09416046390925,282.6658805020514,528.2045058497703,300.0,303.15012782448235,391.1521443121589,412.31056256176606,381.051177665153,544.0588203494177,387.2983346207417,293.2575659723036,343.51128074635335,393.70039370059055,471.6990566028302,500.0,604.1522986797286,346.41016151377545,439.31765272977594,292.52008478051556,286.35642126552705,474.3416490252569,489.89794855663564,484.66483264210535,334.66401061363024,510.88159097779203,632.4555320336759,556.7764362830022,426.6145801540308,433.0127018922193,636.3961030678928,648.074069840786,599.1660871578097,346.41016151377545,414.1255848169731,399.8749804626441,431.8564576337837,509.9019513592785,339.1164991562634,437.03546766824314,596.2088560227867,583.0094338859363,300.0,494.9747468305833,566.4803615307419,398.74804074753774,418.21047332652967,541.7564028232615,458.257569495584,427.20018726587654,468.9349635077342,608.276253029822,534.7896782848375,412.18927691049896,401.24805295477756,535.7238094391549,561.2486080160912,420.7136793592526,576.1944116355173,498.998997994986,423.0839160261236,387.2983346207417,474.3416490252569,426.6145801540308,574.3692192309752,406.201920231798,424.26406871192853,566.5686189686118,424.26406871192853,421.90046219457975,529.055762656452,423.0839160261236,427.78499272414876,707.1067811865476,412.31056256176606,423.0839160261236,430.0,421.30748865881793,335.4101966249685,424.26406871192853,101.4889156509222,371.34889255254285,379.4733192202055,362.76714294434106,351.42566781611157,350.71355833500365,330.15148038438355,415.9326868617084,324.037034920393,350.0,437.03546766824314,386.00518131237567,452.76925690687085,474.3416490252569,458.257569495584,434.6262762420146,438.1780460041329,370.80992435478316,447.21359549995793,354.96478698597696,463.14144707637644,389.87177379235857,339.1164991562634,296.6479394838265,412.31056256176606,370.1351104664349,380.7886552931954,449.44410108488466,360.5551275463989,514.78150704935,430.11626335213134,360.5551275463989,435.88989435406734,451.6635916254486,353.5533905932738,591.5234568468101,376.82887362833543,364.0054944640259,469.041575982343,400.0,101.4889156509222,308.2207001484488,349.36370733091326,386.00518131237567,339.1164991562634,374.16573867739413,371.34889255254285,379.4733192202055,362.76714294434106,351.42566781611157,350.71355833500365,330.15148038438355,415.9326868617084,324.037034920393,350.0,437.03546766824314,386.00518131237567,452.76925690687085,474.3416490252569,458.257569495584,434.6262762420146,438.1780460041329,370.80992435478316,447.21359549995793,354.96478698597696,463.14144707637644,389.87177379235857,339.1164991562634,296.6479394838265,412.31056256176606,370.1351104664349,380.7886552931954,449.44410108488466,360.5551275463989,514.78150704935,430.11626335213134,360.5551275463989,435.88989435406734,451.6635916254486,353.5533905932738,591.5234568468101,376.82887362833543,364.0054944640259,469.041575982343,400.0,396.1060464067672,371.4835124201342,407.43097574926725,441.5880433163923,543.6910887627274,678.2329983125268,354.96478698597696,469.3612681080534,418.33001326703777,504.9752469181039,430.11626335213134,483.735464897913,365.3765181289022,388.58718455450895,396.8626966596886,533.8539126015655,466.36895265444076,547.7225575051662,401.52833025827704,465.83258795408466,500.0,352.1363372331802,497.9959839195493,432.43496620879307,441.5880433163923,489.7958758503383,689.202437604511,495.9838707054898,468.9349635077342,439.8863489584554,349.28498393145964,343.51128074635335,353.5533905932738,317.80497164141406,498.998997994986,424.26406871192853,540.8326913195984,446.65422868254586,452.8796749689701,574.4562646538029,423.0839160261236,584.8076606885378,380.7886552931954,256.9046515733026,519.5190083144215,392.42833740697165,674.4627491566899,499.8999899979995,406.201920231798,573.5852159879995,222.23186090207676,667.0832032063167,270.1851217221259,353.5533905932738,382.7531841800928,457.16517802649844,443.28320518603005,396.23225512317896,354.25979167836704,435.88989435406734,500.0,504.9752469181039,360.1388621073821,254.95097567963924,327.10854467592253,504.9752469181039,630.8724118235002,419.52353926806063,499.8999899979995,494.8737212663449,469.041575982343,490.9175083453431,399.8749804626441,421.37275659444333,308.2207001484488,70.71067811865476,514.6843692983108,561.2486080160912,393.70039370059055,360.5551275463989,487.8524367060187,473.2863826479693,459.34736311423404,528.2045058497703,491.9349550499537,447.07381940793624,509.8038838612354,447.21359549995793,460.43457732885355,479.58315233127195,434.7413023856832,560.0312491281179,430.11626335213134,489.7958758503383,449.44410108488466,393.70039370059055,346.41016151377545,279.28480087537883,557.6737397439474,444.97190922573975,398.1205847478877,476.44516998286383,515.6549233741495,403.732584763727,406.201920231798,388.58718455450895,447.21359549995793,547.6312628037227,458.257569495584,469.041575982343,571.7516943569123,452.658811910251,483.735464897913,485.7983120596448,352.1363372331802,446.2062303464621,494.9747468305833,513.8093031466052,324.037034920393,432.43496620879307,356.37059362410923,316.22776601683796,500.99900199501394,324.037034920393,656.6962768281849,387.1692136521188,424.26406871192853,351.42566781611157,502.99105359837165,574.4562646538029,352.845575287547,651.3063795173513,346.41016151377545,452.76925690687085,418.33001326703777,543.1390245600107,395.60080889704966,378.15340802378074,463.6809247747852,535.7238094391549,350.0,424.26406871192853,378.15340802378074,370.1351104664349,520.5766033928148,360.416425818802,364.6916505762094,423.0839160261236,549.5452665613634,409.87803063838396,346.41016151377545,344.9637662132068,409.87803063838396,353.41194094144583,644.2049363362563,387.2983346207417,556.7764362830022,396.23225512317896,452.76925690687085,524.4044240850758,565.685424949238,616.4414002968977,346.2657938636157,587.3670062235366,380.7886552931954,350.71355833500365,450.0,426.6145801540308,418.33001326703777,364.0054944640259,488.87626246321264,293.47061181658376,494.9747468305833,479.4788837894741,359.1656999213594,447.21359549995793,379.7367509209505,407.43097574926725,421.90046219457975,406.201920231798,466.9047011971501,418.33001326703777,380.7886552931954,441.5880433163923,536.785804581306,433.0127018922193,504.9752469181039,380.7886552931954,427.78499272414876,564.1896844147366,438.7482193696061,441.5880433163923,371.4835124201342,479.58315233127195,487.3397172404482,612.3724356957945,324.037034920393,409.87803063838396,470.1063709417263,367.4234614174767,360.416425818802,586.6003750424986,334.66401061363024,616.4414002968977,353.5533905932738,380.7886552931954,435.88989435406734,367.4234614174767,241.8677324489565,283.72521918222213,387.82728114458376,412.31056256176606,492.4946700219201,420.11903075200007,460.43457732885355,367.4234614174767,463.6809247747852,511.8593556827891,393.70039370059055,454.97252664309303,430.11626335213134,303.6445290137795,333.16662497915365,311.44823004794875,447.21359549995793,479.58315233127195,547.6312628037227,428.7831619828372,418.21047332652967,578.7918451395112,456.0701700396552,616.4414002968977,538.4236250388722,433.58966777357597,774.5966692414834,511.8593556827891,469.041575982343,524.4044240850758,463.6809247747852,316.22776601683796,398.1205847478877,385.87562763149475,466.9047011971501,596.5232602338319,409.87803063838396,413.52146256270663,441.5880433163923,449.31058300467396,380.7886552931954,453.8722287164087,279.28480087537883,566.4803615307419,398.74804074753774,424.26406871192853,360.416425818802,387.2983346207417,413.6834538629748,388.58718455450895,316.22776601683796,809.3207028119323,493.4571916590131,514.78150704935,632.4555320336759,522.3025942880238,504.9752469181039,469.041575982343,880.3408430829504,482.7007354458868,465.8079003194343,494.9747468305833,398.74804074753774,851.46931829632,517.9768334587948,398.74804074753774,393.70039370059055,587.3670062235366,406.4480286580315,430.11626335213134,474.8684028233506,648.074069840786,469.041575982343,787.4007874011811,509.9019513592785,599.9166608788257,612.3724356957945,550.3635162326806,418.33001326703777,509.9019513592785,519.6152422706632,696.419413859206,447.21359549995793,605.8052492344384,418.33001326703777,450.55521304275237,412.31056256176606,612.3724356957945,399.8749804626441,479.58315233127195,612.3724356957945,648.8451279003334,466.9047011971501,409.69500851242987,502.4937810560445,806.2257748298549,616.4414002968977,463.14144707637644,467.43983570080974,417.1330722922842,474.3416490252569,556.5518843737751,811.3568881817667,450.55521304275237,612.3724356957945,250.0,452.76925690687085,290.68883707497264,529.6225070746144,426.6145801540308,755.6454194925025,409.87803063838396,594.9789912257406,487.8524367060187,426.6145801540308,467.43983570080974,476.9696007084728,612.3724356957945,632.376470150495,600.0,642.2616289332565,518.1698563212645,547.9963503528103,618.4658438426491,434.7413023856832,543.1390245600107,469.041575982343,472.2287581247038,631.6644678941502,411.6794869798591,589.7033152357209,674.5368781616021,499.8999899979995,500.0,514.78150704935,818.535277187245,441.5880433163923,600.0,418.33001326703777,408.0441152620633,436.0045871318328,424.85291572496004,663.32495807108,412.31056256176606,469.041575982343,265.5183609470351,254.95097567963924,357.0714214271425,393.70039370059055,505.47007824400447,368.7817782917155,451.6635916254486,447.21359549995793,403.732584763727,386.45827717879195,484.7679857416329,509.9019513592785,458.257569495584,399.8749804626441,457.16517802649844,367.4234614174767,447.21359549995793,657.723346096214,441.5880433163923,406.201920231798,444.97190922573975,467.9743582719036,655.7438524302,346.41016151377545,611.3386949964806,428.78082979536293,462.06060208591686,393.70039370059055,443.8468204234429,626.4974062196906,479.4788837894741,537.8196723809942,435.7751713900185,630.2380502635492,624.0232367468378,367.4234614174767,417.1330722922842,724.568837309472,367.4234614174767,641.8722614352484,431.2771730569565,673.7469851509542,595.8187643906492,431.2771730569565,443.8468204234429,424.26406871192853,421.90046219457975,552.268050859363,511.8593556827891,474.3416490252569,634.8543139965263,623.2976816898969,645.7553716385177,640.3124237432849,412.31056256176606,543.1390245600107,464.75800154489,470.7961342237211,447.1017781221631,680.44103344816,382.7531841800928,474.3416490252569,400.0,524.4568619057243,561.7054388200278,568.9982425280416,409.2676385936225,522.2058980900158,421.30748865881793,357.77087639996637,563.1207685745572,380.13155617496426,509.9019513592785,493.9635614091388,536.6460658571905,398.74804074753774,408.656334834051,589.9152481501051,374.16573867739413,380.7886552931954,387.87884706438945,479.58315233127195,383.957028845677,472.2287581247038,409.2676385936225,546.8089245796926,485.69537778323564,383.40579025361626,552.268050859363,392.42833740697165,386.00518131237567,547.9771893062702,527.2570530585627,449.44410108488466,573.116916518785,430.11626335213134,357.77087639996637,578.7918451395112,385.87562763149475,479.4788837894741,463.6809247747852,502.99105359837165,551.4208918784271,471.16875957558983,406.201920231798,524.4044240850758,570.087712549569,637.1812928829596,479.58315233127195,353.5533905932738,384.7076812334269,528.2045058497703,500.0,561.1951532221211,407.308237088326,387.2983346207417,364.6916505762094,393.70039370059055,469.041575982343,478.53944456021594,420.7136793592526,346.41016151377545,441.5880433163923,561.5790238247864,370.1351104664349,475.0789408087881,452.658811910251,435.3159771935783,611.5553940568262,564.8008498577176,542.3098745182499,663.8975824628374,357.77087639996637,489.3924805307086,376.4306044943742,464.2197755374064,565.8710100367398,522.9674942097262,506.31018160807315,504.9752469181039,352.1363372331802,541.2947441089743,383.40579025361626,533.4744604945957,585.0376056289032,478.53944456021594,465.72524088780074,406.07881008493905,386.00518131237567,387.2983346207417,463.67014137207497,415.9326868617084,387.1692136521188,393.70039370059055,412.31056256176606,487.3397172404482,545.036696012296,584.9803415500387,587.5916949719423,570.1280557909776,605.8052492344384,399.8749804626441,380.7886552931954,522.0153254455275,404.0482644437419,564.8008498577176,400.74929819027756,495.9838707054898,391.1521443121589,543.1390245600107,398.74804074753774,385.22720568516445,557.6737397439474,560.357029044876,500.0,386.00518131237567,554.8783650494944,472.2287581247038,467.9743582719036,421.90046219457975,543.9898896119302,375.71265616159377,479.4788837894741,504.8762224545735,354.96478698597696,420.11903075200007,402.24370722237535,334.9626844888845,393.06488014067094,547.7225575051662,453.8722287164087,506.951674225463,426.6145801540308,401.24805295477756,419.52353926806063,420.90378948163436,595.871630470859,461.51923036857306,516.2363799656123,533.8539126015655,422.965719651132,547.7225575051662,459.34736311423404,671.5653356152326,448.7761134463375,442.60591952661457,435.88989435406734,387.2983346207417,453.8722287164087,533.8539126015655,346.41016151377545,614.4102863722254,583.09518948453,489.89794855663564,543.1390245600107,463.6809247747852,524.4044240850758,434.7413023856832,394.96835316262997,640.3124237432849,514.2956348249517,381.444622455213,341.32096331752024,514.2956348249517,463.6809247747852,512.8352561983233,492.9503017546495,450.55521304275237,578.7918451395112,620.4836822995428,458.257569495584,392.42833740697165,393.70039370059055,406.201920231798,547.7225575051662,489.89794855663564,426.6145801540308,440.45431091090484,640.3124237432849,529.1502622129182,484.7679857416329,430.11626335213134,408.656334834051,454.4227107000705,406.201920231798,479.58315233127195,484.7679857416329,447.7722635447622,556.7764362830022,412.18927691049896,458.8027898781785,552.268050859363,712.7411872482185,469.041575982343,505.9644256269407,443.7341546466758,482.7007354458868,374.16573867739413,403.6087214122113,421.90046219457975,514.78150704935,674.4627491566899,463.6809247747852,497.9959839195493,628.4902544988267,414.1255848169731,517.6871642217914,408.0441152620633,595.8187643906492,406.201920231798,547.7225575051662,591.6079783099616,529.055762656452,514.78150704935,516.7204273105525,484.7679857416329,547.6312628037227,408.656334834051,409.87803063838396,387.2983346207417,504.9752469181039,674.5368781616021,592.5369186810219,561.2486080160912,469.041575982343,398.74804074753774,583.9520528262573,525.3570214625479,555.8776843874919,465.85512769529544,434.1658669218482,565.685424949238,496.9909455915671,407.43097574926725,485.7983120596448,483.6320915737499,403.4104609451768,474.3416490252569,600.0,530.5845832664195,604.1522986797286,561.2486080160912,545.8021619598076,519.6152422706632,509.9019513592785,268.32815729997475,479.06158268013934,524.4044240850758,393.70039370059055,474.9421017345167,473.2863826479693,538.5164807134504,511.8593556827891,565.5970296951708,514.78150704935,504.9752469181039,466.1544808322666,539.4441583704471,564.8008498577176,521.0566188045211,474.23622805517505,509.9019513592785,447.1017781221631,502.65196707065616,559.0169943749474,538.5164807134504,393.70039370059055,595.8187643906492,435.88989435406734,360.5551275463989,513.8093031466052,440.43160649526504,468.9349635077342,685.4925236645546,560.5622177778306,372.6929030716845,400.0,477.4934554525329,473.7087712930805,364.5133742402328,368.23905279043936,388.0721582386451,578.7918451395112,562.3610939600997,425.7698909035255,397.4921382870358,470.1063709417263,479.58315233127195,546.8089245796926,384.7076812334269,517.20402163943,508.9204259999789,566.5686189686118,640.14842029017,428.9522117905443,380.7886552931954,556.7764362830022,412.31056256176606,458.8027898781785,447.1017781221631,387.2983346207417,391.1521443121589,577.9273310719956,465.72524088780074,508.9204259999789,489.89794855663564,431.3119520718154,450.55521304275237,504.9752469181039,344.9637662132068,510.6858133921482,411.0960958218893,474.3416490252569,352.1363372331802,494.9747468305833,500.0,414.7288270665544,391.7907604831947,406.201920231798,398.74804074753774,414.1255848169731,489.89794855663564,639.9609363078343,549.5452665613634,533.8539126015655,621.2084996198942,374.9599978664391,461.51923036857306,578.7918451395112,538.5164807134504,514.78150704935,577.9273310719956,618.3898446772877,386.39358172723314,460.43457732885355,441.5880433163923,494.9747468305833,650.1384467942194,489.89794855663564,394.96835316262997,514.78150704935,577.9273310719956,618.3898446772877,386.39358172723314,460.43457732885355,441.5880433163923,414.24630354415956,494.9747468305833,531.0367218940702,509.9019513592785,504.47993022517755,424.1462012089699,504.9752469181039,514.78150704935,417.1330722922842,567.4504383644443,580.5170109479997,470.5847426340977,496.9909455915671,424.26406871192853,479.4788837894741,479.58315233127195,622.8964600958975,591.6079783099616,411.9465984809196,435.88989435406734,563.4713834792323,264.5751311064591,547.7225575051662,381.3135192987524,428.3689998120779,525.2618394667559,660.3203767869048,565.5970296951708,498.998997994986,537.5872022286245,533.8539126015655,441.47480109288233,353.5533905932738,333.61654635224556],\"xaxis\":\"x2\",\"yaxis\":\"y2\",\"type\":\"box\"}],                        {\"template\":{\"data\":{\"pie\":[{\"automargin\":true,\"type\":\"pie\"}]},\"layout\":{\"xaxis\":{\"showgrid\":true,\"title\":{\"standoff\":15}},\"yaxis\":{\"showgrid\":true,\"title\":{\"standoff\":15}}}},\"xaxis\":{\"anchor\":\"y\",\"domain\":[0.0,1.0],\"title\":{\"text\":\"x\"}},\"yaxis\":{\"anchor\":\"x\",\"domain\":[0.0,0.8316],\"title\":{\"text\":\"count\"}},\"xaxis2\":{\"anchor\":\"y2\",\"domain\":[0.0,1.0],\"matches\":\"x\",\"showticklabels\":false},\"yaxis2\":{\"anchor\":\"x2\",\"domain\":[0.8416,1.0],\"matches\":\"y2\",\"showticklabels\":false,\"showline\":false,\"ticks\":\"\"},\"legend\":{\"tracegroupgap\":0},\"title\":{\"text\":\"Transformaci\\u00f3n ra\\u00edz cuadrada\"},\"barmode\":\"relative\"},                        {\"responsive\": true}                    ).then(function(){\n",
              "                            \n",
              "var gd = document.getElementById('cc4c2bd4-dc3e-487c-98e2-68c7f2cdab2b');\n",
              "var x = new MutationObserver(function (mutations, observer) {{\n",
              "        var display = window.getComputedStyle(gd).display;\n",
              "        if (!display || display === 'none') {{\n",
              "            console.log([gd, 'removed!']);\n",
              "            Plotly.purge(gd);\n",
              "            observer.disconnect();\n",
              "        }}\n",
              "}});\n",
              "\n",
              "// Listen for the removal of the full notebook cells\n",
              "var notebookContainer = gd.closest('#notebook-container');\n",
              "if (notebookContainer) {{\n",
              "    x.observe(notebookContainer, {childList: true});\n",
              "}}\n",
              "\n",
              "// Listen for the clearing of the current output cell\n",
              "var outputEl = gd.closest('.output');\n",
              "if (outputEl) {{\n",
              "    x.observe(outputEl, {childList: true});\n",
              "}}\n",
              "\n",
              "                        })                };                            </script>        </div>\n",
              "</body>\n",
              "</html>"
            ]
          },
          "metadata": {}
        }
      ]
    },
    {
      "cell_type": "code",
      "metadata": {
        "colab": {
          "base_uri": "https://localhost:8080/",
          "height": 542
        },
        "id": "MURvysTK0bYR",
        "outputId": "e80de27f-82d3-49ba-ed7e-a1954165bcd0"
      },
      "source": [
        "px.histogram(datos, \n",
        "             x = np.log(datos.precio),\n",
        "             title=\"Transformación logarítmica\", \n",
        "             color_discrete_sequence = [\"olive\"], # color \n",
        "             marginal=\"rug\",\n",
        "             template=\"gridon\")"
      ],
      "execution_count": 16,
      "outputs": [
        {
          "output_type": "display_data",
          "data": {
            "text/html": [
              "<html>\n",
              "<head><meta charset=\"utf-8\" /></head>\n",
              "<body>\n",
              "    <div>            <script src=\"https://cdnjs.cloudflare.com/ajax/libs/mathjax/2.7.5/MathJax.js?config=TeX-AMS-MML_SVG\"></script><script type=\"text/javascript\">if (window.MathJax && window.MathJax.Hub && window.MathJax.Hub.Config) {window.MathJax.Hub.Config({SVG: {font: \"STIX-Web\"}});}</script>                <script type=\"text/javascript\">window.PlotlyConfig = {MathJaxConfig: 'local'};</script>\n",
              "        <script src=\"https://cdn.plot.ly/plotly-2.12.1.min.js\"></script>                <div id=\"8af21e4c-5d91-465a-80f5-6e600320e067\" class=\"plotly-graph-div\" style=\"height:525px; width:100%;\"></div>            <script type=\"text/javascript\">                                    window.PLOTLYENV=window.PLOTLYENV || {};                                    if (document.getElementById(\"8af21e4c-5d91-465a-80f5-6e600320e067\")) {                    Plotly.newPlot(                        \"8af21e4c-5d91-465a-80f5-6e600320e067\",                        [{\"alignmentgroup\":\"True\",\"bingroup\":\"x\",\"hovertemplate\":\"x=%{x}<br>count=%{y}<extra></extra>\",\"legendgroup\":\"\",\"marker\":{\"color\":\"olive\",\"pattern\":{\"shape\":\"\"}},\"name\":\"\",\"offsetgroup\":\"\",\"orientation\":\"v\",\"showlegend\":false,\"x\":[11.794337924408413,12.106887467608836,11.59910316121128,11.951180395901384,11.362800006392591,11.695247021764184,11.938193200374572,12.043553716032399,11.407564949312402,11.719126295554126,12.691580461311874,11.695247021764184,11.360473341778551,11.48246625748552,11.751942365440728,11.406453220459712,11.951180395901384,12.444104809338134,11.002099841204238,11.379394072345706,11.626254150277232,11.560762794384388,11.90924891516111,11.918390573078392,11.411999546380267,12.424404639847161,11.813030057420567,11.884489021402711,13.032438669876342,11.84939770159144,11.77528972943772,12.138863895836725,12.341477282536376,12.332705296463539,12.100156419938624,12.042965307660024,12.254386505808725,12.042965307660024,12.587927887999204,12.412680228204284,11.964001084330445,12.180754837545884,11.918390573078392,12.366915170647005,12.540936446454792,12.415117272464881,11.728036844587175,11.835008964139341,12.577636201962656,11.589886506106357,11.812289042195847,11.074420502783864,11.863582336583399,11.736069016284437,11.385092093460344,11.813030057420567,11.407564949312402,11.40867544359643,11.751154653702478,12.072541252905651,11.970350312009105,11.429543856031177,11.32418334037335,11.84939770159144,12.049418835484797,12.209267536426692,11.842229212112828,12.323855681186558,12.111761966058932,12.248974076523028,12.133501952695338,11.440354772135393,12.458332182610581,11.9891596439666,11.429543856031177,12.259622891086266,11.652687407345388,11.635143097694478,12.28442161194115,11.884489021402711,11.643953727376633,11.842588859662111,11.55214617812351,12.042965307660024,12.088976873653927,11.79810440720389,12.128111104060462,11.652687407345388,11.512925464970229,11.669929213779893,11.918390573078392,12.141534124392603,11.580584113444043,11.751154653702478,11.898187865760873,11.03488966402723,11.522875795823397,11.874090314181814,11.638676670275789,11.242690306122169,11.608235644774552,11.385092093460344,11.589886506106357,11.651817463836847,11.891361900690473,12.323855681186558,11.835008964139341,12.29257139114679,10.126631103850338,11.626254150277232,11.630708500626612,11.48246625748552,11.703545824578878,11.093158572151204,12.323855681186558,12.165250651009918,11.973509872299472,12.417143615610113,12.174463292345319,11.824079893607152,11.225243392518447,10.714417768752456,12.400816722322686,11.407564949312402,11.970350312009105,12.066810578196666,11.918390573078392,11.980739198142928,11.842675155830614,11.349818127100079,11.532728092266408,12.072541252905651,11.2708539037705,12.356550875876534,11.448973438477712,11.694413341015606,11.891361900690473,11.736069016284437,11.813030057420567,11.967180737247824,11.813030057420567,11.869900363917958,12.468052220629582,11.350406535472453,12.102804384025788,12.004568269319446,11.575900264131617,11.652687407345388,11.652687407345388,11.813030057420567,12.200557464842063,11.842229212112828,12.235631447771718,11.695247021764184,12.235534355679793,12.524526376648708,11.842229212112828,11.406453220459712,11.848683160653573,12.059600741629916,11.820410164718188,12.506177237980511,12.066810578196666,12.845291484064564,12.854483932248728,11.883799128308773,12.765402678355779,11.79810440720389,11.652687407345388,12.264105676780783,12.336276006395325,12.010057761604216,12.736700896592344,11.848683160653573,12.542187675503545,12.323855681186558,11.881034786534624,12.801358895886233,12.417143615610113,11.695247021764184,11.820410164718188,12.339291489316397,12.000277732550577,12.345834587905333,11.659619844121032,12.072541252905651,12.479939728948226,11.891361900690473,12.230277334226992,12.487485104968359,12.028738630247258,12.230765258120545,12.043553716032399,12.078239274020289,11.790557201568507,11.657025808943985,11.918390573078392,11.695247021764184,11.736069016284437,11.918390573078392,12.800393471783224,11.801856756822442,11.418614785498987,11.55214617812351,11.904967552746252,12.111761966058932,11.934919875029603,11.48246625748552,11.635143097694478,12.05524975579559,12.100156419938624,11.33857207782545,11.677592086525463,12.083905011555967,11.585246126549855,11.434963923500517,11.541512921822141,11.811547477460344,11.918390573078392,12.013700752882718,11.695247021764184,12.086725887897607,12.611537753638338,11.72399643505017,11.856515169360305,11.5655179150894,11.518907536647776,11.598185308921051,11.566466231898259,11.607326140391713,12.05931126413477,12.022750588402635,11.56171562913966,13.102160670086809,11.695247021764184,11.585246126549855,11.666504552898529,11.082142548877775,11.678439903447801,11.660483029327843,11.512925464970229,12.049418835484797,12.144197241812087,11.84939770159144,11.732060994886899,11.582451527618838,11.585246126549855,12.100712129872347,12.275248833546957,11.766404216080511,12.248653093065291,11.848683160653573,12.765688433465597,11.589886506106357,11.657025808943985,11.813030057420567,11.813030057420567,11.584315461056901,12.358793732547838,11.56171562913966,12.721885810807203,11.842229212112828,12.25247901834433,11.522875795823397,11.258033215341438,11.921718363171067,12.025749091398891,11.643953727376633,11.982929094215963,11.350406535472453,11.870599909242044,11.744037185933616,11.84939770159144,11.84939770159144,12.230765258120545,11.288531131754366,11.842229212112828,12.154779351142624,11.928340903931561,11.487607656985938,12.178187442040638,12.181575013929773,11.934919875029603,11.979799201207037,12.128111104060462,12.388394202324129,12.143665185401556,12.476099782743233,12.266697267346608,12.301382825334498,12.409013489526863,11.695247021764184,11.5376180775606,11.820410164718188,12.266697267346608,12.235145893015881,12.468052220629582,12.162643087602838,12.515393893085436,12.162643087602838,11.970350312009105,12.180754837545884,12.141534124392603,11.982929094215963,11.831379196088763,11.607326140391713,11.350406535472453,12.12459140366229,11.809319478024031,11.95053502640496,12.449018824140563,12.382543788645952,11.571194373094205,13.345506928718539,12.180754837545884,12.034691028774553,11.37366339763672,12.2783933071098,12.193493863323313,12.2783933071098,11.678439903447801,12.143665185401556,12.524526376648708,12.428816116823043,12.506177237980511,11.969717200243734,11.695247021764184,11.747206760694894,12.301382825334498,12.100712129872347,12.223912563658505,12.428816116823043,12.170445467887022,12.2783933071098,12.211060187041213,11.082142548877775,12.180754837545884,12.282570616502898,11.429543856031177,11.951180395901384,11.72399643505017,11.611865412825132,12.200557464842063,11.918390573078392,11.55214617812351,12.409013489526863,12.100712129872347,11.946654038351252,12.043553716032399,12.296827008798639,12.594730635321957,12.109010932687042,12.468436909997665,12.387977448827787,11.816726919301892,12.162643087602838,12.323855681186558,11.49781182716018,11.612770799939945,12.577636201962656,12.12486259010463,12.092343880201831,12.936033799212835,12.40860524294026,11.918390573078392,12.031719258385396,11.976659481202368,11.751942365440728,12.072541252905651,12.449998736026911,12.072541252905651,12.367340793126296,12.688498794774466,12.061046873479915,11.66907414746016,11.570250531589497,11.626254150277232,12.367340793126296,12.367340793126296,11.77528972943772,12.367340793126296,12.16472968199579,12.559893520486,12.721885810807203,11.84939770159144,12.160028707028767,11.938193200374572,12.185869938212655,12.421184025147118,12.388394202324129,11.790557201568507,12.201060103706629,12.287652632522597,12.025749091398891,12.409013489526863,12.788288265382837,12.929991484756872,12.245293358683455,12.506177237980511,11.512925464970229,11.77528972943772,12.114505452004684,11.842229212112828,11.55214617812351,12.30591798049989,12.468436909997665,12.114505452004684,12.185869938212655,11.790557201568507,12.323411137947407,12.205572520488492,12.018748597113428,12.14950229404178,11.406453220459712,12.367340793126296,12.01974306733868,11.938846581645775,11.99535161421452,12.319401330837177,12.312232841358565,12.201060103706629,12.01974306733868,11.917723684090689,11.931635799828413,11.998433280751929,12.524162674153336,11.512925464970229,12.2783933071098,11.728036844587175,11.736069016284437,11.835008964139341,12.323855681186558,12.100712129872347,12.154252896800378,12.983101310070822,11.695247021764184,12.0015054797889,11.782952602183288,11.747997587149712,11.715866308966918,12.959844447906553,12.323855681186558,12.250089530946948,12.15003125464655,12.560244459250788,12.493504686726745,11.289781913656018,12.323855681186558,11.976659481202368,11.694413341015606,11.782188951897991,12.179061096283323,11.184421397998193,11.882417912619575,11.845819880243557,12.672946381766982,12.759957758756611,12.154252896800378,9.903487552536127,11.002099841204238,12.097930486910471,11.800357506166801,11.938193200374572,11.625360894300016,12.138863895836725,11.973509872299472,11.938193200374572,12.154779351142624,12.396693005138824,12.365210866868471,12.323855681186558,12.013700752882718,11.77452020265869,12.66032791780777,11.77452020265869,12.456831363877356,12.688498794774466,13.16158409055761,11.92114677127211,12.577636201962656,11.626254150277232,12.128111104060462,12.594730635321957,12.577636201962656,11.288531131754366,12.4529327234617,12.409013489526863,11.84939770159144,12.513557345278134,12.007621706806335,12.114505452004684,12.300928176542852,12.691580461311874,12.771386454580234,12.66032791780777,11.944707881395766,12.201060103706629,12.216022976383341,12.584509081250419,11.666504552898529,11.951180395901384,12.2783933071098,12.830646509434873,12.465131452988938,12.589854358807179,12.562200439809828,12.520737389311842,12.128111104060462,12.154779351142624,12.049418835484797,12.245293358683455,12.031719258385396,12.013700752882718,11.83862560460953,12.100156419938624,12.100712129872347,11.626254150277232,11.931635799828413,11.512925464970229,11.944707881395766,11.79810440720389,12.560244459250788,11.835008964139341,12.621488084491506,12.429216196844383,12.028738630247258,12.154779351142624,12.114505452004684,11.580584113444043,12.180754837545884,12.037653993905211,11.957611286231675,11.695247021764184,12.043553716032399,12.428555978948504,12.144702433330295,12.080792829103416,12.683166703172121,11.911701584927597,11.461632170582678,12.198544379109382,12.128111104060462,12.037062102795892,12.301382825334498,11.77452020265869,12.025749091398891,12.706847933442663,12.724866438945341,13.147974592340589,12.341477282536376,11.884489021402711,11.542484267211773,12.254862809699606,13.233904752137237,12.292250341771226,12.476626361633484,11.736069016284437,11.77528972943772,11.967180737247824,12.170445467887022,12.524526376648708,12.388394202324129,12.20675241443493,12.886641043883259,12.8123075351004,11.543939518499398,12.644327576461329,11.869900363917958,12.79322021736693,11.744037185933616,13.541073712262515,12.551433829568632,11.790557201568507,12.691580461311874,12.240474072247506,11.951180395901384,12.706847933442663,11.530372378573949,13.114331205707064,12.128111104060462,11.736069016284437,12.56374708980199,12.502466658583977,12.622721646772955,12.824401986655612,12.569325904829029,11.782952602183288,12.138863895836725,12.037653993905211,11.801856756822442,13.337474757021274,13.216316272878508,12.542544882151386,11.813030057420567,12.18274260421779,12.727897554754533,12.709420379440205,12.42317800359205,11.695247021764184,12.388394202324129,12.367340793126296,13.122513366155454,12.388394202324129,12.506177237980511,12.323855681186558,12.542544882151386,12.323855681186558,12.422070728683511,12.524526376648708,11.827736204810263,11.918390573078392,13.383187995686226,12.180754837545884,12.829869747955327,12.040313177035197,11.878956503832987,12.154252896800378,12.01974306733868,11.982929094215963,12.698800487923965,12.417143615610113,12.669806661762314,12.739637756265655,12.57297016048908,11.964001084330445,13.01477816672439,11.863582336583399,12.871334622600584,13.073173133213556,12.42613144388246,11.848683160653573,12.617851115694931,12.959844447906553,11.703545824578878,11.918390573078392,11.835008964139341,12.205572520488492,11.884489021402711,13.049792684569493,11.970350312009105,12.834681304952548,11.903500260583197,12.733755386362587,12.495003937382387,12.577636201962656,12.510962068694663,12.535879863032601,11.835008964139341,12.814478597635029,12.968046017019972,11.84939770159144,11.84939770159144,11.884489021402711,12.542544882151386,12.156882401339402,12.495003937382387,12.01309450854769,12.542544882151386,12.323855681186558,11.904967552746252,12.013700752882718,12.73803823724768,11.79810440720389,11.657372069335256,12.388394202324129,13.304684934198283,11.177452728682098,12.154252896800378,12.691580461311874,12.542544882151386,12.449018824140563,12.611537753638338,11.571194373094205,11.842229212112828,12.013700752882718,12.037653993905211,11.979172045338252,12.611537753638338,11.9891596439666,12.348006141418841,12.301382825334498,12.088976873653927,12.765688433465597,12.721885810807203,13.299982227118067,12.061046873479915,13.15773052124162,12.26434155365415,11.917723684090689,11.856217252647102,11.461632170582678,11.992879425069132,12.769680454735134,11.951180395901384,12.198544379109382,12.528156144699286,12.025749091398891,12.332705296463539,12.911889229190782,12.886641043883259,12.793859310432293,13.560618308335483,12.560244459250788,12.611537753638338,12.273731294003989,12.341477282536376,12.706847933442663,11.891361900690473,12.851866129706648,12.971540487669746,13.38472764187182,12.178187442040638,12.538967060803502,12.117241431823558,12.180754837545884,13.060487973686241,12.025749091398891,12.64199582778907,12.289954129510877,12.206072645530174,12.20604764521767,12.095141084822892,12.70381302974751,12.834414602724003,12.013700752882718,13.380101573483037,12.66032791780777,12.245293358683455,12.911642346088676,13.190022025878143,12.122799726336352,11.461632170582678,11.379965337713998,11.782952602183288,11.751942365440728,11.558806640226416,11.695247021764184,12.537173338349476,11.231887935237117,11.710956315469362,12.245293358683455,11.925035115797062,11.835008964139341,12.341477282536376,11.77528972943772,11.406453220459712,11.884489021402711,11.362102575235644,11.461632170582678,12.180754837545884,11.583616893092762,11.782952602183288,12.025150109649926,11.751942365440728,11.686878772093667,11.435061216064739,12.066810578196666,12.100712129872347,11.951180395901384,11.894780707439258,11.998433280751929,12.254862809699606,12.013700752882718,11.719939634354555,11.918390573078392,11.766792188927278,11.386227811924272,12.072541252905651,11.70333919166152,11.90187493770046,11.678439903447801,12.201060103706629,11.288531131754366,12.538967060803502,11.407564949312402,11.428456308343778,11.938193200374572,12.043553716032399,11.885867381372833,12.598114733306197,11.918390573078392,11.362102575235644,11.678439903447801,11.951180395901384,12.312682380588432,12.429216196844383,12.80765263256463,11.695247021764184,12.170445467887022,11.357066660461616,11.314474526246391,12.323855681186558,12.388394202324129,12.366915170647005,11.626254150277232,12.47227568630483,12.89921982609012,12.644327576461329,12.111761966058932,12.141534124392603,12.911642346088676,12.948009990259552,12.791077667470416,11.695247021764184,12.052338545588132,11.982303898822046,12.136186518066006,12.468436909997665,11.652687407345388,12.160028707028767,12.781182070495367,12.736406735684207,11.407564949312402,12.409013489526863,12.678884827097948,11.976659481202368,12.071969661006694,12.589632918250288,12.254862809699606,12.114505452004684,12.300928176542852,12.821258284620408,12.56374708980199,12.042965307660024,11.9891596439666,12.567237494741757,12.66032791780777,12.083905011555967,12.712890247898626,12.425208175446844,12.095141084822892,11.918390573078392,12.323855681186558,12.111761966058932,12.706544857216672,12.013700752882718,12.100712129872347,12.679196402112153,12.100712129872347,12.089538829274222,12.542187675503545,12.095141084822892,12.117241431823558,13.122363377404328,12.043553716032399,12.095141084822892,12.127570417375216,12.086725887897607,11.630708500626612,12.100712129872347,9.239899174217728,11.834284063781393,11.877568578558138,11.787522297873354,11.72399643505017,11.719939634354555,11.59910316121128,12.061046873479915,11.56171562913966,11.715866308966918,12.160028707028767,11.911701584927597,12.230765258120545,12.323855681186558,12.254862809699606,12.1489730534896,12.165250651009918,11.831379196088763,12.206072645530174,11.744037185933616,12.27606501735021,11.931635799828413,11.652687407345388,11.385092093460344,12.043553716032399,11.827736204810263,11.884489021402711,12.216022976383341,11.77528972943772,12.487485104968359,12.128111104060462,11.77528972943772,12.154779351142624,12.225875272826354,11.736069016284437,12.765402678355779,11.863582336583399,11.794337924408413,12.301382825334498,11.982929094215963,9.239899174217728,11.461632170582678,11.712227041798867,11.911701584927597,11.652687407345388,11.84939770159144,11.834284063781393,11.877568578558138,11.787522297873354,11.72399643505017,11.719939634354555,11.59910316121128,12.061046873479915,11.56171562913966,11.715866308966918,12.160028707028767,11.911701584927597,12.230765258120545,12.323855681186558,12.254862809699606,12.1489730534896,12.165250651009918,11.831379196088763,12.206072645530174,11.744037185933616,12.27606501735021,11.931635799828413,11.652687407345388,11.385092093460344,12.043553716032399,11.827736204810263,11.884489021402711,12.216022976383341,11.77528972943772,12.487485104968359,12.128111104060462,11.77528972943772,12.154779351142624,12.225875272826354,11.736069016284437,12.765402678355779,11.863582336583399,11.794337924408413,12.301382825334498,11.982929094215963,11.963363938721123,11.835008964139341,12.01974306733868,12.180754837545884,12.596762468056184,13.038981768465277,11.744037185933616,12.302745532790434,12.072541252905651,12.449018824140563,12.128111104060462,12.363076394339839,11.801856756822442,11.925035115797062,11.967180737247824,12.560244459250788,12.289954129510877,12.611537753638338,11.990556183878578,12.287652632522597,12.429216196844383,11.728036844587175,12.421184025147118,12.138863895836725,12.180754837545884,12.387977448827787,13.071070083016778,12.4130868149145,12.300928176542852,12.173032791451973,11.711776323715394,11.678439903447801,11.736069016284437,11.522875795823397,12.425208175446844,12.100712129872347,12.58621994565405,12.203569515312056,12.231252944060472,12.706847933442663,12.095141084822892,12.742566016044742,11.884489021402711,11.097410021008562,12.505806799006097,11.944707881395766,13.027832893558095,12.428816116823043,12.013700752882718,12.70381302974751,10.807442510649162,13.005829561148378,11.198214720130528,11.736069016284437,11.894780707439258,12.250089530946948,12.188417710291453,11.964001084330445,11.740061037553975,12.154779351142624,12.429216196844383,12.449018824140563,11.772979370304535,11.082142548877775,11.580584113444043,12.449018824140563,12.894207284266574,12.078239274020289,12.428816116823043,12.40860524294026,12.301382825334498,12.392552212472792,11.982303898822046,12.087035699056104,11.461632170582678,8.517193191416238,12.48710767526016,12.66032791780777,11.951180395901384,11.77528972943772,12.380025952653611,12.319401330837177,12.259613412458204,12.538967060803502,12.396693005138824,12.205447450136255,12.468052220629582,12.206072645530174,12.26434155365415,12.345834587905333,12.14950229404178,12.655985168373633,12.128111104060462,12.387977448827787,12.216022976383341,11.951180395901384,11.695247021764184,11.26446410567173,12.647548191161372,12.196022309676673,11.973509872299472,12.332705296463539,12.490875577231112,12.0015054797889,12.013700752882718,11.925035115797062,12.206072645530174,12.6112043647371,12.254862809699606,12.301382825334498,12.697409592712303,12.230277334226992,12.363076394339839,12.371587084007746,11.728036844587175,12.201562490052288,12.409013489526863,12.483704382128453,11.56171562913966,12.138863895836725,11.751942365440728,11.512925464970229,12.43320821811392,11.56171562913966,12.974443247327706,11.917723684090689,12.100712129872347,11.72399643505017,12.441144767709657,12.706847933442663,11.732060994886899,12.957960321112719,11.695247021764184,12.230765258120545,12.072541252905651,12.594730635321957,11.960811288962345,11.870599909242044,12.2783933071098,12.567237494741757,11.715866308966918,12.100712129872347,11.870599909242044,11.827736204810263,12.509874099861838,11.77452020265869,11.79810440720389,12.095141084822892,12.618182296357007,12.031719258385396,11.695247021764184,11.686878772093667,12.031719258385396,11.73526869611367,12.936033799212835,11.918390573078392,12.644327576461329,11.964001084330445,12.230765258120545,12.524526376648708,12.676076274775909,12.84792653170257,11.694413341015606,12.751299696013497,11.884489021402711,11.719939634354555,12.218495165528731,12.111761966058932,12.072541252905651,11.794337924408413,12.384218830913648,11.36355500831596,12.409013489526863,12.345399710751273,11.76756768334381,12.206072645530174,11.878956503832987,12.01974306733868,12.089538829274222,12.013700752882718,12.292250341771226,12.072541252905651,11.884489021402711,12.180754837545884,12.571198281574285,12.141534124392603,12.449018824140563,11.884489021402711,12.117241431823558,12.670781029678977,12.167851432709975,12.180754837545884,11.835008964139341,12.345834587905333,12.377922902456833,12.834681304952548,11.56171562913966,12.031719258385396,12.30591798049989,11.813030057420567,11.77452020265869,12.748687591785572,11.626254150277232,12.84792653170257,11.736069016284437,11.884489021402711,12.154779351142624,11.813030057420567,10.976782033219948,11.296012463406655,11.921120177649259,12.043553716032399,12.398967276526129,12.081076155355488,12.26434155365415,11.813030057420567,12.2783933071098,12.476099782743233,11.951180395901384,12.240474072247506,12.128111104060462,11.431715409544685,11.617285480294472,11.48246625748552,12.206072645530174,12.345834587905333,12.6112043647371,12.121902682443375,12.071969661006694,12.721885810807203,12.245293358683455,12.84792653170257,12.577291314909747,12.144197241812087,13.304684934198283,12.476099782743233,12.301382825334498,12.524526376648708,12.2783933071098,11.512925464970229,11.973509872299472,11.911030218672101,12.292250341771226,12.7822364706043,12.031719258385396,12.049418835484797,12.180754837545884,12.215428740454199,11.884489021402711,12.235631447771718,11.26446410567173,12.678884827097948,11.976659481202368,12.100712129872347,11.77452020265869,11.918390573078392,12.050202154341454,11.925035115797062,11.512925464970229,13.39239051461739,12.402872221504781,12.487485104968359,12.89921982609012,12.516494204951444,12.449018824140563,12.301382825334498,13.560618308335483,12.358793732547838,12.287546636121766,12.409013489526863,11.976659481202368,13.493926933836812,12.499861036413716,11.976659481202368,11.951180395901384,12.751299696013497,12.014912140069015,12.128111104060462,12.326075437924871,12.948009990259552,12.301382825334498,13.337474757021274,12.468436909997665,12.793581494067123,12.834681304952548,12.62115799701533,12.072541252905651,12.468436909997665,12.506177237980511,13.091904169919621,12.206072645530174,12.813117127036707,12.072541252905651,12.220961258023925,12.043553716032399,12.834681304952548,11.982303898822046,12.345834587905333,12.834681304952548,12.950388112664518,12.292250341771226,12.030826002408181,12.439166527697552,13.38472764187182,12.84792653170257,12.27606501735021,12.294541293517781,12.066810578196666,12.323855681186558,12.64352079949139,13.397416033455968,12.220961258023925,12.834681304952548,11.042921835724492,12.230765258120545,11.344506813345266,12.544329003944888,12.111761966058932,13.255144488638146,12.031719258385396,12.777052192115912,12.380025952653611,12.111761966058932,12.294541293517781,12.334905517373143,12.834681304952548,12.89896979483491,12.793859310432293,12.929991484756872,12.500606192931057,12.612537253971421,12.854483932248728,12.14950229404178,12.594730635321957,12.301382825334498,12.314927050442256,12.896716695872,12.040490204740495,12.759239109785689,13.028052697933088,12.428816116823043,12.429216196844383,12.487485104968359,13.415032991367148,12.180754837545884,12.793859310432293,12.072541252905651,12.022750588402635,12.15530552847652,12.103486056755072,12.994530005894443,12.043553716032399,12.301382825334498,11.16336798880036,11.082142548877775,11.755871643580617,11.951180395901384,12.450977688625896,11.820410164718188,12.225875272826354,12.206072645530174,12.0015054797889,11.914047823644255,12.367340793126296,12.468436909997665,12.254862809699606,11.982303898822046,12.250089530946948,11.813030057420567,12.206072645530174,12.977568792501096,12.180754837545884,12.013700752882718,12.196022309676673,12.296827008798639,12.971540487669746,11.695247021764184,12.831302269102387,12.121891804246545,12.271392111650817,11.951180395901384,12.190959007720126,12.880289268430653,12.345399710751273,12.575046645055924,12.154252896800378,12.892195211153155,12.872375212104878,11.813030057420567,12.066810578196666,13.17115354157376,11.813030057420567,12.928778628331663,12.133501952695338,13.025709294967257,12.779873068457553,12.133501952695338,12.190959007720126,12.100712129872347,12.089538829274222,12.628067055589549,12.476099782743233,12.323855681186558,12.906791091586436,12.87004844878984,12.94084150078094,12.92391243868049,12.043553716032399,12.594730635321957,12.283033686666302,12.308850328545608,12.205572520488492,13.045482333068371,11.894780707439258,12.323855681186558,11.982929094215963,12.524726356651374,12.661955164551927,12.687754690837293,12.028738630247258,12.516123901793586,12.086725887897607,11.759785542901755,12.66698822829869,11.881034786534624,12.468436909997665,12.404923504275338,12.570677563944212,11.976659481202368,12.025749091398891,12.759957758756611,11.84939770159144,11.884489021402711,11.921386082058191,12.345834587905333,11.90106128455657,12.314927050442256,12.028738630247258,12.608198852372823,12.371163265395767,11.898187865760873,12.628067055589549,11.944707881395766,11.911701584927597,12.61246732145627,12.535376392672774,12.216022976383341,12.702179477382083,12.128111104060462,11.759785542901755,12.721885810807203,11.911030218672101,12.345399710751273,12.2783933071098,12.441144767709657,12.624996773322493,12.310432660854417,12.013700752882718,12.524526376648708,12.691580461311874,12.91410843858387,12.345834587905333,11.736069016284437,11.904967552746252,12.538967060803502,12.429216196844383,12.660137423474401,12.019140476178535,11.918390573078392,11.79810440720389,11.951180395901384,12.301382825334498,12.341477282536376,12.083905011555967,11.695247021764184,12.180754837545884,12.66150500254941,11.827736204810263,12.326961962805628,12.230277334226992,12.152144303504619,12.832011076396668,12.672946381766982,12.591675124542087,12.996255788601713,11.759785542901755,12.38632957244191,11.861467425678772,12.28071618852594,12.676732309538039,12.519038619141414,12.454298977211847,12.449018824140563,11.728036844587175,12.587927887999204,11.898187865760873,12.558822395966343,12.74335225658423,12.341477282536376,12.287191696814967,12.01309450854769,11.911701584927597,11.918390573078392,12.278346794400193,12.061046873479915,11.917723684090689,11.951180395901384,12.043553716032399,12.377922902456833,12.601706249058383,12.74315648495851,12.752064620775247,12.69172198975779,12.813117127036707,11.982303898822046,11.884489021402711,12.515393893085436,12.003068674541018,12.672946381766982,11.986672080494799,12.4130868149145,11.938193200374572,12.594730635321957,11.976659481202368,11.907666609715417,12.647548191161372,12.65714826489039,12.429216196844383,11.911701584927597,12.63749785530787,12.314927050442256,12.296827008798639,12.089538829274222,12.597861322822094,11.857649277789207,12.345399710751273,12.448626590364206,11.744037185933616,12.081076155355488,11.994116283606528,11.628038272070732,11.947949375319936,12.611537753638338,12.235631447771718,12.456831363877356,12.111761966058932,11.9891596439666,12.078239274020289,12.084808558037135,12.780050517501273,12.269047444691562,12.493129522588037,12.560244459250788,12.09458226949681,12.611537753638338,12.259613412458204,13.019222618484815,12.213048259266598,12.185359603932632,12.154779351142624,11.918390573078392,12.235631447771718,12.560244459250788,11.695247021764184,12.841325847671216,12.736700896592344,12.388394202324129,12.594730635321957,12.2783933071098,12.524526376648708,12.14950229404178,11.957611286231675,12.92391243868049,12.48559653028049,11.887931365593685,11.665646551987892,12.48559653028049,12.2783933071098,12.479909311159902,12.400816722322686,12.220961258023925,12.721885810807203,12.86099861326992,12.254862809699606,11.944707881395766,11.951180395901384,12.013700752882718,12.611537753638338,12.388394202324129,12.111761966058932,12.175613438045465,12.92391243868049,12.542544882151386,12.367340793126296,12.128111104060462,12.025749091398891,12.238055691383224,12.013700752882718,12.345834587905333,12.367340793126296,12.20856952572876,12.644327576461329,12.042965307660024,12.257240932104573,12.628067055589549,13.138236726560619,12.301382825334498,12.4529327234617,12.190451264627217,12.358793732547838,11.84939770159144,12.000891794590137,12.089538829274222,12.487485104968359,13.027832893558095,12.2783933071098,12.421184025147118,12.886641043883259,12.052338545588132,12.498742259492994,12.022750588402635,12.779873068457553,12.013700752882718,12.611537753638338,12.765688433465597,12.542187675503545,12.487485104968359,12.495003937382387,12.367340793126296,12.6112043647371,12.025749091398891,12.031719258385396,11.918390573078392,12.449018824140563,13.028052697933088,12.768826362156524,12.66032791780777,12.301382825334498,11.976659481202368,12.739637756265655,12.528156144699286,12.641096555879882,12.287749402033825,12.146853285870202,12.676076274775909,12.417143615610113,12.01974306733868,12.371587084007746,12.36264895257227,11.999909114250649,12.323855681186558,12.793859310432293,12.547958771995466,12.80765263256463,12.66032791780777,12.604513138701373,12.506177237980511,12.468436909997665,11.184421397998193,12.343658308482738,12.524526376648708,11.951180395901384,12.326385811040183,12.319401330837177,12.577636201962656,12.476099782743233,12.675763725937609,12.487485104968359,12.449018824140563,12.289034166244521,12.581078546153629,12.672946381766982,12.511717418356127,12.323411137947407,12.468436909997665,12.205572520488492,12.439796032488125,12.652359748158593,12.577636201962656,11.951180395901384,12.779873068457553,12.154779351142624,11.77528972943772,12.483704382128453,12.175510339947534,12.300928176542852,13.060275185090907,12.657880480831292,11.841509528742435,11.982929094215963,12.337100907936577,12.321185452630678,11.797126485585354,11.817464654488433,11.92238259434793,12.721885810807203,12.664288319023868,12.107798076261833,11.970350312009105,12.30591798049989,12.345834587905333,12.608198852372823,11.904967552746252,12.496874845318198,12.464583340681674,12.679196402112153,12.92340011234181,12.122691036591123,11.884489021402711,12.644327576461329,12.043553716032399,12.257240932104573,12.205572520488492,11.918390573078392,11.938193200374572,12.718896271958837,12.287191696814967,12.464583340681674,12.388394202324129,12.133663230012033,12.220961258023925,12.449018824140563,11.686878772093667,12.471509109034635,12.037653993905211,12.323855681186558,11.728036844587175,12.409013489526863,12.429216196844383,12.05524975579559,11.941455846009388,12.013700752882718,11.976659481202368,12.052338545588132,12.388394202324129,12.922814274943748,12.618182296357007,12.560244459250788,12.863333547525711,11.853638695848696,12.269047444691562,12.721885810807203,12.577636201962656,12.487485104968359,12.718896271958837,12.85423815041286,11.913712983527281,12.26434155365415,12.180754837545884,12.409013489526863,12.954370670554967,12.388394202324129,11.957611286231675,12.487485104968359,12.718896271958837,12.85423815041286,11.913712983527281,12.26434155365415,12.180754837545884,12.052921466035999,12.409013489526863,12.54966234992025,12.468436909997665,12.447056114972714,12.100156419938624,12.449018824140563,12.487485104968359,12.066810578196666,12.682306824526545,12.727838209334498,12.307952109351344,12.417143615610113,12.100712129872347,12.345399710751273,12.345834587905333,12.86876061860541,12.765688433465597,12.041787451222318,12.154779351142624,12.668233097314884,11.156250521031495,12.611537753638338,11.887243844081556,12.119969946476761,12.527793760205377,12.985450273233395,12.675763725937609,12.425208175446844,12.57418196709457,12.560244459250788,12.180241885495652,11.736069016284437,11.619984537263637],\"xaxis\":\"x\",\"yaxis\":\"y\",\"type\":\"histogram\"},{\"alignmentgroup\":\"True\",\"boxpoints\":\"all\",\"fillcolor\":\"rgba(255,255,255,0)\",\"hoveron\":\"points\",\"hovertemplate\":\"x=%{x}<extra></extra>\",\"jitter\":0,\"legendgroup\":\"\",\"line\":{\"color\":\"rgba(255,255,255,0)\"},\"marker\":{\"color\":\"olive\",\"symbol\":\"line-ns-open\"},\"name\":\"\",\"offsetgroup\":\"\",\"showlegend\":false,\"x\":[11.794337924408413,12.106887467608836,11.59910316121128,11.951180395901384,11.362800006392591,11.695247021764184,11.938193200374572,12.043553716032399,11.407564949312402,11.719126295554126,12.691580461311874,11.695247021764184,11.360473341778551,11.48246625748552,11.751942365440728,11.406453220459712,11.951180395901384,12.444104809338134,11.002099841204238,11.379394072345706,11.626254150277232,11.560762794384388,11.90924891516111,11.918390573078392,11.411999546380267,12.424404639847161,11.813030057420567,11.884489021402711,13.032438669876342,11.84939770159144,11.77528972943772,12.138863895836725,12.341477282536376,12.332705296463539,12.100156419938624,12.042965307660024,12.254386505808725,12.042965307660024,12.587927887999204,12.412680228204284,11.964001084330445,12.180754837545884,11.918390573078392,12.366915170647005,12.540936446454792,12.415117272464881,11.728036844587175,11.835008964139341,12.577636201962656,11.589886506106357,11.812289042195847,11.074420502783864,11.863582336583399,11.736069016284437,11.385092093460344,11.813030057420567,11.407564949312402,11.40867544359643,11.751154653702478,12.072541252905651,11.970350312009105,11.429543856031177,11.32418334037335,11.84939770159144,12.049418835484797,12.209267536426692,11.842229212112828,12.323855681186558,12.111761966058932,12.248974076523028,12.133501952695338,11.440354772135393,12.458332182610581,11.9891596439666,11.429543856031177,12.259622891086266,11.652687407345388,11.635143097694478,12.28442161194115,11.884489021402711,11.643953727376633,11.842588859662111,11.55214617812351,12.042965307660024,12.088976873653927,11.79810440720389,12.128111104060462,11.652687407345388,11.512925464970229,11.669929213779893,11.918390573078392,12.141534124392603,11.580584113444043,11.751154653702478,11.898187865760873,11.03488966402723,11.522875795823397,11.874090314181814,11.638676670275789,11.242690306122169,11.608235644774552,11.385092093460344,11.589886506106357,11.651817463836847,11.891361900690473,12.323855681186558,11.835008964139341,12.29257139114679,10.126631103850338,11.626254150277232,11.630708500626612,11.48246625748552,11.703545824578878,11.093158572151204,12.323855681186558,12.165250651009918,11.973509872299472,12.417143615610113,12.174463292345319,11.824079893607152,11.225243392518447,10.714417768752456,12.400816722322686,11.407564949312402,11.970350312009105,12.066810578196666,11.918390573078392,11.980739198142928,11.842675155830614,11.349818127100079,11.532728092266408,12.072541252905651,11.2708539037705,12.356550875876534,11.448973438477712,11.694413341015606,11.891361900690473,11.736069016284437,11.813030057420567,11.967180737247824,11.813030057420567,11.869900363917958,12.468052220629582,11.350406535472453,12.102804384025788,12.004568269319446,11.575900264131617,11.652687407345388,11.652687407345388,11.813030057420567,12.200557464842063,11.842229212112828,12.235631447771718,11.695247021764184,12.235534355679793,12.524526376648708,11.842229212112828,11.406453220459712,11.848683160653573,12.059600741629916,11.820410164718188,12.506177237980511,12.066810578196666,12.845291484064564,12.854483932248728,11.883799128308773,12.765402678355779,11.79810440720389,11.652687407345388,12.264105676780783,12.336276006395325,12.010057761604216,12.736700896592344,11.848683160653573,12.542187675503545,12.323855681186558,11.881034786534624,12.801358895886233,12.417143615610113,11.695247021764184,11.820410164718188,12.339291489316397,12.000277732550577,12.345834587905333,11.659619844121032,12.072541252905651,12.479939728948226,11.891361900690473,12.230277334226992,12.487485104968359,12.028738630247258,12.230765258120545,12.043553716032399,12.078239274020289,11.790557201568507,11.657025808943985,11.918390573078392,11.695247021764184,11.736069016284437,11.918390573078392,12.800393471783224,11.801856756822442,11.418614785498987,11.55214617812351,11.904967552746252,12.111761966058932,11.934919875029603,11.48246625748552,11.635143097694478,12.05524975579559,12.100156419938624,11.33857207782545,11.677592086525463,12.083905011555967,11.585246126549855,11.434963923500517,11.541512921822141,11.811547477460344,11.918390573078392,12.013700752882718,11.695247021764184,12.086725887897607,12.611537753638338,11.72399643505017,11.856515169360305,11.5655179150894,11.518907536647776,11.598185308921051,11.566466231898259,11.607326140391713,12.05931126413477,12.022750588402635,11.56171562913966,13.102160670086809,11.695247021764184,11.585246126549855,11.666504552898529,11.082142548877775,11.678439903447801,11.660483029327843,11.512925464970229,12.049418835484797,12.144197241812087,11.84939770159144,11.732060994886899,11.582451527618838,11.585246126549855,12.100712129872347,12.275248833546957,11.766404216080511,12.248653093065291,11.848683160653573,12.765688433465597,11.589886506106357,11.657025808943985,11.813030057420567,11.813030057420567,11.584315461056901,12.358793732547838,11.56171562913966,12.721885810807203,11.842229212112828,12.25247901834433,11.522875795823397,11.258033215341438,11.921718363171067,12.025749091398891,11.643953727376633,11.982929094215963,11.350406535472453,11.870599909242044,11.744037185933616,11.84939770159144,11.84939770159144,12.230765258120545,11.288531131754366,11.842229212112828,12.154779351142624,11.928340903931561,11.487607656985938,12.178187442040638,12.181575013929773,11.934919875029603,11.979799201207037,12.128111104060462,12.388394202324129,12.143665185401556,12.476099782743233,12.266697267346608,12.301382825334498,12.409013489526863,11.695247021764184,11.5376180775606,11.820410164718188,12.266697267346608,12.235145893015881,12.468052220629582,12.162643087602838,12.515393893085436,12.162643087602838,11.970350312009105,12.180754837545884,12.141534124392603,11.982929094215963,11.831379196088763,11.607326140391713,11.350406535472453,12.12459140366229,11.809319478024031,11.95053502640496,12.449018824140563,12.382543788645952,11.571194373094205,13.345506928718539,12.180754837545884,12.034691028774553,11.37366339763672,12.2783933071098,12.193493863323313,12.2783933071098,11.678439903447801,12.143665185401556,12.524526376648708,12.428816116823043,12.506177237980511,11.969717200243734,11.695247021764184,11.747206760694894,12.301382825334498,12.100712129872347,12.223912563658505,12.428816116823043,12.170445467887022,12.2783933071098,12.211060187041213,11.082142548877775,12.180754837545884,12.282570616502898,11.429543856031177,11.951180395901384,11.72399643505017,11.611865412825132,12.200557464842063,11.918390573078392,11.55214617812351,12.409013489526863,12.100712129872347,11.946654038351252,12.043553716032399,12.296827008798639,12.594730635321957,12.109010932687042,12.468436909997665,12.387977448827787,11.816726919301892,12.162643087602838,12.323855681186558,11.49781182716018,11.612770799939945,12.577636201962656,12.12486259010463,12.092343880201831,12.936033799212835,12.40860524294026,11.918390573078392,12.031719258385396,11.976659481202368,11.751942365440728,12.072541252905651,12.449998736026911,12.072541252905651,12.367340793126296,12.688498794774466,12.061046873479915,11.66907414746016,11.570250531589497,11.626254150277232,12.367340793126296,12.367340793126296,11.77528972943772,12.367340793126296,12.16472968199579,12.559893520486,12.721885810807203,11.84939770159144,12.160028707028767,11.938193200374572,12.185869938212655,12.421184025147118,12.388394202324129,11.790557201568507,12.201060103706629,12.287652632522597,12.025749091398891,12.409013489526863,12.788288265382837,12.929991484756872,12.245293358683455,12.506177237980511,11.512925464970229,11.77528972943772,12.114505452004684,11.842229212112828,11.55214617812351,12.30591798049989,12.468436909997665,12.114505452004684,12.185869938212655,11.790557201568507,12.323411137947407,12.205572520488492,12.018748597113428,12.14950229404178,11.406453220459712,12.367340793126296,12.01974306733868,11.938846581645775,11.99535161421452,12.319401330837177,12.312232841358565,12.201060103706629,12.01974306733868,11.917723684090689,11.931635799828413,11.998433280751929,12.524162674153336,11.512925464970229,12.2783933071098,11.728036844587175,11.736069016284437,11.835008964139341,12.323855681186558,12.100712129872347,12.154252896800378,12.983101310070822,11.695247021764184,12.0015054797889,11.782952602183288,11.747997587149712,11.715866308966918,12.959844447906553,12.323855681186558,12.250089530946948,12.15003125464655,12.560244459250788,12.493504686726745,11.289781913656018,12.323855681186558,11.976659481202368,11.694413341015606,11.782188951897991,12.179061096283323,11.184421397998193,11.882417912619575,11.845819880243557,12.672946381766982,12.759957758756611,12.154252896800378,9.903487552536127,11.002099841204238,12.097930486910471,11.800357506166801,11.938193200374572,11.625360894300016,12.138863895836725,11.973509872299472,11.938193200374572,12.154779351142624,12.396693005138824,12.365210866868471,12.323855681186558,12.013700752882718,11.77452020265869,12.66032791780777,11.77452020265869,12.456831363877356,12.688498794774466,13.16158409055761,11.92114677127211,12.577636201962656,11.626254150277232,12.128111104060462,12.594730635321957,12.577636201962656,11.288531131754366,12.4529327234617,12.409013489526863,11.84939770159144,12.513557345278134,12.007621706806335,12.114505452004684,12.300928176542852,12.691580461311874,12.771386454580234,12.66032791780777,11.944707881395766,12.201060103706629,12.216022976383341,12.584509081250419,11.666504552898529,11.951180395901384,12.2783933071098,12.830646509434873,12.465131452988938,12.589854358807179,12.562200439809828,12.520737389311842,12.128111104060462,12.154779351142624,12.049418835484797,12.245293358683455,12.031719258385396,12.013700752882718,11.83862560460953,12.100156419938624,12.100712129872347,11.626254150277232,11.931635799828413,11.512925464970229,11.944707881395766,11.79810440720389,12.560244459250788,11.835008964139341,12.621488084491506,12.429216196844383,12.028738630247258,12.154779351142624,12.114505452004684,11.580584113444043,12.180754837545884,12.037653993905211,11.957611286231675,11.695247021764184,12.043553716032399,12.428555978948504,12.144702433330295,12.080792829103416,12.683166703172121,11.911701584927597,11.461632170582678,12.198544379109382,12.128111104060462,12.037062102795892,12.301382825334498,11.77452020265869,12.025749091398891,12.706847933442663,12.724866438945341,13.147974592340589,12.341477282536376,11.884489021402711,11.542484267211773,12.254862809699606,13.233904752137237,12.292250341771226,12.476626361633484,11.736069016284437,11.77528972943772,11.967180737247824,12.170445467887022,12.524526376648708,12.388394202324129,12.20675241443493,12.886641043883259,12.8123075351004,11.543939518499398,12.644327576461329,11.869900363917958,12.79322021736693,11.744037185933616,13.541073712262515,12.551433829568632,11.790557201568507,12.691580461311874,12.240474072247506,11.951180395901384,12.706847933442663,11.530372378573949,13.114331205707064,12.128111104060462,11.736069016284437,12.56374708980199,12.502466658583977,12.622721646772955,12.824401986655612,12.569325904829029,11.782952602183288,12.138863895836725,12.037653993905211,11.801856756822442,13.337474757021274,13.216316272878508,12.542544882151386,11.813030057420567,12.18274260421779,12.727897554754533,12.709420379440205,12.42317800359205,11.695247021764184,12.388394202324129,12.367340793126296,13.122513366155454,12.388394202324129,12.506177237980511,12.323855681186558,12.542544882151386,12.323855681186558,12.422070728683511,12.524526376648708,11.827736204810263,11.918390573078392,13.383187995686226,12.180754837545884,12.829869747955327,12.040313177035197,11.878956503832987,12.154252896800378,12.01974306733868,11.982929094215963,12.698800487923965,12.417143615610113,12.669806661762314,12.739637756265655,12.57297016048908,11.964001084330445,13.01477816672439,11.863582336583399,12.871334622600584,13.073173133213556,12.42613144388246,11.848683160653573,12.617851115694931,12.959844447906553,11.703545824578878,11.918390573078392,11.835008964139341,12.205572520488492,11.884489021402711,13.049792684569493,11.970350312009105,12.834681304952548,11.903500260583197,12.733755386362587,12.495003937382387,12.577636201962656,12.510962068694663,12.535879863032601,11.835008964139341,12.814478597635029,12.968046017019972,11.84939770159144,11.84939770159144,11.884489021402711,12.542544882151386,12.156882401339402,12.495003937382387,12.01309450854769,12.542544882151386,12.323855681186558,11.904967552746252,12.013700752882718,12.73803823724768,11.79810440720389,11.657372069335256,12.388394202324129,13.304684934198283,11.177452728682098,12.154252896800378,12.691580461311874,12.542544882151386,12.449018824140563,12.611537753638338,11.571194373094205,11.842229212112828,12.013700752882718,12.037653993905211,11.979172045338252,12.611537753638338,11.9891596439666,12.348006141418841,12.301382825334498,12.088976873653927,12.765688433465597,12.721885810807203,13.299982227118067,12.061046873479915,13.15773052124162,12.26434155365415,11.917723684090689,11.856217252647102,11.461632170582678,11.992879425069132,12.769680454735134,11.951180395901384,12.198544379109382,12.528156144699286,12.025749091398891,12.332705296463539,12.911889229190782,12.886641043883259,12.793859310432293,13.560618308335483,12.560244459250788,12.611537753638338,12.273731294003989,12.341477282536376,12.706847933442663,11.891361900690473,12.851866129706648,12.971540487669746,13.38472764187182,12.178187442040638,12.538967060803502,12.117241431823558,12.180754837545884,13.060487973686241,12.025749091398891,12.64199582778907,12.289954129510877,12.206072645530174,12.20604764521767,12.095141084822892,12.70381302974751,12.834414602724003,12.013700752882718,13.380101573483037,12.66032791780777,12.245293358683455,12.911642346088676,13.190022025878143,12.122799726336352,11.461632170582678,11.379965337713998,11.782952602183288,11.751942365440728,11.558806640226416,11.695247021764184,12.537173338349476,11.231887935237117,11.710956315469362,12.245293358683455,11.925035115797062,11.835008964139341,12.341477282536376,11.77528972943772,11.406453220459712,11.884489021402711,11.362102575235644,11.461632170582678,12.180754837545884,11.583616893092762,11.782952602183288,12.025150109649926,11.751942365440728,11.686878772093667,11.435061216064739,12.066810578196666,12.100712129872347,11.951180395901384,11.894780707439258,11.998433280751929,12.254862809699606,12.013700752882718,11.719939634354555,11.918390573078392,11.766792188927278,11.386227811924272,12.072541252905651,11.70333919166152,11.90187493770046,11.678439903447801,12.201060103706629,11.288531131754366,12.538967060803502,11.407564949312402,11.428456308343778,11.938193200374572,12.043553716032399,11.885867381372833,12.598114733306197,11.918390573078392,11.362102575235644,11.678439903447801,11.951180395901384,12.312682380588432,12.429216196844383,12.80765263256463,11.695247021764184,12.170445467887022,11.357066660461616,11.314474526246391,12.323855681186558,12.388394202324129,12.366915170647005,11.626254150277232,12.47227568630483,12.89921982609012,12.644327576461329,12.111761966058932,12.141534124392603,12.911642346088676,12.948009990259552,12.791077667470416,11.695247021764184,12.052338545588132,11.982303898822046,12.136186518066006,12.468436909997665,11.652687407345388,12.160028707028767,12.781182070495367,12.736406735684207,11.407564949312402,12.409013489526863,12.678884827097948,11.976659481202368,12.071969661006694,12.589632918250288,12.254862809699606,12.114505452004684,12.300928176542852,12.821258284620408,12.56374708980199,12.042965307660024,11.9891596439666,12.567237494741757,12.66032791780777,12.083905011555967,12.712890247898626,12.425208175446844,12.095141084822892,11.918390573078392,12.323855681186558,12.111761966058932,12.706544857216672,12.013700752882718,12.100712129872347,12.679196402112153,12.100712129872347,12.089538829274222,12.542187675503545,12.095141084822892,12.117241431823558,13.122363377404328,12.043553716032399,12.095141084822892,12.127570417375216,12.086725887897607,11.630708500626612,12.100712129872347,9.239899174217728,11.834284063781393,11.877568578558138,11.787522297873354,11.72399643505017,11.719939634354555,11.59910316121128,12.061046873479915,11.56171562913966,11.715866308966918,12.160028707028767,11.911701584927597,12.230765258120545,12.323855681186558,12.254862809699606,12.1489730534896,12.165250651009918,11.831379196088763,12.206072645530174,11.744037185933616,12.27606501735021,11.931635799828413,11.652687407345388,11.385092093460344,12.043553716032399,11.827736204810263,11.884489021402711,12.216022976383341,11.77528972943772,12.487485104968359,12.128111104060462,11.77528972943772,12.154779351142624,12.225875272826354,11.736069016284437,12.765402678355779,11.863582336583399,11.794337924408413,12.301382825334498,11.982929094215963,9.239899174217728,11.461632170582678,11.712227041798867,11.911701584927597,11.652687407345388,11.84939770159144,11.834284063781393,11.877568578558138,11.787522297873354,11.72399643505017,11.719939634354555,11.59910316121128,12.061046873479915,11.56171562913966,11.715866308966918,12.160028707028767,11.911701584927597,12.230765258120545,12.323855681186558,12.254862809699606,12.1489730534896,12.165250651009918,11.831379196088763,12.206072645530174,11.744037185933616,12.27606501735021,11.931635799828413,11.652687407345388,11.385092093460344,12.043553716032399,11.827736204810263,11.884489021402711,12.216022976383341,11.77528972943772,12.487485104968359,12.128111104060462,11.77528972943772,12.154779351142624,12.225875272826354,11.736069016284437,12.765402678355779,11.863582336583399,11.794337924408413,12.301382825334498,11.982929094215963,11.963363938721123,11.835008964139341,12.01974306733868,12.180754837545884,12.596762468056184,13.038981768465277,11.744037185933616,12.302745532790434,12.072541252905651,12.449018824140563,12.128111104060462,12.363076394339839,11.801856756822442,11.925035115797062,11.967180737247824,12.560244459250788,12.289954129510877,12.611537753638338,11.990556183878578,12.287652632522597,12.429216196844383,11.728036844587175,12.421184025147118,12.138863895836725,12.180754837545884,12.387977448827787,13.071070083016778,12.4130868149145,12.300928176542852,12.173032791451973,11.711776323715394,11.678439903447801,11.736069016284437,11.522875795823397,12.425208175446844,12.100712129872347,12.58621994565405,12.203569515312056,12.231252944060472,12.706847933442663,12.095141084822892,12.742566016044742,11.884489021402711,11.097410021008562,12.505806799006097,11.944707881395766,13.027832893558095,12.428816116823043,12.013700752882718,12.70381302974751,10.807442510649162,13.005829561148378,11.198214720130528,11.736069016284437,11.894780707439258,12.250089530946948,12.188417710291453,11.964001084330445,11.740061037553975,12.154779351142624,12.429216196844383,12.449018824140563,11.772979370304535,11.082142548877775,11.580584113444043,12.449018824140563,12.894207284266574,12.078239274020289,12.428816116823043,12.40860524294026,12.301382825334498,12.392552212472792,11.982303898822046,12.087035699056104,11.461632170582678,8.517193191416238,12.48710767526016,12.66032791780777,11.951180395901384,11.77528972943772,12.380025952653611,12.319401330837177,12.259613412458204,12.538967060803502,12.396693005138824,12.205447450136255,12.468052220629582,12.206072645530174,12.26434155365415,12.345834587905333,12.14950229404178,12.655985168373633,12.128111104060462,12.387977448827787,12.216022976383341,11.951180395901384,11.695247021764184,11.26446410567173,12.647548191161372,12.196022309676673,11.973509872299472,12.332705296463539,12.490875577231112,12.0015054797889,12.013700752882718,11.925035115797062,12.206072645530174,12.6112043647371,12.254862809699606,12.301382825334498,12.697409592712303,12.230277334226992,12.363076394339839,12.371587084007746,11.728036844587175,12.201562490052288,12.409013489526863,12.483704382128453,11.56171562913966,12.138863895836725,11.751942365440728,11.512925464970229,12.43320821811392,11.56171562913966,12.974443247327706,11.917723684090689,12.100712129872347,11.72399643505017,12.441144767709657,12.706847933442663,11.732060994886899,12.957960321112719,11.695247021764184,12.230765258120545,12.072541252905651,12.594730635321957,11.960811288962345,11.870599909242044,12.2783933071098,12.567237494741757,11.715866308966918,12.100712129872347,11.870599909242044,11.827736204810263,12.509874099861838,11.77452020265869,11.79810440720389,12.095141084822892,12.618182296357007,12.031719258385396,11.695247021764184,11.686878772093667,12.031719258385396,11.73526869611367,12.936033799212835,11.918390573078392,12.644327576461329,11.964001084330445,12.230765258120545,12.524526376648708,12.676076274775909,12.84792653170257,11.694413341015606,12.751299696013497,11.884489021402711,11.719939634354555,12.218495165528731,12.111761966058932,12.072541252905651,11.794337924408413,12.384218830913648,11.36355500831596,12.409013489526863,12.345399710751273,11.76756768334381,12.206072645530174,11.878956503832987,12.01974306733868,12.089538829274222,12.013700752882718,12.292250341771226,12.072541252905651,11.884489021402711,12.180754837545884,12.571198281574285,12.141534124392603,12.449018824140563,11.884489021402711,12.117241431823558,12.670781029678977,12.167851432709975,12.180754837545884,11.835008964139341,12.345834587905333,12.377922902456833,12.834681304952548,11.56171562913966,12.031719258385396,12.30591798049989,11.813030057420567,11.77452020265869,12.748687591785572,11.626254150277232,12.84792653170257,11.736069016284437,11.884489021402711,12.154779351142624,11.813030057420567,10.976782033219948,11.296012463406655,11.921120177649259,12.043553716032399,12.398967276526129,12.081076155355488,12.26434155365415,11.813030057420567,12.2783933071098,12.476099782743233,11.951180395901384,12.240474072247506,12.128111104060462,11.431715409544685,11.617285480294472,11.48246625748552,12.206072645530174,12.345834587905333,12.6112043647371,12.121902682443375,12.071969661006694,12.721885810807203,12.245293358683455,12.84792653170257,12.577291314909747,12.144197241812087,13.304684934198283,12.476099782743233,12.301382825334498,12.524526376648708,12.2783933071098,11.512925464970229,11.973509872299472,11.911030218672101,12.292250341771226,12.7822364706043,12.031719258385396,12.049418835484797,12.180754837545884,12.215428740454199,11.884489021402711,12.235631447771718,11.26446410567173,12.678884827097948,11.976659481202368,12.100712129872347,11.77452020265869,11.918390573078392,12.050202154341454,11.925035115797062,11.512925464970229,13.39239051461739,12.402872221504781,12.487485104968359,12.89921982609012,12.516494204951444,12.449018824140563,12.301382825334498,13.560618308335483,12.358793732547838,12.287546636121766,12.409013489526863,11.976659481202368,13.493926933836812,12.499861036413716,11.976659481202368,11.951180395901384,12.751299696013497,12.014912140069015,12.128111104060462,12.326075437924871,12.948009990259552,12.301382825334498,13.337474757021274,12.468436909997665,12.793581494067123,12.834681304952548,12.62115799701533,12.072541252905651,12.468436909997665,12.506177237980511,13.091904169919621,12.206072645530174,12.813117127036707,12.072541252905651,12.220961258023925,12.043553716032399,12.834681304952548,11.982303898822046,12.345834587905333,12.834681304952548,12.950388112664518,12.292250341771226,12.030826002408181,12.439166527697552,13.38472764187182,12.84792653170257,12.27606501735021,12.294541293517781,12.066810578196666,12.323855681186558,12.64352079949139,13.397416033455968,12.220961258023925,12.834681304952548,11.042921835724492,12.230765258120545,11.344506813345266,12.544329003944888,12.111761966058932,13.255144488638146,12.031719258385396,12.777052192115912,12.380025952653611,12.111761966058932,12.294541293517781,12.334905517373143,12.834681304952548,12.89896979483491,12.793859310432293,12.929991484756872,12.500606192931057,12.612537253971421,12.854483932248728,12.14950229404178,12.594730635321957,12.301382825334498,12.314927050442256,12.896716695872,12.040490204740495,12.759239109785689,13.028052697933088,12.428816116823043,12.429216196844383,12.487485104968359,13.415032991367148,12.180754837545884,12.793859310432293,12.072541252905651,12.022750588402635,12.15530552847652,12.103486056755072,12.994530005894443,12.043553716032399,12.301382825334498,11.16336798880036,11.082142548877775,11.755871643580617,11.951180395901384,12.450977688625896,11.820410164718188,12.225875272826354,12.206072645530174,12.0015054797889,11.914047823644255,12.367340793126296,12.468436909997665,12.254862809699606,11.982303898822046,12.250089530946948,11.813030057420567,12.206072645530174,12.977568792501096,12.180754837545884,12.013700752882718,12.196022309676673,12.296827008798639,12.971540487669746,11.695247021764184,12.831302269102387,12.121891804246545,12.271392111650817,11.951180395901384,12.190959007720126,12.880289268430653,12.345399710751273,12.575046645055924,12.154252896800378,12.892195211153155,12.872375212104878,11.813030057420567,12.066810578196666,13.17115354157376,11.813030057420567,12.928778628331663,12.133501952695338,13.025709294967257,12.779873068457553,12.133501952695338,12.190959007720126,12.100712129872347,12.089538829274222,12.628067055589549,12.476099782743233,12.323855681186558,12.906791091586436,12.87004844878984,12.94084150078094,12.92391243868049,12.043553716032399,12.594730635321957,12.283033686666302,12.308850328545608,12.205572520488492,13.045482333068371,11.894780707439258,12.323855681186558,11.982929094215963,12.524726356651374,12.661955164551927,12.687754690837293,12.028738630247258,12.516123901793586,12.086725887897607,11.759785542901755,12.66698822829869,11.881034786534624,12.468436909997665,12.404923504275338,12.570677563944212,11.976659481202368,12.025749091398891,12.759957758756611,11.84939770159144,11.884489021402711,11.921386082058191,12.345834587905333,11.90106128455657,12.314927050442256,12.028738630247258,12.608198852372823,12.371163265395767,11.898187865760873,12.628067055589549,11.944707881395766,11.911701584927597,12.61246732145627,12.535376392672774,12.216022976383341,12.702179477382083,12.128111104060462,11.759785542901755,12.721885810807203,11.911030218672101,12.345399710751273,12.2783933071098,12.441144767709657,12.624996773322493,12.310432660854417,12.013700752882718,12.524526376648708,12.691580461311874,12.91410843858387,12.345834587905333,11.736069016284437,11.904967552746252,12.538967060803502,12.429216196844383,12.660137423474401,12.019140476178535,11.918390573078392,11.79810440720389,11.951180395901384,12.301382825334498,12.341477282536376,12.083905011555967,11.695247021764184,12.180754837545884,12.66150500254941,11.827736204810263,12.326961962805628,12.230277334226992,12.152144303504619,12.832011076396668,12.672946381766982,12.591675124542087,12.996255788601713,11.759785542901755,12.38632957244191,11.861467425678772,12.28071618852594,12.676732309538039,12.519038619141414,12.454298977211847,12.449018824140563,11.728036844587175,12.587927887999204,11.898187865760873,12.558822395966343,12.74335225658423,12.341477282536376,12.287191696814967,12.01309450854769,11.911701584927597,11.918390573078392,12.278346794400193,12.061046873479915,11.917723684090689,11.951180395901384,12.043553716032399,12.377922902456833,12.601706249058383,12.74315648495851,12.752064620775247,12.69172198975779,12.813117127036707,11.982303898822046,11.884489021402711,12.515393893085436,12.003068674541018,12.672946381766982,11.986672080494799,12.4130868149145,11.938193200374572,12.594730635321957,11.976659481202368,11.907666609715417,12.647548191161372,12.65714826489039,12.429216196844383,11.911701584927597,12.63749785530787,12.314927050442256,12.296827008798639,12.089538829274222,12.597861322822094,11.857649277789207,12.345399710751273,12.448626590364206,11.744037185933616,12.081076155355488,11.994116283606528,11.628038272070732,11.947949375319936,12.611537753638338,12.235631447771718,12.456831363877356,12.111761966058932,11.9891596439666,12.078239274020289,12.084808558037135,12.780050517501273,12.269047444691562,12.493129522588037,12.560244459250788,12.09458226949681,12.611537753638338,12.259613412458204,13.019222618484815,12.213048259266598,12.185359603932632,12.154779351142624,11.918390573078392,12.235631447771718,12.560244459250788,11.695247021764184,12.841325847671216,12.736700896592344,12.388394202324129,12.594730635321957,12.2783933071098,12.524526376648708,12.14950229404178,11.957611286231675,12.92391243868049,12.48559653028049,11.887931365593685,11.665646551987892,12.48559653028049,12.2783933071098,12.479909311159902,12.400816722322686,12.220961258023925,12.721885810807203,12.86099861326992,12.254862809699606,11.944707881395766,11.951180395901384,12.013700752882718,12.611537753638338,12.388394202324129,12.111761966058932,12.175613438045465,12.92391243868049,12.542544882151386,12.367340793126296,12.128111104060462,12.025749091398891,12.238055691383224,12.013700752882718,12.345834587905333,12.367340793126296,12.20856952572876,12.644327576461329,12.042965307660024,12.257240932104573,12.628067055589549,13.138236726560619,12.301382825334498,12.4529327234617,12.190451264627217,12.358793732547838,11.84939770159144,12.000891794590137,12.089538829274222,12.487485104968359,13.027832893558095,12.2783933071098,12.421184025147118,12.886641043883259,12.052338545588132,12.498742259492994,12.022750588402635,12.779873068457553,12.013700752882718,12.611537753638338,12.765688433465597,12.542187675503545,12.487485104968359,12.495003937382387,12.367340793126296,12.6112043647371,12.025749091398891,12.031719258385396,11.918390573078392,12.449018824140563,13.028052697933088,12.768826362156524,12.66032791780777,12.301382825334498,11.976659481202368,12.739637756265655,12.528156144699286,12.641096555879882,12.287749402033825,12.146853285870202,12.676076274775909,12.417143615610113,12.01974306733868,12.371587084007746,12.36264895257227,11.999909114250649,12.323855681186558,12.793859310432293,12.547958771995466,12.80765263256463,12.66032791780777,12.604513138701373,12.506177237980511,12.468436909997665,11.184421397998193,12.343658308482738,12.524526376648708,11.951180395901384,12.326385811040183,12.319401330837177,12.577636201962656,12.476099782743233,12.675763725937609,12.487485104968359,12.449018824140563,12.289034166244521,12.581078546153629,12.672946381766982,12.511717418356127,12.323411137947407,12.468436909997665,12.205572520488492,12.439796032488125,12.652359748158593,12.577636201962656,11.951180395901384,12.779873068457553,12.154779351142624,11.77528972943772,12.483704382128453,12.175510339947534,12.300928176542852,13.060275185090907,12.657880480831292,11.841509528742435,11.982929094215963,12.337100907936577,12.321185452630678,11.797126485585354,11.817464654488433,11.92238259434793,12.721885810807203,12.664288319023868,12.107798076261833,11.970350312009105,12.30591798049989,12.345834587905333,12.608198852372823,11.904967552746252,12.496874845318198,12.464583340681674,12.679196402112153,12.92340011234181,12.122691036591123,11.884489021402711,12.644327576461329,12.043553716032399,12.257240932104573,12.205572520488492,11.918390573078392,11.938193200374572,12.718896271958837,12.287191696814967,12.464583340681674,12.388394202324129,12.133663230012033,12.220961258023925,12.449018824140563,11.686878772093667,12.471509109034635,12.037653993905211,12.323855681186558,11.728036844587175,12.409013489526863,12.429216196844383,12.05524975579559,11.941455846009388,12.013700752882718,11.976659481202368,12.052338545588132,12.388394202324129,12.922814274943748,12.618182296357007,12.560244459250788,12.863333547525711,11.853638695848696,12.269047444691562,12.721885810807203,12.577636201962656,12.487485104968359,12.718896271958837,12.85423815041286,11.913712983527281,12.26434155365415,12.180754837545884,12.409013489526863,12.954370670554967,12.388394202324129,11.957611286231675,12.487485104968359,12.718896271958837,12.85423815041286,11.913712983527281,12.26434155365415,12.180754837545884,12.052921466035999,12.409013489526863,12.54966234992025,12.468436909997665,12.447056114972714,12.100156419938624,12.449018824140563,12.487485104968359,12.066810578196666,12.682306824526545,12.727838209334498,12.307952109351344,12.417143615610113,12.100712129872347,12.345399710751273,12.345834587905333,12.86876061860541,12.765688433465597,12.041787451222318,12.154779351142624,12.668233097314884,11.156250521031495,12.611537753638338,11.887243844081556,12.119969946476761,12.527793760205377,12.985450273233395,12.675763725937609,12.425208175446844,12.57418196709457,12.560244459250788,12.180241885495652,11.736069016284437,11.619984537263637],\"xaxis\":\"x2\",\"yaxis\":\"y2\",\"type\":\"box\"}],                        {\"template\":{\"data\":{\"pie\":[{\"automargin\":true,\"type\":\"pie\"}]},\"layout\":{\"xaxis\":{\"showgrid\":true,\"title\":{\"standoff\":15}},\"yaxis\":{\"showgrid\":true,\"title\":{\"standoff\":15}}}},\"xaxis\":{\"anchor\":\"y\",\"domain\":[0.0,1.0],\"title\":{\"text\":\"x\"}},\"yaxis\":{\"anchor\":\"x\",\"domain\":[0.0,0.8316],\"title\":{\"text\":\"count\"}},\"xaxis2\":{\"anchor\":\"y2\",\"domain\":[0.0,1.0],\"matches\":\"x\",\"showticklabels\":false},\"yaxis2\":{\"anchor\":\"x2\",\"domain\":[0.8416,1.0],\"matches\":\"y2\",\"showticklabels\":false,\"showline\":false,\"ticks\":\"\"},\"legend\":{\"tracegroupgap\":0},\"title\":{\"text\":\"Transformaci\\u00f3n logar\\u00edtmica\"},\"barmode\":\"relative\"},                        {\"responsive\": true}                    ).then(function(){\n",
              "                            \n",
              "var gd = document.getElementById('8af21e4c-5d91-465a-80f5-6e600320e067');\n",
              "var x = new MutationObserver(function (mutations, observer) {{\n",
              "        var display = window.getComputedStyle(gd).display;\n",
              "        if (!display || display === 'none') {{\n",
              "            console.log([gd, 'removed!']);\n",
              "            Plotly.purge(gd);\n",
              "            observer.disconnect();\n",
              "        }}\n",
              "}});\n",
              "\n",
              "// Listen for the removal of the full notebook cells\n",
              "var notebookContainer = gd.closest('#notebook-container');\n",
              "if (notebookContainer) {{\n",
              "    x.observe(notebookContainer, {childList: true});\n",
              "}}\n",
              "\n",
              "// Listen for the clearing of the current output cell\n",
              "var outputEl = gd.closest('.output');\n",
              "if (outputEl) {{\n",
              "    x.observe(outputEl, {childList: true});\n",
              "}}\n",
              "\n",
              "                        })                };                            </script>        </div>\n",
              "</body>\n",
              "</html>"
            ]
          },
          "metadata": {}
        }
      ]
    },
    {
      "cell_type": "markdown",
      "metadata": {
        "id": "p1EssVEzn_EH"
      },
      "source": [
        "**Algunos modelos de Machine Learning requieren que la variable objetivo se distribuya de una forma determinada. Por ejemplo, para los modelos de regresión lineal (LM), la distribución tiene que ser de tipo normal. Para otros modelos lineales, la distribución tiene que ser de la familia exponencial.**"
      ]
    },
    {
      "cell_type": "markdown",
      "metadata": {
        "id": "coothvU3oP-N"
      },
      "source": [
        "##**Variables numéricas** - Análisis descriptivo"
      ]
    },
    {
      "cell_type": "code",
      "metadata": {
        "colab": {
          "base_uri": "https://localhost:8080/",
          "height": 361
        },
        "id": "1Hn_mgE5oZn9",
        "outputId": "41f14f05-db9d-4af4-ccf0-b7eceb813d22"
      },
      "source": [
        "round(datos.select_dtypes(include=[\"float64\", \"int\"]).describe(),2)"
      ],
      "execution_count": 17,
      "outputs": [
        {
          "output_type": "execute_result",
          "data": {
            "text/plain": [
              "          precio  metros_totales  antiguedad  precio_terreno  \\\n",
              "count    1728.00         1728.00     1728.00         1728.00   \n",
              "mean   211966.71            0.50       27.92        34557.19   \n",
              "std     98441.39            0.70       29.21        35021.17   \n",
              "min      5000.00            0.00        0.00          200.00   \n",
              "25%    145000.00            0.17       13.00        15100.00   \n",
              "50%    189900.00            0.37       19.00        25000.00   \n",
              "75%    259000.00            0.54       34.00        40200.00   \n",
              "max    775000.00           12.20      225.00       412600.00   \n",
              "\n",
              "       metros_habitables  universitarios  dormitorios  chimenea    baños  \\\n",
              "count            1728.00         1728.00      1728.00   1728.00  1728.00   \n",
              "mean             1754.98           55.57         3.15      0.60     1.90   \n",
              "std               619.94           10.33         0.82      0.56     0.66   \n",
              "min               616.00           20.00         1.00      0.00     0.00   \n",
              "25%              1300.00           52.00         3.00      0.00     1.50   \n",
              "50%              1634.50           57.00         3.00      1.00     2.00   \n",
              "75%              2137.75           64.00         4.00      1.00     2.50   \n",
              "max              5228.00           82.00         7.00      4.00     4.50   \n",
              "\n",
              "       habitaciones  \n",
              "count       1728.00  \n",
              "mean           7.04  \n",
              "std            2.32  \n",
              "min            2.00  \n",
              "25%            5.00  \n",
              "50%            7.00  \n",
              "75%            8.25  \n",
              "max           12.00  "
            ],
            "text/html": [
              "\n",
              "  <div id=\"df-64ea847a-0087-4b66-a37a-c2d34a6538a3\">\n",
              "    <div class=\"colab-df-container\">\n",
              "      <div>\n",
              "<style scoped>\n",
              "    .dataframe tbody tr th:only-of-type {\n",
              "        vertical-align: middle;\n",
              "    }\n",
              "\n",
              "    .dataframe tbody tr th {\n",
              "        vertical-align: top;\n",
              "    }\n",
              "\n",
              "    .dataframe thead th {\n",
              "        text-align: right;\n",
              "    }\n",
              "</style>\n",
              "<table border=\"1\" class=\"dataframe\">\n",
              "  <thead>\n",
              "    <tr style=\"text-align: right;\">\n",
              "      <th></th>\n",
              "      <th>precio</th>\n",
              "      <th>metros_totales</th>\n",
              "      <th>antiguedad</th>\n",
              "      <th>precio_terreno</th>\n",
              "      <th>metros_habitables</th>\n",
              "      <th>universitarios</th>\n",
              "      <th>dormitorios</th>\n",
              "      <th>chimenea</th>\n",
              "      <th>baños</th>\n",
              "      <th>habitaciones</th>\n",
              "    </tr>\n",
              "  </thead>\n",
              "  <tbody>\n",
              "    <tr>\n",
              "      <th>count</th>\n",
              "      <td>1728.00</td>\n",
              "      <td>1728.00</td>\n",
              "      <td>1728.00</td>\n",
              "      <td>1728.00</td>\n",
              "      <td>1728.00</td>\n",
              "      <td>1728.00</td>\n",
              "      <td>1728.00</td>\n",
              "      <td>1728.00</td>\n",
              "      <td>1728.00</td>\n",
              "      <td>1728.00</td>\n",
              "    </tr>\n",
              "    <tr>\n",
              "      <th>mean</th>\n",
              "      <td>211966.71</td>\n",
              "      <td>0.50</td>\n",
              "      <td>27.92</td>\n",
              "      <td>34557.19</td>\n",
              "      <td>1754.98</td>\n",
              "      <td>55.57</td>\n",
              "      <td>3.15</td>\n",
              "      <td>0.60</td>\n",
              "      <td>1.90</td>\n",
              "      <td>7.04</td>\n",
              "    </tr>\n",
              "    <tr>\n",
              "      <th>std</th>\n",
              "      <td>98441.39</td>\n",
              "      <td>0.70</td>\n",
              "      <td>29.21</td>\n",
              "      <td>35021.17</td>\n",
              "      <td>619.94</td>\n",
              "      <td>10.33</td>\n",
              "      <td>0.82</td>\n",
              "      <td>0.56</td>\n",
              "      <td>0.66</td>\n",
              "      <td>2.32</td>\n",
              "    </tr>\n",
              "    <tr>\n",
              "      <th>min</th>\n",
              "      <td>5000.00</td>\n",
              "      <td>0.00</td>\n",
              "      <td>0.00</td>\n",
              "      <td>200.00</td>\n",
              "      <td>616.00</td>\n",
              "      <td>20.00</td>\n",
              "      <td>1.00</td>\n",
              "      <td>0.00</td>\n",
              "      <td>0.00</td>\n",
              "      <td>2.00</td>\n",
              "    </tr>\n",
              "    <tr>\n",
              "      <th>25%</th>\n",
              "      <td>145000.00</td>\n",
              "      <td>0.17</td>\n",
              "      <td>13.00</td>\n",
              "      <td>15100.00</td>\n",
              "      <td>1300.00</td>\n",
              "      <td>52.00</td>\n",
              "      <td>3.00</td>\n",
              "      <td>0.00</td>\n",
              "      <td>1.50</td>\n",
              "      <td>5.00</td>\n",
              "    </tr>\n",
              "    <tr>\n",
              "      <th>50%</th>\n",
              "      <td>189900.00</td>\n",
              "      <td>0.37</td>\n",
              "      <td>19.00</td>\n",
              "      <td>25000.00</td>\n",
              "      <td>1634.50</td>\n",
              "      <td>57.00</td>\n",
              "      <td>3.00</td>\n",
              "      <td>1.00</td>\n",
              "      <td>2.00</td>\n",
              "      <td>7.00</td>\n",
              "    </tr>\n",
              "    <tr>\n",
              "      <th>75%</th>\n",
              "      <td>259000.00</td>\n",
              "      <td>0.54</td>\n",
              "      <td>34.00</td>\n",
              "      <td>40200.00</td>\n",
              "      <td>2137.75</td>\n",
              "      <td>64.00</td>\n",
              "      <td>4.00</td>\n",
              "      <td>1.00</td>\n",
              "      <td>2.50</td>\n",
              "      <td>8.25</td>\n",
              "    </tr>\n",
              "    <tr>\n",
              "      <th>max</th>\n",
              "      <td>775000.00</td>\n",
              "      <td>12.20</td>\n",
              "      <td>225.00</td>\n",
              "      <td>412600.00</td>\n",
              "      <td>5228.00</td>\n",
              "      <td>82.00</td>\n",
              "      <td>7.00</td>\n",
              "      <td>4.00</td>\n",
              "      <td>4.50</td>\n",
              "      <td>12.00</td>\n",
              "    </tr>\n",
              "  </tbody>\n",
              "</table>\n",
              "</div>\n",
              "      <button class=\"colab-df-convert\" onclick=\"convertToInteractive('df-64ea847a-0087-4b66-a37a-c2d34a6538a3')\"\n",
              "              title=\"Convert this dataframe to an interactive table.\"\n",
              "              style=\"display:none;\">\n",
              "        \n",
              "  <svg xmlns=\"http://www.w3.org/2000/svg\" height=\"24px\"viewBox=\"0 0 24 24\"\n",
              "       width=\"24px\">\n",
              "    <path d=\"M0 0h24v24H0V0z\" fill=\"none\"/>\n",
              "    <path d=\"M18.56 5.44l.94 2.06.94-2.06 2.06-.94-2.06-.94-.94-2.06-.94 2.06-2.06.94zm-11 1L8.5 8.5l.94-2.06 2.06-.94-2.06-.94L8.5 2.5l-.94 2.06-2.06.94zm10 10l.94 2.06.94-2.06 2.06-.94-2.06-.94-.94-2.06-.94 2.06-2.06.94z\"/><path d=\"M17.41 7.96l-1.37-1.37c-.4-.4-.92-.59-1.43-.59-.52 0-1.04.2-1.43.59L10.3 9.45l-7.72 7.72c-.78.78-.78 2.05 0 2.83L4 21.41c.39.39.9.59 1.41.59.51 0 1.02-.2 1.41-.59l7.78-7.78 2.81-2.81c.8-.78.8-2.07 0-2.86zM5.41 20L4 18.59l7.72-7.72 1.47 1.35L5.41 20z\"/>\n",
              "  </svg>\n",
              "      </button>\n",
              "      \n",
              "  <style>\n",
              "    .colab-df-container {\n",
              "      display:flex;\n",
              "      flex-wrap:wrap;\n",
              "      gap: 12px;\n",
              "    }\n",
              "\n",
              "    .colab-df-convert {\n",
              "      background-color: #E8F0FE;\n",
              "      border: none;\n",
              "      border-radius: 50%;\n",
              "      cursor: pointer;\n",
              "      display: none;\n",
              "      fill: #1967D2;\n",
              "      height: 32px;\n",
              "      padding: 0 0 0 0;\n",
              "      width: 32px;\n",
              "    }\n",
              "\n",
              "    .colab-df-convert:hover {\n",
              "      background-color: #E2EBFA;\n",
              "      box-shadow: 0px 1px 2px rgba(60, 64, 67, 0.3), 0px 1px 3px 1px rgba(60, 64, 67, 0.15);\n",
              "      fill: #174EA6;\n",
              "    }\n",
              "\n",
              "    [theme=dark] .colab-df-convert {\n",
              "      background-color: #3B4455;\n",
              "      fill: #D2E3FC;\n",
              "    }\n",
              "\n",
              "    [theme=dark] .colab-df-convert:hover {\n",
              "      background-color: #434B5C;\n",
              "      box-shadow: 0px 1px 3px 1px rgba(0, 0, 0, 0.15);\n",
              "      filter: drop-shadow(0px 1px 2px rgba(0, 0, 0, 0.3));\n",
              "      fill: #FFFFFF;\n",
              "    }\n",
              "  </style>\n",
              "\n",
              "      <script>\n",
              "        const buttonEl =\n",
              "          document.querySelector('#df-64ea847a-0087-4b66-a37a-c2d34a6538a3 button.colab-df-convert');\n",
              "        buttonEl.style.display =\n",
              "          google.colab.kernel.accessAllowed ? 'block' : 'none';\n",
              "\n",
              "        async function convertToInteractive(key) {\n",
              "          const element = document.querySelector('#df-64ea847a-0087-4b66-a37a-c2d34a6538a3');\n",
              "          const dataTable =\n",
              "            await google.colab.kernel.invokeFunction('convertToInteractive',\n",
              "                                                     [key], {});\n",
              "          if (!dataTable) return;\n",
              "\n",
              "          const docLinkHtml = 'Like what you see? Visit the ' +\n",
              "            '<a target=\"_blank\" href=https://colab.research.google.com/notebooks/data_table.ipynb>data table notebook</a>'\n",
              "            + ' to learn more about interactive tables.';\n",
              "          element.innerHTML = '';\n",
              "          dataTable['output_type'] = 'display_data';\n",
              "          await google.colab.output.renderOutput(dataTable, element);\n",
              "          const docLink = document.createElement('div');\n",
              "          docLink.innerHTML = docLinkHtml;\n",
              "          element.appendChild(docLink);\n",
              "        }\n",
              "      </script>\n",
              "    </div>\n",
              "  </div>\n",
              "  "
            ]
          },
          "metadata": {},
          "execution_count": 17
        }
      ]
    },
    {
      "cell_type": "code",
      "source": [
        "px.histogram(datos, \n",
        "             x = datos.metros_totales,\n",
        "             title=\"Metros Totales\", \n",
        "             color_discrete_sequence = [\"blue\"], # color \n",
        "             template=\"gridon\")"
      ],
      "metadata": {
        "colab": {
          "base_uri": "https://localhost:8080/",
          "height": 542
        },
        "id": "UTTRbtTN_ado",
        "outputId": "99bd2373-4ca8-4729-c754-d9ae7499b920"
      },
      "execution_count": 18,
      "outputs": [
        {
          "output_type": "display_data",
          "data": {
            "text/html": [
              "<html>\n",
              "<head><meta charset=\"utf-8\" /></head>\n",
              "<body>\n",
              "    <div>            <script src=\"https://cdnjs.cloudflare.com/ajax/libs/mathjax/2.7.5/MathJax.js?config=TeX-AMS-MML_SVG\"></script><script type=\"text/javascript\">if (window.MathJax && window.MathJax.Hub && window.MathJax.Hub.Config) {window.MathJax.Hub.Config({SVG: {font: \"STIX-Web\"}});}</script>                <script type=\"text/javascript\">window.PlotlyConfig = {MathJaxConfig: 'local'};</script>\n",
              "        <script src=\"https://cdn.plot.ly/plotly-2.12.1.min.js\"></script>                <div id=\"42357bf0-5844-4a42-ae8f-47de80fb7e8d\" class=\"plotly-graph-div\" style=\"height:525px; width:100%;\"></div>            <script type=\"text/javascript\">                                    window.PLOTLYENV=window.PLOTLYENV || {};                                    if (document.getElementById(\"42357bf0-5844-4a42-ae8f-47de80fb7e8d\")) {                    Plotly.newPlot(                        \"42357bf0-5844-4a42-ae8f-47de80fb7e8d\",                        [{\"alignmentgroup\":\"True\",\"bingroup\":\"x\",\"hovertemplate\":\"metros_totales=%{x}<br>count=%{y}<extra></extra>\",\"legendgroup\":\"\",\"marker\":{\"color\":\"blue\",\"pattern\":{\"shape\":\"\"}},\"name\":\"\",\"offsetgroup\":\"\",\"orientation\":\"v\",\"showlegend\":false,\"x\":[0.09,0.92,0.19,0.41,0.11,0.68,0.4,1.21,0.83,1.94,2.29,0.92,8.97,0.11,0.14,0.0,0.13,2.0,0.21,0.88,1.0,0.43,0.32,0.03,0.36,4.0,1.83,3.0,0.43,0.44,1.24,0.46,0.87,1.8,0.46,0.91,0.46,0.59,7.24,0.19,0.46,0.41,0.78,0.89,1.34,1.0,1.0,0.27,0.71,0.9,0.24,0.06,0.55,0.34,0.19,0.23,0.07,0.09,0.25,0.47,0.36,0.07,0.11,0.23,3.16,0.08,0.57,0.5,1.0,0.5,0.55,0.1,0.5,0.31,0.28,0.06,0.06,0.46,0.1,2.12,0.06,0.21,0.06,0.26,0.29,1.29,1.0,0.88,0.52,0.07,0.32,0.92,0.46,0.46,0.11,0.4,0.87,0.59,0.93,0.15,0.59,0.33,0.32,0.46,0.48,2.37,0.83,1.0,0.21,0.27,0.72,0.36,0.52,0.19,0.38,0.82,0.69,0.51,0.72,0.62,1.0,0.52,0.82,0.29,0.52,0.64,0.52,1.0,0.69,0.13,0.22,0.46,1.0,1.0,0.13,1.03,1.17,0.34,0.38,1.96,3.0,0.33,0.46,0.29,0.35,0.28,0.52,0.11,0.14,0.14,0.47,0.14,0.51,0.21,0.14,0.55,0.07,0.49,0.07,0.36,0.5,0.48,0.29,0.68,4.08,0.1,0.62,0.07,0.16,0.36,0.01,0.34,0.75,0.29,0.47,0.32,0.12,1.0,0.46,0.18,0.55,0.46,0.15,0.93,0.46,0.26,0.63,0.5,0.03,0.17,0.64,0.47,0.92,0.41,0.16,0.01,0.29,0.36,0.28,0.15,0.59,0.36,0.16,0.34,0.33,0.56,0.48,0.16,0.17,0.46,0.81,0.15,0.15,0.32,0.16,0.15,0.15,0.48,0.77,0.42,0.17,0.32,0.09,0.16,0.16,0.15,0.17,0.17,0.16,0.16,0.34,0.31,0.4,0.34,0.16,0.15,0.15,0.16,0.16,0.15,0.15,0.37,0.31,1.0,0.15,0.16,0.24,2.06,0.42,0.92,0.4,0.36,5.84,0.16,0.15,0.98,0.33,0.16,0.09,0.16,3.0,0.58,0.42,0.17,0.16,0.31,0.99,0.26,0.45,0.49,0.35,0.4,0.48,0.35,0.25,0.12,0.09,0.46,0.71,0.06,0.61,0.32,0.37,0.29,0.95,0.67,0.4,0.29,0.35,0.37,0.53,0.06,0.15,0.27,0.43,0.06,1.0,0.46,0.03,0.88,0.55,1.0,0.43,0.45,0.1,0.09,0.09,0.59,0.16,0.51,0.46,0.46,0.42,0.45,0.55,0.44,0.06,0.5,0.3,0.33,0.14,0.69,0.38,0.74,0.38,0.38,0.29,0.28,0.54,0.26,0.59,0.37,0.4,0.5,0.54,0.22,0.35,0.52,0.31,0.38,0.08,0.1,0.44,0.26,0.07,0.48,0.41,0.42,0.45,0.6,0.95,0.56,1.25,0.7,0.67,0.66,0.62,0.08,0.08,0.51,0.28,1.0,0.58,0.43,0.55,0.49,0.39,0.06,0.46,0.5,0.6,0.41,0.53,0.21,0.06,0.09,0.13,0.72,1.0,0.18,0.74,0.48,0.58,0.01,1.0,0.41,0.51,0.55,0.46,0.6,0.19,1.42,0.69,0.51,0.29,0.06,0.6,0.53,0.38,0.74,0.56,0.71,2.84,0.09,0.52,1.0,0.5,0.43,0.09,0.11,0.24,0.39,0.8,0.19,0.59,0.48,0.46,0.4,0.52,0.86,0.46,0.95,0.63,0.42,0.34,0.5,0.2,2.96,1.0,1.0,1.0,0.52,0.48,0.33,1.0,2.6,0.15,2.8,0.08,0.14,0.46,0.63,3.8,0.46,0.98,1.0,1.0,6.07,0.03,0.18,0.11,0.28,0.18,0.16,0.15,0.5,3.68,0.98,0.52,0.01,0.91,0.34,2.06,0.35,0.47,0.7,0.39,0.52,1.27,2.0,0.68,0.38,0.28,0.07,0.24,0.26,3.64,0.41,0.46,0.15,0.16,1.0,2.61,1.0,0.19,0.83,1.0,0.42,0.87,0.68,0.38,1.1,0.8,0.95,4.1,0.34,0.09,1.0,0.57,1.0,0.48,0.14,0.19,0.5,0.35,0.21,3.47,0.55,0.53,0.54,0.54,0.32,0.25,0.32,0.5,0.04,0.21,0.17,0.51,0.17,0.11,0.14,1.0,0.18,1.29,1.0,0.6,0.46,1.03,0.47,0.5,0.26,0.49,0.28,0.52,0.15,0.05,0.09,0.49,0.19,0.1,0.03,0.16,0.28,0.32,0.23,0.12,0.15,0.01,0.29,0.16,0.07,0.17,0.24,0.21,0.15,0.24,0.16,0.3,0.3,0.12,0.15,0.15,1.4,0.15,0.25,0.17,0.36,0.16,0.68,1.22,0.25,0.06,0.23,0.48,0.24,0.12,0.15,0.34,0.11,0.25,0.13,0.04,0.12,0.39,0.07,0.34,1.0,0.04,0.21,1.06,0.25,0.09,0.26,0.14,0.15,0.46,0.63,0.26,0.48,0.22,0.91,0.07,0.46,0.12,0.16,0.48,0.46,0.03,0.12,0.14,1.04,0.49,0.65,0.15,0.15,0.5,0.14,0.23,0.14,0.29,0.23,0.23,0.08,0.03,1.0,0.16,1.0,0.42,0.18,0.3,0.73,1.03,0.25,0.19,0.29,0.39,0.27,0.25,0.32,0.27,0.36,0.36,0.07,0.12,0.35,0.62,0.07,0.27,0.42,0.48,0.36,0.3,0.07,0.17,0.11,0.14,0.1,0.11,0.06,0.32,0.38,0.42,0.2,0.58,0.04,0.3,0.03,0.08,0.14,0.12,0.2,0.48,0.27,0.06,0.17,0.24,0.87,0.23,0.59,0.41,0.29,0.32,0.14,1.07,0.33,0.17,0.5,0.87,0.22,0.33,0.24,0.15,0.3,0.4,0.21,0.25,0.84,0.39,0.14,0.41,0.0,0.07,0.12,0.25,0.22,0.23,0.42,0.15,0.34,0.43,0.17,0.39,0.31,0.03,0.17,0.11,0.02,0.34,0.17,0.16,0.46,1.0,0.06,0.29,1.08,0.63,0.34,0.58,1.0,0.4,0.17,0.46,0.23,0.2,0.21,0.18,0.16,0.13,0.47,0.45,0.59,0.38,0.55,0.52,0.46,0.76,0.46,0.17,0.34,0.1,0.54,0.75,0.43,0.15,0.52,0.46,0.52,0.41,0.44,0.46,0.48,0.65,0.08,0.58,0.14,0.14,0.68,0.13,0.29,0.22,0.5,0.18,0.55,0.28,0.35,0.25,2.68,0.2,0.02,0.37,0.45,0.36,0.75,0.69,0.46,0.69,0.89,0.47,0.15,0.46,0.77,0.85,0.01,0.02,0.57,0.6,0.41,0.29,0.47,0.61,1.14,0.48,0.01,0.31,0.21,0.21,0.46,0.01,0.44,0.35,0.57,0.49,0.04,0.46,0.22,0.62,0.49,0.51,1.0,0.46,0.46,0.47,0.49,0.23,0.36,0.94,0.34,1.0,0.53,0.09,0.52,0.37,0.33,0.5,0.33,0.31,0.53,0.11,0.14,0.55,0.14,0.15,1.0,0.37,0.34,0.32,0.33,0.15,0.32,0.16,0.16,0.06,0.16,0.15,0.15,0.15,0.31,0.16,0.15,0.46,0.16,0.33,0.33,0.49,0.32,0.94,0.16,0.36,0.16,0.35,0.15,0.16,0.16,0.35,0.16,0.15,0.43,0.15,1.0,0.33,0.16,0.59,0.4,0.35,0.44,0.14,0.37,1.0,1.96,0.16,0.15,0.15,0.31,0.15,0.15,0.16,0.06,0.16,0.15,0.15,0.15,0.31,0.16,0.15,0.46,0.16,0.33,0.33,0.49,0.32,0.94,0.16,0.36,0.16,0.35,0.15,0.16,0.16,0.35,0.16,0.15,0.43,0.15,1.0,0.33,0.16,0.59,0.4,0.35,0.44,0.14,0.37,1.0,1.96,0.28,0.31,0.25,0.56,0.6,0.47,0.05,0.58,0.29,1.0,0.5,0.57,0.08,0.2,0.3,0.65,0.56,0.7,0.6,2.85,0.47,0.06,0.41,0.57,0.48,0.53,12.2,0.61,0.49,0.6,0.12,0.15,0.77,0.26,0.66,0.57,0.47,0.48,0.46,0.57,0.43,0.58,0.15,0.14,0.4,0.1,0.5,0.42,0.09,0.46,0.48,0.58,0.28,0.13,0.12,0.45,0.46,0.29,0.06,0.44,0.49,0.4,0.15,0.34,0.28,0.57,0.61,0.45,0.86,0.38,0.5,0.35,0.13,0.56,0.2,0.29,0.5,0.77,0.09,0.22,0.71,0.33,1.0,0.23,0.11,0.61,0.46,1.28,0.71,0.47,0.42,1.93,0.48,0.42,0.48,0.12,1.48,0.33,0.46,0.32,0.92,0.46,0.34,0.23,0.28,0.07,0.29,0.77,0.33,0.66,1.0,0.39,0.31,0.42,0.46,0.14,0.5,0.35,0.15,0.32,0.17,0.48,0.77,0.95,0.53,0.06,0.46,0.18,0.47,0.47,0.19,1.82,0.21,0.42,0.36,0.49,0.21,0.09,0.29,0.4,0.23,1.0,0.09,0.08,0.47,0.07,0.06,0.25,0.72,0.92,0.19,0.07,0.35,0.98,2.92,0.99,4.0,0.46,0.8,0.46,0.46,0.74,0.46,0.82,0.46,0.07,0.79,1.0,0.63,0.21,0.41,0.01,1.28,1.64,0.33,0.09,1.19,0.4,0.9,1.0,0.1,0.02,0.18,0.76,0.46,0.59,0.91,1.0,0.46,0.23,1.2,1.0,0.87,0.79,1.0,4.84,0.16,1.0,0.29,0.31,0.39,1.05,1.0,0.3,0.6,5.52,0.48,0.15,0.04,0.01,0.25,1.0,2.0,0.29,1.0,0.41,0.89,0.46,1.0,0.27,0.14,0.42,0.74,0.1,1.73,0.47,0.62,0.34,0.34,3.28,0.47,2.0,0.3,0.41,0.99,0.29,2.03,0.61,0.46,0.51,0.17,0.15,0.45,0.87,0.08,0.58,0.41,0.46,0.47,0.01,0.14,0.47,0.61,0.16,0.05,0.38,0.25,0.37,0.31,0.19,0.29,0.18,0.24,0.08,0.17,0.13,0.48,0.14,0.48,0.03,0.24,0.21,0.16,0.28,0.3,0.29,0.3,0.53,0.28,0.11,0.18,0.53,0.35,0.5,0.14,0.22,0.17,5.35,0.33,0.24,0.57,0.03,0.3,0.04,0.16,0.31,0.25,0.14,0.12,0.31,0.28,0.27,0.21,0.34,0.04,0.21,0.17,0.16,0.46,0.07,0.69,0.06,0.03,1.0,0.19,0.2,1.09,0.02,1.0,0.25,0.46,0.2,0.16,0.17,0.55,0.5,0.09,0.34,0.39,0.18,0.13,0.19,0.3,0.39,0.01,0.12,0.25,0.24,0.15,0.25,0.04,0.05,0.32,0.11,0.11,0.13,0.4,0.1,0.48,0.75,0.19,0.51,0.63,0.09,0.13,0.19,0.57,0.92,0.35,0.86,0.8,0.36,0.44,0.25,0.65,0.46,0.7,0.55,0.35,0.96,0.54,0.47,0.52,0.15,0.65,1.34,0.17,0.53,0.14,0.46,0.09,0.41,0.48,0.44,0.42,0.12,0.46,0.35,0.66,0.13,0.46,0.01,0.62,0.08,0.58,0.69,0.35,0.14,0.13,0.47,0.33,0.46,0.89,0.49,0.46,0.13,0.5,0.35,0.01,0.38,0.37,0.21,0.64,0.02,0.24,0.16,0.46,0.46,0.35,0.92,0.3,0.31,1.0,0.44,0.15,0.33,0.33,0.4,0.16,0.16,0.17,0.17,0.15,0.17,0.95,0.16,0.33,0.16,0.1,0.59,0.24,0.53,0.17,0.15,0.54,0.64,0.47,0.49,0.45,0.17,0.92,0.16,0.43,0.49,0.45,0.34,0.34,0.15,0.37,0.27,1.08,0.31,0.04,0.41,0.44,0.62,0.37,0.16,0.75,0.15,0.37,0.41,1.61,0.63,0.11,0.29,1.0,0.36,0.36,0.34,0.34,0.72,0.35,0.39,0.38,0.16,0.37,0.15,0.34,0.81,0.3,0.35,0.33,0.09,1.94,0.15,0.32,0.39,0.51,0.31,0.15,0.15,0.18,0.32,0.14,0.17,0.15,0.16,0.37,0.45,0.44,0.88,0.5,1.0,0.17,0.16,0.32,0.09,0.47,0.15,0.34,0.17,0.48,0.16,0.15,0.54,0.53,0.4,0.16,0.55,0.33,0.47,0.48,0.56,0.17,0.34,0.33,0.85,0.37,0.34,0.14,0.54,0.92,0.1,0.75,0.38,0.59,0.42,0.41,0.36,0.48,0.52,0.36,0.35,0.56,0.49,2.0,0.49,0.4,0.57,0.21,1.0,0.32,0.2,1.0,0.55,0.45,0.49,0.63,0.47,0.81,0.09,0.79,0.46,0.09,0.08,0.44,0.3,0.6,0.57,0.29,0.61,0.5,0.59,0.14,0.17,0.17,0.7,0.46,0.35,6.15,0.44,0.85,0.47,0.06,0.21,0.5,0.05,0.35,0.73,0.69,0.46,0.06,0.28,0.92,0.17,0.41,0.5,0.41,0.26,0.06,0.12,0.17,0.67,0.66,5.65,0.67,0.7,0.07,0.48,0.06,0.43,0.93,0.08,0.5,0.49,0.65,0.31,0.76,0.46,0.07,0.4,0.07,0.41,4.2,0.46,0.46,0.4,0.14,0.57,0.47,0.49,0.46,0.05,0.55,0.34,0.1,0.15,0.3,0.07,0.45,0.91,0.56,0.56,0.6,0.3,0.42,0.42,0.33,0.34,0.54,0.29,0.37,0.54,0.61,0.64,0.34,0.45,0.33,0.35,0.49,0.46,0.54,0.48,0.63,0.63,0.41,0.46,0.46,0.57,0.55,0.83,0.06,0.21,0.31,0.25,1.4,0.51,0.15,0.29,0.25,5.0,0.06,0.51,0.07,1.25,0.04,0.39,0.73,0.23,0.5,0.1,0.07,0.24,0.01,0.1,0.27,0.45,0.07,1.75,0.07,0.02,0.24,0.28,0.11,0.55,0.4,0.05,0.3,0.37,0.43,0.13,0.09,0.5,0.19,0.95,0.35,0.51,0.48,0.46,0.48,0.02,0.17,0.17,0.51,0.69,0.61,0.38,0.4,0.42,0.47,0.47,0.66,0.49,0.32,0.44,0.16,0.34,0.46,0.36,0.16,4.21,0.16,0.49,0.32,0.44,0.16,0.34,0.46,0.32,0.36,0.87,0.34,0.17,0.07,0.53,0.43,0.06,0.26,0.46,0.36,0.3,0.54,0.37,0.54,0.77,0.66,0.07,0.53,0.54,1.34,0.65,0.13,0.28,0.81,0.41,0.58,0.43,0.38,0.94,0.39,0.24,0.59],\"xaxis\":\"x\",\"yaxis\":\"y\",\"type\":\"histogram\"}],                        {\"template\":{\"data\":{\"pie\":[{\"automargin\":true,\"type\":\"pie\"}]},\"layout\":{\"xaxis\":{\"showgrid\":true,\"title\":{\"standoff\":15}},\"yaxis\":{\"showgrid\":true,\"title\":{\"standoff\":15}}}},\"xaxis\":{\"anchor\":\"y\",\"domain\":[0.0,1.0],\"title\":{\"text\":\"metros_totales\"}},\"yaxis\":{\"anchor\":\"x\",\"domain\":[0.0,1.0],\"title\":{\"text\":\"count\"}},\"legend\":{\"tracegroupgap\":0},\"title\":{\"text\":\"Metros Totales\"},\"barmode\":\"relative\"},                        {\"responsive\": true}                    ).then(function(){\n",
              "                            \n",
              "var gd = document.getElementById('42357bf0-5844-4a42-ae8f-47de80fb7e8d');\n",
              "var x = new MutationObserver(function (mutations, observer) {{\n",
              "        var display = window.getComputedStyle(gd).display;\n",
              "        if (!display || display === 'none') {{\n",
              "            console.log([gd, 'removed!']);\n",
              "            Plotly.purge(gd);\n",
              "            observer.disconnect();\n",
              "        }}\n",
              "}});\n",
              "\n",
              "// Listen for the removal of the full notebook cells\n",
              "var notebookContainer = gd.closest('#notebook-container');\n",
              "if (notebookContainer) {{\n",
              "    x.observe(notebookContainer, {childList: true});\n",
              "}}\n",
              "\n",
              "// Listen for the clearing of the current output cell\n",
              "var outputEl = gd.closest('.output');\n",
              "if (outputEl) {{\n",
              "    x.observe(outputEl, {childList: true});\n",
              "}}\n",
              "\n",
              "                        })                };                            </script>        </div>\n",
              "</body>\n",
              "</html>"
            ]
          },
          "metadata": {}
        }
      ]
    },
    {
      "cell_type": "code",
      "source": [
        "px.histogram(datos, \n",
        "             x = datos.precio_terreno,\n",
        "             title=\"Precio Terreno\", \n",
        "             color_discrete_sequence = [\"darkorange\"], # color \n",
        "             template=\"gridon\")"
      ],
      "metadata": {
        "colab": {
          "base_uri": "https://localhost:8080/",
          "height": 542
        },
        "id": "4xFPO4Av_sqY",
        "outputId": "d827d10e-7789-4584-d63d-bc707082f0ec"
      },
      "execution_count": 19,
      "outputs": [
        {
          "output_type": "display_data",
          "data": {
            "text/html": [
              "<html>\n",
              "<head><meta charset=\"utf-8\" /></head>\n",
              "<body>\n",
              "    <div>            <script src=\"https://cdnjs.cloudflare.com/ajax/libs/mathjax/2.7.5/MathJax.js?config=TeX-AMS-MML_SVG\"></script><script type=\"text/javascript\">if (window.MathJax && window.MathJax.Hub && window.MathJax.Hub.Config) {window.MathJax.Hub.Config({SVG: {font: \"STIX-Web\"}});}</script>                <script type=\"text/javascript\">window.PlotlyConfig = {MathJaxConfig: 'local'};</script>\n",
              "        <script src=\"https://cdn.plot.ly/plotly-2.12.1.min.js\"></script>                <div id=\"e9138b4d-f549-4fb2-9aea-74b4c7e921ae\" class=\"plotly-graph-div\" style=\"height:525px; width:100%;\"></div>            <script type=\"text/javascript\">                                    window.PLOTLYENV=window.PLOTLYENV || {};                                    if (document.getElementById(\"e9138b4d-f549-4fb2-9aea-74b4c7e921ae\")) {                    Plotly.newPlot(                        \"e9138b4d-f549-4fb2-9aea-74b4c7e921ae\",                        [{\"alignmentgroup\":\"True\",\"bingroup\":\"x\",\"hovertemplate\":\"precio_terreno=%{x}<br>count=%{y}<extra></extra>\",\"legendgroup\":\"\",\"marker\":{\"color\":\"darkorange\",\"pattern\":{\"shape\":\"\"}},\"name\":\"\",\"offsetgroup\":\"\",\"orientation\":\"v\",\"showlegend\":false,\"x\":[50000,22300,7300,18700,15000,14000,23300,14600,22200,21200,12600,22300,4800,3100,300,2500,300,49800,8500,19400,8600,5600,6200,5100,5200,5500,6000,4500,2700,19400,24800,15200,41100,25500,15200,20200,15200,17300,36600,20700,20200,27100,24500,41600,44400,17100,15500,8900,61000,19000,8000,1600,13800,11100,3400,8100,1800,2400,8400,27200,12100,1800,3900,8300,24100,32000,7500,15300,26600,32000,4400,2600,32000,10400,6300,32000,1600,9200,32000,19000,1600,7300,1600,8700,25000,10300,4000,10000,5000,18900,19400,20600,18700,18700,18900,10500,8700,19900,4500,2000,3100,3400,6500,5000,3000,3300,3700,3500,900,3800,4600,3600,2500,2100,6600,5000,3400,6000,3200,5400,8000,3900,3700,3900,4400,3000,4500,5200,6500,15000,7300,23400,27300,15900,15000,41500,41800,19000,21300,39700,44500,22500,36600,22100,37000,28400,20300,20700,21000,19600,25500,19600,39600,28800,45200,72000,24500,11900,24500,37100,19800,37800,31100,57200,75500,26000,57800,20300,22400,29200,37200,36200,82500,35200,20000,53900,16800,24300,36600,21400,14900,45800,28500,23500,19700,30100,24400,28000,35800,40500,16400,25500,29000,26200,22400,9900,9200,32200,22000,21000,153800,27000,15700,27000,27000,26400,19600,15700,15100,26300,25000,15700,15100,27000,15700,15700,15700,20500,30000,26200,15100,27000,32000,15100,15100,15100,15800,15800,15700,15100,27000,27000,18000,79700,15100,15700,15700,15700,15100,15100,15700,27000,27000,21000,15200,15700,1400,5900,13000,5500,15000,10500,20000,15100,15700,19600,27000,15700,31200,15700,53600,25000,26200,15800,15700,27000,5700,4600,7000,13000,11000,9800,10400,13000,29000,18200,17600,27400,22700,16400,32300,35000,37500,31400,40900,72400,30000,29000,36500,43000,65800,16400,18500,18900,52200,35900,49900,27400,56800,35900,30500,46000,31400,32300,18000,17600,17600,38400,18600,34600,60500,36400,30900,119500,30500,31800,16400,37000,24500,11600,18400,34700,60800,73800,82800,29100,20300,19500,30200,21900,31700,37500,25000,37000,30200,6900,39800,29600,19600,38000,17200,18000,33200,41900,16800,48500,25400,14700,30000,71000,78000,30800,43500,69400,21100,32100,32600,17200,17200,39100,23200,32000,86400,39000,33000,34100,29600,16400,27400,17500,32000,44300,65800,19100,16400,17600,18300,40300,43900,18800,35700,28200,69500,79100,21200,25400,34600,34800,60500,32000,18900,48300,35500,34600,31400,79600,88000,37500,38000,28300,34800,35100,60200,17600,37300,40200,29000,31400,17600,32900,28000,29600,35500,13300,31700,31200,32700,30000,29600,35600,27400,9500,17900,17400,11900,4000,7200,11000,3500,16200,17600,18200,12500,11900,25000,20200,36000,28300,2100,3200,19700,9500,14400,15700,15900,20300,20300,25700,18800,15000,15000,7400,7300,15000,15000,40200,27200,11200,8000,1200,3200,6200,40100,19600,18800,28800,21800,28100,34200,40000,28700,21300,4800,200,1400,700,7400,3100,5800,400,6800,13700,15700,21700,9100,14700,17800,18500,41100,19900,14600,20100,18100,49200,26600,13100,15800,500,15000,34900,14400,21100,74800,74800,74800,32000,20300,19300,4200,18900,18900,10700,8400,8000,18300,16500,7300,6000,15000,4600,3900,20700,16800,20900,21600,8300,16000,13800,20100,14100,15000,8700,64400,80800,77000,36000,32000,51400,64400,39200,85000,27000,36800,80800,54200,73000,51300,61000,12500,46400,54900,46600,55800,255000,107000,114000,49100,54900,84600,47000,89000,210000,54000,128500,95000,50000,220000,50600,62600,84200,194700,115000,28800,73800,57800,49100,89000,54000,82400,87000,50000,110200,36000,56200,85400,48200,55400,98500,36000,59400,125100,63000,83000,50600,35200,114000,89600,98500,63300,90800,72000,239300,48200,89600,89000,62600,57800,89600,27000,89000,52200,192900,64400,99500,36000,54000,73500,35200,42400,59400,52400,73800,250000,49800,27000,124800,50400,125900,87200,119700,53000,103500,124800,50000,103000,52400,69400,63700,61000,48200,78800,50600,83600,48200,108300,67000,98000,46800,78200,87200,57800,56600,53000,48200,49500,87000,93000,85000,87000,45800,54200,84800,60200,56700,78300,36000,64700,19200,81000,93000,89000,105000,63800,62500,45800,37600,49100,90800,48200,69500,105700,52400,144900,50200,193200,54800,99000,65000,93300,54500,54800,49100,114000,53000,53000,107000,50000,207700,85400,112100,139000,412600,48200,108300,44000,72000,61200,60200,114000,82400,87800,37600,58400,47600,19200,99000,50400,18000,92300,99000,53800,70200,106800,46600,52400,193300,65500,49400,80000,192500,59000,1900,2100,3600,3400,3500,3100,5200,1500,4700,5500,4500,1700,7500,4500,3900,3800,5500,2300,5000,1100,5300,1700,4900,2500,4500,5500,2500,300,13200,13800,18400,16500,2100,13300,7200,7400,25900,7400,11300,3400,15300,7500,25300,10600,12000,8400,21400,3400,14000,15800,14000,40000,6500,16900,18400,21900,19300,14100,2600,4420,3000,50400,43300,14900,43200,57000,37600,26300,25500,23900,82100,37100,9900,21500,28800,28000,36600,9900,24100,233000,54600,10600,28800,36400,29600,15100,38400,26900,25200,38100,36600,20000,27800,22000,53900,48200,9200,26700,38800,25500,14000,24500,21400,37800,22500,36800,38800,15400,19600,39500,21000,21000,35900,24500,27000,27000,27000,15700,27000,15700,15100,3600,15100,15100,15100,15700,27000,15700,15100,24500,15100,27000,27000,25000,27000,25200,15700,27000,15600,27000,15700,15700,15700,27000,15700,15100,25000,15600,21700,27000,15100,25000,15000,10500,13000,3700,13000,22900,18400,15700,15700,15000,27000,15100,15100,15100,3600,15100,15100,15100,15700,27000,15700,15100,24500,15100,27000,27000,25000,27000,25200,15700,27000,15600,27000,15700,15700,15700,27000,15700,15100,25000,15600,21700,27000,15100,25000,15000,10500,13000,3700,13000,22900,18400,23200,25100,29000,30800,91600,14100,16000,38200,22700,69600,29000,31100,17200,19000,24500,72000,30800,39200,32000,54700,48300,16400,44300,33200,28200,65800,111300,29100,28600,32000,18200,18500,36300,18200,53000,25800,75200,36700,32700,67300,31400,17400,18500,18400,25000,32800,15000,57500,17600,16100,31800,17400,22400,18300,18200,27000,30400,20300,16400,31800,48800,30000,18500,24800,12600,33200,71200,27000,35800,40100,29000,27800,18300,34800,7700,35800,29000,74400,17600,15400,35100,26500,31800,34100,42000,35100,27400,34600,35100,27800,30900,131500,33600,23200,25400,18200,36000,33500,60500,42500,36100,27400,36000,19300,19600,16800,35800,38700,35500,35300,83600,24600,25100,30900,32700,18400,29000,35300,18500,35000,11900,15800,47000,36800,65800,16400,32700,12600,33200,16500,18900,130700,14700,29400,37000,36900,19100,17600,33000,12000,19300,49300,17600,17200,61300,1800,1600,8300,27200,8700,3400,1800,7900,16100,20000,9900,14000,7800,18000,18400,18400,23000,7800,15000,11500,14100,17900,4000,5500,3500,25400,1200,50000,25700,2500,5900,17900,300,7400,17000,16200,20000,3100,18100,15200,16700,13200,16000,15700,72300,17900,19200,17400,16100,12100,21500,7200,16200,7400,3400,15000,49800,24500,38300,2700,5900,13400,7200,1400,1200,15000,23000,38900,1100,5000,1300,4500,11100,5000,4600,600,1700,2700,600,11500,16400,28500,19000,19000,39900,23700,36600,35800,13500,5000,25000,10200,16100,13800,14600,15200,15100,25000,108900,1000,19000,18700,18800,10700,1000,7800,20400,19500,54900,45000,57800,50000,57200,64400,103000,64400,56700,75400,183300,53700,51400,72600,93000,57800,27000,49100,70600,36800,51800,53000,46400,53000,66500,64000,87000,101000,225800,50000,65000,112100,72000,55800,137800,48800,60200,62500,27000,53000,25600,54900,143200,50000,50800,195000,80600,80800,51200,115000,82400,36000,107000,55800,54900,62600,48200,101500,45800,27000,24700,7300,7300,23000,22500,128500,50000,56600,70000,97000,37600,73400,59000,83000,80000,85400,38400,63000,57600,53000,52400,182600,89000,115000,49100,36000,61000,25600,32000,144900,87000,49800,110200,59000,49500,31700,20500,97300,13300,17700,1000,700,3200,2600,2600,1600,4300,2000,3600,4000,5200,16500,13800,4600,3000,12000,8700,20400,14100,5500,10000,4000,75700,4100,233000,19600,36600,20500,26700,47400,24200,28500,16800,3200,233000,25200,18200,70100,9900,57800,20400,233000,43700,23500,19600,20900,32000,35400,25100,30900,233000,36600,46500,37800,37000,28400,25000,24500,28800,153800,14900,29500,15100,108900,108900,108900,25000,108900,27000,20500,108900,15100,26000,27000,108900,15100,15100,10200,15200,15100,15800,32800,15700,27000,15100,6000,26400,7200,31300,15800,15700,108900,26500,24600,108900,25000,15800,32700,15700,25000,24900,25000,108900,27000,15100,31200,56500,21100,27000,2400,18200,26000,31600,108900,15100,3700,2500,2500,4800,4500,5000,1300,3800,3400,3600,13000,13000,13000,26000,13000,13000,13000,15700,108900,15100,27000,108900,108900,108900,27000,6700,110000,15100,108900,108900,25000,27000,15100,15100,3600,27000,15100,15800,15100,15100,27000,108900,108900,108900,108900,21400,15200,15700,27000,15100,108900,15100,27000,10200,30000,15100,15700,30000,108900,27000,15700,108900,27000,24600,24800,108900,15800,30000,30000,3900,4600,3500,2400,5700,5000,5100,1700,3300,4400,12250,7200,13000,10000,13000,13000,36500,30800,28600,84000,28600,30000,34900,19100,36000,35000,14000,116300,19300,32300,36900,39100,27800,21600,17600,86900,27400,17600,17200,26600,24500,28800,34900,23900,34700,17500,31700,18400,18700,18700,40000,32700,27800,73500,13200,40800,27800,16400,14700,34500,16000,27800,35700,27900,27400,16400,32000,35900,116700,30500,29000,30500,21900,16400,18200,18700,34100,75800,69400,39600,35000,16800,62000,16400,39000,38300,37300,63500,62800,33500,25100,35300,60500,16800,28000,16800,25400,70500,16100,27400,28000,18400,68800,36600,62800,32700,16000,50300,39000,18000,38800,24500,16800,32300,77200,30800,37900,71000,34000,30900,25800,24600,22600,30200,19500,23800,34700,32300,33200,11900,27000,35500,27800,17200,48000,30200,28200,32900,22100,25400,36400,48000,29900,67300,35700,1600,32000,10400,9000,74800,74800,5400,9700,15200,24100,1600,16600,1800,11900,74800,9800,16400,7700,4000,13000,1800,8600,17900,21000,74800,9000,1800,20600,1800,9700,8000,9800,2900,19300,8000,16800,10800,9300,13500,13700,3200,4000,6800,11200,8500,15100,19200,7800,12000,20100,15800,15200,26900,83500,41700,53900,233000,18600,20000,53900,31200,15000,16400,108900,15700,27000,24500,35900,46200,70400,15100,15000,16400,108900,15700,27000,24500,4650,35900,56300,27100,20400,16800,29900,26200,16400,9100,60500,33000,34000,30200,23800,34700,74400,72200,16800,34700,30200,36700,33500,18300,23200,7300,43400,31400,45800,24200,36200,20400,16800,26000],\"xaxis\":\"x\",\"yaxis\":\"y\",\"type\":\"histogram\"}],                        {\"template\":{\"data\":{\"pie\":[{\"automargin\":true,\"type\":\"pie\"}]},\"layout\":{\"xaxis\":{\"showgrid\":true,\"title\":{\"standoff\":15}},\"yaxis\":{\"showgrid\":true,\"title\":{\"standoff\":15}}}},\"xaxis\":{\"anchor\":\"y\",\"domain\":[0.0,1.0],\"title\":{\"text\":\"precio_terreno\"}},\"yaxis\":{\"anchor\":\"x\",\"domain\":[0.0,1.0],\"title\":{\"text\":\"count\"}},\"legend\":{\"tracegroupgap\":0},\"title\":{\"text\":\"Precio Terreno\"},\"barmode\":\"relative\"},                        {\"responsive\": true}                    ).then(function(){\n",
              "                            \n",
              "var gd = document.getElementById('e9138b4d-f549-4fb2-9aea-74b4c7e921ae');\n",
              "var x = new MutationObserver(function (mutations, observer) {{\n",
              "        var display = window.getComputedStyle(gd).display;\n",
              "        if (!display || display === 'none') {{\n",
              "            console.log([gd, 'removed!']);\n",
              "            Plotly.purge(gd);\n",
              "            observer.disconnect();\n",
              "        }}\n",
              "}});\n",
              "\n",
              "// Listen for the removal of the full notebook cells\n",
              "var notebookContainer = gd.closest('#notebook-container');\n",
              "if (notebookContainer) {{\n",
              "    x.observe(notebookContainer, {childList: true});\n",
              "}}\n",
              "\n",
              "// Listen for the clearing of the current output cell\n",
              "var outputEl = gd.closest('.output');\n",
              "if (outputEl) {{\n",
              "    x.observe(outputEl, {childList: true});\n",
              "}}\n",
              "\n",
              "                        })                };                            </script>        </div>\n",
              "</body>\n",
              "</html>"
            ]
          },
          "metadata": {}
        }
      ]
    },
    {
      "cell_type": "code",
      "source": [
        "px.histogram(datos, \n",
        "             x = datos.antiguedad,\n",
        "             title=\"Antigüedad\", \n",
        "             color_discrete_sequence = [\"black\"], # color \n",
        "             template=\"gridon\")"
      ],
      "metadata": {
        "colab": {
          "base_uri": "https://localhost:8080/",
          "height": 542
        },
        "id": "qX4md9ik_5xz",
        "outputId": "ff07004d-3012-41d7-b974-ecc66949e5fa"
      },
      "execution_count": 20,
      "outputs": [
        {
          "output_type": "display_data",
          "data": {
            "text/html": [
              "<html>\n",
              "<head><meta charset=\"utf-8\" /></head>\n",
              "<body>\n",
              "    <div>            <script src=\"https://cdnjs.cloudflare.com/ajax/libs/mathjax/2.7.5/MathJax.js?config=TeX-AMS-MML_SVG\"></script><script type=\"text/javascript\">if (window.MathJax && window.MathJax.Hub && window.MathJax.Hub.Config) {window.MathJax.Hub.Config({SVG: {font: \"STIX-Web\"}});}</script>                <script type=\"text/javascript\">window.PlotlyConfig = {MathJaxConfig: 'local'};</script>\n",
              "        <script src=\"https://cdn.plot.ly/plotly-2.12.1.min.js\"></script>                <div id=\"09dccc3d-541c-424b-a4d9-eb9c926c0762\" class=\"plotly-graph-div\" style=\"height:525px; width:100%;\"></div>            <script type=\"text/javascript\">                                    window.PLOTLYENV=window.PLOTLYENV || {};                                    if (document.getElementById(\"09dccc3d-541c-424b-a4d9-eb9c926c0762\")) {                    Plotly.newPlot(                        \"09dccc3d-541c-424b-a4d9-eb9c926c0762\",                        [{\"alignmentgroup\":\"True\",\"bingroup\":\"x\",\"hovertemplate\":\"antiguedad=%{x}<br>count=%{y}<extra></extra>\",\"legendgroup\":\"\",\"marker\":{\"color\":\"black\",\"pattern\":{\"shape\":\"\"}},\"name\":\"\",\"offsetgroup\":\"\",\"orientation\":\"v\",\"showlegend\":false,\"x\":[42,0,133,13,0,31,33,23,36,4,123,1,13,153,9,88,9,0,82,17,12,21,1,24,16,28,126,26,53,56,51,3,9,201,1,19,1,0,43,0,45,32,54,9,0,0,98,54,73,48,10,16,20,32,15,135,14,15,10,15,10,14,225,25,15,0,30,12,16,0,0,14,0,10,18,0,14,53,0,32,14,125,14,11,2,14,0,16,91,15,11,11,25,26,15,103,30,13,18,68,10,49,30,41,2,8,16,0,75,36,43,45,6,123,10,0,6,16,11,12,45,75,12,83,0,9,12,3,33,0,10,15,153,0,0,63,33,44,48,29,178,32,1,16,1,21,53,16,16,15,7,16,15,15,1,14,12,83,13,1,37,10,14,9,13,14,7,16,15,1,0,1,12,15,6,0,15,0,13,16,33,9,10,48,23,16,0,35,10,9,37,6,53,35,15,17,93,103,16,14,0,19,19,18,17,30,30,19,16,30,25,19,17,17,20,18,17,73,7,10,16,16,11,16,18,15,19,19,19,19,18,16,50,18,18,16,18,19,19,16,18,18,17,24,17,19,138,16,0,16,0,22,12,19,16,35,17,16,12,17,10,25,10,18,19,16,17,26,27,0,21,24,23,9,20,19,24,36,58,19,41,0,26,26,16,8,32,5,6,18,15,19,16,24,10,26,2,30,0,33,36,24,29,35,12,16,18,0,10,33,25,1,36,14,34,34,19,15,30,3,19,34,18,14,18,37,19,22,16,31,33,4,18,15,29,73,36,38,17,25,22,29,18,49,18,23,17,61,30,25,9,27,133,15,56,15,37,18,17,7,31,12,9,26,35,33,43,18,29,0,33,17,18,11,20,19,25,15,9,18,10,32,20,21,78,29,33,35,16,35,18,32,20,31,13,10,13,16,10,54,29,32,55,19,14,8,29,33,18,25,9,38,38,19,34,26,35,35,40,3,37,13,11,16,154,5,14,19,17,128,19,11,20,14,25,10,64,114,15,15,88,54,19,15,25,12,32,14,17,2,1,124,121,2,3,5,14,16,59,13,11,118,6,54,18,17,52,47,27,164,29,48,12,15,64,15,0,13,32,13,116,13,1,33,44,6,7,32,10,16,51,124,134,2,15,49,48,12,6,11,25,13,0,0,0,0,1,11,4,11,11,10,10,36,13,13,129,124,28,29,29,14,22,20,19,27,19,20,20,15,30,11,30,29,0,0,6,1,32,24,63,3,0,29,31,53,113,1,0,3,38,16,93,55,142,0,33,36,27,6,78,103,0,12,0,32,169,32,1,64,2,150,18,5,25,32,73,103,3,83,33,1,15,1,0,0,33,25,103,37,14,0,82,33,0,1,0,0,123,0,34,0,13,0,51,0,27,0,16,50,16,10,17,4,0,113,43,0,0,14,9,3,52,0,103,20,28,16,4,0,30,0,24,32,123,30,6,33,22,1,50,51,3,14,3,1,1,94,2,4,34,35,33,16,16,83,77,79,84,18,32,0,36,104,52,17,44,18,115,84,104,104,34,56,15,19,29,25,32,18,31,32,36,94,0,32,144,18,19,40,34,34,1,33,34,62,32,25,3,3,99,5,16,4,39,46,33,44,2,5,2,40,14,35,18,135,80,17,26,44,18,44,1,15,34,14,19,26,6,14,34,139,44,66,77,54,70,17,124,20,39,15,15,11,13,66,11,43,134,15,126,41,3,39,65,13,34,10,9,25,26,32,22,16,36,7,0,54,0,0,17,13,154,14,16,20,10,11,15,8,1,19,21,53,15,17,13,14,18,67,17,50,34,1,19,14,9,4,21,11,6,6,4,16,37,16,16,13,16,39,0,10,74,6,7,18,38,10,11,34,8,1,7,36,40,2,9,25,11,8,15,34,16,37,9,32,16,11,15,17,2,19,17,70,37,24,18,18,19,17,20,17,54,17,17,17,20,16,20,18,26,19,16,16,15,18,33,17,20,17,20,18,20,19,20,18,17,15,17,25,16,25,15,1,22,0,8,19,43,13,20,19,17,18,17,19,17,54,17,17,17,20,16,20,18,26,19,16,16,15,18,33,17,20,17,20,18,20,19,20,18,17,15,17,25,16,25,15,1,22,0,8,19,43,13,52,39,26,18,21,1,17,16,27,49,19,8,19,19,31,23,35,21,33,25,21,19,35,45,39,19,19,16,18,38,31,20,126,23,19,102,19,18,32,12,37,4,22,19,25,174,2,23,21,3,56,0,102,20,18,38,30,20,19,38,22,4,20,74,82,35,8,31,36,26,30,31,21,38,55,4,40,16,25,23,35,31,18,13,15,36,11,84,36,41,28,16,32,30,39,19,57,77,17,38,11,37,6,30,27,30,4,15,18,36,15,29,32,36,36,13,30,33,18,21,21,42,44,50,10,19,36,20,33,6,21,19,19,32,27,4,19,18,27,6,18,19,18,21,22,15,15,11,5,28,16,15,27,96,1,10,20,18,28,7,10,17,23,15,32,77,17,13,14,77,41,14,16,52,95,90,16,11,46,40,18,9,71,4,0,11,105,11,28,1,42,52,36,26,15,3,165,10,5,85,3,40,15,76,34,20,2,25,30,14,6,29,14,7,27,35,46,0,15,27,105,130,95,145,34,14,13,51,50,11,53,35,0,33,1,5,30,21,25,47,19,18,16,0,9,14,15,19,12,13,85,5,1,38,125,34,35,33,85,55,3,140,4,46,115,17,31,129,27,5,35,3,6,33,33,18,34,35,41,121,53,23,18,0,4,50,39,37,16,17,85,19,32,19,33,32,35,95,69,5,31,34,80,3,18,33,115,35,35,15,3,16,19,25,18,135,8,32,14,35,30,50,35,5,53,19,125,41,4,10,52,2,31,17,37,110,152,30,1,23,12,8,42,121,19,4,33,115,27,8,3,57,20,57,137,71,28,11,39,16,6,40,47,12,27,27,84,14,22,45,1,19,16,16,2,15,105,1,18,17,18,14,11,7,14,17,1,1,155,16,1,19,9,18,1,3,37,16,18,27,10,8,27,0,14,6,9,17,9,39,38,17,3,20,18,21,1,1,1,19,1,19,50,1,18,7,18,1,18,18,14,26,20,21,15,19,17,18,25,33,115,13,21,20,1,33,28,1,16,21,16,18,16,28,16,1,26,18,14,105,15,19,130,84,9,14,0,21,14,15,18,57,26,34,50,3,1,48,19,20,19,21,12,11,0,21,1,18,19,1,1,1,17,13,5,20,1,1,25,19,22,18,85,17,26,19,18,18,19,1,1,1,1,19,21,21,18,25,1,20,20,57,15,18,20,10,1,25,21,1,18,27,28,0,20,9,10,28,55,41,44,35,19,17,6,36,37,21,35,0,20,18,13,21,34,41,52,30,34,35,19,19,28,24,21,8,35,17,21,35,53,26,11,34,20,22,40,32,28,9,30,10,7,38,20,20,22,15,33,40,64,3,18,37,27,21,35,19,42,34,26,21,27,22,16,1,39,20,35,30,20,20,18,40,9,53,16,16,20,27,20,7,13,34,18,19,37,33,38,18,26,149,21,21,29,3,36,21,20,16,19,19,31,19,33,40,21,37,32,21,35,17,34,0,20,15,35,27,85,22,19,23,27,38,34,35,3,43,19,40,6,26,35,45,39,38,36,16,22,59,20,37,16,1,12,13,2,1,14,14,12,17,17,34,17,16,0,26,85,11,8,8,16,14,12,14,1,35,16,14,16,15,13,70,16,12,38,15,12,38,14,15,95,5,15,15,33,22,15,20,33,17,22,19,13,1,11,4,1,71,20,3,15,1,116,1,20,21,28,106,176,38,19,1,116,1,20,21,28,15,106,12,42,9,27,38,40,21,7,4,121,28,38,26,39,9,23,22,39,19,34,19,22,57,0,5,42,41,32,37,9,48,86],\"xaxis\":\"x\",\"yaxis\":\"y\",\"type\":\"histogram\"}],                        {\"template\":{\"data\":{\"pie\":[{\"automargin\":true,\"type\":\"pie\"}]},\"layout\":{\"xaxis\":{\"showgrid\":true,\"title\":{\"standoff\":15}},\"yaxis\":{\"showgrid\":true,\"title\":{\"standoff\":15}}}},\"xaxis\":{\"anchor\":\"y\",\"domain\":[0.0,1.0],\"title\":{\"text\":\"antiguedad\"}},\"yaxis\":{\"anchor\":\"x\",\"domain\":[0.0,1.0],\"title\":{\"text\":\"count\"}},\"legend\":{\"tracegroupgap\":0},\"title\":{\"text\":\"Antig\\u00fcedad\"},\"barmode\":\"relative\"},                        {\"responsive\": true}                    ).then(function(){\n",
              "                            \n",
              "var gd = document.getElementById('09dccc3d-541c-424b-a4d9-eb9c926c0762');\n",
              "var x = new MutationObserver(function (mutations, observer) {{\n",
              "        var display = window.getComputedStyle(gd).display;\n",
              "        if (!display || display === 'none') {{\n",
              "            console.log([gd, 'removed!']);\n",
              "            Plotly.purge(gd);\n",
              "            observer.disconnect();\n",
              "        }}\n",
              "}});\n",
              "\n",
              "// Listen for the removal of the full notebook cells\n",
              "var notebookContainer = gd.closest('#notebook-container');\n",
              "if (notebookContainer) {{\n",
              "    x.observe(notebookContainer, {childList: true});\n",
              "}}\n",
              "\n",
              "// Listen for the clearing of the current output cell\n",
              "var outputEl = gd.closest('.output');\n",
              "if (outputEl) {{\n",
              "    x.observe(outputEl, {childList: true});\n",
              "}}\n",
              "\n",
              "                        })                };                            </script>        </div>\n",
              "</body>\n",
              "</html>"
            ]
          },
          "metadata": {}
        }
      ]
    },
    {
      "cell_type": "code",
      "source": [
        "px.histogram(datos, \n",
        "             x = datos.metros_habitables,\n",
        "             title=\"Metros habitables\", \n",
        "             color_discrete_sequence = [\"magenta\"], # color \n",
        "             template=\"gridon\")"
      ],
      "metadata": {
        "colab": {
          "base_uri": "https://localhost:8080/",
          "height": 542
        },
        "id": "skILZHxxAHgW",
        "outputId": "1f0471e4-42ad-40af-86c4-325fe12713e9"
      },
      "execution_count": 21,
      "outputs": [
        {
          "output_type": "display_data",
          "data": {
            "text/html": [
              "<html>\n",
              "<head><meta charset=\"utf-8\" /></head>\n",
              "<body>\n",
              "    <div>            <script src=\"https://cdnjs.cloudflare.com/ajax/libs/mathjax/2.7.5/MathJax.js?config=TeX-AMS-MML_SVG\"></script><script type=\"text/javascript\">if (window.MathJax && window.MathJax.Hub && window.MathJax.Hub.Config) {window.MathJax.Hub.Config({SVG: {font: \"STIX-Web\"}});}</script>                <script type=\"text/javascript\">window.PlotlyConfig = {MathJaxConfig: 'local'};</script>\n",
              "        <script src=\"https://cdn.plot.ly/plotly-2.12.1.min.js\"></script>                <div id=\"8ca1797b-1bf4-4e36-9bf5-f1bfc792fe7e\" class=\"plotly-graph-div\" style=\"height:525px; width:100%;\"></div>            <script type=\"text/javascript\">                                    window.PLOTLYENV=window.PLOTLYENV || {};                                    if (document.getElementById(\"8ca1797b-1bf4-4e36-9bf5-f1bfc792fe7e\")) {                    Plotly.newPlot(                        \"8ca1797b-1bf4-4e36-9bf5-f1bfc792fe7e\",                        [{\"alignmentgroup\":\"True\",\"bingroup\":\"x\",\"hovertemplate\":\"metros_habitables=%{x}<br>count=%{y}<extra></extra>\",\"legendgroup\":\"\",\"marker\":{\"color\":\"magenta\",\"pattern\":{\"shape\":\"\"}},\"name\":\"\",\"offsetgroup\":\"\",\"orientation\":\"v\",\"showlegend\":false,\"x\":[906,1953,1944,1944,840,1152,2752,1662,1632,1416,2894,1624,704,1383,1300,936,1300,2816,924,1092,1056,1600,1576,2080,1600,2224,1656,1170,2461,1544,1220,1858,2219,1876,2026,1671,2060,1884,2022,2394,1390,1954,1554,1976,2479,2714,797,1500,1838,1042,1782,1480,1426,1404,1480,1344,1480,1480,1596,1768,1348,1480,1483,1576,1008,2332,1064,2428,1310,1662,2000,1480,2969,1542,1527,2195,1480,1452,2360,1440,1480,1879,1480,1792,1386,1676,768,1560,1000,1676,1656,2300,1712,1350,1676,1317,1056,912,1232,1380,936,720,1628,1144,1827,1784,1851,2194,920,1280,1232,1406,1164,1198,2206,1880,1368,1901,1547,896,1008,912,2443,900,2098,2115,1344,1106,1440,840,1170,1664,3024,2598,840,1701,1456,1224,1411,1608,3020,1898,2544,1038,1820,2202,2387,1368,1480,1348,1889,1343,2011,1180,1983,2253,1604,1196,1602,1747,1092,2410,1933,3080,4534,1677,2900,1392,1058,2342,2206,1516,2836,1256,2340,2129,1343,2963,2114,1144,988,1475,1247,1912,1440,1596,2665,1984,1616,1917,2592,1845,1360,1664,1098,1214,1046,1144,1140,1232,3020,1508,912,1508,1561,2625,936,912,1492,1599,2304,912,1385,1561,884,912,912,1384,1334,1433,1492,1561,936,1492,1853,1240,912,912,912,1184,1638,1508,672,1346,1184,912,912,988,1184,1385,912,1548,1561,1008,1385,908,2246,1820,2554,824,2458,1324,2916,1032,912,1320,1508,912,2040,912,1776,1304,1836,912,912,1527,1454,1700,1680,2401,1176,1344,1344,1714,1992,924,1290,2521,1377,1237,2310,1863,1693,1684,1585,2290,2464,2549,2316,2600,2677,1479,1138,1576,2084,1726,1851,2310,2930,2576,1664,1237,2662,1575,1566,1326,1480,2161,1352,1648,2936,2404,1738,5228,2576,1586,1480,1917,1938,2110,1479,2576,2445,2185,2078,1674,1228,1375,1650,1718,2576,2280,2088,1917,3140,1029,1896,2310,924,2080,1237,1287,1847,1064,1480,2462,2228,1260,1559,1980,2380,1887,2185,2488,1152,2025,2521,1480,1480,2362,1910,1952,3358,2090,1965,2110,1456,1479,1874,2099,1872,2388,2812,1064,1375,1480,1260,2086,2588,1480,1752,2660,2417,2793,1152,2344,1926,2208,2208,2708,1142,2529,1797,1611,2576,2653,3896,1585,2774,1283,1136,1896,1536,1480,2096,2324,2079,1911,1480,2208,1462,1794,1886,1080,2576,1508,1672,1739,3074,1976,2302,1480,960,1582,1600,2320,1034,1488,1056,864,1552,1816,1530,1756,4211,2206,1092,1594,1480,1480,3003,2164,1519,1604,1400,1752,880,1240,1514,840,840,2592,1010,1380,1366,1681,2037,2570,936,960,1352,1060,1508,1272,2389,1210,1230,1832,1854,2268,1807,1272,1560,1863,1120,1832,2092,2702,1040,1758,2326,2340,2058,944,640,2353,2038,1469,2219,1774,1296,2289,2463,3126,2550,1182,1890,1944,2815,1040,1638,2206,3170,2328,2737,2879,2158,1336,1594,1603,2190,1478,1348,1558,1574,1612,1216,2256,1170,1456,1320,2076,1326,2240,2100,1129,2296,1475,1268,1816,1632,1254,1272,1604,2474,2057,1852,2242,1564,960,1680,1428,1672,2284,1286,1250,1896,2592,1904,1680,1152,1290,2396,3090,1428,1631,1368,1134,1697,1666,1738,1457,1632,2186,2117,936,3347,1824,2592,1080,3148,2128,1616,3313,2327,1640,1421,1280,3467,1250,1368,1396,2004,2242,2786,2242,1404,1600,1408,972,4856,2885,1560,1472,2124,2162,2515,2294,1744,2022,1578,3400,1744,2560,1398,2494,2208,2550,1812,1290,1172,4128,1816,2628,1254,1660,1850,1258,1219,1850,2103,1806,1674,2242,1408,3457,1728,2354,2246,1902,1178,2896,2457,936,934,1279,1888,1686,2310,1200,1944,1184,2000,1744,1620,2359,2230,1147,2205,3243,1431,936,1368,1800,1920,1416,616,1488,1320,1250,1286,2886,1279,1074,1304,3191,1056,1468,1598,1160,1028,2014,1296,932,1290,1448,1368,3046,1272,1822,1579,1660,2452,2004,4210,1640,2847,1816,2028,775,1368,936,1680,1368,1326,1579,1286,2132,2000,2222,2641,2472,1926,1534,1490,1126,1435,1136,2162,2328,2754,1504,2473,2072,1480,2096,1050,1650,1596,979,1393,864,2744,2300,1612,2640,775,2470,3124,3254,1544,1410,906,1512,1232,921,1287,2600,1302,1144,1703,1553,1040,2124,1344,884,1812,880,1256,1826,1134,1916,1272,960,1152,840,2106,1632,1092,1634,1890,2224,1475,1480,1368,1200,840,1176,1380,1786,1480,1574,950,3178,1342,1336,1542,2272,1480,2506,1852,1055,1392,1608,1564,2068,2516,1684,1481,999,896,792,2747,2277,1281,2462,2897,2672,1932,1320,3296,3279,3204,1217,1782,1180,1452,2140,1219,1518,3328,2344,960,1544,2873,1180,1368,1904,1320,1594,1847,3125,2004,1623,1120,2363,2572,1548,2734,1462,1558,1664,1877,1838,2368,2104,1180,2399,1232,1180,2022,1364,1343,1492,999,2102,1656,1561,988,1765,912,1592,1344,1385,1385,1679,908,1527,912,1184,1719,1080,2118,2527,1592,1294,1974,988,1508,908,1910,912,912,988,1748,912,1385,1300,908,1900,2191,1080,1300,2458,1040,2886,1840,1988,672,1512,912,912,1385,1508,1385,1628,1592,1344,1385,1385,1679,908,1527,912,1184,1719,1080,2118,2527,1592,1294,1974,988,1508,908,1910,912,912,988,1748,912,1385,1300,908,1900,2191,1080,1300,2458,1040,2886,1840,1988,672,1512,1635,1672,1892,1652,2513,3336,1302,2006,1836,1994,1652,1888,1480,1234,1778,2514,2700,2330,2676,2180,2284,1314,2396,2088,2310,2040,2599,1702,2125,2310,1431,924,1799,976,2217,1969,2376,1585,1453,2973,1612,2734,1479,945,1938,1364,3242,1571,1314,2413,900,3157,908,924,1138,2310,1874,1228,1479,1612,2088,2131,924,1692,1568,2262,2960,1683,2680,2742,2012,2702,1314,1672,1200,1700,2652,3062,1290,1012,2310,2026,1404,1782,2002,1782,2212,1872,1804,1910,1632,3824,1196,2259,1690,1227,1278,668,2762,1558,1352,1920,1940,1249,1576,1419,1700,2748,1792,1724,2692,1734,2014,2056,1745,1352,2259,2572,924,2000,929,1540,1730,1500,2522,1479,1922,1215,2772,2574,945,2914,1480,1914,1354,2302,1234,1480,1665,2182,924,1220,1480,1375,2003,1480,1480,1456,1888,1112,1480,1480,1836,1522,2709,1020,2208,1368,2488,1865,3174,2944,960,3142,1666,708,1598,1564,1224,1379,2310,960,960,1820,1632,1594,1290,1560,1453,1664,2169,1420,1441,1016,2947,1652,1927,960,1804,2616,1116,2147,876,2102,1776,1996,1759,1014,2270,1548,1620,2608,1080,1140,1152,1056,1257,936,1140,960,1058,768,2048,1198,2430,918,2722,2364,1440,1744,2280,1736,883,1001,1296,2304,2076,1468,1272,1900,1548,2212,2376,1712,2660,1487,1532,2486,1918,1270,1406,1385,1300,3259,1536,1636,1944,1676,1040,1800,1394,1885,1056,1593,1436,1668,1302,1239,840,780,1728,1666,2022,2225,1023,1290,3968,1699,2137,1428,936,2586,1373,1272,1368,2120,1279,1104,1092,2247,1146,3250,1920,1932,1620,1640,1040,1676,1991,1908,966,1815,1664,1216,1564,2752,936,1617,1452,1911,1580,1920,1155,3770,1675,912,1510,864,1600,1744,3208,1290,1900,2808,1576,1118,1752,1753,2186,1800,2462,1286,1337,1170,1185,2424,1828,2176,2000,1340,1208,2244,1592,1831,1093,1460,2128,1368,2200,2310,1776,1852,1092,2247,1311,1392,1116,812,1872,1248,1702,1346,1596,884,814,720,2051,1590,1202,2016,1274,960,1056,1820,2486,1890,1274,1716,1336,1392,2346,1475,1248,1920,2040,2649,1500,3163,1343,1573,1270,1316,3092,1328,2560,1343,3250,3086,1080,1120,2876,1281,2900,1512,2879,2537,1056,1296,1512,1338,2368,1528,1857,3320,2227,2742,2988,1656,1760,1702,1682,1180,2885,1281,1596,1184,2745,2680,2483,1188,2366,1508,792,3285,1673,2000,1561,2828,1592,1184,1708,1276,1184,908,1612,912,1508,1492,874,1573,1227,2494,912,988,2762,2625,1222,3144,1173,908,2274,908,1540,1196,1780,2670,1581,1592,2011,1391,2636,1656,1518,1182,1836,1529,2715,1184,1120,1008,1008,2077,1572,1874,768,1552,2331,960,1720,1437,1510,3021,1960,2112,2917,912,2244,1202,2601,2492,2680,2271,2012,920,2111,1184,2627,2641,1736,1656,1168,1385,969,1508,1602,912,1128,1514,1535,2722,2711,3020,2712,2556,1184,912,2212,1602,3285,1406,1472,1072,2504,1184,912,2120,3344,2243,908,2714,1360,1719,1404,2134,912,1423,2044,896,1380,960,840,1820,2144,1610,1752,1729,1056,1292,832,2256,1274,1608,1868,1554,3604,1887,1326,1876,1672,2064,1138,1814,2380,976,2886,2483,1846,2592,1792,2588,1210,1290,2444,2376,1480,1375,2676,1778,2570,1272,1852,2298,2259,2426,1480,1244,1479,2358,1453,2080,1960,2600,1897,1872,1260,1228,1956,1480,1793,2078,1666,2378,1452,1792,2290,3511,1922,2263,1672,1902,1479,1314,1302,2310,2880,1948,1613,2803,1479,2147,1314,2330,1352,2276,2162,2091,2564,2050,1768,2497,1290,1776,1480,1910,2828,2535,2576,1500,1480,2250,1831,2214,1846,1302,2212,1783,1480,1794,1918,1480,1756,2499,2310,2950,2702,2288,1838,2310,1152,1577,2175,1375,1616,1954,2728,2553,1963,2564,1792,1663,2070,2588,2276,1732,2310,1742,2802,1902,2030,1498,2116,2108,1480,2427,1348,1391,3422,2686,1034,1072,1512,1008,1480,912,1480,1558,2648,2248,1461,1470,1900,2054,1480,1822,1620,2120,3009,1791,1480,1300,1480,1876,1564,1248,1480,2281,2395,1915,1400,1104,1796,1512,1646,1868,1301,1652,1056,2312,2072,1200,1764,960,988,1514,1320,2719,1796,1709,3008,1350,1200,1857,2305,2184,1668,2712,912,1508,1232,1836,4486,2204,1184,2184,1668,2712,912,1508,1232,960,1836,1836,1803,1463,1290,2310,1664,1479,2483,2480,2699,1676,2816,1966,2112,2762,2184,1480,1624,1650,1313,2600,945,1121,2288,2718,2464,2426,2310,2564,1099,1225,1959],\"xaxis\":\"x\",\"yaxis\":\"y\",\"type\":\"histogram\"}],                        {\"template\":{\"data\":{\"pie\":[{\"automargin\":true,\"type\":\"pie\"}]},\"layout\":{\"xaxis\":{\"showgrid\":true,\"title\":{\"standoff\":15}},\"yaxis\":{\"showgrid\":true,\"title\":{\"standoff\":15}}}},\"xaxis\":{\"anchor\":\"y\",\"domain\":[0.0,1.0],\"title\":{\"text\":\"metros_habitables\"}},\"yaxis\":{\"anchor\":\"x\",\"domain\":[0.0,1.0],\"title\":{\"text\":\"count\"}},\"legend\":{\"tracegroupgap\":0},\"title\":{\"text\":\"Metros habitables\"},\"barmode\":\"relative\"},                        {\"responsive\": true}                    ).then(function(){\n",
              "                            \n",
              "var gd = document.getElementById('8ca1797b-1bf4-4e36-9bf5-f1bfc792fe7e');\n",
              "var x = new MutationObserver(function (mutations, observer) {{\n",
              "        var display = window.getComputedStyle(gd).display;\n",
              "        if (!display || display === 'none') {{\n",
              "            console.log([gd, 'removed!']);\n",
              "            Plotly.purge(gd);\n",
              "            observer.disconnect();\n",
              "        }}\n",
              "}});\n",
              "\n",
              "// Listen for the removal of the full notebook cells\n",
              "var notebookContainer = gd.closest('#notebook-container');\n",
              "if (notebookContainer) {{\n",
              "    x.observe(notebookContainer, {childList: true});\n",
              "}}\n",
              "\n",
              "// Listen for the clearing of the current output cell\n",
              "var outputEl = gd.closest('.output');\n",
              "if (outputEl) {{\n",
              "    x.observe(outputEl, {childList: true});\n",
              "}}\n",
              "\n",
              "                        })                };                            </script>        </div>\n",
              "</body>\n",
              "</html>"
            ]
          },
          "metadata": {}
        }
      ]
    },
    {
      "cell_type": "code",
      "source": [
        "px.histogram(datos, \n",
        "             x = datos.universitarios,\n",
        "             title=\"Universitarios\", \n",
        "             color_discrete_sequence = [\"darkviolet\"], # color \n",
        "             template=\"gridon\")"
      ],
      "metadata": {
        "colab": {
          "base_uri": "https://localhost:8080/",
          "height": 542
        },
        "id": "x3OucrhPATgu",
        "outputId": "58efb505-45fa-4f91-fc15-1d9387ec867f"
      },
      "execution_count": 22,
      "outputs": [
        {
          "output_type": "display_data",
          "data": {
            "text/html": [
              "<html>\n",
              "<head><meta charset=\"utf-8\" /></head>\n",
              "<body>\n",
              "    <div>            <script src=\"https://cdnjs.cloudflare.com/ajax/libs/mathjax/2.7.5/MathJax.js?config=TeX-AMS-MML_SVG\"></script><script type=\"text/javascript\">if (window.MathJax && window.MathJax.Hub && window.MathJax.Hub.Config) {window.MathJax.Hub.Config({SVG: {font: \"STIX-Web\"}});}</script>                <script type=\"text/javascript\">window.PlotlyConfig = {MathJaxConfig: 'local'};</script>\n",
              "        <script src=\"https://cdn.plot.ly/plotly-2.12.1.min.js\"></script>                <div id=\"5fb2cd90-5064-4bd3-bd44-5145e36647ee\" class=\"plotly-graph-div\" style=\"height:525px; width:100%;\"></div>            <script type=\"text/javascript\">                                    window.PLOTLYENV=window.PLOTLYENV || {};                                    if (document.getElementById(\"5fb2cd90-5064-4bd3-bd44-5145e36647ee\")) {                    Plotly.newPlot(                        \"5fb2cd90-5064-4bd3-bd44-5145e36647ee\",                        [{\"alignmentgroup\":\"True\",\"bingroup\":\"x\",\"hovertemplate\":\"universitarios=%{x}<br>count=%{y}<extra></extra>\",\"legendgroup\":\"\",\"marker\":{\"color\":\"darkviolet\",\"pattern\":{\"shape\":\"\"}},\"name\":\"\",\"offsetgroup\":\"\",\"orientation\":\"v\",\"showlegend\":false,\"x\":[35,51,51,51,51,22,51,35,51,44,51,51,41,57,41,57,41,71,35,35,35,39,39,39,39,39,39,39,39,71,71,52,64,52,52,71,52,52,71,71,71,71,71,64,71,71,52,71,71,71,52,52,52,52,52,52,52,52,52,52,52,52,52,52,52,52,52,52,52,52,52,52,52,52,52,52,52,52,52,52,52,52,52,52,44,44,22,22,22,51,51,51,51,51,51,51,51,51,44,44,44,44,44,44,44,44,44,44,44,44,44,44,44,44,44,44,44,44,44,44,44,44,44,44,44,44,44,44,44,51,51,51,51,51,51,41,41,71,71,71,41,64,64,64,64,64,64,64,64,64,64,64,64,64,64,64,64,45,64,64,64,64,64,64,64,64,64,64,64,64,64,64,64,64,64,64,64,64,64,64,64,64,64,64,64,64,64,64,64,64,64,64,57,64,64,64,57,64,64,64,64,52,52,52,52,64,52,52,52,64,52,52,52,52,52,52,52,52,52,64,52,52,52,52,52,52,52,52,52,52,52,52,52,52,52,52,52,52,52,52,52,52,52,52,52,52,39,39,64,45,64,64,64,52,52,52,52,52,52,52,52,64,64,52,52,52,39,39,45,64,64,64,64,64,64,64,64,64,82,64,64,64,64,64,64,64,64,64,64,64,64,64,64,64,82,64,71,64,64,64,64,64,64,64,64,64,64,64,64,64,64,64,64,64,64,64,64,64,64,64,64,64,82,64,64,64,64,64,64,64,64,64,64,64,64,82,64,64,64,64,64,64,64,64,64,64,64,82,64,64,82,64,64,64,64,64,64,64,64,64,64,71,64,64,64,64,64,64,64,64,64,64,64,64,64,64,64,64,64,64,64,64,64,64,64,64,64,64,64,64,64,64,64,64,64,82,64,64,64,64,64,64,64,64,64,64,64,64,64,64,64,64,64,64,64,64,64,64,64,64,64,51,54,36,54,54,54,57,57,57,57,57,57,54,57,57,36,36,54,54,57,57,57,57,57,57,57,57,36,36,36,36,36,36,36,57,36,36,20,41,30,41,30,60,27,60,60,60,60,60,60,60,47,47,47,47,47,47,47,47,27,27,27,27,20,60,54,60,63,54,60,60,60,54,54,60,60,36,57,57,57,57,57,57,57,54,54,57,54,57,57,54,54,54,54,54,54,54,54,57,57,57,57,57,57,38,57,57,57,57,57,54,57,57,57,57,57,57,57,57,57,57,57,57,57,57,57,57,57,57,57,57,57,57,57,57,57,57,57,57,57,57,57,57,57,57,57,57,57,57,57,57,57,57,57,57,57,57,57,57,57,57,57,57,57,57,57,57,57,57,57,57,57,57,57,57,57,57,57,57,57,57,57,57,57,57,57,57,57,57,57,57,57,57,57,57,57,57,57,57,57,57,57,57,57,57,57,57,57,57,57,57,57,57,57,57,57,57,57,57,57,57,57,57,57,57,57,57,57,57,57,57,57,57,57,57,57,57,57,57,57,57,57,57,57,57,57,57,57,57,57,57,57,57,57,57,57,57,57,57,57,57,57,57,57,57,57,57,57,57,57,57,57,57,57,57,57,57,57,57,57,57,57,57,57,57,57,57,57,57,57,57,57,57,57,57,57,57,57,57,57,57,57,57,57,57,57,57,57,57,57,38,38,38,38,38,38,38,38,38,38,38,38,38,38,38,38,38,38,38,38,38,38,38,38,38,38,38,38,57,57,57,57,54,54,36,36,47,36,36,54,54,54,57,57,57,54,54,54,57,30,57,57,57,57,57,57,38,57,20,20,20,27,63,63,63,63,63,63,63,63,63,63,63,63,63,63,63,63,63,63,63,23,63,63,63,63,63,63,63,63,63,63,63,41,63,63,63,63,63,63,63,63,63,63,63,63,63,63,63,63,63,63,63,63,54,54,54,54,54,54,54,54,54,54,54,54,54,54,54,63,54,54,54,54,54,63,54,54,54,54,54,54,54,54,54,54,54,54,54,54,54,54,63,63,63,23,63,57,57,54,54,54,54,54,54,54,54,54,54,54,54,54,54,54,63,54,54,54,54,54,63,54,54,54,54,54,54,54,54,54,54,54,54,54,54,54,54,63,63,63,23,63,57,57,63,63,63,63,63,63,63,63,63,60,63,63,63,63,63,63,63,63,63,60,63,63,63,63,63,63,63,63,63,63,63,63,60,63,63,77,63,63,63,63,63,63,63,63,63,63,63,63,63,63,77,63,60,63,63,63,63,63,63,63,63,63,63,60,63,77,63,63,63,77,63,63,63,63,63,63,63,63,63,63,63,63,63,60,63,63,63,63,63,63,63,63,63,63,63,63,63,60,63,63,63,63,63,63,63,63,63,63,63,63,63,63,63,63,63,63,63,60,63,63,63,77,63,63,63,63,63,63,63,63,63,63,63,63,63,63,63,63,63,63,63,63,63,63,63,54,54,54,57,54,54,54,54,54,36,57,36,57,57,57,57,57,57,57,57,57,57,27,36,36,64,33,21,52,27,40,62,36,36,62,62,62,36,62,52,62,62,62,62,62,62,62,62,62,62,62,35,62,35,27,35,52,35,50,36,36,62,35,33,33,35,35,52,33,50,50,50,33,50,50,33,33,50,50,50,40,52,52,52,43,52,52,52,52,62,36,36,62,62,21,40,40,40,40,36,35,35,35,36,36,21,21,21,62,62,62,62,62,62,62,62,62,62,62,62,62,62,62,62,62,62,62,62,62,62,62,62,62,62,62,62,62,62,62,62,62,62,62,62,62,62,62,62,62,62,62,62,62,62,62,62,62,62,62,62,62,62,62,62,62,62,62,62,35,35,35,35,35,62,62,62,62,62,62,62,62,62,62,62,62,62,62,62,62,62,62,62,62,62,62,62,62,62,62,62,62,62,62,52,40,52,52,52,36,36,36,36,36,36,36,36,36,36,36,62,62,36,36,62,62,62,62,27,27,27,21,64,64,64,64,64,64,64,64,64,64,64,64,64,64,64,64,64,64,64,64,64,64,64,64,64,64,64,64,64,64,64,64,64,64,64,64,64,64,64,40,40,40,40,40,40,40,40,40,40,64,40,40,40,40,40,40,40,40,64,40,40,40,40,64,64,64,40,40,40,64,64,40,40,40,64,40,40,64,40,40,40,40,40,40,40,40,64,64,64,64,40,40,36,36,36,36,36,36,36,36,36,36,64,64,64,28,64,64,64,40,40,40,40,40,40,40,40,40,40,40,40,40,40,40,40,40,64,40,40,40,40,40,40,40,40,40,40,64,40,40,40,40,40,40,40,40,64,40,40,40,40,40,40,40,40,64,64,40,40,40,40,36,36,36,36,36,36,36,36,36,36,64,64,64,64,64,64,64,64,64,64,64,64,64,64,64,64,64,64,64,64,64,64,64,64,64,75,64,64,64,64,64,64,64,64,64,64,64,64,64,64,64,64,64,64,64,64,64,64,64,64,64,64,64,64,64,64,64,75,64,64,64,64,64,64,64,64,64,64,64,64,64,64,64,64,64,64,64,64,64,64,64,64,64,64,64,64,64,64,64,64,64,64,64,64,64,64,64,64,64,64,64,64,64,64,64,64,64,64,64,64,64,52,64,64,64,64,64,64,64,64,64,64,64,64,64,64,64,64,52,64,64,64,75,64,64,40,40,40,40,62,62,40,40,40,40,40,40,40,62,62,40,40,40,40,62,40,40,62,62,62,40,40,40,40,40,40,40,40,62,40,40,40,40,40,40,40,40,40,62,62,62,62,62,62,62,51,51,61,61,61,61,61,61,61,61,51,51,51,51,51,51,61,51,51,51,51,51,51,51,51,51,61,61,51,61,61,61,61,61,61,61,61,61,61,61,61,61,61,61,61,61,61,61,61,61,61,61,61,61,61,61,61,61,51,51,51],\"xaxis\":\"x\",\"yaxis\":\"y\",\"type\":\"histogram\"}],                        {\"template\":{\"data\":{\"pie\":[{\"automargin\":true,\"type\":\"pie\"}]},\"layout\":{\"xaxis\":{\"showgrid\":true,\"title\":{\"standoff\":15}},\"yaxis\":{\"showgrid\":true,\"title\":{\"standoff\":15}}}},\"xaxis\":{\"anchor\":\"y\",\"domain\":[0.0,1.0],\"title\":{\"text\":\"universitarios\"}},\"yaxis\":{\"anchor\":\"x\",\"domain\":[0.0,1.0],\"title\":{\"text\":\"count\"}},\"legend\":{\"tracegroupgap\":0},\"title\":{\"text\":\"Universitarios\"},\"barmode\":\"relative\"},                        {\"responsive\": true}                    ).then(function(){\n",
              "                            \n",
              "var gd = document.getElementById('5fb2cd90-5064-4bd3-bd44-5145e36647ee');\n",
              "var x = new MutationObserver(function (mutations, observer) {{\n",
              "        var display = window.getComputedStyle(gd).display;\n",
              "        if (!display || display === 'none') {{\n",
              "            console.log([gd, 'removed!']);\n",
              "            Plotly.purge(gd);\n",
              "            observer.disconnect();\n",
              "        }}\n",
              "}});\n",
              "\n",
              "// Listen for the removal of the full notebook cells\n",
              "var notebookContainer = gd.closest('#notebook-container');\n",
              "if (notebookContainer) {{\n",
              "    x.observe(notebookContainer, {childList: true});\n",
              "}}\n",
              "\n",
              "// Listen for the clearing of the current output cell\n",
              "var outputEl = gd.closest('.output');\n",
              "if (outputEl) {{\n",
              "    x.observe(outputEl, {childList: true});\n",
              "}}\n",
              "\n",
              "                        })                };                            </script>        </div>\n",
              "</body>\n",
              "</html>"
            ]
          },
          "metadata": {}
        }
      ]
    },
    {
      "cell_type": "code",
      "source": [
        "px.histogram(datos, \n",
        "             x = datos.dormitorios,\n",
        "             title=\"Dormitorios\", \n",
        "             color_discrete_sequence = [\"turquoise\"], # color \n",
        "             template=\"gridon\")"
      ],
      "metadata": {
        "colab": {
          "base_uri": "https://localhost:8080/",
          "height": 542
        },
        "id": "EQfxlSoYAckj",
        "outputId": "2a72898f-ab48-4d94-ce0c-9c34a1e46513"
      },
      "execution_count": 23,
      "outputs": [
        {
          "output_type": "display_data",
          "data": {
            "text/html": [
              "<html>\n",
              "<head><meta charset=\"utf-8\" /></head>\n",
              "<body>\n",
              "    <div>            <script src=\"https://cdnjs.cloudflare.com/ajax/libs/mathjax/2.7.5/MathJax.js?config=TeX-AMS-MML_SVG\"></script><script type=\"text/javascript\">if (window.MathJax && window.MathJax.Hub && window.MathJax.Hub.Config) {window.MathJax.Hub.Config({SVG: {font: \"STIX-Web\"}});}</script>                <script type=\"text/javascript\">window.PlotlyConfig = {MathJaxConfig: 'local'};</script>\n",
              "        <script src=\"https://cdn.plot.ly/plotly-2.12.1.min.js\"></script>                <div id=\"933d7595-a6a4-48b5-bc65-825fc7338f9f\" class=\"plotly-graph-div\" style=\"height:525px; width:100%;\"></div>            <script type=\"text/javascript\">                                    window.PLOTLYENV=window.PLOTLYENV || {};                                    if (document.getElementById(\"933d7595-a6a4-48b5-bc65-825fc7338f9f\")) {                    Plotly.newPlot(                        \"933d7595-a6a4-48b5-bc65-825fc7338f9f\",                        [{\"alignmentgroup\":\"True\",\"bingroup\":\"x\",\"hovertemplate\":\"dormitorios=%{x}<br>count=%{y}<extra></extra>\",\"legendgroup\":\"\",\"marker\":{\"color\":\"turquoise\",\"pattern\":{\"shape\":\"\"}},\"name\":\"\",\"offsetgroup\":\"\",\"orientation\":\"v\",\"showlegend\":false,\"x\":[2,3,4,3,2,4,4,4,3,3,7,3,2,3,3,3,3,4,2,3,3,3,3,3,3,4,3,4,4,3,2,3,3,3,4,4,4,4,4,4,3,4,3,3,4,4,2,3,4,2,3,2,3,3,3,3,2,3,3,3,2,3,3,4,2,4,3,4,3,3,4,3,4,3,4,4,3,3,4,3,2,3,3,3,3,2,4,3,3,4,3,3,3,3,3,3,3,3,2,3,3,3,2,3,3,3,3,4,2,3,3,3,3,3,4,3,3,3,3,3,3,2,3,4,3,4,2,3,3,2,2,4,4,4,2,5,3,3,3,3,4,3,4,2,3,3,3,2,2,2,4,2,3,2,3,3,2,3,2,3,3,4,3,4,6,3,4,2,2,4,4,3,4,2,4,4,2,4,4,2,3,3,3,5,3,3,4,3,3,3,3,3,4,3,2,2,3,3,2,2,4,3,2,3,3,4,3,2,3,4,5,2,2,4,2,2,2,3,3,3,3,4,1,3,3,2,2,2,2,3,3,3,2,3,3,2,2,2,3,2,2,3,4,2,2,2,4,3,4,3,4,3,3,2,2,2,3,2,4,2,2,3,4,2,2,2,3,3,4,4,3,3,3,3,4,2,2,4,3,2,4,3,3,3,3,4,5,4,4,4,4,3,2,3,4,3,2,5,4,4,3,2,5,3,2,2,3,4,2,3,3,4,3,4,4,3,3,4,3,4,3,5,4,3,4,3,4,2,3,3,4,4,4,4,5,3,4,5,2,3,3,3,3,3,3,5,3,3,4,4,3,4,4,4,1,4,5,3,3,4,3,3,4,4,5,4,4,3,4,4,3,4,4,2,2,3,2,3,4,3,3,4,3,3,2,4,4,4,3,5,3,3,4,3,4,4,5,3,4,2,3,4,2,3,4,4,4,4,3,4,3,4,4,3,5,4,4,4,7,3,4,3,2,3,4,4,2,3,3,3,3,3,3,4,5,3,2,7,3,3,4,2,2,3,3,4,2,3,3,1,2,4,3,3,3,3,3,3,2,2,3,4,3,4,6,2,3,4,3,3,3,4,3,3,2,2,4,3,3,2,3,3,3,1,2,4,4,4,3,4,4,4,5,4,3,2,4,3,4,3,4,4,4,4,4,4,3,3,3,3,4,3,2,3,3,4,3,4,3,3,3,4,3,4,4,2,4,3,3,3,4,2,3,4,4,3,3,3,4,3,2,2,3,3,3,3,4,3,2,3,2,3,4,4,3,3,3,3,3,3,4,2,3,3,3,3,6,4,3,2,5,3,3,4,3,4,3,2,4,3,3,3,3,3,4,3,3,3,2,3,5,3,2,3,3,3,4,4,4,3,3,3,3,3,3,3,4,3,2,2,2,3,3,4,3,4,3,3,3,3,3,3,2,3,3,3,3,3,3,2,3,4,3,3,2,3,3,4,2,3,3,3,3,3,3,4,3,2,3,4,3,3,3,3,3,3,2,4,3,2,3,4,3,3,3,3,3,3,3,3,2,6,3,2,3,2,3,4,3,4,4,4,3,3,4,4,3,3,4,2,2,3,2,3,3,3,3,3,3,3,4,3,2,3,3,3,3,3,3,3,3,4,4,4,3,3,2,2,3,3,2,2,4,3,3,4,1,4,4,4,3,6,2,3,3,2,3,4,3,3,3,3,2,4,3,2,3,3,3,3,3,4,3,3,2,2,5,3,3,3,3,5,3,3,3,3,2,3,3,3,3,3,2,4,3,2,3,4,2,4,4,2,3,3,3,4,4,4,3,3,2,2,4,4,2,4,4,4,3,3,4,4,4,2,3,2,3,4,2,4,4,3,2,3,4,2,3,4,3,3,3,4,4,3,3,5,4,3,3,3,2,3,4,3,4,5,2,4,2,2,4,2,2,3,3,3,3,3,2,5,2,3,5,2,2,2,2,2,2,2,3,2,4,3,3,3,4,2,3,2,4,2,2,2,2,2,3,3,2,3,3,2,3,4,3,4,3,2,2,2,2,2,2,3,2,3,3,5,2,2,2,2,2,2,2,3,2,4,3,3,3,4,2,3,2,4,2,2,2,2,2,3,3,2,3,3,2,3,4,3,4,3,2,2,2,4,4,3,3,4,4,2,3,4,3,3,3,3,2,3,5,4,4,4,4,4,2,4,4,5,4,3,3,4,4,3,2,3,3,4,4,3,3,4,4,3,3,3,2,4,5,4,3,2,4,2,4,2,2,2,5,4,4,3,3,4,4,2,4,3,4,4,4,5,3,4,5,2,3,2,3,5,4,2,3,4,3,3,3,3,4,4,4,4,3,3,3,3,4,3,2,3,1,4,3,3,5,3,3,3,3,3,4,3,3,3,4,3,4,4,2,4,3,2,3,2,4,3,3,4,3,4,2,5,4,2,4,3,3,3,4,2,3,4,3,2,3,3,2,3,2,3,3,3,3,2,2,3,4,3,3,4,3,4,3,4,5,3,4,4,2,3,3,3,3,4,2,3,4,3,2,3,3,4,3,3,3,3,3,4,3,3,3,3,4,2,2,2,4,3,3,3,3,4,3,3,4,3,3,3,2,3,2,3,2,2,2,4,2,4,3,4,4,3,3,4,3,1,2,3,3,3,4,3,3,3,4,4,3,4,3,3,4,3,3,2,2,3,4,3,4,3,3,3,3,3,2,3,3,4,4,3,3,2,2,3,3,3,4,2,2,5,4,4,2,3,4,3,3,3,4,2,2,3,4,4,3,4,3,3,3,5,4,3,4,3,2,3,2,3,4,3,4,3,3,3,3,4,4,2,3,3,2,4,3,4,2,2,3,3,3,3,3,3,2,5,5,3,2,3,4,3,4,3,3,3,4,3,3,2,2,3,3,3,2,3,3,2,4,3,3,4,2,4,3,2,2,3,3,2,2,3,2,3,3,3,3,3,3,4,3,4,4,2,3,4,3,3,4,4,3,3,4,2,3,3,3,4,3,4,2,4,3,2,2,5,2,4,2,4,4,3,2,2,3,4,3,4,4,4,4,5,3,3,4,3,2,4,2,3,3,4,4,3,3,4,3,2,4,2,4,3,4,3,3,2,2,2,2,3,2,3,3,3,4,3,3,2,2,4,4,2,4,3,2,4,2,3,4,3,4,3,3,4,2,4,3,3,3,3,2,4,2,3,3,3,3,3,4,2,3,4,2,3,3,3,4,4,3,4,2,3,2,4,3,4,3,3,3,3,3,4,4,3,3,3,2,2,3,2,2,2,3,3,4,4,4,4,4,3,2,4,2,4,2,3,2,5,2,2,3,4,3,2,4,3,3,3,4,2,3,3,2,3,3,2,4,3,3,3,4,3,3,3,4,3,3,3,3,6,4,3,3,3,4,2,3,4,2,4,4,3,4,3,4,3,2,4,4,3,2,4,3,5,2,3,4,4,4,3,2,3,4,4,4,3,4,4,4,2,3,4,3,4,4,3,3,3,3,4,4,4,4,4,3,2,2,2,5,4,2,3,4,3,4,2,4,3,5,4,4,4,4,3,3,2,3,3,4,3,4,4,3,3,3,3,4,3,2,4,4,2,3,4,3,4,4,5,4,4,3,4,4,3,3,4,2,3,4,4,4,4,4,3,3,4,4,5,4,5,4,4,4,4,2,3,4,2,3,2,3,4,4,2,2,3,2,3,3,3,3,4,4,3,3,3,4,2,3,3,4,5,4,2,3,3,3,3,3,2,4,3,4,3,4,3,3,3,3,3,3,3,3,3,2,3,3,2,3,3,3,3,3,4,3,3,3,4,3,3,4,2,3,3,4,6,3,3,3,3,4,2,3,3,3,4,4,4,3,2,5,3,3,4,4,6,3,5,3,4,4,3,3,3,3,2,4,2,3,3,4,4,4,5,4,2,3,3],\"xaxis\":\"x\",\"yaxis\":\"y\",\"type\":\"histogram\"}],                        {\"template\":{\"data\":{\"pie\":[{\"automargin\":true,\"type\":\"pie\"}]},\"layout\":{\"xaxis\":{\"showgrid\":true,\"title\":{\"standoff\":15}},\"yaxis\":{\"showgrid\":true,\"title\":{\"standoff\":15}}}},\"xaxis\":{\"anchor\":\"y\",\"domain\":[0.0,1.0],\"title\":{\"text\":\"dormitorios\"}},\"yaxis\":{\"anchor\":\"x\",\"domain\":[0.0,1.0],\"title\":{\"text\":\"count\"}},\"legend\":{\"tracegroupgap\":0},\"title\":{\"text\":\"Dormitorios\"},\"barmode\":\"relative\"},                        {\"responsive\": true}                    ).then(function(){\n",
              "                            \n",
              "var gd = document.getElementById('933d7595-a6a4-48b5-bc65-825fc7338f9f');\n",
              "var x = new MutationObserver(function (mutations, observer) {{\n",
              "        var display = window.getComputedStyle(gd).display;\n",
              "        if (!display || display === 'none') {{\n",
              "            console.log([gd, 'removed!']);\n",
              "            Plotly.purge(gd);\n",
              "            observer.disconnect();\n",
              "        }}\n",
              "}});\n",
              "\n",
              "// Listen for the removal of the full notebook cells\n",
              "var notebookContainer = gd.closest('#notebook-container');\n",
              "if (notebookContainer) {{\n",
              "    x.observe(notebookContainer, {childList: true});\n",
              "}}\n",
              "\n",
              "// Listen for the clearing of the current output cell\n",
              "var outputEl = gd.closest('.output');\n",
              "if (outputEl) {{\n",
              "    x.observe(outputEl, {childList: true});\n",
              "}}\n",
              "\n",
              "                        })                };                            </script>        </div>\n",
              "</body>\n",
              "</html>"
            ]
          },
          "metadata": {}
        }
      ]
    },
    {
      "cell_type": "code",
      "source": [
        "px.histogram(datos, \n",
        "             x = datos.chimenea,\n",
        "             title=\"Chimeneas\", \n",
        "             color_discrete_sequence = [\"deeppink\"], # color \n",
        "             template=\"gridon\")"
      ],
      "metadata": {
        "colab": {
          "base_uri": "https://localhost:8080/",
          "height": 542
        },
        "id": "o61XmdiZAruG",
        "outputId": "55f7c1b6-f6e0-4dda-8609-6985a6ba2bce"
      },
      "execution_count": 24,
      "outputs": [
        {
          "output_type": "display_data",
          "data": {
            "text/html": [
              "<html>\n",
              "<head><meta charset=\"utf-8\" /></head>\n",
              "<body>\n",
              "    <div>            <script src=\"https://cdnjs.cloudflare.com/ajax/libs/mathjax/2.7.5/MathJax.js?config=TeX-AMS-MML_SVG\"></script><script type=\"text/javascript\">if (window.MathJax && window.MathJax.Hub && window.MathJax.Hub.Config) {window.MathJax.Hub.Config({SVG: {font: \"STIX-Web\"}});}</script>                <script type=\"text/javascript\">window.PlotlyConfig = {MathJaxConfig: 'local'};</script>\n",
              "        <script src=\"https://cdn.plot.ly/plotly-2.12.1.min.js\"></script>                <div id=\"ccb96c1f-ac7c-499d-821a-e619b690c5a8\" class=\"plotly-graph-div\" style=\"height:525px; width:100%;\"></div>            <script type=\"text/javascript\">                                    window.PLOTLYENV=window.PLOTLYENV || {};                                    if (document.getElementById(\"ccb96c1f-ac7c-499d-821a-e619b690c5a8\")) {                    Plotly.newPlot(                        \"ccb96c1f-ac7c-499d-821a-e619b690c5a8\",                        [{\"alignmentgroup\":\"True\",\"bingroup\":\"x\",\"hovertemplate\":\"chimenea=%{x}<br>count=%{y}<extra></extra>\",\"legendgroup\":\"\",\"marker\":{\"color\":\"deeppink\",\"pattern\":{\"shape\":\"\"}},\"name\":\"\",\"offsetgroup\":\"\",\"orientation\":\"v\",\"showlegend\":false,\"x\":[1,0,1,1,0,1,1,1,0,0,0,0,0,0,0,0,0,1,0,0,0,0,0,0,0,0,0,0,1,1,2,1,1,0,1,1,1,1,2,1,1,0,1,0,1,1,0,0,0,1,0,1,1,0,1,0,1,1,0,1,1,1,0,1,0,0,1,1,1,0,0,1,1,0,0,0,1,0,0,1,1,0,0,0,0,1,0,1,0,1,0,1,1,0,1,0,1,0,0,1,0,0,1,0,0,1,1,0,0,0,1,0,0,0,1,1,0,1,0,0,0,0,0,0,0,1,1,0,2,0,0,0,0,1,0,0,1,0,1,1,0,1,1,0,1,1,0,1,1,1,1,1,1,1,1,1,0,0,0,0,0,1,1,1,2,1,1,1,1,1,1,1,1,0,1,1,1,1,1,1,1,0,0,1,0,1,1,0,0,1,1,1,0,1,1,0,0,0,1,1,1,1,1,0,1,1,1,0,0,1,1,0,1,0,0,0,0,0,0,1,1,1,0,1,0,0,0,0,0,0,1,1,0,1,0,0,1,0,0,0,0,1,0,0,0,0,0,1,1,0,1,0,1,0,1,0,1,1,1,1,0,0,1,0,0,1,0,1,0,1,0,1,0,0,1,0,1,1,1,1,1,1,1,1,1,1,1,1,1,1,1,0,0,0,1,1,2,1,1,1,1,0,1,1,0,1,0,1,1,0,1,1,0,4,1,1,0,1,1,1,0,1,2,1,1,1,0,1,1,1,1,1,1,1,1,0,1,1,1,1,1,0,1,0,1,2,1,0,1,1,1,1,1,1,0,1,1,0,1,1,1,2,1,1,1,1,0,0,1,1,1,1,1,1,0,0,1,1,1,0,1,1,1,1,0,1,1,1,1,2,0,1,0,1,1,0,2,1,1,1,0,1,1,1,1,0,1,1,1,1,0,1,1,0,1,1,1,1,1,1,1,1,0,0,0,0,0,0,0,0,1,1,1,0,2,1,0,0,1,1,1,0,0,1,1,0,0,0,1,0,0,0,0,0,0,1,1,0,0,0,1,0,0,1,0,1,1,1,1,0,1,1,1,1,0,1,1,1,1,1,0,0,1,1,0,1,1,0,1,0,1,1,2,0,0,0,1,1,1,1,0,1,1,1,1,0,1,1,0,0,0,1,0,1,1,0,0,0,1,0,0,1,0,1,1,0,1,1,1,1,1,0,0,0,1,1,0,0,1,0,0,1,0,1,1,0,0,0,1,0,1,1,1,2,0,1,0,0,1,1,1,0,1,0,1,1,2,1,0,0,0,1,0,1,1,1,0,1,1,0,0,0,1,0,1,0,0,1,0,0,2,1,0,0,1,1,1,1,0,1,0,0,1,1,0,0,2,1,1,0,0,2,1,1,1,1,1,0,0,1,0,1,1,0,0,2,0,2,1,1,0,1,1,0,0,1,0,1,1,0,1,0,1,1,1,0,0,0,1,0,0,0,0,1,1,0,0,0,1,0,1,1,1,0,1,2,0,1,0,0,0,0,0,0,1,0,0,1,0,0,0,1,1,0,1,0,1,1,0,0,0,0,1,0,1,1,0,2,1,0,0,1,2,0,0,1,0,0,1,1,1,0,1,1,1,2,0,1,0,0,0,0,0,1,1,1,0,1,1,1,0,0,0,1,1,0,0,0,0,0,0,1,0,0,0,0,0,0,0,1,0,1,0,0,0,0,0,0,0,1,1,2,1,1,1,0,0,0,0,0,0,1,0,1,0,1,0,1,1,2,0,1,0,1,1,1,0,0,0,0,0,1,2,0,1,1,2,1,0,0,1,1,1,0,1,1,1,1,0,1,1,0,0,0,1,1,0,1,0,1,1,1,1,1,0,1,1,0,0,1,0,0,1,1,1,1,0,1,1,0,1,1,1,0,1,1,1,0,0,1,1,0,0,1,0,0,0,1,0,0,1,1,1,0,1,0,1,1,1,0,1,0,0,0,0,1,0,0,0,0,1,1,1,1,0,1,0,0,0,0,1,0,0,1,0,0,0,0,1,0,0,0,1,0,0,1,1,1,0,1,0,1,1,1,0,1,0,0,0,0,1,0,0,0,0,1,1,1,1,0,1,0,0,0,0,0,0,2,1,1,1,1,1,1,1,1,1,1,1,1,1,1,1,1,1,1,0,1,1,1,1,1,1,1,1,0,0,1,0,1,2,1,1,1,1,1,1,1,0,1,1,1,2,1,1,1,1,1,0,1,1,1,0,1,0,1,1,1,0,0,1,1,1,1,1,1,1,1,1,0,1,1,1,1,0,1,1,0,0,1,1,1,0,1,1,1,2,0,1,1,1,1,0,1,1,0,1,1,0,0,0,1,1,1,0,1,1,1,1,0,1,1,1,1,0,0,0,1,1,1,1,1,1,2,0,0,1,0,1,1,1,1,0,1,1,1,0,0,1,1,1,0,0,1,0,1,1,0,0,1,0,1,0,1,0,0,1,0,1,1,1,1,1,0,0,1,0,0,2,0,0,0,0,1,1,1,0,0,0,1,0,0,0,1,1,0,1,2,1,1,1,0,0,0,0,0,2,0,0,0,0,0,1,0,0,0,0,1,1,0,0,1,1,0,0,0,0,0,0,0,1,1,0,1,1,0,1,1,1,1,0,1,1,0,0,0,0,0,1,0,1,1,1,0,1,1,1,0,0,0,1,0,1,0,0,0,0,1,1,0,0,4,0,0,1,0,1,1,0,1,1,0,0,1,0,0,2,1,1,0,0,0,0,1,1,0,1,0,1,0,1,0,0,1,1,0,1,0,1,1,0,0,0,0,1,1,0,1,0,0,0,2,0,0,0,1,0,0,1,0,1,0,1,1,1,0,1,1,1,1,0,1,0,1,1,1,0,0,0,0,0,0,0,1,0,0,1,1,0,0,0,0,1,0,0,1,0,0,0,1,0,1,0,1,0,0,0,0,1,0,1,0,1,1,1,1,0,1,1,1,1,1,1,1,1,1,0,1,1,1,1,0,1,1,1,1,0,1,1,1,1,1,1,1,1,1,1,1,0,1,0,1,1,1,0,1,1,0,1,0,0,1,1,0,0,1,1,0,0,1,1,1,0,1,1,1,1,0,0,1,1,0,1,1,0,1,0,0,1,1,1,1,0,1,1,3,1,0,1,0,1,1,0,0,0,0,1,0,0,0,1,1,0,0,0,0,1,0,1,1,1,1,0,1,1,0,1,1,0,1,1,1,1,1,1,1,1,0,1,1,1,0,1,0,0,1,1,0,1,0,1,1,1,1,0,1,0,1,0,1,0,1,1,0,0,1,1,1,1,0,1,0,0,1,0,0,0,1,0,0,1,0,0,0,1,1,0,1,0,1,1,0,1,1,1,1,1,1,0,2,1,1,1,0,1,0,1,1,2,0,0,1,1,1,0,1,1,1,1,1,0,0,0,1,1,1,1,1,1,1,1,0,0,1,1,1,1,1,1,1,1,0,1,0,1,1,1,0,1,1,1,1,1,1,1,1,1,0,1,1,1,1,0,0,1,1,0,0,0,1,1,1,0,0,1,1,1,0,0,1,1,1,0,1,1,1,1,1,1,3,1,0,1,0,0,1,0,1,1,1,1,1,1,1,1,1,1,1,0,1,1,1,1,1,1,1,1,1,0,0,0,1,1,0,0,0,0,1,0,1,1,1,0,0,1,0,0,1,0,1,0,1,0,1,0,1,0,0,0,0,1,1,1,2,0,1,0,0,1,0,0,0,0,0,0,1,0,0,0,0,1,1,1,1,0,0,1,1,1,0,1,0,0,1,1,1,2,0,1,0,1,0,0,1,0,1,1,0,1,1,1,1,0,1,1,1,1,1,0,1,1,1,0,0,1,0,1,0,0,1,1,1,2,1,1,0,1,0],\"xaxis\":\"x\",\"yaxis\":\"y\",\"type\":\"histogram\"}],                        {\"template\":{\"data\":{\"pie\":[{\"automargin\":true,\"type\":\"pie\"}]},\"layout\":{\"xaxis\":{\"showgrid\":true,\"title\":{\"standoff\":15}},\"yaxis\":{\"showgrid\":true,\"title\":{\"standoff\":15}}}},\"xaxis\":{\"anchor\":\"y\",\"domain\":[0.0,1.0],\"title\":{\"text\":\"chimenea\"}},\"yaxis\":{\"anchor\":\"x\",\"domain\":[0.0,1.0],\"title\":{\"text\":\"count\"}},\"legend\":{\"tracegroupgap\":0},\"title\":{\"text\":\"Chimeneas\"},\"barmode\":\"relative\"},                        {\"responsive\": true}                    ).then(function(){\n",
              "                            \n",
              "var gd = document.getElementById('ccb96c1f-ac7c-499d-821a-e619b690c5a8');\n",
              "var x = new MutationObserver(function (mutations, observer) {{\n",
              "        var display = window.getComputedStyle(gd).display;\n",
              "        if (!display || display === 'none') {{\n",
              "            console.log([gd, 'removed!']);\n",
              "            Plotly.purge(gd);\n",
              "            observer.disconnect();\n",
              "        }}\n",
              "}});\n",
              "\n",
              "// Listen for the removal of the full notebook cells\n",
              "var notebookContainer = gd.closest('#notebook-container');\n",
              "if (notebookContainer) {{\n",
              "    x.observe(notebookContainer, {childList: true});\n",
              "}}\n",
              "\n",
              "// Listen for the clearing of the current output cell\n",
              "var outputEl = gd.closest('.output');\n",
              "if (outputEl) {{\n",
              "    x.observe(outputEl, {childList: true});\n",
              "}}\n",
              "\n",
              "                        })                };                            </script>        </div>\n",
              "</body>\n",
              "</html>"
            ]
          },
          "metadata": {}
        }
      ]
    },
    {
      "cell_type": "code",
      "source": [
        "px.histogram(datos, \n",
        "             x = datos.baños,\n",
        "             title=\"Baños\", \n",
        "             color_discrete_sequence = [\"silver\"], # color \n",
        "             template=\"gridon\")"
      ],
      "metadata": {
        "colab": {
          "base_uri": "https://localhost:8080/",
          "height": 542
        },
        "id": "2Wj_KO06A4-4",
        "outputId": "dfca2d5e-173f-419e-f531-1f4505705766"
      },
      "execution_count": 25,
      "outputs": [
        {
          "output_type": "display_data",
          "data": {
            "text/html": [
              "<html>\n",
              "<head><meta charset=\"utf-8\" /></head>\n",
              "<body>\n",
              "    <div>            <script src=\"https://cdnjs.cloudflare.com/ajax/libs/mathjax/2.7.5/MathJax.js?config=TeX-AMS-MML_SVG\"></script><script type=\"text/javascript\">if (window.MathJax && window.MathJax.Hub && window.MathJax.Hub.Config) {window.MathJax.Hub.Config({SVG: {font: \"STIX-Web\"}});}</script>                <script type=\"text/javascript\">window.PlotlyConfig = {MathJaxConfig: 'local'};</script>\n",
              "        <script src=\"https://cdn.plot.ly/plotly-2.12.1.min.js\"></script>                <div id=\"54620550-17e7-4366-885b-21903ec10c0f\" class=\"plotly-graph-div\" style=\"height:525px; width:100%;\"></div>            <script type=\"text/javascript\">                                    window.PLOTLYENV=window.PLOTLYENV || {};                                    if (document.getElementById(\"54620550-17e7-4366-885b-21903ec10c0f\")) {                    Plotly.newPlot(                        \"54620550-17e7-4366-885b-21903ec10c0f\",                        [{\"alignmentgroup\":\"True\",\"bingroup\":\"x\",\"hovertemplate\":\"ba\\u00f1os=%{x}<br>count=%{y}<extra></extra>\",\"legendgroup\":\"\",\"marker\":{\"color\":\"silver\",\"pattern\":{\"shape\":\"\"}},\"name\":\"\",\"offsetgroup\":\"\",\"orientation\":\"v\",\"showlegend\":false,\"x\":[1.0,2.5,1.0,1.5,1.0,1.0,1.5,1.5,1.5,1.5,1.0,2.0,1.0,2.0,1.5,1.0,1.5,2.5,1.0,1.0,1.0,1.5,2.5,2.0,1.5,3.0,1.0,1.5,2.0,1.5,1.0,2.5,2.0,2.5,2.5,3.0,2.5,2.5,3.0,2.5,1.5,2.5,1.5,2.5,2.5,2.5,1.0,2.5,2.0,2.0,2.5,2.5,2.0,2.0,1.5,1.0,2.5,1.5,2.5,2.0,2.0,1.5,1.0,1.5,1.0,2.5,1.0,2.5,2.0,2.0,2.5,1.5,4.0,2.5,2.0,2.5,1.5,2.0,2.5,1.0,2.5,2.5,1.5,2.5,2.5,2.0,2.0,1.5,1.0,1.5,1.5,1.5,1.0,1.5,2.5,1.5,2.0,1.0,2.0,1.0,1.0,1.0,1.5,1.5,2.5,2.0,2.5,2.5,1.0,1.0,1.0,1.5,2.0,1.0,2.5,2.5,1.5,2.5,2.0,2.0,1.0,1.0,2.5,1.0,2.0,2.5,2.0,1.0,2.0,1.0,1.0,1.0,1.0,2.5,1.5,1.0,1.5,1.0,1.0,1.5,2.5,1.5,2.5,1.0,2.5,2.0,1.0,1.5,2.0,1.5,2.5,1.5,2.5,1.5,2.5,2.5,1.5,1.0,2.5,2.5,1.0,2.5,2.5,2.5,2.5,2.5,2.5,1.5,1.5,2.5,2.5,2.0,2.5,1.5,3.5,2.5,2.5,2.5,3.5,1.0,1.0,2.0,1.5,2.0,1.5,2.0,2.5,1.5,2.0,2.5,1.5,2.5,1.0,1.5,1.5,1.5,1.0,1.0,2.0,1.5,2.5,2.0,1.5,1.5,1.5,2.5,1.0,1.5,2.5,2.5,2.5,1.5,1.5,1.5,2.0,2.0,1.5,2.0,1.5,2.0,2.5,1.5,1.0,2.5,2.5,1.5,1.5,1.5,1.5,1.5,2.0,2.0,1.0,2.0,2.0,1.5,1.5,2.0,2.0,1.5,1.5,2.0,1.5,1.0,1.5,1.0,1.5,2.5,2.5,1.5,2.5,1.0,2.5,1.5,1.5,1.0,1.5,1.5,2.5,1.5,2.0,2.0,2.5,2.0,1.5,2.0,1.5,1.5,1.0,2.5,1.0,1.5,1.5,2.5,3.0,1.0,1.5,2.5,1.5,1.5,2.5,2.5,1.5,2.5,1.5,3.0,2.5,2.5,2.5,2.5,2.5,1.5,1.0,2.5,2.5,2.0,2.0,2.5,2.5,2.5,2.0,1.5,2.5,1.5,1.5,1.5,1.5,2.5,1.5,1.5,3.5,2.5,1.5,4.0,2.5,1.5,1.5,2.5,1.5,2.5,1.5,2.5,2.5,2.5,2.5,1.5,1.5,1.5,2.0,1.5,2.5,2.5,2.5,2.5,3.5,1.0,2.5,2.5,1.0,2.5,1.5,1.5,2.5,1.0,1.5,3.5,2.5,1.0,2.5,2.5,2.5,2.5,1.5,2.5,2.0,2.5,2.5,1.5,1.5,2.5,1.5,2.0,3.5,2.5,2.0,1.5,2.5,1.5,2.5,2.5,2.5,2.5,2.5,2.0,1.5,1.5,1.5,2.5,2.5,1.5,2.5,2.5,2.5,2.5,1.0,2.5,1.5,2.5,2.5,2.5,1.5,2.0,2.0,1.5,2.5,2.5,4.5,1.0,2.5,1.0,1.0,2.5,1.0,1.5,2.5,2.5,2.5,1.5,1.5,2.5,2.5,1.5,2.5,1.5,3.0,1.5,1.0,1.5,2.5,2.5,2.5,2.0,2.0,1.5,1.0,2.5,1.5,1.5,1.0,1.0,2.0,1.5,2.0,2.0,3.5,2.5,1.0,1.0,2.5,1.5,3.5,1.5,1.0,2.5,2.0,1.0,1.5,2.0,1.5,1.0,1.0,1.5,1.0,1.5,1.5,2.5,2.0,1.5,1.0,1.5,1.5,1.0,2.0,1.5,3.0,1.0,1.0,2.0,1.5,2.5,1.5,1.5,1.0,3.5,1.0,2.5,2.5,2.5,1.5,2.5,2.0,1.5,2.5,1.0,1.0,2.5,2.5,1.5,2.0,2.0,2.0,1.5,2.5,2.5,2.5,1.0,2.0,2.5,2.5,2.0,2.0,2.5,3.5,2.5,3.0,3.0,2.0,2.0,2.5,1.5,2.5,2.5,2.0,1.0,1.5,2.0,1.0,1.5,1.5,2.0,3.0,2.5,2.0,2.5,3.0,1.0,2.5,2.0,1.0,2.0,2.5,1.5,1.0,1.5,2.5,2.5,2.5,3.0,1.5,1.0,2.5,2.5,2.5,1.5,1.0,1.0,1.5,3.0,2.0,2.0,1.0,1.5,1.5,4.0,1.0,2.5,1.0,1.0,1.5,2.5,2.5,1.5,2.5,2.5,2.5,1.0,2.5,2.5,3.0,1.0,3.5,1.5,1.5,2.5,1.5,1.5,1.5,1.0,2.5,1.5,1.0,2.5,2.5,3.0,2.5,2.5,1.0,1.5,1.0,1.0,4.0,2.5,1.0,1.0,2.5,2.5,2.5,2.5,1.0,2.5,2.0,3.0,2.5,2.5,2.5,2.5,2.5,2.5,2.5,1.0,2.0,3.5,2.5,2.5,2.5,1.5,1.5,2.0,2.0,2.5,2.5,2.5,1.5,2.5,1.5,2.5,1.5,2.5,2.5,2.5,1.0,3.5,3.0,1.0,1.0,1.0,2.0,1.5,3.0,1.5,2.5,1.0,2.5,2.5,2.5,2.5,2.5,1.5,2.5,2.5,1.5,1.0,1.5,2.5,1.5,2.0,1.0,1.5,1.5,1.5,1.0,2.5,1.0,1.0,1.0,3.5,1.0,2.5,1.5,1.5,1.0,1.0,1.0,1.0,1.5,1.5,1.0,1.5,1.5,2.5,1.5,1.5,2.5,2.0,3.5,1.5,1.5,2.0,2.0,1.0,1.0,1.5,2.5,1.0,1.5,2.0,1.0,2.5,2.5,2.5,2.0,2.5,3.0,2.5,1.5,2.0,1.5,1.5,2.5,2.5,2.5,1.5,3.5,2.5,2.5,2.5,1.0,2.5,1.5,2.0,1.5,1.0,2.5,3.0,1.0,2.5,1.0,2.5,3.0,2.5,2.5,1.5,1.0,1.0,1.0,1.0,1.0,3.0,2.0,1.0,2.0,2.0,1.0,3.0,2.0,1.0,1.5,1.0,2.0,2.5,1.5,2.5,1.5,1.0,1.5,1.0,2.0,2.0,2.0,1.5,2.5,2.5,2.0,1.5,1.0,1.0,1.0,2.0,2.0,2.5,1.5,1.5,1.5,3.5,1.5,1.5,2.5,3.5,2.5,2.5,2.0,1.0,1.5,2.0,2.0,2.5,2.5,1.5,1.5,1.0,1.0,1.0,3.5,2.5,2.5,2.5,2.5,3.5,1.5,2.5,2.5,3.0,2.5,2.5,1.5,1.5,2.0,2.5,1.5,1.5,2.5,2.5,1.0,2.5,2.5,1.5,1.5,2.5,2.0,1.5,2.5,2.5,2.5,1.5,1.0,2.5,2.5,1.5,2.5,2.0,2.5,1.5,3.0,1.0,2.5,1.5,1.5,2.5,1.5,1.5,2.5,1.5,2.5,1.0,1.0,2.5,1.5,1.5,2.0,2.0,1.5,1.5,1.0,1.5,1.5,1.5,1.0,2.0,1.5,1.5,1.5,1.0,2.0,1.5,1.5,1.0,2.5,2.0,2.0,1.0,2.0,1.5,1.5,2.0,2.0,1.5,1.5,1.5,1.0,2.0,2.5,1.0,1.5,2.5,1.0,3.0,1.0,1.0,1.0,2.0,1.5,1.5,1.5,1.5,1.5,2.5,1.5,1.0,1.5,1.5,1.5,1.0,2.0,1.5,1.5,1.5,1.0,2.0,1.5,1.5,1.0,2.5,2.0,2.0,1.0,2.0,1.5,1.5,2.0,2.0,1.5,1.5,1.5,1.0,2.0,2.5,1.0,1.5,2.5,1.0,3.0,1.0,1.0,1.0,2.0,1.5,1.5,2.0,2.0,2.5,3.5,1.5,2.0,1.5,2.0,2.0,2.5,1.5,2.0,1.5,2.5,2.5,3.5,2.5,2.0,2.5,1.5,2.5,2.0,2.5,2.5,2.5,1.5,2.5,2.5,1.5,1.0,1.0,2.0,2.5,1.0,2.5,1.5,2.0,3.0,1.5,2.5,1.5,1.0,2.5,1.0,2.5,2.0,1.5,1.5,1.0,3.5,1.0,1.0,1.0,2.5,2.0,1.5,1.5,1.5,2.5,2.5,1.0,1.5,1.0,2.5,2.5,2.5,3.5,3.0,2.5,1.5,1.5,1.5,1.0,2.5,3.5,2.5,1.5,2.0,2.5,2.5,1.0,1.0,2.5,1.5,2.5,1.0,2.5,2.5,1.5,4.0,1.5,2.5,2.0,2.0,1.0,1.0,2.5,1.0,2.0,2.5,2.5,1.5,2.5,1.5,2.5,3.5,2.5,1.5,3.5,2.5,1.5,1.5,1.5,1.5,2.5,2.5,1.0,1.5,1.5,1.0,2.0,1.0,2.5,1.5,1.5,1.5,3.0,2.5,1.0,3.5,1.5,1.5,2.0,2.5,2.0,1.5,2.0,2.5,1.0,2.0,1.5,1.5,2.5,2.5,1.5,1.0,2.5,1.0,1.5,2.5,2.0,2.0,2.5,2.0,2.0,1.0,2.5,2.5,4.0,2.5,1.0,2.5,2.0,1.0,2.0,2.0,1.5,1.0,2.5,1.5,1.0,2.5,2.0,2.0,2.0,1.5,1.5,2.0,2.5,1.0,1.5,1.5,2.5,1.5,1.5,1.0,1.5,2.5,1.5,1.5,1.5,2.5,1.5,3.0,1.0,1.0,2.5,1.5,2.0,2.5,2.0,2.0,1.0,1.0,2.0,1.5,1.5,1.5,1.5,1.0,2.5,2.0,1.0,1.0,1.5,2.5,1.0,1.0,1.5,2.0,1.0,1.0,1.0,2.5,2.5,1.0,1.5,2.5,1.5,1.5,2.5,1.5,3.5,3.0,1.5,2.5,2.0,1.0,1.5,1.5,1.5,2.5,1.5,1.5,1.5,2.0,1.0,2.5,1.5,2.0,2.0,1.5,1.0,1.5,2.0,1.0,1.0,1.5,2.5,1.0,2.5,2.0,1.0,1.5,3.5,1.0,1.0,2.5,1.0,3.0,2.0,1.0,2.0,2.5,1.0,1.0,1.0,2.0,1.5,2.5,2.5,2.0,2.5,1.0,1.5,2.0,2.5,3.5,1.0,2.5,1.0,2.0,2.0,2.5,1.0,1.5,2.0,2.5,1.5,1.0,1.5,2.5,2.5,1.0,1.0,1.0,2.0,2.5,2.5,1.5,2.5,1.0,1.5,1.0,2.0,1.5,2.5,1.0,2.5,2.0,1.0,2.5,1.0,2.5,1.5,2.5,2.5,2.5,1.0,2.5,1.5,2.5,1.5,1.0,1.5,1.0,2.5,3.0,2.5,2.5,2.0,2.0,1.5,2.5,1.5,1.0,2.5,2.0,2.0,1.0,2.0,1.0,1.0,1.0,1.0,2.0,1.0,1.5,2.0,1.0,1.0,3.5,2.5,2.5,1.0,2.0,1.5,1.0,2.5,1.5,2.0,2.5,2.5,3.0,1.0,2.5,1.5,2.0,1.5,1.5,2.5,2.5,2.5,2.5,3.0,2.5,1.0,1.5,3.5,2.5,2.5,1.5,2.5,2.0,1.0,1.5,1.5,2.0,2.5,2.5,2.5,2.5,2.5,2.5,2.5,1.5,2.5,1.5,1.5,1.5,2.5,2.5,2.0,2.0,3.0,2.5,2.5,1.0,3.0,1.5,1.0,2.5,2.0,2.5,1.5,3.0,1.5,2.0,2.0,2.0,1.5,1.0,2.0,1.5,1.5,2.5,1.0,2.5,1.0,2.5,1.5,1.0,3.0,2.5,1.0,2.5,1.0,1.0,2.5,1.0,1.5,2.0,1.5,3.0,1.5,1.5,2.5,1.0,2.5,1.5,1.0,1.5,2.5,2.0,3.0,1.5,1.5,1.0,1.0,2.0,1.5,1.5,1.0,2.5,2.5,1.0,1.5,1.5,2.0,2.5,2.5,2.5,3.0,1.5,2.5,1.5,2.5,2.5,2.5,2.5,3.0,1.0,2.0,2.0,3.0,3.0,1.5,1.5,1.5,1.5,1.0,1.5,1.5,1.5,1.5,1.5,2.0,3.0,2.5,3.0,2.5,2.5,2.0,1.5,2.5,1.5,3.0,1.5,2.0,1.0,2.5,1.5,1.5,2.5,3.5,2.5,1.0,3.0,1.5,1.5,1.5,2.5,1.5,1.5,2.0,1.0,1.5,1.0,1.0,1.5,2.5,2.0,2.5,1.5,1.0,1.5,1.0,2.5,2.0,2.5,2.5,1.0,3.5,2.5,1.0,2.5,0.0,2.5,1.0,1.5,1.5,2.0,2.5,2.5,1.5,2.5,1.5,2.5,1.0,1.5,3.0,2.5,1.5,1.5,2.5,1.5,2.5,1.5,1.5,2.5,2.5,2.5,1.5,2.0,1.5,2.5,2.0,1.5,1.5,2.5,2.5,2.5,1.5,1.5,2.0,2.5,1.5,1.5,1.5,2.5,1.5,1.5,2.0,2.5,1.5,2.5,1.5,1.5,1.5,1.5,1.5,2.5,2.5,1.5,1.5,3.0,1.5,2.5,1.5,2.5,1.0,2.5,2.5,2.5,2.5,1.5,2.0,2.5,1.5,2.0,1.5,2.5,2.5,2.5,2.5,1.5,1.5,2.5,2.0,2.5,1.5,1.5,2.5,2.5,1.5,2.0,1.5,1.5,1.5,3.0,3.0,2.5,2.5,2.5,1.5,2.5,1.0,2.0,2.5,1.5,3.0,2.0,2.5,2.5,2.5,2.5,1.5,1.0,2.5,2.5,2.5,2.0,2.5,1.0,2.5,2.5,2.5,1.0,2.5,2.5,2.5,2.5,2.0,2.0,4.0,3.0,1.5,1.0,2.0,1.0,1.5,1.0,1.5,2.0,2.5,1.0,1.0,2.5,1.5,2.5,2.5,2.0,2.5,2.5,3.5,1.0,2.5,2.0,1.5,2.0,2.0,1.5,2.5,2.5,1.5,2.5,1.5,1.0,2.5,1.5,1.0,2.5,1.5,2.0,1.0,1.5,2.5,1.0,1.5,1.0,2.0,1.5,2.0,2.0,2.5,2.5,2.5,1.0,1.5,2.5,2.5,2.5,2.0,2.5,1.5,1.5,1.0,1.5,4.0,2.0,2.0,2.5,2.0,2.5,1.5,1.5,1.0,1.0,1.5,1.5,1.5,2.0,1.5,2.5,2.0,1.5,2.5,2.5,1.0,2.5,2.5,1.5,1.5,2.5,2.5,1.5,1.0,2.0,1.5,2.5,1.0,1.5,2.5,2.5,2.5,2.0,2.5,2.5,1.0,1.0,1.0],\"xaxis\":\"x\",\"yaxis\":\"y\",\"type\":\"histogram\"}],                        {\"template\":{\"data\":{\"pie\":[{\"automargin\":true,\"type\":\"pie\"}]},\"layout\":{\"xaxis\":{\"showgrid\":true,\"title\":{\"standoff\":15}},\"yaxis\":{\"showgrid\":true,\"title\":{\"standoff\":15}}}},\"xaxis\":{\"anchor\":\"y\",\"domain\":[0.0,1.0],\"title\":{\"text\":\"ba\\u00f1os\"}},\"yaxis\":{\"anchor\":\"x\",\"domain\":[0.0,1.0],\"title\":{\"text\":\"count\"}},\"legend\":{\"tracegroupgap\":0},\"title\":{\"text\":\"Ba\\u00f1os\"},\"barmode\":\"relative\"},                        {\"responsive\": true}                    ).then(function(){\n",
              "                            \n",
              "var gd = document.getElementById('54620550-17e7-4366-885b-21903ec10c0f');\n",
              "var x = new MutationObserver(function (mutations, observer) {{\n",
              "        var display = window.getComputedStyle(gd).display;\n",
              "        if (!display || display === 'none') {{\n",
              "            console.log([gd, 'removed!']);\n",
              "            Plotly.purge(gd);\n",
              "            observer.disconnect();\n",
              "        }}\n",
              "}});\n",
              "\n",
              "// Listen for the removal of the full notebook cells\n",
              "var notebookContainer = gd.closest('#notebook-container');\n",
              "if (notebookContainer) {{\n",
              "    x.observe(notebookContainer, {childList: true});\n",
              "}}\n",
              "\n",
              "// Listen for the clearing of the current output cell\n",
              "var outputEl = gd.closest('.output');\n",
              "if (outputEl) {{\n",
              "    x.observe(outputEl, {childList: true});\n",
              "}}\n",
              "\n",
              "                        })                };                            </script>        </div>\n",
              "</body>\n",
              "</html>"
            ]
          },
          "metadata": {}
        }
      ]
    },
    {
      "cell_type": "code",
      "source": [
        "px.histogram(datos, \n",
        "             x = datos.habitaciones,\n",
        "             title=\"Habitaciones\", \n",
        "             color_discrete_sequence = [\"brown\"], # color \n",
        "             template=\"gridon\")"
      ],
      "metadata": {
        "colab": {
          "base_uri": "https://localhost:8080/",
          "height": 542
        },
        "id": "eOLdsnr8A_Kh",
        "outputId": "4be202c5-1855-4919-8f8a-f85be443d25a"
      },
      "execution_count": 26,
      "outputs": [
        {
          "output_type": "display_data",
          "data": {
            "text/html": [
              "<html>\n",
              "<head><meta charset=\"utf-8\" /></head>\n",
              "<body>\n",
              "    <div>            <script src=\"https://cdnjs.cloudflare.com/ajax/libs/mathjax/2.7.5/MathJax.js?config=TeX-AMS-MML_SVG\"></script><script type=\"text/javascript\">if (window.MathJax && window.MathJax.Hub && window.MathJax.Hub.Config) {window.MathJax.Hub.Config({SVG: {font: \"STIX-Web\"}});}</script>                <script type=\"text/javascript\">window.PlotlyConfig = {MathJaxConfig: 'local'};</script>\n",
              "        <script src=\"https://cdn.plot.ly/plotly-2.12.1.min.js\"></script>                <div id=\"d594bbb9-beed-48a5-ad53-70c194a5f27b\" class=\"plotly-graph-div\" style=\"height:525px; width:100%;\"></div>            <script type=\"text/javascript\">                                    window.PLOTLYENV=window.PLOTLYENV || {};                                    if (document.getElementById(\"d594bbb9-beed-48a5-ad53-70c194a5f27b\")) {                    Plotly.newPlot(                        \"d594bbb9-beed-48a5-ad53-70c194a5f27b\",                        [{\"alignmentgroup\":\"True\",\"bingroup\":\"x\",\"hovertemplate\":\"habitaciones=%{x}<br>count=%{y}<extra></extra>\",\"legendgroup\":\"\",\"marker\":{\"color\":\"brown\",\"pattern\":{\"shape\":\"\"}},\"name\":\"\",\"offsetgroup\":\"\",\"orientation\":\"v\",\"showlegend\":false,\"x\":[5,6,8,5,3,8,8,9,8,6,12,6,4,5,8,4,7,12,6,6,7,4,7,6,4,10,6,5,10,7,4,7,8,5,6,8,7,9,6,7,6,8,5,6,10,9,3,7,8,3,6,5,6,5,5,5,5,7,6,5,3,8,7,5,7,9,5,11,7,7,7,6,10,5,7,8,6,7,10,8,5,6,6,8,5,3,9,8,6,9,6,7,6,5,6,7,8,7,3,5,6,4,4,6,9,6,8,8,6,5,5,6,5,5,8,9,8,5,8,5,7,4,6,7,7,7,7,8,6,3,6,5,12,9,7,10,6,4,5,5,12,7,9,7,6,10,6,3,5,5,8,6,7,3,5,7,4,6,7,5,5,11,6,12,12,5,11,5,7,8,10,5,10,7,10,9,4,10,8,7,7,4,7,10,5,6,11,8,6,5,9,9,9,6,3,4,6,8,6,5,9,6,5,4,6,8,7,3,8,5,9,7,7,8,3,4,3,5,4,5,6,9,3,8,7,7,6,3,6,8,6,6,5,6,5,4,5,4,6,4,3,5,9,3,4,6,9,5,9,5,9,4,9,4,4,3,8,7,7,5,6,8,8,3,6,7,7,4,9,10,7,7,8,8,9,7,3,10,7,6,7,9,8,4,4,9,9,12,7,8,10,4,7,4,9,8,4,12,12,10,8,3,9,7,7,4,8,11,3,8,12,10,9,12,12,7,5,7,9,8,5,9,9,7,8,5,9,7,5,9,9,7,10,9,10,4,7,9,6,9,4,5,7,8,4,8,7,8,5,10,6,8,11,7,3,9,12,4,5,8,7,9,12,7,11,9,9,7,7,8,8,11,12,4,7,5,5,5,12,4,7,11,9,7,6,9,6,9,7,12,6,7,9,4,10,10,12,6,8,3,6,6,7,5,8,7,7,10,7,10,7,10,9,7,11,5,5,9,12,8,8,4,5,8,7,9,5,8,8,6,4,6,6,8,12,7,6,10,8,4,12,7,3,4,5,7,6,5,8,6,3,12,7,6,8,4,9,10,4,7,5,8,5,9,11,4,6,8,8,10,8,5,8,7,3,8,8,11,5,6,7,8,9,4,6,8,7,9,10,7,9,9,12,12,7,6,7,7,10,7,5,9,12,10,8,8,10,7,6,4,11,5,7,6,7,7,7,8,4,6,5,10,5,10,7,7,7,8,6,7,8,5,4,6,11,9,8,8,9,6,7,6,7,6,4,4,8,10,8,6,7,5,11,12,8,4,7,4,6,4,6,7,7,6,6,8,12,10,8,7,12,8,8,12,10,7,5,3,11,5,5,8,8,6,8,6,6,7,3,8,12,11,6,8,10,7,8,11,6,8,8,12,6,9,4,8,11,7,7,3,3,12,5,8,4,9,7,8,5,6,7,8,4,10,4,12,6,6,9,4,7,11,9,8,7,6,5,7,7,4,7,5,5,9,7,11,10,3,10,11,5,7,7,8,9,7,5,5,6,5,6,10,4,7,4,12,5,4,6,4,5,11,7,3,5,5,5,11,8,6,6,7,10,9,12,9,7,7,10,7,6,8,4,6,7,4,8,7,6,6,9,9,6,8,4,8,8,8,9,7,10,6,7,8,7,8,6,5,6,8,6,7,10,10,5,12,6,10,9,12,7,9,3,8,8,7,4,12,8,6,6,4,3,10,5,3,7,4,5,6,7,8,7,6,4,4,11,8,8,8,7,11,6,5,4,8,7,8,4,7,4,7,5,12,7,5,6,8,4,10,6,7,7,5,6,10,11,5,5,6,3,7,12,8,6,10,12,8,8,7,12,11,9,6,6,6,8,8,6,5,12,10,7,8,8,6,6,8,8,5,7,12,10,8,7,11,11,5,11,5,7,8,10,7,11,11,7,11,4,6,9,5,6,7,6,9,4,7,7,9,4,7,8,7,5,7,7,5,3,3,7,6,9,10,8,4,8,7,8,4,7,5,5,4,4,3,8,7,7,7,7,4,5,10,4,12,6,4,3,4,6,6,5,8,5,6,5,7,7,4,4,3,7,3,3,5,5,10,8,7,4,9,3,7,4,10,7,7,5,6,6,7,4,5,8,8,5,5,11,8,11,7,5,5,6,5,5,6,6,8,12,4,5,8,9,6,7,5,7,7,10,10,8,11,8,9,6,11,8,11,10,11,6,8,10,8,7,6,5,8,6,8,5,7,11,7,9,5,3,8,9,11,7,6,11,5,10,7,6,6,12,9,6,5,6,6,10,5,8,7,9,10,8,12,8,10,9,6,8,4,6,12,9,5,5,7,7,6,8,8,7,10,7,7,5,7,12,5,11,6,6,7,2,8,4,5,9,7,8,4,4,7,8,7,8,8,7,7,9,6,5,9,11,7,7,6,7,9,5,12,4,9,5,12,12,3,10,7,5,5,7,6,6,5,10,7,5,8,3,7,5,6,8,9,8,6,3,5,7,10,5,10,7,7,8,12,12,4,11,9,7,8,4,7,7,7,6,8,7,4,3,5,7,7,8,10,8,8,5,10,5,7,5,7,8,6,7,3,10,5,8,5,7,10,8,4,8,4,5,5,7,8,3,5,3,4,6,10,3,9,7,11,8,4,7,10,5,2,5,5,9,9,5,5,9,8,8,10,7,8,5,8,11,8,7,7,6,4,10,7,9,7,7,5,7,6,7,4,4,5,5,4,7,3,6,7,8,7,9,6,4,12,9,9,4,8,10,5,6,8,11,5,3,4,10,7,10,10,7,7,4,6,8,6,9,4,5,7,4,7,10,4,9,5,6,4,5,7,12,6,4,8,6,6,5,11,7,7,11,4,5,6,5,10,5,10,10,8,4,4,8,7,8,6,8,6,10,7,7,5,5,10,5,8,8,7,9,4,8,8,4,8,4,8,5,4,4,6,7,3,5,5,6,6,5,6,5,6,8,7,9,6,6,4,5,10,7,6,10,8,7,6,10,4,5,4,8,11,8,12,6,12,8,3,6,12,3,10,7,9,11,4,6,3,7,7,4,8,12,10,11,11,8,5,8,4,4,10,3,4,4,8,11,10,4,7,4,4,10,5,7,4,9,8,8,4,6,3,5,6,3,6,6,5,6,5,7,7,7,9,10,6,10,5,3,10,4,6,7,9,8,5,7,8,4,8,6,8,8,8,6,10,3,6,4,7,7,4,9,6,5,8,3,9,8,8,11,8,10,10,4,10,4,10,9,11,6,6,8,9,4,10,9,8,7,6,3,4,6,7,4,3,5,5,9,9,11,10,8,4,3,10,3,12,3,6,6,10,3,5,7,11,6,3,12,8,5,6,9,6,8,5,4,6,7,4,8,8,8,7,8,6,6,8,8,4,4,9,4,12,8,7,6,5,6,4,7,10,3,9,10,6,12,9,10,7,3,11,9,4,4,11,6,12,6,6,9,9,7,5,6,4,7,9,10,9,10,7,9,6,5,7,6,9,6,4,9,5,5,7,12,9,11,6,5,7,5,4,10,11,5,8,10,4,10,4,7,8,10,9,8,8,9,5,9,7,8,6,6,10,10,12,7,8,8,5,10,7,6,9,10,7,6,6,8,7,7,8,12,10,8,7,10,6,8,10,4,8,10,10,9,8,11,7,8,6,12,9,7,9,10,8,6,10,7,10,10,4,9,5,8,12,10,3,7,8,5,5,4,7,7,11,10,6,8,6,6,4,9,5,8,12,10,3,4,5,6,5,4,4,7,6,10,4,9,8,6,5,7,4,7,7,10,5,6,7,4,4,7,7,9,6,5,11,5,7,6,11,10,7,12,3,4,6,6,12,8,7,8,5,11,5,4,4,4,8,6,6,8,7,10,4,8,8,10,12,8,10,7,9,12,9,7,4,4,3,11,5,4,8,12,8,7,11,11,3,7,6],\"xaxis\":\"x\",\"yaxis\":\"y\",\"type\":\"histogram\"}],                        {\"template\":{\"data\":{\"pie\":[{\"automargin\":true,\"type\":\"pie\"}]},\"layout\":{\"xaxis\":{\"showgrid\":true,\"title\":{\"standoff\":15}},\"yaxis\":{\"showgrid\":true,\"title\":{\"standoff\":15}}}},\"xaxis\":{\"anchor\":\"y\",\"domain\":[0.0,1.0],\"title\":{\"text\":\"habitaciones\"}},\"yaxis\":{\"anchor\":\"x\",\"domain\":[0.0,1.0],\"title\":{\"text\":\"count\"}},\"legend\":{\"tracegroupgap\":0},\"title\":{\"text\":\"Habitaciones\"},\"barmode\":\"relative\"},                        {\"responsive\": true}                    ).then(function(){\n",
              "                            \n",
              "var gd = document.getElementById('d594bbb9-beed-48a5-ad53-70c194a5f27b');\n",
              "var x = new MutationObserver(function (mutations, observer) {{\n",
              "        var display = window.getComputedStyle(gd).display;\n",
              "        if (!display || display === 'none') {{\n",
              "            console.log([gd, 'removed!']);\n",
              "            Plotly.purge(gd);\n",
              "            observer.disconnect();\n",
              "        }}\n",
              "}});\n",
              "\n",
              "// Listen for the removal of the full notebook cells\n",
              "var notebookContainer = gd.closest('#notebook-container');\n",
              "if (notebookContainer) {{\n",
              "    x.observe(notebookContainer, {childList: true});\n",
              "}}\n",
              "\n",
              "// Listen for the clearing of the current output cell\n",
              "var outputEl = gd.closest('.output');\n",
              "if (outputEl) {{\n",
              "    x.observe(outputEl, {childList: true});\n",
              "}}\n",
              "\n",
              "                        })                };                            </script>        </div>\n",
              "</body>\n",
              "</html>"
            ]
          },
          "metadata": {}
        }
      ]
    },
    {
      "cell_type": "markdown",
      "metadata": {
        "id": "6Dxjk3P9sMEv"
      },
      "source": [
        "***La variable chimenea, aunque es de tipo numérico, apenas toma unos pocos valores y la gran mayoría de observaciones pertenecen a solo dos de ellos. En casos como este, suele ser conveniente tratar la variable como cualitativa.***"
      ]
    },
    {
      "cell_type": "code",
      "metadata": {
        "colab": {
          "base_uri": "https://localhost:8080/"
        },
        "id": "T39ArT0BsWiY",
        "outputId": "ab9446f4-7f68-4085-f641-d8cfb441355b"
      },
      "source": [
        "datos.chimenea.value_counts()"
      ],
      "execution_count": 27,
      "outputs": [
        {
          "output_type": "execute_result",
          "data": {
            "text/plain": [
              "1    942\n",
              "0    740\n",
              "2     42\n",
              "4      2\n",
              "3      2\n",
              "Name: chimenea, dtype: int64"
            ]
          },
          "metadata": {},
          "execution_count": 27
        }
      ]
    },
    {
      "cell_type": "code",
      "metadata": {
        "id": "PVl_eEFpsbLR"
      },
      "source": [
        "datos.chimenea = datos.chimenea.astype(\"str\")"
      ],
      "execution_count": 28,
      "outputs": []
    },
    {
      "cell_type": "markdown",
      "metadata": {
        "id": "I6jhEpAVsrIH"
      },
      "source": [
        "***Como el objetivo del estudio es predecir el precio de las viviendas, el análisis de cada variable se hace también en relación a la variable objetivo precio. Analizando los datos de esta forma, se pueden empezar a extraer ideas sobre qué variables están más relacionadas con el precio y de qué forma.***"
      ]
    },
    {
      "cell_type": "markdown",
      "metadata": {
        "id": "HtkEPxHwszZz"
      },
      "source": [
        "##**Correlación de las variables numéricas**"
      ]
    },
    {
      "cell_type": "code",
      "metadata": {
        "id": "N9NjRb5KtI57"
      },
      "source": [
        "corr_matrix = datos.select_dtypes(include=['float64', 'int']).corr(method='pearson')"
      ],
      "execution_count": 29,
      "outputs": []
    },
    {
      "cell_type": "code",
      "metadata": {
        "colab": {
          "base_uri": "https://localhost:8080/",
          "height": 569
        },
        "id": "axN1vA0ctYka",
        "outputId": "2ef968ac-17c7-4a76-fb3a-880b64dc2243"
      },
      "source": [
        "plt.figure(figsize=(9,8))\n",
        "sns.heatmap(corr_matrix, \n",
        "            annot=True,\n",
        "            linewidths=.5)\n",
        "\n",
        "plt.show()"
      ],
      "execution_count": 30,
      "outputs": [
        {
          "output_type": "display_data",
          "data": {
            "text/plain": [
              "<Figure size 648x576 with 2 Axes>"
            ],
            "image/png": "[encoded data removed]"
          },
          "metadata": {
            "needs_background": "light"
          }
        }
      ]
    },
    {
      "cell_type": "markdown",
      "metadata": {
        "id": "aXesNN0itrB7"
      },
      "source": [
        "##**Variables cualitativas** - Análisis descriptivo"
      ]
    },
    {
      "cell_type": "code",
      "metadata": {
        "colab": {
          "base_uri": "https://localhost:8080/",
          "height": 237
        },
        "id": "GPGLcJewt_Cl",
        "outputId": "6b0cafbf-4906-42fb-ce08-327bbc0a9f16"
      },
      "source": [
        "datos.select_dtypes(include=[\"object\"]).describe()"
      ],
      "execution_count": 31,
      "outputs": [
        {
          "output_type": "execute_result",
          "data": {
            "text/plain": [
              "       chimenea calefaccion consumo_calefacion            desague vistas_lago  \\\n",
              "count      1728        1728               1728               1728        1728   \n",
              "unique        5           3                  3                  3           2   \n",
              "top           1     hot air                gas  public/commercial          No   \n",
              "freq        942        1121               1197               1213        1713   \n",
              "\n",
              "       nueva_construccion aire_acondicionado  \n",
              "count                1728               1728  \n",
              "unique                  2                  2  \n",
              "top                    No                 No  \n",
              "freq                 1647               1093  "
            ],
            "text/html": [
              "\n",
              "  <div id=\"df-e95ad049-aa29-4198-ad12-7a6d5b8bf2b3\">\n",
              "    <div class=\"colab-df-container\">\n",
              "      <div>\n",
              "<style scoped>\n",
              "    .dataframe tbody tr th:only-of-type {\n",
              "        vertical-align: middle;\n",
              "    }\n",
              "\n",
              "    .dataframe tbody tr th {\n",
              "        vertical-align: top;\n",
              "    }\n",
              "\n",
              "    .dataframe thead th {\n",
              "        text-align: right;\n",
              "    }\n",
              "</style>\n",
              "<table border=\"1\" class=\"dataframe\">\n",
              "  <thead>\n",
              "    <tr style=\"text-align: right;\">\n",
              "      <th></th>\n",
              "      <th>chimenea</th>\n",
              "      <th>calefaccion</th>\n",
              "      <th>consumo_calefacion</th>\n",
              "      <th>desague</th>\n",
              "      <th>vistas_lago</th>\n",
              "      <th>nueva_construccion</th>\n",
              "      <th>aire_acondicionado</th>\n",
              "    </tr>\n",
              "  </thead>\n",
              "  <tbody>\n",
              "    <tr>\n",
              "      <th>count</th>\n",
              "      <td>1728</td>\n",
              "      <td>1728</td>\n",
              "      <td>1728</td>\n",
              "      <td>1728</td>\n",
              "      <td>1728</td>\n",
              "      <td>1728</td>\n",
              "      <td>1728</td>\n",
              "    </tr>\n",
              "    <tr>\n",
              "      <th>unique</th>\n",
              "      <td>5</td>\n",
              "      <td>3</td>\n",
              "      <td>3</td>\n",
              "      <td>3</td>\n",
              "      <td>2</td>\n",
              "      <td>2</td>\n",
              "      <td>2</td>\n",
              "    </tr>\n",
              "    <tr>\n",
              "      <th>top</th>\n",
              "      <td>1</td>\n",
              "      <td>hot air</td>\n",
              "      <td>gas</td>\n",
              "      <td>public/commercial</td>\n",
              "      <td>No</td>\n",
              "      <td>No</td>\n",
              "      <td>No</td>\n",
              "    </tr>\n",
              "    <tr>\n",
              "      <th>freq</th>\n",
              "      <td>942</td>\n",
              "      <td>1121</td>\n",
              "      <td>1197</td>\n",
              "      <td>1213</td>\n",
              "      <td>1713</td>\n",
              "      <td>1647</td>\n",
              "      <td>1093</td>\n",
              "    </tr>\n",
              "  </tbody>\n",
              "</table>\n",
              "</div>\n",
              "      <button class=\"colab-df-convert\" onclick=\"convertToInteractive('df-e95ad049-aa29-4198-ad12-7a6d5b8bf2b3')\"\n",
              "              title=\"Convert this dataframe to an interactive table.\"\n",
              "              style=\"display:none;\">\n",
              "        \n",
              "  <svg xmlns=\"http://www.w3.org/2000/svg\" height=\"24px\"viewBox=\"0 0 24 24\"\n",
              "       width=\"24px\">\n",
              "    <path d=\"M0 0h24v24H0V0z\" fill=\"none\"/>\n",
              "    <path d=\"M18.56 5.44l.94 2.06.94-2.06 2.06-.94-2.06-.94-.94-2.06-.94 2.06-2.06.94zm-11 1L8.5 8.5l.94-2.06 2.06-.94-2.06-.94L8.5 2.5l-.94 2.06-2.06.94zm10 10l.94 2.06.94-2.06 2.06-.94-2.06-.94-.94-2.06-.94 2.06-2.06.94z\"/><path d=\"M17.41 7.96l-1.37-1.37c-.4-.4-.92-.59-1.43-.59-.52 0-1.04.2-1.43.59L10.3 9.45l-7.72 7.72c-.78.78-.78 2.05 0 2.83L4 21.41c.39.39.9.59 1.41.59.51 0 1.02-.2 1.41-.59l7.78-7.78 2.81-2.81c.8-.78.8-2.07 0-2.86zM5.41 20L4 18.59l7.72-7.72 1.47 1.35L5.41 20z\"/>\n",
              "  </svg>\n",
              "      </button>\n",
              "      \n",
              "  <style>\n",
              "    .colab-df-container {\n",
              "      display:flex;\n",
              "      flex-wrap:wrap;\n",
              "      gap: 12px;\n",
              "    }\n",
              "\n",
              "    .colab-df-convert {\n",
              "      background-color: #E8F0FE;\n",
              "      border: none;\n",
              "      border-radius: 50%;\n",
              "      cursor: pointer;\n",
              "      display: none;\n",
              "      fill: #1967D2;\n",
              "      height: 32px;\n",
              "      padding: 0 0 0 0;\n",
              "      width: 32px;\n",
              "    }\n",
              "\n",
              "    .colab-df-convert:hover {\n",
              "      background-color: #E2EBFA;\n",
              "      box-shadow: 0px 1px 2px rgba(60, 64, 67, 0.3), 0px 1px 3px 1px rgba(60, 64, 67, 0.15);\n",
              "      fill: #174EA6;\n",
              "    }\n",
              "\n",
              "    [theme=dark] .colab-df-convert {\n",
              "      background-color: #3B4455;\n",
              "      fill: #D2E3FC;\n",
              "    }\n",
              "\n",
              "    [theme=dark] .colab-df-convert:hover {\n",
              "      background-color: #434B5C;\n",
              "      box-shadow: 0px 1px 3px 1px rgba(0, 0, 0, 0.15);\n",
              "      filter: drop-shadow(0px 1px 2px rgba(0, 0, 0, 0.3));\n",
              "      fill: #FFFFFF;\n",
              "    }\n",
              "  </style>\n",
              "\n",
              "      <script>\n",
              "        const buttonEl =\n",
              "          document.querySelector('#df-e95ad049-aa29-4198-ad12-7a6d5b8bf2b3 button.colab-df-convert');\n",
              "        buttonEl.style.display =\n",
              "          google.colab.kernel.accessAllowed ? 'block' : 'none';\n",
              "\n",
              "        async function convertToInteractive(key) {\n",
              "          const element = document.querySelector('#df-e95ad049-aa29-4198-ad12-7a6d5b8bf2b3');\n",
              "          const dataTable =\n",
              "            await google.colab.kernel.invokeFunction('convertToInteractive',\n",
              "                                                     [key], {});\n",
              "          if (!dataTable) return;\n",
              "\n",
              "          const docLinkHtml = 'Like what you see? Visit the ' +\n",
              "            '<a target=\"_blank\" href=https://colab.research.google.com/notebooks/data_table.ipynb>data table notebook</a>'\n",
              "            + ' to learn more about interactive tables.';\n",
              "          element.innerHTML = '';\n",
              "          dataTable['output_type'] = 'display_data';\n",
              "          await google.colab.output.renderOutput(dataTable, element);\n",
              "          const docLink = document.createElement('div');\n",
              "          docLink.innerHTML = docLinkHtml;\n",
              "          element.appendChild(docLink);\n",
              "        }\n",
              "      </script>\n",
              "    </div>\n",
              "  </div>\n",
              "  "
            ]
          },
          "metadata": {},
          "execution_count": 31
        }
      ]
    },
    {
      "cell_type": "markdown",
      "metadata": {
        "id": "yqdyd5GjuQ8D"
      },
      "source": [
        "**Si alguno de los niveles de una variable cualitativa tiene muy pocas observaciones en comparación a los otros niveles, puede ocurrir que, durante la validación cruzada, algunas particiones no contengan ninguna observación de dicha clase (varianza cero), lo que puede dar lugar a errores.** \n",
        "\n",
        "**En estos casos, suele ser conveniente:**\n",
        "- **Eliminar las observaciones del grupo minoritario si es una variable multiclase.**\n",
        "- **Eliminar la variable si solo tiene dos niveles.**\n",
        "- **Agrupar los niveles minoritarios en un único grupo.**\n",
        "- **Asegurar que, en la creación de las particiones, todos los grupos estén representados en cada una de ellas.**\n",
        "\n",
        "**Para este caso, hay que tener precaución con la variable chimenea.**"
      ]
    },
    {
      "cell_type": "code",
      "source": [
        "fig = px.histogram(datos, \n",
        "                   x = datos.chimenea,\n",
        "                   title=\"Chimenea\", \n",
        "                   color_discrete_sequence = [\"brown\"], # color \n",
        "                   template=\"gridon\")\n",
        "\n",
        "fig.update_layout(bargap=0.2)"
      ],
      "metadata": {
        "colab": {
          "base_uri": "https://localhost:8080/",
          "height": 542
        },
        "id": "0EzjabCpBjOI",
        "outputId": "f904fa57-a581-413b-c8f9-da166dad139b"
      },
      "execution_count": 32,
      "outputs": [
        {
          "output_type": "display_data",
          "data": {
            "text/html": [
              "<html>\n",
              "<head><meta charset=\"utf-8\" /></head>\n",
              "<body>\n",
              "    <div>            <script src=\"https://cdnjs.cloudflare.com/ajax/libs/mathjax/2.7.5/MathJax.js?config=TeX-AMS-MML_SVG\"></script><script type=\"text/javascript\">if (window.MathJax && window.MathJax.Hub && window.MathJax.Hub.Config) {window.MathJax.Hub.Config({SVG: {font: \"STIX-Web\"}});}</script>                <script type=\"text/javascript\">window.PlotlyConfig = {MathJaxConfig: 'local'};</script>\n",
              "        <script src=\"https://cdn.plot.ly/plotly-2.12.1.min.js\"></script>                <div id=\"df3df1a4-3352-45ed-a95e-98e6e8db2a31\" class=\"plotly-graph-div\" style=\"height:525px; width:100%;\"></div>            <script type=\"text/javascript\">                                    window.PLOTLYENV=window.PLOTLYENV || {};                                    if (document.getElementById(\"df3df1a4-3352-45ed-a95e-98e6e8db2a31\")) {                    Plotly.newPlot(                        \"df3df1a4-3352-45ed-a95e-98e6e8db2a31\",                        [{\"alignmentgroup\":\"True\",\"bingroup\":\"x\",\"hovertemplate\":\"chimenea=%{x}<br>count=%{y}<extra></extra>\",\"legendgroup\":\"\",\"marker\":{\"color\":\"brown\",\"pattern\":{\"shape\":\"\"}},\"name\":\"\",\"offsetgroup\":\"\",\"orientation\":\"v\",\"showlegend\":false,\"x\":[\"1\",\"0\",\"1\",\"1\",\"0\",\"1\",\"1\",\"1\",\"0\",\"0\",\"0\",\"0\",\"0\",\"0\",\"0\",\"0\",\"0\",\"1\",\"0\",\"0\",\"0\",\"0\",\"0\",\"0\",\"0\",\"0\",\"0\",\"0\",\"1\",\"1\",\"2\",\"1\",\"1\",\"0\",\"1\",\"1\",\"1\",\"1\",\"2\",\"1\",\"1\",\"0\",\"1\",\"0\",\"1\",\"1\",\"0\",\"0\",\"0\",\"1\",\"0\",\"1\",\"1\",\"0\",\"1\",\"0\",\"1\",\"1\",\"0\",\"1\",\"1\",\"1\",\"0\",\"1\",\"0\",\"0\",\"1\",\"1\",\"1\",\"0\",\"0\",\"1\",\"1\",\"0\",\"0\",\"0\",\"1\",\"0\",\"0\",\"1\",\"1\",\"0\",\"0\",\"0\",\"0\",\"1\",\"0\",\"1\",\"0\",\"1\",\"0\",\"1\",\"1\",\"0\",\"1\",\"0\",\"1\",\"0\",\"0\",\"1\",\"0\",\"0\",\"1\",\"0\",\"0\",\"1\",\"1\",\"0\",\"0\",\"0\",\"1\",\"0\",\"0\",\"0\",\"1\",\"1\",\"0\",\"1\",\"0\",\"0\",\"0\",\"0\",\"0\",\"0\",\"0\",\"1\",\"1\",\"0\",\"2\",\"0\",\"0\",\"0\",\"0\",\"1\",\"0\",\"0\",\"1\",\"0\",\"1\",\"1\",\"0\",\"1\",\"1\",\"0\",\"1\",\"1\",\"0\",\"1\",\"1\",\"1\",\"1\",\"1\",\"1\",\"1\",\"1\",\"1\",\"0\",\"0\",\"0\",\"0\",\"0\",\"1\",\"1\",\"1\",\"2\",\"1\",\"1\",\"1\",\"1\",\"1\",\"1\",\"1\",\"1\",\"0\",\"1\",\"1\",\"1\",\"1\",\"1\",\"1\",\"1\",\"0\",\"0\",\"1\",\"0\",\"1\",\"1\",\"0\",\"0\",\"1\",\"1\",\"1\",\"0\",\"1\",\"1\",\"0\",\"0\",\"0\",\"1\",\"1\",\"1\",\"1\",\"1\",\"0\",\"1\",\"1\",\"1\",\"0\",\"0\",\"1\",\"1\",\"0\",\"1\",\"0\",\"0\",\"0\",\"0\",\"0\",\"0\",\"1\",\"1\",\"1\",\"0\",\"1\",\"0\",\"0\",\"0\",\"0\",\"0\",\"0\",\"1\",\"1\",\"0\",\"1\",\"0\",\"0\",\"1\",\"0\",\"0\",\"0\",\"0\",\"1\",\"0\",\"0\",\"0\",\"0\",\"0\",\"1\",\"1\",\"0\",\"1\",\"0\",\"1\",\"0\",\"1\",\"0\",\"1\",\"1\",\"1\",\"1\",\"0\",\"0\",\"1\",\"0\",\"0\",\"1\",\"0\",\"1\",\"0\",\"1\",\"0\",\"1\",\"0\",\"0\",\"1\",\"0\",\"1\",\"1\",\"1\",\"1\",\"1\",\"1\",\"1\",\"1\",\"1\",\"1\",\"1\",\"1\",\"1\",\"1\",\"1\",\"0\",\"0\",\"0\",\"1\",\"1\",\"2\",\"1\",\"1\",\"1\",\"1\",\"0\",\"1\",\"1\",\"0\",\"1\",\"0\",\"1\",\"1\",\"0\",\"1\",\"1\",\"0\",\"4\",\"1\",\"1\",\"0\",\"1\",\"1\",\"1\",\"0\",\"1\",\"2\",\"1\",\"1\",\"1\",\"0\",\"1\",\"1\",\"1\",\"1\",\"1\",\"1\",\"1\",\"1\",\"0\",\"1\",\"1\",\"1\",\"1\",\"1\",\"0\",\"1\",\"0\",\"1\",\"2\",\"1\",\"0\",\"1\",\"1\",\"1\",\"1\",\"1\",\"1\",\"0\",\"1\",\"1\",\"0\",\"1\",\"1\",\"1\",\"2\",\"1\",\"1\",\"1\",\"1\",\"0\",\"0\",\"1\",\"1\",\"1\",\"1\",\"1\",\"1\",\"0\",\"0\",\"1\",\"1\",\"1\",\"0\",\"1\",\"1\",\"1\",\"1\",\"0\",\"1\",\"1\",\"1\",\"1\",\"2\",\"0\",\"1\",\"0\",\"1\",\"1\",\"0\",\"2\",\"1\",\"1\",\"1\",\"0\",\"1\",\"1\",\"1\",\"1\",\"0\",\"1\",\"1\",\"1\",\"1\",\"0\",\"1\",\"1\",\"0\",\"1\",\"1\",\"1\",\"1\",\"1\",\"1\",\"1\",\"1\",\"0\",\"0\",\"0\",\"0\",\"0\",\"0\",\"0\",\"0\",\"1\",\"1\",\"1\",\"0\",\"2\",\"1\",\"0\",\"0\",\"1\",\"1\",\"1\",\"0\",\"0\",\"1\",\"1\",\"0\",\"0\",\"0\",\"1\",\"0\",\"0\",\"0\",\"0\",\"0\",\"0\",\"1\",\"1\",\"0\",\"0\",\"0\",\"1\",\"0\",\"0\",\"1\",\"0\",\"1\",\"1\",\"1\",\"1\",\"0\",\"1\",\"1\",\"1\",\"1\",\"0\",\"1\",\"1\",\"1\",\"1\",\"1\",\"0\",\"0\",\"1\",\"1\",\"0\",\"1\",\"1\",\"0\",\"1\",\"0\",\"1\",\"1\",\"2\",\"0\",\"0\",\"0\",\"1\",\"1\",\"1\",\"1\",\"0\",\"1\",\"1\",\"1\",\"1\",\"0\",\"1\",\"1\",\"0\",\"0\",\"0\",\"1\",\"0\",\"1\",\"1\",\"0\",\"0\",\"0\",\"1\",\"0\",\"0\",\"1\",\"0\",\"1\",\"1\",\"0\",\"1\",\"1\",\"1\",\"1\",\"1\",\"0\",\"0\",\"0\",\"1\",\"1\",\"0\",\"0\",\"1\",\"0\",\"0\",\"1\",\"0\",\"1\",\"1\",\"0\",\"0\",\"0\",\"1\",\"0\",\"1\",\"1\",\"1\",\"2\",\"0\",\"1\",\"0\",\"0\",\"1\",\"1\",\"1\",\"0\",\"1\",\"0\",\"1\",\"1\",\"2\",\"1\",\"0\",\"0\",\"0\",\"1\",\"0\",\"1\",\"1\",\"1\",\"0\",\"1\",\"1\",\"0\",\"0\",\"0\",\"1\",\"0\",\"1\",\"0\",\"0\",\"1\",\"0\",\"0\",\"2\",\"1\",\"0\",\"0\",\"1\",\"1\",\"1\",\"1\",\"0\",\"1\",\"0\",\"0\",\"1\",\"1\",\"0\",\"0\",\"2\",\"1\",\"1\",\"0\",\"0\",\"2\",\"1\",\"1\",\"1\",\"1\",\"1\",\"0\",\"0\",\"1\",\"0\",\"1\",\"1\",\"0\",\"0\",\"2\",\"0\",\"2\",\"1\",\"1\",\"0\",\"1\",\"1\",\"0\",\"0\",\"1\",\"0\",\"1\",\"1\",\"0\",\"1\",\"0\",\"1\",\"1\",\"1\",\"0\",\"0\",\"0\",\"1\",\"0\",\"0\",\"0\",\"0\",\"1\",\"1\",\"0\",\"0\",\"0\",\"1\",\"0\",\"1\",\"1\",\"1\",\"0\",\"1\",\"2\",\"0\",\"1\",\"0\",\"0\",\"0\",\"0\",\"0\",\"0\",\"1\",\"0\",\"0\",\"1\",\"0\",\"0\",\"0\",\"1\",\"1\",\"0\",\"1\",\"0\",\"1\",\"1\",\"0\",\"0\",\"0\",\"0\",\"1\",\"0\",\"1\",\"1\",\"0\",\"2\",\"1\",\"0\",\"0\",\"1\",\"2\",\"0\",\"0\",\"1\",\"0\",\"0\",\"1\",\"1\",\"1\",\"0\",\"1\",\"1\",\"1\",\"2\",\"0\",\"1\",\"0\",\"0\",\"0\",\"0\",\"0\",\"1\",\"1\",\"1\",\"0\",\"1\",\"1\",\"1\",\"0\",\"0\",\"0\",\"1\",\"1\",\"0\",\"0\",\"0\",\"0\",\"0\",\"0\",\"1\",\"0\",\"0\",\"0\",\"0\",\"0\",\"0\",\"0\",\"1\",\"0\",\"1\",\"0\",\"0\",\"0\",\"0\",\"0\",\"0\",\"0\",\"1\",\"1\",\"2\",\"1\",\"1\",\"1\",\"0\",\"0\",\"0\",\"0\",\"0\",\"0\",\"1\",\"0\",\"1\",\"0\",\"1\",\"0\",\"1\",\"1\",\"2\",\"0\",\"1\",\"0\",\"1\",\"1\",\"1\",\"0\",\"0\",\"0\",\"0\",\"0\",\"1\",\"2\",\"0\",\"1\",\"1\",\"2\",\"1\",\"0\",\"0\",\"1\",\"1\",\"1\",\"0\",\"1\",\"1\",\"1\",\"1\",\"0\",\"1\",\"1\",\"0\",\"0\",\"0\",\"1\",\"1\",\"0\",\"1\",\"0\",\"1\",\"1\",\"1\",\"1\",\"1\",\"0\",\"1\",\"1\",\"0\",\"0\",\"1\",\"0\",\"0\",\"1\",\"1\",\"1\",\"1\",\"0\",\"1\",\"1\",\"0\",\"1\",\"1\",\"1\",\"0\",\"1\",\"1\",\"1\",\"0\",\"0\",\"1\",\"1\",\"0\",\"0\",\"1\",\"0\",\"0\",\"0\",\"1\",\"0\",\"0\",\"1\",\"1\",\"1\",\"0\",\"1\",\"0\",\"1\",\"1\",\"1\",\"0\",\"1\",\"0\",\"0\",\"0\",\"0\",\"1\",\"0\",\"0\",\"0\",\"0\",\"1\",\"1\",\"1\",\"1\",\"0\",\"1\",\"0\",\"0\",\"0\",\"0\",\"1\",\"0\",\"0\",\"1\",\"0\",\"0\",\"0\",\"0\",\"1\",\"0\",\"0\",\"0\",\"1\",\"0\",\"0\",\"1\",\"1\",\"1\",\"0\",\"1\",\"0\",\"1\",\"1\",\"1\",\"0\",\"1\",\"0\",\"0\",\"0\",\"0\",\"1\",\"0\",\"0\",\"0\",\"0\",\"1\",\"1\",\"1\",\"1\",\"0\",\"1\",\"0\",\"0\",\"0\",\"0\",\"0\",\"0\",\"2\",\"1\",\"1\",\"1\",\"1\",\"1\",\"1\",\"1\",\"1\",\"1\",\"1\",\"1\",\"1\",\"1\",\"1\",\"1\",\"1\",\"1\",\"1\",\"0\",\"1\",\"1\",\"1\",\"1\",\"1\",\"1\",\"1\",\"1\",\"0\",\"0\",\"1\",\"0\",\"1\",\"2\",\"1\",\"1\",\"1\",\"1\",\"1\",\"1\",\"1\",\"0\",\"1\",\"1\",\"1\",\"2\",\"1\",\"1\",\"1\",\"1\",\"1\",\"0\",\"1\",\"1\",\"1\",\"0\",\"1\",\"0\",\"1\",\"1\",\"1\",\"0\",\"0\",\"1\",\"1\",\"1\",\"1\",\"1\",\"1\",\"1\",\"1\",\"1\",\"0\",\"1\",\"1\",\"1\",\"1\",\"0\",\"1\",\"1\",\"0\",\"0\",\"1\",\"1\",\"1\",\"0\",\"1\",\"1\",\"1\",\"2\",\"0\",\"1\",\"1\",\"1\",\"1\",\"0\",\"1\",\"1\",\"0\",\"1\",\"1\",\"0\",\"0\",\"0\",\"1\",\"1\",\"1\",\"0\",\"1\",\"1\",\"1\",\"1\",\"0\",\"1\",\"1\",\"1\",\"1\",\"0\",\"0\",\"0\",\"1\",\"1\",\"1\",\"1\",\"1\",\"1\",\"2\",\"0\",\"0\",\"1\",\"0\",\"1\",\"1\",\"1\",\"1\",\"0\",\"1\",\"1\",\"1\",\"0\",\"0\",\"1\",\"1\",\"1\",\"0\",\"0\",\"1\",\"0\",\"1\",\"1\",\"0\",\"0\",\"1\",\"0\",\"1\",\"0\",\"1\",\"0\",\"0\",\"1\",\"0\",\"1\",\"1\",\"1\",\"1\",\"1\",\"0\",\"0\",\"1\",\"0\",\"0\",\"2\",\"0\",\"0\",\"0\",\"0\",\"1\",\"1\",\"1\",\"0\",\"0\",\"0\",\"1\",\"0\",\"0\",\"0\",\"1\",\"1\",\"0\",\"1\",\"2\",\"1\",\"1\",\"1\",\"0\",\"0\",\"0\",\"0\",\"0\",\"2\",\"0\",\"0\",\"0\",\"0\",\"0\",\"1\",\"0\",\"0\",\"0\",\"0\",\"1\",\"1\",\"0\",\"0\",\"1\",\"1\",\"0\",\"0\",\"0\",\"0\",\"0\",\"0\",\"0\",\"1\",\"1\",\"0\",\"1\",\"1\",\"0\",\"1\",\"1\",\"1\",\"1\",\"0\",\"1\",\"1\",\"0\",\"0\",\"0\",\"0\",\"0\",\"1\",\"0\",\"1\",\"1\",\"1\",\"0\",\"1\",\"1\",\"1\",\"0\",\"0\",\"0\",\"1\",\"0\",\"1\",\"0\",\"0\",\"0\",\"0\",\"1\",\"1\",\"0\",\"0\",\"4\",\"0\",\"0\",\"1\",\"0\",\"1\",\"1\",\"0\",\"1\",\"1\",\"0\",\"0\",\"1\",\"0\",\"0\",\"2\",\"1\",\"1\",\"0\",\"0\",\"0\",\"0\",\"1\",\"1\",\"0\",\"1\",\"0\",\"1\",\"0\",\"1\",\"0\",\"0\",\"1\",\"1\",\"0\",\"1\",\"0\",\"1\",\"1\",\"0\",\"0\",\"0\",\"0\",\"1\",\"1\",\"0\",\"1\",\"0\",\"0\",\"0\",\"2\",\"0\",\"0\",\"0\",\"1\",\"0\",\"0\",\"1\",\"0\",\"1\",\"0\",\"1\",\"1\",\"1\",\"0\",\"1\",\"1\",\"1\",\"1\",\"0\",\"1\",\"0\",\"1\",\"1\",\"1\",\"0\",\"0\",\"0\",\"0\",\"0\",\"0\",\"0\",\"1\",\"0\",\"0\",\"1\",\"1\",\"0\",\"0\",\"0\",\"0\",\"1\",\"0\",\"0\",\"1\",\"0\",\"0\",\"0\",\"1\",\"0\",\"1\",\"0\",\"1\",\"0\",\"0\",\"0\",\"0\",\"1\",\"0\",\"1\",\"0\",\"1\",\"1\",\"1\",\"1\",\"0\",\"1\",\"1\",\"1\",\"1\",\"1\",\"1\",\"1\",\"1\",\"1\",\"0\",\"1\",\"1\",\"1\",\"1\",\"0\",\"1\",\"1\",\"1\",\"1\",\"0\",\"1\",\"1\",\"1\",\"1\",\"1\",\"1\",\"1\",\"1\",\"1\",\"1\",\"1\",\"0\",\"1\",\"0\",\"1\",\"1\",\"1\",\"0\",\"1\",\"1\",\"0\",\"1\",\"0\",\"0\",\"1\",\"1\",\"0\",\"0\",\"1\",\"1\",\"0\",\"0\",\"1\",\"1\",\"1\",\"0\",\"1\",\"1\",\"1\",\"1\",\"0\",\"0\",\"1\",\"1\",\"0\",\"1\",\"1\",\"0\",\"1\",\"0\",\"0\",\"1\",\"1\",\"1\",\"1\",\"0\",\"1\",\"1\",\"3\",\"1\",\"0\",\"1\",\"0\",\"1\",\"1\",\"0\",\"0\",\"0\",\"0\",\"1\",\"0\",\"0\",\"0\",\"1\",\"1\",\"0\",\"0\",\"0\",\"0\",\"1\",\"0\",\"1\",\"1\",\"1\",\"1\",\"0\",\"1\",\"1\",\"0\",\"1\",\"1\",\"0\",\"1\",\"1\",\"1\",\"1\",\"1\",\"1\",\"1\",\"1\",\"0\",\"1\",\"1\",\"1\",\"0\",\"1\",\"0\",\"0\",\"1\",\"1\",\"0\",\"1\",\"0\",\"1\",\"1\",\"1\",\"1\",\"0\",\"1\",\"0\",\"1\",\"0\",\"1\",\"0\",\"1\",\"1\",\"0\",\"0\",\"1\",\"1\",\"1\",\"1\",\"0\",\"1\",\"0\",\"0\",\"1\",\"0\",\"0\",\"0\",\"1\",\"0\",\"0\",\"1\",\"0\",\"0\",\"0\",\"1\",\"1\",\"0\",\"1\",\"0\",\"1\",\"1\",\"0\",\"1\",\"1\",\"1\",\"1\",\"1\",\"1\",\"0\",\"2\",\"1\",\"1\",\"1\",\"0\",\"1\",\"0\",\"1\",\"1\",\"2\",\"0\",\"0\",\"1\",\"1\",\"1\",\"0\",\"1\",\"1\",\"1\",\"1\",\"1\",\"0\",\"0\",\"0\",\"1\",\"1\",\"1\",\"1\",\"1\",\"1\",\"1\",\"1\",\"0\",\"0\",\"1\",\"1\",\"1\",\"1\",\"1\",\"1\",\"1\",\"1\",\"0\",\"1\",\"0\",\"1\",\"1\",\"1\",\"0\",\"1\",\"1\",\"1\",\"1\",\"1\",\"1\",\"1\",\"1\",\"1\",\"0\",\"1\",\"1\",\"1\",\"1\",\"0\",\"0\",\"1\",\"1\",\"0\",\"0\",\"0\",\"1\",\"1\",\"1\",\"0\",\"0\",\"1\",\"1\",\"1\",\"0\",\"0\",\"1\",\"1\",\"1\",\"0\",\"1\",\"1\",\"1\",\"1\",\"1\",\"1\",\"3\",\"1\",\"0\",\"1\",\"0\",\"0\",\"1\",\"0\",\"1\",\"1\",\"1\",\"1\",\"1\",\"1\",\"1\",\"1\",\"1\",\"1\",\"1\",\"0\",\"1\",\"1\",\"1\",\"1\",\"1\",\"1\",\"1\",\"1\",\"1\",\"0\",\"0\",\"0\",\"1\",\"1\",\"0\",\"0\",\"0\",\"0\",\"1\",\"0\",\"1\",\"1\",\"1\",\"0\",\"0\",\"1\",\"0\",\"0\",\"1\",\"0\",\"1\",\"0\",\"1\",\"0\",\"1\",\"0\",\"1\",\"0\",\"0\",\"0\",\"0\",\"1\",\"1\",\"1\",\"2\",\"0\",\"1\",\"0\",\"0\",\"1\",\"0\",\"0\",\"0\",\"0\",\"0\",\"0\",\"1\",\"0\",\"0\",\"0\",\"0\",\"1\",\"1\",\"1\",\"1\",\"0\",\"0\",\"1\",\"1\",\"1\",\"0\",\"1\",\"0\",\"0\",\"1\",\"1\",\"1\",\"2\",\"0\",\"1\",\"0\",\"1\",\"0\",\"0\",\"1\",\"0\",\"1\",\"1\",\"0\",\"1\",\"1\",\"1\",\"1\",\"0\",\"1\",\"1\",\"1\",\"1\",\"1\",\"0\",\"1\",\"1\",\"1\",\"0\",\"0\",\"1\",\"0\",\"1\",\"0\",\"0\",\"1\",\"1\",\"1\",\"2\",\"1\",\"1\",\"0\",\"1\",\"0\"],\"xaxis\":\"x\",\"yaxis\":\"y\",\"type\":\"histogram\"}],                        {\"template\":{\"data\":{\"pie\":[{\"automargin\":true,\"type\":\"pie\"}]},\"layout\":{\"xaxis\":{\"showgrid\":true,\"title\":{\"standoff\":15}},\"yaxis\":{\"showgrid\":true,\"title\":{\"standoff\":15}}}},\"xaxis\":{\"anchor\":\"y\",\"domain\":[0.0,1.0],\"title\":{\"text\":\"chimenea\"}},\"yaxis\":{\"anchor\":\"x\",\"domain\":[0.0,1.0],\"title\":{\"text\":\"count\"}},\"legend\":{\"tracegroupgap\":0},\"title\":{\"text\":\"Chimenea\"},\"barmode\":\"relative\",\"bargap\":0.2},                        {\"responsive\": true}                    ).then(function(){\n",
              "                            \n",
              "var gd = document.getElementById('df3df1a4-3352-45ed-a95e-98e6e8db2a31');\n",
              "var x = new MutationObserver(function (mutations, observer) {{\n",
              "        var display = window.getComputedStyle(gd).display;\n",
              "        if (!display || display === 'none') {{\n",
              "            console.log([gd, 'removed!']);\n",
              "            Plotly.purge(gd);\n",
              "            observer.disconnect();\n",
              "        }}\n",
              "}});\n",
              "\n",
              "// Listen for the removal of the full notebook cells\n",
              "var notebookContainer = gd.closest('#notebook-container');\n",
              "if (notebookContainer) {{\n",
              "    x.observe(notebookContainer, {childList: true});\n",
              "}}\n",
              "\n",
              "// Listen for the clearing of the current output cell\n",
              "var outputEl = gd.closest('.output');\n",
              "if (outputEl) {{\n",
              "    x.observe(outputEl, {childList: true});\n",
              "}}\n",
              "\n",
              "                        })                };                            </script>        </div>\n",
              "</body>\n",
              "</html>"
            ]
          },
          "metadata": {}
        }
      ]
    },
    {
      "cell_type": "code",
      "metadata": {
        "colab": {
          "base_uri": "https://localhost:8080/",
          "height": 542
        },
        "id": "HSJLHbAJ6y6I",
        "outputId": "09bf5c4d-a7dd-48c7-fc3f-3e8d209c250a"
      },
      "source": [
        "fig = px.histogram(datos, \n",
        "                   x = datos.calefaccion,\n",
        "                   title=\"Calefaccion\",\n",
        "                   template=\"gridon\")\n",
        "fig.show()"
      ],
      "execution_count": 33,
      "outputs": [
        {
          "output_type": "display_data",
          "data": {
            "text/html": [
              "<html>\n",
              "<head><meta charset=\"utf-8\" /></head>\n",
              "<body>\n",
              "    <div>            <script src=\"https://cdnjs.cloudflare.com/ajax/libs/mathjax/2.7.5/MathJax.js?config=TeX-AMS-MML_SVG\"></script><script type=\"text/javascript\">if (window.MathJax && window.MathJax.Hub && window.MathJax.Hub.Config) {window.MathJax.Hub.Config({SVG: {font: \"STIX-Web\"}});}</script>                <script type=\"text/javascript\">window.PlotlyConfig = {MathJaxConfig: 'local'};</script>\n",
              "        <script src=\"https://cdn.plot.ly/plotly-2.12.1.min.js\"></script>                <div id=\"6bd9f946-d202-4ab9-b4d6-d7a28fc1fa2d\" class=\"plotly-graph-div\" style=\"height:525px; width:100%;\"></div>            <script type=\"text/javascript\">                                    window.PLOTLYENV=window.PLOTLYENV || {};                                    if (document.getElementById(\"6bd9f946-d202-4ab9-b4d6-d7a28fc1fa2d\")) {                    Plotly.newPlot(                        \"6bd9f946-d202-4ab9-b4d6-d7a28fc1fa2d\",                        [{\"alignmentgroup\":\"True\",\"bingroup\":\"x\",\"hovertemplate\":\"calefaccion=%{x}<br>count=%{y}<extra></extra>\",\"legendgroup\":\"\",\"marker\":{\"color\":\"#1F77B4\",\"pattern\":{\"shape\":\"\"}},\"name\":\"\",\"offsetgroup\":\"\",\"orientation\":\"v\",\"showlegend\":false,\"x\":[\"electric\",\"hot water/steam\",\"hot water/steam\",\"hot air\",\"hot air\",\"hot air\",\"hot water/steam\",\"hot air\",\"electric\",\"hot air\",\"hot air\",\"hot air\",\"electric\",\"hot water/steam\",\"hot air\",\"hot water/steam\",\"hot air\",\"hot air\",\"hot water/steam\",\"hot air\",\"electric\",\"electric\",\"hot air\",\"hot air\",\"electric\",\"hot air\",\"hot water/steam\",\"hot air\",\"hot air\",\"hot air\",\"hot water/steam\",\"hot air\",\"hot air\",\"hot air\",\"hot air\",\"hot air\",\"hot air\",\"hot air\",\"hot water/steam\",\"hot air\",\"hot air\",\"hot air\",\"hot air\",\"hot air\",\"hot air\",\"hot air\",\"hot air\",\"hot water/steam\",\"hot air\",\"hot air\",\"hot air\",\"hot air\",\"hot air\",\"hot air\",\"hot water/steam\",\"hot water/steam\",\"hot air\",\"hot water/steam\",\"hot air\",\"electric\",\"hot air\",\"hot air\",\"hot air\",\"hot air\",\"electric\",\"hot air\",\"hot air\",\"hot air\",\"electric\",\"hot air\",\"hot air\",\"hot air\",\"hot air\",\"hot air\",\"hot air\",\"hot air\",\"hot air\",\"hot water/steam\",\"hot air\",\"hot air\",\"hot air\",\"hot air\",\"hot air\",\"hot air\",\"hot air\",\"hot air\",\"hot air\",\"electric\",\"hot air\",\"electric\",\"electric\",\"electric\",\"hot air\",\"hot air\",\"hot air\",\"hot water/steam\",\"hot air\",\"hot air\",\"electric\",\"hot air\",\"hot air\",\"hot air\",\"hot water/steam\",\"hot air\",\"hot air\",\"hot water/steam\",\"hot air\",\"hot water/steam\",\"hot air\",\"hot water/steam\",\"electric\",\"hot water/steam\",\"hot air\",\"hot water/steam\",\"hot air\",\"hot air\",\"hot air\",\"hot air\",\"hot air\",\"hot air\",\"hot air\",\"hot air\",\"hot air\",\"hot air\",\"hot air\",\"hot water/steam\",\"hot air\",\"hot air\",\"hot water/steam\",\"hot air\",\"hot air\",\"hot air\",\"hot air\",\"hot air\",\"hot air\",\"hot water/steam\",\"hot air\",\"hot air\",\"hot air\",\"hot air\",\"hot water/steam\",\"hot water/steam\",\"hot air\",\"electric\",\"hot air\",\"electric\",\"hot air\",\"electric\",\"electric\",\"electric\",\"hot air\",\"electric\",\"hot air\",\"hot air\",\"hot air\",\"hot air\",\"hot air\",\"hot air\",\"hot air\",\"hot air\",\"hot water/steam\",\"hot air\",\"hot air\",\"hot air\",\"hot air\",\"hot air\",\"hot air\",\"electric\",\"hot air\",\"hot air\",\"hot air\",\"hot air\",\"hot air\",\"hot air\",\"hot air\",\"hot air\",\"hot air\",\"hot air\",\"hot air\",\"electric\",\"hot air\",\"hot air\",\"hot air\",\"hot water/steam\",\"hot air\",\"hot air\",\"hot air\",\"hot water/steam\",\"hot air\",\"hot air\",\"hot water/steam\",\"hot air\",\"hot air\",\"hot air\",\"hot air\",\"electric\",\"electric\",\"hot air\",\"hot air\",\"hot air\",\"hot air\",\"hot air\",\"electric\",\"electric\",\"hot air\",\"hot water/steam\",\"hot water/steam\",\"electric\",\"electric\",\"hot water/steam\",\"electric\",\"electric\",\"hot air\",\"electric\",\"hot water/steam\",\"electric\",\"electric\",\"hot air\",\"hot air\",\"hot air\",\"electric\",\"hot air\",\"electric\",\"electric\",\"electric\",\"electric\",\"electric\",\"hot air\",\"hot water/steam\",\"hot water/steam\",\"electric\",\"electric\",\"electric\",\"hot air\",\"electric\",\"hot air\",\"electric\",\"hot air\",\"hot air\",\"electric\",\"hot water/steam\",\"hot air\",\"electric\",\"hot air\",\"electric\",\"hot air\",\"hot water/steam\",\"hot air\",\"hot air\",\"electric\",\"hot air\",\"electric\",\"hot air\",\"electric\",\"electric\",\"electric\",\"hot air\",\"electric\",\"hot air\",\"electric\",\"hot air\",\"electric\",\"hot air\",\"electric\",\"electric\",\"electric\",\"electric\",\"hot water/steam\",\"electric\",\"hot air\",\"electric\",\"electric\",\"electric\",\"hot water/steam\",\"hot air\",\"hot air\",\"hot air\",\"hot water/steam\",\"hot water/steam\",\"hot air\",\"hot water/steam\",\"hot air\",\"hot air\",\"hot air\",\"electric\",\"hot air\",\"hot air\",\"hot air\",\"hot air\",\"hot air\",\"hot air\",\"electric\",\"electric\",\"hot water/steam\",\"hot air\",\"hot air\",\"hot air\",\"hot air\",\"hot air\",\"hot water/steam\",\"hot water/steam\",\"electric\",\"hot air\",\"hot air\",\"hot air\",\"hot air\",\"hot water/steam\",\"hot air\",\"hot air\",\"hot air\",\"hot air\",\"hot air\",\"hot air\",\"hot air\",\"hot water/steam\",\"hot air\",\"electric\",\"hot air\",\"hot air\",\"hot air\",\"hot air\",\"hot water/steam\",\"hot air\",\"hot air\",\"hot air\",\"hot air\",\"electric\",\"electric\",\"hot air\",\"hot air\",\"hot water/steam\",\"hot air\",\"hot water/steam\",\"hot air\",\"hot water/steam\",\"hot air\",\"hot air\",\"hot water/steam\",\"electric\",\"electric\",\"electric\",\"hot air\",\"hot water/steam\",\"hot air\",\"hot air\",\"hot air\",\"hot water/steam\",\"hot water/steam\",\"hot air\",\"hot air\",\"hot air\",\"hot water/steam\",\"hot water/steam\",\"electric\",\"hot air\",\"hot water/steam\",\"hot water/steam\",\"hot air\",\"hot air\",\"hot air\",\"hot air\",\"hot air\",\"hot air\",\"hot air\",\"hot air\",\"hot air\",\"hot air\",\"hot air\",\"hot water/steam\",\"hot air\",\"hot water/steam\",\"electric\",\"hot air\",\"hot air\",\"hot air\",\"hot air\",\"hot air\",\"hot air\",\"hot air\",\"electric\",\"hot air\",\"hot water/steam\",\"hot air\",\"hot air\",\"hot water/steam\",\"hot water/steam\",\"hot air\",\"hot air\",\"hot air\",\"hot water/steam\",\"hot air\",\"hot air\",\"electric\",\"hot air\",\"hot air\",\"hot air\",\"hot water/steam\",\"hot air\",\"hot air\",\"hot air\",\"hot air\",\"hot water/steam\",\"hot water/steam\",\"electric\",\"hot air\",\"hot air\",\"hot water/steam\",\"hot air\",\"hot air\",\"hot water/steam\",\"hot air\",\"hot air\",\"hot water/steam\",\"electric\",\"hot water/steam\",\"hot water/steam\",\"hot air\",\"hot air\",\"hot water/steam\",\"hot air\",\"hot water/steam\",\"hot air\",\"hot water/steam\",\"electric\",\"hot air\",\"hot air\",\"hot water/steam\",\"electric\",\"electric\",\"hot air\",\"electric\",\"hot air\",\"hot air\",\"hot air\",\"hot water/steam\",\"hot air\",\"hot air\",\"hot water/steam\",\"hot air\",\"hot air\",\"hot air\",\"hot water/steam\",\"hot water/steam\",\"hot air\",\"electric\",\"hot air\",\"electric\",\"hot air\",\"hot air\",\"hot air\",\"hot air\",\"hot air\",\"hot air\",\"hot air\",\"hot air\",\"hot air\",\"hot water/steam\",\"hot water/steam\",\"hot air\",\"hot water/steam\",\"hot air\",\"hot water/steam\",\"hot air\",\"hot air\",\"hot water/steam\",\"hot air\",\"hot air\",\"hot air\",\"hot water/steam\",\"hot air\",\"hot air\",\"hot air\",\"hot air\",\"hot air\",\"hot air\",\"hot air\",\"hot air\",\"hot air\",\"hot water/steam\",\"hot air\",\"hot air\",\"electric\",\"hot water/steam\",\"hot air\",\"electric\",\"hot air\",\"hot water/steam\",\"hot air\",\"hot air\",\"hot air\",\"hot air\",\"hot water/steam\",\"hot air\",\"hot air\",\"hot water/steam\",\"hot air\",\"hot air\",\"hot air\",\"hot air\",\"electric\",\"hot air\",\"hot air\",\"hot air\",\"hot air\",\"hot air\",\"hot air\",\"hot air\",\"hot air\",\"hot air\",\"hot air\",\"hot air\",\"hot air\",\"hot air\",\"hot air\",\"hot air\",\"hot air\",\"hot water/steam\",\"hot air\",\"hot air\",\"hot air\",\"electric\",\"hot air\",\"electric\",\"electric\",\"hot air\",\"hot air\",\"hot air\",\"hot air\",\"hot air\",\"hot air\",\"hot water/steam\",\"hot air\",\"hot air\",\"hot air\",\"hot air\",\"hot air\",\"electric\",\"hot air\",\"hot air\",\"electric\",\"hot air\",\"hot air\",\"hot air\",\"hot air\",\"hot air\",\"hot water/steam\",\"hot water/steam\",\"hot air\",\"hot air\",\"hot air\",\"hot air\",\"electric\",\"hot air\",\"hot water/steam\",\"hot water/steam\",\"hot air\",\"hot air\",\"hot air\",\"hot air\",\"hot air\",\"hot water/steam\",\"hot water/steam\",\"hot air\",\"hot air\",\"hot air\",\"hot air\",\"hot water/steam\",\"hot air\",\"hot air\",\"hot air\",\"hot air\",\"hot water/steam\",\"hot air\",\"hot air\",\"hot water/steam\",\"hot air\",\"hot water/steam\",\"hot water/steam\",\"hot air\",\"hot water/steam\",\"hot air\",\"hot air\",\"hot air\",\"hot air\",\"hot air\",\"hot air\",\"hot air\",\"hot air\",\"hot air\",\"hot air\",\"hot air\",\"hot air\",\"hot air\",\"hot air\",\"hot air\",\"hot air\",\"hot air\",\"hot air\",\"hot air\",\"hot air\",\"hot water/steam\",\"hot air\",\"hot air\",\"hot air\",\"hot air\",\"hot air\",\"hot air\",\"hot air\",\"hot air\",\"hot water/steam\",\"hot air\",\"hot air\",\"electric\",\"hot air\",\"hot air\",\"hot air\",\"hot air\",\"hot air\",\"hot air\",\"hot air\",\"hot air\",\"hot air\",\"hot water/steam\",\"hot air\",\"hot air\",\"electric\",\"hot air\",\"electric\",\"hot air\",\"hot air\",\"hot air\",\"hot air\",\"hot air\",\"hot air\",\"hot water/steam\",\"hot air\",\"hot water/steam\",\"hot air\",\"hot air\",\"hot air\",\"hot air\",\"electric\",\"hot air\",\"hot air\",\"hot air\",\"hot air\",\"hot air\",\"hot air\",\"hot air\",\"hot air\",\"hot air\",\"hot air\",\"hot air\",\"hot air\",\"hot air\",\"hot water/steam\",\"hot air\",\"hot air\",\"hot air\",\"hot air\",\"hot air\",\"hot air\",\"hot air\",\"hot air\",\"hot water/steam\",\"hot air\",\"hot water/steam\",\"hot air\",\"hot water/steam\",\"hot water/steam\",\"hot air\",\"hot water/steam\",\"hot air\",\"hot air\",\"hot air\",\"hot air\",\"hot air\",\"hot water/steam\",\"hot air\",\"hot air\",\"hot air\",\"hot air\",\"hot water/steam\",\"hot air\",\"hot air\",\"hot air\",\"hot water/steam\",\"hot air\",\"hot air\",\"hot water/steam\",\"hot air\",\"hot air\",\"hot air\",\"hot air\",\"hot air\",\"hot air\",\"hot air\",\"hot air\",\"hot air\",\"hot air\",\"hot water/steam\",\"hot air\",\"hot air\",\"hot air\",\"hot air\",\"hot water/steam\",\"hot air\",\"hot air\",\"hot air\",\"hot air\",\"hot air\",\"hot air\",\"hot air\",\"hot air\",\"hot air\",\"hot air\",\"hot water/steam\",\"hot air\",\"hot air\",\"hot water/steam\",\"hot air\",\"hot air\",\"hot air\",\"hot air\",\"hot air\",\"hot air\",\"hot air\",\"hot air\",\"hot air\",\"hot air\",\"hot air\",\"hot water/steam\",\"hot air\",\"hot air\",\"hot air\",\"hot air\",\"hot air\",\"electric\",\"hot air\",\"hot water/steam\",\"hot water/steam\",\"electric\",\"electric\",\"hot water/steam\",\"hot air\",\"hot air\",\"hot air\",\"hot air\",\"hot air\",\"hot air\",\"hot air\",\"hot air\",\"hot air\",\"hot air\",\"hot air\",\"hot air\",\"hot air\",\"hot air\",\"hot air\",\"hot air\",\"hot air\",\"hot air\",\"electric\",\"hot air\",\"hot air\",\"hot air\",\"hot air\",\"hot air\",\"hot air\",\"hot air\",\"hot air\",\"hot water/steam\",\"hot air\",\"hot air\",\"hot air\",\"electric\",\"hot air\",\"hot water/steam\",\"hot air\",\"hot air\",\"hot air\",\"hot air\",\"hot air\",\"hot air\",\"hot air\",\"hot air\",\"hot air\",\"electric\",\"hot water/steam\",\"hot water/steam\",\"hot water/steam\",\"hot water/steam\",\"hot water/steam\",\"hot air\",\"hot air\",\"hot air\",\"hot air\",\"hot air\",\"hot air\",\"hot air\",\"hot air\",\"hot air\",\"hot air\",\"electric\",\"hot water/steam\",\"hot air\",\"hot air\",\"hot air\",\"electric\",\"hot water/steam\",\"hot air\",\"hot air\",\"hot air\",\"hot air\",\"hot air\",\"hot air\",\"hot air\",\"hot air\",\"hot air\",\"hot air\",\"hot air\",\"hot air\",\"hot air\",\"hot air\",\"hot water/steam\",\"hot air\",\"hot air\",\"electric\",\"hot air\",\"hot air\",\"hot air\",\"hot water/steam\",\"hot air\",\"hot air\",\"hot air\",\"hot water/steam\",\"hot air\",\"hot air\",\"hot air\",\"hot air\",\"hot air\",\"hot air\",\"hot air\",\"hot air\",\"hot water/steam\",\"hot air\",\"hot air\",\"hot air\",\"electric\",\"hot water/steam\",\"electric\",\"electric\",\"electric\",\"electric\",\"electric\",\"electric\",\"electric\",\"hot air\",\"electric\",\"electric\",\"electric\",\"electric\",\"electric\",\"electric\",\"hot air\",\"electric\",\"hot water/steam\",\"electric\",\"hot air\",\"electric\",\"electric\",\"electric\",\"electric\",\"electric\",\"electric\",\"electric\",\"electric\",\"hot air\",\"electric\",\"electric\",\"electric\",\"hot air\",\"hot air\",\"hot air\",\"electric\",\"hot air\",\"hot air\",\"electric\",\"hot air\",\"hot air\",\"electric\",\"electric\",\"electric\",\"hot air\",\"electric\",\"electric\",\"electric\",\"electric\",\"electric\",\"electric\",\"electric\",\"electric\",\"hot air\",\"electric\",\"electric\",\"electric\",\"electric\",\"electric\",\"electric\",\"hot air\",\"electric\",\"hot water/steam\",\"electric\",\"hot air\",\"electric\",\"electric\",\"electric\",\"electric\",\"electric\",\"electric\",\"electric\",\"electric\",\"hot air\",\"electric\",\"electric\",\"electric\",\"hot air\",\"hot air\",\"hot air\",\"electric\",\"hot air\",\"hot air\",\"electric\",\"hot air\",\"hot air\",\"hot air\",\"hot air\",\"hot air\",\"hot water/steam\",\"hot air\",\"hot air\",\"hot air\",\"hot air\",\"hot air\",\"hot air\",\"hot water/steam\",\"hot air\",\"hot air\",\"electric\",\"hot air\",\"hot air\",\"hot water/steam\",\"hot air\",\"hot water/steam\",\"electric\",\"hot air\",\"electric\",\"hot air\",\"hot water/steam\",\"hot water/steam\",\"hot air\",\"hot air\",\"hot water/steam\",\"hot water/steam\",\"hot water/steam\",\"hot air\",\"hot water/steam\",\"hot air\",\"electric\",\"hot air\",\"hot water/steam\",\"hot air\",\"hot water/steam\",\"hot air\",\"hot air\",\"hot air\",\"hot air\",\"electric\",\"electric\",\"hot water/steam\",\"hot air\",\"hot air\",\"hot air\",\"electric\",\"hot air\",\"hot air\",\"hot air\",\"hot water/steam\",\"electric\",\"electric\",\"hot water/steam\",\"hot air\",\"electric\",\"hot air\",\"hot air\",\"electric\",\"hot air\",\"hot air\",\"electric\",\"hot air\",\"hot air\",\"hot air\",\"hot water/steam\",\"hot water/steam\",\"hot air\",\"hot water/steam\",\"hot air\",\"hot air\",\"hot air\",\"hot air\",\"hot air\",\"hot water/steam\",\"hot water/steam\",\"hot air\",\"electric\",\"hot water/steam\",\"hot air\",\"hot air\",\"hot air\",\"hot air\",\"hot air\",\"hot air\",\"electric\",\"hot water/steam\",\"hot water/steam\",\"hot air\",\"hot air\",\"hot air\",\"hot water/steam\",\"hot water/steam\",\"hot water/steam\",\"hot air\",\"hot air\",\"hot water/steam\",\"hot air\",\"electric\",\"hot water/steam\",\"hot air\",\"hot air\",\"hot water/steam\",\"hot air\",\"hot air\",\"hot air\",\"hot air\",\"electric\",\"hot air\",\"hot water/steam\",\"hot air\",\"hot air\",\"hot air\",\"hot air\",\"hot water/steam\",\"hot air\",\"electric\",\"hot air\",\"hot air\",\"hot air\",\"hot air\",\"hot water/steam\",\"hot air\",\"electric\",\"hot air\",\"hot air\",\"hot air\",\"hot air\",\"electric\",\"hot air\",\"electric\",\"hot air\",\"hot air\",\"hot air\",\"electric\",\"electric\",\"hot air\",\"hot air\",\"electric\",\"electric\",\"electric\",\"electric\",\"hot air\",\"hot air\",\"hot air\",\"hot air\",\"hot air\",\"hot air\",\"hot air\",\"hot air\",\"hot water/steam\",\"hot water/steam\",\"hot air\",\"hot air\",\"hot water/steam\",\"electric\",\"hot air\",\"hot air\",\"hot air\",\"hot air\",\"hot air\",\"hot air\",\"hot air\",\"hot air\",\"hot air\",\"hot air\",\"hot air\",\"hot air\",\"hot water/steam\",\"hot water/steam\",\"electric\",\"hot water/steam\",\"hot water/steam\",\"hot air\",\"hot water/steam\",\"hot air\",\"hot air\",\"hot water/steam\",\"electric\",\"hot air\",\"hot air\",\"hot air\",\"hot air\",\"hot air\",\"hot air\",\"hot air\",\"electric\",\"hot air\",\"hot air\",\"hot water/steam\",\"hot air\",\"electric\",\"hot air\",\"hot water/steam\",\"hot air\",\"hot air\",\"hot water/steam\",\"hot air\",\"hot air\",\"hot air\",\"electric\",\"hot air\",\"hot air\",\"electric\",\"electric\",\"hot water/steam\",\"electric\",\"hot water/steam\",\"hot air\",\"electric\",\"hot air\",\"hot air\",\"electric\",\"hot water/steam\",\"hot air\",\"hot air\",\"hot water/steam\",\"hot air\",\"hot water/steam\",\"hot water/steam\",\"hot air\",\"hot water/steam\",\"hot water/steam\",\"electric\",\"hot air\",\"hot air\",\"hot water/steam\",\"hot air\",\"hot water/steam\",\"electric\",\"hot air\",\"hot air\",\"hot air\",\"hot water/steam\",\"electric\",\"hot air\",\"hot air\",\"hot water/steam\",\"electric\",\"electric\",\"hot air\",\"hot air\",\"hot air\",\"hot air\",\"hot air\",\"hot air\",\"hot air\",\"hot air\",\"hot air\",\"hot water/steam\",\"hot water/steam\",\"hot air\",\"hot water/steam\",\"hot air\",\"hot air\",\"hot air\",\"hot water/steam\",\"hot air\",\"hot air\",\"hot air\",\"hot air\",\"hot air\",\"hot air\",\"electric\",\"hot air\",\"hot water/steam\",\"hot water/steam\",\"hot air\",\"hot air\",\"hot air\",\"hot air\",\"hot air\",\"hot air\",\"hot air\",\"hot air\",\"hot air\",\"hot water/steam\",\"hot water/steam\",\"hot water/steam\",\"hot air\",\"hot air\",\"hot air\",\"hot air\",\"hot water/steam\",\"hot air\",\"hot air\",\"hot air\",\"hot air\",\"hot air\",\"hot air\",\"hot air\",\"hot air\",\"hot air\",\"hot air\",\"hot air\",\"hot air\",\"hot water/steam\",\"hot air\",\"hot air\",\"hot air\",\"hot water/steam\",\"hot air\",\"hot air\",\"hot air\",\"hot water/steam\",\"hot air\",\"hot air\",\"hot air\",\"hot air\",\"hot air\",\"hot air\",\"hot air\",\"hot air\",\"hot water/steam\",\"hot air\",\"electric\",\"hot air\",\"hot air\",\"hot air\",\"hot water/steam\",\"hot air\",\"hot air\",\"hot air\",\"hot air\",\"hot water/steam\",\"electric\",\"hot air\",\"hot air\",\"hot air\",\"hot air\",\"hot air\",\"hot air\",\"hot water/steam\",\"hot water/steam\",\"hot water/steam\",\"hot air\",\"hot air\",\"hot air\",\"hot air\",\"electric\",\"hot air\",\"hot water/steam\",\"hot air\",\"hot air\",\"hot air\",\"hot air\",\"hot air\",\"hot air\",\"hot water/steam\",\"hot water/steam\",\"hot water/steam\",\"hot air\",\"hot air\",\"hot air\",\"electric\",\"hot air\",\"electric\",\"hot water/steam\",\"hot air\",\"hot air\",\"hot air\",\"hot air\",\"hot air\",\"hot air\",\"hot water/steam\",\"hot air\",\"electric\",\"hot air\",\"hot air\",\"hot air\",\"electric\",\"electric\",\"hot air\",\"electric\",\"hot air\",\"hot air\",\"hot air\",\"hot air\",\"electric\",\"hot air\",\"hot air\",\"hot air\",\"hot water/steam\",\"hot air\",\"hot air\",\"hot air\",\"hot water/steam\",\"hot air\",\"hot air\",\"electric\",\"hot air\",\"hot air\",\"hot air\",\"hot air\",\"hot water/steam\",\"hot air\",\"electric\",\"hot air\",\"hot air\",\"hot air\",\"hot air\",\"hot air\",\"hot air\",\"hot air\",\"hot air\",\"hot air\",\"hot air\",\"hot air\",\"hot water/steam\",\"hot air\",\"hot air\",\"electric\",\"hot air\",\"electric\",\"hot air\",\"hot air\",\"hot air\",\"hot air\",\"hot air\",\"hot air\",\"hot water/steam\",\"hot air\",\"electric\",\"hot air\",\"electric\",\"hot air\",\"electric\",\"electric\",\"hot air\",\"hot air\",\"electric\",\"electric\",\"hot water/steam\",\"electric\",\"electric\",\"electric\",\"electric\",\"hot water/steam\",\"hot air\",\"hot air\",\"electric\",\"electric\",\"hot air\",\"hot water/steam\",\"electric\",\"hot air\",\"hot air\",\"electric\",\"hot water/steam\",\"electric\",\"hot air\",\"hot air\",\"hot air\",\"hot air\",\"hot air\",\"electric\",\"hot air\",\"electric\",\"hot air\",\"electric\",\"hot air\",\"hot air\",\"hot air\",\"hot air\",\"hot air\",\"electric\",\"hot air\",\"hot air\",\"electric\",\"hot air\",\"electric\",\"hot water/steam\",\"hot air\",\"hot air\",\"hot air\",\"hot air\",\"electric\",\"electric\",\"hot air\",\"electric\",\"hot water/steam\",\"hot water/steam\",\"hot air\",\"electric\",\"hot air\",\"electric\",\"hot air\",\"hot air\",\"hot air\",\"hot air\",\"electric\",\"electric\",\"hot air\",\"hot water/steam\",\"hot air\",\"hot air\",\"hot water/steam\",\"electric\",\"electric\",\"hot air\",\"hot air\",\"hot water/steam\",\"hot air\",\"electric\",\"electric\",\"electric\",\"hot water/steam\",\"hot air\",\"hot air\",\"hot air\",\"hot air\",\"electric\",\"electric\",\"hot air\",\"hot air\",\"hot air\",\"hot air\",\"electric\",\"hot air\",\"hot air\",\"hot air\",\"electric\",\"electric\",\"hot air\",\"hot air\",\"hot air\",\"electric\",\"hot air\",\"electric\",\"electric\",\"electric\",\"hot air\",\"electric\",\"electric\",\"hot air\",\"hot air\",\"hot water/steam\",\"hot air\",\"hot air\",\"hot water/steam\",\"hot air\",\"hot air\",\"hot air\",\"hot water/steam\",\"hot air\",\"electric\",\"hot air\",\"hot air\",\"electric\",\"electric\",\"hot water/steam\",\"electric\",\"hot water/steam\",\"hot water/steam\",\"hot air\",\"hot water/steam\",\"hot air\",\"hot air\",\"electric\",\"hot air\",\"electric\",\"electric\",\"hot air\",\"hot air\",\"hot air\",\"hot air\",\"electric\",\"hot water/steam\",\"hot water/steam\",\"hot air\",\"hot air\",\"hot water/steam\",\"hot air\",\"hot air\",\"hot water/steam\",\"hot air\",\"hot water/steam\",\"hot air\",\"hot air\",\"hot air\",\"hot air\",\"hot water/steam\",\"hot water/steam\",\"hot air\",\"hot air\",\"hot air\",\"hot air\",\"hot air\",\"hot water/steam\",\"hot air\",\"hot air\",\"hot water/steam\",\"hot air\",\"hot air\",\"hot air\",\"hot air\",\"hot air\",\"hot air\",\"hot air\",\"hot water/steam\",\"hot air\",\"electric\",\"hot water/steam\",\"hot air\",\"hot air\",\"hot water/steam\",\"hot air\",\"hot air\",\"hot air\",\"electric\",\"electric\",\"hot water/steam\",\"hot air\",\"hot air\",\"hot air\",\"hot water/steam\",\"electric\",\"hot air\",\"electric\",\"hot air\",\"hot air\",\"hot water/steam\",\"hot air\",\"hot air\",\"hot water/steam\",\"hot air\",\"hot water/steam\",\"hot air\",\"hot air\",\"hot air\",\"electric\",\"hot air\",\"electric\",\"hot air\",\"hot water/steam\",\"hot air\",\"electric\",\"hot air\",\"hot air\",\"hot air\",\"hot water/steam\",\"hot air\",\"hot air\",\"hot air\",\"electric\",\"hot water/steam\",\"hot air\",\"hot air\",\"hot air\",\"hot water/steam\",\"hot water/steam\",\"hot air\",\"hot air\",\"hot air\",\"hot air\",\"hot water/steam\",\"electric\",\"hot air\",\"hot water/steam\",\"hot air\",\"hot water/steam\",\"hot air\",\"hot water/steam\",\"hot water/steam\",\"hot air\",\"hot water/steam\",\"electric\",\"hot water/steam\",\"hot air\",\"hot air\",\"hot water/steam\",\"hot air\",\"hot water/steam\",\"hot water/steam\",\"hot water/steam\",\"hot air\",\"hot air\",\"hot air\",\"hot air\",\"hot water/steam\",\"hot air\",\"hot air\",\"hot air\",\"hot air\",\"hot air\",\"hot air\",\"hot water/steam\",\"hot air\",\"hot air\",\"electric\",\"hot water/steam\",\"hot air\",\"hot water/steam\",\"electric\",\"hot air\",\"hot air\",\"hot air\",\"hot air\",\"hot air\",\"hot air\",\"hot air\",\"hot air\",\"hot air\",\"hot air\",\"hot air\",\"hot air\",\"hot air\",\"electric\",\"hot air\",\"hot air\",\"hot air\",\"hot water/steam\",\"hot air\",\"hot air\",\"hot air\",\"hot air\",\"hot air\",\"hot air\",\"hot air\",\"hot air\",\"hot water/steam\",\"hot air\",\"hot air\",\"electric\",\"hot water/steam\",\"hot air\",\"hot air\",\"electric\",\"hot air\",\"hot air\",\"hot air\",\"electric\",\"hot air\",\"hot air\",\"hot air\",\"hot air\",\"hot air\",\"hot air\",\"electric\",\"hot air\",\"hot air\",\"hot air\",\"hot air\",\"hot air\",\"electric\",\"electric\",\"electric\",\"hot air\",\"hot water/steam\",\"hot water/steam\",\"hot air\",\"hot air\",\"hot air\",\"hot air\",\"electric\",\"electric\",\"electric\",\"electric\",\"hot air\",\"hot air\",\"hot water/steam\",\"hot air\",\"hot air\",\"hot water/steam\",\"hot water/steam\",\"hot air\",\"hot air\",\"hot air\",\"hot air\",\"hot air\",\"hot water/steam\",\"hot water/steam\",\"hot air\",\"hot air\",\"hot air\",\"electric\",\"hot air\",\"hot air\",\"electric\",\"hot water/steam\",\"hot air\",\"hot air\",\"hot air\",\"hot air\",\"hot water/steam\",\"hot water/steam\",\"hot water/steam\",\"hot water/steam\",\"hot air\",\"hot air\",\"hot air\"],\"xaxis\":\"x\",\"yaxis\":\"y\",\"type\":\"histogram\"}],                        {\"template\":{\"data\":{\"pie\":[{\"automargin\":true,\"type\":\"pie\"}]},\"layout\":{\"xaxis\":{\"showgrid\":true,\"title\":{\"standoff\":15}},\"yaxis\":{\"showgrid\":true,\"title\":{\"standoff\":15}}}},\"xaxis\":{\"anchor\":\"y\",\"domain\":[0.0,1.0],\"title\":{\"text\":\"calefaccion\"}},\"yaxis\":{\"anchor\":\"x\",\"domain\":[0.0,1.0],\"title\":{\"text\":\"count\"}},\"legend\":{\"tracegroupgap\":0},\"title\":{\"text\":\"Calefaccion\"},\"barmode\":\"relative\"},                        {\"responsive\": true}                    ).then(function(){\n",
              "                            \n",
              "var gd = document.getElementById('6bd9f946-d202-4ab9-b4d6-d7a28fc1fa2d');\n",
              "var x = new MutationObserver(function (mutations, observer) {{\n",
              "        var display = window.getComputedStyle(gd).display;\n",
              "        if (!display || display === 'none') {{\n",
              "            console.log([gd, 'removed!']);\n",
              "            Plotly.purge(gd);\n",
              "            observer.disconnect();\n",
              "        }}\n",
              "}});\n",
              "\n",
              "// Listen for the removal of the full notebook cells\n",
              "var notebookContainer = gd.closest('#notebook-container');\n",
              "if (notebookContainer) {{\n",
              "    x.observe(notebookContainer, {childList: true});\n",
              "}}\n",
              "\n",
              "// Listen for the clearing of the current output cell\n",
              "var outputEl = gd.closest('.output');\n",
              "if (outputEl) {{\n",
              "    x.observe(outputEl, {childList: true});\n",
              "}}\n",
              "\n",
              "                        })                };                            </script>        </div>\n",
              "</body>\n",
              "</html>"
            ]
          },
          "metadata": {}
        }
      ]
    },
    {
      "cell_type": "code",
      "metadata": {
        "colab": {
          "base_uri": "https://localhost:8080/",
          "height": 542
        },
        "id": "0a8HoS-3611t",
        "outputId": "252490af-3e07-4150-838c-c2ced3678b10"
      },
      "source": [
        "fig = px.histogram(datos, \n",
        "                   x = datos.consumo_calefacion,\n",
        "                   title=\"Consumo Calefaccion\",\n",
        "                   template=\"gridon\")\n",
        "fig.show()"
      ],
      "execution_count": 34,
      "outputs": [
        {
          "output_type": "display_data",
          "data": {
            "text/html": [
              "<html>\n",
              "<head><meta charset=\"utf-8\" /></head>\n",
              "<body>\n",
              "    <div>            <script src=\"https://cdnjs.cloudflare.com/ajax/libs/mathjax/2.7.5/MathJax.js?config=TeX-AMS-MML_SVG\"></script><script type=\"text/javascript\">if (window.MathJax && window.MathJax.Hub && window.MathJax.Hub.Config) {window.MathJax.Hub.Config({SVG: {font: \"STIX-Web\"}});}</script>                <script type=\"text/javascript\">window.PlotlyConfig = {MathJaxConfig: 'local'};</script>\n",
              "        <script src=\"https://cdn.plot.ly/plotly-2.12.1.min.js\"></script>                <div id=\"3a816db1-72b2-4ea8-99d3-512b70f630e1\" class=\"plotly-graph-div\" style=\"height:525px; width:100%;\"></div>            <script type=\"text/javascript\">                                    window.PLOTLYENV=window.PLOTLYENV || {};                                    if (document.getElementById(\"3a816db1-72b2-4ea8-99d3-512b70f630e1\")) {                    Plotly.newPlot(                        \"3a816db1-72b2-4ea8-99d3-512b70f630e1\",                        [{\"alignmentgroup\":\"True\",\"bingroup\":\"x\",\"hovertemplate\":\"consumo_calefacion=%{x}<br>count=%{y}<extra></extra>\",\"legendgroup\":\"\",\"marker\":{\"color\":\"#1F77B4\",\"pattern\":{\"shape\":\"\"}},\"name\":\"\",\"offsetgroup\":\"\",\"orientation\":\"v\",\"showlegend\":false,\"x\":[\"electric\",\"gas\",\"gas\",\"gas\",\"gas\",\"gas\",\"oil\",\"oil\",\"electric\",\"gas\",\"oil\",\"gas\",\"electric\",\"gas\",\"oil\",\"gas\",\"oil\",\"gas\",\"oil\",\"oil\",\"electric\",\"electric\",\"gas\",\"oil\",\"electric\",\"oil\",\"oil\",\"oil\",\"oil\",\"oil\",\"oil\",\"gas\",\"gas\",\"oil\",\"gas\",\"gas\",\"gas\",\"gas\",\"gas\",\"gas\",\"gas\",\"gas\",\"oil\",\"gas\",\"gas\",\"gas\",\"oil\",\"gas\",\"oil\",\"gas\",\"gas\",\"gas\",\"gas\",\"gas\",\"gas\",\"gas\",\"gas\",\"gas\",\"gas\",\"electric\",\"gas\",\"gas\",\"gas\",\"gas\",\"electric\",\"gas\",\"oil\",\"gas\",\"electric\",\"gas\",\"gas\",\"gas\",\"gas\",\"gas\",\"oil\",\"gas\",\"gas\",\"oil\",\"gas\",\"oil\",\"electric\",\"gas\",\"gas\",\"gas\",\"gas\",\"electric\",\"gas\",\"electric\",\"oil\",\"electric\",\"electric\",\"electric\",\"gas\",\"gas\",\"gas\",\"gas\",\"gas\",\"gas\",\"electric\",\"gas\",\"gas\",\"gas\",\"oil\",\"gas\",\"gas\",\"oil\",\"gas\",\"gas\",\"oil\",\"gas\",\"electric\",\"gas\",\"gas\",\"gas\",\"gas\",\"gas\",\"oil\",\"gas\",\"gas\",\"gas\",\"gas\",\"gas\",\"gas\",\"gas\",\"gas\",\"gas\",\"gas\",\"gas\",\"gas\",\"gas\",\"gas\",\"oil\",\"oil\",\"gas\",\"gas\",\"oil\",\"oil\",\"oil\",\"gas\",\"oil\",\"oil\",\"gas\",\"gas\",\"electric\",\"gas\",\"electric\",\"oil\",\"electric\",\"electric\",\"electric\",\"gas\",\"electric\",\"gas\",\"gas\",\"gas\",\"gas\",\"gas\",\"gas\",\"gas\",\"gas\",\"oil\",\"gas\",\"gas\",\"gas\",\"oil\",\"gas\",\"gas\",\"electric\",\"gas\",\"gas\",\"gas\",\"gas\",\"gas\",\"gas\",\"gas\",\"gas\",\"gas\",\"gas\",\"gas\",\"electric\",\"oil\",\"gas\",\"gas\",\"gas\",\"oil\",\"gas\",\"gas\",\"gas\",\"gas\",\"gas\",\"oil\",\"gas\",\"oil\",\"gas\",\"gas\",\"electric\",\"electric\",\"oil\",\"gas\",\"gas\",\"gas\",\"gas\",\"electric\",\"electric\",\"gas\",\"gas\",\"gas\",\"electric\",\"electric\",\"gas\",\"electric\",\"electric\",\"gas\",\"electric\",\"gas\",\"electric\",\"gas\",\"oil\",\"gas\",\"gas\",\"electric\",\"gas\",\"electric\",\"electric\",\"electric\",\"electric\",\"electric\",\"gas\",\"gas\",\"gas\",\"electric\",\"electric\",\"electric\",\"oil\",\"electric\",\"gas\",\"electric\",\"gas\",\"gas\",\"electric\",\"gas\",\"gas\",\"electric\",\"gas\",\"electric\",\"gas\",\"oil\",\"gas\",\"gas\",\"electric\",\"gas\",\"electric\",\"gas\",\"electric\",\"electric\",\"electric\",\"gas\",\"electric\",\"gas\",\"electric\",\"oil\",\"electric\",\"gas\",\"electric\",\"electric\",\"electric\",\"electric\",\"oil\",\"electric\",\"gas\",\"electric\",\"electric\",\"electric\",\"gas\",\"gas\",\"gas\",\"gas\",\"gas\",\"oil\",\"gas\",\"gas\",\"gas\",\"gas\",\"gas\",\"electric\",\"gas\",\"gas\",\"gas\",\"gas\",\"gas\",\"gas\",\"electric\",\"electric\",\"gas\",\"gas\",\"gas\",\"gas\",\"gas\",\"gas\",\"gas\",\"gas\",\"electric\",\"gas\",\"gas\",\"gas\",\"gas\",\"gas\",\"gas\",\"gas\",\"gas\",\"gas\",\"gas\",\"gas\",\"gas\",\"gas\",\"gas\",\"electric\",\"gas\",\"gas\",\"gas\",\"gas\",\"gas\",\"gas\",\"gas\",\"electric\",\"gas\",\"electric\",\"electric\",\"gas\",\"gas\",\"gas\",\"gas\",\"gas\",\"gas\",\"gas\",\"gas\",\"gas\",\"gas\",\"electric\",\"gas\",\"electric\",\"gas\",\"gas\",\"gas\",\"gas\",\"gas\",\"gas\",\"gas\",\"gas\",\"gas\",\"gas\",\"gas\",\"gas\",\"electric\",\"gas\",\"gas\",\"gas\",\"gas\",\"gas\",\"gas\",\"gas\",\"oil\",\"gas\",\"gas\",\"gas\",\"gas\",\"gas\",\"gas\",\"gas\",\"gas\",\"gas\",\"electric\",\"gas\",\"gas\",\"gas\",\"electric\",\"gas\",\"gas\",\"oil\",\"electric\",\"gas\",\"gas\",\"gas\",\"gas\",\"oil\",\"gas\",\"gas\",\"gas\",\"gas\",\"gas\",\"gas\",\"gas\",\"electric\",\"gas\",\"gas\",\"gas\",\"gas\",\"gas\",\"gas\",\"gas\",\"oil\",\"gas\",\"gas\",\"electric\",\"gas\",\"gas\",\"gas\",\"gas\",\"gas\",\"gas\",\"gas\",\"gas\",\"gas\",\"electric\",\"gas\",\"gas\",\"gas\",\"gas\",\"gas\",\"gas\",\"gas\",\"gas\",\"gas\",\"electric\",\"oil\",\"gas\",\"gas\",\"electric\",\"electric\",\"oil\",\"electric\",\"gas\",\"gas\",\"gas\",\"gas\",\"oil\",\"oil\",\"oil\",\"gas\",\"gas\",\"gas\",\"oil\",\"oil\",\"oil\",\"electric\",\"gas\",\"electric\",\"oil\",\"gas\",\"gas\",\"gas\",\"gas\",\"gas\",\"gas\",\"gas\",\"gas\",\"oil\",\"oil\",\"oil\",\"gas\",\"oil\",\"gas\",\"oil\",\"oil\",\"oil\",\"gas\",\"oil\",\"oil\",\"oil\",\"oil\",\"oil\",\"gas\",\"gas\",\"gas\",\"oil\",\"gas\",\"oil\",\"oil\",\"oil\",\"gas\",\"oil\",\"electric\",\"oil\",\"oil\",\"electric\",\"gas\",\"gas\",\"gas\",\"gas\",\"gas\",\"oil\",\"oil\",\"gas\",\"oil\",\"oil\",\"oil\",\"oil\",\"oil\",\"gas\",\"electric\",\"oil\",\"gas\",\"gas\",\"gas\",\"gas\",\"gas\",\"gas\",\"gas\",\"gas\",\"gas\",\"gas\",\"gas\",\"gas\",\"gas\",\"gas\",\"gas\",\"gas\",\"gas\",\"oil\",\"oil\",\"electric\",\"gas\",\"electric\",\"electric\",\"gas\",\"oil\",\"gas\",\"gas\",\"gas\",\"gas\",\"gas\",\"gas\",\"gas\",\"gas\",\"gas\",\"gas\",\"electric\",\"gas\",\"gas\",\"electric\",\"gas\",\"gas\",\"gas\",\"gas\",\"gas\",\"gas\",\"oil\",\"gas\",\"gas\",\"gas\",\"gas\",\"electric\",\"gas\",\"gas\",\"oil\",\"gas\",\"gas\",\"gas\",\"gas\",\"gas\",\"oil\",\"gas\",\"gas\",\"gas\",\"electric\",\"gas\",\"gas\",\"gas\",\"gas\",\"oil\",\"gas\",\"gas\",\"gas\",\"gas\",\"gas\",\"gas\",\"gas\",\"gas\",\"gas\",\"gas\",\"gas\",\"gas\",\"gas\",\"gas\",\"gas\",\"gas\",\"gas\",\"gas\",\"gas\",\"gas\",\"oil\",\"gas\",\"gas\",\"gas\",\"gas\",\"gas\",\"gas\",\"gas\",\"gas\",\"gas\",\"gas\",\"gas\",\"gas\",\"gas\",\"gas\",\"gas\",\"gas\",\"gas\",\"gas\",\"gas\",\"gas\",\"gas\",\"electric\",\"gas\",\"gas\",\"gas\",\"gas\",\"gas\",\"gas\",\"gas\",\"gas\",\"gas\",\"gas\",\"gas\",\"gas\",\"electric\",\"gas\",\"electric\",\"gas\",\"gas\",\"gas\",\"gas\",\"gas\",\"gas\",\"gas\",\"gas\",\"gas\",\"gas\",\"gas\",\"gas\",\"gas\",\"electric\",\"gas\",\"gas\",\"gas\",\"gas\",\"gas\",\"gas\",\"gas\",\"gas\",\"gas\",\"gas\",\"gas\",\"electric\",\"gas\",\"gas\",\"gas\",\"gas\",\"oil\",\"gas\",\"gas\",\"gas\",\"gas\",\"gas\",\"gas\",\"gas\",\"gas\",\"gas\",\"gas\",\"gas\",\"gas\",\"gas\",\"gas\",\"gas\",\"gas\",\"gas\",\"gas\",\"gas\",\"gas\",\"gas\",\"gas\",\"gas\",\"oil\",\"gas\",\"gas\",\"gas\",\"gas\",\"gas\",\"oil\",\"gas\",\"gas\",\"gas\",\"gas\",\"gas\",\"gas\",\"oil\",\"gas\",\"gas\",\"gas\",\"gas\",\"gas\",\"gas\",\"electric\",\"gas\",\"gas\",\"gas\",\"gas\",\"gas\",\"gas\",\"gas\",\"gas\",\"gas\",\"gas\",\"gas\",\"gas\",\"gas\",\"gas\",\"gas\",\"gas\",\"gas\",\"gas\",\"gas\",\"gas\",\"gas\",\"gas\",\"gas\",\"oil\",\"gas\",\"gas\",\"gas\",\"gas\",\"gas\",\"gas\",\"gas\",\"gas\",\"gas\",\"gas\",\"electric\",\"gas\",\"gas\",\"gas\",\"electric\",\"electric\",\"gas\",\"gas\",\"gas\",\"oil\",\"gas\",\"gas\",\"gas\",\"gas\",\"gas\",\"gas\",\"gas\",\"gas\",\"gas\",\"gas\",\"gas\",\"gas\",\"gas\",\"gas\",\"gas\",\"electric\",\"gas\",\"gas\",\"gas\",\"gas\",\"oil\",\"gas\",\"gas\",\"gas\",\"gas\",\"oil\",\"gas\",\"gas\",\"electric\",\"gas\",\"oil\",\"gas\",\"gas\",\"oil\",\"gas\",\"gas\",\"oil\",\"gas\",\"gas\",\"oil\",\"electric\",\"gas\",\"oil\",\"oil\",\"oil\",\"oil\",\"gas\",\"gas\",\"gas\",\"gas\",\"electric\",\"gas\",\"gas\",\"gas\",\"gas\",\"gas\",\"electric\",\"gas\",\"gas\",\"electric\",\"gas\",\"electric\",\"gas\",\"gas\",\"gas\",\"gas\",\"gas\",\"gas\",\"gas\",\"gas\",\"gas\",\"gas\",\"gas\",\"gas\",\"gas\",\"gas\",\"gas\",\"oil\",\"gas\",\"gas\",\"electric\",\"gas\",\"gas\",\"gas\",\"oil\",\"gas\",\"gas\",\"gas\",\"gas\",\"gas\",\"gas\",\"gas\",\"gas\",\"gas\",\"gas\",\"gas\",\"oil\",\"gas\",\"gas\",\"gas\",\"electric\",\"electric\",\"gas\",\"electric\",\"electric\",\"electric\",\"electric\",\"electric\",\"electric\",\"electric\",\"gas\",\"electric\",\"electric\",\"electric\",\"electric\",\"electric\",\"electric\",\"gas\",\"electric\",\"gas\",\"electric\",\"gas\",\"electric\",\"electric\",\"electric\",\"electric\",\"electric\",\"electric\",\"electric\",\"electric\",\"gas\",\"electric\",\"electric\",\"electric\",\"gas\",\"gas\",\"gas\",\"electric\",\"gas\",\"gas\",\"electric\",\"oil\",\"oil\",\"electric\",\"electric\",\"electric\",\"gas\",\"electric\",\"electric\",\"electric\",\"electric\",\"electric\",\"electric\",\"electric\",\"electric\",\"gas\",\"electric\",\"electric\",\"electric\",\"electric\",\"electric\",\"electric\",\"gas\",\"electric\",\"gas\",\"electric\",\"gas\",\"electric\",\"electric\",\"electric\",\"electric\",\"electric\",\"electric\",\"electric\",\"electric\",\"gas\",\"electric\",\"electric\",\"electric\",\"gas\",\"gas\",\"gas\",\"electric\",\"gas\",\"gas\",\"electric\",\"oil\",\"oil\",\"oil\",\"gas\",\"gas\",\"gas\",\"gas\",\"gas\",\"gas\",\"gas\",\"gas\",\"oil\",\"gas\",\"gas\",\"gas\",\"electric\",\"gas\",\"gas\",\"gas\",\"gas\",\"gas\",\"electric\",\"gas\",\"electric\",\"gas\",\"gas\",\"gas\",\"gas\",\"electric\",\"gas\",\"gas\",\"gas\",\"gas\",\"gas\",\"gas\",\"electric\",\"gas\",\"oil\",\"gas\",\"gas\",\"gas\",\"oil\",\"gas\",\"gas\",\"electric\",\"electric\",\"gas\",\"oil\",\"gas\",\"gas\",\"electric\",\"gas\",\"oil\",\"gas\",\"oil\",\"electric\",\"electric\",\"gas\",\"gas\",\"electric\",\"gas\",\"gas\",\"electric\",\"gas\",\"gas\",\"electric\",\"gas\",\"gas\",\"gas\",\"gas\",\"gas\",\"oil\",\"gas\",\"gas\",\"gas\",\"gas\",\"oil\",\"gas\",\"gas\",\"gas\",\"gas\",\"electric\",\"gas\",\"gas\",\"gas\",\"gas\",\"gas\",\"gas\",\"oil\",\"oil\",\"gas\",\"gas\",\"gas\",\"gas\",\"gas\",\"gas\",\"gas\",\"gas\",\"gas\",\"oil\",\"gas\",\"gas\",\"electric\",\"gas\",\"gas\",\"gas\",\"gas\",\"gas\",\"gas\",\"gas\",\"gas\",\"electric\",\"gas\",\"oil\",\"gas\",\"gas\",\"gas\",\"gas\",\"gas\",\"gas\",\"electric\",\"gas\",\"gas\",\"oil\",\"oil\",\"oil\",\"gas\",\"electric\",\"gas\",\"gas\",\"gas\",\"gas\",\"electric\",\"gas\",\"electric\",\"gas\",\"gas\",\"gas\",\"electric\",\"electric\",\"gas\",\"gas\",\"electric\",\"electric\",\"electric\",\"electric\",\"gas\",\"gas\",\"gas\",\"gas\",\"gas\",\"oil\",\"gas\",\"electric\",\"gas\",\"oil\",\"gas\",\"oil\",\"gas\",\"electric\",\"gas\",\"gas\",\"gas\",\"gas\",\"gas\",\"gas\",\"oil\",\"oil\",\"oil\",\"gas\",\"gas\",\"gas\",\"gas\",\"gas\",\"electric\",\"gas\",\"oil\",\"gas\",\"oil\",\"gas\",\"oil\",\"oil\",\"electric\",\"gas\",\"gas\",\"gas\",\"gas\",\"oil\",\"oil\",\"gas\",\"electric\",\"gas\",\"oil\",\"oil\",\"oil\",\"electric\",\"oil\",\"gas\",\"gas\",\"gas\",\"gas\",\"oil\",\"gas\",\"gas\",\"electric\",\"gas\",\"gas\",\"electric\",\"gas\",\"gas\",\"electric\",\"gas\",\"gas\",\"electric\",\"oil\",\"gas\",\"electric\",\"oil\",\"oil\",\"gas\",\"oil\",\"oil\",\"oil\",\"oil\",\"oil\",\"gas\",\"oil\",\"electric\",\"gas\",\"oil\",\"gas\",\"oil\",\"oil\",\"electric\",\"gas\",\"oil\",\"gas\",\"oil\",\"electric\",\"gas\",\"gas\",\"oil\",\"electric\",\"electric\",\"gas\",\"gas\",\"gas\",\"oil\",\"gas\",\"gas\",\"gas\",\"gas\",\"oil\",\"oil\",\"oil\",\"gas\",\"oil\",\"gas\",\"gas\",\"gas\",\"oil\",\"gas\",\"gas\",\"gas\",\"gas\",\"gas\",\"gas\",\"electric\",\"gas\",\"gas\",\"gas\",\"gas\",\"gas\",\"gas\",\"gas\",\"gas\",\"gas\",\"gas\",\"gas\",\"gas\",\"gas\",\"gas\",\"gas\",\"gas\",\"gas\",\"gas\",\"gas\",\"gas\",\"gas\",\"oil\",\"gas\",\"gas\",\"oil\",\"gas\",\"gas\",\"gas\",\"gas\",\"gas\",\"gas\",\"gas\",\"gas\",\"gas\",\"gas\",\"gas\",\"gas\",\"gas\",\"gas\",\"gas\",\"gas\",\"gas\",\"gas\",\"gas\",\"gas\",\"gas\",\"gas\",\"oil\",\"gas\",\"gas\",\"gas\",\"electric\",\"gas\",\"gas\",\"gas\",\"gas\",\"gas\",\"gas\",\"gas\",\"gas\",\"gas\",\"electric\",\"gas\",\"gas\",\"gas\",\"gas\",\"gas\",\"gas\",\"gas\",\"gas\",\"gas\",\"gas\",\"gas\",\"gas\",\"gas\",\"electric\",\"gas\",\"gas\",\"gas\",\"gas\",\"gas\",\"gas\",\"gas\",\"electric\",\"gas\",\"oil\",\"gas\",\"gas\",\"gas\",\"gas\",\"electric\",\"oil\",\"electric\",\"oil\",\"gas\",\"oil\",\"gas\",\"oil\",\"gas\",\"gas\",\"oil\",\"oil\",\"electric\",\"gas\",\"gas\",\"gas\",\"electric\",\"electric\",\"oil\",\"electric\",\"oil\",\"gas\",\"gas\",\"gas\",\"electric\",\"gas\",\"gas\",\"gas\",\"oil\",\"gas\",\"gas\",\"gas\",\"oil\",\"gas\",\"gas\",\"electric\",\"gas\",\"gas\",\"gas\",\"gas\",\"gas\",\"gas\",\"electric\",\"oil\",\"gas\",\"gas\",\"gas\",\"gas\",\"gas\",\"gas\",\"gas\",\"gas\",\"gas\",\"gas\",\"gas\",\"gas\",\"gas\",\"electric\",\"gas\",\"electric\",\"gas\",\"gas\",\"gas\",\"oil\",\"gas\",\"gas\",\"oil\",\"gas\",\"gas\",\"gas\",\"electric\",\"gas\",\"electric\",\"electric\",\"oil\",\"electric\",\"electric\",\"electric\",\"gas\",\"electric\",\"electric\",\"electric\",\"electric\",\"gas\",\"gas\",\"gas\",\"electric\",\"electric\",\"gas\",\"gas\",\"electric\",\"gas\",\"gas\",\"electric\",\"gas\",\"gas\",\"gas\",\"gas\",\"gas\",\"gas\",\"gas\",\"electric\",\"gas\",\"electric\",\"gas\",\"electric\",\"gas\",\"oil\",\"gas\",\"gas\",\"gas\",\"electric\",\"oil\",\"gas\",\"electric\",\"oil\",\"electric\",\"oil\",\"gas\",\"gas\",\"gas\",\"gas\",\"electric\",\"electric\",\"oil\",\"electric\",\"gas\",\"gas\",\"gas\",\"electric\",\"gas\",\"electric\",\"gas\",\"gas\",\"gas\",\"gas\",\"electric\",\"electric\",\"gas\",\"gas\",\"gas\",\"gas\",\"gas\",\"electric\",\"electric\",\"gas\",\"oil\",\"gas\",\"gas\",\"electric\",\"electric\",\"electric\",\"electric\",\"gas\",\"gas\",\"gas\",\"gas\",\"electric\",\"electric\",\"gas\",\"gas\",\"gas\",\"gas\",\"electric\",\"gas\",\"oil\",\"gas\",\"electric\",\"electric\",\"gas\",\"gas\",\"electric\",\"electric\",\"gas\",\"electric\",\"electric\",\"electric\",\"gas\",\"electric\",\"electric\",\"gas\",\"oil\",\"oil\",\"gas\",\"gas\",\"gas\",\"oil\",\"gas\",\"gas\",\"gas\",\"gas\",\"electric\",\"oil\",\"gas\",\"electric\",\"electric\",\"gas\",\"electric\",\"gas\",\"gas\",\"oil\",\"gas\",\"gas\",\"gas\",\"electric\",\"gas\",\"electric\",\"electric\",\"gas\",\"gas\",\"gas\",\"gas\",\"electric\",\"gas\",\"gas\",\"gas\",\"gas\",\"gas\",\"gas\",\"gas\",\"gas\",\"gas\",\"gas\",\"gas\",\"gas\",\"gas\",\"gas\",\"gas\",\"gas\",\"gas\",\"gas\",\"gas\",\"gas\",\"gas\",\"oil\",\"gas\",\"gas\",\"gas\",\"gas\",\"gas\",\"gas\",\"gas\",\"gas\",\"gas\",\"gas\",\"gas\",\"gas\",\"electric\",\"oil\",\"gas\",\"gas\",\"gas\",\"gas\",\"gas\",\"gas\",\"electric\",\"electric\",\"gas\",\"gas\",\"oil\",\"gas\",\"gas\",\"electric\",\"gas\",\"electric\",\"gas\",\"gas\",\"gas\",\"gas\",\"gas\",\"gas\",\"gas\",\"gas\",\"gas\",\"gas\",\"oil\",\"electric\",\"gas\",\"electric\",\"gas\",\"gas\",\"gas\",\"electric\",\"gas\",\"gas\",\"gas\",\"gas\",\"gas\",\"gas\",\"gas\",\"electric\",\"oil\",\"gas\",\"gas\",\"gas\",\"gas\",\"gas\",\"gas\",\"gas\",\"gas\",\"gas\",\"gas\",\"electric\",\"gas\",\"gas\",\"gas\",\"gas\",\"gas\",\"gas\",\"gas\",\"gas\",\"gas\",\"gas\",\"gas\",\"gas\",\"oil\",\"gas\",\"gas\",\"gas\",\"gas\",\"gas\",\"gas\",\"gas\",\"gas\",\"gas\",\"gas\",\"gas\",\"gas\",\"gas\",\"gas\",\"gas\",\"gas\",\"gas\",\"gas\",\"gas\",\"electric\",\"gas\",\"gas\",\"gas\",\"electric\",\"gas\",\"gas\",\"oil\",\"gas\",\"gas\",\"gas\",\"gas\",\"gas\",\"gas\",\"gas\",\"gas\",\"gas\",\"electric\",\"electric\",\"gas\",\"gas\",\"gas\",\"gas\",\"gas\",\"gas\",\"gas\",\"gas\",\"gas\",\"gas\",\"gas\",\"gas\",\"gas\",\"gas\",\"gas\",\"electric\",\"oil\",\"gas\",\"gas\",\"electric\",\"oil\",\"gas\",\"gas\",\"electric\",\"gas\",\"gas\",\"gas\",\"gas\",\"gas\",\"oil\",\"electric\",\"gas\",\"gas\",\"gas\",\"gas\",\"gas\",\"electric\",\"electric\",\"electric\",\"gas\",\"gas\",\"oil\",\"gas\",\"gas\",\"gas\",\"gas\",\"electric\",\"electric\",\"electric\",\"electric\",\"gas\",\"gas\",\"gas\",\"gas\",\"gas\",\"gas\",\"gas\",\"gas\",\"gas\",\"gas\",\"oil\",\"gas\",\"gas\",\"gas\",\"gas\",\"gas\",\"gas\",\"electric\",\"gas\",\"gas\",\"electric\",\"gas\",\"gas\",\"oil\",\"gas\",\"gas\",\"gas\",\"gas\",\"gas\",\"gas\",\"gas\",\"gas\",\"gas\"],\"xaxis\":\"x\",\"yaxis\":\"y\",\"type\":\"histogram\"}],                        {\"template\":{\"data\":{\"pie\":[{\"automargin\":true,\"type\":\"pie\"}]},\"layout\":{\"xaxis\":{\"showgrid\":true,\"title\":{\"standoff\":15}},\"yaxis\":{\"showgrid\":true,\"title\":{\"standoff\":15}}}},\"xaxis\":{\"anchor\":\"y\",\"domain\":[0.0,1.0],\"title\":{\"text\":\"consumo_calefacion\"}},\"yaxis\":{\"anchor\":\"x\",\"domain\":[0.0,1.0],\"title\":{\"text\":\"count\"}},\"legend\":{\"tracegroupgap\":0},\"title\":{\"text\":\"Consumo Calefaccion\"},\"barmode\":\"relative\"},                        {\"responsive\": true}                    ).then(function(){\n",
              "                            \n",
              "var gd = document.getElementById('3a816db1-72b2-4ea8-99d3-512b70f630e1');\n",
              "var x = new MutationObserver(function (mutations, observer) {{\n",
              "        var display = window.getComputedStyle(gd).display;\n",
              "        if (!display || display === 'none') {{\n",
              "            console.log([gd, 'removed!']);\n",
              "            Plotly.purge(gd);\n",
              "            observer.disconnect();\n",
              "        }}\n",
              "}});\n",
              "\n",
              "// Listen for the removal of the full notebook cells\n",
              "var notebookContainer = gd.closest('#notebook-container');\n",
              "if (notebookContainer) {{\n",
              "    x.observe(notebookContainer, {childList: true});\n",
              "}}\n",
              "\n",
              "// Listen for the clearing of the current output cell\n",
              "var outputEl = gd.closest('.output');\n",
              "if (outputEl) {{\n",
              "    x.observe(outputEl, {childList: true});\n",
              "}}\n",
              "\n",
              "                        })                };                            </script>        </div>\n",
              "</body>\n",
              "</html>"
            ]
          },
          "metadata": {}
        }
      ]
    },
    {
      "cell_type": "code",
      "metadata": {
        "colab": {
          "base_uri": "https://localhost:8080/",
          "height": 542
        },
        "id": "HsVHC9ri654X",
        "outputId": "e93820f3-647e-429a-af8e-5a8d27d08fb5"
      },
      "source": [
        "fig = px.histogram(datos, \n",
        "                   x = datos.desague,\n",
        "                   title=\"Desague\",\n",
        "                   template=\"gridon\")\n",
        "fig.show()"
      ],
      "execution_count": 35,
      "outputs": [
        {
          "output_type": "display_data",
          "data": {
            "text/html": [
              "<html>\n",
              "<head><meta charset=\"utf-8\" /></head>\n",
              "<body>\n",
              "    <div>            <script src=\"https://cdnjs.cloudflare.com/ajax/libs/mathjax/2.7.5/MathJax.js?config=TeX-AMS-MML_SVG\"></script><script type=\"text/javascript\">if (window.MathJax && window.MathJax.Hub && window.MathJax.Hub.Config) {window.MathJax.Hub.Config({SVG: {font: \"STIX-Web\"}});}</script>                <script type=\"text/javascript\">window.PlotlyConfig = {MathJaxConfig: 'local'};</script>\n",
              "        <script src=\"https://cdn.plot.ly/plotly-2.12.1.min.js\"></script>                <div id=\"fea0f377-33ea-4f22-913a-d6307be04779\" class=\"plotly-graph-div\" style=\"height:525px; width:100%;\"></div>            <script type=\"text/javascript\">                                    window.PLOTLYENV=window.PLOTLYENV || {};                                    if (document.getElementById(\"fea0f377-33ea-4f22-913a-d6307be04779\")) {                    Plotly.newPlot(                        \"fea0f377-33ea-4f22-913a-d6307be04779\",                        [{\"alignmentgroup\":\"True\",\"bingroup\":\"x\",\"hovertemplate\":\"desague=%{x}<br>count=%{y}<extra></extra>\",\"legendgroup\":\"\",\"marker\":{\"color\":\"#1F77B4\",\"pattern\":{\"shape\":\"\"}},\"name\":\"\",\"offsetgroup\":\"\",\"orientation\":\"v\",\"showlegend\":false,\"x\":[\"septic\",\"septic\",\"public/commercial\",\"septic\",\"public/commercial\",\"septic\",\"septic\",\"septic\",\"septic\",\"none\",\"septic\",\"septic\",\"septic\",\"public/commercial\",\"septic\",\"public/commercial\",\"septic\",\"none\",\"septic\",\"septic\",\"septic\",\"public/commercial\",\"septic\",\"septic\",\"public/commercial\",\"septic\",\"septic\",\"septic\",\"public/commercial\",\"septic\",\"septic\",\"septic\",\"public/commercial\",\"septic\",\"septic\",\"septic\",\"none\",\"septic\",\"septic\",\"none\",\"septic\",\"septic\",\"septic\",\"public/commercial\",\"septic\",\"none\",\"septic\",\"septic\",\"septic\",\"septic\",\"public/commercial\",\"public/commercial\",\"septic\",\"septic\",\"public/commercial\",\"public/commercial\",\"public/commercial\",\"public/commercial\",\"public/commercial\",\"septic\",\"public/commercial\",\"public/commercial\",\"public/commercial\",\"public/commercial\",\"septic\",\"public/commercial\",\"septic\",\"public/commercial\",\"septic\",\"public/commercial\",\"public/commercial\",\"public/commercial\",\"public/commercial\",\"public/commercial\",\"septic\",\"public/commercial\",\"public/commercial\",\"septic\",\"public/commercial\",\"septic\",\"public/commercial\",\"public/commercial\",\"public/commercial\",\"public/commercial\",\"septic\",\"septic\",\"septic\",\"septic\",\"septic\",\"septic\",\"none\",\"septic\",\"septic\",\"septic\",\"septic\",\"septic\",\"septic\",\"septic\",\"septic\",\"public/commercial\",\"septic\",\"septic\",\"septic\",\"septic\",\"septic\",\"septic\",\"septic\",\"septic\",\"septic\",\"public/commercial\",\"septic\",\"septic\",\"septic\",\"public/commercial\",\"septic\",\"septic\",\"septic\",\"septic\",\"septic\",\"septic\",\"septic\",\"septic\",\"septic\",\"public/commercial\",\"septic\",\"septic\",\"septic\",\"septic\",\"septic\",\"public/commercial\",\"public/commercial\",\"septic\",\"septic\",\"none\",\"public/commercial\",\"septic\",\"septic\",\"septic\",\"septic\",\"septic\",\"septic\",\"public/commercial\",\"public/commercial\",\"public/commercial\",\"public/commercial\",\"public/commercial\",\"septic\",\"public/commercial\",\"public/commercial\",\"public/commercial\",\"public/commercial\",\"public/commercial\",\"public/commercial\",\"public/commercial\",\"public/commercial\",\"public/commercial\",\"public/commercial\",\"septic\",\"public/commercial\",\"public/commercial\",\"septic\",\"public/commercial\",\"public/commercial\",\"public/commercial\",\"septic\",\"public/commercial\",\"public/commercial\",\"public/commercial\",\"public/commercial\",\"public/commercial\",\"public/commercial\",\"public/commercial\",\"public/commercial\",\"public/commercial\",\"public/commercial\",\"public/commercial\",\"public/commercial\",\"septic\",\"public/commercial\",\"public/commercial\",\"septic\",\"public/commercial\",\"public/commercial\",\"septic\",\"septic\",\"public/commercial\",\"public/commercial\",\"septic\",\"public/commercial\",\"public/commercial\",\"septic\",\"public/commercial\",\"septic\",\"public/commercial\",\"public/commercial\",\"public/commercial\",\"septic\",\"septic\",\"public/commercial\",\"public/commercial\",\"public/commercial\",\"public/commercial\",\"public/commercial\",\"public/commercial\",\"public/commercial\",\"public/commercial\",\"public/commercial\",\"public/commercial\",\"public/commercial\",\"public/commercial\",\"septic\",\"public/commercial\",\"public/commercial\",\"public/commercial\",\"public/commercial\",\"public/commercial\",\"public/commercial\",\"septic\",\"public/commercial\",\"septic\",\"public/commercial\",\"public/commercial\",\"public/commercial\",\"public/commercial\",\"public/commercial\",\"public/commercial\",\"public/commercial\",\"public/commercial\",\"public/commercial\",\"public/commercial\",\"public/commercial\",\"public/commercial\",\"public/commercial\",\"public/commercial\",\"public/commercial\",\"public/commercial\",\"public/commercial\",\"public/commercial\",\"public/commercial\",\"public/commercial\",\"public/commercial\",\"public/commercial\",\"public/commercial\",\"septic\",\"public/commercial\",\"public/commercial\",\"public/commercial\",\"septic\",\"public/commercial\",\"septic\",\"public/commercial\",\"public/commercial\",\"public/commercial\",\"public/commercial\",\"public/commercial\",\"septic\",\"public/commercial\",\"public/commercial\",\"septic\",\"public/commercial\",\"public/commercial\",\"public/commercial\",\"septic\",\"public/commercial\",\"public/commercial\",\"public/commercial\",\"septic\",\"public/commercial\",\"public/commercial\",\"public/commercial\",\"public/commercial\",\"public/commercial\",\"public/commercial\",\"septic\",\"public/commercial\",\"public/commercial\",\"public/commercial\",\"public/commercial\",\"public/commercial\",\"public/commercial\",\"public/commercial\",\"public/commercial\",\"public/commercial\",\"public/commercial\",\"public/commercial\",\"public/commercial\",\"public/commercial\",\"public/commercial\",\"public/commercial\",\"septic\",\"public/commercial\",\"public/commercial\",\"public/commercial\",\"public/commercial\",\"public/commercial\",\"public/commercial\",\"septic\",\"public/commercial\",\"public/commercial\",\"public/commercial\",\"public/commercial\",\"septic\",\"public/commercial\",\"public/commercial\",\"public/commercial\",\"public/commercial\",\"public/commercial\",\"public/commercial\",\"public/commercial\",\"public/commercial\",\"public/commercial\",\"public/commercial\",\"public/commercial\",\"public/commercial\",\"public/commercial\",\"public/commercial\",\"public/commercial\",\"public/commercial\",\"public/commercial\",\"public/commercial\",\"public/commercial\",\"public/commercial\",\"public/commercial\",\"public/commercial\",\"septic\",\"public/commercial\",\"public/commercial\",\"public/commercial\",\"public/commercial\",\"public/commercial\",\"public/commercial\",\"public/commercial\",\"public/commercial\",\"public/commercial\",\"public/commercial\",\"septic\",\"public/commercial\",\"public/commercial\",\"public/commercial\",\"public/commercial\",\"public/commercial\",\"public/commercial\",\"public/commercial\",\"septic\",\"public/commercial\",\"public/commercial\",\"public/commercial\",\"septic\",\"public/commercial\",\"public/commercial\",\"septic\",\"public/commercial\",\"septic\",\"public/commercial\",\"septic\",\"public/commercial\",\"public/commercial\",\"public/commercial\",\"public/commercial\",\"public/commercial\",\"public/commercial\",\"septic\",\"public/commercial\",\"public/commercial\",\"public/commercial\",\"public/commercial\",\"septic\",\"public/commercial\",\"public/commercial\",\"public/commercial\",\"public/commercial\",\"public/commercial\",\"public/commercial\",\"public/commercial\",\"public/commercial\",\"public/commercial\",\"public/commercial\",\"public/commercial\",\"septic\",\"public/commercial\",\"public/commercial\",\"public/commercial\",\"public/commercial\",\"public/commercial\",\"septic\",\"public/commercial\",\"public/commercial\",\"public/commercial\",\"public/commercial\",\"public/commercial\",\"public/commercial\",\"septic\",\"septic\",\"public/commercial\",\"public/commercial\",\"septic\",\"public/commercial\",\"public/commercial\",\"public/commercial\",\"septic\",\"septic\",\"public/commercial\",\"septic\",\"public/commercial\",\"public/commercial\",\"public/commercial\",\"public/commercial\",\"public/commercial\",\"public/commercial\",\"septic\",\"public/commercial\",\"septic\",\"public/commercial\",\"public/commercial\",\"public/commercial\",\"public/commercial\",\"public/commercial\",\"public/commercial\",\"septic\",\"septic\",\"public/commercial\",\"septic\",\"public/commercial\",\"septic\",\"public/commercial\",\"public/commercial\",\"public/commercial\",\"septic\",\"septic\",\"septic\",\"septic\",\"public/commercial\",\"septic\",\"public/commercial\",\"septic\",\"septic\",\"public/commercial\",\"septic\",\"public/commercial\",\"public/commercial\",\"septic\",\"septic\",\"septic\",\"septic\",\"septic\",\"septic\",\"septic\",\"septic\",\"septic\",\"public/commercial\",\"public/commercial\",\"public/commercial\",\"public/commercial\",\"public/commercial\",\"public/commercial\",\"public/commercial\",\"septic\",\"septic\",\"septic\",\"public/commercial\",\"septic\",\"public/commercial\",\"septic\",\"septic\",\"septic\",\"septic\",\"septic\",\"septic\",\"septic\",\"septic\",\"septic\",\"septic\",\"public/commercial\",\"public/commercial\",\"septic\",\"public/commercial\",\"public/commercial\",\"public/commercial\",\"public/commercial\",\"public/commercial\",\"public/commercial\",\"septic\",\"septic\",\"septic\",\"septic\",\"septic\",\"septic\",\"septic\",\"public/commercial\",\"public/commercial\",\"septic\",\"septic\",\"septic\",\"septic\",\"septic\",\"septic\",\"septic\",\"none\",\"public/commercial\",\"septic\",\"septic\",\"septic\",\"public/commercial\",\"public/commercial\",\"public/commercial\",\"public/commercial\",\"septic\",\"public/commercial\",\"public/commercial\",\"public/commercial\",\"public/commercial\",\"public/commercial\",\"public/commercial\",\"septic\",\"public/commercial\",\"public/commercial\",\"public/commercial\",\"public/commercial\",\"septic\",\"public/commercial\",\"public/commercial\",\"septic\",\"septic\",\"septic\",\"septic\",\"septic\",\"septic\",\"septic\",\"septic\",\"septic\",\"septic\",\"public/commercial\",\"public/commercial\",\"public/commercial\",\"public/commercial\",\"public/commercial\",\"public/commercial\",\"public/commercial\",\"public/commercial\",\"septic\",\"public/commercial\",\"public/commercial\",\"public/commercial\",\"public/commercial\",\"public/commercial\",\"public/commercial\",\"public/commercial\",\"public/commercial\",\"public/commercial\",\"public/commercial\",\"public/commercial\",\"public/commercial\",\"public/commercial\",\"public/commercial\",\"public/commercial\",\"public/commercial\",\"public/commercial\",\"public/commercial\",\"public/commercial\",\"public/commercial\",\"public/commercial\",\"public/commercial\",\"public/commercial\",\"none\",\"public/commercial\",\"public/commercial\",\"public/commercial\",\"public/commercial\",\"public/commercial\",\"septic\",\"septic\",\"public/commercial\",\"public/commercial\",\"public/commercial\",\"public/commercial\",\"public/commercial\",\"public/commercial\",\"public/commercial\",\"public/commercial\",\"public/commercial\",\"public/commercial\",\"public/commercial\",\"public/commercial\",\"public/commercial\",\"public/commercial\",\"public/commercial\",\"public/commercial\",\"septic\",\"public/commercial\",\"public/commercial\",\"septic\",\"public/commercial\",\"public/commercial\",\"public/commercial\",\"public/commercial\",\"public/commercial\",\"public/commercial\",\"public/commercial\",\"public/commercial\",\"public/commercial\",\"public/commercial\",\"public/commercial\",\"public/commercial\",\"public/commercial\",\"public/commercial\",\"public/commercial\",\"public/commercial\",\"public/commercial\",\"public/commercial\",\"public/commercial\",\"public/commercial\",\"septic\",\"public/commercial\",\"public/commercial\",\"public/commercial\",\"public/commercial\",\"public/commercial\",\"public/commercial\",\"public/commercial\",\"public/commercial\",\"public/commercial\",\"public/commercial\",\"public/commercial\",\"public/commercial\",\"public/commercial\",\"septic\",\"public/commercial\",\"septic\",\"public/commercial\",\"public/commercial\",\"public/commercial\",\"public/commercial\",\"public/commercial\",\"public/commercial\",\"public/commercial\",\"public/commercial\",\"septic\",\"public/commercial\",\"public/commercial\",\"public/commercial\",\"public/commercial\",\"septic\",\"public/commercial\",\"public/commercial\",\"public/commercial\",\"public/commercial\",\"public/commercial\",\"public/commercial\",\"public/commercial\",\"public/commercial\",\"public/commercial\",\"public/commercial\",\"public/commercial\",\"public/commercial\",\"public/commercial\",\"public/commercial\",\"public/commercial\",\"public/commercial\",\"public/commercial\",\"public/commercial\",\"public/commercial\",\"public/commercial\",\"public/commercial\",\"public/commercial\",\"septic\",\"public/commercial\",\"public/commercial\",\"public/commercial\",\"public/commercial\",\"public/commercial\",\"public/commercial\",\"public/commercial\",\"public/commercial\",\"public/commercial\",\"public/commercial\",\"public/commercial\",\"public/commercial\",\"septic\",\"public/commercial\",\"public/commercial\",\"public/commercial\",\"public/commercial\",\"public/commercial\",\"public/commercial\",\"septic\",\"public/commercial\",\"public/commercial\",\"public/commercial\",\"public/commercial\",\"public/commercial\",\"public/commercial\",\"public/commercial\",\"public/commercial\",\"public/commercial\",\"public/commercial\",\"public/commercial\",\"public/commercial\",\"public/commercial\",\"public/commercial\",\"public/commercial\",\"public/commercial\",\"septic\",\"public/commercial\",\"public/commercial\",\"septic\",\"public/commercial\",\"public/commercial\",\"public/commercial\",\"public/commercial\",\"public/commercial\",\"public/commercial\",\"septic\",\"public/commercial\",\"public/commercial\",\"public/commercial\",\"public/commercial\",\"public/commercial\",\"public/commercial\",\"public/commercial\",\"public/commercial\",\"public/commercial\",\"public/commercial\",\"septic\",\"public/commercial\",\"public/commercial\",\"septic\",\"public/commercial\",\"public/commercial\",\"septic\",\"septic\",\"public/commercial\",\"public/commercial\",\"septic\",\"public/commercial\",\"public/commercial\",\"public/commercial\",\"public/commercial\",\"septic\",\"public/commercial\",\"septic\",\"septic\",\"septic\",\"septic\",\"septic\",\"septic\",\"septic\",\"septic\",\"septic\",\"public/commercial\",\"septic\",\"public/commercial\",\"septic\",\"septic\",\"septic\",\"public/commercial\",\"septic\",\"septic\",\"septic\",\"septic\",\"septic\",\"septic\",\"septic\",\"septic\",\"public/commercial\",\"septic\",\"public/commercial\",\"public/commercial\",\"public/commercial\",\"public/commercial\",\"septic\",\"public/commercial\",\"public/commercial\",\"septic\",\"public/commercial\",\"septic\",\"septic\",\"public/commercial\",\"septic\",\"public/commercial\",\"public/commercial\",\"septic\",\"septic\",\"septic\",\"septic\",\"public/commercial\",\"septic\",\"septic\",\"septic\",\"septic\",\"public/commercial\",\"public/commercial\",\"septic\",\"septic\",\"public/commercial\",\"public/commercial\",\"public/commercial\",\"public/commercial\",\"public/commercial\",\"public/commercial\",\"public/commercial\",\"public/commercial\",\"public/commercial\",\"public/commercial\",\"public/commercial\",\"public/commercial\",\"public/commercial\",\"public/commercial\",\"public/commercial\",\"public/commercial\",\"public/commercial\",\"public/commercial\",\"public/commercial\",\"septic\",\"public/commercial\",\"public/commercial\",\"public/commercial\",\"septic\",\"public/commercial\",\"public/commercial\",\"septic\",\"public/commercial\",\"public/commercial\",\"public/commercial\",\"public/commercial\",\"public/commercial\",\"public/commercial\",\"public/commercial\",\"septic\",\"public/commercial\",\"public/commercial\",\"public/commercial\",\"septic\",\"public/commercial\",\"public/commercial\",\"public/commercial\",\"public/commercial\",\"public/commercial\",\"public/commercial\",\"public/commercial\",\"public/commercial\",\"public/commercial\",\"public/commercial\",\"public/commercial\",\"septic\",\"public/commercial\",\"public/commercial\",\"public/commercial\",\"public/commercial\",\"public/commercial\",\"public/commercial\",\"public/commercial\",\"public/commercial\",\"public/commercial\",\"public/commercial\",\"public/commercial\",\"public/commercial\",\"public/commercial\",\"public/commercial\",\"public/commercial\",\"public/commercial\",\"public/commercial\",\"septic\",\"public/commercial\",\"public/commercial\",\"septic\",\"public/commercial\",\"septic\",\"public/commercial\",\"public/commercial\",\"public/commercial\",\"public/commercial\",\"public/commercial\",\"public/commercial\",\"public/commercial\",\"public/commercial\",\"public/commercial\",\"public/commercial\",\"septic\",\"public/commercial\",\"septic\",\"public/commercial\",\"public/commercial\",\"septic\",\"public/commercial\",\"public/commercial\",\"public/commercial\",\"public/commercial\",\"public/commercial\",\"septic\",\"septic\",\"public/commercial\",\"public/commercial\",\"public/commercial\",\"public/commercial\",\"public/commercial\",\"public/commercial\",\"public/commercial\",\"public/commercial\",\"public/commercial\",\"public/commercial\",\"public/commercial\",\"public/commercial\",\"public/commercial\",\"public/commercial\",\"public/commercial\",\"public/commercial\",\"septic\",\"public/commercial\",\"public/commercial\",\"septic\",\"public/commercial\",\"septic\",\"public/commercial\",\"public/commercial\",\"public/commercial\",\"public/commercial\",\"public/commercial\",\"public/commercial\",\"public/commercial\",\"public/commercial\",\"public/commercial\",\"public/commercial\",\"septic\",\"public/commercial\",\"septic\",\"public/commercial\",\"public/commercial\",\"septic\",\"public/commercial\",\"public/commercial\",\"public/commercial\",\"public/commercial\",\"public/commercial\",\"septic\",\"septic\",\"septic\",\"public/commercial\",\"public/commercial\",\"public/commercial\",\"septic\",\"public/commercial\",\"public/commercial\",\"public/commercial\",\"public/commercial\",\"septic\",\"public/commercial\",\"public/commercial\",\"public/commercial\",\"public/commercial\",\"public/commercial\",\"public/commercial\",\"public/commercial\",\"public/commercial\",\"public/commercial\",\"septic\",\"public/commercial\",\"public/commercial\",\"septic\",\"septic\",\"public/commercial\",\"public/commercial\",\"septic\",\"public/commercial\",\"public/commercial\",\"public/commercial\",\"public/commercial\",\"public/commercial\",\"septic\",\"public/commercial\",\"public/commercial\",\"septic\",\"public/commercial\",\"public/commercial\",\"public/commercial\",\"public/commercial\",\"public/commercial\",\"public/commercial\",\"public/commercial\",\"public/commercial\",\"public/commercial\",\"septic\",\"public/commercial\",\"public/commercial\",\"public/commercial\",\"public/commercial\",\"septic\",\"public/commercial\",\"septic\",\"public/commercial\",\"public/commercial\",\"public/commercial\",\"public/commercial\",\"public/commercial\",\"public/commercial\",\"public/commercial\",\"public/commercial\",\"public/commercial\",\"public/commercial\",\"septic\",\"septic\",\"public/commercial\",\"public/commercial\",\"public/commercial\",\"public/commercial\",\"septic\",\"public/commercial\",\"public/commercial\",\"public/commercial\",\"public/commercial\",\"septic\",\"public/commercial\",\"public/commercial\",\"public/commercial\",\"public/commercial\",\"public/commercial\",\"public/commercial\",\"public/commercial\",\"none\",\"septic\",\"public/commercial\",\"public/commercial\",\"public/commercial\",\"septic\",\"public/commercial\",\"public/commercial\",\"public/commercial\",\"septic\",\"public/commercial\",\"public/commercial\",\"public/commercial\",\"public/commercial\",\"septic\",\"septic\",\"public/commercial\",\"septic\",\"septic\",\"public/commercial\",\"public/commercial\",\"public/commercial\",\"public/commercial\",\"public/commercial\",\"public/commercial\",\"public/commercial\",\"public/commercial\",\"septic\",\"public/commercial\",\"public/commercial\",\"public/commercial\",\"public/commercial\",\"public/commercial\",\"public/commercial\",\"public/commercial\",\"septic\",\"public/commercial\",\"public/commercial\",\"public/commercial\",\"septic\",\"septic\",\"septic\",\"public/commercial\",\"public/commercial\",\"public/commercial\",\"public/commercial\",\"public/commercial\",\"public/commercial\",\"public/commercial\",\"public/commercial\",\"public/commercial\",\"public/commercial\",\"public/commercial\",\"public/commercial\",\"public/commercial\",\"public/commercial\",\"public/commercial\",\"public/commercial\",\"public/commercial\",\"public/commercial\",\"public/commercial\",\"public/commercial\",\"public/commercial\",\"public/commercial\",\"public/commercial\",\"public/commercial\",\"septic\",\"septic\",\"public/commercial\",\"public/commercial\",\"septic\",\"public/commercial\",\"septic\",\"septic\",\"septic\",\"septic\",\"septic\",\"public/commercial\",\"septic\",\"septic\",\"septic\",\"septic\",\"septic\",\"septic\",\"septic\",\"septic\",\"septic\",\"public/commercial\",\"public/commercial\",\"public/commercial\",\"septic\",\"septic\",\"septic\",\"public/commercial\",\"septic\",\"septic\",\"septic\",\"septic\",\"septic\",\"septic\",\"public/commercial\",\"septic\",\"public/commercial\",\"septic\",\"septic\",\"septic\",\"septic\",\"septic\",\"septic\",\"septic\",\"septic\",\"septic\",\"septic\",\"septic\",\"public/commercial\",\"septic\",\"public/commercial\",\"public/commercial\",\"public/commercial\",\"septic\",\"septic\",\"public/commercial\",\"septic\",\"septic\",\"septic\",\"public/commercial\",\"public/commercial\",\"public/commercial\",\"public/commercial\",\"septic\",\"septic\",\"public/commercial\",\"septic\",\"septic\",\"septic\",\"public/commercial\",\"septic\",\"public/commercial\",\"public/commercial\",\"public/commercial\",\"septic\",\"public/commercial\",\"septic\",\"septic\",\"septic\",\"septic\",\"septic\",\"septic\",\"septic\",\"septic\",\"public/commercial\",\"septic\",\"public/commercial\",\"septic\",\"septic\",\"septic\",\"septic\",\"public/commercial\",\"public/commercial\",\"public/commercial\",\"septic\",\"public/commercial\",\"septic\",\"none\",\"septic\",\"septic\",\"septic\",\"septic\",\"septic\",\"septic\",\"septic\",\"public/commercial\",\"public/commercial\",\"public/commercial\",\"public/commercial\",\"public/commercial\",\"public/commercial\",\"public/commercial\",\"public/commercial\",\"public/commercial\",\"public/commercial\",\"septic\",\"public/commercial\",\"public/commercial\",\"public/commercial\",\"public/commercial\",\"public/commercial\",\"public/commercial\",\"public/commercial\",\"public/commercial\",\"public/commercial\",\"public/commercial\",\"public/commercial\",\"public/commercial\",\"public/commercial\",\"public/commercial\",\"public/commercial\",\"public/commercial\",\"public/commercial\",\"public/commercial\",\"public/commercial\",\"public/commercial\",\"public/commercial\",\"public/commercial\",\"public/commercial\",\"septic\",\"public/commercial\",\"public/commercial\",\"public/commercial\",\"public/commercial\",\"public/commercial\",\"public/commercial\",\"public/commercial\",\"public/commercial\",\"public/commercial\",\"public/commercial\",\"public/commercial\",\"public/commercial\",\"public/commercial\",\"public/commercial\",\"public/commercial\",\"public/commercial\",\"public/commercial\",\"public/commercial\",\"public/commercial\",\"public/commercial\",\"public/commercial\",\"public/commercial\",\"public/commercial\",\"public/commercial\",\"public/commercial\",\"septic\",\"public/commercial\",\"public/commercial\",\"septic\",\"septic\",\"none\",\"public/commercial\",\"public/commercial\",\"public/commercial\",\"public/commercial\",\"public/commercial\",\"public/commercial\",\"public/commercial\",\"public/commercial\",\"septic\",\"public/commercial\",\"public/commercial\",\"public/commercial\",\"public/commercial\",\"public/commercial\",\"public/commercial\",\"septic\",\"public/commercial\",\"public/commercial\",\"public/commercial\",\"public/commercial\",\"public/commercial\",\"public/commercial\",\"public/commercial\",\"public/commercial\",\"public/commercial\",\"public/commercial\",\"public/commercial\",\"public/commercial\",\"public/commercial\",\"septic\",\"public/commercial\",\"septic\",\"septic\",\"septic\",\"public/commercial\",\"septic\",\"public/commercial\",\"septic\",\"septic\",\"septic\",\"septic\",\"septic\",\"septic\",\"septic\",\"septic\",\"septic\",\"septic\",\"septic\",\"septic\",\"septic\",\"septic\",\"septic\",\"septic\",\"septic\",\"septic\",\"septic\",\"septic\",\"septic\",\"public/commercial\",\"public/commercial\",\"public/commercial\",\"public/commercial\",\"public/commercial\",\"public/commercial\",\"public/commercial\",\"septic\",\"public/commercial\",\"public/commercial\",\"public/commercial\",\"septic\",\"public/commercial\",\"public/commercial\",\"public/commercial\",\"public/commercial\",\"public/commercial\",\"public/commercial\",\"public/commercial\",\"public/commercial\",\"public/commercial\",\"public/commercial\",\"public/commercial\",\"public/commercial\",\"public/commercial\",\"public/commercial\",\"public/commercial\",\"public/commercial\",\"public/commercial\",\"public/commercial\",\"public/commercial\",\"public/commercial\",\"public/commercial\",\"public/commercial\",\"public/commercial\",\"public/commercial\",\"public/commercial\",\"public/commercial\",\"public/commercial\",\"public/commercial\",\"public/commercial\",\"public/commercial\",\"septic\",\"public/commercial\",\"public/commercial\",\"septic\",\"public/commercial\",\"public/commercial\",\"public/commercial\",\"public/commercial\",\"public/commercial\",\"public/commercial\",\"public/commercial\",\"public/commercial\",\"public/commercial\",\"public/commercial\",\"public/commercial\",\"septic\",\"public/commercial\",\"public/commercial\",\"public/commercial\",\"public/commercial\",\"public/commercial\",\"public/commercial\",\"septic\",\"public/commercial\",\"public/commercial\",\"septic\",\"public/commercial\",\"public/commercial\",\"public/commercial\",\"septic\",\"public/commercial\",\"septic\",\"public/commercial\",\"septic\",\"public/commercial\",\"septic\",\"public/commercial\",\"public/commercial\",\"public/commercial\",\"septic\",\"public/commercial\",\"septic\",\"public/commercial\",\"public/commercial\",\"public/commercial\",\"public/commercial\",\"septic\",\"public/commercial\",\"public/commercial\",\"septic\",\"public/commercial\",\"septic\",\"septic\",\"septic\",\"septic\",\"public/commercial\",\"septic\",\"septic\",\"septic\",\"public/commercial\",\"public/commercial\",\"public/commercial\",\"public/commercial\",\"septic\",\"septic\",\"septic\",\"public/commercial\",\"public/commercial\",\"public/commercial\",\"public/commercial\",\"public/commercial\",\"public/commercial\",\"public/commercial\",\"public/commercial\",\"public/commercial\",\"septic\",\"public/commercial\",\"public/commercial\",\"public/commercial\",\"public/commercial\",\"public/commercial\",\"public/commercial\",\"public/commercial\",\"septic\",\"public/commercial\",\"public/commercial\",\"public/commercial\",\"public/commercial\",\"public/commercial\",\"public/commercial\",\"public/commercial\",\"public/commercial\",\"public/commercial\",\"public/commercial\",\"septic\",\"public/commercial\",\"public/commercial\",\"public/commercial\",\"public/commercial\",\"public/commercial\",\"public/commercial\",\"public/commercial\",\"public/commercial\",\"septic\",\"public/commercial\",\"public/commercial\",\"public/commercial\",\"public/commercial\",\"public/commercial\",\"public/commercial\",\"public/commercial\",\"public/commercial\",\"public/commercial\",\"public/commercial\",\"public/commercial\",\"public/commercial\",\"public/commercial\",\"public/commercial\",\"septic\",\"septic\",\"septic\",\"public/commercial\",\"septic\",\"septic\",\"septic\",\"septic\",\"septic\",\"septic\",\"public/commercial\",\"public/commercial\",\"septic\",\"public/commercial\",\"public/commercial\",\"septic\",\"public/commercial\",\"public/commercial\",\"public/commercial\",\"public/commercial\",\"public/commercial\",\"public/commercial\",\"public/commercial\",\"public/commercial\",\"septic\",\"public/commercial\",\"public/commercial\",\"public/commercial\",\"public/commercial\",\"public/commercial\",\"public/commercial\",\"public/commercial\",\"public/commercial\",\"septic\",\"public/commercial\",\"septic\",\"public/commercial\",\"public/commercial\",\"public/commercial\",\"public/commercial\",\"public/commercial\",\"public/commercial\",\"public/commercial\",\"public/commercial\",\"septic\",\"public/commercial\",\"public/commercial\",\"public/commercial\",\"public/commercial\",\"public/commercial\",\"public/commercial\",\"public/commercial\",\"public/commercial\",\"septic\",\"public/commercial\",\"public/commercial\",\"public/commercial\",\"public/commercial\",\"public/commercial\",\"public/commercial\",\"public/commercial\",\"septic\",\"public/commercial\",\"septic\",\"public/commercial\",\"public/commercial\",\"public/commercial\",\"septic\",\"public/commercial\",\"public/commercial\",\"public/commercial\",\"public/commercial\",\"public/commercial\",\"public/commercial\",\"public/commercial\",\"public/commercial\",\"public/commercial\",\"public/commercial\",\"public/commercial\",\"public/commercial\",\"public/commercial\",\"public/commercial\",\"public/commercial\",\"public/commercial\",\"public/commercial\",\"septic\",\"public/commercial\",\"public/commercial\",\"public/commercial\",\"public/commercial\",\"public/commercial\",\"public/commercial\",\"public/commercial\",\"public/commercial\",\"septic\",\"public/commercial\",\"public/commercial\",\"septic\",\"public/commercial\",\"public/commercial\",\"public/commercial\",\"public/commercial\",\"public/commercial\",\"public/commercial\",\"public/commercial\",\"septic\",\"public/commercial\",\"public/commercial\",\"public/commercial\",\"public/commercial\",\"septic\",\"public/commercial\",\"public/commercial\",\"public/commercial\",\"public/commercial\",\"public/commercial\",\"public/commercial\",\"public/commercial\",\"public/commercial\",\"public/commercial\",\"public/commercial\",\"septic\",\"public/commercial\",\"public/commercial\",\"public/commercial\",\"public/commercial\",\"public/commercial\",\"public/commercial\",\"public/commercial\",\"public/commercial\",\"public/commercial\",\"public/commercial\",\"public/commercial\",\"public/commercial\",\"public/commercial\",\"public/commercial\",\"public/commercial\",\"public/commercial\",\"septic\",\"public/commercial\",\"public/commercial\",\"public/commercial\",\"public/commercial\",\"public/commercial\",\"public/commercial\",\"public/commercial\",\"public/commercial\",\"public/commercial\",\"public/commercial\",\"public/commercial\",\"public/commercial\",\"public/commercial\",\"public/commercial\",\"public/commercial\",\"septic\",\"public/commercial\",\"septic\",\"public/commercial\",\"septic\",\"public/commercial\",\"septic\",\"septic\",\"public/commercial\",\"public/commercial\",\"public/commercial\",\"public/commercial\",\"public/commercial\",\"public/commercial\",\"public/commercial\",\"public/commercial\",\"septic\",\"public/commercial\",\"septic\",\"public/commercial\",\"public/commercial\",\"public/commercial\",\"public/commercial\",\"public/commercial\",\"public/commercial\",\"septic\",\"public/commercial\",\"public/commercial\",\"septic\",\"public/commercial\",\"public/commercial\",\"public/commercial\",\"public/commercial\",\"public/commercial\",\"septic\",\"septic\",\"septic\",\"septic\",\"septic\",\"septic\",\"septic\",\"public/commercial\",\"public/commercial\",\"public/commercial\",\"septic\",\"public/commercial\",\"public/commercial\",\"public/commercial\",\"septic\",\"septic\",\"public/commercial\",\"septic\",\"septic\",\"public/commercial\",\"public/commercial\",\"public/commercial\",\"public/commercial\",\"public/commercial\",\"public/commercial\",\"public/commercial\",\"septic\",\"public/commercial\",\"septic\",\"public/commercial\",\"public/commercial\",\"public/commercial\",\"public/commercial\",\"public/commercial\",\"public/commercial\",\"public/commercial\",\"public/commercial\",\"septic\",\"public/commercial\",\"public/commercial\",\"public/commercial\",\"public/commercial\",\"public/commercial\",\"public/commercial\",\"public/commercial\",\"septic\",\"public/commercial\",\"public/commercial\",\"public/commercial\",\"public/commercial\",\"public/commercial\",\"public/commercial\",\"public/commercial\",\"public/commercial\",\"public/commercial\",\"septic\",\"public/commercial\",\"public/commercial\",\"septic\",\"public/commercial\",\"public/commercial\",\"public/commercial\",\"public/commercial\",\"public/commercial\",\"public/commercial\",\"public/commercial\",\"public/commercial\",\"septic\"],\"xaxis\":\"x\",\"yaxis\":\"y\",\"type\":\"histogram\"}],                        {\"template\":{\"data\":{\"pie\":[{\"automargin\":true,\"type\":\"pie\"}]},\"layout\":{\"xaxis\":{\"showgrid\":true,\"title\":{\"standoff\":15}},\"yaxis\":{\"showgrid\":true,\"title\":{\"standoff\":15}}}},\"xaxis\":{\"anchor\":\"y\",\"domain\":[0.0,1.0],\"title\":{\"text\":\"desague\"}},\"yaxis\":{\"anchor\":\"x\",\"domain\":[0.0,1.0],\"title\":{\"text\":\"count\"}},\"legend\":{\"tracegroupgap\":0},\"title\":{\"text\":\"Desague\"},\"barmode\":\"relative\"},                        {\"responsive\": true}                    ).then(function(){\n",
              "                            \n",
              "var gd = document.getElementById('fea0f377-33ea-4f22-913a-d6307be04779');\n",
              "var x = new MutationObserver(function (mutations, observer) {{\n",
              "        var display = window.getComputedStyle(gd).display;\n",
              "        if (!display || display === 'none') {{\n",
              "            console.log([gd, 'removed!']);\n",
              "            Plotly.purge(gd);\n",
              "            observer.disconnect();\n",
              "        }}\n",
              "}});\n",
              "\n",
              "// Listen for the removal of the full notebook cells\n",
              "var notebookContainer = gd.closest('#notebook-container');\n",
              "if (notebookContainer) {{\n",
              "    x.observe(notebookContainer, {childList: true});\n",
              "}}\n",
              "\n",
              "// Listen for the clearing of the current output cell\n",
              "var outputEl = gd.closest('.output');\n",
              "if (outputEl) {{\n",
              "    x.observe(outputEl, {childList: true});\n",
              "}}\n",
              "\n",
              "                        })                };                            </script>        </div>\n",
              "</body>\n",
              "</html>"
            ]
          },
          "metadata": {}
        }
      ]
    },
    {
      "cell_type": "code",
      "metadata": {
        "colab": {
          "base_uri": "https://localhost:8080/",
          "height": 542
        },
        "id": "Sy7RtVdF68sn",
        "outputId": "762ab481-60b7-48d8-fcd9-dd984a039865"
      },
      "source": [
        "fig = px.histogram(datos, \n",
        "                   x = datos.vistas_lago,\n",
        "                   title=\"Vistas al Lago\",\n",
        "                   template=\"gridon\")\n",
        "fig.show()"
      ],
      "execution_count": 36,
      "outputs": [
        {
          "output_type": "display_data",
          "data": {
            "text/html": [
              "<html>\n",
              "<head><meta charset=\"utf-8\" /></head>\n",
              "<body>\n",
              "    <div>            <script src=\"https://cdnjs.cloudflare.com/ajax/libs/mathjax/2.7.5/MathJax.js?config=TeX-AMS-MML_SVG\"></script><script type=\"text/javascript\">if (window.MathJax && window.MathJax.Hub && window.MathJax.Hub.Config) {window.MathJax.Hub.Config({SVG: {font: \"STIX-Web\"}});}</script>                <script type=\"text/javascript\">window.PlotlyConfig = {MathJaxConfig: 'local'};</script>\n",
              "        <script src=\"https://cdn.plot.ly/plotly-2.12.1.min.js\"></script>                <div id=\"2961787e-db58-4f3a-aeb8-72d50410aabc\" class=\"plotly-graph-div\" style=\"height:525px; width:100%;\"></div>            <script type=\"text/javascript\">                                    window.PLOTLYENV=window.PLOTLYENV || {};                                    if (document.getElementById(\"2961787e-db58-4f3a-aeb8-72d50410aabc\")) {                    Plotly.newPlot(                        \"2961787e-db58-4f3a-aeb8-72d50410aabc\",                        [{\"alignmentgroup\":\"True\",\"bingroup\":\"x\",\"hovertemplate\":\"vistas_lago=%{x}<br>count=%{y}<extra></extra>\",\"legendgroup\":\"\",\"marker\":{\"color\":\"#1F77B4\",\"pattern\":{\"shape\":\"\"}},\"name\":\"\",\"offsetgroup\":\"\",\"orientation\":\"v\",\"showlegend\":false,\"x\":[\"No\",\"No\",\"No\",\"No\",\"No\",\"No\",\"No\",\"No\",\"No\",\"No\",\"No\",\"No\",\"No\",\"No\",\"No\",\"No\",\"No\",\"No\",\"No\",\"No\",\"No\",\"No\",\"No\",\"No\",\"No\",\"No\",\"No\",\"No\",\"Yes\",\"No\",\"No\",\"No\",\"No\",\"No\",\"No\",\"No\",\"No\",\"No\",\"No\",\"No\",\"No\",\"No\",\"No\",\"No\",\"No\",\"No\",\"No\",\"No\",\"Yes\",\"No\",\"No\",\"No\",\"No\",\"No\",\"No\",\"No\",\"No\",\"No\",\"No\",\"No\",\"No\",\"No\",\"No\",\"No\",\"No\",\"No\",\"No\",\"No\",\"No\",\"No\",\"No\",\"No\",\"No\",\"No\",\"No\",\"No\",\"No\",\"No\",\"No\",\"No\",\"No\",\"No\",\"No\",\"No\",\"No\",\"No\",\"No\",\"No\",\"No\",\"No\",\"No\",\"No\",\"No\",\"No\",\"No\",\"No\",\"No\",\"No\",\"No\",\"No\",\"No\",\"No\",\"No\",\"No\",\"No\",\"No\",\"No\",\"No\",\"No\",\"No\",\"No\",\"No\",\"No\",\"No\",\"No\",\"No\",\"No\",\"No\",\"No\",\"No\",\"No\",\"No\",\"No\",\"No\",\"No\",\"No\",\"No\",\"No\",\"No\",\"No\",\"No\",\"No\",\"No\",\"No\",\"No\",\"No\",\"No\",\"No\",\"No\",\"No\",\"No\",\"No\",\"No\",\"No\",\"No\",\"No\",\"No\",\"No\",\"No\",\"No\",\"No\",\"No\",\"No\",\"No\",\"No\",\"No\",\"No\",\"No\",\"No\",\"No\",\"No\",\"No\",\"No\",\"No\",\"No\",\"No\",\"No\",\"No\",\"No\",\"No\",\"No\",\"No\",\"No\",\"No\",\"No\",\"No\",\"No\",\"No\",\"No\",\"No\",\"No\",\"No\",\"No\",\"No\",\"No\",\"No\",\"No\",\"No\",\"No\",\"No\",\"No\",\"No\",\"No\",\"No\",\"No\",\"No\",\"No\",\"No\",\"No\",\"No\",\"No\",\"No\",\"No\",\"No\",\"No\",\"No\",\"No\",\"No\",\"No\",\"No\",\"No\",\"No\",\"No\",\"No\",\"No\",\"No\",\"No\",\"No\",\"No\",\"No\",\"No\",\"No\",\"Yes\",\"No\",\"No\",\"No\",\"No\",\"No\",\"No\",\"No\",\"No\",\"No\",\"No\",\"Yes\",\"No\",\"No\",\"No\",\"No\",\"No\",\"No\",\"No\",\"No\",\"No\",\"No\",\"No\",\"No\",\"No\",\"No\",\"No\",\"No\",\"No\",\"No\",\"No\",\"No\",\"No\",\"No\",\"No\",\"No\",\"No\",\"No\",\"No\",\"No\",\"No\",\"No\",\"No\",\"No\",\"No\",\"No\",\"No\",\"No\",\"No\",\"No\",\"No\",\"No\",\"No\",\"No\",\"No\",\"No\",\"No\",\"No\",\"No\",\"No\",\"No\",\"No\",\"No\",\"No\",\"No\",\"No\",\"No\",\"No\",\"No\",\"No\",\"No\",\"No\",\"No\",\"No\",\"No\",\"No\",\"No\",\"No\",\"No\",\"No\",\"No\",\"No\",\"No\",\"No\",\"No\",\"No\",\"No\",\"No\",\"No\",\"No\",\"No\",\"No\",\"No\",\"No\",\"No\",\"No\",\"No\",\"No\",\"No\",\"No\",\"No\",\"No\",\"No\",\"No\",\"No\",\"No\",\"No\",\"No\",\"No\",\"No\",\"No\",\"No\",\"No\",\"No\",\"No\",\"No\",\"No\",\"No\",\"No\",\"No\",\"No\",\"No\",\"No\",\"No\",\"No\",\"No\",\"No\",\"No\",\"No\",\"No\",\"No\",\"No\",\"No\",\"No\",\"No\",\"No\",\"No\",\"No\",\"No\",\"No\",\"No\",\"No\",\"No\",\"No\",\"No\",\"No\",\"No\",\"No\",\"No\",\"No\",\"No\",\"No\",\"No\",\"No\",\"No\",\"No\",\"No\",\"No\",\"No\",\"No\",\"No\",\"No\",\"No\",\"No\",\"No\",\"No\",\"No\",\"No\",\"No\",\"No\",\"No\",\"No\",\"No\",\"No\",\"No\",\"No\",\"No\",\"No\",\"No\",\"No\",\"No\",\"No\",\"No\",\"No\",\"No\",\"No\",\"No\",\"No\",\"No\",\"No\",\"No\",\"No\",\"No\",\"No\",\"No\",\"No\",\"No\",\"No\",\"No\",\"No\",\"No\",\"No\",\"No\",\"No\",\"No\",\"No\",\"No\",\"No\",\"No\",\"No\",\"No\",\"No\",\"No\",\"No\",\"Yes\",\"No\",\"No\",\"No\",\"No\",\"No\",\"No\",\"No\",\"No\",\"No\",\"No\",\"No\",\"No\",\"No\",\"No\",\"No\",\"No\",\"No\",\"No\",\"Yes\",\"No\",\"No\",\"No\",\"No\",\"No\",\"No\",\"No\",\"No\",\"No\",\"No\",\"No\",\"No\",\"No\",\"No\",\"No\",\"No\",\"No\",\"No\",\"Yes\",\"No\",\"No\",\"No\",\"No\",\"No\",\"No\",\"No\",\"No\",\"Yes\",\"No\",\"No\",\"No\",\"No\",\"No\",\"No\",\"No\",\"No\",\"No\",\"No\",\"No\",\"No\",\"No\",\"No\",\"No\",\"No\",\"No\",\"No\",\"No\",\"No\",\"No\",\"No\",\"No\",\"No\",\"No\",\"No\",\"No\",\"No\",\"No\",\"No\",\"No\",\"No\",\"No\",\"No\",\"No\",\"No\",\"No\",\"No\",\"No\",\"No\",\"No\",\"No\",\"No\",\"No\",\"No\",\"No\",\"No\",\"No\",\"No\",\"No\",\"No\",\"No\",\"No\",\"No\",\"No\",\"No\",\"No\",\"No\",\"No\",\"No\",\"No\",\"No\",\"No\",\"No\",\"No\",\"No\",\"No\",\"No\",\"No\",\"No\",\"No\",\"No\",\"No\",\"No\",\"No\",\"No\",\"No\",\"No\",\"No\",\"No\",\"No\",\"No\",\"No\",\"No\",\"No\",\"No\",\"No\",\"No\",\"No\",\"No\",\"No\",\"No\",\"No\",\"No\",\"No\",\"No\",\"No\",\"No\",\"No\",\"No\",\"No\",\"No\",\"No\",\"No\",\"No\",\"No\",\"No\",\"No\",\"No\",\"No\",\"No\",\"No\",\"No\",\"No\",\"No\",\"No\",\"No\",\"Yes\",\"No\",\"No\",\"No\",\"No\",\"No\",\"No\",\"No\",\"No\",\"No\",\"No\",\"No\",\"No\",\"No\",\"No\",\"No\",\"No\",\"No\",\"No\",\"No\",\"No\",\"No\",\"No\",\"No\",\"No\",\"No\",\"No\",\"No\",\"No\",\"No\",\"No\",\"No\",\"No\",\"No\",\"No\",\"No\",\"No\",\"No\",\"No\",\"No\",\"No\",\"No\",\"No\",\"No\",\"No\",\"No\",\"No\",\"No\",\"No\",\"No\",\"No\",\"No\",\"No\",\"No\",\"No\",\"No\",\"No\",\"No\",\"No\",\"No\",\"No\",\"No\",\"No\",\"No\",\"No\",\"No\",\"No\",\"No\",\"No\",\"No\",\"No\",\"No\",\"No\",\"No\",\"No\",\"No\",\"No\",\"No\",\"No\",\"No\",\"No\",\"No\",\"No\",\"No\",\"No\",\"No\",\"No\",\"No\",\"No\",\"No\",\"No\",\"No\",\"No\",\"No\",\"No\",\"No\",\"No\",\"No\",\"No\",\"No\",\"Yes\",\"No\",\"No\",\"No\",\"No\",\"No\",\"No\",\"No\",\"No\",\"No\",\"No\",\"No\",\"No\",\"No\",\"No\",\"No\",\"No\",\"No\",\"No\",\"No\",\"No\",\"No\",\"No\",\"No\",\"No\",\"No\",\"No\",\"No\",\"No\",\"No\",\"No\",\"No\",\"No\",\"No\",\"No\",\"No\",\"No\",\"No\",\"No\",\"No\",\"No\",\"No\",\"No\",\"No\",\"No\",\"No\",\"No\",\"No\",\"No\",\"No\",\"No\",\"No\",\"No\",\"No\",\"No\",\"No\",\"No\",\"No\",\"No\",\"No\",\"No\",\"No\",\"No\",\"No\",\"No\",\"No\",\"No\",\"No\",\"No\",\"No\",\"No\",\"No\",\"No\",\"No\",\"No\",\"No\",\"No\",\"No\",\"No\",\"No\",\"No\",\"No\",\"No\",\"No\",\"No\",\"No\",\"No\",\"No\",\"No\",\"No\",\"No\",\"No\",\"No\",\"No\",\"No\",\"No\",\"No\",\"No\",\"No\",\"No\",\"No\",\"No\",\"No\",\"No\",\"No\",\"No\",\"No\",\"No\",\"No\",\"No\",\"No\",\"No\",\"No\",\"No\",\"No\",\"No\",\"No\",\"No\",\"No\",\"No\",\"No\",\"No\",\"No\",\"No\",\"No\",\"No\",\"No\",\"No\",\"No\",\"No\",\"No\",\"No\",\"No\",\"No\",\"No\",\"No\",\"No\",\"No\",\"No\",\"No\",\"No\",\"No\",\"No\",\"No\",\"No\",\"No\",\"No\",\"No\",\"No\",\"No\",\"No\",\"No\",\"No\",\"No\",\"No\",\"No\",\"No\",\"No\",\"No\",\"No\",\"No\",\"No\",\"No\",\"No\",\"No\",\"No\",\"No\",\"No\",\"No\",\"No\",\"No\",\"No\",\"No\",\"No\",\"No\",\"No\",\"No\",\"No\",\"No\",\"No\",\"No\",\"No\",\"No\",\"No\",\"No\",\"No\",\"No\",\"No\",\"No\",\"No\",\"No\",\"No\",\"No\",\"No\",\"No\",\"No\",\"No\",\"No\",\"No\",\"No\",\"No\",\"No\",\"No\",\"No\",\"No\",\"No\",\"No\",\"No\",\"No\",\"No\",\"No\",\"No\",\"No\",\"No\",\"No\",\"No\",\"No\",\"No\",\"No\",\"No\",\"No\",\"No\",\"No\",\"No\",\"No\",\"No\",\"No\",\"No\",\"No\",\"No\",\"No\",\"No\",\"No\",\"No\",\"No\",\"No\",\"No\",\"No\",\"No\",\"No\",\"No\",\"No\",\"No\",\"No\",\"No\",\"No\",\"No\",\"No\",\"No\",\"No\",\"No\",\"No\",\"No\",\"No\",\"No\",\"No\",\"No\",\"No\",\"No\",\"No\",\"No\",\"No\",\"No\",\"No\",\"No\",\"No\",\"No\",\"No\",\"No\",\"No\",\"No\",\"No\",\"No\",\"No\",\"No\",\"No\",\"No\",\"No\",\"No\",\"No\",\"No\",\"No\",\"No\",\"No\",\"No\",\"No\",\"No\",\"No\",\"No\",\"No\",\"No\",\"No\",\"No\",\"No\",\"No\",\"No\",\"No\",\"No\",\"No\",\"No\",\"No\",\"No\",\"No\",\"No\",\"No\",\"No\",\"No\",\"No\",\"No\",\"No\",\"No\",\"No\",\"No\",\"No\",\"No\",\"No\",\"No\",\"No\",\"No\",\"No\",\"No\",\"No\",\"No\",\"No\",\"No\",\"No\",\"No\",\"No\",\"No\",\"No\",\"No\",\"No\",\"No\",\"No\",\"No\",\"No\",\"No\",\"No\",\"No\",\"No\",\"No\",\"No\",\"No\",\"No\",\"No\",\"No\",\"No\",\"No\",\"No\",\"No\",\"No\",\"No\",\"No\",\"No\",\"No\",\"No\",\"No\",\"No\",\"No\",\"No\",\"No\",\"No\",\"No\",\"No\",\"No\",\"No\",\"No\",\"No\",\"No\",\"No\",\"No\",\"No\",\"No\",\"No\",\"No\",\"No\",\"No\",\"No\",\"No\",\"No\",\"No\",\"No\",\"No\",\"No\",\"No\",\"No\",\"No\",\"No\",\"No\",\"No\",\"No\",\"No\",\"No\",\"No\",\"No\",\"No\",\"No\",\"No\",\"No\",\"No\",\"No\",\"No\",\"No\",\"No\",\"No\",\"No\",\"No\",\"No\",\"No\",\"No\",\"No\",\"No\",\"No\",\"No\",\"No\",\"No\",\"No\",\"No\",\"No\",\"No\",\"No\",\"No\",\"No\",\"No\",\"No\",\"No\",\"No\",\"No\",\"No\",\"No\",\"No\",\"No\",\"No\",\"No\",\"No\",\"No\",\"No\",\"Yes\",\"No\",\"No\",\"No\",\"No\",\"No\",\"No\",\"No\",\"No\",\"No\",\"No\",\"No\",\"No\",\"No\",\"No\",\"No\",\"No\",\"No\",\"No\",\"No\",\"No\",\"No\",\"No\",\"No\",\"No\",\"No\",\"No\",\"No\",\"No\",\"No\",\"No\",\"No\",\"No\",\"No\",\"No\",\"No\",\"No\",\"No\",\"No\",\"No\",\"No\",\"No\",\"No\",\"No\",\"No\",\"No\",\"No\",\"No\",\"Yes\",\"No\",\"No\",\"No\",\"No\",\"No\",\"No\",\"No\",\"No\",\"No\",\"No\",\"No\",\"No\",\"No\",\"No\",\"No\",\"No\",\"No\",\"No\",\"No\",\"No\",\"No\",\"No\",\"No\",\"No\",\"No\",\"No\",\"No\",\"No\",\"No\",\"No\",\"No\",\"No\",\"No\",\"No\",\"No\",\"No\",\"No\",\"No\",\"No\",\"No\",\"No\",\"No\",\"No\",\"No\",\"No\",\"No\",\"No\",\"No\",\"No\",\"No\",\"No\",\"No\",\"No\",\"No\",\"No\",\"No\",\"No\",\"No\",\"No\",\"No\",\"No\",\"No\",\"No\",\"No\",\"No\",\"No\",\"No\",\"No\",\"No\",\"No\",\"No\",\"No\",\"No\",\"No\",\"No\",\"No\",\"No\",\"No\",\"No\",\"No\",\"No\",\"No\",\"No\",\"No\",\"No\",\"No\",\"No\",\"No\",\"No\",\"No\",\"No\",\"No\",\"No\",\"No\",\"No\",\"No\",\"No\",\"No\",\"Yes\",\"No\",\"No\",\"No\",\"No\",\"No\",\"No\",\"No\",\"No\",\"No\",\"No\",\"No\",\"No\",\"No\",\"No\",\"No\",\"No\",\"No\",\"No\",\"No\",\"No\",\"No\",\"No\",\"No\",\"No\",\"Yes\",\"No\",\"No\",\"No\",\"No\",\"No\",\"No\",\"No\",\"No\",\"No\",\"No\",\"No\",\"No\",\"No\",\"No\",\"No\",\"No\",\"No\",\"No\",\"No\",\"No\",\"No\",\"No\",\"No\",\"No\",\"No\",\"No\",\"No\",\"No\",\"No\",\"No\",\"No\",\"No\",\"No\",\"No\",\"No\",\"No\",\"No\",\"No\",\"No\",\"No\",\"No\",\"No\",\"No\",\"No\",\"No\",\"No\",\"No\",\"No\",\"No\",\"No\",\"No\",\"No\",\"No\",\"No\",\"No\",\"No\",\"No\",\"No\",\"No\",\"No\",\"No\",\"No\",\"No\",\"No\",\"No\",\"No\",\"No\",\"No\",\"No\",\"No\",\"No\",\"No\",\"No\",\"No\",\"No\",\"No\",\"No\",\"No\",\"No\",\"No\",\"No\",\"No\",\"No\",\"Yes\",\"No\",\"No\",\"No\",\"No\",\"No\",\"No\",\"No\",\"No\",\"No\",\"No\",\"No\",\"No\",\"No\",\"No\",\"No\",\"No\",\"No\",\"No\",\"No\",\"No\",\"No\",\"No\",\"No\",\"No\",\"No\",\"No\",\"No\",\"No\",\"No\",\"No\",\"No\",\"No\",\"No\",\"No\",\"No\",\"No\",\"No\",\"No\",\"No\",\"No\",\"No\",\"No\",\"No\",\"No\",\"No\",\"No\",\"No\",\"No\",\"No\",\"No\",\"No\",\"No\",\"No\",\"No\",\"No\",\"No\",\"No\",\"No\",\"No\",\"No\",\"No\",\"No\",\"No\",\"No\",\"No\",\"No\",\"No\",\"No\",\"No\",\"No\",\"No\",\"No\",\"No\",\"No\",\"No\",\"No\",\"No\",\"No\",\"No\",\"No\",\"No\",\"No\",\"No\",\"No\",\"No\",\"No\",\"No\",\"No\",\"No\",\"No\",\"No\",\"No\",\"No\",\"No\",\"No\",\"No\",\"No\",\"No\",\"No\",\"No\",\"No\",\"No\",\"No\",\"No\",\"No\",\"No\",\"No\",\"No\",\"No\",\"No\",\"No\",\"No\",\"No\",\"No\",\"No\",\"No\",\"No\",\"No\",\"No\",\"No\",\"No\",\"No\",\"No\",\"No\",\"No\",\"No\",\"No\",\"No\",\"No\",\"No\",\"No\",\"No\",\"No\",\"No\",\"No\",\"No\",\"No\",\"No\",\"No\",\"No\",\"No\",\"No\",\"No\",\"No\",\"No\",\"No\",\"No\",\"No\",\"No\",\"No\",\"No\",\"No\",\"No\",\"No\",\"No\",\"No\",\"No\",\"No\",\"No\",\"No\",\"No\",\"No\",\"No\",\"No\",\"No\",\"No\",\"No\",\"No\",\"No\",\"No\",\"No\",\"No\",\"No\",\"No\",\"No\",\"No\",\"No\",\"No\",\"No\",\"No\",\"No\",\"No\",\"No\",\"No\",\"No\",\"No\",\"No\",\"No\",\"No\",\"No\",\"No\",\"No\",\"No\",\"No\",\"No\",\"No\",\"No\",\"No\",\"No\",\"No\",\"No\",\"No\",\"No\",\"No\",\"No\",\"No\",\"No\",\"No\",\"No\",\"No\",\"No\",\"No\",\"No\",\"No\",\"No\",\"No\",\"No\",\"No\",\"No\",\"No\",\"No\",\"No\",\"No\",\"No\",\"No\",\"No\",\"No\",\"No\",\"No\",\"No\",\"No\",\"No\",\"No\",\"No\",\"No\",\"No\",\"No\",\"No\",\"No\",\"No\",\"No\",\"No\",\"No\",\"No\",\"No\",\"No\",\"No\",\"No\",\"No\",\"No\",\"No\",\"No\",\"No\",\"No\",\"No\",\"No\",\"No\",\"No\",\"No\",\"No\",\"No\",\"No\",\"No\",\"No\",\"No\",\"No\",\"No\",\"No\",\"No\",\"No\",\"No\",\"No\",\"No\",\"No\",\"No\",\"No\",\"No\",\"No\",\"No\",\"No\",\"No\",\"No\",\"No\",\"No\",\"No\",\"No\",\"No\",\"No\",\"No\",\"No\",\"No\",\"No\",\"No\",\"No\",\"No\",\"No\",\"No\",\"No\",\"No\",\"No\",\"No\",\"No\",\"No\",\"No\",\"No\",\"No\",\"No\",\"No\",\"No\",\"No\",\"No\",\"No\",\"No\",\"No\",\"No\",\"No\",\"No\",\"No\",\"No\",\"No\",\"No\",\"No\",\"No\",\"No\",\"No\",\"No\",\"No\",\"No\",\"No\",\"No\",\"No\",\"No\",\"No\"],\"xaxis\":\"x\",\"yaxis\":\"y\",\"type\":\"histogram\"}],                        {\"template\":{\"data\":{\"pie\":[{\"automargin\":true,\"type\":\"pie\"}]},\"layout\":{\"xaxis\":{\"showgrid\":true,\"title\":{\"standoff\":15}},\"yaxis\":{\"showgrid\":true,\"title\":{\"standoff\":15}}}},\"xaxis\":{\"anchor\":\"y\",\"domain\":[0.0,1.0],\"title\":{\"text\":\"vistas_lago\"}},\"yaxis\":{\"anchor\":\"x\",\"domain\":[0.0,1.0],\"title\":{\"text\":\"count\"}},\"legend\":{\"tracegroupgap\":0},\"title\":{\"text\":\"Vistas al Lago\"},\"barmode\":\"relative\"},                        {\"responsive\": true}                    ).then(function(){\n",
              "                            \n",
              "var gd = document.getElementById('2961787e-db58-4f3a-aeb8-72d50410aabc');\n",
              "var x = new MutationObserver(function (mutations, observer) {{\n",
              "        var display = window.getComputedStyle(gd).display;\n",
              "        if (!display || display === 'none') {{\n",
              "            console.log([gd, 'removed!']);\n",
              "            Plotly.purge(gd);\n",
              "            observer.disconnect();\n",
              "        }}\n",
              "}});\n",
              "\n",
              "// Listen for the removal of the full notebook cells\n",
              "var notebookContainer = gd.closest('#notebook-container');\n",
              "if (notebookContainer) {{\n",
              "    x.observe(notebookContainer, {childList: true});\n",
              "}}\n",
              "\n",
              "// Listen for the clearing of the current output cell\n",
              "var outputEl = gd.closest('.output');\n",
              "if (outputEl) {{\n",
              "    x.observe(outputEl, {childList: true});\n",
              "}}\n",
              "\n",
              "                        })                };                            </script>        </div>\n",
              "</body>\n",
              "</html>"
            ]
          },
          "metadata": {}
        }
      ]
    },
    {
      "cell_type": "code",
      "metadata": {
        "colab": {
          "base_uri": "https://localhost:8080/",
          "height": 542
        },
        "id": "3rnXvCrc7Bo3",
        "outputId": "981f9716-85c1-4c15-dc40-33542dff1677"
      },
      "source": [
        "fig = px.histogram(datos, \n",
        "                   x = datos.aire_acondicionado,\n",
        "                   title=\"Aire Acondicionado\",\n",
        "                   template=\"gridon\")\n",
        "fig.show()"
      ],
      "execution_count": 37,
      "outputs": [
        {
          "output_type": "display_data",
          "data": {
            "text/html": [
              "<html>\n",
              "<head><meta charset=\"utf-8\" /></head>\n",
              "<body>\n",
              "    <div>            <script src=\"https://cdnjs.cloudflare.com/ajax/libs/mathjax/2.7.5/MathJax.js?config=TeX-AMS-MML_SVG\"></script><script type=\"text/javascript\">if (window.MathJax && window.MathJax.Hub && window.MathJax.Hub.Config) {window.MathJax.Hub.Config({SVG: {font: \"STIX-Web\"}});}</script>                <script type=\"text/javascript\">window.PlotlyConfig = {MathJaxConfig: 'local'};</script>\n",
              "        <script src=\"https://cdn.plot.ly/plotly-2.12.1.min.js\"></script>                <div id=\"4daea825-5232-4c4f-a6b1-f8dcdc1f58c2\" class=\"plotly-graph-div\" style=\"height:525px; width:100%;\"></div>            <script type=\"text/javascript\">                                    window.PLOTLYENV=window.PLOTLYENV || {};                                    if (document.getElementById(\"4daea825-5232-4c4f-a6b1-f8dcdc1f58c2\")) {                    Plotly.newPlot(                        \"4daea825-5232-4c4f-a6b1-f8dcdc1f58c2\",                        [{\"alignmentgroup\":\"True\",\"bingroup\":\"x\",\"hovertemplate\":\"aire_acondicionado=%{x}<br>count=%{y}<extra></extra>\",\"legendgroup\":\"\",\"marker\":{\"color\":\"#1F77B4\",\"pattern\":{\"shape\":\"\"}},\"name\":\"\",\"offsetgroup\":\"\",\"orientation\":\"v\",\"showlegend\":false,\"x\":[\"No\",\"No\",\"No\",\"No\",\"Yes\",\"No\",\"No\",\"No\",\"No\",\"No\",\"No\",\"No\",\"No\",\"No\",\"No\",\"No\",\"No\",\"Yes\",\"No\",\"No\",\"No\",\"No\",\"Yes\",\"No\",\"No\",\"No\",\"No\",\"No\",\"No\",\"Yes\",\"No\",\"No\",\"No\",\"No\",\"No\",\"Yes\",\"No\",\"No\",\"No\",\"Yes\",\"No\",\"Yes\",\"Yes\",\"Yes\",\"No\",\"No\",\"No\",\"No\",\"No\",\"No\",\"Yes\",\"No\",\"No\",\"No\",\"Yes\",\"No\",\"Yes\",\"No\",\"No\",\"No\",\"Yes\",\"No\",\"No\",\"Yes\",\"No\",\"No\",\"No\",\"Yes\",\"No\",\"Yes\",\"No\",\"No\",\"Yes\",\"Yes\",\"No\",\"No\",\"No\",\"Yes\",\"No\",\"No\",\"No\",\"No\",\"No\",\"No\",\"No\",\"Yes\",\"No\",\"Yes\",\"No\",\"No\",\"No\",\"No\",\"No\",\"No\",\"No\",\"No\",\"No\",\"No\",\"No\",\"No\",\"Yes\",\"No\",\"No\",\"No\",\"No\",\"No\",\"Yes\",\"No\",\"No\",\"No\",\"No\",\"No\",\"No\",\"No\",\"Yes\",\"Yes\",\"No\",\"Yes\",\"No\",\"No\",\"No\",\"No\",\"No\",\"No\",\"Yes\",\"No\",\"No\",\"No\",\"No\",\"No\",\"No\",\"No\",\"No\",\"No\",\"No\",\"No\",\"No\",\"No\",\"No\",\"No\",\"No\",\"No\",\"Yes\",\"No\",\"No\",\"Yes\",\"No\",\"Yes\",\"Yes\",\"Yes\",\"Yes\",\"Yes\",\"Yes\",\"Yes\",\"Yes\",\"Yes\",\"Yes\",\"No\",\"Yes\",\"No\",\"No\",\"Yes\",\"Yes\",\"Yes\",\"Yes\",\"Yes\",\"Yes\",\"Yes\",\"No\",\"Yes\",\"Yes\",\"Yes\",\"Yes\",\"Yes\",\"Yes\",\"Yes\",\"Yes\",\"Yes\",\"Yes\",\"Yes\",\"No\",\"No\",\"No\",\"No\",\"No\",\"Yes\",\"Yes\",\"No\",\"Yes\",\"No\",\"No\",\"No\",\"Yes\",\"Yes\",\"Yes\",\"No\",\"No\",\"No\",\"Yes\",\"No\",\"Yes\",\"No\",\"No\",\"No\",\"No\",\"No\",\"No\",\"No\",\"No\",\"No\",\"No\",\"No\",\"Yes\",\"No\",\"No\",\"No\",\"No\",\"No\",\"No\",\"Yes\",\"No\",\"Yes\",\"No\",\"No\",\"No\",\"No\",\"No\",\"No\",\"No\",\"No\",\"No\",\"No\",\"No\",\"No\",\"No\",\"No\",\"No\",\"No\",\"No\",\"No\",\"No\",\"Yes\",\"No\",\"Yes\",\"No\",\"No\",\"No\",\"No\",\"Yes\",\"No\",\"No\",\"No\",\"Yes\",\"No\",\"No\",\"No\",\"No\",\"No\",\"Yes\",\"No\",\"Yes\",\"No\",\"Yes\",\"No\",\"No\",\"No\",\"No\",\"No\",\"No\",\"Yes\",\"No\",\"No\",\"No\",\"No\",\"No\",\"Yes\",\"Yes\",\"No\",\"No\",\"Yes\",\"Yes\",\"No\",\"Yes\",\"Yes\",\"Yes\",\"Yes\",\"Yes\",\"Yes\",\"Yes\",\"Yes\",\"Yes\",\"Yes\",\"Yes\",\"No\",\"Yes\",\"Yes\",\"Yes\",\"No\",\"No\",\"No\",\"No\",\"No\",\"Yes\",\"No\",\"Yes\",\"Yes\",\"No\",\"No\",\"Yes\",\"Yes\",\"Yes\",\"No\",\"No\",\"Yes\",\"No\",\"No\",\"No\",\"No\",\"Yes\",\"Yes\",\"No\",\"No\",\"Yes\",\"Yes\",\"Yes\",\"No\",\"No\",\"Yes\",\"Yes\",\"Yes\",\"No\",\"No\",\"No\",\"No\",\"No\",\"No\",\"Yes\",\"No\",\"No\",\"Yes\",\"Yes\",\"Yes\",\"No\",\"Yes\",\"Yes\",\"Yes\",\"No\",\"No\",\"No\",\"Yes\",\"No\",\"No\",\"No\",\"Yes\",\"No\",\"No\",\"No\",\"Yes\",\"Yes\",\"No\",\"Yes\",\"No\",\"Yes\",\"Yes\",\"Yes\",\"Yes\",\"No\",\"No\",\"No\",\"No\",\"No\",\"Yes\",\"Yes\",\"No\",\"Yes\",\"No\",\"Yes\",\"Yes\",\"No\",\"No\",\"No\",\"No\",\"Yes\",\"Yes\",\"No\",\"No\",\"Yes\",\"Yes\",\"Yes\",\"No\",\"Yes\",\"Yes\",\"No\",\"No\",\"Yes\",\"Yes\",\"Yes\",\"Yes\",\"Yes\",\"No\",\"No\",\"No\",\"No\",\"No\",\"Yes\",\"Yes\",\"No\",\"Yes\",\"Yes\",\"No\",\"No\",\"No\",\"No\",\"No\",\"Yes\",\"No\",\"No\",\"Yes\",\"No\",\"No\",\"No\",\"Yes\",\"No\",\"No\",\"No\",\"No\",\"No\",\"No\",\"No\",\"No\",\"No\",\"No\",\"Yes\",\"Yes\",\"No\",\"No\",\"No\",\"No\",\"No\",\"Yes\",\"Yes\",\"No\",\"No\",\"Yes\",\"No\",\"No\",\"No\",\"No\",\"No\",\"Yes\",\"Yes\",\"No\",\"No\",\"No\",\"Yes\",\"Yes\",\"No\",\"No\",\"No\",\"No\",\"No\",\"No\",\"No\",\"No\",\"No\",\"No\",\"No\",\"No\",\"No\",\"No\",\"No\",\"No\",\"Yes\",\"Yes\",\"No\",\"Yes\",\"Yes\",\"No\",\"No\",\"Yes\",\"No\",\"No\",\"No\",\"No\",\"No\",\"Yes\",\"No\",\"Yes\",\"No\",\"No\",\"Yes\",\"No\",\"No\",\"Yes\",\"No\",\"Yes\",\"Yes\",\"No\",\"No\",\"No\",\"No\",\"No\",\"No\",\"Yes\",\"No\",\"No\",\"Yes\",\"Yes\",\"No\",\"Yes\",\"Yes\",\"Yes\",\"Yes\",\"Yes\",\"No\",\"Yes\",\"No\",\"Yes\",\"No\",\"No\",\"No\",\"Yes\",\"No\",\"No\",\"Yes\",\"No\",\"Yes\",\"No\",\"No\",\"No\",\"No\",\"No\",\"No\",\"Yes\",\"Yes\",\"Yes\",\"Yes\",\"Yes\",\"No\",\"No\",\"Yes\",\"Yes\",\"Yes\",\"Yes\",\"Yes\",\"No\",\"No\",\"Yes\",\"Yes\",\"Yes\",\"No\",\"Yes\",\"No\",\"Yes\",\"No\",\"Yes\",\"No\",\"No\",\"Yes\",\"Yes\",\"Yes\",\"No\",\"Yes\",\"Yes\",\"Yes\",\"No\",\"No\",\"Yes\",\"Yes\",\"No\",\"Yes\",\"No\",\"No\",\"Yes\",\"No\",\"Yes\",\"No\",\"No\",\"Yes\",\"No\",\"No\",\"No\",\"Yes\",\"Yes\",\"No\",\"Yes\",\"No\",\"Yes\",\"No\",\"No\",\"Yes\",\"Yes\",\"No\",\"No\",\"Yes\",\"Yes\",\"No\",\"Yes\",\"No\",\"Yes\",\"Yes\",\"Yes\",\"Yes\",\"Yes\",\"Yes\",\"Yes\",\"Yes\",\"Yes\",\"Yes\",\"No\",\"No\",\"Yes\",\"Yes\",\"No\",\"Yes\",\"No\",\"No\",\"Yes\",\"Yes\",\"Yes\",\"No\",\"Yes\",\"No\",\"Yes\",\"No\",\"Yes\",\"No\",\"Yes\",\"Yes\",\"Yes\",\"No\",\"Yes\",\"Yes\",\"No\",\"No\",\"No\",\"No\",\"No\",\"Yes\",\"Yes\",\"Yes\",\"No\",\"Yes\",\"Yes\",\"Yes\",\"Yes\",\"Yes\",\"No\",\"Yes\",\"Yes\",\"No\",\"No\",\"Yes\",\"Yes\",\"No\",\"No\",\"No\",\"No\",\"No\",\"Yes\",\"Yes\",\"Yes\",\"No\",\"No\",\"No\",\"Yes\",\"No\",\"Yes\",\"No\",\"No\",\"No\",\"No\",\"No\",\"No\",\"No\",\"No\",\"No\",\"No\",\"No\",\"Yes\",\"Yes\",\"No\",\"No\",\"Yes\",\"Yes\",\"Yes\",\"No\",\"Yes\",\"No\",\"No\",\"No\",\"No\",\"Yes\",\"No\",\"Yes\",\"Yes\",\"No\",\"Yes\",\"Yes\",\"Yes\",\"No\",\"Yes\",\"Yes\",\"Yes\",\"No\",\"No\",\"Yes\",\"No\",\"Yes\",\"Yes\",\"Yes\",\"No\",\"Yes\",\"No\",\"Yes\",\"No\",\"No\",\"Yes\",\"Yes\",\"No\",\"Yes\",\"No\",\"Yes\",\"Yes\",\"No\",\"Yes\",\"No\",\"Yes\",\"No\",\"Yes\",\"No\",\"No\",\"No\",\"No\",\"No\",\"No\",\"No\",\"No\",\"No\",\"No\",\"No\",\"No\",\"No\",\"No\",\"No\",\"No\",\"No\",\"No\",\"No\",\"Yes\",\"No\",\"No\",\"No\",\"Yes\",\"No\",\"No\",\"No\",\"No\",\"No\",\"Yes\",\"Yes\",\"No\",\"No\",\"No\",\"No\",\"No\",\"Yes\",\"No\",\"No\",\"No\",\"No\",\"No\",\"No\",\"Yes\",\"No\",\"Yes\",\"No\",\"No\",\"No\",\"No\",\"No\",\"No\",\"No\",\"No\",\"No\",\"Yes\",\"Yes\",\"No\",\"No\",\"No\",\"No\",\"No\",\"No\",\"Yes\",\"Yes\",\"Yes\",\"Yes\",\"Yes\",\"No\",\"No\",\"Yes\",\"Yes\",\"Yes\",\"Yes\",\"No\",\"Yes\",\"Yes\",\"Yes\",\"Yes\",\"No\",\"Yes\",\"Yes\",\"No\",\"No\",\"Yes\",\"Yes\",\"No\",\"Yes\",\"No\",\"No\",\"Yes\",\"Yes\",\"No\",\"Yes\",\"No\",\"Yes\",\"No\",\"No\",\"Yes\",\"Yes\",\"No\",\"No\",\"No\",\"No\",\"Yes\",\"No\",\"No\",\"Yes\",\"No\",\"Yes\",\"No\",\"Yes\",\"Yes\",\"No\",\"No\",\"No\",\"No\",\"No\",\"No\",\"No\",\"No\",\"No\",\"No\",\"No\",\"No\",\"No\",\"No\",\"Yes\",\"No\",\"No\",\"No\",\"No\",\"No\",\"No\",\"No\",\"No\",\"No\",\"No\",\"No\",\"No\",\"No\",\"No\",\"No\",\"No\",\"No\",\"No\",\"No\",\"No\",\"No\",\"No\",\"No\",\"Yes\",\"Yes\",\"No\",\"No\",\"No\",\"No\",\"No\",\"No\",\"No\",\"No\",\"No\",\"No\",\"No\",\"No\",\"No\",\"No\",\"No\",\"No\",\"No\",\"No\",\"No\",\"Yes\",\"No\",\"No\",\"No\",\"No\",\"No\",\"No\",\"No\",\"No\",\"No\",\"No\",\"No\",\"No\",\"No\",\"No\",\"No\",\"No\",\"No\",\"No\",\"No\",\"No\",\"No\",\"No\",\"No\",\"Yes\",\"Yes\",\"No\",\"No\",\"No\",\"No\",\"No\",\"No\",\"No\",\"No\",\"No\",\"Yes\",\"No\",\"Yes\",\"Yes\",\"Yes\",\"Yes\",\"Yes\",\"No\",\"No\",\"No\",\"Yes\",\"No\",\"No\",\"Yes\",\"No\",\"Yes\",\"No\",\"Yes\",\"Yes\",\"No\",\"No\",\"No\",\"No\",\"Yes\",\"Yes\",\"No\",\"No\",\"No\",\"Yes\",\"No\",\"No\",\"No\",\"Yes\",\"No\",\"Yes\",\"No\",\"No\",\"Yes\",\"No\",\"Yes\",\"Yes\",\"Yes\",\"No\",\"No\",\"Yes\",\"Yes\",\"Yes\",\"Yes\",\"No\",\"Yes\",\"No\",\"No\",\"Yes\",\"No\",\"No\",\"No\",\"Yes\",\"No\",\"Yes\",\"No\",\"No\",\"No\",\"No\",\"Yes\",\"Yes\",\"No\",\"Yes\",\"No\",\"No\",\"No\",\"Yes\",\"No\",\"No\",\"Yes\",\"No\",\"Yes\",\"Yes\",\"No\",\"No\",\"No\",\"Yes\",\"Yes\",\"Yes\",\"Yes\",\"Yes\",\"Yes\",\"No\",\"No\",\"Yes\",\"Yes\",\"No\",\"Yes\",\"Yes\",\"Yes\",\"No\",\"No\",\"Yes\",\"No\",\"No\",\"No\",\"No\",\"No\",\"No\",\"Yes\",\"Yes\",\"Yes\",\"Yes\",\"No\",\"Yes\",\"No\",\"No\",\"No\",\"No\",\"Yes\",\"No\",\"No\",\"No\",\"Yes\",\"Yes\",\"No\",\"Yes\",\"No\",\"Yes\",\"Yes\",\"Yes\",\"No\",\"Yes\",\"No\",\"No\",\"Yes\",\"Yes\",\"No\",\"Yes\",\"Yes\",\"Yes\",\"Yes\",\"Yes\",\"No\",\"No\",\"No\",\"Yes\",\"No\",\"Yes\",\"Yes\",\"Yes\",\"Yes\",\"No\",\"No\",\"No\",\"Yes\",\"Yes\",\"No\",\"Yes\",\"Yes\",\"No\",\"No\",\"No\",\"No\",\"Yes\",\"Yes\",\"No\",\"No\",\"No\",\"No\",\"Yes\",\"Yes\",\"No\",\"No\",\"No\",\"No\",\"No\",\"No\",\"No\",\"No\",\"No\",\"No\",\"No\",\"No\",\"Yes\",\"No\",\"No\",\"No\",\"No\",\"No\",\"No\",\"No\",\"No\",\"No\",\"No\",\"No\",\"No\",\"No\",\"No\",\"Yes\",\"No\",\"No\",\"No\",\"No\",\"No\",\"Yes\",\"No\",\"Yes\",\"No\",\"No\",\"No\",\"No\",\"No\",\"No\",\"No\",\"No\",\"No\",\"No\",\"Yes\",\"No\",\"Yes\",\"No\",\"No\",\"No\",\"No\",\"No\",\"No\",\"No\",\"No\",\"No\",\"No\",\"No\",\"No\",\"Yes\",\"No\",\"No\",\"No\",\"Yes\",\"Yes\",\"Yes\",\"No\",\"Yes\",\"No\",\"No\",\"No\",\"No\",\"No\",\"No\",\"Yes\",\"No\",\"No\",\"No\",\"Yes\",\"Yes\",\"No\",\"No\",\"No\",\"No\",\"No\",\"No\",\"No\",\"Yes\",\"No\",\"No\",\"Yes\",\"No\",\"Yes\",\"No\",\"No\",\"Yes\",\"Yes\",\"No\",\"No\",\"Yes\",\"Yes\",\"Yes\",\"No\",\"No\",\"Yes\",\"Yes\",\"No\",\"Yes\",\"No\",\"No\",\"No\",\"No\",\"Yes\",\"No\",\"Yes\",\"No\",\"No\",\"Yes\",\"Yes\",\"Yes\",\"No\",\"Yes\",\"No\",\"Yes\",\"Yes\",\"Yes\",\"No\",\"No\",\"No\",\"Yes\",\"Yes\",\"Yes\",\"No\",\"Yes\",\"Yes\",\"No\",\"No\",\"Yes\",\"Yes\",\"Yes\",\"Yes\",\"Yes\",\"Yes\",\"No\",\"No\",\"No\",\"Yes\",\"No\",\"Yes\",\"No\",\"Yes\",\"No\",\"Yes\",\"No\",\"No\",\"Yes\",\"No\",\"Yes\",\"Yes\",\"Yes\",\"No\",\"Yes\",\"No\",\"Yes\",\"No\",\"No\",\"No\",\"No\",\"Yes\",\"Yes\",\"Yes\",\"Yes\",\"Yes\",\"No\",\"Yes\",\"Yes\",\"Yes\",\"No\",\"No\",\"Yes\",\"No\",\"No\",\"No\",\"No\",\"No\",\"No\",\"No\",\"Yes\",\"No\",\"No\",\"No\",\"No\",\"Yes\",\"Yes\",\"No\",\"Yes\",\"No\",\"Yes\",\"Yes\",\"No\",\"Yes\",\"No\",\"No\",\"Yes\",\"No\",\"No\",\"No\",\"Yes\",\"Yes\",\"Yes\",\"Yes\",\"No\",\"Yes\",\"No\",\"No\",\"Yes\",\"Yes\",\"Yes\",\"No\",\"Yes\",\"Yes\",\"Yes\",\"Yes\",\"Yes\",\"Yes\",\"Yes\",\"No\",\"No\",\"Yes\",\"No\",\"Yes\",\"Yes\",\"Yes\",\"Yes\",\"Yes\",\"Yes\",\"No\",\"Yes\",\"No\",\"No\",\"No\",\"Yes\",\"Yes\",\"Yes\",\"Yes\",\"No\",\"Yes\",\"Yes\",\"No\",\"No\",\"Yes\",\"No\",\"No\",\"No\",\"No\",\"No\",\"No\",\"Yes\",\"No\",\"No\",\"Yes\",\"Yes\",\"No\",\"No\",\"No\",\"No\",\"No\",\"No\",\"No\",\"No\",\"No\",\"No\",\"No\",\"No\",\"No\",\"No\",\"No\",\"Yes\",\"No\",\"No\",\"Yes\",\"No\",\"No\",\"No\",\"No\",\"No\",\"No\",\"No\",\"Yes\",\"No\",\"Yes\",\"No\",\"No\",\"No\",\"Yes\",\"Yes\",\"No\",\"No\",\"No\",\"No\",\"No\",\"No\",\"No\",\"No\",\"No\",\"No\",\"No\",\"No\",\"No\",\"No\",\"Yes\",\"No\",\"No\",\"No\",\"Yes\",\"No\",\"No\",\"No\",\"Yes\",\"No\",\"No\",\"No\",\"No\",\"No\",\"Yes\",\"No\",\"No\",\"No\",\"No\",\"No\",\"No\",\"No\",\"No\",\"No\",\"Yes\",\"No\",\"No\",\"No\",\"No\",\"No\",\"Yes\",\"Yes\",\"No\",\"Yes\",\"No\",\"No\",\"Yes\",\"Yes\",\"No\",\"No\",\"Yes\",\"No\",\"No\",\"No\",\"No\",\"Yes\",\"No\",\"Yes\",\"No\",\"No\",\"No\",\"No\",\"No\",\"No\",\"No\",\"Yes\",\"No\",\"No\",\"Yes\",\"No\",\"No\",\"No\",\"Yes\",\"No\",\"No\",\"No\",\"No\",\"No\",\"No\",\"Yes\",\"No\",\"No\",\"No\",\"No\",\"No\",\"Yes\",\"Yes\",\"No\",\"No\",\"Yes\",\"No\",\"Yes\",\"Yes\",\"No\",\"Yes\",\"No\",\"No\",\"Yes\",\"Yes\",\"No\",\"No\",\"Yes\",\"No\",\"No\",\"No\",\"Yes\",\"No\",\"No\",\"No\",\"No\",\"Yes\",\"Yes\",\"Yes\",\"No\",\"No\",\"Yes\",\"No\",\"No\",\"Yes\",\"Yes\",\"No\",\"Yes\",\"Yes\",\"No\",\"Yes\",\"Yes\",\"Yes\",\"Yes\",\"Yes\",\"No\",\"Yes\",\"No\",\"Yes\",\"No\",\"No\",\"No\",\"No\",\"No\",\"Yes\",\"Yes\",\"Yes\",\"No\",\"Yes\",\"No\",\"No\",\"Yes\",\"Yes\",\"Yes\",\"Yes\",\"Yes\",\"Yes\",\"Yes\",\"No\",\"No\",\"Yes\",\"Yes\",\"No\",\"No\",\"No\",\"Yes\",\"Yes\",\"No\",\"No\",\"Yes\",\"Yes\",\"No\",\"No\",\"No\",\"No\",\"Yes\",\"Yes\",\"Yes\",\"No\",\"Yes\",\"Yes\",\"No\",\"No\",\"No\",\"Yes\",\"No\",\"No\",\"Yes\",\"Yes\",\"No\",\"Yes\",\"Yes\",\"Yes\",\"No\",\"No\",\"No\",\"No\",\"No\",\"No\",\"No\",\"No\",\"No\",\"No\",\"No\",\"Yes\",\"No\",\"Yes\",\"Yes\",\"No\",\"No\",\"No\",\"Yes\",\"No\",\"Yes\",\"Yes\",\"No\",\"Yes\",\"No\",\"Yes\",\"No\",\"No\",\"No\",\"Yes\",\"Yes\",\"Yes\",\"Yes\",\"No\",\"No\",\"No\",\"No\",\"Yes\",\"No\",\"No\",\"No\",\"No\",\"No\",\"No\",\"Yes\",\"No\",\"No\",\"No\",\"Yes\",\"No\",\"No\",\"Yes\",\"No\",\"No\",\"No\",\"No\",\"No\",\"No\",\"No\",\"Yes\",\"No\",\"No\",\"Yes\",\"Yes\",\"No\",\"No\",\"No\",\"No\",\"No\",\"No\",\"No\",\"Yes\",\"No\",\"No\",\"No\",\"No\",\"No\",\"Yes\",\"Yes\",\"No\",\"No\",\"Yes\",\"No\",\"Yes\",\"Yes\",\"Yes\",\"Yes\",\"No\",\"Yes\",\"No\",\"No\",\"No\",\"No\",\"No\",\"No\",\"No\",\"Yes\",\"No\",\"Yes\",\"No\",\"No\",\"No\",\"No\",\"No\",\"Yes\",\"No\",\"Yes\",\"Yes\",\"No\",\"Yes\",\"No\",\"Yes\",\"Yes\",\"No\",\"Yes\",\"No\",\"No\",\"No\",\"No\",\"Yes\",\"No\",\"No\",\"Yes\",\"No\",\"No\",\"No\",\"No\",\"No\",\"Yes\",\"No\",\"No\",\"No\",\"No\",\"No\",\"No\",\"No\"],\"xaxis\":\"x\",\"yaxis\":\"y\",\"type\":\"histogram\"}],                        {\"template\":{\"data\":{\"pie\":[{\"automargin\":true,\"type\":\"pie\"}]},\"layout\":{\"xaxis\":{\"showgrid\":true,\"title\":{\"standoff\":15}},\"yaxis\":{\"showgrid\":true,\"title\":{\"standoff\":15}}}},\"xaxis\":{\"anchor\":\"y\",\"domain\":[0.0,1.0],\"title\":{\"text\":\"aire_acondicionado\"}},\"yaxis\":{\"anchor\":\"x\",\"domain\":[0.0,1.0],\"title\":{\"text\":\"count\"}},\"legend\":{\"tracegroupgap\":0},\"title\":{\"text\":\"Aire Acondicionado\"},\"barmode\":\"relative\"},                        {\"responsive\": true}                    ).then(function(){\n",
              "                            \n",
              "var gd = document.getElementById('4daea825-5232-4c4f-a6b1-f8dcdc1f58c2');\n",
              "var x = new MutationObserver(function (mutations, observer) {{\n",
              "        var display = window.getComputedStyle(gd).display;\n",
              "        if (!display || display === 'none') {{\n",
              "            console.log([gd, 'removed!']);\n",
              "            Plotly.purge(gd);\n",
              "            observer.disconnect();\n",
              "        }}\n",
              "}});\n",
              "\n",
              "// Listen for the removal of the full notebook cells\n",
              "var notebookContainer = gd.closest('#notebook-container');\n",
              "if (notebookContainer) {{\n",
              "    x.observe(notebookContainer, {childList: true});\n",
              "}}\n",
              "\n",
              "// Listen for the clearing of the current output cell\n",
              "var outputEl = gd.closest('.output');\n",
              "if (outputEl) {{\n",
              "    x.observe(outputEl, {childList: true});\n",
              "}}\n",
              "\n",
              "                        })                };                            </script>        </div>\n",
              "</body>\n",
              "</html>"
            ]
          },
          "metadata": {}
        }
      ]
    },
    {
      "cell_type": "markdown",
      "metadata": {
        "id": "g3uSDg6Ju8EQ"
      },
      "source": [
        "##**División del Conjunto de Datos en train y test**\n"
      ]
    },
    {
      "cell_type": "code",
      "metadata": {
        "id": "Rq4URhANvTAK"
      },
      "source": [
        "X_train, X_test, y_train, y_test = train_test_split(datos.drop('precio', axis = 'columns'),\n",
        "                                                    datos['precio'],train_size   = 0.8,\n",
        "                                                    random_state = 2021, shuffle = True)"
      ],
      "execution_count": 38,
      "outputs": []
    },
    {
      "cell_type": "code",
      "metadata": {
        "colab": {
          "base_uri": "https://localhost:8080/"
        },
        "id": "DKRKpqMxvtNp",
        "outputId": "48d885b0-e172-4f38-d6a9-cd28cda1ad50"
      },
      "source": [
        "X_train.shape"
      ],
      "execution_count": 39,
      "outputs": [
        {
          "output_type": "execute_result",
          "data": {
            "text/plain": [
              "(1382, 15)"
            ]
          },
          "metadata": {},
          "execution_count": 39
        }
      ]
    },
    {
      "cell_type": "code",
      "metadata": {
        "colab": {
          "base_uri": "https://localhost:8080/"
        },
        "id": "4H31nRUHv7Ot",
        "outputId": "a9ea203a-a67a-4ede-ba54-b8c8174c8377"
      },
      "source": [
        "X_test.shape"
      ],
      "execution_count": 40,
      "outputs": [
        {
          "output_type": "execute_result",
          "data": {
            "text/plain": [
              "(346, 15)"
            ]
          },
          "metadata": {},
          "execution_count": 40
        }
      ]
    },
    {
      "cell_type": "code",
      "metadata": {
        "colab": {
          "base_uri": "https://localhost:8080/"
        },
        "id": "msZ0OqxCwACa",
        "outputId": "7994298e-5085-45b8-a151-e9006bd57b2a"
      },
      "source": [
        "y_train.shape"
      ],
      "execution_count": 41,
      "outputs": [
        {
          "output_type": "execute_result",
          "data": {
            "text/plain": [
              "(1382,)"
            ]
          },
          "metadata": {},
          "execution_count": 41
        }
      ]
    },
    {
      "cell_type": "code",
      "metadata": {
        "colab": {
          "base_uri": "https://localhost:8080/"
        },
        "id": "DxZUNqeMwDfT",
        "outputId": "4d683306-5c20-4a0d-c8bd-90e5e0a7da20"
      },
      "source": [
        "y_test.shape"
      ],
      "execution_count": 42,
      "outputs": [
        {
          "output_type": "execute_result",
          "data": {
            "text/plain": [
              "(346,)"
            ]
          },
          "metadata": {},
          "execution_count": 42
        }
      ]
    },
    {
      "cell_type": "markdown",
      "metadata": {
        "id": "IW8p9c4p9-9a"
      },
      "source": [
        "**Otra forma de división del Conjunto de Datos**"
      ]
    },
    {
      "cell_type": "code",
      "metadata": {
        "id": "-JxgdRmL-Rl8"
      },
      "source": [
        "y = datos[\"precio\"] # variable objetivo\n",
        "X = datos.drop(columns=[\"precio\"]) # vector de entrada"
      ],
      "execution_count": 43,
      "outputs": []
    },
    {
      "cell_type": "code",
      "metadata": {
        "id": "VwqJYJA1-bjh"
      },
      "source": [
        "X_train, X_test, y_train, y_test = train_test_split(X, y, test_size = 0.20, random_state = 0)"
      ],
      "execution_count": 44,
      "outputs": []
    },
    {
      "cell_type": "code",
      "metadata": {
        "colab": {
          "base_uri": "https://localhost:8080/"
        },
        "id": "aZDj2AuF-eFS",
        "outputId": "7a8a4715-e774-4b98-eb7e-26b07561b47f"
      },
      "source": [
        "X_train.shape"
      ],
      "execution_count": 45,
      "outputs": [
        {
          "output_type": "execute_result",
          "data": {
            "text/plain": [
              "(1382, 15)"
            ]
          },
          "metadata": {},
          "execution_count": 45
        }
      ]
    },
    {
      "cell_type": "code",
      "metadata": {
        "colab": {
          "base_uri": "https://localhost:8080/"
        },
        "id": "VFpMAwoe-hh_",
        "outputId": "19bc54ef-6525-410a-921d-512ba8485f14"
      },
      "source": [
        "X_test.shape"
      ],
      "execution_count": 46,
      "outputs": [
        {
          "output_type": "execute_result",
          "data": {
            "text/plain": [
              "(346, 15)"
            ]
          },
          "metadata": {},
          "execution_count": 46
        }
      ]
    },
    {
      "cell_type": "code",
      "metadata": {
        "colab": {
          "base_uri": "https://localhost:8080/"
        },
        "id": "95Z0n73o-kTj",
        "outputId": "761dbd0e-99b3-45db-82c3-3a38cea44c52"
      },
      "source": [
        "y_train.shape"
      ],
      "execution_count": 47,
      "outputs": [
        {
          "output_type": "execute_result",
          "data": {
            "text/plain": [
              "(1382,)"
            ]
          },
          "metadata": {},
          "execution_count": 47
        }
      ]
    },
    {
      "cell_type": "code",
      "metadata": {
        "id": "Q5-lRNua-nO7",
        "outputId": "abbf994e-5da4-4ece-9a70-b8159766dcb7",
        "colab": {
          "base_uri": "https://localhost:8080/"
        }
      },
      "source": [
        "y_test.shape"
      ],
      "execution_count": 48,
      "outputs": [
        {
          "output_type": "execute_result",
          "data": {
            "text/plain": [
              "(346,)"
            ]
          },
          "metadata": {},
          "execution_count": 48
        }
      ]
    },
    {
      "cell_type": "markdown",
      "source": [
        "# **Preprocesamiento de los Datos**"
      ],
      "metadata": {
        "id": "9JdTVLuxFzrW"
      }
    },
    {
      "cell_type": "markdown",
      "source": [
        "**El preprocesamiento de los Datos tiene que ver con todas las transformaciones realizadas sobre los datos con el objetivo de que puedan ser interpretados por el algoritmo de machine learning lo más eficientemente posible.**\n",
        "\n",
        "***Todo preprocesado de datos debe aprenderse con las observaciones de entrenamiento y luego aplicarse al conjunto de entrenamiento y al de test.***\n",
        "\n",
        "**Esto es muy importante para no violar la condición de que ninguna información procedente de las observaciones de test participe o influya en el ajuste del modelo.**\n",
        "\n",
        "**A continuación se resumen algunos de los pasos de preprocesado que más se suelen necesitar.**"
      ],
      "metadata": {
        "id": "PT5RdbyUF1Cc"
      }
    },
    {
      "cell_type": "markdown",
      "source": [
        "## **Exclusión de variables con varianza cercana a cero**"
      ],
      "metadata": {
        "id": "WS6t6TDXGELu"
      }
    },
    {
      "cell_type": "markdown",
      "source": [
        "**La gran mayoría de algoritmos no aceptan observaciones incompletas, por lo tanto, cuando el conjunto de datos contiene valores ausentes, se puede:**\n",
        "\n",
        "- Eliminar aquellas observaciones que estén incompletas.\n",
        "- Eliminar aquellas variables que contengan valores ausentes.\n",
        "- Tratar de estimar los valores ausentes empleando el resto de información disponible (lo que se conoce como imputación)."
      ],
      "metadata": {
        "id": "wSPGbJXdGN1H"
      }
    },
    {
      "cell_type": "markdown",
      "source": [
        "## **Estandarización y escalado de variables numéricas**"
      ],
      "metadata": {
        "id": "lrljgYqMGevU"
      }
    },
    {
      "cell_type": "markdown",
      "source": [
        "**La escala en la que se miden las variables, así como la magnitud de su varianza pueden influir en gran medida en el modelo a desarrollar. Muchos algoritmos de machine learning son sensibles a esto, de forma que, si no se igualan las variables, aquellas que se midan en una escala mayor o que tengan más varianza dominarán el modelo aunque no sean las que más relación tienen con la variable objetivo, o variable explicativa.**\n",
        "\n",
        "***Existen principalmente 2 estrategias para evitar esta situación:***"
      ],
      "metadata": {
        "id": "A7aCJxWxGl4B"
      }
    },
    {
      "cell_type": "markdown",
      "source": [
        "- **Centrado:** consiste en restarle a cada valor de la variable, la media del conjunto de valores de esa variable. Si los datos están almacenados en un dataframe, el centrado se consigue restándole a cada valor la media de la columna en la que se encuentra. Como resultado de esta transformación, todas las variables pasan a tener una media de cero, es decir, los valores se centran en torno al origen.\n",
        "- **Normalización (estandarización):** consiste en transformar los datos de forma que todos las variables estén aproximadamente en la misma escala."
      ],
      "metadata": {
        "id": "YGd7o1IXGvTp"
      }
    },
    {
      "cell_type": "markdown",
      "source": [
        "##**Binarización de las variables cualitativas** - Variables no numéricas"
      ],
      "metadata": {
        "id": "hKphtDp9G1oj"
      }
    },
    {
      "cell_type": "markdown",
      "source": [
        "**La binarización (one-hot-encoding) consiste en crear nuevas variables dummy con cada uno de los niveles de las variables cualitativas. Por ejemplo, una variable llamada suel que contenga los niveles alto, medio y bajo, se convertirá en tres nuevas variables (sueldo_alto, sueldo_medio, sueldo_bajo), todas con el valor 0 excepto la que coincide con la observación, que toma el valor 1.**"
      ],
      "metadata": {
        "id": "IePMhDmNG68O"
      }
    },
    {
      "cell_type": "markdown",
      "source": [
        "**Por defecto, OneHotEncoder binariza todas las variables, por lo que hay que aplicarlo únicamente a las variables cualitativas.**"
      ],
      "metadata": {
        "id": "lm9YMgKHHBB2"
      }
    },
    {
      "cell_type": "markdown",
      "source": [
        "##**Pipeline y ColumnTransformer**"
      ],
      "metadata": {
        "id": "oyaXiQXTHHKn"
      }
    },
    {
      "cell_type": "markdown",
      "source": [
        "**Pipeline y ColumnTransformer permiten combinar múltiples transformaciones de \n",
        "preprocesado, especificando a qué columnas se aplica cada una.**\n",
        "\n",
        "**Esto permite que el aprendizaje de las transformaciones se haga únicamente con observaciones de entrenamiento, y se puedan aplicar después a cualquier conjunto de datos.**"
      ],
      "metadata": {
        "id": "jwA9uOiPHOTo"
      }
    },
    {
      "cell_type": "code",
      "source": [
        "numeric_cols = X_train.select_dtypes(include=[\"float64\", \"int\"]).columns.to_list()\n",
        "cat_cols = X_train.select_dtypes(include=[\"object\", \"category\"]).columns.to_list()"
      ],
      "metadata": {
        "id": "f7kEtfsKHkyz"
      },
      "execution_count": 50,
      "outputs": []
    },
    {
      "cell_type": "code",
      "source": [
        "preprocesamiento = ColumnTransformer([(\"scale\", StandardScaler(), numeric_cols),\n",
        "                                      (\"onehot\", OneHotEncoder(handle_unknown=\"ignore\"), cat_cols)],\n",
        "                                     remainder=\"passthrough\")"
      ],
      "metadata": {
        "id": "3dcmSWWHHmj-"
      },
      "execution_count": 51,
      "outputs": []
    },
    {
      "cell_type": "markdown",
      "source": [
        "**Una vez definido el objeto ColumnTransformer, con el método fit() se aplican las transformaciones a los datos de entrenamiento y se aplican a los dos conjuntos con la función transform(), de la siguiente manera:**\n"
      ],
      "metadata": {
        "id": "xMtQUXVwHz6H"
      }
    },
    {
      "cell_type": "code",
      "source": [
        "X_train_prep = preprocesamiento.fit_transform(X_train)\n",
        "X_test_prep  = preprocesamiento.transform(X_test)"
      ],
      "metadata": {
        "id": "X4ojw7cyHv9W"
      },
      "execution_count": 52,
      "outputs": []
    },
    {
      "cell_type": "markdown",
      "source": [
        "**El resultado devuelto por ColumnTransformer es un array de numpy, por lo tanto se pierden los nombres de las columnas que tenían en el dataframe.** \n",
        "\n",
        "**Suele ser interesante poder inspeccionar cómo queda el set de datos tras el preprocesado en formato dataframe.**\n",
        "\n",
        "**Por defecto, OneHotEncoder ordena las nuevas columnas de izquierda a derecha por orden alfabético.**"
      ],
      "metadata": {
        "id": "drjsR0c0H9QM"
      }
    },
    {
      "cell_type": "code",
      "source": [
        "encoded_cat = preprocesamiento.named_transformers_[\"onehot\"].get_feature_names_out(cat_cols)\n",
        "labels = np.concatenate([numeric_cols, encoded_cat])\n",
        "datos_train_prep = preprocesamiento.transform(X_train)\n",
        "datos_train_prep = pd.DataFrame(datos_train_prep, columns=labels)\n",
        "datos_train_prep.info();"
      ],
      "metadata": {
        "colab": {
          "base_uri": "https://localhost:8080/"
        },
        "id": "fOmcWz9TILGc",
        "outputId": "8dac464b-4e9e-45ac-a3db-1fa265958a34"
      },
      "execution_count": 55,
      "outputs": [
        {
          "output_type": "stream",
          "name": "stdout",
          "text": [
            "<class 'pandas.core.frame.DataFrame'>\n",
            "RangeIndex: 1382 entries, 0 to 1381\n",
            "Data columns (total 28 columns):\n",
            " #   Column                       Non-Null Count  Dtype  \n",
            "---  ------                       --------------  -----  \n",
            " 0   metros_totales               1382 non-null   float64\n",
            " 1   antiguedad                   1382 non-null   float64\n",
            " 2   precio_terreno               1382 non-null   float64\n",
            " 3   metros_habitables            1382 non-null   float64\n",
            " 4   universitarios               1382 non-null   float64\n",
            " 5   dormitorios                  1382 non-null   float64\n",
            " 6   baños                        1382 non-null   float64\n",
            " 7   habitaciones                 1382 non-null   float64\n",
            " 8   chimenea_0                   1382 non-null   float64\n",
            " 9   chimenea_1                   1382 non-null   float64\n",
            " 10  chimenea_2                   1382 non-null   float64\n",
            " 11  chimenea_3                   1382 non-null   float64\n",
            " 12  chimenea_4                   1382 non-null   float64\n",
            " 13  calefaccion_electric         1382 non-null   float64\n",
            " 14  calefaccion_hot air          1382 non-null   float64\n",
            " 15  calefaccion_hot water/steam  1382 non-null   float64\n",
            " 16  consumo_calefacion_electric  1382 non-null   float64\n",
            " 17  consumo_calefacion_gas       1382 non-null   float64\n",
            " 18  consumo_calefacion_oil       1382 non-null   float64\n",
            " 19  desague_none                 1382 non-null   float64\n",
            " 20  desague_public/commercial    1382 non-null   float64\n",
            " 21  desague_septic               1382 non-null   float64\n",
            " 22  vistas_lago_No               1382 non-null   float64\n",
            " 23  vistas_lago_Yes              1382 non-null   float64\n",
            " 24  nueva_construccion_No        1382 non-null   float64\n",
            " 25  nueva_construccion_Yes       1382 non-null   float64\n",
            " 26  aire_acondicionado_No        1382 non-null   float64\n",
            " 27  aire_acondicionado_Yes       1382 non-null   float64\n",
            "dtypes: float64(28)\n",
            "memory usage: 302.4 KB\n"
          ]
        }
      ]
    },
    {
      "cell_type": "markdown",
      "source": [
        "**ColumnTransformer aplica las operaciones de forma paralela, no de forma secuencial, esto significa que no permite aplicar más de una transformación a una misma columna. En el caso de que sea necesario hacerlo, hay que recurrir a los pipeline, que también agrupan operaciones pero las ejecutan de forma secuencial, de forma que la salida de una operación es la entrada de la siguiente. Si se quieren aplicar varias transformaciones de preprocesado sobre una misma columna, es necesario agruparlas primero en un pipeline.**"
      ],
      "metadata": {
        "id": "9TqF6jZZIiWA"
      }
    },
    {
      "cell_type": "markdown",
      "source": [
        "**En el siguiente ejemplo se combinan las transformaciones:**\n",
        "\n",
        "- **Columnas numéricas:** se imputan los valores ausentes con la mediana y a continuación se procede a la estandarización.\n",
        "- **Columnas categóricas (cualitativas):** se imputan los valores ausentes con el valor más frecuente y a continuación se aplica OneHotEncoding."
      ],
      "metadata": {
        "id": "1qBK3dkqIkyo"
      }
    },
    {
      "cell_type": "code",
      "source": [
        "numeric_cols = X_train.select_dtypes(include=[\"float64\", \"int\"]).columns.to_list()\n",
        "cat_cols = X_train.select_dtypes(include=[\"object\", \"category\"]).columns.to_list()"
      ],
      "metadata": {
        "id": "_R2rHAHjIwun"
      },
      "execution_count": 57,
      "outputs": []
    },
    {
      "cell_type": "markdown",
      "source": [
        "### **Transformación para las variables numéricas**"
      ],
      "metadata": {
        "id": "16C8lPDLJNl6"
      }
    },
    {
      "cell_type": "code",
      "source": [
        "numeric_transformer = Pipeline(\n",
        "                        steps=[(\"imputer\", SimpleImputer(strategy=\"median\")),\n",
        "                               (\"scaler\", StandardScaler())])"
      ],
      "metadata": {
        "id": "_KF2UVoBJSnq"
      },
      "execution_count": 58,
      "outputs": []
    },
    {
      "cell_type": "markdown",
      "source": [
        "### **Transformación para las variables categóricas**"
      ],
      "metadata": {
        "id": "qsku-HZbJXoO"
      }
    },
    {
      "cell_type": "code",
      "source": [
        "categorical_transformer = Pipeline(\n",
        "                            steps=[(\"imputer\", SimpleImputer(strategy=\"most_frequent\")),\n",
        "                                   (\"onehot\", OneHotEncoder(handle_unknown=\"ignore\"))])"
      ],
      "metadata": {
        "id": "AlhoRW8RJckz"
      },
      "execution_count": 60,
      "outputs": []
    },
    {
      "cell_type": "markdown",
      "source": [
        "### **Preprocesamiento**"
      ],
      "metadata": {
        "id": "wGp_8LgpJ1Lk"
      }
    },
    {
      "cell_type": "code",
      "source": [
        "preprocesamiento = ColumnTransformer(\n",
        "                    transformers=[('numeric', numeric_transformer, numeric_cols),\n",
        "                                  ('cat', categorical_transformer, cat_cols)],\n",
        "                    remainder='passthrough')"
      ],
      "metadata": {
        "id": "7KDWWO8XJ4B1"
      },
      "execution_count": 61,
      "outputs": []
    },
    {
      "cell_type": "code",
      "source": [
        "X_train_prep = preprocesamiento.fit_transform(X_train)\n",
        "X_test_prep  = preprocesamiento.transform(X_test)"
      ],
      "metadata": {
        "id": "KQH3cN9zJ8Qt"
      },
      "execution_count": 62,
      "outputs": []
    },
    {
      "cell_type": "code",
      "source": [
        "encoded_cat = preprocesamiento.named_transformers_['cat']['onehot']\\\n",
        "              .get_feature_names_out(cat_cols)\n",
        "labels = np.concatenate([numeric_cols, encoded_cat])\n",
        "datos_train_prep = preprocesamiento.transform(X_train)\n",
        "datos_train_prep = pd.DataFrame(datos_train_prep, columns=labels)\n",
        "datos_train_prep.info()"
      ],
      "metadata": {
        "colab": {
          "base_uri": "https://localhost:8080/"
        },
        "id": "cAhZB19DJ_3A",
        "outputId": "89b87bcd-f209-49e4-fb74-180cc2f0e4b0"
      },
      "execution_count": 64,
      "outputs": [
        {
          "output_type": "stream",
          "name": "stdout",
          "text": [
            "<class 'pandas.core.frame.DataFrame'>\n",
            "RangeIndex: 1382 entries, 0 to 1381\n",
            "Data columns (total 28 columns):\n",
            " #   Column                       Non-Null Count  Dtype  \n",
            "---  ------                       --------------  -----  \n",
            " 0   metros_totales               1382 non-null   float64\n",
            " 1   antiguedad                   1382 non-null   float64\n",
            " 2   precio_terreno               1382 non-null   float64\n",
            " 3   metros_habitables            1382 non-null   float64\n",
            " 4   universitarios               1382 non-null   float64\n",
            " 5   dormitorios                  1382 non-null   float64\n",
            " 6   baños                        1382 non-null   float64\n",
            " 7   habitaciones                 1382 non-null   float64\n",
            " 8   chimenea_0                   1382 non-null   float64\n",
            " 9   chimenea_1                   1382 non-null   float64\n",
            " 10  chimenea_2                   1382 non-null   float64\n",
            " 11  chimenea_3                   1382 non-null   float64\n",
            " 12  chimenea_4                   1382 non-null   float64\n",
            " 13  calefaccion_electric         1382 non-null   float64\n",
            " 14  calefaccion_hot air          1382 non-null   float64\n",
            " 15  calefaccion_hot water/steam  1382 non-null   float64\n",
            " 16  consumo_calefacion_electric  1382 non-null   float64\n",
            " 17  consumo_calefacion_gas       1382 non-null   float64\n",
            " 18  consumo_calefacion_oil       1382 non-null   float64\n",
            " 19  desague_none                 1382 non-null   float64\n",
            " 20  desague_public/commercial    1382 non-null   float64\n",
            " 21  desague_septic               1382 non-null   float64\n",
            " 22  vistas_lago_No               1382 non-null   float64\n",
            " 23  vistas_lago_Yes              1382 non-null   float64\n",
            " 24  nueva_construccion_No        1382 non-null   float64\n",
            " 25  nueva_construccion_Yes       1382 non-null   float64\n",
            " 26  aire_acondicionado_No        1382 non-null   float64\n",
            " 27  aire_acondicionado_Yes       1382 non-null   float64\n",
            "dtypes: float64(28)\n",
            "memory usage: 302.4 KB\n"
          ]
        }
      ]
    },
    {
      "cell_type": "markdown",
      "source": [
        "### **Pipeline**"
      ],
      "metadata": {
        "id": "Q9NangerKQZJ"
      }
    },
    {
      "cell_type": "markdown",
      "source": [
        "**A partir de las versión scikit-learn 0.23 se puede crear una representación interactiva de un objeto pipeline.**\n"
      ],
      "metadata": {
        "id": "PRP_i18IKS3q"
      }
    },
    {
      "cell_type": "code",
      "source": [
        "sklearn.__version__"
      ],
      "metadata": {
        "colab": {
          "base_uri": "https://localhost:8080/",
          "height": 37
        },
        "id": "CTEvaPxCKYRa",
        "outputId": "24610a73-5b0f-4eba-cd9c-0eae8be61395"
      },
      "execution_count": 65,
      "outputs": [
        {
          "output_type": "execute_result",
          "data": {
            "text/plain": [
              "'1.0.2'"
            ],
            "application/vnd.google.colaboratory.intrinsic+json": {
              "type": "string"
            }
          },
          "metadata": {},
          "execution_count": 65
        }
      ]
    },
    {
      "cell_type": "code",
      "source": [
        "from sklearn import set_config\n",
        "set_config(display='diagram')\n",
        "\n",
        "preprocesamiento"
      ],
      "metadata": {
        "colab": {
          "base_uri": "https://localhost:8080/",
          "height": 149
        },
        "id": "VgC7wXTxKiKA",
        "outputId": "59ade238-9fbd-4b4d-926b-ceeeff369b62"
      },
      "execution_count": 66,
      "outputs": [
        {
          "output_type": "execute_result",
          "data": {
            "text/plain": [
              "ColumnTransformer(remainder='passthrough',\n",
              "                  transformers=[('numeric',\n",
              "                                 Pipeline(steps=[('imputer',\n",
              "                                                  SimpleImputer(strategy='median')),\n",
              "                                                 ('scaler', StandardScaler())]),\n",
              "                                 ['metros_totales', 'antiguedad',\n",
              "                                  'precio_terreno', 'metros_habitables',\n",
              "                                  'universitarios', 'dormitorios', 'baños',\n",
              "                                  'habitaciones']),\n",
              "                                ('cat',\n",
              "                                 Pipeline(steps=[('imputer',\n",
              "                                                  SimpleImputer(strategy='most_frequent')),\n",
              "                                                 ('onehot',\n",
              "                                                  OneHotEncoder(handle_unknown='ignore'))]),\n",
              "                                 ['chimenea', 'calefaccion',\n",
              "                                  'consumo_calefacion', 'desague',\n",
              "                                  'vistas_lago', 'nueva_construccion',\n",
              "                                  'aire_acondicionado'])])"
            ],
            "text/html": [
              "<style>#sk-e23bf981-746a-4f3d-b115-f8ddbc5e49e2 {color: black;background-color: white;}#sk-e23bf981-746a-4f3d-b115-f8ddbc5e49e2 pre{padding: 0;}#sk-e23bf981-746a-4f3d-b115-f8ddbc5e49e2 div.sk-toggleable {background-color: white;}#sk-e23bf981-746a-4f3d-b115-f8ddbc5e49e2 label.sk-toggleable__label {cursor: pointer;display: block;width: 100%;margin-bottom: 0;padding: 0.3em;box-sizing: border-box;text-align: center;}#sk-e23bf981-746a-4f3d-b115-f8ddbc5e49e2 label.sk-toggleable__label-arrow:before {content: \"▸\";float: left;margin-right: 0.25em;color: #696969;}#sk-e23bf981-746a-4f3d-b115-f8ddbc5e49e2 label.sk-toggleable__label-arrow:hover:before {color: black;}#sk-e23bf981-746a-4f3d-b115-f8ddbc5e49e2 div.sk-estimator:hover label.sk-toggleable__label-arrow:before {color: black;}#sk-e23bf981-746a-4f3d-b115-f8ddbc5e49e2 div.sk-toggleable__content {max-height: 0;max-width: 0;overflow: hidden;text-align: left;background-color: #f0f8ff;}#sk-e23bf981-746a-4f3d-b115-f8ddbc5e49e2 div.sk-toggleable__content pre {margin: 0.2em;color: black;border-radius: 0.25em;background-color: #f0f8ff;}#sk-e23bf981-746a-4f3d-b115-f8ddbc5e49e2 input.sk-toggleable__control:checked~div.sk-toggleable__content {max-height: 200px;max-width: 100%;overflow: auto;}#sk-e23bf981-746a-4f3d-b115-f8ddbc5e49e2 input.sk-toggleable__control:checked~label.sk-toggleable__label-arrow:before {content: \"▾\";}#sk-e23bf981-746a-4f3d-b115-f8ddbc5e49e2 div.sk-estimator input.sk-toggleable__control:checked~label.sk-toggleable__label {background-color: #d4ebff;}#sk-e23bf981-746a-4f3d-b115-f8ddbc5e49e2 div.sk-label input.sk-toggleable__control:checked~label.sk-toggleable__label {background-color: #d4ebff;}#sk-e23bf981-746a-4f3d-b115-f8ddbc5e49e2 input.sk-hidden--visually {border: 0;clip: rect(1px 1px 1px 1px);clip: rect(1px, 1px, 1px, 1px);height: 1px;margin: -1px;overflow: hidden;padding: 0;position: absolute;width: 1px;}#sk-e23bf981-746a-4f3d-b115-f8ddbc5e49e2 div.sk-estimator {font-family: monospace;background-color: #f0f8ff;border: 1px dotted black;border-radius: 0.25em;box-sizing: border-box;margin-bottom: 0.5em;}#sk-e23bf981-746a-4f3d-b115-f8ddbc5e49e2 div.sk-estimator:hover {background-color: #d4ebff;}#sk-e23bf981-746a-4f3d-b115-f8ddbc5e49e2 div.sk-parallel-item::after {content: \"\";width: 100%;border-bottom: 1px solid gray;flex-grow: 1;}#sk-e23bf981-746a-4f3d-b115-f8ddbc5e49e2 div.sk-label:hover label.sk-toggleable__label {background-color: #d4ebff;}#sk-e23bf981-746a-4f3d-b115-f8ddbc5e49e2 div.sk-serial::before {content: \"\";position: absolute;border-left: 1px solid gray;box-sizing: border-box;top: 2em;bottom: 0;left: 50%;}#sk-e23bf981-746a-4f3d-b115-f8ddbc5e49e2 div.sk-serial {display: flex;flex-direction: column;align-items: center;background-color: white;padding-right: 0.2em;padding-left: 0.2em;}#sk-e23bf981-746a-4f3d-b115-f8ddbc5e49e2 div.sk-item {z-index: 1;}#sk-e23bf981-746a-4f3d-b115-f8ddbc5e49e2 div.sk-parallel {display: flex;align-items: stretch;justify-content: center;background-color: white;}#sk-e23bf981-746a-4f3d-b115-f8ddbc5e49e2 div.sk-parallel::before {content: \"\";position: absolute;border-left: 1px solid gray;box-sizing: border-box;top: 2em;bottom: 0;left: 50%;}#sk-e23bf981-746a-4f3d-b115-f8ddbc5e49e2 div.sk-parallel-item {display: flex;flex-direction: column;position: relative;background-color: white;}#sk-e23bf981-746a-4f3d-b115-f8ddbc5e49e2 div.sk-parallel-item:first-child::after {align-self: flex-end;width: 50%;}#sk-e23bf981-746a-4f3d-b115-f8ddbc5e49e2 div.sk-parallel-item:last-child::after {align-self: flex-start;width: 50%;}#sk-e23bf981-746a-4f3d-b115-f8ddbc5e49e2 div.sk-parallel-item:only-child::after {width: 0;}#sk-e23bf981-746a-4f3d-b115-f8ddbc5e49e2 div.sk-dashed-wrapped {border: 1px dashed gray;margin: 0 0.4em 0.5em 0.4em;box-sizing: border-box;padding-bottom: 0.4em;background-color: white;position: relative;}#sk-e23bf981-746a-4f3d-b115-f8ddbc5e49e2 div.sk-label label {font-family: monospace;font-weight: bold;background-color: white;display: inline-block;line-height: 1.2em;}#sk-e23bf981-746a-4f3d-b115-f8ddbc5e49e2 div.sk-label-container {position: relative;z-index: 2;text-align: center;}#sk-e23bf981-746a-4f3d-b115-f8ddbc5e49e2 div.sk-container {/* jupyter's `normalize.less` sets `[hidden] { display: none; }` but bootstrap.min.css set `[hidden] { display: none !important; }` so we also need the `!important` here to be able to override the default hidden behavior on the sphinx rendered scikit-learn.org. See: https://github.com/scikit-learn/scikit-learn/issues/21755 */display: inline-block !important;position: relative;}#sk-e23bf981-746a-4f3d-b115-f8ddbc5e49e2 div.sk-text-repr-fallback {display: none;}</style><div id=\"sk-e23bf981-746a-4f3d-b115-f8ddbc5e49e2\" class=\"sk-top-container\"><div class=\"sk-text-repr-fallback\"><pre>ColumnTransformer(remainder=&#x27;passthrough&#x27;,\n",
              "                  transformers=[(&#x27;numeric&#x27;,\n",
              "                                 Pipeline(steps=[(&#x27;imputer&#x27;,\n",
              "                                                  SimpleImputer(strategy=&#x27;median&#x27;)),\n",
              "                                                 (&#x27;scaler&#x27;, StandardScaler())]),\n",
              "                                 [&#x27;metros_totales&#x27;, &#x27;antiguedad&#x27;,\n",
              "                                  &#x27;precio_terreno&#x27;, &#x27;metros_habitables&#x27;,\n",
              "                                  &#x27;universitarios&#x27;, &#x27;dormitorios&#x27;, &#x27;baños&#x27;,\n",
              "                                  &#x27;habitaciones&#x27;]),\n",
              "                                (&#x27;cat&#x27;,\n",
              "                                 Pipeline(steps=[(&#x27;imputer&#x27;,\n",
              "                                                  SimpleImputer(strategy=&#x27;most_frequent&#x27;)),\n",
              "                                                 (&#x27;onehot&#x27;,\n",
              "                                                  OneHotEncoder(handle_unknown=&#x27;ignore&#x27;))]),\n",
              "                                 [&#x27;chimenea&#x27;, &#x27;calefaccion&#x27;,\n",
              "                                  &#x27;consumo_calefacion&#x27;, &#x27;desague&#x27;,\n",
              "                                  &#x27;vistas_lago&#x27;, &#x27;nueva_construccion&#x27;,\n",
              "                                  &#x27;aire_acondicionado&#x27;])])</pre><b>Please rerun this cell to show the HTML repr or trust the notebook.</b></div><div class=\"sk-container\" hidden><div class=\"sk-item sk-dashed-wrapped\"><div class=\"sk-label-container\"><div class=\"sk-label sk-toggleable\"><input class=\"sk-toggleable__control sk-hidden--visually\" id=\"497811d9-48f3-42d3-8f8f-017bf67ac1cf\" type=\"checkbox\" ><label for=\"497811d9-48f3-42d3-8f8f-017bf67ac1cf\" class=\"sk-toggleable__label sk-toggleable__label-arrow\">ColumnTransformer</label><div class=\"sk-toggleable__content\"><pre>ColumnTransformer(remainder=&#x27;passthrough&#x27;,\n",
              "                  transformers=[(&#x27;numeric&#x27;,\n",
              "                                 Pipeline(steps=[(&#x27;imputer&#x27;,\n",
              "                                                  SimpleImputer(strategy=&#x27;median&#x27;)),\n",
              "                                                 (&#x27;scaler&#x27;, StandardScaler())]),\n",
              "                                 [&#x27;metros_totales&#x27;, &#x27;antiguedad&#x27;,\n",
              "                                  &#x27;precio_terreno&#x27;, &#x27;metros_habitables&#x27;,\n",
              "                                  &#x27;universitarios&#x27;, &#x27;dormitorios&#x27;, &#x27;baños&#x27;,\n",
              "                                  &#x27;habitaciones&#x27;]),\n",
              "                                (&#x27;cat&#x27;,\n",
              "                                 Pipeline(steps=[(&#x27;imputer&#x27;,\n",
              "                                                  SimpleImputer(strategy=&#x27;most_frequent&#x27;)),\n",
              "                                                 (&#x27;onehot&#x27;,\n",
              "                                                  OneHotEncoder(handle_unknown=&#x27;ignore&#x27;))]),\n",
              "                                 [&#x27;chimenea&#x27;, &#x27;calefaccion&#x27;,\n",
              "                                  &#x27;consumo_calefacion&#x27;, &#x27;desague&#x27;,\n",
              "                                  &#x27;vistas_lago&#x27;, &#x27;nueva_construccion&#x27;,\n",
              "                                  &#x27;aire_acondicionado&#x27;])])</pre></div></div></div><div class=\"sk-parallel\"><div class=\"sk-parallel-item\"><div class=\"sk-item\"><div class=\"sk-label-container\"><div class=\"sk-label sk-toggleable\"><input class=\"sk-toggleable__control sk-hidden--visually\" id=\"809e2237-3ba3-4662-ac25-763511b91d0b\" type=\"checkbox\" ><label for=\"809e2237-3ba3-4662-ac25-763511b91d0b\" class=\"sk-toggleable__label sk-toggleable__label-arrow\">numeric</label><div class=\"sk-toggleable__content\"><pre>[&#x27;metros_totales&#x27;, &#x27;antiguedad&#x27;, &#x27;precio_terreno&#x27;, &#x27;metros_habitables&#x27;, &#x27;universitarios&#x27;, &#x27;dormitorios&#x27;, &#x27;baños&#x27;, &#x27;habitaciones&#x27;]</pre></div></div></div><div class=\"sk-serial\"><div class=\"sk-item\"><div class=\"sk-serial\"><div class=\"sk-item\"><div class=\"sk-estimator sk-toggleable\"><input class=\"sk-toggleable__control sk-hidden--visually\" id=\"7cb8e764-22fa-460a-b1a9-f93dc9249317\" type=\"checkbox\" ><label for=\"7cb8e764-22fa-460a-b1a9-f93dc9249317\" class=\"sk-toggleable__label sk-toggleable__label-arrow\">SimpleImputer</label><div class=\"sk-toggleable__content\"><pre>SimpleImputer(strategy=&#x27;median&#x27;)</pre></div></div></div><div class=\"sk-item\"><div class=\"sk-estimator sk-toggleable\"><input class=\"sk-toggleable__control sk-hidden--visually\" id=\"24b3f390-b937-4768-9f9d-d86eb928d566\" type=\"checkbox\" ><label for=\"24b3f390-b937-4768-9f9d-d86eb928d566\" class=\"sk-toggleable__label sk-toggleable__label-arrow\">StandardScaler</label><div class=\"sk-toggleable__content\"><pre>StandardScaler()</pre></div></div></div></div></div></div></div></div><div class=\"sk-parallel-item\"><div class=\"sk-item\"><div class=\"sk-label-container\"><div class=\"sk-label sk-toggleable\"><input class=\"sk-toggleable__control sk-hidden--visually\" id=\"54be3172-8816-4c99-91f8-f8935c3bbc6e\" type=\"checkbox\" ><label for=\"54be3172-8816-4c99-91f8-f8935c3bbc6e\" class=\"sk-toggleable__label sk-toggleable__label-arrow\">cat</label><div class=\"sk-toggleable__content\"><pre>[&#x27;chimenea&#x27;, &#x27;calefaccion&#x27;, &#x27;consumo_calefacion&#x27;, &#x27;desague&#x27;, &#x27;vistas_lago&#x27;, &#x27;nueva_construccion&#x27;, &#x27;aire_acondicionado&#x27;]</pre></div></div></div><div class=\"sk-serial\"><div class=\"sk-item\"><div class=\"sk-serial\"><div class=\"sk-item\"><div class=\"sk-estimator sk-toggleable\"><input class=\"sk-toggleable__control sk-hidden--visually\" id=\"6a71de3b-eec5-493b-90ba-77e25920c815\" type=\"checkbox\" ><label for=\"6a71de3b-eec5-493b-90ba-77e25920c815\" class=\"sk-toggleable__label sk-toggleable__label-arrow\">SimpleImputer</label><div class=\"sk-toggleable__content\"><pre>SimpleImputer(strategy=&#x27;most_frequent&#x27;)</pre></div></div></div><div class=\"sk-item\"><div class=\"sk-estimator sk-toggleable\"><input class=\"sk-toggleable__control sk-hidden--visually\" id=\"dab05b8c-d637-449b-af6a-5e0c5f32b9e1\" type=\"checkbox\" ><label for=\"dab05b8c-d637-449b-af6a-5e0c5f32b9e1\" class=\"sk-toggleable__label sk-toggleable__label-arrow\">OneHotEncoder</label><div class=\"sk-toggleable__content\"><pre>OneHotEncoder(handle_unknown=&#x27;ignore&#x27;)</pre></div></div></div></div></div></div></div></div><div class=\"sk-parallel-item\"><div class=\"sk-item\"><div class=\"sk-label-container\"><div class=\"sk-label sk-toggleable\"><input class=\"sk-toggleable__control sk-hidden--visually\" id=\"c6fa15e1-623d-48c4-b147-6fdd1aae5cac\" type=\"checkbox\" ><label for=\"c6fa15e1-623d-48c4-b147-6fdd1aae5cac\" class=\"sk-toggleable__label sk-toggleable__label-arrow\">remainder</label><div class=\"sk-toggleable__content\"><pre>[]</pre></div></div></div><div class=\"sk-serial\"><div class=\"sk-item\"><div class=\"sk-estimator sk-toggleable\"><input class=\"sk-toggleable__control sk-hidden--visually\" id=\"e3779a73-4b2c-439f-9ed3-838b0fc891c1\" type=\"checkbox\" ><label for=\"e3779a73-4b2c-439f-9ed3-838b0fc891c1\" class=\"sk-toggleable__label sk-toggleable__label-arrow\">passthrough</label><div class=\"sk-toggleable__content\"><pre>passthrough</pre></div></div></div></div></div></div></div></div></div></div>"
            ]
          },
          "metadata": {},
          "execution_count": 66
        }
      ]
    }
  ]
}