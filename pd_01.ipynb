{
  "cells": [
    {
      "cell_type": "markdown",
      "metadata": {
        "id": "view-in-github",
        "colab_type": "text"
      },
      "source": [
        "<a href=\"https://colab.research.google.com/github/cristiandarioortegayubro/BA/blob/main/pd_01.ipynb\" target=\"_parent\"><img src=\"https://colab.research.google.com/assets/colab-badge.svg\" alt=\"Open In Colab\"/></a>"
      ]
    },
    {
      "cell_type": "markdown",
      "id": "acddaa8a-3105-45e9-b94a-09ed3fdf1a99",
      "metadata": {
        "id": "acddaa8a-3105-45e9-b94a-09ed3fdf1a99"
      },
      "source": [
        "![logo](https://github.com/cristiandarioortegayubro/BA/blob/main/dba.png?raw=true)"
      ]
    },
    {
      "cell_type": "markdown",
      "id": "cbeee328-f828-46ad-87a8-303ec7ebbb02",
      "metadata": {
        "id": "cbeee328-f828-46ad-87a8-303ec7ebbb02"
      },
      "source": [
        "![pandas](https://upload.wikimedia.org/wikipedia/commons/thumb/e/ed/Pandas_logo.svg/250px-Pandas_logo.svg.png)"
      ]
    },
    {
      "cell_type": "markdown",
      "id": "0d29d006-c589-4e89-9b14-06f66f76b4b4",
      "metadata": {
        "id": "0d29d006-c589-4e89-9b14-06f66f76b4b4"
      },
      "source": [
        "**En este cuaderno comenzaremos a desarrollar los temás más usuales y utilizados del módulo Pandas, pero previo a ello, un breve contenido teórico de lo que es Análisis de Datos...**"
      ]
    },
    {
      "cell_type": "markdown",
      "id": "b0914025-ef0e-4a3a-a70f-af29c7f6b49a",
      "metadata": {
        "id": "b0914025-ef0e-4a3a-a70f-af29c7f6b49a"
      },
      "source": [
        "## **Breve contenido teórico...**"
      ]
    },
    {
      "cell_type": "markdown",
      "id": "fb87af26-bc20-4e96-9b7d-4be618c30c8e",
      "metadata": {
        "id": "fb87af26-bc20-4e96-9b7d-4be618c30c8e"
      },
      "source": [
        "### ***Fundamentos del análisis de datos...***"
      ]
    },
    {
      "cell_type": "markdown",
      "id": "c7f3f037-775a-47ed-bae4-740601c454ae",
      "metadata": {
        "id": "c7f3f037-775a-47ed-bae4-740601c454ae"
      },
      "source": [
        "***El análisis de datos es un proceso iterativo que implica:***\n",
        "+ ***la recopilación de los datos,*** \n",
        "+ ***la preparación*** \n",
        "+ ***el análisis exploratorio de datos (EDA) y*** \n",
        "+ ***la obtención de conclusiones***"
      ]
    },
    {
      "cell_type": "markdown",
      "id": "e711d350-e3ff-4da5-95ee-016297950b09",
      "metadata": {
        "id": "e711d350-e3ff-4da5-95ee-016297950b09"
      },
      "source": [
        "#### ***Recopilación de los datos...*** "
      ]
    },
    {
      "cell_type": "markdown",
      "id": "bf3c96e2-08f9-4a52-87b4-bc898f2c3adf",
      "metadata": {
        "id": "bf3c96e2-08f9-4a52-87b4-bc898f2c3adf"
      },
      "source": [
        "***La recopilación de datos es el primer paso natural para cualquier análisis de datos: no podemos analizar datos que no tenemos. En realidad, nuestro análisis puede comenzar incluso antes de que tengamos los datos. Cuando decidimos qué queremos investigar o analizar, tenemos que pensar en qué tipo de datos podemos recopilar que serán útiles para nuestro análisis.***"
      ]
    },
    {
      "cell_type": "markdown",
      "id": "de1eea02-cfab-46a4-8d3f-eb95f231b959",
      "metadata": {
        "id": "de1eea02-cfab-46a4-8d3f-eb95f231b959"
      },
      "source": [
        "#### ***Preparación de los datos... Data Wrangling...***"
      ]
    },
    {
      "cell_type": "markdown",
      "id": "7da1d514-6f6c-4f77-a6c8-5f3da10e5897",
      "metadata": {
        "id": "7da1d514-6f6c-4f77-a6c8-5f3da10e5897"
      },
      "source": [
        "***La preparación de los datos es el proceso de preparar los datos y ponerlos en un formato que se pueda utilizar para el análisis. La desafortunada realidad de los datos es que a menudo están sucios, lo que significa que requieren limpieza (preparación) antes de que puedan usarse.***\n",
        "\n",
        "***La mayoría de estos problemas de calidad de los datos se pueden remediar, pero algunos no, como por ejemplo cuando los datos se recopilan diariamente y los necesitamos en una resolución por hora. Es nuestra responsabilidad examinar cuidadosamente los datos y manejar cualquier problema para que nuestro análisis no se distorsione.***\n",
        "\n",
        "***Una vez que hemos realizado una limpieza inicial de los datos, estamos listos para el análisis exploratorio de los datos***"
      ]
    },
    {
      "cell_type": "markdown",
      "id": "f6b20200-b226-4fa8-a7fe-247c62e8cb06",
      "metadata": {
        "id": "f6b20200-b226-4fa8-a7fe-247c62e8cb06"
      },
      "source": [
        "#### ***Análisis exploratorio de los datos...***"
      ]
    },
    {
      "cell_type": "markdown",
      "id": "258ebcb7-0090-45dd-95aa-0ae7e0854478",
      "metadata": {
        "id": "258ebcb7-0090-45dd-95aa-0ae7e0854478"
      },
      "source": [
        "***Durante el análisis exploratorio de los datos, utilizamos visualizaciones y estadísticas resumidas para obtener una mejor comprensión de los mismos. Dado que el cerebro humano sobresale en la selección de patrones visuales, la visualización de datos es esencial para cualquier análisis. De hecho, algunas características de los datos solo se pueden observar en una gráfica. Dependiendo de nuestros datos, podemos crear gráficos para ver cómo ha evolucionado una variable de interés a lo largo del tiempo, encontrar valores atípicos, observar distribuciones de variables continuas y discretas, y mucho más...***"
      ]
    },
    {
      "cell_type": "markdown",
      "id": "02c96cb9-f644-4e62-a58b-727d258fcaac",
      "metadata": {
        "id": "02c96cb9-f644-4e62-a58b-727d258fcaac"
      },
      "source": [
        "#### ***Obtención de conclusiones...***"
      ]
    },
    {
      "cell_type": "markdown",
      "id": "3ed9d65f-25b9-41a6-a10f-d8fd81384994",
      "metadata": {
        "id": "3ed9d65f-25b9-41a6-a10f-d8fd81384994"
      },
      "source": [
        "***Después de haber recopilado los datos para nuestro análisis, haberlos limpiado y realizado un análisis exploratorio de los datos completo, es hora de sacar conclusiones. Aquí es donde resumimos los hallazgos en el análisis exploratorio de los datos y decidimos los próximos pasos:***"
      ]
    },
    {
      "cell_type": "markdown",
      "id": "f351ce61-47b5-4ecc-ab48-d8616f9ba119",
      "metadata": {
        "id": "f351ce61-47b5-4ecc-ab48-d8616f9ba119"
      },
      "source": [
        "+ *¿Notamos algún patrón o relación al visualizar los datos?*\n",
        "+ *¿Parece que podemos hacer predicciones precisas a partir de nuestros datos?* \n",
        "+ *¿Tiene sentido pasar al modelado de los datos?*\n",
        "+ *¿Deberíamos manejar los datos faltantes? ¿Cómo?*\n",
        "+ *¿Cómo se distribuyen los datos?*\n",
        "+ *¿Los datos nos ayudan a responder a las preguntas que tenemos o nos dan una idea del problema que estamos investigando?*\n",
        "+ *¿Necesitamos recopilar datos nuevos o adicionales?*"
      ]
    },
    {
      "cell_type": "markdown",
      "id": "333ac904-56fb-4c47-a590-1189af9c7ad6",
      "metadata": {
        "id": "333ac904-56fb-4c47-a590-1189af9c7ad6"
      },
      "source": [
        "### ***Fundamentos estadísticos...***"
      ]
    },
    {
      "cell_type": "markdown",
      "id": "ccfb1c86-d096-4308-8b2c-438959fb37e6",
      "metadata": {
        "id": "ccfb1c86-d096-4308-8b2c-438959fb37e6"
      },
      "source": [
        "***Cuando queremos hacer observaciones sobre los datos que estamos analizando, a menudo, si no siempre, se recurre a las estadísticas de alguna manera. Los datos que tenemos se conocen como la muestra, que se observó a partir de (y es un subconjunto de) la población.***\n",
        "\n",
        "***Dos grandes categorías de estadísticas son:*** \n",
        "\n",
        "+ Las estadísticas descriptivas.\n",
        "+ Las estadísticas inferenciales. \n",
        "\n",
        "***Con la estadística descriptiva, como su nombre lo indica, estamos buscando describir la muestra. La estadística inferencial implica el uso de las estadísticas de la muestra para inferir, o deducir, algo sobre la población, como la distribución subyacente...***"
      ]
    },
    {
      "cell_type": "markdown",
      "id": "953a2ca8-4165-4c36-9de0-d4236a25b372",
      "metadata": {
        "id": "953a2ca8-4165-4c36-9de0-d4236a25b372"
      },
      "source": [
        "***Por lo tanto, las estadísticas de las muestras se utilizan como estimadores de los parámetros de la población, lo que significa que tenemos que cuantificar su sesgo y varianza. Hay una multitud de métodos para esto; algunos harán suposiciones sobre la forma de la distribución (paramétrica) y otros no (no paramétrica)***"
      ]
    },
    {
      "cell_type": "markdown",
      "id": "5be441bd-7d7a-4b75-a3b0-59aa17be1fa6",
      "metadata": {
        "id": "5be441bd-7d7a-4b75-a3b0-59aa17be1fa6"
      },
      "source": [
        "## **Ahora si, arrancando con Pandas...**"
      ]
    },
    {
      "cell_type": "markdown",
      "id": "13b693cc-4bff-4927-8b08-63c3e8dd9442",
      "metadata": {
        "id": "13b693cc-4bff-4927-8b08-63c3e8dd9442"
      },
      "source": [
        "https://pandas.pydata.org/docs/user_guide/index.html"
      ]
    },
    {
      "cell_type": "markdown",
      "id": "bacba704-0b7c-4f06-8782-2813a8fc6c00",
      "metadata": {
        "id": "bacba704-0b7c-4f06-8782-2813a8fc6c00"
      },
      "source": [
        "### **Carga de módulos necesarios**"
      ]
    },
    {
      "cell_type": "code",
      "execution_count": 1,
      "id": "79c4004e-1acc-431f-8f3c-e799a635db14",
      "metadata": {
        "id": "79c4004e-1acc-431f-8f3c-e799a635db14"
      },
      "outputs": [],
      "source": [
        "import pandas as pd\n",
        "import numpy as np"
      ]
    },
    {
      "cell_type": "markdown",
      "id": "0cea3665-71eb-41f8-96f0-c382ce8449a2",
      "metadata": {
        "id": "0cea3665-71eb-41f8-96f0-c382ce8449a2"
      },
      "source": [
        "### **Estructuras de datos**"
      ]
    },
    {
      "cell_type": "markdown",
      "id": "0e9261d3-3a06-467e-8984-b3197e7bfdca",
      "metadata": {
        "id": "0e9261d3-3a06-467e-8984-b3197e7bfdca"
      },
      "source": [
        "**Para comprender las estructuras de datos de Pandas, primero debemos echar un vistazo a NumPy...**"
      ]
    },
    {
      "cell_type": "markdown",
      "id": "43d06425-6220-43fe-a5bd-8b47cd610140",
      "metadata": {
        "id": "43d06425-6220-43fe-a5bd-8b47cd610140"
      },
      "source": [
        "***Numpy incorpora una nueva clase de objetos llamados arrays que permite representar colecciones de datos de un mismo tipo en varias dimensiones, y funciones muy eficientes para su manipulación, así tendremos arrays de una dimensión, de dos dimensiones y de tres dimensiones***"
      ]
    },
    {
      "cell_type": "markdown",
      "id": "ba93d0a8-fc12-4070-99d8-a5dd0333365a",
      "metadata": {
        "id": "ba93d0a8-fc12-4070-99d8-a5dd0333365a"
      },
      "source": [
        "#### **Array de una dimensión**"
      ]
    },
    {
      "cell_type": "markdown",
      "id": "e4e99772-8bba-450f-b5a4-23e74401706f",
      "metadata": {
        "id": "e4e99772-8bba-450f-b5a4-23e74401706f"
      },
      "source": [
        "***Para una lista de valores se crea un array de una dimensión, también conocido como vector en Numpy..., en Pandas esto es una Serie, estructura de datos de una dimensión...***"
      ]
    },
    {
      "cell_type": "markdown",
      "id": "9831ae3f-402f-43ad-8e7a-6199c079ec73",
      "metadata": {
        "id": "9831ae3f-402f-43ad-8e7a-6199c079ec73"
      },
      "source": [
        "![Captura de Pantalla 2021-07-30 a la(s) 16.54.13.png](data:image/png;base64,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)"
      ]
    },
    {
      "cell_type": "markdown",
      "id": "1989201d-b37f-40e1-89f5-1b08560832d1",
      "metadata": {
        "id": "1989201d-b37f-40e1-89f5-1b08560832d1"
      },
      "source": [
        "#### **Array de dos dimensiones**"
      ]
    },
    {
      "cell_type": "markdown",
      "id": "70d8d62c-0d59-498b-a05e-9e3e3b5725b5",
      "metadata": {
        "id": "70d8d62c-0d59-498b-a05e-9e3e3b5725b5"
      },
      "source": [
        "***Para una lista de listas de valores se crea un array de dos dimensiones, también conocido como matriz en Numpy..., en Pandas esto es un DataFrame, estructura de datos de dos dimensiones...***"
      ]
    },
    {
      "cell_type": "markdown",
      "id": "e849182d-70d2-44c2-9316-7e3e6255ccf9",
      "metadata": {
        "id": "e849182d-70d2-44c2-9316-7e3e6255ccf9"
      },
      "source": [
        "![Captura de Pantalla 2021-07-30 a la(s) 16.54.22.png](data:image/png;base64,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)"
      ]
    },
    {
      "cell_type": "markdown",
      "id": "200e8051-03ef-429f-ad96-ee48435dc878",
      "metadata": {
        "id": "200e8051-03ef-429f-ad96-ee48435dc878"
      },
      "source": [
        "#### **Array de tres dimensiones**"
      ]
    },
    {
      "cell_type": "markdown",
      "id": "0c4f6510-bce8-49f2-aacf-a41fb78b3c6e",
      "metadata": {
        "id": "0c4f6510-bce8-49f2-aacf-a41fb78b3c6e"
      },
      "source": [
        "***Para una lista de listas de listas de valores se crea un array de tres dimensiones, también conocido como cubo en Numpy..., en Pandas esto se conoce como Panel de Datos, estructura de datos de tres dimensiones, la que da el nombre al módulo Pandas...***"
      ]
    },
    {
      "cell_type": "markdown",
      "id": "247e4e95-9a16-4b80-95b3-99d4e341dcfa",
      "metadata": {
        "id": "247e4e95-9a16-4b80-95b3-99d4e341dcfa"
      },
      "source": [
        "![Captura de Pantalla 2021-07-30 a la(s) 16.54.30.png](data:image/png;base64,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)"
      ]
    },
    {
      "cell_type": "markdown",
      "id": "55b88e99-8921-4ae0-a5d7-2d9b86e9b684",
      "metadata": {
        "id": "55b88e99-8921-4ae0-a5d7-2d9b86e9b684"
      },
      "source": [
        "### **Obtención de datos**"
      ]
    },
    {
      "cell_type": "markdown",
      "id": "88ad9d28-6dc2-411e-927e-91602d046e52",
      "metadata": {
        "id": "88ad9d28-6dc2-411e-927e-91602d046e52"
      },
      "source": [
        "**En esta oportunidad vamos a obtener datos de un CSV sin profundizar en ello, para poder desarrollar los primeros temas de Pandas. Oportunamente se desarrollaran con profundidad las distintas opciones para obtener datos...**"
      ]
    },
    {
      "cell_type": "code",
      "source": [
        "datos = \"https://raw.githubusercontent.com/cristiandarioortegayubro/BA/main/Datasets/Analisis_de_Facturas_de_Venta.csv\""
      ],
      "metadata": {
        "id": "GHXiKy06cQYl"
      },
      "id": "GHXiKy06cQYl",
      "execution_count": 2,
      "outputs": []
    },
    {
      "cell_type": "code",
      "execution_count": 3,
      "id": "ed1a736e-6f03-41d6-8ff9-3003995e8d04",
      "metadata": {
        "id": "ed1a736e-6f03-41d6-8ff9-3003995e8d04"
      },
      "outputs": [],
      "source": [
        "df = pd.read_csv(datos) # DataFrame\n",
        "s = df.CANTIDAD # Serie"
      ]
    },
    {
      "cell_type": "markdown",
      "id": "8909e5b1-89ce-4193-a3a1-6b0c333da4b9",
      "metadata": {
        "id": "8909e5b1-89ce-4193-a3a1-6b0c333da4b9"
      },
      "source": [
        "### **Series**"
      ]
    },
    {
      "cell_type": "markdown",
      "id": "9fff750a-25b7-4fc9-847e-0b665d4ebf8c",
      "metadata": {
        "id": "9fff750a-25b7-4fc9-847e-0b665d4ebf8c"
      },
      "source": [
        "Una serie es una matriz etiquetada unidimensional capaz de contener cualquier tipo de datos (enteros, decimales, cadenas de caracteres, etc.) pero la serie que se defina tiene el mismo tipo de dato en su contenido."
      ]
    },
    {
      "cell_type": "markdown",
      "id": "c0b743d9-0604-4eda-9dac-ade866b5ed6e",
      "metadata": {
        "id": "c0b743d9-0604-4eda-9dac-ade866b5ed6e"
      },
      "source": [
        "#### **Atributos de las Series (Propiedades)...**"
      ]
    },
    {
      "cell_type": "markdown",
      "id": "c0f48116-7365-4cd4-a7d3-e62669c24a79",
      "metadata": {
        "id": "c0f48116-7365-4cd4-a7d3-e62669c24a79"
      },
      "source": [
        "##### **Tipo de datos de la serie**"
      ]
    },
    {
      "cell_type": "code",
      "execution_count": 4,
      "id": "42f2b8dc-b553-4f46-bfe8-16ecb6c8b0ea",
      "metadata": {
        "id": "42f2b8dc-b553-4f46-bfe8-16ecb6c8b0ea",
        "outputId": "76b9181c-965f-46d4-8639-6ea4abb4dc05",
        "colab": {
          "base_uri": "https://localhost:8080/"
        }
      },
      "outputs": [
        {
          "output_type": "execute_result",
          "data": {
            "text/plain": [
              "0      50.0\n",
              "1       1.0\n",
              "2      30.0\n",
              "3      30.0\n",
              "4      50.0\n",
              "       ... \n",
              "154     5.0\n",
              "155     8.0\n",
              "156     8.0\n",
              "157    10.0\n",
              "158     8.0\n",
              "Name: CANTIDAD, Length: 159, dtype: float64"
            ]
          },
          "metadata": {},
          "execution_count": 4
        }
      ],
      "source": [
        "s"
      ]
    },
    {
      "cell_type": "code",
      "execution_count": 5,
      "id": "27a85219-c854-402b-887d-7c3b52e81904",
      "metadata": {
        "id": "27a85219-c854-402b-887d-7c3b52e81904",
        "outputId": "5c375438-0aa9-4ae0-dc2d-09c4c833083f",
        "colab": {
          "base_uri": "https://localhost:8080/"
        }
      },
      "outputs": [
        {
          "output_type": "execute_result",
          "data": {
            "text/plain": [
              "dtype('float64')"
            ]
          },
          "metadata": {},
          "execution_count": 5
        }
      ],
      "source": [
        "s.dtype"
      ]
    },
    {
      "cell_type": "markdown",
      "id": "2b8e3d32-1038-4f21-bb0f-ea8bdab0f380",
      "metadata": {
        "id": "2b8e3d32-1038-4f21-bb0f-ea8bdab0f380"
      },
      "source": [
        "##### **Index de la serie**"
      ]
    },
    {
      "cell_type": "code",
      "execution_count": 6,
      "id": "f99efc5e-3000-4b1b-80f9-46e26e629153",
      "metadata": {
        "id": "f99efc5e-3000-4b1b-80f9-46e26e629153",
        "outputId": "ee6dcbc8-cbc6-462c-c8e4-c60348c40a82",
        "colab": {
          "base_uri": "https://localhost:8080/"
        }
      },
      "outputs": [
        {
          "output_type": "execute_result",
          "data": {
            "text/plain": [
              "RangeIndex(start=0, stop=159, step=1)"
            ]
          },
          "metadata": {},
          "execution_count": 6
        }
      ],
      "source": [
        "s.index"
      ]
    },
    {
      "cell_type": "markdown",
      "id": "ae38aeba-e120-4d09-834a-308572e76f84",
      "metadata": {
        "id": "ae38aeba-e120-4d09-834a-308572e76f84"
      },
      "source": [
        "##### **Cantidad de elementos de la serie**"
      ]
    },
    {
      "cell_type": "code",
      "execution_count": 7,
      "id": "03d5f771-cf53-4577-9fad-a26addca1255",
      "metadata": {
        "id": "03d5f771-cf53-4577-9fad-a26addca1255",
        "outputId": "e6e5ae8a-5345-473d-ded1-9f27e8e9797c",
        "colab": {
          "base_uri": "https://localhost:8080/"
        }
      },
      "outputs": [
        {
          "output_type": "execute_result",
          "data": {
            "text/plain": [
              "(159,)"
            ]
          },
          "metadata": {},
          "execution_count": 7
        }
      ],
      "source": [
        "s.shape"
      ]
    },
    {
      "cell_type": "markdown",
      "id": "2848d6e2-fc88-453c-80b7-b7b1319ea012",
      "metadata": {
        "id": "2848d6e2-fc88-453c-80b7-b7b1319ea012"
      },
      "source": [
        "##### **Tamaño de la serie**"
      ]
    },
    {
      "cell_type": "code",
      "execution_count": 8,
      "id": "39ae5257-5559-4c41-9c89-aa4574a92cb0",
      "metadata": {
        "id": "39ae5257-5559-4c41-9c89-aa4574a92cb0",
        "outputId": "b71531ce-da29-45cb-e3b0-b07d66131d27",
        "colab": {
          "base_uri": "https://localhost:8080/"
        }
      },
      "outputs": [
        {
          "output_type": "execute_result",
          "data": {
            "text/plain": [
              "159"
            ]
          },
          "metadata": {},
          "execution_count": 8
        }
      ],
      "source": [
        "s.size"
      ]
    },
    {
      "cell_type": "markdown",
      "id": "b840c78c-40d6-476c-a0bb-5bbabfc3a379",
      "metadata": {
        "id": "b840c78c-40d6-476c-a0bb-5bbabfc3a379"
      },
      "source": [
        "**¿Tiene la serie valores nulos?**"
      ]
    },
    {
      "cell_type": "code",
      "execution_count": 9,
      "id": "c5bc432b-78ea-43bb-868b-2d22177c636b",
      "metadata": {
        "id": "c5bc432b-78ea-43bb-868b-2d22177c636b",
        "outputId": "dbd2ecde-ffd9-4a9a-f020-e5270f85e685",
        "colab": {
          "base_uri": "https://localhost:8080/"
        }
      },
      "outputs": [
        {
          "output_type": "execute_result",
          "data": {
            "text/plain": [
              "False"
            ]
          },
          "metadata": {},
          "execution_count": 9
        }
      ],
      "source": [
        "s.hasnans"
      ]
    },
    {
      "cell_type": "markdown",
      "id": "b3f6bbe4-afa8-4929-9d1e-5e9e9ce6c141",
      "metadata": {
        "id": "b3f6bbe4-afa8-4929-9d1e-5e9e9ce6c141"
      },
      "source": [
        "##### **¿Tiene la serie valores únicos?**"
      ]
    },
    {
      "cell_type": "code",
      "execution_count": 10,
      "id": "8e823450-8a11-411a-8d34-f5bd12b0dd61",
      "metadata": {
        "id": "8e823450-8a11-411a-8d34-f5bd12b0dd61",
        "outputId": "adffa365-bf2e-4e42-adbd-0139d4184b76",
        "colab": {
          "base_uri": "https://localhost:8080/"
        }
      },
      "outputs": [
        {
          "output_type": "execute_result",
          "data": {
            "text/plain": [
              "False"
            ]
          },
          "metadata": {},
          "execution_count": 10
        }
      ],
      "source": [
        "s.is_unique"
      ]
    },
    {
      "cell_type": "markdown",
      "id": "ef937999-8efa-4967-a421-e27b947b7176",
      "metadata": {
        "id": "ef937999-8efa-4967-a421-e27b947b7176"
      },
      "source": [
        "##### **Nombre de la serie**"
      ]
    },
    {
      "cell_type": "code",
      "execution_count": 11,
      "id": "feba4527-9341-49e9-b1b4-db4c18773a2b",
      "metadata": {
        "id": "feba4527-9341-49e9-b1b4-db4c18773a2b",
        "outputId": "cefd3890-79fd-4d19-c399-854634947806",
        "colab": {
          "base_uri": "https://localhost:8080/",
          "height": 37
        }
      },
      "outputs": [
        {
          "output_type": "execute_result",
          "data": {
            "text/plain": [
              "'CANTIDAD'"
            ],
            "application/vnd.google.colaboratory.intrinsic+json": {
              "type": "string"
            }
          },
          "metadata": {},
          "execution_count": 11
        }
      ],
      "source": [
        "s.name"
      ]
    },
    {
      "cell_type": "code",
      "execution_count": 12,
      "id": "8d34f752-c0cc-4271-93e7-c78172be86a7",
      "metadata": {
        "id": "8d34f752-c0cc-4271-93e7-c78172be86a7",
        "outputId": "193625c8-01f1-49cf-9d91-f45d3605d6dd",
        "colab": {
          "base_uri": "https://localhost:8080/"
        }
      },
      "outputs": [
        {
          "output_type": "stream",
          "name": "stdout",
          "text": [
            "CANTIDAD\n"
          ]
        }
      ],
      "source": [
        "print(s.name)"
      ]
    },
    {
      "cell_type": "markdown",
      "id": "42e19985-425f-4700-b9b8-a936e078f49f",
      "metadata": {
        "id": "42e19985-425f-4700-b9b8-a936e078f49f"
      },
      "source": [
        "##### **Dimensión de la serie**"
      ]
    },
    {
      "cell_type": "code",
      "execution_count": 13,
      "id": "fa2891b3-73da-4ca6-b749-c071ec2cf92a",
      "metadata": {
        "id": "fa2891b3-73da-4ca6-b749-c071ec2cf92a",
        "outputId": "8a59167e-3d72-48ae-90f6-920bdd172916",
        "colab": {
          "base_uri": "https://localhost:8080/"
        }
      },
      "outputs": [
        {
          "output_type": "execute_result",
          "data": {
            "text/plain": [
              "1"
            ]
          },
          "metadata": {},
          "execution_count": 13
        }
      ],
      "source": [
        "s.ndim"
      ]
    },
    {
      "cell_type": "markdown",
      "id": "6122022f-c203-4661-87ed-1b08d1623a3f",
      "metadata": {
        "id": "6122022f-c203-4661-87ed-1b08d1623a3f"
      },
      "source": [
        "#### **Funciones**"
      ]
    },
    {
      "cell_type": "markdown",
      "id": "197f4dd0-9ded-4e52-8c19-5d74c2ec4236",
      "metadata": {
        "id": "197f4dd0-9ded-4e52-8c19-5d74c2ec4236"
      },
      "source": [
        "##### **Contando los elementos de la serie**"
      ]
    },
    {
      "cell_type": "code",
      "execution_count": 14,
      "id": "b28a9974-225e-4bad-aa5a-b09987777069",
      "metadata": {
        "id": "b28a9974-225e-4bad-aa5a-b09987777069",
        "outputId": "24aaedd6-ecdf-40ec-9419-46f19620a05c",
        "colab": {
          "base_uri": "https://localhost:8080/"
        }
      },
      "outputs": [
        {
          "output_type": "execute_result",
          "data": {
            "text/plain": [
              "159"
            ]
          },
          "metadata": {},
          "execution_count": 14
        }
      ],
      "source": [
        "s.count()"
      ]
    },
    {
      "cell_type": "markdown",
      "id": "df8aa14c-7cba-4c61-adfb-d1f8d4193146",
      "metadata": {
        "id": "df8aa14c-7cba-4c61-adfb-d1f8d4193146"
      },
      "source": [
        "##### **Valor mínimo y valor máximo de la serie**"
      ]
    },
    {
      "cell_type": "code",
      "execution_count": 15,
      "id": "071f3f2b-cfcf-4742-95e2-820ce44a9c93",
      "metadata": {
        "id": "071f3f2b-cfcf-4742-95e2-820ce44a9c93",
        "outputId": "3ec8a3b6-db54-4797-8aad-7f3ea51b0acc",
        "colab": {
          "base_uri": "https://localhost:8080/"
        }
      },
      "outputs": [
        {
          "output_type": "execute_result",
          "data": {
            "text/plain": [
              "1.0"
            ]
          },
          "metadata": {},
          "execution_count": 15
        }
      ],
      "source": [
        "s.min()"
      ]
    },
    {
      "cell_type": "code",
      "execution_count": 16,
      "id": "1717b775-37ba-414c-ae44-1391d3d1d19d",
      "metadata": {
        "id": "1717b775-37ba-414c-ae44-1391d3d1d19d",
        "outputId": "6c68a53e-f58c-4d0a-f803-9d04022429e5",
        "colab": {
          "base_uri": "https://localhost:8080/"
        }
      },
      "outputs": [
        {
          "output_type": "execute_result",
          "data": {
            "text/plain": [
              "60.0"
            ]
          },
          "metadata": {},
          "execution_count": 16
        }
      ],
      "source": [
        "s.max()"
      ]
    },
    {
      "cell_type": "markdown",
      "id": "df3f0265-0648-45f4-b30f-fa89dbfe4270",
      "metadata": {
        "id": "df3f0265-0648-45f4-b30f-fa89dbfe4270"
      },
      "source": [
        "##### **Suma y suma acumulada de la serie**"
      ]
    },
    {
      "cell_type": "code",
      "execution_count": 17,
      "id": "f85698e0-6a66-4556-aeec-de9232d0c4a8",
      "metadata": {
        "id": "f85698e0-6a66-4556-aeec-de9232d0c4a8",
        "outputId": "8bb097be-9fe6-4bbb-ac0e-71baab22e66f",
        "colab": {
          "base_uri": "https://localhost:8080/"
        }
      },
      "outputs": [
        {
          "output_type": "execute_result",
          "data": {
            "text/plain": [
              "1174.0"
            ]
          },
          "metadata": {},
          "execution_count": 17
        }
      ],
      "source": [
        "s.sum()"
      ]
    },
    {
      "cell_type": "code",
      "execution_count": 18,
      "id": "a22c759a-73f7-4e70-b6ff-b7a787c62929",
      "metadata": {
        "id": "a22c759a-73f7-4e70-b6ff-b7a787c62929",
        "outputId": "5532163c-cb8c-46c7-ee29-7bd6caa871aa",
        "colab": {
          "base_uri": "https://localhost:8080/"
        }
      },
      "outputs": [
        {
          "output_type": "execute_result",
          "data": {
            "text/plain": [
              "0        50.0\n",
              "1        51.0\n",
              "2        81.0\n",
              "3       111.0\n",
              "4       161.0\n",
              "        ...  \n",
              "154    1140.0\n",
              "155    1148.0\n",
              "156    1156.0\n",
              "157    1166.0\n",
              "158    1174.0\n",
              "Name: CANTIDAD, Length: 159, dtype: float64"
            ]
          },
          "metadata": {},
          "execution_count": 18
        }
      ],
      "source": [
        "s.cumsum()"
      ]
    },
    {
      "cell_type": "markdown",
      "id": "9dd5870e-cc7c-478d-9ba6-bcd560cbc41c",
      "metadata": {
        "id": "9dd5870e-cc7c-478d-9ba6-bcd560cbc41c"
      },
      "source": [
        "##### **Media, mediana y desviación estándar**"
      ]
    },
    {
      "cell_type": "code",
      "execution_count": 19,
      "id": "bbc3f86b-615f-4b6e-a2e2-873e206e7865",
      "metadata": {
        "id": "bbc3f86b-615f-4b6e-a2e2-873e206e7865",
        "outputId": "2c150094-6f3e-4c42-bfee-8ee5b09db4a3",
        "colab": {
          "base_uri": "https://localhost:8080/"
        }
      },
      "outputs": [
        {
          "output_type": "execute_result",
          "data": {
            "text/plain": [
              "7.383647798742138"
            ]
          },
          "metadata": {},
          "execution_count": 19
        }
      ],
      "source": [
        "s.mean()"
      ]
    },
    {
      "cell_type": "code",
      "execution_count": 20,
      "id": "c7647457-f2eb-4abe-b32c-4b6d94a95bf0",
      "metadata": {
        "id": "c7647457-f2eb-4abe-b32c-4b6d94a95bf0",
        "outputId": "28658c60-9da5-4c34-a701-fb855806cf00",
        "colab": {
          "base_uri": "https://localhost:8080/"
        }
      },
      "outputs": [
        {
          "output_type": "execute_result",
          "data": {
            "text/plain": [
              "1.0"
            ]
          },
          "metadata": {},
          "execution_count": 20
        }
      ],
      "source": [
        "s.median()"
      ]
    },
    {
      "cell_type": "code",
      "execution_count": 21,
      "id": "ae12a7ca-aea9-4603-823a-de199b6bb74f",
      "metadata": {
        "id": "ae12a7ca-aea9-4603-823a-de199b6bb74f",
        "outputId": "71bbd249-7ebf-4b81-9691-352132c3e1da",
        "colab": {
          "base_uri": "https://localhost:8080/"
        }
      },
      "outputs": [
        {
          "output_type": "execute_result",
          "data": {
            "text/plain": [
              "11.455913702592428"
            ]
          },
          "metadata": {},
          "execution_count": 21
        }
      ],
      "source": [
        "s.std()"
      ]
    },
    {
      "cell_type": "markdown",
      "id": "dd34885d-d61b-404f-8889-df63522b8d69",
      "metadata": {
        "id": "dd34885d-d61b-404f-8889-df63522b8d69"
      },
      "source": [
        "##### **Resúmen de estadística descriptiva**"
      ]
    },
    {
      "cell_type": "code",
      "execution_count": 22,
      "id": "3e28ad53-8fa6-4d7e-a719-a29596064c17",
      "metadata": {
        "id": "3e28ad53-8fa6-4d7e-a719-a29596064c17",
        "outputId": "5872cbfe-acc2-4ce2-b2ac-65f22cd1b1e7",
        "colab": {
          "base_uri": "https://localhost:8080/"
        }
      },
      "outputs": [
        {
          "output_type": "execute_result",
          "data": {
            "text/plain": [
              "count    159.000000\n",
              "mean       7.383648\n",
              "std       11.455914\n",
              "min        1.000000\n",
              "25%        1.000000\n",
              "50%        1.000000\n",
              "75%       10.000000\n",
              "max       60.000000\n",
              "Name: CANTIDAD, dtype: float64"
            ]
          },
          "metadata": {},
          "execution_count": 22
        }
      ],
      "source": [
        "s.describe()"
      ]
    },
    {
      "cell_type": "code",
      "source": [
        "round(s.describe(),2)"
      ],
      "metadata": {
        "colab": {
          "base_uri": "https://localhost:8080/"
        },
        "id": "uVVyGK4HZfT-",
        "outputId": "de417d3d-5286-46a1-ef56-cbf4756ece55"
      },
      "id": "uVVyGK4HZfT-",
      "execution_count": 23,
      "outputs": [
        {
          "output_type": "execute_result",
          "data": {
            "text/plain": [
              "count    159.00\n",
              "mean       7.38\n",
              "std       11.46\n",
              "min        1.00\n",
              "25%        1.00\n",
              "50%        1.00\n",
              "75%       10.00\n",
              "max       60.00\n",
              "Name: CANTIDAD, dtype: float64"
            ]
          },
          "metadata": {},
          "execution_count": 23
        }
      ]
    },
    {
      "cell_type": "markdown",
      "id": "d7b0788d-aec1-4e99-90f5-7d51ff0a4bd4",
      "metadata": {
        "id": "d7b0788d-aec1-4e99-90f5-7d51ff0a4bd4"
      },
      "source": [
        "##### **Ordenando valores de la serie**"
      ]
    },
    {
      "cell_type": "code",
      "execution_count": 24,
      "id": "23e12a4d-5eda-487b-80d1-c370f2b33e8e",
      "metadata": {
        "id": "23e12a4d-5eda-487b-80d1-c370f2b33e8e",
        "outputId": "cb30ca72-b8c0-4933-af49-4cc64bd8718b",
        "colab": {
          "base_uri": "https://localhost:8080/"
        }
      },
      "outputs": [
        {
          "output_type": "execute_result",
          "data": {
            "text/plain": [
              "79      1.0\n",
              "78      1.0\n",
              "77      1.0\n",
              "76      1.0\n",
              "117     1.0\n",
              "       ... \n",
              "51     48.0\n",
              "17     50.0\n",
              "4      50.0\n",
              "0      50.0\n",
              "6      60.0\n",
              "Name: CANTIDAD, Length: 159, dtype: float64"
            ]
          },
          "metadata": {},
          "execution_count": 24
        }
      ],
      "source": [
        "s.sort_values()"
      ]
    },
    {
      "cell_type": "markdown",
      "id": "5f1582f5-dd7d-44f1-8a27-c06b80cf5773",
      "metadata": {
        "id": "5f1582f5-dd7d-44f1-8a27-c06b80cf5773"
      },
      "source": [
        "##### **Ordenando valores del index de la serie**"
      ]
    },
    {
      "cell_type": "code",
      "execution_count": 25,
      "id": "fd257506-0704-4194-84f1-0f277556d411",
      "metadata": {
        "id": "fd257506-0704-4194-84f1-0f277556d411",
        "outputId": "98135bb2-869e-4118-eb61-46379786264b",
        "colab": {
          "base_uri": "https://localhost:8080/"
        }
      },
      "outputs": [
        {
          "output_type": "execute_result",
          "data": {
            "text/plain": [
              "0      50.0\n",
              "1       1.0\n",
              "2      30.0\n",
              "3      30.0\n",
              "4      50.0\n",
              "       ... \n",
              "154     5.0\n",
              "155     8.0\n",
              "156     8.0\n",
              "157    10.0\n",
              "158     8.0\n",
              "Name: CANTIDAD, Length: 159, dtype: float64"
            ]
          },
          "metadata": {},
          "execution_count": 25
        }
      ],
      "source": [
        "s.sort_index()"
      ]
    },
    {
      "cell_type": "markdown",
      "id": "2a94acc3-e710-4b0e-b14b-83f683779fca",
      "metadata": {
        "id": "2a94acc3-e710-4b0e-b14b-83f683779fca"
      },
      "source": [
        "### **DataFrames**"
      ]
    },
    {
      "cell_type": "markdown",
      "id": "159aad15-bd6c-49a6-889e-3defe1d373f5",
      "metadata": {
        "id": "159aad15-bd6c-49a6-889e-3defe1d373f5"
      },
      "source": [
        "#### **Atributos del DataFrame (Propiedades)...**"
      ]
    },
    {
      "cell_type": "markdown",
      "id": "a18eaf91-98bc-43ee-91cb-5c4e904a48c5",
      "metadata": {
        "id": "a18eaf91-98bc-43ee-91cb-5c4e904a48c5"
      },
      "source": [
        "##### **Tipo de datos del DataFrame**"
      ]
    },
    {
      "cell_type": "code",
      "execution_count": 26,
      "id": "f0785a9f-c5a1-4450-9fb3-ee64b488d79f",
      "metadata": {
        "id": "f0785a9f-c5a1-4450-9fb3-ee64b488d79f",
        "outputId": "8272f340-139f-4500-8cda-3845c07aac0d",
        "colab": {
          "base_uri": "https://localhost:8080/",
          "height": 419
        }
      },
      "outputs": [
        {
          "output_type": "execute_result",
          "data": {
            "text/plain": [
              "           DOCUMENTO       ORGANIZACION     FECHA TIPOFACTURA  \\\n",
              "0    B-0001-00000102       Etigand S.A.  27/12/19     Factura   \n",
              "1    B-0001-00000101      Javier Moroni  21/12/19     Factura   \n",
              "2    A-0001-00000231       Amazon Group  10/12/19     Factura   \n",
              "3    A-0001-00000230       Amazon Group   6/12/19     Factura   \n",
              "4    A-0001-00000229   Manganello S.R.L  20/11/19     Factura   \n",
              "..               ...                ...       ...         ...   \n",
              "154  A-0001-00000128     Hernandez S.A.   31/1/18     Factura   \n",
              "155  B-0001-00000069       Etigand S.A.   25/1/18     Factura   \n",
              "156  B-0001-00000069       Etigand S.A.   25/1/18     Factura   \n",
              "157  B-0001-00000068  Ferrari Hnos S.A.    1/1/18     Factura   \n",
              "158  B-0001-00000068  Ferrari Hnos S.A.    1/1/18     Factura   \n",
              "\n",
              "                    PRODUCTO  CANTIDAD      PRECIO  IMPORTEMONTRANSACCION  \\\n",
              "0            Consultoria Web      50.0   5785.1240              289256.20   \n",
              "1                 Honorarios       1.0  99586.7769               99586.78   \n",
              "2          Parlantes para PC      30.0   1990.0000               59700.00   \n",
              "3      Mercaderia de Reventa      30.0  10358.0000              310740.00   \n",
              "4            Consultoria Web      50.0   6300.0000              315000.00   \n",
              "..                       ...       ...         ...                    ...   \n",
              "154               Dise–o Web       5.0   6300.0000               31500.00   \n",
              "155  Impresora Multifuncion        8.0   3553.7190               28429.75   \n",
              "156                Monitores       8.0   3305.7851               26446.28   \n",
              "157  Impresora Multifuncion       10.0   3553.7190               35537.19   \n",
              "158                Monitores       8.0   3305.7851               26446.28   \n",
              "\n",
              "               MONEDA  \n",
              "0    Pesos Argentinos  \n",
              "1    Pesos Argentinos  \n",
              "2    Pesos Argentinos  \n",
              "3    Pesos Argentinos  \n",
              "4    Pesos Argentinos  \n",
              "..                ...  \n",
              "154  Pesos Argentinos  \n",
              "155  Pesos Argentinos  \n",
              "156  Pesos Argentinos  \n",
              "157  Pesos Argentinos  \n",
              "158  Pesos Argentinos  \n",
              "\n",
              "[159 rows x 9 columns]"
            ],
            "text/html": [
              "\n",
              "  <div id=\"df-d9ed1490-5c28-447c-bf5d-a9bf35546788\">\n",
              "    <div class=\"colab-df-container\">\n",
              "      <div>\n",
              "<style scoped>\n",
              "    .dataframe tbody tr th:only-of-type {\n",
              "        vertical-align: middle;\n",
              "    }\n",
              "\n",
              "    .dataframe tbody tr th {\n",
              "        vertical-align: top;\n",
              "    }\n",
              "\n",
              "    .dataframe thead th {\n",
              "        text-align: right;\n",
              "    }\n",
              "</style>\n",
              "<table border=\"1\" class=\"dataframe\">\n",
              "  <thead>\n",
              "    <tr style=\"text-align: right;\">\n",
              "      <th></th>\n",
              "      <th>DOCUMENTO</th>\n",
              "      <th>ORGANIZACION</th>\n",
              "      <th>FECHA</th>\n",
              "      <th>TIPOFACTURA</th>\n",
              "      <th>PRODUCTO</th>\n",
              "      <th>CANTIDAD</th>\n",
              "      <th>PRECIO</th>\n",
              "      <th>IMPORTEMONTRANSACCION</th>\n",
              "      <th>MONEDA</th>\n",
              "    </tr>\n",
              "  </thead>\n",
              "  <tbody>\n",
              "    <tr>\n",
              "      <th>0</th>\n",
              "      <td>B-0001-00000102</td>\n",
              "      <td>Etigand S.A.</td>\n",
              "      <td>27/12/19</td>\n",
              "      <td>Factura</td>\n",
              "      <td>Consultoria Web</td>\n",
              "      <td>50.0</td>\n",
              "      <td>5785.1240</td>\n",
              "      <td>289256.20</td>\n",
              "      <td>Pesos Argentinos</td>\n",
              "    </tr>\n",
              "    <tr>\n",
              "      <th>1</th>\n",
              "      <td>B-0001-00000101</td>\n",
              "      <td>Javier Moroni</td>\n",
              "      <td>21/12/19</td>\n",
              "      <td>Factura</td>\n",
              "      <td>Honorarios</td>\n",
              "      <td>1.0</td>\n",
              "      <td>99586.7769</td>\n",
              "      <td>99586.78</td>\n",
              "      <td>Pesos Argentinos</td>\n",
              "    </tr>\n",
              "    <tr>\n",
              "      <th>2</th>\n",
              "      <td>A-0001-00000231</td>\n",
              "      <td>Amazon Group</td>\n",
              "      <td>10/12/19</td>\n",
              "      <td>Factura</td>\n",
              "      <td>Parlantes para PC</td>\n",
              "      <td>30.0</td>\n",
              "      <td>1990.0000</td>\n",
              "      <td>59700.00</td>\n",
              "      <td>Pesos Argentinos</td>\n",
              "    </tr>\n",
              "    <tr>\n",
              "      <th>3</th>\n",
              "      <td>A-0001-00000230</td>\n",
              "      <td>Amazon Group</td>\n",
              "      <td>6/12/19</td>\n",
              "      <td>Factura</td>\n",
              "      <td>Mercaderia de Reventa</td>\n",
              "      <td>30.0</td>\n",
              "      <td>10358.0000</td>\n",
              "      <td>310740.00</td>\n",
              "      <td>Pesos Argentinos</td>\n",
              "    </tr>\n",
              "    <tr>\n",
              "      <th>4</th>\n",
              "      <td>A-0001-00000229</td>\n",
              "      <td>Manganello S.R.L</td>\n",
              "      <td>20/11/19</td>\n",
              "      <td>Factura</td>\n",
              "      <td>Consultoria Web</td>\n",
              "      <td>50.0</td>\n",
              "      <td>6300.0000</td>\n",
              "      <td>315000.00</td>\n",
              "      <td>Pesos Argentinos</td>\n",
              "    </tr>\n",
              "    <tr>\n",
              "      <th>...</th>\n",
              "      <td>...</td>\n",
              "      <td>...</td>\n",
              "      <td>...</td>\n",
              "      <td>...</td>\n",
              "      <td>...</td>\n",
              "      <td>...</td>\n",
              "      <td>...</td>\n",
              "      <td>...</td>\n",
              "      <td>...</td>\n",
              "    </tr>\n",
              "    <tr>\n",
              "      <th>154</th>\n",
              "      <td>A-0001-00000128</td>\n",
              "      <td>Hernandez S.A.</td>\n",
              "      <td>31/1/18</td>\n",
              "      <td>Factura</td>\n",
              "      <td>Dise–o Web</td>\n",
              "      <td>5.0</td>\n",
              "      <td>6300.0000</td>\n",
              "      <td>31500.00</td>\n",
              "      <td>Pesos Argentinos</td>\n",
              "    </tr>\n",
              "    <tr>\n",
              "      <th>155</th>\n",
              "      <td>B-0001-00000069</td>\n",
              "      <td>Etigand S.A.</td>\n",
              "      <td>25/1/18</td>\n",
              "      <td>Factura</td>\n",
              "      <td>Impresora Multifuncion</td>\n",
              "      <td>8.0</td>\n",
              "      <td>3553.7190</td>\n",
              "      <td>28429.75</td>\n",
              "      <td>Pesos Argentinos</td>\n",
              "    </tr>\n",
              "    <tr>\n",
              "      <th>156</th>\n",
              "      <td>B-0001-00000069</td>\n",
              "      <td>Etigand S.A.</td>\n",
              "      <td>25/1/18</td>\n",
              "      <td>Factura</td>\n",
              "      <td>Monitores</td>\n",
              "      <td>8.0</td>\n",
              "      <td>3305.7851</td>\n",
              "      <td>26446.28</td>\n",
              "      <td>Pesos Argentinos</td>\n",
              "    </tr>\n",
              "    <tr>\n",
              "      <th>157</th>\n",
              "      <td>B-0001-00000068</td>\n",
              "      <td>Ferrari Hnos S.A.</td>\n",
              "      <td>1/1/18</td>\n",
              "      <td>Factura</td>\n",
              "      <td>Impresora Multifuncion</td>\n",
              "      <td>10.0</td>\n",
              "      <td>3553.7190</td>\n",
              "      <td>35537.19</td>\n",
              "      <td>Pesos Argentinos</td>\n",
              "    </tr>\n",
              "    <tr>\n",
              "      <th>158</th>\n",
              "      <td>B-0001-00000068</td>\n",
              "      <td>Ferrari Hnos S.A.</td>\n",
              "      <td>1/1/18</td>\n",
              "      <td>Factura</td>\n",
              "      <td>Monitores</td>\n",
              "      <td>8.0</td>\n",
              "      <td>3305.7851</td>\n",
              "      <td>26446.28</td>\n",
              "      <td>Pesos Argentinos</td>\n",
              "    </tr>\n",
              "  </tbody>\n",
              "</table>\n",
              "<p>159 rows × 9 columns</p>\n",
              "</div>\n",
              "      <button class=\"colab-df-convert\" onclick=\"convertToInteractive('df-d9ed1490-5c28-447c-bf5d-a9bf35546788')\"\n",
              "              title=\"Convert this dataframe to an interactive table.\"\n",
              "              style=\"display:none;\">\n",
              "        \n",
              "  <svg xmlns=\"http://www.w3.org/2000/svg\" height=\"24px\"viewBox=\"0 0 24 24\"\n",
              "       width=\"24px\">\n",
              "    <path d=\"M0 0h24v24H0V0z\" fill=\"none\"/>\n",
              "    <path d=\"M18.56 5.44l.94 2.06.94-2.06 2.06-.94-2.06-.94-.94-2.06-.94 2.06-2.06.94zm-11 1L8.5 8.5l.94-2.06 2.06-.94-2.06-.94L8.5 2.5l-.94 2.06-2.06.94zm10 10l.94 2.06.94-2.06 2.06-.94-2.06-.94-.94-2.06-.94 2.06-2.06.94z\"/><path d=\"M17.41 7.96l-1.37-1.37c-.4-.4-.92-.59-1.43-.59-.52 0-1.04.2-1.43.59L10.3 9.45l-7.72 7.72c-.78.78-.78 2.05 0 2.83L4 21.41c.39.39.9.59 1.41.59.51 0 1.02-.2 1.41-.59l7.78-7.78 2.81-2.81c.8-.78.8-2.07 0-2.86zM5.41 20L4 18.59l7.72-7.72 1.47 1.35L5.41 20z\"/>\n",
              "  </svg>\n",
              "      </button>\n",
              "      \n",
              "  <style>\n",
              "    .colab-df-container {\n",
              "      display:flex;\n",
              "      flex-wrap:wrap;\n",
              "      gap: 12px;\n",
              "    }\n",
              "\n",
              "    .colab-df-convert {\n",
              "      background-color: #E8F0FE;\n",
              "      border: none;\n",
              "      border-radius: 50%;\n",
              "      cursor: pointer;\n",
              "      display: none;\n",
              "      fill: #1967D2;\n",
              "      height: 32px;\n",
              "      padding: 0 0 0 0;\n",
              "      width: 32px;\n",
              "    }\n",
              "\n",
              "    .colab-df-convert:hover {\n",
              "      background-color: #E2EBFA;\n",
              "      box-shadow: 0px 1px 2px rgba(60, 64, 67, 0.3), 0px 1px 3px 1px rgba(60, 64, 67, 0.15);\n",
              "      fill: #174EA6;\n",
              "    }\n",
              "\n",
              "    [theme=dark] .colab-df-convert {\n",
              "      background-color: #3B4455;\n",
              "      fill: #D2E3FC;\n",
              "    }\n",
              "\n",
              "    [theme=dark] .colab-df-convert:hover {\n",
              "      background-color: #434B5C;\n",
              "      box-shadow: 0px 1px 3px 1px rgba(0, 0, 0, 0.15);\n",
              "      filter: drop-shadow(0px 1px 2px rgba(0, 0, 0, 0.3));\n",
              "      fill: #FFFFFF;\n",
              "    }\n",
              "  </style>\n",
              "\n",
              "      <script>\n",
              "        const buttonEl =\n",
              "          document.querySelector('#df-d9ed1490-5c28-447c-bf5d-a9bf35546788 button.colab-df-convert');\n",
              "        buttonEl.style.display =\n",
              "          google.colab.kernel.accessAllowed ? 'block' : 'none';\n",
              "\n",
              "        async function convertToInteractive(key) {\n",
              "          const element = document.querySelector('#df-d9ed1490-5c28-447c-bf5d-a9bf35546788');\n",
              "          const dataTable =\n",
              "            await google.colab.kernel.invokeFunction('convertToInteractive',\n",
              "                                                     [key], {});\n",
              "          if (!dataTable) return;\n",
              "\n",
              "          const docLinkHtml = 'Like what you see? Visit the ' +\n",
              "            '<a target=\"_blank\" href=https://colab.research.google.com/notebooks/data_table.ipynb>data table notebook</a>'\n",
              "            + ' to learn more about interactive tables.';\n",
              "          element.innerHTML = '';\n",
              "          dataTable['output_type'] = 'display_data';\n",
              "          await google.colab.output.renderOutput(dataTable, element);\n",
              "          const docLink = document.createElement('div');\n",
              "          docLink.innerHTML = docLinkHtml;\n",
              "          element.appendChild(docLink);\n",
              "        }\n",
              "      </script>\n",
              "    </div>\n",
              "  </div>\n",
              "  "
            ]
          },
          "metadata": {},
          "execution_count": 26
        }
      ],
      "source": [
        "df"
      ]
    },
    {
      "cell_type": "code",
      "execution_count": 27,
      "id": "0c4f59f1-0bf8-487b-ba4e-e7019de64d02",
      "metadata": {
        "id": "0c4f59f1-0bf8-487b-ba4e-e7019de64d02",
        "outputId": "22fe5520-2b6c-47ed-a3a9-f2e4ebb4c6a4",
        "colab": {
          "base_uri": "https://localhost:8080/"
        }
      },
      "outputs": [
        {
          "output_type": "execute_result",
          "data": {
            "text/plain": [
              "DOCUMENTO                 object\n",
              "ORGANIZACION              object\n",
              "FECHA                     object\n",
              "TIPOFACTURA               object\n",
              "PRODUCTO                  object\n",
              "CANTIDAD                 float64\n",
              "PRECIO                   float64\n",
              "IMPORTEMONTRANSACCION    float64\n",
              "MONEDA                    object\n",
              "dtype: object"
            ]
          },
          "metadata": {},
          "execution_count": 27
        }
      ],
      "source": [
        "df.dtypes"
      ]
    },
    {
      "cell_type": "markdown",
      "id": "c5e841cc-31c0-44f2-8f61-18f7f2344275",
      "metadata": {
        "id": "c5e841cc-31c0-44f2-8f61-18f7f2344275"
      },
      "source": [
        "##### **Index y columnas del DataFrame**"
      ]
    },
    {
      "cell_type": "code",
      "execution_count": 28,
      "id": "d2eb3a1d-8753-4cb2-8ee9-654436f2f9a2",
      "metadata": {
        "id": "d2eb3a1d-8753-4cb2-8ee9-654436f2f9a2",
        "outputId": "c15a0643-162c-4e84-97d6-bb2844511ab7",
        "colab": {
          "base_uri": "https://localhost:8080/"
        }
      },
      "outputs": [
        {
          "output_type": "execute_result",
          "data": {
            "text/plain": [
              "RangeIndex(start=0, stop=159, step=1)"
            ]
          },
          "metadata": {},
          "execution_count": 28
        }
      ],
      "source": [
        "df.index"
      ]
    },
    {
      "cell_type": "code",
      "execution_count": 29,
      "id": "e24fb7b3-554b-4fad-901f-f76281d8e606",
      "metadata": {
        "id": "e24fb7b3-554b-4fad-901f-f76281d8e606",
        "outputId": "e6f3b82c-aa52-4413-ce29-cfe258e77116",
        "colab": {
          "base_uri": "https://localhost:8080/"
        }
      },
      "outputs": [
        {
          "output_type": "execute_result",
          "data": {
            "text/plain": [
              "Index(['DOCUMENTO', 'ORGANIZACION', 'FECHA', 'TIPOFACTURA', 'PRODUCTO',\n",
              "       'CANTIDAD', 'PRECIO', 'IMPORTEMONTRANSACCION', 'MONEDA'],\n",
              "      dtype='object')"
            ]
          },
          "metadata": {},
          "execution_count": 29
        }
      ],
      "source": [
        "df.columns"
      ]
    },
    {
      "cell_type": "markdown",
      "id": "33b6e1ca-b835-4b17-947a-fff6f85de670",
      "metadata": {
        "id": "33b6e1ca-b835-4b17-947a-fff6f85de670"
      },
      "source": [
        "##### **Cantidad de elementos del DataFrame**"
      ]
    },
    {
      "cell_type": "code",
      "execution_count": 30,
      "id": "9ddd017b-8ac0-4e31-a9c3-85449fb740be",
      "metadata": {
        "id": "9ddd017b-8ac0-4e31-a9c3-85449fb740be",
        "outputId": "58fedcce-8c20-4c82-edcb-f6063baaa653",
        "colab": {
          "base_uri": "https://localhost:8080/"
        }
      },
      "outputs": [
        {
          "output_type": "execute_result",
          "data": {
            "text/plain": [
              "(159, 9)"
            ]
          },
          "metadata": {},
          "execution_count": 30
        }
      ],
      "source": [
        "df.shape"
      ]
    },
    {
      "cell_type": "markdown",
      "id": "d8893691-d066-4fa1-aa97-87c8aeb9ca32",
      "metadata": {
        "id": "d8893691-d066-4fa1-aa97-87c8aeb9ca32"
      },
      "source": [
        "##### **Tamaño del DataFrame**"
      ]
    },
    {
      "cell_type": "code",
      "execution_count": 31,
      "id": "df137a3b-e4c7-46b6-8e2a-3170d3b613b1",
      "metadata": {
        "id": "df137a3b-e4c7-46b6-8e2a-3170d3b613b1",
        "outputId": "75c1f270-de86-40cd-931b-f34449f75649",
        "colab": {
          "base_uri": "https://localhost:8080/"
        }
      },
      "outputs": [
        {
          "output_type": "execute_result",
          "data": {
            "text/plain": [
              "1431"
            ]
          },
          "metadata": {},
          "execution_count": 31
        }
      ],
      "source": [
        "df.size"
      ]
    },
    {
      "cell_type": "markdown",
      "id": "5e92f5d1-a747-4614-b9e7-1a2907c27f85",
      "metadata": {
        "id": "5e92f5d1-a747-4614-b9e7-1a2907c27f85"
      },
      "source": [
        "##### **Dimensión del DataFrame**"
      ]
    },
    {
      "cell_type": "code",
      "execution_count": 32,
      "id": "2ce20a3f-d21f-4c04-88c3-6ad4903912ad",
      "metadata": {
        "id": "2ce20a3f-d21f-4c04-88c3-6ad4903912ad",
        "outputId": "c8e19af8-24d6-4c07-e270-f16823f48260",
        "colab": {
          "base_uri": "https://localhost:8080/"
        }
      },
      "outputs": [
        {
          "output_type": "execute_result",
          "data": {
            "text/plain": [
              "2"
            ]
          },
          "metadata": {},
          "execution_count": 32
        }
      ],
      "source": [
        "df.ndim"
      ]
    },
    {
      "cell_type": "markdown",
      "id": "29b0fca0-2cf3-4a70-95a2-cf36ce201d34",
      "metadata": {
        "id": "29b0fca0-2cf3-4a70-95a2-cf36ce201d34"
      },
      "source": [
        "#### **Funciones**"
      ]
    },
    {
      "cell_type": "markdown",
      "id": "432cbe9a-9249-405d-a259-152cd3609d98",
      "metadata": {
        "id": "432cbe9a-9249-405d-a259-152cd3609d98"
      },
      "source": [
        "##### **Visualización del DataFrame.**"
      ]
    },
    {
      "cell_type": "code",
      "execution_count": 33,
      "id": "e7092b3e-cdb4-4c33-8a70-472e811bac8a",
      "metadata": {
        "id": "e7092b3e-cdb4-4c33-8a70-472e811bac8a",
        "outputId": "f40d19be-0cd1-421e-bdd1-f8798b399f05",
        "colab": {
          "base_uri": "https://localhost:8080/",
          "height": 419
        }
      },
      "outputs": [
        {
          "output_type": "execute_result",
          "data": {
            "text/plain": [
              "           DOCUMENTO       ORGANIZACION     FECHA TIPOFACTURA  \\\n",
              "0    B-0001-00000102       Etigand S.A.  27/12/19     Factura   \n",
              "1    B-0001-00000101      Javier Moroni  21/12/19     Factura   \n",
              "2    A-0001-00000231       Amazon Group  10/12/19     Factura   \n",
              "3    A-0001-00000230       Amazon Group   6/12/19     Factura   \n",
              "4    A-0001-00000229   Manganello S.R.L  20/11/19     Factura   \n",
              "..               ...                ...       ...         ...   \n",
              "154  A-0001-00000128     Hernandez S.A.   31/1/18     Factura   \n",
              "155  B-0001-00000069       Etigand S.A.   25/1/18     Factura   \n",
              "156  B-0001-00000069       Etigand S.A.   25/1/18     Factura   \n",
              "157  B-0001-00000068  Ferrari Hnos S.A.    1/1/18     Factura   \n",
              "158  B-0001-00000068  Ferrari Hnos S.A.    1/1/18     Factura   \n",
              "\n",
              "                    PRODUCTO  CANTIDAD      PRECIO  IMPORTEMONTRANSACCION  \\\n",
              "0            Consultoria Web      50.0   5785.1240              289256.20   \n",
              "1                 Honorarios       1.0  99586.7769               99586.78   \n",
              "2          Parlantes para PC      30.0   1990.0000               59700.00   \n",
              "3      Mercaderia de Reventa      30.0  10358.0000              310740.00   \n",
              "4            Consultoria Web      50.0   6300.0000              315000.00   \n",
              "..                       ...       ...         ...                    ...   \n",
              "154               Dise–o Web       5.0   6300.0000               31500.00   \n",
              "155  Impresora Multifuncion        8.0   3553.7190               28429.75   \n",
              "156                Monitores       8.0   3305.7851               26446.28   \n",
              "157  Impresora Multifuncion       10.0   3553.7190               35537.19   \n",
              "158                Monitores       8.0   3305.7851               26446.28   \n",
              "\n",
              "               MONEDA  \n",
              "0    Pesos Argentinos  \n",
              "1    Pesos Argentinos  \n",
              "2    Pesos Argentinos  \n",
              "3    Pesos Argentinos  \n",
              "4    Pesos Argentinos  \n",
              "..                ...  \n",
              "154  Pesos Argentinos  \n",
              "155  Pesos Argentinos  \n",
              "156  Pesos Argentinos  \n",
              "157  Pesos Argentinos  \n",
              "158  Pesos Argentinos  \n",
              "\n",
              "[159 rows x 9 columns]"
            ],
            "text/html": [
              "\n",
              "  <div id=\"df-2e0f90ea-08e8-415f-95f7-1991a369828e\">\n",
              "    <div class=\"colab-df-container\">\n",
              "      <div>\n",
              "<style scoped>\n",
              "    .dataframe tbody tr th:only-of-type {\n",
              "        vertical-align: middle;\n",
              "    }\n",
              "\n",
              "    .dataframe tbody tr th {\n",
              "        vertical-align: top;\n",
              "    }\n",
              "\n",
              "    .dataframe thead th {\n",
              "        text-align: right;\n",
              "    }\n",
              "</style>\n",
              "<table border=\"1\" class=\"dataframe\">\n",
              "  <thead>\n",
              "    <tr style=\"text-align: right;\">\n",
              "      <th></th>\n",
              "      <th>DOCUMENTO</th>\n",
              "      <th>ORGANIZACION</th>\n",
              "      <th>FECHA</th>\n",
              "      <th>TIPOFACTURA</th>\n",
              "      <th>PRODUCTO</th>\n",
              "      <th>CANTIDAD</th>\n",
              "      <th>PRECIO</th>\n",
              "      <th>IMPORTEMONTRANSACCION</th>\n",
              "      <th>MONEDA</th>\n",
              "    </tr>\n",
              "  </thead>\n",
              "  <tbody>\n",
              "    <tr>\n",
              "      <th>0</th>\n",
              "      <td>B-0001-00000102</td>\n",
              "      <td>Etigand S.A.</td>\n",
              "      <td>27/12/19</td>\n",
              "      <td>Factura</td>\n",
              "      <td>Consultoria Web</td>\n",
              "      <td>50.0</td>\n",
              "      <td>5785.1240</td>\n",
              "      <td>289256.20</td>\n",
              "      <td>Pesos Argentinos</td>\n",
              "    </tr>\n",
              "    <tr>\n",
              "      <th>1</th>\n",
              "      <td>B-0001-00000101</td>\n",
              "      <td>Javier Moroni</td>\n",
              "      <td>21/12/19</td>\n",
              "      <td>Factura</td>\n",
              "      <td>Honorarios</td>\n",
              "      <td>1.0</td>\n",
              "      <td>99586.7769</td>\n",
              "      <td>99586.78</td>\n",
              "      <td>Pesos Argentinos</td>\n",
              "    </tr>\n",
              "    <tr>\n",
              "      <th>2</th>\n",
              "      <td>A-0001-00000231</td>\n",
              "      <td>Amazon Group</td>\n",
              "      <td>10/12/19</td>\n",
              "      <td>Factura</td>\n",
              "      <td>Parlantes para PC</td>\n",
              "      <td>30.0</td>\n",
              "      <td>1990.0000</td>\n",
              "      <td>59700.00</td>\n",
              "      <td>Pesos Argentinos</td>\n",
              "    </tr>\n",
              "    <tr>\n",
              "      <th>3</th>\n",
              "      <td>A-0001-00000230</td>\n",
              "      <td>Amazon Group</td>\n",
              "      <td>6/12/19</td>\n",
              "      <td>Factura</td>\n",
              "      <td>Mercaderia de Reventa</td>\n",
              "      <td>30.0</td>\n",
              "      <td>10358.0000</td>\n",
              "      <td>310740.00</td>\n",
              "      <td>Pesos Argentinos</td>\n",
              "    </tr>\n",
              "    <tr>\n",
              "      <th>4</th>\n",
              "      <td>A-0001-00000229</td>\n",
              "      <td>Manganello S.R.L</td>\n",
              "      <td>20/11/19</td>\n",
              "      <td>Factura</td>\n",
              "      <td>Consultoria Web</td>\n",
              "      <td>50.0</td>\n",
              "      <td>6300.0000</td>\n",
              "      <td>315000.00</td>\n",
              "      <td>Pesos Argentinos</td>\n",
              "    </tr>\n",
              "    <tr>\n",
              "      <th>...</th>\n",
              "      <td>...</td>\n",
              "      <td>...</td>\n",
              "      <td>...</td>\n",
              "      <td>...</td>\n",
              "      <td>...</td>\n",
              "      <td>...</td>\n",
              "      <td>...</td>\n",
              "      <td>...</td>\n",
              "      <td>...</td>\n",
              "    </tr>\n",
              "    <tr>\n",
              "      <th>154</th>\n",
              "      <td>A-0001-00000128</td>\n",
              "      <td>Hernandez S.A.</td>\n",
              "      <td>31/1/18</td>\n",
              "      <td>Factura</td>\n",
              "      <td>Dise–o Web</td>\n",
              "      <td>5.0</td>\n",
              "      <td>6300.0000</td>\n",
              "      <td>31500.00</td>\n",
              "      <td>Pesos Argentinos</td>\n",
              "    </tr>\n",
              "    <tr>\n",
              "      <th>155</th>\n",
              "      <td>B-0001-00000069</td>\n",
              "      <td>Etigand S.A.</td>\n",
              "      <td>25/1/18</td>\n",
              "      <td>Factura</td>\n",
              "      <td>Impresora Multifuncion</td>\n",
              "      <td>8.0</td>\n",
              "      <td>3553.7190</td>\n",
              "      <td>28429.75</td>\n",
              "      <td>Pesos Argentinos</td>\n",
              "    </tr>\n",
              "    <tr>\n",
              "      <th>156</th>\n",
              "      <td>B-0001-00000069</td>\n",
              "      <td>Etigand S.A.</td>\n",
              "      <td>25/1/18</td>\n",
              "      <td>Factura</td>\n",
              "      <td>Monitores</td>\n",
              "      <td>8.0</td>\n",
              "      <td>3305.7851</td>\n",
              "      <td>26446.28</td>\n",
              "      <td>Pesos Argentinos</td>\n",
              "    </tr>\n",
              "    <tr>\n",
              "      <th>157</th>\n",
              "      <td>B-0001-00000068</td>\n",
              "      <td>Ferrari Hnos S.A.</td>\n",
              "      <td>1/1/18</td>\n",
              "      <td>Factura</td>\n",
              "      <td>Impresora Multifuncion</td>\n",
              "      <td>10.0</td>\n",
              "      <td>3553.7190</td>\n",
              "      <td>35537.19</td>\n",
              "      <td>Pesos Argentinos</td>\n",
              "    </tr>\n",
              "    <tr>\n",
              "      <th>158</th>\n",
              "      <td>B-0001-00000068</td>\n",
              "      <td>Ferrari Hnos S.A.</td>\n",
              "      <td>1/1/18</td>\n",
              "      <td>Factura</td>\n",
              "      <td>Monitores</td>\n",
              "      <td>8.0</td>\n",
              "      <td>3305.7851</td>\n",
              "      <td>26446.28</td>\n",
              "      <td>Pesos Argentinos</td>\n",
              "    </tr>\n",
              "  </tbody>\n",
              "</table>\n",
              "<p>159 rows × 9 columns</p>\n",
              "</div>\n",
              "      <button class=\"colab-df-convert\" onclick=\"convertToInteractive('df-2e0f90ea-08e8-415f-95f7-1991a369828e')\"\n",
              "              title=\"Convert this dataframe to an interactive table.\"\n",
              "              style=\"display:none;\">\n",
              "        \n",
              "  <svg xmlns=\"http://www.w3.org/2000/svg\" height=\"24px\"viewBox=\"0 0 24 24\"\n",
              "       width=\"24px\">\n",
              "    <path d=\"M0 0h24v24H0V0z\" fill=\"none\"/>\n",
              "    <path d=\"M18.56 5.44l.94 2.06.94-2.06 2.06-.94-2.06-.94-.94-2.06-.94 2.06-2.06.94zm-11 1L8.5 8.5l.94-2.06 2.06-.94-2.06-.94L8.5 2.5l-.94 2.06-2.06.94zm10 10l.94 2.06.94-2.06 2.06-.94-2.06-.94-.94-2.06-.94 2.06-2.06.94z\"/><path d=\"M17.41 7.96l-1.37-1.37c-.4-.4-.92-.59-1.43-.59-.52 0-1.04.2-1.43.59L10.3 9.45l-7.72 7.72c-.78.78-.78 2.05 0 2.83L4 21.41c.39.39.9.59 1.41.59.51 0 1.02-.2 1.41-.59l7.78-7.78 2.81-2.81c.8-.78.8-2.07 0-2.86zM5.41 20L4 18.59l7.72-7.72 1.47 1.35L5.41 20z\"/>\n",
              "  </svg>\n",
              "      </button>\n",
              "      \n",
              "  <style>\n",
              "    .colab-df-container {\n",
              "      display:flex;\n",
              "      flex-wrap:wrap;\n",
              "      gap: 12px;\n",
              "    }\n",
              "\n",
              "    .colab-df-convert {\n",
              "      background-color: #E8F0FE;\n",
              "      border: none;\n",
              "      border-radius: 50%;\n",
              "      cursor: pointer;\n",
              "      display: none;\n",
              "      fill: #1967D2;\n",
              "      height: 32px;\n",
              "      padding: 0 0 0 0;\n",
              "      width: 32px;\n",
              "    }\n",
              "\n",
              "    .colab-df-convert:hover {\n",
              "      background-color: #E2EBFA;\n",
              "      box-shadow: 0px 1px 2px rgba(60, 64, 67, 0.3), 0px 1px 3px 1px rgba(60, 64, 67, 0.15);\n",
              "      fill: #174EA6;\n",
              "    }\n",
              "\n",
              "    [theme=dark] .colab-df-convert {\n",
              "      background-color: #3B4455;\n",
              "      fill: #D2E3FC;\n",
              "    }\n",
              "\n",
              "    [theme=dark] .colab-df-convert:hover {\n",
              "      background-color: #434B5C;\n",
              "      box-shadow: 0px 1px 3px 1px rgba(0, 0, 0, 0.15);\n",
              "      filter: drop-shadow(0px 1px 2px rgba(0, 0, 0, 0.3));\n",
              "      fill: #FFFFFF;\n",
              "    }\n",
              "  </style>\n",
              "\n",
              "      <script>\n",
              "        const buttonEl =\n",
              "          document.querySelector('#df-2e0f90ea-08e8-415f-95f7-1991a369828e button.colab-df-convert');\n",
              "        buttonEl.style.display =\n",
              "          google.colab.kernel.accessAllowed ? 'block' : 'none';\n",
              "\n",
              "        async function convertToInteractive(key) {\n",
              "          const element = document.querySelector('#df-2e0f90ea-08e8-415f-95f7-1991a369828e');\n",
              "          const dataTable =\n",
              "            await google.colab.kernel.invokeFunction('convertToInteractive',\n",
              "                                                     [key], {});\n",
              "          if (!dataTable) return;\n",
              "\n",
              "          const docLinkHtml = 'Like what you see? Visit the ' +\n",
              "            '<a target=\"_blank\" href=https://colab.research.google.com/notebooks/data_table.ipynb>data table notebook</a>'\n",
              "            + ' to learn more about interactive tables.';\n",
              "          element.innerHTML = '';\n",
              "          dataTable['output_type'] = 'display_data';\n",
              "          await google.colab.output.renderOutput(dataTable, element);\n",
              "          const docLink = document.createElement('div');\n",
              "          docLink.innerHTML = docLinkHtml;\n",
              "          element.appendChild(docLink);\n",
              "        }\n",
              "      </script>\n",
              "    </div>\n",
              "  </div>\n",
              "  "
            ]
          },
          "metadata": {},
          "execution_count": 33
        }
      ],
      "source": [
        "df"
      ]
    },
    {
      "cell_type": "markdown",
      "id": "c4bf4964-2c4a-4da5-82e1-3ab2ba9ebc8e",
      "metadata": {
        "id": "c4bf4964-2c4a-4da5-82e1-3ab2ba9ebc8e"
      },
      "source": [
        "**Para visualizar las primeras cinco filas...** ***por defecto siempre son las primeros cinco filas, pero puede seleccionarse la cantidad de filas que se quiera...***"
      ]
    },
    {
      "cell_type": "code",
      "execution_count": 34,
      "id": "1f1dba66-088a-4103-b58e-13c04baabad1",
      "metadata": {
        "id": "1f1dba66-088a-4103-b58e-13c04baabad1",
        "outputId": "38c258a0-13d7-4882-ba6a-670953fdf1e0",
        "colab": {
          "base_uri": "https://localhost:8080/",
          "height": 204
        }
      },
      "outputs": [
        {
          "output_type": "execute_result",
          "data": {
            "text/plain": [
              "         DOCUMENTO      ORGANIZACION     FECHA TIPOFACTURA  \\\n",
              "0  B-0001-00000102      Etigand S.A.  27/12/19     Factura   \n",
              "1  B-0001-00000101     Javier Moroni  21/12/19     Factura   \n",
              "2  A-0001-00000231      Amazon Group  10/12/19     Factura   \n",
              "3  A-0001-00000230      Amazon Group   6/12/19     Factura   \n",
              "4  A-0001-00000229  Manganello S.R.L  20/11/19     Factura   \n",
              "\n",
              "                PRODUCTO  CANTIDAD      PRECIO  IMPORTEMONTRANSACCION  \\\n",
              "0        Consultoria Web      50.0   5785.1240              289256.20   \n",
              "1             Honorarios       1.0  99586.7769               99586.78   \n",
              "2      Parlantes para PC      30.0   1990.0000               59700.00   \n",
              "3  Mercaderia de Reventa      30.0  10358.0000              310740.00   \n",
              "4        Consultoria Web      50.0   6300.0000              315000.00   \n",
              "\n",
              "             MONEDA  \n",
              "0  Pesos Argentinos  \n",
              "1  Pesos Argentinos  \n",
              "2  Pesos Argentinos  \n",
              "3  Pesos Argentinos  \n",
              "4  Pesos Argentinos  "
            ],
            "text/html": [
              "\n",
              "  <div id=\"df-4c24b7b1-c0b9-467f-9844-453546abed1d\">\n",
              "    <div class=\"colab-df-container\">\n",
              "      <div>\n",
              "<style scoped>\n",
              "    .dataframe tbody tr th:only-of-type {\n",
              "        vertical-align: middle;\n",
              "    }\n",
              "\n",
              "    .dataframe tbody tr th {\n",
              "        vertical-align: top;\n",
              "    }\n",
              "\n",
              "    .dataframe thead th {\n",
              "        text-align: right;\n",
              "    }\n",
              "</style>\n",
              "<table border=\"1\" class=\"dataframe\">\n",
              "  <thead>\n",
              "    <tr style=\"text-align: right;\">\n",
              "      <th></th>\n",
              "      <th>DOCUMENTO</th>\n",
              "      <th>ORGANIZACION</th>\n",
              "      <th>FECHA</th>\n",
              "      <th>TIPOFACTURA</th>\n",
              "      <th>PRODUCTO</th>\n",
              "      <th>CANTIDAD</th>\n",
              "      <th>PRECIO</th>\n",
              "      <th>IMPORTEMONTRANSACCION</th>\n",
              "      <th>MONEDA</th>\n",
              "    </tr>\n",
              "  </thead>\n",
              "  <tbody>\n",
              "    <tr>\n",
              "      <th>0</th>\n",
              "      <td>B-0001-00000102</td>\n",
              "      <td>Etigand S.A.</td>\n",
              "      <td>27/12/19</td>\n",
              "      <td>Factura</td>\n",
              "      <td>Consultoria Web</td>\n",
              "      <td>50.0</td>\n",
              "      <td>5785.1240</td>\n",
              "      <td>289256.20</td>\n",
              "      <td>Pesos Argentinos</td>\n",
              "    </tr>\n",
              "    <tr>\n",
              "      <th>1</th>\n",
              "      <td>B-0001-00000101</td>\n",
              "      <td>Javier Moroni</td>\n",
              "      <td>21/12/19</td>\n",
              "      <td>Factura</td>\n",
              "      <td>Honorarios</td>\n",
              "      <td>1.0</td>\n",
              "      <td>99586.7769</td>\n",
              "      <td>99586.78</td>\n",
              "      <td>Pesos Argentinos</td>\n",
              "    </tr>\n",
              "    <tr>\n",
              "      <th>2</th>\n",
              "      <td>A-0001-00000231</td>\n",
              "      <td>Amazon Group</td>\n",
              "      <td>10/12/19</td>\n",
              "      <td>Factura</td>\n",
              "      <td>Parlantes para PC</td>\n",
              "      <td>30.0</td>\n",
              "      <td>1990.0000</td>\n",
              "      <td>59700.00</td>\n",
              "      <td>Pesos Argentinos</td>\n",
              "    </tr>\n",
              "    <tr>\n",
              "      <th>3</th>\n",
              "      <td>A-0001-00000230</td>\n",
              "      <td>Amazon Group</td>\n",
              "      <td>6/12/19</td>\n",
              "      <td>Factura</td>\n",
              "      <td>Mercaderia de Reventa</td>\n",
              "      <td>30.0</td>\n",
              "      <td>10358.0000</td>\n",
              "      <td>310740.00</td>\n",
              "      <td>Pesos Argentinos</td>\n",
              "    </tr>\n",
              "    <tr>\n",
              "      <th>4</th>\n",
              "      <td>A-0001-00000229</td>\n",
              "      <td>Manganello S.R.L</td>\n",
              "      <td>20/11/19</td>\n",
              "      <td>Factura</td>\n",
              "      <td>Consultoria Web</td>\n",
              "      <td>50.0</td>\n",
              "      <td>6300.0000</td>\n",
              "      <td>315000.00</td>\n",
              "      <td>Pesos Argentinos</td>\n",
              "    </tr>\n",
              "  </tbody>\n",
              "</table>\n",
              "</div>\n",
              "      <button class=\"colab-df-convert\" onclick=\"convertToInteractive('df-4c24b7b1-c0b9-467f-9844-453546abed1d')\"\n",
              "              title=\"Convert this dataframe to an interactive table.\"\n",
              "              style=\"display:none;\">\n",
              "        \n",
              "  <svg xmlns=\"http://www.w3.org/2000/svg\" height=\"24px\"viewBox=\"0 0 24 24\"\n",
              "       width=\"24px\">\n",
              "    <path d=\"M0 0h24v24H0V0z\" fill=\"none\"/>\n",
              "    <path d=\"M18.56 5.44l.94 2.06.94-2.06 2.06-.94-2.06-.94-.94-2.06-.94 2.06-2.06.94zm-11 1L8.5 8.5l.94-2.06 2.06-.94-2.06-.94L8.5 2.5l-.94 2.06-2.06.94zm10 10l.94 2.06.94-2.06 2.06-.94-2.06-.94-.94-2.06-.94 2.06-2.06.94z\"/><path d=\"M17.41 7.96l-1.37-1.37c-.4-.4-.92-.59-1.43-.59-.52 0-1.04.2-1.43.59L10.3 9.45l-7.72 7.72c-.78.78-.78 2.05 0 2.83L4 21.41c.39.39.9.59 1.41.59.51 0 1.02-.2 1.41-.59l7.78-7.78 2.81-2.81c.8-.78.8-2.07 0-2.86zM5.41 20L4 18.59l7.72-7.72 1.47 1.35L5.41 20z\"/>\n",
              "  </svg>\n",
              "      </button>\n",
              "      \n",
              "  <style>\n",
              "    .colab-df-container {\n",
              "      display:flex;\n",
              "      flex-wrap:wrap;\n",
              "      gap: 12px;\n",
              "    }\n",
              "\n",
              "    .colab-df-convert {\n",
              "      background-color: #E8F0FE;\n",
              "      border: none;\n",
              "      border-radius: 50%;\n",
              "      cursor: pointer;\n",
              "      display: none;\n",
              "      fill: #1967D2;\n",
              "      height: 32px;\n",
              "      padding: 0 0 0 0;\n",
              "      width: 32px;\n",
              "    }\n",
              "\n",
              "    .colab-df-convert:hover {\n",
              "      background-color: #E2EBFA;\n",
              "      box-shadow: 0px 1px 2px rgba(60, 64, 67, 0.3), 0px 1px 3px 1px rgba(60, 64, 67, 0.15);\n",
              "      fill: #174EA6;\n",
              "    }\n",
              "\n",
              "    [theme=dark] .colab-df-convert {\n",
              "      background-color: #3B4455;\n",
              "      fill: #D2E3FC;\n",
              "    }\n",
              "\n",
              "    [theme=dark] .colab-df-convert:hover {\n",
              "      background-color: #434B5C;\n",
              "      box-shadow: 0px 1px 3px 1px rgba(0, 0, 0, 0.15);\n",
              "      filter: drop-shadow(0px 1px 2px rgba(0, 0, 0, 0.3));\n",
              "      fill: #FFFFFF;\n",
              "    }\n",
              "  </style>\n",
              "\n",
              "      <script>\n",
              "        const buttonEl =\n",
              "          document.querySelector('#df-4c24b7b1-c0b9-467f-9844-453546abed1d button.colab-df-convert');\n",
              "        buttonEl.style.display =\n",
              "          google.colab.kernel.accessAllowed ? 'block' : 'none';\n",
              "\n",
              "        async function convertToInteractive(key) {\n",
              "          const element = document.querySelector('#df-4c24b7b1-c0b9-467f-9844-453546abed1d');\n",
              "          const dataTable =\n",
              "            await google.colab.kernel.invokeFunction('convertToInteractive',\n",
              "                                                     [key], {});\n",
              "          if (!dataTable) return;\n",
              "\n",
              "          const docLinkHtml = 'Like what you see? Visit the ' +\n",
              "            '<a target=\"_blank\" href=https://colab.research.google.com/notebooks/data_table.ipynb>data table notebook</a>'\n",
              "            + ' to learn more about interactive tables.';\n",
              "          element.innerHTML = '';\n",
              "          dataTable['output_type'] = 'display_data';\n",
              "          await google.colab.output.renderOutput(dataTable, element);\n",
              "          const docLink = document.createElement('div');\n",
              "          docLink.innerHTML = docLinkHtml;\n",
              "          element.appendChild(docLink);\n",
              "        }\n",
              "      </script>\n",
              "    </div>\n",
              "  </div>\n",
              "  "
            ]
          },
          "metadata": {},
          "execution_count": 34
        }
      ],
      "source": [
        "df.head()"
      ]
    },
    {
      "cell_type": "code",
      "execution_count": 35,
      "id": "714f64dc-fe3b-47dc-8e5e-2f353544ee7e",
      "metadata": {
        "id": "714f64dc-fe3b-47dc-8e5e-2f353544ee7e",
        "outputId": "591313f6-2543-40c5-bcf4-19da3373f251",
        "colab": {
          "base_uri": "https://localhost:8080/",
          "height": 328
        }
      },
      "outputs": [
        {
          "output_type": "execute_result",
          "data": {
            "text/plain": [
              "         DOCUMENTO      ORGANIZACION     FECHA TIPOFACTURA  \\\n",
              "0  B-0001-00000102      Etigand S.A.  27/12/19     Factura   \n",
              "1  B-0001-00000101     Javier Moroni  21/12/19     Factura   \n",
              "2  A-0001-00000231      Amazon Group  10/12/19     Factura   \n",
              "3  A-0001-00000230      Amazon Group   6/12/19     Factura   \n",
              "4  A-0001-00000229  Manganello S.R.L  20/11/19     Factura   \n",
              "5  A-0001-00000228     Galardon S.A.  17/11/19     Factura   \n",
              "6  A-0001-00000227          Klarkson   2/11/19     Factura   \n",
              "7  A-0001-00000226    Juan Fernández  15/10/19     Factura   \n",
              "8  A-0001-00000225    Horizonte S.A.   2/10/19     Factura   \n",
              "\n",
              "                  PRODUCTO  CANTIDAD      PRECIO  IMPORTEMONTRANSACCION  \\\n",
              "0          Consultoria Web      50.0   5785.1240              289256.20   \n",
              "1               Honorarios       1.0  99586.7769               99586.78   \n",
              "2        Parlantes para PC      30.0   1990.0000               59700.00   \n",
              "3    Mercaderia de Reventa      30.0  10358.0000              310740.00   \n",
              "4          Consultoria Web      50.0   6300.0000              315000.00   \n",
              "5  Impresora Multifuncion       23.0  10209.0000              234807.00   \n",
              "6     Cable RGB para video      60.0   1030.5000               61830.00   \n",
              "7    Mercaderia de Reventa      30.0  12354.0000              370620.00   \n",
              "8          Insumos oficina      30.0   7785.0000              233550.00   \n",
              "\n",
              "             MONEDA  \n",
              "0  Pesos Argentinos  \n",
              "1  Pesos Argentinos  \n",
              "2  Pesos Argentinos  \n",
              "3  Pesos Argentinos  \n",
              "4  Pesos Argentinos  \n",
              "5  Pesos Argentinos  \n",
              "6  Pesos Argentinos  \n",
              "7  Pesos Argentinos  \n",
              "8  Pesos Argentinos  "
            ],
            "text/html": [
              "\n",
              "  <div id=\"df-e1c17fd4-99db-4d2d-90f5-dbe7d19cdc6d\">\n",
              "    <div class=\"colab-df-container\">\n",
              "      <div>\n",
              "<style scoped>\n",
              "    .dataframe tbody tr th:only-of-type {\n",
              "        vertical-align: middle;\n",
              "    }\n",
              "\n",
              "    .dataframe tbody tr th {\n",
              "        vertical-align: top;\n",
              "    }\n",
              "\n",
              "    .dataframe thead th {\n",
              "        text-align: right;\n",
              "    }\n",
              "</style>\n",
              "<table border=\"1\" class=\"dataframe\">\n",
              "  <thead>\n",
              "    <tr style=\"text-align: right;\">\n",
              "      <th></th>\n",
              "      <th>DOCUMENTO</th>\n",
              "      <th>ORGANIZACION</th>\n",
              "      <th>FECHA</th>\n",
              "      <th>TIPOFACTURA</th>\n",
              "      <th>PRODUCTO</th>\n",
              "      <th>CANTIDAD</th>\n",
              "      <th>PRECIO</th>\n",
              "      <th>IMPORTEMONTRANSACCION</th>\n",
              "      <th>MONEDA</th>\n",
              "    </tr>\n",
              "  </thead>\n",
              "  <tbody>\n",
              "    <tr>\n",
              "      <th>0</th>\n",
              "      <td>B-0001-00000102</td>\n",
              "      <td>Etigand S.A.</td>\n",
              "      <td>27/12/19</td>\n",
              "      <td>Factura</td>\n",
              "      <td>Consultoria Web</td>\n",
              "      <td>50.0</td>\n",
              "      <td>5785.1240</td>\n",
              "      <td>289256.20</td>\n",
              "      <td>Pesos Argentinos</td>\n",
              "    </tr>\n",
              "    <tr>\n",
              "      <th>1</th>\n",
              "      <td>B-0001-00000101</td>\n",
              "      <td>Javier Moroni</td>\n",
              "      <td>21/12/19</td>\n",
              "      <td>Factura</td>\n",
              "      <td>Honorarios</td>\n",
              "      <td>1.0</td>\n",
              "      <td>99586.7769</td>\n",
              "      <td>99586.78</td>\n",
              "      <td>Pesos Argentinos</td>\n",
              "    </tr>\n",
              "    <tr>\n",
              "      <th>2</th>\n",
              "      <td>A-0001-00000231</td>\n",
              "      <td>Amazon Group</td>\n",
              "      <td>10/12/19</td>\n",
              "      <td>Factura</td>\n",
              "      <td>Parlantes para PC</td>\n",
              "      <td>30.0</td>\n",
              "      <td>1990.0000</td>\n",
              "      <td>59700.00</td>\n",
              "      <td>Pesos Argentinos</td>\n",
              "    </tr>\n",
              "    <tr>\n",
              "      <th>3</th>\n",
              "      <td>A-0001-00000230</td>\n",
              "      <td>Amazon Group</td>\n",
              "      <td>6/12/19</td>\n",
              "      <td>Factura</td>\n",
              "      <td>Mercaderia de Reventa</td>\n",
              "      <td>30.0</td>\n",
              "      <td>10358.0000</td>\n",
              "      <td>310740.00</td>\n",
              "      <td>Pesos Argentinos</td>\n",
              "    </tr>\n",
              "    <tr>\n",
              "      <th>4</th>\n",
              "      <td>A-0001-00000229</td>\n",
              "      <td>Manganello S.R.L</td>\n",
              "      <td>20/11/19</td>\n",
              "      <td>Factura</td>\n",
              "      <td>Consultoria Web</td>\n",
              "      <td>50.0</td>\n",
              "      <td>6300.0000</td>\n",
              "      <td>315000.00</td>\n",
              "      <td>Pesos Argentinos</td>\n",
              "    </tr>\n",
              "    <tr>\n",
              "      <th>5</th>\n",
              "      <td>A-0001-00000228</td>\n",
              "      <td>Galardon S.A.</td>\n",
              "      <td>17/11/19</td>\n",
              "      <td>Factura</td>\n",
              "      <td>Impresora Multifuncion</td>\n",
              "      <td>23.0</td>\n",
              "      <td>10209.0000</td>\n",
              "      <td>234807.00</td>\n",
              "      <td>Pesos Argentinos</td>\n",
              "    </tr>\n",
              "    <tr>\n",
              "      <th>6</th>\n",
              "      <td>A-0001-00000227</td>\n",
              "      <td>Klarkson</td>\n",
              "      <td>2/11/19</td>\n",
              "      <td>Factura</td>\n",
              "      <td>Cable RGB para video</td>\n",
              "      <td>60.0</td>\n",
              "      <td>1030.5000</td>\n",
              "      <td>61830.00</td>\n",
              "      <td>Pesos Argentinos</td>\n",
              "    </tr>\n",
              "    <tr>\n",
              "      <th>7</th>\n",
              "      <td>A-0001-00000226</td>\n",
              "      <td>Juan Fernández</td>\n",
              "      <td>15/10/19</td>\n",
              "      <td>Factura</td>\n",
              "      <td>Mercaderia de Reventa</td>\n",
              "      <td>30.0</td>\n",
              "      <td>12354.0000</td>\n",
              "      <td>370620.00</td>\n",
              "      <td>Pesos Argentinos</td>\n",
              "    </tr>\n",
              "    <tr>\n",
              "      <th>8</th>\n",
              "      <td>A-0001-00000225</td>\n",
              "      <td>Horizonte S.A.</td>\n",
              "      <td>2/10/19</td>\n",
              "      <td>Factura</td>\n",
              "      <td>Insumos oficina</td>\n",
              "      <td>30.0</td>\n",
              "      <td>7785.0000</td>\n",
              "      <td>233550.00</td>\n",
              "      <td>Pesos Argentinos</td>\n",
              "    </tr>\n",
              "  </tbody>\n",
              "</table>\n",
              "</div>\n",
              "      <button class=\"colab-df-convert\" onclick=\"convertToInteractive('df-e1c17fd4-99db-4d2d-90f5-dbe7d19cdc6d')\"\n",
              "              title=\"Convert this dataframe to an interactive table.\"\n",
              "              style=\"display:none;\">\n",
              "        \n",
              "  <svg xmlns=\"http://www.w3.org/2000/svg\" height=\"24px\"viewBox=\"0 0 24 24\"\n",
              "       width=\"24px\">\n",
              "    <path d=\"M0 0h24v24H0V0z\" fill=\"none\"/>\n",
              "    <path d=\"M18.56 5.44l.94 2.06.94-2.06 2.06-.94-2.06-.94-.94-2.06-.94 2.06-2.06.94zm-11 1L8.5 8.5l.94-2.06 2.06-.94-2.06-.94L8.5 2.5l-.94 2.06-2.06.94zm10 10l.94 2.06.94-2.06 2.06-.94-2.06-.94-.94-2.06-.94 2.06-2.06.94z\"/><path d=\"M17.41 7.96l-1.37-1.37c-.4-.4-.92-.59-1.43-.59-.52 0-1.04.2-1.43.59L10.3 9.45l-7.72 7.72c-.78.78-.78 2.05 0 2.83L4 21.41c.39.39.9.59 1.41.59.51 0 1.02-.2 1.41-.59l7.78-7.78 2.81-2.81c.8-.78.8-2.07 0-2.86zM5.41 20L4 18.59l7.72-7.72 1.47 1.35L5.41 20z\"/>\n",
              "  </svg>\n",
              "      </button>\n",
              "      \n",
              "  <style>\n",
              "    .colab-df-container {\n",
              "      display:flex;\n",
              "      flex-wrap:wrap;\n",
              "      gap: 12px;\n",
              "    }\n",
              "\n",
              "    .colab-df-convert {\n",
              "      background-color: #E8F0FE;\n",
              "      border: none;\n",
              "      border-radius: 50%;\n",
              "      cursor: pointer;\n",
              "      display: none;\n",
              "      fill: #1967D2;\n",
              "      height: 32px;\n",
              "      padding: 0 0 0 0;\n",
              "      width: 32px;\n",
              "    }\n",
              "\n",
              "    .colab-df-convert:hover {\n",
              "      background-color: #E2EBFA;\n",
              "      box-shadow: 0px 1px 2px rgba(60, 64, 67, 0.3), 0px 1px 3px 1px rgba(60, 64, 67, 0.15);\n",
              "      fill: #174EA6;\n",
              "    }\n",
              "\n",
              "    [theme=dark] .colab-df-convert {\n",
              "      background-color: #3B4455;\n",
              "      fill: #D2E3FC;\n",
              "    }\n",
              "\n",
              "    [theme=dark] .colab-df-convert:hover {\n",
              "      background-color: #434B5C;\n",
              "      box-shadow: 0px 1px 3px 1px rgba(0, 0, 0, 0.15);\n",
              "      filter: drop-shadow(0px 1px 2px rgba(0, 0, 0, 0.3));\n",
              "      fill: #FFFFFF;\n",
              "    }\n",
              "  </style>\n",
              "\n",
              "      <script>\n",
              "        const buttonEl =\n",
              "          document.querySelector('#df-e1c17fd4-99db-4d2d-90f5-dbe7d19cdc6d button.colab-df-convert');\n",
              "        buttonEl.style.display =\n",
              "          google.colab.kernel.accessAllowed ? 'block' : 'none';\n",
              "\n",
              "        async function convertToInteractive(key) {\n",
              "          const element = document.querySelector('#df-e1c17fd4-99db-4d2d-90f5-dbe7d19cdc6d');\n",
              "          const dataTable =\n",
              "            await google.colab.kernel.invokeFunction('convertToInteractive',\n",
              "                                                     [key], {});\n",
              "          if (!dataTable) return;\n",
              "\n",
              "          const docLinkHtml = 'Like what you see? Visit the ' +\n",
              "            '<a target=\"_blank\" href=https://colab.research.google.com/notebooks/data_table.ipynb>data table notebook</a>'\n",
              "            + ' to learn more about interactive tables.';\n",
              "          element.innerHTML = '';\n",
              "          dataTable['output_type'] = 'display_data';\n",
              "          await google.colab.output.renderOutput(dataTable, element);\n",
              "          const docLink = document.createElement('div');\n",
              "          docLink.innerHTML = docLinkHtml;\n",
              "          element.appendChild(docLink);\n",
              "        }\n",
              "      </script>\n",
              "    </div>\n",
              "  </div>\n",
              "  "
            ]
          },
          "metadata": {},
          "execution_count": 35
        }
      ],
      "source": [
        "df.head(9)"
      ]
    },
    {
      "cell_type": "markdown",
      "id": "4299c462-b4e5-475c-ac5b-6905abd6038a",
      "metadata": {
        "id": "4299c462-b4e5-475c-ac5b-6905abd6038a"
      },
      "source": [
        "**Para visualizar las últimas cinco filas...** ***por defecto siempre son las últimas cinco filas, pero puede seleccionarse la cantidad de filas que se quiera...***"
      ]
    },
    {
      "cell_type": "code",
      "execution_count": 36,
      "id": "2cc056ad-7691-4631-8810-20f52977ce67",
      "metadata": {
        "id": "2cc056ad-7691-4631-8810-20f52977ce67",
        "outputId": "5098a3ea-648c-4f0d-c65f-1d0f441910e8",
        "colab": {
          "base_uri": "https://localhost:8080/",
          "height": 204
        }
      },
      "outputs": [
        {
          "output_type": "execute_result",
          "data": {
            "text/plain": [
              "           DOCUMENTO       ORGANIZACION    FECHA TIPOFACTURA  \\\n",
              "154  A-0001-00000128     Hernandez S.A.  31/1/18     Factura   \n",
              "155  B-0001-00000069       Etigand S.A.  25/1/18     Factura   \n",
              "156  B-0001-00000069       Etigand S.A.  25/1/18     Factura   \n",
              "157  B-0001-00000068  Ferrari Hnos S.A.   1/1/18     Factura   \n",
              "158  B-0001-00000068  Ferrari Hnos S.A.   1/1/18     Factura   \n",
              "\n",
              "                    PRODUCTO  CANTIDAD     PRECIO  IMPORTEMONTRANSACCION  \\\n",
              "154               Dise–o Web       5.0  6300.0000               31500.00   \n",
              "155  Impresora Multifuncion        8.0  3553.7190               28429.75   \n",
              "156                Monitores       8.0  3305.7851               26446.28   \n",
              "157  Impresora Multifuncion       10.0  3553.7190               35537.19   \n",
              "158                Monitores       8.0  3305.7851               26446.28   \n",
              "\n",
              "               MONEDA  \n",
              "154  Pesos Argentinos  \n",
              "155  Pesos Argentinos  \n",
              "156  Pesos Argentinos  \n",
              "157  Pesos Argentinos  \n",
              "158  Pesos Argentinos  "
            ],
            "text/html": [
              "\n",
              "  <div id=\"df-89c4e5f3-a383-44b9-b985-d44ade9ab843\">\n",
              "    <div class=\"colab-df-container\">\n",
              "      <div>\n",
              "<style scoped>\n",
              "    .dataframe tbody tr th:only-of-type {\n",
              "        vertical-align: middle;\n",
              "    }\n",
              "\n",
              "    .dataframe tbody tr th {\n",
              "        vertical-align: top;\n",
              "    }\n",
              "\n",
              "    .dataframe thead th {\n",
              "        text-align: right;\n",
              "    }\n",
              "</style>\n",
              "<table border=\"1\" class=\"dataframe\">\n",
              "  <thead>\n",
              "    <tr style=\"text-align: right;\">\n",
              "      <th></th>\n",
              "      <th>DOCUMENTO</th>\n",
              "      <th>ORGANIZACION</th>\n",
              "      <th>FECHA</th>\n",
              "      <th>TIPOFACTURA</th>\n",
              "      <th>PRODUCTO</th>\n",
              "      <th>CANTIDAD</th>\n",
              "      <th>PRECIO</th>\n",
              "      <th>IMPORTEMONTRANSACCION</th>\n",
              "      <th>MONEDA</th>\n",
              "    </tr>\n",
              "  </thead>\n",
              "  <tbody>\n",
              "    <tr>\n",
              "      <th>154</th>\n",
              "      <td>A-0001-00000128</td>\n",
              "      <td>Hernandez S.A.</td>\n",
              "      <td>31/1/18</td>\n",
              "      <td>Factura</td>\n",
              "      <td>Dise–o Web</td>\n",
              "      <td>5.0</td>\n",
              "      <td>6300.0000</td>\n",
              "      <td>31500.00</td>\n",
              "      <td>Pesos Argentinos</td>\n",
              "    </tr>\n",
              "    <tr>\n",
              "      <th>155</th>\n",
              "      <td>B-0001-00000069</td>\n",
              "      <td>Etigand S.A.</td>\n",
              "      <td>25/1/18</td>\n",
              "      <td>Factura</td>\n",
              "      <td>Impresora Multifuncion</td>\n",
              "      <td>8.0</td>\n",
              "      <td>3553.7190</td>\n",
              "      <td>28429.75</td>\n",
              "      <td>Pesos Argentinos</td>\n",
              "    </tr>\n",
              "    <tr>\n",
              "      <th>156</th>\n",
              "      <td>B-0001-00000069</td>\n",
              "      <td>Etigand S.A.</td>\n",
              "      <td>25/1/18</td>\n",
              "      <td>Factura</td>\n",
              "      <td>Monitores</td>\n",
              "      <td>8.0</td>\n",
              "      <td>3305.7851</td>\n",
              "      <td>26446.28</td>\n",
              "      <td>Pesos Argentinos</td>\n",
              "    </tr>\n",
              "    <tr>\n",
              "      <th>157</th>\n",
              "      <td>B-0001-00000068</td>\n",
              "      <td>Ferrari Hnos S.A.</td>\n",
              "      <td>1/1/18</td>\n",
              "      <td>Factura</td>\n",
              "      <td>Impresora Multifuncion</td>\n",
              "      <td>10.0</td>\n",
              "      <td>3553.7190</td>\n",
              "      <td>35537.19</td>\n",
              "      <td>Pesos Argentinos</td>\n",
              "    </tr>\n",
              "    <tr>\n",
              "      <th>158</th>\n",
              "      <td>B-0001-00000068</td>\n",
              "      <td>Ferrari Hnos S.A.</td>\n",
              "      <td>1/1/18</td>\n",
              "      <td>Factura</td>\n",
              "      <td>Monitores</td>\n",
              "      <td>8.0</td>\n",
              "      <td>3305.7851</td>\n",
              "      <td>26446.28</td>\n",
              "      <td>Pesos Argentinos</td>\n",
              "    </tr>\n",
              "  </tbody>\n",
              "</table>\n",
              "</div>\n",
              "      <button class=\"colab-df-convert\" onclick=\"convertToInteractive('df-89c4e5f3-a383-44b9-b985-d44ade9ab843')\"\n",
              "              title=\"Convert this dataframe to an interactive table.\"\n",
              "              style=\"display:none;\">\n",
              "        \n",
              "  <svg xmlns=\"http://www.w3.org/2000/svg\" height=\"24px\"viewBox=\"0 0 24 24\"\n",
              "       width=\"24px\">\n",
              "    <path d=\"M0 0h24v24H0V0z\" fill=\"none\"/>\n",
              "    <path d=\"M18.56 5.44l.94 2.06.94-2.06 2.06-.94-2.06-.94-.94-2.06-.94 2.06-2.06.94zm-11 1L8.5 8.5l.94-2.06 2.06-.94-2.06-.94L8.5 2.5l-.94 2.06-2.06.94zm10 10l.94 2.06.94-2.06 2.06-.94-2.06-.94-.94-2.06-.94 2.06-2.06.94z\"/><path d=\"M17.41 7.96l-1.37-1.37c-.4-.4-.92-.59-1.43-.59-.52 0-1.04.2-1.43.59L10.3 9.45l-7.72 7.72c-.78.78-.78 2.05 0 2.83L4 21.41c.39.39.9.59 1.41.59.51 0 1.02-.2 1.41-.59l7.78-7.78 2.81-2.81c.8-.78.8-2.07 0-2.86zM5.41 20L4 18.59l7.72-7.72 1.47 1.35L5.41 20z\"/>\n",
              "  </svg>\n",
              "      </button>\n",
              "      \n",
              "  <style>\n",
              "    .colab-df-container {\n",
              "      display:flex;\n",
              "      flex-wrap:wrap;\n",
              "      gap: 12px;\n",
              "    }\n",
              "\n",
              "    .colab-df-convert {\n",
              "      background-color: #E8F0FE;\n",
              "      border: none;\n",
              "      border-radius: 50%;\n",
              "      cursor: pointer;\n",
              "      display: none;\n",
              "      fill: #1967D2;\n",
              "      height: 32px;\n",
              "      padding: 0 0 0 0;\n",
              "      width: 32px;\n",
              "    }\n",
              "\n",
              "    .colab-df-convert:hover {\n",
              "      background-color: #E2EBFA;\n",
              "      box-shadow: 0px 1px 2px rgba(60, 64, 67, 0.3), 0px 1px 3px 1px rgba(60, 64, 67, 0.15);\n",
              "      fill: #174EA6;\n",
              "    }\n",
              "\n",
              "    [theme=dark] .colab-df-convert {\n",
              "      background-color: #3B4455;\n",
              "      fill: #D2E3FC;\n",
              "    }\n",
              "\n",
              "    [theme=dark] .colab-df-convert:hover {\n",
              "      background-color: #434B5C;\n",
              "      box-shadow: 0px 1px 3px 1px rgba(0, 0, 0, 0.15);\n",
              "      filter: drop-shadow(0px 1px 2px rgba(0, 0, 0, 0.3));\n",
              "      fill: #FFFFFF;\n",
              "    }\n",
              "  </style>\n",
              "\n",
              "      <script>\n",
              "        const buttonEl =\n",
              "          document.querySelector('#df-89c4e5f3-a383-44b9-b985-d44ade9ab843 button.colab-df-convert');\n",
              "        buttonEl.style.display =\n",
              "          google.colab.kernel.accessAllowed ? 'block' : 'none';\n",
              "\n",
              "        async function convertToInteractive(key) {\n",
              "          const element = document.querySelector('#df-89c4e5f3-a383-44b9-b985-d44ade9ab843');\n",
              "          const dataTable =\n",
              "            await google.colab.kernel.invokeFunction('convertToInteractive',\n",
              "                                                     [key], {});\n",
              "          if (!dataTable) return;\n",
              "\n",
              "          const docLinkHtml = 'Like what you see? Visit the ' +\n",
              "            '<a target=\"_blank\" href=https://colab.research.google.com/notebooks/data_table.ipynb>data table notebook</a>'\n",
              "            + ' to learn more about interactive tables.';\n",
              "          element.innerHTML = '';\n",
              "          dataTable['output_type'] = 'display_data';\n",
              "          await google.colab.output.renderOutput(dataTable, element);\n",
              "          const docLink = document.createElement('div');\n",
              "          docLink.innerHTML = docLinkHtml;\n",
              "          element.appendChild(docLink);\n",
              "        }\n",
              "      </script>\n",
              "    </div>\n",
              "  </div>\n",
              "  "
            ]
          },
          "metadata": {},
          "execution_count": 36
        }
      ],
      "source": [
        "df.tail()"
      ]
    },
    {
      "cell_type": "code",
      "execution_count": 37,
      "id": "93435c6a-e555-4322-a414-bfac251435b6",
      "metadata": {
        "id": "93435c6a-e555-4322-a414-bfac251435b6",
        "outputId": "15007500-65cc-4d0e-b6af-54e39ccaf64d",
        "colab": {
          "base_uri": "https://localhost:8080/",
          "height": 297
        }
      },
      "outputs": [
        {
          "output_type": "execute_result",
          "data": {
            "text/plain": [
              "           DOCUMENTO       ORGANIZACION    FECHA TIPOFACTURA  \\\n",
              "151  A-0001-00000130     Horizonte S.A.  15/2/18     Factura   \n",
              "152  B-0001-00000070       Etigand S.A.  10/2/18     Factura   \n",
              "153  A-0001-00000129       Berker S.R.L   2/2/18     Factura   \n",
              "154  A-0001-00000128     Hernandez S.A.  31/1/18     Factura   \n",
              "155  B-0001-00000069       Etigand S.A.  25/1/18     Factura   \n",
              "156  B-0001-00000069       Etigand S.A.  25/1/18     Factura   \n",
              "157  B-0001-00000068  Ferrari Hnos S.A.   1/1/18     Factura   \n",
              "158  B-0001-00000068  Ferrari Hnos S.A.   1/1/18     Factura   \n",
              "\n",
              "                    PRODUCTO  CANTIDAD      PRECIO  IMPORTEMONTRANSACCION  \\\n",
              "151          Consultoria Web       1.0  25800.0000               25800.00   \n",
              "152      Consultoria Digital       1.0   2500.0000                2500.00   \n",
              "153               Dise–o Web       5.0   6300.0000               31500.00   \n",
              "154               Dise–o Web       5.0   6300.0000               31500.00   \n",
              "155  Impresora Multifuncion        8.0   3553.7190               28429.75   \n",
              "156                Monitores       8.0   3305.7851               26446.28   \n",
              "157  Impresora Multifuncion       10.0   3553.7190               35537.19   \n",
              "158                Monitores       8.0   3305.7851               26446.28   \n",
              "\n",
              "               MONEDA  \n",
              "151  Pesos Argentinos  \n",
              "152  Pesos Argentinos  \n",
              "153  Pesos Argentinos  \n",
              "154  Pesos Argentinos  \n",
              "155  Pesos Argentinos  \n",
              "156  Pesos Argentinos  \n",
              "157  Pesos Argentinos  \n",
              "158  Pesos Argentinos  "
            ],
            "text/html": [
              "\n",
              "  <div id=\"df-12a06fab-6793-4aea-a2e3-111b96a0a137\">\n",
              "    <div class=\"colab-df-container\">\n",
              "      <div>\n",
              "<style scoped>\n",
              "    .dataframe tbody tr th:only-of-type {\n",
              "        vertical-align: middle;\n",
              "    }\n",
              "\n",
              "    .dataframe tbody tr th {\n",
              "        vertical-align: top;\n",
              "    }\n",
              "\n",
              "    .dataframe thead th {\n",
              "        text-align: right;\n",
              "    }\n",
              "</style>\n",
              "<table border=\"1\" class=\"dataframe\">\n",
              "  <thead>\n",
              "    <tr style=\"text-align: right;\">\n",
              "      <th></th>\n",
              "      <th>DOCUMENTO</th>\n",
              "      <th>ORGANIZACION</th>\n",
              "      <th>FECHA</th>\n",
              "      <th>TIPOFACTURA</th>\n",
              "      <th>PRODUCTO</th>\n",
              "      <th>CANTIDAD</th>\n",
              "      <th>PRECIO</th>\n",
              "      <th>IMPORTEMONTRANSACCION</th>\n",
              "      <th>MONEDA</th>\n",
              "    </tr>\n",
              "  </thead>\n",
              "  <tbody>\n",
              "    <tr>\n",
              "      <th>151</th>\n",
              "      <td>A-0001-00000130</td>\n",
              "      <td>Horizonte S.A.</td>\n",
              "      <td>15/2/18</td>\n",
              "      <td>Factura</td>\n",
              "      <td>Consultoria Web</td>\n",
              "      <td>1.0</td>\n",
              "      <td>25800.0000</td>\n",
              "      <td>25800.00</td>\n",
              "      <td>Pesos Argentinos</td>\n",
              "    </tr>\n",
              "    <tr>\n",
              "      <th>152</th>\n",
              "      <td>B-0001-00000070</td>\n",
              "      <td>Etigand S.A.</td>\n",
              "      <td>10/2/18</td>\n",
              "      <td>Factura</td>\n",
              "      <td>Consultoria Digital</td>\n",
              "      <td>1.0</td>\n",
              "      <td>2500.0000</td>\n",
              "      <td>2500.00</td>\n",
              "      <td>Pesos Argentinos</td>\n",
              "    </tr>\n",
              "    <tr>\n",
              "      <th>153</th>\n",
              "      <td>A-0001-00000129</td>\n",
              "      <td>Berker S.R.L</td>\n",
              "      <td>2/2/18</td>\n",
              "      <td>Factura</td>\n",
              "      <td>Dise–o Web</td>\n",
              "      <td>5.0</td>\n",
              "      <td>6300.0000</td>\n",
              "      <td>31500.00</td>\n",
              "      <td>Pesos Argentinos</td>\n",
              "    </tr>\n",
              "    <tr>\n",
              "      <th>154</th>\n",
              "      <td>A-0001-00000128</td>\n",
              "      <td>Hernandez S.A.</td>\n",
              "      <td>31/1/18</td>\n",
              "      <td>Factura</td>\n",
              "      <td>Dise–o Web</td>\n",
              "      <td>5.0</td>\n",
              "      <td>6300.0000</td>\n",
              "      <td>31500.00</td>\n",
              "      <td>Pesos Argentinos</td>\n",
              "    </tr>\n",
              "    <tr>\n",
              "      <th>155</th>\n",
              "      <td>B-0001-00000069</td>\n",
              "      <td>Etigand S.A.</td>\n",
              "      <td>25/1/18</td>\n",
              "      <td>Factura</td>\n",
              "      <td>Impresora Multifuncion</td>\n",
              "      <td>8.0</td>\n",
              "      <td>3553.7190</td>\n",
              "      <td>28429.75</td>\n",
              "      <td>Pesos Argentinos</td>\n",
              "    </tr>\n",
              "    <tr>\n",
              "      <th>156</th>\n",
              "      <td>B-0001-00000069</td>\n",
              "      <td>Etigand S.A.</td>\n",
              "      <td>25/1/18</td>\n",
              "      <td>Factura</td>\n",
              "      <td>Monitores</td>\n",
              "      <td>8.0</td>\n",
              "      <td>3305.7851</td>\n",
              "      <td>26446.28</td>\n",
              "      <td>Pesos Argentinos</td>\n",
              "    </tr>\n",
              "    <tr>\n",
              "      <th>157</th>\n",
              "      <td>B-0001-00000068</td>\n",
              "      <td>Ferrari Hnos S.A.</td>\n",
              "      <td>1/1/18</td>\n",
              "      <td>Factura</td>\n",
              "      <td>Impresora Multifuncion</td>\n",
              "      <td>10.0</td>\n",
              "      <td>3553.7190</td>\n",
              "      <td>35537.19</td>\n",
              "      <td>Pesos Argentinos</td>\n",
              "    </tr>\n",
              "    <tr>\n",
              "      <th>158</th>\n",
              "      <td>B-0001-00000068</td>\n",
              "      <td>Ferrari Hnos S.A.</td>\n",
              "      <td>1/1/18</td>\n",
              "      <td>Factura</td>\n",
              "      <td>Monitores</td>\n",
              "      <td>8.0</td>\n",
              "      <td>3305.7851</td>\n",
              "      <td>26446.28</td>\n",
              "      <td>Pesos Argentinos</td>\n",
              "    </tr>\n",
              "  </tbody>\n",
              "</table>\n",
              "</div>\n",
              "      <button class=\"colab-df-convert\" onclick=\"convertToInteractive('df-12a06fab-6793-4aea-a2e3-111b96a0a137')\"\n",
              "              title=\"Convert this dataframe to an interactive table.\"\n",
              "              style=\"display:none;\">\n",
              "        \n",
              "  <svg xmlns=\"http://www.w3.org/2000/svg\" height=\"24px\"viewBox=\"0 0 24 24\"\n",
              "       width=\"24px\">\n",
              "    <path d=\"M0 0h24v24H0V0z\" fill=\"none\"/>\n",
              "    <path d=\"M18.56 5.44l.94 2.06.94-2.06 2.06-.94-2.06-.94-.94-2.06-.94 2.06-2.06.94zm-11 1L8.5 8.5l.94-2.06 2.06-.94-2.06-.94L8.5 2.5l-.94 2.06-2.06.94zm10 10l.94 2.06.94-2.06 2.06-.94-2.06-.94-.94-2.06-.94 2.06-2.06.94z\"/><path d=\"M17.41 7.96l-1.37-1.37c-.4-.4-.92-.59-1.43-.59-.52 0-1.04.2-1.43.59L10.3 9.45l-7.72 7.72c-.78.78-.78 2.05 0 2.83L4 21.41c.39.39.9.59 1.41.59.51 0 1.02-.2 1.41-.59l7.78-7.78 2.81-2.81c.8-.78.8-2.07 0-2.86zM5.41 20L4 18.59l7.72-7.72 1.47 1.35L5.41 20z\"/>\n",
              "  </svg>\n",
              "      </button>\n",
              "      \n",
              "  <style>\n",
              "    .colab-df-container {\n",
              "      display:flex;\n",
              "      flex-wrap:wrap;\n",
              "      gap: 12px;\n",
              "    }\n",
              "\n",
              "    .colab-df-convert {\n",
              "      background-color: #E8F0FE;\n",
              "      border: none;\n",
              "      border-radius: 50%;\n",
              "      cursor: pointer;\n",
              "      display: none;\n",
              "      fill: #1967D2;\n",
              "      height: 32px;\n",
              "      padding: 0 0 0 0;\n",
              "      width: 32px;\n",
              "    }\n",
              "\n",
              "    .colab-df-convert:hover {\n",
              "      background-color: #E2EBFA;\n",
              "      box-shadow: 0px 1px 2px rgba(60, 64, 67, 0.3), 0px 1px 3px 1px rgba(60, 64, 67, 0.15);\n",
              "      fill: #174EA6;\n",
              "    }\n",
              "\n",
              "    [theme=dark] .colab-df-convert {\n",
              "      background-color: #3B4455;\n",
              "      fill: #D2E3FC;\n",
              "    }\n",
              "\n",
              "    [theme=dark] .colab-df-convert:hover {\n",
              "      background-color: #434B5C;\n",
              "      box-shadow: 0px 1px 3px 1px rgba(0, 0, 0, 0.15);\n",
              "      filter: drop-shadow(0px 1px 2px rgba(0, 0, 0, 0.3));\n",
              "      fill: #FFFFFF;\n",
              "    }\n",
              "  </style>\n",
              "\n",
              "      <script>\n",
              "        const buttonEl =\n",
              "          document.querySelector('#df-12a06fab-6793-4aea-a2e3-111b96a0a137 button.colab-df-convert');\n",
              "        buttonEl.style.display =\n",
              "          google.colab.kernel.accessAllowed ? 'block' : 'none';\n",
              "\n",
              "        async function convertToInteractive(key) {\n",
              "          const element = document.querySelector('#df-12a06fab-6793-4aea-a2e3-111b96a0a137');\n",
              "          const dataTable =\n",
              "            await google.colab.kernel.invokeFunction('convertToInteractive',\n",
              "                                                     [key], {});\n",
              "          if (!dataTable) return;\n",
              "\n",
              "          const docLinkHtml = 'Like what you see? Visit the ' +\n",
              "            '<a target=\"_blank\" href=https://colab.research.google.com/notebooks/data_table.ipynb>data table notebook</a>'\n",
              "            + ' to learn more about interactive tables.';\n",
              "          element.innerHTML = '';\n",
              "          dataTable['output_type'] = 'display_data';\n",
              "          await google.colab.output.renderOutput(dataTable, element);\n",
              "          const docLink = document.createElement('div');\n",
              "          docLink.innerHTML = docLinkHtml;\n",
              "          element.appendChild(docLink);\n",
              "        }\n",
              "      </script>\n",
              "    </div>\n",
              "  </div>\n",
              "  "
            ]
          },
          "metadata": {},
          "execution_count": 37
        }
      ],
      "source": [
        "df.tail(8)"
      ]
    },
    {
      "cell_type": "markdown",
      "id": "fdf90a7b-6f84-442a-adcc-1a62ea7682f2",
      "metadata": {
        "id": "fdf90a7b-6f84-442a-adcc-1a62ea7682f2"
      },
      "source": [
        "##### **Información del DataFrame**"
      ]
    },
    {
      "cell_type": "code",
      "execution_count": 38,
      "id": "7e12750b-9673-4d27-9338-76afc4935ce4",
      "metadata": {
        "id": "7e12750b-9673-4d27-9338-76afc4935ce4",
        "outputId": "3f5ae12a-4f32-4c76-faab-dafdbc3db580",
        "colab": {
          "base_uri": "https://localhost:8080/"
        }
      },
      "outputs": [
        {
          "output_type": "stream",
          "name": "stdout",
          "text": [
            "<class 'pandas.core.frame.DataFrame'>\n",
            "RangeIndex: 159 entries, 0 to 158\n",
            "Data columns (total 9 columns):\n",
            " #   Column                 Non-Null Count  Dtype  \n",
            "---  ------                 --------------  -----  \n",
            " 0   DOCUMENTO              159 non-null    object \n",
            " 1   ORGANIZACION           159 non-null    object \n",
            " 2   FECHA                  159 non-null    object \n",
            " 3   TIPOFACTURA            159 non-null    object \n",
            " 4   PRODUCTO               159 non-null    object \n",
            " 5   CANTIDAD               159 non-null    float64\n",
            " 6   PRECIO                 159 non-null    float64\n",
            " 7   IMPORTEMONTRANSACCION  159 non-null    float64\n",
            " 8   MONEDA                 159 non-null    object \n",
            "dtypes: float64(3), object(6)\n",
            "memory usage: 11.3+ KB\n"
          ]
        }
      ],
      "source": [
        "df.info()"
      ]
    },
    {
      "cell_type": "markdown",
      "id": "33cba007-3a7b-4335-b8cd-f8e014478584",
      "metadata": {
        "id": "33cba007-3a7b-4335-b8cd-f8e014478584"
      },
      "source": [
        "##### **Valor mínimo y valor máximo del DataFrame**"
      ]
    },
    {
      "cell_type": "code",
      "execution_count": 39,
      "id": "6c98a8ff-ec79-4059-a6d0-8419227066e9",
      "metadata": {
        "id": "6c98a8ff-ec79-4059-a6d0-8419227066e9",
        "outputId": "68c63877-0e48-499e-8324-73c141648376",
        "colab": {
          "base_uri": "https://localhost:8080/"
        }
      },
      "outputs": [
        {
          "output_type": "execute_result",
          "data": {
            "text/plain": [
              "DOCUMENTO                     A-0001-00000128\n",
              "ORGANIZACION                     Amazon Group\n",
              "FECHA                                  1/1/18\n",
              "TIPOFACTURA                           Factura\n",
              "PRODUCTO                 Cable RGB para video\n",
              "CANTIDAD                                  1.0\n",
              "PRECIO                                107.438\n",
              "IMPORTEMONTRANSACCION                  123.97\n",
              "MONEDA                                Dólares\n",
              "dtype: object"
            ]
          },
          "metadata": {},
          "execution_count": 39
        }
      ],
      "source": [
        "df.min()"
      ]
    },
    {
      "cell_type": "code",
      "execution_count": 40,
      "id": "812fa86d-49c7-4e40-b401-34f70b7c3415",
      "metadata": {
        "id": "812fa86d-49c7-4e40-b401-34f70b7c3415",
        "outputId": "a2907e56-6b75-4056-8cbe-042ab2ffcb85",
        "colab": {
          "base_uri": "https://localhost:8080/"
        }
      },
      "outputs": [
        {
          "output_type": "execute_result",
          "data": {
            "text/plain": [
              "DOCUMENTO                                                  B-0001-00000102\n",
              "ORGANIZACION                                              Valeria Welponer\n",
              "FECHA                                                               9/9/18\n",
              "TIPOFACTURA                                                        Factura\n",
              "PRODUCTO                 Televisor Led Samsung 32  Hd Con Soporte Y Con...\n",
              "CANTIDAD                                                              60.0\n",
              "PRECIO                                                            165980.0\n",
              "IMPORTEMONTRANSACCION                                             370620.0\n",
              "MONEDA                                                    Pesos Argentinos\n",
              "dtype: object"
            ]
          },
          "metadata": {},
          "execution_count": 40
        }
      ],
      "source": [
        "df.max()"
      ]
    },
    {
      "cell_type": "markdown",
      "id": "40ac43ef-eb58-4d61-93c0-aaa6e3cced37",
      "metadata": {
        "id": "40ac43ef-eb58-4d61-93c0-aaa6e3cced37"
      },
      "source": [
        "***Podemos observar que, como el tipo de datos de la fecha no es el que corresponde, en el cálculo del mínimo y del máximo se toma el valor del caracter, en vez de la fecha...***"
      ]
    },
    {
      "cell_type": "code",
      "execution_count": 41,
      "id": "0976e2f8-05d9-48db-b0cc-9c9a11a5db7b",
      "metadata": {
        "id": "0976e2f8-05d9-48db-b0cc-9c9a11a5db7b"
      },
      "outputs": [],
      "source": [
        "df[\"FECHA\"] = pd.to_datetime(df.FECHA, infer_datetime_format=True)"
      ]
    },
    {
      "cell_type": "code",
      "execution_count": 42,
      "id": "79ef4119-9dae-4965-a605-2193e40edeeb",
      "metadata": {
        "id": "79ef4119-9dae-4965-a605-2193e40edeeb",
        "outputId": "c9b6e2c7-2e65-4f2d-8bc9-6beab20a2b95",
        "colab": {
          "base_uri": "https://localhost:8080/"
        }
      },
      "outputs": [
        {
          "output_type": "stream",
          "name": "stdout",
          "text": [
            "<class 'pandas.core.frame.DataFrame'>\n",
            "RangeIndex: 159 entries, 0 to 158\n",
            "Data columns (total 9 columns):\n",
            " #   Column                 Non-Null Count  Dtype         \n",
            "---  ------                 --------------  -----         \n",
            " 0   DOCUMENTO              159 non-null    object        \n",
            " 1   ORGANIZACION           159 non-null    object        \n",
            " 2   FECHA                  159 non-null    datetime64[ns]\n",
            " 3   TIPOFACTURA            159 non-null    object        \n",
            " 4   PRODUCTO               159 non-null    object        \n",
            " 5   CANTIDAD               159 non-null    float64       \n",
            " 6   PRECIO                 159 non-null    float64       \n",
            " 7   IMPORTEMONTRANSACCION  159 non-null    float64       \n",
            " 8   MONEDA                 159 non-null    object        \n",
            "dtypes: datetime64[ns](1), float64(3), object(5)\n",
            "memory usage: 11.3+ KB\n"
          ]
        }
      ],
      "source": [
        "df.info()"
      ]
    },
    {
      "cell_type": "markdown",
      "id": "f43e97b4-aef0-452e-a1c0-8b4e24f8b496",
      "metadata": {
        "id": "f43e97b4-aef0-452e-a1c0-8b4e24f8b496"
      },
      "source": [
        "***Ahora si se puede observar que el tipo de dato para FECHA es el que corresponde, por lo que consultar los minimos y maximos del DataFrame arrojará bien los resultados...***"
      ]
    },
    {
      "cell_type": "code",
      "execution_count": 43,
      "id": "8798cbf1-8275-4f6f-b4ac-ad6726b14af2",
      "metadata": {
        "id": "8798cbf1-8275-4f6f-b4ac-ad6726b14af2",
        "outputId": "26c0860a-9fa6-428d-8569-aa33f1b4ea2f",
        "colab": {
          "base_uri": "https://localhost:8080/"
        }
      },
      "outputs": [
        {
          "output_type": "execute_result",
          "data": {
            "text/plain": [
              "DOCUMENTO                     A-0001-00000128\n",
              "ORGANIZACION                     Amazon Group\n",
              "FECHA                     2018-01-01 00:00:00\n",
              "TIPOFACTURA                           Factura\n",
              "PRODUCTO                 Cable RGB para video\n",
              "CANTIDAD                                  1.0\n",
              "PRECIO                                107.438\n",
              "IMPORTEMONTRANSACCION                  123.97\n",
              "MONEDA                                Dólares\n",
              "dtype: object"
            ]
          },
          "metadata": {},
          "execution_count": 43
        }
      ],
      "source": [
        "df.min()"
      ]
    },
    {
      "cell_type": "code",
      "execution_count": 44,
      "id": "93cbc3df-fdce-4f89-8b0f-46c598192614",
      "metadata": {
        "id": "93cbc3df-fdce-4f89-8b0f-46c598192614",
        "outputId": "c7687c37-4e4a-4f45-a126-7d01aaca4a6e",
        "colab": {
          "base_uri": "https://localhost:8080/"
        }
      },
      "outputs": [
        {
          "output_type": "execute_result",
          "data": {
            "text/plain": [
              "DOCUMENTO                                                  B-0001-00000102\n",
              "ORGANIZACION                                              Valeria Welponer\n",
              "FECHA                                                  2019-12-27 00:00:00\n",
              "TIPOFACTURA                                                        Factura\n",
              "PRODUCTO                 Televisor Led Samsung 32  Hd Con Soporte Y Con...\n",
              "CANTIDAD                                                              60.0\n",
              "PRECIO                                                            165980.0\n",
              "IMPORTEMONTRANSACCION                                             370620.0\n",
              "MONEDA                                                    Pesos Argentinos\n",
              "dtype: object"
            ]
          },
          "metadata": {},
          "execution_count": 44
        }
      ],
      "source": [
        "df.max()"
      ]
    },
    {
      "cell_type": "markdown",
      "id": "7db978b6-0706-4374-921b-a58bdec37724",
      "metadata": {
        "tags": [],
        "id": "7db978b6-0706-4374-921b-a58bdec37724"
      },
      "source": [
        "##### **Resúmen de estadística descriptiva**"
      ]
    },
    {
      "cell_type": "markdown",
      "id": "f3a1f2d3-6fe2-4009-9598-18d98f23f0fb",
      "metadata": {
        "id": "f3a1f2d3-6fe2-4009-9598-18d98f23f0fb"
      },
      "source": [
        "***En principio, y por defecto, este resumen descriptivo se hace sobre las columnas que tienen tipo de dato numérico, pero tambien se puede generar un resúmen con otro tipo de datos...***"
      ]
    },
    {
      "cell_type": "code",
      "execution_count": 45,
      "id": "1ad7a043-95c3-426c-aa6e-2cb6ec997616",
      "metadata": {
        "id": "1ad7a043-95c3-426c-aa6e-2cb6ec997616",
        "outputId": "7d0c1930-0ab6-4be6-8e4b-7ecae6b8afe6",
        "colab": {
          "base_uri": "https://localhost:8080/",
          "height": 297
        }
      },
      "outputs": [
        {
          "output_type": "execute_result",
          "data": {
            "text/plain": [
              "         CANTIDAD         PRECIO  IMPORTEMONTRANSACCION\n",
              "count  159.000000     159.000000             159.000000\n",
              "mean     7.383648   24021.195378           58406.882767\n",
              "std     11.455914   30051.944155           73240.581780\n",
              "min      1.000000     107.438000             123.970000\n",
              "25%      1.000000    3500.000000           14525.000000\n",
              "50%      1.000000   12000.000000           31404.960000\n",
              "75%     10.000000   32249.500000           71570.250000\n",
              "max     60.000000  165980.000000          370620.000000"
            ],
            "text/html": [
              "\n",
              "  <div id=\"df-a6dfc094-2b44-41c1-84d5-2fd523281638\">\n",
              "    <div class=\"colab-df-container\">\n",
              "      <div>\n",
              "<style scoped>\n",
              "    .dataframe tbody tr th:only-of-type {\n",
              "        vertical-align: middle;\n",
              "    }\n",
              "\n",
              "    .dataframe tbody tr th {\n",
              "        vertical-align: top;\n",
              "    }\n",
              "\n",
              "    .dataframe thead th {\n",
              "        text-align: right;\n",
              "    }\n",
              "</style>\n",
              "<table border=\"1\" class=\"dataframe\">\n",
              "  <thead>\n",
              "    <tr style=\"text-align: right;\">\n",
              "      <th></th>\n",
              "      <th>CANTIDAD</th>\n",
              "      <th>PRECIO</th>\n",
              "      <th>IMPORTEMONTRANSACCION</th>\n",
              "    </tr>\n",
              "  </thead>\n",
              "  <tbody>\n",
              "    <tr>\n",
              "      <th>count</th>\n",
              "      <td>159.000000</td>\n",
              "      <td>159.000000</td>\n",
              "      <td>159.000000</td>\n",
              "    </tr>\n",
              "    <tr>\n",
              "      <th>mean</th>\n",
              "      <td>7.383648</td>\n",
              "      <td>24021.195378</td>\n",
              "      <td>58406.882767</td>\n",
              "    </tr>\n",
              "    <tr>\n",
              "      <th>std</th>\n",
              "      <td>11.455914</td>\n",
              "      <td>30051.944155</td>\n",
              "      <td>73240.581780</td>\n",
              "    </tr>\n",
              "    <tr>\n",
              "      <th>min</th>\n",
              "      <td>1.000000</td>\n",
              "      <td>107.438000</td>\n",
              "      <td>123.970000</td>\n",
              "    </tr>\n",
              "    <tr>\n",
              "      <th>25%</th>\n",
              "      <td>1.000000</td>\n",
              "      <td>3500.000000</td>\n",
              "      <td>14525.000000</td>\n",
              "    </tr>\n",
              "    <tr>\n",
              "      <th>50%</th>\n",
              "      <td>1.000000</td>\n",
              "      <td>12000.000000</td>\n",
              "      <td>31404.960000</td>\n",
              "    </tr>\n",
              "    <tr>\n",
              "      <th>75%</th>\n",
              "      <td>10.000000</td>\n",
              "      <td>32249.500000</td>\n",
              "      <td>71570.250000</td>\n",
              "    </tr>\n",
              "    <tr>\n",
              "      <th>max</th>\n",
              "      <td>60.000000</td>\n",
              "      <td>165980.000000</td>\n",
              "      <td>370620.000000</td>\n",
              "    </tr>\n",
              "  </tbody>\n",
              "</table>\n",
              "</div>\n",
              "      <button class=\"colab-df-convert\" onclick=\"convertToInteractive('df-a6dfc094-2b44-41c1-84d5-2fd523281638')\"\n",
              "              title=\"Convert this dataframe to an interactive table.\"\n",
              "              style=\"display:none;\">\n",
              "        \n",
              "  <svg xmlns=\"http://www.w3.org/2000/svg\" height=\"24px\"viewBox=\"0 0 24 24\"\n",
              "       width=\"24px\">\n",
              "    <path d=\"M0 0h24v24H0V0z\" fill=\"none\"/>\n",
              "    <path d=\"M18.56 5.44l.94 2.06.94-2.06 2.06-.94-2.06-.94-.94-2.06-.94 2.06-2.06.94zm-11 1L8.5 8.5l.94-2.06 2.06-.94-2.06-.94L8.5 2.5l-.94 2.06-2.06.94zm10 10l.94 2.06.94-2.06 2.06-.94-2.06-.94-.94-2.06-.94 2.06-2.06.94z\"/><path d=\"M17.41 7.96l-1.37-1.37c-.4-.4-.92-.59-1.43-.59-.52 0-1.04.2-1.43.59L10.3 9.45l-7.72 7.72c-.78.78-.78 2.05 0 2.83L4 21.41c.39.39.9.59 1.41.59.51 0 1.02-.2 1.41-.59l7.78-7.78 2.81-2.81c.8-.78.8-2.07 0-2.86zM5.41 20L4 18.59l7.72-7.72 1.47 1.35L5.41 20z\"/>\n",
              "  </svg>\n",
              "      </button>\n",
              "      \n",
              "  <style>\n",
              "    .colab-df-container {\n",
              "      display:flex;\n",
              "      flex-wrap:wrap;\n",
              "      gap: 12px;\n",
              "    }\n",
              "\n",
              "    .colab-df-convert {\n",
              "      background-color: #E8F0FE;\n",
              "      border: none;\n",
              "      border-radius: 50%;\n",
              "      cursor: pointer;\n",
              "      display: none;\n",
              "      fill: #1967D2;\n",
              "      height: 32px;\n",
              "      padding: 0 0 0 0;\n",
              "      width: 32px;\n",
              "    }\n",
              "\n",
              "    .colab-df-convert:hover {\n",
              "      background-color: #E2EBFA;\n",
              "      box-shadow: 0px 1px 2px rgba(60, 64, 67, 0.3), 0px 1px 3px 1px rgba(60, 64, 67, 0.15);\n",
              "      fill: #174EA6;\n",
              "    }\n",
              "\n",
              "    [theme=dark] .colab-df-convert {\n",
              "      background-color: #3B4455;\n",
              "      fill: #D2E3FC;\n",
              "    }\n",
              "\n",
              "    [theme=dark] .colab-df-convert:hover {\n",
              "      background-color: #434B5C;\n",
              "      box-shadow: 0px 1px 3px 1px rgba(0, 0, 0, 0.15);\n",
              "      filter: drop-shadow(0px 1px 2px rgba(0, 0, 0, 0.3));\n",
              "      fill: #FFFFFF;\n",
              "    }\n",
              "  </style>\n",
              "\n",
              "      <script>\n",
              "        const buttonEl =\n",
              "          document.querySelector('#df-a6dfc094-2b44-41c1-84d5-2fd523281638 button.colab-df-convert');\n",
              "        buttonEl.style.display =\n",
              "          google.colab.kernel.accessAllowed ? 'block' : 'none';\n",
              "\n",
              "        async function convertToInteractive(key) {\n",
              "          const element = document.querySelector('#df-a6dfc094-2b44-41c1-84d5-2fd523281638');\n",
              "          const dataTable =\n",
              "            await google.colab.kernel.invokeFunction('convertToInteractive',\n",
              "                                                     [key], {});\n",
              "          if (!dataTable) return;\n",
              "\n",
              "          const docLinkHtml = 'Like what you see? Visit the ' +\n",
              "            '<a target=\"_blank\" href=https://colab.research.google.com/notebooks/data_table.ipynb>data table notebook</a>'\n",
              "            + ' to learn more about interactive tables.';\n",
              "          element.innerHTML = '';\n",
              "          dataTable['output_type'] = 'display_data';\n",
              "          await google.colab.output.renderOutput(dataTable, element);\n",
              "          const docLink = document.createElement('div');\n",
              "          docLink.innerHTML = docLinkHtml;\n",
              "          element.appendChild(docLink);\n",
              "        }\n",
              "      </script>\n",
              "    </div>\n",
              "  </div>\n",
              "  "
            ]
          },
          "metadata": {},
          "execution_count": 45
        }
      ],
      "source": [
        "df.describe()"
      ]
    },
    {
      "cell_type": "code",
      "source": [
        "round(df.describe(),2)"
      ],
      "metadata": {
        "colab": {
          "base_uri": "https://localhost:8080/",
          "height": 297
        },
        "id": "7qnmx4VOZ9rO",
        "outputId": "2e2a61ae-6229-4ff2-b99f-6fa46a8b552c"
      },
      "id": "7qnmx4VOZ9rO",
      "execution_count": 47,
      "outputs": [
        {
          "output_type": "execute_result",
          "data": {
            "text/plain": [
              "       CANTIDAD     PRECIO  IMPORTEMONTRANSACCION\n",
              "count    159.00     159.00                 159.00\n",
              "mean       7.38   24021.20               58406.88\n",
              "std       11.46   30051.94               73240.58\n",
              "min        1.00     107.44                 123.97\n",
              "25%        1.00    3500.00               14525.00\n",
              "50%        1.00   12000.00               31404.96\n",
              "75%       10.00   32249.50               71570.25\n",
              "max       60.00  165980.00              370620.00"
            ],
            "text/html": [
              "\n",
              "  <div id=\"df-151a3383-92df-4569-864b-c576cbdaf97c\">\n",
              "    <div class=\"colab-df-container\">\n",
              "      <div>\n",
              "<style scoped>\n",
              "    .dataframe tbody tr th:only-of-type {\n",
              "        vertical-align: middle;\n",
              "    }\n",
              "\n",
              "    .dataframe tbody tr th {\n",
              "        vertical-align: top;\n",
              "    }\n",
              "\n",
              "    .dataframe thead th {\n",
              "        text-align: right;\n",
              "    }\n",
              "</style>\n",
              "<table border=\"1\" class=\"dataframe\">\n",
              "  <thead>\n",
              "    <tr style=\"text-align: right;\">\n",
              "      <th></th>\n",
              "      <th>CANTIDAD</th>\n",
              "      <th>PRECIO</th>\n",
              "      <th>IMPORTEMONTRANSACCION</th>\n",
              "    </tr>\n",
              "  </thead>\n",
              "  <tbody>\n",
              "    <tr>\n",
              "      <th>count</th>\n",
              "      <td>159.00</td>\n",
              "      <td>159.00</td>\n",
              "      <td>159.00</td>\n",
              "    </tr>\n",
              "    <tr>\n",
              "      <th>mean</th>\n",
              "      <td>7.38</td>\n",
              "      <td>24021.20</td>\n",
              "      <td>58406.88</td>\n",
              "    </tr>\n",
              "    <tr>\n",
              "      <th>std</th>\n",
              "      <td>11.46</td>\n",
              "      <td>30051.94</td>\n",
              "      <td>73240.58</td>\n",
              "    </tr>\n",
              "    <tr>\n",
              "      <th>min</th>\n",
              "      <td>1.00</td>\n",
              "      <td>107.44</td>\n",
              "      <td>123.97</td>\n",
              "    </tr>\n",
              "    <tr>\n",
              "      <th>25%</th>\n",
              "      <td>1.00</td>\n",
              "      <td>3500.00</td>\n",
              "      <td>14525.00</td>\n",
              "    </tr>\n",
              "    <tr>\n",
              "      <th>50%</th>\n",
              "      <td>1.00</td>\n",
              "      <td>12000.00</td>\n",
              "      <td>31404.96</td>\n",
              "    </tr>\n",
              "    <tr>\n",
              "      <th>75%</th>\n",
              "      <td>10.00</td>\n",
              "      <td>32249.50</td>\n",
              "      <td>71570.25</td>\n",
              "    </tr>\n",
              "    <tr>\n",
              "      <th>max</th>\n",
              "      <td>60.00</td>\n",
              "      <td>165980.00</td>\n",
              "      <td>370620.00</td>\n",
              "    </tr>\n",
              "  </tbody>\n",
              "</table>\n",
              "</div>\n",
              "      <button class=\"colab-df-convert\" onclick=\"convertToInteractive('df-151a3383-92df-4569-864b-c576cbdaf97c')\"\n",
              "              title=\"Convert this dataframe to an interactive table.\"\n",
              "              style=\"display:none;\">\n",
              "        \n",
              "  <svg xmlns=\"http://www.w3.org/2000/svg\" height=\"24px\"viewBox=\"0 0 24 24\"\n",
              "       width=\"24px\">\n",
              "    <path d=\"M0 0h24v24H0V0z\" fill=\"none\"/>\n",
              "    <path d=\"M18.56 5.44l.94 2.06.94-2.06 2.06-.94-2.06-.94-.94-2.06-.94 2.06-2.06.94zm-11 1L8.5 8.5l.94-2.06 2.06-.94-2.06-.94L8.5 2.5l-.94 2.06-2.06.94zm10 10l.94 2.06.94-2.06 2.06-.94-2.06-.94-.94-2.06-.94 2.06-2.06.94z\"/><path d=\"M17.41 7.96l-1.37-1.37c-.4-.4-.92-.59-1.43-.59-.52 0-1.04.2-1.43.59L10.3 9.45l-7.72 7.72c-.78.78-.78 2.05 0 2.83L4 21.41c.39.39.9.59 1.41.59.51 0 1.02-.2 1.41-.59l7.78-7.78 2.81-2.81c.8-.78.8-2.07 0-2.86zM5.41 20L4 18.59l7.72-7.72 1.47 1.35L5.41 20z\"/>\n",
              "  </svg>\n",
              "      </button>\n",
              "      \n",
              "  <style>\n",
              "    .colab-df-container {\n",
              "      display:flex;\n",
              "      flex-wrap:wrap;\n",
              "      gap: 12px;\n",
              "    }\n",
              "\n",
              "    .colab-df-convert {\n",
              "      background-color: #E8F0FE;\n",
              "      border: none;\n",
              "      border-radius: 50%;\n",
              "      cursor: pointer;\n",
              "      display: none;\n",
              "      fill: #1967D2;\n",
              "      height: 32px;\n",
              "      padding: 0 0 0 0;\n",
              "      width: 32px;\n",
              "    }\n",
              "\n",
              "    .colab-df-convert:hover {\n",
              "      background-color: #E2EBFA;\n",
              "      box-shadow: 0px 1px 2px rgba(60, 64, 67, 0.3), 0px 1px 3px 1px rgba(60, 64, 67, 0.15);\n",
              "      fill: #174EA6;\n",
              "    }\n",
              "\n",
              "    [theme=dark] .colab-df-convert {\n",
              "      background-color: #3B4455;\n",
              "      fill: #D2E3FC;\n",
              "    }\n",
              "\n",
              "    [theme=dark] .colab-df-convert:hover {\n",
              "      background-color: #434B5C;\n",
              "      box-shadow: 0px 1px 3px 1px rgba(0, 0, 0, 0.15);\n",
              "      filter: drop-shadow(0px 1px 2px rgba(0, 0, 0, 0.3));\n",
              "      fill: #FFFFFF;\n",
              "    }\n",
              "  </style>\n",
              "\n",
              "      <script>\n",
              "        const buttonEl =\n",
              "          document.querySelector('#df-151a3383-92df-4569-864b-c576cbdaf97c button.colab-df-convert');\n",
              "        buttonEl.style.display =\n",
              "          google.colab.kernel.accessAllowed ? 'block' : 'none';\n",
              "\n",
              "        async function convertToInteractive(key) {\n",
              "          const element = document.querySelector('#df-151a3383-92df-4569-864b-c576cbdaf97c');\n",
              "          const dataTable =\n",
              "            await google.colab.kernel.invokeFunction('convertToInteractive',\n",
              "                                                     [key], {});\n",
              "          if (!dataTable) return;\n",
              "\n",
              "          const docLinkHtml = 'Like what you see? Visit the ' +\n",
              "            '<a target=\"_blank\" href=https://colab.research.google.com/notebooks/data_table.ipynb>data table notebook</a>'\n",
              "            + ' to learn more about interactive tables.';\n",
              "          element.innerHTML = '';\n",
              "          dataTable['output_type'] = 'display_data';\n",
              "          await google.colab.output.renderOutput(dataTable, element);\n",
              "          const docLink = document.createElement('div');\n",
              "          docLink.innerHTML = docLinkHtml;\n",
              "          element.appendChild(docLink);\n",
              "        }\n",
              "      </script>\n",
              "    </div>\n",
              "  </div>\n",
              "  "
            ]
          },
          "metadata": {},
          "execution_count": 47
        }
      ]
    },
    {
      "cell_type": "code",
      "execution_count": 46,
      "id": "07173a1c-505c-4cde-805f-557c683eda18",
      "metadata": {
        "id": "07173a1c-505c-4cde-805f-557c683eda18",
        "outputId": "a012a9d6-f94a-435e-8dd2-37e912e4b0e0",
        "colab": {
          "base_uri": "https://localhost:8080/",
          "height": 142
        }
      },
      "outputs": [
        {
          "output_type": "execute_result",
          "data": {
            "text/plain": [
              "                       count          mean           std      min      25%  \\\n",
              "CANTIDAD               159.0      7.383648     11.455914    1.000      1.0   \n",
              "PRECIO                 159.0  24021.195378  30051.944155  107.438   3500.0   \n",
              "IMPORTEMONTRANSACCION  159.0  58406.882767  73240.581780  123.970  14525.0   \n",
              "\n",
              "                            50%       75%       max  \n",
              "CANTIDAD                   1.00     10.00      60.0  \n",
              "PRECIO                 12000.00  32249.50  165980.0  \n",
              "IMPORTEMONTRANSACCION  31404.96  71570.25  370620.0  "
            ],
            "text/html": [
              "\n",
              "  <div id=\"df-5c20eecd-bd15-490a-985a-5bd1d02e1582\">\n",
              "    <div class=\"colab-df-container\">\n",
              "      <div>\n",
              "<style scoped>\n",
              "    .dataframe tbody tr th:only-of-type {\n",
              "        vertical-align: middle;\n",
              "    }\n",
              "\n",
              "    .dataframe tbody tr th {\n",
              "        vertical-align: top;\n",
              "    }\n",
              "\n",
              "    .dataframe thead th {\n",
              "        text-align: right;\n",
              "    }\n",
              "</style>\n",
              "<table border=\"1\" class=\"dataframe\">\n",
              "  <thead>\n",
              "    <tr style=\"text-align: right;\">\n",
              "      <th></th>\n",
              "      <th>count</th>\n",
              "      <th>mean</th>\n",
              "      <th>std</th>\n",
              "      <th>min</th>\n",
              "      <th>25%</th>\n",
              "      <th>50%</th>\n",
              "      <th>75%</th>\n",
              "      <th>max</th>\n",
              "    </tr>\n",
              "  </thead>\n",
              "  <tbody>\n",
              "    <tr>\n",
              "      <th>CANTIDAD</th>\n",
              "      <td>159.0</td>\n",
              "      <td>7.383648</td>\n",
              "      <td>11.455914</td>\n",
              "      <td>1.000</td>\n",
              "      <td>1.0</td>\n",
              "      <td>1.00</td>\n",
              "      <td>10.00</td>\n",
              "      <td>60.0</td>\n",
              "    </tr>\n",
              "    <tr>\n",
              "      <th>PRECIO</th>\n",
              "      <td>159.0</td>\n",
              "      <td>24021.195378</td>\n",
              "      <td>30051.944155</td>\n",
              "      <td>107.438</td>\n",
              "      <td>3500.0</td>\n",
              "      <td>12000.00</td>\n",
              "      <td>32249.50</td>\n",
              "      <td>165980.0</td>\n",
              "    </tr>\n",
              "    <tr>\n",
              "      <th>IMPORTEMONTRANSACCION</th>\n",
              "      <td>159.0</td>\n",
              "      <td>58406.882767</td>\n",
              "      <td>73240.581780</td>\n",
              "      <td>123.970</td>\n",
              "      <td>14525.0</td>\n",
              "      <td>31404.96</td>\n",
              "      <td>71570.25</td>\n",
              "      <td>370620.0</td>\n",
              "    </tr>\n",
              "  </tbody>\n",
              "</table>\n",
              "</div>\n",
              "      <button class=\"colab-df-convert\" onclick=\"convertToInteractive('df-5c20eecd-bd15-490a-985a-5bd1d02e1582')\"\n",
              "              title=\"Convert this dataframe to an interactive table.\"\n",
              "              style=\"display:none;\">\n",
              "        \n",
              "  <svg xmlns=\"http://www.w3.org/2000/svg\" height=\"24px\"viewBox=\"0 0 24 24\"\n",
              "       width=\"24px\">\n",
              "    <path d=\"M0 0h24v24H0V0z\" fill=\"none\"/>\n",
              "    <path d=\"M18.56 5.44l.94 2.06.94-2.06 2.06-.94-2.06-.94-.94-2.06-.94 2.06-2.06.94zm-11 1L8.5 8.5l.94-2.06 2.06-.94-2.06-.94L8.5 2.5l-.94 2.06-2.06.94zm10 10l.94 2.06.94-2.06 2.06-.94-2.06-.94-.94-2.06-.94 2.06-2.06.94z\"/><path d=\"M17.41 7.96l-1.37-1.37c-.4-.4-.92-.59-1.43-.59-.52 0-1.04.2-1.43.59L10.3 9.45l-7.72 7.72c-.78.78-.78 2.05 0 2.83L4 21.41c.39.39.9.59 1.41.59.51 0 1.02-.2 1.41-.59l7.78-7.78 2.81-2.81c.8-.78.8-2.07 0-2.86zM5.41 20L4 18.59l7.72-7.72 1.47 1.35L5.41 20z\"/>\n",
              "  </svg>\n",
              "      </button>\n",
              "      \n",
              "  <style>\n",
              "    .colab-df-container {\n",
              "      display:flex;\n",
              "      flex-wrap:wrap;\n",
              "      gap: 12px;\n",
              "    }\n",
              "\n",
              "    .colab-df-convert {\n",
              "      background-color: #E8F0FE;\n",
              "      border: none;\n",
              "      border-radius: 50%;\n",
              "      cursor: pointer;\n",
              "      display: none;\n",
              "      fill: #1967D2;\n",
              "      height: 32px;\n",
              "      padding: 0 0 0 0;\n",
              "      width: 32px;\n",
              "    }\n",
              "\n",
              "    .colab-df-convert:hover {\n",
              "      background-color: #E2EBFA;\n",
              "      box-shadow: 0px 1px 2px rgba(60, 64, 67, 0.3), 0px 1px 3px 1px rgba(60, 64, 67, 0.15);\n",
              "      fill: #174EA6;\n",
              "    }\n",
              "\n",
              "    [theme=dark] .colab-df-convert {\n",
              "      background-color: #3B4455;\n",
              "      fill: #D2E3FC;\n",
              "    }\n",
              "\n",
              "    [theme=dark] .colab-df-convert:hover {\n",
              "      background-color: #434B5C;\n",
              "      box-shadow: 0px 1px 3px 1px rgba(0, 0, 0, 0.15);\n",
              "      filter: drop-shadow(0px 1px 2px rgba(0, 0, 0, 0.3));\n",
              "      fill: #FFFFFF;\n",
              "    }\n",
              "  </style>\n",
              "\n",
              "      <script>\n",
              "        const buttonEl =\n",
              "          document.querySelector('#df-5c20eecd-bd15-490a-985a-5bd1d02e1582 button.colab-df-convert');\n",
              "        buttonEl.style.display =\n",
              "          google.colab.kernel.accessAllowed ? 'block' : 'none';\n",
              "\n",
              "        async function convertToInteractive(key) {\n",
              "          const element = document.querySelector('#df-5c20eecd-bd15-490a-985a-5bd1d02e1582');\n",
              "          const dataTable =\n",
              "            await google.colab.kernel.invokeFunction('convertToInteractive',\n",
              "                                                     [key], {});\n",
              "          if (!dataTable) return;\n",
              "\n",
              "          const docLinkHtml = 'Like what you see? Visit the ' +\n",
              "            '<a target=\"_blank\" href=https://colab.research.google.com/notebooks/data_table.ipynb>data table notebook</a>'\n",
              "            + ' to learn more about interactive tables.';\n",
              "          element.innerHTML = '';\n",
              "          dataTable['output_type'] = 'display_data';\n",
              "          await google.colab.output.renderOutput(dataTable, element);\n",
              "          const docLink = document.createElement('div');\n",
              "          docLink.innerHTML = docLinkHtml;\n",
              "          element.appendChild(docLink);\n",
              "        }\n",
              "      </script>\n",
              "    </div>\n",
              "  </div>\n",
              "  "
            ]
          },
          "metadata": {},
          "execution_count": 46
        }
      ],
      "source": [
        "df.describe().T"
      ]
    },
    {
      "cell_type": "code",
      "source": [
        "round(df.describe(),2).T"
      ],
      "metadata": {
        "colab": {
          "base_uri": "https://localhost:8080/",
          "height": 142
        },
        "id": "o4KzA9BVaCkB",
        "outputId": "d870b9ff-c42f-4f95-8ad2-be92778b4937"
      },
      "id": "o4KzA9BVaCkB",
      "execution_count": 48,
      "outputs": [
        {
          "output_type": "execute_result",
          "data": {
            "text/plain": [
              "                       count      mean       std     min      25%       50%  \\\n",
              "CANTIDAD               159.0      7.38     11.46    1.00      1.0      1.00   \n",
              "PRECIO                 159.0  24021.20  30051.94  107.44   3500.0  12000.00   \n",
              "IMPORTEMONTRANSACCION  159.0  58406.88  73240.58  123.97  14525.0  31404.96   \n",
              "\n",
              "                            75%       max  \n",
              "CANTIDAD                  10.00      60.0  \n",
              "PRECIO                 32249.50  165980.0  \n",
              "IMPORTEMONTRANSACCION  71570.25  370620.0  "
            ],
            "text/html": [
              "\n",
              "  <div id=\"df-b6be7ec8-6a70-4dc0-bf83-95436f40171a\">\n",
              "    <div class=\"colab-df-container\">\n",
              "      <div>\n",
              "<style scoped>\n",
              "    .dataframe tbody tr th:only-of-type {\n",
              "        vertical-align: middle;\n",
              "    }\n",
              "\n",
              "    .dataframe tbody tr th {\n",
              "        vertical-align: top;\n",
              "    }\n",
              "\n",
              "    .dataframe thead th {\n",
              "        text-align: right;\n",
              "    }\n",
              "</style>\n",
              "<table border=\"1\" class=\"dataframe\">\n",
              "  <thead>\n",
              "    <tr style=\"text-align: right;\">\n",
              "      <th></th>\n",
              "      <th>count</th>\n",
              "      <th>mean</th>\n",
              "      <th>std</th>\n",
              "      <th>min</th>\n",
              "      <th>25%</th>\n",
              "      <th>50%</th>\n",
              "      <th>75%</th>\n",
              "      <th>max</th>\n",
              "    </tr>\n",
              "  </thead>\n",
              "  <tbody>\n",
              "    <tr>\n",
              "      <th>CANTIDAD</th>\n",
              "      <td>159.0</td>\n",
              "      <td>7.38</td>\n",
              "      <td>11.46</td>\n",
              "      <td>1.00</td>\n",
              "      <td>1.0</td>\n",
              "      <td>1.00</td>\n",
              "      <td>10.00</td>\n",
              "      <td>60.0</td>\n",
              "    </tr>\n",
              "    <tr>\n",
              "      <th>PRECIO</th>\n",
              "      <td>159.0</td>\n",
              "      <td>24021.20</td>\n",
              "      <td>30051.94</td>\n",
              "      <td>107.44</td>\n",
              "      <td>3500.0</td>\n",
              "      <td>12000.00</td>\n",
              "      <td>32249.50</td>\n",
              "      <td>165980.0</td>\n",
              "    </tr>\n",
              "    <tr>\n",
              "      <th>IMPORTEMONTRANSACCION</th>\n",
              "      <td>159.0</td>\n",
              "      <td>58406.88</td>\n",
              "      <td>73240.58</td>\n",
              "      <td>123.97</td>\n",
              "      <td>14525.0</td>\n",
              "      <td>31404.96</td>\n",
              "      <td>71570.25</td>\n",
              "      <td>370620.0</td>\n",
              "    </tr>\n",
              "  </tbody>\n",
              "</table>\n",
              "</div>\n",
              "      <button class=\"colab-df-convert\" onclick=\"convertToInteractive('df-b6be7ec8-6a70-4dc0-bf83-95436f40171a')\"\n",
              "              title=\"Convert this dataframe to an interactive table.\"\n",
              "              style=\"display:none;\">\n",
              "        \n",
              "  <svg xmlns=\"http://www.w3.org/2000/svg\" height=\"24px\"viewBox=\"0 0 24 24\"\n",
              "       width=\"24px\">\n",
              "    <path d=\"M0 0h24v24H0V0z\" fill=\"none\"/>\n",
              "    <path d=\"M18.56 5.44l.94 2.06.94-2.06 2.06-.94-2.06-.94-.94-2.06-.94 2.06-2.06.94zm-11 1L8.5 8.5l.94-2.06 2.06-.94-2.06-.94L8.5 2.5l-.94 2.06-2.06.94zm10 10l.94 2.06.94-2.06 2.06-.94-2.06-.94-.94-2.06-.94 2.06-2.06.94z\"/><path d=\"M17.41 7.96l-1.37-1.37c-.4-.4-.92-.59-1.43-.59-.52 0-1.04.2-1.43.59L10.3 9.45l-7.72 7.72c-.78.78-.78 2.05 0 2.83L4 21.41c.39.39.9.59 1.41.59.51 0 1.02-.2 1.41-.59l7.78-7.78 2.81-2.81c.8-.78.8-2.07 0-2.86zM5.41 20L4 18.59l7.72-7.72 1.47 1.35L5.41 20z\"/>\n",
              "  </svg>\n",
              "      </button>\n",
              "      \n",
              "  <style>\n",
              "    .colab-df-container {\n",
              "      display:flex;\n",
              "      flex-wrap:wrap;\n",
              "      gap: 12px;\n",
              "    }\n",
              "\n",
              "    .colab-df-convert {\n",
              "      background-color: #E8F0FE;\n",
              "      border: none;\n",
              "      border-radius: 50%;\n",
              "      cursor: pointer;\n",
              "      display: none;\n",
              "      fill: #1967D2;\n",
              "      height: 32px;\n",
              "      padding: 0 0 0 0;\n",
              "      width: 32px;\n",
              "    }\n",
              "\n",
              "    .colab-df-convert:hover {\n",
              "      background-color: #E2EBFA;\n",
              "      box-shadow: 0px 1px 2px rgba(60, 64, 67, 0.3), 0px 1px 3px 1px rgba(60, 64, 67, 0.15);\n",
              "      fill: #174EA6;\n",
              "    }\n",
              "\n",
              "    [theme=dark] .colab-df-convert {\n",
              "      background-color: #3B4455;\n",
              "      fill: #D2E3FC;\n",
              "    }\n",
              "\n",
              "    [theme=dark] .colab-df-convert:hover {\n",
              "      background-color: #434B5C;\n",
              "      box-shadow: 0px 1px 3px 1px rgba(0, 0, 0, 0.15);\n",
              "      filter: drop-shadow(0px 1px 2px rgba(0, 0, 0, 0.3));\n",
              "      fill: #FFFFFF;\n",
              "    }\n",
              "  </style>\n",
              "\n",
              "      <script>\n",
              "        const buttonEl =\n",
              "          document.querySelector('#df-b6be7ec8-6a70-4dc0-bf83-95436f40171a button.colab-df-convert');\n",
              "        buttonEl.style.display =\n",
              "          google.colab.kernel.accessAllowed ? 'block' : 'none';\n",
              "\n",
              "        async function convertToInteractive(key) {\n",
              "          const element = document.querySelector('#df-b6be7ec8-6a70-4dc0-bf83-95436f40171a');\n",
              "          const dataTable =\n",
              "            await google.colab.kernel.invokeFunction('convertToInteractive',\n",
              "                                                     [key], {});\n",
              "          if (!dataTable) return;\n",
              "\n",
              "          const docLinkHtml = 'Like what you see? Visit the ' +\n",
              "            '<a target=\"_blank\" href=https://colab.research.google.com/notebooks/data_table.ipynb>data table notebook</a>'\n",
              "            + ' to learn more about interactive tables.';\n",
              "          element.innerHTML = '';\n",
              "          dataTable['output_type'] = 'display_data';\n",
              "          await google.colab.output.renderOutput(dataTable, element);\n",
              "          const docLink = document.createElement('div');\n",
              "          docLink.innerHTML = docLinkHtml;\n",
              "          element.appendChild(docLink);\n",
              "        }\n",
              "      </script>\n",
              "    </div>\n",
              "  </div>\n",
              "  "
            ]
          },
          "metadata": {},
          "execution_count": 48
        }
      ]
    },
    {
      "cell_type": "markdown",
      "id": "086bfe79-54f2-43db-ad2f-58cc2151ecf8",
      "metadata": {
        "id": "086bfe79-54f2-43db-ad2f-58cc2151ecf8"
      },
      "source": [
        "***Ahora seleccionamos el tipo de dato object para hacer un resumen descriptivo...***"
      ]
    },
    {
      "cell_type": "code",
      "execution_count": 49,
      "id": "28b03ac1-eab8-4aa0-98a0-2d52f244f589",
      "metadata": {
        "id": "28b03ac1-eab8-4aa0-98a0-2d52f244f589",
        "outputId": "17ae2a1e-e807-403b-b78f-bc81f2193d39",
        "colab": {
          "base_uri": "https://localhost:8080/",
          "height": 204
        }
      },
      "outputs": [
        {
          "output_type": "execute_result",
          "data": {
            "text/plain": [
              "             count unique                         top freq\n",
              "DOCUMENTO      159    138             A-0001-00000203    3\n",
              "ORGANIZACION   159     20  Nicolasen y Asociados S.A.   18\n",
              "TIPOFACTURA    159      1                     Factura  159\n",
              "PRODUCTO       159     23             Consultoria Web   30\n",
              "MONEDA         159      2            Pesos Argentinos  157"
            ],
            "text/html": [
              "\n",
              "  <div id=\"df-ca090c7a-e541-48ad-ad08-476757c8703a\">\n",
              "    <div class=\"colab-df-container\">\n",
              "      <div>\n",
              "<style scoped>\n",
              "    .dataframe tbody tr th:only-of-type {\n",
              "        vertical-align: middle;\n",
              "    }\n",
              "\n",
              "    .dataframe tbody tr th {\n",
              "        vertical-align: top;\n",
              "    }\n",
              "\n",
              "    .dataframe thead th {\n",
              "        text-align: right;\n",
              "    }\n",
              "</style>\n",
              "<table border=\"1\" class=\"dataframe\">\n",
              "  <thead>\n",
              "    <tr style=\"text-align: right;\">\n",
              "      <th></th>\n",
              "      <th>count</th>\n",
              "      <th>unique</th>\n",
              "      <th>top</th>\n",
              "      <th>freq</th>\n",
              "    </tr>\n",
              "  </thead>\n",
              "  <tbody>\n",
              "    <tr>\n",
              "      <th>DOCUMENTO</th>\n",
              "      <td>159</td>\n",
              "      <td>138</td>\n",
              "      <td>A-0001-00000203</td>\n",
              "      <td>3</td>\n",
              "    </tr>\n",
              "    <tr>\n",
              "      <th>ORGANIZACION</th>\n",
              "      <td>159</td>\n",
              "      <td>20</td>\n",
              "      <td>Nicolasen y Asociados S.A.</td>\n",
              "      <td>18</td>\n",
              "    </tr>\n",
              "    <tr>\n",
              "      <th>TIPOFACTURA</th>\n",
              "      <td>159</td>\n",
              "      <td>1</td>\n",
              "      <td>Factura</td>\n",
              "      <td>159</td>\n",
              "    </tr>\n",
              "    <tr>\n",
              "      <th>PRODUCTO</th>\n",
              "      <td>159</td>\n",
              "      <td>23</td>\n",
              "      <td>Consultoria Web</td>\n",
              "      <td>30</td>\n",
              "    </tr>\n",
              "    <tr>\n",
              "      <th>MONEDA</th>\n",
              "      <td>159</td>\n",
              "      <td>2</td>\n",
              "      <td>Pesos Argentinos</td>\n",
              "      <td>157</td>\n",
              "    </tr>\n",
              "  </tbody>\n",
              "</table>\n",
              "</div>\n",
              "      <button class=\"colab-df-convert\" onclick=\"convertToInteractive('df-ca090c7a-e541-48ad-ad08-476757c8703a')\"\n",
              "              title=\"Convert this dataframe to an interactive table.\"\n",
              "              style=\"display:none;\">\n",
              "        \n",
              "  <svg xmlns=\"http://www.w3.org/2000/svg\" height=\"24px\"viewBox=\"0 0 24 24\"\n",
              "       width=\"24px\">\n",
              "    <path d=\"M0 0h24v24H0V0z\" fill=\"none\"/>\n",
              "    <path d=\"M18.56 5.44l.94 2.06.94-2.06 2.06-.94-2.06-.94-.94-2.06-.94 2.06-2.06.94zm-11 1L8.5 8.5l.94-2.06 2.06-.94-2.06-.94L8.5 2.5l-.94 2.06-2.06.94zm10 10l.94 2.06.94-2.06 2.06-.94-2.06-.94-.94-2.06-.94 2.06-2.06.94z\"/><path d=\"M17.41 7.96l-1.37-1.37c-.4-.4-.92-.59-1.43-.59-.52 0-1.04.2-1.43.59L10.3 9.45l-7.72 7.72c-.78.78-.78 2.05 0 2.83L4 21.41c.39.39.9.59 1.41.59.51 0 1.02-.2 1.41-.59l7.78-7.78 2.81-2.81c.8-.78.8-2.07 0-2.86zM5.41 20L4 18.59l7.72-7.72 1.47 1.35L5.41 20z\"/>\n",
              "  </svg>\n",
              "      </button>\n",
              "      \n",
              "  <style>\n",
              "    .colab-df-container {\n",
              "      display:flex;\n",
              "      flex-wrap:wrap;\n",
              "      gap: 12px;\n",
              "    }\n",
              "\n",
              "    .colab-df-convert {\n",
              "      background-color: #E8F0FE;\n",
              "      border: none;\n",
              "      border-radius: 50%;\n",
              "      cursor: pointer;\n",
              "      display: none;\n",
              "      fill: #1967D2;\n",
              "      height: 32px;\n",
              "      padding: 0 0 0 0;\n",
              "      width: 32px;\n",
              "    }\n",
              "\n",
              "    .colab-df-convert:hover {\n",
              "      background-color: #E2EBFA;\n",
              "      box-shadow: 0px 1px 2px rgba(60, 64, 67, 0.3), 0px 1px 3px 1px rgba(60, 64, 67, 0.15);\n",
              "      fill: #174EA6;\n",
              "    }\n",
              "\n",
              "    [theme=dark] .colab-df-convert {\n",
              "      background-color: #3B4455;\n",
              "      fill: #D2E3FC;\n",
              "    }\n",
              "\n",
              "    [theme=dark] .colab-df-convert:hover {\n",
              "      background-color: #434B5C;\n",
              "      box-shadow: 0px 1px 3px 1px rgba(0, 0, 0, 0.15);\n",
              "      filter: drop-shadow(0px 1px 2px rgba(0, 0, 0, 0.3));\n",
              "      fill: #FFFFFF;\n",
              "    }\n",
              "  </style>\n",
              "\n",
              "      <script>\n",
              "        const buttonEl =\n",
              "          document.querySelector('#df-ca090c7a-e541-48ad-ad08-476757c8703a button.colab-df-convert');\n",
              "        buttonEl.style.display =\n",
              "          google.colab.kernel.accessAllowed ? 'block' : 'none';\n",
              "\n",
              "        async function convertToInteractive(key) {\n",
              "          const element = document.querySelector('#df-ca090c7a-e541-48ad-ad08-476757c8703a');\n",
              "          const dataTable =\n",
              "            await google.colab.kernel.invokeFunction('convertToInteractive',\n",
              "                                                     [key], {});\n",
              "          if (!dataTable) return;\n",
              "\n",
              "          const docLinkHtml = 'Like what you see? Visit the ' +\n",
              "            '<a target=\"_blank\" href=https://colab.research.google.com/notebooks/data_table.ipynb>data table notebook</a>'\n",
              "            + ' to learn more about interactive tables.';\n",
              "          element.innerHTML = '';\n",
              "          dataTable['output_type'] = 'display_data';\n",
              "          await google.colab.output.renderOutput(dataTable, element);\n",
              "          const docLink = document.createElement('div');\n",
              "          docLink.innerHTML = docLinkHtml;\n",
              "          element.appendChild(docLink);\n",
              "        }\n",
              "      </script>\n",
              "    </div>\n",
              "  </div>\n",
              "  "
            ]
          },
          "metadata": {},
          "execution_count": 49
        }
      ],
      "source": [
        "df.select_dtypes(include=[\"object\"]).describe().T"
      ]
    },
    {
      "cell_type": "markdown",
      "id": "b216c3ef-8bdf-4ca2-a97d-1722ae8efc49",
      "metadata": {
        "id": "b216c3ef-8bdf-4ca2-a97d-1722ae8efc49"
      },
      "source": [
        "**Hemos llegado al fin de este cuaderno, felicitaciones nos estamos iniciando en Pandas, viendo sus estructuras de datos, algunos atributos y funciones que usaremos, ahora a seguir en el proximo cuaderno...** "
      ]
    },
    {
      "cell_type": "markdown",
      "id": "50ce756e-ab71-4f3d-9d38-1f2421be19b1",
      "metadata": {
        "id": "50ce756e-ab71-4f3d-9d38-1f2421be19b1"
      },
      "source": [
        "![nenunenu](https://emojipedia-us.s3.dualstack.us-west-1.amazonaws.com/thumbs/60/apple/124/smiling-face-with-smiling-eyes_1f60a.png)"
      ]
    }
  ],
  "metadata": {
    "kernelspec": {
      "display_name": "Python 3 (ipykernel)",
      "language": "python",
      "name": "python3"
    },
    "language_info": {
      "codemirror_mode": {
        "name": "ipython",
        "version": 3
      },
      "file_extension": ".py",
      "mimetype": "text/x-python",
      "name": "python",
      "nbconvert_exporter": "python",
      "pygments_lexer": "ipython3",
      "version": "3.10.2"
    },
    "colab": {
      "name": "pd-01.ipynb",
      "provenance": [],
      "include_colab_link": true
    }
  },
  "nbformat": 4,
  "nbformat_minor": 5
}