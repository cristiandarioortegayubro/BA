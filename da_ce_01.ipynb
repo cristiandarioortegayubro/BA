{
  "nbformat": 4,
  "nbformat_minor": 0,
  "metadata": {
    "colab": {
      "provenance": [],
      "collapsed_sections": [],
      "toc_visible": true,
      "include_colab_link": true
    },
    "kernelspec": {
      "display_name": "Python 3",
      "name": "python3"
    },
    "widgets": {
      "application/vnd.jupyter.widget-state+json": {
        "104682a175b54d7eae3d9318bdb137d6": {
          "model_module": "@jupyter-widgets/controls",
          "model_name": "HBoxModel",
          "model_module_version": "1.5.0",
          "state": {
            "_dom_classes": [],
            "_model_module": "@jupyter-widgets/controls",
            "_model_module_version": "1.5.0",
            "_model_name": "HBoxModel",
            "_view_count": null,
            "_view_module": "@jupyter-widgets/controls",
            "_view_module_version": "1.5.0",
            "_view_name": "HBoxView",
            "box_style": "",
            "children": [
              "IPY_MODEL_cf6c024812a641d8b7ea0b21bc515fb2",
              "IPY_MODEL_a50334f02c484988aa4e124e357c55e9",
              "IPY_MODEL_e57d58daf0254ab09dc9aff4193bd8ec"
            ],
            "layout": "IPY_MODEL_847d62d65fdb4e2985111ed99fb31750"
          }
        },
        "cf6c024812a641d8b7ea0b21bc515fb2": {
          "model_module": "@jupyter-widgets/controls",
          "model_name": "HTMLModel",
          "model_module_version": "1.5.0",
          "state": {
            "_dom_classes": [],
            "_model_module": "@jupyter-widgets/controls",
            "_model_module_version": "1.5.0",
            "_model_name": "HTMLModel",
            "_view_count": null,
            "_view_module": "@jupyter-widgets/controls",
            "_view_module_version": "1.5.0",
            "_view_name": "HTMLView",
            "description": "",
            "description_tooltip": null,
            "layout": "IPY_MODEL_b32c079821484e24a9ecee827d18152d",
            "placeholder": "​",
            "style": "IPY_MODEL_c3e3586d35d24590886efa7aae62661a",
            "value": "Processing:   0%"
          }
        },
        "a50334f02c484988aa4e124e357c55e9": {
          "model_module": "@jupyter-widgets/controls",
          "model_name": "FloatProgressModel",
          "model_module_version": "1.5.0",
          "state": {
            "_dom_classes": [],
            "_model_module": "@jupyter-widgets/controls",
            "_model_module_version": "1.5.0",
            "_model_name": "FloatProgressModel",
            "_view_count": null,
            "_view_module": "@jupyter-widgets/controls",
            "_view_module_version": "1.5.0",
            "_view_name": "ProgressView",
            "bar_style": "",
            "description": "",
            "description_tooltip": null,
            "layout": "IPY_MODEL_5528564f187e4bba80208f4ea41b3fdb",
            "max": 3,
            "min": 0,
            "orientation": "horizontal",
            "style": "IPY_MODEL_d592fdec2d404ea7b78da3493c860f9c",
            "value": 3
          }
        },
        "e57d58daf0254ab09dc9aff4193bd8ec": {
          "model_module": "@jupyter-widgets/controls",
          "model_name": "HTMLModel",
          "model_module_version": "1.5.0",
          "state": {
            "_dom_classes": [],
            "_model_module": "@jupyter-widgets/controls",
            "_model_module_version": "1.5.0",
            "_model_name": "HTMLModel",
            "_view_count": null,
            "_view_module": "@jupyter-widgets/controls",
            "_view_module_version": "1.5.0",
            "_view_name": "HTMLView",
            "description": "",
            "description_tooltip": null,
            "layout": "IPY_MODEL_1402ee435ec74f8ea4601aa81a320df6",
            "placeholder": "​",
            "style": "IPY_MODEL_02bd9d757f7345cf8e98485370dec097",
            "value": " 0/3 [00:00&lt;?, ?it/s]"
          }
        },
        "847d62d65fdb4e2985111ed99fb31750": {
          "model_module": "@jupyter-widgets/base",
          "model_name": "LayoutModel",
          "model_module_version": "1.2.0",
          "state": {
            "_model_module": "@jupyter-widgets/base",
            "_model_module_version": "1.2.0",
            "_model_name": "LayoutModel",
            "_view_count": null,
            "_view_module": "@jupyter-widgets/base",
            "_view_module_version": "1.2.0",
            "_view_name": "LayoutView",
            "align_content": null,
            "align_items": null,
            "align_self": null,
            "border": null,
            "bottom": null,
            "display": null,
            "flex": null,
            "flex_flow": null,
            "grid_area": null,
            "grid_auto_columns": null,
            "grid_auto_flow": null,
            "grid_auto_rows": null,
            "grid_column": null,
            "grid_gap": null,
            "grid_row": null,
            "grid_template_areas": null,
            "grid_template_columns": null,
            "grid_template_rows": null,
            "height": null,
            "justify_content": null,
            "justify_items": null,
            "left": null,
            "margin": null,
            "max_height": null,
            "max_width": null,
            "min_height": null,
            "min_width": null,
            "object_fit": null,
            "object_position": null,
            "order": null,
            "overflow": null,
            "overflow_x": null,
            "overflow_y": null,
            "padding": null,
            "right": null,
            "top": null,
            "visibility": "hidden",
            "width": null
          }
        },
        "b32c079821484e24a9ecee827d18152d": {
          "model_module": "@jupyter-widgets/base",
          "model_name": "LayoutModel",
          "model_module_version": "1.2.0",
          "state": {
            "_model_module": "@jupyter-widgets/base",
            "_model_module_version": "1.2.0",
            "_model_name": "LayoutModel",
            "_view_count": null,
            "_view_module": "@jupyter-widgets/base",
            "_view_module_version": "1.2.0",
            "_view_name": "LayoutView",
            "align_content": null,
            "align_items": null,
            "align_self": null,
            "border": null,
            "bottom": null,
            "display": null,
            "flex": null,
            "flex_flow": null,
            "grid_area": null,
            "grid_auto_columns": null,
            "grid_auto_flow": null,
            "grid_auto_rows": null,
            "grid_column": null,
            "grid_gap": null,
            "grid_row": null,
            "grid_template_areas": null,
            "grid_template_columns": null,
            "grid_template_rows": null,
            "height": null,
            "justify_content": null,
            "justify_items": null,
            "left": null,
            "margin": null,
            "max_height": null,
            "max_width": null,
            "min_height": null,
            "min_width": null,
            "object_fit": null,
            "object_position": null,
            "order": null,
            "overflow": null,
            "overflow_x": null,
            "overflow_y": null,
            "padding": null,
            "right": null,
            "top": null,
            "visibility": null,
            "width": null
          }
        },
        "c3e3586d35d24590886efa7aae62661a": {
          "model_module": "@jupyter-widgets/controls",
          "model_name": "DescriptionStyleModel",
          "model_module_version": "1.5.0",
          "state": {
            "_model_module": "@jupyter-widgets/controls",
            "_model_module_version": "1.5.0",
            "_model_name": "DescriptionStyleModel",
            "_view_count": null,
            "_view_module": "@jupyter-widgets/base",
            "_view_module_version": "1.2.0",
            "_view_name": "StyleView",
            "description_width": ""
          }
        },
        "5528564f187e4bba80208f4ea41b3fdb": {
          "model_module": "@jupyter-widgets/base",
          "model_name": "LayoutModel",
          "model_module_version": "1.2.0",
          "state": {
            "_model_module": "@jupyter-widgets/base",
            "_model_module_version": "1.2.0",
            "_model_name": "LayoutModel",
            "_view_count": null,
            "_view_module": "@jupyter-widgets/base",
            "_view_module_version": "1.2.0",
            "_view_name": "LayoutView",
            "align_content": null,
            "align_items": null,
            "align_self": null,
            "border": null,
            "bottom": null,
            "display": null,
            "flex": null,
            "flex_flow": null,
            "grid_area": null,
            "grid_auto_columns": null,
            "grid_auto_flow": null,
            "grid_auto_rows": null,
            "grid_column": null,
            "grid_gap": null,
            "grid_row": null,
            "grid_template_areas": null,
            "grid_template_columns": null,
            "grid_template_rows": null,
            "height": null,
            "justify_content": null,
            "justify_items": null,
            "left": null,
            "margin": null,
            "max_height": null,
            "max_width": null,
            "min_height": null,
            "min_width": null,
            "object_fit": null,
            "object_position": null,
            "order": null,
            "overflow": null,
            "overflow_x": null,
            "overflow_y": null,
            "padding": null,
            "right": null,
            "top": null,
            "visibility": null,
            "width": null
          }
        },
        "d592fdec2d404ea7b78da3493c860f9c": {
          "model_module": "@jupyter-widgets/controls",
          "model_name": "ProgressStyleModel",
          "model_module_version": "1.5.0",
          "state": {
            "_model_module": "@jupyter-widgets/controls",
            "_model_module_version": "1.5.0",
            "_model_name": "ProgressStyleModel",
            "_view_count": null,
            "_view_module": "@jupyter-widgets/base",
            "_view_module_version": "1.2.0",
            "_view_name": "StyleView",
            "bar_color": null,
            "description_width": ""
          }
        },
        "1402ee435ec74f8ea4601aa81a320df6": {
          "model_module": "@jupyter-widgets/base",
          "model_name": "LayoutModel",
          "model_module_version": "1.2.0",
          "state": {
            "_model_module": "@jupyter-widgets/base",
            "_model_module_version": "1.2.0",
            "_model_name": "LayoutModel",
            "_view_count": null,
            "_view_module": "@jupyter-widgets/base",
            "_view_module_version": "1.2.0",
            "_view_name": "LayoutView",
            "align_content": null,
            "align_items": null,
            "align_self": null,
            "border": null,
            "bottom": null,
            "display": null,
            "flex": null,
            "flex_flow": null,
            "grid_area": null,
            "grid_auto_columns": null,
            "grid_auto_flow": null,
            "grid_auto_rows": null,
            "grid_column": null,
            "grid_gap": null,
            "grid_row": null,
            "grid_template_areas": null,
            "grid_template_columns": null,
            "grid_template_rows": null,
            "height": null,
            "justify_content": null,
            "justify_items": null,
            "left": null,
            "margin": null,
            "max_height": null,
            "max_width": null,
            "min_height": null,
            "min_width": null,
            "object_fit": null,
            "object_position": null,
            "order": null,
            "overflow": null,
            "overflow_x": null,
            "overflow_y": null,
            "padding": null,
            "right": null,
            "top": null,
            "visibility": null,
            "width": null
          }
        },
        "02bd9d757f7345cf8e98485370dec097": {
          "model_module": "@jupyter-widgets/controls",
          "model_name": "DescriptionStyleModel",
          "model_module_version": "1.5.0",
          "state": {
            "_model_module": "@jupyter-widgets/controls",
            "_model_module_version": "1.5.0",
            "_model_name": "DescriptionStyleModel",
            "_view_count": null,
            "_view_module": "@jupyter-widgets/base",
            "_view_module_version": "1.2.0",
            "_view_name": "StyleView",
            "description_width": ""
          }
        },
        "44b129a888504f26ae861b706b052ade": {
          "model_module": "@jupyter-widgets/controls",
          "model_name": "HBoxModel",
          "model_module_version": "1.5.0",
          "state": {
            "_dom_classes": [],
            "_model_module": "@jupyter-widgets/controls",
            "_model_module_version": "1.5.0",
            "_model_name": "HBoxModel",
            "_view_count": null,
            "_view_module": "@jupyter-widgets/controls",
            "_view_module_version": "1.5.0",
            "_view_name": "HBoxView",
            "box_style": "",
            "children": [
              "IPY_MODEL_5ad5e7785ec7400cac7dadd051bbed05",
              "IPY_MODEL_bce193143dd54ad98713009287af4bee",
              "IPY_MODEL_ba96cb51c4bf49b9a914df5286268a91"
            ],
            "layout": "IPY_MODEL_ab089704b9694c83851b32dddfc3b29e"
          }
        },
        "5ad5e7785ec7400cac7dadd051bbed05": {
          "model_module": "@jupyter-widgets/controls",
          "model_name": "HTMLModel",
          "model_module_version": "1.5.0",
          "state": {
            "_dom_classes": [],
            "_model_module": "@jupyter-widgets/controls",
            "_model_module_version": "1.5.0",
            "_model_name": "HTMLModel",
            "_view_count": null,
            "_view_module": "@jupyter-widgets/controls",
            "_view_module_version": "1.5.0",
            "_view_name": "HTMLView",
            "description": "",
            "description_tooltip": null,
            "layout": "IPY_MODEL_a7a9bbde107e4f839d9acaa60f1a4121",
            "placeholder": "​",
            "style": "IPY_MODEL_73dac10c77124098933e053431731ce8",
            "value": "Processing:  67%"
          }
        },
        "bce193143dd54ad98713009287af4bee": {
          "model_module": "@jupyter-widgets/controls",
          "model_name": "FloatProgressModel",
          "model_module_version": "1.5.0",
          "state": {
            "_dom_classes": [],
            "_model_module": "@jupyter-widgets/controls",
            "_model_module_version": "1.5.0",
            "_model_name": "FloatProgressModel",
            "_view_count": null,
            "_view_module": "@jupyter-widgets/controls",
            "_view_module_version": "1.5.0",
            "_view_name": "ProgressView",
            "bar_style": "",
            "description": "",
            "description_tooltip": null,
            "layout": "IPY_MODEL_a2a6e1c6746e415eaa666a97baffda09",
            "max": 3,
            "min": 0,
            "orientation": "horizontal",
            "style": "IPY_MODEL_281f668d08a542269538b328d607ee45",
            "value": 3
          }
        },
        "ba96cb51c4bf49b9a914df5286268a91": {
          "model_module": "@jupyter-widgets/controls",
          "model_name": "HTMLModel",
          "model_module_version": "1.5.0",
          "state": {
            "_dom_classes": [],
            "_model_module": "@jupyter-widgets/controls",
            "_model_module_version": "1.5.0",
            "_model_name": "HTMLModel",
            "_view_count": null,
            "_view_module": "@jupyter-widgets/controls",
            "_view_module_version": "1.5.0",
            "_view_name": "HTMLView",
            "description": "",
            "description_tooltip": null,
            "layout": "IPY_MODEL_79c7367a2aca4621b23702401e288b4f",
            "placeholder": "​",
            "style": "IPY_MODEL_5bd66884f1c04ee8825788032c2a251b",
            "value": " 2/3 [00:02&lt;00:01,  1.02s/it]"
          }
        },
        "ab089704b9694c83851b32dddfc3b29e": {
          "model_module": "@jupyter-widgets/base",
          "model_name": "LayoutModel",
          "model_module_version": "1.2.0",
          "state": {
            "_model_module": "@jupyter-widgets/base",
            "_model_module_version": "1.2.0",
            "_model_name": "LayoutModel",
            "_view_count": null,
            "_view_module": "@jupyter-widgets/base",
            "_view_module_version": "1.2.0",
            "_view_name": "LayoutView",
            "align_content": null,
            "align_items": null,
            "align_self": null,
            "border": null,
            "bottom": null,
            "display": null,
            "flex": null,
            "flex_flow": null,
            "grid_area": null,
            "grid_auto_columns": null,
            "grid_auto_flow": null,
            "grid_auto_rows": null,
            "grid_column": null,
            "grid_gap": null,
            "grid_row": null,
            "grid_template_areas": null,
            "grid_template_columns": null,
            "grid_template_rows": null,
            "height": null,
            "justify_content": null,
            "justify_items": null,
            "left": null,
            "margin": null,
            "max_height": null,
            "max_width": null,
            "min_height": null,
            "min_width": null,
            "object_fit": null,
            "object_position": null,
            "order": null,
            "overflow": null,
            "overflow_x": null,
            "overflow_y": null,
            "padding": null,
            "right": null,
            "top": null,
            "visibility": "hidden",
            "width": null
          }
        },
        "a7a9bbde107e4f839d9acaa60f1a4121": {
          "model_module": "@jupyter-widgets/base",
          "model_name": "LayoutModel",
          "model_module_version": "1.2.0",
          "state": {
            "_model_module": "@jupyter-widgets/base",
            "_model_module_version": "1.2.0",
            "_model_name": "LayoutModel",
            "_view_count": null,
            "_view_module": "@jupyter-widgets/base",
            "_view_module_version": "1.2.0",
            "_view_name": "LayoutView",
            "align_content": null,
            "align_items": null,
            "align_self": null,
            "border": null,
            "bottom": null,
            "display": null,
            "flex": null,
            "flex_flow": null,
            "grid_area": null,
            "grid_auto_columns": null,
            "grid_auto_flow": null,
            "grid_auto_rows": null,
            "grid_column": null,
            "grid_gap": null,
            "grid_row": null,
            "grid_template_areas": null,
            "grid_template_columns": null,
            "grid_template_rows": null,
            "height": null,
            "justify_content": null,
            "justify_items": null,
            "left": null,
            "margin": null,
            "max_height": null,
            "max_width": null,
            "min_height": null,
            "min_width": null,
            "object_fit": null,
            "object_position": null,
            "order": null,
            "overflow": null,
            "overflow_x": null,
            "overflow_y": null,
            "padding": null,
            "right": null,
            "top": null,
            "visibility": null,
            "width": null
          }
        },
        "73dac10c77124098933e053431731ce8": {
          "model_module": "@jupyter-widgets/controls",
          "model_name": "DescriptionStyleModel",
          "model_module_version": "1.5.0",
          "state": {
            "_model_module": "@jupyter-widgets/controls",
            "_model_module_version": "1.5.0",
            "_model_name": "DescriptionStyleModel",
            "_view_count": null,
            "_view_module": "@jupyter-widgets/base",
            "_view_module_version": "1.2.0",
            "_view_name": "StyleView",
            "description_width": ""
          }
        },
        "a2a6e1c6746e415eaa666a97baffda09": {
          "model_module": "@jupyter-widgets/base",
          "model_name": "LayoutModel",
          "model_module_version": "1.2.0",
          "state": {
            "_model_module": "@jupyter-widgets/base",
            "_model_module_version": "1.2.0",
            "_model_name": "LayoutModel",
            "_view_count": null,
            "_view_module": "@jupyter-widgets/base",
            "_view_module_version": "1.2.0",
            "_view_name": "LayoutView",
            "align_content": null,
            "align_items": null,
            "align_self": null,
            "border": null,
            "bottom": null,
            "display": null,
            "flex": null,
            "flex_flow": null,
            "grid_area": null,
            "grid_auto_columns": null,
            "grid_auto_flow": null,
            "grid_auto_rows": null,
            "grid_column": null,
            "grid_gap": null,
            "grid_row": null,
            "grid_template_areas": null,
            "grid_template_columns": null,
            "grid_template_rows": null,
            "height": null,
            "justify_content": null,
            "justify_items": null,
            "left": null,
            "margin": null,
            "max_height": null,
            "max_width": null,
            "min_height": null,
            "min_width": null,
            "object_fit": null,
            "object_position": null,
            "order": null,
            "overflow": null,
            "overflow_x": null,
            "overflow_y": null,
            "padding": null,
            "right": null,
            "top": null,
            "visibility": null,
            "width": null
          }
        },
        "281f668d08a542269538b328d607ee45": {
          "model_module": "@jupyter-widgets/controls",
          "model_name": "ProgressStyleModel",
          "model_module_version": "1.5.0",
          "state": {
            "_model_module": "@jupyter-widgets/controls",
            "_model_module_version": "1.5.0",
            "_model_name": "ProgressStyleModel",
            "_view_count": null,
            "_view_module": "@jupyter-widgets/base",
            "_view_module_version": "1.2.0",
            "_view_name": "StyleView",
            "bar_color": null,
            "description_width": ""
          }
        },
        "79c7367a2aca4621b23702401e288b4f": {
          "model_module": "@jupyter-widgets/base",
          "model_name": "LayoutModel",
          "model_module_version": "1.2.0",
          "state": {
            "_model_module": "@jupyter-widgets/base",
            "_model_module_version": "1.2.0",
            "_model_name": "LayoutModel",
            "_view_count": null,
            "_view_module": "@jupyter-widgets/base",
            "_view_module_version": "1.2.0",
            "_view_name": "LayoutView",
            "align_content": null,
            "align_items": null,
            "align_self": null,
            "border": null,
            "bottom": null,
            "display": null,
            "flex": null,
            "flex_flow": null,
            "grid_area": null,
            "grid_auto_columns": null,
            "grid_auto_flow": null,
            "grid_auto_rows": null,
            "grid_column": null,
            "grid_gap": null,
            "grid_row": null,
            "grid_template_areas": null,
            "grid_template_columns": null,
            "grid_template_rows": null,
            "height": null,
            "justify_content": null,
            "justify_items": null,
            "left": null,
            "margin": null,
            "max_height": null,
            "max_width": null,
            "min_height": null,
            "min_width": null,
            "object_fit": null,
            "object_position": null,
            "order": null,
            "overflow": null,
            "overflow_x": null,
            "overflow_y": null,
            "padding": null,
            "right": null,
            "top": null,
            "visibility": null,
            "width": null
          }
        },
        "5bd66884f1c04ee8825788032c2a251b": {
          "model_module": "@jupyter-widgets/controls",
          "model_name": "DescriptionStyleModel",
          "model_module_version": "1.5.0",
          "state": {
            "_model_module": "@jupyter-widgets/controls",
            "_model_module_version": "1.5.0",
            "_model_name": "DescriptionStyleModel",
            "_view_count": null,
            "_view_module": "@jupyter-widgets/base",
            "_view_module_version": "1.2.0",
            "_view_name": "StyleView",
            "description_width": ""
          }
        },
        "1bd94f27369841fda5f71371f723e5ed": {
          "model_module": "@jupyter-widgets/controls",
          "model_name": "HBoxModel",
          "model_module_version": "1.5.0",
          "state": {
            "_dom_classes": [],
            "_model_module": "@jupyter-widgets/controls",
            "_model_module_version": "1.5.0",
            "_model_name": "HBoxModel",
            "_view_count": null,
            "_view_module": "@jupyter-widgets/controls",
            "_view_module_version": "1.5.0",
            "_view_name": "HBoxView",
            "box_style": "",
            "children": [
              "IPY_MODEL_ec9680a21bfb4a37b3ec14866655df08",
              "IPY_MODEL_206d422766ce40668be163556b18ce85",
              "IPY_MODEL_02fb4dfcc9aa4da192ab04f1ed28d6f1"
            ],
            "layout": "IPY_MODEL_94fb0f761c584dcd99ead8d0b6a51a0e"
          }
        },
        "ec9680a21bfb4a37b3ec14866655df08": {
          "model_module": "@jupyter-widgets/controls",
          "model_name": "HTMLModel",
          "model_module_version": "1.5.0",
          "state": {
            "_dom_classes": [],
            "_model_module": "@jupyter-widgets/controls",
            "_model_module_version": "1.5.0",
            "_model_name": "HTMLModel",
            "_view_count": null,
            "_view_module": "@jupyter-widgets/controls",
            "_view_module_version": "1.5.0",
            "_view_name": "HTMLView",
            "description": "",
            "description_tooltip": null,
            "layout": "IPY_MODEL_2008ed123b1c4e19bbe475282b96cb16",
            "placeholder": "​",
            "style": "IPY_MODEL_dc35b2b84dd3461985a861864b22ba97",
            "value": "Processing:   0%"
          }
        },
        "206d422766ce40668be163556b18ce85": {
          "model_module": "@jupyter-widgets/controls",
          "model_name": "FloatProgressModel",
          "model_module_version": "1.5.0",
          "state": {
            "_dom_classes": [],
            "_model_module": "@jupyter-widgets/controls",
            "_model_module_version": "1.5.0",
            "_model_name": "FloatProgressModel",
            "_view_count": null,
            "_view_module": "@jupyter-widgets/controls",
            "_view_module_version": "1.5.0",
            "_view_name": "ProgressView",
            "bar_style": "",
            "description": "",
            "description_tooltip": null,
            "layout": "IPY_MODEL_644fa87293f5404ea1db3ca03b41ec5b",
            "max": 3,
            "min": 0,
            "orientation": "horizontal",
            "style": "IPY_MODEL_2ab855f993bc411c8bff51cd9628d963",
            "value": 3
          }
        },
        "02fb4dfcc9aa4da192ab04f1ed28d6f1": {
          "model_module": "@jupyter-widgets/controls",
          "model_name": "HTMLModel",
          "model_module_version": "1.5.0",
          "state": {
            "_dom_classes": [],
            "_model_module": "@jupyter-widgets/controls",
            "_model_module_version": "1.5.0",
            "_model_name": "HTMLModel",
            "_view_count": null,
            "_view_module": "@jupyter-widgets/controls",
            "_view_module_version": "1.5.0",
            "_view_name": "HTMLView",
            "description": "",
            "description_tooltip": null,
            "layout": "IPY_MODEL_9da71db0eaeb48769506c20b46f48adb",
            "placeholder": "​",
            "style": "IPY_MODEL_d849a8a7a3b2447e8833f700c2afb5f3",
            "value": " 0/3 [00:00&lt;?, ?it/s]"
          }
        },
        "94fb0f761c584dcd99ead8d0b6a51a0e": {
          "model_module": "@jupyter-widgets/base",
          "model_name": "LayoutModel",
          "model_module_version": "1.2.0",
          "state": {
            "_model_module": "@jupyter-widgets/base",
            "_model_module_version": "1.2.0",
            "_model_name": "LayoutModel",
            "_view_count": null,
            "_view_module": "@jupyter-widgets/base",
            "_view_module_version": "1.2.0",
            "_view_name": "LayoutView",
            "align_content": null,
            "align_items": null,
            "align_self": null,
            "border": null,
            "bottom": null,
            "display": null,
            "flex": null,
            "flex_flow": null,
            "grid_area": null,
            "grid_auto_columns": null,
            "grid_auto_flow": null,
            "grid_auto_rows": null,
            "grid_column": null,
            "grid_gap": null,
            "grid_row": null,
            "grid_template_areas": null,
            "grid_template_columns": null,
            "grid_template_rows": null,
            "height": null,
            "justify_content": null,
            "justify_items": null,
            "left": null,
            "margin": null,
            "max_height": null,
            "max_width": null,
            "min_height": null,
            "min_width": null,
            "object_fit": null,
            "object_position": null,
            "order": null,
            "overflow": null,
            "overflow_x": null,
            "overflow_y": null,
            "padding": null,
            "right": null,
            "top": null,
            "visibility": "hidden",
            "width": null
          }
        },
        "2008ed123b1c4e19bbe475282b96cb16": {
          "model_module": "@jupyter-widgets/base",
          "model_name": "LayoutModel",
          "model_module_version": "1.2.0",
          "state": {
            "_model_module": "@jupyter-widgets/base",
            "_model_module_version": "1.2.0",
            "_model_name": "LayoutModel",
            "_view_count": null,
            "_view_module": "@jupyter-widgets/base",
            "_view_module_version": "1.2.0",
            "_view_name": "LayoutView",
            "align_content": null,
            "align_items": null,
            "align_self": null,
            "border": null,
            "bottom": null,
            "display": null,
            "flex": null,
            "flex_flow": null,
            "grid_area": null,
            "grid_auto_columns": null,
            "grid_auto_flow": null,
            "grid_auto_rows": null,
            "grid_column": null,
            "grid_gap": null,
            "grid_row": null,
            "grid_template_areas": null,
            "grid_template_columns": null,
            "grid_template_rows": null,
            "height": null,
            "justify_content": null,
            "justify_items": null,
            "left": null,
            "margin": null,
            "max_height": null,
            "max_width": null,
            "min_height": null,
            "min_width": null,
            "object_fit": null,
            "object_position": null,
            "order": null,
            "overflow": null,
            "overflow_x": null,
            "overflow_y": null,
            "padding": null,
            "right": null,
            "top": null,
            "visibility": null,
            "width": null
          }
        },
        "dc35b2b84dd3461985a861864b22ba97": {
          "model_module": "@jupyter-widgets/controls",
          "model_name": "DescriptionStyleModel",
          "model_module_version": "1.5.0",
          "state": {
            "_model_module": "@jupyter-widgets/controls",
            "_model_module_version": "1.5.0",
            "_model_name": "DescriptionStyleModel",
            "_view_count": null,
            "_view_module": "@jupyter-widgets/base",
            "_view_module_version": "1.2.0",
            "_view_name": "StyleView",
            "description_width": ""
          }
        },
        "644fa87293f5404ea1db3ca03b41ec5b": {
          "model_module": "@jupyter-widgets/base",
          "model_name": "LayoutModel",
          "model_module_version": "1.2.0",
          "state": {
            "_model_module": "@jupyter-widgets/base",
            "_model_module_version": "1.2.0",
            "_model_name": "LayoutModel",
            "_view_count": null,
            "_view_module": "@jupyter-widgets/base",
            "_view_module_version": "1.2.0",
            "_view_name": "LayoutView",
            "align_content": null,
            "align_items": null,
            "align_self": null,
            "border": null,
            "bottom": null,
            "display": null,
            "flex": null,
            "flex_flow": null,
            "grid_area": null,
            "grid_auto_columns": null,
            "grid_auto_flow": null,
            "grid_auto_rows": null,
            "grid_column": null,
            "grid_gap": null,
            "grid_row": null,
            "grid_template_areas": null,
            "grid_template_columns": null,
            "grid_template_rows": null,
            "height": null,
            "justify_content": null,
            "justify_items": null,
            "left": null,
            "margin": null,
            "max_height": null,
            "max_width": null,
            "min_height": null,
            "min_width": null,
            "object_fit": null,
            "object_position": null,
            "order": null,
            "overflow": null,
            "overflow_x": null,
            "overflow_y": null,
            "padding": null,
            "right": null,
            "top": null,
            "visibility": null,
            "width": null
          }
        },
        "2ab855f993bc411c8bff51cd9628d963": {
          "model_module": "@jupyter-widgets/controls",
          "model_name": "ProgressStyleModel",
          "model_module_version": "1.5.0",
          "state": {
            "_model_module": "@jupyter-widgets/controls",
            "_model_module_version": "1.5.0",
            "_model_name": "ProgressStyleModel",
            "_view_count": null,
            "_view_module": "@jupyter-widgets/base",
            "_view_module_version": "1.2.0",
            "_view_name": "StyleView",
            "bar_color": null,
            "description_width": ""
          }
        },
        "9da71db0eaeb48769506c20b46f48adb": {
          "model_module": "@jupyter-widgets/base",
          "model_name": "LayoutModel",
          "model_module_version": "1.2.0",
          "state": {
            "_model_module": "@jupyter-widgets/base",
            "_model_module_version": "1.2.0",
            "_model_name": "LayoutModel",
            "_view_count": null,
            "_view_module": "@jupyter-widgets/base",
            "_view_module_version": "1.2.0",
            "_view_name": "LayoutView",
            "align_content": null,
            "align_items": null,
            "align_self": null,
            "border": null,
            "bottom": null,
            "display": null,
            "flex": null,
            "flex_flow": null,
            "grid_area": null,
            "grid_auto_columns": null,
            "grid_auto_flow": null,
            "grid_auto_rows": null,
            "grid_column": null,
            "grid_gap": null,
            "grid_row": null,
            "grid_template_areas": null,
            "grid_template_columns": null,
            "grid_template_rows": null,
            "height": null,
            "justify_content": null,
            "justify_items": null,
            "left": null,
            "margin": null,
            "max_height": null,
            "max_width": null,
            "min_height": null,
            "min_width": null,
            "object_fit": null,
            "object_position": null,
            "order": null,
            "overflow": null,
            "overflow_x": null,
            "overflow_y": null,
            "padding": null,
            "right": null,
            "top": null,
            "visibility": null,
            "width": null
          }
        },
        "d849a8a7a3b2447e8833f700c2afb5f3": {
          "model_module": "@jupyter-widgets/controls",
          "model_name": "DescriptionStyleModel",
          "model_module_version": "1.5.0",
          "state": {
            "_model_module": "@jupyter-widgets/controls",
            "_model_module_version": "1.5.0",
            "_model_name": "DescriptionStyleModel",
            "_view_count": null,
            "_view_module": "@jupyter-widgets/base",
            "_view_module_version": "1.2.0",
            "_view_name": "StyleView",
            "description_width": ""
          }
        },
        "9fe504e753ec4d35a601282fbf1d3a71": {
          "model_module": "@jupyter-widgets/controls",
          "model_name": "HBoxModel",
          "model_module_version": "1.5.0",
          "state": {
            "_dom_classes": [],
            "_model_module": "@jupyter-widgets/controls",
            "_model_module_version": "1.5.0",
            "_model_name": "HBoxModel",
            "_view_count": null,
            "_view_module": "@jupyter-widgets/controls",
            "_view_module_version": "1.5.0",
            "_view_name": "HBoxView",
            "box_style": "",
            "children": [
              "IPY_MODEL_dbabfed91b1f4491ba125b8cd37fee4a",
              "IPY_MODEL_056e4fe4d68d44caa953c29aaefb03c6",
              "IPY_MODEL_24d70175927d4b8ea58b561b0185a2c7"
            ],
            "layout": "IPY_MODEL_06777cc6e5ac4a5f8f1f3c6b27fe184e"
          }
        },
        "dbabfed91b1f4491ba125b8cd37fee4a": {
          "model_module": "@jupyter-widgets/controls",
          "model_name": "HTMLModel",
          "model_module_version": "1.5.0",
          "state": {
            "_dom_classes": [],
            "_model_module": "@jupyter-widgets/controls",
            "_model_module_version": "1.5.0",
            "_model_name": "HTMLModel",
            "_view_count": null,
            "_view_module": "@jupyter-widgets/controls",
            "_view_module_version": "1.5.0",
            "_view_name": "HTMLView",
            "description": "",
            "description_tooltip": null,
            "layout": "IPY_MODEL_a15f10dfaaec40f3ac3250efcc4652f9",
            "placeholder": "​",
            "style": "IPY_MODEL_67c56c44969540359f2699e189478c79",
            "value": "Processing:   0%"
          }
        },
        "056e4fe4d68d44caa953c29aaefb03c6": {
          "model_module": "@jupyter-widgets/controls",
          "model_name": "FloatProgressModel",
          "model_module_version": "1.5.0",
          "state": {
            "_dom_classes": [],
            "_model_module": "@jupyter-widgets/controls",
            "_model_module_version": "1.5.0",
            "_model_name": "FloatProgressModel",
            "_view_count": null,
            "_view_module": "@jupyter-widgets/controls",
            "_view_module_version": "1.5.0",
            "_view_name": "ProgressView",
            "bar_style": "",
            "description": "",
            "description_tooltip": null,
            "layout": "IPY_MODEL_e02cad5577f446dcbeb2ba11b2ef49f9",
            "max": 3,
            "min": 0,
            "orientation": "horizontal",
            "style": "IPY_MODEL_911203a5dfc74333bdd4e05e0872847e",
            "value": 3
          }
        },
        "24d70175927d4b8ea58b561b0185a2c7": {
          "model_module": "@jupyter-widgets/controls",
          "model_name": "HTMLModel",
          "model_module_version": "1.5.0",
          "state": {
            "_dom_classes": [],
            "_model_module": "@jupyter-widgets/controls",
            "_model_module_version": "1.5.0",
            "_model_name": "HTMLModel",
            "_view_count": null,
            "_view_module": "@jupyter-widgets/controls",
            "_view_module_version": "1.5.0",
            "_view_name": "HTMLView",
            "description": "",
            "description_tooltip": null,
            "layout": "IPY_MODEL_c423e280cc9c4f1b8103d99eb5dba9ba",
            "placeholder": "​",
            "style": "IPY_MODEL_e057dd9a8c544e058ab3880d2aaed7a1",
            "value": " 0/3 [00:00&lt;?, ?it/s]"
          }
        },
        "06777cc6e5ac4a5f8f1f3c6b27fe184e": {
          "model_module": "@jupyter-widgets/base",
          "model_name": "LayoutModel",
          "model_module_version": "1.2.0",
          "state": {
            "_model_module": "@jupyter-widgets/base",
            "_model_module_version": "1.2.0",
            "_model_name": "LayoutModel",
            "_view_count": null,
            "_view_module": "@jupyter-widgets/base",
            "_view_module_version": "1.2.0",
            "_view_name": "LayoutView",
            "align_content": null,
            "align_items": null,
            "align_self": null,
            "border": null,
            "bottom": null,
            "display": null,
            "flex": null,
            "flex_flow": null,
            "grid_area": null,
            "grid_auto_columns": null,
            "grid_auto_flow": null,
            "grid_auto_rows": null,
            "grid_column": null,
            "grid_gap": null,
            "grid_row": null,
            "grid_template_areas": null,
            "grid_template_columns": null,
            "grid_template_rows": null,
            "height": null,
            "justify_content": null,
            "justify_items": null,
            "left": null,
            "margin": null,
            "max_height": null,
            "max_width": null,
            "min_height": null,
            "min_width": null,
            "object_fit": null,
            "object_position": null,
            "order": null,
            "overflow": null,
            "overflow_x": null,
            "overflow_y": null,
            "padding": null,
            "right": null,
            "top": null,
            "visibility": "hidden",
            "width": null
          }
        },
        "a15f10dfaaec40f3ac3250efcc4652f9": {
          "model_module": "@jupyter-widgets/base",
          "model_name": "LayoutModel",
          "model_module_version": "1.2.0",
          "state": {
            "_model_module": "@jupyter-widgets/base",
            "_model_module_version": "1.2.0",
            "_model_name": "LayoutModel",
            "_view_count": null,
            "_view_module": "@jupyter-widgets/base",
            "_view_module_version": "1.2.0",
            "_view_name": "LayoutView",
            "align_content": null,
            "align_items": null,
            "align_self": null,
            "border": null,
            "bottom": null,
            "display": null,
            "flex": null,
            "flex_flow": null,
            "grid_area": null,
            "grid_auto_columns": null,
            "grid_auto_flow": null,
            "grid_auto_rows": null,
            "grid_column": null,
            "grid_gap": null,
            "grid_row": null,
            "grid_template_areas": null,
            "grid_template_columns": null,
            "grid_template_rows": null,
            "height": null,
            "justify_content": null,
            "justify_items": null,
            "left": null,
            "margin": null,
            "max_height": null,
            "max_width": null,
            "min_height": null,
            "min_width": null,
            "object_fit": null,
            "object_position": null,
            "order": null,
            "overflow": null,
            "overflow_x": null,
            "overflow_y": null,
            "padding": null,
            "right": null,
            "top": null,
            "visibility": null,
            "width": null
          }
        },
        "67c56c44969540359f2699e189478c79": {
          "model_module": "@jupyter-widgets/controls",
          "model_name": "DescriptionStyleModel",
          "model_module_version": "1.5.0",
          "state": {
            "_model_module": "@jupyter-widgets/controls",
            "_model_module_version": "1.5.0",
            "_model_name": "DescriptionStyleModel",
            "_view_count": null,
            "_view_module": "@jupyter-widgets/base",
            "_view_module_version": "1.2.0",
            "_view_name": "StyleView",
            "description_width": ""
          }
        },
        "e02cad5577f446dcbeb2ba11b2ef49f9": {
          "model_module": "@jupyter-widgets/base",
          "model_name": "LayoutModel",
          "model_module_version": "1.2.0",
          "state": {
            "_model_module": "@jupyter-widgets/base",
            "_model_module_version": "1.2.0",
            "_model_name": "LayoutModel",
            "_view_count": null,
            "_view_module": "@jupyter-widgets/base",
            "_view_module_version": "1.2.0",
            "_view_name": "LayoutView",
            "align_content": null,
            "align_items": null,
            "align_self": null,
            "border": null,
            "bottom": null,
            "display": null,
            "flex": null,
            "flex_flow": null,
            "grid_area": null,
            "grid_auto_columns": null,
            "grid_auto_flow": null,
            "grid_auto_rows": null,
            "grid_column": null,
            "grid_gap": null,
            "grid_row": null,
            "grid_template_areas": null,
            "grid_template_columns": null,
            "grid_template_rows": null,
            "height": null,
            "justify_content": null,
            "justify_items": null,
            "left": null,
            "margin": null,
            "max_height": null,
            "max_width": null,
            "min_height": null,
            "min_width": null,
            "object_fit": null,
            "object_position": null,
            "order": null,
            "overflow": null,
            "overflow_x": null,
            "overflow_y": null,
            "padding": null,
            "right": null,
            "top": null,
            "visibility": null,
            "width": null
          }
        },
        "911203a5dfc74333bdd4e05e0872847e": {
          "model_module": "@jupyter-widgets/controls",
          "model_name": "ProgressStyleModel",
          "model_module_version": "1.5.0",
          "state": {
            "_model_module": "@jupyter-widgets/controls",
            "_model_module_version": "1.5.0",
            "_model_name": "ProgressStyleModel",
            "_view_count": null,
            "_view_module": "@jupyter-widgets/base",
            "_view_module_version": "1.2.0",
            "_view_name": "StyleView",
            "bar_color": null,
            "description_width": ""
          }
        },
        "c423e280cc9c4f1b8103d99eb5dba9ba": {
          "model_module": "@jupyter-widgets/base",
          "model_name": "LayoutModel",
          "model_module_version": "1.2.0",
          "state": {
            "_model_module": "@jupyter-widgets/base",
            "_model_module_version": "1.2.0",
            "_model_name": "LayoutModel",
            "_view_count": null,
            "_view_module": "@jupyter-widgets/base",
            "_view_module_version": "1.2.0",
            "_view_name": "LayoutView",
            "align_content": null,
            "align_items": null,
            "align_self": null,
            "border": null,
            "bottom": null,
            "display": null,
            "flex": null,
            "flex_flow": null,
            "grid_area": null,
            "grid_auto_columns": null,
            "grid_auto_flow": null,
            "grid_auto_rows": null,
            "grid_column": null,
            "grid_gap": null,
            "grid_row": null,
            "grid_template_areas": null,
            "grid_template_columns": null,
            "grid_template_rows": null,
            "height": null,
            "justify_content": null,
            "justify_items": null,
            "left": null,
            "margin": null,
            "max_height": null,
            "max_width": null,
            "min_height": null,
            "min_width": null,
            "object_fit": null,
            "object_position": null,
            "order": null,
            "overflow": null,
            "overflow_x": null,
            "overflow_y": null,
            "padding": null,
            "right": null,
            "top": null,
            "visibility": null,
            "width": null
          }
        },
        "e057dd9a8c544e058ab3880d2aaed7a1": {
          "model_module": "@jupyter-widgets/controls",
          "model_name": "DescriptionStyleModel",
          "model_module_version": "1.5.0",
          "state": {
            "_model_module": "@jupyter-widgets/controls",
            "_model_module_version": "1.5.0",
            "_model_name": "DescriptionStyleModel",
            "_view_count": null,
            "_view_module": "@jupyter-widgets/base",
            "_view_module_version": "1.2.0",
            "_view_name": "StyleView",
            "description_width": ""
          }
        }
      }
    }
  },
  "cells": [
    {
      "cell_type": "markdown",
      "metadata": {
        "id": "view-in-github",
        "colab_type": "text"
      },
      "source": [
        "<a href=\"https://colab.research.google.com/github/cristiandarioortegayubro/BA/blob/main/da_ce_01.ipynb\" target=\"_parent\"><img src=\"https://colab.research.google.com/assets/colab-badge.svg\" alt=\"Open In Colab\"/></a>"
      ]
    },
    {
      "cell_type": "markdown",
      "source": [
        "![logo](https://github.com/cristiandarioortegayubro/BA/blob/main/dba.png?raw=true)"
      ],
      "metadata": {
        "id": "Q8aoPxnwAXVk"
      }
    },
    {
      "cell_type": "markdown",
      "metadata": {
        "id": "WJAQsOrbL_tU"
      },
      "source": [
        "<center>\n",
        "<font color=\"#41a8c7\">\n",
        "<h2><b>\n",
        "Caso 01 Deteccion de Anomalias Declaracion Jurada Ingresos Brutos\n",
        "\n",
        "</font>\n",
        "</center>"
      ]
    },
    {
      "cell_type": "markdown",
      "metadata": {
        "id": "aFDMU-W_5qMZ"
      },
      "source": [
        "## Carga de librerías necesarias"
      ]
    },
    {
      "cell_type": "markdown",
      "metadata": {
        "id": "OgnGuTu0fNo4"
      },
      "source": [
        "### Analisis de datos"
      ]
    },
    {
      "cell_type": "code",
      "metadata": {
        "id": "dgWMRzBsCfMf"
      },
      "source": [
        "import numpy as np\n",
        "import pandas as pd"
      ],
      "execution_count": 1,
      "outputs": []
    },
    {
      "cell_type": "markdown",
      "metadata": {
        "id": "bq7lrVvAffWZ"
      },
      "source": [
        "### Modelo y preprocesamiento"
      ]
    },
    {
      "cell_type": "markdown",
      "metadata": {
        "id": "2G8BhiQYfSv8"
      },
      "source": [
        "### Graficos"
      ]
    },
    {
      "cell_type": "code",
      "metadata": {
        "id": "IOnC2KuQwP-U"
      },
      "source": [
        "import plotly.express as px\n",
        "import matplotlib.pyplot as plt"
      ],
      "execution_count": 2,
      "outputs": []
    },
    {
      "cell_type": "markdown",
      "metadata": {
        "id": "Xx6jC6sSzFw0"
      },
      "source": [
        "## Obtención de los Datos"
      ]
    },
    {
      "cell_type": "markdown",
      "metadata": {
        "id": "QhP9QDanakVE"
      },
      "source": [
        "### Extracción de Datos - Creación del DataFrame"
      ]
    },
    {
      "cell_type": "code",
      "metadata": {
        "id": "StFaNK4PiT9r"
      },
      "source": [
        "datos = \"https://raw.githubusercontent.com/LucaAPiattelli/Diplomatura_Business_Analytics_UDA/main/Modulo_12_Deteccion%20de%20Anomalias/datos01.csv\""
      ],
      "execution_count": 3,
      "outputs": []
    },
    {
      "cell_type": "code",
      "metadata": {
        "id": "Ac0quyohbT46"
      },
      "source": [
        "df = pd.read_csv(datos, index_col=0)"
      ],
      "execution_count": 4,
      "outputs": []
    },
    {
      "cell_type": "code",
      "metadata": {
        "colab": {
          "base_uri": "https://localhost:8080/"
        },
        "id": "k6URl8nIia3x",
        "outputId": "be62cb41-15f6-45af-b6b2-0dd6bdeee5c2"
      },
      "source": [
        "df.info()"
      ],
      "execution_count": 5,
      "outputs": [
        {
          "output_type": "stream",
          "name": "stdout",
          "text": [
            "<class 'pandas.core.frame.DataFrame'>\n",
            "Int64Index: 79 entries, 0 to 78\n",
            "Data columns (total 10 columns):\n",
            " #   Column                             Non-Null Count  Dtype  \n",
            "---  ------                             --------------  -----  \n",
            " 0   ORIGEN                             79 non-null     object \n",
            " 1   CUIT                               79 non-null     int64  \n",
            " 2   PERIODO                            79 non-null     int64  \n",
            " 3   CUOTA                              79 non-null     int64  \n",
            " 4   COD ACTIVIDAD                      79 non-null     int64  \n",
            " 5   DESCRIPCION CODIGO PROV            79 non-null     object \n",
            " 6   ALICUOTA                           79 non-null     float64\n",
            " 7   BASE IMPONIBLE                     79 non-null     float64\n",
            " 8   IMPUESTO Calculado Alícuota        79 non-null     float64\n",
            " 9   IMPUESTO DETERMINADO (ADIB / DIU)  79 non-null     float64\n",
            "dtypes: float64(4), int64(4), object(2)\n",
            "memory usage: 6.8+ KB\n"
          ]
        }
      ]
    },
    {
      "cell_type": "markdown",
      "metadata": {
        "id": "QJTKu0PDbZIB"
      },
      "source": [
        "## Análisis Exploratorio de los Datos"
      ]
    },
    {
      "cell_type": "markdown",
      "metadata": {
        "id": "D0BywFkQh-_P"
      },
      "source": [
        "###Limpieza de caracteres en el conjunto de datos"
      ]
    },
    {
      "cell_type": "code",
      "metadata": {
        "id": "REZjMNXHiC0T"
      },
      "source": [
        "cleancolumn = []\n",
        "for i in range(len(df.columns)):\n",
        "    cleancolumn.append(df.columns[i].replace('-', '').lower())\n",
        "df.columns = cleancolumn"
      ],
      "execution_count": 6,
      "outputs": []
    },
    {
      "cell_type": "code",
      "metadata": {
        "colab": {
          "base_uri": "https://localhost:8080/",
          "height": 789
        },
        "id": "IfVgD0jKiRI_",
        "outputId": "ba576dfe-68bf-47a0-98d8-482c07ece86a"
      },
      "source": [
        "df"
      ],
      "execution_count": 7,
      "outputs": [
        {
          "output_type": "execute_result",
          "data": {
            "text/plain": [
              "   origen         cuit  periodo  cuota  cod actividad  \\\n",
              "0    ADIB  30538596112     2015      1         631027   \n",
              "1    ADIB  30538596112     2015      2         631027   \n",
              "2    ADIB  30538596112     2015      3         631027   \n",
              "3    ADIB  30538596112     2015      4         631027   \n",
              "4    ADIB  30538596112     2015      5         631027   \n",
              "..    ...          ...      ...    ...            ...   \n",
              "74    DIU  30538596112     2021      4         561019   \n",
              "75    DIU  30538596112     2021      5         561019   \n",
              "76    DIU  30538596112     2021      6         561019   \n",
              "77    DIU  30538596112     2021      7         561019   \n",
              "78    DIU  30538596112     2021      8         561019   \n",
              "\n",
              "                              descripcion codigo prov  alicuota  \\\n",
              "0       VTA PIZ/EMPAN/HAMB/PARRILL/BEBIDA-C/SERV.MESA       4.0   \n",
              "1       VTA PIZ/EMPAN/HAMB/PARRILL/BEBIDA-C/SERV.MESA       4.0   \n",
              "2       VTA PIZ/EMPAN/HAMB/PARRILL/BEBIDA-C/SERV.MESA       4.0   \n",
              "3       VTA PIZ/EMPAN/HAMB/PARRILL/BEBIDA-C/SERV.MESA       4.0   \n",
              "4       VTA PIZ/EMPAN/HAMB/PARRILL/BEBIDA-C/SERV.MESA       4.0   \n",
              "..                                                ...       ...   \n",
              "74  SS DE EXPENDIO COMIDAS Y BEBIDAS EN ESTABLECIM...       2.0   \n",
              "75  SS DE EXPENDIO COMIDAS Y BEBIDAS EN ESTABLECIM...       2.0   \n",
              "76  SS DE EXPENDIO COMIDAS Y BEBIDAS EN ESTABLECIM...       2.0   \n",
              "77  SS DE EXPENDIO COMIDAS Y BEBIDAS EN ESTABLECIM...       2.0   \n",
              "78  SS DE EXPENDIO COMIDAS Y BEBIDAS EN ESTABLECIM...       2.0   \n",
              "\n",
              "    base imponible  impuesto calculado alícuota  \\\n",
              "0       1542649.10                     61705.96   \n",
              "1       2826481.24                    113059.24   \n",
              "2       2819790.62                    112791.62   \n",
              "3       2904493.66                    116179.74   \n",
              "4       3039687.52                    121587.50   \n",
              "..             ...                          ...   \n",
              "74     11116559.12                    222331.18   \n",
              "75      9678823.72                    193576.47   \n",
              "76     13214299.07                    264285.98   \n",
              "77     21268840.75                    425376.82   \n",
              "78     16369739.27                    327394.79   \n",
              "\n",
              "    impuesto determinado (adib / diu)  \n",
              "0                            61705.96  \n",
              "1                           113059.24  \n",
              "2                           112791.62  \n",
              "3                           116179.74  \n",
              "4                           121587.50  \n",
              "..                                ...  \n",
              "74                          222331.18  \n",
              "75                          193576.47  \n",
              "76                          264285.98  \n",
              "77                          425376.82  \n",
              "78                          327394.79  \n",
              "\n",
              "[79 rows x 10 columns]"
            ],
            "text/html": [
              "\n",
              "  <div id=\"df-caf7cd75-aba3-4ff6-836d-146409c06ba8\">\n",
              "    <div class=\"colab-df-container\">\n",
              "      <div>\n",
              "<style scoped>\n",
              "    .dataframe tbody tr th:only-of-type {\n",
              "        vertical-align: middle;\n",
              "    }\n",
              "\n",
              "    .dataframe tbody tr th {\n",
              "        vertical-align: top;\n",
              "    }\n",
              "\n",
              "    .dataframe thead th {\n",
              "        text-align: right;\n",
              "    }\n",
              "</style>\n",
              "<table border=\"1\" class=\"dataframe\">\n",
              "  <thead>\n",
              "    <tr style=\"text-align: right;\">\n",
              "      <th></th>\n",
              "      <th>origen</th>\n",
              "      <th>cuit</th>\n",
              "      <th>periodo</th>\n",
              "      <th>cuota</th>\n",
              "      <th>cod actividad</th>\n",
              "      <th>descripcion codigo prov</th>\n",
              "      <th>alicuota</th>\n",
              "      <th>base imponible</th>\n",
              "      <th>impuesto calculado alícuota</th>\n",
              "      <th>impuesto determinado (adib / diu)</th>\n",
              "    </tr>\n",
              "  </thead>\n",
              "  <tbody>\n",
              "    <tr>\n",
              "      <th>0</th>\n",
              "      <td>ADIB</td>\n",
              "      <td>30538596112</td>\n",
              "      <td>2015</td>\n",
              "      <td>1</td>\n",
              "      <td>631027</td>\n",
              "      <td>VTA PIZ/EMPAN/HAMB/PARRILL/BEBIDA-C/SERV.MESA</td>\n",
              "      <td>4.0</td>\n",
              "      <td>1542649.10</td>\n",
              "      <td>61705.96</td>\n",
              "      <td>61705.96</td>\n",
              "    </tr>\n",
              "    <tr>\n",
              "      <th>1</th>\n",
              "      <td>ADIB</td>\n",
              "      <td>30538596112</td>\n",
              "      <td>2015</td>\n",
              "      <td>2</td>\n",
              "      <td>631027</td>\n",
              "      <td>VTA PIZ/EMPAN/HAMB/PARRILL/BEBIDA-C/SERV.MESA</td>\n",
              "      <td>4.0</td>\n",
              "      <td>2826481.24</td>\n",
              "      <td>113059.24</td>\n",
              "      <td>113059.24</td>\n",
              "    </tr>\n",
              "    <tr>\n",
              "      <th>2</th>\n",
              "      <td>ADIB</td>\n",
              "      <td>30538596112</td>\n",
              "      <td>2015</td>\n",
              "      <td>3</td>\n",
              "      <td>631027</td>\n",
              "      <td>VTA PIZ/EMPAN/HAMB/PARRILL/BEBIDA-C/SERV.MESA</td>\n",
              "      <td>4.0</td>\n",
              "      <td>2819790.62</td>\n",
              "      <td>112791.62</td>\n",
              "      <td>112791.62</td>\n",
              "    </tr>\n",
              "    <tr>\n",
              "      <th>3</th>\n",
              "      <td>ADIB</td>\n",
              "      <td>30538596112</td>\n",
              "      <td>2015</td>\n",
              "      <td>4</td>\n",
              "      <td>631027</td>\n",
              "      <td>VTA PIZ/EMPAN/HAMB/PARRILL/BEBIDA-C/SERV.MESA</td>\n",
              "      <td>4.0</td>\n",
              "      <td>2904493.66</td>\n",
              "      <td>116179.74</td>\n",
              "      <td>116179.74</td>\n",
              "    </tr>\n",
              "    <tr>\n",
              "      <th>4</th>\n",
              "      <td>ADIB</td>\n",
              "      <td>30538596112</td>\n",
              "      <td>2015</td>\n",
              "      <td>5</td>\n",
              "      <td>631027</td>\n",
              "      <td>VTA PIZ/EMPAN/HAMB/PARRILL/BEBIDA-C/SERV.MESA</td>\n",
              "      <td>4.0</td>\n",
              "      <td>3039687.52</td>\n",
              "      <td>121587.50</td>\n",
              "      <td>121587.50</td>\n",
              "    </tr>\n",
              "    <tr>\n",
              "      <th>...</th>\n",
              "      <td>...</td>\n",
              "      <td>...</td>\n",
              "      <td>...</td>\n",
              "      <td>...</td>\n",
              "      <td>...</td>\n",
              "      <td>...</td>\n",
              "      <td>...</td>\n",
              "      <td>...</td>\n",
              "      <td>...</td>\n",
              "      <td>...</td>\n",
              "    </tr>\n",
              "    <tr>\n",
              "      <th>74</th>\n",
              "      <td>DIU</td>\n",
              "      <td>30538596112</td>\n",
              "      <td>2021</td>\n",
              "      <td>4</td>\n",
              "      <td>561019</td>\n",
              "      <td>SS DE EXPENDIO COMIDAS Y BEBIDAS EN ESTABLECIM...</td>\n",
              "      <td>2.0</td>\n",
              "      <td>11116559.12</td>\n",
              "      <td>222331.18</td>\n",
              "      <td>222331.18</td>\n",
              "    </tr>\n",
              "    <tr>\n",
              "      <th>75</th>\n",
              "      <td>DIU</td>\n",
              "      <td>30538596112</td>\n",
              "      <td>2021</td>\n",
              "      <td>5</td>\n",
              "      <td>561019</td>\n",
              "      <td>SS DE EXPENDIO COMIDAS Y BEBIDAS EN ESTABLECIM...</td>\n",
              "      <td>2.0</td>\n",
              "      <td>9678823.72</td>\n",
              "      <td>193576.47</td>\n",
              "      <td>193576.47</td>\n",
              "    </tr>\n",
              "    <tr>\n",
              "      <th>76</th>\n",
              "      <td>DIU</td>\n",
              "      <td>30538596112</td>\n",
              "      <td>2021</td>\n",
              "      <td>6</td>\n",
              "      <td>561019</td>\n",
              "      <td>SS DE EXPENDIO COMIDAS Y BEBIDAS EN ESTABLECIM...</td>\n",
              "      <td>2.0</td>\n",
              "      <td>13214299.07</td>\n",
              "      <td>264285.98</td>\n",
              "      <td>264285.98</td>\n",
              "    </tr>\n",
              "    <tr>\n",
              "      <th>77</th>\n",
              "      <td>DIU</td>\n",
              "      <td>30538596112</td>\n",
              "      <td>2021</td>\n",
              "      <td>7</td>\n",
              "      <td>561019</td>\n",
              "      <td>SS DE EXPENDIO COMIDAS Y BEBIDAS EN ESTABLECIM...</td>\n",
              "      <td>2.0</td>\n",
              "      <td>21268840.75</td>\n",
              "      <td>425376.82</td>\n",
              "      <td>425376.82</td>\n",
              "    </tr>\n",
              "    <tr>\n",
              "      <th>78</th>\n",
              "      <td>DIU</td>\n",
              "      <td>30538596112</td>\n",
              "      <td>2021</td>\n",
              "      <td>8</td>\n",
              "      <td>561019</td>\n",
              "      <td>SS DE EXPENDIO COMIDAS Y BEBIDAS EN ESTABLECIM...</td>\n",
              "      <td>2.0</td>\n",
              "      <td>16369739.27</td>\n",
              "      <td>327394.79</td>\n",
              "      <td>327394.79</td>\n",
              "    </tr>\n",
              "  </tbody>\n",
              "</table>\n",
              "<p>79 rows × 10 columns</p>\n",
              "</div>\n",
              "      <button class=\"colab-df-convert\" onclick=\"convertToInteractive('df-caf7cd75-aba3-4ff6-836d-146409c06ba8')\"\n",
              "              title=\"Convert this dataframe to an interactive table.\"\n",
              "              style=\"display:none;\">\n",
              "        \n",
              "  <svg xmlns=\"http://www.w3.org/2000/svg\" height=\"24px\"viewBox=\"0 0 24 24\"\n",
              "       width=\"24px\">\n",
              "    <path d=\"M0 0h24v24H0V0z\" fill=\"none\"/>\n",
              "    <path d=\"M18.56 5.44l.94 2.06.94-2.06 2.06-.94-2.06-.94-.94-2.06-.94 2.06-2.06.94zm-11 1L8.5 8.5l.94-2.06 2.06-.94-2.06-.94L8.5 2.5l-.94 2.06-2.06.94zm10 10l.94 2.06.94-2.06 2.06-.94-2.06-.94-.94-2.06-.94 2.06-2.06.94z\"/><path d=\"M17.41 7.96l-1.37-1.37c-.4-.4-.92-.59-1.43-.59-.52 0-1.04.2-1.43.59L10.3 9.45l-7.72 7.72c-.78.78-.78 2.05 0 2.83L4 21.41c.39.39.9.59 1.41.59.51 0 1.02-.2 1.41-.59l7.78-7.78 2.81-2.81c.8-.78.8-2.07 0-2.86zM5.41 20L4 18.59l7.72-7.72 1.47 1.35L5.41 20z\"/>\n",
              "  </svg>\n",
              "      </button>\n",
              "      \n",
              "  <style>\n",
              "    .colab-df-container {\n",
              "      display:flex;\n",
              "      flex-wrap:wrap;\n",
              "      gap: 12px;\n",
              "    }\n",
              "\n",
              "    .colab-df-convert {\n",
              "      background-color: #E8F0FE;\n",
              "      border: none;\n",
              "      border-radius: 50%;\n",
              "      cursor: pointer;\n",
              "      display: none;\n",
              "      fill: #1967D2;\n",
              "      height: 32px;\n",
              "      padding: 0 0 0 0;\n",
              "      width: 32px;\n",
              "    }\n",
              "\n",
              "    .colab-df-convert:hover {\n",
              "      background-color: #E2EBFA;\n",
              "      box-shadow: 0px 1px 2px rgba(60, 64, 67, 0.3), 0px 1px 3px 1px rgba(60, 64, 67, 0.15);\n",
              "      fill: #174EA6;\n",
              "    }\n",
              "\n",
              "    [theme=dark] .colab-df-convert {\n",
              "      background-color: #3B4455;\n",
              "      fill: #D2E3FC;\n",
              "    }\n",
              "\n",
              "    [theme=dark] .colab-df-convert:hover {\n",
              "      background-color: #434B5C;\n",
              "      box-shadow: 0px 1px 3px 1px rgba(0, 0, 0, 0.15);\n",
              "      filter: drop-shadow(0px 1px 2px rgba(0, 0, 0, 0.3));\n",
              "      fill: #FFFFFF;\n",
              "    }\n",
              "  </style>\n",
              "\n",
              "      <script>\n",
              "        const buttonEl =\n",
              "          document.querySelector('#df-caf7cd75-aba3-4ff6-836d-146409c06ba8 button.colab-df-convert');\n",
              "        buttonEl.style.display =\n",
              "          google.colab.kernel.accessAllowed ? 'block' : 'none';\n",
              "\n",
              "        async function convertToInteractive(key) {\n",
              "          const element = document.querySelector('#df-caf7cd75-aba3-4ff6-836d-146409c06ba8');\n",
              "          const dataTable =\n",
              "            await google.colab.kernel.invokeFunction('convertToInteractive',\n",
              "                                                     [key], {});\n",
              "          if (!dataTable) return;\n",
              "\n",
              "          const docLinkHtml = 'Like what you see? Visit the ' +\n",
              "            '<a target=\"_blank\" href=https://colab.research.google.com/notebooks/data_table.ipynb>data table notebook</a>'\n",
              "            + ' to learn more about interactive tables.';\n",
              "          element.innerHTML = '';\n",
              "          dataTable['output_type'] = 'display_data';\n",
              "          await google.colab.output.renderOutput(dataTable, element);\n",
              "          const docLink = document.createElement('div');\n",
              "          docLink.innerHTML = docLinkHtml;\n",
              "          element.appendChild(docLink);\n",
              "        }\n",
              "      </script>\n",
              "    </div>\n",
              "  </div>\n",
              "  "
            ]
          },
          "metadata": {},
          "execution_count": 7
        }
      ]
    },
    {
      "cell_type": "markdown",
      "metadata": {
        "id": "rpcc4APHimn9"
      },
      "source": [
        "### Análisis descriptivo"
      ]
    },
    {
      "cell_type": "code",
      "metadata": {
        "colab": {
          "base_uri": "https://localhost:8080/",
          "height": 463
        },
        "id": "LgE-jsaaipYa",
        "outputId": "39cfe7ef-6281-49c2-e9cd-4051c75a9824"
      },
      "source": [
        "df.describe().T"
      ],
      "execution_count": 8,
      "outputs": [
        {
          "output_type": "execute_result",
          "data": {
            "text/plain": [
              "                                   count          mean           std  \\\n",
              "cuit                                79.0  3.053860e+10  0.000000e+00   \n",
              "periodo                             79.0  2.017823e+03  1.939862e+00   \n",
              "cuota                               79.0  6.303797e+00  3.450583e+00   \n",
              "cod actividad                       79.0  6.035595e+05  3.440556e+04   \n",
              "alicuota                            79.0  4.205696e+00  7.749685e-01   \n",
              "base imponible                      79.0  4.953488e+06  3.491995e+06   \n",
              "impuesto calculado alícuota         79.0  1.904153e+05  9.575356e+04   \n",
              "impuesto determinado (adib / diu)   79.0  1.904153e+05  9.575356e+04   \n",
              "\n",
              "                                            min           25%           50%  \\\n",
              "cuit                               3.053860e+10  3.053860e+10  3.053860e+10   \n",
              "periodo                            2.015000e+03  2.016000e+03  2.018000e+03   \n",
              "cuota                              1.000000e+00  3.000000e+00  6.000000e+00   \n",
              "cod actividad                      5.610190e+05  5.610190e+05  6.310270e+05   \n",
              "alicuota                           2.000000e+00  4.250000e+00  4.500000e+00   \n",
              "base imponible                     2.400992e+05  2.940874e+06  3.873860e+06   \n",
              "impuesto calculado alícuota        1.140471e+04  1.202766e+05  1.672985e+05   \n",
              "impuesto determinado (adib / diu)  1.140471e+04  1.202766e+05  1.672985e+05   \n",
              "\n",
              "                                            75%           max  \n",
              "cuit                               3.053860e+10  3.053860e+10  \n",
              "periodo                            2.019000e+03  2.021000e+03  \n",
              "cuota                              9.000000e+00  1.200000e+01  \n",
              "cod actividad                      6.310350e+05  6.310350e+05  \n",
              "alicuota                           4.500000e+00  4.750000e+00  \n",
              "base imponible                     5.599008e+06  2.126884e+07  \n",
              "impuesto calculado alícuota        2.352380e+05  5.123743e+05  \n",
              "impuesto determinado (adib / diu)  2.352380e+05  5.123743e+05  "
            ],
            "text/html": [
              "\n",
              "  <div id=\"df-0b851c65-af6b-4068-a443-9f773d12631b\">\n",
              "    <div class=\"colab-df-container\">\n",
              "      <div>\n",
              "<style scoped>\n",
              "    .dataframe tbody tr th:only-of-type {\n",
              "        vertical-align: middle;\n",
              "    }\n",
              "\n",
              "    .dataframe tbody tr th {\n",
              "        vertical-align: top;\n",
              "    }\n",
              "\n",
              "    .dataframe thead th {\n",
              "        text-align: right;\n",
              "    }\n",
              "</style>\n",
              "<table border=\"1\" class=\"dataframe\">\n",
              "  <thead>\n",
              "    <tr style=\"text-align: right;\">\n",
              "      <th></th>\n",
              "      <th>count</th>\n",
              "      <th>mean</th>\n",
              "      <th>std</th>\n",
              "      <th>min</th>\n",
              "      <th>25%</th>\n",
              "      <th>50%</th>\n",
              "      <th>75%</th>\n",
              "      <th>max</th>\n",
              "    </tr>\n",
              "  </thead>\n",
              "  <tbody>\n",
              "    <tr>\n",
              "      <th>cuit</th>\n",
              "      <td>79.0</td>\n",
              "      <td>3.053860e+10</td>\n",
              "      <td>0.000000e+00</td>\n",
              "      <td>3.053860e+10</td>\n",
              "      <td>3.053860e+10</td>\n",
              "      <td>3.053860e+10</td>\n",
              "      <td>3.053860e+10</td>\n",
              "      <td>3.053860e+10</td>\n",
              "    </tr>\n",
              "    <tr>\n",
              "      <th>periodo</th>\n",
              "      <td>79.0</td>\n",
              "      <td>2.017823e+03</td>\n",
              "      <td>1.939862e+00</td>\n",
              "      <td>2.015000e+03</td>\n",
              "      <td>2.016000e+03</td>\n",
              "      <td>2.018000e+03</td>\n",
              "      <td>2.019000e+03</td>\n",
              "      <td>2.021000e+03</td>\n",
              "    </tr>\n",
              "    <tr>\n",
              "      <th>cuota</th>\n",
              "      <td>79.0</td>\n",
              "      <td>6.303797e+00</td>\n",
              "      <td>3.450583e+00</td>\n",
              "      <td>1.000000e+00</td>\n",
              "      <td>3.000000e+00</td>\n",
              "      <td>6.000000e+00</td>\n",
              "      <td>9.000000e+00</td>\n",
              "      <td>1.200000e+01</td>\n",
              "    </tr>\n",
              "    <tr>\n",
              "      <th>cod actividad</th>\n",
              "      <td>79.0</td>\n",
              "      <td>6.035595e+05</td>\n",
              "      <td>3.440556e+04</td>\n",
              "      <td>5.610190e+05</td>\n",
              "      <td>5.610190e+05</td>\n",
              "      <td>6.310270e+05</td>\n",
              "      <td>6.310350e+05</td>\n",
              "      <td>6.310350e+05</td>\n",
              "    </tr>\n",
              "    <tr>\n",
              "      <th>alicuota</th>\n",
              "      <td>79.0</td>\n",
              "      <td>4.205696e+00</td>\n",
              "      <td>7.749685e-01</td>\n",
              "      <td>2.000000e+00</td>\n",
              "      <td>4.250000e+00</td>\n",
              "      <td>4.500000e+00</td>\n",
              "      <td>4.500000e+00</td>\n",
              "      <td>4.750000e+00</td>\n",
              "    </tr>\n",
              "    <tr>\n",
              "      <th>base imponible</th>\n",
              "      <td>79.0</td>\n",
              "      <td>4.953488e+06</td>\n",
              "      <td>3.491995e+06</td>\n",
              "      <td>2.400992e+05</td>\n",
              "      <td>2.940874e+06</td>\n",
              "      <td>3.873860e+06</td>\n",
              "      <td>5.599008e+06</td>\n",
              "      <td>2.126884e+07</td>\n",
              "    </tr>\n",
              "    <tr>\n",
              "      <th>impuesto calculado alícuota</th>\n",
              "      <td>79.0</td>\n",
              "      <td>1.904153e+05</td>\n",
              "      <td>9.575356e+04</td>\n",
              "      <td>1.140471e+04</td>\n",
              "      <td>1.202766e+05</td>\n",
              "      <td>1.672985e+05</td>\n",
              "      <td>2.352380e+05</td>\n",
              "      <td>5.123743e+05</td>\n",
              "    </tr>\n",
              "    <tr>\n",
              "      <th>impuesto determinado (adib / diu)</th>\n",
              "      <td>79.0</td>\n",
              "      <td>1.904153e+05</td>\n",
              "      <td>9.575356e+04</td>\n",
              "      <td>1.140471e+04</td>\n",
              "      <td>1.202766e+05</td>\n",
              "      <td>1.672985e+05</td>\n",
              "      <td>2.352380e+05</td>\n",
              "      <td>5.123743e+05</td>\n",
              "    </tr>\n",
              "  </tbody>\n",
              "</table>\n",
              "</div>\n",
              "      <button class=\"colab-df-convert\" onclick=\"convertToInteractive('df-0b851c65-af6b-4068-a443-9f773d12631b')\"\n",
              "              title=\"Convert this dataframe to an interactive table.\"\n",
              "              style=\"display:none;\">\n",
              "        \n",
              "  <svg xmlns=\"http://www.w3.org/2000/svg\" height=\"24px\"viewBox=\"0 0 24 24\"\n",
              "       width=\"24px\">\n",
              "    <path d=\"M0 0h24v24H0V0z\" fill=\"none\"/>\n",
              "    <path d=\"M18.56 5.44l.94 2.06.94-2.06 2.06-.94-2.06-.94-.94-2.06-.94 2.06-2.06.94zm-11 1L8.5 8.5l.94-2.06 2.06-.94-2.06-.94L8.5 2.5l-.94 2.06-2.06.94zm10 10l.94 2.06.94-2.06 2.06-.94-2.06-.94-.94-2.06-.94 2.06-2.06.94z\"/><path d=\"M17.41 7.96l-1.37-1.37c-.4-.4-.92-.59-1.43-.59-.52 0-1.04.2-1.43.59L10.3 9.45l-7.72 7.72c-.78.78-.78 2.05 0 2.83L4 21.41c.39.39.9.59 1.41.59.51 0 1.02-.2 1.41-.59l7.78-7.78 2.81-2.81c.8-.78.8-2.07 0-2.86zM5.41 20L4 18.59l7.72-7.72 1.47 1.35L5.41 20z\"/>\n",
              "  </svg>\n",
              "      </button>\n",
              "      \n",
              "  <style>\n",
              "    .colab-df-container {\n",
              "      display:flex;\n",
              "      flex-wrap:wrap;\n",
              "      gap: 12px;\n",
              "    }\n",
              "\n",
              "    .colab-df-convert {\n",
              "      background-color: #E8F0FE;\n",
              "      border: none;\n",
              "      border-radius: 50%;\n",
              "      cursor: pointer;\n",
              "      display: none;\n",
              "      fill: #1967D2;\n",
              "      height: 32px;\n",
              "      padding: 0 0 0 0;\n",
              "      width: 32px;\n",
              "    }\n",
              "\n",
              "    .colab-df-convert:hover {\n",
              "      background-color: #E2EBFA;\n",
              "      box-shadow: 0px 1px 2px rgba(60, 64, 67, 0.3), 0px 1px 3px 1px rgba(60, 64, 67, 0.15);\n",
              "      fill: #174EA6;\n",
              "    }\n",
              "\n",
              "    [theme=dark] .colab-df-convert {\n",
              "      background-color: #3B4455;\n",
              "      fill: #D2E3FC;\n",
              "    }\n",
              "\n",
              "    [theme=dark] .colab-df-convert:hover {\n",
              "      background-color: #434B5C;\n",
              "      box-shadow: 0px 1px 3px 1px rgba(0, 0, 0, 0.15);\n",
              "      filter: drop-shadow(0px 1px 2px rgba(0, 0, 0, 0.3));\n",
              "      fill: #FFFFFF;\n",
              "    }\n",
              "  </style>\n",
              "\n",
              "      <script>\n",
              "        const buttonEl =\n",
              "          document.querySelector('#df-0b851c65-af6b-4068-a443-9f773d12631b button.colab-df-convert');\n",
              "        buttonEl.style.display =\n",
              "          google.colab.kernel.accessAllowed ? 'block' : 'none';\n",
              "\n",
              "        async function convertToInteractive(key) {\n",
              "          const element = document.querySelector('#df-0b851c65-af6b-4068-a443-9f773d12631b');\n",
              "          const dataTable =\n",
              "            await google.colab.kernel.invokeFunction('convertToInteractive',\n",
              "                                                     [key], {});\n",
              "          if (!dataTable) return;\n",
              "\n",
              "          const docLinkHtml = 'Like what you see? Visit the ' +\n",
              "            '<a target=\"_blank\" href=https://colab.research.google.com/notebooks/data_table.ipynb>data table notebook</a>'\n",
              "            + ' to learn more about interactive tables.';\n",
              "          element.innerHTML = '';\n",
              "          dataTable['output_type'] = 'display_data';\n",
              "          await google.colab.output.renderOutput(dataTable, element);\n",
              "          const docLink = document.createElement('div');\n",
              "          docLink.innerHTML = docLinkHtml;\n",
              "          element.appendChild(docLink);\n",
              "        }\n",
              "      </script>\n",
              "    </div>\n",
              "  </div>\n",
              "  "
            ]
          },
          "metadata": {},
          "execution_count": 8
        }
      ]
    },
    {
      "cell_type": "markdown",
      "metadata": {
        "id": "9LwNKwqPjSuw"
      },
      "source": [
        "### Valores faltantes"
      ]
    },
    {
      "cell_type": "code",
      "metadata": {
        "colab": {
          "base_uri": "https://localhost:8080/"
        },
        "id": "NVIuB2i9jVXS",
        "outputId": "36d47242-f1e0-4083-b674-41fe2c61442b"
      },
      "source": [
        "df.isnull().sum()"
      ],
      "execution_count": 9,
      "outputs": [
        {
          "output_type": "execute_result",
          "data": {
            "text/plain": [
              "origen                               0\n",
              "cuit                                 0\n",
              "periodo                              0\n",
              "cuota                                0\n",
              "cod actividad                        0\n",
              "descripcion codigo prov              0\n",
              "alicuota                             0\n",
              "base imponible                       0\n",
              "impuesto calculado alícuota          0\n",
              "impuesto determinado (adib / diu)    0\n",
              "dtype: int64"
            ]
          },
          "metadata": {},
          "execution_count": 9
        }
      ]
    },
    {
      "cell_type": "markdown",
      "metadata": {
        "id": "spLTdHD8kTgX"
      },
      "source": [
        "### Creación del campo fecha"
      ]
    },
    {
      "cell_type": "code",
      "metadata": {
        "id": "vIV4TzOxkhGc"
      },
      "source": [
        "df.cuota = df.cuota.astype(str)\n",
        "df.periodo = df.periodo.astype(str)"
      ],
      "execution_count": 10,
      "outputs": []
    },
    {
      "cell_type": "code",
      "metadata": {
        "id": "B9WIrMvEk5GI"
      },
      "source": [
        "df[\"fecha\"] = df['cuota'].str.cat(df['periodo'], sep =\"/\") "
      ],
      "execution_count": 11,
      "outputs": []
    },
    {
      "cell_type": "code",
      "metadata": {
        "id": "dGHaQiTyk66q"
      },
      "source": [
        "df.fecha = pd.to_datetime(df['fecha'])"
      ],
      "execution_count": 12,
      "outputs": []
    },
    {
      "cell_type": "code",
      "metadata": {
        "colab": {
          "base_uri": "https://localhost:8080/"
        },
        "id": "Cq2ddgPslGPW",
        "outputId": "ff794b8e-b25f-4efa-e7ac-0f3dc41b1c29"
      },
      "source": [
        "df.info()"
      ],
      "execution_count": 13,
      "outputs": [
        {
          "output_type": "stream",
          "name": "stdout",
          "text": [
            "<class 'pandas.core.frame.DataFrame'>\n",
            "Int64Index: 79 entries, 0 to 78\n",
            "Data columns (total 11 columns):\n",
            " #   Column                             Non-Null Count  Dtype         \n",
            "---  ------                             --------------  -----         \n",
            " 0   origen                             79 non-null     object        \n",
            " 1   cuit                               79 non-null     int64         \n",
            " 2   periodo                            79 non-null     object        \n",
            " 3   cuota                              79 non-null     object        \n",
            " 4   cod actividad                      79 non-null     int64         \n",
            " 5   descripcion codigo prov            79 non-null     object        \n",
            " 6   alicuota                           79 non-null     float64       \n",
            " 7   base imponible                     79 non-null     float64       \n",
            " 8   impuesto calculado alícuota        79 non-null     float64       \n",
            " 9   impuesto determinado (adib / diu)  79 non-null     float64       \n",
            " 10  fecha                              79 non-null     datetime64[ns]\n",
            "dtypes: datetime64[ns](1), float64(4), int64(2), object(4)\n",
            "memory usage: 7.4+ KB\n"
          ]
        }
      ]
    },
    {
      "cell_type": "markdown",
      "metadata": {
        "id": "90mPMY7xlBtP"
      },
      "source": [
        "### Ajustando el dataframe"
      ]
    },
    {
      "cell_type": "code",
      "metadata": {
        "id": "fvPs5w90lEoX"
      },
      "source": [
        "df.drop(columns=[\"origen\",\"cuit\",\"periodo\",\"cuota\",\"cod actividad\",\"descripcion codigo prov\",\n",
        "                 \"alicuota\",\"impuesto calculado alícuota\",\"impuesto determinado (adib / diu)\"], inplace = True)"
      ],
      "execution_count": 14,
      "outputs": []
    },
    {
      "cell_type": "code",
      "metadata": {
        "colab": {
          "base_uri": "https://localhost:8080/"
        },
        "id": "R1jNQBCvl36A",
        "outputId": "8f2fce4b-d75e-453a-db95-9823ea699b97"
      },
      "source": [
        "df.info()"
      ],
      "execution_count": 15,
      "outputs": [
        {
          "output_type": "stream",
          "name": "stdout",
          "text": [
            "<class 'pandas.core.frame.DataFrame'>\n",
            "Int64Index: 79 entries, 0 to 78\n",
            "Data columns (total 2 columns):\n",
            " #   Column          Non-Null Count  Dtype         \n",
            "---  ------          --------------  -----         \n",
            " 0   base imponible  79 non-null     float64       \n",
            " 1   fecha           79 non-null     datetime64[ns]\n",
            "dtypes: datetime64[ns](1), float64(1)\n",
            "memory usage: 1.9 KB\n"
          ]
        }
      ]
    },
    {
      "cell_type": "markdown",
      "metadata": {
        "id": "HSyw-d2wxyfJ"
      },
      "source": [
        "# Dividiendo el conjunto de datos"
      ]
    },
    {
      "cell_type": "code",
      "metadata": {
        "id": "swPPWhz4x2lo"
      },
      "source": [
        "datos = df.sample(frac=0.76, random_state=0)\n",
        "datos_no_vistos = df.drop(datos.index)"
      ],
      "execution_count": 16,
      "outputs": []
    },
    {
      "cell_type": "code",
      "metadata": {
        "id": "eN3u6AWbyRaG"
      },
      "source": [
        "datos.reset_index(inplace=True, drop=True)\n",
        "datos_no_vistos.reset_index(inplace=True, drop=True)"
      ],
      "execution_count": 17,
      "outputs": []
    },
    {
      "cell_type": "code",
      "metadata": {
        "colab": {
          "base_uri": "https://localhost:8080/"
        },
        "id": "CZInyMTkyZUj",
        "outputId": "afc986ef-f38d-4481-90ab-b9b2a38072a9"
      },
      "source": [
        "print(\"Datos para Modelar: \" + str(datos.shape))\n",
        "print(\"Datos no vistos para Predicciones: \" + str(datos_no_vistos.shape))"
      ],
      "execution_count": 18,
      "outputs": [
        {
          "output_type": "stream",
          "name": "stdout",
          "text": [
            "Datos para Modelar: (60, 2)\n",
            "Datos no vistos para Predicciones: (19, 2)\n"
          ]
        }
      ]
    },
    {
      "cell_type": "markdown",
      "metadata": {
        "id": "mM9VcOHVl9Uo"
      },
      "source": [
        "# Detección de Outliers "
      ]
    },
    {
      "cell_type": "markdown",
      "metadata": {
        "id": "lgRNCd-Wnftp"
      },
      "source": [
        "### Instalando PyCaret"
      ]
    },
    {
      "cell_type": "code",
      "metadata": {
        "colab": {
          "base_uri": "https://localhost:8080/"
        },
        "id": "PKqCaD3BmCr7",
        "outputId": "39bda16c-0547-4444-90a9-e379dc0e70dd"
      },
      "source": [
        "!pip install --pre pycaret[full]"
      ],
      "execution_count": 19,
      "outputs": [
        {
          "output_type": "stream",
          "name": "stdout",
          "text": [
            "Looking in indexes: https://pypi.org/simple, https://us-python.pkg.dev/colab-wheels/public/simple/\n",
            "Requirement already satisfied: pycaret[full] in /usr/local/lib/python3.7/dist-packages (3.0.0rc4)\n",
            "Requirement already satisfied: lightgbm>=3.0.0 in /usr/local/lib/python3.7/dist-packages (from pycaret[full]) (3.3.3)\n",
            "Requirement already satisfied: importlib-metadata>=4.12.0 in /usr/local/lib/python3.7/dist-packages (from pycaret[full]) (4.13.0)\n",
            "Requirement already satisfied: plotly-resampler>=0.7.2.2 in /usr/local/lib/python3.7/dist-packages (from pycaret[full]) (0.8.2rc3)\n",
            "Requirement already satisfied: plotly>=5.0.0 in /usr/local/lib/python3.7/dist-packages (from pycaret[full]) (5.5.0)\n",
            "Requirement already satisfied: joblib>=1.1.0 in /usr/local/lib/python3.7/dist-packages (from pycaret[full]) (1.2.0)\n",
            "Requirement already satisfied: numpy<1.23,>=1.21 in /usr/local/lib/python3.7/dist-packages (from pycaret[full]) (1.21.6)\n",
            "Requirement already satisfied: kaleido>=0.2.1 in /usr/local/lib/python3.7/dist-packages (from pycaret[full]) (0.2.1)\n",
            "Requirement already satisfied: requests>=2.27.1 in /usr/local/lib/python3.7/dist-packages (from pycaret[full]) (2.28.1)\n",
            "Requirement already satisfied: tbats>=1.1.0 in /usr/local/lib/python3.7/dist-packages (from pycaret[full]) (1.1.1)\n",
            "Requirement already satisfied: scikit-plot>=0.3.7 in /usr/local/lib/python3.7/dist-packages (from pycaret[full]) (0.3.7)\n",
            "Requirement already satisfied: markupsafe>=2.0.1 in /usr/local/lib/python3.7/dist-packages (from pycaret[full]) (2.0.1)\n",
            "Requirement already satisfied: scikit-learn>=1.0 in /usr/local/lib/python3.7/dist-packages (from pycaret[full]) (1.0.2)\n",
            "Requirement already satisfied: numba~=0.55.0 in /usr/local/lib/python3.7/dist-packages (from pycaret[full]) (0.55.2)\n",
            "Requirement already satisfied: sktime~=0.13.2 in /usr/local/lib/python3.7/dist-packages (from pycaret[full]) (0.13.4)\n",
            "Requirement already satisfied: category-encoders>=2.4.0 in /usr/local/lib/python3.7/dist-packages (from pycaret[full]) (2.5.1.post0)\n",
            "Requirement already satisfied: jinja2>=1.2 in /usr/local/lib/python3.7/dist-packages (from pycaret[full]) (3.1.2)\n",
            "Requirement already satisfied: psutil>=5.9.0 in /usr/local/lib/python3.7/dist-packages (from pycaret[full]) (5.9.3)\n",
            "Requirement already satisfied: ipywidgets>=7.6.5 in /usr/local/lib/python3.7/dist-packages (from pycaret[full]) (7.7.1)\n",
            "Requirement already satisfied: yellowbrick>=1.4 in /usr/local/lib/python3.7/dist-packages (from pycaret[full]) (1.5)\n",
            "Requirement already satisfied: schemdraw>=0.14 in /usr/local/lib/python3.7/dist-packages (from pycaret[full]) (0.15)\n",
            "Requirement already satisfied: pandas<1.5.0,>=1.3.0 in /usr/local/lib/python3.7/dist-packages (from pycaret[full]) (1.3.5)\n",
            "Requirement already satisfied: scipy<1.9.0 in /usr/local/lib/python3.7/dist-packages (from pycaret[full]) (1.7.3)\n",
            "Requirement already satisfied: imbalanced-learn>=0.8.1 in /usr/local/lib/python3.7/dist-packages (from pycaret[full]) (0.8.1)\n",
            "Requirement already satisfied: pmdarima!=1.8.1,<2.0.0,>=1.8.0 in /usr/local/lib/python3.7/dist-packages (from pycaret[full]) (1.8.5)\n",
            "Requirement already satisfied: pyod>=0.9.8 in /usr/local/lib/python3.7/dist-packages (from pycaret[full]) (1.0.6)\n",
            "Requirement already satisfied: matplotlib>=3.3.0 in /usr/local/lib/python3.7/dist-packages (from pycaret[full]) (3.5.3)\n",
            "Requirement already satisfied: tqdm>=4.62.0 in /usr/local/lib/python3.7/dist-packages (from pycaret[full]) (4.64.1)\n",
            "Requirement already satisfied: statsmodels>=0.12.1 in /usr/local/lib/python3.7/dist-packages (from pycaret[full]) (0.13.2)\n",
            "Requirement already satisfied: ipython>=5.5.0 in /usr/local/lib/python3.7/dist-packages (from pycaret[full]) (7.9.0)\n",
            "Requirement already satisfied: flask>=2.0.3 in /usr/local/lib/python3.7/dist-packages (from pycaret[full]) (2.1.3)\n",
            "Requirement already satisfied: autoviz>=0.1.36 in /usr/local/lib/python3.7/dist-packages (from pycaret[full]) (0.1.58)\n",
            "Requirement already satisfied: xgboost>=1.1.0 in /usr/local/lib/python3.7/dist-packages (from pycaret[full]) (1.6.2)\n",
            "Requirement already satisfied: scikit-learn-intelex>=2021.6.3 in /usr/local/lib/python3.7/dist-packages (from pycaret[full]) (2021.6.3)\n",
            "Requirement already satisfied: fairlearn>=0.7.0 in /usr/local/lib/python3.7/dist-packages (from pycaret[full]) (0.7.0)\n",
            "Requirement already satisfied: pandas-profiling>=3.1.0 in /usr/local/lib/python3.7/dist-packages (from pycaret[full]) (3.4.0)\n",
            "Requirement already satisfied: explainerdashboard>=0.3.8 in /usr/local/lib/python3.7/dist-packages (from pycaret[full]) (0.3.8.2)\n",
            "Requirement already satisfied: ray[tune]>=1.0.0 in /usr/local/lib/python3.7/dist-packages (from pycaret[full]) (2.0.1)\n",
            "Requirement already satisfied: mlxtend>=0.19.0 in /usr/local/lib/python3.7/dist-packages (from pycaret[full]) (0.21.0)\n",
            "Requirement already satisfied: optuna>=2.2.0 in /usr/local/lib/python3.7/dist-packages (from pycaret[full]) (3.0.3)\n",
            "Requirement already satisfied: evidently>=0.1.45.dev0 in /usr/local/lib/python3.7/dist-packages (from pycaret[full]) (0.1.59.dev0)\n",
            "Requirement already satisfied: boto3>=1.24.56 in /usr/local/lib/python3.7/dist-packages (from pycaret[full]) (1.25.1)\n",
            "Requirement already satisfied: kmodes>=0.11.1 in /usr/local/lib/python3.7/dist-packages (from pycaret[full]) (0.12.2)\n",
            "Requirement already satisfied: m2cgen>=0.9.0 in /usr/local/lib/python3.7/dist-packages (from pycaret[full]) (0.10.0)\n",
            "Requirement already satisfied: tune-sklearn>=0.2.1 in /usr/local/lib/python3.7/dist-packages (from pycaret[full]) (0.4.4)\n",
            "Requirement already satisfied: catboost>=0.23.2 in /usr/local/lib/python3.7/dist-packages (from pycaret[full]) (1.1)\n",
            "Requirement already satisfied: statsforecast>=0.5.5 in /usr/local/lib/python3.7/dist-packages (from pycaret[full]) (1.1.3)\n",
            "Requirement already satisfied: protobuf<4.0.0 in /usr/local/lib/python3.7/dist-packages (from pycaret[full]) (3.17.3)\n",
            "Requirement already satisfied: fugue~=0.6.6 in /usr/local/lib/python3.7/dist-packages (from pycaret[full]) (0.6.6)\n",
            "Requirement already satisfied: dash[testing] in /usr/local/lib/python3.7/dist-packages (from pycaret[full]) (2.6.2)\n",
            "Requirement already satisfied: shap>=0.38.0 in /usr/local/lib/python3.7/dist-packages (from pycaret[full]) (0.41.0)\n",
            "Requirement already satisfied: umap-learn>=0.5.2 in /usr/local/lib/python3.7/dist-packages (from pycaret[full]) (0.5.3)\n",
            "Requirement already satisfied: gradio>=2.8.10 in /usr/local/lib/python3.7/dist-packages (from pycaret[full]) (3.6)\n",
            "Requirement already satisfied: mlflow>=1.24.0 in /usr/local/lib/python3.7/dist-packages (from pycaret[full]) (1.30.0)\n",
            "Requirement already satisfied: scikit-optimize>=0.9.0 in /usr/local/lib/python3.7/dist-packages (from pycaret[full]) (0.9.0)\n",
            "Requirement already satisfied: fastapi>=0.75.0 in /usr/local/lib/python3.7/dist-packages (from pycaret[full]) (0.85.1)\n",
            "Requirement already satisfied: hyperopt>=0.2.7 in /usr/local/lib/python3.7/dist-packages (from pycaret[full]) (0.2.7)\n",
            "Requirement already satisfied: codecov>=2.1.12 in /usr/local/lib/python3.7/dist-packages (from pycaret[full]) (2.1.12)\n",
            "Requirement already satisfied: interpret>=0.2.7 in /usr/local/lib/python3.7/dist-packages (from pycaret[full]) (0.2.7)\n",
            "Requirement already satisfied: moto>=3.0.7 in /usr/local/lib/python3.7/dist-packages (from pycaret[full]) (4.0.9.dev10)\n",
            "Requirement already satisfied: pytest>=7.0.1 in /usr/local/lib/python3.7/dist-packages (from pycaret[full]) (7.2.0)\n",
            "Requirement already satisfied: dask[dataframe]>=2022.2.0 in /usr/local/lib/python3.7/dist-packages (from pycaret[full]) (2022.2.0)\n",
            "Requirement already satisfied: uvicorn>=0.17.6 in /usr/local/lib/python3.7/dist-packages (from pycaret[full]) (0.19.0)\n",
            "Requirement already satisfied: nltk in /usr/local/lib/python3.7/dist-packages (from autoviz>=0.1.36->pycaret[full]) (3.7)\n",
            "Requirement already satisfied: pyamg in /usr/local/lib/python3.7/dist-packages (from autoviz>=0.1.36->pycaret[full]) (4.2.3)\n",
            "Requirement already satisfied: textblob in /usr/local/lib/python3.7/dist-packages (from autoviz>=0.1.36->pycaret[full]) (0.15.3)\n",
            "Requirement already satisfied: wordcloud in /usr/local/lib/python3.7/dist-packages (from autoviz>=0.1.36->pycaret[full]) (1.8.2.2)\n",
            "Requirement already satisfied: fsspec>=0.8.3 in /usr/local/lib/python3.7/dist-packages (from autoviz>=0.1.36->pycaret[full]) (2022.10.0)\n",
            "Requirement already satisfied: typing-extensions>=4.1.1 in /usr/local/lib/python3.7/dist-packages (from autoviz>=0.1.36->pycaret[full]) (4.1.1)\n",
            "Requirement already satisfied: panel~=0.12.6 in /usr/local/lib/python3.7/dist-packages (from autoviz>=0.1.36->pycaret[full]) (0.12.7)\n",
            "Requirement already satisfied: jupyter in /usr/local/lib/python3.7/dist-packages (from autoviz>=0.1.36->pycaret[full]) (1.0.0)\n",
            "Requirement already satisfied: emoji in /usr/local/lib/python3.7/dist-packages (from autoviz>=0.1.36->pycaret[full]) (2.1.0)\n",
            "Requirement already satisfied: holoviews>=1.14.6 in /usr/local/lib/python3.7/dist-packages (from autoviz>=0.1.36->pycaret[full]) (1.14.9)\n",
            "Requirement already satisfied: bokeh>=2.4.2 in /usr/local/lib/python3.7/dist-packages (from autoviz>=0.1.36->pycaret[full]) (2.4.3)\n",
            "Requirement already satisfied: hvplot>=0.7.3 in /usr/local/lib/python3.7/dist-packages (from autoviz>=0.1.36->pycaret[full]) (0.8.1)\n",
            "Requirement already satisfied: xlrd in /usr/local/lib/python3.7/dist-packages (from autoviz>=0.1.36->pycaret[full]) (1.1.0)\n",
            "Requirement already satisfied: seaborn>=0.11.1 in /usr/local/lib/python3.7/dist-packages (from autoviz>=0.1.36->pycaret[full]) (0.11.2)\n",
            "Requirement already satisfied: PyYAML>=3.10 in /usr/local/lib/python3.7/dist-packages (from bokeh>=2.4.2->autoviz>=0.1.36->pycaret[full]) (5.4.1)\n",
            "Requirement already satisfied: tornado>=5.1 in /usr/local/lib/python3.7/dist-packages (from bokeh>=2.4.2->autoviz>=0.1.36->pycaret[full]) (5.1.1)\n",
            "Requirement already satisfied: packaging>=16.8 in /usr/local/lib/python3.7/dist-packages (from bokeh>=2.4.2->autoviz>=0.1.36->pycaret[full]) (21.3)\n",
            "Requirement already satisfied: pillow>=7.1.0 in /usr/local/lib/python3.7/dist-packages (from bokeh>=2.4.2->autoviz>=0.1.36->pycaret[full]) (7.1.2)\n",
            "Requirement already satisfied: s3transfer<0.7.0,>=0.6.0 in /usr/local/lib/python3.7/dist-packages (from boto3>=1.24.56->pycaret[full]) (0.6.0)\n",
            "Requirement already satisfied: jmespath<2.0.0,>=0.7.1 in /usr/local/lib/python3.7/dist-packages (from boto3>=1.24.56->pycaret[full]) (1.0.1)\n",
            "Requirement already satisfied: botocore<1.29.0,>=1.28.1 in /usr/local/lib/python3.7/dist-packages (from boto3>=1.24.56->pycaret[full]) (1.28.1)\n",
            "Requirement already satisfied: urllib3<1.27,>=1.25.4 in /usr/local/lib/python3.7/dist-packages (from botocore<1.29.0,>=1.28.1->boto3>=1.24.56->pycaret[full]) (1.26.12)\n",
            "Requirement already satisfied: python-dateutil<3.0.0,>=2.1 in /usr/local/lib/python3.7/dist-packages (from botocore<1.29.0,>=1.28.1->boto3>=1.24.56->pycaret[full]) (2.8.2)\n",
            "Requirement already satisfied: graphviz in /usr/local/lib/python3.7/dist-packages (from catboost>=0.23.2->pycaret[full]) (0.20.1)\n",
            "Requirement already satisfied: six in /usr/local/lib/python3.7/dist-packages (from catboost>=0.23.2->pycaret[full]) (1.15.0)\n",
            "Requirement already satisfied: patsy>=0.5.1 in /usr/local/lib/python3.7/dist-packages (from category-encoders>=2.4.0->pycaret[full]) (0.5.3)\n",
            "Requirement already satisfied: coverage in /usr/local/lib/python3.7/dist-packages (from codecov>=2.1.12->pycaret[full]) (6.5.0)\n",
            "Requirement already satisfied: toolz>=0.8.2 in /usr/local/lib/python3.7/dist-packages (from dask[dataframe]>=2022.2.0->pycaret[full]) (0.12.0)\n",
            "Requirement already satisfied: partd>=0.3.10 in /usr/local/lib/python3.7/dist-packages (from dask[dataframe]>=2022.2.0->pycaret[full]) (1.3.0)\n",
            "Requirement already satisfied: cloudpickle>=1.1.1 in /usr/local/lib/python3.7/dist-packages (from dask[dataframe]>=2022.2.0->pycaret[full]) (1.5.0)\n",
            "Requirement already satisfied: dataclasses>=0.6 in /usr/local/lib/python3.7/dist-packages (from evidently>=0.1.45.dev0->pycaret[full]) (0.6)\n",
            "Requirement already satisfied: flask-simplelogin in /usr/local/lib/python3.7/dist-packages (from explainerdashboard>=0.3.8->pycaret[full]) (0.1.1)\n",
            "Requirement already satisfied: dash-bootstrap-components<1 in /usr/local/lib/python3.7/dist-packages (from explainerdashboard>=0.3.8->pycaret[full]) (0.13.1)\n",
            "Requirement already satisfied: jupyter-dash in /usr/local/lib/python3.7/dist-packages (from explainerdashboard>=0.3.8->pycaret[full]) (0.4.2)\n",
            "Requirement already satisfied: dash-auth in /usr/local/lib/python3.7/dist-packages (from explainerdashboard>=0.3.8->pycaret[full]) (1.4.1)\n",
            "Requirement already satisfied: click in /usr/local/lib/python3.7/dist-packages (from explainerdashboard>=0.3.8->pycaret[full]) (8.0.4)\n",
            "Requirement already satisfied: oyaml in /usr/local/lib/python3.7/dist-packages (from explainerdashboard>=0.3.8->pycaret[full]) (1.0)\n",
            "Requirement already satisfied: Werkzeug<=2.0.3 in /usr/local/lib/python3.7/dist-packages (from explainerdashboard>=0.3.8->pycaret[full]) (2.0.3)\n",
            "Requirement already satisfied: dtreeviz>=1.3 in /usr/local/lib/python3.7/dist-packages (from explainerdashboard>=0.3.8->pycaret[full]) (1.4.0)\n",
            "Requirement already satisfied: waitress in /usr/local/lib/python3.7/dist-packages (from explainerdashboard>=0.3.8->pycaret[full]) (2.1.2)\n",
            "Requirement already satisfied: dash-table==5.0.0 in /usr/local/lib/python3.7/dist-packages (from dash[testing]->pycaret[full]) (5.0.0)\n",
            "Requirement already satisfied: dash-core-components==2.0.0 in /usr/local/lib/python3.7/dist-packages (from dash[testing]->pycaret[full]) (2.0.0)\n",
            "Requirement already satisfied: dash-html-components==2.0.0 in /usr/local/lib/python3.7/dist-packages (from dash[testing]->pycaret[full]) (2.0.0)\n",
            "Requirement already satisfied: flask-compress in /usr/local/lib/python3.7/dist-packages (from dash[testing]->pycaret[full]) (1.13)\n",
            "Requirement already satisfied: colour in /usr/local/lib/python3.7/dist-packages (from dtreeviz>=1.3->explainerdashboard>=0.3.8->pycaret[full]) (0.1.5)\n",
            "Requirement already satisfied: pydantic!=1.7,!=1.7.1,!=1.7.2,!=1.7.3,!=1.8,!=1.8.1,<2.0.0,>=1.6.2 in /usr/local/lib/python3.7/dist-packages (from fastapi>=0.75.0->pycaret[full]) (1.10.2)\n",
            "Requirement already satisfied: starlette==0.20.4 in /usr/local/lib/python3.7/dist-packages (from fastapi>=0.75.0->pycaret[full]) (0.20.4)\n",
            "Requirement already satisfied: anyio<5,>=3.4.0 in /usr/local/lib/python3.7/dist-packages (from starlette==0.20.4->fastapi>=0.75.0->pycaret[full]) (3.6.2)\n",
            "Requirement already satisfied: idna>=2.8 in /usr/local/lib/python3.7/dist-packages (from anyio<5,>=3.4.0->starlette==0.20.4->fastapi>=0.75.0->pycaret[full]) (2.10)\n",
            "Requirement already satisfied: sniffio>=1.1 in /usr/local/lib/python3.7/dist-packages (from anyio<5,>=3.4.0->starlette==0.20.4->fastapi>=0.75.0->pycaret[full]) (1.3.0)\n",
            "Requirement already satisfied: itsdangerous>=2.0 in /usr/local/lib/python3.7/dist-packages (from flask>=2.0.3->pycaret[full]) (2.1.2)\n",
            "Requirement already satisfied: qpd>=0.2.6 in /usr/local/lib/python3.7/dist-packages (from fugue~=0.6.6->pycaret[full]) (0.2.7)\n",
            "Requirement already satisfied: pyarrow>=0.15.1 in /usr/local/lib/python3.7/dist-packages (from fugue~=0.6.6->pycaret[full]) (6.0.1)\n",
            "Requirement already satisfied: sqlalchemy in /usr/local/lib/python3.7/dist-packages (from fugue~=0.6.6->pycaret[full]) (1.4.42)\n",
            "Requirement already satisfied: antlr4-python3-runtime<4.10,>=4.9 in /usr/local/lib/python3.7/dist-packages (from fugue~=0.6.6->pycaret[full]) (4.9.3)\n",
            "Requirement already satisfied: adagio>=0.2.3 in /usr/local/lib/python3.7/dist-packages (from fugue~=0.6.6->pycaret[full]) (0.2.4)\n",
            "Requirement already satisfied: triad>=0.6.0 in /usr/local/lib/python3.7/dist-packages (from fugue~=0.6.6->pycaret[full]) (0.7.0)\n",
            "Requirement already satisfied: ffmpy in /usr/local/lib/python3.7/dist-packages (from gradio>=2.8.10->pycaret[full]) (0.3.0)\n",
            "Requirement already satisfied: aiohttp in /usr/local/lib/python3.7/dist-packages (from gradio>=2.8.10->pycaret[full]) (3.8.3)\n",
            "Requirement already satisfied: websockets in /usr/local/lib/python3.7/dist-packages (from gradio>=2.8.10->pycaret[full]) (10.4)\n",
            "Requirement already satisfied: paramiko in /usr/local/lib/python3.7/dist-packages (from gradio>=2.8.10->pycaret[full]) (2.11.0)\n",
            "Requirement already satisfied: httpx in /usr/local/lib/python3.7/dist-packages (from gradio>=2.8.10->pycaret[full]) (1.0.0b0)\n",
            "Requirement already satisfied: pycryptodome in /usr/local/lib/python3.7/dist-packages (from gradio>=2.8.10->pycaret[full]) (3.15.0)\n",
            "Requirement already satisfied: markdown-it-py[linkify,plugins] in /usr/local/lib/python3.7/dist-packages (from gradio>=2.8.10->pycaret[full]) (2.1.0)\n",
            "Requirement already satisfied: pydub in /usr/local/lib/python3.7/dist-packages (from gradio>=2.8.10->pycaret[full]) (0.25.1)\n",
            "Requirement already satisfied: orjson in /usr/local/lib/python3.7/dist-packages (from gradio>=2.8.10->pycaret[full]) (3.8.1)\n",
            "Requirement already satisfied: h11<0.13,>=0.11 in /usr/local/lib/python3.7/dist-packages (from gradio>=2.8.10->pycaret[full]) (0.12.0)\n",
            "Requirement already satisfied: python-multipart in /usr/local/lib/python3.7/dist-packages (from gradio>=2.8.10->pycaret[full]) (0.0.5)\n",
            "Requirement already satisfied: colorcet in /usr/local/lib/python3.7/dist-packages (from holoviews>=1.14.6->autoviz>=0.1.36->pycaret[full]) (3.0.1)\n",
            "Requirement already satisfied: param<2.0,>=1.9.3 in /usr/local/lib/python3.7/dist-packages (from holoviews>=1.14.6->autoviz>=0.1.36->pycaret[full]) (1.12.2)\n",
            "Requirement already satisfied: pyviz-comms>=0.7.4 in /usr/local/lib/python3.7/dist-packages (from holoviews>=1.14.6->autoviz>=0.1.36->pycaret[full]) (2.2.1)\n",
            "Requirement already satisfied: pyct>=0.4.4 in /usr/local/lib/python3.7/dist-packages (from colorcet->holoviews>=1.14.6->autoviz>=0.1.36->pycaret[full]) (0.4.8)\n",
            "Requirement already satisfied: networkx>=2.2 in /usr/local/lib/python3.7/dist-packages (from hyperopt>=0.2.7->pycaret[full]) (2.6.3)\n",
            "Requirement already satisfied: future in /usr/local/lib/python3.7/dist-packages (from hyperopt>=0.2.7->pycaret[full]) (0.16.0)\n",
            "Requirement already satisfied: py4j in /usr/local/lib/python3.7/dist-packages (from hyperopt>=0.2.7->pycaret[full]) (0.10.9.7)\n",
            "Requirement already satisfied: zipp>=0.5 in /usr/local/lib/python3.7/dist-packages (from importlib-metadata>=4.12.0->pycaret[full]) (3.9.0)\n",
            "Requirement already satisfied: interpret-core[dash,debug,decisiontree,ebm,lime,linear,notebook,plotly,required,sensitivity,shap,skoperules,treeinterpreter]>=0.2.7 in /usr/local/lib/python3.7/dist-packages (from interpret>=0.2.7->pycaret[full]) (0.2.7)\n",
            "Requirement already satisfied: lime>=0.1.1.33 in /usr/local/lib/python3.7/dist-packages (from interpret-core[dash,debug,decisiontree,ebm,lime,linear,notebook,plotly,required,sensitivity,shap,skoperules,treeinterpreter]>=0.2.7->interpret>=0.2.7->pycaret[full]) (0.2.0.1)\n",
            "Requirement already satisfied: treeinterpreter>=0.2.2 in /usr/local/lib/python3.7/dist-packages (from interpret-core[dash,debug,decisiontree,ebm,lime,linear,notebook,plotly,required,sensitivity,shap,skoperules,treeinterpreter]>=0.2.7->interpret>=0.2.7->pycaret[full]) (0.2.3)\n",
            "Requirement already satisfied: dash-cytoscape>=0.1.1 in /usr/local/lib/python3.7/dist-packages (from interpret-core[dash,debug,decisiontree,ebm,lime,linear,notebook,plotly,required,sensitivity,shap,skoperules,treeinterpreter]>=0.2.7->interpret>=0.2.7->pycaret[full]) (0.3.0)\n",
            "Requirement already satisfied: gevent>=1.3.6 in /usr/local/lib/python3.7/dist-packages (from interpret-core[dash,debug,decisiontree,ebm,lime,linear,notebook,plotly,required,sensitivity,shap,skoperules,treeinterpreter]>=0.2.7->interpret>=0.2.7->pycaret[full]) (22.10.1)\n",
            "Requirement already satisfied: skope-rules>=1.0.1 in /usr/local/lib/python3.7/dist-packages (from interpret-core[dash,debug,decisiontree,ebm,lime,linear,notebook,plotly,required,sensitivity,shap,skoperules,treeinterpreter]>=0.2.7->interpret>=0.2.7->pycaret[full]) (1.0.1)\n",
            "Requirement already satisfied: SALib>=1.3.3 in /usr/local/lib/python3.7/dist-packages (from interpret-core[dash,debug,decisiontree,ebm,lime,linear,notebook,plotly,required,sensitivity,shap,skoperules,treeinterpreter]>=0.2.7->interpret>=0.2.7->pycaret[full]) (1.4.6b1)\n",
            "Requirement already satisfied: dill>=0.2.5 in /usr/local/lib/python3.7/dist-packages (from interpret-core[dash,debug,decisiontree,ebm,lime,linear,notebook,plotly,required,sensitivity,shap,skoperules,treeinterpreter]>=0.2.7->interpret>=0.2.7->pycaret[full]) (0.3.6)\n",
            "Requirement already satisfied: ipykernel>=5.1.0 in /usr/local/lib/python3.7/dist-packages (from interpret-core[dash,debug,decisiontree,ebm,lime,linear,notebook,plotly,required,sensitivity,shap,skoperules,treeinterpreter]>=0.2.7->interpret>=0.2.7->pycaret[full]) (5.3.4)\n",
            "Requirement already satisfied: zope.interface in /usr/local/lib/python3.7/dist-packages (from gevent>=1.3.6->interpret-core[dash,debug,decisiontree,ebm,lime,linear,notebook,plotly,required,sensitivity,shap,skoperules,treeinterpreter]>=0.2.7->interpret>=0.2.7->pycaret[full]) (5.5.0)\n",
            "Requirement already satisfied: greenlet<2.0,>=1.1.3 in /usr/local/lib/python3.7/dist-packages (from gevent>=1.3.6->interpret-core[dash,debug,decisiontree,ebm,lime,linear,notebook,plotly,required,sensitivity,shap,skoperules,treeinterpreter]>=0.2.7->interpret>=0.2.7->pycaret[full]) (1.1.3.post0)\n",
            "Requirement already satisfied: zope.event in /usr/local/lib/python3.7/dist-packages (from gevent>=1.3.6->interpret-core[dash,debug,decisiontree,ebm,lime,linear,notebook,plotly,required,sensitivity,shap,skoperules,treeinterpreter]>=0.2.7->interpret>=0.2.7->pycaret[full]) (4.5.0)\n",
            "Requirement already satisfied: setuptools in /usr/local/lib/python3.7/dist-packages (from gevent>=1.3.6->interpret-core[dash,debug,decisiontree,ebm,lime,linear,notebook,plotly,required,sensitivity,shap,skoperules,treeinterpreter]>=0.2.7->interpret>=0.2.7->pycaret[full]) (57.4.0)\n",
            "Requirement already satisfied: jupyter-client in /usr/local/lib/python3.7/dist-packages (from ipykernel>=5.1.0->interpret-core[dash,debug,decisiontree,ebm,lime,linear,notebook,plotly,required,sensitivity,shap,skoperules,treeinterpreter]>=0.2.7->interpret>=0.2.7->pycaret[full]) (6.1.12)\n",
            "Requirement already satisfied: traitlets>=4.1.0 in /usr/local/lib/python3.7/dist-packages (from ipykernel>=5.1.0->interpret-core[dash,debug,decisiontree,ebm,lime,linear,notebook,plotly,required,sensitivity,shap,skoperules,treeinterpreter]>=0.2.7->interpret>=0.2.7->pycaret[full]) (5.1.1)\n",
            "Requirement already satisfied: prompt-toolkit<2.1.0,>=2.0.0 in /usr/local/lib/python3.7/dist-packages (from ipython>=5.5.0->pycaret[full]) (2.0.10)\n",
            "Requirement already satisfied: jedi>=0.10 in /usr/local/lib/python3.7/dist-packages (from ipython>=5.5.0->pycaret[full]) (0.18.1)\n",
            "Requirement already satisfied: backcall in /usr/local/lib/python3.7/dist-packages (from ipython>=5.5.0->pycaret[full]) (0.2.0)\n",
            "Requirement already satisfied: pickleshare in /usr/local/lib/python3.7/dist-packages (from ipython>=5.5.0->pycaret[full]) (0.7.5)\n",
            "Requirement already satisfied: pygments in /usr/local/lib/python3.7/dist-packages (from ipython>=5.5.0->pycaret[full]) (2.6.1)\n",
            "Requirement already satisfied: decorator in /usr/local/lib/python3.7/dist-packages (from ipython>=5.5.0->pycaret[full]) (4.4.2)\n",
            "Requirement already satisfied: pexpect in /usr/local/lib/python3.7/dist-packages (from ipython>=5.5.0->pycaret[full]) (4.8.0)\n",
            "Requirement already satisfied: ipython-genutils~=0.2.0 in /usr/local/lib/python3.7/dist-packages (from ipywidgets>=7.6.5->pycaret[full]) (0.2.0)\n",
            "Requirement already satisfied: jupyterlab-widgets>=1.0.0 in /usr/local/lib/python3.7/dist-packages (from ipywidgets>=7.6.5->pycaret[full]) (3.0.3)\n",
            "Requirement already satisfied: widgetsnbextension~=3.6.0 in /usr/local/lib/python3.7/dist-packages (from ipywidgets>=7.6.5->pycaret[full]) (3.6.1)\n",
            "Requirement already satisfied: parso<0.9.0,>=0.8.0 in /usr/local/lib/python3.7/dist-packages (from jedi>=0.10->ipython>=5.5.0->pycaret[full]) (0.8.3)\n",
            "Requirement already satisfied: wheel in /usr/local/lib/python3.7/dist-packages (from lightgbm>=3.0.0->pycaret[full]) (0.37.1)\n",
            "Requirement already satisfied: scikit-image>=0.12 in /usr/local/lib/python3.7/dist-packages (from lime>=0.1.1.33->interpret-core[dash,debug,decisiontree,ebm,lime,linear,notebook,plotly,required,sensitivity,shap,skoperules,treeinterpreter]>=0.2.7->interpret>=0.2.7->pycaret[full]) (0.18.3)\n",
            "Requirement already satisfied: kiwisolver>=1.0.1 in /usr/local/lib/python3.7/dist-packages (from matplotlib>=3.3.0->pycaret[full]) (1.4.4)\n",
            "Requirement already satisfied: cycler>=0.10 in /usr/local/lib/python3.7/dist-packages (from matplotlib>=3.3.0->pycaret[full]) (0.11.0)\n",
            "Requirement already satisfied: fonttools>=4.22.0 in /usr/local/lib/python3.7/dist-packages (from matplotlib>=3.3.0->pycaret[full]) (4.38.0)\n",
            "Requirement already satisfied: pyparsing>=2.2.1 in /usr/local/lib/python3.7/dist-packages (from matplotlib>=3.3.0->pycaret[full]) (3.0.9)\n",
            "Requirement already satisfied: gunicorn<21 in /usr/local/lib/python3.7/dist-packages (from mlflow>=1.24.0->pycaret[full]) (20.1.0)\n",
            "Requirement already satisfied: querystring-parser<2 in /usr/local/lib/python3.7/dist-packages (from mlflow>=1.24.0->pycaret[full]) (1.2.4)\n",
            "Requirement already satisfied: databricks-cli<1,>=0.8.7 in /usr/local/lib/python3.7/dist-packages (from mlflow>=1.24.0->pycaret[full]) (0.17.3)\n",
            "Requirement already satisfied: prometheus-flask-exporter<1 in /usr/local/lib/python3.7/dist-packages (from mlflow>=1.24.0->pycaret[full]) (0.20.3)\n",
            "Requirement already satisfied: gitpython<4,>=2.1.0 in /usr/local/lib/python3.7/dist-packages (from mlflow>=1.24.0->pycaret[full]) (3.1.29)\n",
            "Requirement already satisfied: pytz<2023 in /usr/local/lib/python3.7/dist-packages (from mlflow>=1.24.0->pycaret[full]) (2022.5)\n",
            "Requirement already satisfied: alembic<2 in /usr/local/lib/python3.7/dist-packages (from mlflow>=1.24.0->pycaret[full]) (1.8.1)\n",
            "Requirement already satisfied: docker<7,>=4.0.0 in /usr/local/lib/python3.7/dist-packages (from mlflow>=1.24.0->pycaret[full]) (6.0.0)\n",
            "Requirement already satisfied: sqlparse<1,>=0.4.0 in /usr/local/lib/python3.7/dist-packages (from mlflow>=1.24.0->pycaret[full]) (0.4.3)\n",
            "Requirement already satisfied: entrypoints<1 in /usr/local/lib/python3.7/dist-packages (from mlflow>=1.24.0->pycaret[full]) (0.4)\n",
            "Requirement already satisfied: importlib-resources in /usr/local/lib/python3.7/dist-packages (from alembic<2->mlflow>=1.24.0->pycaret[full]) (5.10.0)\n",
            "Requirement already satisfied: Mako in /usr/local/lib/python3.7/dist-packages (from alembic<2->mlflow>=1.24.0->pycaret[full]) (1.2.3)\n",
            "Requirement already satisfied: tabulate>=0.7.7 in /usr/local/lib/python3.7/dist-packages (from databricks-cli<1,>=0.8.7->mlflow>=1.24.0->pycaret[full]) (0.8.10)\n",
            "Requirement already satisfied: oauthlib>=3.1.0 in /usr/local/lib/python3.7/dist-packages (from databricks-cli<1,>=0.8.7->mlflow>=1.24.0->pycaret[full]) (3.2.2)\n",
            "Requirement already satisfied: pyjwt>=1.7.0 in /usr/local/lib/python3.7/dist-packages (from databricks-cli<1,>=0.8.7->mlflow>=1.24.0->pycaret[full]) (2.6.0)\n",
            "Requirement already satisfied: websocket-client>=0.32.0 in /usr/local/lib/python3.7/dist-packages (from docker<7,>=4.0.0->mlflow>=1.24.0->pycaret[full]) (1.4.1)\n",
            "Requirement already satisfied: gitdb<5,>=4.0.1 in /usr/local/lib/python3.7/dist-packages (from gitpython<4,>=2.1.0->mlflow>=1.24.0->pycaret[full]) (4.0.9)\n",
            "Requirement already satisfied: smmap<6,>=3.0.1 in /usr/local/lib/python3.7/dist-packages (from gitdb<5,>=4.0.1->gitpython<4,>=2.1.0->mlflow>=1.24.0->pycaret[full]) (5.0.0)\n",
            "Requirement already satisfied: xmltodict in /usr/local/lib/python3.7/dist-packages (from moto>=3.0.7->pycaret[full]) (0.13.0)\n",
            "Requirement already satisfied: cryptography>=3.3.1 in /usr/local/lib/python3.7/dist-packages (from moto>=3.0.7->pycaret[full]) (38.0.1)\n",
            "Requirement already satisfied: responses>=0.13.0 in /usr/local/lib/python3.7/dist-packages (from moto>=3.0.7->pycaret[full]) (0.22.0)\n",
            "Requirement already satisfied: cffi>=1.12 in /usr/local/lib/python3.7/dist-packages (from cryptography>=3.3.1->moto>=3.0.7->pycaret[full]) (1.15.1)\n",
            "Requirement already satisfied: pycparser in /usr/local/lib/python3.7/dist-packages (from cffi>=1.12->cryptography>=3.3.1->moto>=3.0.7->pycaret[full]) (2.21)\n",
            "Requirement already satisfied: llvmlite<0.39,>=0.38.0rc1 in /usr/local/lib/python3.7/dist-packages (from numba~=0.55.0->pycaret[full]) (0.38.1)\n",
            "Requirement already satisfied: cliff in /usr/local/lib/python3.7/dist-packages (from optuna>=2.2.0->pycaret[full]) (3.10.1)\n",
            "Requirement already satisfied: cmaes>=0.8.2 in /usr/local/lib/python3.7/dist-packages (from optuna>=2.2.0->pycaret[full]) (0.8.2)\n",
            "Requirement already satisfied: colorlog in /usr/local/lib/python3.7/dist-packages (from optuna>=2.2.0->pycaret[full]) (6.7.0)\n",
            "Requirement already satisfied: missingno<0.6,>=0.4.2 in /usr/local/lib/python3.7/dist-packages (from pandas-profiling>=3.1.0->pycaret[full]) (0.5.1)\n",
            "Requirement already satisfied: multimethod<1.10,>=1.4 in /usr/local/lib/python3.7/dist-packages (from pandas-profiling>=3.1.0->pycaret[full]) (1.9)\n",
            "Requirement already satisfied: htmlmin==0.1.12 in /usr/local/lib/python3.7/dist-packages (from pandas-profiling>=3.1.0->pycaret[full]) (0.1.12)\n",
            "Requirement already satisfied: visions[type_image_path]==0.7.5 in /usr/local/lib/python3.7/dist-packages (from pandas-profiling>=3.1.0->pycaret[full]) (0.7.5)\n",
            "Requirement already satisfied: phik<0.13,>=0.11.1 in /usr/local/lib/python3.7/dist-packages (from pandas-profiling>=3.1.0->pycaret[full]) (0.12.2)\n",
            "Requirement already satisfied: attrs>=19.3.0 in /usr/local/lib/python3.7/dist-packages (from visions[type_image_path]==0.7.5->pandas-profiling>=3.1.0->pycaret[full]) (22.1.0)\n",
            "Requirement already satisfied: tangled-up-in-unicode>=0.0.4 in /usr/local/lib/python3.7/dist-packages (from visions[type_image_path]==0.7.5->pandas-profiling>=3.1.0->pycaret[full]) (0.2.0)\n",
            "Requirement already satisfied: imagehash in /usr/local/lib/python3.7/dist-packages (from visions[type_image_path]==0.7.5->pandas-profiling>=3.1.0->pycaret[full]) (4.3.1)\n",
            "Requirement already satisfied: markdown in /usr/local/lib/python3.7/dist-packages (from panel~=0.12.6->autoviz>=0.1.36->pycaret[full]) (3.4.1)\n",
            "Requirement already satisfied: bleach in /usr/local/lib/python3.7/dist-packages (from panel~=0.12.6->autoviz>=0.1.36->pycaret[full]) (5.0.1)\n",
            "Requirement already satisfied: locket in /usr/local/lib/python3.7/dist-packages (from partd>=0.3.10->dask[dataframe]>=2022.2.0->pycaret[full]) (1.0.0)\n",
            "Requirement already satisfied: tenacity>=6.2.0 in /usr/local/lib/python3.7/dist-packages (from plotly>=5.0.0->pycaret[full]) (8.1.0)\n",
            "Requirement already satisfied: trace-updater>=0.0.8 in /usr/local/lib/python3.7/dist-packages (from plotly-resampler>=0.7.2.2->pycaret[full]) (0.0.8)\n",
            "Requirement already satisfied: Flask-Cors<4.0.0,>=3.0.10 in /usr/local/lib/python3.7/dist-packages (from plotly-resampler>=0.7.2.2->pycaret[full]) (3.0.10)\n",
            "Requirement already satisfied: retrying in /usr/local/lib/python3.7/dist-packages (from jupyter-dash->explainerdashboard>=0.3.8->pycaret[full]) (1.3.3)\n",
            "Requirement already satisfied: ansi2html in /usr/local/lib/python3.7/dist-packages (from jupyter-dash->explainerdashboard>=0.3.8->pycaret[full]) (1.8.0)\n",
            "Requirement already satisfied: nest-asyncio in /usr/local/lib/python3.7/dist-packages (from jupyter-dash->explainerdashboard>=0.3.8->pycaret[full]) (1.5.6)\n",
            "Requirement already satisfied: Cython!=0.29.18,>=0.29 in /usr/local/lib/python3.7/dist-packages (from pmdarima!=1.8.1,<2.0.0,>=1.8.0->pycaret[full]) (0.29.32)\n",
            "Requirement already satisfied: prometheus-client in /usr/local/lib/python3.7/dist-packages (from prometheus-flask-exporter<1->mlflow>=1.24.0->pycaret[full]) (0.15.0)\n",
            "Requirement already satisfied: wcwidth in /usr/local/lib/python3.7/dist-packages (from prompt-toolkit<2.1.0,>=2.0.0->ipython>=5.5.0->pycaret[full]) (0.2.5)\n",
            "Requirement already satisfied: tomli>=1.0.0 in /usr/local/lib/python3.7/dist-packages (from pytest>=7.0.1->pycaret[full]) (2.0.1)\n",
            "Requirement already satisfied: pluggy<2.0,>=0.12 in /usr/local/lib/python3.7/dist-packages (from pytest>=7.0.1->pycaret[full]) (1.0.0)\n",
            "Requirement already satisfied: iniconfig in /usr/local/lib/python3.7/dist-packages (from pytest>=7.0.1->pycaret[full]) (1.1.1)\n",
            "Requirement already satisfied: exceptiongroup>=1.0.0rc8 in /usr/local/lib/python3.7/dist-packages (from pytest>=7.0.1->pycaret[full]) (1.0.0rc9)\n",
            "Requirement already satisfied: frozenlist in /usr/local/lib/python3.7/dist-packages (from ray[tune]>=1.0.0->pycaret[full]) (1.3.1)\n",
            "Requirement already satisfied: virtualenv in /usr/local/lib/python3.7/dist-packages (from ray[tune]>=1.0.0->pycaret[full]) (20.16.6)\n",
            "Requirement already satisfied: aiosignal in /usr/local/lib/python3.7/dist-packages (from ray[tune]>=1.0.0->pycaret[full]) (1.2.0)\n",
            "Requirement already satisfied: jsonschema in /usr/local/lib/python3.7/dist-packages (from ray[tune]>=1.0.0->pycaret[full]) (4.3.3)\n",
            "Requirement already satisfied: msgpack<2.0.0,>=1.0.0 in /usr/local/lib/python3.7/dist-packages (from ray[tune]>=1.0.0->pycaret[full]) (1.0.4)\n",
            "Requirement already satisfied: grpcio<=1.43.0,>=1.32.0 in /usr/local/lib/python3.7/dist-packages (from ray[tune]>=1.0.0->pycaret[full]) (1.43.0)\n",
            "Requirement already satisfied: filelock in /usr/local/lib/python3.7/dist-packages (from ray[tune]>=1.0.0->pycaret[full]) (3.8.0)\n",
            "Requirement already satisfied: tensorboardX>=1.9 in /usr/local/lib/python3.7/dist-packages (from ray[tune]>=1.0.0->pycaret[full]) (2.5.1)\n",
            "Requirement already satisfied: certifi>=2017.4.17 in /usr/local/lib/python3.7/dist-packages (from requests>=2.27.1->pycaret[full]) (2022.9.24)\n",
            "Requirement already satisfied: charset-normalizer<3,>=2 in /usr/local/lib/python3.7/dist-packages (from requests>=2.27.1->pycaret[full]) (2.1.1)\n",
            "Requirement already satisfied: types-toml in /usr/local/lib/python3.7/dist-packages (from responses>=0.13.0->moto>=3.0.7->pycaret[full]) (0.10.8)\n",
            "Requirement already satisfied: toml in /usr/local/lib/python3.7/dist-packages (from responses>=0.13.0->moto>=3.0.7->pycaret[full]) (0.10.2)\n",
            "Requirement already satisfied: pathos in /usr/local/lib/python3.7/dist-packages (from SALib>=1.3.3->interpret-core[dash,debug,decisiontree,ebm,lime,linear,notebook,plotly,required,sensitivity,shap,skoperules,treeinterpreter]>=0.2.7->interpret>=0.2.7->pycaret[full]) (0.3.0)\n",
            "Requirement already satisfied: imageio>=2.3.0 in /usr/local/lib/python3.7/dist-packages (from scikit-image>=0.12->lime>=0.1.1.33->interpret-core[dash,debug,decisiontree,ebm,lime,linear,notebook,plotly,required,sensitivity,shap,skoperules,treeinterpreter]>=0.2.7->interpret>=0.2.7->pycaret[full]) (2.9.0)\n",
            "Requirement already satisfied: tifffile>=2019.7.26 in /usr/local/lib/python3.7/dist-packages (from scikit-image>=0.12->lime>=0.1.1.33->interpret-core[dash,debug,decisiontree,ebm,lime,linear,notebook,plotly,required,sensitivity,shap,skoperules,treeinterpreter]>=0.2.7->interpret>=0.2.7->pycaret[full]) (2021.11.2)\n",
            "Requirement already satisfied: PyWavelets>=1.1.1 in /usr/local/lib/python3.7/dist-packages (from scikit-image>=0.12->lime>=0.1.1.33->interpret-core[dash,debug,decisiontree,ebm,lime,linear,notebook,plotly,required,sensitivity,shap,skoperules,treeinterpreter]>=0.2.7->interpret>=0.2.7->pycaret[full]) (1.3.0)\n",
            "Requirement already satisfied: threadpoolctl>=2.0.0 in /usr/local/lib/python3.7/dist-packages (from scikit-learn>=1.0->pycaret[full]) (3.1.0)\n",
            "Requirement already satisfied: daal4py==2021.6.3 in /usr/local/lib/python3.7/dist-packages (from scikit-learn-intelex>=2021.6.3->pycaret[full]) (2021.6.3)\n",
            "Requirement already satisfied: daal==2021.6.0 in /usr/local/lib/python3.7/dist-packages (from daal4py==2021.6.3->scikit-learn-intelex>=2021.6.3->pycaret[full]) (2021.6.0)\n",
            "Requirement already satisfied: tbb==2021.* in /usr/local/lib/python3.7/dist-packages (from daal==2021.6.0->daal4py==2021.6.3->scikit-learn-intelex>=2021.6.3->pycaret[full]) (2021.7.0)\n",
            "Requirement already satisfied: pyaml>=16.9 in /usr/local/lib/python3.7/dist-packages (from scikit-optimize>=0.9.0->pycaret[full]) (21.10.1)\n",
            "Requirement already satisfied: slicer==0.0.7 in /usr/local/lib/python3.7/dist-packages (from shap>=0.38.0->pycaret[full]) (0.0.7)\n",
            "Requirement already satisfied: deprecated>=1.2.13 in /usr/local/lib/python3.7/dist-packages (from sktime~=0.13.2->pycaret[full]) (1.2.13)\n",
            "Requirement already satisfied: wrapt<2,>=1.10 in /usr/local/lib/python3.7/dist-packages (from deprecated>=1.2.13->sktime~=0.13.2->pycaret[full]) (1.14.1)\n",
            "Requirement already satisfied: fs in /usr/local/lib/python3.7/dist-packages (from triad>=0.6.0->fugue~=0.6.6->pycaret[full]) (2.4.16)\n",
            "Requirement already satisfied: pynndescent>=0.5 in /usr/local/lib/python3.7/dist-packages (from umap-learn>=0.5.2->pycaret[full]) (0.5.7)\n",
            "Requirement already satisfied: notebook>=4.4.1 in /usr/local/lib/python3.7/dist-packages (from widgetsnbextension~=3.6.0->ipywidgets>=7.6.5->pycaret[full]) (5.5.0)\n",
            "Requirement already satisfied: terminado>=0.8.1 in /usr/local/lib/python3.7/dist-packages (from notebook>=4.4.1->widgetsnbextension~=3.6.0->ipywidgets>=7.6.5->pycaret[full]) (0.13.3)\n",
            "Requirement already satisfied: Send2Trash in /usr/local/lib/python3.7/dist-packages (from notebook>=4.4.1->widgetsnbextension~=3.6.0->ipywidgets>=7.6.5->pycaret[full]) (1.8.0)\n",
            "Requirement already satisfied: jupyter-core>=4.4.0 in /usr/local/lib/python3.7/dist-packages (from notebook>=4.4.1->widgetsnbextension~=3.6.0->ipywidgets>=7.6.5->pycaret[full]) (4.11.2)\n",
            "Requirement already satisfied: pyzmq>=17 in /usr/local/lib/python3.7/dist-packages (from notebook>=4.4.1->widgetsnbextension~=3.6.0->ipywidgets>=7.6.5->pycaret[full]) (23.2.1)\n",
            "Requirement already satisfied: nbformat in /usr/local/lib/python3.7/dist-packages (from notebook>=4.4.1->widgetsnbextension~=3.6.0->ipywidgets>=7.6.5->pycaret[full]) (5.7.0)\n",
            "Requirement already satisfied: nbconvert in /usr/local/lib/python3.7/dist-packages (from notebook>=4.4.1->widgetsnbextension~=3.6.0->ipywidgets>=7.6.5->pycaret[full]) (5.6.1)\n",
            "Requirement already satisfied: ptyprocess in /usr/local/lib/python3.7/dist-packages (from terminado>=0.8.1->notebook>=4.4.1->widgetsnbextension~=3.6.0->ipywidgets>=7.6.5->pycaret[full]) (0.7.0)\n",
            "Requirement already satisfied: multidict<7.0,>=4.5 in /usr/local/lib/python3.7/dist-packages (from aiohttp->gradio>=2.8.10->pycaret[full]) (6.0.2)\n",
            "Requirement already satisfied: asynctest==0.13.0 in /usr/local/lib/python3.7/dist-packages (from aiohttp->gradio>=2.8.10->pycaret[full]) (0.13.0)\n",
            "Requirement already satisfied: yarl<2.0,>=1.0 in /usr/local/lib/python3.7/dist-packages (from aiohttp->gradio>=2.8.10->pycaret[full]) (1.8.1)\n",
            "Requirement already satisfied: async-timeout<5.0,>=4.0.0a3 in /usr/local/lib/python3.7/dist-packages (from aiohttp->gradio>=2.8.10->pycaret[full]) (4.0.2)\n",
            "Requirement already satisfied: webencodings in /usr/local/lib/python3.7/dist-packages (from bleach->panel~=0.12.6->autoviz>=0.1.36->pycaret[full]) (0.5.1)\n",
            "Requirement already satisfied: autopage>=0.4.0 in /usr/local/lib/python3.7/dist-packages (from cliff->optuna>=2.2.0->pycaret[full]) (0.5.1)\n",
            "Requirement already satisfied: pbr!=2.1.0,>=2.0.0 in /usr/local/lib/python3.7/dist-packages (from cliff->optuna>=2.2.0->pycaret[full]) (5.11.0)\n",
            "Requirement already satisfied: PrettyTable>=0.7.2 in /usr/local/lib/python3.7/dist-packages (from cliff->optuna>=2.2.0->pycaret[full]) (3.4.1)\n",
            "Requirement already satisfied: cmd2>=1.0.0 in /usr/local/lib/python3.7/dist-packages (from cliff->optuna>=2.2.0->pycaret[full]) (2.4.2)\n",
            "Requirement already satisfied: stevedore>=2.0.1 in /usr/local/lib/python3.7/dist-packages (from cliff->optuna>=2.2.0->pycaret[full]) (3.5.2)\n",
            "Requirement already satisfied: pyperclip>=1.6 in /usr/local/lib/python3.7/dist-packages (from cmd2>=1.0.0->cliff->optuna>=2.2.0->pycaret[full]) (1.8.2)\n",
            "Requirement already satisfied: chart-studio>=1.0.0 in /usr/local/lib/python3.7/dist-packages (from dash-auth->explainerdashboard>=0.3.8->pycaret[full]) (1.1.0)\n",
            "Requirement already satisfied: flask-seasurf in /usr/local/lib/python3.7/dist-packages (from dash-auth->explainerdashboard>=0.3.8->pycaret[full]) (1.1.1)\n",
            "Requirement already satisfied: ua-parser in /usr/local/lib/python3.7/dist-packages (from dash-auth->explainerdashboard>=0.3.8->pycaret[full]) (0.16.1)\n",
            "Requirement already satisfied: lxml>=4.6.2 in /usr/local/lib/python3.7/dist-packages (from dash[testing]->pycaret[full]) (4.9.1)\n",
            "Requirement already satisfied: selenium<=4.2.0,>=3.141.0 in /usr/local/lib/python3.7/dist-packages (from dash[testing]->pycaret[full]) (4.2.0)\n",
            "Requirement already satisfied: beautifulsoup4>=4.8.2 in /usr/local/lib/python3.7/dist-packages (from dash[testing]->pycaret[full]) (4.11.1)\n",
            "Requirement already satisfied: percy>=2.0.2 in /usr/local/lib/python3.7/dist-packages (from dash[testing]->pycaret[full]) (2.0.2)\n",
            "Requirement already satisfied: multiprocess>=0.70.12 in /usr/local/lib/python3.7/dist-packages (from dash[testing]->pycaret[full]) (0.70.14)\n",
            "Requirement already satisfied: soupsieve>1.2 in /usr/local/lib/python3.7/dist-packages (from beautifulsoup4>=4.8.2->dash[testing]->pycaret[full]) (2.3.2.post1)\n",
            "Requirement already satisfied: trio~=0.17 in /usr/local/lib/python3.7/dist-packages (from selenium<=4.2.0,>=3.141.0->dash[testing]->pycaret[full]) (0.22.0)\n",
            "Requirement already satisfied: trio-websocket~=0.9 in /usr/local/lib/python3.7/dist-packages (from selenium<=4.2.0,>=3.141.0->dash[testing]->pycaret[full]) (0.9.2)\n",
            "Requirement already satisfied: outcome in /usr/local/lib/python3.7/dist-packages (from trio~=0.17->selenium<=4.2.0,>=3.141.0->dash[testing]->pycaret[full]) (1.2.0)\n",
            "Requirement already satisfied: sortedcontainers in /usr/local/lib/python3.7/dist-packages (from trio~=0.17->selenium<=4.2.0,>=3.141.0->dash[testing]->pycaret[full]) (2.4.0)\n",
            "Requirement already satisfied: async-generator>=1.9 in /usr/local/lib/python3.7/dist-packages (from trio~=0.17->selenium<=4.2.0,>=3.141.0->dash[testing]->pycaret[full]) (1.10)\n",
            "Requirement already satisfied: wsproto>=0.14 in /usr/local/lib/python3.7/dist-packages (from trio-websocket~=0.9->selenium<=4.2.0,>=3.141.0->dash[testing]->pycaret[full]) (1.2.0)\n",
            "Requirement already satisfied: PySocks!=1.5.7,<2.0,>=1.5.6 in /usr/local/lib/python3.7/dist-packages (from urllib3<1.27,>=1.25.4->botocore<1.29.0,>=1.28.1->boto3>=1.24.56->pycaret[full]) (1.7.1)\n",
            "Requirement already satisfied: urllib3-secure-extra in /usr/local/lib/python3.7/dist-packages (from urllib3<1.27,>=1.25.4->botocore<1.29.0,>=1.28.1->boto3>=1.24.56->pycaret[full]) (0.1.0)\n",
            "Requirement already satisfied: pyOpenSSL>=0.14 in /usr/local/lib/python3.7/dist-packages (from urllib3<1.27,>=1.25.4->botocore<1.29.0,>=1.28.1->boto3>=1.24.56->pycaret[full]) (22.1.0)\n",
            "Requirement already satisfied: brotli in /usr/local/lib/python3.7/dist-packages (from flask-compress->dash[testing]->pycaret[full]) (1.0.9)\n",
            "Requirement already satisfied: WTForms>=2.1 in /usr/local/lib/python3.7/dist-packages (from flask-simplelogin->explainerdashboard>=0.3.8->pycaret[full]) (3.0.1)\n",
            "Requirement already satisfied: Flask-WTF<0.16.0,>=0.15.1 in /usr/local/lib/python3.7/dist-packages (from flask-simplelogin->explainerdashboard>=0.3.8->pycaret[full]) (0.15.1)\n",
            "Requirement already satisfied: appdirs~=1.4.3 in /usr/local/lib/python3.7/dist-packages (from fs->triad>=0.6.0->fugue~=0.6.6->pycaret[full]) (1.4.4)\n",
            "Requirement already satisfied: rfc3986[idna2008]<2,>=1.3 in /usr/local/lib/python3.7/dist-packages (from httpx->gradio>=2.8.10->pycaret[full]) (1.5.0)\n",
            "Requirement already satisfied: httpcore<0.14.0,>=0.13.3 in /usr/local/lib/python3.7/dist-packages (from httpx->gradio>=2.8.10->pycaret[full]) (0.13.7)\n",
            "Requirement already satisfied: pyrsistent!=0.17.0,!=0.17.1,!=0.17.2,>=0.14.0 in /usr/local/lib/python3.7/dist-packages (from jsonschema->ray[tune]>=1.0.0->pycaret[full]) (0.18.1)\n",
            "Requirement already satisfied: jupyter-console in /usr/local/lib/python3.7/dist-packages (from jupyter->autoviz>=0.1.36->pycaret[full]) (6.1.0)\n",
            "Requirement already satisfied: qtconsole in /usr/local/lib/python3.7/dist-packages (from jupyter->autoviz>=0.1.36->pycaret[full]) (5.3.2)\n",
            "Requirement already satisfied: mdurl~=0.1 in /usr/local/lib/python3.7/dist-packages (from markdown-it-py[linkify,plugins]->gradio>=2.8.10->pycaret[full]) (0.1.2)\n",
            "Requirement already satisfied: linkify-it-py~=1.0 in /usr/local/lib/python3.7/dist-packages (from markdown-it-py[linkify,plugins]->gradio>=2.8.10->pycaret[full]) (1.0.3)\n",
            "Requirement already satisfied: mdit-py-plugins in /usr/local/lib/python3.7/dist-packages (from markdown-it-py[linkify,plugins]->gradio>=2.8.10->pycaret[full]) (0.3.1)\n",
            "Requirement already satisfied: uc-micro-py in /usr/local/lib/python3.7/dist-packages (from linkify-it-py~=1.0->markdown-it-py[linkify,plugins]->gradio>=2.8.10->pycaret[full]) (1.0.1)\n",
            "Requirement already satisfied: defusedxml in /usr/local/lib/python3.7/dist-packages (from nbconvert->notebook>=4.4.1->widgetsnbextension~=3.6.0->ipywidgets>=7.6.5->pycaret[full]) (0.7.1)\n",
            "Requirement already satisfied: mistune<2,>=0.8.1 in /usr/local/lib/python3.7/dist-packages (from nbconvert->notebook>=4.4.1->widgetsnbextension~=3.6.0->ipywidgets>=7.6.5->pycaret[full]) (0.8.4)\n",
            "Requirement already satisfied: pandocfilters>=1.4.1 in /usr/local/lib/python3.7/dist-packages (from nbconvert->notebook>=4.4.1->widgetsnbextension~=3.6.0->ipywidgets>=7.6.5->pycaret[full]) (1.5.0)\n",
            "Requirement already satisfied: testpath in /usr/local/lib/python3.7/dist-packages (from nbconvert->notebook>=4.4.1->widgetsnbextension~=3.6.0->ipywidgets>=7.6.5->pycaret[full]) (0.6.0)\n",
            "Requirement already satisfied: fastjsonschema in /usr/local/lib/python3.7/dist-packages (from nbformat->notebook>=4.4.1->widgetsnbextension~=3.6.0->ipywidgets>=7.6.5->pycaret[full]) (2.16.2)\n",
            "Requirement already satisfied: regex>=2021.8.3 in /usr/local/lib/python3.7/dist-packages (from nltk->autoviz>=0.1.36->pycaret[full]) (2022.6.2)\n",
            "Requirement already satisfied: pynacl>=1.0.1 in /usr/local/lib/python3.7/dist-packages (from paramiko->gradio>=2.8.10->pycaret[full]) (1.5.0)\n",
            "Requirement already satisfied: bcrypt>=3.1.3 in /usr/local/lib/python3.7/dist-packages (from paramiko->gradio>=2.8.10->pycaret[full]) (4.0.1)\n",
            "Requirement already satisfied: pox>=0.3.2 in /usr/local/lib/python3.7/dist-packages (from pathos->SALib>=1.3.3->interpret-core[dash,debug,decisiontree,ebm,lime,linear,notebook,plotly,required,sensitivity,shap,skoperules,treeinterpreter]>=0.2.7->interpret>=0.2.7->pycaret[full]) (0.3.2)\n",
            "Requirement already satisfied: ppft>=1.7.6.6 in /usr/local/lib/python3.7/dist-packages (from pathos->SALib>=1.3.3->interpret-core[dash,debug,decisiontree,ebm,lime,linear,notebook,plotly,required,sensitivity,shap,skoperules,treeinterpreter]>=0.2.7->interpret>=0.2.7->pycaret[full]) (1.7.6.6)\n",
            "Requirement already satisfied: qtpy>=2.0.1 in /usr/local/lib/python3.7/dist-packages (from qtconsole->jupyter->autoviz>=0.1.36->pycaret[full]) (2.2.1)\n",
            "Requirement already satisfied: distlib<1,>=0.3.6 in /usr/local/lib/python3.7/dist-packages (from virtualenv->ray[tune]>=1.0.0->pycaret[full]) (0.3.6)\n",
            "Requirement already satisfied: platformdirs<3,>=2.4 in /usr/local/lib/python3.7/dist-packages (from virtualenv->ray[tune]>=1.0.0->pycaret[full]) (2.5.2)\n"
          ]
        }
      ]
    },
    {
      "cell_type": "markdown",
      "metadata": {
        "id": "MvWbU0fEnjTm"
      },
      "source": [
        "### Habilitando PyCaret"
      ]
    },
    {
      "cell_type": "code",
      "metadata": {
        "id": "JpNgoeibnmR1"
      },
      "source": [
        "from pycaret.anomaly import *"
      ],
      "execution_count": 20,
      "outputs": []
    },
    {
      "cell_type": "markdown",
      "metadata": {
        "id": "8socFGQOn9qZ"
      },
      "source": [
        "### Configuración inicial"
      ]
    },
    {
      "cell_type": "code",
      "metadata": {
        "colab": {
          "base_uri": "https://localhost:8080/",
          "height": 576
        },
        "id": "YcRrxOHioAn5",
        "outputId": "2019de2a-bdac-4dcd-88dd-9ca2f50d4131"
      },
      "source": [
        "anomalias = setup(df, \n",
        "                  normalize = True,\n",
        "                  session_id = 123)"
      ],
      "execution_count": 21,
      "outputs": [
        {
          "output_type": "display_data",
          "data": {
            "text/plain": [
              "<pandas.io.formats.style.Styler at 0x7f1c656794d0>"
            ],
            "text/html": [
              "<style type=\"text/css\">\n",
              "#T_b1e09_row5_col1, #T_b1e09_row10_col1 {\n",
              "  background-color: lightgreen;\n",
              "}\n",
              "</style>\n",
              "<table id=\"T_b1e09_\" class=\"dataframe\">\n",
              "  <thead>\n",
              "    <tr>\n",
              "      <th class=\"blank level0\" >&nbsp;</th>\n",
              "      <th class=\"col_heading level0 col0\" >Description</th>\n",
              "      <th class=\"col_heading level0 col1\" >Value</th>\n",
              "    </tr>\n",
              "  </thead>\n",
              "  <tbody>\n",
              "    <tr>\n",
              "      <th id=\"T_b1e09_level0_row0\" class=\"row_heading level0 row0\" >0</th>\n",
              "      <td id=\"T_b1e09_row0_col0\" class=\"data row0 col0\" >Session id</td>\n",
              "      <td id=\"T_b1e09_row0_col1\" class=\"data row0 col1\" >123</td>\n",
              "    </tr>\n",
              "    <tr>\n",
              "      <th id=\"T_b1e09_level0_row1\" class=\"row_heading level0 row1\" >1</th>\n",
              "      <td id=\"T_b1e09_row1_col0\" class=\"data row1 col0\" >Original data shape</td>\n",
              "      <td id=\"T_b1e09_row1_col1\" class=\"data row1 col1\" >(79, 2)</td>\n",
              "    </tr>\n",
              "    <tr>\n",
              "      <th id=\"T_b1e09_level0_row2\" class=\"row_heading level0 row2\" >2</th>\n",
              "      <td id=\"T_b1e09_row2_col0\" class=\"data row2 col0\" >Transformed data shape</td>\n",
              "      <td id=\"T_b1e09_row2_col1\" class=\"data row2 col1\" >(79, 3)</td>\n",
              "    </tr>\n",
              "    <tr>\n",
              "      <th id=\"T_b1e09_level0_row3\" class=\"row_heading level0 row3\" >3</th>\n",
              "      <td id=\"T_b1e09_row3_col0\" class=\"data row3 col0\" >Numeric features</td>\n",
              "      <td id=\"T_b1e09_row3_col1\" class=\"data row3 col1\" >1</td>\n",
              "    </tr>\n",
              "    <tr>\n",
              "      <th id=\"T_b1e09_level0_row4\" class=\"row_heading level0 row4\" >4</th>\n",
              "      <td id=\"T_b1e09_row4_col0\" class=\"data row4 col0\" >Date features</td>\n",
              "      <td id=\"T_b1e09_row4_col1\" class=\"data row4 col1\" >1</td>\n",
              "    </tr>\n",
              "    <tr>\n",
              "      <th id=\"T_b1e09_level0_row5\" class=\"row_heading level0 row5\" >5</th>\n",
              "      <td id=\"T_b1e09_row5_col0\" class=\"data row5 col0\" >Preprocess</td>\n",
              "      <td id=\"T_b1e09_row5_col1\" class=\"data row5 col1\" >True</td>\n",
              "    </tr>\n",
              "    <tr>\n",
              "      <th id=\"T_b1e09_level0_row6\" class=\"row_heading level0 row6\" >6</th>\n",
              "      <td id=\"T_b1e09_row6_col0\" class=\"data row6 col0\" >Imputation type</td>\n",
              "      <td id=\"T_b1e09_row6_col1\" class=\"data row6 col1\" >simple</td>\n",
              "    </tr>\n",
              "    <tr>\n",
              "      <th id=\"T_b1e09_level0_row7\" class=\"row_heading level0 row7\" >7</th>\n",
              "      <td id=\"T_b1e09_row7_col0\" class=\"data row7 col0\" >Numeric imputation</td>\n",
              "      <td id=\"T_b1e09_row7_col1\" class=\"data row7 col1\" >mean</td>\n",
              "    </tr>\n",
              "    <tr>\n",
              "      <th id=\"T_b1e09_level0_row8\" class=\"row_heading level0 row8\" >8</th>\n",
              "      <td id=\"T_b1e09_row8_col0\" class=\"data row8 col0\" >Categorical imputation</td>\n",
              "      <td id=\"T_b1e09_row8_col1\" class=\"data row8 col1\" >constant</td>\n",
              "    </tr>\n",
              "    <tr>\n",
              "      <th id=\"T_b1e09_level0_row9\" class=\"row_heading level0 row9\" >9</th>\n",
              "      <td id=\"T_b1e09_row9_col0\" class=\"data row9 col0\" >Low variance threshold</td>\n",
              "      <td id=\"T_b1e09_row9_col1\" class=\"data row9 col1\" >0</td>\n",
              "    </tr>\n",
              "    <tr>\n",
              "      <th id=\"T_b1e09_level0_row10\" class=\"row_heading level0 row10\" >10</th>\n",
              "      <td id=\"T_b1e09_row10_col0\" class=\"data row10 col0\" >Normalize</td>\n",
              "      <td id=\"T_b1e09_row10_col1\" class=\"data row10 col1\" >True</td>\n",
              "    </tr>\n",
              "    <tr>\n",
              "      <th id=\"T_b1e09_level0_row11\" class=\"row_heading level0 row11\" >11</th>\n",
              "      <td id=\"T_b1e09_row11_col0\" class=\"data row11 col0\" >Normalize method</td>\n",
              "      <td id=\"T_b1e09_row11_col1\" class=\"data row11 col1\" >zscore</td>\n",
              "    </tr>\n",
              "    <tr>\n",
              "      <th id=\"T_b1e09_level0_row12\" class=\"row_heading level0 row12\" >12</th>\n",
              "      <td id=\"T_b1e09_row12_col0\" class=\"data row12 col0\" >CPU Jobs</td>\n",
              "      <td id=\"T_b1e09_row12_col1\" class=\"data row12 col1\" >-1</td>\n",
              "    </tr>\n",
              "    <tr>\n",
              "      <th id=\"T_b1e09_level0_row13\" class=\"row_heading level0 row13\" >13</th>\n",
              "      <td id=\"T_b1e09_row13_col0\" class=\"data row13 col0\" >Use GPU</td>\n",
              "      <td id=\"T_b1e09_row13_col1\" class=\"data row13 col1\" >False</td>\n",
              "    </tr>\n",
              "    <tr>\n",
              "      <th id=\"T_b1e09_level0_row14\" class=\"row_heading level0 row14\" >14</th>\n",
              "      <td id=\"T_b1e09_row14_col0\" class=\"data row14 col0\" >Log Experiment</td>\n",
              "      <td id=\"T_b1e09_row14_col1\" class=\"data row14 col1\" >False</td>\n",
              "    </tr>\n",
              "    <tr>\n",
              "      <th id=\"T_b1e09_level0_row15\" class=\"row_heading level0 row15\" >15</th>\n",
              "      <td id=\"T_b1e09_row15_col0\" class=\"data row15 col0\" >Experiment Name</td>\n",
              "      <td id=\"T_b1e09_row15_col1\" class=\"data row15 col1\" >anomaly-default-name</td>\n",
              "    </tr>\n",
              "    <tr>\n",
              "      <th id=\"T_b1e09_level0_row16\" class=\"row_heading level0 row16\" >16</th>\n",
              "      <td id=\"T_b1e09_row16_col0\" class=\"data row16 col0\" >USI</td>\n",
              "      <td id=\"T_b1e09_row16_col1\" class=\"data row16 col1\" >8a21</td>\n",
              "    </tr>\n",
              "  </tbody>\n",
              "</table>\n"
            ]
          },
          "metadata": {}
        }
      ]
    },
    {
      "cell_type": "markdown",
      "metadata": {
        "id": "AW4eKXILoqkm"
      },
      "source": [
        "### Modelos "
      ]
    },
    {
      "cell_type": "code",
      "metadata": {
        "colab": {
          "base_uri": "https://localhost:8080/",
          "height": 452
        },
        "id": "7adpwgOOohar",
        "outputId": "3bdf259b-0363-467a-b59f-554e70973a2e"
      },
      "source": [
        "models()"
      ],
      "execution_count": 22,
      "outputs": [
        {
          "output_type": "execute_result",
          "data": {
            "text/plain": [
              "                                        Name                    Reference\n",
              "ID                                                                       \n",
              "abod            Angle-base Outlier Detection        pyod.models.abod.ABOD\n",
              "cluster       Clustering-Based Local Outlier      pyod.models.cblof.CBLOF\n",
              "cof         Connectivity-Based Local Outlier          pyod.models.cof.COF\n",
              "iforest                     Isolation Forest  pyod.models.iforest.IForest\n",
              "histogram  Histogram-based Outlier Detection        pyod.models.hbos.HBOS\n",
              "knn             K-Nearest Neighbors Detector          pyod.models.knn.KNN\n",
              "lof                     Local Outlier Factor          pyod.models.lof.LOF\n",
              "svm                   One-class SVM detector      pyod.models.ocsvm.OCSVM\n",
              "pca             Principal Component Analysis          pyod.models.pca.PCA\n",
              "mcd           Minimum Covariance Determinant          pyod.models.mcd.MCD\n",
              "sod               Subspace Outlier Detection          pyod.models.sod.SOD\n",
              "sos             Stochastic Outlier Selection          pyod.models.sos.SOS"
            ],
            "text/html": [
              "\n",
              "  <div id=\"df-7c6ad2cd-8ce6-4a49-b455-f5e80cbbd192\">\n",
              "    <div class=\"colab-df-container\">\n",
              "      <div>\n",
              "<style scoped>\n",
              "    .dataframe tbody tr th:only-of-type {\n",
              "        vertical-align: middle;\n",
              "    }\n",
              "\n",
              "    .dataframe tbody tr th {\n",
              "        vertical-align: top;\n",
              "    }\n",
              "\n",
              "    .dataframe thead th {\n",
              "        text-align: right;\n",
              "    }\n",
              "</style>\n",
              "<table border=\"1\" class=\"dataframe\">\n",
              "  <thead>\n",
              "    <tr style=\"text-align: right;\">\n",
              "      <th></th>\n",
              "      <th>Name</th>\n",
              "      <th>Reference</th>\n",
              "    </tr>\n",
              "    <tr>\n",
              "      <th>ID</th>\n",
              "      <th></th>\n",
              "      <th></th>\n",
              "    </tr>\n",
              "  </thead>\n",
              "  <tbody>\n",
              "    <tr>\n",
              "      <th>abod</th>\n",
              "      <td>Angle-base Outlier Detection</td>\n",
              "      <td>pyod.models.abod.ABOD</td>\n",
              "    </tr>\n",
              "    <tr>\n",
              "      <th>cluster</th>\n",
              "      <td>Clustering-Based Local Outlier</td>\n",
              "      <td>pyod.models.cblof.CBLOF</td>\n",
              "    </tr>\n",
              "    <tr>\n",
              "      <th>cof</th>\n",
              "      <td>Connectivity-Based Local Outlier</td>\n",
              "      <td>pyod.models.cof.COF</td>\n",
              "    </tr>\n",
              "    <tr>\n",
              "      <th>iforest</th>\n",
              "      <td>Isolation Forest</td>\n",
              "      <td>pyod.models.iforest.IForest</td>\n",
              "    </tr>\n",
              "    <tr>\n",
              "      <th>histogram</th>\n",
              "      <td>Histogram-based Outlier Detection</td>\n",
              "      <td>pyod.models.hbos.HBOS</td>\n",
              "    </tr>\n",
              "    <tr>\n",
              "      <th>knn</th>\n",
              "      <td>K-Nearest Neighbors Detector</td>\n",
              "      <td>pyod.models.knn.KNN</td>\n",
              "    </tr>\n",
              "    <tr>\n",
              "      <th>lof</th>\n",
              "      <td>Local Outlier Factor</td>\n",
              "      <td>pyod.models.lof.LOF</td>\n",
              "    </tr>\n",
              "    <tr>\n",
              "      <th>svm</th>\n",
              "      <td>One-class SVM detector</td>\n",
              "      <td>pyod.models.ocsvm.OCSVM</td>\n",
              "    </tr>\n",
              "    <tr>\n",
              "      <th>pca</th>\n",
              "      <td>Principal Component Analysis</td>\n",
              "      <td>pyod.models.pca.PCA</td>\n",
              "    </tr>\n",
              "    <tr>\n",
              "      <th>mcd</th>\n",
              "      <td>Minimum Covariance Determinant</td>\n",
              "      <td>pyod.models.mcd.MCD</td>\n",
              "    </tr>\n",
              "    <tr>\n",
              "      <th>sod</th>\n",
              "      <td>Subspace Outlier Detection</td>\n",
              "      <td>pyod.models.sod.SOD</td>\n",
              "    </tr>\n",
              "    <tr>\n",
              "      <th>sos</th>\n",
              "      <td>Stochastic Outlier Selection</td>\n",
              "      <td>pyod.models.sos.SOS</td>\n",
              "    </tr>\n",
              "  </tbody>\n",
              "</table>\n",
              "</div>\n",
              "      <button class=\"colab-df-convert\" onclick=\"convertToInteractive('df-7c6ad2cd-8ce6-4a49-b455-f5e80cbbd192')\"\n",
              "              title=\"Convert this dataframe to an interactive table.\"\n",
              "              style=\"display:none;\">\n",
              "        \n",
              "  <svg xmlns=\"http://www.w3.org/2000/svg\" height=\"24px\"viewBox=\"0 0 24 24\"\n",
              "       width=\"24px\">\n",
              "    <path d=\"M0 0h24v24H0V0z\" fill=\"none\"/>\n",
              "    <path d=\"M18.56 5.44l.94 2.06.94-2.06 2.06-.94-2.06-.94-.94-2.06-.94 2.06-2.06.94zm-11 1L8.5 8.5l.94-2.06 2.06-.94-2.06-.94L8.5 2.5l-.94 2.06-2.06.94zm10 10l.94 2.06.94-2.06 2.06-.94-2.06-.94-.94-2.06-.94 2.06-2.06.94z\"/><path d=\"M17.41 7.96l-1.37-1.37c-.4-.4-.92-.59-1.43-.59-.52 0-1.04.2-1.43.59L10.3 9.45l-7.72 7.72c-.78.78-.78 2.05 0 2.83L4 21.41c.39.39.9.59 1.41.59.51 0 1.02-.2 1.41-.59l7.78-7.78 2.81-2.81c.8-.78.8-2.07 0-2.86zM5.41 20L4 18.59l7.72-7.72 1.47 1.35L5.41 20z\"/>\n",
              "  </svg>\n",
              "      </button>\n",
              "      \n",
              "  <style>\n",
              "    .colab-df-container {\n",
              "      display:flex;\n",
              "      flex-wrap:wrap;\n",
              "      gap: 12px;\n",
              "    }\n",
              "\n",
              "    .colab-df-convert {\n",
              "      background-color: #E8F0FE;\n",
              "      border: none;\n",
              "      border-radius: 50%;\n",
              "      cursor: pointer;\n",
              "      display: none;\n",
              "      fill: #1967D2;\n",
              "      height: 32px;\n",
              "      padding: 0 0 0 0;\n",
              "      width: 32px;\n",
              "    }\n",
              "\n",
              "    .colab-df-convert:hover {\n",
              "      background-color: #E2EBFA;\n",
              "      box-shadow: 0px 1px 2px rgba(60, 64, 67, 0.3), 0px 1px 3px 1px rgba(60, 64, 67, 0.15);\n",
              "      fill: #174EA6;\n",
              "    }\n",
              "\n",
              "    [theme=dark] .colab-df-convert {\n",
              "      background-color: #3B4455;\n",
              "      fill: #D2E3FC;\n",
              "    }\n",
              "\n",
              "    [theme=dark] .colab-df-convert:hover {\n",
              "      background-color: #434B5C;\n",
              "      box-shadow: 0px 1px 3px 1px rgba(0, 0, 0, 0.15);\n",
              "      filter: drop-shadow(0px 1px 2px rgba(0, 0, 0, 0.3));\n",
              "      fill: #FFFFFF;\n",
              "    }\n",
              "  </style>\n",
              "\n",
              "      <script>\n",
              "        const buttonEl =\n",
              "          document.querySelector('#df-7c6ad2cd-8ce6-4a49-b455-f5e80cbbd192 button.colab-df-convert');\n",
              "        buttonEl.style.display =\n",
              "          google.colab.kernel.accessAllowed ? 'block' : 'none';\n",
              "\n",
              "        async function convertToInteractive(key) {\n",
              "          const element = document.querySelector('#df-7c6ad2cd-8ce6-4a49-b455-f5e80cbbd192');\n",
              "          const dataTable =\n",
              "            await google.colab.kernel.invokeFunction('convertToInteractive',\n",
              "                                                     [key], {});\n",
              "          if (!dataTable) return;\n",
              "\n",
              "          const docLinkHtml = 'Like what you see? Visit the ' +\n",
              "            '<a target=\"_blank\" href=https://colab.research.google.com/notebooks/data_table.ipynb>data table notebook</a>'\n",
              "            + ' to learn more about interactive tables.';\n",
              "          element.innerHTML = '';\n",
              "          dataTable['output_type'] = 'display_data';\n",
              "          await google.colab.output.renderOutput(dataTable, element);\n",
              "          const docLink = document.createElement('div');\n",
              "          docLink.innerHTML = docLinkHtml;\n",
              "          element.appendChild(docLink);\n",
              "        }\n",
              "      </script>\n",
              "    </div>\n",
              "  </div>\n",
              "  "
            ]
          },
          "metadata": {},
          "execution_count": 22
        }
      ]
    },
    {
      "cell_type": "markdown",
      "metadata": {
        "id": "U9nwno_wo6Z6"
      },
      "source": [
        "# Modelo SVM"
      ]
    },
    {
      "cell_type": "code",
      "metadata": {
        "id": "k-osUCkjpAg4",
        "colab": {
          "base_uri": "https://localhost:8080/",
          "height": 17,
          "referenced_widgets": [
            "104682a175b54d7eae3d9318bdb137d6",
            "cf6c024812a641d8b7ea0b21bc515fb2",
            "a50334f02c484988aa4e124e357c55e9",
            "e57d58daf0254ab09dc9aff4193bd8ec",
            "847d62d65fdb4e2985111ed99fb31750",
            "b32c079821484e24a9ecee827d18152d",
            "c3e3586d35d24590886efa7aae62661a",
            "5528564f187e4bba80208f4ea41b3fdb",
            "d592fdec2d404ea7b78da3493c860f9c",
            "1402ee435ec74f8ea4601aa81a320df6",
            "02bd9d757f7345cf8e98485370dec097"
          ]
        },
        "outputId": "9d1bb0fe-ae33-4eb5-8fd0-e49863b6aed4"
      },
      "source": [
        "modelo01 = create_model('svm')"
      ],
      "execution_count": 23,
      "outputs": [
        {
          "output_type": "display_data",
          "data": {
            "text/plain": [
              "<IPython.core.display.HTML object>"
            ],
            "text/html": []
          },
          "metadata": {}
        },
        {
          "output_type": "display_data",
          "data": {
            "text/plain": [
              "<IPython.core.display.HTML object>"
            ],
            "text/html": []
          },
          "metadata": {}
        },
        {
          "output_type": "display_data",
          "data": {
            "text/plain": [
              "Processing:   0%|          | 0/3 [00:00<?, ?it/s]"
            ],
            "application/vnd.jupyter.widget-view+json": {
              "version_major": 2,
              "version_minor": 0,
              "model_id": "104682a175b54d7eae3d9318bdb137d6"
            }
          },
          "metadata": {
            "application/vnd.jupyter.widget-view+json": {
              "colab": {
                "custom_widget_manager": {
                  "url": "https://ssl.gstatic.com/colaboratory-static/widgets/colab-cdn-widget-manager/d2e234f7cc04bf79/manager.min.js"
                }
              }
            }
          }
        },
        {
          "output_type": "display_data",
          "data": {
            "text/plain": [
              "<IPython.core.display.HTML object>"
            ],
            "text/html": []
          },
          "metadata": {}
        }
      ]
    },
    {
      "cell_type": "code",
      "metadata": {
        "colab": {
          "base_uri": "https://localhost:8080/"
        },
        "id": "vZIvXBbJqeOX",
        "outputId": "3205fffd-7974-4aa1-deef-d41489adae1e"
      },
      "source": [
        "print(modelo01)"
      ],
      "execution_count": 24,
      "outputs": [
        {
          "output_type": "stream",
          "name": "stdout",
          "text": [
            "OCSVM(cache_size=200, coef0=0.0, contamination=0.05, degree=3, gamma='auto',\n",
            "   kernel='rbf', max_iter=-1, nu=0.5, shrinking=True, tol=0.001,\n",
            "   verbose=False)\n"
          ]
        }
      ]
    },
    {
      "cell_type": "markdown",
      "metadata": {
        "id": "mHt2IfqPqilu"
      },
      "source": [
        "## Asignación del modelo"
      ]
    },
    {
      "cell_type": "code",
      "metadata": {
        "colab": {
          "base_uri": "https://localhost:8080/",
          "height": 419
        },
        "id": "GBCQ4jAtqqo5",
        "outputId": "f4a10a2e-5906-4c23-df99-1373fcc3a7fc"
      },
      "source": [
        "modelo01_results = assign_model(modelo01)\n",
        "modelo01_results"
      ],
      "execution_count": 25,
      "outputs": [
        {
          "output_type": "execute_result",
          "data": {
            "text/plain": [
              "    base imponible      fecha  Anomaly  Anomaly_Score\n",
              "0     1.542649e+06 2015-01-01        0       1.963135\n",
              "1     2.826481e+06 2015-02-01        0       1.041466\n",
              "2     2.819790e+06 2015-03-01        0       0.495657\n",
              "3     2.904494e+06 2015-04-01        0       0.168927\n",
              "4     3.039688e+06 2015-05-01        0       0.000326\n",
              "..             ...        ...      ...            ...\n",
              "74    1.111656e+07 2021-04-01        0       2.423588\n",
              "75    9.678824e+06 2021-05-01        0       1.535931\n",
              "76    1.321430e+07 2021-06-01        0       3.733897\n",
              "77    2.126884e+07 2021-07-01        1       8.415629\n",
              "78    1.636974e+07 2021-08-01        1       6.377059\n",
              "\n",
              "[79 rows x 4 columns]"
            ],
            "text/html": [
              "\n",
              "  <div id=\"df-e0b83047-9aa4-4bab-8ef7-0859c61a905e\">\n",
              "    <div class=\"colab-df-container\">\n",
              "      <div>\n",
              "<style scoped>\n",
              "    .dataframe tbody tr th:only-of-type {\n",
              "        vertical-align: middle;\n",
              "    }\n",
              "\n",
              "    .dataframe tbody tr th {\n",
              "        vertical-align: top;\n",
              "    }\n",
              "\n",
              "    .dataframe thead th {\n",
              "        text-align: right;\n",
              "    }\n",
              "</style>\n",
              "<table border=\"1\" class=\"dataframe\">\n",
              "  <thead>\n",
              "    <tr style=\"text-align: right;\">\n",
              "      <th></th>\n",
              "      <th>base imponible</th>\n",
              "      <th>fecha</th>\n",
              "      <th>Anomaly</th>\n",
              "      <th>Anomaly_Score</th>\n",
              "    </tr>\n",
              "  </thead>\n",
              "  <tbody>\n",
              "    <tr>\n",
              "      <th>0</th>\n",
              "      <td>1.542649e+06</td>\n",
              "      <td>2015-01-01</td>\n",
              "      <td>0</td>\n",
              "      <td>1.963135</td>\n",
              "    </tr>\n",
              "    <tr>\n",
              "      <th>1</th>\n",
              "      <td>2.826481e+06</td>\n",
              "      <td>2015-02-01</td>\n",
              "      <td>0</td>\n",
              "      <td>1.041466</td>\n",
              "    </tr>\n",
              "    <tr>\n",
              "      <th>2</th>\n",
              "      <td>2.819790e+06</td>\n",
              "      <td>2015-03-01</td>\n",
              "      <td>0</td>\n",
              "      <td>0.495657</td>\n",
              "    </tr>\n",
              "    <tr>\n",
              "      <th>3</th>\n",
              "      <td>2.904494e+06</td>\n",
              "      <td>2015-04-01</td>\n",
              "      <td>0</td>\n",
              "      <td>0.168927</td>\n",
              "    </tr>\n",
              "    <tr>\n",
              "      <th>4</th>\n",
              "      <td>3.039688e+06</td>\n",
              "      <td>2015-05-01</td>\n",
              "      <td>0</td>\n",
              "      <td>0.000326</td>\n",
              "    </tr>\n",
              "    <tr>\n",
              "      <th>...</th>\n",
              "      <td>...</td>\n",
              "      <td>...</td>\n",
              "      <td>...</td>\n",
              "      <td>...</td>\n",
              "    </tr>\n",
              "    <tr>\n",
              "      <th>74</th>\n",
              "      <td>1.111656e+07</td>\n",
              "      <td>2021-04-01</td>\n",
              "      <td>0</td>\n",
              "      <td>2.423588</td>\n",
              "    </tr>\n",
              "    <tr>\n",
              "      <th>75</th>\n",
              "      <td>9.678824e+06</td>\n",
              "      <td>2021-05-01</td>\n",
              "      <td>0</td>\n",
              "      <td>1.535931</td>\n",
              "    </tr>\n",
              "    <tr>\n",
              "      <th>76</th>\n",
              "      <td>1.321430e+07</td>\n",
              "      <td>2021-06-01</td>\n",
              "      <td>0</td>\n",
              "      <td>3.733897</td>\n",
              "    </tr>\n",
              "    <tr>\n",
              "      <th>77</th>\n",
              "      <td>2.126884e+07</td>\n",
              "      <td>2021-07-01</td>\n",
              "      <td>1</td>\n",
              "      <td>8.415629</td>\n",
              "    </tr>\n",
              "    <tr>\n",
              "      <th>78</th>\n",
              "      <td>1.636974e+07</td>\n",
              "      <td>2021-08-01</td>\n",
              "      <td>1</td>\n",
              "      <td>6.377059</td>\n",
              "    </tr>\n",
              "  </tbody>\n",
              "</table>\n",
              "<p>79 rows × 4 columns</p>\n",
              "</div>\n",
              "      <button class=\"colab-df-convert\" onclick=\"convertToInteractive('df-e0b83047-9aa4-4bab-8ef7-0859c61a905e')\"\n",
              "              title=\"Convert this dataframe to an interactive table.\"\n",
              "              style=\"display:none;\">\n",
              "        \n",
              "  <svg xmlns=\"http://www.w3.org/2000/svg\" height=\"24px\"viewBox=\"0 0 24 24\"\n",
              "       width=\"24px\">\n",
              "    <path d=\"M0 0h24v24H0V0z\" fill=\"none\"/>\n",
              "    <path d=\"M18.56 5.44l.94 2.06.94-2.06 2.06-.94-2.06-.94-.94-2.06-.94 2.06-2.06.94zm-11 1L8.5 8.5l.94-2.06 2.06-.94-2.06-.94L8.5 2.5l-.94 2.06-2.06.94zm10 10l.94 2.06.94-2.06 2.06-.94-2.06-.94-.94-2.06-.94 2.06-2.06.94z\"/><path d=\"M17.41 7.96l-1.37-1.37c-.4-.4-.92-.59-1.43-.59-.52 0-1.04.2-1.43.59L10.3 9.45l-7.72 7.72c-.78.78-.78 2.05 0 2.83L4 21.41c.39.39.9.59 1.41.59.51 0 1.02-.2 1.41-.59l7.78-7.78 2.81-2.81c.8-.78.8-2.07 0-2.86zM5.41 20L4 18.59l7.72-7.72 1.47 1.35L5.41 20z\"/>\n",
              "  </svg>\n",
              "      </button>\n",
              "      \n",
              "  <style>\n",
              "    .colab-df-container {\n",
              "      display:flex;\n",
              "      flex-wrap:wrap;\n",
              "      gap: 12px;\n",
              "    }\n",
              "\n",
              "    .colab-df-convert {\n",
              "      background-color: #E8F0FE;\n",
              "      border: none;\n",
              "      border-radius: 50%;\n",
              "      cursor: pointer;\n",
              "      display: none;\n",
              "      fill: #1967D2;\n",
              "      height: 32px;\n",
              "      padding: 0 0 0 0;\n",
              "      width: 32px;\n",
              "    }\n",
              "\n",
              "    .colab-df-convert:hover {\n",
              "      background-color: #E2EBFA;\n",
              "      box-shadow: 0px 1px 2px rgba(60, 64, 67, 0.3), 0px 1px 3px 1px rgba(60, 64, 67, 0.15);\n",
              "      fill: #174EA6;\n",
              "    }\n",
              "\n",
              "    [theme=dark] .colab-df-convert {\n",
              "      background-color: #3B4455;\n",
              "      fill: #D2E3FC;\n",
              "    }\n",
              "\n",
              "    [theme=dark] .colab-df-convert:hover {\n",
              "      background-color: #434B5C;\n",
              "      box-shadow: 0px 1px 3px 1px rgba(0, 0, 0, 0.15);\n",
              "      filter: drop-shadow(0px 1px 2px rgba(0, 0, 0, 0.3));\n",
              "      fill: #FFFFFF;\n",
              "    }\n",
              "  </style>\n",
              "\n",
              "      <script>\n",
              "        const buttonEl =\n",
              "          document.querySelector('#df-e0b83047-9aa4-4bab-8ef7-0859c61a905e button.colab-df-convert');\n",
              "        buttonEl.style.display =\n",
              "          google.colab.kernel.accessAllowed ? 'block' : 'none';\n",
              "\n",
              "        async function convertToInteractive(key) {\n",
              "          const element = document.querySelector('#df-e0b83047-9aa4-4bab-8ef7-0859c61a905e');\n",
              "          const dataTable =\n",
              "            await google.colab.kernel.invokeFunction('convertToInteractive',\n",
              "                                                     [key], {});\n",
              "          if (!dataTable) return;\n",
              "\n",
              "          const docLinkHtml = 'Like what you see? Visit the ' +\n",
              "            '<a target=\"_blank\" href=https://colab.research.google.com/notebooks/data_table.ipynb>data table notebook</a>'\n",
              "            + ' to learn more about interactive tables.';\n",
              "          element.innerHTML = '';\n",
              "          dataTable['output_type'] = 'display_data';\n",
              "          await google.colab.output.renderOutput(dataTable, element);\n",
              "          const docLink = document.createElement('div');\n",
              "          docLink.innerHTML = docLinkHtml;\n",
              "          element.appendChild(docLink);\n",
              "        }\n",
              "      </script>\n",
              "    </div>\n",
              "  </div>\n",
              "  "
            ]
          },
          "metadata": {},
          "execution_count": 25
        }
      ]
    },
    {
      "cell_type": "code",
      "metadata": {
        "colab": {
          "base_uri": "https://localhost:8080/"
        },
        "id": "LSMLL7kCw1gT",
        "outputId": "3af97a94-2b37-4cd6-9795-cdeedf3dffbc"
      },
      "source": [
        "modelo01_results.info()"
      ],
      "execution_count": 26,
      "outputs": [
        {
          "output_type": "stream",
          "name": "stdout",
          "text": [
            "<class 'pandas.core.frame.DataFrame'>\n",
            "RangeIndex: 79 entries, 0 to 78\n",
            "Data columns (total 4 columns):\n",
            " #   Column          Non-Null Count  Dtype         \n",
            "---  ------          --------------  -----         \n",
            " 0   base imponible  79 non-null     float32       \n",
            " 1   fecha           79 non-null     datetime64[ns]\n",
            " 2   Anomaly         79 non-null     int64         \n",
            " 3   Anomaly_Score   79 non-null     float64       \n",
            "dtypes: datetime64[ns](1), float32(1), float64(1), int64(1)\n",
            "memory usage: 2.3 KB\n"
          ]
        }
      ]
    },
    {
      "cell_type": "code",
      "metadata": {
        "id": "biG1B8bixT5-"
      },
      "source": [
        "modelo01_results.sort_index(inplace=True)"
      ],
      "execution_count": 27,
      "outputs": []
    },
    {
      "cell_type": "code",
      "metadata": {
        "colab": {
          "base_uri": "https://localhost:8080/",
          "height": 419
        },
        "id": "E2SDvD3FxcRw",
        "outputId": "548c81bd-2e79-441e-af9e-448db1998861"
      },
      "source": [
        "modelo01_results"
      ],
      "execution_count": 28,
      "outputs": [
        {
          "output_type": "execute_result",
          "data": {
            "text/plain": [
              "    base imponible      fecha  Anomaly  Anomaly_Score\n",
              "0     1.542649e+06 2015-01-01        0       1.963135\n",
              "1     2.826481e+06 2015-02-01        0       1.041466\n",
              "2     2.819790e+06 2015-03-01        0       0.495657\n",
              "3     2.904494e+06 2015-04-01        0       0.168927\n",
              "4     3.039688e+06 2015-05-01        0       0.000326\n",
              "..             ...        ...      ...            ...\n",
              "74    1.111656e+07 2021-04-01        0       2.423588\n",
              "75    9.678824e+06 2021-05-01        0       1.535931\n",
              "76    1.321430e+07 2021-06-01        0       3.733897\n",
              "77    2.126884e+07 2021-07-01        1       8.415629\n",
              "78    1.636974e+07 2021-08-01        1       6.377059\n",
              "\n",
              "[79 rows x 4 columns]"
            ],
            "text/html": [
              "\n",
              "  <div id=\"df-bf8a86b5-19b2-4979-8e37-c32097839278\">\n",
              "    <div class=\"colab-df-container\">\n",
              "      <div>\n",
              "<style scoped>\n",
              "    .dataframe tbody tr th:only-of-type {\n",
              "        vertical-align: middle;\n",
              "    }\n",
              "\n",
              "    .dataframe tbody tr th {\n",
              "        vertical-align: top;\n",
              "    }\n",
              "\n",
              "    .dataframe thead th {\n",
              "        text-align: right;\n",
              "    }\n",
              "</style>\n",
              "<table border=\"1\" class=\"dataframe\">\n",
              "  <thead>\n",
              "    <tr style=\"text-align: right;\">\n",
              "      <th></th>\n",
              "      <th>base imponible</th>\n",
              "      <th>fecha</th>\n",
              "      <th>Anomaly</th>\n",
              "      <th>Anomaly_Score</th>\n",
              "    </tr>\n",
              "  </thead>\n",
              "  <tbody>\n",
              "    <tr>\n",
              "      <th>0</th>\n",
              "      <td>1.542649e+06</td>\n",
              "      <td>2015-01-01</td>\n",
              "      <td>0</td>\n",
              "      <td>1.963135</td>\n",
              "    </tr>\n",
              "    <tr>\n",
              "      <th>1</th>\n",
              "      <td>2.826481e+06</td>\n",
              "      <td>2015-02-01</td>\n",
              "      <td>0</td>\n",
              "      <td>1.041466</td>\n",
              "    </tr>\n",
              "    <tr>\n",
              "      <th>2</th>\n",
              "      <td>2.819790e+06</td>\n",
              "      <td>2015-03-01</td>\n",
              "      <td>0</td>\n",
              "      <td>0.495657</td>\n",
              "    </tr>\n",
              "    <tr>\n",
              "      <th>3</th>\n",
              "      <td>2.904494e+06</td>\n",
              "      <td>2015-04-01</td>\n",
              "      <td>0</td>\n",
              "      <td>0.168927</td>\n",
              "    </tr>\n",
              "    <tr>\n",
              "      <th>4</th>\n",
              "      <td>3.039688e+06</td>\n",
              "      <td>2015-05-01</td>\n",
              "      <td>0</td>\n",
              "      <td>0.000326</td>\n",
              "    </tr>\n",
              "    <tr>\n",
              "      <th>...</th>\n",
              "      <td>...</td>\n",
              "      <td>...</td>\n",
              "      <td>...</td>\n",
              "      <td>...</td>\n",
              "    </tr>\n",
              "    <tr>\n",
              "      <th>74</th>\n",
              "      <td>1.111656e+07</td>\n",
              "      <td>2021-04-01</td>\n",
              "      <td>0</td>\n",
              "      <td>2.423588</td>\n",
              "    </tr>\n",
              "    <tr>\n",
              "      <th>75</th>\n",
              "      <td>9.678824e+06</td>\n",
              "      <td>2021-05-01</td>\n",
              "      <td>0</td>\n",
              "      <td>1.535931</td>\n",
              "    </tr>\n",
              "    <tr>\n",
              "      <th>76</th>\n",
              "      <td>1.321430e+07</td>\n",
              "      <td>2021-06-01</td>\n",
              "      <td>0</td>\n",
              "      <td>3.733897</td>\n",
              "    </tr>\n",
              "    <tr>\n",
              "      <th>77</th>\n",
              "      <td>2.126884e+07</td>\n",
              "      <td>2021-07-01</td>\n",
              "      <td>1</td>\n",
              "      <td>8.415629</td>\n",
              "    </tr>\n",
              "    <tr>\n",
              "      <th>78</th>\n",
              "      <td>1.636974e+07</td>\n",
              "      <td>2021-08-01</td>\n",
              "      <td>1</td>\n",
              "      <td>6.377059</td>\n",
              "    </tr>\n",
              "  </tbody>\n",
              "</table>\n",
              "<p>79 rows × 4 columns</p>\n",
              "</div>\n",
              "      <button class=\"colab-df-convert\" onclick=\"convertToInteractive('df-bf8a86b5-19b2-4979-8e37-c32097839278')\"\n",
              "              title=\"Convert this dataframe to an interactive table.\"\n",
              "              style=\"display:none;\">\n",
              "        \n",
              "  <svg xmlns=\"http://www.w3.org/2000/svg\" height=\"24px\"viewBox=\"0 0 24 24\"\n",
              "       width=\"24px\">\n",
              "    <path d=\"M0 0h24v24H0V0z\" fill=\"none\"/>\n",
              "    <path d=\"M18.56 5.44l.94 2.06.94-2.06 2.06-.94-2.06-.94-.94-2.06-.94 2.06-2.06.94zm-11 1L8.5 8.5l.94-2.06 2.06-.94-2.06-.94L8.5 2.5l-.94 2.06-2.06.94zm10 10l.94 2.06.94-2.06 2.06-.94-2.06-.94-.94-2.06-.94 2.06-2.06.94z\"/><path d=\"M17.41 7.96l-1.37-1.37c-.4-.4-.92-.59-1.43-.59-.52 0-1.04.2-1.43.59L10.3 9.45l-7.72 7.72c-.78.78-.78 2.05 0 2.83L4 21.41c.39.39.9.59 1.41.59.51 0 1.02-.2 1.41-.59l7.78-7.78 2.81-2.81c.8-.78.8-2.07 0-2.86zM5.41 20L4 18.59l7.72-7.72 1.47 1.35L5.41 20z\"/>\n",
              "  </svg>\n",
              "      </button>\n",
              "      \n",
              "  <style>\n",
              "    .colab-df-container {\n",
              "      display:flex;\n",
              "      flex-wrap:wrap;\n",
              "      gap: 12px;\n",
              "    }\n",
              "\n",
              "    .colab-df-convert {\n",
              "      background-color: #E8F0FE;\n",
              "      border: none;\n",
              "      border-radius: 50%;\n",
              "      cursor: pointer;\n",
              "      display: none;\n",
              "      fill: #1967D2;\n",
              "      height: 32px;\n",
              "      padding: 0 0 0 0;\n",
              "      width: 32px;\n",
              "    }\n",
              "\n",
              "    .colab-df-convert:hover {\n",
              "      background-color: #E2EBFA;\n",
              "      box-shadow: 0px 1px 2px rgba(60, 64, 67, 0.3), 0px 1px 3px 1px rgba(60, 64, 67, 0.15);\n",
              "      fill: #174EA6;\n",
              "    }\n",
              "\n",
              "    [theme=dark] .colab-df-convert {\n",
              "      background-color: #3B4455;\n",
              "      fill: #D2E3FC;\n",
              "    }\n",
              "\n",
              "    [theme=dark] .colab-df-convert:hover {\n",
              "      background-color: #434B5C;\n",
              "      box-shadow: 0px 1px 3px 1px rgba(0, 0, 0, 0.15);\n",
              "      filter: drop-shadow(0px 1px 2px rgba(0, 0, 0, 0.3));\n",
              "      fill: #FFFFFF;\n",
              "    }\n",
              "  </style>\n",
              "\n",
              "      <script>\n",
              "        const buttonEl =\n",
              "          document.querySelector('#df-bf8a86b5-19b2-4979-8e37-c32097839278 button.colab-df-convert');\n",
              "        buttonEl.style.display =\n",
              "          google.colab.kernel.accessAllowed ? 'block' : 'none';\n",
              "\n",
              "        async function convertToInteractive(key) {\n",
              "          const element = document.querySelector('#df-bf8a86b5-19b2-4979-8e37-c32097839278');\n",
              "          const dataTable =\n",
              "            await google.colab.kernel.invokeFunction('convertToInteractive',\n",
              "                                                     [key], {});\n",
              "          if (!dataTable) return;\n",
              "\n",
              "          const docLinkHtml = 'Like what you see? Visit the ' +\n",
              "            '<a target=\"_blank\" href=https://colab.research.google.com/notebooks/data_table.ipynb>data table notebook</a>'\n",
              "            + ' to learn more about interactive tables.';\n",
              "          element.innerHTML = '';\n",
              "          dataTable['output_type'] = 'display_data';\n",
              "          await google.colab.output.renderOutput(dataTable, element);\n",
              "          const docLink = document.createElement('div');\n",
              "          docLink.innerHTML = docLinkHtml;\n",
              "          element.appendChild(docLink);\n",
              "        }\n",
              "      </script>\n",
              "    </div>\n",
              "  </div>\n",
              "  "
            ]
          },
          "metadata": {},
          "execution_count": 28
        }
      ]
    },
    {
      "cell_type": "markdown",
      "metadata": {
        "id": "hd06LniSvwXE"
      },
      "source": [
        "## Graficando el modelo"
      ]
    },
    {
      "cell_type": "code",
      "metadata": {
        "colab": {
          "base_uri": "https://localhost:8080/",
          "height": 458
        },
        "id": "4sp2UjZOv6xk",
        "outputId": "1cafedef-af78-4c12-b6bf-d7edc607e6ba"
      },
      "source": [
        "plt.figure(figsize = (13, 7))\n",
        "s = plt.scatter(modelo01_results['fecha'], modelo01_results['base imponible'], \n",
        "                c = modelo01_results[\"Anomaly_Score\"], cmap = 'coolwarm')\n",
        "plt.colorbar(s, label = '')\n",
        "plt.xlabel('Fecha', fontsize = 16)\n",
        "plt.ylabel('Base Imponible', fontsize = 16)\n",
        "plt.grid()"
      ],
      "execution_count": 29,
      "outputs": [
        {
          "output_type": "display_data",
          "data": {
            "text/plain": [
              "<Figure size 936x504 with 2 Axes>"
            ],
            "image/png": "[encoded data removed]"
          },
          "metadata": {
            "needs_background": "light"
          }
        }
      ]
    },
    {
      "cell_type": "code",
      "metadata": {
        "colab": {
          "base_uri": "https://localhost:8080/",
          "height": 458
        },
        "id": "-lZnJpdJzmB5",
        "outputId": "8a9f5fb8-efc7-4b9a-ee38-0f3314114a26"
      },
      "source": [
        "plt.figure(figsize = (13, 7))\n",
        "s = plt.scatter(modelo01_results['fecha'], modelo01_results['base imponible'], \n",
        "                c = modelo01_results[\"Anomaly\"], cmap = 'coolwarm')\n",
        "plt.colorbar(s, label = '')\n",
        "plt.xlabel('Fecha', fontsize = 16)\n",
        "plt.ylabel('Base Imponible', fontsize = 16)\n",
        "plt.grid()"
      ],
      "execution_count": 30,
      "outputs": [
        {
          "output_type": "display_data",
          "data": {
            "text/plain": [
              "<Figure size 936x504 with 2 Axes>"
            ],
            "image/png": "[encoded data removed]"
          },
          "metadata": {
            "needs_background": "light"
          }
        }
      ]
    },
    {
      "cell_type": "markdown",
      "metadata": {
        "id": "uYWNiN1P12FF"
      },
      "source": [
        "# Modelo Cluster"
      ]
    },
    {
      "cell_type": "code",
      "metadata": {
        "colab": {
          "base_uri": "https://localhost:8080/",
          "height": 470,
          "referenced_widgets": [
            "44b129a888504f26ae861b706b052ade",
            "5ad5e7785ec7400cac7dadd051bbed05",
            "bce193143dd54ad98713009287af4bee",
            "ba96cb51c4bf49b9a914df5286268a91",
            "ab089704b9694c83851b32dddfc3b29e",
            "a7a9bbde107e4f839d9acaa60f1a4121",
            "73dac10c77124098933e053431731ce8",
            "a2a6e1c6746e415eaa666a97baffda09",
            "281f668d08a542269538b328d607ee45",
            "79c7367a2aca4621b23702401e288b4f",
            "5bd66884f1c04ee8825788032c2a251b"
          ]
        },
        "id": "xwJ8FkKr2AFN",
        "outputId": "cd4db7f9-363e-4310-c8de-d7c20d5629b0"
      },
      "source": [
        "modelo02 = create_model('cluster')\n",
        "print(modelo02)\n",
        "modelo02_results = assign_model(modelo02)\n",
        "modelo02_results.sort_index(inplace=True)\n",
        "modelo02_results"
      ],
      "execution_count": 31,
      "outputs": [
        {
          "output_type": "display_data",
          "data": {
            "text/plain": [
              "<IPython.core.display.HTML object>"
            ],
            "text/html": []
          },
          "metadata": {}
        },
        {
          "output_type": "display_data",
          "data": {
            "text/plain": [
              "<IPython.core.display.HTML object>"
            ],
            "text/html": []
          },
          "metadata": {}
        },
        {
          "output_type": "display_data",
          "data": {
            "text/plain": [
              "Processing:   0%|          | 0/3 [00:00<?, ?it/s]"
            ],
            "application/vnd.jupyter.widget-view+json": {
              "version_major": 2,
              "version_minor": 0,
              "model_id": "44b129a888504f26ae861b706b052ade"
            }
          },
          "metadata": {
            "application/vnd.jupyter.widget-view+json": {
              "colab": {
                "custom_widget_manager": {
                  "url": "https://ssl.gstatic.com/colaboratory-static/widgets/colab-cdn-widget-manager/d2e234f7cc04bf79/manager.min.js"
                }
              }
            }
          }
        },
        {
          "output_type": "display_data",
          "data": {
            "text/plain": [
              "<IPython.core.display.HTML object>"
            ],
            "text/html": []
          },
          "metadata": {}
        },
        {
          "output_type": "stream",
          "name": "stdout",
          "text": [
            "CBLOF(alpha=0.9, beta=5, check_estimator=False, clustering_estimator=None,\n",
            "   contamination=0.05, n_clusters=8, n_jobs=None, random_state=123,\n",
            "   use_weights=False)\n"
          ]
        },
        {
          "output_type": "execute_result",
          "data": {
            "text/plain": [
              "    base imponible      fecha  Anomaly  Anomaly_Score\n",
              "0     1.542649e+06 2015-01-01        0       0.816535\n",
              "1     2.826481e+06 2015-02-01        0       0.609312\n",
              "2     2.819790e+06 2015-03-01        0       0.534507\n",
              "3     2.904494e+06 2015-04-01        0       0.614523\n",
              "4     3.039688e+06 2015-05-01        0       0.803913\n",
              "..             ...        ...      ...            ...\n",
              "74    1.111656e+07 2021-04-01        0       0.130211\n",
              "75    9.678824e+06 2021-05-01        0       0.578546\n",
              "76    1.321430e+07 2021-06-01        0       0.910967\n",
              "77    2.126884e+07 2021-07-01        1       3.079460\n",
              "78    1.636974e+07 2021-08-01        1       1.970075\n",
              "\n",
              "[79 rows x 4 columns]"
            ],
            "text/html": [
              "\n",
              "  <div id=\"df-8b61fdb9-0cee-4fb1-a4d7-68355acbead5\">\n",
              "    <div class=\"colab-df-container\">\n",
              "      <div>\n",
              "<style scoped>\n",
              "    .dataframe tbody tr th:only-of-type {\n",
              "        vertical-align: middle;\n",
              "    }\n",
              "\n",
              "    .dataframe tbody tr th {\n",
              "        vertical-align: top;\n",
              "    }\n",
              "\n",
              "    .dataframe thead th {\n",
              "        text-align: right;\n",
              "    }\n",
              "</style>\n",
              "<table border=\"1\" class=\"dataframe\">\n",
              "  <thead>\n",
              "    <tr style=\"text-align: right;\">\n",
              "      <th></th>\n",
              "      <th>base imponible</th>\n",
              "      <th>fecha</th>\n",
              "      <th>Anomaly</th>\n",
              "      <th>Anomaly_Score</th>\n",
              "    </tr>\n",
              "  </thead>\n",
              "  <tbody>\n",
              "    <tr>\n",
              "      <th>0</th>\n",
              "      <td>1.542649e+06</td>\n",
              "      <td>2015-01-01</td>\n",
              "      <td>0</td>\n",
              "      <td>0.816535</td>\n",
              "    </tr>\n",
              "    <tr>\n",
              "      <th>1</th>\n",
              "      <td>2.826481e+06</td>\n",
              "      <td>2015-02-01</td>\n",
              "      <td>0</td>\n",
              "      <td>0.609312</td>\n",
              "    </tr>\n",
              "    <tr>\n",
              "      <th>2</th>\n",
              "      <td>2.819790e+06</td>\n",
              "      <td>2015-03-01</td>\n",
              "      <td>0</td>\n",
              "      <td>0.534507</td>\n",
              "    </tr>\n",
              "    <tr>\n",
              "      <th>3</th>\n",
              "      <td>2.904494e+06</td>\n",
              "      <td>2015-04-01</td>\n",
              "      <td>0</td>\n",
              "      <td>0.614523</td>\n",
              "    </tr>\n",
              "    <tr>\n",
              "      <th>4</th>\n",
              "      <td>3.039688e+06</td>\n",
              "      <td>2015-05-01</td>\n",
              "      <td>0</td>\n",
              "      <td>0.803913</td>\n",
              "    </tr>\n",
              "    <tr>\n",
              "      <th>...</th>\n",
              "      <td>...</td>\n",
              "      <td>...</td>\n",
              "      <td>...</td>\n",
              "      <td>...</td>\n",
              "    </tr>\n",
              "    <tr>\n",
              "      <th>74</th>\n",
              "      <td>1.111656e+07</td>\n",
              "      <td>2021-04-01</td>\n",
              "      <td>0</td>\n",
              "      <td>0.130211</td>\n",
              "    </tr>\n",
              "    <tr>\n",
              "      <th>75</th>\n",
              "      <td>9.678824e+06</td>\n",
              "      <td>2021-05-01</td>\n",
              "      <td>0</td>\n",
              "      <td>0.578546</td>\n",
              "    </tr>\n",
              "    <tr>\n",
              "      <th>76</th>\n",
              "      <td>1.321430e+07</td>\n",
              "      <td>2021-06-01</td>\n",
              "      <td>0</td>\n",
              "      <td>0.910967</td>\n",
              "    </tr>\n",
              "    <tr>\n",
              "      <th>77</th>\n",
              "      <td>2.126884e+07</td>\n",
              "      <td>2021-07-01</td>\n",
              "      <td>1</td>\n",
              "      <td>3.079460</td>\n",
              "    </tr>\n",
              "    <tr>\n",
              "      <th>78</th>\n",
              "      <td>1.636974e+07</td>\n",
              "      <td>2021-08-01</td>\n",
              "      <td>1</td>\n",
              "      <td>1.970075</td>\n",
              "    </tr>\n",
              "  </tbody>\n",
              "</table>\n",
              "<p>79 rows × 4 columns</p>\n",
              "</div>\n",
              "      <button class=\"colab-df-convert\" onclick=\"convertToInteractive('df-8b61fdb9-0cee-4fb1-a4d7-68355acbead5')\"\n",
              "              title=\"Convert this dataframe to an interactive table.\"\n",
              "              style=\"display:none;\">\n",
              "        \n",
              "  <svg xmlns=\"http://www.w3.org/2000/svg\" height=\"24px\"viewBox=\"0 0 24 24\"\n",
              "       width=\"24px\">\n",
              "    <path d=\"M0 0h24v24H0V0z\" fill=\"none\"/>\n",
              "    <path d=\"M18.56 5.44l.94 2.06.94-2.06 2.06-.94-2.06-.94-.94-2.06-.94 2.06-2.06.94zm-11 1L8.5 8.5l.94-2.06 2.06-.94-2.06-.94L8.5 2.5l-.94 2.06-2.06.94zm10 10l.94 2.06.94-2.06 2.06-.94-2.06-.94-.94-2.06-.94 2.06-2.06.94z\"/><path d=\"M17.41 7.96l-1.37-1.37c-.4-.4-.92-.59-1.43-.59-.52 0-1.04.2-1.43.59L10.3 9.45l-7.72 7.72c-.78.78-.78 2.05 0 2.83L4 21.41c.39.39.9.59 1.41.59.51 0 1.02-.2 1.41-.59l7.78-7.78 2.81-2.81c.8-.78.8-2.07 0-2.86zM5.41 20L4 18.59l7.72-7.72 1.47 1.35L5.41 20z\"/>\n",
              "  </svg>\n",
              "      </button>\n",
              "      \n",
              "  <style>\n",
              "    .colab-df-container {\n",
              "      display:flex;\n",
              "      flex-wrap:wrap;\n",
              "      gap: 12px;\n",
              "    }\n",
              "\n",
              "    .colab-df-convert {\n",
              "      background-color: #E8F0FE;\n",
              "      border: none;\n",
              "      border-radius: 50%;\n",
              "      cursor: pointer;\n",
              "      display: none;\n",
              "      fill: #1967D2;\n",
              "      height: 32px;\n",
              "      padding: 0 0 0 0;\n",
              "      width: 32px;\n",
              "    }\n",
              "\n",
              "    .colab-df-convert:hover {\n",
              "      background-color: #E2EBFA;\n",
              "      box-shadow: 0px 1px 2px rgba(60, 64, 67, 0.3), 0px 1px 3px 1px rgba(60, 64, 67, 0.15);\n",
              "      fill: #174EA6;\n",
              "    }\n",
              "\n",
              "    [theme=dark] .colab-df-convert {\n",
              "      background-color: #3B4455;\n",
              "      fill: #D2E3FC;\n",
              "    }\n",
              "\n",
              "    [theme=dark] .colab-df-convert:hover {\n",
              "      background-color: #434B5C;\n",
              "      box-shadow: 0px 1px 3px 1px rgba(0, 0, 0, 0.15);\n",
              "      filter: drop-shadow(0px 1px 2px rgba(0, 0, 0, 0.3));\n",
              "      fill: #FFFFFF;\n",
              "    }\n",
              "  </style>\n",
              "\n",
              "      <script>\n",
              "        const buttonEl =\n",
              "          document.querySelector('#df-8b61fdb9-0cee-4fb1-a4d7-68355acbead5 button.colab-df-convert');\n",
              "        buttonEl.style.display =\n",
              "          google.colab.kernel.accessAllowed ? 'block' : 'none';\n",
              "\n",
              "        async function convertToInteractive(key) {\n",
              "          const element = document.querySelector('#df-8b61fdb9-0cee-4fb1-a4d7-68355acbead5');\n",
              "          const dataTable =\n",
              "            await google.colab.kernel.invokeFunction('convertToInteractive',\n",
              "                                                     [key], {});\n",
              "          if (!dataTable) return;\n",
              "\n",
              "          const docLinkHtml = 'Like what you see? Visit the ' +\n",
              "            '<a target=\"_blank\" href=https://colab.research.google.com/notebooks/data_table.ipynb>data table notebook</a>'\n",
              "            + ' to learn more about interactive tables.';\n",
              "          element.innerHTML = '';\n",
              "          dataTable['output_type'] = 'display_data';\n",
              "          await google.colab.output.renderOutput(dataTable, element);\n",
              "          const docLink = document.createElement('div');\n",
              "          docLink.innerHTML = docLinkHtml;\n",
              "          element.appendChild(docLink);\n",
              "        }\n",
              "      </script>\n",
              "    </div>\n",
              "  </div>\n",
              "  "
            ]
          },
          "metadata": {},
          "execution_count": 31
        }
      ]
    },
    {
      "cell_type": "code",
      "metadata": {
        "colab": {
          "base_uri": "https://localhost:8080/",
          "height": 458
        },
        "id": "eKR4jD412R64",
        "outputId": "8fa089db-74dc-44cc-9c23-51a2192c1410"
      },
      "source": [
        "plt.figure(figsize = (13, 7))\n",
        "s = plt.scatter(modelo02_results['fecha'], modelo02_results['base imponible'], \n",
        "                c = modelo02_results[\"Anomaly_Score\"], cmap = 'coolwarm')\n",
        "plt.colorbar(s, label = '')\n",
        "plt.xlabel('Fecha', fontsize = 16)\n",
        "plt.ylabel('Base Imponible', fontsize = 16)\n",
        "plt.grid()"
      ],
      "execution_count": 32,
      "outputs": [
        {
          "output_type": "display_data",
          "data": {
            "text/plain": [
              "<Figure size 936x504 with 2 Axes>"
            ],
            "image/png": "[encoded data removed]"
          },
          "metadata": {
            "needs_background": "light"
          }
        }
      ]
    },
    {
      "cell_type": "code",
      "metadata": {
        "colab": {
          "base_uri": "https://localhost:8080/",
          "height": 458
        },
        "id": "QMhz9bQO2YDk",
        "outputId": "3a55f9fd-d2c9-4afe-a918-ff166914d0fa"
      },
      "source": [
        "plt.figure(figsize = (13, 7))\n",
        "s = plt.scatter(modelo02_results['fecha'], modelo02_results['base imponible'], \n",
        "                c = modelo02_results[\"Anomaly\"], cmap = 'coolwarm')\n",
        "plt.colorbar(s, label = '')\n",
        "plt.xlabel('Fecha', fontsize = 16)\n",
        "plt.ylabel('Base Imponible', fontsize = 16)\n",
        "plt.grid()"
      ],
      "execution_count": 33,
      "outputs": [
        {
          "output_type": "display_data",
          "data": {
            "text/plain": [
              "<Figure size 936x504 with 2 Axes>"
            ],
            "image/png": "[encoded data removed]"
          },
          "metadata": {
            "needs_background": "light"
          }
        }
      ]
    },
    {
      "cell_type": "markdown",
      "metadata": {
        "id": "B-gDFWhb237h"
      },
      "source": [
        "# Modelo cof"
      ]
    },
    {
      "cell_type": "code",
      "metadata": {
        "colab": {
          "base_uri": "https://localhost:8080/",
          "height": 436,
          "referenced_widgets": [
            "1bd94f27369841fda5f71371f723e5ed",
            "ec9680a21bfb4a37b3ec14866655df08",
            "206d422766ce40668be163556b18ce85",
            "02fb4dfcc9aa4da192ab04f1ed28d6f1",
            "94fb0f761c584dcd99ead8d0b6a51a0e",
            "2008ed123b1c4e19bbe475282b96cb16",
            "dc35b2b84dd3461985a861864b22ba97",
            "644fa87293f5404ea1db3ca03b41ec5b",
            "2ab855f993bc411c8bff51cd9628d963",
            "9da71db0eaeb48769506c20b46f48adb",
            "d849a8a7a3b2447e8833f700c2afb5f3"
          ]
        },
        "id": "U_Ul1gzn3A1K",
        "outputId": "5e39b1d1-eb3d-49a0-8e0a-577dabcf8eba"
      },
      "source": [
        "modelo03 = create_model('cof')\n",
        "print(modelo03)\n",
        "modelo03_results = assign_model(modelo03)\n",
        "modelo03_results.sort_index(inplace=True)\n",
        "modelo03_results"
      ],
      "execution_count": 34,
      "outputs": [
        {
          "output_type": "display_data",
          "data": {
            "text/plain": [
              "<IPython.core.display.HTML object>"
            ],
            "text/html": []
          },
          "metadata": {}
        },
        {
          "output_type": "display_data",
          "data": {
            "text/plain": [
              "<IPython.core.display.HTML object>"
            ],
            "text/html": []
          },
          "metadata": {}
        },
        {
          "output_type": "display_data",
          "data": {
            "text/plain": [
              "Processing:   0%|          | 0/3 [00:00<?, ?it/s]"
            ],
            "application/vnd.jupyter.widget-view+json": {
              "version_major": 2,
              "version_minor": 0,
              "model_id": "1bd94f27369841fda5f71371f723e5ed"
            }
          },
          "metadata": {
            "application/vnd.jupyter.widget-view+json": {
              "colab": {
                "custom_widget_manager": {
                  "url": "https://ssl.gstatic.com/colaboratory-static/widgets/colab-cdn-widget-manager/d2e234f7cc04bf79/manager.min.js"
                }
              }
            }
          }
        },
        {
          "output_type": "display_data",
          "data": {
            "text/plain": [
              "<IPython.core.display.HTML object>"
            ],
            "text/html": []
          },
          "metadata": {}
        },
        {
          "output_type": "stream",
          "name": "stdout",
          "text": [
            "COF(contamination=0.05, method='fast', n_neighbors=None)\n"
          ]
        },
        {
          "output_type": "execute_result",
          "data": {
            "text/plain": [
              "    base imponible      fecha  Anomaly  Anomaly_Score\n",
              "0     1.542649e+06 2015-01-01        0       1.000437\n",
              "1     2.826481e+06 2015-02-01        0       0.994493\n",
              "2     2.819790e+06 2015-03-01        0       0.965563\n",
              "3     2.904494e+06 2015-04-01        0       0.961907\n",
              "4     3.039688e+06 2015-05-01        0       0.967443\n",
              "..             ...        ...      ...            ...\n",
              "74    1.111656e+07 2021-04-01        0       1.232612\n",
              "75    9.678824e+06 2021-05-01        0       1.201850\n",
              "76    1.321430e+07 2021-06-01        1       1.442601\n",
              "77    2.126884e+07 2021-07-01        1       1.548458\n",
              "78    1.636974e+07 2021-08-01        1       1.562100\n",
              "\n",
              "[79 rows x 4 columns]"
            ],
            "text/html": [
              "\n",
              "  <div id=\"df-45b7ced6-a70f-4e7e-b5e8-915b7ce8ebb6\">\n",
              "    <div class=\"colab-df-container\">\n",
              "      <div>\n",
              "<style scoped>\n",
              "    .dataframe tbody tr th:only-of-type {\n",
              "        vertical-align: middle;\n",
              "    }\n",
              "\n",
              "    .dataframe tbody tr th {\n",
              "        vertical-align: top;\n",
              "    }\n",
              "\n",
              "    .dataframe thead th {\n",
              "        text-align: right;\n",
              "    }\n",
              "</style>\n",
              "<table border=\"1\" class=\"dataframe\">\n",
              "  <thead>\n",
              "    <tr style=\"text-align: right;\">\n",
              "      <th></th>\n",
              "      <th>base imponible</th>\n",
              "      <th>fecha</th>\n",
              "      <th>Anomaly</th>\n",
              "      <th>Anomaly_Score</th>\n",
              "    </tr>\n",
              "  </thead>\n",
              "  <tbody>\n",
              "    <tr>\n",
              "      <th>0</th>\n",
              "      <td>1.542649e+06</td>\n",
              "      <td>2015-01-01</td>\n",
              "      <td>0</td>\n",
              "      <td>1.000437</td>\n",
              "    </tr>\n",
              "    <tr>\n",
              "      <th>1</th>\n",
              "      <td>2.826481e+06</td>\n",
              "      <td>2015-02-01</td>\n",
              "      <td>0</td>\n",
              "      <td>0.994493</td>\n",
              "    </tr>\n",
              "    <tr>\n",
              "      <th>2</th>\n",
              "      <td>2.819790e+06</td>\n",
              "      <td>2015-03-01</td>\n",
              "      <td>0</td>\n",
              "      <td>0.965563</td>\n",
              "    </tr>\n",
              "    <tr>\n",
              "      <th>3</th>\n",
              "      <td>2.904494e+06</td>\n",
              "      <td>2015-04-01</td>\n",
              "      <td>0</td>\n",
              "      <td>0.961907</td>\n",
              "    </tr>\n",
              "    <tr>\n",
              "      <th>4</th>\n",
              "      <td>3.039688e+06</td>\n",
              "      <td>2015-05-01</td>\n",
              "      <td>0</td>\n",
              "      <td>0.967443</td>\n",
              "    </tr>\n",
              "    <tr>\n",
              "      <th>...</th>\n",
              "      <td>...</td>\n",
              "      <td>...</td>\n",
              "      <td>...</td>\n",
              "      <td>...</td>\n",
              "    </tr>\n",
              "    <tr>\n",
              "      <th>74</th>\n",
              "      <td>1.111656e+07</td>\n",
              "      <td>2021-04-01</td>\n",
              "      <td>0</td>\n",
              "      <td>1.232612</td>\n",
              "    </tr>\n",
              "    <tr>\n",
              "      <th>75</th>\n",
              "      <td>9.678824e+06</td>\n",
              "      <td>2021-05-01</td>\n",
              "      <td>0</td>\n",
              "      <td>1.201850</td>\n",
              "    </tr>\n",
              "    <tr>\n",
              "      <th>76</th>\n",
              "      <td>1.321430e+07</td>\n",
              "      <td>2021-06-01</td>\n",
              "      <td>1</td>\n",
              "      <td>1.442601</td>\n",
              "    </tr>\n",
              "    <tr>\n",
              "      <th>77</th>\n",
              "      <td>2.126884e+07</td>\n",
              "      <td>2021-07-01</td>\n",
              "      <td>1</td>\n",
              "      <td>1.548458</td>\n",
              "    </tr>\n",
              "    <tr>\n",
              "      <th>78</th>\n",
              "      <td>1.636974e+07</td>\n",
              "      <td>2021-08-01</td>\n",
              "      <td>1</td>\n",
              "      <td>1.562100</td>\n",
              "    </tr>\n",
              "  </tbody>\n",
              "</table>\n",
              "<p>79 rows × 4 columns</p>\n",
              "</div>\n",
              "      <button class=\"colab-df-convert\" onclick=\"convertToInteractive('df-45b7ced6-a70f-4e7e-b5e8-915b7ce8ebb6')\"\n",
              "              title=\"Convert this dataframe to an interactive table.\"\n",
              "              style=\"display:none;\">\n",
              "        \n",
              "  <svg xmlns=\"http://www.w3.org/2000/svg\" height=\"24px\"viewBox=\"0 0 24 24\"\n",
              "       width=\"24px\">\n",
              "    <path d=\"M0 0h24v24H0V0z\" fill=\"none\"/>\n",
              "    <path d=\"M18.56 5.44l.94 2.06.94-2.06 2.06-.94-2.06-.94-.94-2.06-.94 2.06-2.06.94zm-11 1L8.5 8.5l.94-2.06 2.06-.94-2.06-.94L8.5 2.5l-.94 2.06-2.06.94zm10 10l.94 2.06.94-2.06 2.06-.94-2.06-.94-.94-2.06-.94 2.06-2.06.94z\"/><path d=\"M17.41 7.96l-1.37-1.37c-.4-.4-.92-.59-1.43-.59-.52 0-1.04.2-1.43.59L10.3 9.45l-7.72 7.72c-.78.78-.78 2.05 0 2.83L4 21.41c.39.39.9.59 1.41.59.51 0 1.02-.2 1.41-.59l7.78-7.78 2.81-2.81c.8-.78.8-2.07 0-2.86zM5.41 20L4 18.59l7.72-7.72 1.47 1.35L5.41 20z\"/>\n",
              "  </svg>\n",
              "      </button>\n",
              "      \n",
              "  <style>\n",
              "    .colab-df-container {\n",
              "      display:flex;\n",
              "      flex-wrap:wrap;\n",
              "      gap: 12px;\n",
              "    }\n",
              "\n",
              "    .colab-df-convert {\n",
              "      background-color: #E8F0FE;\n",
              "      border: none;\n",
              "      border-radius: 50%;\n",
              "      cursor: pointer;\n",
              "      display: none;\n",
              "      fill: #1967D2;\n",
              "      height: 32px;\n",
              "      padding: 0 0 0 0;\n",
              "      width: 32px;\n",
              "    }\n",
              "\n",
              "    .colab-df-convert:hover {\n",
              "      background-color: #E2EBFA;\n",
              "      box-shadow: 0px 1px 2px rgba(60, 64, 67, 0.3), 0px 1px 3px 1px rgba(60, 64, 67, 0.15);\n",
              "      fill: #174EA6;\n",
              "    }\n",
              "\n",
              "    [theme=dark] .colab-df-convert {\n",
              "      background-color: #3B4455;\n",
              "      fill: #D2E3FC;\n",
              "    }\n",
              "\n",
              "    [theme=dark] .colab-df-convert:hover {\n",
              "      background-color: #434B5C;\n",
              "      box-shadow: 0px 1px 3px 1px rgba(0, 0, 0, 0.15);\n",
              "      filter: drop-shadow(0px 1px 2px rgba(0, 0, 0, 0.3));\n",
              "      fill: #FFFFFF;\n",
              "    }\n",
              "  </style>\n",
              "\n",
              "      <script>\n",
              "        const buttonEl =\n",
              "          document.querySelector('#df-45b7ced6-a70f-4e7e-b5e8-915b7ce8ebb6 button.colab-df-convert');\n",
              "        buttonEl.style.display =\n",
              "          google.colab.kernel.accessAllowed ? 'block' : 'none';\n",
              "\n",
              "        async function convertToInteractive(key) {\n",
              "          const element = document.querySelector('#df-45b7ced6-a70f-4e7e-b5e8-915b7ce8ebb6');\n",
              "          const dataTable =\n",
              "            await google.colab.kernel.invokeFunction('convertToInteractive',\n",
              "                                                     [key], {});\n",
              "          if (!dataTable) return;\n",
              "\n",
              "          const docLinkHtml = 'Like what you see? Visit the ' +\n",
              "            '<a target=\"_blank\" href=https://colab.research.google.com/notebooks/data_table.ipynb>data table notebook</a>'\n",
              "            + ' to learn more about interactive tables.';\n",
              "          element.innerHTML = '';\n",
              "          dataTable['output_type'] = 'display_data';\n",
              "          await google.colab.output.renderOutput(dataTable, element);\n",
              "          const docLink = document.createElement('div');\n",
              "          docLink.innerHTML = docLinkHtml;\n",
              "          element.appendChild(docLink);\n",
              "        }\n",
              "      </script>\n",
              "    </div>\n",
              "  </div>\n",
              "  "
            ]
          },
          "metadata": {},
          "execution_count": 34
        }
      ]
    },
    {
      "cell_type": "code",
      "metadata": {
        "colab": {
          "base_uri": "https://localhost:8080/",
          "height": 458
        },
        "id": "jzagvJIA3PJT",
        "outputId": "d5f72636-bb6d-48fa-e38f-de1504843f47"
      },
      "source": [
        "plt.figure(figsize = (13, 7))\n",
        "s = plt.scatter(modelo03_results['fecha'], modelo03_results['base imponible'], \n",
        "                c = modelo03_results[\"Anomaly_Score\"], cmap = 'coolwarm')\n",
        "plt.colorbar(s, label = '')\n",
        "plt.xlabel('Fecha', fontsize = 16)\n",
        "plt.ylabel('Base Imponible', fontsize = 16)\n",
        "plt.grid()"
      ],
      "execution_count": 35,
      "outputs": [
        {
          "output_type": "display_data",
          "data": {
            "text/plain": [
              "<Figure size 936x504 with 2 Axes>"
            ],
            "image/png": "[encoded data removed]"
          },
          "metadata": {
            "needs_background": "light"
          }
        }
      ]
    },
    {
      "cell_type": "code",
      "metadata": {
        "colab": {
          "base_uri": "https://localhost:8080/",
          "height": 458
        },
        "id": "DNKi6hA03dEP",
        "outputId": "20b7e914-b186-452d-cc0d-214d30cea764"
      },
      "source": [
        "plt.figure(figsize = (13, 7))\n",
        "s = plt.scatter(modelo03_results['fecha'], modelo03_results['base imponible'], \n",
        "                c = modelo03_results[\"Anomaly\"], cmap = 'coolwarm')\n",
        "plt.colorbar(s, label = '')\n",
        "plt.xlabel('Fecha', fontsize = 16)\n",
        "plt.ylabel('Base Imponible', fontsize = 16)\n",
        "plt.grid()"
      ],
      "execution_count": 36,
      "outputs": [
        {
          "output_type": "display_data",
          "data": {
            "text/plain": [
              "<Figure size 936x504 with 2 Axes>"
            ],
            "image/png": "[encoded data removed]"
          },
          "metadata": {
            "needs_background": "light"
          }
        }
      ]
    },
    {
      "cell_type": "markdown",
      "metadata": {
        "id": "E7YAydXg3xVX"
      },
      "source": [
        "# Modelo iforest"
      ]
    },
    {
      "cell_type": "code",
      "metadata": {
        "colab": {
          "base_uri": "https://localhost:8080/",
          "height": 470,
          "referenced_widgets": [
            "9fe504e753ec4d35a601282fbf1d3a71",
            "dbabfed91b1f4491ba125b8cd37fee4a",
            "056e4fe4d68d44caa953c29aaefb03c6",
            "24d70175927d4b8ea58b561b0185a2c7",
            "06777cc6e5ac4a5f8f1f3c6b27fe184e",
            "a15f10dfaaec40f3ac3250efcc4652f9",
            "67c56c44969540359f2699e189478c79",
            "e02cad5577f446dcbeb2ba11b2ef49f9",
            "911203a5dfc74333bdd4e05e0872847e",
            "c423e280cc9c4f1b8103d99eb5dba9ba",
            "e057dd9a8c544e058ab3880d2aaed7a1"
          ]
        },
        "id": "nl4J7V_o32s0",
        "outputId": "f8ea8161-3fa0-4754-d528-4ef2283c107b"
      },
      "source": [
        "modelo04 = create_model('iforest')\n",
        "print(modelo04)\n",
        "modelo04_results = assign_model(modelo04)\n",
        "modelo04_results.sort_index(inplace=True)\n",
        "modelo04_results"
      ],
      "execution_count": 37,
      "outputs": [
        {
          "output_type": "display_data",
          "data": {
            "text/plain": [
              "<IPython.core.display.HTML object>"
            ],
            "text/html": []
          },
          "metadata": {}
        },
        {
          "output_type": "display_data",
          "data": {
            "text/plain": [
              "<IPython.core.display.HTML object>"
            ],
            "text/html": []
          },
          "metadata": {}
        },
        {
          "output_type": "display_data",
          "data": {
            "text/plain": [
              "Processing:   0%|          | 0/3 [00:00<?, ?it/s]"
            ],
            "application/vnd.jupyter.widget-view+json": {
              "version_major": 2,
              "version_minor": 0,
              "model_id": "9fe504e753ec4d35a601282fbf1d3a71"
            }
          },
          "metadata": {
            "application/vnd.jupyter.widget-view+json": {
              "colab": {
                "custom_widget_manager": {
                  "url": "https://ssl.gstatic.com/colaboratory-static/widgets/colab-cdn-widget-manager/d2e234f7cc04bf79/manager.min.js"
                }
              }
            }
          }
        },
        {
          "output_type": "display_data",
          "data": {
            "text/plain": [
              "<IPython.core.display.HTML object>"
            ],
            "text/html": []
          },
          "metadata": {}
        },
        {
          "output_type": "stream",
          "name": "stdout",
          "text": [
            "IForest(behaviour='new', bootstrap=False, contamination=0.05,\n",
            "    max_features=1.0, max_samples='auto', n_estimators=100, n_jobs=-1,\n",
            "    random_state=123, verbose=0)\n"
          ]
        },
        {
          "output_type": "execute_result",
          "data": {
            "text/plain": [
              "    base imponible      fecha  Anomaly  Anomaly_Score\n",
              "0     1.542649e+06 2015-01-01        1       0.002435\n",
              "1     2.826481e+06 2015-02-01        0      -0.069465\n",
              "2     2.819790e+06 2015-03-01        0      -0.079041\n",
              "3     2.904494e+06 2015-04-01        0      -0.084452\n",
              "4     3.039688e+06 2015-05-01        0      -0.090722\n",
              "..             ...        ...      ...            ...\n",
              "74    1.111656e+07 2021-04-01        0      -0.053778\n",
              "75    9.678824e+06 2021-05-01        0      -0.044109\n",
              "76    1.321430e+07 2021-06-01        0      -0.007378\n",
              "77    2.126884e+07 2021-07-01        1       0.098299\n",
              "78    1.636974e+07 2021-08-01        1       0.045292\n",
              "\n",
              "[79 rows x 4 columns]"
            ],
            "text/html": [
              "\n",
              "  <div id=\"df-1eb65a98-eeba-48e9-aa53-a6a908e2a6f3\">\n",
              "    <div class=\"colab-df-container\">\n",
              "      <div>\n",
              "<style scoped>\n",
              "    .dataframe tbody tr th:only-of-type {\n",
              "        vertical-align: middle;\n",
              "    }\n",
              "\n",
              "    .dataframe tbody tr th {\n",
              "        vertical-align: top;\n",
              "    }\n",
              "\n",
              "    .dataframe thead th {\n",
              "        text-align: right;\n",
              "    }\n",
              "</style>\n",
              "<table border=\"1\" class=\"dataframe\">\n",
              "  <thead>\n",
              "    <tr style=\"text-align: right;\">\n",
              "      <th></th>\n",
              "      <th>base imponible</th>\n",
              "      <th>fecha</th>\n",
              "      <th>Anomaly</th>\n",
              "      <th>Anomaly_Score</th>\n",
              "    </tr>\n",
              "  </thead>\n",
              "  <tbody>\n",
              "    <tr>\n",
              "      <th>0</th>\n",
              "      <td>1.542649e+06</td>\n",
              "      <td>2015-01-01</td>\n",
              "      <td>1</td>\n",
              "      <td>0.002435</td>\n",
              "    </tr>\n",
              "    <tr>\n",
              "      <th>1</th>\n",
              "      <td>2.826481e+06</td>\n",
              "      <td>2015-02-01</td>\n",
              "      <td>0</td>\n",
              "      <td>-0.069465</td>\n",
              "    </tr>\n",
              "    <tr>\n",
              "      <th>2</th>\n",
              "      <td>2.819790e+06</td>\n",
              "      <td>2015-03-01</td>\n",
              "      <td>0</td>\n",
              "      <td>-0.079041</td>\n",
              "    </tr>\n",
              "    <tr>\n",
              "      <th>3</th>\n",
              "      <td>2.904494e+06</td>\n",
              "      <td>2015-04-01</td>\n",
              "      <td>0</td>\n",
              "      <td>-0.084452</td>\n",
              "    </tr>\n",
              "    <tr>\n",
              "      <th>4</th>\n",
              "      <td>3.039688e+06</td>\n",
              "      <td>2015-05-01</td>\n",
              "      <td>0</td>\n",
              "      <td>-0.090722</td>\n",
              "    </tr>\n",
              "    <tr>\n",
              "      <th>...</th>\n",
              "      <td>...</td>\n",
              "      <td>...</td>\n",
              "      <td>...</td>\n",
              "      <td>...</td>\n",
              "    </tr>\n",
              "    <tr>\n",
              "      <th>74</th>\n",
              "      <td>1.111656e+07</td>\n",
              "      <td>2021-04-01</td>\n",
              "      <td>0</td>\n",
              "      <td>-0.053778</td>\n",
              "    </tr>\n",
              "    <tr>\n",
              "      <th>75</th>\n",
              "      <td>9.678824e+06</td>\n",
              "      <td>2021-05-01</td>\n",
              "      <td>0</td>\n",
              "      <td>-0.044109</td>\n",
              "    </tr>\n",
              "    <tr>\n",
              "      <th>76</th>\n",
              "      <td>1.321430e+07</td>\n",
              "      <td>2021-06-01</td>\n",
              "      <td>0</td>\n",
              "      <td>-0.007378</td>\n",
              "    </tr>\n",
              "    <tr>\n",
              "      <th>77</th>\n",
              "      <td>2.126884e+07</td>\n",
              "      <td>2021-07-01</td>\n",
              "      <td>1</td>\n",
              "      <td>0.098299</td>\n",
              "    </tr>\n",
              "    <tr>\n",
              "      <th>78</th>\n",
              "      <td>1.636974e+07</td>\n",
              "      <td>2021-08-01</td>\n",
              "      <td>1</td>\n",
              "      <td>0.045292</td>\n",
              "    </tr>\n",
              "  </tbody>\n",
              "</table>\n",
              "<p>79 rows × 4 columns</p>\n",
              "</div>\n",
              "      <button class=\"colab-df-convert\" onclick=\"convertToInteractive('df-1eb65a98-eeba-48e9-aa53-a6a908e2a6f3')\"\n",
              "              title=\"Convert this dataframe to an interactive table.\"\n",
              "              style=\"display:none;\">\n",
              "        \n",
              "  <svg xmlns=\"http://www.w3.org/2000/svg\" height=\"24px\"viewBox=\"0 0 24 24\"\n",
              "       width=\"24px\">\n",
              "    <path d=\"M0 0h24v24H0V0z\" fill=\"none\"/>\n",
              "    <path d=\"M18.56 5.44l.94 2.06.94-2.06 2.06-.94-2.06-.94-.94-2.06-.94 2.06-2.06.94zm-11 1L8.5 8.5l.94-2.06 2.06-.94-2.06-.94L8.5 2.5l-.94 2.06-2.06.94zm10 10l.94 2.06.94-2.06 2.06-.94-2.06-.94-.94-2.06-.94 2.06-2.06.94z\"/><path d=\"M17.41 7.96l-1.37-1.37c-.4-.4-.92-.59-1.43-.59-.52 0-1.04.2-1.43.59L10.3 9.45l-7.72 7.72c-.78.78-.78 2.05 0 2.83L4 21.41c.39.39.9.59 1.41.59.51 0 1.02-.2 1.41-.59l7.78-7.78 2.81-2.81c.8-.78.8-2.07 0-2.86zM5.41 20L4 18.59l7.72-7.72 1.47 1.35L5.41 20z\"/>\n",
              "  </svg>\n",
              "      </button>\n",
              "      \n",
              "  <style>\n",
              "    .colab-df-container {\n",
              "      display:flex;\n",
              "      flex-wrap:wrap;\n",
              "      gap: 12px;\n",
              "    }\n",
              "\n",
              "    .colab-df-convert {\n",
              "      background-color: #E8F0FE;\n",
              "      border: none;\n",
              "      border-radius: 50%;\n",
              "      cursor: pointer;\n",
              "      display: none;\n",
              "      fill: #1967D2;\n",
              "      height: 32px;\n",
              "      padding: 0 0 0 0;\n",
              "      width: 32px;\n",
              "    }\n",
              "\n",
              "    .colab-df-convert:hover {\n",
              "      background-color: #E2EBFA;\n",
              "      box-shadow: 0px 1px 2px rgba(60, 64, 67, 0.3), 0px 1px 3px 1px rgba(60, 64, 67, 0.15);\n",
              "      fill: #174EA6;\n",
              "    }\n",
              "\n",
              "    [theme=dark] .colab-df-convert {\n",
              "      background-color: #3B4455;\n",
              "      fill: #D2E3FC;\n",
              "    }\n",
              "\n",
              "    [theme=dark] .colab-df-convert:hover {\n",
              "      background-color: #434B5C;\n",
              "      box-shadow: 0px 1px 3px 1px rgba(0, 0, 0, 0.15);\n",
              "      filter: drop-shadow(0px 1px 2px rgba(0, 0, 0, 0.3));\n",
              "      fill: #FFFFFF;\n",
              "    }\n",
              "  </style>\n",
              "\n",
              "      <script>\n",
              "        const buttonEl =\n",
              "          document.querySelector('#df-1eb65a98-eeba-48e9-aa53-a6a908e2a6f3 button.colab-df-convert');\n",
              "        buttonEl.style.display =\n",
              "          google.colab.kernel.accessAllowed ? 'block' : 'none';\n",
              "\n",
              "        async function convertToInteractive(key) {\n",
              "          const element = document.querySelector('#df-1eb65a98-eeba-48e9-aa53-a6a908e2a6f3');\n",
              "          const dataTable =\n",
              "            await google.colab.kernel.invokeFunction('convertToInteractive',\n",
              "                                                     [key], {});\n",
              "          if (!dataTable) return;\n",
              "\n",
              "          const docLinkHtml = 'Like what you see? Visit the ' +\n",
              "            '<a target=\"_blank\" href=https://colab.research.google.com/notebooks/data_table.ipynb>data table notebook</a>'\n",
              "            + ' to learn more about interactive tables.';\n",
              "          element.innerHTML = '';\n",
              "          dataTable['output_type'] = 'display_data';\n",
              "          await google.colab.output.renderOutput(dataTable, element);\n",
              "          const docLink = document.createElement('div');\n",
              "          docLink.innerHTML = docLinkHtml;\n",
              "          element.appendChild(docLink);\n",
              "        }\n",
              "      </script>\n",
              "    </div>\n",
              "  </div>\n",
              "  "
            ]
          },
          "metadata": {},
          "execution_count": 37
        }
      ]
    },
    {
      "cell_type": "code",
      "metadata": {
        "colab": {
          "base_uri": "https://localhost:8080/",
          "height": 458
        },
        "id": "Ku9PYb6A4DQu",
        "outputId": "22e039b4-4a22-43d1-ce1d-5fcf3de3715e"
      },
      "source": [
        "plt.figure(figsize = (13, 7))\n",
        "s = plt.scatter(modelo04_results['fecha'], modelo04_results['base imponible'], \n",
        "                c = modelo04_results[\"Anomaly_Score\"], cmap = 'coolwarm')\n",
        "plt.colorbar(s, label = '')\n",
        "plt.xlabel('Fecha', fontsize = 16)\n",
        "plt.ylabel('Base Imponible', fontsize = 16)\n",
        "plt.grid()"
      ],
      "execution_count": 38,
      "outputs": [
        {
          "output_type": "display_data",
          "data": {
            "text/plain": [
              "<Figure size 936x504 with 2 Axes>"
            ],
            "image/png": "[encoded data removed]"
          },
          "metadata": {
            "needs_background": "light"
          }
        }
      ]
    },
    {
      "cell_type": "code",
      "metadata": {
        "colab": {
          "base_uri": "https://localhost:8080/",
          "height": 458
        },
        "id": "tj5-R0yu4QTw",
        "outputId": "d4b45086-ae73-47a7-f1f1-c30752a84f8f"
      },
      "source": [
        "plt.figure(figsize = (13, 7))\n",
        "s = plt.scatter(modelo04_results['fecha'], modelo04_results['base imponible'], \n",
        "                c = modelo04_results[\"Anomaly\"], cmap = 'coolwarm')\n",
        "plt.colorbar(s, label = '')\n",
        "plt.xlabel('Fecha', fontsize = 16)\n",
        "plt.ylabel('Base Imponible', fontsize = 16)\n",
        "plt.grid()"
      ],
      "execution_count": 39,
      "outputs": [
        {
          "output_type": "display_data",
          "data": {
            "text/plain": [
              "<Figure size 936x504 with 2 Axes>"
            ],
            "image/png": "[encoded data removed]"
          },
          "metadata": {
            "needs_background": "light"
          }
        }
      ]
    }
  ]
}