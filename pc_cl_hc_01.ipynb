{
  "nbformat": 4,
  "nbformat_minor": 0,
  "metadata": {
    "colab": {
      "provenance": [],
      "collapsed_sections": [],
      "toc_visible": true,
      "include_colab_link": true
    },
    "kernelspec": {
      "name": "python3",
      "display_name": "Python 3"
    },
    "widgets": {
      "application/vnd.jupyter.widget-state+json": {
        "3e50d669f902441fba044e67348ed1c4": {
          "model_module": "@jupyter-widgets/controls",
          "model_name": "HBoxModel",
          "model_module_version": "1.5.0",
          "state": {
            "_dom_classes": [],
            "_model_module": "@jupyter-widgets/controls",
            "_model_module_version": "1.5.0",
            "_model_name": "HBoxModel",
            "_view_count": null,
            "_view_module": "@jupyter-widgets/controls",
            "_view_module_version": "1.5.0",
            "_view_name": "HBoxView",
            "box_style": "",
            "children": [
              "IPY_MODEL_0e7c4cafc7f14394a95151156d7f4c5d",
              "IPY_MODEL_3115d8db88f648d4a38052c5589f049f",
              "IPY_MODEL_38e9f90fb0d744969ce4cac08083d8bb"
            ],
            "layout": "IPY_MODEL_396df6561d3a44018447ad106a44fc30"
          }
        },
        "0e7c4cafc7f14394a95151156d7f4c5d": {
          "model_module": "@jupyter-widgets/controls",
          "model_name": "HTMLModel",
          "model_module_version": "1.5.0",
          "state": {
            "_dom_classes": [],
            "_model_module": "@jupyter-widgets/controls",
            "_model_module_version": "1.5.0",
            "_model_name": "HTMLModel",
            "_view_count": null,
            "_view_module": "@jupyter-widgets/controls",
            "_view_module_version": "1.5.0",
            "_view_name": "HTMLView",
            "description": "",
            "description_tooltip": null,
            "layout": "IPY_MODEL_6a5d6e4890ba45f495631b18c1c172fd",
            "placeholder": "​",
            "style": "IPY_MODEL_1a2c4a2edd1e4c408a00c8acc8c1a698",
            "value": "Processing:   0%"
          }
        },
        "3115d8db88f648d4a38052c5589f049f": {
          "model_module": "@jupyter-widgets/controls",
          "model_name": "FloatProgressModel",
          "model_module_version": "1.5.0",
          "state": {
            "_dom_classes": [],
            "_model_module": "@jupyter-widgets/controls",
            "_model_module_version": "1.5.0",
            "_model_name": "FloatProgressModel",
            "_view_count": null,
            "_view_module": "@jupyter-widgets/controls",
            "_view_module_version": "1.5.0",
            "_view_name": "ProgressView",
            "bar_style": "",
            "description": "",
            "description_tooltip": null,
            "layout": "IPY_MODEL_175a31b5b4e3483686e09de2e0f6548f",
            "max": 3,
            "min": 0,
            "orientation": "horizontal",
            "style": "IPY_MODEL_e8bdaf3943984e4c82bdc2831ad4270a",
            "value": 3
          }
        },
        "38e9f90fb0d744969ce4cac08083d8bb": {
          "model_module": "@jupyter-widgets/controls",
          "model_name": "HTMLModel",
          "model_module_version": "1.5.0",
          "state": {
            "_dom_classes": [],
            "_model_module": "@jupyter-widgets/controls",
            "_model_module_version": "1.5.0",
            "_model_name": "HTMLModel",
            "_view_count": null,
            "_view_module": "@jupyter-widgets/controls",
            "_view_module_version": "1.5.0",
            "_view_name": "HTMLView",
            "description": "",
            "description_tooltip": null,
            "layout": "IPY_MODEL_2a4e964304ad41589ea7e0ca39315f9e",
            "placeholder": "​",
            "style": "IPY_MODEL_22055cb39bf941eea9e7c1e7970794fd",
            "value": " 0/3 [00:00&lt;?, ?it/s]"
          }
        },
        "396df6561d3a44018447ad106a44fc30": {
          "model_module": "@jupyter-widgets/base",
          "model_name": "LayoutModel",
          "model_module_version": "1.2.0",
          "state": {
            "_model_module": "@jupyter-widgets/base",
            "_model_module_version": "1.2.0",
            "_model_name": "LayoutModel",
            "_view_count": null,
            "_view_module": "@jupyter-widgets/base",
            "_view_module_version": "1.2.0",
            "_view_name": "LayoutView",
            "align_content": null,
            "align_items": null,
            "align_self": null,
            "border": null,
            "bottom": null,
            "display": null,
            "flex": null,
            "flex_flow": null,
            "grid_area": null,
            "grid_auto_columns": null,
            "grid_auto_flow": null,
            "grid_auto_rows": null,
            "grid_column": null,
            "grid_gap": null,
            "grid_row": null,
            "grid_template_areas": null,
            "grid_template_columns": null,
            "grid_template_rows": null,
            "height": null,
            "justify_content": null,
            "justify_items": null,
            "left": null,
            "margin": null,
            "max_height": null,
            "max_width": null,
            "min_height": null,
            "min_width": null,
            "object_fit": null,
            "object_position": null,
            "order": null,
            "overflow": null,
            "overflow_x": null,
            "overflow_y": null,
            "padding": null,
            "right": null,
            "top": null,
            "visibility": "hidden",
            "width": null
          }
        },
        "6a5d6e4890ba45f495631b18c1c172fd": {
          "model_module": "@jupyter-widgets/base",
          "model_name": "LayoutModel",
          "model_module_version": "1.2.0",
          "state": {
            "_model_module": "@jupyter-widgets/base",
            "_model_module_version": "1.2.0",
            "_model_name": "LayoutModel",
            "_view_count": null,
            "_view_module": "@jupyter-widgets/base",
            "_view_module_version": "1.2.0",
            "_view_name": "LayoutView",
            "align_content": null,
            "align_items": null,
            "align_self": null,
            "border": null,
            "bottom": null,
            "display": null,
            "flex": null,
            "flex_flow": null,
            "grid_area": null,
            "grid_auto_columns": null,
            "grid_auto_flow": null,
            "grid_auto_rows": null,
            "grid_column": null,
            "grid_gap": null,
            "grid_row": null,
            "grid_template_areas": null,
            "grid_template_columns": null,
            "grid_template_rows": null,
            "height": null,
            "justify_content": null,
            "justify_items": null,
            "left": null,
            "margin": null,
            "max_height": null,
            "max_width": null,
            "min_height": null,
            "min_width": null,
            "object_fit": null,
            "object_position": null,
            "order": null,
            "overflow": null,
            "overflow_x": null,
            "overflow_y": null,
            "padding": null,
            "right": null,
            "top": null,
            "visibility": null,
            "width": null
          }
        },
        "1a2c4a2edd1e4c408a00c8acc8c1a698": {
          "model_module": "@jupyter-widgets/controls",
          "model_name": "DescriptionStyleModel",
          "model_module_version": "1.5.0",
          "state": {
            "_model_module": "@jupyter-widgets/controls",
            "_model_module_version": "1.5.0",
            "_model_name": "DescriptionStyleModel",
            "_view_count": null,
            "_view_module": "@jupyter-widgets/base",
            "_view_module_version": "1.2.0",
            "_view_name": "StyleView",
            "description_width": ""
          }
        },
        "175a31b5b4e3483686e09de2e0f6548f": {
          "model_module": "@jupyter-widgets/base",
          "model_name": "LayoutModel",
          "model_module_version": "1.2.0",
          "state": {
            "_model_module": "@jupyter-widgets/base",
            "_model_module_version": "1.2.0",
            "_model_name": "LayoutModel",
            "_view_count": null,
            "_view_module": "@jupyter-widgets/base",
            "_view_module_version": "1.2.0",
            "_view_name": "LayoutView",
            "align_content": null,
            "align_items": null,
            "align_self": null,
            "border": null,
            "bottom": null,
            "display": null,
            "flex": null,
            "flex_flow": null,
            "grid_area": null,
            "grid_auto_columns": null,
            "grid_auto_flow": null,
            "grid_auto_rows": null,
            "grid_column": null,
            "grid_gap": null,
            "grid_row": null,
            "grid_template_areas": null,
            "grid_template_columns": null,
            "grid_template_rows": null,
            "height": null,
            "justify_content": null,
            "justify_items": null,
            "left": null,
            "margin": null,
            "max_height": null,
            "max_width": null,
            "min_height": null,
            "min_width": null,
            "object_fit": null,
            "object_position": null,
            "order": null,
            "overflow": null,
            "overflow_x": null,
            "overflow_y": null,
            "padding": null,
            "right": null,
            "top": null,
            "visibility": null,
            "width": null
          }
        },
        "e8bdaf3943984e4c82bdc2831ad4270a": {
          "model_module": "@jupyter-widgets/controls",
          "model_name": "ProgressStyleModel",
          "model_module_version": "1.5.0",
          "state": {
            "_model_module": "@jupyter-widgets/controls",
            "_model_module_version": "1.5.0",
            "_model_name": "ProgressStyleModel",
            "_view_count": null,
            "_view_module": "@jupyter-widgets/base",
            "_view_module_version": "1.2.0",
            "_view_name": "StyleView",
            "bar_color": null,
            "description_width": ""
          }
        },
        "2a4e964304ad41589ea7e0ca39315f9e": {
          "model_module": "@jupyter-widgets/base",
          "model_name": "LayoutModel",
          "model_module_version": "1.2.0",
          "state": {
            "_model_module": "@jupyter-widgets/base",
            "_model_module_version": "1.2.0",
            "_model_name": "LayoutModel",
            "_view_count": null,
            "_view_module": "@jupyter-widgets/base",
            "_view_module_version": "1.2.0",
            "_view_name": "LayoutView",
            "align_content": null,
            "align_items": null,
            "align_self": null,
            "border": null,
            "bottom": null,
            "display": null,
            "flex": null,
            "flex_flow": null,
            "grid_area": null,
            "grid_auto_columns": null,
            "grid_auto_flow": null,
            "grid_auto_rows": null,
            "grid_column": null,
            "grid_gap": null,
            "grid_row": null,
            "grid_template_areas": null,
            "grid_template_columns": null,
            "grid_template_rows": null,
            "height": null,
            "justify_content": null,
            "justify_items": null,
            "left": null,
            "margin": null,
            "max_height": null,
            "max_width": null,
            "min_height": null,
            "min_width": null,
            "object_fit": null,
            "object_position": null,
            "order": null,
            "overflow": null,
            "overflow_x": null,
            "overflow_y": null,
            "padding": null,
            "right": null,
            "top": null,
            "visibility": null,
            "width": null
          }
        },
        "22055cb39bf941eea9e7c1e7970794fd": {
          "model_module": "@jupyter-widgets/controls",
          "model_name": "DescriptionStyleModel",
          "model_module_version": "1.5.0",
          "state": {
            "_model_module": "@jupyter-widgets/controls",
            "_model_module_version": "1.5.0",
            "_model_name": "DescriptionStyleModel",
            "_view_count": null,
            "_view_module": "@jupyter-widgets/base",
            "_view_module_version": "1.2.0",
            "_view_name": "StyleView",
            "description_width": ""
          }
        },
        "1556256f20204fa5977471050c0ddb02": {
          "model_module": "@jupyter-widgets/controls",
          "model_name": "VBoxModel",
          "model_module_version": "1.5.0",
          "state": {
            "_dom_classes": [
              "widget-interact"
            ],
            "_model_module": "@jupyter-widgets/controls",
            "_model_module_version": "1.5.0",
            "_model_name": "VBoxModel",
            "_view_count": null,
            "_view_module": "@jupyter-widgets/controls",
            "_view_module_version": "1.5.0",
            "_view_name": "VBoxView",
            "box_style": "",
            "children": [
              "IPY_MODEL_2432c6acd8144352ad57918e2c470a2d",
              "IPY_MODEL_a30bf816b23a4ed0b868836db276dc63"
            ],
            "layout": "IPY_MODEL_0481019a999143468822223bfeae2855"
          }
        },
        "2432c6acd8144352ad57918e2c470a2d": {
          "model_module": "@jupyter-widgets/controls",
          "model_name": "ToggleButtonsModel",
          "model_module_version": "1.5.0",
          "state": {
            "_dom_classes": [],
            "_model_module": "@jupyter-widgets/controls",
            "_model_module_version": "1.5.0",
            "_model_name": "ToggleButtonsModel",
            "_options_labels": [
              "Pipeline Plot",
              "t-SNE (3d) Dimension Plot",
              "Cluster t-SNE (3d)",
              "Elbow Plot",
              "Silhouette Plot",
              "Distance Plot",
              "Distribution Plot"
            ],
            "_view_count": null,
            "_view_module": "@jupyter-widgets/controls",
            "_view_module_version": "1.5.0",
            "_view_name": "ToggleButtonsView",
            "button_style": "",
            "description": "Plot Type:",
            "description_tooltip": null,
            "disabled": false,
            "icons": [
              ""
            ],
            "index": 0,
            "layout": "IPY_MODEL_0c6da51f0d5f44a8904e2d11cee7b629",
            "style": "IPY_MODEL_324dc73e922f4f9e84a63ad88e27fa9c",
            "tooltips": []
          }
        },
        "a30bf816b23a4ed0b868836db276dc63": {
          "model_module": "@jupyter-widgets/output",
          "model_name": "OutputModel",
          "model_module_version": "1.0.0",
          "state": {
            "_dom_classes": [],
            "_model_module": "@jupyter-widgets/output",
            "_model_module_version": "1.0.0",
            "_model_name": "OutputModel",
            "_view_count": null,
            "_view_module": "@jupyter-widgets/output",
            "_view_module_version": "1.0.0",
            "_view_name": "OutputView",
            "layout": "IPY_MODEL_acd555e28eb143b1873973c22d3b78a9",
            "msg_id": "",
            "outputs": [
              {
                "output_type": "display_data",
                "data": {
                  "text/plain": "<Figure size 1700x600 with 1 Axes>",
                  "image/png": "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\n"
                },
                "metadata": {
                  "needs_background": "light"
                }
              }
            ]
          }
        },
        "0481019a999143468822223bfeae2855": {
          "model_module": "@jupyter-widgets/base",
          "model_name": "LayoutModel",
          "model_module_version": "1.2.0",
          "state": {
            "_model_module": "@jupyter-widgets/base",
            "_model_module_version": "1.2.0",
            "_model_name": "LayoutModel",
            "_view_count": null,
            "_view_module": "@jupyter-widgets/base",
            "_view_module_version": "1.2.0",
            "_view_name": "LayoutView",
            "align_content": null,
            "align_items": null,
            "align_self": null,
            "border": null,
            "bottom": null,
            "display": null,
            "flex": null,
            "flex_flow": null,
            "grid_area": null,
            "grid_auto_columns": null,
            "grid_auto_flow": null,
            "grid_auto_rows": null,
            "grid_column": null,
            "grid_gap": null,
            "grid_row": null,
            "grid_template_areas": null,
            "grid_template_columns": null,
            "grid_template_rows": null,
            "height": null,
            "justify_content": null,
            "justify_items": null,
            "left": null,
            "margin": null,
            "max_height": null,
            "max_width": null,
            "min_height": null,
            "min_width": null,
            "object_fit": null,
            "object_position": null,
            "order": null,
            "overflow": null,
            "overflow_x": null,
            "overflow_y": null,
            "padding": null,
            "right": null,
            "top": null,
            "visibility": null,
            "width": null
          }
        },
        "0c6da51f0d5f44a8904e2d11cee7b629": {
          "model_module": "@jupyter-widgets/base",
          "model_name": "LayoutModel",
          "model_module_version": "1.2.0",
          "state": {
            "_model_module": "@jupyter-widgets/base",
            "_model_module_version": "1.2.0",
            "_model_name": "LayoutModel",
            "_view_count": null,
            "_view_module": "@jupyter-widgets/base",
            "_view_module_version": "1.2.0",
            "_view_name": "LayoutView",
            "align_content": null,
            "align_items": null,
            "align_self": null,
            "border": null,
            "bottom": null,
            "display": null,
            "flex": null,
            "flex_flow": null,
            "grid_area": null,
            "grid_auto_columns": null,
            "grid_auto_flow": null,
            "grid_auto_rows": null,
            "grid_column": null,
            "grid_gap": null,
            "grid_row": null,
            "grid_template_areas": null,
            "grid_template_columns": null,
            "grid_template_rows": null,
            "height": null,
            "justify_content": null,
            "justify_items": null,
            "left": null,
            "margin": null,
            "max_height": null,
            "max_width": null,
            "min_height": null,
            "min_width": null,
            "object_fit": null,
            "object_position": null,
            "order": null,
            "overflow": null,
            "overflow_x": null,
            "overflow_y": null,
            "padding": null,
            "right": null,
            "top": null,
            "visibility": null,
            "width": null
          }
        },
        "324dc73e922f4f9e84a63ad88e27fa9c": {
          "model_module": "@jupyter-widgets/controls",
          "model_name": "ToggleButtonsStyleModel",
          "model_module_version": "1.5.0",
          "state": {
            "_model_module": "@jupyter-widgets/controls",
            "_model_module_version": "1.5.0",
            "_model_name": "ToggleButtonsStyleModel",
            "_view_count": null,
            "_view_module": "@jupyter-widgets/base",
            "_view_module_version": "1.2.0",
            "_view_name": "StyleView",
            "button_width": "",
            "description_width": "",
            "font_weight": ""
          }
        },
        "acd555e28eb143b1873973c22d3b78a9": {
          "model_module": "@jupyter-widgets/base",
          "model_name": "LayoutModel",
          "model_module_version": "1.2.0",
          "state": {
            "_model_module": "@jupyter-widgets/base",
            "_model_module_version": "1.2.0",
            "_model_name": "LayoutModel",
            "_view_count": null,
            "_view_module": "@jupyter-widgets/base",
            "_view_module_version": "1.2.0",
            "_view_name": "LayoutView",
            "align_content": null,
            "align_items": null,
            "align_self": null,
            "border": null,
            "bottom": null,
            "display": null,
            "flex": null,
            "flex_flow": null,
            "grid_area": null,
            "grid_auto_columns": null,
            "grid_auto_flow": null,
            "grid_auto_rows": null,
            "grid_column": null,
            "grid_gap": null,
            "grid_row": null,
            "grid_template_areas": null,
            "grid_template_columns": null,
            "grid_template_rows": null,
            "height": null,
            "justify_content": null,
            "justify_items": null,
            "left": null,
            "margin": null,
            "max_height": null,
            "max_width": null,
            "min_height": null,
            "min_width": null,
            "object_fit": null,
            "object_position": null,
            "order": null,
            "overflow": null,
            "overflow_x": null,
            "overflow_y": null,
            "padding": null,
            "right": null,
            "top": null,
            "visibility": null,
            "width": null
          }
        }
      }
    }
  },
  "cells": [
    {
      "cell_type": "markdown",
      "metadata": {
        "id": "view-in-github",
        "colab_type": "text"
      },
      "source": [
        "<a href=\"https://colab.research.google.com/github/cristiandarioortegayubro/BA/blob/main/pc_cl_hc_01.ipynb\" target=\"_parent\"><img src=\"https://colab.research.google.com/assets/colab-badge.svg\" alt=\"Open In Colab\"/></a>"
      ]
    },
    {
      "cell_type": "markdown",
      "source": [
        "![logo](https://github.com/cristiandarioortegayubro/BA/blob/main/dba.png?raw=true)"
      ],
      "metadata": {
        "id": "2jnjFH2lICD1"
      }
    },
    {
      "cell_type": "markdown",
      "source": [
        "![logo](https://github.com/cristiandarioortegayubro/BA/blob/main/PyCaret.png?raw=true)"
      ],
      "metadata": {
        "id": "jzkEdEJ0IFE6"
      }
    },
    {
      "cell_type": "markdown",
      "source": [
        "# **Clustering**"
      ],
      "metadata": {
        "id": "HeZ8odfnIMyT"
      }
    },
    {
      "cell_type": "markdown",
      "metadata": {
        "id": "3qM9vy_hooN0"
      },
      "source": [
        "## **Instalando PyCaret**"
      ]
    },
    {
      "cell_type": "code",
      "metadata": {
        "colab": {
          "base_uri": "https://localhost:8080/"
        },
        "id": "mpNZw0XGovEZ",
        "outputId": "5a8d7eb7-1a44-476b-c64e-ddccac073079"
      },
      "source": [
        "!pip install --pre pycaret[full]"
      ],
      "execution_count": 1,
      "outputs": [
        {
          "output_type": "stream",
          "name": "stdout",
          "text": [
            "Looking in indexes: https://pypi.org/simple, https://us-python.pkg.dev/colab-wheels/public/simple/\n",
            "Requirement already satisfied: pycaret[full] in /usr/local/lib/python3.7/dist-packages (3.0.0rc4)\n",
            "Requirement already satisfied: sktime~=0.13.2 in /usr/local/lib/python3.7/dist-packages (from pycaret[full]) (0.13.4)\n",
            "Requirement already satisfied: scikit-plot>=0.3.7 in /usr/local/lib/python3.7/dist-packages (from pycaret[full]) (0.3.7)\n",
            "Requirement already satisfied: yellowbrick>=1.4 in /usr/local/lib/python3.7/dist-packages (from pycaret[full]) (1.5)\n",
            "Requirement already satisfied: plotly>=5.0.0 in /usr/local/lib/python3.7/dist-packages (from pycaret[full]) (5.5.0)\n",
            "Requirement already satisfied: requests>=2.27.1 in /usr/local/lib/python3.7/dist-packages (from pycaret[full]) (2.28.1)\n",
            "Requirement already satisfied: statsmodels>=0.12.1 in /usr/local/lib/python3.7/dist-packages (from pycaret[full]) (0.13.2)\n",
            "Requirement already satisfied: psutil>=5.9.0 in /usr/local/lib/python3.7/dist-packages (from pycaret[full]) (5.9.2)\n",
            "Requirement already satisfied: joblib>=1.1.0 in /usr/local/lib/python3.7/dist-packages (from pycaret[full]) (1.1.1)\n",
            "Requirement already satisfied: plotly-resampler>=0.7.2.2 in /usr/local/lib/python3.7/dist-packages (from pycaret[full]) (0.8.2rc3)\n",
            "Requirement already satisfied: numba~=0.55.0 in /usr/local/lib/python3.7/dist-packages (from pycaret[full]) (0.55.2)\n",
            "Requirement already satisfied: ipython>=5.5.0 in /usr/local/lib/python3.7/dist-packages (from pycaret[full]) (7.9.0)\n",
            "Requirement already satisfied: schemdraw>=0.14 in /usr/local/lib/python3.7/dist-packages (from pycaret[full]) (0.15)\n",
            "Requirement already satisfied: tqdm>=4.62.0 in /usr/local/lib/python3.7/dist-packages (from pycaret[full]) (4.64.1)\n",
            "Requirement already satisfied: lightgbm>=3.0.0 in /usr/local/lib/python3.7/dist-packages (from pycaret[full]) (3.3.2)\n",
            "Requirement already satisfied: pmdarima!=1.8.1,<2.0.0,>=1.8.0 in /usr/local/lib/python3.7/dist-packages (from pycaret[full]) (1.8.5)\n",
            "Requirement already satisfied: category-encoders>=2.4.0 in /usr/local/lib/python3.7/dist-packages (from pycaret[full]) (2.5.1.post0)\n",
            "Requirement already satisfied: imbalanced-learn>=0.8.1 in /usr/local/lib/python3.7/dist-packages (from pycaret[full]) (0.8.1)\n",
            "Requirement already satisfied: numpy<1.23,>=1.21 in /usr/local/lib/python3.7/dist-packages (from pycaret[full]) (1.21.6)\n",
            "Requirement already satisfied: scikit-learn>=1.0 in /usr/local/lib/python3.7/dist-packages (from pycaret[full]) (1.0.2)\n",
            "Requirement already satisfied: ipywidgets>=7.6.5 in /usr/local/lib/python3.7/dist-packages (from pycaret[full]) (7.7.1)\n",
            "Requirement already satisfied: markupsafe>=2.0.1 in /usr/local/lib/python3.7/dist-packages (from pycaret[full]) (2.0.1)\n",
            "Requirement already satisfied: pandas<1.5.0,>=1.3.0 in /usr/local/lib/python3.7/dist-packages (from pycaret[full]) (1.3.5)\n",
            "Requirement already satisfied: jinja2>=1.2 in /usr/local/lib/python3.7/dist-packages (from pycaret[full]) (3.1.2)\n",
            "Requirement already satisfied: tbats>=1.1.0 in /usr/local/lib/python3.7/dist-packages (from pycaret[full]) (1.1.1)\n",
            "Requirement already satisfied: importlib-metadata>=4.12.0 in /usr/local/lib/python3.7/dist-packages (from pycaret[full]) (4.13.0)\n",
            "Requirement already satisfied: scipy<1.9.0 in /usr/local/lib/python3.7/dist-packages (from pycaret[full]) (1.7.3)\n",
            "Requirement already satisfied: kaleido>=0.2.1 in /usr/local/lib/python3.7/dist-packages (from pycaret[full]) (0.2.1)\n",
            "Requirement already satisfied: matplotlib>=3.3.0 in /usr/local/lib/python3.7/dist-packages (from pycaret[full]) (3.5.3)\n",
            "Requirement already satisfied: pyod>=0.9.8 in /usr/local/lib/python3.7/dist-packages (from pycaret[full]) (1.0.5)\n",
            "Requirement already satisfied: kmodes>=0.11.1 in /usr/local/lib/python3.7/dist-packages (from pycaret[full]) (0.12.2)\n",
            "Requirement already satisfied: fugue~=0.6.6 in /usr/local/lib/python3.7/dist-packages (from pycaret[full]) (0.6.6)\n",
            "Requirement already satisfied: mlflow>=1.24.0 in /usr/local/lib/python3.7/dist-packages (from pycaret[full]) (1.29.0)\n",
            "Requirement already satisfied: boto3>=1.24.56 in /usr/local/lib/python3.7/dist-packages (from pycaret[full]) (1.24.89)\n",
            "Requirement already satisfied: flask>=2.0.3 in /usr/local/lib/python3.7/dist-packages (from pycaret[full]) (2.1.3)\n",
            "Requirement already satisfied: hyperopt>=0.2.7 in /usr/local/lib/python3.7/dist-packages (from pycaret[full]) (0.2.7)\n",
            "Requirement already satisfied: pytest>=7.0.1 in /usr/local/lib/python3.7/dist-packages (from pycaret[full]) (7.1.3)\n",
            "Requirement already satisfied: explainerdashboard>=0.3.8 in /usr/local/lib/python3.7/dist-packages (from pycaret[full]) (0.3.8.2)\n",
            "Requirement already satisfied: umap-learn>=0.5.2 in /usr/local/lib/python3.7/dist-packages (from pycaret[full]) (0.5.3)\n",
            "Requirement already satisfied: scikit-learn-intelex>=2021.6.3 in /usr/local/lib/python3.7/dist-packages (from pycaret[full]) (2021.6.3)\n",
            "Requirement already satisfied: uvicorn>=0.17.6 in /usr/local/lib/python3.7/dist-packages (from pycaret[full]) (0.18.3)\n",
            "Requirement already satisfied: dask[dataframe]>=2022.2.0 in /usr/local/lib/python3.7/dist-packages (from pycaret[full]) (2022.2.0)\n",
            "Requirement already satisfied: statsforecast>=0.5.5 in /usr/local/lib/python3.7/dist-packages (from pycaret[full]) (1.1.1)\n",
            "Requirement already satisfied: autoviz>=0.1.36 in /usr/local/lib/python3.7/dist-packages (from pycaret[full]) (0.1.58)\n",
            "Requirement already satisfied: dash[testing] in /usr/local/lib/python3.7/dist-packages (from pycaret[full]) (2.6.2)\n",
            "Requirement already satisfied: fairlearn>=0.7.0 in /usr/local/lib/python3.7/dist-packages (from pycaret[full]) (0.7.0)\n",
            "Requirement already satisfied: xgboost>=1.1.0 in /usr/local/lib/python3.7/dist-packages (from pycaret[full]) (1.6.2)\n",
            "Requirement already satisfied: mlxtend>=0.19.0 in /usr/local/lib/python3.7/dist-packages (from pycaret[full]) (0.21.0)\n",
            "Requirement already satisfied: gradio>=2.8.10 in /usr/local/lib/python3.7/dist-packages (from pycaret[full]) (3.4.1)\n",
            "Requirement already satisfied: ray[tune]>=1.0.0 in /usr/local/lib/python3.7/dist-packages (from pycaret[full]) (2.0.0)\n",
            "Requirement already satisfied: catboost>=0.23.2 in /usr/local/lib/python3.7/dist-packages (from pycaret[full]) (1.1)\n",
            "Requirement already satisfied: interpret>=0.2.7 in /usr/local/lib/python3.7/dist-packages (from pycaret[full]) (0.2.7)\n",
            "Requirement already satisfied: optuna>=2.2.0 in /usr/local/lib/python3.7/dist-packages (from pycaret[full]) (3.0.2)\n",
            "Requirement already satisfied: fastapi>=0.75.0 in /usr/local/lib/python3.7/dist-packages (from pycaret[full]) (0.85.0)\n",
            "Requirement already satisfied: pandas-profiling>=3.1.0 in /usr/local/lib/python3.7/dist-packages (from pycaret[full]) (3.3.0)\n",
            "Requirement already satisfied: scikit-optimize>=0.9.0 in /usr/local/lib/python3.7/dist-packages (from pycaret[full]) (0.9.0)\n",
            "Requirement already satisfied: codecov>=2.1.12 in /usr/local/lib/python3.7/dist-packages (from pycaret[full]) (2.1.12)\n",
            "Requirement already satisfied: protobuf<4.0.0 in /usr/local/lib/python3.7/dist-packages (from pycaret[full]) (3.17.3)\n",
            "Requirement already satisfied: evidently>=0.1.45.dev0 in /usr/local/lib/python3.7/dist-packages (from pycaret[full]) (0.1.58.dev0)\n",
            "Requirement already satisfied: m2cgen>=0.9.0 in /usr/local/lib/python3.7/dist-packages (from pycaret[full]) (0.10.0)\n",
            "Requirement already satisfied: tune-sklearn>=0.2.1 in /usr/local/lib/python3.7/dist-packages (from pycaret[full]) (0.4.4)\n",
            "Requirement already satisfied: moto>=3.0.7 in /usr/local/lib/python3.7/dist-packages (from pycaret[full]) (4.0.8.dev3)\n",
            "Requirement already satisfied: shap>=0.38.0 in /usr/local/lib/python3.7/dist-packages (from pycaret[full]) (0.41.0)\n",
            "Requirement already satisfied: holoviews>=1.14.6 in /usr/local/lib/python3.7/dist-packages (from autoviz>=0.1.36->pycaret[full]) (1.14.9)\n",
            "Requirement already satisfied: pyamg in /usr/local/lib/python3.7/dist-packages (from autoviz>=0.1.36->pycaret[full]) (4.2.3)\n",
            "Requirement already satisfied: fsspec>=0.8.3 in /usr/local/lib/python3.7/dist-packages (from autoviz>=0.1.36->pycaret[full]) (2022.8.2)\n",
            "Requirement already satisfied: hvplot>=0.7.3 in /usr/local/lib/python3.7/dist-packages (from autoviz>=0.1.36->pycaret[full]) (0.8.1)\n",
            "Requirement already satisfied: seaborn>=0.11.1 in /usr/local/lib/python3.7/dist-packages (from autoviz>=0.1.36->pycaret[full]) (0.11.2)\n",
            "Requirement already satisfied: jupyter in /usr/local/lib/python3.7/dist-packages (from autoviz>=0.1.36->pycaret[full]) (1.0.0)\n",
            "Requirement already satisfied: xlrd in /usr/local/lib/python3.7/dist-packages (from autoviz>=0.1.36->pycaret[full]) (1.1.0)\n",
            "Requirement already satisfied: wordcloud in /usr/local/lib/python3.7/dist-packages (from autoviz>=0.1.36->pycaret[full]) (1.8.2.2)\n",
            "Requirement already satisfied: panel~=0.12.6 in /usr/local/lib/python3.7/dist-packages (from autoviz>=0.1.36->pycaret[full]) (0.12.7)\n",
            "Requirement already satisfied: nltk in /usr/local/lib/python3.7/dist-packages (from autoviz>=0.1.36->pycaret[full]) (3.7)\n",
            "Requirement already satisfied: typing-extensions>=4.1.1 in /usr/local/lib/python3.7/dist-packages (from autoviz>=0.1.36->pycaret[full]) (4.1.1)\n",
            "Requirement already satisfied: bokeh>=2.4.2 in /usr/local/lib/python3.7/dist-packages (from autoviz>=0.1.36->pycaret[full]) (2.4.3)\n",
            "Requirement already satisfied: emoji in /usr/local/lib/python3.7/dist-packages (from autoviz>=0.1.36->pycaret[full]) (2.1.0)\n",
            "Requirement already satisfied: textblob in /usr/local/lib/python3.7/dist-packages (from autoviz>=0.1.36->pycaret[full]) (0.15.3)\n",
            "Requirement already satisfied: tornado>=5.1 in /usr/local/lib/python3.7/dist-packages (from bokeh>=2.4.2->autoviz>=0.1.36->pycaret[full]) (5.1.1)\n",
            "Requirement already satisfied: PyYAML>=3.10 in /usr/local/lib/python3.7/dist-packages (from bokeh>=2.4.2->autoviz>=0.1.36->pycaret[full]) (5.4.1)\n",
            "Requirement already satisfied: pillow>=7.1.0 in /usr/local/lib/python3.7/dist-packages (from bokeh>=2.4.2->autoviz>=0.1.36->pycaret[full]) (7.1.2)\n",
            "Requirement already satisfied: packaging>=16.8 in /usr/local/lib/python3.7/dist-packages (from bokeh>=2.4.2->autoviz>=0.1.36->pycaret[full]) (21.3)\n",
            "Requirement already satisfied: botocore<1.28.0,>=1.27.89 in /usr/local/lib/python3.7/dist-packages (from boto3>=1.24.56->pycaret[full]) (1.27.89)\n",
            "Requirement already satisfied: jmespath<2.0.0,>=0.7.1 in /usr/local/lib/python3.7/dist-packages (from boto3>=1.24.56->pycaret[full]) (1.0.1)\n",
            "Requirement already satisfied: s3transfer<0.7.0,>=0.6.0 in /usr/local/lib/python3.7/dist-packages (from boto3>=1.24.56->pycaret[full]) (0.6.0)\n",
            "Requirement already satisfied: urllib3<1.27,>=1.25.4 in /usr/local/lib/python3.7/dist-packages (from botocore<1.28.0,>=1.27.89->boto3>=1.24.56->pycaret[full]) (1.26.12)\n",
            "Requirement already satisfied: python-dateutil<3.0.0,>=2.1 in /usr/local/lib/python3.7/dist-packages (from botocore<1.28.0,>=1.27.89->boto3>=1.24.56->pycaret[full]) (2.8.2)\n",
            "Requirement already satisfied: six in /usr/local/lib/python3.7/dist-packages (from catboost>=0.23.2->pycaret[full]) (1.15.0)\n",
            "Requirement already satisfied: graphviz in /usr/local/lib/python3.7/dist-packages (from catboost>=0.23.2->pycaret[full]) (0.20.1)\n",
            "Requirement already satisfied: patsy>=0.5.1 in /usr/local/lib/python3.7/dist-packages (from category-encoders>=2.4.0->pycaret[full]) (0.5.2)\n",
            "Requirement already satisfied: coverage in /usr/local/lib/python3.7/dist-packages (from codecov>=2.1.12->pycaret[full]) (6.5.0)\n",
            "Requirement already satisfied: cloudpickle>=1.1.1 in /usr/local/lib/python3.7/dist-packages (from dask[dataframe]>=2022.2.0->pycaret[full]) (1.5.0)\n",
            "Requirement already satisfied: toolz>=0.8.2 in /usr/local/lib/python3.7/dist-packages (from dask[dataframe]>=2022.2.0->pycaret[full]) (0.12.0)\n",
            "Requirement already satisfied: partd>=0.3.10 in /usr/local/lib/python3.7/dist-packages (from dask[dataframe]>=2022.2.0->pycaret[full]) (1.3.0)\n",
            "Requirement already satisfied: dataclasses>=0.6 in /usr/local/lib/python3.7/dist-packages (from evidently>=0.1.45.dev0->pycaret[full]) (0.6)\n",
            "Requirement already satisfied: waitress in /usr/local/lib/python3.7/dist-packages (from explainerdashboard>=0.3.8->pycaret[full]) (2.1.2)\n",
            "Requirement already satisfied: Werkzeug<=2.0.3 in /usr/local/lib/python3.7/dist-packages (from explainerdashboard>=0.3.8->pycaret[full]) (2.0.3)\n",
            "Requirement already satisfied: jupyter-dash in /usr/local/lib/python3.7/dist-packages (from explainerdashboard>=0.3.8->pycaret[full]) (0.4.2)\n",
            "Requirement already satisfied: dash-bootstrap-components<1 in /usr/local/lib/python3.7/dist-packages (from explainerdashboard>=0.3.8->pycaret[full]) (0.13.1)\n",
            "Requirement already satisfied: flask-simplelogin in /usr/local/lib/python3.7/dist-packages (from explainerdashboard>=0.3.8->pycaret[full]) (0.1.1)\n",
            "Requirement already satisfied: oyaml in /usr/local/lib/python3.7/dist-packages (from explainerdashboard>=0.3.8->pycaret[full]) (1.0)\n",
            "Requirement already satisfied: click in /usr/local/lib/python3.7/dist-packages (from explainerdashboard>=0.3.8->pycaret[full]) (8.0.4)\n",
            "Requirement already satisfied: dash-auth in /usr/local/lib/python3.7/dist-packages (from explainerdashboard>=0.3.8->pycaret[full]) (1.4.1)\n",
            "Requirement already satisfied: dtreeviz>=1.3 in /usr/local/lib/python3.7/dist-packages (from explainerdashboard>=0.3.8->pycaret[full]) (1.3.7)\n",
            "Requirement already satisfied: flask-compress in /usr/local/lib/python3.7/dist-packages (from dash[testing]->pycaret[full]) (1.13)\n",
            "Requirement already satisfied: dash-html-components==2.0.0 in /usr/local/lib/python3.7/dist-packages (from dash[testing]->pycaret[full]) (2.0.0)\n",
            "Requirement already satisfied: dash-core-components==2.0.0 in /usr/local/lib/python3.7/dist-packages (from dash[testing]->pycaret[full]) (2.0.0)\n",
            "Requirement already satisfied: dash-table==5.0.0 in /usr/local/lib/python3.7/dist-packages (from dash[testing]->pycaret[full]) (5.0.0)\n",
            "Requirement already satisfied: colour in /usr/local/lib/python3.7/dist-packages (from dtreeviz>=1.3->explainerdashboard>=0.3.8->pycaret[full]) (0.1.5)\n",
            "Requirement already satisfied: starlette==0.20.4 in /usr/local/lib/python3.7/dist-packages (from fastapi>=0.75.0->pycaret[full]) (0.20.4)\n",
            "Requirement already satisfied: pydantic!=1.7,!=1.7.1,!=1.7.2,!=1.7.3,!=1.8,!=1.8.1,<2.0.0,>=1.6.2 in /usr/local/lib/python3.7/dist-packages (from fastapi>=0.75.0->pycaret[full]) (1.9.2)\n",
            "Requirement already satisfied: anyio<5,>=3.4.0 in /usr/local/lib/python3.7/dist-packages (from starlette==0.20.4->fastapi>=0.75.0->pycaret[full]) (3.6.1)\n",
            "Requirement already satisfied: sniffio>=1.1 in /usr/local/lib/python3.7/dist-packages (from anyio<5,>=3.4.0->starlette==0.20.4->fastapi>=0.75.0->pycaret[full]) (1.3.0)\n",
            "Requirement already satisfied: idna>=2.8 in /usr/local/lib/python3.7/dist-packages (from anyio<5,>=3.4.0->starlette==0.20.4->fastapi>=0.75.0->pycaret[full]) (2.10)\n",
            "Requirement already satisfied: itsdangerous>=2.0 in /usr/local/lib/python3.7/dist-packages (from flask>=2.0.3->pycaret[full]) (2.1.2)\n",
            "Requirement already satisfied: antlr4-python3-runtime<4.10,>=4.9 in /usr/local/lib/python3.7/dist-packages (from fugue~=0.6.6->pycaret[full]) (4.9.3)\n",
            "Requirement already satisfied: sqlalchemy in /usr/local/lib/python3.7/dist-packages (from fugue~=0.6.6->pycaret[full]) (1.4.41)\n",
            "Requirement already satisfied: triad>=0.6.0 in /usr/local/lib/python3.7/dist-packages (from fugue~=0.6.6->pycaret[full]) (0.6.9)\n",
            "Requirement already satisfied: qpd>=0.2.6 in /usr/local/lib/python3.7/dist-packages (from fugue~=0.6.6->pycaret[full]) (0.2.7)\n",
            "Requirement already satisfied: adagio>=0.2.3 in /usr/local/lib/python3.7/dist-packages (from fugue~=0.6.6->pycaret[full]) (0.2.4)\n",
            "Requirement already satisfied: pyarrow>=0.15.1 in /usr/local/lib/python3.7/dist-packages (from fugue~=0.6.6->pycaret[full]) (6.0.1)\n",
            "Requirement already satisfied: orjson in /usr/local/lib/python3.7/dist-packages (from gradio>=2.8.10->pycaret[full]) (3.8.0)\n",
            "Requirement already satisfied: python-multipart in /usr/local/lib/python3.7/dist-packages (from gradio>=2.8.10->pycaret[full]) (0.0.5)\n",
            "Requirement already satisfied: pycryptodome in /usr/local/lib/python3.7/dist-packages (from gradio>=2.8.10->pycaret[full]) (3.15.0)\n",
            "Requirement already satisfied: httpx in /usr/local/lib/python3.7/dist-packages (from gradio>=2.8.10->pycaret[full]) (1.0.0b0)\n",
            "Requirement already satisfied: aiohttp in /usr/local/lib/python3.7/dist-packages (from gradio>=2.8.10->pycaret[full]) (3.8.3)\n",
            "Requirement already satisfied: pydub in /usr/local/lib/python3.7/dist-packages (from gradio>=2.8.10->pycaret[full]) (0.25.1)\n",
            "Requirement already satisfied: paramiko in /usr/local/lib/python3.7/dist-packages (from gradio>=2.8.10->pycaret[full]) (2.11.0)\n",
            "Requirement already satisfied: ffmpy in /usr/local/lib/python3.7/dist-packages (from gradio>=2.8.10->pycaret[full]) (0.3.0)\n",
            "Requirement already satisfied: markdown-it-py[linkify,plugins] in /usr/local/lib/python3.7/dist-packages (from gradio>=2.8.10->pycaret[full]) (2.1.0)\n",
            "Requirement already satisfied: h11<0.13,>=0.11 in /usr/local/lib/python3.7/dist-packages (from gradio>=2.8.10->pycaret[full]) (0.12.0)\n",
            "Requirement already satisfied: websockets in /usr/local/lib/python3.7/dist-packages (from gradio>=2.8.10->pycaret[full]) (10.3)\n",
            "Requirement already satisfied: colorcet in /usr/local/lib/python3.7/dist-packages (from holoviews>=1.14.6->autoviz>=0.1.36->pycaret[full]) (3.0.1)\n",
            "Requirement already satisfied: pyviz-comms>=0.7.4 in /usr/local/lib/python3.7/dist-packages (from holoviews>=1.14.6->autoviz>=0.1.36->pycaret[full]) (2.2.1)\n",
            "Requirement already satisfied: param<2.0,>=1.9.3 in /usr/local/lib/python3.7/dist-packages (from holoviews>=1.14.6->autoviz>=0.1.36->pycaret[full]) (1.12.2)\n",
            "Requirement already satisfied: pyct>=0.4.4 in /usr/local/lib/python3.7/dist-packages (from colorcet->holoviews>=1.14.6->autoviz>=0.1.36->pycaret[full]) (0.4.8)\n",
            "Requirement already satisfied: py4j in /usr/local/lib/python3.7/dist-packages (from hyperopt>=0.2.7->pycaret[full]) (0.10.9.7)\n",
            "Requirement already satisfied: future in /usr/local/lib/python3.7/dist-packages (from hyperopt>=0.2.7->pycaret[full]) (0.16.0)\n",
            "Requirement already satisfied: networkx>=2.2 in /usr/local/lib/python3.7/dist-packages (from hyperopt>=0.2.7->pycaret[full]) (2.6.3)\n",
            "Requirement already satisfied: zipp>=0.5 in /usr/local/lib/python3.7/dist-packages (from importlib-metadata>=4.12.0->pycaret[full]) (3.8.1)\n",
            "Requirement already satisfied: interpret-core[dash,debug,decisiontree,ebm,lime,linear,notebook,plotly,required,sensitivity,shap,skoperules,treeinterpreter]>=0.2.7 in /usr/local/lib/python3.7/dist-packages (from interpret>=0.2.7->pycaret[full]) (0.2.7)\n",
            "Requirement already satisfied: SALib>=1.3.3 in /usr/local/lib/python3.7/dist-packages (from interpret-core[dash,debug,decisiontree,ebm,lime,linear,notebook,plotly,required,sensitivity,shap,skoperules,treeinterpreter]>=0.2.7->interpret>=0.2.7->pycaret[full]) (1.4.6b1)\n",
            "Requirement already satisfied: treeinterpreter>=0.2.2 in /usr/local/lib/python3.7/dist-packages (from interpret-core[dash,debug,decisiontree,ebm,lime,linear,notebook,plotly,required,sensitivity,shap,skoperules,treeinterpreter]>=0.2.7->interpret>=0.2.7->pycaret[full]) (0.2.3)\n",
            "Requirement already satisfied: dill>=0.2.5 in /usr/local/lib/python3.7/dist-packages (from interpret-core[dash,debug,decisiontree,ebm,lime,linear,notebook,plotly,required,sensitivity,shap,skoperules,treeinterpreter]>=0.2.7->interpret>=0.2.7->pycaret[full]) (0.3.5.1)\n",
            "Requirement already satisfied: dash-cytoscape>=0.1.1 in /usr/local/lib/python3.7/dist-packages (from interpret-core[dash,debug,decisiontree,ebm,lime,linear,notebook,plotly,required,sensitivity,shap,skoperules,treeinterpreter]>=0.2.7->interpret>=0.2.7->pycaret[full]) (0.3.0)\n",
            "Requirement already satisfied: gevent>=1.3.6 in /usr/local/lib/python3.7/dist-packages (from interpret-core[dash,debug,decisiontree,ebm,lime,linear,notebook,plotly,required,sensitivity,shap,skoperules,treeinterpreter]>=0.2.7->interpret>=0.2.7->pycaret[full]) (22.8.0)\n",
            "Requirement already satisfied: lime>=0.1.1.33 in /usr/local/lib/python3.7/dist-packages (from interpret-core[dash,debug,decisiontree,ebm,lime,linear,notebook,plotly,required,sensitivity,shap,skoperules,treeinterpreter]>=0.2.7->interpret>=0.2.7->pycaret[full]) (0.2.0.1)\n",
            "Requirement already satisfied: ipykernel>=5.1.0 in /usr/local/lib/python3.7/dist-packages (from interpret-core[dash,debug,decisiontree,ebm,lime,linear,notebook,plotly,required,sensitivity,shap,skoperules,treeinterpreter]>=0.2.7->interpret>=0.2.7->pycaret[full]) (5.3.4)\n",
            "Requirement already satisfied: skope-rules>=1.0.1 in /usr/local/lib/python3.7/dist-packages (from interpret-core[dash,debug,decisiontree,ebm,lime,linear,notebook,plotly,required,sensitivity,shap,skoperules,treeinterpreter]>=0.2.7->interpret>=0.2.7->pycaret[full]) (1.0.1)\n",
            "Requirement already satisfied: zope.event in /usr/local/lib/python3.7/dist-packages (from gevent>=1.3.6->interpret-core[dash,debug,decisiontree,ebm,lime,linear,notebook,plotly,required,sensitivity,shap,skoperules,treeinterpreter]>=0.2.7->interpret>=0.2.7->pycaret[full]) (4.5.0)\n",
            "Requirement already satisfied: setuptools in /usr/local/lib/python3.7/dist-packages (from gevent>=1.3.6->interpret-core[dash,debug,decisiontree,ebm,lime,linear,notebook,plotly,required,sensitivity,shap,skoperules,treeinterpreter]>=0.2.7->interpret>=0.2.7->pycaret[full]) (57.4.0)\n",
            "Requirement already satisfied: zope.interface in /usr/local/lib/python3.7/dist-packages (from gevent>=1.3.6->interpret-core[dash,debug,decisiontree,ebm,lime,linear,notebook,plotly,required,sensitivity,shap,skoperules,treeinterpreter]>=0.2.7->interpret>=0.2.7->pycaret[full]) (5.5.0)\n",
            "Requirement already satisfied: greenlet<2.0,>=1.1.3 in /usr/local/lib/python3.7/dist-packages (from gevent>=1.3.6->interpret-core[dash,debug,decisiontree,ebm,lime,linear,notebook,plotly,required,sensitivity,shap,skoperules,treeinterpreter]>=0.2.7->interpret>=0.2.7->pycaret[full]) (1.1.3)\n",
            "Requirement already satisfied: traitlets>=4.1.0 in /usr/local/lib/python3.7/dist-packages (from ipykernel>=5.1.0->interpret-core[dash,debug,decisiontree,ebm,lime,linear,notebook,plotly,required,sensitivity,shap,skoperules,treeinterpreter]>=0.2.7->interpret>=0.2.7->pycaret[full]) (5.1.1)\n",
            "Requirement already satisfied: jupyter-client in /usr/local/lib/python3.7/dist-packages (from ipykernel>=5.1.0->interpret-core[dash,debug,decisiontree,ebm,lime,linear,notebook,plotly,required,sensitivity,shap,skoperules,treeinterpreter]>=0.2.7->interpret>=0.2.7->pycaret[full]) (6.1.12)\n",
            "Requirement already satisfied: pexpect in /usr/local/lib/python3.7/dist-packages (from ipython>=5.5.0->pycaret[full]) (4.8.0)\n",
            "Requirement already satisfied: jedi>=0.10 in /usr/local/lib/python3.7/dist-packages (from ipython>=5.5.0->pycaret[full]) (0.18.1)\n",
            "Requirement already satisfied: backcall in /usr/local/lib/python3.7/dist-packages (from ipython>=5.5.0->pycaret[full]) (0.2.0)\n",
            "Requirement already satisfied: pickleshare in /usr/local/lib/python3.7/dist-packages (from ipython>=5.5.0->pycaret[full]) (0.7.5)\n",
            "Requirement already satisfied: pygments in /usr/local/lib/python3.7/dist-packages (from ipython>=5.5.0->pycaret[full]) (2.6.1)\n",
            "Requirement already satisfied: decorator in /usr/local/lib/python3.7/dist-packages (from ipython>=5.5.0->pycaret[full]) (4.4.2)\n",
            "Requirement already satisfied: prompt-toolkit<2.1.0,>=2.0.0 in /usr/local/lib/python3.7/dist-packages (from ipython>=5.5.0->pycaret[full]) (2.0.10)\n",
            "Requirement already satisfied: widgetsnbextension~=3.6.0 in /usr/local/lib/python3.7/dist-packages (from ipywidgets>=7.6.5->pycaret[full]) (3.6.1)\n",
            "Requirement already satisfied: jupyterlab-widgets>=1.0.0 in /usr/local/lib/python3.7/dist-packages (from ipywidgets>=7.6.5->pycaret[full]) (3.0.3)\n",
            "Requirement already satisfied: ipython-genutils~=0.2.0 in /usr/local/lib/python3.7/dist-packages (from ipywidgets>=7.6.5->pycaret[full]) (0.2.0)\n",
            "Requirement already satisfied: parso<0.9.0,>=0.8.0 in /usr/local/lib/python3.7/dist-packages (from jedi>=0.10->ipython>=5.5.0->pycaret[full]) (0.8.3)\n",
            "Requirement already satisfied: wheel in /usr/local/lib/python3.7/dist-packages (from lightgbm>=3.0.0->pycaret[full]) (0.37.1)\n",
            "Requirement already satisfied: scikit-image>=0.12 in /usr/local/lib/python3.7/dist-packages (from lime>=0.1.1.33->interpret-core[dash,debug,decisiontree,ebm,lime,linear,notebook,plotly,required,sensitivity,shap,skoperules,treeinterpreter]>=0.2.7->interpret>=0.2.7->pycaret[full]) (0.18.3)\n",
            "Requirement already satisfied: kiwisolver>=1.0.1 in /usr/local/lib/python3.7/dist-packages (from matplotlib>=3.3.0->pycaret[full]) (1.4.4)\n",
            "Requirement already satisfied: cycler>=0.10 in /usr/local/lib/python3.7/dist-packages (from matplotlib>=3.3.0->pycaret[full]) (0.11.0)\n",
            "Requirement already satisfied: fonttools>=4.22.0 in /usr/local/lib/python3.7/dist-packages (from matplotlib>=3.3.0->pycaret[full]) (4.37.4)\n",
            "Requirement already satisfied: pyparsing>=2.2.1 in /usr/local/lib/python3.7/dist-packages (from matplotlib>=3.3.0->pycaret[full]) (3.0.9)\n",
            "Requirement already satisfied: entrypoints<1 in /usr/local/lib/python3.7/dist-packages (from mlflow>=1.24.0->pycaret[full]) (0.4)\n",
            "Requirement already satisfied: sqlparse<1,>=0.4.0 in /usr/local/lib/python3.7/dist-packages (from mlflow>=1.24.0->pycaret[full]) (0.4.3)\n",
            "Requirement already satisfied: gitpython<4,>=2.1.0 in /usr/local/lib/python3.7/dist-packages (from mlflow>=1.24.0->pycaret[full]) (3.1.28)\n",
            "Requirement already satisfied: querystring-parser<2 in /usr/local/lib/python3.7/dist-packages (from mlflow>=1.24.0->pycaret[full]) (1.2.4)\n",
            "Requirement already satisfied: docker<7,>=4.0.0 in /usr/local/lib/python3.7/dist-packages (from mlflow>=1.24.0->pycaret[full]) (6.0.0)\n",
            "Requirement already satisfied: prometheus-flask-exporter<1 in /usr/local/lib/python3.7/dist-packages (from mlflow>=1.24.0->pycaret[full]) (0.20.3)\n",
            "Requirement already satisfied: databricks-cli<1,>=0.8.7 in /usr/local/lib/python3.7/dist-packages (from mlflow>=1.24.0->pycaret[full]) (0.17.3)\n",
            "Requirement already satisfied: pytz<2023 in /usr/local/lib/python3.7/dist-packages (from mlflow>=1.24.0->pycaret[full]) (2022.4)\n",
            "Requirement already satisfied: alembic<2 in /usr/local/lib/python3.7/dist-packages (from mlflow>=1.24.0->pycaret[full]) (1.8.1)\n",
            "Requirement already satisfied: gunicorn<21 in /usr/local/lib/python3.7/dist-packages (from mlflow>=1.24.0->pycaret[full]) (20.1.0)\n",
            "Requirement already satisfied: importlib-resources in /usr/local/lib/python3.7/dist-packages (from alembic<2->mlflow>=1.24.0->pycaret[full]) (5.9.0)\n",
            "Requirement already satisfied: Mako in /usr/local/lib/python3.7/dist-packages (from alembic<2->mlflow>=1.24.0->pycaret[full]) (1.2.3)\n",
            "Requirement already satisfied: tabulate>=0.7.7 in /usr/local/lib/python3.7/dist-packages (from databricks-cli<1,>=0.8.7->mlflow>=1.24.0->pycaret[full]) (0.8.10)\n",
            "Requirement already satisfied: pyjwt>=1.7.0 in /usr/local/lib/python3.7/dist-packages (from databricks-cli<1,>=0.8.7->mlflow>=1.24.0->pycaret[full]) (2.5.0)\n",
            "Requirement already satisfied: oauthlib>=3.1.0 in /usr/local/lib/python3.7/dist-packages (from databricks-cli<1,>=0.8.7->mlflow>=1.24.0->pycaret[full]) (3.2.1)\n",
            "Requirement already satisfied: websocket-client>=0.32.0 in /usr/local/lib/python3.7/dist-packages (from docker<7,>=4.0.0->mlflow>=1.24.0->pycaret[full]) (1.4.1)\n",
            "Requirement already satisfied: gitdb<5,>=4.0.1 in /usr/local/lib/python3.7/dist-packages (from gitpython<4,>=2.1.0->mlflow>=1.24.0->pycaret[full]) (4.0.9)\n",
            "Requirement already satisfied: smmap<6,>=3.0.1 in /usr/local/lib/python3.7/dist-packages (from gitdb<5,>=4.0.1->gitpython<4,>=2.1.0->mlflow>=1.24.0->pycaret[full]) (5.0.0)\n",
            "Requirement already satisfied: xmltodict in /usr/local/lib/python3.7/dist-packages (from moto>=3.0.7->pycaret[full]) (0.13.0)\n",
            "Requirement already satisfied: responses>=0.13.0 in /usr/local/lib/python3.7/dist-packages (from moto>=3.0.7->pycaret[full]) (0.21.0)\n",
            "Requirement already satisfied: cryptography>=3.3.1 in /usr/local/lib/python3.7/dist-packages (from moto>=3.0.7->pycaret[full]) (38.0.1)\n",
            "Requirement already satisfied: cffi>=1.12 in /usr/local/lib/python3.7/dist-packages (from cryptography>=3.3.1->moto>=3.0.7->pycaret[full]) (1.15.1)\n",
            "Requirement already satisfied: pycparser in /usr/local/lib/python3.7/dist-packages (from cffi>=1.12->cryptography>=3.3.1->moto>=3.0.7->pycaret[full]) (2.21)\n",
            "Requirement already satisfied: llvmlite<0.39,>=0.38.0rc1 in /usr/local/lib/python3.7/dist-packages (from numba~=0.55.0->pycaret[full]) (0.38.1)\n",
            "Requirement already satisfied: colorlog in /usr/local/lib/python3.7/dist-packages (from optuna>=2.2.0->pycaret[full]) (6.7.0)\n",
            "Requirement already satisfied: cliff in /usr/local/lib/python3.7/dist-packages (from optuna>=2.2.0->pycaret[full]) (3.10.1)\n",
            "Requirement already satisfied: cmaes>=0.8.2 in /usr/local/lib/python3.7/dist-packages (from optuna>=2.2.0->pycaret[full]) (0.8.2)\n",
            "Requirement already satisfied: missingno<0.6,>=0.4.2 in /usr/local/lib/python3.7/dist-packages (from pandas-profiling>=3.1.0->pycaret[full]) (0.5.1)\n",
            "Requirement already satisfied: phik<0.13,>=0.11.1 in /usr/local/lib/python3.7/dist-packages (from pandas-profiling>=3.1.0->pycaret[full]) (0.12.2)\n",
            "Requirement already satisfied: visions[type_image_path]==0.7.5 in /usr/local/lib/python3.7/dist-packages (from pandas-profiling>=3.1.0->pycaret[full]) (0.7.5)\n",
            "Requirement already satisfied: tangled-up-in-unicode==0.2.0 in /usr/local/lib/python3.7/dist-packages (from pandas-profiling>=3.1.0->pycaret[full]) (0.2.0)\n",
            "Requirement already satisfied: htmlmin==0.1.12 in /usr/local/lib/python3.7/dist-packages (from pandas-profiling>=3.1.0->pycaret[full]) (0.1.12)\n",
            "Requirement already satisfied: multimethod<1.9,>=1.4 in /usr/local/lib/python3.7/dist-packages (from pandas-profiling>=3.1.0->pycaret[full]) (1.8)\n",
            "Requirement already satisfied: attrs>=19.3.0 in /usr/local/lib/python3.7/dist-packages (from visions[type_image_path]==0.7.5->pandas-profiling>=3.1.0->pycaret[full]) (22.1.0)\n",
            "Requirement already satisfied: imagehash in /usr/local/lib/python3.7/dist-packages (from visions[type_image_path]==0.7.5->pandas-profiling>=3.1.0->pycaret[full]) (4.3.1)\n",
            "Requirement already satisfied: markdown in /usr/local/lib/python3.7/dist-packages (from panel~=0.12.6->autoviz>=0.1.36->pycaret[full]) (3.4.1)\n",
            "Requirement already satisfied: bleach in /usr/local/lib/python3.7/dist-packages (from panel~=0.12.6->autoviz>=0.1.36->pycaret[full]) (5.0.1)\n",
            "Requirement already satisfied: locket in /usr/local/lib/python3.7/dist-packages (from partd>=0.3.10->dask[dataframe]>=2022.2.0->pycaret[full]) (1.0.0)\n",
            "Requirement already satisfied: tenacity>=6.2.0 in /usr/local/lib/python3.7/dist-packages (from plotly>=5.0.0->pycaret[full]) (8.1.0)\n",
            "Requirement already satisfied: Flask-Cors<4.0.0,>=3.0.10 in /usr/local/lib/python3.7/dist-packages (from plotly-resampler>=0.7.2.2->pycaret[full]) (3.0.10)\n",
            "Requirement already satisfied: trace-updater>=0.0.8 in /usr/local/lib/python3.7/dist-packages (from plotly-resampler>=0.7.2.2->pycaret[full]) (0.0.8)\n",
            "Requirement already satisfied: retrying in /usr/local/lib/python3.7/dist-packages (from jupyter-dash->explainerdashboard>=0.3.8->pycaret[full]) (1.3.3)\n",
            "Requirement already satisfied: nest-asyncio in /usr/local/lib/python3.7/dist-packages (from jupyter-dash->explainerdashboard>=0.3.8->pycaret[full]) (1.5.6)\n",
            "Requirement already satisfied: ansi2html in /usr/local/lib/python3.7/dist-packages (from jupyter-dash->explainerdashboard>=0.3.8->pycaret[full]) (1.8.0)\n",
            "Requirement already satisfied: Cython!=0.29.18,>=0.29 in /usr/local/lib/python3.7/dist-packages (from pmdarima!=1.8.1,<2.0.0,>=1.8.0->pycaret[full]) (0.29.32)\n",
            "Requirement already satisfied: prometheus-client in /usr/local/lib/python3.7/dist-packages (from prometheus-flask-exporter<1->mlflow>=1.24.0->pycaret[full]) (0.14.1)\n",
            "Requirement already satisfied: wcwidth in /usr/local/lib/python3.7/dist-packages (from prompt-toolkit<2.1.0,>=2.0.0->ipython>=5.5.0->pycaret[full]) (0.2.5)\n",
            "Requirement already satisfied: pluggy<2.0,>=0.12 in /usr/local/lib/python3.7/dist-packages (from pytest>=7.0.1->pycaret[full]) (1.0.0)\n",
            "Requirement already satisfied: py>=1.8.2 in /usr/local/lib/python3.7/dist-packages (from pytest>=7.0.1->pycaret[full]) (1.11.0)\n",
            "Requirement already satisfied: tomli>=1.0.0 in /usr/local/lib/python3.7/dist-packages (from pytest>=7.0.1->pycaret[full]) (2.0.1)\n",
            "Requirement already satisfied: iniconfig in /usr/local/lib/python3.7/dist-packages (from pytest>=7.0.1->pycaret[full]) (1.1.1)\n",
            "Requirement already satisfied: aiosignal in /usr/local/lib/python3.7/dist-packages (from ray[tune]>=1.0.0->pycaret[full]) (1.2.0)\n",
            "Requirement already satisfied: jsonschema in /usr/local/lib/python3.7/dist-packages (from ray[tune]>=1.0.0->pycaret[full]) (4.3.3)\n",
            "Requirement already satisfied: grpcio<=1.43.0,>=1.28.1 in /usr/local/lib/python3.7/dist-packages (from ray[tune]>=1.0.0->pycaret[full]) (1.43.0)\n",
            "Requirement already satisfied: msgpack<2.0.0,>=1.0.0 in /usr/local/lib/python3.7/dist-packages (from ray[tune]>=1.0.0->pycaret[full]) (1.0.4)\n",
            "Requirement already satisfied: frozenlist in /usr/local/lib/python3.7/dist-packages (from ray[tune]>=1.0.0->pycaret[full]) (1.3.1)\n",
            "Requirement already satisfied: filelock in /usr/local/lib/python3.7/dist-packages (from ray[tune]>=1.0.0->pycaret[full]) (3.8.0)\n",
            "Requirement already satisfied: virtualenv in /usr/local/lib/python3.7/dist-packages (from ray[tune]>=1.0.0->pycaret[full]) (20.16.5)\n",
            "Requirement already satisfied: tensorboardX>=1.9 in /usr/local/lib/python3.7/dist-packages (from ray[tune]>=1.0.0->pycaret[full]) (2.5.1)\n",
            "Requirement already satisfied: certifi>=2017.4.17 in /usr/local/lib/python3.7/dist-packages (from requests>=2.27.1->pycaret[full]) (2022.9.24)\n",
            "Requirement already satisfied: charset-normalizer<3,>=2 in /usr/local/lib/python3.7/dist-packages (from requests>=2.27.1->pycaret[full]) (2.1.1)\n",
            "Requirement already satisfied: pathos in /usr/local/lib/python3.7/dist-packages (from SALib>=1.3.3->interpret-core[dash,debug,decisiontree,ebm,lime,linear,notebook,plotly,required,sensitivity,shap,skoperules,treeinterpreter]>=0.2.7->interpret>=0.2.7->pycaret[full]) (0.2.9)\n",
            "Requirement already satisfied: imageio>=2.3.0 in /usr/local/lib/python3.7/dist-packages (from scikit-image>=0.12->lime>=0.1.1.33->interpret-core[dash,debug,decisiontree,ebm,lime,linear,notebook,plotly,required,sensitivity,shap,skoperules,treeinterpreter]>=0.2.7->interpret>=0.2.7->pycaret[full]) (2.9.0)\n",
            "Requirement already satisfied: PyWavelets>=1.1.1 in /usr/local/lib/python3.7/dist-packages (from scikit-image>=0.12->lime>=0.1.1.33->interpret-core[dash,debug,decisiontree,ebm,lime,linear,notebook,plotly,required,sensitivity,shap,skoperules,treeinterpreter]>=0.2.7->interpret>=0.2.7->pycaret[full]) (1.3.0)\n",
            "Requirement already satisfied: tifffile>=2019.7.26 in /usr/local/lib/python3.7/dist-packages (from scikit-image>=0.12->lime>=0.1.1.33->interpret-core[dash,debug,decisiontree,ebm,lime,linear,notebook,plotly,required,sensitivity,shap,skoperules,treeinterpreter]>=0.2.7->interpret>=0.2.7->pycaret[full]) (2021.11.2)\n",
            "Requirement already satisfied: threadpoolctl>=2.0.0 in /usr/local/lib/python3.7/dist-packages (from scikit-learn>=1.0->pycaret[full]) (3.1.0)\n",
            "Requirement already satisfied: daal4py==2021.6.3 in /usr/local/lib/python3.7/dist-packages (from scikit-learn-intelex>=2021.6.3->pycaret[full]) (2021.6.3)\n",
            "Requirement already satisfied: daal==2021.6.0 in /usr/local/lib/python3.7/dist-packages (from daal4py==2021.6.3->scikit-learn-intelex>=2021.6.3->pycaret[full]) (2021.6.0)\n",
            "Requirement already satisfied: tbb==2021.* in /usr/local/lib/python3.7/dist-packages (from daal==2021.6.0->daal4py==2021.6.3->scikit-learn-intelex>=2021.6.3->pycaret[full]) (2021.7.0)\n",
            "Requirement already satisfied: pyaml>=16.9 in /usr/local/lib/python3.7/dist-packages (from scikit-optimize>=0.9.0->pycaret[full]) (21.10.1)\n",
            "Requirement already satisfied: slicer==0.0.7 in /usr/local/lib/python3.7/dist-packages (from shap>=0.38.0->pycaret[full]) (0.0.7)\n",
            "Requirement already satisfied: deprecated>=1.2.13 in /usr/local/lib/python3.7/dist-packages (from sktime~=0.13.2->pycaret[full]) (1.2.13)\n",
            "Requirement already satisfied: wrapt<2,>=1.10 in /usr/local/lib/python3.7/dist-packages (from deprecated>=1.2.13->sktime~=0.13.2->pycaret[full]) (1.14.1)\n",
            "Requirement already satisfied: fs in /usr/local/lib/python3.7/dist-packages (from triad>=0.6.0->fugue~=0.6.6->pycaret[full]) (2.4.16)\n",
            "Requirement already satisfied: pynndescent>=0.5 in /usr/local/lib/python3.7/dist-packages (from umap-learn>=0.5.2->pycaret[full]) (0.5.7)\n",
            "Requirement already satisfied: notebook>=4.4.1 in /usr/local/lib/python3.7/dist-packages (from widgetsnbextension~=3.6.0->ipywidgets>=7.6.5->pycaret[full]) (5.3.1)\n",
            "Requirement already satisfied: Send2Trash in /usr/local/lib/python3.7/dist-packages (from notebook>=4.4.1->widgetsnbextension~=3.6.0->ipywidgets>=7.6.5->pycaret[full]) (1.8.0)\n",
            "Requirement already satisfied: nbformat in /usr/local/lib/python3.7/dist-packages (from notebook>=4.4.1->widgetsnbextension~=3.6.0->ipywidgets>=7.6.5->pycaret[full]) (5.6.1)\n",
            "Requirement already satisfied: nbconvert in /usr/local/lib/python3.7/dist-packages (from notebook>=4.4.1->widgetsnbextension~=3.6.0->ipywidgets>=7.6.5->pycaret[full]) (5.6.1)\n",
            "Requirement already satisfied: jupyter-core>=4.4.0 in /usr/local/lib/python3.7/dist-packages (from notebook>=4.4.1->widgetsnbextension~=3.6.0->ipywidgets>=7.6.5->pycaret[full]) (4.11.1)\n",
            "Requirement already satisfied: terminado>=0.8.1 in /usr/local/lib/python3.7/dist-packages (from notebook>=4.4.1->widgetsnbextension~=3.6.0->ipywidgets>=7.6.5->pycaret[full]) (0.13.3)\n",
            "Requirement already satisfied: pyzmq>=13 in /usr/local/lib/python3.7/dist-packages (from jupyter-client->ipykernel>=5.1.0->interpret-core[dash,debug,decisiontree,ebm,lime,linear,notebook,plotly,required,sensitivity,shap,skoperules,treeinterpreter]>=0.2.7->interpret>=0.2.7->pycaret[full]) (23.2.1)\n",
            "Requirement already satisfied: ptyprocess in /usr/local/lib/python3.7/dist-packages (from terminado>=0.8.1->notebook>=4.4.1->widgetsnbextension~=3.6.0->ipywidgets>=7.6.5->pycaret[full]) (0.7.0)\n",
            "Requirement already satisfied: async-timeout<5.0,>=4.0.0a3 in /usr/local/lib/python3.7/dist-packages (from aiohttp->gradio>=2.8.10->pycaret[full]) (4.0.2)\n",
            "Requirement already satisfied: asynctest==0.13.0 in /usr/local/lib/python3.7/dist-packages (from aiohttp->gradio>=2.8.10->pycaret[full]) (0.13.0)\n",
            "Requirement already satisfied: multidict<7.0,>=4.5 in /usr/local/lib/python3.7/dist-packages (from aiohttp->gradio>=2.8.10->pycaret[full]) (6.0.2)\n",
            "Requirement already satisfied: yarl<2.0,>=1.0 in /usr/local/lib/python3.7/dist-packages (from aiohttp->gradio>=2.8.10->pycaret[full]) (1.8.1)\n",
            "Requirement already satisfied: webencodings in /usr/local/lib/python3.7/dist-packages (from bleach->panel~=0.12.6->autoviz>=0.1.36->pycaret[full]) (0.5.1)\n",
            "Requirement already satisfied: cmd2>=1.0.0 in /usr/local/lib/python3.7/dist-packages (from cliff->optuna>=2.2.0->pycaret[full]) (2.4.2)\n",
            "Requirement already satisfied: pbr!=2.1.0,>=2.0.0 in /usr/local/lib/python3.7/dist-packages (from cliff->optuna>=2.2.0->pycaret[full]) (5.10.0)\n",
            "Requirement already satisfied: autopage>=0.4.0 in /usr/local/lib/python3.7/dist-packages (from cliff->optuna>=2.2.0->pycaret[full]) (0.5.1)\n",
            "Requirement already satisfied: stevedore>=2.0.1 in /usr/local/lib/python3.7/dist-packages (from cliff->optuna>=2.2.0->pycaret[full]) (3.5.0)\n",
            "Requirement already satisfied: PrettyTable>=0.7.2 in /usr/local/lib/python3.7/dist-packages (from cliff->optuna>=2.2.0->pycaret[full]) (3.4.1)\n",
            "Requirement already satisfied: pyperclip>=1.6 in /usr/local/lib/python3.7/dist-packages (from cmd2>=1.0.0->cliff->optuna>=2.2.0->pycaret[full]) (1.8.2)\n",
            "Requirement already satisfied: chart-studio>=1.0.0 in /usr/local/lib/python3.7/dist-packages (from dash-auth->explainerdashboard>=0.3.8->pycaret[full]) (1.1.0)\n",
            "Requirement already satisfied: ua-parser in /usr/local/lib/python3.7/dist-packages (from dash-auth->explainerdashboard>=0.3.8->pycaret[full]) (0.16.1)\n",
            "Requirement already satisfied: flask-seasurf in /usr/local/lib/python3.7/dist-packages (from dash-auth->explainerdashboard>=0.3.8->pycaret[full]) (1.1.1)\n",
            "Requirement already satisfied: selenium<=4.2.0,>=3.141.0 in /usr/local/lib/python3.7/dist-packages (from dash[testing]->pycaret[full]) (4.2.0)\n",
            "Requirement already satisfied: beautifulsoup4>=4.8.2 in /usr/local/lib/python3.7/dist-packages (from dash[testing]->pycaret[full]) (4.11.1)\n",
            "Requirement already satisfied: percy>=2.0.2 in /usr/local/lib/python3.7/dist-packages (from dash[testing]->pycaret[full]) (2.0.2)\n",
            "Requirement already satisfied: lxml>=4.6.2 in /usr/local/lib/python3.7/dist-packages (from dash[testing]->pycaret[full]) (4.9.1)\n",
            "Requirement already satisfied: multiprocess>=0.70.12 in /usr/local/lib/python3.7/dist-packages (from dash[testing]->pycaret[full]) (0.70.13)\n",
            "Requirement already satisfied: soupsieve>1.2 in /usr/local/lib/python3.7/dist-packages (from beautifulsoup4>=4.8.2->dash[testing]->pycaret[full]) (2.3.2.post1)\n",
            "Requirement already satisfied: trio-websocket~=0.9 in /usr/local/lib/python3.7/dist-packages (from selenium<=4.2.0,>=3.141.0->dash[testing]->pycaret[full]) (0.9.2)\n",
            "Requirement already satisfied: trio~=0.17 in /usr/local/lib/python3.7/dist-packages (from selenium<=4.2.0,>=3.141.0->dash[testing]->pycaret[full]) (0.22.0)\n",
            "Requirement already satisfied: async-generator>=1.9 in /usr/local/lib/python3.7/dist-packages (from trio~=0.17->selenium<=4.2.0,>=3.141.0->dash[testing]->pycaret[full]) (1.10)\n",
            "Requirement already satisfied: sortedcontainers in /usr/local/lib/python3.7/dist-packages (from trio~=0.17->selenium<=4.2.0,>=3.141.0->dash[testing]->pycaret[full]) (2.4.0)\n",
            "Requirement already satisfied: outcome in /usr/local/lib/python3.7/dist-packages (from trio~=0.17->selenium<=4.2.0,>=3.141.0->dash[testing]->pycaret[full]) (1.2.0)\n",
            "Requirement already satisfied: exceptiongroup>=1.0.0rc9 in /usr/local/lib/python3.7/dist-packages (from trio~=0.17->selenium<=4.2.0,>=3.141.0->dash[testing]->pycaret[full]) (1.0.0rc9)\n",
            "Requirement already satisfied: wsproto>=0.14 in /usr/local/lib/python3.7/dist-packages (from trio-websocket~=0.9->selenium<=4.2.0,>=3.141.0->dash[testing]->pycaret[full]) (1.2.0)\n",
            "Requirement already satisfied: PySocks!=1.5.7,<2.0,>=1.5.6 in /usr/local/lib/python3.7/dist-packages (from urllib3<1.27,>=1.25.4->botocore<1.28.0,>=1.27.89->boto3>=1.24.56->pycaret[full]) (1.7.1)\n",
            "Requirement already satisfied: pyOpenSSL>=0.14 in /usr/local/lib/python3.7/dist-packages (from urllib3<1.27,>=1.25.4->botocore<1.28.0,>=1.27.89->boto3>=1.24.56->pycaret[full]) (22.1.0)\n",
            "Requirement already satisfied: urllib3-secure-extra in /usr/local/lib/python3.7/dist-packages (from urllib3<1.27,>=1.25.4->botocore<1.28.0,>=1.27.89->boto3>=1.24.56->pycaret[full]) (0.1.0)\n",
            "Requirement already satisfied: brotli in /usr/local/lib/python3.7/dist-packages (from flask-compress->dash[testing]->pycaret[full]) (1.0.9)\n",
            "Requirement already satisfied: Flask-WTF<0.16.0,>=0.15.1 in /usr/local/lib/python3.7/dist-packages (from flask-simplelogin->explainerdashboard>=0.3.8->pycaret[full]) (0.15.1)\n",
            "Requirement already satisfied: WTForms>=2.1 in /usr/local/lib/python3.7/dist-packages (from flask-simplelogin->explainerdashboard>=0.3.8->pycaret[full]) (3.0.1)\n",
            "Requirement already satisfied: appdirs~=1.4.3 in /usr/local/lib/python3.7/dist-packages (from fs->triad>=0.6.0->fugue~=0.6.6->pycaret[full]) (1.4.4)\n",
            "Requirement already satisfied: httpcore<0.14.0,>=0.13.3 in /usr/local/lib/python3.7/dist-packages (from httpx->gradio>=2.8.10->pycaret[full]) (0.13.7)\n",
            "Requirement already satisfied: rfc3986[idna2008]<2,>=1.3 in /usr/local/lib/python3.7/dist-packages (from httpx->gradio>=2.8.10->pycaret[full]) (1.5.0)\n",
            "Requirement already satisfied: pyrsistent!=0.17.0,!=0.17.1,!=0.17.2,>=0.14.0 in /usr/local/lib/python3.7/dist-packages (from jsonschema->ray[tune]>=1.0.0->pycaret[full]) (0.18.1)\n",
            "Requirement already satisfied: jupyter-console in /usr/local/lib/python3.7/dist-packages (from jupyter->autoviz>=0.1.36->pycaret[full]) (6.1.0)\n",
            "Requirement already satisfied: qtconsole in /usr/local/lib/python3.7/dist-packages (from jupyter->autoviz>=0.1.36->pycaret[full]) (5.3.2)\n",
            "Requirement already satisfied: mdurl~=0.1 in /usr/local/lib/python3.7/dist-packages (from markdown-it-py[linkify,plugins]->gradio>=2.8.10->pycaret[full]) (0.1.2)\n",
            "Requirement already satisfied: linkify-it-py~=1.0 in /usr/local/lib/python3.7/dist-packages (from markdown-it-py[linkify,plugins]->gradio>=2.8.10->pycaret[full]) (1.0.3)\n",
            "Requirement already satisfied: mdit-py-plugins in /usr/local/lib/python3.7/dist-packages (from markdown-it-py[linkify,plugins]->gradio>=2.8.10->pycaret[full]) (0.3.1)\n",
            "Requirement already satisfied: uc-micro-py in /usr/local/lib/python3.7/dist-packages (from linkify-it-py~=1.0->markdown-it-py[linkify,plugins]->gradio>=2.8.10->pycaret[full]) (1.0.1)\n",
            "Requirement already satisfied: mistune<2,>=0.8.1 in /usr/local/lib/python3.7/dist-packages (from nbconvert->notebook>=4.4.1->widgetsnbextension~=3.6.0->ipywidgets>=7.6.5->pycaret[full]) (0.8.4)\n",
            "Requirement already satisfied: testpath in /usr/local/lib/python3.7/dist-packages (from nbconvert->notebook>=4.4.1->widgetsnbextension~=3.6.0->ipywidgets>=7.6.5->pycaret[full]) (0.6.0)\n",
            "Requirement already satisfied: pandocfilters>=1.4.1 in /usr/local/lib/python3.7/dist-packages (from nbconvert->notebook>=4.4.1->widgetsnbextension~=3.6.0->ipywidgets>=7.6.5->pycaret[full]) (1.5.0)\n",
            "Requirement already satisfied: defusedxml in /usr/local/lib/python3.7/dist-packages (from nbconvert->notebook>=4.4.1->widgetsnbextension~=3.6.0->ipywidgets>=7.6.5->pycaret[full]) (0.7.1)\n",
            "Requirement already satisfied: fastjsonschema in /usr/local/lib/python3.7/dist-packages (from nbformat->notebook>=4.4.1->widgetsnbextension~=3.6.0->ipywidgets>=7.6.5->pycaret[full]) (2.16.2)\n",
            "Requirement already satisfied: regex>=2021.8.3 in /usr/local/lib/python3.7/dist-packages (from nltk->autoviz>=0.1.36->pycaret[full]) (2022.6.2)\n",
            "Requirement already satisfied: pynacl>=1.0.1 in /usr/local/lib/python3.7/dist-packages (from paramiko->gradio>=2.8.10->pycaret[full]) (1.5.0)\n",
            "Requirement already satisfied: bcrypt>=3.1.3 in /usr/local/lib/python3.7/dist-packages (from paramiko->gradio>=2.8.10->pycaret[full]) (4.0.1)\n",
            "Requirement already satisfied: pox>=0.3.1 in /usr/local/lib/python3.7/dist-packages (from pathos->SALib>=1.3.3->interpret-core[dash,debug,decisiontree,ebm,lime,linear,notebook,plotly,required,sensitivity,shap,skoperules,treeinterpreter]>=0.2.7->interpret>=0.2.7->pycaret[full]) (0.3.1)\n",
            "Requirement already satisfied: ppft>=1.7.6.5 in /usr/local/lib/python3.7/dist-packages (from pathos->SALib>=1.3.3->interpret-core[dash,debug,decisiontree,ebm,lime,linear,notebook,plotly,required,sensitivity,shap,skoperules,treeinterpreter]>=0.2.7->interpret>=0.2.7->pycaret[full]) (1.7.6.5)\n",
            "Requirement already satisfied: qtpy>=2.0.1 in /usr/local/lib/python3.7/dist-packages (from qtconsole->jupyter->autoviz>=0.1.36->pycaret[full]) (2.2.1)\n",
            "Requirement already satisfied: distlib<1,>=0.3.5 in /usr/local/lib/python3.7/dist-packages (from virtualenv->ray[tune]>=1.0.0->pycaret[full]) (0.3.6)\n",
            "Requirement already satisfied: platformdirs<3,>=2.4 in /usr/local/lib/python3.7/dist-packages (from virtualenv->ray[tune]>=1.0.0->pycaret[full]) (2.5.2)\n"
          ]
        }
      ]
    },
    {
      "cell_type": "markdown",
      "metadata": {
        "id": "aFDMU-W_5qMZ"
      },
      "source": [
        "## **Habilitando bibliotecas necesarias**"
      ]
    },
    {
      "cell_type": "markdown",
      "metadata": {
        "id": "LmVSWh0aMaQc"
      },
      "source": [
        "### **Para el tratamiento de los datos**"
      ]
    },
    {
      "cell_type": "code",
      "metadata": {
        "id": "ws0qZHpS3WUG"
      },
      "source": [
        "import pandas as pd\n",
        "import numpy as np"
      ],
      "execution_count": 2,
      "outputs": []
    },
    {
      "cell_type": "markdown",
      "source": [
        "### **PyCaret**"
      ],
      "metadata": {
        "id": "zKRVLek_KeAf"
      }
    },
    {
      "cell_type": "code",
      "source": [
        "from pycaret.clustering import *"
      ],
      "metadata": {
        "id": "YkYalBUhKgnN"
      },
      "execution_count": 3,
      "outputs": []
    },
    {
      "cell_type": "markdown",
      "metadata": {
        "id": "QhP9QDanakVE"
      },
      "source": [
        "## **Extracción de Datos - Creación del DataFrame**"
      ]
    },
    {
      "cell_type": "markdown",
      "metadata": {
        "id": "rbXC-iIj5jeO"
      },
      "source": [
        "El dataframe contiene 5 variables y 400 observaciones. \n",
        "\n",
        "Las variables indican:\n",
        "- **ID:** La identificación del cliente\n",
        "- **Trabajo:** Corresponde 1 cuando es dependiente y 0 cuando es independiente\n",
        "- **Edad:** La edad del cliente\n",
        "- **Salario:** El salario estimado del cliente\n",
        "- **Compra:** Si, cuando el cliente ha comprado y no cuando no lo ha hecho.\n",
        "\n",
        "Pero para el desarrollo del algoritmo se simplificara a un problema bidimensional, seleccionando las variables de edad y salario."
      ]
    },
    {
      "cell_type": "code",
      "metadata": {
        "id": "G8vmNkoHasus"
      },
      "source": [
        "datos = \"https://raw.githubusercontent.com/cristiandarioortegayubro/BA/main/Datasets/Clientes.csv\""
      ],
      "execution_count": 4,
      "outputs": []
    },
    {
      "cell_type": "code",
      "metadata": {
        "colab": {
          "base_uri": "https://localhost:8080/",
          "height": 204
        },
        "id": "w1CY0Bo-b1Nh",
        "outputId": "ca2bd296-35b1-41f8-e40f-182a2516d0a2"
      },
      "source": [
        "datos = pd.read_csv(datos)\n",
        "datos.head()"
      ],
      "execution_count": 5,
      "outputs": [
        {
          "output_type": "execute_result",
          "data": {
            "text/plain": [
              "         ID  Trabajo  Edad  Salario Compra\n",
              "0  15624510        1    19    19000     No\n",
              "1  15810944        1    35    20000     No\n",
              "2  15668575        0    26    43000     No\n",
              "3  15603246        0    27    57000     No\n",
              "4  15804002        1    19    76000     No"
            ],
            "text/html": [
              "\n",
              "  <div id=\"df-67842b2e-9ba9-4813-9314-ef060131072c\">\n",
              "    <div class=\"colab-df-container\">\n",
              "      <div>\n",
              "<style scoped>\n",
              "    .dataframe tbody tr th:only-of-type {\n",
              "        vertical-align: middle;\n",
              "    }\n",
              "\n",
              "    .dataframe tbody tr th {\n",
              "        vertical-align: top;\n",
              "    }\n",
              "\n",
              "    .dataframe thead th {\n",
              "        text-align: right;\n",
              "    }\n",
              "</style>\n",
              "<table border=\"1\" class=\"dataframe\">\n",
              "  <thead>\n",
              "    <tr style=\"text-align: right;\">\n",
              "      <th></th>\n",
              "      <th>ID</th>\n",
              "      <th>Trabajo</th>\n",
              "      <th>Edad</th>\n",
              "      <th>Salario</th>\n",
              "      <th>Compra</th>\n",
              "    </tr>\n",
              "  </thead>\n",
              "  <tbody>\n",
              "    <tr>\n",
              "      <th>0</th>\n",
              "      <td>15624510</td>\n",
              "      <td>1</td>\n",
              "      <td>19</td>\n",
              "      <td>19000</td>\n",
              "      <td>No</td>\n",
              "    </tr>\n",
              "    <tr>\n",
              "      <th>1</th>\n",
              "      <td>15810944</td>\n",
              "      <td>1</td>\n",
              "      <td>35</td>\n",
              "      <td>20000</td>\n",
              "      <td>No</td>\n",
              "    </tr>\n",
              "    <tr>\n",
              "      <th>2</th>\n",
              "      <td>15668575</td>\n",
              "      <td>0</td>\n",
              "      <td>26</td>\n",
              "      <td>43000</td>\n",
              "      <td>No</td>\n",
              "    </tr>\n",
              "    <tr>\n",
              "      <th>3</th>\n",
              "      <td>15603246</td>\n",
              "      <td>0</td>\n",
              "      <td>27</td>\n",
              "      <td>57000</td>\n",
              "      <td>No</td>\n",
              "    </tr>\n",
              "    <tr>\n",
              "      <th>4</th>\n",
              "      <td>15804002</td>\n",
              "      <td>1</td>\n",
              "      <td>19</td>\n",
              "      <td>76000</td>\n",
              "      <td>No</td>\n",
              "    </tr>\n",
              "  </tbody>\n",
              "</table>\n",
              "</div>\n",
              "      <button class=\"colab-df-convert\" onclick=\"convertToInteractive('df-67842b2e-9ba9-4813-9314-ef060131072c')\"\n",
              "              title=\"Convert this dataframe to an interactive table.\"\n",
              "              style=\"display:none;\">\n",
              "        \n",
              "  <svg xmlns=\"http://www.w3.org/2000/svg\" height=\"24px\"viewBox=\"0 0 24 24\"\n",
              "       width=\"24px\">\n",
              "    <path d=\"M0 0h24v24H0V0z\" fill=\"none\"/>\n",
              "    <path d=\"M18.56 5.44l.94 2.06.94-2.06 2.06-.94-2.06-.94-.94-2.06-.94 2.06-2.06.94zm-11 1L8.5 8.5l.94-2.06 2.06-.94-2.06-.94L8.5 2.5l-.94 2.06-2.06.94zm10 10l.94 2.06.94-2.06 2.06-.94-2.06-.94-.94-2.06-.94 2.06-2.06.94z\"/><path d=\"M17.41 7.96l-1.37-1.37c-.4-.4-.92-.59-1.43-.59-.52 0-1.04.2-1.43.59L10.3 9.45l-7.72 7.72c-.78.78-.78 2.05 0 2.83L4 21.41c.39.39.9.59 1.41.59.51 0 1.02-.2 1.41-.59l7.78-7.78 2.81-2.81c.8-.78.8-2.07 0-2.86zM5.41 20L4 18.59l7.72-7.72 1.47 1.35L5.41 20z\"/>\n",
              "  </svg>\n",
              "      </button>\n",
              "      \n",
              "  <style>\n",
              "    .colab-df-container {\n",
              "      display:flex;\n",
              "      flex-wrap:wrap;\n",
              "      gap: 12px;\n",
              "    }\n",
              "\n",
              "    .colab-df-convert {\n",
              "      background-color: #E8F0FE;\n",
              "      border: none;\n",
              "      border-radius: 50%;\n",
              "      cursor: pointer;\n",
              "      display: none;\n",
              "      fill: #1967D2;\n",
              "      height: 32px;\n",
              "      padding: 0 0 0 0;\n",
              "      width: 32px;\n",
              "    }\n",
              "\n",
              "    .colab-df-convert:hover {\n",
              "      background-color: #E2EBFA;\n",
              "      box-shadow: 0px 1px 2px rgba(60, 64, 67, 0.3), 0px 1px 3px 1px rgba(60, 64, 67, 0.15);\n",
              "      fill: #174EA6;\n",
              "    }\n",
              "\n",
              "    [theme=dark] .colab-df-convert {\n",
              "      background-color: #3B4455;\n",
              "      fill: #D2E3FC;\n",
              "    }\n",
              "\n",
              "    [theme=dark] .colab-df-convert:hover {\n",
              "      background-color: #434B5C;\n",
              "      box-shadow: 0px 1px 3px 1px rgba(0, 0, 0, 0.15);\n",
              "      filter: drop-shadow(0px 1px 2px rgba(0, 0, 0, 0.3));\n",
              "      fill: #FFFFFF;\n",
              "    }\n",
              "  </style>\n",
              "\n",
              "      <script>\n",
              "        const buttonEl =\n",
              "          document.querySelector('#df-67842b2e-9ba9-4813-9314-ef060131072c button.colab-df-convert');\n",
              "        buttonEl.style.display =\n",
              "          google.colab.kernel.accessAllowed ? 'block' : 'none';\n",
              "\n",
              "        async function convertToInteractive(key) {\n",
              "          const element = document.querySelector('#df-67842b2e-9ba9-4813-9314-ef060131072c');\n",
              "          const dataTable =\n",
              "            await google.colab.kernel.invokeFunction('convertToInteractive',\n",
              "                                                     [key], {});\n",
              "          if (!dataTable) return;\n",
              "\n",
              "          const docLinkHtml = 'Like what you see? Visit the ' +\n",
              "            '<a target=\"_blank\" href=https://colab.research.google.com/notebooks/data_table.ipynb>data table notebook</a>'\n",
              "            + ' to learn more about interactive tables.';\n",
              "          element.innerHTML = '';\n",
              "          dataTable['output_type'] = 'display_data';\n",
              "          await google.colab.output.renderOutput(dataTable, element);\n",
              "          const docLink = document.createElement('div');\n",
              "          docLink.innerHTML = docLinkHtml;\n",
              "          element.appendChild(docLink);\n",
              "        }\n",
              "      </script>\n",
              "    </div>\n",
              "  </div>\n",
              "  "
            ]
          },
          "metadata": {},
          "execution_count": 5
        }
      ]
    },
    {
      "cell_type": "markdown",
      "metadata": {
        "id": "m9pwgoyGmBCW"
      },
      "source": [
        "### **Limpieza**"
      ]
    },
    {
      "cell_type": "code",
      "metadata": {
        "colab": {
          "base_uri": "https://localhost:8080/"
        },
        "id": "J_fVqk_Cx1Us",
        "outputId": "5393e554-9968-4a03-bfdd-148afe860780"
      },
      "source": [
        "datos.info()"
      ],
      "execution_count": 6,
      "outputs": [
        {
          "output_type": "stream",
          "name": "stdout",
          "text": [
            "<class 'pandas.core.frame.DataFrame'>\n",
            "RangeIndex: 400 entries, 0 to 399\n",
            "Data columns (total 5 columns):\n",
            " #   Column   Non-Null Count  Dtype \n",
            "---  ------   --------------  ----- \n",
            " 0   ID       400 non-null    int64 \n",
            " 1   Trabajo  400 non-null    int64 \n",
            " 2   Edad     400 non-null    int64 \n",
            " 3   Salario  400 non-null    int64 \n",
            " 4   Compra   400 non-null    object\n",
            "dtypes: int64(4), object(1)\n",
            "memory usage: 15.8+ KB\n"
          ]
        }
      ]
    },
    {
      "cell_type": "code",
      "metadata": {
        "colab": {
          "base_uri": "https://localhost:8080/",
          "height": 142
        },
        "id": "f2UflgLqxhPR",
        "outputId": "62bffe47-309c-4b73-d4dd-1d3431cb0a27"
      },
      "source": [
        "datos = datos.drop(columns=[\"ID\",\"Trabajo\",\"Compra\"]) #se eliminan las variables no relevantes para este problema\n",
        "datos.head(3) #vista del dataframe"
      ],
      "execution_count": 7,
      "outputs": [
        {
          "output_type": "execute_result",
          "data": {
            "text/plain": [
              "   Edad  Salario\n",
              "0    19    19000\n",
              "1    35    20000\n",
              "2    26    43000"
            ],
            "text/html": [
              "\n",
              "  <div id=\"df-84b24098-6e2d-4ec6-88b1-22ac0639192a\">\n",
              "    <div class=\"colab-df-container\">\n",
              "      <div>\n",
              "<style scoped>\n",
              "    .dataframe tbody tr th:only-of-type {\n",
              "        vertical-align: middle;\n",
              "    }\n",
              "\n",
              "    .dataframe tbody tr th {\n",
              "        vertical-align: top;\n",
              "    }\n",
              "\n",
              "    .dataframe thead th {\n",
              "        text-align: right;\n",
              "    }\n",
              "</style>\n",
              "<table border=\"1\" class=\"dataframe\">\n",
              "  <thead>\n",
              "    <tr style=\"text-align: right;\">\n",
              "      <th></th>\n",
              "      <th>Edad</th>\n",
              "      <th>Salario</th>\n",
              "    </tr>\n",
              "  </thead>\n",
              "  <tbody>\n",
              "    <tr>\n",
              "      <th>0</th>\n",
              "      <td>19</td>\n",
              "      <td>19000</td>\n",
              "    </tr>\n",
              "    <tr>\n",
              "      <th>1</th>\n",
              "      <td>35</td>\n",
              "      <td>20000</td>\n",
              "    </tr>\n",
              "    <tr>\n",
              "      <th>2</th>\n",
              "      <td>26</td>\n",
              "      <td>43000</td>\n",
              "    </tr>\n",
              "  </tbody>\n",
              "</table>\n",
              "</div>\n",
              "      <button class=\"colab-df-convert\" onclick=\"convertToInteractive('df-84b24098-6e2d-4ec6-88b1-22ac0639192a')\"\n",
              "              title=\"Convert this dataframe to an interactive table.\"\n",
              "              style=\"display:none;\">\n",
              "        \n",
              "  <svg xmlns=\"http://www.w3.org/2000/svg\" height=\"24px\"viewBox=\"0 0 24 24\"\n",
              "       width=\"24px\">\n",
              "    <path d=\"M0 0h24v24H0V0z\" fill=\"none\"/>\n",
              "    <path d=\"M18.56 5.44l.94 2.06.94-2.06 2.06-.94-2.06-.94-.94-2.06-.94 2.06-2.06.94zm-11 1L8.5 8.5l.94-2.06 2.06-.94-2.06-.94L8.5 2.5l-.94 2.06-2.06.94zm10 10l.94 2.06.94-2.06 2.06-.94-2.06-.94-.94-2.06-.94 2.06-2.06.94z\"/><path d=\"M17.41 7.96l-1.37-1.37c-.4-.4-.92-.59-1.43-.59-.52 0-1.04.2-1.43.59L10.3 9.45l-7.72 7.72c-.78.78-.78 2.05 0 2.83L4 21.41c.39.39.9.59 1.41.59.51 0 1.02-.2 1.41-.59l7.78-7.78 2.81-2.81c.8-.78.8-2.07 0-2.86zM5.41 20L4 18.59l7.72-7.72 1.47 1.35L5.41 20z\"/>\n",
              "  </svg>\n",
              "      </button>\n",
              "      \n",
              "  <style>\n",
              "    .colab-df-container {\n",
              "      display:flex;\n",
              "      flex-wrap:wrap;\n",
              "      gap: 12px;\n",
              "    }\n",
              "\n",
              "    .colab-df-convert {\n",
              "      background-color: #E8F0FE;\n",
              "      border: none;\n",
              "      border-radius: 50%;\n",
              "      cursor: pointer;\n",
              "      display: none;\n",
              "      fill: #1967D2;\n",
              "      height: 32px;\n",
              "      padding: 0 0 0 0;\n",
              "      width: 32px;\n",
              "    }\n",
              "\n",
              "    .colab-df-convert:hover {\n",
              "      background-color: #E2EBFA;\n",
              "      box-shadow: 0px 1px 2px rgba(60, 64, 67, 0.3), 0px 1px 3px 1px rgba(60, 64, 67, 0.15);\n",
              "      fill: #174EA6;\n",
              "    }\n",
              "\n",
              "    [theme=dark] .colab-df-convert {\n",
              "      background-color: #3B4455;\n",
              "      fill: #D2E3FC;\n",
              "    }\n",
              "\n",
              "    [theme=dark] .colab-df-convert:hover {\n",
              "      background-color: #434B5C;\n",
              "      box-shadow: 0px 1px 3px 1px rgba(0, 0, 0, 0.15);\n",
              "      filter: drop-shadow(0px 1px 2px rgba(0, 0, 0, 0.3));\n",
              "      fill: #FFFFFF;\n",
              "    }\n",
              "  </style>\n",
              "\n",
              "      <script>\n",
              "        const buttonEl =\n",
              "          document.querySelector('#df-84b24098-6e2d-4ec6-88b1-22ac0639192a button.colab-df-convert');\n",
              "        buttonEl.style.display =\n",
              "          google.colab.kernel.accessAllowed ? 'block' : 'none';\n",
              "\n",
              "        async function convertToInteractive(key) {\n",
              "          const element = document.querySelector('#df-84b24098-6e2d-4ec6-88b1-22ac0639192a');\n",
              "          const dataTable =\n",
              "            await google.colab.kernel.invokeFunction('convertToInteractive',\n",
              "                                                     [key], {});\n",
              "          if (!dataTable) return;\n",
              "\n",
              "          const docLinkHtml = 'Like what you see? Visit the ' +\n",
              "            '<a target=\"_blank\" href=https://colab.research.google.com/notebooks/data_table.ipynb>data table notebook</a>'\n",
              "            + ' to learn more about interactive tables.';\n",
              "          element.innerHTML = '';\n",
              "          dataTable['output_type'] = 'display_data';\n",
              "          await google.colab.output.renderOutput(dataTable, element);\n",
              "          const docLink = document.createElement('div');\n",
              "          docLink.innerHTML = docLinkHtml;\n",
              "          element.appendChild(docLink);\n",
              "        }\n",
              "      </script>\n",
              "    </div>\n",
              "  </div>\n",
              "  "
            ]
          },
          "metadata": {},
          "execution_count": 7
        }
      ]
    },
    {
      "cell_type": "code",
      "metadata": {
        "id": "Nvwqcrp-uhAX",
        "colab": {
          "base_uri": "https://localhost:8080/"
        },
        "outputId": "58f23a4e-e09e-431a-84b1-6434771868ef"
      },
      "source": [
        "datos.shape"
      ],
      "execution_count": 8,
      "outputs": [
        {
          "output_type": "execute_result",
          "data": {
            "text/plain": [
              "(400, 2)"
            ]
          },
          "metadata": {},
          "execution_count": 8
        }
      ]
    },
    {
      "cell_type": "markdown",
      "metadata": {
        "id": "DIGOJB7Vp-TH"
      },
      "source": [
        "### **Dividiendo el conjunto de datos**"
      ]
    },
    {
      "cell_type": "code",
      "metadata": {
        "id": "hmd6P4Vsp9R2"
      },
      "source": [
        "clientes = datos.sample(frac = 0.75, random_state=0)\n",
        "clientes_no_vistos = datos.drop(clientes.index)"
      ],
      "execution_count": 9,
      "outputs": []
    },
    {
      "cell_type": "code",
      "metadata": {
        "id": "Hh4IWze2qfh2"
      },
      "source": [
        "clientes.reset_index(inplace=True, drop=True)\n",
        "clientes_no_vistos.reset_index(inplace=True, drop=True)"
      ],
      "execution_count": 10,
      "outputs": []
    },
    {
      "cell_type": "code",
      "metadata": {
        "colab": {
          "base_uri": "https://localhost:8080/"
        },
        "id": "OvtbkwiFqmNU",
        "outputId": "8971d03d-8227-4083-f9a9-e38aeee9f74d"
      },
      "source": [
        "print(\"Datos para Modelar: \" + str(clientes.shape))\n",
        "print(\"Datos no vistos para Predicciones: \" + str(clientes_no_vistos.shape))"
      ],
      "execution_count": 11,
      "outputs": [
        {
          "output_type": "stream",
          "name": "stdout",
          "text": [
            "Datos para Modelar: (300, 2)\n",
            "Datos no vistos para Predicciones: (100, 2)\n"
          ]
        }
      ]
    },
    {
      "cell_type": "code",
      "metadata": {
        "colab": {
          "base_uri": "https://localhost:8080/",
          "height": 204
        },
        "id": "CDGuy0tGryZC",
        "outputId": "83813c3a-eba9-4cee-e6f3-5bc535c03072"
      },
      "source": [
        "clientes.head()"
      ],
      "execution_count": 12,
      "outputs": [
        {
          "output_type": "execute_result",
          "data": {
            "text/plain": [
              "   Edad  Salario\n",
              "0    30    87000\n",
              "1    38    50000\n",
              "2    35    75000\n",
              "3    30    79000\n",
              "4    35    50000"
            ],
            "text/html": [
              "\n",
              "  <div id=\"df-f5f4a755-734e-4d19-a567-fc6fbebfdf20\">\n",
              "    <div class=\"colab-df-container\">\n",
              "      <div>\n",
              "<style scoped>\n",
              "    .dataframe tbody tr th:only-of-type {\n",
              "        vertical-align: middle;\n",
              "    }\n",
              "\n",
              "    .dataframe tbody tr th {\n",
              "        vertical-align: top;\n",
              "    }\n",
              "\n",
              "    .dataframe thead th {\n",
              "        text-align: right;\n",
              "    }\n",
              "</style>\n",
              "<table border=\"1\" class=\"dataframe\">\n",
              "  <thead>\n",
              "    <tr style=\"text-align: right;\">\n",
              "      <th></th>\n",
              "      <th>Edad</th>\n",
              "      <th>Salario</th>\n",
              "    </tr>\n",
              "  </thead>\n",
              "  <tbody>\n",
              "    <tr>\n",
              "      <th>0</th>\n",
              "      <td>30</td>\n",
              "      <td>87000</td>\n",
              "    </tr>\n",
              "    <tr>\n",
              "      <th>1</th>\n",
              "      <td>38</td>\n",
              "      <td>50000</td>\n",
              "    </tr>\n",
              "    <tr>\n",
              "      <th>2</th>\n",
              "      <td>35</td>\n",
              "      <td>75000</td>\n",
              "    </tr>\n",
              "    <tr>\n",
              "      <th>3</th>\n",
              "      <td>30</td>\n",
              "      <td>79000</td>\n",
              "    </tr>\n",
              "    <tr>\n",
              "      <th>4</th>\n",
              "      <td>35</td>\n",
              "      <td>50000</td>\n",
              "    </tr>\n",
              "  </tbody>\n",
              "</table>\n",
              "</div>\n",
              "      <button class=\"colab-df-convert\" onclick=\"convertToInteractive('df-f5f4a755-734e-4d19-a567-fc6fbebfdf20')\"\n",
              "              title=\"Convert this dataframe to an interactive table.\"\n",
              "              style=\"display:none;\">\n",
              "        \n",
              "  <svg xmlns=\"http://www.w3.org/2000/svg\" height=\"24px\"viewBox=\"0 0 24 24\"\n",
              "       width=\"24px\">\n",
              "    <path d=\"M0 0h24v24H0V0z\" fill=\"none\"/>\n",
              "    <path d=\"M18.56 5.44l.94 2.06.94-2.06 2.06-.94-2.06-.94-.94-2.06-.94 2.06-2.06.94zm-11 1L8.5 8.5l.94-2.06 2.06-.94-2.06-.94L8.5 2.5l-.94 2.06-2.06.94zm10 10l.94 2.06.94-2.06 2.06-.94-2.06-.94-.94-2.06-.94 2.06-2.06.94z\"/><path d=\"M17.41 7.96l-1.37-1.37c-.4-.4-.92-.59-1.43-.59-.52 0-1.04.2-1.43.59L10.3 9.45l-7.72 7.72c-.78.78-.78 2.05 0 2.83L4 21.41c.39.39.9.59 1.41.59.51 0 1.02-.2 1.41-.59l7.78-7.78 2.81-2.81c.8-.78.8-2.07 0-2.86zM5.41 20L4 18.59l7.72-7.72 1.47 1.35L5.41 20z\"/>\n",
              "  </svg>\n",
              "      </button>\n",
              "      \n",
              "  <style>\n",
              "    .colab-df-container {\n",
              "      display:flex;\n",
              "      flex-wrap:wrap;\n",
              "      gap: 12px;\n",
              "    }\n",
              "\n",
              "    .colab-df-convert {\n",
              "      background-color: #E8F0FE;\n",
              "      border: none;\n",
              "      border-radius: 50%;\n",
              "      cursor: pointer;\n",
              "      display: none;\n",
              "      fill: #1967D2;\n",
              "      height: 32px;\n",
              "      padding: 0 0 0 0;\n",
              "      width: 32px;\n",
              "    }\n",
              "\n",
              "    .colab-df-convert:hover {\n",
              "      background-color: #E2EBFA;\n",
              "      box-shadow: 0px 1px 2px rgba(60, 64, 67, 0.3), 0px 1px 3px 1px rgba(60, 64, 67, 0.15);\n",
              "      fill: #174EA6;\n",
              "    }\n",
              "\n",
              "    [theme=dark] .colab-df-convert {\n",
              "      background-color: #3B4455;\n",
              "      fill: #D2E3FC;\n",
              "    }\n",
              "\n",
              "    [theme=dark] .colab-df-convert:hover {\n",
              "      background-color: #434B5C;\n",
              "      box-shadow: 0px 1px 3px 1px rgba(0, 0, 0, 0.15);\n",
              "      filter: drop-shadow(0px 1px 2px rgba(0, 0, 0, 0.3));\n",
              "      fill: #FFFFFF;\n",
              "    }\n",
              "  </style>\n",
              "\n",
              "      <script>\n",
              "        const buttonEl =\n",
              "          document.querySelector('#df-f5f4a755-734e-4d19-a567-fc6fbebfdf20 button.colab-df-convert');\n",
              "        buttonEl.style.display =\n",
              "          google.colab.kernel.accessAllowed ? 'block' : 'none';\n",
              "\n",
              "        async function convertToInteractive(key) {\n",
              "          const element = document.querySelector('#df-f5f4a755-734e-4d19-a567-fc6fbebfdf20');\n",
              "          const dataTable =\n",
              "            await google.colab.kernel.invokeFunction('convertToInteractive',\n",
              "                                                     [key], {});\n",
              "          if (!dataTable) return;\n",
              "\n",
              "          const docLinkHtml = 'Like what you see? Visit the ' +\n",
              "            '<a target=\"_blank\" href=https://colab.research.google.com/notebooks/data_table.ipynb>data table notebook</a>'\n",
              "            + ' to learn more about interactive tables.';\n",
              "          element.innerHTML = '';\n",
              "          dataTable['output_type'] = 'display_data';\n",
              "          await google.colab.output.renderOutput(dataTable, element);\n",
              "          const docLink = document.createElement('div');\n",
              "          docLink.innerHTML = docLinkHtml;\n",
              "          element.appendChild(docLink);\n",
              "        }\n",
              "      </script>\n",
              "    </div>\n",
              "  </div>\n",
              "  "
            ]
          },
          "metadata": {},
          "execution_count": 12
        }
      ]
    },
    {
      "cell_type": "code",
      "metadata": {
        "colab": {
          "base_uri": "https://localhost:8080/",
          "height": 204
        },
        "id": "ZyJClQYEr7Oa",
        "outputId": "784f1e0f-d6ea-4200-c160-1689867e5287"
      },
      "source": [
        "clientes_no_vistos.head()"
      ],
      "execution_count": 13,
      "outputs": [
        {
          "output_type": "execute_result",
          "data": {
            "text/plain": [
              "   Edad  Salario\n",
              "0    35    65000\n",
              "1    47    20000\n",
              "2    29    43000\n",
              "3    27   137000\n",
              "4    21    16000"
            ],
            "text/html": [
              "\n",
              "  <div id=\"df-5cede1ef-1cef-4fd6-a394-efe2f8f1ee6d\">\n",
              "    <div class=\"colab-df-container\">\n",
              "      <div>\n",
              "<style scoped>\n",
              "    .dataframe tbody tr th:only-of-type {\n",
              "        vertical-align: middle;\n",
              "    }\n",
              "\n",
              "    .dataframe tbody tr th {\n",
              "        vertical-align: top;\n",
              "    }\n",
              "\n",
              "    .dataframe thead th {\n",
              "        text-align: right;\n",
              "    }\n",
              "</style>\n",
              "<table border=\"1\" class=\"dataframe\">\n",
              "  <thead>\n",
              "    <tr style=\"text-align: right;\">\n",
              "      <th></th>\n",
              "      <th>Edad</th>\n",
              "      <th>Salario</th>\n",
              "    </tr>\n",
              "  </thead>\n",
              "  <tbody>\n",
              "    <tr>\n",
              "      <th>0</th>\n",
              "      <td>35</td>\n",
              "      <td>65000</td>\n",
              "    </tr>\n",
              "    <tr>\n",
              "      <th>1</th>\n",
              "      <td>47</td>\n",
              "      <td>20000</td>\n",
              "    </tr>\n",
              "    <tr>\n",
              "      <th>2</th>\n",
              "      <td>29</td>\n",
              "      <td>43000</td>\n",
              "    </tr>\n",
              "    <tr>\n",
              "      <th>3</th>\n",
              "      <td>27</td>\n",
              "      <td>137000</td>\n",
              "    </tr>\n",
              "    <tr>\n",
              "      <th>4</th>\n",
              "      <td>21</td>\n",
              "      <td>16000</td>\n",
              "    </tr>\n",
              "  </tbody>\n",
              "</table>\n",
              "</div>\n",
              "      <button class=\"colab-df-convert\" onclick=\"convertToInteractive('df-5cede1ef-1cef-4fd6-a394-efe2f8f1ee6d')\"\n",
              "              title=\"Convert this dataframe to an interactive table.\"\n",
              "              style=\"display:none;\">\n",
              "        \n",
              "  <svg xmlns=\"http://www.w3.org/2000/svg\" height=\"24px\"viewBox=\"0 0 24 24\"\n",
              "       width=\"24px\">\n",
              "    <path d=\"M0 0h24v24H0V0z\" fill=\"none\"/>\n",
              "    <path d=\"M18.56 5.44l.94 2.06.94-2.06 2.06-.94-2.06-.94-.94-2.06-.94 2.06-2.06.94zm-11 1L8.5 8.5l.94-2.06 2.06-.94-2.06-.94L8.5 2.5l-.94 2.06-2.06.94zm10 10l.94 2.06.94-2.06 2.06-.94-2.06-.94-.94-2.06-.94 2.06-2.06.94z\"/><path d=\"M17.41 7.96l-1.37-1.37c-.4-.4-.92-.59-1.43-.59-.52 0-1.04.2-1.43.59L10.3 9.45l-7.72 7.72c-.78.78-.78 2.05 0 2.83L4 21.41c.39.39.9.59 1.41.59.51 0 1.02-.2 1.41-.59l7.78-7.78 2.81-2.81c.8-.78.8-2.07 0-2.86zM5.41 20L4 18.59l7.72-7.72 1.47 1.35L5.41 20z\"/>\n",
              "  </svg>\n",
              "      </button>\n",
              "      \n",
              "  <style>\n",
              "    .colab-df-container {\n",
              "      display:flex;\n",
              "      flex-wrap:wrap;\n",
              "      gap: 12px;\n",
              "    }\n",
              "\n",
              "    .colab-df-convert {\n",
              "      background-color: #E8F0FE;\n",
              "      border: none;\n",
              "      border-radius: 50%;\n",
              "      cursor: pointer;\n",
              "      display: none;\n",
              "      fill: #1967D2;\n",
              "      height: 32px;\n",
              "      padding: 0 0 0 0;\n",
              "      width: 32px;\n",
              "    }\n",
              "\n",
              "    .colab-df-convert:hover {\n",
              "      background-color: #E2EBFA;\n",
              "      box-shadow: 0px 1px 2px rgba(60, 64, 67, 0.3), 0px 1px 3px 1px rgba(60, 64, 67, 0.15);\n",
              "      fill: #174EA6;\n",
              "    }\n",
              "\n",
              "    [theme=dark] .colab-df-convert {\n",
              "      background-color: #3B4455;\n",
              "      fill: #D2E3FC;\n",
              "    }\n",
              "\n",
              "    [theme=dark] .colab-df-convert:hover {\n",
              "      background-color: #434B5C;\n",
              "      box-shadow: 0px 1px 3px 1px rgba(0, 0, 0, 0.15);\n",
              "      filter: drop-shadow(0px 1px 2px rgba(0, 0, 0, 0.3));\n",
              "      fill: #FFFFFF;\n",
              "    }\n",
              "  </style>\n",
              "\n",
              "      <script>\n",
              "        const buttonEl =\n",
              "          document.querySelector('#df-5cede1ef-1cef-4fd6-a394-efe2f8f1ee6d button.colab-df-convert');\n",
              "        buttonEl.style.display =\n",
              "          google.colab.kernel.accessAllowed ? 'block' : 'none';\n",
              "\n",
              "        async function convertToInteractive(key) {\n",
              "          const element = document.querySelector('#df-5cede1ef-1cef-4fd6-a394-efe2f8f1ee6d');\n",
              "          const dataTable =\n",
              "            await google.colab.kernel.invokeFunction('convertToInteractive',\n",
              "                                                     [key], {});\n",
              "          if (!dataTable) return;\n",
              "\n",
              "          const docLinkHtml = 'Like what you see? Visit the ' +\n",
              "            '<a target=\"_blank\" href=https://colab.research.google.com/notebooks/data_table.ipynb>data table notebook</a>'\n",
              "            + ' to learn more about interactive tables.';\n",
              "          element.innerHTML = '';\n",
              "          dataTable['output_type'] = 'display_data';\n",
              "          await google.colab.output.renderOutput(dataTable, element);\n",
              "          const docLink = document.createElement('div');\n",
              "          docLink.innerHTML = docLinkHtml;\n",
              "          element.appendChild(docLink);\n",
              "        }\n",
              "      </script>\n",
              "    </div>\n",
              "  </div>\n",
              "  "
            ]
          },
          "metadata": {},
          "execution_count": 13
        }
      ]
    },
    {
      "cell_type": "markdown",
      "metadata": {
        "id": "zaIIuDNisDtw"
      },
      "source": [
        "# **Configuración del entorno en PyCaret**"
      ]
    },
    {
      "cell_type": "markdown",
      "metadata": {
        "id": "89QSbNOm6_RP"
      },
      "source": [
        "***La función ```setup()``` inicializa el entorno en PyCaret y prepara los datos para el modelo seleccionado y la implementación de ese modelo. La función ```setup()``` debe ser llamada antes de ejecutar cualquier función de PyCaret.*** \n",
        "\n",
        "***Se necesitan dos parámetros obligatorios:***\n",
        "- Un marco de datos de Pandas y, \n",
        "- el nombre de la columna de destino. \n",
        "\n",
        "***Todos los demás parámetros son opcionales y se utilizan para personalizar el preprocesamiento de los datos.***"
      ]
    },
    {
      "cell_type": "markdown",
      "metadata": {
        "id": "SrtIqTKY7TEy"
      },
      "source": [
        "Cuando se ejecuta ```setup()```, el algoritmo de inferencia de PyCaret determina automáticamente los tipos de datos para todas las funciones en función de determinadas propiedades. \n",
        "\n",
        "El tipo de datos debe inferirse correctamente, pero no siempre es así. Para tener en cuenta esto, PyCaret muestra una tabla que contiene las características y sus tipos de datos inferidos después de que se ejecuta ```setup()```. \n",
        "\n",
        "Si todos los tipos de datos están identificados correctamente, se debe presionar enter para continuar o se puede ingresar salir para finalizar la experiencia. Asegurarse de que los tipos de datos sean correctos es  fundamental, ya que se realiza automáticamente algunas tareas de preprocesamiento que son imperativas para cualquier experimento de aprendizaje automático. \n",
        "\n",
        "Estas tareas se realizan de forma diferente para cada tipo de datos, por lo que es muy importante que estén configuradas correctamente."
      ]
    },
    {
      "cell_type": "code",
      "metadata": {
        "colab": {
          "base_uri": "https://localhost:8080/",
          "height": 483
        },
        "id": "C9NrD7gHsNjP",
        "outputId": "36c0318c-c9b9-4067-c5cb-a0c858dbfe4d"
      },
      "source": [
        "agrupacion = setup(clientes, session_id = 123)"
      ],
      "execution_count": 14,
      "outputs": [
        {
          "output_type": "display_data",
          "data": {
            "text/plain": [
              "<pandas.io.formats.style.Styler at 0x7f3f3e02a0d0>"
            ],
            "text/html": [
              "<style type=\"text/css\">\n",
              "#T_47b24_row4_col1 {\n",
              "  background-color: lightgreen;\n",
              "}\n",
              "</style>\n",
              "<table id=\"T_47b24_\" class=\"dataframe\">\n",
              "  <thead>\n",
              "    <tr>\n",
              "      <th class=\"blank level0\" >&nbsp;</th>\n",
              "      <th class=\"col_heading level0 col0\" >Description</th>\n",
              "      <th class=\"col_heading level0 col1\" >Value</th>\n",
              "    </tr>\n",
              "  </thead>\n",
              "  <tbody>\n",
              "    <tr>\n",
              "      <th id=\"T_47b24_level0_row0\" class=\"row_heading level0 row0\" >0</th>\n",
              "      <td id=\"T_47b24_row0_col0\" class=\"data row0 col0\" >Session id</td>\n",
              "      <td id=\"T_47b24_row0_col1\" class=\"data row0 col1\" >123</td>\n",
              "    </tr>\n",
              "    <tr>\n",
              "      <th id=\"T_47b24_level0_row1\" class=\"row_heading level0 row1\" >1</th>\n",
              "      <td id=\"T_47b24_row1_col0\" class=\"data row1 col0\" >Original data shape</td>\n",
              "      <td id=\"T_47b24_row1_col1\" class=\"data row1 col1\" >(300, 2)</td>\n",
              "    </tr>\n",
              "    <tr>\n",
              "      <th id=\"T_47b24_level0_row2\" class=\"row_heading level0 row2\" >2</th>\n",
              "      <td id=\"T_47b24_row2_col0\" class=\"data row2 col0\" >Transformed data shape</td>\n",
              "      <td id=\"T_47b24_row2_col1\" class=\"data row2 col1\" >(300, 2)</td>\n",
              "    </tr>\n",
              "    <tr>\n",
              "      <th id=\"T_47b24_level0_row3\" class=\"row_heading level0 row3\" >3</th>\n",
              "      <td id=\"T_47b24_row3_col0\" class=\"data row3 col0\" >Numeric features</td>\n",
              "      <td id=\"T_47b24_row3_col1\" class=\"data row3 col1\" >2</td>\n",
              "    </tr>\n",
              "    <tr>\n",
              "      <th id=\"T_47b24_level0_row4\" class=\"row_heading level0 row4\" >4</th>\n",
              "      <td id=\"T_47b24_row4_col0\" class=\"data row4 col0\" >Preprocess</td>\n",
              "      <td id=\"T_47b24_row4_col1\" class=\"data row4 col1\" >True</td>\n",
              "    </tr>\n",
              "    <tr>\n",
              "      <th id=\"T_47b24_level0_row5\" class=\"row_heading level0 row5\" >5</th>\n",
              "      <td id=\"T_47b24_row5_col0\" class=\"data row5 col0\" >Imputation type</td>\n",
              "      <td id=\"T_47b24_row5_col1\" class=\"data row5 col1\" >simple</td>\n",
              "    </tr>\n",
              "    <tr>\n",
              "      <th id=\"T_47b24_level0_row6\" class=\"row_heading level0 row6\" >6</th>\n",
              "      <td id=\"T_47b24_row6_col0\" class=\"data row6 col0\" >Numeric imputation</td>\n",
              "      <td id=\"T_47b24_row6_col1\" class=\"data row6 col1\" >mean</td>\n",
              "    </tr>\n",
              "    <tr>\n",
              "      <th id=\"T_47b24_level0_row7\" class=\"row_heading level0 row7\" >7</th>\n",
              "      <td id=\"T_47b24_row7_col0\" class=\"data row7 col0\" >Categorical imputation</td>\n",
              "      <td id=\"T_47b24_row7_col1\" class=\"data row7 col1\" >constant</td>\n",
              "    </tr>\n",
              "    <tr>\n",
              "      <th id=\"T_47b24_level0_row8\" class=\"row_heading level0 row8\" >8</th>\n",
              "      <td id=\"T_47b24_row8_col0\" class=\"data row8 col0\" >Low variance threshold</td>\n",
              "      <td id=\"T_47b24_row8_col1\" class=\"data row8 col1\" >0</td>\n",
              "    </tr>\n",
              "    <tr>\n",
              "      <th id=\"T_47b24_level0_row9\" class=\"row_heading level0 row9\" >9</th>\n",
              "      <td id=\"T_47b24_row9_col0\" class=\"data row9 col0\" >CPU Jobs</td>\n",
              "      <td id=\"T_47b24_row9_col1\" class=\"data row9 col1\" >-1</td>\n",
              "    </tr>\n",
              "    <tr>\n",
              "      <th id=\"T_47b24_level0_row10\" class=\"row_heading level0 row10\" >10</th>\n",
              "      <td id=\"T_47b24_row10_col0\" class=\"data row10 col0\" >Use GPU</td>\n",
              "      <td id=\"T_47b24_row10_col1\" class=\"data row10 col1\" >False</td>\n",
              "    </tr>\n",
              "    <tr>\n",
              "      <th id=\"T_47b24_level0_row11\" class=\"row_heading level0 row11\" >11</th>\n",
              "      <td id=\"T_47b24_row11_col0\" class=\"data row11 col0\" >Log Experiment</td>\n",
              "      <td id=\"T_47b24_row11_col1\" class=\"data row11 col1\" >False</td>\n",
              "    </tr>\n",
              "    <tr>\n",
              "      <th id=\"T_47b24_level0_row12\" class=\"row_heading level0 row12\" >12</th>\n",
              "      <td id=\"T_47b24_row12_col0\" class=\"data row12 col0\" >Experiment Name</td>\n",
              "      <td id=\"T_47b24_row12_col1\" class=\"data row12 col1\" >cluster-default-name</td>\n",
              "    </tr>\n",
              "    <tr>\n",
              "      <th id=\"T_47b24_level0_row13\" class=\"row_heading level0 row13\" >13</th>\n",
              "      <td id=\"T_47b24_row13_col0\" class=\"data row13 col0\" >USI</td>\n",
              "      <td id=\"T_47b24_row13_col1\" class=\"data row13 col1\" >3939</td>\n",
              "    </tr>\n",
              "  </tbody>\n",
              "</table>\n"
            ]
          },
          "metadata": {}
        }
      ]
    },
    {
      "cell_type": "markdown",
      "metadata": {
        "id": "CYRPuXBf7jBz"
      },
      "source": [
        "***Una vez que la configuración se ha ejecutado con éxito, se muestra un cuadro de información que contiene elementos importantes. La mayor parte de la información está relacionada con el preprocesamiento que se construye cuando se ejecuta ```setup()```.*** "
      ]
    },
    {
      "cell_type": "markdown",
      "metadata": {
        "id": "bUgm3be5toCQ"
      },
      "source": [
        "# **Creación del Modelo**"
      ]
    },
    {
      "cell_type": "code",
      "metadata": {
        "colab": {
          "base_uri": "https://localhost:8080/",
          "height": 359
        },
        "id": "d8uBBurnuAeo",
        "outputId": "dab42903-e897-4bbf-c9bb-25571591b16a"
      },
      "source": [
        "models()"
      ],
      "execution_count": 15,
      "outputs": [
        {
          "output_type": "execute_result",
          "data": {
            "text/plain": [
              "                                       Name  \\\n",
              "ID                                            \n",
              "kmeans                   K-Means Clustering   \n",
              "ap                     Affinity Propagation   \n",
              "meanshift             Mean Shift Clustering   \n",
              "sc                      Spectral Clustering   \n",
              "hclust             Agglomerative Clustering   \n",
              "dbscan     Density-Based Spatial Clustering   \n",
              "optics                    OPTICS Clustering   \n",
              "birch                      Birch Clustering   \n",
              "kmodes                   K-Modes Clustering   \n",
              "\n",
              "                                                   Reference  \n",
              "ID                                                            \n",
              "kmeans                        sklearn.cluster._kmeans.KMeans  \n",
              "ap         sklearn.cluster._affinity_propagation.Affinity...  \n",
              "meanshift              sklearn.cluster._mean_shift.MeanShift  \n",
              "sc              sklearn.cluster._spectral.SpectralClustering  \n",
              "hclust     sklearn.cluster._agglomerative.AgglomerativeCl...  \n",
              "dbscan                        sklearn.cluster._dbscan.DBSCAN  \n",
              "optics                        sklearn.cluster._optics.OPTICS  \n",
              "birch                           sklearn.cluster._birch.Birch  \n",
              "kmodes                                  kmodes.kmodes.KModes  "
            ],
            "text/html": [
              "\n",
              "  <div id=\"df-da258307-b45a-41a0-bad2-93c293b91d6e\">\n",
              "    <div class=\"colab-df-container\">\n",
              "      <div>\n",
              "<style scoped>\n",
              "    .dataframe tbody tr th:only-of-type {\n",
              "        vertical-align: middle;\n",
              "    }\n",
              "\n",
              "    .dataframe tbody tr th {\n",
              "        vertical-align: top;\n",
              "    }\n",
              "\n",
              "    .dataframe thead th {\n",
              "        text-align: right;\n",
              "    }\n",
              "</style>\n",
              "<table border=\"1\" class=\"dataframe\">\n",
              "  <thead>\n",
              "    <tr style=\"text-align: right;\">\n",
              "      <th></th>\n",
              "      <th>Name</th>\n",
              "      <th>Reference</th>\n",
              "    </tr>\n",
              "    <tr>\n",
              "      <th>ID</th>\n",
              "      <th></th>\n",
              "      <th></th>\n",
              "    </tr>\n",
              "  </thead>\n",
              "  <tbody>\n",
              "    <tr>\n",
              "      <th>kmeans</th>\n",
              "      <td>K-Means Clustering</td>\n",
              "      <td>sklearn.cluster._kmeans.KMeans</td>\n",
              "    </tr>\n",
              "    <tr>\n",
              "      <th>ap</th>\n",
              "      <td>Affinity Propagation</td>\n",
              "      <td>sklearn.cluster._affinity_propagation.Affinity...</td>\n",
              "    </tr>\n",
              "    <tr>\n",
              "      <th>meanshift</th>\n",
              "      <td>Mean Shift Clustering</td>\n",
              "      <td>sklearn.cluster._mean_shift.MeanShift</td>\n",
              "    </tr>\n",
              "    <tr>\n",
              "      <th>sc</th>\n",
              "      <td>Spectral Clustering</td>\n",
              "      <td>sklearn.cluster._spectral.SpectralClustering</td>\n",
              "    </tr>\n",
              "    <tr>\n",
              "      <th>hclust</th>\n",
              "      <td>Agglomerative Clustering</td>\n",
              "      <td>sklearn.cluster._agglomerative.AgglomerativeCl...</td>\n",
              "    </tr>\n",
              "    <tr>\n",
              "      <th>dbscan</th>\n",
              "      <td>Density-Based Spatial Clustering</td>\n",
              "      <td>sklearn.cluster._dbscan.DBSCAN</td>\n",
              "    </tr>\n",
              "    <tr>\n",
              "      <th>optics</th>\n",
              "      <td>OPTICS Clustering</td>\n",
              "      <td>sklearn.cluster._optics.OPTICS</td>\n",
              "    </tr>\n",
              "    <tr>\n",
              "      <th>birch</th>\n",
              "      <td>Birch Clustering</td>\n",
              "      <td>sklearn.cluster._birch.Birch</td>\n",
              "    </tr>\n",
              "    <tr>\n",
              "      <th>kmodes</th>\n",
              "      <td>K-Modes Clustering</td>\n",
              "      <td>kmodes.kmodes.KModes</td>\n",
              "    </tr>\n",
              "  </tbody>\n",
              "</table>\n",
              "</div>\n",
              "      <button class=\"colab-df-convert\" onclick=\"convertToInteractive('df-da258307-b45a-41a0-bad2-93c293b91d6e')\"\n",
              "              title=\"Convert this dataframe to an interactive table.\"\n",
              "              style=\"display:none;\">\n",
              "        \n",
              "  <svg xmlns=\"http://www.w3.org/2000/svg\" height=\"24px\"viewBox=\"0 0 24 24\"\n",
              "       width=\"24px\">\n",
              "    <path d=\"M0 0h24v24H0V0z\" fill=\"none\"/>\n",
              "    <path d=\"M18.56 5.44l.94 2.06.94-2.06 2.06-.94-2.06-.94-.94-2.06-.94 2.06-2.06.94zm-11 1L8.5 8.5l.94-2.06 2.06-.94-2.06-.94L8.5 2.5l-.94 2.06-2.06.94zm10 10l.94 2.06.94-2.06 2.06-.94-2.06-.94-.94-2.06-.94 2.06-2.06.94z\"/><path d=\"M17.41 7.96l-1.37-1.37c-.4-.4-.92-.59-1.43-.59-.52 0-1.04.2-1.43.59L10.3 9.45l-7.72 7.72c-.78.78-.78 2.05 0 2.83L4 21.41c.39.39.9.59 1.41.59.51 0 1.02-.2 1.41-.59l7.78-7.78 2.81-2.81c.8-.78.8-2.07 0-2.86zM5.41 20L4 18.59l7.72-7.72 1.47 1.35L5.41 20z\"/>\n",
              "  </svg>\n",
              "      </button>\n",
              "      \n",
              "  <style>\n",
              "    .colab-df-container {\n",
              "      display:flex;\n",
              "      flex-wrap:wrap;\n",
              "      gap: 12px;\n",
              "    }\n",
              "\n",
              "    .colab-df-convert {\n",
              "      background-color: #E8F0FE;\n",
              "      border: none;\n",
              "      border-radius: 50%;\n",
              "      cursor: pointer;\n",
              "      display: none;\n",
              "      fill: #1967D2;\n",
              "      height: 32px;\n",
              "      padding: 0 0 0 0;\n",
              "      width: 32px;\n",
              "    }\n",
              "\n",
              "    .colab-df-convert:hover {\n",
              "      background-color: #E2EBFA;\n",
              "      box-shadow: 0px 1px 2px rgba(60, 64, 67, 0.3), 0px 1px 3px 1px rgba(60, 64, 67, 0.15);\n",
              "      fill: #174EA6;\n",
              "    }\n",
              "\n",
              "    [theme=dark] .colab-df-convert {\n",
              "      background-color: #3B4455;\n",
              "      fill: #D2E3FC;\n",
              "    }\n",
              "\n",
              "    [theme=dark] .colab-df-convert:hover {\n",
              "      background-color: #434B5C;\n",
              "      box-shadow: 0px 1px 3px 1px rgba(0, 0, 0, 0.15);\n",
              "      filter: drop-shadow(0px 1px 2px rgba(0, 0, 0, 0.3));\n",
              "      fill: #FFFFFF;\n",
              "    }\n",
              "  </style>\n",
              "\n",
              "      <script>\n",
              "        const buttonEl =\n",
              "          document.querySelector('#df-da258307-b45a-41a0-bad2-93c293b91d6e button.colab-df-convert');\n",
              "        buttonEl.style.display =\n",
              "          google.colab.kernel.accessAllowed ? 'block' : 'none';\n",
              "\n",
              "        async function convertToInteractive(key) {\n",
              "          const element = document.querySelector('#df-da258307-b45a-41a0-bad2-93c293b91d6e');\n",
              "          const dataTable =\n",
              "            await google.colab.kernel.invokeFunction('convertToInteractive',\n",
              "                                                     [key], {});\n",
              "          if (!dataTable) return;\n",
              "\n",
              "          const docLinkHtml = 'Like what you see? Visit the ' +\n",
              "            '<a target=\"_blank\" href=https://colab.research.google.com/notebooks/data_table.ipynb>data table notebook</a>'\n",
              "            + ' to learn more about interactive tables.';\n",
              "          element.innerHTML = '';\n",
              "          dataTable['output_type'] = 'display_data';\n",
              "          await google.colab.output.renderOutput(dataTable, element);\n",
              "          const docLink = document.createElement('div');\n",
              "          docLink.innerHTML = docLinkHtml;\n",
              "          element.appendChild(docLink);\n",
              "        }\n",
              "      </script>\n",
              "    </div>\n",
              "  </div>\n",
              "  "
            ]
          },
          "metadata": {},
          "execution_count": 15
        }
      ]
    },
    {
      "cell_type": "code",
      "source": [
        "print(f\"Hay {len(models())} algoritmos para clustering\")"
      ],
      "metadata": {
        "colab": {
          "base_uri": "https://localhost:8080/"
        },
        "id": "cBzo2KlaLXmh",
        "outputId": "14f6058c-f372-480d-a42c-3be12f2c31e6"
      },
      "execution_count": 16,
      "outputs": [
        {
          "output_type": "stream",
          "name": "stdout",
          "text": [
            "Hay 9 algoritmos para clustering\n"
          ]
        }
      ]
    },
    {
      "cell_type": "markdown",
      "metadata": {
        "id": "uOiDssr_t4Zz"
      },
      "source": [
        "## **Algoritmo Hierarchical Clustering**"
      ]
    },
    {
      "cell_type": "code",
      "metadata": {
        "colab": {
          "base_uri": "https://localhost:8080/",
          "height": 97,
          "referenced_widgets": [
            "3e50d669f902441fba044e67348ed1c4",
            "0e7c4cafc7f14394a95151156d7f4c5d",
            "3115d8db88f648d4a38052c5589f049f",
            "38e9f90fb0d744969ce4cac08083d8bb",
            "396df6561d3a44018447ad106a44fc30",
            "6a5d6e4890ba45f495631b18c1c172fd",
            "1a2c4a2edd1e4c408a00c8acc8c1a698",
            "175a31b5b4e3483686e09de2e0f6548f",
            "e8bdaf3943984e4c82bdc2831ad4270a",
            "2a4e964304ad41589ea7e0ca39315f9e",
            "22055cb39bf941eea9e7c1e7970794fd"
          ]
        },
        "id": "_NJnSD6Nt0nx",
        "outputId": "c32e326b-f945-41e4-b2c3-a9c582e83a13"
      },
      "source": [
        "hc = create_model('hclust', num_clusters=4)\n",
        "print(hc)"
      ],
      "execution_count": 17,
      "outputs": [
        {
          "output_type": "display_data",
          "data": {
            "text/plain": [
              "<IPython.core.display.HTML object>"
            ],
            "text/html": []
          },
          "metadata": {}
        },
        {
          "output_type": "display_data",
          "data": {
            "text/plain": [
              "<pandas.io.formats.style.Styler at 0x7f3f3dff49d0>"
            ],
            "text/html": [
              "<style type=\"text/css\">\n",
              "</style>\n",
              "<table id=\"T_15c0e_\" class=\"dataframe\">\n",
              "  <thead>\n",
              "    <tr>\n",
              "      <th class=\"blank level0\" >&nbsp;</th>\n",
              "      <th class=\"col_heading level0 col0\" >Silhouette</th>\n",
              "      <th class=\"col_heading level0 col1\" >Calinski-Harabasz</th>\n",
              "      <th class=\"col_heading level0 col2\" >Davies-Bouldin</th>\n",
              "      <th class=\"col_heading level0 col3\" >Homogeneity</th>\n",
              "      <th class=\"col_heading level0 col4\" >Rand Index</th>\n",
              "      <th class=\"col_heading level0 col5\" >Completeness</th>\n",
              "    </tr>\n",
              "  </thead>\n",
              "  <tbody>\n",
              "    <tr>\n",
              "      <th id=\"T_15c0e_level0_row0\" class=\"row_heading level0 row0\" >0</th>\n",
              "      <td id=\"T_15c0e_row0_col0\" class=\"data row0 col0\" >0.5970</td>\n",
              "      <td id=\"T_15c0e_row0_col1\" class=\"data row0 col1\" >1080.8691</td>\n",
              "      <td id=\"T_15c0e_row0_col2\" class=\"data row0 col2\" >0.4612</td>\n",
              "      <td id=\"T_15c0e_row0_col3\" class=\"data row0 col3\" >0</td>\n",
              "      <td id=\"T_15c0e_row0_col4\" class=\"data row0 col4\" >0</td>\n",
              "      <td id=\"T_15c0e_row0_col5\" class=\"data row0 col5\" >0</td>\n",
              "    </tr>\n",
              "  </tbody>\n",
              "</table>\n"
            ]
          },
          "metadata": {}
        },
        {
          "output_type": "display_data",
          "data": {
            "text/plain": [
              "Processing:   0%|          | 0/3 [00:00<?, ?it/s]"
            ],
            "application/vnd.jupyter.widget-view+json": {
              "version_major": 2,
              "version_minor": 0,
              "model_id": "3e50d669f902441fba044e67348ed1c4"
            }
          },
          "metadata": {
            "application/vnd.jupyter.widget-view+json": {
              "colab": {
                "custom_widget_manager": {
                  "url": "https://ssl.gstatic.com/colaboratory-static/widgets/colab-cdn-widget-manager/d2e234f7cc04bf79/manager.min.js"
                }
              }
            }
          }
        },
        {
          "output_type": "display_data",
          "data": {
            "text/plain": [
              "<IPython.core.display.HTML object>"
            ],
            "text/html": []
          },
          "metadata": {}
        },
        {
          "output_type": "stream",
          "name": "stdout",
          "text": [
            "AgglomerativeClustering(n_clusters=4)\n"
          ]
        }
      ]
    },
    {
      "cell_type": "markdown",
      "metadata": {
        "id": "Daf6y1xfwsMt"
      },
      "source": [
        "# **Asignando el Modelo**"
      ]
    },
    {
      "cell_type": "markdown",
      "metadata": {
        "id": "mhw5o0mSenpg"
      },
      "source": [
        "**Ahora que hemos creado un modelo, nos gustaría asignar las etiquetas de grupo a nuestro conjunto de datos ($300$ muestras) para analizar los resultados. Lo lograremos usando la función ```assign_model()```.**"
      ]
    },
    {
      "cell_type": "code",
      "metadata": {
        "colab": {
          "base_uri": "https://localhost:8080/",
          "height": 204
        },
        "id": "QbrYDfvnwyOg",
        "outputId": "8deef762-682c-4ed7-cbfb-c6682067f615"
      },
      "source": [
        "hc_resultados = assign_model(hc)\n",
        "hc_resultados.head()"
      ],
      "execution_count": 18,
      "outputs": [
        {
          "output_type": "execute_result",
          "data": {
            "text/plain": [
              "   Edad  Salario    Cluster\n",
              "0    30    87000  Cluster 2\n",
              "1    38    50000  Cluster 1\n",
              "2    35    75000  Cluster 2\n",
              "3    30    79000  Cluster 2\n",
              "4    35    50000  Cluster 1"
            ],
            "text/html": [
              "\n",
              "  <div id=\"df-9fe4072e-f7fa-450f-9848-f5113c0e7448\">\n",
              "    <div class=\"colab-df-container\">\n",
              "      <div>\n",
              "<style scoped>\n",
              "    .dataframe tbody tr th:only-of-type {\n",
              "        vertical-align: middle;\n",
              "    }\n",
              "\n",
              "    .dataframe tbody tr th {\n",
              "        vertical-align: top;\n",
              "    }\n",
              "\n",
              "    .dataframe thead th {\n",
              "        text-align: right;\n",
              "    }\n",
              "</style>\n",
              "<table border=\"1\" class=\"dataframe\">\n",
              "  <thead>\n",
              "    <tr style=\"text-align: right;\">\n",
              "      <th></th>\n",
              "      <th>Edad</th>\n",
              "      <th>Salario</th>\n",
              "      <th>Cluster</th>\n",
              "    </tr>\n",
              "  </thead>\n",
              "  <tbody>\n",
              "    <tr>\n",
              "      <th>0</th>\n",
              "      <td>30</td>\n",
              "      <td>87000</td>\n",
              "      <td>Cluster 2</td>\n",
              "    </tr>\n",
              "    <tr>\n",
              "      <th>1</th>\n",
              "      <td>38</td>\n",
              "      <td>50000</td>\n",
              "      <td>Cluster 1</td>\n",
              "    </tr>\n",
              "    <tr>\n",
              "      <th>2</th>\n",
              "      <td>35</td>\n",
              "      <td>75000</td>\n",
              "      <td>Cluster 2</td>\n",
              "    </tr>\n",
              "    <tr>\n",
              "      <th>3</th>\n",
              "      <td>30</td>\n",
              "      <td>79000</td>\n",
              "      <td>Cluster 2</td>\n",
              "    </tr>\n",
              "    <tr>\n",
              "      <th>4</th>\n",
              "      <td>35</td>\n",
              "      <td>50000</td>\n",
              "      <td>Cluster 1</td>\n",
              "    </tr>\n",
              "  </tbody>\n",
              "</table>\n",
              "</div>\n",
              "      <button class=\"colab-df-convert\" onclick=\"convertToInteractive('df-9fe4072e-f7fa-450f-9848-f5113c0e7448')\"\n",
              "              title=\"Convert this dataframe to an interactive table.\"\n",
              "              style=\"display:none;\">\n",
              "        \n",
              "  <svg xmlns=\"http://www.w3.org/2000/svg\" height=\"24px\"viewBox=\"0 0 24 24\"\n",
              "       width=\"24px\">\n",
              "    <path d=\"M0 0h24v24H0V0z\" fill=\"none\"/>\n",
              "    <path d=\"M18.56 5.44l.94 2.06.94-2.06 2.06-.94-2.06-.94-.94-2.06-.94 2.06-2.06.94zm-11 1L8.5 8.5l.94-2.06 2.06-.94-2.06-.94L8.5 2.5l-.94 2.06-2.06.94zm10 10l.94 2.06.94-2.06 2.06-.94-2.06-.94-.94-2.06-.94 2.06-2.06.94z\"/><path d=\"M17.41 7.96l-1.37-1.37c-.4-.4-.92-.59-1.43-.59-.52 0-1.04.2-1.43.59L10.3 9.45l-7.72 7.72c-.78.78-.78 2.05 0 2.83L4 21.41c.39.39.9.59 1.41.59.51 0 1.02-.2 1.41-.59l7.78-7.78 2.81-2.81c.8-.78.8-2.07 0-2.86zM5.41 20L4 18.59l7.72-7.72 1.47 1.35L5.41 20z\"/>\n",
              "  </svg>\n",
              "      </button>\n",
              "      \n",
              "  <style>\n",
              "    .colab-df-container {\n",
              "      display:flex;\n",
              "      flex-wrap:wrap;\n",
              "      gap: 12px;\n",
              "    }\n",
              "\n",
              "    .colab-df-convert {\n",
              "      background-color: #E8F0FE;\n",
              "      border: none;\n",
              "      border-radius: 50%;\n",
              "      cursor: pointer;\n",
              "      display: none;\n",
              "      fill: #1967D2;\n",
              "      height: 32px;\n",
              "      padding: 0 0 0 0;\n",
              "      width: 32px;\n",
              "    }\n",
              "\n",
              "    .colab-df-convert:hover {\n",
              "      background-color: #E2EBFA;\n",
              "      box-shadow: 0px 1px 2px rgba(60, 64, 67, 0.3), 0px 1px 3px 1px rgba(60, 64, 67, 0.15);\n",
              "      fill: #174EA6;\n",
              "    }\n",
              "\n",
              "    [theme=dark] .colab-df-convert {\n",
              "      background-color: #3B4455;\n",
              "      fill: #D2E3FC;\n",
              "    }\n",
              "\n",
              "    [theme=dark] .colab-df-convert:hover {\n",
              "      background-color: #434B5C;\n",
              "      box-shadow: 0px 1px 3px 1px rgba(0, 0, 0, 0.15);\n",
              "      filter: drop-shadow(0px 1px 2px rgba(0, 0, 0, 0.3));\n",
              "      fill: #FFFFFF;\n",
              "    }\n",
              "  </style>\n",
              "\n",
              "      <script>\n",
              "        const buttonEl =\n",
              "          document.querySelector('#df-9fe4072e-f7fa-450f-9848-f5113c0e7448 button.colab-df-convert');\n",
              "        buttonEl.style.display =\n",
              "          google.colab.kernel.accessAllowed ? 'block' : 'none';\n",
              "\n",
              "        async function convertToInteractive(key) {\n",
              "          const element = document.querySelector('#df-9fe4072e-f7fa-450f-9848-f5113c0e7448');\n",
              "          const dataTable =\n",
              "            await google.colab.kernel.invokeFunction('convertToInteractive',\n",
              "                                                     [key], {});\n",
              "          if (!dataTable) return;\n",
              "\n",
              "          const docLinkHtml = 'Like what you see? Visit the ' +\n",
              "            '<a target=\"_blank\" href=https://colab.research.google.com/notebooks/data_table.ipynb>data table notebook</a>'\n",
              "            + ' to learn more about interactive tables.';\n",
              "          element.innerHTML = '';\n",
              "          dataTable['output_type'] = 'display_data';\n",
              "          await google.colab.output.renderOutput(dataTable, element);\n",
              "          const docLink = document.createElement('div');\n",
              "          docLink.innerHTML = docLinkHtml;\n",
              "          element.appendChild(docLink);\n",
              "        }\n",
              "      </script>\n",
              "    </div>\n",
              "  </div>\n",
              "  "
            ]
          },
          "metadata": {},
          "execution_count": 18
        }
      ]
    },
    {
      "cell_type": "code",
      "metadata": {
        "colab": {
          "base_uri": "https://localhost:8080/"
        },
        "id": "CvvltSXOtbqg",
        "outputId": "826fc7eb-b908-4fe7-d600-ae9d437de8c0"
      },
      "source": [
        "hc_resultados.shape"
      ],
      "execution_count": 19,
      "outputs": [
        {
          "output_type": "execute_result",
          "data": {
            "text/plain": [
              "(300, 3)"
            ]
          },
          "metadata": {},
          "execution_count": 19
        }
      ]
    },
    {
      "cell_type": "markdown",
      "source": [
        "# **Evaluación del Modelo**"
      ],
      "metadata": {
        "id": "TNIE-pwhMK53"
      }
    },
    {
      "cell_type": "code",
      "source": [
        "evaluate_model(hc)"
      ],
      "metadata": {
        "colab": {
          "base_uri": "https://localhost:8080/",
          "height": 160,
          "referenced_widgets": [
            "1556256f20204fa5977471050c0ddb02",
            "2432c6acd8144352ad57918e2c470a2d",
            "a30bf816b23a4ed0b868836db276dc63",
            "0481019a999143468822223bfeae2855",
            "0c6da51f0d5f44a8904e2d11cee7b629",
            "324dc73e922f4f9e84a63ad88e27fa9c",
            "acd555e28eb143b1873973c22d3b78a9"
          ]
        },
        "id": "5ve8rh2QMO5x",
        "outputId": "9bea3117-a409-4a89-9c9d-462d83e9b82a"
      },
      "execution_count": 20,
      "outputs": [
        {
          "output_type": "display_data",
          "data": {
            "text/plain": [
              "interactive(children=(ToggleButtons(description='Plot Type:', icons=('',), options=(('Pipeline Plot', 'pipelin…"
            ],
            "application/vnd.jupyter.widget-view+json": {
              "version_major": 2,
              "version_minor": 0,
              "model_id": "1556256f20204fa5977471050c0ddb02"
            }
          },
          "metadata": {
            "application/vnd.jupyter.widget-view+json": {
              "colab": {
                "custom_widget_manager": {
                  "url": "https://ssl.gstatic.com/colaboratory-static/widgets/colab-cdn-widget-manager/d2e234f7cc04bf79/manager.min.js"
                }
              }
            }
          }
        }
      ]
    },
    {
      "cell_type": "markdown",
      "metadata": {
        "id": "y_KMjaMdxAHB"
      },
      "source": [
        "# **Visualización del Modelo**"
      ]
    },
    {
      "cell_type": "markdown",
      "metadata": {
        "id": "qsrfw8kVe7jQ"
      },
      "source": [
        "**La función ```plot_model()``` se puede utilizar para analizar diferentes aspectos del \n",
        "modelo de agrupamiento. Esta función toma un objeto de modelo entrenado y devuelve un gráfico.**"
      ]
    },
    {
      "cell_type": "markdown",
      "metadata": {
        "id": "KSKqHX61kXiS"
      },
      "source": [
        "## **Visualización de los clusters**"
      ]
    },
    {
      "cell_type": "code",
      "metadata": {
        "colab": {
          "base_uri": "https://localhost:8080/",
          "height": 617
        },
        "id": "ho_HYtoexCKR",
        "outputId": "03c68d9a-301e-4179-bacf-a7584e9e3ecd"
      },
      "source": [
        "plot_model(hc)"
      ],
      "execution_count": 21,
      "outputs": [
        {
          "output_type": "display_data",
          "data": {
            "text/plain": [
              "<IPython.core.display.HTML object>"
            ],
            "text/html": []
          },
          "metadata": {}
        },
        {
          "output_type": "display_data",
          "data": {
            "text/html": [
              "<html>\n",
              "<head><meta charset=\"utf-8\" /></head>\n",
              "<body>\n",
              "    <div>            <script src=\"https://cdnjs.cloudflare.com/ajax/libs/mathjax/2.7.5/MathJax.js?config=TeX-AMS-MML_SVG\"></script><script type=\"text/javascript\">if (window.MathJax) {MathJax.Hub.Config({SVG: {font: \"STIX-Web\"}});}</script>                <script type=\"text/javascript\">window.PlotlyConfig = {MathJaxConfig: 'local'};</script>\n",
              "        <script src=\"https://cdn.plot.ly/plotly-2.8.3.min.js\"></script>                <div id=\"de44990c-fcf1-46a0-96ae-11afb08c8f16\" class=\"plotly-graph-div\" style=\"height:600px; width:100%;\"></div>            <script type=\"text/javascript\">                                    window.PLOTLYENV=window.PLOTLYENV || {};                                    if (document.getElementById(\"de44990c-fcf1-46a0-96ae-11afb08c8f16\")) {                    Plotly.newPlot(                        \"de44990c-fcf1-46a0-96ae-11afb08c8f16\",                        [{\"customdata\":[[39],[48],[38],[29],[42],[46],[36],[36],[34],[51],[57],[58],[53],[43],[47],[59],[36],[34],[40],[38],[32],[27],[32],[53],[37],[52],[59],[32],[32],[48],[58],[47],[40],[45],[60],[32],[35],[33],[42],[51],[32],[54],[55],[28],[31],[43],[43],[36],[47],[47],[48],[44],[46],[49],[36],[58],[33],[30],[48],[37],[35],[37],[60],[48]],\"hovertemplate\":\"Cluster=Cluster 0<br>PCA1=%{x}<br>PCA2=%{y}<br>Feature=%{customdata[0]}<extra></extra>\",\"legendgroup\":\"Cluster 0\",\"marker\":{\"color\":\"#636efa\",\"opacity\":0.5,\"symbol\":\"circle\"},\"mode\":\"markers\",\"name\":\"Cluster 0\",\"orientation\":\"v\",\"showlegend\":true,\"x\":[25406.666698621433,63406.66706960765,42406.66663532388,77406.66618839791,78406.66678032592,25406.667017912045,54406.66653161474,55406.666530574475,44406.66645079156,63406.66720644649,51406.6674926074,30406.66756006602,72406.66728830992,41406.66686442889,42406.66704584038,72406.6675619876,28406.66655866179,41406.666453912374,36406.666732791404,41406.66663636416,49406.66635436433,25406.666151266094,64406.66633876028,33406.667328880496,75406.66655538202,67406.66724789835,59406.66757551112,46406.66635748515,29406.66637516974,70406.66706232575,73406.66751533438,36406.66705208201,71406.66669638193,60406.66693588963,31406.667650251642,79406.6663231562,26406.666515129386,78406.66636980942,33406.666827138106,75406.66719396324,46406.66635748515,33406.66737449344,59406.66739305935,52406.66616879174,47406.666310831926,62406.6668425832,58406.66684674429,47406.66653889664,73406.667013592,34406.66705416255,25406.667109137936,68406.66688195452,46406.666996066364,70406.66710793872,73406.66651184963,24406.667566307646,42406.66640725917,36406.666276661956,67406.66706544656,73406.66655746255,76406.66646311586,66406.66656474443,37406.66764401002,48406.66708521171],\"xaxis\":\"x\",\"y\":[0.12112712027972652,7.38783521723696,-1.6542929363790997,-12.250745986985395,0.7036410549205552,7.121127112997833,-4.201648269144981,-4.2472612137155155,-5.745518821359089,10.38783521411615,16.93519054272095,18.893062377661916,11.977318710900793,3.3913200029900836,7.345707054258469,17.97731870465917,-3.0157117103110673,-5.608679987647483,0.6193847289635704,-1.6086799918085648,-7.973583542131225,-11.87887286723703,-8.65777771068925,13.75622354915166,-4.159520106166488,11.205383434793736,18.570286984076127,-7.836744708419619,-7.061324650720522,7.068544605243215,16.93170576112891,7.61938472168168,-0.9770683310051574,4.524674054069377,20.84744943101084,-9.341971879247277,-3.924485820129727,-8.296358935717013,2.756223560594634,9.840479879269727,-7.836744708419619,14.756223548111393,14.570286988237207,-12.110422371681747,-8.882357651949883,2.4334481670088466,2.615899945290987,-3.882357657151234,5.931705772571881,7.710610610822749,9.121127110917294,3.1597704985453654,6.163255277016597,8.068544604202945,-5.068294215985148,19.166740045085128,-6.654292931177748,-9.380615260633727,7.20538343895482,-4.068294217025417,-6.205133048656482,-3.749003605031671,20.57377176358763,8.072029385794986],\"yaxis\":\"y\",\"type\":\"scatter\",\"textposition\":\"top center\"},{\"customdata\":[[39],[35],[39],[36],[36],[38],[47],[49],[38],[38],[35],[18],[22],[28],[52],[38],[59],[38],[45],[42],[44],[46],[42],[28],[26],[35],[60],[38],[28],[48],[35],[42],[40],[47],[39],[41],[35],[35],[35],[27],[39],[27],[41],[34],[18],[24],[37],[57],[26],[24],[37],[33],[41],[35],[35],[35],[37],[28],[30],[47],[23],[35],[31],[33],[38],[41],[36],[33],[27],[40],[58],[40],[50],[22],[46],[40],[42],[40],[23],[56],[60],[47],[23],[24]],\"hovertemplate\":\"Cluster=Cluster 1<br>PCA1=%{x}<br>PCA2=%{y}<br>Feature=%{customdata[0]}<extra></extra>\",\"legendgroup\":\"Cluster 1\",\"marker\":{\"color\":\"#EF553B\",\"opacity\":0.5,\"symbol\":\"circle\"},\"mode\":\"markers\",\"name\":\"Cluster 1\",\"orientation\":\"v\",\"showlegend\":true,\"x\":[-28593.333245203954,-31593.33342453492,-11593.333262888556,-7593.333403888471,-20593.33339036495,-20593.333299139067,-21593.3328875823,-5593.332813000736,-9593.333310582044,-5593.333314743124,-20593.333435977896,-26593.33420515633,-15593.33403414753,-11593.333764630945,-32593.3326480746,-19593.33330017934,-28593.33233294507,-9593.333310582044,-25593.3329746471,-5593.333132291347,-31593.33301401842,-11593.332943597945,-5593.333132291347,-11593.333764630945,-27593.3338392125,-9593.333447420875,-28593.332287332123,-11593.333308501502,-26593.33374902689,-29593.33283364719,-11593.333445340335,-17593.333119808096,-13593.33321519507,-19593.332889662837,-28593.333245203954,-10593.333172702938,-10593.333446380606,-12593.333444300064,-13593.333443259795,-13593.333808163348,-9593.333264969096,-12593.33380920362,-18593.333164380776,-27593.333474308947,-18593.334213478494,-12593.333946042454,-17593.33334787282,-10593.332442895828,-18593.33384857494,-15593.333942921641,-8593.333357235255,-19593.333528244057,-19593.333163340503,-23593.33343285708,-15593.333441179253,-17593.33343909871,-15593.33334995336,-15593.333760469865,-21593.33366300235,-27593.33288134067,-4593.33399997756,-20593.333435977896,-12593.333626751844,-29593.33351784135,-20593.333299139078,-18593.333164380776,-10593.333400767659,-10593.333537606493,-12593.33380920362,-23593.333204792365,-32593.332374396938,-11593.33321727561,-26593.33274554211,-7593.3340424696935,-29593.332924873077,-9593.333219356153,-6593.333131251076,-10593.33321831588,-22593.33398125269,-10593.332488508773,-28593.332287332123,-23593.332885501753,-7593.333996856749,-15593.333942921641],\"xaxis\":\"x\",\"y\":[2.5842261270886215,-1.2789350350386917,1.8088060693895252,-1.3736457057718043,-0.780677426354848,1.2193225715646114,10.264935506772714,11.535128391563612,0.7175801812887254,0.5351284030065848,-1.7806774253145778,-18.506999740206773,-15.008742134643736,-9.191193919167503,15.766677891847245,1.1737096269940763,22.584226106283218,0.7175801812887254,8.447387287135395,4.535128398845503,7.721064955598875,8.808806062107632,4.535128398845503,-9.191193919167503,-10.461386803958401,-2.2824198155904636,23.584226105242948,0.8088060704297955,-8.506999750609475,11.629839062296725,-2.1911939264493934,5.082483733691924,2.9000319574903255,10.173709617631646,2.5842261270886215,3.763193122738449,-2.2368068710199287,-2.145580981878858,-2.099968037308323,-10.099968028986162,1.717580180248455,-10.145580973556696,4.12809667930273,-2.4613868122805624,-18.871903296771052,-13.145580970435885,0.08248373889327633,19.76319310609413,-10.871903305093216,-13.008742136724281,-0.32803276224153965,-3.8262903678045728,4.173709623873265,-1.6438385916029725,-2.008742148167253,-1.917516259026183,-0.008742150247793953,-9.008742140885362,-6.735064475542691,10.538613174195925,-14.510484525959894,-1.7806774253145778,-6.145580977717777,-3.3701609220992217,1.2193225715646117,4.12809667930273,-1.236806872060199,-4.2368068689393885,-10.145580973556696,3.356161403195676,21.76667788560563,2.808806068349255,13.493000226504579,-15.373645691208019,9.629839064377263,2.717580179208185,4.5807413434160384,2.76319312377872,-13.689451523690265,18.76319310713439,23.584226105242948,10.356161395913785,-14.37364569224829,-13.008742136724281],\"yaxis\":\"y\",\"type\":\"scatter\",\"textposition\":\"top center\"},{\"customdata\":[[42],[59],[28],[25],[35],[31],[41],[40],[35],[40],[45],[20],[39],[42],[38],[23],[38],[46],[48],[53],[39],[54],[31],[35],[29],[46],[26],[37],[37],[40],[30],[30],[35],[25],[31],[29],[28],[29],[32],[42],[21],[37],[22],[48],[27],[24],[27],[46],[40],[37],[52],[59],[42],[18],[49],[27],[35],[42],[59],[24],[60],[19],[42],[28],[26],[20],[21],[25],[26],[57],[35],[19],[30],[37],[36],[18],[46],[37],[27],[35],[35],[39],[42],[31],[20],[20],[33],[37],[41],[26],[40],[41]],\"hovertemplate\":\"Cluster=Cluster 2<br>PCA1=%{x}<br>PCA2=%{y}<br>Feature=%{customdata[0]}<extra></extra>\",\"legendgroup\":\"Cluster 2\",\"marker\":{\"color\":\"#00cc96\",\"opacity\":0.5,\"symbol\":\"circle\"},\"mode\":\"markers\",\"name\":\"Cluster 2\",\"orientation\":\"v\",\"showlegend\":true,\"x\":[19406.666841701892,5406.667631685733,13406.66620936229,19406.666066281836,1406.6665411361487,406.6663597246414,9406.666806491652,1406.666769200871,17406.666524491822,4406.6667660800595,8406.6669899837,3406.6658548614405,4406.666720467115,4406.666857305949,406.66667901525267,11406.665983378112,9406.666669652817,17406.66702623421,3406.667132023885,1406.667362169148,406.666724628197,-593.3325901373654,5406.666354523289,20406.666521371008,4406.66626433767,3406.6670407979964,13406.666118136402,406.66663340230815,9406.666624039874,7406.666762959247,9406.666304749262,16406.666297467364,4406.666538015336,8406.66607772481,18406.666340999775,12406.666256015505,16406.66620624148,9406.666259136315,15406.666389733524,2406.6668593864893,17406.665885910592,8406.666625080145,10406.665938805436,19406.667115379558,17406.666159588265,13406.666026910509,13406.666163749342,11406.667032475832,4406.6667660800595,9406.666624039874,19406.667297831333,12406.667624403839,8406.666853144867,11406.665755313383,15406.667165153583,18406.666158547992,6406.666535934795,-593.3331374926985,17406.667619202486,18406.666021709156,12406.667670016783,5406.665807167955,9406.666852104596,18406.66620416094,9406.666122297484,11406.665846539274,-2593.334093283992,16406.666069402643,9406.666122297484,3406.667542540385,406.6665421764191,14406.665797805517,8406.666305789531,7406.666626120414,4406.666583628281,-2593.334230122824,8406.667035596643,-593.3333655574212,19406.666157507723,4406.666538015336,1406.6665411361487,6406.666718386573,9406.666852104596,3406.6663566038296,11406.665846539274,15406.665842378192,-1593.3335469689284,6406.666627160684,1406.6668148138153,15406.666116055863,406.6667702411416,16406.666799209754],\"xaxis\":\"x\",\"y\":[3.394804784582125,21.033385990885023,-10.331517533430878,-13.605195197733279,-2.78416220586635,-6.738549257134733,2.8509342313277473,2.215837788932299,-3.5139693189949117,2.0789989552206936,6.896547171737201,-17.875388079403365,1.0789989562609636,4.078998953140152,0.2614507355833743,-15.240291639088456,-0.1490657655514415,7.486030669562114,10.124611891469065,15.215837775408783,1.261450734543104,16.307063663509584,-6.966613979987409,-3.6508081527065164,-8.921001033336333,8.124611893549606,-12.331517531350341,-0.7385492633763554,-1.1490657645111713,1.9421601215090882,-8.14906575722928,-8.46835636922302,-2.921001039577955,-13.103452807457394,-7.559582259404365,-9.285904589900614,-10.468356367142484,-9.149065756189009,-6.422743426733031,4.170224842281222,-17.51396930443113,-1.1034528199406362,-16.19467869347765,9.394804778340504,-11.51396931067275,-14.331517529269798,-11.331517532390608,7.759708336985325,2.0789989552206936,-1.1490657645111713,13.394804774179422,20.714095378891273,3.8965471748580116,-20.240291633887107,10.577256555582377,-11.559582255243285,-3.012226928719025,4.307063675992827,20.4860306560386,-14.559582252122473,21.714095377851006,-18.966613967504166,3.8509342302874767,-10.559582256283555,-12.1490657530682,-18.240291635967647,-16.601710413020427,-13.468356364021673,-12.1490657530682,19.124611882106635,-2.7385492612958147,-19.37713046863898,-8.103452812658745,-1.057839875370101,-1.9210010406182256,-19.601710409899614,7.89654717069693,-0.6929363188058203,-11.605195199813819,-2.921001039577955,-2.78416220586635,0.9877730671198934,3.8509342302874767,-6.8753880908463385,-18.240291635967647,-18.422743414249787,-4.647323370074204,-1.012226930799566,3.2158377878920277,-12.422743420491411,2.261450733502834,2.5316436193340013],\"yaxis\":\"y\",\"type\":\"scatter\",\"textposition\":\"top center\"},{\"customdata\":[[45],[48],[34],[45],[46],[26],[31],[22],[35],[58],[49],[31],[33],[23],[35],[24],[27],[22],[50],[19],[59],[49],[48],[29],[26],[26],[24],[46],[45],[35],[57],[30],[47],[37],[31],[47],[48],[27],[49],[46],[35],[23],[32],[19],[47],[45],[46],[53],[51],[28],[26],[19],[25],[47],[48],[32],[24],[52],[26],[19]],\"hovertemplate\":\"Cluster=Cluster 3<br>PCA1=%{x}<br>PCA2=%{y}<br>Feature=%{customdata[0]}<extra></extra>\",\"legendgroup\":\"Cluster 3\",\"marker\":{\"color\":\"#ab63fa\",\"opacity\":0.5,\"symbol\":\"circle\"},\"mode\":\"markers\",\"name\":\"Cluster 3\",\"orientation\":\"v\",\"showlegend\":true,\"x\":[-48593.33295072086,-41593.332821163945,-45593.33345558408,-38593.33296112357,-48593.332905107934,-40593.33382568899,-55593.333582020205,-43593.334005019955,-50593.333404769786,-47593.332358792875,-34593.33278283288,-36593.33360178534,-42593.333504317845,-42593.33396044728,-48593.333406850325,-38593.33391899543,-50593.33376967333,-52593.333995657515,-50593.332720575614,-45593.33413977824,-41593.33231942155,-42593.332774510716,-35593.33282740557,-42593.33368676961,-55593.33381008493,-55593.33381008493,-51593.3339054719,-47593.33290614821,-44593.33295488195,-43593.333412051674,-44593.33240752662,-55593.33362763315,-40593.33286781716,-37593.33332706742,-52593.33358514102,-47593.332860535265,-37593.33282532502,-53593.333766552525,-42593.332774510716,-42593.332911349564,-45593.333409971136,-50593.33395212511,-52593.33353952807,-44593.334140818515,-45593.3328626158,-48593.33295072086,-38593.33291551065,-36593.33259830057,-47593.33267808348,-38593.33373654364,-35593.33383089034,-49593.334135617166,-37593.333874422744,-36593.33287197824,-37593.33282532502,-52593.33353952807,-43593.33391379407,-49593.33263038999,-53593.333812165474,-51593.33413353662],\"xaxis\":\"x\",\"y\":[9.496485012257702,12.177194397143145,-1.64035381001093,9.040355566552352,10.49648501121743,-9.868418524541445,-4.184224361184768,-13.731579686668756,-0.41228908819852467,22.450872054163657,12.85790378410913,-5.050870308024934,-2.777192642682265,-12.777192632279561,-0.5035149773395948,-11.959644411601973,-8.412289079876363,-13.32106318553394,14.587710896197422,-16.640353794406874,23.17719438570017,13.222807340673413,11.903516729719934,-6.777192638521183,-9.184224355983417,-9.184224355983417,-11.366676132185017,10.450872066646896,9.314033233975561,-0.7315797001922704,21.31403322149232,-5.184224360144499,11.131581453612881,0.9947426303039786,-4.3210631948963725,11.450872065606628,11.994742618861004,-8.275450246164757,13.222807340673413,10.22280734379422,-0.6403538110512002,-12.41228907571528,-3.321063195936645,-16.68596673897741,11.359646176465558,9.496485012257702,10.04035556551208,16.949129669089118,15.450872061445544,-7.959644415763054,-10.09648324739412,-16.457902016124734,-11.005257357212777,10.949129675330742,11.994742618861004,-3.321063195936645,-11.731579688749298,16.542097949546342,-9.275450245124489,-16.366676126983666],\"yaxis\":\"y\",\"type\":\"scatter\",\"textposition\":\"top center\"}],                        {\"template\":{\"data\":{\"bar\":[{\"error_x\":{\"color\":\"#2a3f5f\"},\"error_y\":{\"color\":\"#2a3f5f\"},\"marker\":{\"line\":{\"color\":\"#E5ECF6\",\"width\":0.5},\"pattern\":{\"fillmode\":\"overlay\",\"size\":10,\"solidity\":0.2}},\"type\":\"bar\"}],\"barpolar\":[{\"marker\":{\"line\":{\"color\":\"#E5ECF6\",\"width\":0.5},\"pattern\":{\"fillmode\":\"overlay\",\"size\":10,\"solidity\":0.2}},\"type\":\"barpolar\"}],\"carpet\":[{\"aaxis\":{\"endlinecolor\":\"#2a3f5f\",\"gridcolor\":\"white\",\"linecolor\":\"white\",\"minorgridcolor\":\"white\",\"startlinecolor\":\"#2a3f5f\"},\"baxis\":{\"endlinecolor\":\"#2a3f5f\",\"gridcolor\":\"white\",\"linecolor\":\"white\",\"minorgridcolor\":\"white\",\"startlinecolor\":\"#2a3f5f\"},\"type\":\"carpet\"}],\"choropleth\":[{\"colorbar\":{\"outlinewidth\":0,\"ticks\":\"\"},\"type\":\"choropleth\"}],\"contour\":[{\"colorbar\":{\"outlinewidth\":0,\"ticks\":\"\"},\"colorscale\":[[0.0,\"#0d0887\"],[0.1111111111111111,\"#46039f\"],[0.2222222222222222,\"#7201a8\"],[0.3333333333333333,\"#9c179e\"],[0.4444444444444444,\"#bd3786\"],[0.5555555555555556,\"#d8576b\"],[0.6666666666666666,\"#ed7953\"],[0.7777777777777778,\"#fb9f3a\"],[0.8888888888888888,\"#fdca26\"],[1.0,\"#f0f921\"]],\"type\":\"contour\"}],\"contourcarpet\":[{\"colorbar\":{\"outlinewidth\":0,\"ticks\":\"\"},\"type\":\"contourcarpet\"}],\"heatmap\":[{\"colorbar\":{\"outlinewidth\":0,\"ticks\":\"\"},\"colorscale\":[[0.0,\"#0d0887\"],[0.1111111111111111,\"#46039f\"],[0.2222222222222222,\"#7201a8\"],[0.3333333333333333,\"#9c179e\"],[0.4444444444444444,\"#bd3786\"],[0.5555555555555556,\"#d8576b\"],[0.6666666666666666,\"#ed7953\"],[0.7777777777777778,\"#fb9f3a\"],[0.8888888888888888,\"#fdca26\"],[1.0,\"#f0f921\"]],\"type\":\"heatmap\"}],\"heatmapgl\":[{\"colorbar\":{\"outlinewidth\":0,\"ticks\":\"\"},\"colorscale\":[[0.0,\"#0d0887\"],[0.1111111111111111,\"#46039f\"],[0.2222222222222222,\"#7201a8\"],[0.3333333333333333,\"#9c179e\"],[0.4444444444444444,\"#bd3786\"],[0.5555555555555556,\"#d8576b\"],[0.6666666666666666,\"#ed7953\"],[0.7777777777777778,\"#fb9f3a\"],[0.8888888888888888,\"#fdca26\"],[1.0,\"#f0f921\"]],\"type\":\"heatmapgl\"}],\"histogram\":[{\"marker\":{\"pattern\":{\"fillmode\":\"overlay\",\"size\":10,\"solidity\":0.2}},\"type\":\"histogram\"}],\"histogram2d\":[{\"colorbar\":{\"outlinewidth\":0,\"ticks\":\"\"},\"colorscale\":[[0.0,\"#0d0887\"],[0.1111111111111111,\"#46039f\"],[0.2222222222222222,\"#7201a8\"],[0.3333333333333333,\"#9c179e\"],[0.4444444444444444,\"#bd3786\"],[0.5555555555555556,\"#d8576b\"],[0.6666666666666666,\"#ed7953\"],[0.7777777777777778,\"#fb9f3a\"],[0.8888888888888888,\"#fdca26\"],[1.0,\"#f0f921\"]],\"type\":\"histogram2d\"}],\"histogram2dcontour\":[{\"colorbar\":{\"outlinewidth\":0,\"ticks\":\"\"},\"colorscale\":[[0.0,\"#0d0887\"],[0.1111111111111111,\"#46039f\"],[0.2222222222222222,\"#7201a8\"],[0.3333333333333333,\"#9c179e\"],[0.4444444444444444,\"#bd3786\"],[0.5555555555555556,\"#d8576b\"],[0.6666666666666666,\"#ed7953\"],[0.7777777777777778,\"#fb9f3a\"],[0.8888888888888888,\"#fdca26\"],[1.0,\"#f0f921\"]],\"type\":\"histogram2dcontour\"}],\"mesh3d\":[{\"colorbar\":{\"outlinewidth\":0,\"ticks\":\"\"},\"type\":\"mesh3d\"}],\"parcoords\":[{\"line\":{\"colorbar\":{\"outlinewidth\":0,\"ticks\":\"\"}},\"type\":\"parcoords\"}],\"pie\":[{\"automargin\":true,\"type\":\"pie\"}],\"scatter\":[{\"marker\":{\"colorbar\":{\"outlinewidth\":0,\"ticks\":\"\"}},\"type\":\"scatter\"}],\"scatter3d\":[{\"line\":{\"colorbar\":{\"outlinewidth\":0,\"ticks\":\"\"}},\"marker\":{\"colorbar\":{\"outlinewidth\":0,\"ticks\":\"\"}},\"type\":\"scatter3d\"}],\"scattercarpet\":[{\"marker\":{\"colorbar\":{\"outlinewidth\":0,\"ticks\":\"\"}},\"type\":\"scattercarpet\"}],\"scattergeo\":[{\"marker\":{\"colorbar\":{\"outlinewidth\":0,\"ticks\":\"\"}},\"type\":\"scattergeo\"}],\"scattergl\":[{\"marker\":{\"colorbar\":{\"outlinewidth\":0,\"ticks\":\"\"}},\"type\":\"scattergl\"}],\"scattermapbox\":[{\"marker\":{\"colorbar\":{\"outlinewidth\":0,\"ticks\":\"\"}},\"type\":\"scattermapbox\"}],\"scatterpolar\":[{\"marker\":{\"colorbar\":{\"outlinewidth\":0,\"ticks\":\"\"}},\"type\":\"scatterpolar\"}],\"scatterpolargl\":[{\"marker\":{\"colorbar\":{\"outlinewidth\":0,\"ticks\":\"\"}},\"type\":\"scatterpolargl\"}],\"scatterternary\":[{\"marker\":{\"colorbar\":{\"outlinewidth\":0,\"ticks\":\"\"}},\"type\":\"scatterternary\"}],\"surface\":[{\"colorbar\":{\"outlinewidth\":0,\"ticks\":\"\"},\"colorscale\":[[0.0,\"#0d0887\"],[0.1111111111111111,\"#46039f\"],[0.2222222222222222,\"#7201a8\"],[0.3333333333333333,\"#9c179e\"],[0.4444444444444444,\"#bd3786\"],[0.5555555555555556,\"#d8576b\"],[0.6666666666666666,\"#ed7953\"],[0.7777777777777778,\"#fb9f3a\"],[0.8888888888888888,\"#fdca26\"],[1.0,\"#f0f921\"]],\"type\":\"surface\"}],\"table\":[{\"cells\":{\"fill\":{\"color\":\"#EBF0F8\"},\"line\":{\"color\":\"white\"}},\"header\":{\"fill\":{\"color\":\"#C8D4E3\"},\"line\":{\"color\":\"white\"}},\"type\":\"table\"}]},\"layout\":{\"annotationdefaults\":{\"arrowcolor\":\"#2a3f5f\",\"arrowhead\":0,\"arrowwidth\":1},\"autotypenumbers\":\"strict\",\"coloraxis\":{\"colorbar\":{\"outlinewidth\":0,\"ticks\":\"\"}},\"colorscale\":{\"diverging\":[[0,\"#8e0152\"],[0.1,\"#c51b7d\"],[0.2,\"#de77ae\"],[0.3,\"#f1b6da\"],[0.4,\"#fde0ef\"],[0.5,\"#f7f7f7\"],[0.6,\"#e6f5d0\"],[0.7,\"#b8e186\"],[0.8,\"#7fbc41\"],[0.9,\"#4d9221\"],[1,\"#276419\"]],\"sequential\":[[0.0,\"#0d0887\"],[0.1111111111111111,\"#46039f\"],[0.2222222222222222,\"#7201a8\"],[0.3333333333333333,\"#9c179e\"],[0.4444444444444444,\"#bd3786\"],[0.5555555555555556,\"#d8576b\"],[0.6666666666666666,\"#ed7953\"],[0.7777777777777778,\"#fb9f3a\"],[0.8888888888888888,\"#fdca26\"],[1.0,\"#f0f921\"]],\"sequentialminus\":[[0.0,\"#0d0887\"],[0.1111111111111111,\"#46039f\"],[0.2222222222222222,\"#7201a8\"],[0.3333333333333333,\"#9c179e\"],[0.4444444444444444,\"#bd3786\"],[0.5555555555555556,\"#d8576b\"],[0.6666666666666666,\"#ed7953\"],[0.7777777777777778,\"#fb9f3a\"],[0.8888888888888888,\"#fdca26\"],[1.0,\"#f0f921\"]]},\"colorway\":[\"#636efa\",\"#EF553B\",\"#00cc96\",\"#ab63fa\",\"#FFA15A\",\"#19d3f3\",\"#FF6692\",\"#B6E880\",\"#FF97FF\",\"#FECB52\"],\"font\":{\"color\":\"#2a3f5f\"},\"geo\":{\"bgcolor\":\"white\",\"lakecolor\":\"white\",\"landcolor\":\"#E5ECF6\",\"showlakes\":true,\"showland\":true,\"subunitcolor\":\"white\"},\"hoverlabel\":{\"align\":\"left\"},\"hovermode\":\"closest\",\"mapbox\":{\"style\":\"light\"},\"paper_bgcolor\":\"white\",\"plot_bgcolor\":\"#E5ECF6\",\"polar\":{\"angularaxis\":{\"gridcolor\":\"white\",\"linecolor\":\"white\",\"ticks\":\"\"},\"bgcolor\":\"#E5ECF6\",\"radialaxis\":{\"gridcolor\":\"white\",\"linecolor\":\"white\",\"ticks\":\"\"}},\"scene\":{\"xaxis\":{\"backgroundcolor\":\"#E5ECF6\",\"gridcolor\":\"white\",\"gridwidth\":2,\"linecolor\":\"white\",\"showbackground\":true,\"ticks\":\"\",\"zerolinecolor\":\"white\"},\"yaxis\":{\"backgroundcolor\":\"#E5ECF6\",\"gridcolor\":\"white\",\"gridwidth\":2,\"linecolor\":\"white\",\"showbackground\":true,\"ticks\":\"\",\"zerolinecolor\":\"white\"},\"zaxis\":{\"backgroundcolor\":\"#E5ECF6\",\"gridcolor\":\"white\",\"gridwidth\":2,\"linecolor\":\"white\",\"showbackground\":true,\"ticks\":\"\",\"zerolinecolor\":\"white\"}},\"shapedefaults\":{\"line\":{\"color\":\"#2a3f5f\"}},\"ternary\":{\"aaxis\":{\"gridcolor\":\"white\",\"linecolor\":\"white\",\"ticks\":\"\"},\"baxis\":{\"gridcolor\":\"white\",\"linecolor\":\"white\",\"ticks\":\"\"},\"bgcolor\":\"#E5ECF6\",\"caxis\":{\"gridcolor\":\"white\",\"linecolor\":\"white\",\"ticks\":\"\"}},\"title\":{\"x\":0.05},\"xaxis\":{\"automargin\":true,\"gridcolor\":\"white\",\"linecolor\":\"white\",\"ticks\":\"\",\"title\":{\"standoff\":15},\"zerolinecolor\":\"white\",\"zerolinewidth\":2},\"yaxis\":{\"automargin\":true,\"gridcolor\":\"white\",\"linecolor\":\"white\",\"ticks\":\"\",\"title\":{\"standoff\":15},\"zerolinecolor\":\"white\",\"zerolinewidth\":2}}},\"xaxis\":{\"anchor\":\"y\",\"domain\":[0.0,1.0],\"title\":{\"text\":\"PCA1\"}},\"yaxis\":{\"anchor\":\"x\",\"domain\":[0.0,1.0],\"title\":{\"text\":\"PCA2\"}},\"legend\":{\"title\":{\"text\":\"Cluster\"},\"tracegroupgap\":0},\"margin\":{\"t\":60},\"plot_bgcolor\":\"rgb(240,240,240)\",\"title\":{\"text\":\"2D Cluster PCA Plot\"},\"height\":600},                        {\"responsive\": true}                    ).then(function(){\n",
              "                            \n",
              "var gd = document.getElementById('de44990c-fcf1-46a0-96ae-11afb08c8f16');\n",
              "var x = new MutationObserver(function (mutations, observer) {{\n",
              "        var display = window.getComputedStyle(gd).display;\n",
              "        if (!display || display === 'none') {{\n",
              "            console.log([gd, 'removed!']);\n",
              "            Plotly.purge(gd);\n",
              "            observer.disconnect();\n",
              "        }}\n",
              "}});\n",
              "\n",
              "// Listen for the removal of the full notebook cells\n",
              "var notebookContainer = gd.closest('#notebook-container');\n",
              "if (notebookContainer) {{\n",
              "    x.observe(notebookContainer, {childList: true});\n",
              "}}\n",
              "\n",
              "// Listen for the clearing of the current output cell\n",
              "var outputEl = gd.closest('.output');\n",
              "if (outputEl) {{\n",
              "    x.observe(outputEl, {childList: true});\n",
              "}}\n",
              "\n",
              "                        })                };                            </script>        </div>\n",
              "</body>\n",
              "</html>"
            ]
          },
          "metadata": {}
        }
      ]
    },
    {
      "cell_type": "markdown",
      "metadata": {
        "id": "biFWhfQlkk_D"
      },
      "source": [
        "## **Visualización del Codo**"
      ]
    },
    {
      "cell_type": "code",
      "metadata": {
        "colab": {
          "base_uri": "https://localhost:8080/",
          "height": 294
        },
        "id": "xtdCneDKxTn5",
        "outputId": "7cf4d52e-bd02-468e-fa99-0393a57e0fd1"
      },
      "source": [
        "plot_model(hc, plot = 'elbow')"
      ],
      "execution_count": 22,
      "outputs": [
        {
          "output_type": "display_data",
          "data": {
            "text/plain": [
              "<IPython.core.display.HTML object>"
            ],
            "text/html": []
          },
          "metadata": {}
        },
        {
          "output_type": "display_data",
          "data": {
            "text/plain": [
              "<Figure size 432x288 with 1 Axes>"
            ],
            "image/png": "[encoded data removed]"
          },
          "metadata": {
            "needs_background": "light"
          }
        }
      ]
    },
    {
      "cell_type": "markdown",
      "metadata": {
        "id": "diMjePSmgFfZ"
      },
      "source": [
        "## **Visualización de la Distribución**"
      ]
    },
    {
      "cell_type": "markdown",
      "metadata": {
        "id": "oKTw7RW4gHir"
      },
      "source": [
        "La gráfica de distribución muestra el tamaño de cada grupo. Al pasar el cursor sobre las barras, verá el número de muestras asignadas a cada grupo. En el ejemplo anterior, podemos observar que el grupo 3 tiene el mayor número de muestras. También podemos usar la gráfica de distribución para ver la distribución de etiquetas de clusters en asociación con cualquier otra característica numérica o categórica. "
      ]
    },
    {
      "cell_type": "code",
      "metadata": {
        "colab": {
          "base_uri": "https://localhost:8080/",
          "height": 617
        },
        "id": "gLMmWq8SgMq4",
        "outputId": "c5139fbf-cdd0-4849-cf5b-fd291e7eb149"
      },
      "source": [
        "plot_model(hc, plot = 'distribution')"
      ],
      "execution_count": 24,
      "outputs": [
        {
          "output_type": "display_data",
          "data": {
            "text/plain": [
              "<IPython.core.display.HTML object>"
            ],
            "text/html": []
          },
          "metadata": {}
        },
        {
          "output_type": "display_data",
          "data": {
            "text/html": [
              "<html>\n",
              "<head><meta charset=\"utf-8\" /></head>\n",
              "<body>\n",
              "    <div>            <script src=\"https://cdnjs.cloudflare.com/ajax/libs/mathjax/2.7.5/MathJax.js?config=TeX-AMS-MML_SVG\"></script><script type=\"text/javascript\">if (window.MathJax) {MathJax.Hub.Config({SVG: {font: \"STIX-Web\"}});}</script>                <script type=\"text/javascript\">window.PlotlyConfig = {MathJaxConfig: 'local'};</script>\n",
              "        <script src=\"https://cdn.plot.ly/plotly-2.8.3.min.js\"></script>                <div id=\"ec6df869-bd1b-4072-a669-6faf4570b522\" class=\"plotly-graph-div\" style=\"height:600px; width:100%;\"></div>            <script type=\"text/javascript\">                                    window.PLOTLYENV=window.PLOTLYENV || {};                                    if (document.getElementById(\"ec6df869-bd1b-4072-a669-6faf4570b522\")) {                    Plotly.newPlot(                        \"ec6df869-bd1b-4072-a669-6faf4570b522\",                        [{\"alignmentgroup\":\"True\",\"bingroup\":\"x\",\"hovertemplate\":\"Cluster=%{x}<br>count=%{y}<extra></extra>\",\"legendgroup\":\"Cluster 0\",\"marker\":{\"color\":\"#636efa\",\"opacity\":0.7,\"pattern\":{\"shape\":\"\"}},\"name\":\"Cluster 0\",\"offsetgroup\":\"Cluster 0\",\"orientation\":\"v\",\"showlegend\":true,\"x\":[\"Cluster 0\",\"Cluster 0\",\"Cluster 0\",\"Cluster 0\",\"Cluster 0\",\"Cluster 0\",\"Cluster 0\",\"Cluster 0\",\"Cluster 0\",\"Cluster 0\",\"Cluster 0\",\"Cluster 0\",\"Cluster 0\",\"Cluster 0\",\"Cluster 0\",\"Cluster 0\",\"Cluster 0\",\"Cluster 0\",\"Cluster 0\",\"Cluster 0\",\"Cluster 0\",\"Cluster 0\",\"Cluster 0\",\"Cluster 0\",\"Cluster 0\",\"Cluster 0\",\"Cluster 0\",\"Cluster 0\",\"Cluster 0\",\"Cluster 0\",\"Cluster 0\",\"Cluster 0\",\"Cluster 0\",\"Cluster 0\",\"Cluster 0\",\"Cluster 0\",\"Cluster 0\",\"Cluster 0\",\"Cluster 0\",\"Cluster 0\",\"Cluster 0\",\"Cluster 0\",\"Cluster 0\",\"Cluster 0\",\"Cluster 0\",\"Cluster 0\",\"Cluster 0\",\"Cluster 0\",\"Cluster 0\",\"Cluster 0\",\"Cluster 0\",\"Cluster 0\",\"Cluster 0\",\"Cluster 0\",\"Cluster 0\",\"Cluster 0\",\"Cluster 0\",\"Cluster 0\",\"Cluster 0\",\"Cluster 0\",\"Cluster 0\",\"Cluster 0\",\"Cluster 0\",\"Cluster 0\"],\"xaxis\":\"x\",\"yaxis\":\"y\",\"type\":\"histogram\"},{\"alignmentgroup\":\"True\",\"customdata\":[[39,96000],[48,134000],[38,113000],[29,148000],[42,149000],[46,96000],[36,125000],[36,126000],[34,115000],[51,134000],[57,122000],[58,101000],[53,143000],[43,112000],[47,113000],[59,143000],[36,99000],[34,112000],[40,107000],[38,112000],[32,120000],[27,96000],[32,135000],[53,104000],[37,146000],[52,138000],[59,130000],[32,117000],[32,100000],[48,141000],[58,144000],[47,107000],[40,142000],[45,131000],[60,102000],[32,150000],[35,97000],[33,149000],[42,104000],[51,146000],[32,117000],[54,104000],[55,130000],[28,123000],[31,118000],[43,133000],[43,129000],[36,118000],[47,144000],[47,105000],[48,96000],[44,139000],[46,117000],[49,141000],[36,144000],[58,95000],[33,113000],[30,107000],[48,138000],[37,144000],[35,147000],[37,137000],[60,108000],[48,119000]],\"hovertemplate\":\"Cluster=%{x}<br>Edad=%{customdata[0]}<br>Salario=%{customdata[1]}<extra></extra>\",\"legendgroup\":\"Cluster 0\",\"marker\":{\"color\":\"#636efa\"},\"name\":\"Cluster 0\",\"notched\":true,\"offsetgroup\":\"Cluster 0\",\"showlegend\":false,\"x\":[\"Cluster 0\",\"Cluster 0\",\"Cluster 0\",\"Cluster 0\",\"Cluster 0\",\"Cluster 0\",\"Cluster 0\",\"Cluster 0\",\"Cluster 0\",\"Cluster 0\",\"Cluster 0\",\"Cluster 0\",\"Cluster 0\",\"Cluster 0\",\"Cluster 0\",\"Cluster 0\",\"Cluster 0\",\"Cluster 0\",\"Cluster 0\",\"Cluster 0\",\"Cluster 0\",\"Cluster 0\",\"Cluster 0\",\"Cluster 0\",\"Cluster 0\",\"Cluster 0\",\"Cluster 0\",\"Cluster 0\",\"Cluster 0\",\"Cluster 0\",\"Cluster 0\",\"Cluster 0\",\"Cluster 0\",\"Cluster 0\",\"Cluster 0\",\"Cluster 0\",\"Cluster 0\",\"Cluster 0\",\"Cluster 0\",\"Cluster 0\",\"Cluster 0\",\"Cluster 0\",\"Cluster 0\",\"Cluster 0\",\"Cluster 0\",\"Cluster 0\",\"Cluster 0\",\"Cluster 0\",\"Cluster 0\",\"Cluster 0\",\"Cluster 0\",\"Cluster 0\",\"Cluster 0\",\"Cluster 0\",\"Cluster 0\",\"Cluster 0\",\"Cluster 0\",\"Cluster 0\",\"Cluster 0\",\"Cluster 0\",\"Cluster 0\",\"Cluster 0\",\"Cluster 0\",\"Cluster 0\"],\"xaxis\":\"x2\",\"yaxis\":\"y2\",\"type\":\"box\"},{\"alignmentgroup\":\"True\",\"bingroup\":\"x\",\"hovertemplate\":\"Cluster=%{x}<br>count=%{y}<extra></extra>\",\"legendgroup\":\"Cluster 1\",\"marker\":{\"color\":\"#EF553B\",\"opacity\":0.7,\"pattern\":{\"shape\":\"\"}},\"name\":\"Cluster 1\",\"offsetgroup\":\"Cluster 1\",\"orientation\":\"v\",\"showlegend\":true,\"x\":[\"Cluster 1\",\"Cluster 1\",\"Cluster 1\",\"Cluster 1\",\"Cluster 1\",\"Cluster 1\",\"Cluster 1\",\"Cluster 1\",\"Cluster 1\",\"Cluster 1\",\"Cluster 1\",\"Cluster 1\",\"Cluster 1\",\"Cluster 1\",\"Cluster 1\",\"Cluster 1\",\"Cluster 1\",\"Cluster 1\",\"Cluster 1\",\"Cluster 1\",\"Cluster 1\",\"Cluster 1\",\"Cluster 1\",\"Cluster 1\",\"Cluster 1\",\"Cluster 1\",\"Cluster 1\",\"Cluster 1\",\"Cluster 1\",\"Cluster 1\",\"Cluster 1\",\"Cluster 1\",\"Cluster 1\",\"Cluster 1\",\"Cluster 1\",\"Cluster 1\",\"Cluster 1\",\"Cluster 1\",\"Cluster 1\",\"Cluster 1\",\"Cluster 1\",\"Cluster 1\",\"Cluster 1\",\"Cluster 1\",\"Cluster 1\",\"Cluster 1\",\"Cluster 1\",\"Cluster 1\",\"Cluster 1\",\"Cluster 1\",\"Cluster 1\",\"Cluster 1\",\"Cluster 1\",\"Cluster 1\",\"Cluster 1\",\"Cluster 1\",\"Cluster 1\",\"Cluster 1\",\"Cluster 1\",\"Cluster 1\",\"Cluster 1\",\"Cluster 1\",\"Cluster 1\",\"Cluster 1\",\"Cluster 1\",\"Cluster 1\",\"Cluster 1\",\"Cluster 1\",\"Cluster 1\",\"Cluster 1\",\"Cluster 1\",\"Cluster 1\",\"Cluster 1\",\"Cluster 1\",\"Cluster 1\",\"Cluster 1\",\"Cluster 1\",\"Cluster 1\",\"Cluster 1\",\"Cluster 1\",\"Cluster 1\",\"Cluster 1\",\"Cluster 1\",\"Cluster 1\"],\"xaxis\":\"x\",\"yaxis\":\"y\",\"type\":\"histogram\"},{\"alignmentgroup\":\"True\",\"customdata\":[[39,42000],[35,39000],[39,59000],[36,63000],[36,50000],[38,50000],[47,49000],[49,65000],[38,61000],[38,65000],[35,50000],[18,44000],[22,55000],[28,59000],[52,38000],[38,51000],[59,42000],[38,61000],[45,45000],[42,65000],[44,39000],[46,59000],[42,65000],[28,59000],[26,43000],[35,61000],[60,42000],[38,59000],[28,44000],[48,41000],[35,59000],[42,53000],[40,57000],[47,51000],[39,42000],[41,60000],[35,60000],[35,58000],[35,57000],[27,57000],[39,61000],[27,58000],[41,52000],[34,43000],[18,52000],[24,58000],[37,53000],[57,60000],[26,52000],[24,55000],[37,62000],[33,51000],[41,51000],[35,47000],[35,55000],[35,53000],[37,55000],[28,55000],[30,49000],[47,43000],[23,66000],[35,50000],[31,58000],[33,41000],[38,50000],[41,52000],[36,60000],[33,60000],[27,58000],[40,47000],[58,38000],[40,59000],[50,44000],[22,63000],[46,41000],[40,61000],[42,64000],[40,60000],[23,48000],[56,60000],[60,42000],[47,47000],[23,63000],[24,55000]],\"hovertemplate\":\"Cluster=%{x}<br>Edad=%{customdata[0]}<br>Salario=%{customdata[1]}<extra></extra>\",\"legendgroup\":\"Cluster 1\",\"marker\":{\"color\":\"#EF553B\"},\"name\":\"Cluster 1\",\"notched\":true,\"offsetgroup\":\"Cluster 1\",\"showlegend\":false,\"x\":[\"Cluster 1\",\"Cluster 1\",\"Cluster 1\",\"Cluster 1\",\"Cluster 1\",\"Cluster 1\",\"Cluster 1\",\"Cluster 1\",\"Cluster 1\",\"Cluster 1\",\"Cluster 1\",\"Cluster 1\",\"Cluster 1\",\"Cluster 1\",\"Cluster 1\",\"Cluster 1\",\"Cluster 1\",\"Cluster 1\",\"Cluster 1\",\"Cluster 1\",\"Cluster 1\",\"Cluster 1\",\"Cluster 1\",\"Cluster 1\",\"Cluster 1\",\"Cluster 1\",\"Cluster 1\",\"Cluster 1\",\"Cluster 1\",\"Cluster 1\",\"Cluster 1\",\"Cluster 1\",\"Cluster 1\",\"Cluster 1\",\"Cluster 1\",\"Cluster 1\",\"Cluster 1\",\"Cluster 1\",\"Cluster 1\",\"Cluster 1\",\"Cluster 1\",\"Cluster 1\",\"Cluster 1\",\"Cluster 1\",\"Cluster 1\",\"Cluster 1\",\"Cluster 1\",\"Cluster 1\",\"Cluster 1\",\"Cluster 1\",\"Cluster 1\",\"Cluster 1\",\"Cluster 1\",\"Cluster 1\",\"Cluster 1\",\"Cluster 1\",\"Cluster 1\",\"Cluster 1\",\"Cluster 1\",\"Cluster 1\",\"Cluster 1\",\"Cluster 1\",\"Cluster 1\",\"Cluster 1\",\"Cluster 1\",\"Cluster 1\",\"Cluster 1\",\"Cluster 1\",\"Cluster 1\",\"Cluster 1\",\"Cluster 1\",\"Cluster 1\",\"Cluster 1\",\"Cluster 1\",\"Cluster 1\",\"Cluster 1\",\"Cluster 1\",\"Cluster 1\",\"Cluster 1\",\"Cluster 1\",\"Cluster 1\",\"Cluster 1\",\"Cluster 1\",\"Cluster 1\"],\"xaxis\":\"x2\",\"yaxis\":\"y2\",\"type\":\"box\"},{\"alignmentgroup\":\"True\",\"bingroup\":\"x\",\"hovertemplate\":\"Cluster=%{x}<br>count=%{y}<extra></extra>\",\"legendgroup\":\"Cluster 2\",\"marker\":{\"color\":\"#00cc96\",\"opacity\":0.7,\"pattern\":{\"shape\":\"\"}},\"name\":\"Cluster 2\",\"offsetgroup\":\"Cluster 2\",\"orientation\":\"v\",\"showlegend\":true,\"x\":[\"Cluster 2\",\"Cluster 2\",\"Cluster 2\",\"Cluster 2\",\"Cluster 2\",\"Cluster 2\",\"Cluster 2\",\"Cluster 2\",\"Cluster 2\",\"Cluster 2\",\"Cluster 2\",\"Cluster 2\",\"Cluster 2\",\"Cluster 2\",\"Cluster 2\",\"Cluster 2\",\"Cluster 2\",\"Cluster 2\",\"Cluster 2\",\"Cluster 2\",\"Cluster 2\",\"Cluster 2\",\"Cluster 2\",\"Cluster 2\",\"Cluster 2\",\"Cluster 2\",\"Cluster 2\",\"Cluster 2\",\"Cluster 2\",\"Cluster 2\",\"Cluster 2\",\"Cluster 2\",\"Cluster 2\",\"Cluster 2\",\"Cluster 2\",\"Cluster 2\",\"Cluster 2\",\"Cluster 2\",\"Cluster 2\",\"Cluster 2\",\"Cluster 2\",\"Cluster 2\",\"Cluster 2\",\"Cluster 2\",\"Cluster 2\",\"Cluster 2\",\"Cluster 2\",\"Cluster 2\",\"Cluster 2\",\"Cluster 2\",\"Cluster 2\",\"Cluster 2\",\"Cluster 2\",\"Cluster 2\",\"Cluster 2\",\"Cluster 2\",\"Cluster 2\",\"Cluster 2\",\"Cluster 2\",\"Cluster 2\",\"Cluster 2\",\"Cluster 2\",\"Cluster 2\",\"Cluster 2\",\"Cluster 2\",\"Cluster 2\",\"Cluster 2\",\"Cluster 2\",\"Cluster 2\",\"Cluster 2\",\"Cluster 2\",\"Cluster 2\",\"Cluster 2\",\"Cluster 2\",\"Cluster 2\",\"Cluster 2\",\"Cluster 2\",\"Cluster 2\",\"Cluster 2\",\"Cluster 2\",\"Cluster 2\",\"Cluster 2\",\"Cluster 2\",\"Cluster 2\",\"Cluster 2\",\"Cluster 2\",\"Cluster 2\",\"Cluster 2\",\"Cluster 2\",\"Cluster 2\",\"Cluster 2\",\"Cluster 2\"],\"xaxis\":\"x\",\"yaxis\":\"y\",\"type\":\"histogram\"},{\"alignmentgroup\":\"True\",\"customdata\":[[42,90000],[59,76000],[28,84000],[25,90000],[35,72000],[31,71000],[41,80000],[40,72000],[35,88000],[40,75000],[45,79000],[20,74000],[39,75000],[42,75000],[38,71000],[23,82000],[38,80000],[46,88000],[48,74000],[53,72000],[39,71000],[54,70000],[31,76000],[35,91000],[29,75000],[46,74000],[26,84000],[37,71000],[37,80000],[40,78000],[30,80000],[30,87000],[35,75000],[25,79000],[31,89000],[29,83000],[28,87000],[29,80000],[32,86000],[42,73000],[21,88000],[37,79000],[22,81000],[48,90000],[27,88000],[24,84000],[27,84000],[46,82000],[40,75000],[37,80000],[52,90000],[59,83000],[42,79000],[18,82000],[49,86000],[27,89000],[35,77000],[42,70000],[59,88000],[24,89000],[60,83000],[19,76000],[42,80000],[28,89000],[26,80000],[20,82000],[21,68000],[25,87000],[26,80000],[57,74000],[35,71000],[19,85000],[30,79000],[37,78000],[36,75000],[18,68000],[46,79000],[37,70000],[27,90000],[35,75000],[35,72000],[39,77000],[42,80000],[31,74000],[20,82000],[20,86000],[33,69000],[37,77000],[41,72000],[26,86000],[40,71000],[41,87000]],\"hovertemplate\":\"Cluster=%{x}<br>Edad=%{customdata[0]}<br>Salario=%{customdata[1]}<extra></extra>\",\"legendgroup\":\"Cluster 2\",\"marker\":{\"color\":\"#00cc96\"},\"name\":\"Cluster 2\",\"notched\":true,\"offsetgroup\":\"Cluster 2\",\"showlegend\":false,\"x\":[\"Cluster 2\",\"Cluster 2\",\"Cluster 2\",\"Cluster 2\",\"Cluster 2\",\"Cluster 2\",\"Cluster 2\",\"Cluster 2\",\"Cluster 2\",\"Cluster 2\",\"Cluster 2\",\"Cluster 2\",\"Cluster 2\",\"Cluster 2\",\"Cluster 2\",\"Cluster 2\",\"Cluster 2\",\"Cluster 2\",\"Cluster 2\",\"Cluster 2\",\"Cluster 2\",\"Cluster 2\",\"Cluster 2\",\"Cluster 2\",\"Cluster 2\",\"Cluster 2\",\"Cluster 2\",\"Cluster 2\",\"Cluster 2\",\"Cluster 2\",\"Cluster 2\",\"Cluster 2\",\"Cluster 2\",\"Cluster 2\",\"Cluster 2\",\"Cluster 2\",\"Cluster 2\",\"Cluster 2\",\"Cluster 2\",\"Cluster 2\",\"Cluster 2\",\"Cluster 2\",\"Cluster 2\",\"Cluster 2\",\"Cluster 2\",\"Cluster 2\",\"Cluster 2\",\"Cluster 2\",\"Cluster 2\",\"Cluster 2\",\"Cluster 2\",\"Cluster 2\",\"Cluster 2\",\"Cluster 2\",\"Cluster 2\",\"Cluster 2\",\"Cluster 2\",\"Cluster 2\",\"Cluster 2\",\"Cluster 2\",\"Cluster 2\",\"Cluster 2\",\"Cluster 2\",\"Cluster 2\",\"Cluster 2\",\"Cluster 2\",\"Cluster 2\",\"Cluster 2\",\"Cluster 2\",\"Cluster 2\",\"Cluster 2\",\"Cluster 2\",\"Cluster 2\",\"Cluster 2\",\"Cluster 2\",\"Cluster 2\",\"Cluster 2\",\"Cluster 2\",\"Cluster 2\",\"Cluster 2\",\"Cluster 2\",\"Cluster 2\",\"Cluster 2\",\"Cluster 2\",\"Cluster 2\",\"Cluster 2\",\"Cluster 2\",\"Cluster 2\",\"Cluster 2\",\"Cluster 2\",\"Cluster 2\",\"Cluster 2\"],\"xaxis\":\"x2\",\"yaxis\":\"y2\",\"type\":\"box\"},{\"alignmentgroup\":\"True\",\"bingroup\":\"x\",\"hovertemplate\":\"Cluster=%{x}<br>count=%{y}<extra></extra>\",\"legendgroup\":\"Cluster 3\",\"marker\":{\"color\":\"#ab63fa\",\"opacity\":0.7,\"pattern\":{\"shape\":\"\"}},\"name\":\"Cluster 3\",\"offsetgroup\":\"Cluster 3\",\"orientation\":\"v\",\"showlegend\":true,\"x\":[\"Cluster 3\",\"Cluster 3\",\"Cluster 3\",\"Cluster 3\",\"Cluster 3\",\"Cluster 3\",\"Cluster 3\",\"Cluster 3\",\"Cluster 3\",\"Cluster 3\",\"Cluster 3\",\"Cluster 3\",\"Cluster 3\",\"Cluster 3\",\"Cluster 3\",\"Cluster 3\",\"Cluster 3\",\"Cluster 3\",\"Cluster 3\",\"Cluster 3\",\"Cluster 3\",\"Cluster 3\",\"Cluster 3\",\"Cluster 3\",\"Cluster 3\",\"Cluster 3\",\"Cluster 3\",\"Cluster 3\",\"Cluster 3\",\"Cluster 3\",\"Cluster 3\",\"Cluster 3\",\"Cluster 3\",\"Cluster 3\",\"Cluster 3\",\"Cluster 3\",\"Cluster 3\",\"Cluster 3\",\"Cluster 3\",\"Cluster 3\",\"Cluster 3\",\"Cluster 3\",\"Cluster 3\",\"Cluster 3\",\"Cluster 3\",\"Cluster 3\",\"Cluster 3\",\"Cluster 3\",\"Cluster 3\",\"Cluster 3\",\"Cluster 3\",\"Cluster 3\",\"Cluster 3\",\"Cluster 3\",\"Cluster 3\",\"Cluster 3\",\"Cluster 3\",\"Cluster 3\",\"Cluster 3\",\"Cluster 3\"],\"xaxis\":\"x\",\"yaxis\":\"y\",\"type\":\"histogram\"},{\"alignmentgroup\":\"True\",\"customdata\":[[45,22000],[48,29000],[34,25000],[45,32000],[46,22000],[26,30000],[31,15000],[22,27000],[35,20000],[58,23000],[49,36000],[31,34000],[33,28000],[23,28000],[35,22000],[24,32000],[27,20000],[22,18000],[50,20000],[19,25000],[59,29000],[49,28000],[48,35000],[29,28000],[26,15000],[26,15000],[24,19000],[46,23000],[45,26000],[35,27000],[57,26000],[30,15000],[47,30000],[37,33000],[31,18000],[47,23000],[48,33000],[27,17000],[49,28000],[46,28000],[35,25000],[23,20000],[32,18000],[19,26000],[47,25000],[45,22000],[46,32000],[53,34000],[51,23000],[28,32000],[26,35000],[19,21000],[25,33000],[47,34000],[48,33000],[32,18000],[24,27000],[52,21000],[26,17000],[19,19000]],\"hovertemplate\":\"Cluster=%{x}<br>Edad=%{customdata[0]}<br>Salario=%{customdata[1]}<extra></extra>\",\"legendgroup\":\"Cluster 3\",\"marker\":{\"color\":\"#ab63fa\"},\"name\":\"Cluster 3\",\"notched\":true,\"offsetgroup\":\"Cluster 3\",\"showlegend\":false,\"x\":[\"Cluster 3\",\"Cluster 3\",\"Cluster 3\",\"Cluster 3\",\"Cluster 3\",\"Cluster 3\",\"Cluster 3\",\"Cluster 3\",\"Cluster 3\",\"Cluster 3\",\"Cluster 3\",\"Cluster 3\",\"Cluster 3\",\"Cluster 3\",\"Cluster 3\",\"Cluster 3\",\"Cluster 3\",\"Cluster 3\",\"Cluster 3\",\"Cluster 3\",\"Cluster 3\",\"Cluster 3\",\"Cluster 3\",\"Cluster 3\",\"Cluster 3\",\"Cluster 3\",\"Cluster 3\",\"Cluster 3\",\"Cluster 3\",\"Cluster 3\",\"Cluster 3\",\"Cluster 3\",\"Cluster 3\",\"Cluster 3\",\"Cluster 3\",\"Cluster 3\",\"Cluster 3\",\"Cluster 3\",\"Cluster 3\",\"Cluster 3\",\"Cluster 3\",\"Cluster 3\",\"Cluster 3\",\"Cluster 3\",\"Cluster 3\",\"Cluster 3\",\"Cluster 3\",\"Cluster 3\",\"Cluster 3\",\"Cluster 3\",\"Cluster 3\",\"Cluster 3\",\"Cluster 3\",\"Cluster 3\",\"Cluster 3\",\"Cluster 3\",\"Cluster 3\",\"Cluster 3\",\"Cluster 3\",\"Cluster 3\"],\"xaxis\":\"x2\",\"yaxis\":\"y2\",\"type\":\"box\"}],                        {\"template\":{\"data\":{\"bar\":[{\"error_x\":{\"color\":\"#2a3f5f\"},\"error_y\":{\"color\":\"#2a3f5f\"},\"marker\":{\"line\":{\"color\":\"#E5ECF6\",\"width\":0.5},\"pattern\":{\"fillmode\":\"overlay\",\"size\":10,\"solidity\":0.2}},\"type\":\"bar\"}],\"barpolar\":[{\"marker\":{\"line\":{\"color\":\"#E5ECF6\",\"width\":0.5},\"pattern\":{\"fillmode\":\"overlay\",\"size\":10,\"solidity\":0.2}},\"type\":\"barpolar\"}],\"carpet\":[{\"aaxis\":{\"endlinecolor\":\"#2a3f5f\",\"gridcolor\":\"white\",\"linecolor\":\"white\",\"minorgridcolor\":\"white\",\"startlinecolor\":\"#2a3f5f\"},\"baxis\":{\"endlinecolor\":\"#2a3f5f\",\"gridcolor\":\"white\",\"linecolor\":\"white\",\"minorgridcolor\":\"white\",\"startlinecolor\":\"#2a3f5f\"},\"type\":\"carpet\"}],\"choropleth\":[{\"colorbar\":{\"outlinewidth\":0,\"ticks\":\"\"},\"type\":\"choropleth\"}],\"contour\":[{\"colorbar\":{\"outlinewidth\":0,\"ticks\":\"\"},\"colorscale\":[[0.0,\"#0d0887\"],[0.1111111111111111,\"#46039f\"],[0.2222222222222222,\"#7201a8\"],[0.3333333333333333,\"#9c179e\"],[0.4444444444444444,\"#bd3786\"],[0.5555555555555556,\"#d8576b\"],[0.6666666666666666,\"#ed7953\"],[0.7777777777777778,\"#fb9f3a\"],[0.8888888888888888,\"#fdca26\"],[1.0,\"#f0f921\"]],\"type\":\"contour\"}],\"contourcarpet\":[{\"colorbar\":{\"outlinewidth\":0,\"ticks\":\"\"},\"type\":\"contourcarpet\"}],\"heatmap\":[{\"colorbar\":{\"outlinewidth\":0,\"ticks\":\"\"},\"colorscale\":[[0.0,\"#0d0887\"],[0.1111111111111111,\"#46039f\"],[0.2222222222222222,\"#7201a8\"],[0.3333333333333333,\"#9c179e\"],[0.4444444444444444,\"#bd3786\"],[0.5555555555555556,\"#d8576b\"],[0.6666666666666666,\"#ed7953\"],[0.7777777777777778,\"#fb9f3a\"],[0.8888888888888888,\"#fdca26\"],[1.0,\"#f0f921\"]],\"type\":\"heatmap\"}],\"heatmapgl\":[{\"colorbar\":{\"outlinewidth\":0,\"ticks\":\"\"},\"colorscale\":[[0.0,\"#0d0887\"],[0.1111111111111111,\"#46039f\"],[0.2222222222222222,\"#7201a8\"],[0.3333333333333333,\"#9c179e\"],[0.4444444444444444,\"#bd3786\"],[0.5555555555555556,\"#d8576b\"],[0.6666666666666666,\"#ed7953\"],[0.7777777777777778,\"#fb9f3a\"],[0.8888888888888888,\"#fdca26\"],[1.0,\"#f0f921\"]],\"type\":\"heatmapgl\"}],\"histogram\":[{\"marker\":{\"pattern\":{\"fillmode\":\"overlay\",\"size\":10,\"solidity\":0.2}},\"type\":\"histogram\"}],\"histogram2d\":[{\"colorbar\":{\"outlinewidth\":0,\"ticks\":\"\"},\"colorscale\":[[0.0,\"#0d0887\"],[0.1111111111111111,\"#46039f\"],[0.2222222222222222,\"#7201a8\"],[0.3333333333333333,\"#9c179e\"],[0.4444444444444444,\"#bd3786\"],[0.5555555555555556,\"#d8576b\"],[0.6666666666666666,\"#ed7953\"],[0.7777777777777778,\"#fb9f3a\"],[0.8888888888888888,\"#fdca26\"],[1.0,\"#f0f921\"]],\"type\":\"histogram2d\"}],\"histogram2dcontour\":[{\"colorbar\":{\"outlinewidth\":0,\"ticks\":\"\"},\"colorscale\":[[0.0,\"#0d0887\"],[0.1111111111111111,\"#46039f\"],[0.2222222222222222,\"#7201a8\"],[0.3333333333333333,\"#9c179e\"],[0.4444444444444444,\"#bd3786\"],[0.5555555555555556,\"#d8576b\"],[0.6666666666666666,\"#ed7953\"],[0.7777777777777778,\"#fb9f3a\"],[0.8888888888888888,\"#fdca26\"],[1.0,\"#f0f921\"]],\"type\":\"histogram2dcontour\"}],\"mesh3d\":[{\"colorbar\":{\"outlinewidth\":0,\"ticks\":\"\"},\"type\":\"mesh3d\"}],\"parcoords\":[{\"line\":{\"colorbar\":{\"outlinewidth\":0,\"ticks\":\"\"}},\"type\":\"parcoords\"}],\"pie\":[{\"automargin\":true,\"type\":\"pie\"}],\"scatter\":[{\"marker\":{\"colorbar\":{\"outlinewidth\":0,\"ticks\":\"\"}},\"type\":\"scatter\"}],\"scatter3d\":[{\"line\":{\"colorbar\":{\"outlinewidth\":0,\"ticks\":\"\"}},\"marker\":{\"colorbar\":{\"outlinewidth\":0,\"ticks\":\"\"}},\"type\":\"scatter3d\"}],\"scattercarpet\":[{\"marker\":{\"colorbar\":{\"outlinewidth\":0,\"ticks\":\"\"}},\"type\":\"scattercarpet\"}],\"scattergeo\":[{\"marker\":{\"colorbar\":{\"outlinewidth\":0,\"ticks\":\"\"}},\"type\":\"scattergeo\"}],\"scattergl\":[{\"marker\":{\"colorbar\":{\"outlinewidth\":0,\"ticks\":\"\"}},\"type\":\"scattergl\"}],\"scattermapbox\":[{\"marker\":{\"colorbar\":{\"outlinewidth\":0,\"ticks\":\"\"}},\"type\":\"scattermapbox\"}],\"scatterpolar\":[{\"marker\":{\"colorbar\":{\"outlinewidth\":0,\"ticks\":\"\"}},\"type\":\"scatterpolar\"}],\"scatterpolargl\":[{\"marker\":{\"colorbar\":{\"outlinewidth\":0,\"ticks\":\"\"}},\"type\":\"scatterpolargl\"}],\"scatterternary\":[{\"marker\":{\"colorbar\":{\"outlinewidth\":0,\"ticks\":\"\"}},\"type\":\"scatterternary\"}],\"surface\":[{\"colorbar\":{\"outlinewidth\":0,\"ticks\":\"\"},\"colorscale\":[[0.0,\"#0d0887\"],[0.1111111111111111,\"#46039f\"],[0.2222222222222222,\"#7201a8\"],[0.3333333333333333,\"#9c179e\"],[0.4444444444444444,\"#bd3786\"],[0.5555555555555556,\"#d8576b\"],[0.6666666666666666,\"#ed7953\"],[0.7777777777777778,\"#fb9f3a\"],[0.8888888888888888,\"#fdca26\"],[1.0,\"#f0f921\"]],\"type\":\"surface\"}],\"table\":[{\"cells\":{\"fill\":{\"color\":\"#EBF0F8\"},\"line\":{\"color\":\"white\"}},\"header\":{\"fill\":{\"color\":\"#C8D4E3\"},\"line\":{\"color\":\"white\"}},\"type\":\"table\"}]},\"layout\":{\"annotationdefaults\":{\"arrowcolor\":\"#2a3f5f\",\"arrowhead\":0,\"arrowwidth\":1},\"autotypenumbers\":\"strict\",\"coloraxis\":{\"colorbar\":{\"outlinewidth\":0,\"ticks\":\"\"}},\"colorscale\":{\"diverging\":[[0,\"#8e0152\"],[0.1,\"#c51b7d\"],[0.2,\"#de77ae\"],[0.3,\"#f1b6da\"],[0.4,\"#fde0ef\"],[0.5,\"#f7f7f7\"],[0.6,\"#e6f5d0\"],[0.7,\"#b8e186\"],[0.8,\"#7fbc41\"],[0.9,\"#4d9221\"],[1,\"#276419\"]],\"sequential\":[[0.0,\"#0d0887\"],[0.1111111111111111,\"#46039f\"],[0.2222222222222222,\"#7201a8\"],[0.3333333333333333,\"#9c179e\"],[0.4444444444444444,\"#bd3786\"],[0.5555555555555556,\"#d8576b\"],[0.6666666666666666,\"#ed7953\"],[0.7777777777777778,\"#fb9f3a\"],[0.8888888888888888,\"#fdca26\"],[1.0,\"#f0f921\"]],\"sequentialminus\":[[0.0,\"#0d0887\"],[0.1111111111111111,\"#46039f\"],[0.2222222222222222,\"#7201a8\"],[0.3333333333333333,\"#9c179e\"],[0.4444444444444444,\"#bd3786\"],[0.5555555555555556,\"#d8576b\"],[0.6666666666666666,\"#ed7953\"],[0.7777777777777778,\"#fb9f3a\"],[0.8888888888888888,\"#fdca26\"],[1.0,\"#f0f921\"]]},\"colorway\":[\"#636efa\",\"#EF553B\",\"#00cc96\",\"#ab63fa\",\"#FFA15A\",\"#19d3f3\",\"#FF6692\",\"#B6E880\",\"#FF97FF\",\"#FECB52\"],\"font\":{\"color\":\"#2a3f5f\"},\"geo\":{\"bgcolor\":\"white\",\"lakecolor\":\"white\",\"landcolor\":\"#E5ECF6\",\"showlakes\":true,\"showland\":true,\"subunitcolor\":\"white\"},\"hoverlabel\":{\"align\":\"left\"},\"hovermode\":\"closest\",\"mapbox\":{\"style\":\"light\"},\"paper_bgcolor\":\"white\",\"plot_bgcolor\":\"#E5ECF6\",\"polar\":{\"angularaxis\":{\"gridcolor\":\"white\",\"linecolor\":\"white\",\"ticks\":\"\"},\"bgcolor\":\"#E5ECF6\",\"radialaxis\":{\"gridcolor\":\"white\",\"linecolor\":\"white\",\"ticks\":\"\"}},\"scene\":{\"xaxis\":{\"backgroundcolor\":\"#E5ECF6\",\"gridcolor\":\"white\",\"gridwidth\":2,\"linecolor\":\"white\",\"showbackground\":true,\"ticks\":\"\",\"zerolinecolor\":\"white\"},\"yaxis\":{\"backgroundcolor\":\"#E5ECF6\",\"gridcolor\":\"white\",\"gridwidth\":2,\"linecolor\":\"white\",\"showbackground\":true,\"ticks\":\"\",\"zerolinecolor\":\"white\"},\"zaxis\":{\"backgroundcolor\":\"#E5ECF6\",\"gridcolor\":\"white\",\"gridwidth\":2,\"linecolor\":\"white\",\"showbackground\":true,\"ticks\":\"\",\"zerolinecolor\":\"white\"}},\"shapedefaults\":{\"line\":{\"color\":\"#2a3f5f\"}},\"ternary\":{\"aaxis\":{\"gridcolor\":\"white\",\"linecolor\":\"white\",\"ticks\":\"\"},\"baxis\":{\"gridcolor\":\"white\",\"linecolor\":\"white\",\"ticks\":\"\"},\"bgcolor\":\"#E5ECF6\",\"caxis\":{\"gridcolor\":\"white\",\"linecolor\":\"white\",\"ticks\":\"\"}},\"title\":{\"x\":0.05},\"xaxis\":{\"automargin\":true,\"gridcolor\":\"white\",\"linecolor\":\"white\",\"ticks\":\"\",\"title\":{\"standoff\":15},\"zerolinecolor\":\"white\",\"zerolinewidth\":2},\"yaxis\":{\"automargin\":true,\"gridcolor\":\"white\",\"linecolor\":\"white\",\"ticks\":\"\",\"title\":{\"standoff\":15},\"zerolinecolor\":\"white\",\"zerolinewidth\":2}}},\"xaxis\":{\"anchor\":\"y\",\"domain\":[0.0,1.0],\"categoryorder\":\"array\",\"categoryarray\":[\"Cluster 0\",\"Cluster 1\",\"Cluster 2\",\"Cluster 3\"],\"title\":{\"text\":\"Cluster\"}},\"yaxis\":{\"anchor\":\"x\",\"domain\":[0.0,0.7326],\"title\":{\"text\":\"count\"}},\"xaxis2\":{\"anchor\":\"y2\",\"domain\":[0.0,1.0],\"matches\":\"x\",\"showticklabels\":false,\"showgrid\":true},\"yaxis2\":{\"anchor\":\"x2\",\"domain\":[0.7426,1.0],\"matches\":\"y2\",\"showticklabels\":false,\"showline\":false,\"ticks\":\"\",\"showgrid\":false},\"legend\":{\"title\":{\"text\":\"Cluster\"},\"tracegroupgap\":0},\"margin\":{\"t\":60},\"barmode\":\"relative\",\"height\":600},                        {\"responsive\": true}                    ).then(function(){\n",
              "                            \n",
              "var gd = document.getElementById('ec6df869-bd1b-4072-a669-6faf4570b522');\n",
              "var x = new MutationObserver(function (mutations, observer) {{\n",
              "        var display = window.getComputedStyle(gd).display;\n",
              "        if (!display || display === 'none') {{\n",
              "            console.log([gd, 'removed!']);\n",
              "            Plotly.purge(gd);\n",
              "            observer.disconnect();\n",
              "        }}\n",
              "}});\n",
              "\n",
              "// Listen for the removal of the full notebook cells\n",
              "var notebookContainer = gd.closest('#notebook-container');\n",
              "if (notebookContainer) {{\n",
              "    x.observe(notebookContainer, {childList: true});\n",
              "}}\n",
              "\n",
              "// Listen for the clearing of the current output cell\n",
              "var outputEl = gd.closest('.output');\n",
              "if (outputEl) {{\n",
              "    x.observe(outputEl, {childList: true});\n",
              "}}\n",
              "\n",
              "                        })                };                            </script>        </div>\n",
              "</body>\n",
              "</html>"
            ]
          },
          "metadata": {}
        }
      ]
    },
    {
      "cell_type": "markdown",
      "metadata": {
        "id": "Stts-pEsgeOG"
      },
      "source": [
        "***También podemos usar la misma gráfica para ver la distribución de cualquier característica continua. Vea un ejemplo a continuación:***"
      ]
    },
    {
      "cell_type": "code",
      "metadata": {
        "colab": {
          "base_uri": "https://localhost:8080/",
          "height": 617
        },
        "id": "VHGllwTYgnK_",
        "outputId": "954943ae-9207-4479-cbaa-fec1d647aac4"
      },
      "source": [
        "plot_model(hc, plot = 'distribution', feature = 'Edad')"
      ],
      "execution_count": 25,
      "outputs": [
        {
          "output_type": "display_data",
          "data": {
            "text/plain": [
              "<IPython.core.display.HTML object>"
            ],
            "text/html": []
          },
          "metadata": {}
        },
        {
          "output_type": "display_data",
          "data": {
            "text/html": [
              "<html>\n",
              "<head><meta charset=\"utf-8\" /></head>\n",
              "<body>\n",
              "    <div>            <script src=\"https://cdnjs.cloudflare.com/ajax/libs/mathjax/2.7.5/MathJax.js?config=TeX-AMS-MML_SVG\"></script><script type=\"text/javascript\">if (window.MathJax) {MathJax.Hub.Config({SVG: {font: \"STIX-Web\"}});}</script>                <script type=\"text/javascript\">window.PlotlyConfig = {MathJaxConfig: 'local'};</script>\n",
              "        <script src=\"https://cdn.plot.ly/plotly-2.8.3.min.js\"></script>                <div id=\"3c7fd753-ab64-45b3-aa2d-b5d86ec19742\" class=\"plotly-graph-div\" style=\"height:600px; width:100%;\"></div>            <script type=\"text/javascript\">                                    window.PLOTLYENV=window.PLOTLYENV || {};                                    if (document.getElementById(\"3c7fd753-ab64-45b3-aa2d-b5d86ec19742\")) {                    Plotly.newPlot(                        \"3c7fd753-ab64-45b3-aa2d-b5d86ec19742\",                        [{\"alignmentgroup\":\"True\",\"bingroup\":\"x\",\"hovertemplate\":\"Cluster=Cluster 0<br>Edad=%{x}<br>count=%{y}<extra></extra>\",\"legendgroup\":\"Cluster 0\",\"marker\":{\"color\":\"#636efa\",\"opacity\":0.7,\"pattern\":{\"shape\":\"\"}},\"name\":\"Cluster 0\",\"offsetgroup\":\"Cluster 0\",\"orientation\":\"v\",\"showlegend\":true,\"x\":[39,48,38,29,42,46,36,36,34,51,57,58,53,43,47,59,36,34,40,38,32,27,32,53,37,52,59,32,32,48,58,47,40,45,60,32,35,33,42,51,32,54,55,28,31,43,43,36,47,47,48,44,46,49,36,58,33,30,48,37,35,37,60,48],\"xaxis\":\"x\",\"yaxis\":\"y\",\"type\":\"histogram\"},{\"alignmentgroup\":\"True\",\"customdata\":[[96000,\"Cluster 0\"],[134000,\"Cluster 0\"],[113000,\"Cluster 0\"],[148000,\"Cluster 0\"],[149000,\"Cluster 0\"],[96000,\"Cluster 0\"],[125000,\"Cluster 0\"],[126000,\"Cluster 0\"],[115000,\"Cluster 0\"],[134000,\"Cluster 0\"],[122000,\"Cluster 0\"],[101000,\"Cluster 0\"],[143000,\"Cluster 0\"],[112000,\"Cluster 0\"],[113000,\"Cluster 0\"],[143000,\"Cluster 0\"],[99000,\"Cluster 0\"],[112000,\"Cluster 0\"],[107000,\"Cluster 0\"],[112000,\"Cluster 0\"],[120000,\"Cluster 0\"],[96000,\"Cluster 0\"],[135000,\"Cluster 0\"],[104000,\"Cluster 0\"],[146000,\"Cluster 0\"],[138000,\"Cluster 0\"],[130000,\"Cluster 0\"],[117000,\"Cluster 0\"],[100000,\"Cluster 0\"],[141000,\"Cluster 0\"],[144000,\"Cluster 0\"],[107000,\"Cluster 0\"],[142000,\"Cluster 0\"],[131000,\"Cluster 0\"],[102000,\"Cluster 0\"],[150000,\"Cluster 0\"],[97000,\"Cluster 0\"],[149000,\"Cluster 0\"],[104000,\"Cluster 0\"],[146000,\"Cluster 0\"],[117000,\"Cluster 0\"],[104000,\"Cluster 0\"],[130000,\"Cluster 0\"],[123000,\"Cluster 0\"],[118000,\"Cluster 0\"],[133000,\"Cluster 0\"],[129000,\"Cluster 0\"],[118000,\"Cluster 0\"],[144000,\"Cluster 0\"],[105000,\"Cluster 0\"],[96000,\"Cluster 0\"],[139000,\"Cluster 0\"],[117000,\"Cluster 0\"],[141000,\"Cluster 0\"],[144000,\"Cluster 0\"],[95000,\"Cluster 0\"],[113000,\"Cluster 0\"],[107000,\"Cluster 0\"],[138000,\"Cluster 0\"],[144000,\"Cluster 0\"],[147000,\"Cluster 0\"],[137000,\"Cluster 0\"],[108000,\"Cluster 0\"],[119000,\"Cluster 0\"]],\"hovertemplate\":\"Cluster=%{customdata[1]}<br>Edad=%{x}<br>Salario=%{customdata[0]}<extra></extra>\",\"legendgroup\":\"Cluster 0\",\"marker\":{\"color\":\"#636efa\"},\"name\":\"Cluster 0\",\"notched\":true,\"offsetgroup\":\"Cluster 0\",\"showlegend\":false,\"x\":[39,48,38,29,42,46,36,36,34,51,57,58,53,43,47,59,36,34,40,38,32,27,32,53,37,52,59,32,32,48,58,47,40,45,60,32,35,33,42,51,32,54,55,28,31,43,43,36,47,47,48,44,46,49,36,58,33,30,48,37,35,37,60,48],\"xaxis\":\"x2\",\"yaxis\":\"y2\",\"type\":\"box\"},{\"alignmentgroup\":\"True\",\"bingroup\":\"x\",\"hovertemplate\":\"Cluster=Cluster 1<br>Edad=%{x}<br>count=%{y}<extra></extra>\",\"legendgroup\":\"Cluster 1\",\"marker\":{\"color\":\"#EF553B\",\"opacity\":0.7,\"pattern\":{\"shape\":\"\"}},\"name\":\"Cluster 1\",\"offsetgroup\":\"Cluster 1\",\"orientation\":\"v\",\"showlegend\":true,\"x\":[39,35,39,36,36,38,47,49,38,38,35,18,22,28,52,38,59,38,45,42,44,46,42,28,26,35,60,38,28,48,35,42,40,47,39,41,35,35,35,27,39,27,41,34,18,24,37,57,26,24,37,33,41,35,35,35,37,28,30,47,23,35,31,33,38,41,36,33,27,40,58,40,50,22,46,40,42,40,23,56,60,47,23,24],\"xaxis\":\"x\",\"yaxis\":\"y\",\"type\":\"histogram\"},{\"alignmentgroup\":\"True\",\"customdata\":[[42000,\"Cluster 1\"],[39000,\"Cluster 1\"],[59000,\"Cluster 1\"],[63000,\"Cluster 1\"],[50000,\"Cluster 1\"],[50000,\"Cluster 1\"],[49000,\"Cluster 1\"],[65000,\"Cluster 1\"],[61000,\"Cluster 1\"],[65000,\"Cluster 1\"],[50000,\"Cluster 1\"],[44000,\"Cluster 1\"],[55000,\"Cluster 1\"],[59000,\"Cluster 1\"],[38000,\"Cluster 1\"],[51000,\"Cluster 1\"],[42000,\"Cluster 1\"],[61000,\"Cluster 1\"],[45000,\"Cluster 1\"],[65000,\"Cluster 1\"],[39000,\"Cluster 1\"],[59000,\"Cluster 1\"],[65000,\"Cluster 1\"],[59000,\"Cluster 1\"],[43000,\"Cluster 1\"],[61000,\"Cluster 1\"],[42000,\"Cluster 1\"],[59000,\"Cluster 1\"],[44000,\"Cluster 1\"],[41000,\"Cluster 1\"],[59000,\"Cluster 1\"],[53000,\"Cluster 1\"],[57000,\"Cluster 1\"],[51000,\"Cluster 1\"],[42000,\"Cluster 1\"],[60000,\"Cluster 1\"],[60000,\"Cluster 1\"],[58000,\"Cluster 1\"],[57000,\"Cluster 1\"],[57000,\"Cluster 1\"],[61000,\"Cluster 1\"],[58000,\"Cluster 1\"],[52000,\"Cluster 1\"],[43000,\"Cluster 1\"],[52000,\"Cluster 1\"],[58000,\"Cluster 1\"],[53000,\"Cluster 1\"],[60000,\"Cluster 1\"],[52000,\"Cluster 1\"],[55000,\"Cluster 1\"],[62000,\"Cluster 1\"],[51000,\"Cluster 1\"],[51000,\"Cluster 1\"],[47000,\"Cluster 1\"],[55000,\"Cluster 1\"],[53000,\"Cluster 1\"],[55000,\"Cluster 1\"],[55000,\"Cluster 1\"],[49000,\"Cluster 1\"],[43000,\"Cluster 1\"],[66000,\"Cluster 1\"],[50000,\"Cluster 1\"],[58000,\"Cluster 1\"],[41000,\"Cluster 1\"],[50000,\"Cluster 1\"],[52000,\"Cluster 1\"],[60000,\"Cluster 1\"],[60000,\"Cluster 1\"],[58000,\"Cluster 1\"],[47000,\"Cluster 1\"],[38000,\"Cluster 1\"],[59000,\"Cluster 1\"],[44000,\"Cluster 1\"],[63000,\"Cluster 1\"],[41000,\"Cluster 1\"],[61000,\"Cluster 1\"],[64000,\"Cluster 1\"],[60000,\"Cluster 1\"],[48000,\"Cluster 1\"],[60000,\"Cluster 1\"],[42000,\"Cluster 1\"],[47000,\"Cluster 1\"],[63000,\"Cluster 1\"],[55000,\"Cluster 1\"]],\"hovertemplate\":\"Cluster=%{customdata[1]}<br>Edad=%{x}<br>Salario=%{customdata[0]}<extra></extra>\",\"legendgroup\":\"Cluster 1\",\"marker\":{\"color\":\"#EF553B\"},\"name\":\"Cluster 1\",\"notched\":true,\"offsetgroup\":\"Cluster 1\",\"showlegend\":false,\"x\":[39,35,39,36,36,38,47,49,38,38,35,18,22,28,52,38,59,38,45,42,44,46,42,28,26,35,60,38,28,48,35,42,40,47,39,41,35,35,35,27,39,27,41,34,18,24,37,57,26,24,37,33,41,35,35,35,37,28,30,47,23,35,31,33,38,41,36,33,27,40,58,40,50,22,46,40,42,40,23,56,60,47,23,24],\"xaxis\":\"x2\",\"yaxis\":\"y2\",\"type\":\"box\"},{\"alignmentgroup\":\"True\",\"bingroup\":\"x\",\"hovertemplate\":\"Cluster=Cluster 2<br>Edad=%{x}<br>count=%{y}<extra></extra>\",\"legendgroup\":\"Cluster 2\",\"marker\":{\"color\":\"#00cc96\",\"opacity\":0.7,\"pattern\":{\"shape\":\"\"}},\"name\":\"Cluster 2\",\"offsetgroup\":\"Cluster 2\",\"orientation\":\"v\",\"showlegend\":true,\"x\":[42,59,28,25,35,31,41,40,35,40,45,20,39,42,38,23,38,46,48,53,39,54,31,35,29,46,26,37,37,40,30,30,35,25,31,29,28,29,32,42,21,37,22,48,27,24,27,46,40,37,52,59,42,18,49,27,35,42,59,24,60,19,42,28,26,20,21,25,26,57,35,19,30,37,36,18,46,37,27,35,35,39,42,31,20,20,33,37,41,26,40,41],\"xaxis\":\"x\",\"yaxis\":\"y\",\"type\":\"histogram\"},{\"alignmentgroup\":\"True\",\"customdata\":[[90000,\"Cluster 2\"],[76000,\"Cluster 2\"],[84000,\"Cluster 2\"],[90000,\"Cluster 2\"],[72000,\"Cluster 2\"],[71000,\"Cluster 2\"],[80000,\"Cluster 2\"],[72000,\"Cluster 2\"],[88000,\"Cluster 2\"],[75000,\"Cluster 2\"],[79000,\"Cluster 2\"],[74000,\"Cluster 2\"],[75000,\"Cluster 2\"],[75000,\"Cluster 2\"],[71000,\"Cluster 2\"],[82000,\"Cluster 2\"],[80000,\"Cluster 2\"],[88000,\"Cluster 2\"],[74000,\"Cluster 2\"],[72000,\"Cluster 2\"],[71000,\"Cluster 2\"],[70000,\"Cluster 2\"],[76000,\"Cluster 2\"],[91000,\"Cluster 2\"],[75000,\"Cluster 2\"],[74000,\"Cluster 2\"],[84000,\"Cluster 2\"],[71000,\"Cluster 2\"],[80000,\"Cluster 2\"],[78000,\"Cluster 2\"],[80000,\"Cluster 2\"],[87000,\"Cluster 2\"],[75000,\"Cluster 2\"],[79000,\"Cluster 2\"],[89000,\"Cluster 2\"],[83000,\"Cluster 2\"],[87000,\"Cluster 2\"],[80000,\"Cluster 2\"],[86000,\"Cluster 2\"],[73000,\"Cluster 2\"],[88000,\"Cluster 2\"],[79000,\"Cluster 2\"],[81000,\"Cluster 2\"],[90000,\"Cluster 2\"],[88000,\"Cluster 2\"],[84000,\"Cluster 2\"],[84000,\"Cluster 2\"],[82000,\"Cluster 2\"],[75000,\"Cluster 2\"],[80000,\"Cluster 2\"],[90000,\"Cluster 2\"],[83000,\"Cluster 2\"],[79000,\"Cluster 2\"],[82000,\"Cluster 2\"],[86000,\"Cluster 2\"],[89000,\"Cluster 2\"],[77000,\"Cluster 2\"],[70000,\"Cluster 2\"],[88000,\"Cluster 2\"],[89000,\"Cluster 2\"],[83000,\"Cluster 2\"],[76000,\"Cluster 2\"],[80000,\"Cluster 2\"],[89000,\"Cluster 2\"],[80000,\"Cluster 2\"],[82000,\"Cluster 2\"],[68000,\"Cluster 2\"],[87000,\"Cluster 2\"],[80000,\"Cluster 2\"],[74000,\"Cluster 2\"],[71000,\"Cluster 2\"],[85000,\"Cluster 2\"],[79000,\"Cluster 2\"],[78000,\"Cluster 2\"],[75000,\"Cluster 2\"],[68000,\"Cluster 2\"],[79000,\"Cluster 2\"],[70000,\"Cluster 2\"],[90000,\"Cluster 2\"],[75000,\"Cluster 2\"],[72000,\"Cluster 2\"],[77000,\"Cluster 2\"],[80000,\"Cluster 2\"],[74000,\"Cluster 2\"],[82000,\"Cluster 2\"],[86000,\"Cluster 2\"],[69000,\"Cluster 2\"],[77000,\"Cluster 2\"],[72000,\"Cluster 2\"],[86000,\"Cluster 2\"],[71000,\"Cluster 2\"],[87000,\"Cluster 2\"]],\"hovertemplate\":\"Cluster=%{customdata[1]}<br>Edad=%{x}<br>Salario=%{customdata[0]}<extra></extra>\",\"legendgroup\":\"Cluster 2\",\"marker\":{\"color\":\"#00cc96\"},\"name\":\"Cluster 2\",\"notched\":true,\"offsetgroup\":\"Cluster 2\",\"showlegend\":false,\"x\":[42,59,28,25,35,31,41,40,35,40,45,20,39,42,38,23,38,46,48,53,39,54,31,35,29,46,26,37,37,40,30,30,35,25,31,29,28,29,32,42,21,37,22,48,27,24,27,46,40,37,52,59,42,18,49,27,35,42,59,24,60,19,42,28,26,20,21,25,26,57,35,19,30,37,36,18,46,37,27,35,35,39,42,31,20,20,33,37,41,26,40,41],\"xaxis\":\"x2\",\"yaxis\":\"y2\",\"type\":\"box\"},{\"alignmentgroup\":\"True\",\"bingroup\":\"x\",\"hovertemplate\":\"Cluster=Cluster 3<br>Edad=%{x}<br>count=%{y}<extra></extra>\",\"legendgroup\":\"Cluster 3\",\"marker\":{\"color\":\"#ab63fa\",\"opacity\":0.7,\"pattern\":{\"shape\":\"\"}},\"name\":\"Cluster 3\",\"offsetgroup\":\"Cluster 3\",\"orientation\":\"v\",\"showlegend\":true,\"x\":[45,48,34,45,46,26,31,22,35,58,49,31,33,23,35,24,27,22,50,19,59,49,48,29,26,26,24,46,45,35,57,30,47,37,31,47,48,27,49,46,35,23,32,19,47,45,46,53,51,28,26,19,25,47,48,32,24,52,26,19],\"xaxis\":\"x\",\"yaxis\":\"y\",\"type\":\"histogram\"},{\"alignmentgroup\":\"True\",\"customdata\":[[22000,\"Cluster 3\"],[29000,\"Cluster 3\"],[25000,\"Cluster 3\"],[32000,\"Cluster 3\"],[22000,\"Cluster 3\"],[30000,\"Cluster 3\"],[15000,\"Cluster 3\"],[27000,\"Cluster 3\"],[20000,\"Cluster 3\"],[23000,\"Cluster 3\"],[36000,\"Cluster 3\"],[34000,\"Cluster 3\"],[28000,\"Cluster 3\"],[28000,\"Cluster 3\"],[22000,\"Cluster 3\"],[32000,\"Cluster 3\"],[20000,\"Cluster 3\"],[18000,\"Cluster 3\"],[20000,\"Cluster 3\"],[25000,\"Cluster 3\"],[29000,\"Cluster 3\"],[28000,\"Cluster 3\"],[35000,\"Cluster 3\"],[28000,\"Cluster 3\"],[15000,\"Cluster 3\"],[15000,\"Cluster 3\"],[19000,\"Cluster 3\"],[23000,\"Cluster 3\"],[26000,\"Cluster 3\"],[27000,\"Cluster 3\"],[26000,\"Cluster 3\"],[15000,\"Cluster 3\"],[30000,\"Cluster 3\"],[33000,\"Cluster 3\"],[18000,\"Cluster 3\"],[23000,\"Cluster 3\"],[33000,\"Cluster 3\"],[17000,\"Cluster 3\"],[28000,\"Cluster 3\"],[28000,\"Cluster 3\"],[25000,\"Cluster 3\"],[20000,\"Cluster 3\"],[18000,\"Cluster 3\"],[26000,\"Cluster 3\"],[25000,\"Cluster 3\"],[22000,\"Cluster 3\"],[32000,\"Cluster 3\"],[34000,\"Cluster 3\"],[23000,\"Cluster 3\"],[32000,\"Cluster 3\"],[35000,\"Cluster 3\"],[21000,\"Cluster 3\"],[33000,\"Cluster 3\"],[34000,\"Cluster 3\"],[33000,\"Cluster 3\"],[18000,\"Cluster 3\"],[27000,\"Cluster 3\"],[21000,\"Cluster 3\"],[17000,\"Cluster 3\"],[19000,\"Cluster 3\"]],\"hovertemplate\":\"Cluster=%{customdata[1]}<br>Edad=%{x}<br>Salario=%{customdata[0]}<extra></extra>\",\"legendgroup\":\"Cluster 3\",\"marker\":{\"color\":\"#ab63fa\"},\"name\":\"Cluster 3\",\"notched\":true,\"offsetgroup\":\"Cluster 3\",\"showlegend\":false,\"x\":[45,48,34,45,46,26,31,22,35,58,49,31,33,23,35,24,27,22,50,19,59,49,48,29,26,26,24,46,45,35,57,30,47,37,31,47,48,27,49,46,35,23,32,19,47,45,46,53,51,28,26,19,25,47,48,32,24,52,26,19],\"xaxis\":\"x2\",\"yaxis\":\"y2\",\"type\":\"box\"}],                        {\"template\":{\"data\":{\"bar\":[{\"error_x\":{\"color\":\"#2a3f5f\"},\"error_y\":{\"color\":\"#2a3f5f\"},\"marker\":{\"line\":{\"color\":\"#E5ECF6\",\"width\":0.5},\"pattern\":{\"fillmode\":\"overlay\",\"size\":10,\"solidity\":0.2}},\"type\":\"bar\"}],\"barpolar\":[{\"marker\":{\"line\":{\"color\":\"#E5ECF6\",\"width\":0.5},\"pattern\":{\"fillmode\":\"overlay\",\"size\":10,\"solidity\":0.2}},\"type\":\"barpolar\"}],\"carpet\":[{\"aaxis\":{\"endlinecolor\":\"#2a3f5f\",\"gridcolor\":\"white\",\"linecolor\":\"white\",\"minorgridcolor\":\"white\",\"startlinecolor\":\"#2a3f5f\"},\"baxis\":{\"endlinecolor\":\"#2a3f5f\",\"gridcolor\":\"white\",\"linecolor\":\"white\",\"minorgridcolor\":\"white\",\"startlinecolor\":\"#2a3f5f\"},\"type\":\"carpet\"}],\"choropleth\":[{\"colorbar\":{\"outlinewidth\":0,\"ticks\":\"\"},\"type\":\"choropleth\"}],\"contour\":[{\"colorbar\":{\"outlinewidth\":0,\"ticks\":\"\"},\"colorscale\":[[0.0,\"#0d0887\"],[0.1111111111111111,\"#46039f\"],[0.2222222222222222,\"#7201a8\"],[0.3333333333333333,\"#9c179e\"],[0.4444444444444444,\"#bd3786\"],[0.5555555555555556,\"#d8576b\"],[0.6666666666666666,\"#ed7953\"],[0.7777777777777778,\"#fb9f3a\"],[0.8888888888888888,\"#fdca26\"],[1.0,\"#f0f921\"]],\"type\":\"contour\"}],\"contourcarpet\":[{\"colorbar\":{\"outlinewidth\":0,\"ticks\":\"\"},\"type\":\"contourcarpet\"}],\"heatmap\":[{\"colorbar\":{\"outlinewidth\":0,\"ticks\":\"\"},\"colorscale\":[[0.0,\"#0d0887\"],[0.1111111111111111,\"#46039f\"],[0.2222222222222222,\"#7201a8\"],[0.3333333333333333,\"#9c179e\"],[0.4444444444444444,\"#bd3786\"],[0.5555555555555556,\"#d8576b\"],[0.6666666666666666,\"#ed7953\"],[0.7777777777777778,\"#fb9f3a\"],[0.8888888888888888,\"#fdca26\"],[1.0,\"#f0f921\"]],\"type\":\"heatmap\"}],\"heatmapgl\":[{\"colorbar\":{\"outlinewidth\":0,\"ticks\":\"\"},\"colorscale\":[[0.0,\"#0d0887\"],[0.1111111111111111,\"#46039f\"],[0.2222222222222222,\"#7201a8\"],[0.3333333333333333,\"#9c179e\"],[0.4444444444444444,\"#bd3786\"],[0.5555555555555556,\"#d8576b\"],[0.6666666666666666,\"#ed7953\"],[0.7777777777777778,\"#fb9f3a\"],[0.8888888888888888,\"#fdca26\"],[1.0,\"#f0f921\"]],\"type\":\"heatmapgl\"}],\"histogram\":[{\"marker\":{\"pattern\":{\"fillmode\":\"overlay\",\"size\":10,\"solidity\":0.2}},\"type\":\"histogram\"}],\"histogram2d\":[{\"colorbar\":{\"outlinewidth\":0,\"ticks\":\"\"},\"colorscale\":[[0.0,\"#0d0887\"],[0.1111111111111111,\"#46039f\"],[0.2222222222222222,\"#7201a8\"],[0.3333333333333333,\"#9c179e\"],[0.4444444444444444,\"#bd3786\"],[0.5555555555555556,\"#d8576b\"],[0.6666666666666666,\"#ed7953\"],[0.7777777777777778,\"#fb9f3a\"],[0.8888888888888888,\"#fdca26\"],[1.0,\"#f0f921\"]],\"type\":\"histogram2d\"}],\"histogram2dcontour\":[{\"colorbar\":{\"outlinewidth\":0,\"ticks\":\"\"},\"colorscale\":[[0.0,\"#0d0887\"],[0.1111111111111111,\"#46039f\"],[0.2222222222222222,\"#7201a8\"],[0.3333333333333333,\"#9c179e\"],[0.4444444444444444,\"#bd3786\"],[0.5555555555555556,\"#d8576b\"],[0.6666666666666666,\"#ed7953\"],[0.7777777777777778,\"#fb9f3a\"],[0.8888888888888888,\"#fdca26\"],[1.0,\"#f0f921\"]],\"type\":\"histogram2dcontour\"}],\"mesh3d\":[{\"colorbar\":{\"outlinewidth\":0,\"ticks\":\"\"},\"type\":\"mesh3d\"}],\"parcoords\":[{\"line\":{\"colorbar\":{\"outlinewidth\":0,\"ticks\":\"\"}},\"type\":\"parcoords\"}],\"pie\":[{\"automargin\":true,\"type\":\"pie\"}],\"scatter\":[{\"marker\":{\"colorbar\":{\"outlinewidth\":0,\"ticks\":\"\"}},\"type\":\"scatter\"}],\"scatter3d\":[{\"line\":{\"colorbar\":{\"outlinewidth\":0,\"ticks\":\"\"}},\"marker\":{\"colorbar\":{\"outlinewidth\":0,\"ticks\":\"\"}},\"type\":\"scatter3d\"}],\"scattercarpet\":[{\"marker\":{\"colorbar\":{\"outlinewidth\":0,\"ticks\":\"\"}},\"type\":\"scattercarpet\"}],\"scattergeo\":[{\"marker\":{\"colorbar\":{\"outlinewidth\":0,\"ticks\":\"\"}},\"type\":\"scattergeo\"}],\"scattergl\":[{\"marker\":{\"colorbar\":{\"outlinewidth\":0,\"ticks\":\"\"}},\"type\":\"scattergl\"}],\"scattermapbox\":[{\"marker\":{\"colorbar\":{\"outlinewidth\":0,\"ticks\":\"\"}},\"type\":\"scattermapbox\"}],\"scatterpolar\":[{\"marker\":{\"colorbar\":{\"outlinewidth\":0,\"ticks\":\"\"}},\"type\":\"scatterpolar\"}],\"scatterpolargl\":[{\"marker\":{\"colorbar\":{\"outlinewidth\":0,\"ticks\":\"\"}},\"type\":\"scatterpolargl\"}],\"scatterternary\":[{\"marker\":{\"colorbar\":{\"outlinewidth\":0,\"ticks\":\"\"}},\"type\":\"scatterternary\"}],\"surface\":[{\"colorbar\":{\"outlinewidth\":0,\"ticks\":\"\"},\"colorscale\":[[0.0,\"#0d0887\"],[0.1111111111111111,\"#46039f\"],[0.2222222222222222,\"#7201a8\"],[0.3333333333333333,\"#9c179e\"],[0.4444444444444444,\"#bd3786\"],[0.5555555555555556,\"#d8576b\"],[0.6666666666666666,\"#ed7953\"],[0.7777777777777778,\"#fb9f3a\"],[0.8888888888888888,\"#fdca26\"],[1.0,\"#f0f921\"]],\"type\":\"surface\"}],\"table\":[{\"cells\":{\"fill\":{\"color\":\"#EBF0F8\"},\"line\":{\"color\":\"white\"}},\"header\":{\"fill\":{\"color\":\"#C8D4E3\"},\"line\":{\"color\":\"white\"}},\"type\":\"table\"}]},\"layout\":{\"annotationdefaults\":{\"arrowcolor\":\"#2a3f5f\",\"arrowhead\":0,\"arrowwidth\":1},\"autotypenumbers\":\"strict\",\"coloraxis\":{\"colorbar\":{\"outlinewidth\":0,\"ticks\":\"\"}},\"colorscale\":{\"diverging\":[[0,\"#8e0152\"],[0.1,\"#c51b7d\"],[0.2,\"#de77ae\"],[0.3,\"#f1b6da\"],[0.4,\"#fde0ef\"],[0.5,\"#f7f7f7\"],[0.6,\"#e6f5d0\"],[0.7,\"#b8e186\"],[0.8,\"#7fbc41\"],[0.9,\"#4d9221\"],[1,\"#276419\"]],\"sequential\":[[0.0,\"#0d0887\"],[0.1111111111111111,\"#46039f\"],[0.2222222222222222,\"#7201a8\"],[0.3333333333333333,\"#9c179e\"],[0.4444444444444444,\"#bd3786\"],[0.5555555555555556,\"#d8576b\"],[0.6666666666666666,\"#ed7953\"],[0.7777777777777778,\"#fb9f3a\"],[0.8888888888888888,\"#fdca26\"],[1.0,\"#f0f921\"]],\"sequentialminus\":[[0.0,\"#0d0887\"],[0.1111111111111111,\"#46039f\"],[0.2222222222222222,\"#7201a8\"],[0.3333333333333333,\"#9c179e\"],[0.4444444444444444,\"#bd3786\"],[0.5555555555555556,\"#d8576b\"],[0.6666666666666666,\"#ed7953\"],[0.7777777777777778,\"#fb9f3a\"],[0.8888888888888888,\"#fdca26\"],[1.0,\"#f0f921\"]]},\"colorway\":[\"#636efa\",\"#EF553B\",\"#00cc96\",\"#ab63fa\",\"#FFA15A\",\"#19d3f3\",\"#FF6692\",\"#B6E880\",\"#FF97FF\",\"#FECB52\"],\"font\":{\"color\":\"#2a3f5f\"},\"geo\":{\"bgcolor\":\"white\",\"lakecolor\":\"white\",\"landcolor\":\"#E5ECF6\",\"showlakes\":true,\"showland\":true,\"subunitcolor\":\"white\"},\"hoverlabel\":{\"align\":\"left\"},\"hovermode\":\"closest\",\"mapbox\":{\"style\":\"light\"},\"paper_bgcolor\":\"white\",\"plot_bgcolor\":\"#E5ECF6\",\"polar\":{\"angularaxis\":{\"gridcolor\":\"white\",\"linecolor\":\"white\",\"ticks\":\"\"},\"bgcolor\":\"#E5ECF6\",\"radialaxis\":{\"gridcolor\":\"white\",\"linecolor\":\"white\",\"ticks\":\"\"}},\"scene\":{\"xaxis\":{\"backgroundcolor\":\"#E5ECF6\",\"gridcolor\":\"white\",\"gridwidth\":2,\"linecolor\":\"white\",\"showbackground\":true,\"ticks\":\"\",\"zerolinecolor\":\"white\"},\"yaxis\":{\"backgroundcolor\":\"#E5ECF6\",\"gridcolor\":\"white\",\"gridwidth\":2,\"linecolor\":\"white\",\"showbackground\":true,\"ticks\":\"\",\"zerolinecolor\":\"white\"},\"zaxis\":{\"backgroundcolor\":\"#E5ECF6\",\"gridcolor\":\"white\",\"gridwidth\":2,\"linecolor\":\"white\",\"showbackground\":true,\"ticks\":\"\",\"zerolinecolor\":\"white\"}},\"shapedefaults\":{\"line\":{\"color\":\"#2a3f5f\"}},\"ternary\":{\"aaxis\":{\"gridcolor\":\"white\",\"linecolor\":\"white\",\"ticks\":\"\"},\"baxis\":{\"gridcolor\":\"white\",\"linecolor\":\"white\",\"ticks\":\"\"},\"bgcolor\":\"#E5ECF6\",\"caxis\":{\"gridcolor\":\"white\",\"linecolor\":\"white\",\"ticks\":\"\"}},\"title\":{\"x\":0.05},\"xaxis\":{\"automargin\":true,\"gridcolor\":\"white\",\"linecolor\":\"white\",\"ticks\":\"\",\"title\":{\"standoff\":15},\"zerolinecolor\":\"white\",\"zerolinewidth\":2},\"yaxis\":{\"automargin\":true,\"gridcolor\":\"white\",\"linecolor\":\"white\",\"ticks\":\"\",\"title\":{\"standoff\":15},\"zerolinecolor\":\"white\",\"zerolinewidth\":2}}},\"xaxis\":{\"anchor\":\"y\",\"domain\":[0.0,1.0],\"title\":{\"text\":\"Edad\"}},\"yaxis\":{\"anchor\":\"x\",\"domain\":[0.0,0.7326],\"title\":{\"text\":\"count\"}},\"xaxis2\":{\"anchor\":\"y2\",\"domain\":[0.0,1.0],\"matches\":\"x\",\"showticklabels\":false,\"showgrid\":true},\"yaxis2\":{\"anchor\":\"x2\",\"domain\":[0.7426,1.0],\"matches\":\"y2\",\"showticklabels\":false,\"showline\":false,\"ticks\":\"\",\"showgrid\":false},\"legend\":{\"title\":{\"text\":\"Cluster\"},\"tracegroupgap\":0},\"margin\":{\"t\":60},\"barmode\":\"relative\",\"height\":600},                        {\"responsive\": true}                    ).then(function(){\n",
              "                            \n",
              "var gd = document.getElementById('3c7fd753-ab64-45b3-aa2d-b5d86ec19742');\n",
              "var x = new MutationObserver(function (mutations, observer) {{\n",
              "        var display = window.getComputedStyle(gd).display;\n",
              "        if (!display || display === 'none') {{\n",
              "            console.log([gd, 'removed!']);\n",
              "            Plotly.purge(gd);\n",
              "            observer.disconnect();\n",
              "        }}\n",
              "}});\n",
              "\n",
              "// Listen for the removal of the full notebook cells\n",
              "var notebookContainer = gd.closest('#notebook-container');\n",
              "if (notebookContainer) {{\n",
              "    x.observe(notebookContainer, {childList: true});\n",
              "}}\n",
              "\n",
              "// Listen for the clearing of the current output cell\n",
              "var outputEl = gd.closest('.output');\n",
              "if (outputEl) {{\n",
              "    x.observe(outputEl, {childList: true});\n",
              "}}\n",
              "\n",
              "                        })                };                            </script>        </div>\n",
              "</body>\n",
              "</html>"
            ]
          },
          "metadata": {}
        }
      ]
    },
    {
      "cell_type": "code",
      "metadata": {
        "colab": {
          "base_uri": "https://localhost:8080/",
          "height": 617
        },
        "id": "jRk-DPrlhI2K",
        "outputId": "b888a8d8-a49a-4341-be34-0f6ef85e98b3"
      },
      "source": [
        "plot_model(hc, plot = 'distribution', feature = 'Salario')"
      ],
      "execution_count": 26,
      "outputs": [
        {
          "output_type": "display_data",
          "data": {
            "text/plain": [
              "<IPython.core.display.HTML object>"
            ],
            "text/html": []
          },
          "metadata": {}
        },
        {
          "output_type": "display_data",
          "data": {
            "text/html": [
              "<html>\n",
              "<head><meta charset=\"utf-8\" /></head>\n",
              "<body>\n",
              "    <div>            <script src=\"https://cdnjs.cloudflare.com/ajax/libs/mathjax/2.7.5/MathJax.js?config=TeX-AMS-MML_SVG\"></script><script type=\"text/javascript\">if (window.MathJax) {MathJax.Hub.Config({SVG: {font: \"STIX-Web\"}});}</script>                <script type=\"text/javascript\">window.PlotlyConfig = {MathJaxConfig: 'local'};</script>\n",
              "        <script src=\"https://cdn.plot.ly/plotly-2.8.3.min.js\"></script>                <div id=\"89b0fbc4-a0d0-4785-b9ef-6fda85a02856\" class=\"plotly-graph-div\" style=\"height:600px; width:100%;\"></div>            <script type=\"text/javascript\">                                    window.PLOTLYENV=window.PLOTLYENV || {};                                    if (document.getElementById(\"89b0fbc4-a0d0-4785-b9ef-6fda85a02856\")) {                    Plotly.newPlot(                        \"89b0fbc4-a0d0-4785-b9ef-6fda85a02856\",                        [{\"alignmentgroup\":\"True\",\"bingroup\":\"x\",\"hovertemplate\":\"Cluster=Cluster 0<br>Salario=%{x}<br>count=%{y}<extra></extra>\",\"legendgroup\":\"Cluster 0\",\"marker\":{\"color\":\"#636efa\",\"opacity\":0.7,\"pattern\":{\"shape\":\"\"}},\"name\":\"Cluster 0\",\"offsetgroup\":\"Cluster 0\",\"orientation\":\"v\",\"showlegend\":true,\"x\":[96000,134000,113000,148000,149000,96000,125000,126000,115000,134000,122000,101000,143000,112000,113000,143000,99000,112000,107000,112000,120000,96000,135000,104000,146000,138000,130000,117000,100000,141000,144000,107000,142000,131000,102000,150000,97000,149000,104000,146000,117000,104000,130000,123000,118000,133000,129000,118000,144000,105000,96000,139000,117000,141000,144000,95000,113000,107000,138000,144000,147000,137000,108000,119000],\"xaxis\":\"x\",\"yaxis\":\"y\",\"type\":\"histogram\"},{\"alignmentgroup\":\"True\",\"customdata\":[[39,\"Cluster 0\"],[48,\"Cluster 0\"],[38,\"Cluster 0\"],[29,\"Cluster 0\"],[42,\"Cluster 0\"],[46,\"Cluster 0\"],[36,\"Cluster 0\"],[36,\"Cluster 0\"],[34,\"Cluster 0\"],[51,\"Cluster 0\"],[57,\"Cluster 0\"],[58,\"Cluster 0\"],[53,\"Cluster 0\"],[43,\"Cluster 0\"],[47,\"Cluster 0\"],[59,\"Cluster 0\"],[36,\"Cluster 0\"],[34,\"Cluster 0\"],[40,\"Cluster 0\"],[38,\"Cluster 0\"],[32,\"Cluster 0\"],[27,\"Cluster 0\"],[32,\"Cluster 0\"],[53,\"Cluster 0\"],[37,\"Cluster 0\"],[52,\"Cluster 0\"],[59,\"Cluster 0\"],[32,\"Cluster 0\"],[32,\"Cluster 0\"],[48,\"Cluster 0\"],[58,\"Cluster 0\"],[47,\"Cluster 0\"],[40,\"Cluster 0\"],[45,\"Cluster 0\"],[60,\"Cluster 0\"],[32,\"Cluster 0\"],[35,\"Cluster 0\"],[33,\"Cluster 0\"],[42,\"Cluster 0\"],[51,\"Cluster 0\"],[32,\"Cluster 0\"],[54,\"Cluster 0\"],[55,\"Cluster 0\"],[28,\"Cluster 0\"],[31,\"Cluster 0\"],[43,\"Cluster 0\"],[43,\"Cluster 0\"],[36,\"Cluster 0\"],[47,\"Cluster 0\"],[47,\"Cluster 0\"],[48,\"Cluster 0\"],[44,\"Cluster 0\"],[46,\"Cluster 0\"],[49,\"Cluster 0\"],[36,\"Cluster 0\"],[58,\"Cluster 0\"],[33,\"Cluster 0\"],[30,\"Cluster 0\"],[48,\"Cluster 0\"],[37,\"Cluster 0\"],[35,\"Cluster 0\"],[37,\"Cluster 0\"],[60,\"Cluster 0\"],[48,\"Cluster 0\"]],\"hovertemplate\":\"Cluster=%{customdata[1]}<br>Salario=%{x}<br>Edad=%{customdata[0]}<extra></extra>\",\"legendgroup\":\"Cluster 0\",\"marker\":{\"color\":\"#636efa\"},\"name\":\"Cluster 0\",\"notched\":true,\"offsetgroup\":\"Cluster 0\",\"showlegend\":false,\"x\":[96000,134000,113000,148000,149000,96000,125000,126000,115000,134000,122000,101000,143000,112000,113000,143000,99000,112000,107000,112000,120000,96000,135000,104000,146000,138000,130000,117000,100000,141000,144000,107000,142000,131000,102000,150000,97000,149000,104000,146000,117000,104000,130000,123000,118000,133000,129000,118000,144000,105000,96000,139000,117000,141000,144000,95000,113000,107000,138000,144000,147000,137000,108000,119000],\"xaxis\":\"x2\",\"yaxis\":\"y2\",\"type\":\"box\"},{\"alignmentgroup\":\"True\",\"bingroup\":\"x\",\"hovertemplate\":\"Cluster=Cluster 1<br>Salario=%{x}<br>count=%{y}<extra></extra>\",\"legendgroup\":\"Cluster 1\",\"marker\":{\"color\":\"#EF553B\",\"opacity\":0.7,\"pattern\":{\"shape\":\"\"}},\"name\":\"Cluster 1\",\"offsetgroup\":\"Cluster 1\",\"orientation\":\"v\",\"showlegend\":true,\"x\":[42000,39000,59000,63000,50000,50000,49000,65000,61000,65000,50000,44000,55000,59000,38000,51000,42000,61000,45000,65000,39000,59000,65000,59000,43000,61000,42000,59000,44000,41000,59000,53000,57000,51000,42000,60000,60000,58000,57000,57000,61000,58000,52000,43000,52000,58000,53000,60000,52000,55000,62000,51000,51000,47000,55000,53000,55000,55000,49000,43000,66000,50000,58000,41000,50000,52000,60000,60000,58000,47000,38000,59000,44000,63000,41000,61000,64000,60000,48000,60000,42000,47000,63000,55000],\"xaxis\":\"x\",\"yaxis\":\"y\",\"type\":\"histogram\"},{\"alignmentgroup\":\"True\",\"customdata\":[[39,\"Cluster 1\"],[35,\"Cluster 1\"],[39,\"Cluster 1\"],[36,\"Cluster 1\"],[36,\"Cluster 1\"],[38,\"Cluster 1\"],[47,\"Cluster 1\"],[49,\"Cluster 1\"],[38,\"Cluster 1\"],[38,\"Cluster 1\"],[35,\"Cluster 1\"],[18,\"Cluster 1\"],[22,\"Cluster 1\"],[28,\"Cluster 1\"],[52,\"Cluster 1\"],[38,\"Cluster 1\"],[59,\"Cluster 1\"],[38,\"Cluster 1\"],[45,\"Cluster 1\"],[42,\"Cluster 1\"],[44,\"Cluster 1\"],[46,\"Cluster 1\"],[42,\"Cluster 1\"],[28,\"Cluster 1\"],[26,\"Cluster 1\"],[35,\"Cluster 1\"],[60,\"Cluster 1\"],[38,\"Cluster 1\"],[28,\"Cluster 1\"],[48,\"Cluster 1\"],[35,\"Cluster 1\"],[42,\"Cluster 1\"],[40,\"Cluster 1\"],[47,\"Cluster 1\"],[39,\"Cluster 1\"],[41,\"Cluster 1\"],[35,\"Cluster 1\"],[35,\"Cluster 1\"],[35,\"Cluster 1\"],[27,\"Cluster 1\"],[39,\"Cluster 1\"],[27,\"Cluster 1\"],[41,\"Cluster 1\"],[34,\"Cluster 1\"],[18,\"Cluster 1\"],[24,\"Cluster 1\"],[37,\"Cluster 1\"],[57,\"Cluster 1\"],[26,\"Cluster 1\"],[24,\"Cluster 1\"],[37,\"Cluster 1\"],[33,\"Cluster 1\"],[41,\"Cluster 1\"],[35,\"Cluster 1\"],[35,\"Cluster 1\"],[35,\"Cluster 1\"],[37,\"Cluster 1\"],[28,\"Cluster 1\"],[30,\"Cluster 1\"],[47,\"Cluster 1\"],[23,\"Cluster 1\"],[35,\"Cluster 1\"],[31,\"Cluster 1\"],[33,\"Cluster 1\"],[38,\"Cluster 1\"],[41,\"Cluster 1\"],[36,\"Cluster 1\"],[33,\"Cluster 1\"],[27,\"Cluster 1\"],[40,\"Cluster 1\"],[58,\"Cluster 1\"],[40,\"Cluster 1\"],[50,\"Cluster 1\"],[22,\"Cluster 1\"],[46,\"Cluster 1\"],[40,\"Cluster 1\"],[42,\"Cluster 1\"],[40,\"Cluster 1\"],[23,\"Cluster 1\"],[56,\"Cluster 1\"],[60,\"Cluster 1\"],[47,\"Cluster 1\"],[23,\"Cluster 1\"],[24,\"Cluster 1\"]],\"hovertemplate\":\"Cluster=%{customdata[1]}<br>Salario=%{x}<br>Edad=%{customdata[0]}<extra></extra>\",\"legendgroup\":\"Cluster 1\",\"marker\":{\"color\":\"#EF553B\"},\"name\":\"Cluster 1\",\"notched\":true,\"offsetgroup\":\"Cluster 1\",\"showlegend\":false,\"x\":[42000,39000,59000,63000,50000,50000,49000,65000,61000,65000,50000,44000,55000,59000,38000,51000,42000,61000,45000,65000,39000,59000,65000,59000,43000,61000,42000,59000,44000,41000,59000,53000,57000,51000,42000,60000,60000,58000,57000,57000,61000,58000,52000,43000,52000,58000,53000,60000,52000,55000,62000,51000,51000,47000,55000,53000,55000,55000,49000,43000,66000,50000,58000,41000,50000,52000,60000,60000,58000,47000,38000,59000,44000,63000,41000,61000,64000,60000,48000,60000,42000,47000,63000,55000],\"xaxis\":\"x2\",\"yaxis\":\"y2\",\"type\":\"box\"},{\"alignmentgroup\":\"True\",\"bingroup\":\"x\",\"hovertemplate\":\"Cluster=Cluster 2<br>Salario=%{x}<br>count=%{y}<extra></extra>\",\"legendgroup\":\"Cluster 2\",\"marker\":{\"color\":\"#00cc96\",\"opacity\":0.7,\"pattern\":{\"shape\":\"\"}},\"name\":\"Cluster 2\",\"offsetgroup\":\"Cluster 2\",\"orientation\":\"v\",\"showlegend\":true,\"x\":[90000,76000,84000,90000,72000,71000,80000,72000,88000,75000,79000,74000,75000,75000,71000,82000,80000,88000,74000,72000,71000,70000,76000,91000,75000,74000,84000,71000,80000,78000,80000,87000,75000,79000,89000,83000,87000,80000,86000,73000,88000,79000,81000,90000,88000,84000,84000,82000,75000,80000,90000,83000,79000,82000,86000,89000,77000,70000,88000,89000,83000,76000,80000,89000,80000,82000,68000,87000,80000,74000,71000,85000,79000,78000,75000,68000,79000,70000,90000,75000,72000,77000,80000,74000,82000,86000,69000,77000,72000,86000,71000,87000],\"xaxis\":\"x\",\"yaxis\":\"y\",\"type\":\"histogram\"},{\"alignmentgroup\":\"True\",\"customdata\":[[42,\"Cluster 2\"],[59,\"Cluster 2\"],[28,\"Cluster 2\"],[25,\"Cluster 2\"],[35,\"Cluster 2\"],[31,\"Cluster 2\"],[41,\"Cluster 2\"],[40,\"Cluster 2\"],[35,\"Cluster 2\"],[40,\"Cluster 2\"],[45,\"Cluster 2\"],[20,\"Cluster 2\"],[39,\"Cluster 2\"],[42,\"Cluster 2\"],[38,\"Cluster 2\"],[23,\"Cluster 2\"],[38,\"Cluster 2\"],[46,\"Cluster 2\"],[48,\"Cluster 2\"],[53,\"Cluster 2\"],[39,\"Cluster 2\"],[54,\"Cluster 2\"],[31,\"Cluster 2\"],[35,\"Cluster 2\"],[29,\"Cluster 2\"],[46,\"Cluster 2\"],[26,\"Cluster 2\"],[37,\"Cluster 2\"],[37,\"Cluster 2\"],[40,\"Cluster 2\"],[30,\"Cluster 2\"],[30,\"Cluster 2\"],[35,\"Cluster 2\"],[25,\"Cluster 2\"],[31,\"Cluster 2\"],[29,\"Cluster 2\"],[28,\"Cluster 2\"],[29,\"Cluster 2\"],[32,\"Cluster 2\"],[42,\"Cluster 2\"],[21,\"Cluster 2\"],[37,\"Cluster 2\"],[22,\"Cluster 2\"],[48,\"Cluster 2\"],[27,\"Cluster 2\"],[24,\"Cluster 2\"],[27,\"Cluster 2\"],[46,\"Cluster 2\"],[40,\"Cluster 2\"],[37,\"Cluster 2\"],[52,\"Cluster 2\"],[59,\"Cluster 2\"],[42,\"Cluster 2\"],[18,\"Cluster 2\"],[49,\"Cluster 2\"],[27,\"Cluster 2\"],[35,\"Cluster 2\"],[42,\"Cluster 2\"],[59,\"Cluster 2\"],[24,\"Cluster 2\"],[60,\"Cluster 2\"],[19,\"Cluster 2\"],[42,\"Cluster 2\"],[28,\"Cluster 2\"],[26,\"Cluster 2\"],[20,\"Cluster 2\"],[21,\"Cluster 2\"],[25,\"Cluster 2\"],[26,\"Cluster 2\"],[57,\"Cluster 2\"],[35,\"Cluster 2\"],[19,\"Cluster 2\"],[30,\"Cluster 2\"],[37,\"Cluster 2\"],[36,\"Cluster 2\"],[18,\"Cluster 2\"],[46,\"Cluster 2\"],[37,\"Cluster 2\"],[27,\"Cluster 2\"],[35,\"Cluster 2\"],[35,\"Cluster 2\"],[39,\"Cluster 2\"],[42,\"Cluster 2\"],[31,\"Cluster 2\"],[20,\"Cluster 2\"],[20,\"Cluster 2\"],[33,\"Cluster 2\"],[37,\"Cluster 2\"],[41,\"Cluster 2\"],[26,\"Cluster 2\"],[40,\"Cluster 2\"],[41,\"Cluster 2\"]],\"hovertemplate\":\"Cluster=%{customdata[1]}<br>Salario=%{x}<br>Edad=%{customdata[0]}<extra></extra>\",\"legendgroup\":\"Cluster 2\",\"marker\":{\"color\":\"#00cc96\"},\"name\":\"Cluster 2\",\"notched\":true,\"offsetgroup\":\"Cluster 2\",\"showlegend\":false,\"x\":[90000,76000,84000,90000,72000,71000,80000,72000,88000,75000,79000,74000,75000,75000,71000,82000,80000,88000,74000,72000,71000,70000,76000,91000,75000,74000,84000,71000,80000,78000,80000,87000,75000,79000,89000,83000,87000,80000,86000,73000,88000,79000,81000,90000,88000,84000,84000,82000,75000,80000,90000,83000,79000,82000,86000,89000,77000,70000,88000,89000,83000,76000,80000,89000,80000,82000,68000,87000,80000,74000,71000,85000,79000,78000,75000,68000,79000,70000,90000,75000,72000,77000,80000,74000,82000,86000,69000,77000,72000,86000,71000,87000],\"xaxis\":\"x2\",\"yaxis\":\"y2\",\"type\":\"box\"},{\"alignmentgroup\":\"True\",\"bingroup\":\"x\",\"hovertemplate\":\"Cluster=Cluster 3<br>Salario=%{x}<br>count=%{y}<extra></extra>\",\"legendgroup\":\"Cluster 3\",\"marker\":{\"color\":\"#ab63fa\",\"opacity\":0.7,\"pattern\":{\"shape\":\"\"}},\"name\":\"Cluster 3\",\"offsetgroup\":\"Cluster 3\",\"orientation\":\"v\",\"showlegend\":true,\"x\":[22000,29000,25000,32000,22000,30000,15000,27000,20000,23000,36000,34000,28000,28000,22000,32000,20000,18000,20000,25000,29000,28000,35000,28000,15000,15000,19000,23000,26000,27000,26000,15000,30000,33000,18000,23000,33000,17000,28000,28000,25000,20000,18000,26000,25000,22000,32000,34000,23000,32000,35000,21000,33000,34000,33000,18000,27000,21000,17000,19000],\"xaxis\":\"x\",\"yaxis\":\"y\",\"type\":\"histogram\"},{\"alignmentgroup\":\"True\",\"customdata\":[[45,\"Cluster 3\"],[48,\"Cluster 3\"],[34,\"Cluster 3\"],[45,\"Cluster 3\"],[46,\"Cluster 3\"],[26,\"Cluster 3\"],[31,\"Cluster 3\"],[22,\"Cluster 3\"],[35,\"Cluster 3\"],[58,\"Cluster 3\"],[49,\"Cluster 3\"],[31,\"Cluster 3\"],[33,\"Cluster 3\"],[23,\"Cluster 3\"],[35,\"Cluster 3\"],[24,\"Cluster 3\"],[27,\"Cluster 3\"],[22,\"Cluster 3\"],[50,\"Cluster 3\"],[19,\"Cluster 3\"],[59,\"Cluster 3\"],[49,\"Cluster 3\"],[48,\"Cluster 3\"],[29,\"Cluster 3\"],[26,\"Cluster 3\"],[26,\"Cluster 3\"],[24,\"Cluster 3\"],[46,\"Cluster 3\"],[45,\"Cluster 3\"],[35,\"Cluster 3\"],[57,\"Cluster 3\"],[30,\"Cluster 3\"],[47,\"Cluster 3\"],[37,\"Cluster 3\"],[31,\"Cluster 3\"],[47,\"Cluster 3\"],[48,\"Cluster 3\"],[27,\"Cluster 3\"],[49,\"Cluster 3\"],[46,\"Cluster 3\"],[35,\"Cluster 3\"],[23,\"Cluster 3\"],[32,\"Cluster 3\"],[19,\"Cluster 3\"],[47,\"Cluster 3\"],[45,\"Cluster 3\"],[46,\"Cluster 3\"],[53,\"Cluster 3\"],[51,\"Cluster 3\"],[28,\"Cluster 3\"],[26,\"Cluster 3\"],[19,\"Cluster 3\"],[25,\"Cluster 3\"],[47,\"Cluster 3\"],[48,\"Cluster 3\"],[32,\"Cluster 3\"],[24,\"Cluster 3\"],[52,\"Cluster 3\"],[26,\"Cluster 3\"],[19,\"Cluster 3\"]],\"hovertemplate\":\"Cluster=%{customdata[1]}<br>Salario=%{x}<br>Edad=%{customdata[0]}<extra></extra>\",\"legendgroup\":\"Cluster 3\",\"marker\":{\"color\":\"#ab63fa\"},\"name\":\"Cluster 3\",\"notched\":true,\"offsetgroup\":\"Cluster 3\",\"showlegend\":false,\"x\":[22000,29000,25000,32000,22000,30000,15000,27000,20000,23000,36000,34000,28000,28000,22000,32000,20000,18000,20000,25000,29000,28000,35000,28000,15000,15000,19000,23000,26000,27000,26000,15000,30000,33000,18000,23000,33000,17000,28000,28000,25000,20000,18000,26000,25000,22000,32000,34000,23000,32000,35000,21000,33000,34000,33000,18000,27000,21000,17000,19000],\"xaxis\":\"x2\",\"yaxis\":\"y2\",\"type\":\"box\"}],                        {\"template\":{\"data\":{\"bar\":[{\"error_x\":{\"color\":\"#2a3f5f\"},\"error_y\":{\"color\":\"#2a3f5f\"},\"marker\":{\"line\":{\"color\":\"#E5ECF6\",\"width\":0.5},\"pattern\":{\"fillmode\":\"overlay\",\"size\":10,\"solidity\":0.2}},\"type\":\"bar\"}],\"barpolar\":[{\"marker\":{\"line\":{\"color\":\"#E5ECF6\",\"width\":0.5},\"pattern\":{\"fillmode\":\"overlay\",\"size\":10,\"solidity\":0.2}},\"type\":\"barpolar\"}],\"carpet\":[{\"aaxis\":{\"endlinecolor\":\"#2a3f5f\",\"gridcolor\":\"white\",\"linecolor\":\"white\",\"minorgridcolor\":\"white\",\"startlinecolor\":\"#2a3f5f\"},\"baxis\":{\"endlinecolor\":\"#2a3f5f\",\"gridcolor\":\"white\",\"linecolor\":\"white\",\"minorgridcolor\":\"white\",\"startlinecolor\":\"#2a3f5f\"},\"type\":\"carpet\"}],\"choropleth\":[{\"colorbar\":{\"outlinewidth\":0,\"ticks\":\"\"},\"type\":\"choropleth\"}],\"contour\":[{\"colorbar\":{\"outlinewidth\":0,\"ticks\":\"\"},\"colorscale\":[[0.0,\"#0d0887\"],[0.1111111111111111,\"#46039f\"],[0.2222222222222222,\"#7201a8\"],[0.3333333333333333,\"#9c179e\"],[0.4444444444444444,\"#bd3786\"],[0.5555555555555556,\"#d8576b\"],[0.6666666666666666,\"#ed7953\"],[0.7777777777777778,\"#fb9f3a\"],[0.8888888888888888,\"#fdca26\"],[1.0,\"#f0f921\"]],\"type\":\"contour\"}],\"contourcarpet\":[{\"colorbar\":{\"outlinewidth\":0,\"ticks\":\"\"},\"type\":\"contourcarpet\"}],\"heatmap\":[{\"colorbar\":{\"outlinewidth\":0,\"ticks\":\"\"},\"colorscale\":[[0.0,\"#0d0887\"],[0.1111111111111111,\"#46039f\"],[0.2222222222222222,\"#7201a8\"],[0.3333333333333333,\"#9c179e\"],[0.4444444444444444,\"#bd3786\"],[0.5555555555555556,\"#d8576b\"],[0.6666666666666666,\"#ed7953\"],[0.7777777777777778,\"#fb9f3a\"],[0.8888888888888888,\"#fdca26\"],[1.0,\"#f0f921\"]],\"type\":\"heatmap\"}],\"heatmapgl\":[{\"colorbar\":{\"outlinewidth\":0,\"ticks\":\"\"},\"colorscale\":[[0.0,\"#0d0887\"],[0.1111111111111111,\"#46039f\"],[0.2222222222222222,\"#7201a8\"],[0.3333333333333333,\"#9c179e\"],[0.4444444444444444,\"#bd3786\"],[0.5555555555555556,\"#d8576b\"],[0.6666666666666666,\"#ed7953\"],[0.7777777777777778,\"#fb9f3a\"],[0.8888888888888888,\"#fdca26\"],[1.0,\"#f0f921\"]],\"type\":\"heatmapgl\"}],\"histogram\":[{\"marker\":{\"pattern\":{\"fillmode\":\"overlay\",\"size\":10,\"solidity\":0.2}},\"type\":\"histogram\"}],\"histogram2d\":[{\"colorbar\":{\"outlinewidth\":0,\"ticks\":\"\"},\"colorscale\":[[0.0,\"#0d0887\"],[0.1111111111111111,\"#46039f\"],[0.2222222222222222,\"#7201a8\"],[0.3333333333333333,\"#9c179e\"],[0.4444444444444444,\"#bd3786\"],[0.5555555555555556,\"#d8576b\"],[0.6666666666666666,\"#ed7953\"],[0.7777777777777778,\"#fb9f3a\"],[0.8888888888888888,\"#fdca26\"],[1.0,\"#f0f921\"]],\"type\":\"histogram2d\"}],\"histogram2dcontour\":[{\"colorbar\":{\"outlinewidth\":0,\"ticks\":\"\"},\"colorscale\":[[0.0,\"#0d0887\"],[0.1111111111111111,\"#46039f\"],[0.2222222222222222,\"#7201a8\"],[0.3333333333333333,\"#9c179e\"],[0.4444444444444444,\"#bd3786\"],[0.5555555555555556,\"#d8576b\"],[0.6666666666666666,\"#ed7953\"],[0.7777777777777778,\"#fb9f3a\"],[0.8888888888888888,\"#fdca26\"],[1.0,\"#f0f921\"]],\"type\":\"histogram2dcontour\"}],\"mesh3d\":[{\"colorbar\":{\"outlinewidth\":0,\"ticks\":\"\"},\"type\":\"mesh3d\"}],\"parcoords\":[{\"line\":{\"colorbar\":{\"outlinewidth\":0,\"ticks\":\"\"}},\"type\":\"parcoords\"}],\"pie\":[{\"automargin\":true,\"type\":\"pie\"}],\"scatter\":[{\"marker\":{\"colorbar\":{\"outlinewidth\":0,\"ticks\":\"\"}},\"type\":\"scatter\"}],\"scatter3d\":[{\"line\":{\"colorbar\":{\"outlinewidth\":0,\"ticks\":\"\"}},\"marker\":{\"colorbar\":{\"outlinewidth\":0,\"ticks\":\"\"}},\"type\":\"scatter3d\"}],\"scattercarpet\":[{\"marker\":{\"colorbar\":{\"outlinewidth\":0,\"ticks\":\"\"}},\"type\":\"scattercarpet\"}],\"scattergeo\":[{\"marker\":{\"colorbar\":{\"outlinewidth\":0,\"ticks\":\"\"}},\"type\":\"scattergeo\"}],\"scattergl\":[{\"marker\":{\"colorbar\":{\"outlinewidth\":0,\"ticks\":\"\"}},\"type\":\"scattergl\"}],\"scattermapbox\":[{\"marker\":{\"colorbar\":{\"outlinewidth\":0,\"ticks\":\"\"}},\"type\":\"scattermapbox\"}],\"scatterpolar\":[{\"marker\":{\"colorbar\":{\"outlinewidth\":0,\"ticks\":\"\"}},\"type\":\"scatterpolar\"}],\"scatterpolargl\":[{\"marker\":{\"colorbar\":{\"outlinewidth\":0,\"ticks\":\"\"}},\"type\":\"scatterpolargl\"}],\"scatterternary\":[{\"marker\":{\"colorbar\":{\"outlinewidth\":0,\"ticks\":\"\"}},\"type\":\"scatterternary\"}],\"surface\":[{\"colorbar\":{\"outlinewidth\":0,\"ticks\":\"\"},\"colorscale\":[[0.0,\"#0d0887\"],[0.1111111111111111,\"#46039f\"],[0.2222222222222222,\"#7201a8\"],[0.3333333333333333,\"#9c179e\"],[0.4444444444444444,\"#bd3786\"],[0.5555555555555556,\"#d8576b\"],[0.6666666666666666,\"#ed7953\"],[0.7777777777777778,\"#fb9f3a\"],[0.8888888888888888,\"#fdca26\"],[1.0,\"#f0f921\"]],\"type\":\"surface\"}],\"table\":[{\"cells\":{\"fill\":{\"color\":\"#EBF0F8\"},\"line\":{\"color\":\"white\"}},\"header\":{\"fill\":{\"color\":\"#C8D4E3\"},\"line\":{\"color\":\"white\"}},\"type\":\"table\"}]},\"layout\":{\"annotationdefaults\":{\"arrowcolor\":\"#2a3f5f\",\"arrowhead\":0,\"arrowwidth\":1},\"autotypenumbers\":\"strict\",\"coloraxis\":{\"colorbar\":{\"outlinewidth\":0,\"ticks\":\"\"}},\"colorscale\":{\"diverging\":[[0,\"#8e0152\"],[0.1,\"#c51b7d\"],[0.2,\"#de77ae\"],[0.3,\"#f1b6da\"],[0.4,\"#fde0ef\"],[0.5,\"#f7f7f7\"],[0.6,\"#e6f5d0\"],[0.7,\"#b8e186\"],[0.8,\"#7fbc41\"],[0.9,\"#4d9221\"],[1,\"#276419\"]],\"sequential\":[[0.0,\"#0d0887\"],[0.1111111111111111,\"#46039f\"],[0.2222222222222222,\"#7201a8\"],[0.3333333333333333,\"#9c179e\"],[0.4444444444444444,\"#bd3786\"],[0.5555555555555556,\"#d8576b\"],[0.6666666666666666,\"#ed7953\"],[0.7777777777777778,\"#fb9f3a\"],[0.8888888888888888,\"#fdca26\"],[1.0,\"#f0f921\"]],\"sequentialminus\":[[0.0,\"#0d0887\"],[0.1111111111111111,\"#46039f\"],[0.2222222222222222,\"#7201a8\"],[0.3333333333333333,\"#9c179e\"],[0.4444444444444444,\"#bd3786\"],[0.5555555555555556,\"#d8576b\"],[0.6666666666666666,\"#ed7953\"],[0.7777777777777778,\"#fb9f3a\"],[0.8888888888888888,\"#fdca26\"],[1.0,\"#f0f921\"]]},\"colorway\":[\"#636efa\",\"#EF553B\",\"#00cc96\",\"#ab63fa\",\"#FFA15A\",\"#19d3f3\",\"#FF6692\",\"#B6E880\",\"#FF97FF\",\"#FECB52\"],\"font\":{\"color\":\"#2a3f5f\"},\"geo\":{\"bgcolor\":\"white\",\"lakecolor\":\"white\",\"landcolor\":\"#E5ECF6\",\"showlakes\":true,\"showland\":true,\"subunitcolor\":\"white\"},\"hoverlabel\":{\"align\":\"left\"},\"hovermode\":\"closest\",\"mapbox\":{\"style\":\"light\"},\"paper_bgcolor\":\"white\",\"plot_bgcolor\":\"#E5ECF6\",\"polar\":{\"angularaxis\":{\"gridcolor\":\"white\",\"linecolor\":\"white\",\"ticks\":\"\"},\"bgcolor\":\"#E5ECF6\",\"radialaxis\":{\"gridcolor\":\"white\",\"linecolor\":\"white\",\"ticks\":\"\"}},\"scene\":{\"xaxis\":{\"backgroundcolor\":\"#E5ECF6\",\"gridcolor\":\"white\",\"gridwidth\":2,\"linecolor\":\"white\",\"showbackground\":true,\"ticks\":\"\",\"zerolinecolor\":\"white\"},\"yaxis\":{\"backgroundcolor\":\"#E5ECF6\",\"gridcolor\":\"white\",\"gridwidth\":2,\"linecolor\":\"white\",\"showbackground\":true,\"ticks\":\"\",\"zerolinecolor\":\"white\"},\"zaxis\":{\"backgroundcolor\":\"#E5ECF6\",\"gridcolor\":\"white\",\"gridwidth\":2,\"linecolor\":\"white\",\"showbackground\":true,\"ticks\":\"\",\"zerolinecolor\":\"white\"}},\"shapedefaults\":{\"line\":{\"color\":\"#2a3f5f\"}},\"ternary\":{\"aaxis\":{\"gridcolor\":\"white\",\"linecolor\":\"white\",\"ticks\":\"\"},\"baxis\":{\"gridcolor\":\"white\",\"linecolor\":\"white\",\"ticks\":\"\"},\"bgcolor\":\"#E5ECF6\",\"caxis\":{\"gridcolor\":\"white\",\"linecolor\":\"white\",\"ticks\":\"\"}},\"title\":{\"x\":0.05},\"xaxis\":{\"automargin\":true,\"gridcolor\":\"white\",\"linecolor\":\"white\",\"ticks\":\"\",\"title\":{\"standoff\":15},\"zerolinecolor\":\"white\",\"zerolinewidth\":2},\"yaxis\":{\"automargin\":true,\"gridcolor\":\"white\",\"linecolor\":\"white\",\"ticks\":\"\",\"title\":{\"standoff\":15},\"zerolinecolor\":\"white\",\"zerolinewidth\":2}}},\"xaxis\":{\"anchor\":\"y\",\"domain\":[0.0,1.0],\"title\":{\"text\":\"Salario\"}},\"yaxis\":{\"anchor\":\"x\",\"domain\":[0.0,0.7326],\"title\":{\"text\":\"count\"}},\"xaxis2\":{\"anchor\":\"y2\",\"domain\":[0.0,1.0],\"matches\":\"x\",\"showticklabels\":false,\"showgrid\":true},\"yaxis2\":{\"anchor\":\"x2\",\"domain\":[0.7426,1.0],\"matches\":\"y2\",\"showticklabels\":false,\"showline\":false,\"ticks\":\"\",\"showgrid\":false},\"legend\":{\"title\":{\"text\":\"Cluster\"},\"tracegroupgap\":0},\"margin\":{\"t\":60},\"barmode\":\"relative\",\"height\":600},                        {\"responsive\": true}                    ).then(function(){\n",
              "                            \n",
              "var gd = document.getElementById('89b0fbc4-a0d0-4785-b9ef-6fda85a02856');\n",
              "var x = new MutationObserver(function (mutations, observer) {{\n",
              "        var display = window.getComputedStyle(gd).display;\n",
              "        if (!display || display === 'none') {{\n",
              "            console.log([gd, 'removed!']);\n",
              "            Plotly.purge(gd);\n",
              "            observer.disconnect();\n",
              "        }}\n",
              "}});\n",
              "\n",
              "// Listen for the removal of the full notebook cells\n",
              "var notebookContainer = gd.closest('#notebook-container');\n",
              "if (notebookContainer) {{\n",
              "    x.observe(notebookContainer, {childList: true});\n",
              "}}\n",
              "\n",
              "// Listen for the clearing of the current output cell\n",
              "var outputEl = gd.closest('.output');\n",
              "if (outputEl) {{\n",
              "    x.observe(outputEl, {childList: true});\n",
              "}}\n",
              "\n",
              "                        })                };                            </script>        </div>\n",
              "</body>\n",
              "</html>"
            ]
          },
          "metadata": {}
        }
      ]
    }
  ]
}