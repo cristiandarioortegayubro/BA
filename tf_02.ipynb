{
  "nbformat": 4,
  "nbformat_minor": 0,
  "metadata": {
    "colab": {
      "name": "tf-02.ipynb",
      "provenance": [],
      "collapsed_sections": [],
      "include_colab_link": true
    },
    "kernelspec": {
      "name": "python3",
      "display_name": "Python 3"
    }
  },
  "cells": [
    {
      "cell_type": "markdown",
      "metadata": {
        "id": "view-in-github",
        "colab_type": "text"
      },
      "source": [
        "<a href=\"https://colab.research.google.com/github/cristiandarioortegayubro/BA/blob/main/tf_02.ipynb\" target=\"_parent\"><img src=\"https://colab.research.google.com/assets/colab-badge.svg\" alt=\"Open In Colab\"/></a>"
      ]
    },
    {
      "cell_type": "markdown",
      "source": [
        "![logo](https://github.com/cristiandarioortegayubro/BA/blob/main/dba.png?raw=true)"
      ],
      "metadata": {
        "id": "YLPInXMuZwqW"
      }
    },
    {
      "cell_type": "markdown",
      "source": [
        "# **Trabajo Final - Módulo 8 - Aprendizaje Automático - Machine Learning**"
      ],
      "metadata": {
        "id": "-FI15q-uZ1bW"
      }
    },
    {
      "cell_type": "markdown",
      "source": [
        "![logo](https://www.python.org/static/community_logos/python-powered-w-100x40.png)"
      ],
      "metadata": {
        "id": "prg9YQcbaCGN"
      }
    },
    {
      "cell_type": "markdown",
      "metadata": {
        "id": "7R-FXvTAuljZ"
      },
      "source": [
        "~~~\n",
        "Colocar Apellido y Nombre (reemplazar esta línea)\n",
        "~~~"
      ]
    },
    {
      "cell_type": "markdown",
      "source": [
        "# **Aclaraciones previas**\n",
        "\n",
        "\n",
        "\n",
        "*   En cada celda se indica lo solicitado.\n",
        "*   Se pueden generar la cantidad de scripts necesarios.\n",
        "*   Puede explicar insertando celdas de texto.\n",
        "*   Para graficar se puede utilizar cualquier librería.\n",
        "*   Al finalizar, descargar el archivo y entregarlo por el campus.\n",
        "*   Al finalizar se debería borrar esta celda.\n"
      ],
      "metadata": {
        "id": "40YWRSe4aN2P"
      }
    },
    {
      "cell_type": "markdown",
      "metadata": {
        "id": "ZwJxBrO5OKYx"
      },
      "source": [
        "# **Carga de módulos y datos necesarios**"
      ]
    },
    {
      "cell_type": "code",
      "metadata": {
        "id": "pCtcmSOaN36q"
      },
      "source": [
        "import pandas as pd\n",
        "import numpy as np"
      ],
      "execution_count": 1,
      "outputs": []
    },
    {
      "cell_type": "markdown",
      "metadata": {
        "id": "giV9Xmh-QhdF"
      },
      "source": [
        "# **Creación del DataFrame**"
      ]
    },
    {
      "cell_type": "code",
      "metadata": {
        "id": "NR1EJ5SmNeRR"
      },
      "source": [
        "url=\"https://raw.githubusercontent.com/cristiandarioortegayubro/Maestria-Ciencia-de-Datos-UBA-FCE/main/Gestion_y_Procesamiento_BD/\"\n",
        "archivo=\"bank-full.csv\"\n",
        "analisis = pd.read_csv(url+archivo)\n",
        "analisis.replace({\"unknown\": np.nan}, inplace=True)"
      ],
      "execution_count": 2,
      "outputs": []
    },
    {
      "cell_type": "markdown",
      "metadata": {
        "id": "IidAVW7wuz4J"
      },
      "source": [
        "# **Análisis Exploratorio de los datos**"
      ]
    },
    {
      "cell_type": "markdown",
      "metadata": {
        "id": "KgzRWvt2u_Wf"
      },
      "source": [
        "## Visualización del conjunto de datos"
      ]
    },
    {
      "cell_type": "code",
      "metadata": {
        "id": "j7CWRC3SvGAn"
      },
      "source": [
        ""
      ],
      "execution_count": null,
      "outputs": []
    },
    {
      "cell_type": "markdown",
      "metadata": {
        "id": "bpcTzVG0vHTX"
      },
      "source": [
        "## Tipos de datos"
      ]
    },
    {
      "cell_type": "code",
      "metadata": {
        "id": "nFiTtZDZvO90"
      },
      "source": [
        ""
      ],
      "execution_count": null,
      "outputs": []
    },
    {
      "cell_type": "markdown",
      "metadata": {
        "id": "6LrAhLdlvPve"
      },
      "source": [
        "## Dimensión del conjunto de datos y valores nulos y faltantes"
      ]
    },
    {
      "cell_type": "code",
      "metadata": {
        "id": "5a1OUnC2vmj-"
      },
      "source": [
        ""
      ],
      "execution_count": null,
      "outputs": []
    },
    {
      "cell_type": "markdown",
      "metadata": {
        "id": "xfkj9eQYvnBO"
      },
      "source": [
        "## Variable Objetivo"
      ]
    },
    {
      "cell_type": "code",
      "metadata": {
        "id": "Js8XnQtxv0VB"
      },
      "source": [
        ""
      ],
      "execution_count": null,
      "outputs": []
    },
    {
      "cell_type": "markdown",
      "metadata": {
        "id": "JTfSkKaXv0xU"
      },
      "source": [
        "## Variables numéricas, análisis descriptivo"
      ]
    },
    {
      "cell_type": "code",
      "metadata": {
        "id": "B0oUj4iuv8Az"
      },
      "source": [
        ""
      ],
      "execution_count": null,
      "outputs": []
    },
    {
      "cell_type": "markdown",
      "metadata": {
        "id": "YQOpRFyJv9TA"
      },
      "source": [
        "## Otras variables, análisis descriptivo"
      ]
    },
    {
      "cell_type": "code",
      "metadata": {
        "id": "E-aumejMwHJo"
      },
      "source": [
        ""
      ],
      "execution_count": null,
      "outputs": []
    },
    {
      "cell_type": "markdown",
      "metadata": {
        "id": "En_odLk8wJTE"
      },
      "source": [
        "## Correlación de variables"
      ]
    },
    {
      "cell_type": "code",
      "metadata": {
        "id": "VKrB8GdhwbAF"
      },
      "source": [
        ""
      ],
      "execution_count": null,
      "outputs": []
    },
    {
      "cell_type": "markdown",
      "metadata": {
        "id": "oAV3madYwbe_"
      },
      "source": [
        "## Graficos de variables"
      ]
    },
    {
      "cell_type": "code",
      "metadata": {
        "id": "_irislvgwoUS"
      },
      "source": [
        ""
      ],
      "execution_count": null,
      "outputs": []
    },
    {
      "cell_type": "markdown",
      "metadata": {
        "id": "eTzQBMUywpCc"
      },
      "source": [
        "# **División del conjunto de datos**"
      ]
    },
    {
      "cell_type": "code",
      "metadata": {
        "id": "ZIZo2JzDwuNd"
      },
      "source": [
        ""
      ],
      "execution_count": null,
      "outputs": []
    },
    {
      "cell_type": "markdown",
      "metadata": {
        "id": "1BtNTp9nwvTe"
      },
      "source": [
        "# **Preprocesamiento**"
      ]
    },
    {
      "cell_type": "markdown",
      "metadata": {
        "id": "8B1PvT-lw4Du"
      },
      "source": [
        "## Imputación de valores faltantes"
      ]
    },
    {
      "cell_type": "code",
      "metadata": {
        "id": "9fhGJWoSxCS_"
      },
      "source": [
        ""
      ],
      "execution_count": null,
      "outputs": []
    },
    {
      "cell_type": "markdown",
      "metadata": {
        "id": "OnPN1GeCxDJL"
      },
      "source": [
        "## Codificación de variables no numéricas"
      ]
    },
    {
      "cell_type": "code",
      "metadata": {
        "id": "fkgx4CODxK2F"
      },
      "source": [
        ""
      ],
      "execution_count": null,
      "outputs": []
    }
  ]
}