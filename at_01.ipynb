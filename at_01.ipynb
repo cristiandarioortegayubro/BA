{
  "cells": [
    {
      "cell_type": "markdown",
      "metadata": {
        "id": "view-in-github",
        "colab_type": "text"
      },
      "source": [
        "<a href=\"https://colab.research.google.com/github/cristiandarioortegayubro/BA/blob/main/at_01.ipynb\" target=\"_parent\"><img src=\"https://colab.research.google.com/assets/colab-badge.svg\" alt=\"Open In Colab\"/></a>"
      ]
    },
    {
      "cell_type": "markdown",
      "source": [
        "![logo](https://github.com/cristiandarioortegayubro/BA/blob/main/dba.png?raw=true)"
      ],
      "metadata": {
        "id": "BNo4U6oAZA0X"
      },
      "id": "BNo4U6oAZA0X"
    },
    {
      "cell_type": "markdown",
      "id": "edd8a5c6-40ac-4941-8f43-9fcffcf93a58",
      "metadata": {
        "id": "edd8a5c6-40ac-4941-8f43-9fcffcf93a58"
      },
      "source": [
        "![altair](https://altair-viz.github.io/_static/altair-logo-light.png)"
      ]
    },
    {
      "cell_type": "markdown",
      "id": "4c717ee4-512e-4920-80c8-15456130c886",
      "metadata": {
        "id": "4c717ee4-512e-4920-80c8-15456130c886"
      },
      "source": [
        "\n",
        "[altair-viz.github](https://altair-viz.github.io/#)"
      ]
    },
    {
      "cell_type": "markdown",
      "id": "319c461f-2d23-4921-8bcd-0fa3ba3833e3",
      "metadata": {
        "id": "319c461f-2d23-4921-8bcd-0fa3ba3833e3"
      },
      "source": [
        "## **Módulos necesarios**"
      ]
    },
    {
      "cell_type": "markdown",
      "id": "35b48f73-68d2-4f77-8e86-592bc29a9ea4",
      "metadata": {
        "id": "35b48f73-68d2-4f77-8e86-592bc29a9ea4"
      },
      "source": [
        "### ***Para análisis de datos***"
      ]
    },
    {
      "cell_type": "code",
      "execution_count": 1,
      "id": "0ee9d969-78b5-4e7d-9956-9c4a80498faf",
      "metadata": {
        "id": "0ee9d969-78b5-4e7d-9956-9c4a80498faf"
      },
      "outputs": [],
      "source": [
        "import pandas as pd\n",
        "import numpy as np"
      ]
    },
    {
      "cell_type": "markdown",
      "id": "6b0c6b0f-ba2d-4d9f-b43e-7cdb9e6edf0d",
      "metadata": {
        "id": "6b0c6b0f-ba2d-4d9f-b43e-7cdb9e6edf0d"
      },
      "source": [
        "### ***Módulo gráfico***"
      ]
    },
    {
      "cell_type": "code",
      "execution_count": 2,
      "id": "04230e29-fa53-435c-aa16-7be0cec5bcdb",
      "metadata": {
        "id": "04230e29-fa53-435c-aa16-7be0cec5bcdb"
      },
      "outputs": [],
      "source": [
        "import altair as alt"
      ]
    },
    {
      "cell_type": "markdown",
      "id": "776d5c76-8b73-4dea-adc5-50d536e3c0b2",
      "metadata": {
        "id": "776d5c76-8b73-4dea-adc5-50d536e3c0b2"
      },
      "source": [
        "## **Obtención de datos**"
      ]
    },
    {
      "cell_type": "code",
      "execution_count": 3,
      "id": "d79c58a7-55ed-45e8-b102-0f52f4b50338",
      "metadata": {
        "id": "d79c58a7-55ed-45e8-b102-0f52f4b50338"
      },
      "outputs": [],
      "source": [
        "datos_url = \"https://raw.githubusercontent.com/cristiandarioortegayubro/BA/main/Datasets/Ventas\""
      ]
    },
    {
      "cell_type": "code",
      "source": [
        "ventas = pd.read_csv(datos_url)\n",
        "ventas.head(3)"
      ],
      "metadata": {
        "colab": {
          "base_uri": "https://localhost:8080/",
          "height": 257
        },
        "id": "yZHb39EteMBS",
        "outputId": "1064b8b4-dbb6-471d-fa8d-f89a35e9fc1a"
      },
      "id": "yZHb39EteMBS",
      "execution_count": 4,
      "outputs": [
        {
          "output_type": "execute_result",
          "data": {
            "text/plain": [
              "         DOCUMENTO      ORGANIZACION       FECHA TIPOFACTURA  DESCRIPCION  \\\n",
              "0  A-0001-00000241      Amazon Group  30-09-2020     Factura          NaN   \n",
              "1  C-0001-00000001      Algorte S.A.  30-09-2020     Factura          NaN   \n",
              "2  B-0001-00000104  Consumidor Final  17-04-2020     Factura          NaN   \n",
              "\n",
              "               PRODUCTO  PRODUCTODESCRIPCION CENTRODECOSTO  CANTIDAD  \\\n",
              "0           Consultoría                  NaN           NaN       1.0   \n",
              "1  Cable RGB para video                  NaN           NaN       1.0   \n",
              "2  Cable RGB para video                  NaN           NaN      10.0   \n",
              "\n",
              "      PRECIO  IMPORTEMONPRINCIPAL  IMPORTEMONTRANSACCION            MONEDA  \\\n",
              "0  5000.0000              5000.00                5000.00  Pesos Argentinos   \n",
              "1   150.0000               150.00                 150.00  Pesos Argentinos   \n",
              "2   123.9669              1239.67                1239.67  Pesos Argentinos   \n",
              "\n",
              "   VENDEDOR  DESCUENTO  \n",
              "0       NaN        0.0  \n",
              "1       NaN        0.0  \n",
              "2       NaN        0.0  "
            ],
            "text/html": [
              "\n",
              "  <div id=\"df-6707a9ec-a5a9-4000-8fe2-7fbe9e3b5f63\">\n",
              "    <div class=\"colab-df-container\">\n",
              "      <div>\n",
              "<style scoped>\n",
              "    .dataframe tbody tr th:only-of-type {\n",
              "        vertical-align: middle;\n",
              "    }\n",
              "\n",
              "    .dataframe tbody tr th {\n",
              "        vertical-align: top;\n",
              "    }\n",
              "\n",
              "    .dataframe thead th {\n",
              "        text-align: right;\n",
              "    }\n",
              "</style>\n",
              "<table border=\"1\" class=\"dataframe\">\n",
              "  <thead>\n",
              "    <tr style=\"text-align: right;\">\n",
              "      <th></th>\n",
              "      <th>DOCUMENTO</th>\n",
              "      <th>ORGANIZACION</th>\n",
              "      <th>FECHA</th>\n",
              "      <th>TIPOFACTURA</th>\n",
              "      <th>DESCRIPCION</th>\n",
              "      <th>PRODUCTO</th>\n",
              "      <th>PRODUCTODESCRIPCION</th>\n",
              "      <th>CENTRODECOSTO</th>\n",
              "      <th>CANTIDAD</th>\n",
              "      <th>PRECIO</th>\n",
              "      <th>IMPORTEMONPRINCIPAL</th>\n",
              "      <th>IMPORTEMONTRANSACCION</th>\n",
              "      <th>MONEDA</th>\n",
              "      <th>VENDEDOR</th>\n",
              "      <th>DESCUENTO</th>\n",
              "    </tr>\n",
              "  </thead>\n",
              "  <tbody>\n",
              "    <tr>\n",
              "      <th>0</th>\n",
              "      <td>A-0001-00000241</td>\n",
              "      <td>Amazon Group</td>\n",
              "      <td>30-09-2020</td>\n",
              "      <td>Factura</td>\n",
              "      <td>NaN</td>\n",
              "      <td>Consultoría</td>\n",
              "      <td>NaN</td>\n",
              "      <td>NaN</td>\n",
              "      <td>1.0</td>\n",
              "      <td>5000.0000</td>\n",
              "      <td>5000.00</td>\n",
              "      <td>5000.00</td>\n",
              "      <td>Pesos Argentinos</td>\n",
              "      <td>NaN</td>\n",
              "      <td>0.0</td>\n",
              "    </tr>\n",
              "    <tr>\n",
              "      <th>1</th>\n",
              "      <td>C-0001-00000001</td>\n",
              "      <td>Algorte S.A.</td>\n",
              "      <td>30-09-2020</td>\n",
              "      <td>Factura</td>\n",
              "      <td>NaN</td>\n",
              "      <td>Cable RGB para video</td>\n",
              "      <td>NaN</td>\n",
              "      <td>NaN</td>\n",
              "      <td>1.0</td>\n",
              "      <td>150.0000</td>\n",
              "      <td>150.00</td>\n",
              "      <td>150.00</td>\n",
              "      <td>Pesos Argentinos</td>\n",
              "      <td>NaN</td>\n",
              "      <td>0.0</td>\n",
              "    </tr>\n",
              "    <tr>\n",
              "      <th>2</th>\n",
              "      <td>B-0001-00000104</td>\n",
              "      <td>Consumidor Final</td>\n",
              "      <td>17-04-2020</td>\n",
              "      <td>Factura</td>\n",
              "      <td>NaN</td>\n",
              "      <td>Cable RGB para video</td>\n",
              "      <td>NaN</td>\n",
              "      <td>NaN</td>\n",
              "      <td>10.0</td>\n",
              "      <td>123.9669</td>\n",
              "      <td>1239.67</td>\n",
              "      <td>1239.67</td>\n",
              "      <td>Pesos Argentinos</td>\n",
              "      <td>NaN</td>\n",
              "      <td>0.0</td>\n",
              "    </tr>\n",
              "  </tbody>\n",
              "</table>\n",
              "</div>\n",
              "      <button class=\"colab-df-convert\" onclick=\"convertToInteractive('df-6707a9ec-a5a9-4000-8fe2-7fbe9e3b5f63')\"\n",
              "              title=\"Convert this dataframe to an interactive table.\"\n",
              "              style=\"display:none;\">\n",
              "        \n",
              "  <svg xmlns=\"http://www.w3.org/2000/svg\" height=\"24px\"viewBox=\"0 0 24 24\"\n",
              "       width=\"24px\">\n",
              "    <path d=\"M0 0h24v24H0V0z\" fill=\"none\"/>\n",
              "    <path d=\"M18.56 5.44l.94 2.06.94-2.06 2.06-.94-2.06-.94-.94-2.06-.94 2.06-2.06.94zm-11 1L8.5 8.5l.94-2.06 2.06-.94-2.06-.94L8.5 2.5l-.94 2.06-2.06.94zm10 10l.94 2.06.94-2.06 2.06-.94-2.06-.94-.94-2.06-.94 2.06-2.06.94z\"/><path d=\"M17.41 7.96l-1.37-1.37c-.4-.4-.92-.59-1.43-.59-.52 0-1.04.2-1.43.59L10.3 9.45l-7.72 7.72c-.78.78-.78 2.05 0 2.83L4 21.41c.39.39.9.59 1.41.59.51 0 1.02-.2 1.41-.59l7.78-7.78 2.81-2.81c.8-.78.8-2.07 0-2.86zM5.41 20L4 18.59l7.72-7.72 1.47 1.35L5.41 20z\"/>\n",
              "  </svg>\n",
              "      </button>\n",
              "      \n",
              "  <style>\n",
              "    .colab-df-container {\n",
              "      display:flex;\n",
              "      flex-wrap:wrap;\n",
              "      gap: 12px;\n",
              "    }\n",
              "\n",
              "    .colab-df-convert {\n",
              "      background-color: #E8F0FE;\n",
              "      border: none;\n",
              "      border-radius: 50%;\n",
              "      cursor: pointer;\n",
              "      display: none;\n",
              "      fill: #1967D2;\n",
              "      height: 32px;\n",
              "      padding: 0 0 0 0;\n",
              "      width: 32px;\n",
              "    }\n",
              "\n",
              "    .colab-df-convert:hover {\n",
              "      background-color: #E2EBFA;\n",
              "      box-shadow: 0px 1px 2px rgba(60, 64, 67, 0.3), 0px 1px 3px 1px rgba(60, 64, 67, 0.15);\n",
              "      fill: #174EA6;\n",
              "    }\n",
              "\n",
              "    [theme=dark] .colab-df-convert {\n",
              "      background-color: #3B4455;\n",
              "      fill: #D2E3FC;\n",
              "    }\n",
              "\n",
              "    [theme=dark] .colab-df-convert:hover {\n",
              "      background-color: #434B5C;\n",
              "      box-shadow: 0px 1px 3px 1px rgba(0, 0, 0, 0.15);\n",
              "      filter: drop-shadow(0px 1px 2px rgba(0, 0, 0, 0.3));\n",
              "      fill: #FFFFFF;\n",
              "    }\n",
              "  </style>\n",
              "\n",
              "      <script>\n",
              "        const buttonEl =\n",
              "          document.querySelector('#df-6707a9ec-a5a9-4000-8fe2-7fbe9e3b5f63 button.colab-df-convert');\n",
              "        buttonEl.style.display =\n",
              "          google.colab.kernel.accessAllowed ? 'block' : 'none';\n",
              "\n",
              "        async function convertToInteractive(key) {\n",
              "          const element = document.querySelector('#df-6707a9ec-a5a9-4000-8fe2-7fbe9e3b5f63');\n",
              "          const dataTable =\n",
              "            await google.colab.kernel.invokeFunction('convertToInteractive',\n",
              "                                                     [key], {});\n",
              "          if (!dataTable) return;\n",
              "\n",
              "          const docLinkHtml = 'Like what you see? Visit the ' +\n",
              "            '<a target=\"_blank\" href=https://colab.research.google.com/notebooks/data_table.ipynb>data table notebook</a>'\n",
              "            + ' to learn more about interactive tables.';\n",
              "          element.innerHTML = '';\n",
              "          dataTable['output_type'] = 'display_data';\n",
              "          await google.colab.output.renderOutput(dataTable, element);\n",
              "          const docLink = document.createElement('div');\n",
              "          docLink.innerHTML = docLinkHtml;\n",
              "          element.appendChild(docLink);\n",
              "        }\n",
              "      </script>\n",
              "    </div>\n",
              "  </div>\n",
              "  "
            ]
          },
          "metadata": {},
          "execution_count": 4
        }
      ]
    },
    {
      "cell_type": "code",
      "source": [
        "agrupacion_clientes = ventas.groupby(\"ORGANIZACION\").count()\n",
        "agrupacion_clientes.head(3)"
      ],
      "metadata": {
        "colab": {
          "base_uri": "https://localhost:8080/",
          "height": 237
        },
        "id": "31O6N5sMfBcM",
        "outputId": "dcd43d58-7751-4ef3-f309-21e4e147eae0"
      },
      "id": "31O6N5sMfBcM",
      "execution_count": 5,
      "outputs": [
        {
          "output_type": "execute_result",
          "data": {
            "text/plain": [
              "              DOCUMENTO  FECHA  TIPOFACTURA  DESCRIPCION  PRODUCTO  \\\n",
              "ORGANIZACION                                                         \n",
              "Algorte S.A.          1      1            1            0         1   \n",
              "Amazon Group          5      5            5            0         5   \n",
              "Berker S.R.L          4      4            4            0         4   \n",
              "\n",
              "              PRODUCTODESCRIPCION  CENTRODECOSTO  CANTIDAD  PRECIO  \\\n",
              "ORGANIZACION                                                         \n",
              "Algorte S.A.                    0              0         1       1   \n",
              "Amazon Group                    0              2         5       5   \n",
              "Berker S.R.L                    0              0         4       4   \n",
              "\n",
              "              IMPORTEMONPRINCIPAL  IMPORTEMONTRANSACCION  MONEDA  VENDEDOR  \\\n",
              "ORGANIZACION                                                                 \n",
              "Algorte S.A.                    1                      1       1         0   \n",
              "Amazon Group                    5                      5       5         0   \n",
              "Berker S.R.L                    4                      4       4         0   \n",
              "\n",
              "              DESCUENTO  \n",
              "ORGANIZACION             \n",
              "Algorte S.A.          1  \n",
              "Amazon Group          5  \n",
              "Berker S.R.L          4  "
            ],
            "text/html": [
              "\n",
              "  <div id=\"df-5d776f70-80b5-48c9-b555-73b8f3429389\">\n",
              "    <div class=\"colab-df-container\">\n",
              "      <div>\n",
              "<style scoped>\n",
              "    .dataframe tbody tr th:only-of-type {\n",
              "        vertical-align: middle;\n",
              "    }\n",
              "\n",
              "    .dataframe tbody tr th {\n",
              "        vertical-align: top;\n",
              "    }\n",
              "\n",
              "    .dataframe thead th {\n",
              "        text-align: right;\n",
              "    }\n",
              "</style>\n",
              "<table border=\"1\" class=\"dataframe\">\n",
              "  <thead>\n",
              "    <tr style=\"text-align: right;\">\n",
              "      <th></th>\n",
              "      <th>DOCUMENTO</th>\n",
              "      <th>FECHA</th>\n",
              "      <th>TIPOFACTURA</th>\n",
              "      <th>DESCRIPCION</th>\n",
              "      <th>PRODUCTO</th>\n",
              "      <th>PRODUCTODESCRIPCION</th>\n",
              "      <th>CENTRODECOSTO</th>\n",
              "      <th>CANTIDAD</th>\n",
              "      <th>PRECIO</th>\n",
              "      <th>IMPORTEMONPRINCIPAL</th>\n",
              "      <th>IMPORTEMONTRANSACCION</th>\n",
              "      <th>MONEDA</th>\n",
              "      <th>VENDEDOR</th>\n",
              "      <th>DESCUENTO</th>\n",
              "    </tr>\n",
              "    <tr>\n",
              "      <th>ORGANIZACION</th>\n",
              "      <th></th>\n",
              "      <th></th>\n",
              "      <th></th>\n",
              "      <th></th>\n",
              "      <th></th>\n",
              "      <th></th>\n",
              "      <th></th>\n",
              "      <th></th>\n",
              "      <th></th>\n",
              "      <th></th>\n",
              "      <th></th>\n",
              "      <th></th>\n",
              "      <th></th>\n",
              "      <th></th>\n",
              "    </tr>\n",
              "  </thead>\n",
              "  <tbody>\n",
              "    <tr>\n",
              "      <th>Algorte S.A.</th>\n",
              "      <td>1</td>\n",
              "      <td>1</td>\n",
              "      <td>1</td>\n",
              "      <td>0</td>\n",
              "      <td>1</td>\n",
              "      <td>0</td>\n",
              "      <td>0</td>\n",
              "      <td>1</td>\n",
              "      <td>1</td>\n",
              "      <td>1</td>\n",
              "      <td>1</td>\n",
              "      <td>1</td>\n",
              "      <td>0</td>\n",
              "      <td>1</td>\n",
              "    </tr>\n",
              "    <tr>\n",
              "      <th>Amazon Group</th>\n",
              "      <td>5</td>\n",
              "      <td>5</td>\n",
              "      <td>5</td>\n",
              "      <td>0</td>\n",
              "      <td>5</td>\n",
              "      <td>0</td>\n",
              "      <td>2</td>\n",
              "      <td>5</td>\n",
              "      <td>5</td>\n",
              "      <td>5</td>\n",
              "      <td>5</td>\n",
              "      <td>5</td>\n",
              "      <td>0</td>\n",
              "      <td>5</td>\n",
              "    </tr>\n",
              "    <tr>\n",
              "      <th>Berker S.R.L</th>\n",
              "      <td>4</td>\n",
              "      <td>4</td>\n",
              "      <td>4</td>\n",
              "      <td>0</td>\n",
              "      <td>4</td>\n",
              "      <td>0</td>\n",
              "      <td>0</td>\n",
              "      <td>4</td>\n",
              "      <td>4</td>\n",
              "      <td>4</td>\n",
              "      <td>4</td>\n",
              "      <td>4</td>\n",
              "      <td>0</td>\n",
              "      <td>4</td>\n",
              "    </tr>\n",
              "  </tbody>\n",
              "</table>\n",
              "</div>\n",
              "      <button class=\"colab-df-convert\" onclick=\"convertToInteractive('df-5d776f70-80b5-48c9-b555-73b8f3429389')\"\n",
              "              title=\"Convert this dataframe to an interactive table.\"\n",
              "              style=\"display:none;\">\n",
              "        \n",
              "  <svg xmlns=\"http://www.w3.org/2000/svg\" height=\"24px\"viewBox=\"0 0 24 24\"\n",
              "       width=\"24px\">\n",
              "    <path d=\"M0 0h24v24H0V0z\" fill=\"none\"/>\n",
              "    <path d=\"M18.56 5.44l.94 2.06.94-2.06 2.06-.94-2.06-.94-.94-2.06-.94 2.06-2.06.94zm-11 1L8.5 8.5l.94-2.06 2.06-.94-2.06-.94L8.5 2.5l-.94 2.06-2.06.94zm10 10l.94 2.06.94-2.06 2.06-.94-2.06-.94-.94-2.06-.94 2.06-2.06.94z\"/><path d=\"M17.41 7.96l-1.37-1.37c-.4-.4-.92-.59-1.43-.59-.52 0-1.04.2-1.43.59L10.3 9.45l-7.72 7.72c-.78.78-.78 2.05 0 2.83L4 21.41c.39.39.9.59 1.41.59.51 0 1.02-.2 1.41-.59l7.78-7.78 2.81-2.81c.8-.78.8-2.07 0-2.86zM5.41 20L4 18.59l7.72-7.72 1.47 1.35L5.41 20z\"/>\n",
              "  </svg>\n",
              "      </button>\n",
              "      \n",
              "  <style>\n",
              "    .colab-df-container {\n",
              "      display:flex;\n",
              "      flex-wrap:wrap;\n",
              "      gap: 12px;\n",
              "    }\n",
              "\n",
              "    .colab-df-convert {\n",
              "      background-color: #E8F0FE;\n",
              "      border: none;\n",
              "      border-radius: 50%;\n",
              "      cursor: pointer;\n",
              "      display: none;\n",
              "      fill: #1967D2;\n",
              "      height: 32px;\n",
              "      padding: 0 0 0 0;\n",
              "      width: 32px;\n",
              "    }\n",
              "\n",
              "    .colab-df-convert:hover {\n",
              "      background-color: #E2EBFA;\n",
              "      box-shadow: 0px 1px 2px rgba(60, 64, 67, 0.3), 0px 1px 3px 1px rgba(60, 64, 67, 0.15);\n",
              "      fill: #174EA6;\n",
              "    }\n",
              "\n",
              "    [theme=dark] .colab-df-convert {\n",
              "      background-color: #3B4455;\n",
              "      fill: #D2E3FC;\n",
              "    }\n",
              "\n",
              "    [theme=dark] .colab-df-convert:hover {\n",
              "      background-color: #434B5C;\n",
              "      box-shadow: 0px 1px 3px 1px rgba(0, 0, 0, 0.15);\n",
              "      filter: drop-shadow(0px 1px 2px rgba(0, 0, 0, 0.3));\n",
              "      fill: #FFFFFF;\n",
              "    }\n",
              "  </style>\n",
              "\n",
              "      <script>\n",
              "        const buttonEl =\n",
              "          document.querySelector('#df-5d776f70-80b5-48c9-b555-73b8f3429389 button.colab-df-convert');\n",
              "        buttonEl.style.display =\n",
              "          google.colab.kernel.accessAllowed ? 'block' : 'none';\n",
              "\n",
              "        async function convertToInteractive(key) {\n",
              "          const element = document.querySelector('#df-5d776f70-80b5-48c9-b555-73b8f3429389');\n",
              "          const dataTable =\n",
              "            await google.colab.kernel.invokeFunction('convertToInteractive',\n",
              "                                                     [key], {});\n",
              "          if (!dataTable) return;\n",
              "\n",
              "          const docLinkHtml = 'Like what you see? Visit the ' +\n",
              "            '<a target=\"_blank\" href=https://colab.research.google.com/notebooks/data_table.ipynb>data table notebook</a>'\n",
              "            + ' to learn more about interactive tables.';\n",
              "          element.innerHTML = '';\n",
              "          dataTable['output_type'] = 'display_data';\n",
              "          await google.colab.output.renderOutput(dataTable, element);\n",
              "          const docLink = document.createElement('div');\n",
              "          docLink.innerHTML = docLinkHtml;\n",
              "          element.appendChild(docLink);\n",
              "        }\n",
              "      </script>\n",
              "    </div>\n",
              "  </div>\n",
              "  "
            ]
          },
          "metadata": {},
          "execution_count": 5
        }
      ]
    },
    {
      "cell_type": "code",
      "source": [
        "agrupacion_clientes.insert(0,column=\"ORGANIZACION\",value=agrupacion_clientes.index.values)\n",
        "agrupacion_clientes.reset_index(drop=True, inplace=True)\n",
        "agrupacion_clientes.drop(columns=[\"DESCRIPCION\",\"PRODUCTODESCRIPCION\",\"VENDEDOR\",\"DESCUENTO\"], inplace=True)\n",
        "agrupacion_clientes.head()"
      ],
      "metadata": {
        "colab": {
          "base_uri": "https://localhost:8080/",
          "height": 302
        },
        "id": "dFJJGfwEfF9b",
        "outputId": "2e27d857-29a5-45e6-9950-a649525431ce"
      },
      "id": "dFJJGfwEfF9b",
      "execution_count": 6,
      "outputs": [
        {
          "output_type": "execute_result",
          "data": {
            "text/plain": [
              "       ORGANIZACION  DOCUMENTO  FECHA  TIPOFACTURA  PRODUCTO  CENTRODECOSTO  \\\n",
              "0      Algorte S.A.          1      1            1         1              0   \n",
              "1      Amazon Group          5      5            5         5              2   \n",
              "2      Berker S.R.L          4      4            4         4              0   \n",
              "3     Campomas S.A.          7      7            7         7              1   \n",
              "4  Consumidor Final          1      1            1         1              0   \n",
              "\n",
              "   CANTIDAD  PRECIO  IMPORTEMONPRINCIPAL  IMPORTEMONTRANSACCION  MONEDA  \n",
              "0         1       1                    1                      1       1  \n",
              "1         5       5                    5                      5       5  \n",
              "2         4       4                    4                      4       4  \n",
              "3         7       7                    7                      7       7  \n",
              "4         1       1                    1                      1       1  "
            ],
            "text/html": [
              "\n",
              "  <div id=\"df-df306ea1-5c09-43f4-bf1d-dae8f12d501c\">\n",
              "    <div class=\"colab-df-container\">\n",
              "      <div>\n",
              "<style scoped>\n",
              "    .dataframe tbody tr th:only-of-type {\n",
              "        vertical-align: middle;\n",
              "    }\n",
              "\n",
              "    .dataframe tbody tr th {\n",
              "        vertical-align: top;\n",
              "    }\n",
              "\n",
              "    .dataframe thead th {\n",
              "        text-align: right;\n",
              "    }\n",
              "</style>\n",
              "<table border=\"1\" class=\"dataframe\">\n",
              "  <thead>\n",
              "    <tr style=\"text-align: right;\">\n",
              "      <th></th>\n",
              "      <th>ORGANIZACION</th>\n",
              "      <th>DOCUMENTO</th>\n",
              "      <th>FECHA</th>\n",
              "      <th>TIPOFACTURA</th>\n",
              "      <th>PRODUCTO</th>\n",
              "      <th>CENTRODECOSTO</th>\n",
              "      <th>CANTIDAD</th>\n",
              "      <th>PRECIO</th>\n",
              "      <th>IMPORTEMONPRINCIPAL</th>\n",
              "      <th>IMPORTEMONTRANSACCION</th>\n",
              "      <th>MONEDA</th>\n",
              "    </tr>\n",
              "  </thead>\n",
              "  <tbody>\n",
              "    <tr>\n",
              "      <th>0</th>\n",
              "      <td>Algorte S.A.</td>\n",
              "      <td>1</td>\n",
              "      <td>1</td>\n",
              "      <td>1</td>\n",
              "      <td>1</td>\n",
              "      <td>0</td>\n",
              "      <td>1</td>\n",
              "      <td>1</td>\n",
              "      <td>1</td>\n",
              "      <td>1</td>\n",
              "      <td>1</td>\n",
              "    </tr>\n",
              "    <tr>\n",
              "      <th>1</th>\n",
              "      <td>Amazon Group</td>\n",
              "      <td>5</td>\n",
              "      <td>5</td>\n",
              "      <td>5</td>\n",
              "      <td>5</td>\n",
              "      <td>2</td>\n",
              "      <td>5</td>\n",
              "      <td>5</td>\n",
              "      <td>5</td>\n",
              "      <td>5</td>\n",
              "      <td>5</td>\n",
              "    </tr>\n",
              "    <tr>\n",
              "      <th>2</th>\n",
              "      <td>Berker S.R.L</td>\n",
              "      <td>4</td>\n",
              "      <td>4</td>\n",
              "      <td>4</td>\n",
              "      <td>4</td>\n",
              "      <td>0</td>\n",
              "      <td>4</td>\n",
              "      <td>4</td>\n",
              "      <td>4</td>\n",
              "      <td>4</td>\n",
              "      <td>4</td>\n",
              "    </tr>\n",
              "    <tr>\n",
              "      <th>3</th>\n",
              "      <td>Campomas S.A.</td>\n",
              "      <td>7</td>\n",
              "      <td>7</td>\n",
              "      <td>7</td>\n",
              "      <td>7</td>\n",
              "      <td>1</td>\n",
              "      <td>7</td>\n",
              "      <td>7</td>\n",
              "      <td>7</td>\n",
              "      <td>7</td>\n",
              "      <td>7</td>\n",
              "    </tr>\n",
              "    <tr>\n",
              "      <th>4</th>\n",
              "      <td>Consumidor Final</td>\n",
              "      <td>1</td>\n",
              "      <td>1</td>\n",
              "      <td>1</td>\n",
              "      <td>1</td>\n",
              "      <td>0</td>\n",
              "      <td>1</td>\n",
              "      <td>1</td>\n",
              "      <td>1</td>\n",
              "      <td>1</td>\n",
              "      <td>1</td>\n",
              "    </tr>\n",
              "  </tbody>\n",
              "</table>\n",
              "</div>\n",
              "      <button class=\"colab-df-convert\" onclick=\"convertToInteractive('df-df306ea1-5c09-43f4-bf1d-dae8f12d501c')\"\n",
              "              title=\"Convert this dataframe to an interactive table.\"\n",
              "              style=\"display:none;\">\n",
              "        \n",
              "  <svg xmlns=\"http://www.w3.org/2000/svg\" height=\"24px\"viewBox=\"0 0 24 24\"\n",
              "       width=\"24px\">\n",
              "    <path d=\"M0 0h24v24H0V0z\" fill=\"none\"/>\n",
              "    <path d=\"M18.56 5.44l.94 2.06.94-2.06 2.06-.94-2.06-.94-.94-2.06-.94 2.06-2.06.94zm-11 1L8.5 8.5l.94-2.06 2.06-.94-2.06-.94L8.5 2.5l-.94 2.06-2.06.94zm10 10l.94 2.06.94-2.06 2.06-.94-2.06-.94-.94-2.06-.94 2.06-2.06.94z\"/><path d=\"M17.41 7.96l-1.37-1.37c-.4-.4-.92-.59-1.43-.59-.52 0-1.04.2-1.43.59L10.3 9.45l-7.72 7.72c-.78.78-.78 2.05 0 2.83L4 21.41c.39.39.9.59 1.41.59.51 0 1.02-.2 1.41-.59l7.78-7.78 2.81-2.81c.8-.78.8-2.07 0-2.86zM5.41 20L4 18.59l7.72-7.72 1.47 1.35L5.41 20z\"/>\n",
              "  </svg>\n",
              "      </button>\n",
              "      \n",
              "  <style>\n",
              "    .colab-df-container {\n",
              "      display:flex;\n",
              "      flex-wrap:wrap;\n",
              "      gap: 12px;\n",
              "    }\n",
              "\n",
              "    .colab-df-convert {\n",
              "      background-color: #E8F0FE;\n",
              "      border: none;\n",
              "      border-radius: 50%;\n",
              "      cursor: pointer;\n",
              "      display: none;\n",
              "      fill: #1967D2;\n",
              "      height: 32px;\n",
              "      padding: 0 0 0 0;\n",
              "      width: 32px;\n",
              "    }\n",
              "\n",
              "    .colab-df-convert:hover {\n",
              "      background-color: #E2EBFA;\n",
              "      box-shadow: 0px 1px 2px rgba(60, 64, 67, 0.3), 0px 1px 3px 1px rgba(60, 64, 67, 0.15);\n",
              "      fill: #174EA6;\n",
              "    }\n",
              "\n",
              "    [theme=dark] .colab-df-convert {\n",
              "      background-color: #3B4455;\n",
              "      fill: #D2E3FC;\n",
              "    }\n",
              "\n",
              "    [theme=dark] .colab-df-convert:hover {\n",
              "      background-color: #434B5C;\n",
              "      box-shadow: 0px 1px 3px 1px rgba(0, 0, 0, 0.15);\n",
              "      filter: drop-shadow(0px 1px 2px rgba(0, 0, 0, 0.3));\n",
              "      fill: #FFFFFF;\n",
              "    }\n",
              "  </style>\n",
              "\n",
              "      <script>\n",
              "        const buttonEl =\n",
              "          document.querySelector('#df-df306ea1-5c09-43f4-bf1d-dae8f12d501c button.colab-df-convert');\n",
              "        buttonEl.style.display =\n",
              "          google.colab.kernel.accessAllowed ? 'block' : 'none';\n",
              "\n",
              "        async function convertToInteractive(key) {\n",
              "          const element = document.querySelector('#df-df306ea1-5c09-43f4-bf1d-dae8f12d501c');\n",
              "          const dataTable =\n",
              "            await google.colab.kernel.invokeFunction('convertToInteractive',\n",
              "                                                     [key], {});\n",
              "          if (!dataTable) return;\n",
              "\n",
              "          const docLinkHtml = 'Like what you see? Visit the ' +\n",
              "            '<a target=\"_blank\" href=https://colab.research.google.com/notebooks/data_table.ipynb>data table notebook</a>'\n",
              "            + ' to learn more about interactive tables.';\n",
              "          element.innerHTML = '';\n",
              "          dataTable['output_type'] = 'display_data';\n",
              "          await google.colab.output.renderOutput(dataTable, element);\n",
              "          const docLink = document.createElement('div');\n",
              "          docLink.innerHTML = docLinkHtml;\n",
              "          element.appendChild(docLink);\n",
              "        }\n",
              "      </script>\n",
              "    </div>\n",
              "  </div>\n",
              "  "
            ]
          },
          "metadata": {},
          "execution_count": 6
        }
      ]
    },
    {
      "cell_type": "markdown",
      "id": "35db4eb7-0a2b-4af3-9736-e2379a49eba2",
      "metadata": {
        "id": "35db4eb7-0a2b-4af3-9736-e2379a49eba2"
      },
      "source": [
        "## ***Usando Altair***"
      ]
    },
    {
      "cell_type": "markdown",
      "source": [
        "### **Lineal**\n"
      ],
      "metadata": {
        "id": "zQOG-lb8rCGx"
      },
      "id": "zQOG-lb8rCGx"
    },
    {
      "cell_type": "code",
      "execution_count": 7,
      "id": "d30dd674-1542-49d8-96df-9dd807d87015",
      "metadata": {
        "colab": {
          "base_uri": "https://localhost:8080/",
          "height": 481
        },
        "id": "d30dd674-1542-49d8-96df-9dd807d87015",
        "outputId": "3b09ee7f-c039-4879-e3e2-c728070d95fb"
      },
      "outputs": [
        {
          "output_type": "execute_result",
          "data": {
            "text/html": [
              "\n",
              "<div id=\"altair-viz-4da1510ce804469a802f41ced10ee0f9\"></div>\n",
              "<script type=\"text/javascript\">\n",
              "  var VEGA_DEBUG = (typeof VEGA_DEBUG == \"undefined\") ? {} : VEGA_DEBUG;\n",
              "  (function(spec, embedOpt){\n",
              "    let outputDiv = document.currentScript.previousElementSibling;\n",
              "    if (outputDiv.id !== \"altair-viz-4da1510ce804469a802f41ced10ee0f9\") {\n",
              "      outputDiv = document.getElementById(\"altair-viz-4da1510ce804469a802f41ced10ee0f9\");\n",
              "    }\n",
              "    const paths = {\n",
              "      \"vega\": \"https://cdn.jsdelivr.net/npm//vega@5?noext\",\n",
              "      \"vega-lib\": \"https://cdn.jsdelivr.net/npm//vega-lib?noext\",\n",
              "      \"vega-lite\": \"https://cdn.jsdelivr.net/npm//vega-lite@4.17.0?noext\",\n",
              "      \"vega-embed\": \"https://cdn.jsdelivr.net/npm//vega-embed@6?noext\",\n",
              "    };\n",
              "\n",
              "    function maybeLoadScript(lib, version) {\n",
              "      var key = `${lib.replace(\"-\", \"\")}_version`;\n",
              "      return (VEGA_DEBUG[key] == version) ?\n",
              "        Promise.resolve(paths[lib]) :\n",
              "        new Promise(function(resolve, reject) {\n",
              "          var s = document.createElement('script');\n",
              "          document.getElementsByTagName(\"head\")[0].appendChild(s);\n",
              "          s.async = true;\n",
              "          s.onload = () => {\n",
              "            VEGA_DEBUG[key] = version;\n",
              "            return resolve(paths[lib]);\n",
              "          };\n",
              "          s.onerror = () => reject(`Error loading script: ${paths[lib]}`);\n",
              "          s.src = paths[lib];\n",
              "        });\n",
              "    }\n",
              "\n",
              "    function showError(err) {\n",
              "      outputDiv.innerHTML = `<div class=\"error\" style=\"color:red;\">${err}</div>`;\n",
              "      throw err;\n",
              "    }\n",
              "\n",
              "    function displayChart(vegaEmbed) {\n",
              "      vegaEmbed(outputDiv, spec, embedOpt)\n",
              "        .catch(err => showError(`Javascript Error: ${err.message}<br>This usually means there's a typo in your chart specification. See the javascript console for the full traceback.`));\n",
              "    }\n",
              "\n",
              "    if(typeof define === \"function\" && define.amd) {\n",
              "      requirejs.config({paths});\n",
              "      require([\"vega-embed\"], displayChart, err => showError(`Error loading script: ${err.message}`));\n",
              "    } else {\n",
              "      maybeLoadScript(\"vega\", \"5\")\n",
              "        .then(() => maybeLoadScript(\"vega-lite\", \"4.17.0\"))\n",
              "        .then(() => maybeLoadScript(\"vega-embed\", \"6\"))\n",
              "        .catch(showError)\n",
              "        .then(() => displayChart(vegaEmbed));\n",
              "    }\n",
              "  })({\"config\": {\"view\": {\"continuousWidth\": 400, \"continuousHeight\": 300}}, \"data\": {\"name\": \"data-59eb41346c9ffea3a51976f9211190c8\"}, \"mark\": \"line\", \"encoding\": {\"x\": {\"field\": \"ORGANIZACION\", \"type\": \"nominal\"}, \"y\": {\"field\": \"IMPORTEMONTRANSACCION\", \"type\": \"quantitative\"}}, \"$schema\": \"https://vega.github.io/schema/vega-lite/v4.17.0.json\", \"datasets\": {\"data-59eb41346c9ffea3a51976f9211190c8\": [{\"ORGANIZACION\": \"Algorte S.A.\", \"DOCUMENTO\": 1, \"FECHA\": 1, \"TIPOFACTURA\": 1, \"PRODUCTO\": 1, \"CENTRODECOSTO\": 0, \"CANTIDAD\": 1, \"PRECIO\": 1, \"IMPORTEMONPRINCIPAL\": 1, \"IMPORTEMONTRANSACCION\": 1, \"MONEDA\": 1}, {\"ORGANIZACION\": \"Amazon Group\", \"DOCUMENTO\": 5, \"FECHA\": 5, \"TIPOFACTURA\": 5, \"PRODUCTO\": 5, \"CENTRODECOSTO\": 2, \"CANTIDAD\": 5, \"PRECIO\": 5, \"IMPORTEMONPRINCIPAL\": 5, \"IMPORTEMONTRANSACCION\": 5, \"MONEDA\": 5}, {\"ORGANIZACION\": \"Berker S.R.L\", \"DOCUMENTO\": 4, \"FECHA\": 4, \"TIPOFACTURA\": 4, \"PRODUCTO\": 4, \"CENTRODECOSTO\": 0, \"CANTIDAD\": 4, \"PRECIO\": 4, \"IMPORTEMONPRINCIPAL\": 4, \"IMPORTEMONTRANSACCION\": 4, \"MONEDA\": 4}, {\"ORGANIZACION\": \"Campomas S.A.\", \"DOCUMENTO\": 7, \"FECHA\": 7, \"TIPOFACTURA\": 7, \"PRODUCTO\": 7, \"CENTRODECOSTO\": 1, \"CANTIDAD\": 7, \"PRECIO\": 7, \"IMPORTEMONPRINCIPAL\": 7, \"IMPORTEMONTRANSACCION\": 7, \"MONEDA\": 7}, {\"ORGANIZACION\": \"Consumidor Final\", \"DOCUMENTO\": 1, \"FECHA\": 1, \"TIPOFACTURA\": 1, \"PRODUCTO\": 1, \"CENTRODECOSTO\": 0, \"CANTIDAD\": 1, \"PRECIO\": 1, \"IMPORTEMONPRINCIPAL\": 1, \"IMPORTEMONTRANSACCION\": 1, \"MONEDA\": 1}, {\"ORGANIZACION\": \"Donadelli S.R.L\", \"DOCUMENTO\": 1, \"FECHA\": 1, \"TIPOFACTURA\": 1, \"PRODUCTO\": 1, \"CENTRODECOSTO\": 0, \"CANTIDAD\": 1, \"PRECIO\": 1, \"IMPORTEMONPRINCIPAL\": 1, \"IMPORTEMONTRANSACCION\": 1, \"MONEDA\": 1}, {\"ORGANIZACION\": \"Etigand S.A.\", \"DOCUMENTO\": 2, \"FECHA\": 2, \"TIPOFACTURA\": 2, \"PRODUCTO\": 2, \"CENTRODECOSTO\": 1, \"CANTIDAD\": 2, \"PRECIO\": 2, \"IMPORTEMONPRINCIPAL\": 2, \"IMPORTEMONTRANSACCION\": 2, \"MONEDA\": 2}, {\"ORGANIZACION\": \"Ferrari Hnos S.A.\", \"DOCUMENTO\": 2, \"FECHA\": 2, \"TIPOFACTURA\": 2, \"PRODUCTO\": 2, \"CENTRODECOSTO\": 0, \"CANTIDAD\": 2, \"PRECIO\": 2, \"IMPORTEMONPRINCIPAL\": 2, \"IMPORTEMONTRANSACCION\": 2, \"MONEDA\": 2}, {\"ORGANIZACION\": \"Galardon S.A.\", \"DOCUMENTO\": 2, \"FECHA\": 2, \"TIPOFACTURA\": 2, \"PRODUCTO\": 2, \"CENTRODECOSTO\": 1, \"CANTIDAD\": 2, \"PRECIO\": 2, \"IMPORTEMONPRINCIPAL\": 2, \"IMPORTEMONTRANSACCION\": 2, \"MONEDA\": 2}, {\"ORGANIZACION\": \"Hernandez S.A.\", \"DOCUMENTO\": 7, \"FECHA\": 7, \"TIPOFACTURA\": 7, \"PRODUCTO\": 7, \"CENTRODECOSTO\": 1, \"CANTIDAD\": 7, \"PRECIO\": 7, \"IMPORTEMONPRINCIPAL\": 7, \"IMPORTEMONTRANSACCION\": 7, \"MONEDA\": 7}, {\"ORGANIZACION\": \"Horacio Aguirre\", \"DOCUMENTO\": 1, \"FECHA\": 1, \"TIPOFACTURA\": 1, \"PRODUCTO\": 1, \"CENTRODECOSTO\": 1, \"CANTIDAD\": 1, \"PRECIO\": 1, \"IMPORTEMONPRINCIPAL\": 1, \"IMPORTEMONTRANSACCION\": 1, \"MONEDA\": 1}, {\"ORGANIZACION\": \"Horizonte S.A.\", \"DOCUMENTO\": 5, \"FECHA\": 5, \"TIPOFACTURA\": 5, \"PRODUCTO\": 5, \"CENTRODECOSTO\": 3, \"CANTIDAD\": 5, \"PRECIO\": 5, \"IMPORTEMONPRINCIPAL\": 5, \"IMPORTEMONTRANSACCION\": 5, \"MONEDA\": 5}, {\"ORGANIZACION\": \"Ignition S.A.C.I\", \"DOCUMENTO\": 2, \"FECHA\": 2, \"TIPOFACTURA\": 2, \"PRODUCTO\": 2, \"CENTRODECOSTO\": 1, \"CANTIDAD\": 2, \"PRECIO\": 2, \"IMPORTEMONPRINCIPAL\": 2, \"IMPORTEMONTRANSACCION\": 2, \"MONEDA\": 2}, {\"ORGANIZACION\": \"Jameson SRL\", \"DOCUMENTO\": 4, \"FECHA\": 4, \"TIPOFACTURA\": 4, \"PRODUCTO\": 4, \"CENTRODECOSTO\": 0, \"CANTIDAD\": 4, \"PRECIO\": 4, \"IMPORTEMONPRINCIPAL\": 4, \"IMPORTEMONTRANSACCION\": 4, \"MONEDA\": 4}, {\"ORGANIZACION\": \"Javier Moroni\", \"DOCUMENTO\": 6, \"FECHA\": 6, \"TIPOFACTURA\": 6, \"PRODUCTO\": 6, \"CENTRODECOSTO\": 1, \"CANTIDAD\": 6, \"PRECIO\": 6, \"IMPORTEMONPRINCIPAL\": 6, \"IMPORTEMONTRANSACCION\": 6, \"MONEDA\": 6}, {\"ORGANIZACION\": \"Juan Fern\\u00e1ndez\", \"DOCUMENTO\": 4, \"FECHA\": 4, \"TIPOFACTURA\": 4, \"PRODUCTO\": 4, \"CENTRODECOSTO\": 1, \"CANTIDAD\": 4, \"PRECIO\": 4, \"IMPORTEMONPRINCIPAL\": 4, \"IMPORTEMONTRANSACCION\": 4, \"MONEDA\": 4}, {\"ORGANIZACION\": \"Juan Lopez\", \"DOCUMENTO\": 2, \"FECHA\": 2, \"TIPOFACTURA\": 2, \"PRODUCTO\": 2, \"CENTRODECOSTO\": 0, \"CANTIDAD\": 2, \"PRECIO\": 2, \"IMPORTEMONPRINCIPAL\": 2, \"IMPORTEMONTRANSACCION\": 2, \"MONEDA\": 2}, {\"ORGANIZACION\": \"Klarkson\", \"DOCUMENTO\": 4, \"FECHA\": 4, \"TIPOFACTURA\": 4, \"PRODUCTO\": 4, \"CENTRODECOSTO\": 1, \"CANTIDAD\": 4, \"PRECIO\": 4, \"IMPORTEMONPRINCIPAL\": 4, \"IMPORTEMONTRANSACCION\": 4, \"MONEDA\": 4}, {\"ORGANIZACION\": \"Manganello S.R.L\", \"DOCUMENTO\": 9, \"FECHA\": 9, \"TIPOFACTURA\": 9, \"PRODUCTO\": 9, \"CENTRODECOSTO\": 3, \"CANTIDAD\": 9, \"PRECIO\": 9, \"IMPORTEMONPRINCIPAL\": 9, \"IMPORTEMONTRANSACCION\": 9, \"MONEDA\": 9}, {\"ORGANIZACION\": \"Nicolasen y Asociados S.A.\", \"DOCUMENTO\": 8, \"FECHA\": 8, \"TIPOFACTURA\": 8, \"PRODUCTO\": 8, \"CENTRODECOSTO\": 2, \"CANTIDAD\": 8, \"PRECIO\": 8, \"IMPORTEMONPRINCIPAL\": 8, \"IMPORTEMONTRANSACCION\": 8, \"MONEDA\": 8}, {\"ORGANIZACION\": \"Valeria Welponer\", \"DOCUMENTO\": 1, \"FECHA\": 1, \"TIPOFACTURA\": 1, \"PRODUCTO\": 1, \"CENTRODECOSTO\": 0, \"CANTIDAD\": 1, \"PRECIO\": 1, \"IMPORTEMONPRINCIPAL\": 1, \"IMPORTEMONTRANSACCION\": 1, \"MONEDA\": 1}]}}, {\"mode\": \"vega-lite\"});\n",
              "</script>"
            ],
            "text/plain": [
              "alt.Chart(...)"
            ]
          },
          "metadata": {},
          "execution_count": 7
        }
      ],
      "source": [
        "alt.Chart(agrupacion_clientes).mark_line().encode(\n",
        "  x=\"ORGANIZACION\",\n",
        "  y=\"IMPORTEMONTRANSACCION\")"
      ]
    },
    {
      "cell_type": "code",
      "source": [
        "alt.Chart(agrupacion_clientes).mark_line().encode(\n",
        "  x=\"ORGANIZACION\",\n",
        "  y=\"IMPORTEMONTRANSACCION\",).interactive()"
      ],
      "metadata": {
        "colab": {
          "base_uri": "https://localhost:8080/",
          "height": 481
        },
        "id": "1I7_mdJlgL76",
        "outputId": "96b6ad70-fa0d-47d6-fb88-5ac89b71868d"
      },
      "id": "1I7_mdJlgL76",
      "execution_count": 8,
      "outputs": [
        {
          "output_type": "execute_result",
          "data": {
            "text/html": [
              "\n",
              "<div id=\"altair-viz-1f521ef07a124124af414e734e89c276\"></div>\n",
              "<script type=\"text/javascript\">\n",
              "  var VEGA_DEBUG = (typeof VEGA_DEBUG == \"undefined\") ? {} : VEGA_DEBUG;\n",
              "  (function(spec, embedOpt){\n",
              "    let outputDiv = document.currentScript.previousElementSibling;\n",
              "    if (outputDiv.id !== \"altair-viz-1f521ef07a124124af414e734e89c276\") {\n",
              "      outputDiv = document.getElementById(\"altair-viz-1f521ef07a124124af414e734e89c276\");\n",
              "    }\n",
              "    const paths = {\n",
              "      \"vega\": \"https://cdn.jsdelivr.net/npm//vega@5?noext\",\n",
              "      \"vega-lib\": \"https://cdn.jsdelivr.net/npm//vega-lib?noext\",\n",
              "      \"vega-lite\": \"https://cdn.jsdelivr.net/npm//vega-lite@4.17.0?noext\",\n",
              "      \"vega-embed\": \"https://cdn.jsdelivr.net/npm//vega-embed@6?noext\",\n",
              "    };\n",
              "\n",
              "    function maybeLoadScript(lib, version) {\n",
              "      var key = `${lib.replace(\"-\", \"\")}_version`;\n",
              "      return (VEGA_DEBUG[key] == version) ?\n",
              "        Promise.resolve(paths[lib]) :\n",
              "        new Promise(function(resolve, reject) {\n",
              "          var s = document.createElement('script');\n",
              "          document.getElementsByTagName(\"head\")[0].appendChild(s);\n",
              "          s.async = true;\n",
              "          s.onload = () => {\n",
              "            VEGA_DEBUG[key] = version;\n",
              "            return resolve(paths[lib]);\n",
              "          };\n",
              "          s.onerror = () => reject(`Error loading script: ${paths[lib]}`);\n",
              "          s.src = paths[lib];\n",
              "        });\n",
              "    }\n",
              "\n",
              "    function showError(err) {\n",
              "      outputDiv.innerHTML = `<div class=\"error\" style=\"color:red;\">${err}</div>`;\n",
              "      throw err;\n",
              "    }\n",
              "\n",
              "    function displayChart(vegaEmbed) {\n",
              "      vegaEmbed(outputDiv, spec, embedOpt)\n",
              "        .catch(err => showError(`Javascript Error: ${err.message}<br>This usually means there's a typo in your chart specification. See the javascript console for the full traceback.`));\n",
              "    }\n",
              "\n",
              "    if(typeof define === \"function\" && define.amd) {\n",
              "      requirejs.config({paths});\n",
              "      require([\"vega-embed\"], displayChart, err => showError(`Error loading script: ${err.message}`));\n",
              "    } else {\n",
              "      maybeLoadScript(\"vega\", \"5\")\n",
              "        .then(() => maybeLoadScript(\"vega-lite\", \"4.17.0\"))\n",
              "        .then(() => maybeLoadScript(\"vega-embed\", \"6\"))\n",
              "        .catch(showError)\n",
              "        .then(() => displayChart(vegaEmbed));\n",
              "    }\n",
              "  })({\"config\": {\"view\": {\"continuousWidth\": 400, \"continuousHeight\": 300}}, \"data\": {\"name\": \"data-59eb41346c9ffea3a51976f9211190c8\"}, \"mark\": \"line\", \"encoding\": {\"x\": {\"field\": \"ORGANIZACION\", \"type\": \"nominal\"}, \"y\": {\"field\": \"IMPORTEMONTRANSACCION\", \"type\": \"quantitative\"}}, \"selection\": {\"selector001\": {\"type\": \"interval\", \"bind\": \"scales\", \"encodings\": [\"x\", \"y\"]}}, \"$schema\": \"https://vega.github.io/schema/vega-lite/v4.17.0.json\", \"datasets\": {\"data-59eb41346c9ffea3a51976f9211190c8\": [{\"ORGANIZACION\": \"Algorte S.A.\", \"DOCUMENTO\": 1, \"FECHA\": 1, \"TIPOFACTURA\": 1, \"PRODUCTO\": 1, \"CENTRODECOSTO\": 0, \"CANTIDAD\": 1, \"PRECIO\": 1, \"IMPORTEMONPRINCIPAL\": 1, \"IMPORTEMONTRANSACCION\": 1, \"MONEDA\": 1}, {\"ORGANIZACION\": \"Amazon Group\", \"DOCUMENTO\": 5, \"FECHA\": 5, \"TIPOFACTURA\": 5, \"PRODUCTO\": 5, \"CENTRODECOSTO\": 2, \"CANTIDAD\": 5, \"PRECIO\": 5, \"IMPORTEMONPRINCIPAL\": 5, \"IMPORTEMONTRANSACCION\": 5, \"MONEDA\": 5}, {\"ORGANIZACION\": \"Berker S.R.L\", \"DOCUMENTO\": 4, \"FECHA\": 4, \"TIPOFACTURA\": 4, \"PRODUCTO\": 4, \"CENTRODECOSTO\": 0, \"CANTIDAD\": 4, \"PRECIO\": 4, \"IMPORTEMONPRINCIPAL\": 4, \"IMPORTEMONTRANSACCION\": 4, \"MONEDA\": 4}, {\"ORGANIZACION\": \"Campomas S.A.\", \"DOCUMENTO\": 7, \"FECHA\": 7, \"TIPOFACTURA\": 7, \"PRODUCTO\": 7, \"CENTRODECOSTO\": 1, \"CANTIDAD\": 7, \"PRECIO\": 7, \"IMPORTEMONPRINCIPAL\": 7, \"IMPORTEMONTRANSACCION\": 7, \"MONEDA\": 7}, {\"ORGANIZACION\": \"Consumidor Final\", \"DOCUMENTO\": 1, \"FECHA\": 1, \"TIPOFACTURA\": 1, \"PRODUCTO\": 1, \"CENTRODECOSTO\": 0, \"CANTIDAD\": 1, \"PRECIO\": 1, \"IMPORTEMONPRINCIPAL\": 1, \"IMPORTEMONTRANSACCION\": 1, \"MONEDA\": 1}, {\"ORGANIZACION\": \"Donadelli S.R.L\", \"DOCUMENTO\": 1, \"FECHA\": 1, \"TIPOFACTURA\": 1, \"PRODUCTO\": 1, \"CENTRODECOSTO\": 0, \"CANTIDAD\": 1, \"PRECIO\": 1, \"IMPORTEMONPRINCIPAL\": 1, \"IMPORTEMONTRANSACCION\": 1, \"MONEDA\": 1}, {\"ORGANIZACION\": \"Etigand S.A.\", \"DOCUMENTO\": 2, \"FECHA\": 2, \"TIPOFACTURA\": 2, \"PRODUCTO\": 2, \"CENTRODECOSTO\": 1, \"CANTIDAD\": 2, \"PRECIO\": 2, \"IMPORTEMONPRINCIPAL\": 2, \"IMPORTEMONTRANSACCION\": 2, \"MONEDA\": 2}, {\"ORGANIZACION\": \"Ferrari Hnos S.A.\", \"DOCUMENTO\": 2, \"FECHA\": 2, \"TIPOFACTURA\": 2, \"PRODUCTO\": 2, \"CENTRODECOSTO\": 0, \"CANTIDAD\": 2, \"PRECIO\": 2, \"IMPORTEMONPRINCIPAL\": 2, \"IMPORTEMONTRANSACCION\": 2, \"MONEDA\": 2}, {\"ORGANIZACION\": \"Galardon S.A.\", \"DOCUMENTO\": 2, \"FECHA\": 2, \"TIPOFACTURA\": 2, \"PRODUCTO\": 2, \"CENTRODECOSTO\": 1, \"CANTIDAD\": 2, \"PRECIO\": 2, \"IMPORTEMONPRINCIPAL\": 2, \"IMPORTEMONTRANSACCION\": 2, \"MONEDA\": 2}, {\"ORGANIZACION\": \"Hernandez S.A.\", \"DOCUMENTO\": 7, \"FECHA\": 7, \"TIPOFACTURA\": 7, \"PRODUCTO\": 7, \"CENTRODECOSTO\": 1, \"CANTIDAD\": 7, \"PRECIO\": 7, \"IMPORTEMONPRINCIPAL\": 7, \"IMPORTEMONTRANSACCION\": 7, \"MONEDA\": 7}, {\"ORGANIZACION\": \"Horacio Aguirre\", \"DOCUMENTO\": 1, \"FECHA\": 1, \"TIPOFACTURA\": 1, \"PRODUCTO\": 1, \"CENTRODECOSTO\": 1, \"CANTIDAD\": 1, \"PRECIO\": 1, \"IMPORTEMONPRINCIPAL\": 1, \"IMPORTEMONTRANSACCION\": 1, \"MONEDA\": 1}, {\"ORGANIZACION\": \"Horizonte S.A.\", \"DOCUMENTO\": 5, \"FECHA\": 5, \"TIPOFACTURA\": 5, \"PRODUCTO\": 5, \"CENTRODECOSTO\": 3, \"CANTIDAD\": 5, \"PRECIO\": 5, \"IMPORTEMONPRINCIPAL\": 5, \"IMPORTEMONTRANSACCION\": 5, \"MONEDA\": 5}, {\"ORGANIZACION\": \"Ignition S.A.C.I\", \"DOCUMENTO\": 2, \"FECHA\": 2, \"TIPOFACTURA\": 2, \"PRODUCTO\": 2, \"CENTRODECOSTO\": 1, \"CANTIDAD\": 2, \"PRECIO\": 2, \"IMPORTEMONPRINCIPAL\": 2, \"IMPORTEMONTRANSACCION\": 2, \"MONEDA\": 2}, {\"ORGANIZACION\": \"Jameson SRL\", \"DOCUMENTO\": 4, \"FECHA\": 4, \"TIPOFACTURA\": 4, \"PRODUCTO\": 4, \"CENTRODECOSTO\": 0, \"CANTIDAD\": 4, \"PRECIO\": 4, \"IMPORTEMONPRINCIPAL\": 4, \"IMPORTEMONTRANSACCION\": 4, \"MONEDA\": 4}, {\"ORGANIZACION\": \"Javier Moroni\", \"DOCUMENTO\": 6, \"FECHA\": 6, \"TIPOFACTURA\": 6, \"PRODUCTO\": 6, \"CENTRODECOSTO\": 1, \"CANTIDAD\": 6, \"PRECIO\": 6, \"IMPORTEMONPRINCIPAL\": 6, \"IMPORTEMONTRANSACCION\": 6, \"MONEDA\": 6}, {\"ORGANIZACION\": \"Juan Fern\\u00e1ndez\", \"DOCUMENTO\": 4, \"FECHA\": 4, \"TIPOFACTURA\": 4, \"PRODUCTO\": 4, \"CENTRODECOSTO\": 1, \"CANTIDAD\": 4, \"PRECIO\": 4, \"IMPORTEMONPRINCIPAL\": 4, \"IMPORTEMONTRANSACCION\": 4, \"MONEDA\": 4}, {\"ORGANIZACION\": \"Juan Lopez\", \"DOCUMENTO\": 2, \"FECHA\": 2, \"TIPOFACTURA\": 2, \"PRODUCTO\": 2, \"CENTRODECOSTO\": 0, \"CANTIDAD\": 2, \"PRECIO\": 2, \"IMPORTEMONPRINCIPAL\": 2, \"IMPORTEMONTRANSACCION\": 2, \"MONEDA\": 2}, {\"ORGANIZACION\": \"Klarkson\", \"DOCUMENTO\": 4, \"FECHA\": 4, \"TIPOFACTURA\": 4, \"PRODUCTO\": 4, \"CENTRODECOSTO\": 1, \"CANTIDAD\": 4, \"PRECIO\": 4, \"IMPORTEMONPRINCIPAL\": 4, \"IMPORTEMONTRANSACCION\": 4, \"MONEDA\": 4}, {\"ORGANIZACION\": \"Manganello S.R.L\", \"DOCUMENTO\": 9, \"FECHA\": 9, \"TIPOFACTURA\": 9, \"PRODUCTO\": 9, \"CENTRODECOSTO\": 3, \"CANTIDAD\": 9, \"PRECIO\": 9, \"IMPORTEMONPRINCIPAL\": 9, \"IMPORTEMONTRANSACCION\": 9, \"MONEDA\": 9}, {\"ORGANIZACION\": \"Nicolasen y Asociados S.A.\", \"DOCUMENTO\": 8, \"FECHA\": 8, \"TIPOFACTURA\": 8, \"PRODUCTO\": 8, \"CENTRODECOSTO\": 2, \"CANTIDAD\": 8, \"PRECIO\": 8, \"IMPORTEMONPRINCIPAL\": 8, \"IMPORTEMONTRANSACCION\": 8, \"MONEDA\": 8}, {\"ORGANIZACION\": \"Valeria Welponer\", \"DOCUMENTO\": 1, \"FECHA\": 1, \"TIPOFACTURA\": 1, \"PRODUCTO\": 1, \"CENTRODECOSTO\": 0, \"CANTIDAD\": 1, \"PRECIO\": 1, \"IMPORTEMONPRINCIPAL\": 1, \"IMPORTEMONTRANSACCION\": 1, \"MONEDA\": 1}]}}, {\"mode\": \"vega-lite\"});\n",
              "</script>"
            ],
            "text/plain": [
              "alt.Chart(...)"
            ]
          },
          "metadata": {},
          "execution_count": 8
        }
      ]
    },
    {
      "cell_type": "markdown",
      "source": [
        "### **Barras**\n"
      ],
      "metadata": {
        "id": "KH_-lL8qjy_N"
      },
      "id": "KH_-lL8qjy_N"
    },
    {
      "cell_type": "code",
      "source": [
        "alt.Chart(agrupacion_clientes).mark_bar().encode(\n",
        "  x=\"ORGANIZACION\",\n",
        "  y=\"IMPORTEMONTRANSACCION\",).interactive()"
      ],
      "metadata": {
        "colab": {
          "base_uri": "https://localhost:8080/",
          "height": 481
        },
        "id": "uOsV3L5Vj09D",
        "outputId": "5d3f1a1c-debb-4ec7-e3d6-a227277c623e"
      },
      "id": "uOsV3L5Vj09D",
      "execution_count": 9,
      "outputs": [
        {
          "output_type": "execute_result",
          "data": {
            "text/html": [
              "\n",
              "<div id=\"altair-viz-900c4b5a98ef44fa89b3fcf34b1aadcb\"></div>\n",
              "<script type=\"text/javascript\">\n",
              "  var VEGA_DEBUG = (typeof VEGA_DEBUG == \"undefined\") ? {} : VEGA_DEBUG;\n",
              "  (function(spec, embedOpt){\n",
              "    let outputDiv = document.currentScript.previousElementSibling;\n",
              "    if (outputDiv.id !== \"altair-viz-900c4b5a98ef44fa89b3fcf34b1aadcb\") {\n",
              "      outputDiv = document.getElementById(\"altair-viz-900c4b5a98ef44fa89b3fcf34b1aadcb\");\n",
              "    }\n",
              "    const paths = {\n",
              "      \"vega\": \"https://cdn.jsdelivr.net/npm//vega@5?noext\",\n",
              "      \"vega-lib\": \"https://cdn.jsdelivr.net/npm//vega-lib?noext\",\n",
              "      \"vega-lite\": \"https://cdn.jsdelivr.net/npm//vega-lite@4.17.0?noext\",\n",
              "      \"vega-embed\": \"https://cdn.jsdelivr.net/npm//vega-embed@6?noext\",\n",
              "    };\n",
              "\n",
              "    function maybeLoadScript(lib, version) {\n",
              "      var key = `${lib.replace(\"-\", \"\")}_version`;\n",
              "      return (VEGA_DEBUG[key] == version) ?\n",
              "        Promise.resolve(paths[lib]) :\n",
              "        new Promise(function(resolve, reject) {\n",
              "          var s = document.createElement('script');\n",
              "          document.getElementsByTagName(\"head\")[0].appendChild(s);\n",
              "          s.async = true;\n",
              "          s.onload = () => {\n",
              "            VEGA_DEBUG[key] = version;\n",
              "            return resolve(paths[lib]);\n",
              "          };\n",
              "          s.onerror = () => reject(`Error loading script: ${paths[lib]}`);\n",
              "          s.src = paths[lib];\n",
              "        });\n",
              "    }\n",
              "\n",
              "    function showError(err) {\n",
              "      outputDiv.innerHTML = `<div class=\"error\" style=\"color:red;\">${err}</div>`;\n",
              "      throw err;\n",
              "    }\n",
              "\n",
              "    function displayChart(vegaEmbed) {\n",
              "      vegaEmbed(outputDiv, spec, embedOpt)\n",
              "        .catch(err => showError(`Javascript Error: ${err.message}<br>This usually means there's a typo in your chart specification. See the javascript console for the full traceback.`));\n",
              "    }\n",
              "\n",
              "    if(typeof define === \"function\" && define.amd) {\n",
              "      requirejs.config({paths});\n",
              "      require([\"vega-embed\"], displayChart, err => showError(`Error loading script: ${err.message}`));\n",
              "    } else {\n",
              "      maybeLoadScript(\"vega\", \"5\")\n",
              "        .then(() => maybeLoadScript(\"vega-lite\", \"4.17.0\"))\n",
              "        .then(() => maybeLoadScript(\"vega-embed\", \"6\"))\n",
              "        .catch(showError)\n",
              "        .then(() => displayChart(vegaEmbed));\n",
              "    }\n",
              "  })({\"config\": {\"view\": {\"continuousWidth\": 400, \"continuousHeight\": 300}}, \"data\": {\"name\": \"data-59eb41346c9ffea3a51976f9211190c8\"}, \"mark\": \"bar\", \"encoding\": {\"x\": {\"field\": \"ORGANIZACION\", \"type\": \"nominal\"}, \"y\": {\"field\": \"IMPORTEMONTRANSACCION\", \"type\": \"quantitative\"}}, \"selection\": {\"selector002\": {\"type\": \"interval\", \"bind\": \"scales\", \"encodings\": [\"x\", \"y\"]}}, \"$schema\": \"https://vega.github.io/schema/vega-lite/v4.17.0.json\", \"datasets\": {\"data-59eb41346c9ffea3a51976f9211190c8\": [{\"ORGANIZACION\": \"Algorte S.A.\", \"DOCUMENTO\": 1, \"FECHA\": 1, \"TIPOFACTURA\": 1, \"PRODUCTO\": 1, \"CENTRODECOSTO\": 0, \"CANTIDAD\": 1, \"PRECIO\": 1, \"IMPORTEMONPRINCIPAL\": 1, \"IMPORTEMONTRANSACCION\": 1, \"MONEDA\": 1}, {\"ORGANIZACION\": \"Amazon Group\", \"DOCUMENTO\": 5, \"FECHA\": 5, \"TIPOFACTURA\": 5, \"PRODUCTO\": 5, \"CENTRODECOSTO\": 2, \"CANTIDAD\": 5, \"PRECIO\": 5, \"IMPORTEMONPRINCIPAL\": 5, \"IMPORTEMONTRANSACCION\": 5, \"MONEDA\": 5}, {\"ORGANIZACION\": \"Berker S.R.L\", \"DOCUMENTO\": 4, \"FECHA\": 4, \"TIPOFACTURA\": 4, \"PRODUCTO\": 4, \"CENTRODECOSTO\": 0, \"CANTIDAD\": 4, \"PRECIO\": 4, \"IMPORTEMONPRINCIPAL\": 4, \"IMPORTEMONTRANSACCION\": 4, \"MONEDA\": 4}, {\"ORGANIZACION\": \"Campomas S.A.\", \"DOCUMENTO\": 7, \"FECHA\": 7, \"TIPOFACTURA\": 7, \"PRODUCTO\": 7, \"CENTRODECOSTO\": 1, \"CANTIDAD\": 7, \"PRECIO\": 7, \"IMPORTEMONPRINCIPAL\": 7, \"IMPORTEMONTRANSACCION\": 7, \"MONEDA\": 7}, {\"ORGANIZACION\": \"Consumidor Final\", \"DOCUMENTO\": 1, \"FECHA\": 1, \"TIPOFACTURA\": 1, \"PRODUCTO\": 1, \"CENTRODECOSTO\": 0, \"CANTIDAD\": 1, \"PRECIO\": 1, \"IMPORTEMONPRINCIPAL\": 1, \"IMPORTEMONTRANSACCION\": 1, \"MONEDA\": 1}, {\"ORGANIZACION\": \"Donadelli S.R.L\", \"DOCUMENTO\": 1, \"FECHA\": 1, \"TIPOFACTURA\": 1, \"PRODUCTO\": 1, \"CENTRODECOSTO\": 0, \"CANTIDAD\": 1, \"PRECIO\": 1, \"IMPORTEMONPRINCIPAL\": 1, \"IMPORTEMONTRANSACCION\": 1, \"MONEDA\": 1}, {\"ORGANIZACION\": \"Etigand S.A.\", \"DOCUMENTO\": 2, \"FECHA\": 2, \"TIPOFACTURA\": 2, \"PRODUCTO\": 2, \"CENTRODECOSTO\": 1, \"CANTIDAD\": 2, \"PRECIO\": 2, \"IMPORTEMONPRINCIPAL\": 2, \"IMPORTEMONTRANSACCION\": 2, \"MONEDA\": 2}, {\"ORGANIZACION\": \"Ferrari Hnos S.A.\", \"DOCUMENTO\": 2, \"FECHA\": 2, \"TIPOFACTURA\": 2, \"PRODUCTO\": 2, \"CENTRODECOSTO\": 0, \"CANTIDAD\": 2, \"PRECIO\": 2, \"IMPORTEMONPRINCIPAL\": 2, \"IMPORTEMONTRANSACCION\": 2, \"MONEDA\": 2}, {\"ORGANIZACION\": \"Galardon S.A.\", \"DOCUMENTO\": 2, \"FECHA\": 2, \"TIPOFACTURA\": 2, \"PRODUCTO\": 2, \"CENTRODECOSTO\": 1, \"CANTIDAD\": 2, \"PRECIO\": 2, \"IMPORTEMONPRINCIPAL\": 2, \"IMPORTEMONTRANSACCION\": 2, \"MONEDA\": 2}, {\"ORGANIZACION\": \"Hernandez S.A.\", \"DOCUMENTO\": 7, \"FECHA\": 7, \"TIPOFACTURA\": 7, \"PRODUCTO\": 7, \"CENTRODECOSTO\": 1, \"CANTIDAD\": 7, \"PRECIO\": 7, \"IMPORTEMONPRINCIPAL\": 7, \"IMPORTEMONTRANSACCION\": 7, \"MONEDA\": 7}, {\"ORGANIZACION\": \"Horacio Aguirre\", \"DOCUMENTO\": 1, \"FECHA\": 1, \"TIPOFACTURA\": 1, \"PRODUCTO\": 1, \"CENTRODECOSTO\": 1, \"CANTIDAD\": 1, \"PRECIO\": 1, \"IMPORTEMONPRINCIPAL\": 1, \"IMPORTEMONTRANSACCION\": 1, \"MONEDA\": 1}, {\"ORGANIZACION\": \"Horizonte S.A.\", \"DOCUMENTO\": 5, \"FECHA\": 5, \"TIPOFACTURA\": 5, \"PRODUCTO\": 5, \"CENTRODECOSTO\": 3, \"CANTIDAD\": 5, \"PRECIO\": 5, \"IMPORTEMONPRINCIPAL\": 5, \"IMPORTEMONTRANSACCION\": 5, \"MONEDA\": 5}, {\"ORGANIZACION\": \"Ignition S.A.C.I\", \"DOCUMENTO\": 2, \"FECHA\": 2, \"TIPOFACTURA\": 2, \"PRODUCTO\": 2, \"CENTRODECOSTO\": 1, \"CANTIDAD\": 2, \"PRECIO\": 2, \"IMPORTEMONPRINCIPAL\": 2, \"IMPORTEMONTRANSACCION\": 2, \"MONEDA\": 2}, {\"ORGANIZACION\": \"Jameson SRL\", \"DOCUMENTO\": 4, \"FECHA\": 4, \"TIPOFACTURA\": 4, \"PRODUCTO\": 4, \"CENTRODECOSTO\": 0, \"CANTIDAD\": 4, \"PRECIO\": 4, \"IMPORTEMONPRINCIPAL\": 4, \"IMPORTEMONTRANSACCION\": 4, \"MONEDA\": 4}, {\"ORGANIZACION\": \"Javier Moroni\", \"DOCUMENTO\": 6, \"FECHA\": 6, \"TIPOFACTURA\": 6, \"PRODUCTO\": 6, \"CENTRODECOSTO\": 1, \"CANTIDAD\": 6, \"PRECIO\": 6, \"IMPORTEMONPRINCIPAL\": 6, \"IMPORTEMONTRANSACCION\": 6, \"MONEDA\": 6}, {\"ORGANIZACION\": \"Juan Fern\\u00e1ndez\", \"DOCUMENTO\": 4, \"FECHA\": 4, \"TIPOFACTURA\": 4, \"PRODUCTO\": 4, \"CENTRODECOSTO\": 1, \"CANTIDAD\": 4, \"PRECIO\": 4, \"IMPORTEMONPRINCIPAL\": 4, \"IMPORTEMONTRANSACCION\": 4, \"MONEDA\": 4}, {\"ORGANIZACION\": \"Juan Lopez\", \"DOCUMENTO\": 2, \"FECHA\": 2, \"TIPOFACTURA\": 2, \"PRODUCTO\": 2, \"CENTRODECOSTO\": 0, \"CANTIDAD\": 2, \"PRECIO\": 2, \"IMPORTEMONPRINCIPAL\": 2, \"IMPORTEMONTRANSACCION\": 2, \"MONEDA\": 2}, {\"ORGANIZACION\": \"Klarkson\", \"DOCUMENTO\": 4, \"FECHA\": 4, \"TIPOFACTURA\": 4, \"PRODUCTO\": 4, \"CENTRODECOSTO\": 1, \"CANTIDAD\": 4, \"PRECIO\": 4, \"IMPORTEMONPRINCIPAL\": 4, \"IMPORTEMONTRANSACCION\": 4, \"MONEDA\": 4}, {\"ORGANIZACION\": \"Manganello S.R.L\", \"DOCUMENTO\": 9, \"FECHA\": 9, \"TIPOFACTURA\": 9, \"PRODUCTO\": 9, \"CENTRODECOSTO\": 3, \"CANTIDAD\": 9, \"PRECIO\": 9, \"IMPORTEMONPRINCIPAL\": 9, \"IMPORTEMONTRANSACCION\": 9, \"MONEDA\": 9}, {\"ORGANIZACION\": \"Nicolasen y Asociados S.A.\", \"DOCUMENTO\": 8, \"FECHA\": 8, \"TIPOFACTURA\": 8, \"PRODUCTO\": 8, \"CENTRODECOSTO\": 2, \"CANTIDAD\": 8, \"PRECIO\": 8, \"IMPORTEMONPRINCIPAL\": 8, \"IMPORTEMONTRANSACCION\": 8, \"MONEDA\": 8}, {\"ORGANIZACION\": \"Valeria Welponer\", \"DOCUMENTO\": 1, \"FECHA\": 1, \"TIPOFACTURA\": 1, \"PRODUCTO\": 1, \"CENTRODECOSTO\": 0, \"CANTIDAD\": 1, \"PRECIO\": 1, \"IMPORTEMONPRINCIPAL\": 1, \"IMPORTEMONTRANSACCION\": 1, \"MONEDA\": 1}]}}, {\"mode\": \"vega-lite\"});\n",
              "</script>"
            ],
            "text/plain": [
              "alt.Chart(...)"
            ]
          },
          "metadata": {},
          "execution_count": 9
        }
      ]
    },
    {
      "cell_type": "code",
      "source": [
        "alt.Chart(agrupacion_clientes).mark_bar().encode(\n",
        "  x=\"ORGANIZACION\",\n",
        "  y=\"IMPORTEMONTRANSACCION\",\n",
        "  color=\"ORGANIZACION\",).interactive()\n"
      ],
      "metadata": {
        "colab": {
          "base_uri": "https://localhost:8080/",
          "height": 481
        },
        "id": "bzcirUvCkgUc",
        "outputId": "bb11cf4b-8cf0-4b1e-b351-09c651f8d326"
      },
      "id": "bzcirUvCkgUc",
      "execution_count": 10,
      "outputs": [
        {
          "output_type": "execute_result",
          "data": {
            "text/html": [
              "\n",
              "<div id=\"altair-viz-f8f29f171438484fa9c7016966cb03a2\"></div>\n",
              "<script type=\"text/javascript\">\n",
              "  var VEGA_DEBUG = (typeof VEGA_DEBUG == \"undefined\") ? {} : VEGA_DEBUG;\n",
              "  (function(spec, embedOpt){\n",
              "    let outputDiv = document.currentScript.previousElementSibling;\n",
              "    if (outputDiv.id !== \"altair-viz-f8f29f171438484fa9c7016966cb03a2\") {\n",
              "      outputDiv = document.getElementById(\"altair-viz-f8f29f171438484fa9c7016966cb03a2\");\n",
              "    }\n",
              "    const paths = {\n",
              "      \"vega\": \"https://cdn.jsdelivr.net/npm//vega@5?noext\",\n",
              "      \"vega-lib\": \"https://cdn.jsdelivr.net/npm//vega-lib?noext\",\n",
              "      \"vega-lite\": \"https://cdn.jsdelivr.net/npm//vega-lite@4.17.0?noext\",\n",
              "      \"vega-embed\": \"https://cdn.jsdelivr.net/npm//vega-embed@6?noext\",\n",
              "    };\n",
              "\n",
              "    function maybeLoadScript(lib, version) {\n",
              "      var key = `${lib.replace(\"-\", \"\")}_version`;\n",
              "      return (VEGA_DEBUG[key] == version) ?\n",
              "        Promise.resolve(paths[lib]) :\n",
              "        new Promise(function(resolve, reject) {\n",
              "          var s = document.createElement('script');\n",
              "          document.getElementsByTagName(\"head\")[0].appendChild(s);\n",
              "          s.async = true;\n",
              "          s.onload = () => {\n",
              "            VEGA_DEBUG[key] = version;\n",
              "            return resolve(paths[lib]);\n",
              "          };\n",
              "          s.onerror = () => reject(`Error loading script: ${paths[lib]}`);\n",
              "          s.src = paths[lib];\n",
              "        });\n",
              "    }\n",
              "\n",
              "    function showError(err) {\n",
              "      outputDiv.innerHTML = `<div class=\"error\" style=\"color:red;\">${err}</div>`;\n",
              "      throw err;\n",
              "    }\n",
              "\n",
              "    function displayChart(vegaEmbed) {\n",
              "      vegaEmbed(outputDiv, spec, embedOpt)\n",
              "        .catch(err => showError(`Javascript Error: ${err.message}<br>This usually means there's a typo in your chart specification. See the javascript console for the full traceback.`));\n",
              "    }\n",
              "\n",
              "    if(typeof define === \"function\" && define.amd) {\n",
              "      requirejs.config({paths});\n",
              "      require([\"vega-embed\"], displayChart, err => showError(`Error loading script: ${err.message}`));\n",
              "    } else {\n",
              "      maybeLoadScript(\"vega\", \"5\")\n",
              "        .then(() => maybeLoadScript(\"vega-lite\", \"4.17.0\"))\n",
              "        .then(() => maybeLoadScript(\"vega-embed\", \"6\"))\n",
              "        .catch(showError)\n",
              "        .then(() => displayChart(vegaEmbed));\n",
              "    }\n",
              "  })({\"config\": {\"view\": {\"continuousWidth\": 400, \"continuousHeight\": 300}}, \"data\": {\"name\": \"data-59eb41346c9ffea3a51976f9211190c8\"}, \"mark\": \"bar\", \"encoding\": {\"color\": {\"field\": \"ORGANIZACION\", \"type\": \"nominal\"}, \"x\": {\"field\": \"ORGANIZACION\", \"type\": \"nominal\"}, \"y\": {\"field\": \"IMPORTEMONTRANSACCION\", \"type\": \"quantitative\"}}, \"selection\": {\"selector003\": {\"type\": \"interval\", \"bind\": \"scales\", \"encodings\": [\"x\", \"y\"]}}, \"$schema\": \"https://vega.github.io/schema/vega-lite/v4.17.0.json\", \"datasets\": {\"data-59eb41346c9ffea3a51976f9211190c8\": [{\"ORGANIZACION\": \"Algorte S.A.\", \"DOCUMENTO\": 1, \"FECHA\": 1, \"TIPOFACTURA\": 1, \"PRODUCTO\": 1, \"CENTRODECOSTO\": 0, \"CANTIDAD\": 1, \"PRECIO\": 1, \"IMPORTEMONPRINCIPAL\": 1, \"IMPORTEMONTRANSACCION\": 1, \"MONEDA\": 1}, {\"ORGANIZACION\": \"Amazon Group\", \"DOCUMENTO\": 5, \"FECHA\": 5, \"TIPOFACTURA\": 5, \"PRODUCTO\": 5, \"CENTRODECOSTO\": 2, \"CANTIDAD\": 5, \"PRECIO\": 5, \"IMPORTEMONPRINCIPAL\": 5, \"IMPORTEMONTRANSACCION\": 5, \"MONEDA\": 5}, {\"ORGANIZACION\": \"Berker S.R.L\", \"DOCUMENTO\": 4, \"FECHA\": 4, \"TIPOFACTURA\": 4, \"PRODUCTO\": 4, \"CENTRODECOSTO\": 0, \"CANTIDAD\": 4, \"PRECIO\": 4, \"IMPORTEMONPRINCIPAL\": 4, \"IMPORTEMONTRANSACCION\": 4, \"MONEDA\": 4}, {\"ORGANIZACION\": \"Campomas S.A.\", \"DOCUMENTO\": 7, \"FECHA\": 7, \"TIPOFACTURA\": 7, \"PRODUCTO\": 7, \"CENTRODECOSTO\": 1, \"CANTIDAD\": 7, \"PRECIO\": 7, \"IMPORTEMONPRINCIPAL\": 7, \"IMPORTEMONTRANSACCION\": 7, \"MONEDA\": 7}, {\"ORGANIZACION\": \"Consumidor Final\", \"DOCUMENTO\": 1, \"FECHA\": 1, \"TIPOFACTURA\": 1, \"PRODUCTO\": 1, \"CENTRODECOSTO\": 0, \"CANTIDAD\": 1, \"PRECIO\": 1, \"IMPORTEMONPRINCIPAL\": 1, \"IMPORTEMONTRANSACCION\": 1, \"MONEDA\": 1}, {\"ORGANIZACION\": \"Donadelli S.R.L\", \"DOCUMENTO\": 1, \"FECHA\": 1, \"TIPOFACTURA\": 1, \"PRODUCTO\": 1, \"CENTRODECOSTO\": 0, \"CANTIDAD\": 1, \"PRECIO\": 1, \"IMPORTEMONPRINCIPAL\": 1, \"IMPORTEMONTRANSACCION\": 1, \"MONEDA\": 1}, {\"ORGANIZACION\": \"Etigand S.A.\", \"DOCUMENTO\": 2, \"FECHA\": 2, \"TIPOFACTURA\": 2, \"PRODUCTO\": 2, \"CENTRODECOSTO\": 1, \"CANTIDAD\": 2, \"PRECIO\": 2, \"IMPORTEMONPRINCIPAL\": 2, \"IMPORTEMONTRANSACCION\": 2, \"MONEDA\": 2}, {\"ORGANIZACION\": \"Ferrari Hnos S.A.\", \"DOCUMENTO\": 2, \"FECHA\": 2, \"TIPOFACTURA\": 2, \"PRODUCTO\": 2, \"CENTRODECOSTO\": 0, \"CANTIDAD\": 2, \"PRECIO\": 2, \"IMPORTEMONPRINCIPAL\": 2, \"IMPORTEMONTRANSACCION\": 2, \"MONEDA\": 2}, {\"ORGANIZACION\": \"Galardon S.A.\", \"DOCUMENTO\": 2, \"FECHA\": 2, \"TIPOFACTURA\": 2, \"PRODUCTO\": 2, \"CENTRODECOSTO\": 1, \"CANTIDAD\": 2, \"PRECIO\": 2, \"IMPORTEMONPRINCIPAL\": 2, \"IMPORTEMONTRANSACCION\": 2, \"MONEDA\": 2}, {\"ORGANIZACION\": \"Hernandez S.A.\", \"DOCUMENTO\": 7, \"FECHA\": 7, \"TIPOFACTURA\": 7, \"PRODUCTO\": 7, \"CENTRODECOSTO\": 1, \"CANTIDAD\": 7, \"PRECIO\": 7, \"IMPORTEMONPRINCIPAL\": 7, \"IMPORTEMONTRANSACCION\": 7, \"MONEDA\": 7}, {\"ORGANIZACION\": \"Horacio Aguirre\", \"DOCUMENTO\": 1, \"FECHA\": 1, \"TIPOFACTURA\": 1, \"PRODUCTO\": 1, \"CENTRODECOSTO\": 1, \"CANTIDAD\": 1, \"PRECIO\": 1, \"IMPORTEMONPRINCIPAL\": 1, \"IMPORTEMONTRANSACCION\": 1, \"MONEDA\": 1}, {\"ORGANIZACION\": \"Horizonte S.A.\", \"DOCUMENTO\": 5, \"FECHA\": 5, \"TIPOFACTURA\": 5, \"PRODUCTO\": 5, \"CENTRODECOSTO\": 3, \"CANTIDAD\": 5, \"PRECIO\": 5, \"IMPORTEMONPRINCIPAL\": 5, \"IMPORTEMONTRANSACCION\": 5, \"MONEDA\": 5}, {\"ORGANIZACION\": \"Ignition S.A.C.I\", \"DOCUMENTO\": 2, \"FECHA\": 2, \"TIPOFACTURA\": 2, \"PRODUCTO\": 2, \"CENTRODECOSTO\": 1, \"CANTIDAD\": 2, \"PRECIO\": 2, \"IMPORTEMONPRINCIPAL\": 2, \"IMPORTEMONTRANSACCION\": 2, \"MONEDA\": 2}, {\"ORGANIZACION\": \"Jameson SRL\", \"DOCUMENTO\": 4, \"FECHA\": 4, \"TIPOFACTURA\": 4, \"PRODUCTO\": 4, \"CENTRODECOSTO\": 0, \"CANTIDAD\": 4, \"PRECIO\": 4, \"IMPORTEMONPRINCIPAL\": 4, \"IMPORTEMONTRANSACCION\": 4, \"MONEDA\": 4}, {\"ORGANIZACION\": \"Javier Moroni\", \"DOCUMENTO\": 6, \"FECHA\": 6, \"TIPOFACTURA\": 6, \"PRODUCTO\": 6, \"CENTRODECOSTO\": 1, \"CANTIDAD\": 6, \"PRECIO\": 6, \"IMPORTEMONPRINCIPAL\": 6, \"IMPORTEMONTRANSACCION\": 6, \"MONEDA\": 6}, {\"ORGANIZACION\": \"Juan Fern\\u00e1ndez\", \"DOCUMENTO\": 4, \"FECHA\": 4, \"TIPOFACTURA\": 4, \"PRODUCTO\": 4, \"CENTRODECOSTO\": 1, \"CANTIDAD\": 4, \"PRECIO\": 4, \"IMPORTEMONPRINCIPAL\": 4, \"IMPORTEMONTRANSACCION\": 4, \"MONEDA\": 4}, {\"ORGANIZACION\": \"Juan Lopez\", \"DOCUMENTO\": 2, \"FECHA\": 2, \"TIPOFACTURA\": 2, \"PRODUCTO\": 2, \"CENTRODECOSTO\": 0, \"CANTIDAD\": 2, \"PRECIO\": 2, \"IMPORTEMONPRINCIPAL\": 2, \"IMPORTEMONTRANSACCION\": 2, \"MONEDA\": 2}, {\"ORGANIZACION\": \"Klarkson\", \"DOCUMENTO\": 4, \"FECHA\": 4, \"TIPOFACTURA\": 4, \"PRODUCTO\": 4, \"CENTRODECOSTO\": 1, \"CANTIDAD\": 4, \"PRECIO\": 4, \"IMPORTEMONPRINCIPAL\": 4, \"IMPORTEMONTRANSACCION\": 4, \"MONEDA\": 4}, {\"ORGANIZACION\": \"Manganello S.R.L\", \"DOCUMENTO\": 9, \"FECHA\": 9, \"TIPOFACTURA\": 9, \"PRODUCTO\": 9, \"CENTRODECOSTO\": 3, \"CANTIDAD\": 9, \"PRECIO\": 9, \"IMPORTEMONPRINCIPAL\": 9, \"IMPORTEMONTRANSACCION\": 9, \"MONEDA\": 9}, {\"ORGANIZACION\": \"Nicolasen y Asociados S.A.\", \"DOCUMENTO\": 8, \"FECHA\": 8, \"TIPOFACTURA\": 8, \"PRODUCTO\": 8, \"CENTRODECOSTO\": 2, \"CANTIDAD\": 8, \"PRECIO\": 8, \"IMPORTEMONPRINCIPAL\": 8, \"IMPORTEMONTRANSACCION\": 8, \"MONEDA\": 8}, {\"ORGANIZACION\": \"Valeria Welponer\", \"DOCUMENTO\": 1, \"FECHA\": 1, \"TIPOFACTURA\": 1, \"PRODUCTO\": 1, \"CENTRODECOSTO\": 0, \"CANTIDAD\": 1, \"PRECIO\": 1, \"IMPORTEMONPRINCIPAL\": 1, \"IMPORTEMONTRANSACCION\": 1, \"MONEDA\": 1}]}}, {\"mode\": \"vega-lite\"});\n",
              "</script>"
            ],
            "text/plain": [
              "alt.Chart(...)"
            ]
          },
          "metadata": {},
          "execution_count": 10
        }
      ]
    },
    {
      "cell_type": "code",
      "source": [
        "alt.Chart(agrupacion_clientes).mark_bar(\n",
        "    cornerRadiusTopLeft=9,\n",
        "    cornerRadiusTopRight=9).encode(\n",
        "  x=\"ORGANIZACION\",\n",
        "  y=\"IMPORTEMONTRANSACCION\",\n",
        "  color=\"ORGANIZACION\",).interactive()"
      ],
      "metadata": {
        "colab": {
          "base_uri": "https://localhost:8080/",
          "height": 481
        },
        "id": "bYHYqk5Xkq7u",
        "outputId": "cd5920c3-e574-40ae-cef4-c03452d3a50d"
      },
      "id": "bYHYqk5Xkq7u",
      "execution_count": 11,
      "outputs": [
        {
          "output_type": "execute_result",
          "data": {
            "text/html": [
              "\n",
              "<div id=\"altair-viz-aee12a3676b54645b70f8a35e6a51ca4\"></div>\n",
              "<script type=\"text/javascript\">\n",
              "  var VEGA_DEBUG = (typeof VEGA_DEBUG == \"undefined\") ? {} : VEGA_DEBUG;\n",
              "  (function(spec, embedOpt){\n",
              "    let outputDiv = document.currentScript.previousElementSibling;\n",
              "    if (outputDiv.id !== \"altair-viz-aee12a3676b54645b70f8a35e6a51ca4\") {\n",
              "      outputDiv = document.getElementById(\"altair-viz-aee12a3676b54645b70f8a35e6a51ca4\");\n",
              "    }\n",
              "    const paths = {\n",
              "      \"vega\": \"https://cdn.jsdelivr.net/npm//vega@5?noext\",\n",
              "      \"vega-lib\": \"https://cdn.jsdelivr.net/npm//vega-lib?noext\",\n",
              "      \"vega-lite\": \"https://cdn.jsdelivr.net/npm//vega-lite@4.17.0?noext\",\n",
              "      \"vega-embed\": \"https://cdn.jsdelivr.net/npm//vega-embed@6?noext\",\n",
              "    };\n",
              "\n",
              "    function maybeLoadScript(lib, version) {\n",
              "      var key = `${lib.replace(\"-\", \"\")}_version`;\n",
              "      return (VEGA_DEBUG[key] == version) ?\n",
              "        Promise.resolve(paths[lib]) :\n",
              "        new Promise(function(resolve, reject) {\n",
              "          var s = document.createElement('script');\n",
              "          document.getElementsByTagName(\"head\")[0].appendChild(s);\n",
              "          s.async = true;\n",
              "          s.onload = () => {\n",
              "            VEGA_DEBUG[key] = version;\n",
              "            return resolve(paths[lib]);\n",
              "          };\n",
              "          s.onerror = () => reject(`Error loading script: ${paths[lib]}`);\n",
              "          s.src = paths[lib];\n",
              "        });\n",
              "    }\n",
              "\n",
              "    function showError(err) {\n",
              "      outputDiv.innerHTML = `<div class=\"error\" style=\"color:red;\">${err}</div>`;\n",
              "      throw err;\n",
              "    }\n",
              "\n",
              "    function displayChart(vegaEmbed) {\n",
              "      vegaEmbed(outputDiv, spec, embedOpt)\n",
              "        .catch(err => showError(`Javascript Error: ${err.message}<br>This usually means there's a typo in your chart specification. See the javascript console for the full traceback.`));\n",
              "    }\n",
              "\n",
              "    if(typeof define === \"function\" && define.amd) {\n",
              "      requirejs.config({paths});\n",
              "      require([\"vega-embed\"], displayChart, err => showError(`Error loading script: ${err.message}`));\n",
              "    } else {\n",
              "      maybeLoadScript(\"vega\", \"5\")\n",
              "        .then(() => maybeLoadScript(\"vega-lite\", \"4.17.0\"))\n",
              "        .then(() => maybeLoadScript(\"vega-embed\", \"6\"))\n",
              "        .catch(showError)\n",
              "        .then(() => displayChart(vegaEmbed));\n",
              "    }\n",
              "  })({\"config\": {\"view\": {\"continuousWidth\": 400, \"continuousHeight\": 300}}, \"data\": {\"name\": \"data-59eb41346c9ffea3a51976f9211190c8\"}, \"mark\": {\"type\": \"bar\", \"cornerRadiusTopLeft\": 9, \"cornerRadiusTopRight\": 9}, \"encoding\": {\"color\": {\"field\": \"ORGANIZACION\", \"type\": \"nominal\"}, \"x\": {\"field\": \"ORGANIZACION\", \"type\": \"nominal\"}, \"y\": {\"field\": \"IMPORTEMONTRANSACCION\", \"type\": \"quantitative\"}}, \"selection\": {\"selector004\": {\"type\": \"interval\", \"bind\": \"scales\", \"encodings\": [\"x\", \"y\"]}}, \"$schema\": \"https://vega.github.io/schema/vega-lite/v4.17.0.json\", \"datasets\": {\"data-59eb41346c9ffea3a51976f9211190c8\": [{\"ORGANIZACION\": \"Algorte S.A.\", \"DOCUMENTO\": 1, \"FECHA\": 1, \"TIPOFACTURA\": 1, \"PRODUCTO\": 1, \"CENTRODECOSTO\": 0, \"CANTIDAD\": 1, \"PRECIO\": 1, \"IMPORTEMONPRINCIPAL\": 1, \"IMPORTEMONTRANSACCION\": 1, \"MONEDA\": 1}, {\"ORGANIZACION\": \"Amazon Group\", \"DOCUMENTO\": 5, \"FECHA\": 5, \"TIPOFACTURA\": 5, \"PRODUCTO\": 5, \"CENTRODECOSTO\": 2, \"CANTIDAD\": 5, \"PRECIO\": 5, \"IMPORTEMONPRINCIPAL\": 5, \"IMPORTEMONTRANSACCION\": 5, \"MONEDA\": 5}, {\"ORGANIZACION\": \"Berker S.R.L\", \"DOCUMENTO\": 4, \"FECHA\": 4, \"TIPOFACTURA\": 4, \"PRODUCTO\": 4, \"CENTRODECOSTO\": 0, \"CANTIDAD\": 4, \"PRECIO\": 4, \"IMPORTEMONPRINCIPAL\": 4, \"IMPORTEMONTRANSACCION\": 4, \"MONEDA\": 4}, {\"ORGANIZACION\": \"Campomas S.A.\", \"DOCUMENTO\": 7, \"FECHA\": 7, \"TIPOFACTURA\": 7, \"PRODUCTO\": 7, \"CENTRODECOSTO\": 1, \"CANTIDAD\": 7, \"PRECIO\": 7, \"IMPORTEMONPRINCIPAL\": 7, \"IMPORTEMONTRANSACCION\": 7, \"MONEDA\": 7}, {\"ORGANIZACION\": \"Consumidor Final\", \"DOCUMENTO\": 1, \"FECHA\": 1, \"TIPOFACTURA\": 1, \"PRODUCTO\": 1, \"CENTRODECOSTO\": 0, \"CANTIDAD\": 1, \"PRECIO\": 1, \"IMPORTEMONPRINCIPAL\": 1, \"IMPORTEMONTRANSACCION\": 1, \"MONEDA\": 1}, {\"ORGANIZACION\": \"Donadelli S.R.L\", \"DOCUMENTO\": 1, \"FECHA\": 1, \"TIPOFACTURA\": 1, \"PRODUCTO\": 1, \"CENTRODECOSTO\": 0, \"CANTIDAD\": 1, \"PRECIO\": 1, \"IMPORTEMONPRINCIPAL\": 1, \"IMPORTEMONTRANSACCION\": 1, \"MONEDA\": 1}, {\"ORGANIZACION\": \"Etigand S.A.\", \"DOCUMENTO\": 2, \"FECHA\": 2, \"TIPOFACTURA\": 2, \"PRODUCTO\": 2, \"CENTRODECOSTO\": 1, \"CANTIDAD\": 2, \"PRECIO\": 2, \"IMPORTEMONPRINCIPAL\": 2, \"IMPORTEMONTRANSACCION\": 2, \"MONEDA\": 2}, {\"ORGANIZACION\": \"Ferrari Hnos S.A.\", \"DOCUMENTO\": 2, \"FECHA\": 2, \"TIPOFACTURA\": 2, \"PRODUCTO\": 2, \"CENTRODECOSTO\": 0, \"CANTIDAD\": 2, \"PRECIO\": 2, \"IMPORTEMONPRINCIPAL\": 2, \"IMPORTEMONTRANSACCION\": 2, \"MONEDA\": 2}, {\"ORGANIZACION\": \"Galardon S.A.\", \"DOCUMENTO\": 2, \"FECHA\": 2, \"TIPOFACTURA\": 2, \"PRODUCTO\": 2, \"CENTRODECOSTO\": 1, \"CANTIDAD\": 2, \"PRECIO\": 2, \"IMPORTEMONPRINCIPAL\": 2, \"IMPORTEMONTRANSACCION\": 2, \"MONEDA\": 2}, {\"ORGANIZACION\": \"Hernandez S.A.\", \"DOCUMENTO\": 7, \"FECHA\": 7, \"TIPOFACTURA\": 7, \"PRODUCTO\": 7, \"CENTRODECOSTO\": 1, \"CANTIDAD\": 7, \"PRECIO\": 7, \"IMPORTEMONPRINCIPAL\": 7, \"IMPORTEMONTRANSACCION\": 7, \"MONEDA\": 7}, {\"ORGANIZACION\": \"Horacio Aguirre\", \"DOCUMENTO\": 1, \"FECHA\": 1, \"TIPOFACTURA\": 1, \"PRODUCTO\": 1, \"CENTRODECOSTO\": 1, \"CANTIDAD\": 1, \"PRECIO\": 1, \"IMPORTEMONPRINCIPAL\": 1, \"IMPORTEMONTRANSACCION\": 1, \"MONEDA\": 1}, {\"ORGANIZACION\": \"Horizonte S.A.\", \"DOCUMENTO\": 5, \"FECHA\": 5, \"TIPOFACTURA\": 5, \"PRODUCTO\": 5, \"CENTRODECOSTO\": 3, \"CANTIDAD\": 5, \"PRECIO\": 5, \"IMPORTEMONPRINCIPAL\": 5, \"IMPORTEMONTRANSACCION\": 5, \"MONEDA\": 5}, {\"ORGANIZACION\": \"Ignition S.A.C.I\", \"DOCUMENTO\": 2, \"FECHA\": 2, \"TIPOFACTURA\": 2, \"PRODUCTO\": 2, \"CENTRODECOSTO\": 1, \"CANTIDAD\": 2, \"PRECIO\": 2, \"IMPORTEMONPRINCIPAL\": 2, \"IMPORTEMONTRANSACCION\": 2, \"MONEDA\": 2}, {\"ORGANIZACION\": \"Jameson SRL\", \"DOCUMENTO\": 4, \"FECHA\": 4, \"TIPOFACTURA\": 4, \"PRODUCTO\": 4, \"CENTRODECOSTO\": 0, \"CANTIDAD\": 4, \"PRECIO\": 4, \"IMPORTEMONPRINCIPAL\": 4, \"IMPORTEMONTRANSACCION\": 4, \"MONEDA\": 4}, {\"ORGANIZACION\": \"Javier Moroni\", \"DOCUMENTO\": 6, \"FECHA\": 6, \"TIPOFACTURA\": 6, \"PRODUCTO\": 6, \"CENTRODECOSTO\": 1, \"CANTIDAD\": 6, \"PRECIO\": 6, \"IMPORTEMONPRINCIPAL\": 6, \"IMPORTEMONTRANSACCION\": 6, \"MONEDA\": 6}, {\"ORGANIZACION\": \"Juan Fern\\u00e1ndez\", \"DOCUMENTO\": 4, \"FECHA\": 4, \"TIPOFACTURA\": 4, \"PRODUCTO\": 4, \"CENTRODECOSTO\": 1, \"CANTIDAD\": 4, \"PRECIO\": 4, \"IMPORTEMONPRINCIPAL\": 4, \"IMPORTEMONTRANSACCION\": 4, \"MONEDA\": 4}, {\"ORGANIZACION\": \"Juan Lopez\", \"DOCUMENTO\": 2, \"FECHA\": 2, \"TIPOFACTURA\": 2, \"PRODUCTO\": 2, \"CENTRODECOSTO\": 0, \"CANTIDAD\": 2, \"PRECIO\": 2, \"IMPORTEMONPRINCIPAL\": 2, \"IMPORTEMONTRANSACCION\": 2, \"MONEDA\": 2}, {\"ORGANIZACION\": \"Klarkson\", \"DOCUMENTO\": 4, \"FECHA\": 4, \"TIPOFACTURA\": 4, \"PRODUCTO\": 4, \"CENTRODECOSTO\": 1, \"CANTIDAD\": 4, \"PRECIO\": 4, \"IMPORTEMONPRINCIPAL\": 4, \"IMPORTEMONTRANSACCION\": 4, \"MONEDA\": 4}, {\"ORGANIZACION\": \"Manganello S.R.L\", \"DOCUMENTO\": 9, \"FECHA\": 9, \"TIPOFACTURA\": 9, \"PRODUCTO\": 9, \"CENTRODECOSTO\": 3, \"CANTIDAD\": 9, \"PRECIO\": 9, \"IMPORTEMONPRINCIPAL\": 9, \"IMPORTEMONTRANSACCION\": 9, \"MONEDA\": 9}, {\"ORGANIZACION\": \"Nicolasen y Asociados S.A.\", \"DOCUMENTO\": 8, \"FECHA\": 8, \"TIPOFACTURA\": 8, \"PRODUCTO\": 8, \"CENTRODECOSTO\": 2, \"CANTIDAD\": 8, \"PRECIO\": 8, \"IMPORTEMONPRINCIPAL\": 8, \"IMPORTEMONTRANSACCION\": 8, \"MONEDA\": 8}, {\"ORGANIZACION\": \"Valeria Welponer\", \"DOCUMENTO\": 1, \"FECHA\": 1, \"TIPOFACTURA\": 1, \"PRODUCTO\": 1, \"CENTRODECOSTO\": 0, \"CANTIDAD\": 1, \"PRECIO\": 1, \"IMPORTEMONPRINCIPAL\": 1, \"IMPORTEMONTRANSACCION\": 1, \"MONEDA\": 1}]}}, {\"mode\": \"vega-lite\"});\n",
              "</script>"
            ],
            "text/plain": [
              "alt.Chart(...)"
            ]
          },
          "metadata": {},
          "execution_count": 11
        }
      ]
    },
    {
      "cell_type": "markdown",
      "source": [
        "### **Barras horizontales**\n"
      ],
      "metadata": {
        "id": "PHVDZRaPky78"
      },
      "id": "PHVDZRaPky78"
    },
    {
      "cell_type": "code",
      "source": [
        "alt.Chart(agrupacion_clientes).mark_bar().encode(\n",
        "  x=\"IMPORTEMONTRANSACCION\",\n",
        "  y=alt.Y(\"ORGANIZACION\",sort=\"x\"),\n",
        "  color=\"ORGANIZACION\",).interactive()\n"
      ],
      "metadata": {
        "colab": {
          "base_uri": "https://localhost:8080/",
          "height": 483
        },
        "id": "FbSC07zTk1NP",
        "outputId": "443341a1-f15e-4556-ff08-c6895d14a83e"
      },
      "id": "FbSC07zTk1NP",
      "execution_count": 12,
      "outputs": [
        {
          "output_type": "execute_result",
          "data": {
            "text/html": [
              "\n",
              "<div id=\"altair-viz-534fa55f48ae4b05bf8ca7d63b1802c4\"></div>\n",
              "<script type=\"text/javascript\">\n",
              "  var VEGA_DEBUG = (typeof VEGA_DEBUG == \"undefined\") ? {} : VEGA_DEBUG;\n",
              "  (function(spec, embedOpt){\n",
              "    let outputDiv = document.currentScript.previousElementSibling;\n",
              "    if (outputDiv.id !== \"altair-viz-534fa55f48ae4b05bf8ca7d63b1802c4\") {\n",
              "      outputDiv = document.getElementById(\"altair-viz-534fa55f48ae4b05bf8ca7d63b1802c4\");\n",
              "    }\n",
              "    const paths = {\n",
              "      \"vega\": \"https://cdn.jsdelivr.net/npm//vega@5?noext\",\n",
              "      \"vega-lib\": \"https://cdn.jsdelivr.net/npm//vega-lib?noext\",\n",
              "      \"vega-lite\": \"https://cdn.jsdelivr.net/npm//vega-lite@4.17.0?noext\",\n",
              "      \"vega-embed\": \"https://cdn.jsdelivr.net/npm//vega-embed@6?noext\",\n",
              "    };\n",
              "\n",
              "    function maybeLoadScript(lib, version) {\n",
              "      var key = `${lib.replace(\"-\", \"\")}_version`;\n",
              "      return (VEGA_DEBUG[key] == version) ?\n",
              "        Promise.resolve(paths[lib]) :\n",
              "        new Promise(function(resolve, reject) {\n",
              "          var s = document.createElement('script');\n",
              "          document.getElementsByTagName(\"head\")[0].appendChild(s);\n",
              "          s.async = true;\n",
              "          s.onload = () => {\n",
              "            VEGA_DEBUG[key] = version;\n",
              "            return resolve(paths[lib]);\n",
              "          };\n",
              "          s.onerror = () => reject(`Error loading script: ${paths[lib]}`);\n",
              "          s.src = paths[lib];\n",
              "        });\n",
              "    }\n",
              "\n",
              "    function showError(err) {\n",
              "      outputDiv.innerHTML = `<div class=\"error\" style=\"color:red;\">${err}</div>`;\n",
              "      throw err;\n",
              "    }\n",
              "\n",
              "    function displayChart(vegaEmbed) {\n",
              "      vegaEmbed(outputDiv, spec, embedOpt)\n",
              "        .catch(err => showError(`Javascript Error: ${err.message}<br>This usually means there's a typo in your chart specification. See the javascript console for the full traceback.`));\n",
              "    }\n",
              "\n",
              "    if(typeof define === \"function\" && define.amd) {\n",
              "      requirejs.config({paths});\n",
              "      require([\"vega-embed\"], displayChart, err => showError(`Error loading script: ${err.message}`));\n",
              "    } else {\n",
              "      maybeLoadScript(\"vega\", \"5\")\n",
              "        .then(() => maybeLoadScript(\"vega-lite\", \"4.17.0\"))\n",
              "        .then(() => maybeLoadScript(\"vega-embed\", \"6\"))\n",
              "        .catch(showError)\n",
              "        .then(() => displayChart(vegaEmbed));\n",
              "    }\n",
              "  })({\"config\": {\"view\": {\"continuousWidth\": 400, \"continuousHeight\": 300}}, \"data\": {\"name\": \"data-59eb41346c9ffea3a51976f9211190c8\"}, \"mark\": \"bar\", \"encoding\": {\"color\": {\"field\": \"ORGANIZACION\", \"type\": \"nominal\"}, \"x\": {\"field\": \"IMPORTEMONTRANSACCION\", \"type\": \"quantitative\"}, \"y\": {\"field\": \"ORGANIZACION\", \"sort\": \"x\", \"type\": \"nominal\"}}, \"selection\": {\"selector005\": {\"type\": \"interval\", \"bind\": \"scales\", \"encodings\": [\"x\", \"y\"]}}, \"$schema\": \"https://vega.github.io/schema/vega-lite/v4.17.0.json\", \"datasets\": {\"data-59eb41346c9ffea3a51976f9211190c8\": [{\"ORGANIZACION\": \"Algorte S.A.\", \"DOCUMENTO\": 1, \"FECHA\": 1, \"TIPOFACTURA\": 1, \"PRODUCTO\": 1, \"CENTRODECOSTO\": 0, \"CANTIDAD\": 1, \"PRECIO\": 1, \"IMPORTEMONPRINCIPAL\": 1, \"IMPORTEMONTRANSACCION\": 1, \"MONEDA\": 1}, {\"ORGANIZACION\": \"Amazon Group\", \"DOCUMENTO\": 5, \"FECHA\": 5, \"TIPOFACTURA\": 5, \"PRODUCTO\": 5, \"CENTRODECOSTO\": 2, \"CANTIDAD\": 5, \"PRECIO\": 5, \"IMPORTEMONPRINCIPAL\": 5, \"IMPORTEMONTRANSACCION\": 5, \"MONEDA\": 5}, {\"ORGANIZACION\": \"Berker S.R.L\", \"DOCUMENTO\": 4, \"FECHA\": 4, \"TIPOFACTURA\": 4, \"PRODUCTO\": 4, \"CENTRODECOSTO\": 0, \"CANTIDAD\": 4, \"PRECIO\": 4, \"IMPORTEMONPRINCIPAL\": 4, \"IMPORTEMONTRANSACCION\": 4, \"MONEDA\": 4}, {\"ORGANIZACION\": \"Campomas S.A.\", \"DOCUMENTO\": 7, \"FECHA\": 7, \"TIPOFACTURA\": 7, \"PRODUCTO\": 7, \"CENTRODECOSTO\": 1, \"CANTIDAD\": 7, \"PRECIO\": 7, \"IMPORTEMONPRINCIPAL\": 7, \"IMPORTEMONTRANSACCION\": 7, \"MONEDA\": 7}, {\"ORGANIZACION\": \"Consumidor Final\", \"DOCUMENTO\": 1, \"FECHA\": 1, \"TIPOFACTURA\": 1, \"PRODUCTO\": 1, \"CENTRODECOSTO\": 0, \"CANTIDAD\": 1, \"PRECIO\": 1, \"IMPORTEMONPRINCIPAL\": 1, \"IMPORTEMONTRANSACCION\": 1, \"MONEDA\": 1}, {\"ORGANIZACION\": \"Donadelli S.R.L\", \"DOCUMENTO\": 1, \"FECHA\": 1, \"TIPOFACTURA\": 1, \"PRODUCTO\": 1, \"CENTRODECOSTO\": 0, \"CANTIDAD\": 1, \"PRECIO\": 1, \"IMPORTEMONPRINCIPAL\": 1, \"IMPORTEMONTRANSACCION\": 1, \"MONEDA\": 1}, {\"ORGANIZACION\": \"Etigand S.A.\", \"DOCUMENTO\": 2, \"FECHA\": 2, \"TIPOFACTURA\": 2, \"PRODUCTO\": 2, \"CENTRODECOSTO\": 1, \"CANTIDAD\": 2, \"PRECIO\": 2, \"IMPORTEMONPRINCIPAL\": 2, \"IMPORTEMONTRANSACCION\": 2, \"MONEDA\": 2}, {\"ORGANIZACION\": \"Ferrari Hnos S.A.\", \"DOCUMENTO\": 2, \"FECHA\": 2, \"TIPOFACTURA\": 2, \"PRODUCTO\": 2, \"CENTRODECOSTO\": 0, \"CANTIDAD\": 2, \"PRECIO\": 2, \"IMPORTEMONPRINCIPAL\": 2, \"IMPORTEMONTRANSACCION\": 2, \"MONEDA\": 2}, {\"ORGANIZACION\": \"Galardon S.A.\", \"DOCUMENTO\": 2, \"FECHA\": 2, \"TIPOFACTURA\": 2, \"PRODUCTO\": 2, \"CENTRODECOSTO\": 1, \"CANTIDAD\": 2, \"PRECIO\": 2, \"IMPORTEMONPRINCIPAL\": 2, \"IMPORTEMONTRANSACCION\": 2, \"MONEDA\": 2}, {\"ORGANIZACION\": \"Hernandez S.A.\", \"DOCUMENTO\": 7, \"FECHA\": 7, \"TIPOFACTURA\": 7, \"PRODUCTO\": 7, \"CENTRODECOSTO\": 1, \"CANTIDAD\": 7, \"PRECIO\": 7, \"IMPORTEMONPRINCIPAL\": 7, \"IMPORTEMONTRANSACCION\": 7, \"MONEDA\": 7}, {\"ORGANIZACION\": \"Horacio Aguirre\", \"DOCUMENTO\": 1, \"FECHA\": 1, \"TIPOFACTURA\": 1, \"PRODUCTO\": 1, \"CENTRODECOSTO\": 1, \"CANTIDAD\": 1, \"PRECIO\": 1, \"IMPORTEMONPRINCIPAL\": 1, \"IMPORTEMONTRANSACCION\": 1, \"MONEDA\": 1}, {\"ORGANIZACION\": \"Horizonte S.A.\", \"DOCUMENTO\": 5, \"FECHA\": 5, \"TIPOFACTURA\": 5, \"PRODUCTO\": 5, \"CENTRODECOSTO\": 3, \"CANTIDAD\": 5, \"PRECIO\": 5, \"IMPORTEMONPRINCIPAL\": 5, \"IMPORTEMONTRANSACCION\": 5, \"MONEDA\": 5}, {\"ORGANIZACION\": \"Ignition S.A.C.I\", \"DOCUMENTO\": 2, \"FECHA\": 2, \"TIPOFACTURA\": 2, \"PRODUCTO\": 2, \"CENTRODECOSTO\": 1, \"CANTIDAD\": 2, \"PRECIO\": 2, \"IMPORTEMONPRINCIPAL\": 2, \"IMPORTEMONTRANSACCION\": 2, \"MONEDA\": 2}, {\"ORGANIZACION\": \"Jameson SRL\", \"DOCUMENTO\": 4, \"FECHA\": 4, \"TIPOFACTURA\": 4, \"PRODUCTO\": 4, \"CENTRODECOSTO\": 0, \"CANTIDAD\": 4, \"PRECIO\": 4, \"IMPORTEMONPRINCIPAL\": 4, \"IMPORTEMONTRANSACCION\": 4, \"MONEDA\": 4}, {\"ORGANIZACION\": \"Javier Moroni\", \"DOCUMENTO\": 6, \"FECHA\": 6, \"TIPOFACTURA\": 6, \"PRODUCTO\": 6, \"CENTRODECOSTO\": 1, \"CANTIDAD\": 6, \"PRECIO\": 6, \"IMPORTEMONPRINCIPAL\": 6, \"IMPORTEMONTRANSACCION\": 6, \"MONEDA\": 6}, {\"ORGANIZACION\": \"Juan Fern\\u00e1ndez\", \"DOCUMENTO\": 4, \"FECHA\": 4, \"TIPOFACTURA\": 4, \"PRODUCTO\": 4, \"CENTRODECOSTO\": 1, \"CANTIDAD\": 4, \"PRECIO\": 4, \"IMPORTEMONPRINCIPAL\": 4, \"IMPORTEMONTRANSACCION\": 4, \"MONEDA\": 4}, {\"ORGANIZACION\": \"Juan Lopez\", \"DOCUMENTO\": 2, \"FECHA\": 2, \"TIPOFACTURA\": 2, \"PRODUCTO\": 2, \"CENTRODECOSTO\": 0, \"CANTIDAD\": 2, \"PRECIO\": 2, \"IMPORTEMONPRINCIPAL\": 2, \"IMPORTEMONTRANSACCION\": 2, \"MONEDA\": 2}, {\"ORGANIZACION\": \"Klarkson\", \"DOCUMENTO\": 4, \"FECHA\": 4, \"TIPOFACTURA\": 4, \"PRODUCTO\": 4, \"CENTRODECOSTO\": 1, \"CANTIDAD\": 4, \"PRECIO\": 4, \"IMPORTEMONPRINCIPAL\": 4, \"IMPORTEMONTRANSACCION\": 4, \"MONEDA\": 4}, {\"ORGANIZACION\": \"Manganello S.R.L\", \"DOCUMENTO\": 9, \"FECHA\": 9, \"TIPOFACTURA\": 9, \"PRODUCTO\": 9, \"CENTRODECOSTO\": 3, \"CANTIDAD\": 9, \"PRECIO\": 9, \"IMPORTEMONPRINCIPAL\": 9, \"IMPORTEMONTRANSACCION\": 9, \"MONEDA\": 9}, {\"ORGANIZACION\": \"Nicolasen y Asociados S.A.\", \"DOCUMENTO\": 8, \"FECHA\": 8, \"TIPOFACTURA\": 8, \"PRODUCTO\": 8, \"CENTRODECOSTO\": 2, \"CANTIDAD\": 8, \"PRECIO\": 8, \"IMPORTEMONPRINCIPAL\": 8, \"IMPORTEMONTRANSACCION\": 8, \"MONEDA\": 8}, {\"ORGANIZACION\": \"Valeria Welponer\", \"DOCUMENTO\": 1, \"FECHA\": 1, \"TIPOFACTURA\": 1, \"PRODUCTO\": 1, \"CENTRODECOSTO\": 0, \"CANTIDAD\": 1, \"PRECIO\": 1, \"IMPORTEMONPRINCIPAL\": 1, \"IMPORTEMONTRANSACCION\": 1, \"MONEDA\": 1}]}}, {\"mode\": \"vega-lite\"});\n",
              "</script>"
            ],
            "text/plain": [
              "alt.Chart(...)"
            ]
          },
          "metadata": {},
          "execution_count": 12
        }
      ]
    },
    {
      "cell_type": "markdown",
      "source": [
        "### **Histogramas**\n"
      ],
      "metadata": {
        "id": "Yy1I51jHlAAO"
      },
      "id": "Yy1I51jHlAAO"
    },
    {
      "cell_type": "code",
      "source": [
        "alt.Chart(agrupacion_clientes).mark_bar().encode(\n",
        "  x=alt.X(\"IMPORTEMONTRANSACCION\", bin=True, axis=None),\n",
        "  y=\"count()\",).interactive()"
      ],
      "metadata": {
        "colab": {
          "base_uri": "https://localhost:8080/",
          "height": 341
        },
        "id": "Z7lO9emvlJFV",
        "outputId": "f4d40aee-a53c-4fdb-8ac6-f445a4394365"
      },
      "id": "Z7lO9emvlJFV",
      "execution_count": 13,
      "outputs": [
        {
          "output_type": "execute_result",
          "data": {
            "text/html": [
              "\n",
              "<div id=\"altair-viz-3483b00f26864835971b6745cd4f13bb\"></div>\n",
              "<script type=\"text/javascript\">\n",
              "  var VEGA_DEBUG = (typeof VEGA_DEBUG == \"undefined\") ? {} : VEGA_DEBUG;\n",
              "  (function(spec, embedOpt){\n",
              "    let outputDiv = document.currentScript.previousElementSibling;\n",
              "    if (outputDiv.id !== \"altair-viz-3483b00f26864835971b6745cd4f13bb\") {\n",
              "      outputDiv = document.getElementById(\"altair-viz-3483b00f26864835971b6745cd4f13bb\");\n",
              "    }\n",
              "    const paths = {\n",
              "      \"vega\": \"https://cdn.jsdelivr.net/npm//vega@5?noext\",\n",
              "      \"vega-lib\": \"https://cdn.jsdelivr.net/npm//vega-lib?noext\",\n",
              "      \"vega-lite\": \"https://cdn.jsdelivr.net/npm//vega-lite@4.17.0?noext\",\n",
              "      \"vega-embed\": \"https://cdn.jsdelivr.net/npm//vega-embed@6?noext\",\n",
              "    };\n",
              "\n",
              "    function maybeLoadScript(lib, version) {\n",
              "      var key = `${lib.replace(\"-\", \"\")}_version`;\n",
              "      return (VEGA_DEBUG[key] == version) ?\n",
              "        Promise.resolve(paths[lib]) :\n",
              "        new Promise(function(resolve, reject) {\n",
              "          var s = document.createElement('script');\n",
              "          document.getElementsByTagName(\"head\")[0].appendChild(s);\n",
              "          s.async = true;\n",
              "          s.onload = () => {\n",
              "            VEGA_DEBUG[key] = version;\n",
              "            return resolve(paths[lib]);\n",
              "          };\n",
              "          s.onerror = () => reject(`Error loading script: ${paths[lib]}`);\n",
              "          s.src = paths[lib];\n",
              "        });\n",
              "    }\n",
              "\n",
              "    function showError(err) {\n",
              "      outputDiv.innerHTML = `<div class=\"error\" style=\"color:red;\">${err}</div>`;\n",
              "      throw err;\n",
              "    }\n",
              "\n",
              "    function displayChart(vegaEmbed) {\n",
              "      vegaEmbed(outputDiv, spec, embedOpt)\n",
              "        .catch(err => showError(`Javascript Error: ${err.message}<br>This usually means there's a typo in your chart specification. See the javascript console for the full traceback.`));\n",
              "    }\n",
              "\n",
              "    if(typeof define === \"function\" && define.amd) {\n",
              "      requirejs.config({paths});\n",
              "      require([\"vega-embed\"], displayChart, err => showError(`Error loading script: ${err.message}`));\n",
              "    } else {\n",
              "      maybeLoadScript(\"vega\", \"5\")\n",
              "        .then(() => maybeLoadScript(\"vega-lite\", \"4.17.0\"))\n",
              "        .then(() => maybeLoadScript(\"vega-embed\", \"6\"))\n",
              "        .catch(showError)\n",
              "        .then(() => displayChart(vegaEmbed));\n",
              "    }\n",
              "  })({\"config\": {\"view\": {\"continuousWidth\": 400, \"continuousHeight\": 300}}, \"data\": {\"name\": \"data-59eb41346c9ffea3a51976f9211190c8\"}, \"mark\": \"bar\", \"encoding\": {\"x\": {\"axis\": null, \"bin\": true, \"field\": \"IMPORTEMONTRANSACCION\", \"type\": \"quantitative\"}, \"y\": {\"aggregate\": \"count\", \"type\": \"quantitative\"}}, \"selection\": {\"selector006\": {\"type\": \"interval\", \"bind\": \"scales\", \"encodings\": [\"x\", \"y\"]}}, \"$schema\": \"https://vega.github.io/schema/vega-lite/v4.17.0.json\", \"datasets\": {\"data-59eb41346c9ffea3a51976f9211190c8\": [{\"ORGANIZACION\": \"Algorte S.A.\", \"DOCUMENTO\": 1, \"FECHA\": 1, \"TIPOFACTURA\": 1, \"PRODUCTO\": 1, \"CENTRODECOSTO\": 0, \"CANTIDAD\": 1, \"PRECIO\": 1, \"IMPORTEMONPRINCIPAL\": 1, \"IMPORTEMONTRANSACCION\": 1, \"MONEDA\": 1}, {\"ORGANIZACION\": \"Amazon Group\", \"DOCUMENTO\": 5, \"FECHA\": 5, \"TIPOFACTURA\": 5, \"PRODUCTO\": 5, \"CENTRODECOSTO\": 2, \"CANTIDAD\": 5, \"PRECIO\": 5, \"IMPORTEMONPRINCIPAL\": 5, \"IMPORTEMONTRANSACCION\": 5, \"MONEDA\": 5}, {\"ORGANIZACION\": \"Berker S.R.L\", \"DOCUMENTO\": 4, \"FECHA\": 4, \"TIPOFACTURA\": 4, \"PRODUCTO\": 4, \"CENTRODECOSTO\": 0, \"CANTIDAD\": 4, \"PRECIO\": 4, \"IMPORTEMONPRINCIPAL\": 4, \"IMPORTEMONTRANSACCION\": 4, \"MONEDA\": 4}, {\"ORGANIZACION\": \"Campomas S.A.\", \"DOCUMENTO\": 7, \"FECHA\": 7, \"TIPOFACTURA\": 7, \"PRODUCTO\": 7, \"CENTRODECOSTO\": 1, \"CANTIDAD\": 7, \"PRECIO\": 7, \"IMPORTEMONPRINCIPAL\": 7, \"IMPORTEMONTRANSACCION\": 7, \"MONEDA\": 7}, {\"ORGANIZACION\": \"Consumidor Final\", \"DOCUMENTO\": 1, \"FECHA\": 1, \"TIPOFACTURA\": 1, \"PRODUCTO\": 1, \"CENTRODECOSTO\": 0, \"CANTIDAD\": 1, \"PRECIO\": 1, \"IMPORTEMONPRINCIPAL\": 1, \"IMPORTEMONTRANSACCION\": 1, \"MONEDA\": 1}, {\"ORGANIZACION\": \"Donadelli S.R.L\", \"DOCUMENTO\": 1, \"FECHA\": 1, \"TIPOFACTURA\": 1, \"PRODUCTO\": 1, \"CENTRODECOSTO\": 0, \"CANTIDAD\": 1, \"PRECIO\": 1, \"IMPORTEMONPRINCIPAL\": 1, \"IMPORTEMONTRANSACCION\": 1, \"MONEDA\": 1}, {\"ORGANIZACION\": \"Etigand S.A.\", \"DOCUMENTO\": 2, \"FECHA\": 2, \"TIPOFACTURA\": 2, \"PRODUCTO\": 2, \"CENTRODECOSTO\": 1, \"CANTIDAD\": 2, \"PRECIO\": 2, \"IMPORTEMONPRINCIPAL\": 2, \"IMPORTEMONTRANSACCION\": 2, \"MONEDA\": 2}, {\"ORGANIZACION\": \"Ferrari Hnos S.A.\", \"DOCUMENTO\": 2, \"FECHA\": 2, \"TIPOFACTURA\": 2, \"PRODUCTO\": 2, \"CENTRODECOSTO\": 0, \"CANTIDAD\": 2, \"PRECIO\": 2, \"IMPORTEMONPRINCIPAL\": 2, \"IMPORTEMONTRANSACCION\": 2, \"MONEDA\": 2}, {\"ORGANIZACION\": \"Galardon S.A.\", \"DOCUMENTO\": 2, \"FECHA\": 2, \"TIPOFACTURA\": 2, \"PRODUCTO\": 2, \"CENTRODECOSTO\": 1, \"CANTIDAD\": 2, \"PRECIO\": 2, \"IMPORTEMONPRINCIPAL\": 2, \"IMPORTEMONTRANSACCION\": 2, \"MONEDA\": 2}, {\"ORGANIZACION\": \"Hernandez S.A.\", \"DOCUMENTO\": 7, \"FECHA\": 7, \"TIPOFACTURA\": 7, \"PRODUCTO\": 7, \"CENTRODECOSTO\": 1, \"CANTIDAD\": 7, \"PRECIO\": 7, \"IMPORTEMONPRINCIPAL\": 7, \"IMPORTEMONTRANSACCION\": 7, \"MONEDA\": 7}, {\"ORGANIZACION\": \"Horacio Aguirre\", \"DOCUMENTO\": 1, \"FECHA\": 1, \"TIPOFACTURA\": 1, \"PRODUCTO\": 1, \"CENTRODECOSTO\": 1, \"CANTIDAD\": 1, \"PRECIO\": 1, \"IMPORTEMONPRINCIPAL\": 1, \"IMPORTEMONTRANSACCION\": 1, \"MONEDA\": 1}, {\"ORGANIZACION\": \"Horizonte S.A.\", \"DOCUMENTO\": 5, \"FECHA\": 5, \"TIPOFACTURA\": 5, \"PRODUCTO\": 5, \"CENTRODECOSTO\": 3, \"CANTIDAD\": 5, \"PRECIO\": 5, \"IMPORTEMONPRINCIPAL\": 5, \"IMPORTEMONTRANSACCION\": 5, \"MONEDA\": 5}, {\"ORGANIZACION\": \"Ignition S.A.C.I\", \"DOCUMENTO\": 2, \"FECHA\": 2, \"TIPOFACTURA\": 2, \"PRODUCTO\": 2, \"CENTRODECOSTO\": 1, \"CANTIDAD\": 2, \"PRECIO\": 2, \"IMPORTEMONPRINCIPAL\": 2, \"IMPORTEMONTRANSACCION\": 2, \"MONEDA\": 2}, {\"ORGANIZACION\": \"Jameson SRL\", \"DOCUMENTO\": 4, \"FECHA\": 4, \"TIPOFACTURA\": 4, \"PRODUCTO\": 4, \"CENTRODECOSTO\": 0, \"CANTIDAD\": 4, \"PRECIO\": 4, \"IMPORTEMONPRINCIPAL\": 4, \"IMPORTEMONTRANSACCION\": 4, \"MONEDA\": 4}, {\"ORGANIZACION\": \"Javier Moroni\", \"DOCUMENTO\": 6, \"FECHA\": 6, \"TIPOFACTURA\": 6, \"PRODUCTO\": 6, \"CENTRODECOSTO\": 1, \"CANTIDAD\": 6, \"PRECIO\": 6, \"IMPORTEMONPRINCIPAL\": 6, \"IMPORTEMONTRANSACCION\": 6, \"MONEDA\": 6}, {\"ORGANIZACION\": \"Juan Fern\\u00e1ndez\", \"DOCUMENTO\": 4, \"FECHA\": 4, \"TIPOFACTURA\": 4, \"PRODUCTO\": 4, \"CENTRODECOSTO\": 1, \"CANTIDAD\": 4, \"PRECIO\": 4, \"IMPORTEMONPRINCIPAL\": 4, \"IMPORTEMONTRANSACCION\": 4, \"MONEDA\": 4}, {\"ORGANIZACION\": \"Juan Lopez\", \"DOCUMENTO\": 2, \"FECHA\": 2, \"TIPOFACTURA\": 2, \"PRODUCTO\": 2, \"CENTRODECOSTO\": 0, \"CANTIDAD\": 2, \"PRECIO\": 2, \"IMPORTEMONPRINCIPAL\": 2, \"IMPORTEMONTRANSACCION\": 2, \"MONEDA\": 2}, {\"ORGANIZACION\": \"Klarkson\", \"DOCUMENTO\": 4, \"FECHA\": 4, \"TIPOFACTURA\": 4, \"PRODUCTO\": 4, \"CENTRODECOSTO\": 1, \"CANTIDAD\": 4, \"PRECIO\": 4, \"IMPORTEMONPRINCIPAL\": 4, \"IMPORTEMONTRANSACCION\": 4, \"MONEDA\": 4}, {\"ORGANIZACION\": \"Manganello S.R.L\", \"DOCUMENTO\": 9, \"FECHA\": 9, \"TIPOFACTURA\": 9, \"PRODUCTO\": 9, \"CENTRODECOSTO\": 3, \"CANTIDAD\": 9, \"PRECIO\": 9, \"IMPORTEMONPRINCIPAL\": 9, \"IMPORTEMONTRANSACCION\": 9, \"MONEDA\": 9}, {\"ORGANIZACION\": \"Nicolasen y Asociados S.A.\", \"DOCUMENTO\": 8, \"FECHA\": 8, \"TIPOFACTURA\": 8, \"PRODUCTO\": 8, \"CENTRODECOSTO\": 2, \"CANTIDAD\": 8, \"PRECIO\": 8, \"IMPORTEMONPRINCIPAL\": 8, \"IMPORTEMONTRANSACCION\": 8, \"MONEDA\": 8}, {\"ORGANIZACION\": \"Valeria Welponer\", \"DOCUMENTO\": 1, \"FECHA\": 1, \"TIPOFACTURA\": 1, \"PRODUCTO\": 1, \"CENTRODECOSTO\": 0, \"CANTIDAD\": 1, \"PRECIO\": 1, \"IMPORTEMONPRINCIPAL\": 1, \"IMPORTEMONTRANSACCION\": 1, \"MONEDA\": 1}]}}, {\"mode\": \"vega-lite\"});\n",
              "</script>"
            ],
            "text/plain": [
              "alt.Chart(...)"
            ]
          },
          "metadata": {},
          "execution_count": 13
        }
      ]
    },
    {
      "cell_type": "code",
      "source": [
        "histograma = alt.Chart(agrupacion_clientes).mark_bar().encode(\n",
        "  x=alt.X(\"IMPORTEMONTRANSACCION\", bin=True, axis=None),\n",
        "  y=\"count()\",).interactive()\n",
        "\n",
        "indicador = alt.Chart(agrupacion_clientes).mark_rule(color=\"red\").encode(\n",
        "    x=\"mean(IMPORTEMONTRANSACCION)\",\n",
        "    size=alt.value(5))\n",
        "\n",
        "histograma + indicador"
      ],
      "metadata": {
        "colab": {
          "base_uri": "https://localhost:8080/",
          "height": 341
        },
        "id": "GKDdqVN7lQG7",
        "outputId": "4d055e14-2270-4995-d58c-c1e03f3a7804"
      },
      "id": "GKDdqVN7lQG7",
      "execution_count": 14,
      "outputs": [
        {
          "output_type": "execute_result",
          "data": {
            "text/html": [
              "\n",
              "<div id=\"altair-viz-edceb26442e641dd91943d97850a8488\"></div>\n",
              "<script type=\"text/javascript\">\n",
              "  var VEGA_DEBUG = (typeof VEGA_DEBUG == \"undefined\") ? {} : VEGA_DEBUG;\n",
              "  (function(spec, embedOpt){\n",
              "    let outputDiv = document.currentScript.previousElementSibling;\n",
              "    if (outputDiv.id !== \"altair-viz-edceb26442e641dd91943d97850a8488\") {\n",
              "      outputDiv = document.getElementById(\"altair-viz-edceb26442e641dd91943d97850a8488\");\n",
              "    }\n",
              "    const paths = {\n",
              "      \"vega\": \"https://cdn.jsdelivr.net/npm//vega@5?noext\",\n",
              "      \"vega-lib\": \"https://cdn.jsdelivr.net/npm//vega-lib?noext\",\n",
              "      \"vega-lite\": \"https://cdn.jsdelivr.net/npm//vega-lite@4.17.0?noext\",\n",
              "      \"vega-embed\": \"https://cdn.jsdelivr.net/npm//vega-embed@6?noext\",\n",
              "    };\n",
              "\n",
              "    function maybeLoadScript(lib, version) {\n",
              "      var key = `${lib.replace(\"-\", \"\")}_version`;\n",
              "      return (VEGA_DEBUG[key] == version) ?\n",
              "        Promise.resolve(paths[lib]) :\n",
              "        new Promise(function(resolve, reject) {\n",
              "          var s = document.createElement('script');\n",
              "          document.getElementsByTagName(\"head\")[0].appendChild(s);\n",
              "          s.async = true;\n",
              "          s.onload = () => {\n",
              "            VEGA_DEBUG[key] = version;\n",
              "            return resolve(paths[lib]);\n",
              "          };\n",
              "          s.onerror = () => reject(`Error loading script: ${paths[lib]}`);\n",
              "          s.src = paths[lib];\n",
              "        });\n",
              "    }\n",
              "\n",
              "    function showError(err) {\n",
              "      outputDiv.innerHTML = `<div class=\"error\" style=\"color:red;\">${err}</div>`;\n",
              "      throw err;\n",
              "    }\n",
              "\n",
              "    function displayChart(vegaEmbed) {\n",
              "      vegaEmbed(outputDiv, spec, embedOpt)\n",
              "        .catch(err => showError(`Javascript Error: ${err.message}<br>This usually means there's a typo in your chart specification. See the javascript console for the full traceback.`));\n",
              "    }\n",
              "\n",
              "    if(typeof define === \"function\" && define.amd) {\n",
              "      requirejs.config({paths});\n",
              "      require([\"vega-embed\"], displayChart, err => showError(`Error loading script: ${err.message}`));\n",
              "    } else {\n",
              "      maybeLoadScript(\"vega\", \"5\")\n",
              "        .then(() => maybeLoadScript(\"vega-lite\", \"4.17.0\"))\n",
              "        .then(() => maybeLoadScript(\"vega-embed\", \"6\"))\n",
              "        .catch(showError)\n",
              "        .then(() => displayChart(vegaEmbed));\n",
              "    }\n",
              "  })({\"config\": {\"view\": {\"continuousWidth\": 400, \"continuousHeight\": 300}}, \"layer\": [{\"mark\": \"bar\", \"encoding\": {\"x\": {\"axis\": null, \"bin\": true, \"field\": \"IMPORTEMONTRANSACCION\", \"type\": \"quantitative\"}, \"y\": {\"aggregate\": \"count\", \"type\": \"quantitative\"}}, \"selection\": {\"selector007\": {\"type\": \"interval\", \"bind\": \"scales\", \"encodings\": [\"x\", \"y\"]}}}, {\"mark\": {\"type\": \"rule\", \"color\": \"red\"}, \"encoding\": {\"size\": {\"value\": 5}, \"x\": {\"aggregate\": \"mean\", \"field\": \"IMPORTEMONTRANSACCION\", \"type\": \"quantitative\"}}}], \"data\": {\"name\": \"data-59eb41346c9ffea3a51976f9211190c8\"}, \"$schema\": \"https://vega.github.io/schema/vega-lite/v4.17.0.json\", \"datasets\": {\"data-59eb41346c9ffea3a51976f9211190c8\": [{\"ORGANIZACION\": \"Algorte S.A.\", \"DOCUMENTO\": 1, \"FECHA\": 1, \"TIPOFACTURA\": 1, \"PRODUCTO\": 1, \"CENTRODECOSTO\": 0, \"CANTIDAD\": 1, \"PRECIO\": 1, \"IMPORTEMONPRINCIPAL\": 1, \"IMPORTEMONTRANSACCION\": 1, \"MONEDA\": 1}, {\"ORGANIZACION\": \"Amazon Group\", \"DOCUMENTO\": 5, \"FECHA\": 5, \"TIPOFACTURA\": 5, \"PRODUCTO\": 5, \"CENTRODECOSTO\": 2, \"CANTIDAD\": 5, \"PRECIO\": 5, \"IMPORTEMONPRINCIPAL\": 5, \"IMPORTEMONTRANSACCION\": 5, \"MONEDA\": 5}, {\"ORGANIZACION\": \"Berker S.R.L\", \"DOCUMENTO\": 4, \"FECHA\": 4, \"TIPOFACTURA\": 4, \"PRODUCTO\": 4, \"CENTRODECOSTO\": 0, \"CANTIDAD\": 4, \"PRECIO\": 4, \"IMPORTEMONPRINCIPAL\": 4, \"IMPORTEMONTRANSACCION\": 4, \"MONEDA\": 4}, {\"ORGANIZACION\": \"Campomas S.A.\", \"DOCUMENTO\": 7, \"FECHA\": 7, \"TIPOFACTURA\": 7, \"PRODUCTO\": 7, \"CENTRODECOSTO\": 1, \"CANTIDAD\": 7, \"PRECIO\": 7, \"IMPORTEMONPRINCIPAL\": 7, \"IMPORTEMONTRANSACCION\": 7, \"MONEDA\": 7}, {\"ORGANIZACION\": \"Consumidor Final\", \"DOCUMENTO\": 1, \"FECHA\": 1, \"TIPOFACTURA\": 1, \"PRODUCTO\": 1, \"CENTRODECOSTO\": 0, \"CANTIDAD\": 1, \"PRECIO\": 1, \"IMPORTEMONPRINCIPAL\": 1, \"IMPORTEMONTRANSACCION\": 1, \"MONEDA\": 1}, {\"ORGANIZACION\": \"Donadelli S.R.L\", \"DOCUMENTO\": 1, \"FECHA\": 1, \"TIPOFACTURA\": 1, \"PRODUCTO\": 1, \"CENTRODECOSTO\": 0, \"CANTIDAD\": 1, \"PRECIO\": 1, \"IMPORTEMONPRINCIPAL\": 1, \"IMPORTEMONTRANSACCION\": 1, \"MONEDA\": 1}, {\"ORGANIZACION\": \"Etigand S.A.\", \"DOCUMENTO\": 2, \"FECHA\": 2, \"TIPOFACTURA\": 2, \"PRODUCTO\": 2, \"CENTRODECOSTO\": 1, \"CANTIDAD\": 2, \"PRECIO\": 2, \"IMPORTEMONPRINCIPAL\": 2, \"IMPORTEMONTRANSACCION\": 2, \"MONEDA\": 2}, {\"ORGANIZACION\": \"Ferrari Hnos S.A.\", \"DOCUMENTO\": 2, \"FECHA\": 2, \"TIPOFACTURA\": 2, \"PRODUCTO\": 2, \"CENTRODECOSTO\": 0, \"CANTIDAD\": 2, \"PRECIO\": 2, \"IMPORTEMONPRINCIPAL\": 2, \"IMPORTEMONTRANSACCION\": 2, \"MONEDA\": 2}, {\"ORGANIZACION\": \"Galardon S.A.\", \"DOCUMENTO\": 2, \"FECHA\": 2, \"TIPOFACTURA\": 2, \"PRODUCTO\": 2, \"CENTRODECOSTO\": 1, \"CANTIDAD\": 2, \"PRECIO\": 2, \"IMPORTEMONPRINCIPAL\": 2, \"IMPORTEMONTRANSACCION\": 2, \"MONEDA\": 2}, {\"ORGANIZACION\": \"Hernandez S.A.\", \"DOCUMENTO\": 7, \"FECHA\": 7, \"TIPOFACTURA\": 7, \"PRODUCTO\": 7, \"CENTRODECOSTO\": 1, \"CANTIDAD\": 7, \"PRECIO\": 7, \"IMPORTEMONPRINCIPAL\": 7, \"IMPORTEMONTRANSACCION\": 7, \"MONEDA\": 7}, {\"ORGANIZACION\": \"Horacio Aguirre\", \"DOCUMENTO\": 1, \"FECHA\": 1, \"TIPOFACTURA\": 1, \"PRODUCTO\": 1, \"CENTRODECOSTO\": 1, \"CANTIDAD\": 1, \"PRECIO\": 1, \"IMPORTEMONPRINCIPAL\": 1, \"IMPORTEMONTRANSACCION\": 1, \"MONEDA\": 1}, {\"ORGANIZACION\": \"Horizonte S.A.\", \"DOCUMENTO\": 5, \"FECHA\": 5, \"TIPOFACTURA\": 5, \"PRODUCTO\": 5, \"CENTRODECOSTO\": 3, \"CANTIDAD\": 5, \"PRECIO\": 5, \"IMPORTEMONPRINCIPAL\": 5, \"IMPORTEMONTRANSACCION\": 5, \"MONEDA\": 5}, {\"ORGANIZACION\": \"Ignition S.A.C.I\", \"DOCUMENTO\": 2, \"FECHA\": 2, \"TIPOFACTURA\": 2, \"PRODUCTO\": 2, \"CENTRODECOSTO\": 1, \"CANTIDAD\": 2, \"PRECIO\": 2, \"IMPORTEMONPRINCIPAL\": 2, \"IMPORTEMONTRANSACCION\": 2, \"MONEDA\": 2}, {\"ORGANIZACION\": \"Jameson SRL\", \"DOCUMENTO\": 4, \"FECHA\": 4, \"TIPOFACTURA\": 4, \"PRODUCTO\": 4, \"CENTRODECOSTO\": 0, \"CANTIDAD\": 4, \"PRECIO\": 4, \"IMPORTEMONPRINCIPAL\": 4, \"IMPORTEMONTRANSACCION\": 4, \"MONEDA\": 4}, {\"ORGANIZACION\": \"Javier Moroni\", \"DOCUMENTO\": 6, \"FECHA\": 6, \"TIPOFACTURA\": 6, \"PRODUCTO\": 6, \"CENTRODECOSTO\": 1, \"CANTIDAD\": 6, \"PRECIO\": 6, \"IMPORTEMONPRINCIPAL\": 6, \"IMPORTEMONTRANSACCION\": 6, \"MONEDA\": 6}, {\"ORGANIZACION\": \"Juan Fern\\u00e1ndez\", \"DOCUMENTO\": 4, \"FECHA\": 4, \"TIPOFACTURA\": 4, \"PRODUCTO\": 4, \"CENTRODECOSTO\": 1, \"CANTIDAD\": 4, \"PRECIO\": 4, \"IMPORTEMONPRINCIPAL\": 4, \"IMPORTEMONTRANSACCION\": 4, \"MONEDA\": 4}, {\"ORGANIZACION\": \"Juan Lopez\", \"DOCUMENTO\": 2, \"FECHA\": 2, \"TIPOFACTURA\": 2, \"PRODUCTO\": 2, \"CENTRODECOSTO\": 0, \"CANTIDAD\": 2, \"PRECIO\": 2, \"IMPORTEMONPRINCIPAL\": 2, \"IMPORTEMONTRANSACCION\": 2, \"MONEDA\": 2}, {\"ORGANIZACION\": \"Klarkson\", \"DOCUMENTO\": 4, \"FECHA\": 4, \"TIPOFACTURA\": 4, \"PRODUCTO\": 4, \"CENTRODECOSTO\": 1, \"CANTIDAD\": 4, \"PRECIO\": 4, \"IMPORTEMONPRINCIPAL\": 4, \"IMPORTEMONTRANSACCION\": 4, \"MONEDA\": 4}, {\"ORGANIZACION\": \"Manganello S.R.L\", \"DOCUMENTO\": 9, \"FECHA\": 9, \"TIPOFACTURA\": 9, \"PRODUCTO\": 9, \"CENTRODECOSTO\": 3, \"CANTIDAD\": 9, \"PRECIO\": 9, \"IMPORTEMONPRINCIPAL\": 9, \"IMPORTEMONTRANSACCION\": 9, \"MONEDA\": 9}, {\"ORGANIZACION\": \"Nicolasen y Asociados S.A.\", \"DOCUMENTO\": 8, \"FECHA\": 8, \"TIPOFACTURA\": 8, \"PRODUCTO\": 8, \"CENTRODECOSTO\": 2, \"CANTIDAD\": 8, \"PRECIO\": 8, \"IMPORTEMONPRINCIPAL\": 8, \"IMPORTEMONTRANSACCION\": 8, \"MONEDA\": 8}, {\"ORGANIZACION\": \"Valeria Welponer\", \"DOCUMENTO\": 1, \"FECHA\": 1, \"TIPOFACTURA\": 1, \"PRODUCTO\": 1, \"CENTRODECOSTO\": 0, \"CANTIDAD\": 1, \"PRECIO\": 1, \"IMPORTEMONPRINCIPAL\": 1, \"IMPORTEMONTRANSACCION\": 1, \"MONEDA\": 1}]}}, {\"mode\": \"vega-lite\"});\n",
              "</script>"
            ],
            "text/plain": [
              "alt.LayerChart(...)"
            ]
          },
          "metadata": {},
          "execution_count": 14
        }
      ]
    },
    {
      "cell_type": "markdown",
      "source": [
        "### **Área**\n"
      ],
      "metadata": {
        "id": "2azl68VwlUOq"
      },
      "id": "2azl68VwlUOq"
    },
    {
      "cell_type": "code",
      "source": [
        "alt.Chart(agrupacion_clientes).mark_area().encode(\n",
        "  x=\"ORGANIZACION\",\n",
        "  y=\"IMPORTEMONTRANSACCION\")"
      ],
      "metadata": {
        "colab": {
          "base_uri": "https://localhost:8080/",
          "height": 481
        },
        "id": "mJ28Yxv4lbOg",
        "outputId": "423415b3-0a2a-4ced-ee60-daf00095449a"
      },
      "id": "mJ28Yxv4lbOg",
      "execution_count": 15,
      "outputs": [
        {
          "output_type": "execute_result",
          "data": {
            "text/html": [
              "\n",
              "<div id=\"altair-viz-970455add0e943688236770e93b0548b\"></div>\n",
              "<script type=\"text/javascript\">\n",
              "  var VEGA_DEBUG = (typeof VEGA_DEBUG == \"undefined\") ? {} : VEGA_DEBUG;\n",
              "  (function(spec, embedOpt){\n",
              "    let outputDiv = document.currentScript.previousElementSibling;\n",
              "    if (outputDiv.id !== \"altair-viz-970455add0e943688236770e93b0548b\") {\n",
              "      outputDiv = document.getElementById(\"altair-viz-970455add0e943688236770e93b0548b\");\n",
              "    }\n",
              "    const paths = {\n",
              "      \"vega\": \"https://cdn.jsdelivr.net/npm//vega@5?noext\",\n",
              "      \"vega-lib\": \"https://cdn.jsdelivr.net/npm//vega-lib?noext\",\n",
              "      \"vega-lite\": \"https://cdn.jsdelivr.net/npm//vega-lite@4.17.0?noext\",\n",
              "      \"vega-embed\": \"https://cdn.jsdelivr.net/npm//vega-embed@6?noext\",\n",
              "    };\n",
              "\n",
              "    function maybeLoadScript(lib, version) {\n",
              "      var key = `${lib.replace(\"-\", \"\")}_version`;\n",
              "      return (VEGA_DEBUG[key] == version) ?\n",
              "        Promise.resolve(paths[lib]) :\n",
              "        new Promise(function(resolve, reject) {\n",
              "          var s = document.createElement('script');\n",
              "          document.getElementsByTagName(\"head\")[0].appendChild(s);\n",
              "          s.async = true;\n",
              "          s.onload = () => {\n",
              "            VEGA_DEBUG[key] = version;\n",
              "            return resolve(paths[lib]);\n",
              "          };\n",
              "          s.onerror = () => reject(`Error loading script: ${paths[lib]}`);\n",
              "          s.src = paths[lib];\n",
              "        });\n",
              "    }\n",
              "\n",
              "    function showError(err) {\n",
              "      outputDiv.innerHTML = `<div class=\"error\" style=\"color:red;\">${err}</div>`;\n",
              "      throw err;\n",
              "    }\n",
              "\n",
              "    function displayChart(vegaEmbed) {\n",
              "      vegaEmbed(outputDiv, spec, embedOpt)\n",
              "        .catch(err => showError(`Javascript Error: ${err.message}<br>This usually means there's a typo in your chart specification. See the javascript console for the full traceback.`));\n",
              "    }\n",
              "\n",
              "    if(typeof define === \"function\" && define.amd) {\n",
              "      requirejs.config({paths});\n",
              "      require([\"vega-embed\"], displayChart, err => showError(`Error loading script: ${err.message}`));\n",
              "    } else {\n",
              "      maybeLoadScript(\"vega\", \"5\")\n",
              "        .then(() => maybeLoadScript(\"vega-lite\", \"4.17.0\"))\n",
              "        .then(() => maybeLoadScript(\"vega-embed\", \"6\"))\n",
              "        .catch(showError)\n",
              "        .then(() => displayChart(vegaEmbed));\n",
              "    }\n",
              "  })({\"config\": {\"view\": {\"continuousWidth\": 400, \"continuousHeight\": 300}}, \"data\": {\"name\": \"data-59eb41346c9ffea3a51976f9211190c8\"}, \"mark\": \"area\", \"encoding\": {\"x\": {\"field\": \"ORGANIZACION\", \"type\": \"nominal\"}, \"y\": {\"field\": \"IMPORTEMONTRANSACCION\", \"type\": \"quantitative\"}}, \"$schema\": \"https://vega.github.io/schema/vega-lite/v4.17.0.json\", \"datasets\": {\"data-59eb41346c9ffea3a51976f9211190c8\": [{\"ORGANIZACION\": \"Algorte S.A.\", \"DOCUMENTO\": 1, \"FECHA\": 1, \"TIPOFACTURA\": 1, \"PRODUCTO\": 1, \"CENTRODECOSTO\": 0, \"CANTIDAD\": 1, \"PRECIO\": 1, \"IMPORTEMONPRINCIPAL\": 1, \"IMPORTEMONTRANSACCION\": 1, \"MONEDA\": 1}, {\"ORGANIZACION\": \"Amazon Group\", \"DOCUMENTO\": 5, \"FECHA\": 5, \"TIPOFACTURA\": 5, \"PRODUCTO\": 5, \"CENTRODECOSTO\": 2, \"CANTIDAD\": 5, \"PRECIO\": 5, \"IMPORTEMONPRINCIPAL\": 5, \"IMPORTEMONTRANSACCION\": 5, \"MONEDA\": 5}, {\"ORGANIZACION\": \"Berker S.R.L\", \"DOCUMENTO\": 4, \"FECHA\": 4, \"TIPOFACTURA\": 4, \"PRODUCTO\": 4, \"CENTRODECOSTO\": 0, \"CANTIDAD\": 4, \"PRECIO\": 4, \"IMPORTEMONPRINCIPAL\": 4, \"IMPORTEMONTRANSACCION\": 4, \"MONEDA\": 4}, {\"ORGANIZACION\": \"Campomas S.A.\", \"DOCUMENTO\": 7, \"FECHA\": 7, \"TIPOFACTURA\": 7, \"PRODUCTO\": 7, \"CENTRODECOSTO\": 1, \"CANTIDAD\": 7, \"PRECIO\": 7, \"IMPORTEMONPRINCIPAL\": 7, \"IMPORTEMONTRANSACCION\": 7, \"MONEDA\": 7}, {\"ORGANIZACION\": \"Consumidor Final\", \"DOCUMENTO\": 1, \"FECHA\": 1, \"TIPOFACTURA\": 1, \"PRODUCTO\": 1, \"CENTRODECOSTO\": 0, \"CANTIDAD\": 1, \"PRECIO\": 1, \"IMPORTEMONPRINCIPAL\": 1, \"IMPORTEMONTRANSACCION\": 1, \"MONEDA\": 1}, {\"ORGANIZACION\": \"Donadelli S.R.L\", \"DOCUMENTO\": 1, \"FECHA\": 1, \"TIPOFACTURA\": 1, \"PRODUCTO\": 1, \"CENTRODECOSTO\": 0, \"CANTIDAD\": 1, \"PRECIO\": 1, \"IMPORTEMONPRINCIPAL\": 1, \"IMPORTEMONTRANSACCION\": 1, \"MONEDA\": 1}, {\"ORGANIZACION\": \"Etigand S.A.\", \"DOCUMENTO\": 2, \"FECHA\": 2, \"TIPOFACTURA\": 2, \"PRODUCTO\": 2, \"CENTRODECOSTO\": 1, \"CANTIDAD\": 2, \"PRECIO\": 2, \"IMPORTEMONPRINCIPAL\": 2, \"IMPORTEMONTRANSACCION\": 2, \"MONEDA\": 2}, {\"ORGANIZACION\": \"Ferrari Hnos S.A.\", \"DOCUMENTO\": 2, \"FECHA\": 2, \"TIPOFACTURA\": 2, \"PRODUCTO\": 2, \"CENTRODECOSTO\": 0, \"CANTIDAD\": 2, \"PRECIO\": 2, \"IMPORTEMONPRINCIPAL\": 2, \"IMPORTEMONTRANSACCION\": 2, \"MONEDA\": 2}, {\"ORGANIZACION\": \"Galardon S.A.\", \"DOCUMENTO\": 2, \"FECHA\": 2, \"TIPOFACTURA\": 2, \"PRODUCTO\": 2, \"CENTRODECOSTO\": 1, \"CANTIDAD\": 2, \"PRECIO\": 2, \"IMPORTEMONPRINCIPAL\": 2, \"IMPORTEMONTRANSACCION\": 2, \"MONEDA\": 2}, {\"ORGANIZACION\": \"Hernandez S.A.\", \"DOCUMENTO\": 7, \"FECHA\": 7, \"TIPOFACTURA\": 7, \"PRODUCTO\": 7, \"CENTRODECOSTO\": 1, \"CANTIDAD\": 7, \"PRECIO\": 7, \"IMPORTEMONPRINCIPAL\": 7, \"IMPORTEMONTRANSACCION\": 7, \"MONEDA\": 7}, {\"ORGANIZACION\": \"Horacio Aguirre\", \"DOCUMENTO\": 1, \"FECHA\": 1, \"TIPOFACTURA\": 1, \"PRODUCTO\": 1, \"CENTRODECOSTO\": 1, \"CANTIDAD\": 1, \"PRECIO\": 1, \"IMPORTEMONPRINCIPAL\": 1, \"IMPORTEMONTRANSACCION\": 1, \"MONEDA\": 1}, {\"ORGANIZACION\": \"Horizonte S.A.\", \"DOCUMENTO\": 5, \"FECHA\": 5, \"TIPOFACTURA\": 5, \"PRODUCTO\": 5, \"CENTRODECOSTO\": 3, \"CANTIDAD\": 5, \"PRECIO\": 5, \"IMPORTEMONPRINCIPAL\": 5, \"IMPORTEMONTRANSACCION\": 5, \"MONEDA\": 5}, {\"ORGANIZACION\": \"Ignition S.A.C.I\", \"DOCUMENTO\": 2, \"FECHA\": 2, \"TIPOFACTURA\": 2, \"PRODUCTO\": 2, \"CENTRODECOSTO\": 1, \"CANTIDAD\": 2, \"PRECIO\": 2, \"IMPORTEMONPRINCIPAL\": 2, \"IMPORTEMONTRANSACCION\": 2, \"MONEDA\": 2}, {\"ORGANIZACION\": \"Jameson SRL\", \"DOCUMENTO\": 4, \"FECHA\": 4, \"TIPOFACTURA\": 4, \"PRODUCTO\": 4, \"CENTRODECOSTO\": 0, \"CANTIDAD\": 4, \"PRECIO\": 4, \"IMPORTEMONPRINCIPAL\": 4, \"IMPORTEMONTRANSACCION\": 4, \"MONEDA\": 4}, {\"ORGANIZACION\": \"Javier Moroni\", \"DOCUMENTO\": 6, \"FECHA\": 6, \"TIPOFACTURA\": 6, \"PRODUCTO\": 6, \"CENTRODECOSTO\": 1, \"CANTIDAD\": 6, \"PRECIO\": 6, \"IMPORTEMONPRINCIPAL\": 6, \"IMPORTEMONTRANSACCION\": 6, \"MONEDA\": 6}, {\"ORGANIZACION\": \"Juan Fern\\u00e1ndez\", \"DOCUMENTO\": 4, \"FECHA\": 4, \"TIPOFACTURA\": 4, \"PRODUCTO\": 4, \"CENTRODECOSTO\": 1, \"CANTIDAD\": 4, \"PRECIO\": 4, \"IMPORTEMONPRINCIPAL\": 4, \"IMPORTEMONTRANSACCION\": 4, \"MONEDA\": 4}, {\"ORGANIZACION\": \"Juan Lopez\", \"DOCUMENTO\": 2, \"FECHA\": 2, \"TIPOFACTURA\": 2, \"PRODUCTO\": 2, \"CENTRODECOSTO\": 0, \"CANTIDAD\": 2, \"PRECIO\": 2, \"IMPORTEMONPRINCIPAL\": 2, \"IMPORTEMONTRANSACCION\": 2, \"MONEDA\": 2}, {\"ORGANIZACION\": \"Klarkson\", \"DOCUMENTO\": 4, \"FECHA\": 4, \"TIPOFACTURA\": 4, \"PRODUCTO\": 4, \"CENTRODECOSTO\": 1, \"CANTIDAD\": 4, \"PRECIO\": 4, \"IMPORTEMONPRINCIPAL\": 4, \"IMPORTEMONTRANSACCION\": 4, \"MONEDA\": 4}, {\"ORGANIZACION\": \"Manganello S.R.L\", \"DOCUMENTO\": 9, \"FECHA\": 9, \"TIPOFACTURA\": 9, \"PRODUCTO\": 9, \"CENTRODECOSTO\": 3, \"CANTIDAD\": 9, \"PRECIO\": 9, \"IMPORTEMONPRINCIPAL\": 9, \"IMPORTEMONTRANSACCION\": 9, \"MONEDA\": 9}, {\"ORGANIZACION\": \"Nicolasen y Asociados S.A.\", \"DOCUMENTO\": 8, \"FECHA\": 8, \"TIPOFACTURA\": 8, \"PRODUCTO\": 8, \"CENTRODECOSTO\": 2, \"CANTIDAD\": 8, \"PRECIO\": 8, \"IMPORTEMONPRINCIPAL\": 8, \"IMPORTEMONTRANSACCION\": 8, \"MONEDA\": 8}, {\"ORGANIZACION\": \"Valeria Welponer\", \"DOCUMENTO\": 1, \"FECHA\": 1, \"TIPOFACTURA\": 1, \"PRODUCTO\": 1, \"CENTRODECOSTO\": 0, \"CANTIDAD\": 1, \"PRECIO\": 1, \"IMPORTEMONPRINCIPAL\": 1, \"IMPORTEMONTRANSACCION\": 1, \"MONEDA\": 1}]}}, {\"mode\": \"vega-lite\"});\n",
              "</script>"
            ],
            "text/plain": [
              "alt.Chart(...)"
            ]
          },
          "metadata": {},
          "execution_count": 15
        }
      ]
    },
    {
      "cell_type": "code",
      "source": [
        "alt.Chart(agrupacion_clientes).mark_area().encode(\n",
        "  x=\"IMPORTEMONTRANSACCION\",\n",
        "  y=\"ORGANIZACION\")"
      ],
      "metadata": {
        "colab": {
          "base_uri": "https://localhost:8080/",
          "height": 483
        },
        "id": "MRfGyVWdlgiE",
        "outputId": "f7669b72-ba19-4d38-e58f-72ddbc178433"
      },
      "id": "MRfGyVWdlgiE",
      "execution_count": 16,
      "outputs": [
        {
          "output_type": "execute_result",
          "data": {
            "text/html": [
              "\n",
              "<div id=\"altair-viz-4e2f112f289e4781801459388d19f4e6\"></div>\n",
              "<script type=\"text/javascript\">\n",
              "  var VEGA_DEBUG = (typeof VEGA_DEBUG == \"undefined\") ? {} : VEGA_DEBUG;\n",
              "  (function(spec, embedOpt){\n",
              "    let outputDiv = document.currentScript.previousElementSibling;\n",
              "    if (outputDiv.id !== \"altair-viz-4e2f112f289e4781801459388d19f4e6\") {\n",
              "      outputDiv = document.getElementById(\"altair-viz-4e2f112f289e4781801459388d19f4e6\");\n",
              "    }\n",
              "    const paths = {\n",
              "      \"vega\": \"https://cdn.jsdelivr.net/npm//vega@5?noext\",\n",
              "      \"vega-lib\": \"https://cdn.jsdelivr.net/npm//vega-lib?noext\",\n",
              "      \"vega-lite\": \"https://cdn.jsdelivr.net/npm//vega-lite@4.17.0?noext\",\n",
              "      \"vega-embed\": \"https://cdn.jsdelivr.net/npm//vega-embed@6?noext\",\n",
              "    };\n",
              "\n",
              "    function maybeLoadScript(lib, version) {\n",
              "      var key = `${lib.replace(\"-\", \"\")}_version`;\n",
              "      return (VEGA_DEBUG[key] == version) ?\n",
              "        Promise.resolve(paths[lib]) :\n",
              "        new Promise(function(resolve, reject) {\n",
              "          var s = document.createElement('script');\n",
              "          document.getElementsByTagName(\"head\")[0].appendChild(s);\n",
              "          s.async = true;\n",
              "          s.onload = () => {\n",
              "            VEGA_DEBUG[key] = version;\n",
              "            return resolve(paths[lib]);\n",
              "          };\n",
              "          s.onerror = () => reject(`Error loading script: ${paths[lib]}`);\n",
              "          s.src = paths[lib];\n",
              "        });\n",
              "    }\n",
              "\n",
              "    function showError(err) {\n",
              "      outputDiv.innerHTML = `<div class=\"error\" style=\"color:red;\">${err}</div>`;\n",
              "      throw err;\n",
              "    }\n",
              "\n",
              "    function displayChart(vegaEmbed) {\n",
              "      vegaEmbed(outputDiv, spec, embedOpt)\n",
              "        .catch(err => showError(`Javascript Error: ${err.message}<br>This usually means there's a typo in your chart specification. See the javascript console for the full traceback.`));\n",
              "    }\n",
              "\n",
              "    if(typeof define === \"function\" && define.amd) {\n",
              "      requirejs.config({paths});\n",
              "      require([\"vega-embed\"], displayChart, err => showError(`Error loading script: ${err.message}`));\n",
              "    } else {\n",
              "      maybeLoadScript(\"vega\", \"5\")\n",
              "        .then(() => maybeLoadScript(\"vega-lite\", \"4.17.0\"))\n",
              "        .then(() => maybeLoadScript(\"vega-embed\", \"6\"))\n",
              "        .catch(showError)\n",
              "        .then(() => displayChart(vegaEmbed));\n",
              "    }\n",
              "  })({\"config\": {\"view\": {\"continuousWidth\": 400, \"continuousHeight\": 300}}, \"data\": {\"name\": \"data-59eb41346c9ffea3a51976f9211190c8\"}, \"mark\": \"area\", \"encoding\": {\"x\": {\"field\": \"IMPORTEMONTRANSACCION\", \"type\": \"quantitative\"}, \"y\": {\"field\": \"ORGANIZACION\", \"type\": \"nominal\"}}, \"$schema\": \"https://vega.github.io/schema/vega-lite/v4.17.0.json\", \"datasets\": {\"data-59eb41346c9ffea3a51976f9211190c8\": [{\"ORGANIZACION\": \"Algorte S.A.\", \"DOCUMENTO\": 1, \"FECHA\": 1, \"TIPOFACTURA\": 1, \"PRODUCTO\": 1, \"CENTRODECOSTO\": 0, \"CANTIDAD\": 1, \"PRECIO\": 1, \"IMPORTEMONPRINCIPAL\": 1, \"IMPORTEMONTRANSACCION\": 1, \"MONEDA\": 1}, {\"ORGANIZACION\": \"Amazon Group\", \"DOCUMENTO\": 5, \"FECHA\": 5, \"TIPOFACTURA\": 5, \"PRODUCTO\": 5, \"CENTRODECOSTO\": 2, \"CANTIDAD\": 5, \"PRECIO\": 5, \"IMPORTEMONPRINCIPAL\": 5, \"IMPORTEMONTRANSACCION\": 5, \"MONEDA\": 5}, {\"ORGANIZACION\": \"Berker S.R.L\", \"DOCUMENTO\": 4, \"FECHA\": 4, \"TIPOFACTURA\": 4, \"PRODUCTO\": 4, \"CENTRODECOSTO\": 0, \"CANTIDAD\": 4, \"PRECIO\": 4, \"IMPORTEMONPRINCIPAL\": 4, \"IMPORTEMONTRANSACCION\": 4, \"MONEDA\": 4}, {\"ORGANIZACION\": \"Campomas S.A.\", \"DOCUMENTO\": 7, \"FECHA\": 7, \"TIPOFACTURA\": 7, \"PRODUCTO\": 7, \"CENTRODECOSTO\": 1, \"CANTIDAD\": 7, \"PRECIO\": 7, \"IMPORTEMONPRINCIPAL\": 7, \"IMPORTEMONTRANSACCION\": 7, \"MONEDA\": 7}, {\"ORGANIZACION\": \"Consumidor Final\", \"DOCUMENTO\": 1, \"FECHA\": 1, \"TIPOFACTURA\": 1, \"PRODUCTO\": 1, \"CENTRODECOSTO\": 0, \"CANTIDAD\": 1, \"PRECIO\": 1, \"IMPORTEMONPRINCIPAL\": 1, \"IMPORTEMONTRANSACCION\": 1, \"MONEDA\": 1}, {\"ORGANIZACION\": \"Donadelli S.R.L\", \"DOCUMENTO\": 1, \"FECHA\": 1, \"TIPOFACTURA\": 1, \"PRODUCTO\": 1, \"CENTRODECOSTO\": 0, \"CANTIDAD\": 1, \"PRECIO\": 1, \"IMPORTEMONPRINCIPAL\": 1, \"IMPORTEMONTRANSACCION\": 1, \"MONEDA\": 1}, {\"ORGANIZACION\": \"Etigand S.A.\", \"DOCUMENTO\": 2, \"FECHA\": 2, \"TIPOFACTURA\": 2, \"PRODUCTO\": 2, \"CENTRODECOSTO\": 1, \"CANTIDAD\": 2, \"PRECIO\": 2, \"IMPORTEMONPRINCIPAL\": 2, \"IMPORTEMONTRANSACCION\": 2, \"MONEDA\": 2}, {\"ORGANIZACION\": \"Ferrari Hnos S.A.\", \"DOCUMENTO\": 2, \"FECHA\": 2, \"TIPOFACTURA\": 2, \"PRODUCTO\": 2, \"CENTRODECOSTO\": 0, \"CANTIDAD\": 2, \"PRECIO\": 2, \"IMPORTEMONPRINCIPAL\": 2, \"IMPORTEMONTRANSACCION\": 2, \"MONEDA\": 2}, {\"ORGANIZACION\": \"Galardon S.A.\", \"DOCUMENTO\": 2, \"FECHA\": 2, \"TIPOFACTURA\": 2, \"PRODUCTO\": 2, \"CENTRODECOSTO\": 1, \"CANTIDAD\": 2, \"PRECIO\": 2, \"IMPORTEMONPRINCIPAL\": 2, \"IMPORTEMONTRANSACCION\": 2, \"MONEDA\": 2}, {\"ORGANIZACION\": \"Hernandez S.A.\", \"DOCUMENTO\": 7, \"FECHA\": 7, \"TIPOFACTURA\": 7, \"PRODUCTO\": 7, \"CENTRODECOSTO\": 1, \"CANTIDAD\": 7, \"PRECIO\": 7, \"IMPORTEMONPRINCIPAL\": 7, \"IMPORTEMONTRANSACCION\": 7, \"MONEDA\": 7}, {\"ORGANIZACION\": \"Horacio Aguirre\", \"DOCUMENTO\": 1, \"FECHA\": 1, \"TIPOFACTURA\": 1, \"PRODUCTO\": 1, \"CENTRODECOSTO\": 1, \"CANTIDAD\": 1, \"PRECIO\": 1, \"IMPORTEMONPRINCIPAL\": 1, \"IMPORTEMONTRANSACCION\": 1, \"MONEDA\": 1}, {\"ORGANIZACION\": \"Horizonte S.A.\", \"DOCUMENTO\": 5, \"FECHA\": 5, \"TIPOFACTURA\": 5, \"PRODUCTO\": 5, \"CENTRODECOSTO\": 3, \"CANTIDAD\": 5, \"PRECIO\": 5, \"IMPORTEMONPRINCIPAL\": 5, \"IMPORTEMONTRANSACCION\": 5, \"MONEDA\": 5}, {\"ORGANIZACION\": \"Ignition S.A.C.I\", \"DOCUMENTO\": 2, \"FECHA\": 2, \"TIPOFACTURA\": 2, \"PRODUCTO\": 2, \"CENTRODECOSTO\": 1, \"CANTIDAD\": 2, \"PRECIO\": 2, \"IMPORTEMONPRINCIPAL\": 2, \"IMPORTEMONTRANSACCION\": 2, \"MONEDA\": 2}, {\"ORGANIZACION\": \"Jameson SRL\", \"DOCUMENTO\": 4, \"FECHA\": 4, \"TIPOFACTURA\": 4, \"PRODUCTO\": 4, \"CENTRODECOSTO\": 0, \"CANTIDAD\": 4, \"PRECIO\": 4, \"IMPORTEMONPRINCIPAL\": 4, \"IMPORTEMONTRANSACCION\": 4, \"MONEDA\": 4}, {\"ORGANIZACION\": \"Javier Moroni\", \"DOCUMENTO\": 6, \"FECHA\": 6, \"TIPOFACTURA\": 6, \"PRODUCTO\": 6, \"CENTRODECOSTO\": 1, \"CANTIDAD\": 6, \"PRECIO\": 6, \"IMPORTEMONPRINCIPAL\": 6, \"IMPORTEMONTRANSACCION\": 6, \"MONEDA\": 6}, {\"ORGANIZACION\": \"Juan Fern\\u00e1ndez\", \"DOCUMENTO\": 4, \"FECHA\": 4, \"TIPOFACTURA\": 4, \"PRODUCTO\": 4, \"CENTRODECOSTO\": 1, \"CANTIDAD\": 4, \"PRECIO\": 4, \"IMPORTEMONPRINCIPAL\": 4, \"IMPORTEMONTRANSACCION\": 4, \"MONEDA\": 4}, {\"ORGANIZACION\": \"Juan Lopez\", \"DOCUMENTO\": 2, \"FECHA\": 2, \"TIPOFACTURA\": 2, \"PRODUCTO\": 2, \"CENTRODECOSTO\": 0, \"CANTIDAD\": 2, \"PRECIO\": 2, \"IMPORTEMONPRINCIPAL\": 2, \"IMPORTEMONTRANSACCION\": 2, \"MONEDA\": 2}, {\"ORGANIZACION\": \"Klarkson\", \"DOCUMENTO\": 4, \"FECHA\": 4, \"TIPOFACTURA\": 4, \"PRODUCTO\": 4, \"CENTRODECOSTO\": 1, \"CANTIDAD\": 4, \"PRECIO\": 4, \"IMPORTEMONPRINCIPAL\": 4, \"IMPORTEMONTRANSACCION\": 4, \"MONEDA\": 4}, {\"ORGANIZACION\": \"Manganello S.R.L\", \"DOCUMENTO\": 9, \"FECHA\": 9, \"TIPOFACTURA\": 9, \"PRODUCTO\": 9, \"CENTRODECOSTO\": 3, \"CANTIDAD\": 9, \"PRECIO\": 9, \"IMPORTEMONPRINCIPAL\": 9, \"IMPORTEMONTRANSACCION\": 9, \"MONEDA\": 9}, {\"ORGANIZACION\": \"Nicolasen y Asociados S.A.\", \"DOCUMENTO\": 8, \"FECHA\": 8, \"TIPOFACTURA\": 8, \"PRODUCTO\": 8, \"CENTRODECOSTO\": 2, \"CANTIDAD\": 8, \"PRECIO\": 8, \"IMPORTEMONPRINCIPAL\": 8, \"IMPORTEMONTRANSACCION\": 8, \"MONEDA\": 8}, {\"ORGANIZACION\": \"Valeria Welponer\", \"DOCUMENTO\": 1, \"FECHA\": 1, \"TIPOFACTURA\": 1, \"PRODUCTO\": 1, \"CENTRODECOSTO\": 0, \"CANTIDAD\": 1, \"PRECIO\": 1, \"IMPORTEMONPRINCIPAL\": 1, \"IMPORTEMONTRANSACCION\": 1, \"MONEDA\": 1}]}}, {\"mode\": \"vega-lite\"});\n",
              "</script>"
            ],
            "text/plain": [
              "alt.Chart(...)"
            ]
          },
          "metadata": {},
          "execution_count": 16
        }
      ]
    },
    {
      "cell_type": "markdown",
      "source": [
        "### **Diagrama de Dispersión - Scatter**\n"
      ],
      "metadata": {
        "id": "FyeGrcJMloiI"
      },
      "id": "FyeGrcJMloiI"
    },
    {
      "cell_type": "code",
      "source": [
        "alt.Chart(agrupacion_clientes).mark_circle().encode(\n",
        "  alt.X(\"PRECIO\", bin=True),\n",
        "  alt.Y(\"IMPORTEMONTRANSACCION\", bin=True),\n",
        "  color=\"PRECIO\",\n",
        "  size=\"PRECIO\"\n",
        ").interactive()"
      ],
      "metadata": {
        "colab": {
          "base_uri": "https://localhost:8080/",
          "height": 368
        },
        "id": "TXbY5Kxmlwpt",
        "outputId": "41abd38d-c33c-4dbf-ce60-dbc2ea479ed3"
      },
      "id": "TXbY5Kxmlwpt",
      "execution_count": 17,
      "outputs": [
        {
          "output_type": "execute_result",
          "data": {
            "text/html": [
              "\n",
              "<div id=\"altair-viz-9d377b3104df4691a700da0ce31dd719\"></div>\n",
              "<script type=\"text/javascript\">\n",
              "  var VEGA_DEBUG = (typeof VEGA_DEBUG == \"undefined\") ? {} : VEGA_DEBUG;\n",
              "  (function(spec, embedOpt){\n",
              "    let outputDiv = document.currentScript.previousElementSibling;\n",
              "    if (outputDiv.id !== \"altair-viz-9d377b3104df4691a700da0ce31dd719\") {\n",
              "      outputDiv = document.getElementById(\"altair-viz-9d377b3104df4691a700da0ce31dd719\");\n",
              "    }\n",
              "    const paths = {\n",
              "      \"vega\": \"https://cdn.jsdelivr.net/npm//vega@5?noext\",\n",
              "      \"vega-lib\": \"https://cdn.jsdelivr.net/npm//vega-lib?noext\",\n",
              "      \"vega-lite\": \"https://cdn.jsdelivr.net/npm//vega-lite@4.17.0?noext\",\n",
              "      \"vega-embed\": \"https://cdn.jsdelivr.net/npm//vega-embed@6?noext\",\n",
              "    };\n",
              "\n",
              "    function maybeLoadScript(lib, version) {\n",
              "      var key = `${lib.replace(\"-\", \"\")}_version`;\n",
              "      return (VEGA_DEBUG[key] == version) ?\n",
              "        Promise.resolve(paths[lib]) :\n",
              "        new Promise(function(resolve, reject) {\n",
              "          var s = document.createElement('script');\n",
              "          document.getElementsByTagName(\"head\")[0].appendChild(s);\n",
              "          s.async = true;\n",
              "          s.onload = () => {\n",
              "            VEGA_DEBUG[key] = version;\n",
              "            return resolve(paths[lib]);\n",
              "          };\n",
              "          s.onerror = () => reject(`Error loading script: ${paths[lib]}`);\n",
              "          s.src = paths[lib];\n",
              "        });\n",
              "    }\n",
              "\n",
              "    function showError(err) {\n",
              "      outputDiv.innerHTML = `<div class=\"error\" style=\"color:red;\">${err}</div>`;\n",
              "      throw err;\n",
              "    }\n",
              "\n",
              "    function displayChart(vegaEmbed) {\n",
              "      vegaEmbed(outputDiv, spec, embedOpt)\n",
              "        .catch(err => showError(`Javascript Error: ${err.message}<br>This usually means there's a typo in your chart specification. See the javascript console for the full traceback.`));\n",
              "    }\n",
              "\n",
              "    if(typeof define === \"function\" && define.amd) {\n",
              "      requirejs.config({paths});\n",
              "      require([\"vega-embed\"], displayChart, err => showError(`Error loading script: ${err.message}`));\n",
              "    } else {\n",
              "      maybeLoadScript(\"vega\", \"5\")\n",
              "        .then(() => maybeLoadScript(\"vega-lite\", \"4.17.0\"))\n",
              "        .then(() => maybeLoadScript(\"vega-embed\", \"6\"))\n",
              "        .catch(showError)\n",
              "        .then(() => displayChart(vegaEmbed));\n",
              "    }\n",
              "  })({\"config\": {\"view\": {\"continuousWidth\": 400, \"continuousHeight\": 300}}, \"data\": {\"name\": \"data-59eb41346c9ffea3a51976f9211190c8\"}, \"mark\": \"circle\", \"encoding\": {\"color\": {\"field\": \"PRECIO\", \"type\": \"quantitative\"}, \"size\": {\"field\": \"PRECIO\", \"type\": \"quantitative\"}, \"x\": {\"bin\": true, \"field\": \"PRECIO\", \"type\": \"quantitative\"}, \"y\": {\"bin\": true, \"field\": \"IMPORTEMONTRANSACCION\", \"type\": \"quantitative\"}}, \"selection\": {\"selector008\": {\"type\": \"interval\", \"bind\": \"scales\", \"encodings\": [\"x\", \"y\"]}}, \"$schema\": \"https://vega.github.io/schema/vega-lite/v4.17.0.json\", \"datasets\": {\"data-59eb41346c9ffea3a51976f9211190c8\": [{\"ORGANIZACION\": \"Algorte S.A.\", \"DOCUMENTO\": 1, \"FECHA\": 1, \"TIPOFACTURA\": 1, \"PRODUCTO\": 1, \"CENTRODECOSTO\": 0, \"CANTIDAD\": 1, \"PRECIO\": 1, \"IMPORTEMONPRINCIPAL\": 1, \"IMPORTEMONTRANSACCION\": 1, \"MONEDA\": 1}, {\"ORGANIZACION\": \"Amazon Group\", \"DOCUMENTO\": 5, \"FECHA\": 5, \"TIPOFACTURA\": 5, \"PRODUCTO\": 5, \"CENTRODECOSTO\": 2, \"CANTIDAD\": 5, \"PRECIO\": 5, \"IMPORTEMONPRINCIPAL\": 5, \"IMPORTEMONTRANSACCION\": 5, \"MONEDA\": 5}, {\"ORGANIZACION\": \"Berker S.R.L\", \"DOCUMENTO\": 4, \"FECHA\": 4, \"TIPOFACTURA\": 4, \"PRODUCTO\": 4, \"CENTRODECOSTO\": 0, \"CANTIDAD\": 4, \"PRECIO\": 4, \"IMPORTEMONPRINCIPAL\": 4, \"IMPORTEMONTRANSACCION\": 4, \"MONEDA\": 4}, {\"ORGANIZACION\": \"Campomas S.A.\", \"DOCUMENTO\": 7, \"FECHA\": 7, \"TIPOFACTURA\": 7, \"PRODUCTO\": 7, \"CENTRODECOSTO\": 1, \"CANTIDAD\": 7, \"PRECIO\": 7, \"IMPORTEMONPRINCIPAL\": 7, \"IMPORTEMONTRANSACCION\": 7, \"MONEDA\": 7}, {\"ORGANIZACION\": \"Consumidor Final\", \"DOCUMENTO\": 1, \"FECHA\": 1, \"TIPOFACTURA\": 1, \"PRODUCTO\": 1, \"CENTRODECOSTO\": 0, \"CANTIDAD\": 1, \"PRECIO\": 1, \"IMPORTEMONPRINCIPAL\": 1, \"IMPORTEMONTRANSACCION\": 1, \"MONEDA\": 1}, {\"ORGANIZACION\": \"Donadelli S.R.L\", \"DOCUMENTO\": 1, \"FECHA\": 1, \"TIPOFACTURA\": 1, \"PRODUCTO\": 1, \"CENTRODECOSTO\": 0, \"CANTIDAD\": 1, \"PRECIO\": 1, \"IMPORTEMONPRINCIPAL\": 1, \"IMPORTEMONTRANSACCION\": 1, \"MONEDA\": 1}, {\"ORGANIZACION\": \"Etigand S.A.\", \"DOCUMENTO\": 2, \"FECHA\": 2, \"TIPOFACTURA\": 2, \"PRODUCTO\": 2, \"CENTRODECOSTO\": 1, \"CANTIDAD\": 2, \"PRECIO\": 2, \"IMPORTEMONPRINCIPAL\": 2, \"IMPORTEMONTRANSACCION\": 2, \"MONEDA\": 2}, {\"ORGANIZACION\": \"Ferrari Hnos S.A.\", \"DOCUMENTO\": 2, \"FECHA\": 2, \"TIPOFACTURA\": 2, \"PRODUCTO\": 2, \"CENTRODECOSTO\": 0, \"CANTIDAD\": 2, \"PRECIO\": 2, \"IMPORTEMONPRINCIPAL\": 2, \"IMPORTEMONTRANSACCION\": 2, \"MONEDA\": 2}, {\"ORGANIZACION\": \"Galardon S.A.\", \"DOCUMENTO\": 2, \"FECHA\": 2, \"TIPOFACTURA\": 2, \"PRODUCTO\": 2, \"CENTRODECOSTO\": 1, \"CANTIDAD\": 2, \"PRECIO\": 2, \"IMPORTEMONPRINCIPAL\": 2, \"IMPORTEMONTRANSACCION\": 2, \"MONEDA\": 2}, {\"ORGANIZACION\": \"Hernandez S.A.\", \"DOCUMENTO\": 7, \"FECHA\": 7, \"TIPOFACTURA\": 7, \"PRODUCTO\": 7, \"CENTRODECOSTO\": 1, \"CANTIDAD\": 7, \"PRECIO\": 7, \"IMPORTEMONPRINCIPAL\": 7, \"IMPORTEMONTRANSACCION\": 7, \"MONEDA\": 7}, {\"ORGANIZACION\": \"Horacio Aguirre\", \"DOCUMENTO\": 1, \"FECHA\": 1, \"TIPOFACTURA\": 1, \"PRODUCTO\": 1, \"CENTRODECOSTO\": 1, \"CANTIDAD\": 1, \"PRECIO\": 1, \"IMPORTEMONPRINCIPAL\": 1, \"IMPORTEMONTRANSACCION\": 1, \"MONEDA\": 1}, {\"ORGANIZACION\": \"Horizonte S.A.\", \"DOCUMENTO\": 5, \"FECHA\": 5, \"TIPOFACTURA\": 5, \"PRODUCTO\": 5, \"CENTRODECOSTO\": 3, \"CANTIDAD\": 5, \"PRECIO\": 5, \"IMPORTEMONPRINCIPAL\": 5, \"IMPORTEMONTRANSACCION\": 5, \"MONEDA\": 5}, {\"ORGANIZACION\": \"Ignition S.A.C.I\", \"DOCUMENTO\": 2, \"FECHA\": 2, \"TIPOFACTURA\": 2, \"PRODUCTO\": 2, \"CENTRODECOSTO\": 1, \"CANTIDAD\": 2, \"PRECIO\": 2, \"IMPORTEMONPRINCIPAL\": 2, \"IMPORTEMONTRANSACCION\": 2, \"MONEDA\": 2}, {\"ORGANIZACION\": \"Jameson SRL\", \"DOCUMENTO\": 4, \"FECHA\": 4, \"TIPOFACTURA\": 4, \"PRODUCTO\": 4, \"CENTRODECOSTO\": 0, \"CANTIDAD\": 4, \"PRECIO\": 4, \"IMPORTEMONPRINCIPAL\": 4, \"IMPORTEMONTRANSACCION\": 4, \"MONEDA\": 4}, {\"ORGANIZACION\": \"Javier Moroni\", \"DOCUMENTO\": 6, \"FECHA\": 6, \"TIPOFACTURA\": 6, \"PRODUCTO\": 6, \"CENTRODECOSTO\": 1, \"CANTIDAD\": 6, \"PRECIO\": 6, \"IMPORTEMONPRINCIPAL\": 6, \"IMPORTEMONTRANSACCION\": 6, \"MONEDA\": 6}, {\"ORGANIZACION\": \"Juan Fern\\u00e1ndez\", \"DOCUMENTO\": 4, \"FECHA\": 4, \"TIPOFACTURA\": 4, \"PRODUCTO\": 4, \"CENTRODECOSTO\": 1, \"CANTIDAD\": 4, \"PRECIO\": 4, \"IMPORTEMONPRINCIPAL\": 4, \"IMPORTEMONTRANSACCION\": 4, \"MONEDA\": 4}, {\"ORGANIZACION\": \"Juan Lopez\", \"DOCUMENTO\": 2, \"FECHA\": 2, \"TIPOFACTURA\": 2, \"PRODUCTO\": 2, \"CENTRODECOSTO\": 0, \"CANTIDAD\": 2, \"PRECIO\": 2, \"IMPORTEMONPRINCIPAL\": 2, \"IMPORTEMONTRANSACCION\": 2, \"MONEDA\": 2}, {\"ORGANIZACION\": \"Klarkson\", \"DOCUMENTO\": 4, \"FECHA\": 4, \"TIPOFACTURA\": 4, \"PRODUCTO\": 4, \"CENTRODECOSTO\": 1, \"CANTIDAD\": 4, \"PRECIO\": 4, \"IMPORTEMONPRINCIPAL\": 4, \"IMPORTEMONTRANSACCION\": 4, \"MONEDA\": 4}, {\"ORGANIZACION\": \"Manganello S.R.L\", \"DOCUMENTO\": 9, \"FECHA\": 9, \"TIPOFACTURA\": 9, \"PRODUCTO\": 9, \"CENTRODECOSTO\": 3, \"CANTIDAD\": 9, \"PRECIO\": 9, \"IMPORTEMONPRINCIPAL\": 9, \"IMPORTEMONTRANSACCION\": 9, \"MONEDA\": 9}, {\"ORGANIZACION\": \"Nicolasen y Asociados S.A.\", \"DOCUMENTO\": 8, \"FECHA\": 8, \"TIPOFACTURA\": 8, \"PRODUCTO\": 8, \"CENTRODECOSTO\": 2, \"CANTIDAD\": 8, \"PRECIO\": 8, \"IMPORTEMONPRINCIPAL\": 8, \"IMPORTEMONTRANSACCION\": 8, \"MONEDA\": 8}, {\"ORGANIZACION\": \"Valeria Welponer\", \"DOCUMENTO\": 1, \"FECHA\": 1, \"TIPOFACTURA\": 1, \"PRODUCTO\": 1, \"CENTRODECOSTO\": 0, \"CANTIDAD\": 1, \"PRECIO\": 1, \"IMPORTEMONPRINCIPAL\": 1, \"IMPORTEMONTRANSACCION\": 1, \"MONEDA\": 1}]}}, {\"mode\": \"vega-lite\"});\n",
              "</script>"
            ],
            "text/plain": [
              "alt.Chart(...)"
            ]
          },
          "metadata": {},
          "execution_count": 17
        }
      ]
    }
  ],
  "metadata": {
    "kernelspec": {
      "display_name": "Python 3 (ipykernel)",
      "language": "python",
      "name": "python3"
    },
    "language_info": {
      "codemirror_mode": {
        "name": "ipython",
        "version": 3
      },
      "file_extension": ".py",
      "mimetype": "text/x-python",
      "name": "python",
      "nbconvert_exporter": "python",
      "pygments_lexer": "ipython3",
      "version": "3.10.2"
    },
    "colab": {
      "name": "at-01.ipynb",
      "provenance": [],
      "include_colab_link": true
    }
  },
  "nbformat": 4,
  "nbformat_minor": 5
}