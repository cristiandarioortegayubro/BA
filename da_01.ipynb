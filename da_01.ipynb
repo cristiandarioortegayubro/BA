{
  "nbformat": 4,
  "nbformat_minor": 0,
  "metadata": {
    "colab": {
      "provenance": [],
      "collapsed_sections": [],
      "include_colab_link": true
    },
    "kernelspec": {
      "display_name": "Python 3",
      "name": "python3"
    }
  },
  "cells": [
    {
      "cell_type": "markdown",
      "metadata": {
        "id": "view-in-github",
        "colab_type": "text"
      },
      "source": [
        "<a href=\"https://colab.research.google.com/github/cristiandarioortegayubro/BA/blob/main/da_01.ipynb\" target=\"_parent\"><img src=\"https://colab.research.google.com/assets/colab-badge.svg\" alt=\"Open In Colab\"/></a>"
      ]
    },
    {
      "cell_type": "markdown",
      "source": [
        "![logo](https://github.com/cristiandarioortegayubro/BA/blob/main/dba.png?raw=true)"
      ],
      "metadata": {
        "id": "TUgRtROytKrw"
      }
    },
    {
      "cell_type": "markdown",
      "source": [
        "![](https://scikit-learn.org/stable/_static/scikit-learn-logo-small.png)"
      ],
      "metadata": {
        "id": "uFqPP03ptV53"
      }
    },
    {
      "cell_type": "markdown",
      "metadata": {
        "id": "Gj-7-sLFTVHC"
      },
      "source": [
        "[scikit-learn](https://scikit-learn.org/stable/modules/generated/sklearn.covariance.EllipticEnvelope.html)"
      ]
    },
    {
      "cell_type": "markdown",
      "metadata": {
        "id": "WJAQsOrbL_tU"
      },
      "source": [
        "# **Detección de Anomalías - FastMCD**\n"
      ]
    },
    {
      "cell_type": "markdown",
      "metadata": {
        "id": "aFDMU-W_5qMZ"
      },
      "source": [
        "## **Carga de librerías necesarias**"
      ]
    },
    {
      "cell_type": "markdown",
      "metadata": {
        "id": "OgnGuTu0fNo4"
      },
      "source": [
        "### **Analisis de datos**"
      ]
    },
    {
      "cell_type": "code",
      "metadata": {
        "id": "dgWMRzBsCfMf"
      },
      "source": [
        "import numpy as np\n",
        "import pandas as pd"
      ],
      "execution_count": 1,
      "outputs": []
    },
    {
      "cell_type": "markdown",
      "metadata": {
        "id": "bq7lrVvAffWZ"
      },
      "source": [
        "### **Modelo y preprocesamiento**"
      ]
    },
    {
      "cell_type": "code",
      "metadata": {
        "id": "DXQGHglfKeYd"
      },
      "source": [
        "from sklearn.covariance import EllipticEnvelope"
      ],
      "execution_count": 2,
      "outputs": []
    },
    {
      "cell_type": "markdown",
      "metadata": {
        "id": "2G8BhiQYfSv8"
      },
      "source": [
        "### **Graficos**"
      ]
    },
    {
      "cell_type": "code",
      "metadata": {
        "id": "DPlF_1rxfU4W"
      },
      "source": [
        "import matplotlib.pyplot as plt\n",
        "import seaborn as sns\n",
        "import altair as alt\n",
        "import plotly.express as px"
      ],
      "execution_count": 3,
      "outputs": []
    },
    {
      "cell_type": "markdown",
      "metadata": {
        "id": "Xx6jC6sSzFw0"
      },
      "source": [
        "## **Obtención de los Datos**"
      ]
    },
    {
      "cell_type": "markdown",
      "metadata": {
        "id": "QhP9QDanakVE"
      },
      "source": [
        "### **Generación de Datos**"
      ]
    },
    {
      "cell_type": "code",
      "metadata": {
        "id": "Ac0quyohbT46"
      },
      "source": [
        "d1 = np.random.multivariate_normal(mean = np.array([-.5, 0]), cov = np.array([[1, 0], [0, 1]]), size = 100)"
      ],
      "execution_count": 4,
      "outputs": []
    },
    {
      "cell_type": "code",
      "metadata": {
        "id": "eonmWPdGHFYh"
      },
      "source": [
        "d2 = np.random.multivariate_normal(mean = np.array([15, 10]), cov = np.array([[1, 0.3], [.3, 1]]), size = 100)"
      ],
      "execution_count": 5,
      "outputs": []
    },
    {
      "cell_type": "code",
      "metadata": {
        "id": "HhylNqFPHUQJ"
      },
      "source": [
        "outliers = np.array([[0, 10],[0, 9.5]])"
      ],
      "execution_count": 6,
      "outputs": []
    },
    {
      "cell_type": "markdown",
      "metadata": {
        "id": "HlZc2mMeR8tf"
      },
      "source": [
        "### **Creación del dataframe**"
      ]
    },
    {
      "cell_type": "code",
      "metadata": {
        "id": "dkSlF736HVwW"
      },
      "source": [
        "df = pd.DataFrame(np.concatenate([d1, d2, outliers], axis = 0), columns = ['Var 1', 'Var 2'])"
      ],
      "execution_count": 7,
      "outputs": []
    },
    {
      "cell_type": "code",
      "metadata": {
        "id": "MlOJaLfEHfvS",
        "colab": {
          "base_uri": "https://localhost:8080/",
          "height": 433
        },
        "outputId": "9263b843-9452-4005-c7de-cf8fa9e31ff0"
      },
      "source": [
        "df"
      ],
      "execution_count": 8,
      "outputs": [
        {
          "output_type": "execute_result",
          "data": {
            "text/plain": [
              "         Var 1      Var 2\n",
              "0     0.173589   0.443017\n",
              "1    -0.637995   0.381352\n",
              "2    -1.328323   1.278494\n",
              "3     0.831462  -1.381213\n",
              "4     0.847861   0.489595\n",
              "..         ...        ...\n",
              "197  12.735312   9.025267\n",
              "198  16.098521  10.243032\n",
              "199  16.723681  10.123145\n",
              "200   0.000000  10.000000\n",
              "201   0.000000   9.500000\n",
              "\n",
              "[202 rows x 2 columns]"
            ],
            "text/html": [
              "\n",
              "  <div id=\"df-81a7a469-0b63-4f6a-b607-7902d496586d\">\n",
              "    <div class=\"colab-df-container\">\n",
              "      <div>\n",
              "<style scoped>\n",
              "    .dataframe tbody tr th:only-of-type {\n",
              "        vertical-align: middle;\n",
              "    }\n",
              "\n",
              "    .dataframe tbody tr th {\n",
              "        vertical-align: top;\n",
              "    }\n",
              "\n",
              "    .dataframe thead th {\n",
              "        text-align: right;\n",
              "    }\n",
              "</style>\n",
              "<table border=\"1\" class=\"dataframe\">\n",
              "  <thead>\n",
              "    <tr style=\"text-align: right;\">\n",
              "      <th></th>\n",
              "      <th>Var 1</th>\n",
              "      <th>Var 2</th>\n",
              "    </tr>\n",
              "  </thead>\n",
              "  <tbody>\n",
              "    <tr>\n",
              "      <th>0</th>\n",
              "      <td>0.173589</td>\n",
              "      <td>0.443017</td>\n",
              "    </tr>\n",
              "    <tr>\n",
              "      <th>1</th>\n",
              "      <td>-0.637995</td>\n",
              "      <td>0.381352</td>\n",
              "    </tr>\n",
              "    <tr>\n",
              "      <th>2</th>\n",
              "      <td>-1.328323</td>\n",
              "      <td>1.278494</td>\n",
              "    </tr>\n",
              "    <tr>\n",
              "      <th>3</th>\n",
              "      <td>0.831462</td>\n",
              "      <td>-1.381213</td>\n",
              "    </tr>\n",
              "    <tr>\n",
              "      <th>4</th>\n",
              "      <td>0.847861</td>\n",
              "      <td>0.489595</td>\n",
              "    </tr>\n",
              "    <tr>\n",
              "      <th>...</th>\n",
              "      <td>...</td>\n",
              "      <td>...</td>\n",
              "    </tr>\n",
              "    <tr>\n",
              "      <th>197</th>\n",
              "      <td>12.735312</td>\n",
              "      <td>9.025267</td>\n",
              "    </tr>\n",
              "    <tr>\n",
              "      <th>198</th>\n",
              "      <td>16.098521</td>\n",
              "      <td>10.243032</td>\n",
              "    </tr>\n",
              "    <tr>\n",
              "      <th>199</th>\n",
              "      <td>16.723681</td>\n",
              "      <td>10.123145</td>\n",
              "    </tr>\n",
              "    <tr>\n",
              "      <th>200</th>\n",
              "      <td>0.000000</td>\n",
              "      <td>10.000000</td>\n",
              "    </tr>\n",
              "    <tr>\n",
              "      <th>201</th>\n",
              "      <td>0.000000</td>\n",
              "      <td>9.500000</td>\n",
              "    </tr>\n",
              "  </tbody>\n",
              "</table>\n",
              "<p>202 rows × 2 columns</p>\n",
              "</div>\n",
              "      <button class=\"colab-df-convert\" onclick=\"convertToInteractive('df-81a7a469-0b63-4f6a-b607-7902d496586d')\"\n",
              "              title=\"Convert this dataframe to an interactive table.\"\n",
              "              style=\"display:none;\">\n",
              "        \n",
              "  <svg xmlns=\"http://www.w3.org/2000/svg\" height=\"24px\"viewBox=\"0 0 24 24\"\n",
              "       width=\"24px\">\n",
              "    <path d=\"M0 0h24v24H0V0z\" fill=\"none\"/>\n",
              "    <path d=\"M18.56 5.44l.94 2.06.94-2.06 2.06-.94-2.06-.94-.94-2.06-.94 2.06-2.06.94zm-11 1L8.5 8.5l.94-2.06 2.06-.94-2.06-.94L8.5 2.5l-.94 2.06-2.06.94zm10 10l.94 2.06.94-2.06 2.06-.94-2.06-.94-.94-2.06-.94 2.06-2.06.94z\"/><path d=\"M17.41 7.96l-1.37-1.37c-.4-.4-.92-.59-1.43-.59-.52 0-1.04.2-1.43.59L10.3 9.45l-7.72 7.72c-.78.78-.78 2.05 0 2.83L4 21.41c.39.39.9.59 1.41.59.51 0 1.02-.2 1.41-.59l7.78-7.78 2.81-2.81c.8-.78.8-2.07 0-2.86zM5.41 20L4 18.59l7.72-7.72 1.47 1.35L5.41 20z\"/>\n",
              "  </svg>\n",
              "      </button>\n",
              "      \n",
              "  <style>\n",
              "    .colab-df-container {\n",
              "      display:flex;\n",
              "      flex-wrap:wrap;\n",
              "      gap: 12px;\n",
              "    }\n",
              "\n",
              "    .colab-df-convert {\n",
              "      background-color: #E8F0FE;\n",
              "      border: none;\n",
              "      border-radius: 50%;\n",
              "      cursor: pointer;\n",
              "      display: none;\n",
              "      fill: #1967D2;\n",
              "      height: 32px;\n",
              "      padding: 0 0 0 0;\n",
              "      width: 32px;\n",
              "    }\n",
              "\n",
              "    .colab-df-convert:hover {\n",
              "      background-color: #E2EBFA;\n",
              "      box-shadow: 0px 1px 2px rgba(60, 64, 67, 0.3), 0px 1px 3px 1px rgba(60, 64, 67, 0.15);\n",
              "      fill: #174EA6;\n",
              "    }\n",
              "\n",
              "    [theme=dark] .colab-df-convert {\n",
              "      background-color: #3B4455;\n",
              "      fill: #D2E3FC;\n",
              "    }\n",
              "\n",
              "    [theme=dark] .colab-df-convert:hover {\n",
              "      background-color: #434B5C;\n",
              "      box-shadow: 0px 1px 3px 1px rgba(0, 0, 0, 0.15);\n",
              "      filter: drop-shadow(0px 1px 2px rgba(0, 0, 0, 0.3));\n",
              "      fill: #FFFFFF;\n",
              "    }\n",
              "  </style>\n",
              "\n",
              "      <script>\n",
              "        const buttonEl =\n",
              "          document.querySelector('#df-81a7a469-0b63-4f6a-b607-7902d496586d button.colab-df-convert');\n",
              "        buttonEl.style.display =\n",
              "          google.colab.kernel.accessAllowed ? 'block' : 'none';\n",
              "\n",
              "        async function convertToInteractive(key) {\n",
              "          const element = document.querySelector('#df-81a7a469-0b63-4f6a-b607-7902d496586d');\n",
              "          const dataTable =\n",
              "            await google.colab.kernel.invokeFunction('convertToInteractive',\n",
              "                                                     [key], {});\n",
              "          if (!dataTable) return;\n",
              "\n",
              "          const docLinkHtml = 'Like what you see? Visit the ' +\n",
              "            '<a target=\"_blank\" href=https://colab.research.google.com/notebooks/data_table.ipynb>data table notebook</a>'\n",
              "            + ' to learn more about interactive tables.';\n",
              "          element.innerHTML = '';\n",
              "          dataTable['output_type'] = 'display_data';\n",
              "          await google.colab.output.renderOutput(dataTable, element);\n",
              "          const docLink = document.createElement('div');\n",
              "          docLink.innerHTML = docLinkHtml;\n",
              "          element.appendChild(docLink);\n",
              "        }\n",
              "      </script>\n",
              "    </div>\n",
              "  </div>\n",
              "  "
            ]
          },
          "metadata": {},
          "execution_count": 8
        }
      ]
    },
    {
      "cell_type": "markdown",
      "metadata": {
        "id": "MWZmmHCVSqIo"
      },
      "source": [
        "## **Modelo**"
      ]
    },
    {
      "cell_type": "markdown",
      "metadata": {
        "id": "ivV_NHCQbPr0"
      },
      "source": [
        "### **Estableciendo el algoritmo**"
      ]
    },
    {
      "cell_type": "code",
      "metadata": {
        "id": "CvYqvxomSwyK"
      },
      "source": [
        "el = EllipticEnvelope(store_precision=True, \n",
        "                      assume_centered=False, \n",
        "                      support_fraction=None, \n",
        "                      contamination=0.0075, \n",
        "                      random_state=0)"
      ],
      "execution_count": 9,
      "outputs": []
    },
    {
      "cell_type": "markdown",
      "metadata": {
        "id": "gaWQWdaLbV4S"
      },
      "source": [
        "### **Aplicando el algoritmo al dataframe**"
      ]
    },
    {
      "cell_type": "code",
      "metadata": {
        "colab": {
          "base_uri": "https://localhost:8080/"
        },
        "id": "UcM0dVPHVC8w",
        "outputId": "23efc438-a5bc-4621-f56c-342a9b4cd387"
      },
      "source": [
        "el.fit(df)"
      ],
      "execution_count": 10,
      "outputs": [
        {
          "output_type": "execute_result",
          "data": {
            "text/plain": [
              "EllipticEnvelope(contamination=0.0075, random_state=0)"
            ]
          },
          "metadata": {},
          "execution_count": 10
        }
      ]
    },
    {
      "cell_type": "markdown",
      "metadata": {
        "id": "xnuucMB5bZel"
      },
      "source": [
        "### **Realizando la predicción**"
      ]
    },
    {
      "cell_type": "code",
      "metadata": {
        "id": "jlqC-2yCVHDF"
      },
      "source": [
        "df['Anomalia'] = el.predict(df)"
      ],
      "execution_count": 11,
      "outputs": []
    },
    {
      "cell_type": "code",
      "metadata": {
        "colab": {
          "base_uri": "https://localhost:8080/",
          "height": 433
        },
        "id": "Kz3maiAvVOdK",
        "outputId": "45f7d115-9bf9-4405-d036-c76ded87d5a2"
      },
      "source": [
        "df"
      ],
      "execution_count": 12,
      "outputs": [
        {
          "output_type": "execute_result",
          "data": {
            "text/plain": [
              "         Var 1      Var 2  Anomalia\n",
              "0     0.173589   0.443017         1\n",
              "1    -0.637995   0.381352         1\n",
              "2    -1.328323   1.278494         1\n",
              "3     0.831462  -1.381213         1\n",
              "4     0.847861   0.489595         1\n",
              "..         ...        ...       ...\n",
              "197  12.735312   9.025267         1\n",
              "198  16.098521  10.243032         1\n",
              "199  16.723681  10.123145         1\n",
              "200   0.000000  10.000000        -1\n",
              "201   0.000000   9.500000        -1\n",
              "\n",
              "[202 rows x 3 columns]"
            ],
            "text/html": [
              "\n",
              "  <div id=\"df-0fd1d08f-bffc-42a4-8248-5c31b97594f4\">\n",
              "    <div class=\"colab-df-container\">\n",
              "      <div>\n",
              "<style scoped>\n",
              "    .dataframe tbody tr th:only-of-type {\n",
              "        vertical-align: middle;\n",
              "    }\n",
              "\n",
              "    .dataframe tbody tr th {\n",
              "        vertical-align: top;\n",
              "    }\n",
              "\n",
              "    .dataframe thead th {\n",
              "        text-align: right;\n",
              "    }\n",
              "</style>\n",
              "<table border=\"1\" class=\"dataframe\">\n",
              "  <thead>\n",
              "    <tr style=\"text-align: right;\">\n",
              "      <th></th>\n",
              "      <th>Var 1</th>\n",
              "      <th>Var 2</th>\n",
              "      <th>Anomalia</th>\n",
              "    </tr>\n",
              "  </thead>\n",
              "  <tbody>\n",
              "    <tr>\n",
              "      <th>0</th>\n",
              "      <td>0.173589</td>\n",
              "      <td>0.443017</td>\n",
              "      <td>1</td>\n",
              "    </tr>\n",
              "    <tr>\n",
              "      <th>1</th>\n",
              "      <td>-0.637995</td>\n",
              "      <td>0.381352</td>\n",
              "      <td>1</td>\n",
              "    </tr>\n",
              "    <tr>\n",
              "      <th>2</th>\n",
              "      <td>-1.328323</td>\n",
              "      <td>1.278494</td>\n",
              "      <td>1</td>\n",
              "    </tr>\n",
              "    <tr>\n",
              "      <th>3</th>\n",
              "      <td>0.831462</td>\n",
              "      <td>-1.381213</td>\n",
              "      <td>1</td>\n",
              "    </tr>\n",
              "    <tr>\n",
              "      <th>4</th>\n",
              "      <td>0.847861</td>\n",
              "      <td>0.489595</td>\n",
              "      <td>1</td>\n",
              "    </tr>\n",
              "    <tr>\n",
              "      <th>...</th>\n",
              "      <td>...</td>\n",
              "      <td>...</td>\n",
              "      <td>...</td>\n",
              "    </tr>\n",
              "    <tr>\n",
              "      <th>197</th>\n",
              "      <td>12.735312</td>\n",
              "      <td>9.025267</td>\n",
              "      <td>1</td>\n",
              "    </tr>\n",
              "    <tr>\n",
              "      <th>198</th>\n",
              "      <td>16.098521</td>\n",
              "      <td>10.243032</td>\n",
              "      <td>1</td>\n",
              "    </tr>\n",
              "    <tr>\n",
              "      <th>199</th>\n",
              "      <td>16.723681</td>\n",
              "      <td>10.123145</td>\n",
              "      <td>1</td>\n",
              "    </tr>\n",
              "    <tr>\n",
              "      <th>200</th>\n",
              "      <td>0.000000</td>\n",
              "      <td>10.000000</td>\n",
              "      <td>-1</td>\n",
              "    </tr>\n",
              "    <tr>\n",
              "      <th>201</th>\n",
              "      <td>0.000000</td>\n",
              "      <td>9.500000</td>\n",
              "      <td>-1</td>\n",
              "    </tr>\n",
              "  </tbody>\n",
              "</table>\n",
              "<p>202 rows × 3 columns</p>\n",
              "</div>\n",
              "      <button class=\"colab-df-convert\" onclick=\"convertToInteractive('df-0fd1d08f-bffc-42a4-8248-5c31b97594f4')\"\n",
              "              title=\"Convert this dataframe to an interactive table.\"\n",
              "              style=\"display:none;\">\n",
              "        \n",
              "  <svg xmlns=\"http://www.w3.org/2000/svg\" height=\"24px\"viewBox=\"0 0 24 24\"\n",
              "       width=\"24px\">\n",
              "    <path d=\"M0 0h24v24H0V0z\" fill=\"none\"/>\n",
              "    <path d=\"M18.56 5.44l.94 2.06.94-2.06 2.06-.94-2.06-.94-.94-2.06-.94 2.06-2.06.94zm-11 1L8.5 8.5l.94-2.06 2.06-.94-2.06-.94L8.5 2.5l-.94 2.06-2.06.94zm10 10l.94 2.06.94-2.06 2.06-.94-2.06-.94-.94-2.06-.94 2.06-2.06.94z\"/><path d=\"M17.41 7.96l-1.37-1.37c-.4-.4-.92-.59-1.43-.59-.52 0-1.04.2-1.43.59L10.3 9.45l-7.72 7.72c-.78.78-.78 2.05 0 2.83L4 21.41c.39.39.9.59 1.41.59.51 0 1.02-.2 1.41-.59l7.78-7.78 2.81-2.81c.8-.78.8-2.07 0-2.86zM5.41 20L4 18.59l7.72-7.72 1.47 1.35L5.41 20z\"/>\n",
              "  </svg>\n",
              "      </button>\n",
              "      \n",
              "  <style>\n",
              "    .colab-df-container {\n",
              "      display:flex;\n",
              "      flex-wrap:wrap;\n",
              "      gap: 12px;\n",
              "    }\n",
              "\n",
              "    .colab-df-convert {\n",
              "      background-color: #E8F0FE;\n",
              "      border: none;\n",
              "      border-radius: 50%;\n",
              "      cursor: pointer;\n",
              "      display: none;\n",
              "      fill: #1967D2;\n",
              "      height: 32px;\n",
              "      padding: 0 0 0 0;\n",
              "      width: 32px;\n",
              "    }\n",
              "\n",
              "    .colab-df-convert:hover {\n",
              "      background-color: #E2EBFA;\n",
              "      box-shadow: 0px 1px 2px rgba(60, 64, 67, 0.3), 0px 1px 3px 1px rgba(60, 64, 67, 0.15);\n",
              "      fill: #174EA6;\n",
              "    }\n",
              "\n",
              "    [theme=dark] .colab-df-convert {\n",
              "      background-color: #3B4455;\n",
              "      fill: #D2E3FC;\n",
              "    }\n",
              "\n",
              "    [theme=dark] .colab-df-convert:hover {\n",
              "      background-color: #434B5C;\n",
              "      box-shadow: 0px 1px 3px 1px rgba(0, 0, 0, 0.15);\n",
              "      filter: drop-shadow(0px 1px 2px rgba(0, 0, 0, 0.3));\n",
              "      fill: #FFFFFF;\n",
              "    }\n",
              "  </style>\n",
              "\n",
              "      <script>\n",
              "        const buttonEl =\n",
              "          document.querySelector('#df-0fd1d08f-bffc-42a4-8248-5c31b97594f4 button.colab-df-convert');\n",
              "        buttonEl.style.display =\n",
              "          google.colab.kernel.accessAllowed ? 'block' : 'none';\n",
              "\n",
              "        async function convertToInteractive(key) {\n",
              "          const element = document.querySelector('#df-0fd1d08f-bffc-42a4-8248-5c31b97594f4');\n",
              "          const dataTable =\n",
              "            await google.colab.kernel.invokeFunction('convertToInteractive',\n",
              "                                                     [key], {});\n",
              "          if (!dataTable) return;\n",
              "\n",
              "          const docLinkHtml = 'Like what you see? Visit the ' +\n",
              "            '<a target=\"_blank\" href=https://colab.research.google.com/notebooks/data_table.ipynb>data table notebook</a>'\n",
              "            + ' to learn more about interactive tables.';\n",
              "          element.innerHTML = '';\n",
              "          dataTable['output_type'] = 'display_data';\n",
              "          await google.colab.output.renderOutput(dataTable, element);\n",
              "          const docLink = document.createElement('div');\n",
              "          docLink.innerHTML = docLinkHtml;\n",
              "          element.appendChild(docLink);\n",
              "        }\n",
              "      </script>\n",
              "    </div>\n",
              "  </div>\n",
              "  "
            ]
          },
          "metadata": {},
          "execution_count": 12
        }
      ]
    },
    {
      "cell_type": "markdown",
      "metadata": {
        "id": "I4EMlF04bf6M"
      },
      "source": [
        "## **Graficos del modelo**"
      ]
    },
    {
      "cell_type": "markdown",
      "metadata": {
        "id": "YckV9hyMblny"
      },
      "source": [
        "### **Contaminación 0.0075**"
      ]
    },
    {
      "cell_type": "code",
      "metadata": {
        "colab": {
          "base_uri": "https://localhost:8080/",
          "height": 562
        },
        "id": "a0-UEHWnjKAE",
        "outputId": "d764dffc-560d-4e27-8b77-6f81f47fe1ae"
      },
      "source": [
        "px.scatter(df,\n",
        "           x='Var 1', \n",
        "           y='Var 2',\n",
        "           color=df[\"Anomalia\"].astype(str),\n",
        "           color_continuous_scale='Bluered_r',\n",
        "           template=\"simple_white\",\n",
        "           labels={\"Var 1\":\"Variable 1\",\n",
        "                   \"Var 2\":\"Variable 2\",\n",
        "                   \"color\":\"Anomalia\"})"
      ],
      "execution_count": 21,
      "outputs": [
        {
          "output_type": "display_data",
          "data": {
            "text/html": [
              "<html>\n",
              "<head><meta charset=\"utf-8\" /></head>\n",
              "<body>\n",
              "    <div>            <script src=\"https://cdnjs.cloudflare.com/ajax/libs/mathjax/2.7.5/MathJax.js?config=TeX-AMS-MML_SVG\"></script><script type=\"text/javascript\">if (window.MathJax) {MathJax.Hub.Config({SVG: {font: \"STIX-Web\"}});}</script>                <script type=\"text/javascript\">window.PlotlyConfig = {MathJaxConfig: 'local'};</script>\n",
              "        <script src=\"https://cdn.plot.ly/plotly-2.8.3.min.js\"></script>                <div id=\"806c44fd-4bfa-48a9-be12-5cb42a6e04ec\" class=\"plotly-graph-div\" style=\"height:525px; width:100%;\"></div>            <script type=\"text/javascript\">                                    window.PLOTLYENV=window.PLOTLYENV || {};                                    if (document.getElementById(\"806c44fd-4bfa-48a9-be12-5cb42a6e04ec\")) {                    Plotly.newPlot(                        \"806c44fd-4bfa-48a9-be12-5cb42a6e04ec\",                        [{\"hovertemplate\":\"Anomalia=1<br>Variable 1=%{x}<br>Variable 2=%{y}<extra></extra>\",\"legendgroup\":\"1\",\"marker\":{\"color\":\"#1F77B4\",\"symbol\":\"circle\"},\"mode\":\"markers\",\"name\":\"1\",\"orientation\":\"v\",\"showlegend\":true,\"x\":[0.1735893091659224,-0.6379949055686186,-1.3283230506978727,0.8314620138019799,0.8478608592206749,-1.0808059220952124,0.48546888891839746,-2.479309831432414,-1.1284755050439756,-0.8002662180449536,0.40710937255948854,-0.6977933531728566,-1.2748400796786954,-1.9629559014239029,-1.7420737801893744,-0.9110503357476207,-1.0132508206856303,-0.895609538974784,0.49758679707325604,0.6242019929753471,-1.1876953092263607,-0.591608881873292,-1.4474476645911425,0.37732166240771725,0.04047167951143049,0.025730856041353056,-0.30027488993848755,0.9885509962161365,-0.23180442549325042,-1.1459455066362334,-1.1412006531582972,-2.0932744562484222,-1.827223110375431,-1.2616147918568155,-2.2006586460216777,-0.44640033909011645,0.3514761393293987,-0.9825610092584652,-0.39691010466414944,-2.4558427061447343,1.026313391414364,-0.5445745901087966,1.00441449471292,-1.1008254604732377,-0.013922998035247047,-1.945113066014795,-0.5653621414927457,-1.4148084310706786,-0.06591991850150714,-0.15791690034350497,0.21177327423035208,-2.073968135716316,-1.045339464902008,-1.9628511288458967,-0.5909218521692204,-1.3401890801403158,0.21334960511207735,-1.1716078773094152,-0.9956648822129777,0.05713760166498405,-0.9191719481389201,0.6139263330294038,-0.08309766558440734,-0.44356765066064563,-0.11483698560520672,2.70257670874566,-2.1107199775806533,-0.9240292248040075,-0.6376181659128157,-1.316817142677272,0.9414646883950792,-1.7219057811252998,-0.770441516992155,-0.2665911145803322,-0.07437716609757211,-0.41015608983178675,-0.03288505588118684,-0.7683804627458035,0.31399834074048727,1.1892679352670381,-0.43822893778116706,-1.2813826826813388,0.10831944667939619,0.2250934701606685,-1.562330943324312,-0.37609686369944906,-0.04607524674180036,-1.2027619075154155,-1.0196638333138057,-1.7007818054150041,-0.3328801144821165,-1.2123843137007315,-2.3737674540014604,1.7322726595893108,-1.435478477095215,-1.3703170380206606,-1.9619224192315816,-0.9250153272155107,0.37689421007902824,0.27891403984496055,15.766776974894295,15.824157351516037,14.562101929247323,16.95290108503839,14.8004230022999,13.953249129259483,14.748069721932557,14.233112558082953,15.987305060822996,16.730175479245773,15.99790683419556,14.936269086676095,15.857529033206902,16.093068282461267,16.20575542931913,15.38592760733219,14.474937437613569,13.39670472609322,15.119662142427613,15.73915492283656,15.681100145644955,13.7285157877044,13.487683647567945,15.739705085198844,15.936670003040662,13.419300955040002,14.218610986528802,14.91860418445834,14.632163129495844,14.440936491945724,15.758577779942147,14.35508147434341,14.894379527552859,13.407791177242835,13.694025179722635,14.554043117455254,15.840372053044373,13.122707218658944,15.36047897544055,15.152488916750166,14.522045843937779,16.260997122285847,15.040026025029773,15.332875655026474,13.079054136455849,14.042031061990912,13.282538210124489,15.510505166375454,13.568928158657773,14.628849490897073,16.90607487790289,17.363825723593706,14.964446600778633,15.380383851136457,14.738187900311324,13.526018101528154,15.816346138716593,14.112392830075965,15.505189752118392,14.728537202472214,13.822644112715711,16.15701832653941,15.765602498056648,14.598170234242234,16.042672904731862,14.403450108477822,14.855776713022893,15.389360981615125,15.883901488254946,14.466597867134197,14.543373168612813,14.617237932219988,15.914453190657849,15.605053018501675,15.43704240654638,14.866603224276163,14.999256703461999,14.365056534947307,14.44382294911052,14.428176342467198,15.45109336170859,15.938938311488902,14.752232066863167,16.847760193870823,15.675150266306005,14.496843612817083,16.873987646427448,12.992475538247124,16.715928397019745,14.30428803167456,14.733634777322687,13.549601709662786,15.0955523333163,14.396325255844918,14.75894365496181,14.570452534703971,15.641929623817079,12.73531156023602,16.09852069702688,16.723680565621606],\"xaxis\":\"x\",\"y\":[0.443017375893993,0.3813515179659382,1.2784936605413666,-1.3812128370775134,0.489595146661045,-0.6949451711427607,-0.7017812440773529,0.08380682721226514,-0.2529213981741889,-0.6511153848093727,0.7700961437647194,-1.3793940221655574,-0.9654624573422743,-0.553838208215848,1.5442712989388967,0.09654975317618592,-0.3303355650574099,1.1609967562219374,-0.7514161020556838,-0.6379635207445932,0.110291112178157,0.10595269934767088,-0.2669615753960919,0.6678966639594212,-0.877962838259212,0.992661136153442,-0.5074320614970983,0.3927944927775624,0.7141084741238637,0.9757682747410077,-0.698537271207464,1.3020700314929177,0.6768370810841362,-1.1451683601874898,0.9362457696852462,1.3266669835651335,-0.7506243181753129,-2.3269636611685676,1.5882287987206958,0.6805120104536709,0.5563511390022681,1.0048982969930076,-0.028760212430003047,0.902499823649381,0.9127921912022441,1.3764649010290968,0.4811251526860854,0.028482146390314118,-1.2954600170001056,0.8849592766019357,0.547112127697901,0.35256852321071963,-0.5867417562458186,-1.5932921952520502,1.4513052235340844,-1.543165328323097,0.40407562304412037,0.5255819743590581,0.8610519236837347,-0.027904487369797847,-0.8757019165079604,-0.29326799312643226,-0.964624007503104,-0.04933496443052572,-0.8137885108055422,-0.9983068694819637,-2.1008249359750333,0.3698201310658568,-0.3659721741518791,-0.1463411619535598,1.9021795435645381,0.84865709732796,-0.1351825172703259,0.3235223451417312,0.7149060719675867,1.2245227647750465,-1.3377180497379961,-1.1056811909708242,0.7593366758882671,-1.0446183698673925,-0.5538787243402763,0.08451954502264813,0.9623784269961084,-1.2632644820404426,1.1212028672517813,0.815858295168169,0.5427465142391156,0.05820287140306978,-0.04957346117470226,-0.4389758861906612,0.130846817773056,0.5000609332111632,-0.070220477168728,-0.3295658984506217,-0.5063872973061637,0.5494679933758513,-0.7855169784028927,0.8655430500082437,0.4198231556766448,-0.013111300135533474,10.001704575280648,11.177302229902548,11.110813368345518,10.305028086492872,10.269644794347217,8.704504902296701,9.77024072603122,9.614605673461714,9.548967899000697,11.836274488875029,10.824154880919941,10.045320344273867,10.669376302956321,10.365354128152484,9.874476440323791,9.338293651982873,10.306435876063151,9.930859599095724,9.027915333577631,9.236547044031262,10.978770096676136,8.81948100402677,8.962328618948963,9.818746845481904,8.79033193697956,9.953325329503183,8.432630300619586,10.012267858115967,10.107546478122007,11.418761345047617,10.531263012448433,8.57997506271846,8.947163740393423,9.931161014870646,9.680985985840492,11.136917695185858,10.658735206877582,9.230351063169001,11.288960997728829,11.834985678320857,8.646515566062105,12.21367922172251,7.128487779974572,10.587288296204397,7.549665957029613,9.90107100054065,10.414194087805836,10.435707484860334,9.418365373452042,9.745916152282001,11.308595995703794,10.334177193849444,9.868344360302764,11.058988596331258,12.778360044461456,9.34913753457349,9.553043131994784,11.328950119324487,8.706413551789906,8.486953698028435,9.893439508824118,11.437715401108402,12.347023368677107,11.219859283417748,11.751700875033901,9.379151222596452,9.725351699344982,10.519677556804186,9.8266829670734,8.922128269700238,9.403368146366205,8.025954398772784,8.965520313574817,9.846061662201794,8.784694130889143,10.550273802546414,10.165798982854723,8.939570322757078,10.780459690171654,10.01608202834586,8.63192520562691,11.34195250929646,11.180932345301333,10.552556619092028,11.811828226449737,8.965460085887123,8.921096767939456,9.505827040603387,9.81450466060421,8.662140284383032,10.602316065448866,9.407446992304003,11.296284020572246,9.322747965705135,9.927932196835126,9.08208385046228,10.681355435726562,9.02526650028448,10.24303179756621,10.123144582208733],\"yaxis\":\"y\",\"type\":\"scatter\"},{\"hovertemplate\":\"Anomalia=-1<br>Variable 1=%{x}<br>Variable 2=%{y}<extra></extra>\",\"legendgroup\":\"-1\",\"marker\":{\"color\":\"#FF7F0E\",\"symbol\":\"circle\"},\"mode\":\"markers\",\"name\":\"-1\",\"orientation\":\"v\",\"showlegend\":true,\"x\":[0.0,0.0],\"xaxis\":\"x\",\"y\":[10.0,9.5],\"yaxis\":\"y\",\"type\":\"scatter\"}],                        {\"template\":{\"data\":{\"barpolar\":[{\"marker\":{\"line\":{\"color\":\"white\",\"width\":0.5},\"pattern\":{\"fillmode\":\"overlay\",\"size\":10,\"solidity\":0.2}},\"type\":\"barpolar\"}],\"bar\":[{\"error_x\":{\"color\":\"rgb(36,36,36)\"},\"error_y\":{\"color\":\"rgb(36,36,36)\"},\"marker\":{\"line\":{\"color\":\"white\",\"width\":0.5},\"pattern\":{\"fillmode\":\"overlay\",\"size\":10,\"solidity\":0.2}},\"type\":\"bar\"}],\"carpet\":[{\"aaxis\":{\"endlinecolor\":\"rgb(36,36,36)\",\"gridcolor\":\"white\",\"linecolor\":\"white\",\"minorgridcolor\":\"white\",\"startlinecolor\":\"rgb(36,36,36)\"},\"baxis\":{\"endlinecolor\":\"rgb(36,36,36)\",\"gridcolor\":\"white\",\"linecolor\":\"white\",\"minorgridcolor\":\"white\",\"startlinecolor\":\"rgb(36,36,36)\"},\"type\":\"carpet\"}],\"choropleth\":[{\"colorbar\":{\"outlinewidth\":1,\"tickcolor\":\"rgb(36,36,36)\",\"ticks\":\"outside\"},\"type\":\"choropleth\"}],\"contourcarpet\":[{\"colorbar\":{\"outlinewidth\":1,\"tickcolor\":\"rgb(36,36,36)\",\"ticks\":\"outside\"},\"type\":\"contourcarpet\"}],\"contour\":[{\"colorbar\":{\"outlinewidth\":1,\"tickcolor\":\"rgb(36,36,36)\",\"ticks\":\"outside\"},\"colorscale\":[[0.0,\"#440154\"],[0.1111111111111111,\"#482878\"],[0.2222222222222222,\"#3e4989\"],[0.3333333333333333,\"#31688e\"],[0.4444444444444444,\"#26828e\"],[0.5555555555555556,\"#1f9e89\"],[0.6666666666666666,\"#35b779\"],[0.7777777777777778,\"#6ece58\"],[0.8888888888888888,\"#b5de2b\"],[1.0,\"#fde725\"]],\"type\":\"contour\"}],\"heatmapgl\":[{\"colorbar\":{\"outlinewidth\":1,\"tickcolor\":\"rgb(36,36,36)\",\"ticks\":\"outside\"},\"colorscale\":[[0.0,\"#440154\"],[0.1111111111111111,\"#482878\"],[0.2222222222222222,\"#3e4989\"],[0.3333333333333333,\"#31688e\"],[0.4444444444444444,\"#26828e\"],[0.5555555555555556,\"#1f9e89\"],[0.6666666666666666,\"#35b779\"],[0.7777777777777778,\"#6ece58\"],[0.8888888888888888,\"#b5de2b\"],[1.0,\"#fde725\"]],\"type\":\"heatmapgl\"}],\"heatmap\":[{\"colorbar\":{\"outlinewidth\":1,\"tickcolor\":\"rgb(36,36,36)\",\"ticks\":\"outside\"},\"colorscale\":[[0.0,\"#440154\"],[0.1111111111111111,\"#482878\"],[0.2222222222222222,\"#3e4989\"],[0.3333333333333333,\"#31688e\"],[0.4444444444444444,\"#26828e\"],[0.5555555555555556,\"#1f9e89\"],[0.6666666666666666,\"#35b779\"],[0.7777777777777778,\"#6ece58\"],[0.8888888888888888,\"#b5de2b\"],[1.0,\"#fde725\"]],\"type\":\"heatmap\"}],\"histogram2dcontour\":[{\"colorbar\":{\"outlinewidth\":1,\"tickcolor\":\"rgb(36,36,36)\",\"ticks\":\"outside\"},\"colorscale\":[[0.0,\"#440154\"],[0.1111111111111111,\"#482878\"],[0.2222222222222222,\"#3e4989\"],[0.3333333333333333,\"#31688e\"],[0.4444444444444444,\"#26828e\"],[0.5555555555555556,\"#1f9e89\"],[0.6666666666666666,\"#35b779\"],[0.7777777777777778,\"#6ece58\"],[0.8888888888888888,\"#b5de2b\"],[1.0,\"#fde725\"]],\"type\":\"histogram2dcontour\"}],\"histogram2d\":[{\"colorbar\":{\"outlinewidth\":1,\"tickcolor\":\"rgb(36,36,36)\",\"ticks\":\"outside\"},\"colorscale\":[[0.0,\"#440154\"],[0.1111111111111111,\"#482878\"],[0.2222222222222222,\"#3e4989\"],[0.3333333333333333,\"#31688e\"],[0.4444444444444444,\"#26828e\"],[0.5555555555555556,\"#1f9e89\"],[0.6666666666666666,\"#35b779\"],[0.7777777777777778,\"#6ece58\"],[0.8888888888888888,\"#b5de2b\"],[1.0,\"#fde725\"]],\"type\":\"histogram2d\"}],\"histogram\":[{\"marker\":{\"line\":{\"color\":\"white\",\"width\":0.6}},\"type\":\"histogram\"}],\"mesh3d\":[{\"colorbar\":{\"outlinewidth\":1,\"tickcolor\":\"rgb(36,36,36)\",\"ticks\":\"outside\"},\"type\":\"mesh3d\"}],\"parcoords\":[{\"line\":{\"colorbar\":{\"outlinewidth\":1,\"tickcolor\":\"rgb(36,36,36)\",\"ticks\":\"outside\"}},\"type\":\"parcoords\"}],\"pie\":[{\"automargin\":true,\"type\":\"pie\"}],\"scatter3d\":[{\"line\":{\"colorbar\":{\"outlinewidth\":1,\"tickcolor\":\"rgb(36,36,36)\",\"ticks\":\"outside\"}},\"marker\":{\"colorbar\":{\"outlinewidth\":1,\"tickcolor\":\"rgb(36,36,36)\",\"ticks\":\"outside\"}},\"type\":\"scatter3d\"}],\"scattercarpet\":[{\"marker\":{\"colorbar\":{\"outlinewidth\":1,\"tickcolor\":\"rgb(36,36,36)\",\"ticks\":\"outside\"}},\"type\":\"scattercarpet\"}],\"scattergeo\":[{\"marker\":{\"colorbar\":{\"outlinewidth\":1,\"tickcolor\":\"rgb(36,36,36)\",\"ticks\":\"outside\"}},\"type\":\"scattergeo\"}],\"scattergl\":[{\"marker\":{\"colorbar\":{\"outlinewidth\":1,\"tickcolor\":\"rgb(36,36,36)\",\"ticks\":\"outside\"}},\"type\":\"scattergl\"}],\"scattermapbox\":[{\"marker\":{\"colorbar\":{\"outlinewidth\":1,\"tickcolor\":\"rgb(36,36,36)\",\"ticks\":\"outside\"}},\"type\":\"scattermapbox\"}],\"scatterpolargl\":[{\"marker\":{\"colorbar\":{\"outlinewidth\":1,\"tickcolor\":\"rgb(36,36,36)\",\"ticks\":\"outside\"}},\"type\":\"scatterpolargl\"}],\"scatterpolar\":[{\"marker\":{\"colorbar\":{\"outlinewidth\":1,\"tickcolor\":\"rgb(36,36,36)\",\"ticks\":\"outside\"}},\"type\":\"scatterpolar\"}],\"scatter\":[{\"marker\":{\"colorbar\":{\"outlinewidth\":1,\"tickcolor\":\"rgb(36,36,36)\",\"ticks\":\"outside\"}},\"type\":\"scatter\"}],\"scatterternary\":[{\"marker\":{\"colorbar\":{\"outlinewidth\":1,\"tickcolor\":\"rgb(36,36,36)\",\"ticks\":\"outside\"}},\"type\":\"scatterternary\"}],\"surface\":[{\"colorbar\":{\"outlinewidth\":1,\"tickcolor\":\"rgb(36,36,36)\",\"ticks\":\"outside\"},\"colorscale\":[[0.0,\"#440154\"],[0.1111111111111111,\"#482878\"],[0.2222222222222222,\"#3e4989\"],[0.3333333333333333,\"#31688e\"],[0.4444444444444444,\"#26828e\"],[0.5555555555555556,\"#1f9e89\"],[0.6666666666666666,\"#35b779\"],[0.7777777777777778,\"#6ece58\"],[0.8888888888888888,\"#b5de2b\"],[1.0,\"#fde725\"]],\"type\":\"surface\"}],\"table\":[{\"cells\":{\"fill\":{\"color\":\"rgb(237,237,237)\"},\"line\":{\"color\":\"white\"}},\"header\":{\"fill\":{\"color\":\"rgb(217,217,217)\"},\"line\":{\"color\":\"white\"}},\"type\":\"table\"}]},\"layout\":{\"annotationdefaults\":{\"arrowhead\":0,\"arrowwidth\":1},\"autotypenumbers\":\"strict\",\"coloraxis\":{\"colorbar\":{\"outlinewidth\":1,\"tickcolor\":\"rgb(36,36,36)\",\"ticks\":\"outside\"}},\"colorscale\":{\"diverging\":[[0.0,\"rgb(103,0,31)\"],[0.1,\"rgb(178,24,43)\"],[0.2,\"rgb(214,96,77)\"],[0.3,\"rgb(244,165,130)\"],[0.4,\"rgb(253,219,199)\"],[0.5,\"rgb(247,247,247)\"],[0.6,\"rgb(209,229,240)\"],[0.7,\"rgb(146,197,222)\"],[0.8,\"rgb(67,147,195)\"],[0.9,\"rgb(33,102,172)\"],[1.0,\"rgb(5,48,97)\"]],\"sequential\":[[0.0,\"#440154\"],[0.1111111111111111,\"#482878\"],[0.2222222222222222,\"#3e4989\"],[0.3333333333333333,\"#31688e\"],[0.4444444444444444,\"#26828e\"],[0.5555555555555556,\"#1f9e89\"],[0.6666666666666666,\"#35b779\"],[0.7777777777777778,\"#6ece58\"],[0.8888888888888888,\"#b5de2b\"],[1.0,\"#fde725\"]],\"sequentialminus\":[[0.0,\"#440154\"],[0.1111111111111111,\"#482878\"],[0.2222222222222222,\"#3e4989\"],[0.3333333333333333,\"#31688e\"],[0.4444444444444444,\"#26828e\"],[0.5555555555555556,\"#1f9e89\"],[0.6666666666666666,\"#35b779\"],[0.7777777777777778,\"#6ece58\"],[0.8888888888888888,\"#b5de2b\"],[1.0,\"#fde725\"]]},\"colorway\":[\"#1F77B4\",\"#FF7F0E\",\"#2CA02C\",\"#D62728\",\"#9467BD\",\"#8C564B\",\"#E377C2\",\"#7F7F7F\",\"#BCBD22\",\"#17BECF\"],\"font\":{\"color\":\"rgb(36,36,36)\"},\"geo\":{\"bgcolor\":\"white\",\"lakecolor\":\"white\",\"landcolor\":\"white\",\"showlakes\":true,\"showland\":true,\"subunitcolor\":\"white\"},\"hoverlabel\":{\"align\":\"left\"},\"hovermode\":\"closest\",\"mapbox\":{\"style\":\"light\"},\"paper_bgcolor\":\"white\",\"plot_bgcolor\":\"white\",\"polar\":{\"angularaxis\":{\"gridcolor\":\"rgb(232,232,232)\",\"linecolor\":\"rgb(36,36,36)\",\"showgrid\":false,\"showline\":true,\"ticks\":\"outside\"},\"bgcolor\":\"white\",\"radialaxis\":{\"gridcolor\":\"rgb(232,232,232)\",\"linecolor\":\"rgb(36,36,36)\",\"showgrid\":false,\"showline\":true,\"ticks\":\"outside\"}},\"scene\":{\"xaxis\":{\"backgroundcolor\":\"white\",\"gridcolor\":\"rgb(232,232,232)\",\"gridwidth\":2,\"linecolor\":\"rgb(36,36,36)\",\"showbackground\":true,\"showgrid\":false,\"showline\":true,\"ticks\":\"outside\",\"zeroline\":false,\"zerolinecolor\":\"rgb(36,36,36)\"},\"yaxis\":{\"backgroundcolor\":\"white\",\"gridcolor\":\"rgb(232,232,232)\",\"gridwidth\":2,\"linecolor\":\"rgb(36,36,36)\",\"showbackground\":true,\"showgrid\":false,\"showline\":true,\"ticks\":\"outside\",\"zeroline\":false,\"zerolinecolor\":\"rgb(36,36,36)\"},\"zaxis\":{\"backgroundcolor\":\"white\",\"gridcolor\":\"rgb(232,232,232)\",\"gridwidth\":2,\"linecolor\":\"rgb(36,36,36)\",\"showbackground\":true,\"showgrid\":false,\"showline\":true,\"ticks\":\"outside\",\"zeroline\":false,\"zerolinecolor\":\"rgb(36,36,36)\"}},\"shapedefaults\":{\"fillcolor\":\"black\",\"line\":{\"width\":0},\"opacity\":0.3},\"ternary\":{\"aaxis\":{\"gridcolor\":\"rgb(232,232,232)\",\"linecolor\":\"rgb(36,36,36)\",\"showgrid\":false,\"showline\":true,\"ticks\":\"outside\"},\"baxis\":{\"gridcolor\":\"rgb(232,232,232)\",\"linecolor\":\"rgb(36,36,36)\",\"showgrid\":false,\"showline\":true,\"ticks\":\"outside\"},\"bgcolor\":\"white\",\"caxis\":{\"gridcolor\":\"rgb(232,232,232)\",\"linecolor\":\"rgb(36,36,36)\",\"showgrid\":false,\"showline\":true,\"ticks\":\"outside\"}},\"title\":{\"x\":0.05},\"xaxis\":{\"automargin\":true,\"gridcolor\":\"rgb(232,232,232)\",\"linecolor\":\"rgb(36,36,36)\",\"showgrid\":false,\"showline\":true,\"ticks\":\"outside\",\"title\":{\"standoff\":15},\"zeroline\":false,\"zerolinecolor\":\"rgb(36,36,36)\"},\"yaxis\":{\"automargin\":true,\"gridcolor\":\"rgb(232,232,232)\",\"linecolor\":\"rgb(36,36,36)\",\"showgrid\":false,\"showline\":true,\"ticks\":\"outside\",\"title\":{\"standoff\":15},\"zeroline\":false,\"zerolinecolor\":\"rgb(36,36,36)\"}}},\"xaxis\":{\"anchor\":\"y\",\"domain\":[0.0,1.0],\"title\":{\"text\":\"Variable 1\"}},\"yaxis\":{\"anchor\":\"x\",\"domain\":[0.0,1.0],\"title\":{\"text\":\"Variable 2\"}},\"legend\":{\"title\":{\"text\":\"Anomalia\"},\"tracegroupgap\":0},\"margin\":{\"t\":60}},                        {\"responsive\": true}                    ).then(function(){\n",
              "                            \n",
              "var gd = document.getElementById('806c44fd-4bfa-48a9-be12-5cb42a6e04ec');\n",
              "var x = new MutationObserver(function (mutations, observer) {{\n",
              "        var display = window.getComputedStyle(gd).display;\n",
              "        if (!display || display === 'none') {{\n",
              "            console.log([gd, 'removed!']);\n",
              "            Plotly.purge(gd);\n",
              "            observer.disconnect();\n",
              "        }}\n",
              "}});\n",
              "\n",
              "// Listen for the removal of the full notebook cells\n",
              "var notebookContainer = gd.closest('#notebook-container');\n",
              "if (notebookContainer) {{\n",
              "    x.observe(notebookContainer, {childList: true});\n",
              "}}\n",
              "\n",
              "// Listen for the clearing of the current output cell\n",
              "var outputEl = gd.closest('.output');\n",
              "if (outputEl) {{\n",
              "    x.observe(outputEl, {childList: true});\n",
              "}}\n",
              "\n",
              "                        })                };                            </script>        </div>\n",
              "</body>\n",
              "</html>"
            ]
          },
          "metadata": {}
        }
      ]
    },
    {
      "cell_type": "code",
      "source": [
        "px.scatter(df,\n",
        "           x='Var 1', \n",
        "           y='Var 2',\n",
        "           color=\"Anomalia\",\n",
        "           color_continuous_scale='Bluered_r',\n",
        "           template=\"simple_white\",\n",
        "           labels={\"Var 1\":\"Variable 1\",\n",
        "                   \"Var 2\":\"Variable 2\",\n",
        "                   \"color\":\"Anomalia\"})"
      ],
      "metadata": {
        "colab": {
          "base_uri": "https://localhost:8080/",
          "height": 562
        },
        "id": "JqxuxWREw1Q4",
        "outputId": "4cee289c-ddc4-4189-d230-39a7a50e4135"
      },
      "execution_count": 22,
      "outputs": [
        {
          "output_type": "display_data",
          "data": {
            "text/html": [
              "<html>\n",
              "<head><meta charset=\"utf-8\" /></head>\n",
              "<body>\n",
              "    <div>            <script src=\"https://cdnjs.cloudflare.com/ajax/libs/mathjax/2.7.5/MathJax.js?config=TeX-AMS-MML_SVG\"></script><script type=\"text/javascript\">if (window.MathJax) {MathJax.Hub.Config({SVG: {font: \"STIX-Web\"}});}</script>                <script type=\"text/javascript\">window.PlotlyConfig = {MathJaxConfig: 'local'};</script>\n",
              "        <script src=\"https://cdn.plot.ly/plotly-2.8.3.min.js\"></script>                <div id=\"b542d560-7bc5-452d-98cc-a19a2db48bd4\" class=\"plotly-graph-div\" style=\"height:525px; width:100%;\"></div>            <script type=\"text/javascript\">                                    window.PLOTLYENV=window.PLOTLYENV || {};                                    if (document.getElementById(\"b542d560-7bc5-452d-98cc-a19a2db48bd4\")) {                    Plotly.newPlot(                        \"b542d560-7bc5-452d-98cc-a19a2db48bd4\",                        [{\"hovertemplate\":\"Variable 1=%{x}<br>Variable 2=%{y}<br>Anomalia=%{marker.color}<extra></extra>\",\"legendgroup\":\"\",\"marker\":{\"color\":[1,1,1,1,1,1,1,1,1,1,1,1,1,1,1,1,1,1,1,1,1,1,1,1,1,1,1,1,1,1,1,1,1,1,1,1,1,1,1,1,1,1,1,1,1,1,1,1,1,1,1,1,1,1,1,1,1,1,1,1,1,1,1,1,1,1,1,1,1,1,1,1,1,1,1,1,1,1,1,1,1,1,1,1,1,1,1,1,1,1,1,1,1,1,1,1,1,1,1,1,1,1,1,1,1,1,1,1,1,1,1,1,1,1,1,1,1,1,1,1,1,1,1,1,1,1,1,1,1,1,1,1,1,1,1,1,1,1,1,1,1,1,1,1,1,1,1,1,1,1,1,1,1,1,1,1,1,1,1,1,1,1,1,1,1,1,1,1,1,1,1,1,1,1,1,1,1,1,1,1,1,1,1,1,1,1,1,1,1,1,1,1,1,1,1,1,1,1,1,1,-1,-1],\"coloraxis\":\"coloraxis\",\"symbol\":\"circle\"},\"mode\":\"markers\",\"name\":\"\",\"orientation\":\"v\",\"showlegend\":false,\"x\":[0.1735893091659224,-0.6379949055686186,-1.3283230506978727,0.8314620138019799,0.8478608592206749,-1.0808059220952124,0.48546888891839746,-2.479309831432414,-1.1284755050439756,-0.8002662180449536,0.40710937255948854,-0.6977933531728566,-1.2748400796786954,-1.9629559014239029,-1.7420737801893744,-0.9110503357476207,-1.0132508206856303,-0.895609538974784,0.49758679707325604,0.6242019929753471,-1.1876953092263607,-0.591608881873292,-1.4474476645911425,0.37732166240771725,0.04047167951143049,0.025730856041353056,-0.30027488993848755,0.9885509962161365,-0.23180442549325042,-1.1459455066362334,-1.1412006531582972,-2.0932744562484222,-1.827223110375431,-1.2616147918568155,-2.2006586460216777,-0.44640033909011645,0.3514761393293987,-0.9825610092584652,-0.39691010466414944,-2.4558427061447343,1.026313391414364,-0.5445745901087966,1.00441449471292,-1.1008254604732377,-0.013922998035247047,-1.945113066014795,-0.5653621414927457,-1.4148084310706786,-0.06591991850150714,-0.15791690034350497,0.21177327423035208,-2.073968135716316,-1.045339464902008,-1.9628511288458967,-0.5909218521692204,-1.3401890801403158,0.21334960511207735,-1.1716078773094152,-0.9956648822129777,0.05713760166498405,-0.9191719481389201,0.6139263330294038,-0.08309766558440734,-0.44356765066064563,-0.11483698560520672,2.70257670874566,-2.1107199775806533,-0.9240292248040075,-0.6376181659128157,-1.316817142677272,0.9414646883950792,-1.7219057811252998,-0.770441516992155,-0.2665911145803322,-0.07437716609757211,-0.41015608983178675,-0.03288505588118684,-0.7683804627458035,0.31399834074048727,1.1892679352670381,-0.43822893778116706,-1.2813826826813388,0.10831944667939619,0.2250934701606685,-1.562330943324312,-0.37609686369944906,-0.04607524674180036,-1.2027619075154155,-1.0196638333138057,-1.7007818054150041,-0.3328801144821165,-1.2123843137007315,-2.3737674540014604,1.7322726595893108,-1.435478477095215,-1.3703170380206606,-1.9619224192315816,-0.9250153272155107,0.37689421007902824,0.27891403984496055,15.766776974894295,15.824157351516037,14.562101929247323,16.95290108503839,14.8004230022999,13.953249129259483,14.748069721932557,14.233112558082953,15.987305060822996,16.730175479245773,15.99790683419556,14.936269086676095,15.857529033206902,16.093068282461267,16.20575542931913,15.38592760733219,14.474937437613569,13.39670472609322,15.119662142427613,15.73915492283656,15.681100145644955,13.7285157877044,13.487683647567945,15.739705085198844,15.936670003040662,13.419300955040002,14.218610986528802,14.91860418445834,14.632163129495844,14.440936491945724,15.758577779942147,14.35508147434341,14.894379527552859,13.407791177242835,13.694025179722635,14.554043117455254,15.840372053044373,13.122707218658944,15.36047897544055,15.152488916750166,14.522045843937779,16.260997122285847,15.040026025029773,15.332875655026474,13.079054136455849,14.042031061990912,13.282538210124489,15.510505166375454,13.568928158657773,14.628849490897073,16.90607487790289,17.363825723593706,14.964446600778633,15.380383851136457,14.738187900311324,13.526018101528154,15.816346138716593,14.112392830075965,15.505189752118392,14.728537202472214,13.822644112715711,16.15701832653941,15.765602498056648,14.598170234242234,16.042672904731862,14.403450108477822,14.855776713022893,15.389360981615125,15.883901488254946,14.466597867134197,14.543373168612813,14.617237932219988,15.914453190657849,15.605053018501675,15.43704240654638,14.866603224276163,14.999256703461999,14.365056534947307,14.44382294911052,14.428176342467198,15.45109336170859,15.938938311488902,14.752232066863167,16.847760193870823,15.675150266306005,14.496843612817083,16.873987646427448,12.992475538247124,16.715928397019745,14.30428803167456,14.733634777322687,13.549601709662786,15.0955523333163,14.396325255844918,14.75894365496181,14.570452534703971,15.641929623817079,12.73531156023602,16.09852069702688,16.723680565621606,0.0,0.0],\"xaxis\":\"x\",\"y\":[0.443017375893993,0.3813515179659382,1.2784936605413666,-1.3812128370775134,0.489595146661045,-0.6949451711427607,-0.7017812440773529,0.08380682721226514,-0.2529213981741889,-0.6511153848093727,0.7700961437647194,-1.3793940221655574,-0.9654624573422743,-0.553838208215848,1.5442712989388967,0.09654975317618592,-0.3303355650574099,1.1609967562219374,-0.7514161020556838,-0.6379635207445932,0.110291112178157,0.10595269934767088,-0.2669615753960919,0.6678966639594212,-0.877962838259212,0.992661136153442,-0.5074320614970983,0.3927944927775624,0.7141084741238637,0.9757682747410077,-0.698537271207464,1.3020700314929177,0.6768370810841362,-1.1451683601874898,0.9362457696852462,1.3266669835651335,-0.7506243181753129,-2.3269636611685676,1.5882287987206958,0.6805120104536709,0.5563511390022681,1.0048982969930076,-0.028760212430003047,0.902499823649381,0.9127921912022441,1.3764649010290968,0.4811251526860854,0.028482146390314118,-1.2954600170001056,0.8849592766019357,0.547112127697901,0.35256852321071963,-0.5867417562458186,-1.5932921952520502,1.4513052235340844,-1.543165328323097,0.40407562304412037,0.5255819743590581,0.8610519236837347,-0.027904487369797847,-0.8757019165079604,-0.29326799312643226,-0.964624007503104,-0.04933496443052572,-0.8137885108055422,-0.9983068694819637,-2.1008249359750333,0.3698201310658568,-0.3659721741518791,-0.1463411619535598,1.9021795435645381,0.84865709732796,-0.1351825172703259,0.3235223451417312,0.7149060719675867,1.2245227647750465,-1.3377180497379961,-1.1056811909708242,0.7593366758882671,-1.0446183698673925,-0.5538787243402763,0.08451954502264813,0.9623784269961084,-1.2632644820404426,1.1212028672517813,0.815858295168169,0.5427465142391156,0.05820287140306978,-0.04957346117470226,-0.4389758861906612,0.130846817773056,0.5000609332111632,-0.070220477168728,-0.3295658984506217,-0.5063872973061637,0.5494679933758513,-0.7855169784028927,0.8655430500082437,0.4198231556766448,-0.013111300135533474,10.001704575280648,11.177302229902548,11.110813368345518,10.305028086492872,10.269644794347217,8.704504902296701,9.77024072603122,9.614605673461714,9.548967899000697,11.836274488875029,10.824154880919941,10.045320344273867,10.669376302956321,10.365354128152484,9.874476440323791,9.338293651982873,10.306435876063151,9.930859599095724,9.027915333577631,9.236547044031262,10.978770096676136,8.81948100402677,8.962328618948963,9.818746845481904,8.79033193697956,9.953325329503183,8.432630300619586,10.012267858115967,10.107546478122007,11.418761345047617,10.531263012448433,8.57997506271846,8.947163740393423,9.931161014870646,9.680985985840492,11.136917695185858,10.658735206877582,9.230351063169001,11.288960997728829,11.834985678320857,8.646515566062105,12.21367922172251,7.128487779974572,10.587288296204397,7.549665957029613,9.90107100054065,10.414194087805836,10.435707484860334,9.418365373452042,9.745916152282001,11.308595995703794,10.334177193849444,9.868344360302764,11.058988596331258,12.778360044461456,9.34913753457349,9.553043131994784,11.328950119324487,8.706413551789906,8.486953698028435,9.893439508824118,11.437715401108402,12.347023368677107,11.219859283417748,11.751700875033901,9.379151222596452,9.725351699344982,10.519677556804186,9.8266829670734,8.922128269700238,9.403368146366205,8.025954398772784,8.965520313574817,9.846061662201794,8.784694130889143,10.550273802546414,10.165798982854723,8.939570322757078,10.780459690171654,10.01608202834586,8.63192520562691,11.34195250929646,11.180932345301333,10.552556619092028,11.811828226449737,8.965460085887123,8.921096767939456,9.505827040603387,9.81450466060421,8.662140284383032,10.602316065448866,9.407446992304003,11.296284020572246,9.322747965705135,9.927932196835126,9.08208385046228,10.681355435726562,9.02526650028448,10.24303179756621,10.123144582208733,10.0,9.5],\"yaxis\":\"y\",\"type\":\"scatter\"}],                        {\"template\":{\"data\":{\"barpolar\":[{\"marker\":{\"line\":{\"color\":\"white\",\"width\":0.5},\"pattern\":{\"fillmode\":\"overlay\",\"size\":10,\"solidity\":0.2}},\"type\":\"barpolar\"}],\"bar\":[{\"error_x\":{\"color\":\"rgb(36,36,36)\"},\"error_y\":{\"color\":\"rgb(36,36,36)\"},\"marker\":{\"line\":{\"color\":\"white\",\"width\":0.5},\"pattern\":{\"fillmode\":\"overlay\",\"size\":10,\"solidity\":0.2}},\"type\":\"bar\"}],\"carpet\":[{\"aaxis\":{\"endlinecolor\":\"rgb(36,36,36)\",\"gridcolor\":\"white\",\"linecolor\":\"white\",\"minorgridcolor\":\"white\",\"startlinecolor\":\"rgb(36,36,36)\"},\"baxis\":{\"endlinecolor\":\"rgb(36,36,36)\",\"gridcolor\":\"white\",\"linecolor\":\"white\",\"minorgridcolor\":\"white\",\"startlinecolor\":\"rgb(36,36,36)\"},\"type\":\"carpet\"}],\"choropleth\":[{\"colorbar\":{\"outlinewidth\":1,\"tickcolor\":\"rgb(36,36,36)\",\"ticks\":\"outside\"},\"type\":\"choropleth\"}],\"contourcarpet\":[{\"colorbar\":{\"outlinewidth\":1,\"tickcolor\":\"rgb(36,36,36)\",\"ticks\":\"outside\"},\"type\":\"contourcarpet\"}],\"contour\":[{\"colorbar\":{\"outlinewidth\":1,\"tickcolor\":\"rgb(36,36,36)\",\"ticks\":\"outside\"},\"colorscale\":[[0.0,\"#440154\"],[0.1111111111111111,\"#482878\"],[0.2222222222222222,\"#3e4989\"],[0.3333333333333333,\"#31688e\"],[0.4444444444444444,\"#26828e\"],[0.5555555555555556,\"#1f9e89\"],[0.6666666666666666,\"#35b779\"],[0.7777777777777778,\"#6ece58\"],[0.8888888888888888,\"#b5de2b\"],[1.0,\"#fde725\"]],\"type\":\"contour\"}],\"heatmapgl\":[{\"colorbar\":{\"outlinewidth\":1,\"tickcolor\":\"rgb(36,36,36)\",\"ticks\":\"outside\"},\"colorscale\":[[0.0,\"#440154\"],[0.1111111111111111,\"#482878\"],[0.2222222222222222,\"#3e4989\"],[0.3333333333333333,\"#31688e\"],[0.4444444444444444,\"#26828e\"],[0.5555555555555556,\"#1f9e89\"],[0.6666666666666666,\"#35b779\"],[0.7777777777777778,\"#6ece58\"],[0.8888888888888888,\"#b5de2b\"],[1.0,\"#fde725\"]],\"type\":\"heatmapgl\"}],\"heatmap\":[{\"colorbar\":{\"outlinewidth\":1,\"tickcolor\":\"rgb(36,36,36)\",\"ticks\":\"outside\"},\"colorscale\":[[0.0,\"#440154\"],[0.1111111111111111,\"#482878\"],[0.2222222222222222,\"#3e4989\"],[0.3333333333333333,\"#31688e\"],[0.4444444444444444,\"#26828e\"],[0.5555555555555556,\"#1f9e89\"],[0.6666666666666666,\"#35b779\"],[0.7777777777777778,\"#6ece58\"],[0.8888888888888888,\"#b5de2b\"],[1.0,\"#fde725\"]],\"type\":\"heatmap\"}],\"histogram2dcontour\":[{\"colorbar\":{\"outlinewidth\":1,\"tickcolor\":\"rgb(36,36,36)\",\"ticks\":\"outside\"},\"colorscale\":[[0.0,\"#440154\"],[0.1111111111111111,\"#482878\"],[0.2222222222222222,\"#3e4989\"],[0.3333333333333333,\"#31688e\"],[0.4444444444444444,\"#26828e\"],[0.5555555555555556,\"#1f9e89\"],[0.6666666666666666,\"#35b779\"],[0.7777777777777778,\"#6ece58\"],[0.8888888888888888,\"#b5de2b\"],[1.0,\"#fde725\"]],\"type\":\"histogram2dcontour\"}],\"histogram2d\":[{\"colorbar\":{\"outlinewidth\":1,\"tickcolor\":\"rgb(36,36,36)\",\"ticks\":\"outside\"},\"colorscale\":[[0.0,\"#440154\"],[0.1111111111111111,\"#482878\"],[0.2222222222222222,\"#3e4989\"],[0.3333333333333333,\"#31688e\"],[0.4444444444444444,\"#26828e\"],[0.5555555555555556,\"#1f9e89\"],[0.6666666666666666,\"#35b779\"],[0.7777777777777778,\"#6ece58\"],[0.8888888888888888,\"#b5de2b\"],[1.0,\"#fde725\"]],\"type\":\"histogram2d\"}],\"histogram\":[{\"marker\":{\"line\":{\"color\":\"white\",\"width\":0.6}},\"type\":\"histogram\"}],\"mesh3d\":[{\"colorbar\":{\"outlinewidth\":1,\"tickcolor\":\"rgb(36,36,36)\",\"ticks\":\"outside\"},\"type\":\"mesh3d\"}],\"parcoords\":[{\"line\":{\"colorbar\":{\"outlinewidth\":1,\"tickcolor\":\"rgb(36,36,36)\",\"ticks\":\"outside\"}},\"type\":\"parcoords\"}],\"pie\":[{\"automargin\":true,\"type\":\"pie\"}],\"scatter3d\":[{\"line\":{\"colorbar\":{\"outlinewidth\":1,\"tickcolor\":\"rgb(36,36,36)\",\"ticks\":\"outside\"}},\"marker\":{\"colorbar\":{\"outlinewidth\":1,\"tickcolor\":\"rgb(36,36,36)\",\"ticks\":\"outside\"}},\"type\":\"scatter3d\"}],\"scattercarpet\":[{\"marker\":{\"colorbar\":{\"outlinewidth\":1,\"tickcolor\":\"rgb(36,36,36)\",\"ticks\":\"outside\"}},\"type\":\"scattercarpet\"}],\"scattergeo\":[{\"marker\":{\"colorbar\":{\"outlinewidth\":1,\"tickcolor\":\"rgb(36,36,36)\",\"ticks\":\"outside\"}},\"type\":\"scattergeo\"}],\"scattergl\":[{\"marker\":{\"colorbar\":{\"outlinewidth\":1,\"tickcolor\":\"rgb(36,36,36)\",\"ticks\":\"outside\"}},\"type\":\"scattergl\"}],\"scattermapbox\":[{\"marker\":{\"colorbar\":{\"outlinewidth\":1,\"tickcolor\":\"rgb(36,36,36)\",\"ticks\":\"outside\"}},\"type\":\"scattermapbox\"}],\"scatterpolargl\":[{\"marker\":{\"colorbar\":{\"outlinewidth\":1,\"tickcolor\":\"rgb(36,36,36)\",\"ticks\":\"outside\"}},\"type\":\"scatterpolargl\"}],\"scatterpolar\":[{\"marker\":{\"colorbar\":{\"outlinewidth\":1,\"tickcolor\":\"rgb(36,36,36)\",\"ticks\":\"outside\"}},\"type\":\"scatterpolar\"}],\"scatter\":[{\"marker\":{\"colorbar\":{\"outlinewidth\":1,\"tickcolor\":\"rgb(36,36,36)\",\"ticks\":\"outside\"}},\"type\":\"scatter\"}],\"scatterternary\":[{\"marker\":{\"colorbar\":{\"outlinewidth\":1,\"tickcolor\":\"rgb(36,36,36)\",\"ticks\":\"outside\"}},\"type\":\"scatterternary\"}],\"surface\":[{\"colorbar\":{\"outlinewidth\":1,\"tickcolor\":\"rgb(36,36,36)\",\"ticks\":\"outside\"},\"colorscale\":[[0.0,\"#440154\"],[0.1111111111111111,\"#482878\"],[0.2222222222222222,\"#3e4989\"],[0.3333333333333333,\"#31688e\"],[0.4444444444444444,\"#26828e\"],[0.5555555555555556,\"#1f9e89\"],[0.6666666666666666,\"#35b779\"],[0.7777777777777778,\"#6ece58\"],[0.8888888888888888,\"#b5de2b\"],[1.0,\"#fde725\"]],\"type\":\"surface\"}],\"table\":[{\"cells\":{\"fill\":{\"color\":\"rgb(237,237,237)\"},\"line\":{\"color\":\"white\"}},\"header\":{\"fill\":{\"color\":\"rgb(217,217,217)\"},\"line\":{\"color\":\"white\"}},\"type\":\"table\"}]},\"layout\":{\"annotationdefaults\":{\"arrowhead\":0,\"arrowwidth\":1},\"autotypenumbers\":\"strict\",\"coloraxis\":{\"colorbar\":{\"outlinewidth\":1,\"tickcolor\":\"rgb(36,36,36)\",\"ticks\":\"outside\"}},\"colorscale\":{\"diverging\":[[0.0,\"rgb(103,0,31)\"],[0.1,\"rgb(178,24,43)\"],[0.2,\"rgb(214,96,77)\"],[0.3,\"rgb(244,165,130)\"],[0.4,\"rgb(253,219,199)\"],[0.5,\"rgb(247,247,247)\"],[0.6,\"rgb(209,229,240)\"],[0.7,\"rgb(146,197,222)\"],[0.8,\"rgb(67,147,195)\"],[0.9,\"rgb(33,102,172)\"],[1.0,\"rgb(5,48,97)\"]],\"sequential\":[[0.0,\"#440154\"],[0.1111111111111111,\"#482878\"],[0.2222222222222222,\"#3e4989\"],[0.3333333333333333,\"#31688e\"],[0.4444444444444444,\"#26828e\"],[0.5555555555555556,\"#1f9e89\"],[0.6666666666666666,\"#35b779\"],[0.7777777777777778,\"#6ece58\"],[0.8888888888888888,\"#b5de2b\"],[1.0,\"#fde725\"]],\"sequentialminus\":[[0.0,\"#440154\"],[0.1111111111111111,\"#482878\"],[0.2222222222222222,\"#3e4989\"],[0.3333333333333333,\"#31688e\"],[0.4444444444444444,\"#26828e\"],[0.5555555555555556,\"#1f9e89\"],[0.6666666666666666,\"#35b779\"],[0.7777777777777778,\"#6ece58\"],[0.8888888888888888,\"#b5de2b\"],[1.0,\"#fde725\"]]},\"colorway\":[\"#1F77B4\",\"#FF7F0E\",\"#2CA02C\",\"#D62728\",\"#9467BD\",\"#8C564B\",\"#E377C2\",\"#7F7F7F\",\"#BCBD22\",\"#17BECF\"],\"font\":{\"color\":\"rgb(36,36,36)\"},\"geo\":{\"bgcolor\":\"white\",\"lakecolor\":\"white\",\"landcolor\":\"white\",\"showlakes\":true,\"showland\":true,\"subunitcolor\":\"white\"},\"hoverlabel\":{\"align\":\"left\"},\"hovermode\":\"closest\",\"mapbox\":{\"style\":\"light\"},\"paper_bgcolor\":\"white\",\"plot_bgcolor\":\"white\",\"polar\":{\"angularaxis\":{\"gridcolor\":\"rgb(232,232,232)\",\"linecolor\":\"rgb(36,36,36)\",\"showgrid\":false,\"showline\":true,\"ticks\":\"outside\"},\"bgcolor\":\"white\",\"radialaxis\":{\"gridcolor\":\"rgb(232,232,232)\",\"linecolor\":\"rgb(36,36,36)\",\"showgrid\":false,\"showline\":true,\"ticks\":\"outside\"}},\"scene\":{\"xaxis\":{\"backgroundcolor\":\"white\",\"gridcolor\":\"rgb(232,232,232)\",\"gridwidth\":2,\"linecolor\":\"rgb(36,36,36)\",\"showbackground\":true,\"showgrid\":false,\"showline\":true,\"ticks\":\"outside\",\"zeroline\":false,\"zerolinecolor\":\"rgb(36,36,36)\"},\"yaxis\":{\"backgroundcolor\":\"white\",\"gridcolor\":\"rgb(232,232,232)\",\"gridwidth\":2,\"linecolor\":\"rgb(36,36,36)\",\"showbackground\":true,\"showgrid\":false,\"showline\":true,\"ticks\":\"outside\",\"zeroline\":false,\"zerolinecolor\":\"rgb(36,36,36)\"},\"zaxis\":{\"backgroundcolor\":\"white\",\"gridcolor\":\"rgb(232,232,232)\",\"gridwidth\":2,\"linecolor\":\"rgb(36,36,36)\",\"showbackground\":true,\"showgrid\":false,\"showline\":true,\"ticks\":\"outside\",\"zeroline\":false,\"zerolinecolor\":\"rgb(36,36,36)\"}},\"shapedefaults\":{\"fillcolor\":\"black\",\"line\":{\"width\":0},\"opacity\":0.3},\"ternary\":{\"aaxis\":{\"gridcolor\":\"rgb(232,232,232)\",\"linecolor\":\"rgb(36,36,36)\",\"showgrid\":false,\"showline\":true,\"ticks\":\"outside\"},\"baxis\":{\"gridcolor\":\"rgb(232,232,232)\",\"linecolor\":\"rgb(36,36,36)\",\"showgrid\":false,\"showline\":true,\"ticks\":\"outside\"},\"bgcolor\":\"white\",\"caxis\":{\"gridcolor\":\"rgb(232,232,232)\",\"linecolor\":\"rgb(36,36,36)\",\"showgrid\":false,\"showline\":true,\"ticks\":\"outside\"}},\"title\":{\"x\":0.05},\"xaxis\":{\"automargin\":true,\"gridcolor\":\"rgb(232,232,232)\",\"linecolor\":\"rgb(36,36,36)\",\"showgrid\":false,\"showline\":true,\"ticks\":\"outside\",\"title\":{\"standoff\":15},\"zeroline\":false,\"zerolinecolor\":\"rgb(36,36,36)\"},\"yaxis\":{\"automargin\":true,\"gridcolor\":\"rgb(232,232,232)\",\"linecolor\":\"rgb(36,36,36)\",\"showgrid\":false,\"showline\":true,\"ticks\":\"outside\",\"title\":{\"standoff\":15},\"zeroline\":false,\"zerolinecolor\":\"rgb(36,36,36)\"}}},\"xaxis\":{\"anchor\":\"y\",\"domain\":[0.0,1.0],\"title\":{\"text\":\"Variable 1\"}},\"yaxis\":{\"anchor\":\"x\",\"domain\":[0.0,1.0],\"title\":{\"text\":\"Variable 2\"}},\"coloraxis\":{\"colorbar\":{\"title\":{\"text\":\"Anomalia\"}},\"colorscale\":[[0.0,\"rgb(255,0,0)\"],[1.0,\"rgb(0,0,255)\"]]},\"legend\":{\"tracegroupgap\":0},\"margin\":{\"t\":60}},                        {\"responsive\": true}                    ).then(function(){\n",
              "                            \n",
              "var gd = document.getElementById('b542d560-7bc5-452d-98cc-a19a2db48bd4');\n",
              "var x = new MutationObserver(function (mutations, observer) {{\n",
              "        var display = window.getComputedStyle(gd).display;\n",
              "        if (!display || display === 'none') {{\n",
              "            console.log([gd, 'removed!']);\n",
              "            Plotly.purge(gd);\n",
              "            observer.disconnect();\n",
              "        }}\n",
              "}});\n",
              "\n",
              "// Listen for the removal of the full notebook cells\n",
              "var notebookContainer = gd.closest('#notebook-container');\n",
              "if (notebookContainer) {{\n",
              "    x.observe(notebookContainer, {childList: true});\n",
              "}}\n",
              "\n",
              "// Listen for the clearing of the current output cell\n",
              "var outputEl = gd.closest('.output');\n",
              "if (outputEl) {{\n",
              "    x.observe(outputEl, {childList: true});\n",
              "}}\n",
              "\n",
              "                        })                };                            </script>        </div>\n",
              "</body>\n",
              "</html>"
            ]
          },
          "metadata": {}
        }
      ]
    },
    {
      "cell_type": "markdown",
      "metadata": {
        "id": "dI9PQkiGbqUQ"
      },
      "source": [
        "### **Contaminación 0.1**"
      ]
    },
    {
      "cell_type": "code",
      "metadata": {
        "id": "U85U3ir-XUr3"
      },
      "source": [
        "el = EllipticEnvelope(store_precision=True, \n",
        "                      assume_centered=False, \n",
        "                      support_fraction=None, \n",
        "                      contamination=0.1, \n",
        "                      random_state=0)"
      ],
      "execution_count": 23,
      "outputs": []
    },
    {
      "cell_type": "code",
      "metadata": {
        "colab": {
          "base_uri": "https://localhost:8080/"
        },
        "id": "1UDs3VXjXZH4",
        "outputId": "7ca1b4b0-2869-4593-97d1-a6758dfe4bad"
      },
      "source": [
        "el.fit(df)"
      ],
      "execution_count": 24,
      "outputs": [
        {
          "output_type": "execute_result",
          "data": {
            "text/plain": [
              "EllipticEnvelope(random_state=0)"
            ]
          },
          "metadata": {},
          "execution_count": 24
        }
      ]
    },
    {
      "cell_type": "code",
      "metadata": {
        "id": "c7f1Oj-qXfM0"
      },
      "source": [
        "df['Anomalia'] = el.predict(df)"
      ],
      "execution_count": 25,
      "outputs": []
    },
    {
      "cell_type": "code",
      "source": [
        "px.scatter(df,\n",
        "           x='Var 1', \n",
        "           y='Var 2',\n",
        "           color=df[\"Anomalia\"].astype(str),\n",
        "           color_continuous_scale='Bluered_r',\n",
        "           template=\"simple_white\",\n",
        "           labels={\"Var 1\":\"Variable 1\",\n",
        "                   \"Var 2\":\"Variable 2\",\n",
        "                   \"color\":\"Anomalia\"})"
      ],
      "metadata": {
        "colab": {
          "base_uri": "https://localhost:8080/",
          "height": 562
        },
        "id": "uNZwrzLKxIMr",
        "outputId": "73cfce78-9af1-49c7-f53d-d65882ad3042"
      },
      "execution_count": 26,
      "outputs": [
        {
          "output_type": "display_data",
          "data": {
            "text/html": [
              "<html>\n",
              "<head><meta charset=\"utf-8\" /></head>\n",
              "<body>\n",
              "    <div>            <script src=\"https://cdnjs.cloudflare.com/ajax/libs/mathjax/2.7.5/MathJax.js?config=TeX-AMS-MML_SVG\"></script><script type=\"text/javascript\">if (window.MathJax) {MathJax.Hub.Config({SVG: {font: \"STIX-Web\"}});}</script>                <script type=\"text/javascript\">window.PlotlyConfig = {MathJaxConfig: 'local'};</script>\n",
              "        <script src=\"https://cdn.plot.ly/plotly-2.8.3.min.js\"></script>                <div id=\"ac0754a7-2bf5-4263-9d5c-19fa45f3ec3a\" class=\"plotly-graph-div\" style=\"height:525px; width:100%;\"></div>            <script type=\"text/javascript\">                                    window.PLOTLYENV=window.PLOTLYENV || {};                                    if (document.getElementById(\"ac0754a7-2bf5-4263-9d5c-19fa45f3ec3a\")) {                    Plotly.newPlot(                        \"ac0754a7-2bf5-4263-9d5c-19fa45f3ec3a\",                        [{\"hovertemplate\":\"Anomalia=1<br>Variable 1=%{x}<br>Variable 2=%{y}<extra></extra>\",\"legendgroup\":\"1\",\"marker\":{\"color\":\"#1F77B4\",\"symbol\":\"circle\"},\"mode\":\"markers\",\"name\":\"1\",\"orientation\":\"v\",\"showlegend\":true,\"x\":[0.1735893091659224,-0.6379949055686186,-1.3283230506978727,0.8478608592206749,-1.0808059220952124,0.48546888891839746,-2.479309831432414,-1.1284755050439756,-0.8002662180449536,0.40710937255948854,-0.6977933531728566,-1.2748400796786954,-1.9629559014239029,-0.9110503357476207,-1.0132508206856303,-0.895609538974784,0.49758679707325604,0.6242019929753471,-1.1876953092263607,-0.591608881873292,-1.4474476645911425,0.37732166240771725,0.04047167951143049,0.025730856041353056,-0.30027488993848755,0.9885509962161365,-0.23180442549325042,-1.1459455066362334,-1.1412006531582972,-1.827223110375431,-1.2616147918568155,-0.44640033909011645,0.3514761393293987,-0.39691010466414944,1.026313391414364,-0.5445745901087966,1.00441449471292,-1.1008254604732377,-0.013922998035247047,-0.5653621414927457,-1.4148084310706786,-0.15791690034350497,0.21177327423035208,-2.073968135716316,-1.045339464902008,-1.9628511288458967,-0.5909218521692204,-1.3401890801403158,0.21334960511207735,-1.1716078773094152,-0.9956648822129777,0.05713760166498405,-0.9191719481389201,0.6139263330294038,-0.08309766558440734,-0.44356765066064563,-0.11483698560520672,-2.1107199775806533,-0.9240292248040075,-0.6376181659128157,-1.316817142677272,0.9414646883950792,-1.7219057811252998,-0.770441516992155,-0.2665911145803322,-0.07437716609757211,-0.41015608983178675,-0.7683804627458035,0.31399834074048727,-0.43822893778116706,-1.2813826826813388,0.10831944667939619,-1.562330943324312,-0.37609686369944906,-0.04607524674180036,-1.2027619075154155,-1.0196638333138057,-1.7007818054150041,-0.3328801144821165,-1.2123843137007315,-2.3737674540014604,-1.435478477095215,-1.3703170380206606,-1.9619224192315816,-0.9250153272155107,0.37689421007902824,0.27891403984496055,15.766776974894295,15.824157351516037,14.562101929247323,16.95290108503839,14.8004230022999,13.953249129259483,14.748069721932557,14.233112558082953,15.987305060822996,16.730175479245773,15.99790683419556,14.936269086676095,15.857529033206902,16.093068282461267,16.20575542931913,15.38592760733219,14.474937437613569,13.39670472609322,15.119662142427613,15.73915492283656,15.681100145644955,13.7285157877044,13.487683647567945,15.739705085198844,13.419300955040002,14.218610986528802,14.91860418445834,14.632163129495844,14.440936491945724,15.758577779942147,14.35508147434341,14.894379527552859,13.407791177242835,13.694025179722635,14.554043117455254,15.840372053044373,13.122707218658944,15.36047897544055,15.152488916750166,14.522045843937779,16.260997122285847,15.332875655026474,13.079054136455849,14.042031061990912,13.282538210124489,15.510505166375454,13.568928158657773,14.628849490897073,16.90607487790289,17.363825723593706,14.964446600778633,15.380383851136457,13.526018101528154,15.816346138716593,15.505189752118392,14.728537202472214,13.822644112715711,16.15701832653941,14.598170234242234,16.042672904731862,14.403450108477822,14.855776713022893,15.389360981615125,15.883901488254946,14.466597867134197,14.543373168612813,14.617237932219988,15.914453190657849,15.605053018501675,15.43704240654638,14.866603224276163,14.999256703461999,14.365056534947307,14.44382294911052,14.428176342467198,15.45109336170859,15.938938311488902,14.752232066863167,16.847760193870823,15.675150266306005,14.496843612817083,12.992475538247124,16.715928397019745,14.30428803167456,14.733634777322687,13.549601709662786,15.0955523333163,14.396325255844918,14.75894365496181,14.570452534703971,15.641929623817079,12.73531156023602,16.09852069702688,16.723680565621606],\"xaxis\":\"x\",\"y\":[0.443017375893993,0.3813515179659382,1.2784936605413666,0.489595146661045,-0.6949451711427607,-0.7017812440773529,0.08380682721226514,-0.2529213981741889,-0.6511153848093727,0.7700961437647194,-1.3793940221655574,-0.9654624573422743,-0.553838208215848,0.09654975317618592,-0.3303355650574099,1.1609967562219374,-0.7514161020556838,-0.6379635207445932,0.110291112178157,0.10595269934767088,-0.2669615753960919,0.6678966639594212,-0.877962838259212,0.992661136153442,-0.5074320614970983,0.3927944927775624,0.7141084741238637,0.9757682747410077,-0.698537271207464,0.6768370810841362,-1.1451683601874898,1.3266669835651335,-0.7506243181753129,1.5882287987206958,0.5563511390022681,1.0048982969930076,-0.028760212430003047,0.902499823649381,0.9127921912022441,0.4811251526860854,0.028482146390314118,0.8849592766019357,0.547112127697901,0.35256852321071963,-0.5867417562458186,-1.5932921952520502,1.4513052235340844,-1.543165328323097,0.40407562304412037,0.5255819743590581,0.8610519236837347,-0.027904487369797847,-0.8757019165079604,-0.29326799312643226,-0.964624007503104,-0.04933496443052572,-0.8137885108055422,-2.1008249359750333,0.3698201310658568,-0.3659721741518791,-0.1463411619535598,1.9021795435645381,0.84865709732796,-0.1351825172703259,0.3235223451417312,0.7149060719675867,1.2245227647750465,-1.1056811909708242,0.7593366758882671,-0.5538787243402763,0.08451954502264813,0.9623784269961084,1.1212028672517813,0.815858295168169,0.5427465142391156,0.05820287140306978,-0.04957346117470226,-0.4389758861906612,0.130846817773056,0.5000609332111632,-0.070220477168728,-0.5063872973061637,0.5494679933758513,-0.7855169784028927,0.8655430500082437,0.4198231556766448,-0.013111300135533474,10.001704575280648,11.177302229902548,11.110813368345518,10.305028086492872,10.269644794347217,8.704504902296701,9.77024072603122,9.614605673461714,9.548967899000697,11.836274488875029,10.824154880919941,10.045320344273867,10.669376302956321,10.365354128152484,9.874476440323791,9.338293651982873,10.306435876063151,9.930859599095724,9.027915333577631,9.236547044031262,10.978770096676136,8.81948100402677,8.962328618948963,9.818746845481904,9.953325329503183,8.432630300619586,10.012267858115967,10.107546478122007,11.418761345047617,10.531263012448433,8.57997506271846,8.947163740393423,9.931161014870646,9.680985985840492,11.136917695185858,10.658735206877582,9.230351063169001,11.288960997728829,11.834985678320857,8.646515566062105,12.21367922172251,10.587288296204397,7.549665957029613,9.90107100054065,10.414194087805836,10.435707484860334,9.418365373452042,9.745916152282001,11.308595995703794,10.334177193849444,9.868344360302764,11.058988596331258,9.34913753457349,9.553043131994784,8.706413551789906,8.486953698028435,9.893439508824118,11.437715401108402,11.219859283417748,11.751700875033901,9.379151222596452,9.725351699344982,10.519677556804186,9.8266829670734,8.922128269700238,9.403368146366205,8.025954398772784,8.965520313574817,9.846061662201794,8.784694130889143,10.550273802546414,10.165798982854723,8.939570322757078,10.780459690171654,10.01608202834586,8.63192520562691,11.34195250929646,11.180932345301333,10.552556619092028,11.811828226449737,8.965460085887123,9.505827040603387,9.81450466060421,8.662140284383032,10.602316065448866,9.407446992304003,11.296284020572246,9.322747965705135,9.927932196835126,9.08208385046228,10.681355435726562,9.02526650028448,10.24303179756621,10.123144582208733],\"yaxis\":\"y\",\"type\":\"scatter\"},{\"hovertemplate\":\"Anomalia=-1<br>Variable 1=%{x}<br>Variable 2=%{y}<extra></extra>\",\"legendgroup\":\"-1\",\"marker\":{\"color\":\"#FF7F0E\",\"symbol\":\"circle\"},\"mode\":\"markers\",\"name\":\"-1\",\"orientation\":\"v\",\"showlegend\":true,\"x\":[0.8314620138019799,-1.7420737801893744,-2.0932744562484222,-2.2006586460216777,-0.9825610092584652,-2.4558427061447343,-1.945113066014795,-0.06591991850150714,2.70257670874566,-0.03288505588118684,1.1892679352670381,0.2250934701606685,1.7322726595893108,15.936670003040662,15.040026025029773,14.738187900311324,14.112392830075965,15.765602498056648,16.873987646427448,0.0,0.0],\"xaxis\":\"x\",\"y\":[-1.3812128370775134,1.5442712989388967,1.3020700314929177,0.9362457696852462,-2.3269636611685676,0.6805120104536709,1.3764649010290968,-1.2954600170001056,-0.9983068694819637,-1.3377180497379961,-1.0446183698673925,-1.2632644820404426,-0.3295658984506217,8.79033193697956,7.128487779974572,12.778360044461456,11.328950119324487,12.347023368677107,8.921096767939456,10.0,9.5],\"yaxis\":\"y\",\"type\":\"scatter\"}],                        {\"template\":{\"data\":{\"barpolar\":[{\"marker\":{\"line\":{\"color\":\"white\",\"width\":0.5},\"pattern\":{\"fillmode\":\"overlay\",\"size\":10,\"solidity\":0.2}},\"type\":\"barpolar\"}],\"bar\":[{\"error_x\":{\"color\":\"rgb(36,36,36)\"},\"error_y\":{\"color\":\"rgb(36,36,36)\"},\"marker\":{\"line\":{\"color\":\"white\",\"width\":0.5},\"pattern\":{\"fillmode\":\"overlay\",\"size\":10,\"solidity\":0.2}},\"type\":\"bar\"}],\"carpet\":[{\"aaxis\":{\"endlinecolor\":\"rgb(36,36,36)\",\"gridcolor\":\"white\",\"linecolor\":\"white\",\"minorgridcolor\":\"white\",\"startlinecolor\":\"rgb(36,36,36)\"},\"baxis\":{\"endlinecolor\":\"rgb(36,36,36)\",\"gridcolor\":\"white\",\"linecolor\":\"white\",\"minorgridcolor\":\"white\",\"startlinecolor\":\"rgb(36,36,36)\"},\"type\":\"carpet\"}],\"choropleth\":[{\"colorbar\":{\"outlinewidth\":1,\"tickcolor\":\"rgb(36,36,36)\",\"ticks\":\"outside\"},\"type\":\"choropleth\"}],\"contourcarpet\":[{\"colorbar\":{\"outlinewidth\":1,\"tickcolor\":\"rgb(36,36,36)\",\"ticks\":\"outside\"},\"type\":\"contourcarpet\"}],\"contour\":[{\"colorbar\":{\"outlinewidth\":1,\"tickcolor\":\"rgb(36,36,36)\",\"ticks\":\"outside\"},\"colorscale\":[[0.0,\"#440154\"],[0.1111111111111111,\"#482878\"],[0.2222222222222222,\"#3e4989\"],[0.3333333333333333,\"#31688e\"],[0.4444444444444444,\"#26828e\"],[0.5555555555555556,\"#1f9e89\"],[0.6666666666666666,\"#35b779\"],[0.7777777777777778,\"#6ece58\"],[0.8888888888888888,\"#b5de2b\"],[1.0,\"#fde725\"]],\"type\":\"contour\"}],\"heatmapgl\":[{\"colorbar\":{\"outlinewidth\":1,\"tickcolor\":\"rgb(36,36,36)\",\"ticks\":\"outside\"},\"colorscale\":[[0.0,\"#440154\"],[0.1111111111111111,\"#482878\"],[0.2222222222222222,\"#3e4989\"],[0.3333333333333333,\"#31688e\"],[0.4444444444444444,\"#26828e\"],[0.5555555555555556,\"#1f9e89\"],[0.6666666666666666,\"#35b779\"],[0.7777777777777778,\"#6ece58\"],[0.8888888888888888,\"#b5de2b\"],[1.0,\"#fde725\"]],\"type\":\"heatmapgl\"}],\"heatmap\":[{\"colorbar\":{\"outlinewidth\":1,\"tickcolor\":\"rgb(36,36,36)\",\"ticks\":\"outside\"},\"colorscale\":[[0.0,\"#440154\"],[0.1111111111111111,\"#482878\"],[0.2222222222222222,\"#3e4989\"],[0.3333333333333333,\"#31688e\"],[0.4444444444444444,\"#26828e\"],[0.5555555555555556,\"#1f9e89\"],[0.6666666666666666,\"#35b779\"],[0.7777777777777778,\"#6ece58\"],[0.8888888888888888,\"#b5de2b\"],[1.0,\"#fde725\"]],\"type\":\"heatmap\"}],\"histogram2dcontour\":[{\"colorbar\":{\"outlinewidth\":1,\"tickcolor\":\"rgb(36,36,36)\",\"ticks\":\"outside\"},\"colorscale\":[[0.0,\"#440154\"],[0.1111111111111111,\"#482878\"],[0.2222222222222222,\"#3e4989\"],[0.3333333333333333,\"#31688e\"],[0.4444444444444444,\"#26828e\"],[0.5555555555555556,\"#1f9e89\"],[0.6666666666666666,\"#35b779\"],[0.7777777777777778,\"#6ece58\"],[0.8888888888888888,\"#b5de2b\"],[1.0,\"#fde725\"]],\"type\":\"histogram2dcontour\"}],\"histogram2d\":[{\"colorbar\":{\"outlinewidth\":1,\"tickcolor\":\"rgb(36,36,36)\",\"ticks\":\"outside\"},\"colorscale\":[[0.0,\"#440154\"],[0.1111111111111111,\"#482878\"],[0.2222222222222222,\"#3e4989\"],[0.3333333333333333,\"#31688e\"],[0.4444444444444444,\"#26828e\"],[0.5555555555555556,\"#1f9e89\"],[0.6666666666666666,\"#35b779\"],[0.7777777777777778,\"#6ece58\"],[0.8888888888888888,\"#b5de2b\"],[1.0,\"#fde725\"]],\"type\":\"histogram2d\"}],\"histogram\":[{\"marker\":{\"line\":{\"color\":\"white\",\"width\":0.6}},\"type\":\"histogram\"}],\"mesh3d\":[{\"colorbar\":{\"outlinewidth\":1,\"tickcolor\":\"rgb(36,36,36)\",\"ticks\":\"outside\"},\"type\":\"mesh3d\"}],\"parcoords\":[{\"line\":{\"colorbar\":{\"outlinewidth\":1,\"tickcolor\":\"rgb(36,36,36)\",\"ticks\":\"outside\"}},\"type\":\"parcoords\"}],\"pie\":[{\"automargin\":true,\"type\":\"pie\"}],\"scatter3d\":[{\"line\":{\"colorbar\":{\"outlinewidth\":1,\"tickcolor\":\"rgb(36,36,36)\",\"ticks\":\"outside\"}},\"marker\":{\"colorbar\":{\"outlinewidth\":1,\"tickcolor\":\"rgb(36,36,36)\",\"ticks\":\"outside\"}},\"type\":\"scatter3d\"}],\"scattercarpet\":[{\"marker\":{\"colorbar\":{\"outlinewidth\":1,\"tickcolor\":\"rgb(36,36,36)\",\"ticks\":\"outside\"}},\"type\":\"scattercarpet\"}],\"scattergeo\":[{\"marker\":{\"colorbar\":{\"outlinewidth\":1,\"tickcolor\":\"rgb(36,36,36)\",\"ticks\":\"outside\"}},\"type\":\"scattergeo\"}],\"scattergl\":[{\"marker\":{\"colorbar\":{\"outlinewidth\":1,\"tickcolor\":\"rgb(36,36,36)\",\"ticks\":\"outside\"}},\"type\":\"scattergl\"}],\"scattermapbox\":[{\"marker\":{\"colorbar\":{\"outlinewidth\":1,\"tickcolor\":\"rgb(36,36,36)\",\"ticks\":\"outside\"}},\"type\":\"scattermapbox\"}],\"scatterpolargl\":[{\"marker\":{\"colorbar\":{\"outlinewidth\":1,\"tickcolor\":\"rgb(36,36,36)\",\"ticks\":\"outside\"}},\"type\":\"scatterpolargl\"}],\"scatterpolar\":[{\"marker\":{\"colorbar\":{\"outlinewidth\":1,\"tickcolor\":\"rgb(36,36,36)\",\"ticks\":\"outside\"}},\"type\":\"scatterpolar\"}],\"scatter\":[{\"marker\":{\"colorbar\":{\"outlinewidth\":1,\"tickcolor\":\"rgb(36,36,36)\",\"ticks\":\"outside\"}},\"type\":\"scatter\"}],\"scatterternary\":[{\"marker\":{\"colorbar\":{\"outlinewidth\":1,\"tickcolor\":\"rgb(36,36,36)\",\"ticks\":\"outside\"}},\"type\":\"scatterternary\"}],\"surface\":[{\"colorbar\":{\"outlinewidth\":1,\"tickcolor\":\"rgb(36,36,36)\",\"ticks\":\"outside\"},\"colorscale\":[[0.0,\"#440154\"],[0.1111111111111111,\"#482878\"],[0.2222222222222222,\"#3e4989\"],[0.3333333333333333,\"#31688e\"],[0.4444444444444444,\"#26828e\"],[0.5555555555555556,\"#1f9e89\"],[0.6666666666666666,\"#35b779\"],[0.7777777777777778,\"#6ece58\"],[0.8888888888888888,\"#b5de2b\"],[1.0,\"#fde725\"]],\"type\":\"surface\"}],\"table\":[{\"cells\":{\"fill\":{\"color\":\"rgb(237,237,237)\"},\"line\":{\"color\":\"white\"}},\"header\":{\"fill\":{\"color\":\"rgb(217,217,217)\"},\"line\":{\"color\":\"white\"}},\"type\":\"table\"}]},\"layout\":{\"annotationdefaults\":{\"arrowhead\":0,\"arrowwidth\":1},\"autotypenumbers\":\"strict\",\"coloraxis\":{\"colorbar\":{\"outlinewidth\":1,\"tickcolor\":\"rgb(36,36,36)\",\"ticks\":\"outside\"}},\"colorscale\":{\"diverging\":[[0.0,\"rgb(103,0,31)\"],[0.1,\"rgb(178,24,43)\"],[0.2,\"rgb(214,96,77)\"],[0.3,\"rgb(244,165,130)\"],[0.4,\"rgb(253,219,199)\"],[0.5,\"rgb(247,247,247)\"],[0.6,\"rgb(209,229,240)\"],[0.7,\"rgb(146,197,222)\"],[0.8,\"rgb(67,147,195)\"],[0.9,\"rgb(33,102,172)\"],[1.0,\"rgb(5,48,97)\"]],\"sequential\":[[0.0,\"#440154\"],[0.1111111111111111,\"#482878\"],[0.2222222222222222,\"#3e4989\"],[0.3333333333333333,\"#31688e\"],[0.4444444444444444,\"#26828e\"],[0.5555555555555556,\"#1f9e89\"],[0.6666666666666666,\"#35b779\"],[0.7777777777777778,\"#6ece58\"],[0.8888888888888888,\"#b5de2b\"],[1.0,\"#fde725\"]],\"sequentialminus\":[[0.0,\"#440154\"],[0.1111111111111111,\"#482878\"],[0.2222222222222222,\"#3e4989\"],[0.3333333333333333,\"#31688e\"],[0.4444444444444444,\"#26828e\"],[0.5555555555555556,\"#1f9e89\"],[0.6666666666666666,\"#35b779\"],[0.7777777777777778,\"#6ece58\"],[0.8888888888888888,\"#b5de2b\"],[1.0,\"#fde725\"]]},\"colorway\":[\"#1F77B4\",\"#FF7F0E\",\"#2CA02C\",\"#D62728\",\"#9467BD\",\"#8C564B\",\"#E377C2\",\"#7F7F7F\",\"#BCBD22\",\"#17BECF\"],\"font\":{\"color\":\"rgb(36,36,36)\"},\"geo\":{\"bgcolor\":\"white\",\"lakecolor\":\"white\",\"landcolor\":\"white\",\"showlakes\":true,\"showland\":true,\"subunitcolor\":\"white\"},\"hoverlabel\":{\"align\":\"left\"},\"hovermode\":\"closest\",\"mapbox\":{\"style\":\"light\"},\"paper_bgcolor\":\"white\",\"plot_bgcolor\":\"white\",\"polar\":{\"angularaxis\":{\"gridcolor\":\"rgb(232,232,232)\",\"linecolor\":\"rgb(36,36,36)\",\"showgrid\":false,\"showline\":true,\"ticks\":\"outside\"},\"bgcolor\":\"white\",\"radialaxis\":{\"gridcolor\":\"rgb(232,232,232)\",\"linecolor\":\"rgb(36,36,36)\",\"showgrid\":false,\"showline\":true,\"ticks\":\"outside\"}},\"scene\":{\"xaxis\":{\"backgroundcolor\":\"white\",\"gridcolor\":\"rgb(232,232,232)\",\"gridwidth\":2,\"linecolor\":\"rgb(36,36,36)\",\"showbackground\":true,\"showgrid\":false,\"showline\":true,\"ticks\":\"outside\",\"zeroline\":false,\"zerolinecolor\":\"rgb(36,36,36)\"},\"yaxis\":{\"backgroundcolor\":\"white\",\"gridcolor\":\"rgb(232,232,232)\",\"gridwidth\":2,\"linecolor\":\"rgb(36,36,36)\",\"showbackground\":true,\"showgrid\":false,\"showline\":true,\"ticks\":\"outside\",\"zeroline\":false,\"zerolinecolor\":\"rgb(36,36,36)\"},\"zaxis\":{\"backgroundcolor\":\"white\",\"gridcolor\":\"rgb(232,232,232)\",\"gridwidth\":2,\"linecolor\":\"rgb(36,36,36)\",\"showbackground\":true,\"showgrid\":false,\"showline\":true,\"ticks\":\"outside\",\"zeroline\":false,\"zerolinecolor\":\"rgb(36,36,36)\"}},\"shapedefaults\":{\"fillcolor\":\"black\",\"line\":{\"width\":0},\"opacity\":0.3},\"ternary\":{\"aaxis\":{\"gridcolor\":\"rgb(232,232,232)\",\"linecolor\":\"rgb(36,36,36)\",\"showgrid\":false,\"showline\":true,\"ticks\":\"outside\"},\"baxis\":{\"gridcolor\":\"rgb(232,232,232)\",\"linecolor\":\"rgb(36,36,36)\",\"showgrid\":false,\"showline\":true,\"ticks\":\"outside\"},\"bgcolor\":\"white\",\"caxis\":{\"gridcolor\":\"rgb(232,232,232)\",\"linecolor\":\"rgb(36,36,36)\",\"showgrid\":false,\"showline\":true,\"ticks\":\"outside\"}},\"title\":{\"x\":0.05},\"xaxis\":{\"automargin\":true,\"gridcolor\":\"rgb(232,232,232)\",\"linecolor\":\"rgb(36,36,36)\",\"showgrid\":false,\"showline\":true,\"ticks\":\"outside\",\"title\":{\"standoff\":15},\"zeroline\":false,\"zerolinecolor\":\"rgb(36,36,36)\"},\"yaxis\":{\"automargin\":true,\"gridcolor\":\"rgb(232,232,232)\",\"linecolor\":\"rgb(36,36,36)\",\"showgrid\":false,\"showline\":true,\"ticks\":\"outside\",\"title\":{\"standoff\":15},\"zeroline\":false,\"zerolinecolor\":\"rgb(36,36,36)\"}}},\"xaxis\":{\"anchor\":\"y\",\"domain\":[0.0,1.0],\"title\":{\"text\":\"Variable 1\"}},\"yaxis\":{\"anchor\":\"x\",\"domain\":[0.0,1.0],\"title\":{\"text\":\"Variable 2\"}},\"legend\":{\"title\":{\"text\":\"Anomalia\"},\"tracegroupgap\":0},\"margin\":{\"t\":60}},                        {\"responsive\": true}                    ).then(function(){\n",
              "                            \n",
              "var gd = document.getElementById('ac0754a7-2bf5-4263-9d5c-19fa45f3ec3a');\n",
              "var x = new MutationObserver(function (mutations, observer) {{\n",
              "        var display = window.getComputedStyle(gd).display;\n",
              "        if (!display || display === 'none') {{\n",
              "            console.log([gd, 'removed!']);\n",
              "            Plotly.purge(gd);\n",
              "            observer.disconnect();\n",
              "        }}\n",
              "}});\n",
              "\n",
              "// Listen for the removal of the full notebook cells\n",
              "var notebookContainer = gd.closest('#notebook-container');\n",
              "if (notebookContainer) {{\n",
              "    x.observe(notebookContainer, {childList: true});\n",
              "}}\n",
              "\n",
              "// Listen for the clearing of the current output cell\n",
              "var outputEl = gd.closest('.output');\n",
              "if (outputEl) {{\n",
              "    x.observe(outputEl, {childList: true});\n",
              "}}\n",
              "\n",
              "                        })                };                            </script>        </div>\n",
              "</body>\n",
              "</html>"
            ]
          },
          "metadata": {}
        }
      ]
    },
    {
      "cell_type": "code",
      "source": [
        "px.scatter(df,\n",
        "           x='Var 1', \n",
        "           y='Var 2',\n",
        "           color=\"Anomalia\",\n",
        "           color_continuous_scale='Bluered_r',\n",
        "           template=\"simple_white\",\n",
        "           labels={\"Var 1\":\"Variable 1\",\n",
        "                   \"Var 2\":\"Variable 2\",\n",
        "                   \"color\":\"Anomalia\"})"
      ],
      "metadata": {
        "colab": {
          "base_uri": "https://localhost:8080/",
          "height": 562
        },
        "id": "W29xhUYaxN-9",
        "outputId": "772fc0f0-8975-4dd0-f7ef-233b36a65ced"
      },
      "execution_count": 27,
      "outputs": [
        {
          "output_type": "display_data",
          "data": {
            "text/html": [
              "<html>\n",
              "<head><meta charset=\"utf-8\" /></head>\n",
              "<body>\n",
              "    <div>            <script src=\"https://cdnjs.cloudflare.com/ajax/libs/mathjax/2.7.5/MathJax.js?config=TeX-AMS-MML_SVG\"></script><script type=\"text/javascript\">if (window.MathJax) {MathJax.Hub.Config({SVG: {font: \"STIX-Web\"}});}</script>                <script type=\"text/javascript\">window.PlotlyConfig = {MathJaxConfig: 'local'};</script>\n",
              "        <script src=\"https://cdn.plot.ly/plotly-2.8.3.min.js\"></script>                <div id=\"1499fbe1-ab85-4d2d-b853-b90a2959529a\" class=\"plotly-graph-div\" style=\"height:525px; width:100%;\"></div>            <script type=\"text/javascript\">                                    window.PLOTLYENV=window.PLOTLYENV || {};                                    if (document.getElementById(\"1499fbe1-ab85-4d2d-b853-b90a2959529a\")) {                    Plotly.newPlot(                        \"1499fbe1-ab85-4d2d-b853-b90a2959529a\",                        [{\"hovertemplate\":\"Variable 1=%{x}<br>Variable 2=%{y}<br>Anomalia=%{marker.color}<extra></extra>\",\"legendgroup\":\"\",\"marker\":{\"color\":[1,1,1,-1,1,1,1,1,1,1,1,1,1,1,-1,1,1,1,1,1,1,1,1,1,1,1,1,1,1,1,1,-1,1,1,-1,1,1,-1,1,-1,1,1,1,1,1,-1,1,1,-1,1,1,1,1,1,1,1,1,1,1,1,1,1,1,1,1,-1,1,1,1,1,1,1,1,1,1,1,-1,1,1,-1,1,1,1,-1,1,1,1,1,1,1,1,1,1,-1,1,1,1,1,1,1,1,1,1,1,1,1,1,1,1,1,1,1,1,1,1,1,1,1,1,1,1,1,1,1,-1,1,1,1,1,1,1,1,1,1,1,1,1,1,1,1,1,1,-1,1,1,1,1,1,1,1,1,1,1,1,-1,1,1,-1,1,1,1,1,-1,1,1,1,1,1,1,1,1,1,1,1,1,1,1,1,1,1,1,1,1,1,1,1,-1,1,1,1,1,1,1,1,1,1,1,1,1,1,-1,-1],\"coloraxis\":\"coloraxis\",\"symbol\":\"circle\"},\"mode\":\"markers\",\"name\":\"\",\"orientation\":\"v\",\"showlegend\":false,\"x\":[0.1735893091659224,-0.6379949055686186,-1.3283230506978727,0.8314620138019799,0.8478608592206749,-1.0808059220952124,0.48546888891839746,-2.479309831432414,-1.1284755050439756,-0.8002662180449536,0.40710937255948854,-0.6977933531728566,-1.2748400796786954,-1.9629559014239029,-1.7420737801893744,-0.9110503357476207,-1.0132508206856303,-0.895609538974784,0.49758679707325604,0.6242019929753471,-1.1876953092263607,-0.591608881873292,-1.4474476645911425,0.37732166240771725,0.04047167951143049,0.025730856041353056,-0.30027488993848755,0.9885509962161365,-0.23180442549325042,-1.1459455066362334,-1.1412006531582972,-2.0932744562484222,-1.827223110375431,-1.2616147918568155,-2.2006586460216777,-0.44640033909011645,0.3514761393293987,-0.9825610092584652,-0.39691010466414944,-2.4558427061447343,1.026313391414364,-0.5445745901087966,1.00441449471292,-1.1008254604732377,-0.013922998035247047,-1.945113066014795,-0.5653621414927457,-1.4148084310706786,-0.06591991850150714,-0.15791690034350497,0.21177327423035208,-2.073968135716316,-1.045339464902008,-1.9628511288458967,-0.5909218521692204,-1.3401890801403158,0.21334960511207735,-1.1716078773094152,-0.9956648822129777,0.05713760166498405,-0.9191719481389201,0.6139263330294038,-0.08309766558440734,-0.44356765066064563,-0.11483698560520672,2.70257670874566,-2.1107199775806533,-0.9240292248040075,-0.6376181659128157,-1.316817142677272,0.9414646883950792,-1.7219057811252998,-0.770441516992155,-0.2665911145803322,-0.07437716609757211,-0.41015608983178675,-0.03288505588118684,-0.7683804627458035,0.31399834074048727,1.1892679352670381,-0.43822893778116706,-1.2813826826813388,0.10831944667939619,0.2250934701606685,-1.562330943324312,-0.37609686369944906,-0.04607524674180036,-1.2027619075154155,-1.0196638333138057,-1.7007818054150041,-0.3328801144821165,-1.2123843137007315,-2.3737674540014604,1.7322726595893108,-1.435478477095215,-1.3703170380206606,-1.9619224192315816,-0.9250153272155107,0.37689421007902824,0.27891403984496055,15.766776974894295,15.824157351516037,14.562101929247323,16.95290108503839,14.8004230022999,13.953249129259483,14.748069721932557,14.233112558082953,15.987305060822996,16.730175479245773,15.99790683419556,14.936269086676095,15.857529033206902,16.093068282461267,16.20575542931913,15.38592760733219,14.474937437613569,13.39670472609322,15.119662142427613,15.73915492283656,15.681100145644955,13.7285157877044,13.487683647567945,15.739705085198844,15.936670003040662,13.419300955040002,14.218610986528802,14.91860418445834,14.632163129495844,14.440936491945724,15.758577779942147,14.35508147434341,14.894379527552859,13.407791177242835,13.694025179722635,14.554043117455254,15.840372053044373,13.122707218658944,15.36047897544055,15.152488916750166,14.522045843937779,16.260997122285847,15.040026025029773,15.332875655026474,13.079054136455849,14.042031061990912,13.282538210124489,15.510505166375454,13.568928158657773,14.628849490897073,16.90607487790289,17.363825723593706,14.964446600778633,15.380383851136457,14.738187900311324,13.526018101528154,15.816346138716593,14.112392830075965,15.505189752118392,14.728537202472214,13.822644112715711,16.15701832653941,15.765602498056648,14.598170234242234,16.042672904731862,14.403450108477822,14.855776713022893,15.389360981615125,15.883901488254946,14.466597867134197,14.543373168612813,14.617237932219988,15.914453190657849,15.605053018501675,15.43704240654638,14.866603224276163,14.999256703461999,14.365056534947307,14.44382294911052,14.428176342467198,15.45109336170859,15.938938311488902,14.752232066863167,16.847760193870823,15.675150266306005,14.496843612817083,16.873987646427448,12.992475538247124,16.715928397019745,14.30428803167456,14.733634777322687,13.549601709662786,15.0955523333163,14.396325255844918,14.75894365496181,14.570452534703971,15.641929623817079,12.73531156023602,16.09852069702688,16.723680565621606,0.0,0.0],\"xaxis\":\"x\",\"y\":[0.443017375893993,0.3813515179659382,1.2784936605413666,-1.3812128370775134,0.489595146661045,-0.6949451711427607,-0.7017812440773529,0.08380682721226514,-0.2529213981741889,-0.6511153848093727,0.7700961437647194,-1.3793940221655574,-0.9654624573422743,-0.553838208215848,1.5442712989388967,0.09654975317618592,-0.3303355650574099,1.1609967562219374,-0.7514161020556838,-0.6379635207445932,0.110291112178157,0.10595269934767088,-0.2669615753960919,0.6678966639594212,-0.877962838259212,0.992661136153442,-0.5074320614970983,0.3927944927775624,0.7141084741238637,0.9757682747410077,-0.698537271207464,1.3020700314929177,0.6768370810841362,-1.1451683601874898,0.9362457696852462,1.3266669835651335,-0.7506243181753129,-2.3269636611685676,1.5882287987206958,0.6805120104536709,0.5563511390022681,1.0048982969930076,-0.028760212430003047,0.902499823649381,0.9127921912022441,1.3764649010290968,0.4811251526860854,0.028482146390314118,-1.2954600170001056,0.8849592766019357,0.547112127697901,0.35256852321071963,-0.5867417562458186,-1.5932921952520502,1.4513052235340844,-1.543165328323097,0.40407562304412037,0.5255819743590581,0.8610519236837347,-0.027904487369797847,-0.8757019165079604,-0.29326799312643226,-0.964624007503104,-0.04933496443052572,-0.8137885108055422,-0.9983068694819637,-2.1008249359750333,0.3698201310658568,-0.3659721741518791,-0.1463411619535598,1.9021795435645381,0.84865709732796,-0.1351825172703259,0.3235223451417312,0.7149060719675867,1.2245227647750465,-1.3377180497379961,-1.1056811909708242,0.7593366758882671,-1.0446183698673925,-0.5538787243402763,0.08451954502264813,0.9623784269961084,-1.2632644820404426,1.1212028672517813,0.815858295168169,0.5427465142391156,0.05820287140306978,-0.04957346117470226,-0.4389758861906612,0.130846817773056,0.5000609332111632,-0.070220477168728,-0.3295658984506217,-0.5063872973061637,0.5494679933758513,-0.7855169784028927,0.8655430500082437,0.4198231556766448,-0.013111300135533474,10.001704575280648,11.177302229902548,11.110813368345518,10.305028086492872,10.269644794347217,8.704504902296701,9.77024072603122,9.614605673461714,9.548967899000697,11.836274488875029,10.824154880919941,10.045320344273867,10.669376302956321,10.365354128152484,9.874476440323791,9.338293651982873,10.306435876063151,9.930859599095724,9.027915333577631,9.236547044031262,10.978770096676136,8.81948100402677,8.962328618948963,9.818746845481904,8.79033193697956,9.953325329503183,8.432630300619586,10.012267858115967,10.107546478122007,11.418761345047617,10.531263012448433,8.57997506271846,8.947163740393423,9.931161014870646,9.680985985840492,11.136917695185858,10.658735206877582,9.230351063169001,11.288960997728829,11.834985678320857,8.646515566062105,12.21367922172251,7.128487779974572,10.587288296204397,7.549665957029613,9.90107100054065,10.414194087805836,10.435707484860334,9.418365373452042,9.745916152282001,11.308595995703794,10.334177193849444,9.868344360302764,11.058988596331258,12.778360044461456,9.34913753457349,9.553043131994784,11.328950119324487,8.706413551789906,8.486953698028435,9.893439508824118,11.437715401108402,12.347023368677107,11.219859283417748,11.751700875033901,9.379151222596452,9.725351699344982,10.519677556804186,9.8266829670734,8.922128269700238,9.403368146366205,8.025954398772784,8.965520313574817,9.846061662201794,8.784694130889143,10.550273802546414,10.165798982854723,8.939570322757078,10.780459690171654,10.01608202834586,8.63192520562691,11.34195250929646,11.180932345301333,10.552556619092028,11.811828226449737,8.965460085887123,8.921096767939456,9.505827040603387,9.81450466060421,8.662140284383032,10.602316065448866,9.407446992304003,11.296284020572246,9.322747965705135,9.927932196835126,9.08208385046228,10.681355435726562,9.02526650028448,10.24303179756621,10.123144582208733,10.0,9.5],\"yaxis\":\"y\",\"type\":\"scatter\"}],                        {\"template\":{\"data\":{\"barpolar\":[{\"marker\":{\"line\":{\"color\":\"white\",\"width\":0.5},\"pattern\":{\"fillmode\":\"overlay\",\"size\":10,\"solidity\":0.2}},\"type\":\"barpolar\"}],\"bar\":[{\"error_x\":{\"color\":\"rgb(36,36,36)\"},\"error_y\":{\"color\":\"rgb(36,36,36)\"},\"marker\":{\"line\":{\"color\":\"white\",\"width\":0.5},\"pattern\":{\"fillmode\":\"overlay\",\"size\":10,\"solidity\":0.2}},\"type\":\"bar\"}],\"carpet\":[{\"aaxis\":{\"endlinecolor\":\"rgb(36,36,36)\",\"gridcolor\":\"white\",\"linecolor\":\"white\",\"minorgridcolor\":\"white\",\"startlinecolor\":\"rgb(36,36,36)\"},\"baxis\":{\"endlinecolor\":\"rgb(36,36,36)\",\"gridcolor\":\"white\",\"linecolor\":\"white\",\"minorgridcolor\":\"white\",\"startlinecolor\":\"rgb(36,36,36)\"},\"type\":\"carpet\"}],\"choropleth\":[{\"colorbar\":{\"outlinewidth\":1,\"tickcolor\":\"rgb(36,36,36)\",\"ticks\":\"outside\"},\"type\":\"choropleth\"}],\"contourcarpet\":[{\"colorbar\":{\"outlinewidth\":1,\"tickcolor\":\"rgb(36,36,36)\",\"ticks\":\"outside\"},\"type\":\"contourcarpet\"}],\"contour\":[{\"colorbar\":{\"outlinewidth\":1,\"tickcolor\":\"rgb(36,36,36)\",\"ticks\":\"outside\"},\"colorscale\":[[0.0,\"#440154\"],[0.1111111111111111,\"#482878\"],[0.2222222222222222,\"#3e4989\"],[0.3333333333333333,\"#31688e\"],[0.4444444444444444,\"#26828e\"],[0.5555555555555556,\"#1f9e89\"],[0.6666666666666666,\"#35b779\"],[0.7777777777777778,\"#6ece58\"],[0.8888888888888888,\"#b5de2b\"],[1.0,\"#fde725\"]],\"type\":\"contour\"}],\"heatmapgl\":[{\"colorbar\":{\"outlinewidth\":1,\"tickcolor\":\"rgb(36,36,36)\",\"ticks\":\"outside\"},\"colorscale\":[[0.0,\"#440154\"],[0.1111111111111111,\"#482878\"],[0.2222222222222222,\"#3e4989\"],[0.3333333333333333,\"#31688e\"],[0.4444444444444444,\"#26828e\"],[0.5555555555555556,\"#1f9e89\"],[0.6666666666666666,\"#35b779\"],[0.7777777777777778,\"#6ece58\"],[0.8888888888888888,\"#b5de2b\"],[1.0,\"#fde725\"]],\"type\":\"heatmapgl\"}],\"heatmap\":[{\"colorbar\":{\"outlinewidth\":1,\"tickcolor\":\"rgb(36,36,36)\",\"ticks\":\"outside\"},\"colorscale\":[[0.0,\"#440154\"],[0.1111111111111111,\"#482878\"],[0.2222222222222222,\"#3e4989\"],[0.3333333333333333,\"#31688e\"],[0.4444444444444444,\"#26828e\"],[0.5555555555555556,\"#1f9e89\"],[0.6666666666666666,\"#35b779\"],[0.7777777777777778,\"#6ece58\"],[0.8888888888888888,\"#b5de2b\"],[1.0,\"#fde725\"]],\"type\":\"heatmap\"}],\"histogram2dcontour\":[{\"colorbar\":{\"outlinewidth\":1,\"tickcolor\":\"rgb(36,36,36)\",\"ticks\":\"outside\"},\"colorscale\":[[0.0,\"#440154\"],[0.1111111111111111,\"#482878\"],[0.2222222222222222,\"#3e4989\"],[0.3333333333333333,\"#31688e\"],[0.4444444444444444,\"#26828e\"],[0.5555555555555556,\"#1f9e89\"],[0.6666666666666666,\"#35b779\"],[0.7777777777777778,\"#6ece58\"],[0.8888888888888888,\"#b5de2b\"],[1.0,\"#fde725\"]],\"type\":\"histogram2dcontour\"}],\"histogram2d\":[{\"colorbar\":{\"outlinewidth\":1,\"tickcolor\":\"rgb(36,36,36)\",\"ticks\":\"outside\"},\"colorscale\":[[0.0,\"#440154\"],[0.1111111111111111,\"#482878\"],[0.2222222222222222,\"#3e4989\"],[0.3333333333333333,\"#31688e\"],[0.4444444444444444,\"#26828e\"],[0.5555555555555556,\"#1f9e89\"],[0.6666666666666666,\"#35b779\"],[0.7777777777777778,\"#6ece58\"],[0.8888888888888888,\"#b5de2b\"],[1.0,\"#fde725\"]],\"type\":\"histogram2d\"}],\"histogram\":[{\"marker\":{\"line\":{\"color\":\"white\",\"width\":0.6}},\"type\":\"histogram\"}],\"mesh3d\":[{\"colorbar\":{\"outlinewidth\":1,\"tickcolor\":\"rgb(36,36,36)\",\"ticks\":\"outside\"},\"type\":\"mesh3d\"}],\"parcoords\":[{\"line\":{\"colorbar\":{\"outlinewidth\":1,\"tickcolor\":\"rgb(36,36,36)\",\"ticks\":\"outside\"}},\"type\":\"parcoords\"}],\"pie\":[{\"automargin\":true,\"type\":\"pie\"}],\"scatter3d\":[{\"line\":{\"colorbar\":{\"outlinewidth\":1,\"tickcolor\":\"rgb(36,36,36)\",\"ticks\":\"outside\"}},\"marker\":{\"colorbar\":{\"outlinewidth\":1,\"tickcolor\":\"rgb(36,36,36)\",\"ticks\":\"outside\"}},\"type\":\"scatter3d\"}],\"scattercarpet\":[{\"marker\":{\"colorbar\":{\"outlinewidth\":1,\"tickcolor\":\"rgb(36,36,36)\",\"ticks\":\"outside\"}},\"type\":\"scattercarpet\"}],\"scattergeo\":[{\"marker\":{\"colorbar\":{\"outlinewidth\":1,\"tickcolor\":\"rgb(36,36,36)\",\"ticks\":\"outside\"}},\"type\":\"scattergeo\"}],\"scattergl\":[{\"marker\":{\"colorbar\":{\"outlinewidth\":1,\"tickcolor\":\"rgb(36,36,36)\",\"ticks\":\"outside\"}},\"type\":\"scattergl\"}],\"scattermapbox\":[{\"marker\":{\"colorbar\":{\"outlinewidth\":1,\"tickcolor\":\"rgb(36,36,36)\",\"ticks\":\"outside\"}},\"type\":\"scattermapbox\"}],\"scatterpolargl\":[{\"marker\":{\"colorbar\":{\"outlinewidth\":1,\"tickcolor\":\"rgb(36,36,36)\",\"ticks\":\"outside\"}},\"type\":\"scatterpolargl\"}],\"scatterpolar\":[{\"marker\":{\"colorbar\":{\"outlinewidth\":1,\"tickcolor\":\"rgb(36,36,36)\",\"ticks\":\"outside\"}},\"type\":\"scatterpolar\"}],\"scatter\":[{\"marker\":{\"colorbar\":{\"outlinewidth\":1,\"tickcolor\":\"rgb(36,36,36)\",\"ticks\":\"outside\"}},\"type\":\"scatter\"}],\"scatterternary\":[{\"marker\":{\"colorbar\":{\"outlinewidth\":1,\"tickcolor\":\"rgb(36,36,36)\",\"ticks\":\"outside\"}},\"type\":\"scatterternary\"}],\"surface\":[{\"colorbar\":{\"outlinewidth\":1,\"tickcolor\":\"rgb(36,36,36)\",\"ticks\":\"outside\"},\"colorscale\":[[0.0,\"#440154\"],[0.1111111111111111,\"#482878\"],[0.2222222222222222,\"#3e4989\"],[0.3333333333333333,\"#31688e\"],[0.4444444444444444,\"#26828e\"],[0.5555555555555556,\"#1f9e89\"],[0.6666666666666666,\"#35b779\"],[0.7777777777777778,\"#6ece58\"],[0.8888888888888888,\"#b5de2b\"],[1.0,\"#fde725\"]],\"type\":\"surface\"}],\"table\":[{\"cells\":{\"fill\":{\"color\":\"rgb(237,237,237)\"},\"line\":{\"color\":\"white\"}},\"header\":{\"fill\":{\"color\":\"rgb(217,217,217)\"},\"line\":{\"color\":\"white\"}},\"type\":\"table\"}]},\"layout\":{\"annotationdefaults\":{\"arrowhead\":0,\"arrowwidth\":1},\"autotypenumbers\":\"strict\",\"coloraxis\":{\"colorbar\":{\"outlinewidth\":1,\"tickcolor\":\"rgb(36,36,36)\",\"ticks\":\"outside\"}},\"colorscale\":{\"diverging\":[[0.0,\"rgb(103,0,31)\"],[0.1,\"rgb(178,24,43)\"],[0.2,\"rgb(214,96,77)\"],[0.3,\"rgb(244,165,130)\"],[0.4,\"rgb(253,219,199)\"],[0.5,\"rgb(247,247,247)\"],[0.6,\"rgb(209,229,240)\"],[0.7,\"rgb(146,197,222)\"],[0.8,\"rgb(67,147,195)\"],[0.9,\"rgb(33,102,172)\"],[1.0,\"rgb(5,48,97)\"]],\"sequential\":[[0.0,\"#440154\"],[0.1111111111111111,\"#482878\"],[0.2222222222222222,\"#3e4989\"],[0.3333333333333333,\"#31688e\"],[0.4444444444444444,\"#26828e\"],[0.5555555555555556,\"#1f9e89\"],[0.6666666666666666,\"#35b779\"],[0.7777777777777778,\"#6ece58\"],[0.8888888888888888,\"#b5de2b\"],[1.0,\"#fde725\"]],\"sequentialminus\":[[0.0,\"#440154\"],[0.1111111111111111,\"#482878\"],[0.2222222222222222,\"#3e4989\"],[0.3333333333333333,\"#31688e\"],[0.4444444444444444,\"#26828e\"],[0.5555555555555556,\"#1f9e89\"],[0.6666666666666666,\"#35b779\"],[0.7777777777777778,\"#6ece58\"],[0.8888888888888888,\"#b5de2b\"],[1.0,\"#fde725\"]]},\"colorway\":[\"#1F77B4\",\"#FF7F0E\",\"#2CA02C\",\"#D62728\",\"#9467BD\",\"#8C564B\",\"#E377C2\",\"#7F7F7F\",\"#BCBD22\",\"#17BECF\"],\"font\":{\"color\":\"rgb(36,36,36)\"},\"geo\":{\"bgcolor\":\"white\",\"lakecolor\":\"white\",\"landcolor\":\"white\",\"showlakes\":true,\"showland\":true,\"subunitcolor\":\"white\"},\"hoverlabel\":{\"align\":\"left\"},\"hovermode\":\"closest\",\"mapbox\":{\"style\":\"light\"},\"paper_bgcolor\":\"white\",\"plot_bgcolor\":\"white\",\"polar\":{\"angularaxis\":{\"gridcolor\":\"rgb(232,232,232)\",\"linecolor\":\"rgb(36,36,36)\",\"showgrid\":false,\"showline\":true,\"ticks\":\"outside\"},\"bgcolor\":\"white\",\"radialaxis\":{\"gridcolor\":\"rgb(232,232,232)\",\"linecolor\":\"rgb(36,36,36)\",\"showgrid\":false,\"showline\":true,\"ticks\":\"outside\"}},\"scene\":{\"xaxis\":{\"backgroundcolor\":\"white\",\"gridcolor\":\"rgb(232,232,232)\",\"gridwidth\":2,\"linecolor\":\"rgb(36,36,36)\",\"showbackground\":true,\"showgrid\":false,\"showline\":true,\"ticks\":\"outside\",\"zeroline\":false,\"zerolinecolor\":\"rgb(36,36,36)\"},\"yaxis\":{\"backgroundcolor\":\"white\",\"gridcolor\":\"rgb(232,232,232)\",\"gridwidth\":2,\"linecolor\":\"rgb(36,36,36)\",\"showbackground\":true,\"showgrid\":false,\"showline\":true,\"ticks\":\"outside\",\"zeroline\":false,\"zerolinecolor\":\"rgb(36,36,36)\"},\"zaxis\":{\"backgroundcolor\":\"white\",\"gridcolor\":\"rgb(232,232,232)\",\"gridwidth\":2,\"linecolor\":\"rgb(36,36,36)\",\"showbackground\":true,\"showgrid\":false,\"showline\":true,\"ticks\":\"outside\",\"zeroline\":false,\"zerolinecolor\":\"rgb(36,36,36)\"}},\"shapedefaults\":{\"fillcolor\":\"black\",\"line\":{\"width\":0},\"opacity\":0.3},\"ternary\":{\"aaxis\":{\"gridcolor\":\"rgb(232,232,232)\",\"linecolor\":\"rgb(36,36,36)\",\"showgrid\":false,\"showline\":true,\"ticks\":\"outside\"},\"baxis\":{\"gridcolor\":\"rgb(232,232,232)\",\"linecolor\":\"rgb(36,36,36)\",\"showgrid\":false,\"showline\":true,\"ticks\":\"outside\"},\"bgcolor\":\"white\",\"caxis\":{\"gridcolor\":\"rgb(232,232,232)\",\"linecolor\":\"rgb(36,36,36)\",\"showgrid\":false,\"showline\":true,\"ticks\":\"outside\"}},\"title\":{\"x\":0.05},\"xaxis\":{\"automargin\":true,\"gridcolor\":\"rgb(232,232,232)\",\"linecolor\":\"rgb(36,36,36)\",\"showgrid\":false,\"showline\":true,\"ticks\":\"outside\",\"title\":{\"standoff\":15},\"zeroline\":false,\"zerolinecolor\":\"rgb(36,36,36)\"},\"yaxis\":{\"automargin\":true,\"gridcolor\":\"rgb(232,232,232)\",\"linecolor\":\"rgb(36,36,36)\",\"showgrid\":false,\"showline\":true,\"ticks\":\"outside\",\"title\":{\"standoff\":15},\"zeroline\":false,\"zerolinecolor\":\"rgb(36,36,36)\"}}},\"xaxis\":{\"anchor\":\"y\",\"domain\":[0.0,1.0],\"title\":{\"text\":\"Variable 1\"}},\"yaxis\":{\"anchor\":\"x\",\"domain\":[0.0,1.0],\"title\":{\"text\":\"Variable 2\"}},\"coloraxis\":{\"colorbar\":{\"title\":{\"text\":\"Anomalia\"}},\"colorscale\":[[0.0,\"rgb(255,0,0)\"],[1.0,\"rgb(0,0,255)\"]]},\"legend\":{\"tracegroupgap\":0},\"margin\":{\"t\":60}},                        {\"responsive\": true}                    ).then(function(){\n",
              "                            \n",
              "var gd = document.getElementById('1499fbe1-ab85-4d2d-b853-b90a2959529a');\n",
              "var x = new MutationObserver(function (mutations, observer) {{\n",
              "        var display = window.getComputedStyle(gd).display;\n",
              "        if (!display || display === 'none') {{\n",
              "            console.log([gd, 'removed!']);\n",
              "            Plotly.purge(gd);\n",
              "            observer.disconnect();\n",
              "        }}\n",
              "}});\n",
              "\n",
              "// Listen for the removal of the full notebook cells\n",
              "var notebookContainer = gd.closest('#notebook-container');\n",
              "if (notebookContainer) {{\n",
              "    x.observe(notebookContainer, {childList: true});\n",
              "}}\n",
              "\n",
              "// Listen for the clearing of the current output cell\n",
              "var outputEl = gd.closest('.output');\n",
              "if (outputEl) {{\n",
              "    x.observe(outputEl, {childList: true});\n",
              "}}\n",
              "\n",
              "                        })                };                            </script>        </div>\n",
              "</body>\n",
              "</html>"
            ]
          },
          "metadata": {}
        }
      ]
    },
    {
      "cell_type": "markdown",
      "metadata": {
        "id": "o-dhOElkbuHd"
      },
      "source": [
        "## **Estimación de la contaminación**"
      ]
    },
    {
      "cell_type": "markdown",
      "metadata": {
        "id": "ZUDyI0XRb9D-"
      },
      "source": [
        "### **Distancia de Mahalanobis**"
      ]
    },
    {
      "cell_type": "code",
      "metadata": {
        "id": "bm79m4jgbyWM"
      },
      "source": [
        "df['Distancia de Mahalanobis'] = el.mahalanobis(df)"
      ],
      "execution_count": 28,
      "outputs": []
    },
    {
      "cell_type": "code",
      "metadata": {
        "colab": {
          "base_uri": "https://localhost:8080/",
          "height": 433
        },
        "id": "JN3KrE7UcKu8",
        "outputId": "02354666-188d-4e57-c869-c363220ef2fe"
      },
      "source": [
        "df"
      ],
      "execution_count": 29,
      "outputs": [
        {
          "output_type": "execute_result",
          "data": {
            "text/plain": [
              "         Var 1      Var 2  Anomalia  Distancia de Mahalanobis\n",
              "0     0.173589   0.443017         1                  0.891479\n",
              "1    -0.637995   0.381352         1                  1.119987\n",
              "2    -1.328323   1.278494         1                  4.751889\n",
              "3     0.831462  -1.381213        -1                  9.110237\n",
              "4     0.847861   0.489595         1                  1.162981\n",
              "..         ...        ...       ...                       ...\n",
              "197  12.735312   9.025267         1                  0.741682\n",
              "198  16.098521  10.243032         1                  1.556690\n",
              "199  16.723681  10.123145         1                  2.800120\n",
              "200   0.000000  10.000000        -1                127.270967\n",
              "201   0.000000   9.500000        -1                114.268057\n",
              "\n",
              "[202 rows x 4 columns]"
            ],
            "text/html": [
              "\n",
              "  <div id=\"df-c594cae2-cf12-42ff-8be9-b5d97a114991\">\n",
              "    <div class=\"colab-df-container\">\n",
              "      <div>\n",
              "<style scoped>\n",
              "    .dataframe tbody tr th:only-of-type {\n",
              "        vertical-align: middle;\n",
              "    }\n",
              "\n",
              "    .dataframe tbody tr th {\n",
              "        vertical-align: top;\n",
              "    }\n",
              "\n",
              "    .dataframe thead th {\n",
              "        text-align: right;\n",
              "    }\n",
              "</style>\n",
              "<table border=\"1\" class=\"dataframe\">\n",
              "  <thead>\n",
              "    <tr style=\"text-align: right;\">\n",
              "      <th></th>\n",
              "      <th>Var 1</th>\n",
              "      <th>Var 2</th>\n",
              "      <th>Anomalia</th>\n",
              "      <th>Distancia de Mahalanobis</th>\n",
              "    </tr>\n",
              "  </thead>\n",
              "  <tbody>\n",
              "    <tr>\n",
              "      <th>0</th>\n",
              "      <td>0.173589</td>\n",
              "      <td>0.443017</td>\n",
              "      <td>1</td>\n",
              "      <td>0.891479</td>\n",
              "    </tr>\n",
              "    <tr>\n",
              "      <th>1</th>\n",
              "      <td>-0.637995</td>\n",
              "      <td>0.381352</td>\n",
              "      <td>1</td>\n",
              "      <td>1.119987</td>\n",
              "    </tr>\n",
              "    <tr>\n",
              "      <th>2</th>\n",
              "      <td>-1.328323</td>\n",
              "      <td>1.278494</td>\n",
              "      <td>1</td>\n",
              "      <td>4.751889</td>\n",
              "    </tr>\n",
              "    <tr>\n",
              "      <th>3</th>\n",
              "      <td>0.831462</td>\n",
              "      <td>-1.381213</td>\n",
              "      <td>-1</td>\n",
              "      <td>9.110237</td>\n",
              "    </tr>\n",
              "    <tr>\n",
              "      <th>4</th>\n",
              "      <td>0.847861</td>\n",
              "      <td>0.489595</td>\n",
              "      <td>1</td>\n",
              "      <td>1.162981</td>\n",
              "    </tr>\n",
              "    <tr>\n",
              "      <th>...</th>\n",
              "      <td>...</td>\n",
              "      <td>...</td>\n",
              "      <td>...</td>\n",
              "      <td>...</td>\n",
              "    </tr>\n",
              "    <tr>\n",
              "      <th>197</th>\n",
              "      <td>12.735312</td>\n",
              "      <td>9.025267</td>\n",
              "      <td>1</td>\n",
              "      <td>0.741682</td>\n",
              "    </tr>\n",
              "    <tr>\n",
              "      <th>198</th>\n",
              "      <td>16.098521</td>\n",
              "      <td>10.243032</td>\n",
              "      <td>1</td>\n",
              "      <td>1.556690</td>\n",
              "    </tr>\n",
              "    <tr>\n",
              "      <th>199</th>\n",
              "      <td>16.723681</td>\n",
              "      <td>10.123145</td>\n",
              "      <td>1</td>\n",
              "      <td>2.800120</td>\n",
              "    </tr>\n",
              "    <tr>\n",
              "      <th>200</th>\n",
              "      <td>0.000000</td>\n",
              "      <td>10.000000</td>\n",
              "      <td>-1</td>\n",
              "      <td>127.270967</td>\n",
              "    </tr>\n",
              "    <tr>\n",
              "      <th>201</th>\n",
              "      <td>0.000000</td>\n",
              "      <td>9.500000</td>\n",
              "      <td>-1</td>\n",
              "      <td>114.268057</td>\n",
              "    </tr>\n",
              "  </tbody>\n",
              "</table>\n",
              "<p>202 rows × 4 columns</p>\n",
              "</div>\n",
              "      <button class=\"colab-df-convert\" onclick=\"convertToInteractive('df-c594cae2-cf12-42ff-8be9-b5d97a114991')\"\n",
              "              title=\"Convert this dataframe to an interactive table.\"\n",
              "              style=\"display:none;\">\n",
              "        \n",
              "  <svg xmlns=\"http://www.w3.org/2000/svg\" height=\"24px\"viewBox=\"0 0 24 24\"\n",
              "       width=\"24px\">\n",
              "    <path d=\"M0 0h24v24H0V0z\" fill=\"none\"/>\n",
              "    <path d=\"M18.56 5.44l.94 2.06.94-2.06 2.06-.94-2.06-.94-.94-2.06-.94 2.06-2.06.94zm-11 1L8.5 8.5l.94-2.06 2.06-.94-2.06-.94L8.5 2.5l-.94 2.06-2.06.94zm10 10l.94 2.06.94-2.06 2.06-.94-2.06-.94-.94-2.06-.94 2.06-2.06.94z\"/><path d=\"M17.41 7.96l-1.37-1.37c-.4-.4-.92-.59-1.43-.59-.52 0-1.04.2-1.43.59L10.3 9.45l-7.72 7.72c-.78.78-.78 2.05 0 2.83L4 21.41c.39.39.9.59 1.41.59.51 0 1.02-.2 1.41-.59l7.78-7.78 2.81-2.81c.8-.78.8-2.07 0-2.86zM5.41 20L4 18.59l7.72-7.72 1.47 1.35L5.41 20z\"/>\n",
              "  </svg>\n",
              "      </button>\n",
              "      \n",
              "  <style>\n",
              "    .colab-df-container {\n",
              "      display:flex;\n",
              "      flex-wrap:wrap;\n",
              "      gap: 12px;\n",
              "    }\n",
              "\n",
              "    .colab-df-convert {\n",
              "      background-color: #E8F0FE;\n",
              "      border: none;\n",
              "      border-radius: 50%;\n",
              "      cursor: pointer;\n",
              "      display: none;\n",
              "      fill: #1967D2;\n",
              "      height: 32px;\n",
              "      padding: 0 0 0 0;\n",
              "      width: 32px;\n",
              "    }\n",
              "\n",
              "    .colab-df-convert:hover {\n",
              "      background-color: #E2EBFA;\n",
              "      box-shadow: 0px 1px 2px rgba(60, 64, 67, 0.3), 0px 1px 3px 1px rgba(60, 64, 67, 0.15);\n",
              "      fill: #174EA6;\n",
              "    }\n",
              "\n",
              "    [theme=dark] .colab-df-convert {\n",
              "      background-color: #3B4455;\n",
              "      fill: #D2E3FC;\n",
              "    }\n",
              "\n",
              "    [theme=dark] .colab-df-convert:hover {\n",
              "      background-color: #434B5C;\n",
              "      box-shadow: 0px 1px 3px 1px rgba(0, 0, 0, 0.15);\n",
              "      filter: drop-shadow(0px 1px 2px rgba(0, 0, 0, 0.3));\n",
              "      fill: #FFFFFF;\n",
              "    }\n",
              "  </style>\n",
              "\n",
              "      <script>\n",
              "        const buttonEl =\n",
              "          document.querySelector('#df-c594cae2-cf12-42ff-8be9-b5d97a114991 button.colab-df-convert');\n",
              "        buttonEl.style.display =\n",
              "          google.colab.kernel.accessAllowed ? 'block' : 'none';\n",
              "\n",
              "        async function convertToInteractive(key) {\n",
              "          const element = document.querySelector('#df-c594cae2-cf12-42ff-8be9-b5d97a114991');\n",
              "          const dataTable =\n",
              "            await google.colab.kernel.invokeFunction('convertToInteractive',\n",
              "                                                     [key], {});\n",
              "          if (!dataTable) return;\n",
              "\n",
              "          const docLinkHtml = 'Like what you see? Visit the ' +\n",
              "            '<a target=\"_blank\" href=https://colab.research.google.com/notebooks/data_table.ipynb>data table notebook</a>'\n",
              "            + ' to learn more about interactive tables.';\n",
              "          element.innerHTML = '';\n",
              "          dataTable['output_type'] = 'display_data';\n",
              "          await google.colab.output.renderOutput(dataTable, element);\n",
              "          const docLink = document.createElement('div');\n",
              "          docLink.innerHTML = docLinkHtml;\n",
              "          element.appendChild(docLink);\n",
              "        }\n",
              "      </script>\n",
              "    </div>\n",
              "  </div>\n",
              "  "
            ]
          },
          "metadata": {},
          "execution_count": 29
        }
      ]
    },
    {
      "cell_type": "code",
      "metadata": {
        "colab": {
          "base_uri": "https://localhost:8080/",
          "height": 562
        },
        "id": "GQ3tmcpNlNwg",
        "outputId": "d80c49a2-758f-4fce-f99c-6e7b5656edad"
      },
      "source": [
        "px.box(df, \n",
        "       y=\"Distancia de Mahalanobis\",\n",
        "       template= \"simple_white\")"
      ],
      "execution_count": 34,
      "outputs": [
        {
          "output_type": "display_data",
          "data": {
            "text/html": [
              "<html>\n",
              "<head><meta charset=\"utf-8\" /></head>\n",
              "<body>\n",
              "    <div>            <script src=\"https://cdnjs.cloudflare.com/ajax/libs/mathjax/2.7.5/MathJax.js?config=TeX-AMS-MML_SVG\"></script><script type=\"text/javascript\">if (window.MathJax) {MathJax.Hub.Config({SVG: {font: \"STIX-Web\"}});}</script>                <script type=\"text/javascript\">window.PlotlyConfig = {MathJaxConfig: 'local'};</script>\n",
              "        <script src=\"https://cdn.plot.ly/plotly-2.8.3.min.js\"></script>                <div id=\"eebcf1bb-b211-4d54-8985-c0440f3768cc\" class=\"plotly-graph-div\" style=\"height:525px; width:100%;\"></div>            <script type=\"text/javascript\">                                    window.PLOTLYENV=window.PLOTLYENV || {};                                    if (document.getElementById(\"eebcf1bb-b211-4d54-8985-c0440f3768cc\")) {                    Plotly.newPlot(                        \"eebcf1bb-b211-4d54-8985-c0440f3768cc\",                        [{\"alignmentgroup\":\"True\",\"hovertemplate\":\"Distancia de Mahalanobis=%{y}<extra></extra>\",\"legendgroup\":\"\",\"marker\":{\"color\":\"#1F77B4\"},\"name\":\"\",\"notched\":false,\"offsetgroup\":\"\",\"orientation\":\"v\",\"showlegend\":false,\"x0\":\" \",\"xaxis\":\"x\",\"y\":[0.891478786873346,1.1199865946567957,4.751888805524449,9.11023723832771,1.1629813640134103,1.5739994853470076,4.130442576206095,3.3194113758843784,1.1717026676969333,1.7302506562017905,0.7807624159262025,4.115964802859715,1.8870320313087856,1.4364095961955452,7.618525215751226,1.1309301648762788,1.2041853726827296,3.1026774170825853,4.382210375347683,4.20489270604988,1.329081834540686,1.0252610046277006,1.2706362414095738,0.8027977992061439,3.7896922462616818,1.1416683834028218,1.9757854748995154,1.4877941206401804,1.0789527730782387,3.0809812066223086,1.5387675329128119,7.604546151781656,3.733635910501448,2.302485781690911,6.005897427030687,2.6078617980790013,4.005937421100662,8.216839864884356,3.367457051033753,5.621212514828308,1.2046546436756624,1.9416707418686574,2.6833288546617373,2.7487430272229894,1.0872485486879662,7.446397299065956,1.1431484408147505,1.454820031783854,5.411335409231471,1.1963424199868815,0.8458654669093714,3.2324853309659183,1.4420966347579156,2.518094740863612,3.3646006235969117,3.3644814995728107,0.9247455476503534,1.9279351190526253,2.412931323498944,1.3690170819697565,2.080690744833907,2.826208986713686,3.853993982072987,1.1143784378925061,3.2043005523397596,15.192095745087416,3.8432664666242995,1.3545922240614914,1.384059187272754,1.2477385593955095,1.5029183330430205,4.103043257001636,1.1152411864353862,0.9416287443036341,0.9640011704010886,2.2421399792633303,5.728043964931741,2.952748926255376,0.8019322064008274,8.29285986634644,1.9143899918490181,1.3874235618356092,1.0292715376459995,6.142159383789089,4.77698826503461,1.344052673514813,0.8870593664062654,1.2967605262852786,1.1388409340234842,1.3403515326121833,1.0088874609470473,1.9397566210024764,2.659904690275982,5.936791998689962,1.2752185911568117,2.3231368266151664,1.4132041367509824,2.287957938410195,0.9642469969928893,1.5520684561378733,1.5076726451722686,1.7385568169021124,3.486329344099679,2.769752392449006,1.101738144640253,1.3112252987133535,0.900913626438319,0.7790339932834729,2.903857229550194,2.16638719795505,1.2575045982506206,0.9413599801534563,1.1922209321562298,1.4102103543386237,2.4363199828960176,2.2577277063367753,1.3652968599564252,1.8015451416231116,2.5888571717755102,3.350061699319239,1.5218227618923876,0.8830580111108447,0.6269128325614065,1.7744313982214048,5.880331028417547,1.8274366580120507,2.452805760674982,0.9336170185994381,1.0067217220849471,5.151693881211751,1.1501735282345495,2.3004258710178327,2.3523945792843213,1.7862779012146097,0.9889735164112845,3.606281526241618,1.1875498171075496,0.7649324133620763,2.573069770123773,5.158906694849591,2.454656967399514,4.043192723284872,12.964794348164984,1.2154816322253448,2.758275195027183,1.0627187605976,3.66492610950186,1.0942870944026748,0.7587228575210332,0.8631949991570269,1.4932419320560986,3.593687760063521,0.9656071739082608,1.9483433866601596,12.95455917528793,0.7165293725720496,2.5275288050813516,5.6806412351174265,4.842349949412577,3.4991654068880265,1.22025823148849,1.9252226266627035,5.945715173427013,3.8382844110300396,2.8518139951341284,0.9064738459544504,0.9737381947363215,1.141081968945456,1.98088081195519,1.6389101621943036,0.9924194490607914,5.188711954295494,4.951783272783919,1.543698331897195,4.285900991188382,1.4518002243683765,0.9811301148159046,1.449824572226216,2.5642380521217687,0.9950686419706825,5.016011354492152,1.9477550402640313,3.3415827534183613,2.03493904399949,3.756670495214705,1.5947890481807627,8.831301875350146,1.32298297271359,3.77350763102147,1.9744890559371173,1.6820185674809924,0.7559420892685613,3.0622782959556183,0.9472218841765416,0.8972508312296547,1.4732791354493904,1.209472201192294,0.741682092286108,1.556690149740597,2.8001202786165704,127.27096715506751,114.26805700704259],\"y0\":\" \",\"yaxis\":\"y\",\"type\":\"box\"}],                        {\"template\":{\"data\":{\"barpolar\":[{\"marker\":{\"line\":{\"color\":\"white\",\"width\":0.5},\"pattern\":{\"fillmode\":\"overlay\",\"size\":10,\"solidity\":0.2}},\"type\":\"barpolar\"}],\"bar\":[{\"error_x\":{\"color\":\"rgb(36,36,36)\"},\"error_y\":{\"color\":\"rgb(36,36,36)\"},\"marker\":{\"line\":{\"color\":\"white\",\"width\":0.5},\"pattern\":{\"fillmode\":\"overlay\",\"size\":10,\"solidity\":0.2}},\"type\":\"bar\"}],\"carpet\":[{\"aaxis\":{\"endlinecolor\":\"rgb(36,36,36)\",\"gridcolor\":\"white\",\"linecolor\":\"white\",\"minorgridcolor\":\"white\",\"startlinecolor\":\"rgb(36,36,36)\"},\"baxis\":{\"endlinecolor\":\"rgb(36,36,36)\",\"gridcolor\":\"white\",\"linecolor\":\"white\",\"minorgridcolor\":\"white\",\"startlinecolor\":\"rgb(36,36,36)\"},\"type\":\"carpet\"}],\"choropleth\":[{\"colorbar\":{\"outlinewidth\":1,\"tickcolor\":\"rgb(36,36,36)\",\"ticks\":\"outside\"},\"type\":\"choropleth\"}],\"contourcarpet\":[{\"colorbar\":{\"outlinewidth\":1,\"tickcolor\":\"rgb(36,36,36)\",\"ticks\":\"outside\"},\"type\":\"contourcarpet\"}],\"contour\":[{\"colorbar\":{\"outlinewidth\":1,\"tickcolor\":\"rgb(36,36,36)\",\"ticks\":\"outside\"},\"colorscale\":[[0.0,\"#440154\"],[0.1111111111111111,\"#482878\"],[0.2222222222222222,\"#3e4989\"],[0.3333333333333333,\"#31688e\"],[0.4444444444444444,\"#26828e\"],[0.5555555555555556,\"#1f9e89\"],[0.6666666666666666,\"#35b779\"],[0.7777777777777778,\"#6ece58\"],[0.8888888888888888,\"#b5de2b\"],[1.0,\"#fde725\"]],\"type\":\"contour\"}],\"heatmapgl\":[{\"colorbar\":{\"outlinewidth\":1,\"tickcolor\":\"rgb(36,36,36)\",\"ticks\":\"outside\"},\"colorscale\":[[0.0,\"#440154\"],[0.1111111111111111,\"#482878\"],[0.2222222222222222,\"#3e4989\"],[0.3333333333333333,\"#31688e\"],[0.4444444444444444,\"#26828e\"],[0.5555555555555556,\"#1f9e89\"],[0.6666666666666666,\"#35b779\"],[0.7777777777777778,\"#6ece58\"],[0.8888888888888888,\"#b5de2b\"],[1.0,\"#fde725\"]],\"type\":\"heatmapgl\"}],\"heatmap\":[{\"colorbar\":{\"outlinewidth\":1,\"tickcolor\":\"rgb(36,36,36)\",\"ticks\":\"outside\"},\"colorscale\":[[0.0,\"#440154\"],[0.1111111111111111,\"#482878\"],[0.2222222222222222,\"#3e4989\"],[0.3333333333333333,\"#31688e\"],[0.4444444444444444,\"#26828e\"],[0.5555555555555556,\"#1f9e89\"],[0.6666666666666666,\"#35b779\"],[0.7777777777777778,\"#6ece58\"],[0.8888888888888888,\"#b5de2b\"],[1.0,\"#fde725\"]],\"type\":\"heatmap\"}],\"histogram2dcontour\":[{\"colorbar\":{\"outlinewidth\":1,\"tickcolor\":\"rgb(36,36,36)\",\"ticks\":\"outside\"},\"colorscale\":[[0.0,\"#440154\"],[0.1111111111111111,\"#482878\"],[0.2222222222222222,\"#3e4989\"],[0.3333333333333333,\"#31688e\"],[0.4444444444444444,\"#26828e\"],[0.5555555555555556,\"#1f9e89\"],[0.6666666666666666,\"#35b779\"],[0.7777777777777778,\"#6ece58\"],[0.8888888888888888,\"#b5de2b\"],[1.0,\"#fde725\"]],\"type\":\"histogram2dcontour\"}],\"histogram2d\":[{\"colorbar\":{\"outlinewidth\":1,\"tickcolor\":\"rgb(36,36,36)\",\"ticks\":\"outside\"},\"colorscale\":[[0.0,\"#440154\"],[0.1111111111111111,\"#482878\"],[0.2222222222222222,\"#3e4989\"],[0.3333333333333333,\"#31688e\"],[0.4444444444444444,\"#26828e\"],[0.5555555555555556,\"#1f9e89\"],[0.6666666666666666,\"#35b779\"],[0.7777777777777778,\"#6ece58\"],[0.8888888888888888,\"#b5de2b\"],[1.0,\"#fde725\"]],\"type\":\"histogram2d\"}],\"histogram\":[{\"marker\":{\"line\":{\"color\":\"white\",\"width\":0.6}},\"type\":\"histogram\"}],\"mesh3d\":[{\"colorbar\":{\"outlinewidth\":1,\"tickcolor\":\"rgb(36,36,36)\",\"ticks\":\"outside\"},\"type\":\"mesh3d\"}],\"parcoords\":[{\"line\":{\"colorbar\":{\"outlinewidth\":1,\"tickcolor\":\"rgb(36,36,36)\",\"ticks\":\"outside\"}},\"type\":\"parcoords\"}],\"pie\":[{\"automargin\":true,\"type\":\"pie\"}],\"scatter3d\":[{\"line\":{\"colorbar\":{\"outlinewidth\":1,\"tickcolor\":\"rgb(36,36,36)\",\"ticks\":\"outside\"}},\"marker\":{\"colorbar\":{\"outlinewidth\":1,\"tickcolor\":\"rgb(36,36,36)\",\"ticks\":\"outside\"}},\"type\":\"scatter3d\"}],\"scattercarpet\":[{\"marker\":{\"colorbar\":{\"outlinewidth\":1,\"tickcolor\":\"rgb(36,36,36)\",\"ticks\":\"outside\"}},\"type\":\"scattercarpet\"}],\"scattergeo\":[{\"marker\":{\"colorbar\":{\"outlinewidth\":1,\"tickcolor\":\"rgb(36,36,36)\",\"ticks\":\"outside\"}},\"type\":\"scattergeo\"}],\"scattergl\":[{\"marker\":{\"colorbar\":{\"outlinewidth\":1,\"tickcolor\":\"rgb(36,36,36)\",\"ticks\":\"outside\"}},\"type\":\"scattergl\"}],\"scattermapbox\":[{\"marker\":{\"colorbar\":{\"outlinewidth\":1,\"tickcolor\":\"rgb(36,36,36)\",\"ticks\":\"outside\"}},\"type\":\"scattermapbox\"}],\"scatterpolargl\":[{\"marker\":{\"colorbar\":{\"outlinewidth\":1,\"tickcolor\":\"rgb(36,36,36)\",\"ticks\":\"outside\"}},\"type\":\"scatterpolargl\"}],\"scatterpolar\":[{\"marker\":{\"colorbar\":{\"outlinewidth\":1,\"tickcolor\":\"rgb(36,36,36)\",\"ticks\":\"outside\"}},\"type\":\"scatterpolar\"}],\"scatter\":[{\"marker\":{\"colorbar\":{\"outlinewidth\":1,\"tickcolor\":\"rgb(36,36,36)\",\"ticks\":\"outside\"}},\"type\":\"scatter\"}],\"scatterternary\":[{\"marker\":{\"colorbar\":{\"outlinewidth\":1,\"tickcolor\":\"rgb(36,36,36)\",\"ticks\":\"outside\"}},\"type\":\"scatterternary\"}],\"surface\":[{\"colorbar\":{\"outlinewidth\":1,\"tickcolor\":\"rgb(36,36,36)\",\"ticks\":\"outside\"},\"colorscale\":[[0.0,\"#440154\"],[0.1111111111111111,\"#482878\"],[0.2222222222222222,\"#3e4989\"],[0.3333333333333333,\"#31688e\"],[0.4444444444444444,\"#26828e\"],[0.5555555555555556,\"#1f9e89\"],[0.6666666666666666,\"#35b779\"],[0.7777777777777778,\"#6ece58\"],[0.8888888888888888,\"#b5de2b\"],[1.0,\"#fde725\"]],\"type\":\"surface\"}],\"table\":[{\"cells\":{\"fill\":{\"color\":\"rgb(237,237,237)\"},\"line\":{\"color\":\"white\"}},\"header\":{\"fill\":{\"color\":\"rgb(217,217,217)\"},\"line\":{\"color\":\"white\"}},\"type\":\"table\"}]},\"layout\":{\"annotationdefaults\":{\"arrowhead\":0,\"arrowwidth\":1},\"autotypenumbers\":\"strict\",\"coloraxis\":{\"colorbar\":{\"outlinewidth\":1,\"tickcolor\":\"rgb(36,36,36)\",\"ticks\":\"outside\"}},\"colorscale\":{\"diverging\":[[0.0,\"rgb(103,0,31)\"],[0.1,\"rgb(178,24,43)\"],[0.2,\"rgb(214,96,77)\"],[0.3,\"rgb(244,165,130)\"],[0.4,\"rgb(253,219,199)\"],[0.5,\"rgb(247,247,247)\"],[0.6,\"rgb(209,229,240)\"],[0.7,\"rgb(146,197,222)\"],[0.8,\"rgb(67,147,195)\"],[0.9,\"rgb(33,102,172)\"],[1.0,\"rgb(5,48,97)\"]],\"sequential\":[[0.0,\"#440154\"],[0.1111111111111111,\"#482878\"],[0.2222222222222222,\"#3e4989\"],[0.3333333333333333,\"#31688e\"],[0.4444444444444444,\"#26828e\"],[0.5555555555555556,\"#1f9e89\"],[0.6666666666666666,\"#35b779\"],[0.7777777777777778,\"#6ece58\"],[0.8888888888888888,\"#b5de2b\"],[1.0,\"#fde725\"]],\"sequentialminus\":[[0.0,\"#440154\"],[0.1111111111111111,\"#482878\"],[0.2222222222222222,\"#3e4989\"],[0.3333333333333333,\"#31688e\"],[0.4444444444444444,\"#26828e\"],[0.5555555555555556,\"#1f9e89\"],[0.6666666666666666,\"#35b779\"],[0.7777777777777778,\"#6ece58\"],[0.8888888888888888,\"#b5de2b\"],[1.0,\"#fde725\"]]},\"colorway\":[\"#1F77B4\",\"#FF7F0E\",\"#2CA02C\",\"#D62728\",\"#9467BD\",\"#8C564B\",\"#E377C2\",\"#7F7F7F\",\"#BCBD22\",\"#17BECF\"],\"font\":{\"color\":\"rgb(36,36,36)\"},\"geo\":{\"bgcolor\":\"white\",\"lakecolor\":\"white\",\"landcolor\":\"white\",\"showlakes\":true,\"showland\":true,\"subunitcolor\":\"white\"},\"hoverlabel\":{\"align\":\"left\"},\"hovermode\":\"closest\",\"mapbox\":{\"style\":\"light\"},\"paper_bgcolor\":\"white\",\"plot_bgcolor\":\"white\",\"polar\":{\"angularaxis\":{\"gridcolor\":\"rgb(232,232,232)\",\"linecolor\":\"rgb(36,36,36)\",\"showgrid\":false,\"showline\":true,\"ticks\":\"outside\"},\"bgcolor\":\"white\",\"radialaxis\":{\"gridcolor\":\"rgb(232,232,232)\",\"linecolor\":\"rgb(36,36,36)\",\"showgrid\":false,\"showline\":true,\"ticks\":\"outside\"}},\"scene\":{\"xaxis\":{\"backgroundcolor\":\"white\",\"gridcolor\":\"rgb(232,232,232)\",\"gridwidth\":2,\"linecolor\":\"rgb(36,36,36)\",\"showbackground\":true,\"showgrid\":false,\"showline\":true,\"ticks\":\"outside\",\"zeroline\":false,\"zerolinecolor\":\"rgb(36,36,36)\"},\"yaxis\":{\"backgroundcolor\":\"white\",\"gridcolor\":\"rgb(232,232,232)\",\"gridwidth\":2,\"linecolor\":\"rgb(36,36,36)\",\"showbackground\":true,\"showgrid\":false,\"showline\":true,\"ticks\":\"outside\",\"zeroline\":false,\"zerolinecolor\":\"rgb(36,36,36)\"},\"zaxis\":{\"backgroundcolor\":\"white\",\"gridcolor\":\"rgb(232,232,232)\",\"gridwidth\":2,\"linecolor\":\"rgb(36,36,36)\",\"showbackground\":true,\"showgrid\":false,\"showline\":true,\"ticks\":\"outside\",\"zeroline\":false,\"zerolinecolor\":\"rgb(36,36,36)\"}},\"shapedefaults\":{\"fillcolor\":\"black\",\"line\":{\"width\":0},\"opacity\":0.3},\"ternary\":{\"aaxis\":{\"gridcolor\":\"rgb(232,232,232)\",\"linecolor\":\"rgb(36,36,36)\",\"showgrid\":false,\"showline\":true,\"ticks\":\"outside\"},\"baxis\":{\"gridcolor\":\"rgb(232,232,232)\",\"linecolor\":\"rgb(36,36,36)\",\"showgrid\":false,\"showline\":true,\"ticks\":\"outside\"},\"bgcolor\":\"white\",\"caxis\":{\"gridcolor\":\"rgb(232,232,232)\",\"linecolor\":\"rgb(36,36,36)\",\"showgrid\":false,\"showline\":true,\"ticks\":\"outside\"}},\"title\":{\"x\":0.05},\"xaxis\":{\"automargin\":true,\"gridcolor\":\"rgb(232,232,232)\",\"linecolor\":\"rgb(36,36,36)\",\"showgrid\":false,\"showline\":true,\"ticks\":\"outside\",\"title\":{\"standoff\":15},\"zeroline\":false,\"zerolinecolor\":\"rgb(36,36,36)\"},\"yaxis\":{\"automargin\":true,\"gridcolor\":\"rgb(232,232,232)\",\"linecolor\":\"rgb(36,36,36)\",\"showgrid\":false,\"showline\":true,\"ticks\":\"outside\",\"title\":{\"standoff\":15},\"zeroline\":false,\"zerolinecolor\":\"rgb(36,36,36)\"}}},\"xaxis\":{\"anchor\":\"y\",\"domain\":[0.0,1.0]},\"yaxis\":{\"anchor\":\"x\",\"domain\":[0.0,1.0],\"title\":{\"text\":\"Distancia de Mahalanobis\"}},\"legend\":{\"tracegroupgap\":0},\"margin\":{\"t\":60},\"boxmode\":\"group\"},                        {\"responsive\": true}                    ).then(function(){\n",
              "                            \n",
              "var gd = document.getElementById('eebcf1bb-b211-4d54-8985-c0440f3768cc');\n",
              "var x = new MutationObserver(function (mutations, observer) {{\n",
              "        var display = window.getComputedStyle(gd).display;\n",
              "        if (!display || display === 'none') {{\n",
              "            console.log([gd, 'removed!']);\n",
              "            Plotly.purge(gd);\n",
              "            observer.disconnect();\n",
              "        }}\n",
              "}});\n",
              "\n",
              "// Listen for the removal of the full notebook cells\n",
              "var notebookContainer = gd.closest('#notebook-container');\n",
              "if (notebookContainer) {{\n",
              "    x.observe(notebookContainer, {childList: true});\n",
              "}}\n",
              "\n",
              "// Listen for the clearing of the current output cell\n",
              "var outputEl = gd.closest('.output');\n",
              "if (outputEl) {{\n",
              "    x.observe(outputEl, {childList: true});\n",
              "}}\n",
              "\n",
              "                        })                };                            </script>        </div>\n",
              "</body>\n",
              "</html>"
            ]
          },
          "metadata": {}
        }
      ]
    },
    {
      "cell_type": "code",
      "metadata": {
        "colab": {
          "base_uri": "https://localhost:8080/",
          "height": 562
        },
        "id": "EeJEO0Jve2wo",
        "outputId": "69721d05-2aa7-447f-c9b9-63b8d98147a6"
      },
      "source": [
        "px.box(df, \n",
        "       y=\"Distancia de Mahalanobis\",\n",
        "       color=\"Anomalia\",\n",
        "       template= \"gridon\")"
      ],
      "execution_count": 33,
      "outputs": [
        {
          "output_type": "display_data",
          "data": {
            "text/html": [
              "<html>\n",
              "<head><meta charset=\"utf-8\" /></head>\n",
              "<body>\n",
              "    <div>            <script src=\"https://cdnjs.cloudflare.com/ajax/libs/mathjax/2.7.5/MathJax.js?config=TeX-AMS-MML_SVG\"></script><script type=\"text/javascript\">if (window.MathJax) {MathJax.Hub.Config({SVG: {font: \"STIX-Web\"}});}</script>                <script type=\"text/javascript\">window.PlotlyConfig = {MathJaxConfig: 'local'};</script>\n",
              "        <script src=\"https://cdn.plot.ly/plotly-2.8.3.min.js\"></script>                <div id=\"01d7b9f4-ce12-4d52-912b-d22c57691871\" class=\"plotly-graph-div\" style=\"height:525px; width:100%;\"></div>            <script type=\"text/javascript\">                                    window.PLOTLYENV=window.PLOTLYENV || {};                                    if (document.getElementById(\"01d7b9f4-ce12-4d52-912b-d22c57691871\")) {                    Plotly.newPlot(                        \"01d7b9f4-ce12-4d52-912b-d22c57691871\",                        [{\"alignmentgroup\":\"True\",\"hovertemplate\":\"Anomalia=1<br>Distancia de Mahalanobis=%{y}<extra></extra>\",\"legendgroup\":\"1\",\"marker\":{\"color\":\"#1F77B4\"},\"name\":\"1\",\"notched\":false,\"offsetgroup\":\"1\",\"orientation\":\"v\",\"showlegend\":true,\"x0\":\" \",\"xaxis\":\"x\",\"y\":[0.891478786873346,1.1199865946567957,4.751888805524449,1.1629813640134103,1.5739994853470076,4.130442576206095,3.3194113758843784,1.1717026676969333,1.7302506562017905,0.7807624159262025,4.115964802859715,1.8870320313087856,1.4364095961955452,1.1309301648762788,1.2041853726827296,3.1026774170825853,4.382210375347683,4.20489270604988,1.329081834540686,1.0252610046277006,1.2706362414095738,0.8027977992061439,3.7896922462616818,1.1416683834028218,1.9757854748995154,1.4877941206401804,1.0789527730782387,3.0809812066223086,1.5387675329128119,3.733635910501448,2.302485781690911,2.6078617980790013,4.005937421100662,3.367457051033753,1.2046546436756624,1.9416707418686574,2.6833288546617373,2.7487430272229894,1.0872485486879662,1.1431484408147505,1.454820031783854,1.1963424199868815,0.8458654669093714,3.2324853309659183,1.4420966347579156,2.518094740863612,3.3646006235969117,3.3644814995728107,0.9247455476503534,1.9279351190526253,2.412931323498944,1.3690170819697565,2.080690744833907,2.826208986713686,3.853993982072987,1.1143784378925061,3.2043005523397596,3.8432664666242995,1.3545922240614914,1.384059187272754,1.2477385593955095,1.5029183330430205,4.103043257001636,1.1152411864353862,0.9416287443036341,0.9640011704010886,2.2421399792633303,2.952748926255376,0.8019322064008274,1.9143899918490181,1.3874235618356092,1.0292715376459995,4.77698826503461,1.344052673514813,0.8870593664062654,1.2967605262852786,1.1388409340234842,1.3403515326121833,1.0088874609470473,1.9397566210024764,2.659904690275982,1.2752185911568117,2.3231368266151664,1.4132041367509824,2.287957938410195,0.9642469969928893,1.5520684561378733,1.5076726451722686,1.7385568169021124,3.486329344099679,2.769752392449006,1.101738144640253,1.3112252987133535,0.900913626438319,0.7790339932834729,2.903857229550194,2.16638719795505,1.2575045982506206,0.9413599801534563,1.1922209321562298,1.4102103543386237,2.4363199828960176,2.2577277063367753,1.3652968599564252,1.8015451416231116,2.5888571717755102,3.350061699319239,1.5218227618923876,0.8830580111108447,0.6269128325614065,1.7744313982214048,1.8274366580120507,2.452805760674982,0.9336170185994381,1.0067217220849471,5.151693881211751,1.1501735282345495,2.3004258710178327,2.3523945792843213,1.7862779012146097,0.9889735164112845,3.606281526241618,1.1875498171075496,0.7649324133620763,2.573069770123773,5.158906694849591,2.454656967399514,4.043192723284872,1.2154816322253448,2.758275195027183,1.0627187605976,3.66492610950186,1.0942870944026748,0.7587228575210332,0.8631949991570269,1.4932419320560986,3.593687760063521,0.9656071739082608,1.9483433866601596,0.7165293725720496,2.5275288050813516,4.842349949412577,3.4991654068880265,1.22025823148849,1.9252226266627035,3.8382844110300396,2.8518139951341284,0.9064738459544504,0.9737381947363215,1.141081968945456,1.98088081195519,1.6389101621943036,0.9924194490607914,5.188711954295494,4.951783272783919,1.543698331897195,4.285900991188382,1.4518002243683765,0.9811301148159046,1.449824572226216,2.5642380521217687,0.9950686419706825,5.016011354492152,1.9477550402640313,3.3415827534183613,2.03493904399949,3.756670495214705,1.5947890481807627,1.32298297271359,3.77350763102147,1.9744890559371173,1.6820185674809924,0.7559420892685613,3.0622782959556183,0.9472218841765416,0.8972508312296547,1.4732791354493904,1.209472201192294,0.741682092286108,1.556690149740597,2.8001202786165704],\"y0\":\" \",\"yaxis\":\"y\",\"type\":\"box\"},{\"alignmentgroup\":\"True\",\"hovertemplate\":\"Anomalia=-1<br>Distancia de Mahalanobis=%{y}<extra></extra>\",\"legendgroup\":\"-1\",\"marker\":{\"color\":\"#FF7F0E\"},\"name\":\"-1\",\"notched\":false,\"offsetgroup\":\"-1\",\"orientation\":\"v\",\"showlegend\":true,\"x0\":\" \",\"xaxis\":\"x\",\"y\":[9.11023723832771,7.618525215751226,7.604546151781656,6.005897427030687,8.216839864884356,5.621212514828308,7.446397299065956,5.411335409231471,15.192095745087416,5.728043964931741,8.29285986634644,6.142159383789089,5.936791998689962,5.880331028417547,12.964794348164984,12.95455917528793,5.6806412351174265,5.945715173427013,8.831301875350146,127.27096715506751,114.26805700704259],\"y0\":\" \",\"yaxis\":\"y\",\"type\":\"box\"}],                        {\"template\":{\"data\":{\"pie\":[{\"automargin\":true,\"type\":\"pie\"}]},\"layout\":{\"xaxis\":{\"showgrid\":true,\"title\":{\"standoff\":15}},\"yaxis\":{\"showgrid\":true,\"title\":{\"standoff\":15}}}},\"xaxis\":{\"anchor\":\"y\",\"domain\":[0.0,1.0]},\"yaxis\":{\"anchor\":\"x\",\"domain\":[0.0,1.0],\"title\":{\"text\":\"Distancia de Mahalanobis\"}},\"legend\":{\"title\":{\"text\":\"Anomalia\"},\"tracegroupgap\":0},\"margin\":{\"t\":60},\"boxmode\":\"group\"},                        {\"responsive\": true}                    ).then(function(){\n",
              "                            \n",
              "var gd = document.getElementById('01d7b9f4-ce12-4d52-912b-d22c57691871');\n",
              "var x = new MutationObserver(function (mutations, observer) {{\n",
              "        var display = window.getComputedStyle(gd).display;\n",
              "        if (!display || display === 'none') {{\n",
              "            console.log([gd, 'removed!']);\n",
              "            Plotly.purge(gd);\n",
              "            observer.disconnect();\n",
              "        }}\n",
              "}});\n",
              "\n",
              "// Listen for the removal of the full notebook cells\n",
              "var notebookContainer = gd.closest('#notebook-container');\n",
              "if (notebookContainer) {{\n",
              "    x.observe(notebookContainer, {childList: true});\n",
              "}}\n",
              "\n",
              "// Listen for the clearing of the current output cell\n",
              "var outputEl = gd.closest('.output');\n",
              "if (outputEl) {{\n",
              "    x.observe(outputEl, {childList: true});\n",
              "}}\n",
              "\n",
              "                        })                };                            </script>        </div>\n",
              "</body>\n",
              "</html>"
            ]
          },
          "metadata": {}
        }
      ]
    }
  ]
}