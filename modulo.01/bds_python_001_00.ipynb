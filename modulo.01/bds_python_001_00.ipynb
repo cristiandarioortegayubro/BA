{
  "nbformat": 4,
  "nbformat_minor": 0,
  "metadata": {
    "colab": {
      "provenance": [],
      "include_colab_link": true
    },
    "kernelspec": {
      "name": "python3",
      "display_name": "Python 3"
    },
    "language_info": {
      "name": "python"
    }
  },
  "cells": [
    {
      "cell_type": "markdown",
      "metadata": {
        "id": "view-in-github",
        "colab_type": "text"
      },
      "source": [
        "<a href=\"https://colab.research.google.com/github/cristiandarioortegayubro/BA/blob/main/modulo.01/bds_python_001_00.ipynb\" target=\"_parent\"><img src=\"https://colab.research.google.com/assets/colab-badge.svg\" alt=\"Open In Colab\"/></a>"
      ]
    },
    {
      "cell_type": "markdown",
      "source": [
        "<p align=\"center\">\n",
        "<img src=\"https://github.com/cristiandarioortegayubro/BDS/blob/main/images/Logo%20BDS%20Horizontal%208.png?raw=true\">\n",
        "</p>\n"
      ],
      "metadata": {
        "id": "iheuwam9e4CH"
      }
    },
    {
      "cell_type": "markdown",
      "source": [
        "# **<font color=\"DeepPink\">Fundamentos de programacion en Python</font>**"
      ],
      "metadata": {
        "id": "_fRBXj8mbrnO"
      }
    },
    {
      "cell_type": "markdown",
      "source": [
        "<p align=\"center\">\n",
        "<img src=\"https://www.python.org/static/community_logos/python-powered-h-70x91.png\">\n",
        "</p>\n"
      ],
      "metadata": {
        "id": "gjpEYi_23t-3"
      }
    },
    {
      "cell_type": "markdown",
      "source": [
        "<p align=\"justify\"><b>\n",
        "<font color=\"DeepPink\">\n",
        "💗 Todo el mundo deberia aprender a programar, porque te enseña a pensar...\n",
        "</font>\n",
        "</p>\n",
        "<p align=\"right\"><b>\n",
        "<font color=\"DeepPink\">\n",
        "Steve Jobs (1995)\n",
        "</font>\n",
        "</p>\n",
        "<br>\n",
        "<br>\n",
        "\n"
      ],
      "metadata": {
        "id": "A3xiW7d-t0I0"
      }
    },
    {
      "cell_type": "markdown",
      "source": [
        "# **<font color=\"DeepPink\">Introducción de la programación</font>**"
      ],
      "metadata": {
        "id": "8d84UNXMLeVr"
      }
    },
    {
      "cell_type": "markdown",
      "source": [
        "<p align=\"justify\">\n",
        "La programación es el proceso que se utiliza para diseñar e implementar un programa, valiéndose de algún lenguaje que permita comunicar una serie de acciones que se requiere que la computadora realice. Podemos pensar que es una caja negra que recibe alguna información, la cual es llamada \"input\" (entrada), realiza alguna acción, y devuelve información, la cual es llamada \"output\" (salida).</p>"
      ],
      "metadata": {
        "id": "zI5HKoePLrjA"
      }
    },
    {
      "cell_type": "markdown",
      "source": [
        "<p align=\"center\">\n",
        "<img src=\"https://github.com/cristiandarioortegayubro/BDS/blob/main/images/Image_0004.jpg?raw=true\" width=\"600\" height=\"\">\n",
        "</p>\n"
      ],
      "metadata": {
        "id": "txgKGkCIp2cz"
      }
    },
    {
      "cell_type": "markdown",
      "source": [
        "<p>\n",
        "<font color=\"DeepPink\">\n",
        "\n",
        "**👀 Antes que nada, verificamos la versión de Python con la cual estamos trabajando...**\n",
        "\n",
        "</font>\n",
        "</p>"
      ],
      "metadata": {
        "id": "CVBX8dI2fG6h"
      }
    },
    {
      "cell_type": "code",
      "source": [
        "!python3 -V"
      ],
      "metadata": {
        "colab": {
          "base_uri": "https://localhost:8080/"
        },
        "id": "TTcklA_ifIk3",
        "outputId": "7abec728-a0a5-4c54-8564-20ab461cbc7a"
      },
      "execution_count": null,
      "outputs": [
        {
          "output_type": "stream",
          "name": "stdout",
          "text": [
            "Python 3.9.16\n"
          ]
        }
      ]
    },
    {
      "cell_type": "markdown",
      "source": [
        "<p align=\"justify\">\n",
        "Ahora si, antes de avanzar con el desarrollo de los contenidos, veamos un pequeño ejemplo de programación en Python. Este programa es un simple adivinador de números.</p>"
      ],
      "metadata": {
        "id": "d8zEdE2ISN0c"
      }
    },
    {
      "cell_type": "code",
      "source": [
        "secret_number = 20\n",
        "\n",
        "while True:\n",
        "  number = input('Adivina el número secreto: ')\n",
        "  try:\n",
        "    number = int(number)\n",
        "  except:\n",
        "    print('Lo siento, este no es el número')\n",
        "    continue\n",
        " \n",
        "  if number != secret_number:\n",
        "    if number > secret_number:\n",
        "      print(number, 'Este número es mas grande que el número secreto')\n",
        " \n",
        "    elif number < secret_number:\n",
        "      print(number, 'Este número es mas chico que el número secreto')\n",
        "  else:\n",
        "    print('Adivinaste el número:', secret_number)\n",
        "    break"
      ],
      "metadata": {
        "colab": {
          "base_uri": "https://localhost:8080/"
        },
        "id": "QU1n0ft7PwDF",
        "outputId": "b0c7a6df-0591-4047-ce58-2c8f4aa3fd5c"
      },
      "execution_count": null,
      "outputs": [
        {
          "output_type": "stream",
          "name": "stdout",
          "text": [
            "Adivina el número secreto: 20\n",
            "Adivinaste el número: 20\n"
          ]
        }
      ]
    },
    {
      "cell_type": "markdown",
      "source": [
        "## **<font color=\"DeepPink\">Lenguajes de programación</font>**"
      ],
      "metadata": {
        "id": "e25ZdavDM4Wm"
      }
    },
    {
      "cell_type": "markdown",
      "source": [
        "<p align=\"justify\">\n",
        "Un lenguaje de programación es un lenguaje formal que proporciona una serie de instrucciones, las cuales permiten a un programador escribir secuencias de órdenes para controlar el comportamiento físico y lógico de una computadora, con el objetivo de que produzca diversas acciones deseadas por el programador y por los usuarios.<br><br>Algunos de los lenguajes mas populares en los últimos tiempos son Python, Java, C++, JavaScript, etc.</p>"
      ],
      "metadata": {
        "id": "WfyzIFZrMHxk"
      }
    },
    {
      "cell_type": "markdown",
      "source": [
        "## **<font color=\"DeepPink\">Python: el lenguaje de programación más utilizado en la actualidad</font>**"
      ],
      "metadata": {
        "id": "HE2XKrUSXOwO"
      }
    },
    {
      "cell_type": "markdown",
      "source": [
        "<p align=\"justify\">\n",
        "Python es un lenguaje de programación creado por por el informático holandés Guido van Rossum a principios de los años 90 para administrar sistemas operativos, concretamente el sistema operativo Amoeba. Sus construcciones lingüísticas y su enfoque orientado a objetos tienen como objetivo ayudar a los programadores a escribir código claro y lógico para proyectos pequeños y grandes. Python es un lenguaje similar a Perl, pero con una sintaxis muy limpia.<br><br>Python es un lenguaje de tipado dinámico, es decir, que los tipos de datos se asignan a las variables durante su uso, y no durante la escritura o compilación de los programas y de los scripts.\n",
        "Por eso es muy fácil trabajar con este lenguaje y crear programas flexibles, que se modifiquen sobre la marcha de su ejecución.<br><br> Según el índice TIOBE, el lenguaje más utilziado del mundo en la actualidad es Python. Python ha estado en la cima del índice TIOBE durante los últimos años y ha experimentado un crecimiento significativo en popularidad durante la última década. De hecho, la popularidad de Python se ha triplicado desde 2010, lo que lo convierte en el lenguaje de programación de más rápido crecimiento.\n",
        "</p>\n"
      ],
      "metadata": {
        "id": "yHtGPXrEl3yC"
      }
    },
    {
      "cell_type": "markdown",
      "source": [
        "Python es:\n",
        "- un lenguaje interpretado o de script,\n",
        "- con tipado dinámico,\n",
        "- fuertemente tipado,\n",
        "- multiplataforma y\n",
        "- orientado a objetos.\n"
      ],
      "metadata": {
        "id": "6bH7p0ycUUln"
      }
    },
    {
      "cell_type": "markdown",
      "source": [
        "### **<font color=\"DeepPink\">Lenguaje interpretado o de script</font>**"
      ],
      "metadata": {
        "id": "HDH1B_y1R7RR"
      }
    },
    {
      "cell_type": "markdown",
      "source": [
        "<p align=\"justify\">\n",
        "Un lenguaje interpretado o de script es aquel que se ejecuta utilizando un programa intermedio llamado intérprete, en lugar de compilar el código a lenguaje máquina que pueda comprender y ejecutar directamente una computadora (lenguajes compilados).<br><br>\n",
        "La ventaja de los lenguajes compilados es que su ejecución es más rápida. Sin embargo los lenguajes interpretados son más flexibles y más portables.\n",
        "Python tiene, no obstante, muchas de las características de los lenguajes compilados, por lo que se podría decir que es semi interpretado.</p>"
      ],
      "metadata": {
        "id": "nIVfk-X-R-XH"
      }
    },
    {
      "cell_type": "markdown",
      "source": [
        "### **<font color=\"DeepPink\">Con tipado dinámico</font>**"
      ],
      "metadata": {
        "id": "df_kcVVZU9Zg"
      }
    },
    {
      "cell_type": "markdown",
      "source": [
        "<p align=\"justify\">\n",
        "La característica de tipado dinámico se refiere a que no es necesario declarar el tipo de dato que va a contener una determinada variable, sino que su tipo se determinará en tiempo de ejecución según el tipo del valor al que se asigne, y el tipo de esta variable puede cambiar si se le asigna un valor de otro tipo.</p>"
      ],
      "metadata": {
        "id": "JtH59On_VC7J"
      }
    },
    {
      "cell_type": "markdown",
      "source": [
        "### **<font color=\"DeepPink\">Fuertemente tipado</font>**"
      ],
      "metadata": {
        "id": "MnkR7GhZVa7T"
      }
    },
    {
      "cell_type": "markdown",
      "source": [
        "<p align=\"justify\">\n",
        "No se permite tratar a una variable como si fuera de un tipo distinto al que tiene, es necesario convertir de forma explícita dicha variable al nuevo tipo previamente. <br><br>Por ejemplo, si tenemos una variable que contiene un texto (variable de tipo cadena o string) no podremos tratarla como un número (sumar la cadena “9” y el número 8). <br><br>En otros lenguajes el tipo de la variable cambiaría para adaptarse al comportamiento esperado, aunque esto es más propenso a errores.</p>"
      ],
      "metadata": {
        "id": "4nujYj5GVemJ"
      }
    },
    {
      "cell_type": "markdown",
      "source": [
        "### **<font color=\"DeepPink\">Multiplataforma</font>**"
      ],
      "metadata": {
        "id": "pvz4kg_HV_DV"
      }
    },
    {
      "cell_type": "markdown",
      "source": [
        "<p align=\"justify\">\n",
        "El intérprete de Python está disponible en multitud de plataformas (UNIX, Solaris, Linux, DOS, Windows, OS/2, Mac OS, etc.) por lo que si no utilizamos librerías específicas de cada plataforma, nuestro programa podrá correr en todos estos sistemas operativos sin grandes cambios.</p>"
      ],
      "metadata": {
        "id": "jx6L3mTiWFLs"
      }
    },
    {
      "cell_type": "markdown",
      "source": [
        "### **<font color=\"DeepPink\">Orientado a objetos</font>**"
      ],
      "metadata": {
        "id": "4tMHQiZGWcfy"
      }
    },
    {
      "cell_type": "markdown",
      "source": [
        "<p align=\"justify\">\n",
        "La orientación a objetos es un paradigma de programación en el que los conceptos del mundo real relevantes para nuestro problema se trasladan a clases y objetos en nuestro programa. La ejecución del programa consiste en una serie de interacciones entre los objetos.</p>"
      ],
      "metadata": {
        "id": "8zF1ujPLWixZ"
      }
    },
    {
      "cell_type": "markdown",
      "source": [
        "## **<font color=\"DeepPink\">Programación orientada a objetos (POO)</font>**"
      ],
      "metadata": {
        "id": "6Ju1zeMSNwTT"
      }
    },
    {
      "cell_type": "markdown",
      "source": [
        "<p align=\"justify\">\n",
        "Entonces, la programación orientada a objetos es un paradigma de programación que divide los componentes de un programa en objetos. En Python los objetos suelen tener <b>atributos</b> (datos asociados al objeto) y <b>métodos</b> (funciones asociadas con un objeto que pueden tener acceso a los datos internos del objeto). Es decir, el estado del objeto se define a través de variables llamadas atributos, mientras que la funcionalidad se modela a través de funciones a las que se les conoce con el nombre de métodos del objeto. <br><br>En Python todo es un objeto. <br><br>Una característica importante del lenguaje Python es la consistencia de su modelo de objetos. Cada número, cadena de caracteres, estructura de datos (tuplas, listas, diccionarios, conjuntos, etc.), función, clase, módulo, etc. tiene su propia \"caja\", que se denomina objeto de Python. Por lo general el paradigma orientado a objetos resulta adecuado cuando queremos agrupar estados (datos) y comportamiento (código) juntos en prácticos paquetes de funcionalidad.<br><br> Los marcos de trabajo y bibliotecas de Python utilizan este paradigma para construir su código base. Algunos ejemplos son Django, Pandas, Scikit-learn, NumPy y TensorFlow. <br><br>A continuación, veamos algunos ejemplos de objetos:\n",
        "</p>"
      ],
      "metadata": {
        "id": "UHdyukLnfXC0"
      }
    },
    {
      "cell_type": "code",
      "source": [
        "#número\n",
        "number = 10"
      ],
      "metadata": {
        "id": "R7qYDdcycaa1"
      },
      "execution_count": null,
      "outputs": []
    },
    {
      "cell_type": "code",
      "source": [
        "#cadena de caracteres\n",
        "string = \"Python\""
      ],
      "metadata": {
        "id": "PNbFBCADdA7u"
      },
      "execution_count": null,
      "outputs": []
    },
    {
      "cell_type": "code",
      "source": [
        "#tupla\n",
        "tuple = (1,2,3,4,5)"
      ],
      "metadata": {
        "id": "exlMOaxhdL-Y"
      },
      "execution_count": null,
      "outputs": []
    },
    {
      "cell_type": "code",
      "source": [
        "#lista\n",
        "list1 = [1,2,3,4,5]"
      ],
      "metadata": {
        "id": "3wA874q_dH-N"
      },
      "execution_count": null,
      "outputs": []
    },
    {
      "cell_type": "code",
      "source": [
        "#lista de 7 números generados aleatoriamente a partir de una distribuación normal estándar\n",
        "import numpy as np\n",
        "list2 = [np.random.standard_normal() for i in range(7)]"
      ],
      "metadata": {
        "id": "mrg1vSWYf6TE"
      },
      "execution_count": null,
      "outputs": []
    },
    {
      "cell_type": "code",
      "source": [
        "#vector de 3 elementos\n",
        "array1 = np.array([1,3,5])\n",
        "print(\"Vector\\n\", array1)\n",
        "\n",
        "#matriz de 2 x 3\n",
        "array2 = np.array([[1,5,9],[2,6,8]])\n",
        "print(\"\\nMatriz\\n\", array2)"
      ],
      "metadata": {
        "id": "dWIDGrC8IT0N",
        "colab": {
          "base_uri": "https://localhost:8080/"
        },
        "outputId": "7c01a7ec-6595-4434-c49d-00c67d8c11e8"
      },
      "execution_count": null,
      "outputs": [
        {
          "output_type": "stream",
          "name": "stdout",
          "text": [
            "Vector\n",
            " [1 3 5]\n",
            "\n",
            "Matriz\n",
            " [[1 5 9]\n",
            " [2 6 8]]\n"
          ]
        }
      ]
    },
    {
      "cell_type": "code",
      "source": [
        "import pandas as pd\n",
        "\n",
        "#Dataframe\n",
        "df1 = pd.DataFrame({\"Edad\":[30, 40, 50],\n",
        "                   \"Salario\": [40000, 38000, 50000]\n",
        "                   })\n",
        "df1"
      ],
      "metadata": {
        "colab": {
          "base_uri": "https://localhost:8080/",
          "height": 142
        },
        "id": "CbqWgK0MeH7t",
        "outputId": "fd01f3d7-18db-4290-9e12-bb12666a9fe2"
      },
      "execution_count": null,
      "outputs": [
        {
          "output_type": "execute_result",
          "data": {
            "text/plain": [
              "   Edad  Salario\n",
              "0    30    40000\n",
              "1    40    38000\n",
              "2    50    50000"
            ],
            "text/html": [
              "\n",
              "  <div id=\"df-4689911b-8d67-4c93-9bb6-02a833baf6fc\">\n",
              "    <div class=\"colab-df-container\">\n",
              "      <div>\n",
              "<style scoped>\n",
              "    .dataframe tbody tr th:only-of-type {\n",
              "        vertical-align: middle;\n",
              "    }\n",
              "\n",
              "    .dataframe tbody tr th {\n",
              "        vertical-align: top;\n",
              "    }\n",
              "\n",
              "    .dataframe thead th {\n",
              "        text-align: right;\n",
              "    }\n",
              "</style>\n",
              "<table border=\"1\" class=\"dataframe\">\n",
              "  <thead>\n",
              "    <tr style=\"text-align: right;\">\n",
              "      <th></th>\n",
              "      <th>Edad</th>\n",
              "      <th>Salario</th>\n",
              "    </tr>\n",
              "  </thead>\n",
              "  <tbody>\n",
              "    <tr>\n",
              "      <th>0</th>\n",
              "      <td>30</td>\n",
              "      <td>40000</td>\n",
              "    </tr>\n",
              "    <tr>\n",
              "      <th>1</th>\n",
              "      <td>40</td>\n",
              "      <td>38000</td>\n",
              "    </tr>\n",
              "    <tr>\n",
              "      <th>2</th>\n",
              "      <td>50</td>\n",
              "      <td>50000</td>\n",
              "    </tr>\n",
              "  </tbody>\n",
              "</table>\n",
              "</div>\n",
              "      <button class=\"colab-df-convert\" onclick=\"convertToInteractive('df-4689911b-8d67-4c93-9bb6-02a833baf6fc')\"\n",
              "              title=\"Convert this dataframe to an interactive table.\"\n",
              "              style=\"display:none;\">\n",
              "        \n",
              "  <svg xmlns=\"http://www.w3.org/2000/svg\" height=\"24px\"viewBox=\"0 0 24 24\"\n",
              "       width=\"24px\">\n",
              "    <path d=\"M0 0h24v24H0V0z\" fill=\"none\"/>\n",
              "    <path d=\"M18.56 5.44l.94 2.06.94-2.06 2.06-.94-2.06-.94-.94-2.06-.94 2.06-2.06.94zm-11 1L8.5 8.5l.94-2.06 2.06-.94-2.06-.94L8.5 2.5l-.94 2.06-2.06.94zm10 10l.94 2.06.94-2.06 2.06-.94-2.06-.94-.94-2.06-.94 2.06-2.06.94z\"/><path d=\"M17.41 7.96l-1.37-1.37c-.4-.4-.92-.59-1.43-.59-.52 0-1.04.2-1.43.59L10.3 9.45l-7.72 7.72c-.78.78-.78 2.05 0 2.83L4 21.41c.39.39.9.59 1.41.59.51 0 1.02-.2 1.41-.59l7.78-7.78 2.81-2.81c.8-.78.8-2.07 0-2.86zM5.41 20L4 18.59l7.72-7.72 1.47 1.35L5.41 20z\"/>\n",
              "  </svg>\n",
              "      </button>\n",
              "      \n",
              "  <style>\n",
              "    .colab-df-container {\n",
              "      display:flex;\n",
              "      flex-wrap:wrap;\n",
              "      gap: 12px;\n",
              "    }\n",
              "\n",
              "    .colab-df-convert {\n",
              "      background-color: #E8F0FE;\n",
              "      border: none;\n",
              "      border-radius: 50%;\n",
              "      cursor: pointer;\n",
              "      display: none;\n",
              "      fill: #1967D2;\n",
              "      height: 32px;\n",
              "      padding: 0 0 0 0;\n",
              "      width: 32px;\n",
              "    }\n",
              "\n",
              "    .colab-df-convert:hover {\n",
              "      background-color: #E2EBFA;\n",
              "      box-shadow: 0px 1px 2px rgba(60, 64, 67, 0.3), 0px 1px 3px 1px rgba(60, 64, 67, 0.15);\n",
              "      fill: #174EA6;\n",
              "    }\n",
              "\n",
              "    [theme=dark] .colab-df-convert {\n",
              "      background-color: #3B4455;\n",
              "      fill: #D2E3FC;\n",
              "    }\n",
              "\n",
              "    [theme=dark] .colab-df-convert:hover {\n",
              "      background-color: #434B5C;\n",
              "      box-shadow: 0px 1px 3px 1px rgba(0, 0, 0, 0.15);\n",
              "      filter: drop-shadow(0px 1px 2px rgba(0, 0, 0, 0.3));\n",
              "      fill: #FFFFFF;\n",
              "    }\n",
              "  </style>\n",
              "\n",
              "      <script>\n",
              "        const buttonEl =\n",
              "          document.querySelector('#df-4689911b-8d67-4c93-9bb6-02a833baf6fc button.colab-df-convert');\n",
              "        buttonEl.style.display =\n",
              "          google.colab.kernel.accessAllowed ? 'block' : 'none';\n",
              "\n",
              "        async function convertToInteractive(key) {\n",
              "          const element = document.querySelector('#df-4689911b-8d67-4c93-9bb6-02a833baf6fc');\n",
              "          const dataTable =\n",
              "            await google.colab.kernel.invokeFunction('convertToInteractive',\n",
              "                                                     [key], {});\n",
              "          if (!dataTable) return;\n",
              "\n",
              "          const docLinkHtml = 'Like what you see? Visit the ' +\n",
              "            '<a target=\"_blank\" href=https://colab.research.google.com/notebooks/data_table.ipynb>data table notebook</a>'\n",
              "            + ' to learn more about interactive tables.';\n",
              "          element.innerHTML = '';\n",
              "          dataTable['output_type'] = 'display_data';\n",
              "          await google.colab.output.renderOutput(dataTable, element);\n",
              "          const docLink = document.createElement('div');\n",
              "          docLink.innerHTML = docLinkHtml;\n",
              "          element.appendChild(docLink);\n",
              "        }\n",
              "      </script>\n",
              "    </div>\n",
              "  </div>\n",
              "  "
            ]
          },
          "metadata": {},
          "execution_count": 9
        }
      ]
    },
    {
      "cell_type": "code",
      "source": [
        "df2 = pd.DataFrame(array2, columns=['col_1', 'col_2', 'col_3'])\n",
        "df2"
      ],
      "metadata": {
        "colab": {
          "base_uri": "https://localhost:8080/",
          "height": 111
        },
        "id": "XIRtfr1OoR7v",
        "outputId": "d2431d8d-c773-44ce-9535-68d72cd54527"
      },
      "execution_count": null,
      "outputs": [
        {
          "output_type": "execute_result",
          "data": {
            "text/plain": [
              "   col_1  col_2  col_3\n",
              "0      1      5      9\n",
              "1      2      6      8"
            ],
            "text/html": [
              "\n",
              "  <div id=\"df-05e418df-5a7f-4e4f-8815-49c19796702d\">\n",
              "    <div class=\"colab-df-container\">\n",
              "      <div>\n",
              "<style scoped>\n",
              "    .dataframe tbody tr th:only-of-type {\n",
              "        vertical-align: middle;\n",
              "    }\n",
              "\n",
              "    .dataframe tbody tr th {\n",
              "        vertical-align: top;\n",
              "    }\n",
              "\n",
              "    .dataframe thead th {\n",
              "        text-align: right;\n",
              "    }\n",
              "</style>\n",
              "<table border=\"1\" class=\"dataframe\">\n",
              "  <thead>\n",
              "    <tr style=\"text-align: right;\">\n",
              "      <th></th>\n",
              "      <th>col_1</th>\n",
              "      <th>col_2</th>\n",
              "      <th>col_3</th>\n",
              "    </tr>\n",
              "  </thead>\n",
              "  <tbody>\n",
              "    <tr>\n",
              "      <th>0</th>\n",
              "      <td>1</td>\n",
              "      <td>5</td>\n",
              "      <td>9</td>\n",
              "    </tr>\n",
              "    <tr>\n",
              "      <th>1</th>\n",
              "      <td>2</td>\n",
              "      <td>6</td>\n",
              "      <td>8</td>\n",
              "    </tr>\n",
              "  </tbody>\n",
              "</table>\n",
              "</div>\n",
              "      <button class=\"colab-df-convert\" onclick=\"convertToInteractive('df-05e418df-5a7f-4e4f-8815-49c19796702d')\"\n",
              "              title=\"Convert this dataframe to an interactive table.\"\n",
              "              style=\"display:none;\">\n",
              "        \n",
              "  <svg xmlns=\"http://www.w3.org/2000/svg\" height=\"24px\"viewBox=\"0 0 24 24\"\n",
              "       width=\"24px\">\n",
              "    <path d=\"M0 0h24v24H0V0z\" fill=\"none\"/>\n",
              "    <path d=\"M18.56 5.44l.94 2.06.94-2.06 2.06-.94-2.06-.94-.94-2.06-.94 2.06-2.06.94zm-11 1L8.5 8.5l.94-2.06 2.06-.94-2.06-.94L8.5 2.5l-.94 2.06-2.06.94zm10 10l.94 2.06.94-2.06 2.06-.94-2.06-.94-.94-2.06-.94 2.06-2.06.94z\"/><path d=\"M17.41 7.96l-1.37-1.37c-.4-.4-.92-.59-1.43-.59-.52 0-1.04.2-1.43.59L10.3 9.45l-7.72 7.72c-.78.78-.78 2.05 0 2.83L4 21.41c.39.39.9.59 1.41.59.51 0 1.02-.2 1.41-.59l7.78-7.78 2.81-2.81c.8-.78.8-2.07 0-2.86zM5.41 20L4 18.59l7.72-7.72 1.47 1.35L5.41 20z\"/>\n",
              "  </svg>\n",
              "      </button>\n",
              "      \n",
              "  <style>\n",
              "    .colab-df-container {\n",
              "      display:flex;\n",
              "      flex-wrap:wrap;\n",
              "      gap: 12px;\n",
              "    }\n",
              "\n",
              "    .colab-df-convert {\n",
              "      background-color: #E8F0FE;\n",
              "      border: none;\n",
              "      border-radius: 50%;\n",
              "      cursor: pointer;\n",
              "      display: none;\n",
              "      fill: #1967D2;\n",
              "      height: 32px;\n",
              "      padding: 0 0 0 0;\n",
              "      width: 32px;\n",
              "    }\n",
              "\n",
              "    .colab-df-convert:hover {\n",
              "      background-color: #E2EBFA;\n",
              "      box-shadow: 0px 1px 2px rgba(60, 64, 67, 0.3), 0px 1px 3px 1px rgba(60, 64, 67, 0.15);\n",
              "      fill: #174EA6;\n",
              "    }\n",
              "\n",
              "    [theme=dark] .colab-df-convert {\n",
              "      background-color: #3B4455;\n",
              "      fill: #D2E3FC;\n",
              "    }\n",
              "\n",
              "    [theme=dark] .colab-df-convert:hover {\n",
              "      background-color: #434B5C;\n",
              "      box-shadow: 0px 1px 3px 1px rgba(0, 0, 0, 0.15);\n",
              "      filter: drop-shadow(0px 1px 2px rgba(0, 0, 0, 0.3));\n",
              "      fill: #FFFFFF;\n",
              "    }\n",
              "  </style>\n",
              "\n",
              "      <script>\n",
              "        const buttonEl =\n",
              "          document.querySelector('#df-05e418df-5a7f-4e4f-8815-49c19796702d button.colab-df-convert');\n",
              "        buttonEl.style.display =\n",
              "          google.colab.kernel.accessAllowed ? 'block' : 'none';\n",
              "\n",
              "        async function convertToInteractive(key) {\n",
              "          const element = document.querySelector('#df-05e418df-5a7f-4e4f-8815-49c19796702d');\n",
              "          const dataTable =\n",
              "            await google.colab.kernel.invokeFunction('convertToInteractive',\n",
              "                                                     [key], {});\n",
              "          if (!dataTable) return;\n",
              "\n",
              "          const docLinkHtml = 'Like what you see? Visit the ' +\n",
              "            '<a target=\"_blank\" href=https://colab.research.google.com/notebooks/data_table.ipynb>data table notebook</a>'\n",
              "            + ' to learn more about interactive tables.';\n",
              "          element.innerHTML = '';\n",
              "          dataTable['output_type'] = 'display_data';\n",
              "          await google.colab.output.renderOutput(dataTable, element);\n",
              "          const docLink = document.createElement('div');\n",
              "          docLink.innerHTML = docLinkHtml;\n",
              "          element.appendChild(docLink);\n",
              "        }\n",
              "      </script>\n",
              "    </div>\n",
              "  </div>\n",
              "  "
            ]
          },
          "metadata": {},
          "execution_count": 10
        }
      ]
    },
    {
      "cell_type": "markdown",
      "source": [
        "<p align=\"justify\">\n",
        "<b>Nota</b>: algunos tipos de objetos de Python son más legibles cuando son impresos usando la función integrada de Python <code>print</code>, otros no. <br><br>Veamos algunos ejemplos: </font>\n",
        "\n",
        "\n"
      ],
      "metadata": {
        "id": "Tt4lghsxiju6"
      }
    },
    {
      "cell_type": "code",
      "source": [
        "list2"
      ],
      "metadata": {
        "colab": {
          "base_uri": "https://localhost:8080/"
        },
        "id": "xg0-v2NCjayR",
        "outputId": "c7972132-ffb1-4383-c396-ce128b3f228b"
      },
      "execution_count": null,
      "outputs": [
        {
          "output_type": "execute_result",
          "data": {
            "text/plain": [
              "[0.20471840330147706,\n",
              " -1.1346954956025752,\n",
              " -1.6564546822812831,\n",
              " 1.587310754830892,\n",
              " -1.8029717369020897,\n",
              " 0.5080004354031251,\n",
              " 0.8760076781630567]"
            ]
          },
          "metadata": {},
          "execution_count": 11
        }
      ]
    },
    {
      "cell_type": "code",
      "source": [
        "print(list2)"
      ],
      "metadata": {
        "colab": {
          "base_uri": "https://localhost:8080/"
        },
        "id": "-K5FY1hjjjID",
        "outputId": "b7b9b8a1-fdcf-46c2-d95e-8352b38bd4cb"
      },
      "execution_count": null,
      "outputs": [
        {
          "output_type": "stream",
          "name": "stdout",
          "text": [
            "[0.20471840330147706, -1.1346954956025752, -1.6564546822812831, 1.587310754830892, -1.8029717369020897, 0.5080004354031251, 0.8760076781630567]\n"
          ]
        }
      ]
    },
    {
      "cell_type": "code",
      "source": [
        "array2"
      ],
      "metadata": {
        "colab": {
          "base_uri": "https://localhost:8080/"
        },
        "id": "g-ygSnB1jmy4",
        "outputId": "8d568748-3204-456f-bb4b-aa2d1b78bd2c"
      },
      "execution_count": null,
      "outputs": [
        {
          "output_type": "execute_result",
          "data": {
            "text/plain": [
              "array([[1, 5, 9],\n",
              "       [2, 6, 8]])"
            ]
          },
          "metadata": {},
          "execution_count": 13
        }
      ]
    },
    {
      "cell_type": "code",
      "source": [
        "print(array2)"
      ],
      "metadata": {
        "colab": {
          "base_uri": "https://localhost:8080/"
        },
        "id": "DLvF9QO6jo7I",
        "outputId": "ead0987b-7cb1-4de2-8e88-2c9d92347d2a"
      },
      "execution_count": null,
      "outputs": [
        {
          "output_type": "stream",
          "name": "stdout",
          "text": [
            "[[1 5 9]\n",
            " [2 6 8]]\n"
          ]
        }
      ]
    },
    {
      "cell_type": "code",
      "source": [
        "df1"
      ],
      "metadata": {
        "colab": {
          "base_uri": "https://localhost:8080/",
          "height": 142
        },
        "id": "OI5szFUsjr5I",
        "outputId": "4ff75dd7-3f6a-4f21-a103-ee57c54cf33b"
      },
      "execution_count": null,
      "outputs": [
        {
          "output_type": "execute_result",
          "data": {
            "text/plain": [
              "   Edad  Salario\n",
              "0    30    40000\n",
              "1    40    38000\n",
              "2    50    50000"
            ],
            "text/html": [
              "\n",
              "  <div id=\"df-b6d31e7d-571e-43bd-9d79-63885f567dd2\">\n",
              "    <div class=\"colab-df-container\">\n",
              "      <div>\n",
              "<style scoped>\n",
              "    .dataframe tbody tr th:only-of-type {\n",
              "        vertical-align: middle;\n",
              "    }\n",
              "\n",
              "    .dataframe tbody tr th {\n",
              "        vertical-align: top;\n",
              "    }\n",
              "\n",
              "    .dataframe thead th {\n",
              "        text-align: right;\n",
              "    }\n",
              "</style>\n",
              "<table border=\"1\" class=\"dataframe\">\n",
              "  <thead>\n",
              "    <tr style=\"text-align: right;\">\n",
              "      <th></th>\n",
              "      <th>Edad</th>\n",
              "      <th>Salario</th>\n",
              "    </tr>\n",
              "  </thead>\n",
              "  <tbody>\n",
              "    <tr>\n",
              "      <th>0</th>\n",
              "      <td>30</td>\n",
              "      <td>40000</td>\n",
              "    </tr>\n",
              "    <tr>\n",
              "      <th>1</th>\n",
              "      <td>40</td>\n",
              "      <td>38000</td>\n",
              "    </tr>\n",
              "    <tr>\n",
              "      <th>2</th>\n",
              "      <td>50</td>\n",
              "      <td>50000</td>\n",
              "    </tr>\n",
              "  </tbody>\n",
              "</table>\n",
              "</div>\n",
              "      <button class=\"colab-df-convert\" onclick=\"convertToInteractive('df-b6d31e7d-571e-43bd-9d79-63885f567dd2')\"\n",
              "              title=\"Convert this dataframe to an interactive table.\"\n",
              "              style=\"display:none;\">\n",
              "        \n",
              "  <svg xmlns=\"http://www.w3.org/2000/svg\" height=\"24px\"viewBox=\"0 0 24 24\"\n",
              "       width=\"24px\">\n",
              "    <path d=\"M0 0h24v24H0V0z\" fill=\"none\"/>\n",
              "    <path d=\"M18.56 5.44l.94 2.06.94-2.06 2.06-.94-2.06-.94-.94-2.06-.94 2.06-2.06.94zm-11 1L8.5 8.5l.94-2.06 2.06-.94-2.06-.94L8.5 2.5l-.94 2.06-2.06.94zm10 10l.94 2.06.94-2.06 2.06-.94-2.06-.94-.94-2.06-.94 2.06-2.06.94z\"/><path d=\"M17.41 7.96l-1.37-1.37c-.4-.4-.92-.59-1.43-.59-.52 0-1.04.2-1.43.59L10.3 9.45l-7.72 7.72c-.78.78-.78 2.05 0 2.83L4 21.41c.39.39.9.59 1.41.59.51 0 1.02-.2 1.41-.59l7.78-7.78 2.81-2.81c.8-.78.8-2.07 0-2.86zM5.41 20L4 18.59l7.72-7.72 1.47 1.35L5.41 20z\"/>\n",
              "  </svg>\n",
              "      </button>\n",
              "      \n",
              "  <style>\n",
              "    .colab-df-container {\n",
              "      display:flex;\n",
              "      flex-wrap:wrap;\n",
              "      gap: 12px;\n",
              "    }\n",
              "\n",
              "    .colab-df-convert {\n",
              "      background-color: #E8F0FE;\n",
              "      border: none;\n",
              "      border-radius: 50%;\n",
              "      cursor: pointer;\n",
              "      display: none;\n",
              "      fill: #1967D2;\n",
              "      height: 32px;\n",
              "      padding: 0 0 0 0;\n",
              "      width: 32px;\n",
              "    }\n",
              "\n",
              "    .colab-df-convert:hover {\n",
              "      background-color: #E2EBFA;\n",
              "      box-shadow: 0px 1px 2px rgba(60, 64, 67, 0.3), 0px 1px 3px 1px rgba(60, 64, 67, 0.15);\n",
              "      fill: #174EA6;\n",
              "    }\n",
              "\n",
              "    [theme=dark] .colab-df-convert {\n",
              "      background-color: #3B4455;\n",
              "      fill: #D2E3FC;\n",
              "    }\n",
              "\n",
              "    [theme=dark] .colab-df-convert:hover {\n",
              "      background-color: #434B5C;\n",
              "      box-shadow: 0px 1px 3px 1px rgba(0, 0, 0, 0.15);\n",
              "      filter: drop-shadow(0px 1px 2px rgba(0, 0, 0, 0.3));\n",
              "      fill: #FFFFFF;\n",
              "    }\n",
              "  </style>\n",
              "\n",
              "      <script>\n",
              "        const buttonEl =\n",
              "          document.querySelector('#df-b6d31e7d-571e-43bd-9d79-63885f567dd2 button.colab-df-convert');\n",
              "        buttonEl.style.display =\n",
              "          google.colab.kernel.accessAllowed ? 'block' : 'none';\n",
              "\n",
              "        async function convertToInteractive(key) {\n",
              "          const element = document.querySelector('#df-b6d31e7d-571e-43bd-9d79-63885f567dd2');\n",
              "          const dataTable =\n",
              "            await google.colab.kernel.invokeFunction('convertToInteractive',\n",
              "                                                     [key], {});\n",
              "          if (!dataTable) return;\n",
              "\n",
              "          const docLinkHtml = 'Like what you see? Visit the ' +\n",
              "            '<a target=\"_blank\" href=https://colab.research.google.com/notebooks/data_table.ipynb>data table notebook</a>'\n",
              "            + ' to learn more about interactive tables.';\n",
              "          element.innerHTML = '';\n",
              "          dataTable['output_type'] = 'display_data';\n",
              "          await google.colab.output.renderOutput(dataTable, element);\n",
              "          const docLink = document.createElement('div');\n",
              "          docLink.innerHTML = docLinkHtml;\n",
              "          element.appendChild(docLink);\n",
              "        }\n",
              "      </script>\n",
              "    </div>\n",
              "  </div>\n",
              "  "
            ]
          },
          "metadata": {},
          "execution_count": 15
        }
      ]
    },
    {
      "cell_type": "code",
      "source": [
        "print(df1)"
      ],
      "metadata": {
        "colab": {
          "base_uri": "https://localhost:8080/"
        },
        "id": "DqnaOhLcjupj",
        "outputId": "11dccba2-7d8b-4fd7-b72d-831d74dbee3d"
      },
      "execution_count": null,
      "outputs": [
        {
          "output_type": "stream",
          "name": "stdout",
          "text": [
            "   Edad  Salario\n",
            "0    30    40000\n",
            "1    40    38000\n",
            "2    50    50000\n"
          ]
        }
      ]
    },
    {
      "cell_type": "markdown",
      "source": [
        "## **<font color=\"DeepPink\">Métodos y atributos</font>**"
      ],
      "metadata": {
        "id": "PO99UQh5hxQ2"
      }
    },
    {
      "cell_type": "markdown",
      "source": [
        "### **<font color=\"DeepPink\">Método</font>**"
      ],
      "metadata": {
        "id": "4i28x5OL9OmT"
      }
    },
    {
      "cell_type": "markdown",
      "source": [
        "Son las funciones asociadas al objeto. Se accede a los métodos a través de la sintaxis `obj.method_name`."
      ],
      "metadata": {
        "id": "x1vGvGCnHI40"
      }
    },
    {
      "cell_type": "code",
      "source": [
        "string.upper()"
      ],
      "metadata": {
        "colab": {
          "base_uri": "https://localhost:8080/",
          "height": 37
        },
        "id": "_C7PvICOS9Pm",
        "outputId": "45dd4440-2cd9-4fff-c1bf-0ba2226b3fd0"
      },
      "execution_count": null,
      "outputs": [
        {
          "output_type": "execute_result",
          "data": {
            "text/plain": [
              "'PYTHON'"
            ],
            "application/vnd.google.colaboratory.intrinsic+json": {
              "type": "string"
            }
          },
          "metadata": {},
          "execution_count": 17
        }
      ]
    },
    {
      "cell_type": "code",
      "source": [
        "array1.max()"
      ],
      "metadata": {
        "colab": {
          "base_uri": "https://localhost:8080/"
        },
        "id": "H7AF5AknJ9nA",
        "outputId": "dddc8711-d6df-4d27-90ed-6049a77ec5f3"
      },
      "execution_count": null,
      "outputs": [
        {
          "output_type": "execute_result",
          "data": {
            "text/plain": [
              "5"
            ]
          },
          "metadata": {},
          "execution_count": 18
        }
      ]
    },
    {
      "cell_type": "code",
      "source": [
        "list1.append(6)\n",
        "list1"
      ],
      "metadata": {
        "colab": {
          "base_uri": "https://localhost:8080/"
        },
        "id": "0dA82IvvnUU4",
        "outputId": "5014660e-fe8c-4c12-8e7b-6e48bff64b4a"
      },
      "execution_count": null,
      "outputs": [
        {
          "output_type": "execute_result",
          "data": {
            "text/plain": [
              "[1, 2, 3, 4, 5, 6]"
            ]
          },
          "metadata": {},
          "execution_count": 19
        }
      ]
    },
    {
      "cell_type": "code",
      "source": [
        "df2.rename(columns={\"col_1\":\"Columna_1\",\n",
        "                    \"col_2\":\"Columns_2\",\n",
        "                    \"col_3\":\"Columna_3\"}, \n",
        "           inplace=True)\n",
        "df2"
      ],
      "metadata": {
        "colab": {
          "base_uri": "https://localhost:8080/",
          "height": 111
        },
        "id": "TkaZn1B8nqh9",
        "outputId": "a35745c3-9c0b-4e0f-f7b9-76f0119aa552"
      },
      "execution_count": null,
      "outputs": [
        {
          "output_type": "execute_result",
          "data": {
            "text/plain": [
              "   Columna_1  Columns_2  Columna_3\n",
              "0          1          5          9\n",
              "1          2          6          8"
            ],
            "text/html": [
              "\n",
              "  <div id=\"df-4cc18930-ffec-4586-ac3b-2a9a86cd1f38\">\n",
              "    <div class=\"colab-df-container\">\n",
              "      <div>\n",
              "<style scoped>\n",
              "    .dataframe tbody tr th:only-of-type {\n",
              "        vertical-align: middle;\n",
              "    }\n",
              "\n",
              "    .dataframe tbody tr th {\n",
              "        vertical-align: top;\n",
              "    }\n",
              "\n",
              "    .dataframe thead th {\n",
              "        text-align: right;\n",
              "    }\n",
              "</style>\n",
              "<table border=\"1\" class=\"dataframe\">\n",
              "  <thead>\n",
              "    <tr style=\"text-align: right;\">\n",
              "      <th></th>\n",
              "      <th>Columna_1</th>\n",
              "      <th>Columns_2</th>\n",
              "      <th>Columna_3</th>\n",
              "    </tr>\n",
              "  </thead>\n",
              "  <tbody>\n",
              "    <tr>\n",
              "      <th>0</th>\n",
              "      <td>1</td>\n",
              "      <td>5</td>\n",
              "      <td>9</td>\n",
              "    </tr>\n",
              "    <tr>\n",
              "      <th>1</th>\n",
              "      <td>2</td>\n",
              "      <td>6</td>\n",
              "      <td>8</td>\n",
              "    </tr>\n",
              "  </tbody>\n",
              "</table>\n",
              "</div>\n",
              "      <button class=\"colab-df-convert\" onclick=\"convertToInteractive('df-4cc18930-ffec-4586-ac3b-2a9a86cd1f38')\"\n",
              "              title=\"Convert this dataframe to an interactive table.\"\n",
              "              style=\"display:none;\">\n",
              "        \n",
              "  <svg xmlns=\"http://www.w3.org/2000/svg\" height=\"24px\"viewBox=\"0 0 24 24\"\n",
              "       width=\"24px\">\n",
              "    <path d=\"M0 0h24v24H0V0z\" fill=\"none\"/>\n",
              "    <path d=\"M18.56 5.44l.94 2.06.94-2.06 2.06-.94-2.06-.94-.94-2.06-.94 2.06-2.06.94zm-11 1L8.5 8.5l.94-2.06 2.06-.94-2.06-.94L8.5 2.5l-.94 2.06-2.06.94zm10 10l.94 2.06.94-2.06 2.06-.94-2.06-.94-.94-2.06-.94 2.06-2.06.94z\"/><path d=\"M17.41 7.96l-1.37-1.37c-.4-.4-.92-.59-1.43-.59-.52 0-1.04.2-1.43.59L10.3 9.45l-7.72 7.72c-.78.78-.78 2.05 0 2.83L4 21.41c.39.39.9.59 1.41.59.51 0 1.02-.2 1.41-.59l7.78-7.78 2.81-2.81c.8-.78.8-2.07 0-2.86zM5.41 20L4 18.59l7.72-7.72 1.47 1.35L5.41 20z\"/>\n",
              "  </svg>\n",
              "      </button>\n",
              "      \n",
              "  <style>\n",
              "    .colab-df-container {\n",
              "      display:flex;\n",
              "      flex-wrap:wrap;\n",
              "      gap: 12px;\n",
              "    }\n",
              "\n",
              "    .colab-df-convert {\n",
              "      background-color: #E8F0FE;\n",
              "      border: none;\n",
              "      border-radius: 50%;\n",
              "      cursor: pointer;\n",
              "      display: none;\n",
              "      fill: #1967D2;\n",
              "      height: 32px;\n",
              "      padding: 0 0 0 0;\n",
              "      width: 32px;\n",
              "    }\n",
              "\n",
              "    .colab-df-convert:hover {\n",
              "      background-color: #E2EBFA;\n",
              "      box-shadow: 0px 1px 2px rgba(60, 64, 67, 0.3), 0px 1px 3px 1px rgba(60, 64, 67, 0.15);\n",
              "      fill: #174EA6;\n",
              "    }\n",
              "\n",
              "    [theme=dark] .colab-df-convert {\n",
              "      background-color: #3B4455;\n",
              "      fill: #D2E3FC;\n",
              "    }\n",
              "\n",
              "    [theme=dark] .colab-df-convert:hover {\n",
              "      background-color: #434B5C;\n",
              "      box-shadow: 0px 1px 3px 1px rgba(0, 0, 0, 0.15);\n",
              "      filter: drop-shadow(0px 1px 2px rgba(0, 0, 0, 0.3));\n",
              "      fill: #FFFFFF;\n",
              "    }\n",
              "  </style>\n",
              "\n",
              "      <script>\n",
              "        const buttonEl =\n",
              "          document.querySelector('#df-4cc18930-ffec-4586-ac3b-2a9a86cd1f38 button.colab-df-convert');\n",
              "        buttonEl.style.display =\n",
              "          google.colab.kernel.accessAllowed ? 'block' : 'none';\n",
              "\n",
              "        async function convertToInteractive(key) {\n",
              "          const element = document.querySelector('#df-4cc18930-ffec-4586-ac3b-2a9a86cd1f38');\n",
              "          const dataTable =\n",
              "            await google.colab.kernel.invokeFunction('convertToInteractive',\n",
              "                                                     [key], {});\n",
              "          if (!dataTable) return;\n",
              "\n",
              "          const docLinkHtml = 'Like what you see? Visit the ' +\n",
              "            '<a target=\"_blank\" href=https://colab.research.google.com/notebooks/data_table.ipynb>data table notebook</a>'\n",
              "            + ' to learn more about interactive tables.';\n",
              "          element.innerHTML = '';\n",
              "          dataTable['output_type'] = 'display_data';\n",
              "          await google.colab.output.renderOutput(dataTable, element);\n",
              "          const docLink = document.createElement('div');\n",
              "          docLink.innerHTML = docLinkHtml;\n",
              "          element.appendChild(docLink);\n",
              "        }\n",
              "      </script>\n",
              "    </div>\n",
              "  </div>\n",
              "  "
            ]
          },
          "metadata": {},
          "execution_count": 20
        }
      ]
    },
    {
      "cell_type": "markdown",
      "source": [
        "### **<font color=\"DeepPink\">Atributo</font>**"
      ],
      "metadata": {
        "id": "SpKN300D-V7I"
      }
    },
    {
      "cell_type": "markdown",
      "source": [
        "<p align=\"justify\">\n",
        "Los atributos de datos definen el estado del objeto. En otros lenguajes son conocidos simplemente como atributos. \n",
        "Son datos asociados al objeto. Se accede a los atributos a través de la sintaxis <code>obj.attribute_name</code>.</p>"
      ],
      "metadata": {
        "id": "6Rbd0BFsHZZR"
      }
    },
    {
      "cell_type": "code",
      "source": [
        "array2.shape"
      ],
      "metadata": {
        "colab": {
          "base_uri": "https://localhost:8080/"
        },
        "id": "ZSOfSkAXJlXC",
        "outputId": "b1f24479-eab4-49a2-b40f-d9db78201add"
      },
      "execution_count": null,
      "outputs": [
        {
          "output_type": "execute_result",
          "data": {
            "text/plain": [
              "(2, 3)"
            ]
          },
          "metadata": {},
          "execution_count": 21
        }
      ]
    },
    {
      "cell_type": "code",
      "source": [
        "print(\"La matriz es de \", array2.shape[0], \"x\", array2.shape[1])"
      ],
      "metadata": {
        "colab": {
          "base_uri": "https://localhost:8080/"
        },
        "id": "xpmgNPGXJnE_",
        "outputId": "b6b73fe7-301d-4d2e-ed2b-2d3f2e2336a3"
      },
      "execution_count": null,
      "outputs": [
        {
          "output_type": "stream",
          "name": "stdout",
          "text": [
            "La matriz es de  2 x 3\n"
          ]
        }
      ]
    },
    {
      "cell_type": "markdown",
      "source": [
        "## **<font color=\"DeepPink\">Introspección</font>**"
      ],
      "metadata": {
        "id": "DWyaTFALWWik"
      }
    },
    {
      "cell_type": "markdown",
      "source": [
        "Usando el signo de interrogación (`?`) antes o después de un objeto mostrará su información general."
      ],
      "metadata": {
        "id": "5ExjOPmNXE7C"
      }
    },
    {
      "cell_type": "code",
      "source": [
        "?array1"
      ],
      "metadata": {
        "id": "uiM6tioZWLTs"
      },
      "execution_count": null,
      "outputs": []
    },
    {
      "cell_type": "code",
      "source": [
        "df1?"
      ],
      "metadata": {
        "id": "HE6n3dxCXoX5"
      },
      "execution_count": null,
      "outputs": []
    },
    {
      "cell_type": "markdown",
      "source": [
        "Si el objeto es una función, usando `?` también se mostrará la documentación si está definida. "
      ],
      "metadata": {
        "id": "pFWpvQFIYG8v"
      }
    },
    {
      "cell_type": "code",
      "source": [
        "#función\n",
        "print?"
      ],
      "metadata": {
        "id": "QeGOfwKsYwwl"
      },
      "execution_count": null,
      "outputs": []
    },
    {
      "cell_type": "markdown",
      "source": [
        "<p align=\"justify\">\n",
        "Si creamos una función cualquiera, para agregar esta documentación es necesario abrir y cerrar con tres comillas (simples o dobles). La creación de funciones y clases serán desarrolladas más adelante en este módulo.</p>"
      ],
      "metadata": {
        "id": "_7UgljZRYSe1"
      }
    },
    {
      "cell_type": "code",
      "source": [
        "def add_numbers(a, b):\n",
        "    '''\n",
        "    Add two numbers together\n",
        "\n",
        "    Returns\n",
        "    -------\n",
        "    the_sum : type of arguments\n",
        "    '''\n",
        "    return a + b"
      ],
      "metadata": {
        "id": "_GRbW31lYQSI"
      },
      "execution_count": null,
      "outputs": []
    },
    {
      "cell_type": "markdown",
      "source": [
        "## **<font color=\"DeepPink\">Referencias dinámicas y tipado</font>**"
      ],
      "metadata": {
        "id": "vOIlpNwjswT8"
      }
    },
    {
      "cell_type": "markdown",
      "source": [
        "<p align=\"justify\">\n",
        "Las variables en Python no tienen un tipo inherente asociado con ellas; una variable puede hacer referencia a un tipo diferente de objeto simplemente haciendo una asignación.</p>"
      ],
      "metadata": {
        "id": "CVWp0LH_tiC7"
      }
    },
    {
      "cell_type": "code",
      "source": [
        "a = 5\n",
        "type(a)"
      ],
      "metadata": {
        "colab": {
          "base_uri": "https://localhost:8080/"
        },
        "id": "CeJURmtBtO-j",
        "outputId": "e0d468dc-8c76-43a3-afc9-7308d24c50f8"
      },
      "execution_count": null,
      "outputs": [
        {
          "output_type": "execute_result",
          "data": {
            "text/plain": [
              "int"
            ]
          },
          "metadata": {},
          "execution_count": 27
        }
      ]
    },
    {
      "cell_type": "code",
      "source": [
        "b = \"5\"\n",
        "type(b)"
      ],
      "metadata": {
        "colab": {
          "base_uri": "https://localhost:8080/"
        },
        "id": "LSOMtEnHvALB",
        "outputId": "4408e9d7-2fcc-40e9-8d0b-16875b79ba3b"
      },
      "execution_count": null,
      "outputs": [
        {
          "output_type": "execute_result",
          "data": {
            "text/plain": [
              "str"
            ]
          },
          "metadata": {},
          "execution_count": 28
        }
      ]
    },
    {
      "cell_type": "code",
      "source": [
        "c = [1,2,3]\n",
        "type(c)"
      ],
      "metadata": {
        "colab": {
          "base_uri": "https://localhost:8080/"
        },
        "id": "930DnmnUvLOL",
        "outputId": "967e6f3a-7a06-4cff-83fb-22dd963db70c"
      },
      "execution_count": null,
      "outputs": [
        {
          "output_type": "execute_result",
          "data": {
            "text/plain": [
              "list"
            ]
          },
          "metadata": {},
          "execution_count": 29
        }
      ]
    },
    {
      "cell_type": "markdown",
      "source": [
        "<p align=\"justify\">\n",
        "Las variables son nombres de objetos, la información de tipo se almacena en el propio objeto.</p>"
      ],
      "metadata": {
        "id": "Ls5mVyU5vwnh"
      }
    },
    {
      "cell_type": "markdown",
      "source": [
        "Realicemos la siguiente operación matemática:"
      ],
      "metadata": {
        "id": "8Ncd1MYFwTMg"
      }
    },
    {
      "cell_type": "code",
      "source": [
        "5 + '5'"
      ],
      "metadata": {
        "colab": {
          "base_uri": "https://localhost:8080/",
          "height": 164
        },
        "id": "YZ5IOrb2wLvC",
        "outputId": "8939e4c0-1443-49e5-8925-546416752293"
      },
      "execution_count": null,
      "outputs": [
        {
          "output_type": "error",
          "ename": "TypeError",
          "evalue": "ignored",
          "traceback": [
            "\u001b[0;31m---------------------------------------------------------------------------\u001b[0m",
            "\u001b[0;31mTypeError\u001b[0m                                 Traceback (most recent call last)",
            "\u001b[0;32m<ipython-input-30-a7b2ce0aab22>\u001b[0m in \u001b[0;36m<module>\u001b[0;34m\u001b[0m\n\u001b[0;32m----> 1\u001b[0;31m \u001b[0;36m5\u001b[0m \u001b[0;34m+\u001b[0m \u001b[0;34m'5'\u001b[0m\u001b[0;34m\u001b[0m\u001b[0;34m\u001b[0m\u001b[0m\n\u001b[0m",
            "\u001b[0;31mTypeError\u001b[0m: unsupported operand type(s) for +: 'int' and 'str'"
          ]
        }
      ]
    },
    {
      "cell_type": "markdown",
      "source": [
        "<p align=\"justify\">\n",
        "!Esta operación genera un error! En algunos lenguajes, la cadena de caracteres <code>'5'</code> puede convertirse implícitamente en un número entero, lo que genera <code>10</code>. En otros, el número entero <code>5</code> puede convertirse en una cadena, lo que genera la cadena concatenada <code>'55'</code>. <br><br>En Python, tales conversiones implícitas no están permitidas. En este sentido decimos que Python es un lenguaje <b>fuertemente tipado</b>, lo que significa que cada objeto tiene un tipo específico.</p>"
      ],
      "metadata": {
        "id": "encYKgRjwaSe"
      }
    },
    {
      "cell_type": "markdown",
      "source": [
        "<p align=\"justify\">\n",
        "Es importante conocer el tipo de un objeto. También puede verificar que un objeto es una instancia de un tipo particular usando la función <code>isinstance</code>."
      ],
      "metadata": {
        "id": "fh-3lo8EyrmD"
      }
    },
    {
      "cell_type": "code",
      "source": [
        "isinstance(a, int)"
      ],
      "metadata": {
        "colab": {
          "base_uri": "https://localhost:8080/"
        },
        "id": "e_ITp7C5xCZd",
        "outputId": "456e471f-800c-409b-8ea1-f55b45c661f0"
      },
      "execution_count": null,
      "outputs": [
        {
          "output_type": "execute_result",
          "data": {
            "text/plain": [
              "True"
            ]
          },
          "metadata": {},
          "execution_count": 31
        }
      ]
    },
    {
      "cell_type": "markdown",
      "source": [
        "<p align=\"justify\">\n",
        "<code>isinstance</code> puede aceptar una tupla de tipos si desea verificar que el tipo de un objeto se encuentra entre los presentes en la tupla:</p>"
      ],
      "metadata": {
        "id": "nCAIiUpczSRl"
      }
    },
    {
      "cell_type": "code",
      "source": [
        "isinstance(a, (int, float))"
      ],
      "metadata": {
        "colab": {
          "base_uri": "https://localhost:8080/"
        },
        "id": "nLZEncjMzMOo",
        "outputId": "0e7254b4-edea-4c3c-86dc-50df23008f83"
      },
      "execution_count": null,
      "outputs": [
        {
          "output_type": "execute_result",
          "data": {
            "text/plain": [
              "True"
            ]
          },
          "metadata": {},
          "execution_count": 32
        }
      ]
    },
    {
      "cell_type": "markdown",
      "source": [
        "<br>\n",
        "<br>\n",
        "<p align=\"center\"><b>\n",
        "💗\n",
        "<font color=\"DeepPink\">\n",
        "Hemos llegado al final de nuestro colab, a seguir codeando...\n",
        "</font>\n",
        "</p>\n"
      ],
      "metadata": {
        "id": "lP1MeZtX4TPk"
      }
    },
    {
      "cell_type": "markdown",
      "source": [
        "<p align=\"center\">\n",
        "<img src=\"https://github.com/cristiandarioortegayubro/BDS/blob/main/images/Logo%20BDS%20Horizontal%208.png?raw=true\">\n",
        "</p>\n",
        "\n",
        "---"
      ],
      "metadata": {
        "id": "gt8wNb7N4OVD"
      }
    }
  ]
}