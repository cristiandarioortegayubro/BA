{
  "nbformat": 4,
  "nbformat_minor": 0,
  "metadata": {
    "colab": {
      "name": "tf-01.ipynb",
      "provenance": [],
      "collapsed_sections": [],
      "toc_visible": true,
      "include_colab_link": true
    },
    "kernelspec": {
      "name": "python3",
      "display_name": "Python 3"
    }
  },
  "cells": [
    {
      "cell_type": "markdown",
      "metadata": {
        "id": "view-in-github",
        "colab_type": "text"
      },
      "source": [
        "<a href=\"https://colab.research.google.com/github/cristiandarioortegayubro/BA/blob/main/tf_01.ipynb\" target=\"_parent\"><img src=\"https://colab.research.google.com/assets/colab-badge.svg\" alt=\"Open In Colab\"/></a>"
      ]
    },
    {
      "cell_type": "markdown",
      "source": [
        "![logo](https://github.com/cristiandarioortegayubro/BA/blob/main/dba.png?raw=true)"
      ],
      "metadata": {
        "id": "qRJbnb0emd60"
      }
    },
    {
      "cell_type": "markdown",
      "metadata": {
        "id": "IEyDsUOkWQKr"
      },
      "source": [
        "# **Trabajo Final - Módulo 7 - Introducción a Python y Pandas**"
      ]
    },
    {
      "cell_type": "markdown",
      "source": [
        "![logo](https://www.python.org/static/community_logos/python-powered-w-100x40.png)"
      ],
      "metadata": {
        "id": "Ix6Fsu9Lm5zi"
      }
    },
    {
      "cell_type": "markdown",
      "metadata": {
        "id": "K95L1l2Oqtmo"
      },
      "source": [
        "~~~\n",
        "Colocar Apellido y Nombre (reemplazar esta línea)\n",
        "~~~"
      ]
    },
    {
      "cell_type": "markdown",
      "metadata": {
        "id": "7Ke7Qen3ucdM"
      },
      "source": [
        "# **Aclaraciones previas**\n",
        "\n",
        "\n",
        "\n",
        "*   En cada celda se indica lo solicitado.\n",
        "*   Se pueden generar la cantidad de scripts necesarios.\n",
        "*   Puede explicar insertando celdas de texto.\n",
        "*   Para graficar se puede utilizar cualquier librería.\n",
        "*   Al finalizar, descargar el archivo y entregarlo por el campus.\n",
        "*   Al finalizar se debería borrar esta celda.\n",
        "\n"
      ]
    },
    {
      "cell_type": "markdown",
      "metadata": {
        "id": "Fdo1n4BKrYxk"
      },
      "source": [
        "# **Activar módulos necesarios**"
      ]
    },
    {
      "cell_type": "code",
      "metadata": {
        "id": "BPNcu6WursCJ"
      },
      "source": [
        ""
      ],
      "execution_count": null,
      "outputs": []
    },
    {
      "cell_type": "markdown",
      "metadata": {
        "id": "T-zGSUPArm6b"
      },
      "source": [
        "# **Obtener datos**"
      ]
    },
    {
      "cell_type": "code",
      "metadata": {
        "id": "HS1ztE-prmP6"
      },
      "source": [
        ""
      ],
      "execution_count": null,
      "outputs": []
    },
    {
      "cell_type": "markdown",
      "metadata": {
        "id": "Zbkp_d8Br0aV"
      },
      "source": [
        "# **Crear un DataFrame**"
      ]
    },
    {
      "cell_type": "code",
      "metadata": {
        "id": "rz09nEehr6xa"
      },
      "source": [
        ""
      ],
      "execution_count": null,
      "outputs": []
    },
    {
      "cell_type": "markdown",
      "metadata": {
        "id": "MrwCNmZar94-"
      },
      "source": [
        "## **Visualizaciones del DataFrame**"
      ]
    },
    {
      "cell_type": "code",
      "metadata": {
        "id": "5dRhvM7dsPj4"
      },
      "source": [
        ""
      ],
      "execution_count": null,
      "outputs": []
    },
    {
      "cell_type": "markdown",
      "metadata": {
        "id": "UnTRvhhAsQOu"
      },
      "source": [
        "## **Información del DataFrame y de los datos**"
      ]
    },
    {
      "cell_type": "code",
      "metadata": {
        "id": "GXcyHqVtsbDg"
      },
      "source": [
        ""
      ],
      "execution_count": null,
      "outputs": []
    },
    {
      "cell_type": "markdown",
      "metadata": {
        "id": "_Q0_Agehsrij"
      },
      "source": [
        "# **Trabajando con el DataFrame**"
      ]
    },
    {
      "cell_type": "markdown",
      "metadata": {
        "id": "XM6a2W_XsexJ"
      },
      "source": [
        "## **Eliminando datos no disponibles y duplicados**"
      ]
    },
    {
      "cell_type": "code",
      "metadata": {
        "id": "7d1CBcPMsv1n"
      },
      "source": [
        ""
      ],
      "execution_count": null,
      "outputs": []
    },
    {
      "cell_type": "markdown",
      "metadata": {
        "id": "jSYM_pQ2swft"
      },
      "source": [
        "## **Insertando columnas**"
      ]
    },
    {
      "cell_type": "code",
      "metadata": {
        "id": "Pu4eeGUitGd3"
      },
      "source": [
        ""
      ],
      "execution_count": null,
      "outputs": []
    },
    {
      "cell_type": "markdown",
      "metadata": {
        "id": "d9Ty00RYtHrj"
      },
      "source": [
        "## **Renombrando columnas**"
      ]
    },
    {
      "cell_type": "code",
      "metadata": {
        "id": "QyYvUCCotKe2"
      },
      "source": [
        ""
      ],
      "execution_count": null,
      "outputs": []
    },
    {
      "cell_type": "markdown",
      "metadata": {
        "id": "onF4QVpmtL5m"
      },
      "source": [
        "## **Reindexando index**"
      ]
    },
    {
      "cell_type": "code",
      "metadata": {
        "id": "sc33ZML_tP7k"
      },
      "source": [
        ""
      ],
      "execution_count": null,
      "outputs": []
    },
    {
      "cell_type": "markdown",
      "metadata": {
        "id": "-_uSz6M4toYa"
      },
      "source": [
        "# **Grabando**"
      ]
    },
    {
      "cell_type": "markdown",
      "metadata": {
        "id": "sc3-X6FPtrjP"
      },
      "source": [
        "## **Grabar el DataFrame como un archivo SCV**"
      ]
    },
    {
      "cell_type": "code",
      "metadata": {
        "id": "WB8rEPAot25y"
      },
      "source": [
        ""
      ],
      "execution_count": null,
      "outputs": []
    },
    {
      "cell_type": "markdown",
      "metadata": {
        "id": "DzKTOPWut3Zx"
      },
      "source": [
        "# **Gráficos**"
      ]
    },
    {
      "cell_type": "markdown",
      "metadata": {
        "id": "5RAKnbAqt_hq"
      },
      "source": [
        "## **Desarrollar gráficos del DataFrame**"
      ]
    },
    {
      "cell_type": "code",
      "metadata": {
        "id": "qPGn43OeuN12"
      },
      "source": [
        ""
      ],
      "execution_count": null,
      "outputs": []
    }
  ]
}