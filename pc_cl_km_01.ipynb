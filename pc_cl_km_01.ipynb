{
  "nbformat": 4,
  "nbformat_minor": 0,
  "metadata": {
    "colab": {
      "provenance": [],
      "collapsed_sections": [],
      "toc_visible": true,
      "include_colab_link": true
    },
    "kernelspec": {
      "name": "python3",
      "display_name": "Python 3"
    },
    "widgets": {
      "application/vnd.jupyter.widget-state+json": {
        "5fe2f12b9f514ed69d4c95d94a9eda0c": {
          "model_module": "@jupyter-widgets/controls",
          "model_name": "HBoxModel",
          "model_module_version": "1.5.0",
          "state": {
            "_dom_classes": [],
            "_model_module": "@jupyter-widgets/controls",
            "_model_module_version": "1.5.0",
            "_model_name": "HBoxModel",
            "_view_count": null,
            "_view_module": "@jupyter-widgets/controls",
            "_view_module_version": "1.5.0",
            "_view_name": "HBoxView",
            "box_style": "",
            "children": [
              "IPY_MODEL_308e2d3912ba430c9b4e4d2ab3cfb84d",
              "IPY_MODEL_b9c906f70b834e05a0fd457970ea8e43",
              "IPY_MODEL_6d63889688814c1081f89f6dca56c9e9"
            ],
            "layout": "IPY_MODEL_26f14f211fb341ceb0cef80d2df35a1e"
          }
        },
        "308e2d3912ba430c9b4e4d2ab3cfb84d": {
          "model_module": "@jupyter-widgets/controls",
          "model_name": "HTMLModel",
          "model_module_version": "1.5.0",
          "state": {
            "_dom_classes": [],
            "_model_module": "@jupyter-widgets/controls",
            "_model_module_version": "1.5.0",
            "_model_name": "HTMLModel",
            "_view_count": null,
            "_view_module": "@jupyter-widgets/controls",
            "_view_module_version": "1.5.0",
            "_view_name": "HTMLView",
            "description": "",
            "description_tooltip": null,
            "layout": "IPY_MODEL_2776914909f443f0b0c62393b7b827e3",
            "placeholder": "​",
            "style": "IPY_MODEL_178ba0a7c50b442fa344a47c7fad4725",
            "value": "Processing:   0%"
          }
        },
        "b9c906f70b834e05a0fd457970ea8e43": {
          "model_module": "@jupyter-widgets/controls",
          "model_name": "FloatProgressModel",
          "model_module_version": "1.5.0",
          "state": {
            "_dom_classes": [],
            "_model_module": "@jupyter-widgets/controls",
            "_model_module_version": "1.5.0",
            "_model_name": "FloatProgressModel",
            "_view_count": null,
            "_view_module": "@jupyter-widgets/controls",
            "_view_module_version": "1.5.0",
            "_view_name": "ProgressView",
            "bar_style": "",
            "description": "",
            "description_tooltip": null,
            "layout": "IPY_MODEL_4ac0a8f8a75b48e9ad38dfb3e3f6ac9c",
            "max": 3,
            "min": 0,
            "orientation": "horizontal",
            "style": "IPY_MODEL_7154ecf8cef44ae78ed1160a4757c85c",
            "value": 3
          }
        },
        "6d63889688814c1081f89f6dca56c9e9": {
          "model_module": "@jupyter-widgets/controls",
          "model_name": "HTMLModel",
          "model_module_version": "1.5.0",
          "state": {
            "_dom_classes": [],
            "_model_module": "@jupyter-widgets/controls",
            "_model_module_version": "1.5.0",
            "_model_name": "HTMLModel",
            "_view_count": null,
            "_view_module": "@jupyter-widgets/controls",
            "_view_module_version": "1.5.0",
            "_view_name": "HTMLView",
            "description": "",
            "description_tooltip": null,
            "layout": "IPY_MODEL_20ef578a536c438ba2fa590fc5fce96f",
            "placeholder": "​",
            "style": "IPY_MODEL_79ff170b9896476bbc309a178fe330cf",
            "value": " 0/3 [00:00&lt;?, ?it/s]"
          }
        },
        "26f14f211fb341ceb0cef80d2df35a1e": {
          "model_module": "@jupyter-widgets/base",
          "model_name": "LayoutModel",
          "model_module_version": "1.2.0",
          "state": {
            "_model_module": "@jupyter-widgets/base",
            "_model_module_version": "1.2.0",
            "_model_name": "LayoutModel",
            "_view_count": null,
            "_view_module": "@jupyter-widgets/base",
            "_view_module_version": "1.2.0",
            "_view_name": "LayoutView",
            "align_content": null,
            "align_items": null,
            "align_self": null,
            "border": null,
            "bottom": null,
            "display": null,
            "flex": null,
            "flex_flow": null,
            "grid_area": null,
            "grid_auto_columns": null,
            "grid_auto_flow": null,
            "grid_auto_rows": null,
            "grid_column": null,
            "grid_gap": null,
            "grid_row": null,
            "grid_template_areas": null,
            "grid_template_columns": null,
            "grid_template_rows": null,
            "height": null,
            "justify_content": null,
            "justify_items": null,
            "left": null,
            "margin": null,
            "max_height": null,
            "max_width": null,
            "min_height": null,
            "min_width": null,
            "object_fit": null,
            "object_position": null,
            "order": null,
            "overflow": null,
            "overflow_x": null,
            "overflow_y": null,
            "padding": null,
            "right": null,
            "top": null,
            "visibility": "hidden",
            "width": null
          }
        },
        "2776914909f443f0b0c62393b7b827e3": {
          "model_module": "@jupyter-widgets/base",
          "model_name": "LayoutModel",
          "model_module_version": "1.2.0",
          "state": {
            "_model_module": "@jupyter-widgets/base",
            "_model_module_version": "1.2.0",
            "_model_name": "LayoutModel",
            "_view_count": null,
            "_view_module": "@jupyter-widgets/base",
            "_view_module_version": "1.2.0",
            "_view_name": "LayoutView",
            "align_content": null,
            "align_items": null,
            "align_self": null,
            "border": null,
            "bottom": null,
            "display": null,
            "flex": null,
            "flex_flow": null,
            "grid_area": null,
            "grid_auto_columns": null,
            "grid_auto_flow": null,
            "grid_auto_rows": null,
            "grid_column": null,
            "grid_gap": null,
            "grid_row": null,
            "grid_template_areas": null,
            "grid_template_columns": null,
            "grid_template_rows": null,
            "height": null,
            "justify_content": null,
            "justify_items": null,
            "left": null,
            "margin": null,
            "max_height": null,
            "max_width": null,
            "min_height": null,
            "min_width": null,
            "object_fit": null,
            "object_position": null,
            "order": null,
            "overflow": null,
            "overflow_x": null,
            "overflow_y": null,
            "padding": null,
            "right": null,
            "top": null,
            "visibility": null,
            "width": null
          }
        },
        "178ba0a7c50b442fa344a47c7fad4725": {
          "model_module": "@jupyter-widgets/controls",
          "model_name": "DescriptionStyleModel",
          "model_module_version": "1.5.0",
          "state": {
            "_model_module": "@jupyter-widgets/controls",
            "_model_module_version": "1.5.0",
            "_model_name": "DescriptionStyleModel",
            "_view_count": null,
            "_view_module": "@jupyter-widgets/base",
            "_view_module_version": "1.2.0",
            "_view_name": "StyleView",
            "description_width": ""
          }
        },
        "4ac0a8f8a75b48e9ad38dfb3e3f6ac9c": {
          "model_module": "@jupyter-widgets/base",
          "model_name": "LayoutModel",
          "model_module_version": "1.2.0",
          "state": {
            "_model_module": "@jupyter-widgets/base",
            "_model_module_version": "1.2.0",
            "_model_name": "LayoutModel",
            "_view_count": null,
            "_view_module": "@jupyter-widgets/base",
            "_view_module_version": "1.2.0",
            "_view_name": "LayoutView",
            "align_content": null,
            "align_items": null,
            "align_self": null,
            "border": null,
            "bottom": null,
            "display": null,
            "flex": null,
            "flex_flow": null,
            "grid_area": null,
            "grid_auto_columns": null,
            "grid_auto_flow": null,
            "grid_auto_rows": null,
            "grid_column": null,
            "grid_gap": null,
            "grid_row": null,
            "grid_template_areas": null,
            "grid_template_columns": null,
            "grid_template_rows": null,
            "height": null,
            "justify_content": null,
            "justify_items": null,
            "left": null,
            "margin": null,
            "max_height": null,
            "max_width": null,
            "min_height": null,
            "min_width": null,
            "object_fit": null,
            "object_position": null,
            "order": null,
            "overflow": null,
            "overflow_x": null,
            "overflow_y": null,
            "padding": null,
            "right": null,
            "top": null,
            "visibility": null,
            "width": null
          }
        },
        "7154ecf8cef44ae78ed1160a4757c85c": {
          "model_module": "@jupyter-widgets/controls",
          "model_name": "ProgressStyleModel",
          "model_module_version": "1.5.0",
          "state": {
            "_model_module": "@jupyter-widgets/controls",
            "_model_module_version": "1.5.0",
            "_model_name": "ProgressStyleModel",
            "_view_count": null,
            "_view_module": "@jupyter-widgets/base",
            "_view_module_version": "1.2.0",
            "_view_name": "StyleView",
            "bar_color": null,
            "description_width": ""
          }
        },
        "20ef578a536c438ba2fa590fc5fce96f": {
          "model_module": "@jupyter-widgets/base",
          "model_name": "LayoutModel",
          "model_module_version": "1.2.0",
          "state": {
            "_model_module": "@jupyter-widgets/base",
            "_model_module_version": "1.2.0",
            "_model_name": "LayoutModel",
            "_view_count": null,
            "_view_module": "@jupyter-widgets/base",
            "_view_module_version": "1.2.0",
            "_view_name": "LayoutView",
            "align_content": null,
            "align_items": null,
            "align_self": null,
            "border": null,
            "bottom": null,
            "display": null,
            "flex": null,
            "flex_flow": null,
            "grid_area": null,
            "grid_auto_columns": null,
            "grid_auto_flow": null,
            "grid_auto_rows": null,
            "grid_column": null,
            "grid_gap": null,
            "grid_row": null,
            "grid_template_areas": null,
            "grid_template_columns": null,
            "grid_template_rows": null,
            "height": null,
            "justify_content": null,
            "justify_items": null,
            "left": null,
            "margin": null,
            "max_height": null,
            "max_width": null,
            "min_height": null,
            "min_width": null,
            "object_fit": null,
            "object_position": null,
            "order": null,
            "overflow": null,
            "overflow_x": null,
            "overflow_y": null,
            "padding": null,
            "right": null,
            "top": null,
            "visibility": null,
            "width": null
          }
        },
        "79ff170b9896476bbc309a178fe330cf": {
          "model_module": "@jupyter-widgets/controls",
          "model_name": "DescriptionStyleModel",
          "model_module_version": "1.5.0",
          "state": {
            "_model_module": "@jupyter-widgets/controls",
            "_model_module_version": "1.5.0",
            "_model_name": "DescriptionStyleModel",
            "_view_count": null,
            "_view_module": "@jupyter-widgets/base",
            "_view_module_version": "1.2.0",
            "_view_name": "StyleView",
            "description_width": ""
          }
        },
        "02133fa112354155beb62b603b49ff7f": {
          "model_module": "@jupyter-widgets/controls",
          "model_name": "VBoxModel",
          "model_module_version": "1.5.0",
          "state": {
            "_dom_classes": [
              "widget-interact"
            ],
            "_model_module": "@jupyter-widgets/controls",
            "_model_module_version": "1.5.0",
            "_model_name": "VBoxModel",
            "_view_count": null,
            "_view_module": "@jupyter-widgets/controls",
            "_view_module_version": "1.5.0",
            "_view_name": "VBoxView",
            "box_style": "",
            "children": [
              "IPY_MODEL_7aa02bbb518b4c71a744ceb283be05e3",
              "IPY_MODEL_9e710abbc840439b816272d6fc066d7f"
            ],
            "layout": "IPY_MODEL_557f3ec077fa4156b0f51e4b3e1742f2"
          }
        },
        "7aa02bbb518b4c71a744ceb283be05e3": {
          "model_module": "@jupyter-widgets/controls",
          "model_name": "ToggleButtonsModel",
          "model_module_version": "1.5.0",
          "state": {
            "_dom_classes": [],
            "_model_module": "@jupyter-widgets/controls",
            "_model_module_version": "1.5.0",
            "_model_name": "ToggleButtonsModel",
            "_options_labels": [
              "Pipeline Plot",
              "t-SNE (3d) Dimension Plot",
              "Cluster t-SNE (3d)",
              "Elbow Plot",
              "Silhouette Plot",
              "Distance Plot",
              "Distribution Plot"
            ],
            "_view_count": null,
            "_view_module": "@jupyter-widgets/controls",
            "_view_module_version": "1.5.0",
            "_view_name": "ToggleButtonsView",
            "button_style": "",
            "description": "Plot Type:",
            "description_tooltip": null,
            "disabled": false,
            "icons": [
              ""
            ],
            "index": 0,
            "layout": "IPY_MODEL_cfe32d5de88e4e19bebd26bdce055698",
            "style": "IPY_MODEL_903a695f704841bca11669e2cf18b8e7",
            "tooltips": []
          }
        },
        "9e710abbc840439b816272d6fc066d7f": {
          "model_module": "@jupyter-widgets/output",
          "model_name": "OutputModel",
          "model_module_version": "1.0.0",
          "state": {
            "_dom_classes": [],
            "_model_module": "@jupyter-widgets/output",
            "_model_module_version": "1.0.0",
            "_model_name": "OutputModel",
            "_view_count": null,
            "_view_module": "@jupyter-widgets/output",
            "_view_module_version": "1.0.0",
            "_view_name": "OutputView",
            "layout": "IPY_MODEL_253aee3fe0434adfb52a2978122ca75a",
            "msg_id": "",
            "outputs": [
              {
                "output_type": "display_data",
                "data": {
                  "text/plain": "<Figure size 1700x600 with 1 Axes>",
                  "image/png": "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\n"
                },
                "metadata": {
                  "needs_background": "light"
                }
              }
            ]
          }
        },
        "557f3ec077fa4156b0f51e4b3e1742f2": {
          "model_module": "@jupyter-widgets/base",
          "model_name": "LayoutModel",
          "model_module_version": "1.2.0",
          "state": {
            "_model_module": "@jupyter-widgets/base",
            "_model_module_version": "1.2.0",
            "_model_name": "LayoutModel",
            "_view_count": null,
            "_view_module": "@jupyter-widgets/base",
            "_view_module_version": "1.2.0",
            "_view_name": "LayoutView",
            "align_content": null,
            "align_items": null,
            "align_self": null,
            "border": null,
            "bottom": null,
            "display": null,
            "flex": null,
            "flex_flow": null,
            "grid_area": null,
            "grid_auto_columns": null,
            "grid_auto_flow": null,
            "grid_auto_rows": null,
            "grid_column": null,
            "grid_gap": null,
            "grid_row": null,
            "grid_template_areas": null,
            "grid_template_columns": null,
            "grid_template_rows": null,
            "height": null,
            "justify_content": null,
            "justify_items": null,
            "left": null,
            "margin": null,
            "max_height": null,
            "max_width": null,
            "min_height": null,
            "min_width": null,
            "object_fit": null,
            "object_position": null,
            "order": null,
            "overflow": null,
            "overflow_x": null,
            "overflow_y": null,
            "padding": null,
            "right": null,
            "top": null,
            "visibility": null,
            "width": null
          }
        },
        "cfe32d5de88e4e19bebd26bdce055698": {
          "model_module": "@jupyter-widgets/base",
          "model_name": "LayoutModel",
          "model_module_version": "1.2.0",
          "state": {
            "_model_module": "@jupyter-widgets/base",
            "_model_module_version": "1.2.0",
            "_model_name": "LayoutModel",
            "_view_count": null,
            "_view_module": "@jupyter-widgets/base",
            "_view_module_version": "1.2.0",
            "_view_name": "LayoutView",
            "align_content": null,
            "align_items": null,
            "align_self": null,
            "border": null,
            "bottom": null,
            "display": null,
            "flex": null,
            "flex_flow": null,
            "grid_area": null,
            "grid_auto_columns": null,
            "grid_auto_flow": null,
            "grid_auto_rows": null,
            "grid_column": null,
            "grid_gap": null,
            "grid_row": null,
            "grid_template_areas": null,
            "grid_template_columns": null,
            "grid_template_rows": null,
            "height": null,
            "justify_content": null,
            "justify_items": null,
            "left": null,
            "margin": null,
            "max_height": null,
            "max_width": null,
            "min_height": null,
            "min_width": null,
            "object_fit": null,
            "object_position": null,
            "order": null,
            "overflow": null,
            "overflow_x": null,
            "overflow_y": null,
            "padding": null,
            "right": null,
            "top": null,
            "visibility": null,
            "width": null
          }
        },
        "903a695f704841bca11669e2cf18b8e7": {
          "model_module": "@jupyter-widgets/controls",
          "model_name": "ToggleButtonsStyleModel",
          "model_module_version": "1.5.0",
          "state": {
            "_model_module": "@jupyter-widgets/controls",
            "_model_module_version": "1.5.0",
            "_model_name": "ToggleButtonsStyleModel",
            "_view_count": null,
            "_view_module": "@jupyter-widgets/base",
            "_view_module_version": "1.2.0",
            "_view_name": "StyleView",
            "button_width": "",
            "description_width": "",
            "font_weight": ""
          }
        },
        "253aee3fe0434adfb52a2978122ca75a": {
          "model_module": "@jupyter-widgets/base",
          "model_name": "LayoutModel",
          "model_module_version": "1.2.0",
          "state": {
            "_model_module": "@jupyter-widgets/base",
            "_model_module_version": "1.2.0",
            "_model_name": "LayoutModel",
            "_view_count": null,
            "_view_module": "@jupyter-widgets/base",
            "_view_module_version": "1.2.0",
            "_view_name": "LayoutView",
            "align_content": null,
            "align_items": null,
            "align_self": null,
            "border": null,
            "bottom": null,
            "display": null,
            "flex": null,
            "flex_flow": null,
            "grid_area": null,
            "grid_auto_columns": null,
            "grid_auto_flow": null,
            "grid_auto_rows": null,
            "grid_column": null,
            "grid_gap": null,
            "grid_row": null,
            "grid_template_areas": null,
            "grid_template_columns": null,
            "grid_template_rows": null,
            "height": null,
            "justify_content": null,
            "justify_items": null,
            "left": null,
            "margin": null,
            "max_height": null,
            "max_width": null,
            "min_height": null,
            "min_width": null,
            "object_fit": null,
            "object_position": null,
            "order": null,
            "overflow": null,
            "overflow_x": null,
            "overflow_y": null,
            "padding": null,
            "right": null,
            "top": null,
            "visibility": null,
            "width": null
          }
        }
      }
    }
  },
  "cells": [
    {
      "cell_type": "markdown",
      "metadata": {
        "id": "view-in-github",
        "colab_type": "text"
      },
      "source": [
        "<a href=\"https://colab.research.google.com/github/cristiandarioortegayubro/BA/blob/main/pc_cl_km_01.ipynb\" target=\"_parent\"><img src=\"https://colab.research.google.com/assets/colab-badge.svg\" alt=\"Open In Colab\"/></a>"
      ]
    },
    {
      "cell_type": "markdown",
      "source": [
        "![logo](https://github.com/cristiandarioortegayubro/BA/blob/main/dba.png?raw=true)"
      ],
      "metadata": {
        "id": "2jnjFH2lICD1"
      }
    },
    {
      "cell_type": "markdown",
      "source": [
        "![logo](https://github.com/cristiandarioortegayubro/BA/blob/main/PyCaret.png?raw=true)"
      ],
      "metadata": {
        "id": "jzkEdEJ0IFE6"
      }
    },
    {
      "cell_type": "markdown",
      "source": [
        "# **Clustering**"
      ],
      "metadata": {
        "id": "HeZ8odfnIMyT"
      }
    },
    {
      "cell_type": "markdown",
      "metadata": {
        "id": "3qM9vy_hooN0"
      },
      "source": [
        "## **Instalando PyCaret**"
      ]
    },
    {
      "cell_type": "code",
      "metadata": {
        "colab": {
          "base_uri": "https://localhost:8080/"
        },
        "id": "mpNZw0XGovEZ",
        "outputId": "366bbef2-c259-4bdb-ecba-6b676c629254"
      },
      "source": [
        "!pip install --pre pycaret[full]"
      ],
      "execution_count": 1,
      "outputs": [
        {
          "output_type": "stream",
          "name": "stdout",
          "text": [
            "Looking in indexes: https://pypi.org/simple, https://us-python.pkg.dev/colab-wheels/public/simple/\n",
            "Requirement already satisfied: pycaret[full] in /usr/local/lib/python3.7/dist-packages (3.0.0rc4)\n",
            "Requirement already satisfied: scipy<1.9.0 in /usr/local/lib/python3.7/dist-packages (from pycaret[full]) (1.7.3)\n",
            "Requirement already satisfied: numba~=0.55.0 in /usr/local/lib/python3.7/dist-packages (from pycaret[full]) (0.55.2)\n",
            "Requirement already satisfied: scikit-learn>=1.0 in /usr/local/lib/python3.7/dist-packages (from pycaret[full]) (1.0.2)\n",
            "Requirement already satisfied: statsmodels>=0.12.1 in /usr/local/lib/python3.7/dist-packages (from pycaret[full]) (0.13.2)\n",
            "Requirement already satisfied: tqdm>=4.62.0 in /usr/local/lib/python3.7/dist-packages (from pycaret[full]) (4.64.1)\n",
            "Requirement already satisfied: pmdarima!=1.8.1,<2.0.0,>=1.8.0 in /usr/local/lib/python3.7/dist-packages (from pycaret[full]) (1.8.5)\n",
            "Requirement already satisfied: importlib-metadata>=4.12.0 in /usr/local/lib/python3.7/dist-packages (from pycaret[full]) (4.13.0)\n",
            "Requirement already satisfied: joblib>=1.1.0 in /usr/local/lib/python3.7/dist-packages (from pycaret[full]) (1.1.1)\n",
            "Requirement already satisfied: imbalanced-learn>=0.8.1 in /usr/local/lib/python3.7/dist-packages (from pycaret[full]) (0.8.1)\n",
            "Requirement already satisfied: matplotlib>=3.3.0 in /usr/local/lib/python3.7/dist-packages (from pycaret[full]) (3.5.3)\n",
            "Requirement already satisfied: category-encoders>=2.4.0 in /usr/local/lib/python3.7/dist-packages (from pycaret[full]) (2.5.1.post0)\n",
            "Requirement already satisfied: plotly>=5.0.0 in /usr/local/lib/python3.7/dist-packages (from pycaret[full]) (5.5.0)\n",
            "Requirement already satisfied: markupsafe>=2.0.1 in /usr/local/lib/python3.7/dist-packages (from pycaret[full]) (2.0.1)\n",
            "Requirement already satisfied: schemdraw>=0.14 in /usr/local/lib/python3.7/dist-packages (from pycaret[full]) (0.15)\n",
            "Requirement already satisfied: jinja2>=1.2 in /usr/local/lib/python3.7/dist-packages (from pycaret[full]) (3.1.2)\n",
            "Requirement already satisfied: sktime~=0.13.2 in /usr/local/lib/python3.7/dist-packages (from pycaret[full]) (0.13.4)\n",
            "Requirement already satisfied: psutil>=5.9.0 in /usr/local/lib/python3.7/dist-packages (from pycaret[full]) (5.9.2)\n",
            "Requirement already satisfied: lightgbm>=3.0.0 in /usr/local/lib/python3.7/dist-packages (from pycaret[full]) (3.3.2)\n",
            "Requirement already satisfied: kaleido>=0.2.1 in /usr/local/lib/python3.7/dist-packages (from pycaret[full]) (0.2.1)\n",
            "Requirement already satisfied: ipython>=5.5.0 in /usr/local/lib/python3.7/dist-packages (from pycaret[full]) (7.9.0)\n",
            "Requirement already satisfied: numpy<1.23,>=1.21 in /usr/local/lib/python3.7/dist-packages (from pycaret[full]) (1.21.6)\n",
            "Requirement already satisfied: scikit-plot>=0.3.7 in /usr/local/lib/python3.7/dist-packages (from pycaret[full]) (0.3.7)\n",
            "Requirement already satisfied: pyod>=0.9.8 in /usr/local/lib/python3.7/dist-packages (from pycaret[full]) (1.0.5)\n",
            "Requirement already satisfied: requests>=2.27.1 in /usr/local/lib/python3.7/dist-packages (from pycaret[full]) (2.28.1)\n",
            "Requirement already satisfied: plotly-resampler>=0.7.2.2 in /usr/local/lib/python3.7/dist-packages (from pycaret[full]) (0.8.2rc3)\n",
            "Requirement already satisfied: tbats>=1.1.0 in /usr/local/lib/python3.7/dist-packages (from pycaret[full]) (1.1.1)\n",
            "Requirement already satisfied: yellowbrick>=1.4 in /usr/local/lib/python3.7/dist-packages (from pycaret[full]) (1.5)\n",
            "Requirement already satisfied: pandas<1.5.0,>=1.3.0 in /usr/local/lib/python3.7/dist-packages (from pycaret[full]) (1.3.5)\n",
            "Requirement already satisfied: ipywidgets>=7.6.5 in /usr/local/lib/python3.7/dist-packages (from pycaret[full]) (7.7.1)\n",
            "Requirement already satisfied: dask[dataframe]>=2022.2.0 in /usr/local/lib/python3.7/dist-packages (from pycaret[full]) (2022.2.0)\n",
            "Requirement already satisfied: kmodes>=0.11.1 in /usr/local/lib/python3.7/dist-packages (from pycaret[full]) (0.12.2)\n",
            "Requirement already satisfied: scikit-optimize>=0.9.0 in /usr/local/lib/python3.7/dist-packages (from pycaret[full]) (0.9.0)\n",
            "Requirement already satisfied: catboost>=0.23.2 in /usr/local/lib/python3.7/dist-packages (from pycaret[full]) (1.1)\n",
            "Requirement already satisfied: mlxtend>=0.19.0 in /usr/local/lib/python3.7/dist-packages (from pycaret[full]) (0.21.0)\n",
            "Requirement already satisfied: mlflow>=1.24.0 in /usr/local/lib/python3.7/dist-packages (from pycaret[full]) (1.29.0)\n",
            "Requirement already satisfied: fugue~=0.6.6 in /usr/local/lib/python3.7/dist-packages (from pycaret[full]) (0.6.6)\n",
            "Requirement already satisfied: xgboost>=1.1.0 in /usr/local/lib/python3.7/dist-packages (from pycaret[full]) (1.6.2)\n",
            "Requirement already satisfied: interpret>=0.2.7 in /usr/local/lib/python3.7/dist-packages (from pycaret[full]) (0.2.7)\n",
            "Requirement already satisfied: flask>=2.0.3 in /usr/local/lib/python3.7/dist-packages (from pycaret[full]) (2.1.3)\n",
            "Requirement already satisfied: pytest>=7.0.1 in /usr/local/lib/python3.7/dist-packages (from pycaret[full]) (7.1.3)\n",
            "Requirement already satisfied: ray[tune]>=1.0.0 in /usr/local/lib/python3.7/dist-packages (from pycaret[full]) (2.0.0)\n",
            "Requirement already satisfied: m2cgen>=0.9.0 in /usr/local/lib/python3.7/dist-packages (from pycaret[full]) (0.10.0)\n",
            "Requirement already satisfied: dash[testing] in /usr/local/lib/python3.7/dist-packages (from pycaret[full]) (2.6.2)\n",
            "Requirement already satisfied: optuna>=2.2.0 in /usr/local/lib/python3.7/dist-packages (from pycaret[full]) (3.0.2)\n",
            "Requirement already satisfied: fairlearn>=0.7.0 in /usr/local/lib/python3.7/dist-packages (from pycaret[full]) (0.7.0)\n",
            "Requirement already satisfied: protobuf<4.0.0 in /usr/local/lib/python3.7/dist-packages (from pycaret[full]) (3.17.3)\n",
            "Requirement already satisfied: codecov>=2.1.12 in /usr/local/lib/python3.7/dist-packages (from pycaret[full]) (2.1.12)\n",
            "Requirement already satisfied: umap-learn>=0.5.2 in /usr/local/lib/python3.7/dist-packages (from pycaret[full]) (0.5.3)\n",
            "Requirement already satisfied: gradio>=2.8.10 in /usr/local/lib/python3.7/dist-packages (from pycaret[full]) (3.4.1)\n",
            "Requirement already satisfied: moto>=3.0.7 in /usr/local/lib/python3.7/dist-packages (from pycaret[full]) (4.0.8.dev3)\n",
            "Requirement already satisfied: explainerdashboard>=0.3.8 in /usr/local/lib/python3.7/dist-packages (from pycaret[full]) (0.3.8.2)\n",
            "Requirement already satisfied: tune-sklearn>=0.2.1 in /usr/local/lib/python3.7/dist-packages (from pycaret[full]) (0.4.4)\n",
            "Requirement already satisfied: hyperopt>=0.2.7 in /usr/local/lib/python3.7/dist-packages (from pycaret[full]) (0.2.7)\n",
            "Requirement already satisfied: autoviz>=0.1.36 in /usr/local/lib/python3.7/dist-packages (from pycaret[full]) (0.1.58)\n",
            "Requirement already satisfied: shap>=0.38.0 in /usr/local/lib/python3.7/dist-packages (from pycaret[full]) (0.41.0)\n",
            "Requirement already satisfied: pandas-profiling>=3.1.0 in /usr/local/lib/python3.7/dist-packages (from pycaret[full]) (3.3.0)\n",
            "Requirement already satisfied: evidently>=0.1.45.dev0 in /usr/local/lib/python3.7/dist-packages (from pycaret[full]) (0.1.58.dev0)\n",
            "Requirement already satisfied: statsforecast>=0.5.5 in /usr/local/lib/python3.7/dist-packages (from pycaret[full]) (1.1.1)\n",
            "Requirement already satisfied: fastapi>=0.75.0 in /usr/local/lib/python3.7/dist-packages (from pycaret[full]) (0.85.0)\n",
            "Requirement already satisfied: scikit-learn-intelex>=2021.6.3 in /usr/local/lib/python3.7/dist-packages (from pycaret[full]) (2021.6.3)\n",
            "Requirement already satisfied: boto3>=1.24.56 in /usr/local/lib/python3.7/dist-packages (from pycaret[full]) (1.24.89)\n",
            "Requirement already satisfied: uvicorn>=0.17.6 in /usr/local/lib/python3.7/dist-packages (from pycaret[full]) (0.18.3)\n",
            "Requirement already satisfied: emoji in /usr/local/lib/python3.7/dist-packages (from autoviz>=0.1.36->pycaret[full]) (2.1.0)\n",
            "Requirement already satisfied: hvplot>=0.7.3 in /usr/local/lib/python3.7/dist-packages (from autoviz>=0.1.36->pycaret[full]) (0.8.1)\n",
            "Requirement already satisfied: nltk in /usr/local/lib/python3.7/dist-packages (from autoviz>=0.1.36->pycaret[full]) (3.7)\n",
            "Requirement already satisfied: fsspec>=0.8.3 in /usr/local/lib/python3.7/dist-packages (from autoviz>=0.1.36->pycaret[full]) (2022.8.2)\n",
            "Requirement already satisfied: textblob in /usr/local/lib/python3.7/dist-packages (from autoviz>=0.1.36->pycaret[full]) (0.15.3)\n",
            "Requirement already satisfied: pyamg in /usr/local/lib/python3.7/dist-packages (from autoviz>=0.1.36->pycaret[full]) (4.2.3)\n",
            "Requirement already satisfied: bokeh>=2.4.2 in /usr/local/lib/python3.7/dist-packages (from autoviz>=0.1.36->pycaret[full]) (2.4.3)\n",
            "Requirement already satisfied: wordcloud in /usr/local/lib/python3.7/dist-packages (from autoviz>=0.1.36->pycaret[full]) (1.8.2.2)\n",
            "Requirement already satisfied: panel~=0.12.6 in /usr/local/lib/python3.7/dist-packages (from autoviz>=0.1.36->pycaret[full]) (0.12.7)\n",
            "Requirement already satisfied: typing-extensions>=4.1.1 in /usr/local/lib/python3.7/dist-packages (from autoviz>=0.1.36->pycaret[full]) (4.1.1)\n",
            "Requirement already satisfied: jupyter in /usr/local/lib/python3.7/dist-packages (from autoviz>=0.1.36->pycaret[full]) (1.0.0)\n",
            "Requirement already satisfied: holoviews>=1.14.6 in /usr/local/lib/python3.7/dist-packages (from autoviz>=0.1.36->pycaret[full]) (1.14.9)\n",
            "Requirement already satisfied: xlrd in /usr/local/lib/python3.7/dist-packages (from autoviz>=0.1.36->pycaret[full]) (1.1.0)\n",
            "Requirement already satisfied: seaborn>=0.11.1 in /usr/local/lib/python3.7/dist-packages (from autoviz>=0.1.36->pycaret[full]) (0.11.2)\n",
            "Requirement already satisfied: tornado>=5.1 in /usr/local/lib/python3.7/dist-packages (from bokeh>=2.4.2->autoviz>=0.1.36->pycaret[full]) (5.1.1)\n",
            "Requirement already satisfied: packaging>=16.8 in /usr/local/lib/python3.7/dist-packages (from bokeh>=2.4.2->autoviz>=0.1.36->pycaret[full]) (21.3)\n",
            "Requirement already satisfied: pillow>=7.1.0 in /usr/local/lib/python3.7/dist-packages (from bokeh>=2.4.2->autoviz>=0.1.36->pycaret[full]) (7.1.2)\n",
            "Requirement already satisfied: PyYAML>=3.10 in /usr/local/lib/python3.7/dist-packages (from bokeh>=2.4.2->autoviz>=0.1.36->pycaret[full]) (5.4.1)\n",
            "Requirement already satisfied: s3transfer<0.7.0,>=0.6.0 in /usr/local/lib/python3.7/dist-packages (from boto3>=1.24.56->pycaret[full]) (0.6.0)\n",
            "Requirement already satisfied: botocore<1.28.0,>=1.27.89 in /usr/local/lib/python3.7/dist-packages (from boto3>=1.24.56->pycaret[full]) (1.27.89)\n",
            "Requirement already satisfied: jmespath<2.0.0,>=0.7.1 in /usr/local/lib/python3.7/dist-packages (from boto3>=1.24.56->pycaret[full]) (1.0.1)\n",
            "Requirement already satisfied: urllib3<1.27,>=1.25.4 in /usr/local/lib/python3.7/dist-packages (from botocore<1.28.0,>=1.27.89->boto3>=1.24.56->pycaret[full]) (1.26.12)\n",
            "Requirement already satisfied: python-dateutil<3.0.0,>=2.1 in /usr/local/lib/python3.7/dist-packages (from botocore<1.28.0,>=1.27.89->boto3>=1.24.56->pycaret[full]) (2.8.2)\n",
            "Requirement already satisfied: graphviz in /usr/local/lib/python3.7/dist-packages (from catboost>=0.23.2->pycaret[full]) (0.20.1)\n",
            "Requirement already satisfied: six in /usr/local/lib/python3.7/dist-packages (from catboost>=0.23.2->pycaret[full]) (1.15.0)\n",
            "Requirement already satisfied: patsy>=0.5.1 in /usr/local/lib/python3.7/dist-packages (from category-encoders>=2.4.0->pycaret[full]) (0.5.2)\n",
            "Requirement already satisfied: coverage in /usr/local/lib/python3.7/dist-packages (from codecov>=2.1.12->pycaret[full]) (6.5.0)\n",
            "Requirement already satisfied: toolz>=0.8.2 in /usr/local/lib/python3.7/dist-packages (from dask[dataframe]>=2022.2.0->pycaret[full]) (0.12.0)\n",
            "Requirement already satisfied: partd>=0.3.10 in /usr/local/lib/python3.7/dist-packages (from dask[dataframe]>=2022.2.0->pycaret[full]) (1.3.0)\n",
            "Requirement already satisfied: cloudpickle>=1.1.1 in /usr/local/lib/python3.7/dist-packages (from dask[dataframe]>=2022.2.0->pycaret[full]) (1.5.0)\n",
            "Requirement already satisfied: dataclasses>=0.6 in /usr/local/lib/python3.7/dist-packages (from evidently>=0.1.45.dev0->pycaret[full]) (0.6)\n",
            "Requirement already satisfied: dash-auth in /usr/local/lib/python3.7/dist-packages (from explainerdashboard>=0.3.8->pycaret[full]) (1.4.1)\n",
            "Requirement already satisfied: dash-bootstrap-components<1 in /usr/local/lib/python3.7/dist-packages (from explainerdashboard>=0.3.8->pycaret[full]) (0.13.1)\n",
            "Requirement already satisfied: click in /usr/local/lib/python3.7/dist-packages (from explainerdashboard>=0.3.8->pycaret[full]) (8.0.4)\n",
            "Requirement already satisfied: jupyter-dash in /usr/local/lib/python3.7/dist-packages (from explainerdashboard>=0.3.8->pycaret[full]) (0.4.2)\n",
            "Requirement already satisfied: flask-simplelogin in /usr/local/lib/python3.7/dist-packages (from explainerdashboard>=0.3.8->pycaret[full]) (0.1.1)\n",
            "Requirement already satisfied: dtreeviz>=1.3 in /usr/local/lib/python3.7/dist-packages (from explainerdashboard>=0.3.8->pycaret[full]) (1.3.7)\n",
            "Requirement already satisfied: Werkzeug<=2.0.3 in /usr/local/lib/python3.7/dist-packages (from explainerdashboard>=0.3.8->pycaret[full]) (2.0.3)\n",
            "Requirement already satisfied: waitress in /usr/local/lib/python3.7/dist-packages (from explainerdashboard>=0.3.8->pycaret[full]) (2.1.2)\n",
            "Requirement already satisfied: oyaml in /usr/local/lib/python3.7/dist-packages (from explainerdashboard>=0.3.8->pycaret[full]) (1.0)\n",
            "Requirement already satisfied: dash-core-components==2.0.0 in /usr/local/lib/python3.7/dist-packages (from dash[testing]->pycaret[full]) (2.0.0)\n",
            "Requirement already satisfied: dash-table==5.0.0 in /usr/local/lib/python3.7/dist-packages (from dash[testing]->pycaret[full]) (5.0.0)\n",
            "Requirement already satisfied: dash-html-components==2.0.0 in /usr/local/lib/python3.7/dist-packages (from dash[testing]->pycaret[full]) (2.0.0)\n",
            "Requirement already satisfied: flask-compress in /usr/local/lib/python3.7/dist-packages (from dash[testing]->pycaret[full]) (1.13)\n",
            "Requirement already satisfied: colour in /usr/local/lib/python3.7/dist-packages (from dtreeviz>=1.3->explainerdashboard>=0.3.8->pycaret[full]) (0.1.5)\n",
            "Requirement already satisfied: pydantic!=1.7,!=1.7.1,!=1.7.2,!=1.7.3,!=1.8,!=1.8.1,<2.0.0,>=1.6.2 in /usr/local/lib/python3.7/dist-packages (from fastapi>=0.75.0->pycaret[full]) (1.9.2)\n",
            "Requirement already satisfied: starlette==0.20.4 in /usr/local/lib/python3.7/dist-packages (from fastapi>=0.75.0->pycaret[full]) (0.20.4)\n",
            "Requirement already satisfied: anyio<5,>=3.4.0 in /usr/local/lib/python3.7/dist-packages (from starlette==0.20.4->fastapi>=0.75.0->pycaret[full]) (3.6.1)\n",
            "Requirement already satisfied: sniffio>=1.1 in /usr/local/lib/python3.7/dist-packages (from anyio<5,>=3.4.0->starlette==0.20.4->fastapi>=0.75.0->pycaret[full]) (1.3.0)\n",
            "Requirement already satisfied: idna>=2.8 in /usr/local/lib/python3.7/dist-packages (from anyio<5,>=3.4.0->starlette==0.20.4->fastapi>=0.75.0->pycaret[full]) (2.10)\n",
            "Requirement already satisfied: itsdangerous>=2.0 in /usr/local/lib/python3.7/dist-packages (from flask>=2.0.3->pycaret[full]) (2.1.2)\n",
            "Requirement already satisfied: antlr4-python3-runtime<4.10,>=4.9 in /usr/local/lib/python3.7/dist-packages (from fugue~=0.6.6->pycaret[full]) (4.9.3)\n",
            "Requirement already satisfied: triad>=0.6.0 in /usr/local/lib/python3.7/dist-packages (from fugue~=0.6.6->pycaret[full]) (0.6.9)\n",
            "Requirement already satisfied: sqlalchemy in /usr/local/lib/python3.7/dist-packages (from fugue~=0.6.6->pycaret[full]) (1.4.41)\n",
            "Requirement already satisfied: adagio>=0.2.3 in /usr/local/lib/python3.7/dist-packages (from fugue~=0.6.6->pycaret[full]) (0.2.4)\n",
            "Requirement already satisfied: pyarrow>=0.15.1 in /usr/local/lib/python3.7/dist-packages (from fugue~=0.6.6->pycaret[full]) (6.0.1)\n",
            "Requirement already satisfied: qpd>=0.2.6 in /usr/local/lib/python3.7/dist-packages (from fugue~=0.6.6->pycaret[full]) (0.2.7)\n",
            "Requirement already satisfied: h11<0.13,>=0.11 in /usr/local/lib/python3.7/dist-packages (from gradio>=2.8.10->pycaret[full]) (0.12.0)\n",
            "Requirement already satisfied: python-multipart in /usr/local/lib/python3.7/dist-packages (from gradio>=2.8.10->pycaret[full]) (0.0.5)\n",
            "Requirement already satisfied: pycryptodome in /usr/local/lib/python3.7/dist-packages (from gradio>=2.8.10->pycaret[full]) (3.15.0)\n",
            "Requirement already satisfied: aiohttp in /usr/local/lib/python3.7/dist-packages (from gradio>=2.8.10->pycaret[full]) (3.8.3)\n",
            "Requirement already satisfied: httpx in /usr/local/lib/python3.7/dist-packages (from gradio>=2.8.10->pycaret[full]) (1.0.0b0)\n",
            "Requirement already satisfied: pydub in /usr/local/lib/python3.7/dist-packages (from gradio>=2.8.10->pycaret[full]) (0.25.1)\n",
            "Requirement already satisfied: paramiko in /usr/local/lib/python3.7/dist-packages (from gradio>=2.8.10->pycaret[full]) (2.11.0)\n",
            "Requirement already satisfied: markdown-it-py[linkify,plugins] in /usr/local/lib/python3.7/dist-packages (from gradio>=2.8.10->pycaret[full]) (2.1.0)\n",
            "Requirement already satisfied: orjson in /usr/local/lib/python3.7/dist-packages (from gradio>=2.8.10->pycaret[full]) (3.8.0)\n",
            "Requirement already satisfied: ffmpy in /usr/local/lib/python3.7/dist-packages (from gradio>=2.8.10->pycaret[full]) (0.3.0)\n",
            "Requirement already satisfied: websockets in /usr/local/lib/python3.7/dist-packages (from gradio>=2.8.10->pycaret[full]) (10.3)\n",
            "Requirement already satisfied: param<2.0,>=1.9.3 in /usr/local/lib/python3.7/dist-packages (from holoviews>=1.14.6->autoviz>=0.1.36->pycaret[full]) (1.12.2)\n",
            "Requirement already satisfied: pyviz-comms>=0.7.4 in /usr/local/lib/python3.7/dist-packages (from holoviews>=1.14.6->autoviz>=0.1.36->pycaret[full]) (2.2.1)\n",
            "Requirement already satisfied: colorcet in /usr/local/lib/python3.7/dist-packages (from holoviews>=1.14.6->autoviz>=0.1.36->pycaret[full]) (3.0.1)\n",
            "Requirement already satisfied: pyct>=0.4.4 in /usr/local/lib/python3.7/dist-packages (from colorcet->holoviews>=1.14.6->autoviz>=0.1.36->pycaret[full]) (0.4.8)\n",
            "Requirement already satisfied: py4j in /usr/local/lib/python3.7/dist-packages (from hyperopt>=0.2.7->pycaret[full]) (0.10.9.7)\n",
            "Requirement already satisfied: networkx>=2.2 in /usr/local/lib/python3.7/dist-packages (from hyperopt>=0.2.7->pycaret[full]) (2.6.3)\n",
            "Requirement already satisfied: future in /usr/local/lib/python3.7/dist-packages (from hyperopt>=0.2.7->pycaret[full]) (0.16.0)\n",
            "Requirement already satisfied: zipp>=0.5 in /usr/local/lib/python3.7/dist-packages (from importlib-metadata>=4.12.0->pycaret[full]) (3.8.1)\n",
            "Requirement already satisfied: interpret-core[dash,debug,decisiontree,ebm,lime,linear,notebook,plotly,required,sensitivity,shap,skoperules,treeinterpreter]>=0.2.7 in /usr/local/lib/python3.7/dist-packages (from interpret>=0.2.7->pycaret[full]) (0.2.7)\n",
            "Requirement already satisfied: skope-rules>=1.0.1 in /usr/local/lib/python3.7/dist-packages (from interpret-core[dash,debug,decisiontree,ebm,lime,linear,notebook,plotly,required,sensitivity,shap,skoperules,treeinterpreter]>=0.2.7->interpret>=0.2.7->pycaret[full]) (1.0.1)\n",
            "Requirement already satisfied: SALib>=1.3.3 in /usr/local/lib/python3.7/dist-packages (from interpret-core[dash,debug,decisiontree,ebm,lime,linear,notebook,plotly,required,sensitivity,shap,skoperules,treeinterpreter]>=0.2.7->interpret>=0.2.7->pycaret[full]) (1.4.6b1)\n",
            "Requirement already satisfied: treeinterpreter>=0.2.2 in /usr/local/lib/python3.7/dist-packages (from interpret-core[dash,debug,decisiontree,ebm,lime,linear,notebook,plotly,required,sensitivity,shap,skoperules,treeinterpreter]>=0.2.7->interpret>=0.2.7->pycaret[full]) (0.2.3)\n",
            "Requirement already satisfied: dill>=0.2.5 in /usr/local/lib/python3.7/dist-packages (from interpret-core[dash,debug,decisiontree,ebm,lime,linear,notebook,plotly,required,sensitivity,shap,skoperules,treeinterpreter]>=0.2.7->interpret>=0.2.7->pycaret[full]) (0.3.5.1)\n",
            "Requirement already satisfied: dash-cytoscape>=0.1.1 in /usr/local/lib/python3.7/dist-packages (from interpret-core[dash,debug,decisiontree,ebm,lime,linear,notebook,plotly,required,sensitivity,shap,skoperules,treeinterpreter]>=0.2.7->interpret>=0.2.7->pycaret[full]) (0.3.0)\n",
            "Requirement already satisfied: gevent>=1.3.6 in /usr/local/lib/python3.7/dist-packages (from interpret-core[dash,debug,decisiontree,ebm,lime,linear,notebook,plotly,required,sensitivity,shap,skoperules,treeinterpreter]>=0.2.7->interpret>=0.2.7->pycaret[full]) (22.8.0)\n",
            "Requirement already satisfied: lime>=0.1.1.33 in /usr/local/lib/python3.7/dist-packages (from interpret-core[dash,debug,decisiontree,ebm,lime,linear,notebook,plotly,required,sensitivity,shap,skoperules,treeinterpreter]>=0.2.7->interpret>=0.2.7->pycaret[full]) (0.2.0.1)\n",
            "Requirement already satisfied: ipykernel>=5.1.0 in /usr/local/lib/python3.7/dist-packages (from interpret-core[dash,debug,decisiontree,ebm,lime,linear,notebook,plotly,required,sensitivity,shap,skoperules,treeinterpreter]>=0.2.7->interpret>=0.2.7->pycaret[full]) (5.3.4)\n",
            "Requirement already satisfied: zope.event in /usr/local/lib/python3.7/dist-packages (from gevent>=1.3.6->interpret-core[dash,debug,decisiontree,ebm,lime,linear,notebook,plotly,required,sensitivity,shap,skoperules,treeinterpreter]>=0.2.7->interpret>=0.2.7->pycaret[full]) (4.5.0)\n",
            "Requirement already satisfied: zope.interface in /usr/local/lib/python3.7/dist-packages (from gevent>=1.3.6->interpret-core[dash,debug,decisiontree,ebm,lime,linear,notebook,plotly,required,sensitivity,shap,skoperules,treeinterpreter]>=0.2.7->interpret>=0.2.7->pycaret[full]) (5.5.0)\n",
            "Requirement already satisfied: greenlet<2.0,>=1.1.3 in /usr/local/lib/python3.7/dist-packages (from gevent>=1.3.6->interpret-core[dash,debug,decisiontree,ebm,lime,linear,notebook,plotly,required,sensitivity,shap,skoperules,treeinterpreter]>=0.2.7->interpret>=0.2.7->pycaret[full]) (1.1.3)\n",
            "Requirement already satisfied: setuptools in /usr/local/lib/python3.7/dist-packages (from gevent>=1.3.6->interpret-core[dash,debug,decisiontree,ebm,lime,linear,notebook,plotly,required,sensitivity,shap,skoperules,treeinterpreter]>=0.2.7->interpret>=0.2.7->pycaret[full]) (57.4.0)\n",
            "Requirement already satisfied: jupyter-client in /usr/local/lib/python3.7/dist-packages (from ipykernel>=5.1.0->interpret-core[dash,debug,decisiontree,ebm,lime,linear,notebook,plotly,required,sensitivity,shap,skoperules,treeinterpreter]>=0.2.7->interpret>=0.2.7->pycaret[full]) (6.1.12)\n",
            "Requirement already satisfied: traitlets>=4.1.0 in /usr/local/lib/python3.7/dist-packages (from ipykernel>=5.1.0->interpret-core[dash,debug,decisiontree,ebm,lime,linear,notebook,plotly,required,sensitivity,shap,skoperules,treeinterpreter]>=0.2.7->interpret>=0.2.7->pycaret[full]) (5.1.1)\n",
            "Requirement already satisfied: pexpect in /usr/local/lib/python3.7/dist-packages (from ipython>=5.5.0->pycaret[full]) (4.8.0)\n",
            "Requirement already satisfied: prompt-toolkit<2.1.0,>=2.0.0 in /usr/local/lib/python3.7/dist-packages (from ipython>=5.5.0->pycaret[full]) (2.0.10)\n",
            "Requirement already satisfied: pygments in /usr/local/lib/python3.7/dist-packages (from ipython>=5.5.0->pycaret[full]) (2.6.1)\n",
            "Requirement already satisfied: pickleshare in /usr/local/lib/python3.7/dist-packages (from ipython>=5.5.0->pycaret[full]) (0.7.5)\n",
            "Requirement already satisfied: decorator in /usr/local/lib/python3.7/dist-packages (from ipython>=5.5.0->pycaret[full]) (4.4.2)\n",
            "Requirement already satisfied: jedi>=0.10 in /usr/local/lib/python3.7/dist-packages (from ipython>=5.5.0->pycaret[full]) (0.18.1)\n",
            "Requirement already satisfied: backcall in /usr/local/lib/python3.7/dist-packages (from ipython>=5.5.0->pycaret[full]) (0.2.0)\n",
            "Requirement already satisfied: jupyterlab-widgets>=1.0.0 in /usr/local/lib/python3.7/dist-packages (from ipywidgets>=7.6.5->pycaret[full]) (3.0.3)\n",
            "Requirement already satisfied: ipython-genutils~=0.2.0 in /usr/local/lib/python3.7/dist-packages (from ipywidgets>=7.6.5->pycaret[full]) (0.2.0)\n",
            "Requirement already satisfied: widgetsnbextension~=3.6.0 in /usr/local/lib/python3.7/dist-packages (from ipywidgets>=7.6.5->pycaret[full]) (3.6.1)\n",
            "Requirement already satisfied: parso<0.9.0,>=0.8.0 in /usr/local/lib/python3.7/dist-packages (from jedi>=0.10->ipython>=5.5.0->pycaret[full]) (0.8.3)\n",
            "Requirement already satisfied: wheel in /usr/local/lib/python3.7/dist-packages (from lightgbm>=3.0.0->pycaret[full]) (0.37.1)\n",
            "Requirement already satisfied: scikit-image>=0.12 in /usr/local/lib/python3.7/dist-packages (from lime>=0.1.1.33->interpret-core[dash,debug,decisiontree,ebm,lime,linear,notebook,plotly,required,sensitivity,shap,skoperules,treeinterpreter]>=0.2.7->interpret>=0.2.7->pycaret[full]) (0.18.3)\n",
            "Requirement already satisfied: pyparsing>=2.2.1 in /usr/local/lib/python3.7/dist-packages (from matplotlib>=3.3.0->pycaret[full]) (3.0.9)\n",
            "Requirement already satisfied: fonttools>=4.22.0 in /usr/local/lib/python3.7/dist-packages (from matplotlib>=3.3.0->pycaret[full]) (4.37.4)\n",
            "Requirement already satisfied: kiwisolver>=1.0.1 in /usr/local/lib/python3.7/dist-packages (from matplotlib>=3.3.0->pycaret[full]) (1.4.4)\n",
            "Requirement already satisfied: cycler>=0.10 in /usr/local/lib/python3.7/dist-packages (from matplotlib>=3.3.0->pycaret[full]) (0.11.0)\n",
            "Requirement already satisfied: querystring-parser<2 in /usr/local/lib/python3.7/dist-packages (from mlflow>=1.24.0->pycaret[full]) (1.2.4)\n",
            "Requirement already satisfied: sqlparse<1,>=0.4.0 in /usr/local/lib/python3.7/dist-packages (from mlflow>=1.24.0->pycaret[full]) (0.4.3)\n",
            "Requirement already satisfied: entrypoints<1 in /usr/local/lib/python3.7/dist-packages (from mlflow>=1.24.0->pycaret[full]) (0.4)\n",
            "Requirement already satisfied: gunicorn<21 in /usr/local/lib/python3.7/dist-packages (from mlflow>=1.24.0->pycaret[full]) (20.1.0)\n",
            "Requirement already satisfied: docker<7,>=4.0.0 in /usr/local/lib/python3.7/dist-packages (from mlflow>=1.24.0->pycaret[full]) (6.0.0)\n",
            "Requirement already satisfied: prometheus-flask-exporter<1 in /usr/local/lib/python3.7/dist-packages (from mlflow>=1.24.0->pycaret[full]) (0.20.3)\n",
            "Requirement already satisfied: alembic<2 in /usr/local/lib/python3.7/dist-packages (from mlflow>=1.24.0->pycaret[full]) (1.8.1)\n",
            "Requirement already satisfied: pytz<2023 in /usr/local/lib/python3.7/dist-packages (from mlflow>=1.24.0->pycaret[full]) (2022.4)\n",
            "Requirement already satisfied: databricks-cli<1,>=0.8.7 in /usr/local/lib/python3.7/dist-packages (from mlflow>=1.24.0->pycaret[full]) (0.17.3)\n",
            "Requirement already satisfied: gitpython<4,>=2.1.0 in /usr/local/lib/python3.7/dist-packages (from mlflow>=1.24.0->pycaret[full]) (3.1.28)\n",
            "Requirement already satisfied: importlib-resources in /usr/local/lib/python3.7/dist-packages (from alembic<2->mlflow>=1.24.0->pycaret[full]) (5.9.0)\n",
            "Requirement already satisfied: Mako in /usr/local/lib/python3.7/dist-packages (from alembic<2->mlflow>=1.24.0->pycaret[full]) (1.2.3)\n",
            "Requirement already satisfied: pyjwt>=1.7.0 in /usr/local/lib/python3.7/dist-packages (from databricks-cli<1,>=0.8.7->mlflow>=1.24.0->pycaret[full]) (2.5.0)\n",
            "Requirement already satisfied: tabulate>=0.7.7 in /usr/local/lib/python3.7/dist-packages (from databricks-cli<1,>=0.8.7->mlflow>=1.24.0->pycaret[full]) (0.8.10)\n",
            "Requirement already satisfied: oauthlib>=3.1.0 in /usr/local/lib/python3.7/dist-packages (from databricks-cli<1,>=0.8.7->mlflow>=1.24.0->pycaret[full]) (3.2.1)\n",
            "Requirement already satisfied: websocket-client>=0.32.0 in /usr/local/lib/python3.7/dist-packages (from docker<7,>=4.0.0->mlflow>=1.24.0->pycaret[full]) (1.4.1)\n",
            "Requirement already satisfied: gitdb<5,>=4.0.1 in /usr/local/lib/python3.7/dist-packages (from gitpython<4,>=2.1.0->mlflow>=1.24.0->pycaret[full]) (4.0.9)\n",
            "Requirement already satisfied: smmap<6,>=3.0.1 in /usr/local/lib/python3.7/dist-packages (from gitdb<5,>=4.0.1->gitpython<4,>=2.1.0->mlflow>=1.24.0->pycaret[full]) (5.0.0)\n",
            "Requirement already satisfied: responses>=0.13.0 in /usr/local/lib/python3.7/dist-packages (from moto>=3.0.7->pycaret[full]) (0.21.0)\n",
            "Requirement already satisfied: cryptography>=3.3.1 in /usr/local/lib/python3.7/dist-packages (from moto>=3.0.7->pycaret[full]) (38.0.1)\n",
            "Requirement already satisfied: xmltodict in /usr/local/lib/python3.7/dist-packages (from moto>=3.0.7->pycaret[full]) (0.13.0)\n",
            "Requirement already satisfied: cffi>=1.12 in /usr/local/lib/python3.7/dist-packages (from cryptography>=3.3.1->moto>=3.0.7->pycaret[full]) (1.15.1)\n",
            "Requirement already satisfied: pycparser in /usr/local/lib/python3.7/dist-packages (from cffi>=1.12->cryptography>=3.3.1->moto>=3.0.7->pycaret[full]) (2.21)\n",
            "Requirement already satisfied: llvmlite<0.39,>=0.38.0rc1 in /usr/local/lib/python3.7/dist-packages (from numba~=0.55.0->pycaret[full]) (0.38.1)\n",
            "Requirement already satisfied: cmaes>=0.8.2 in /usr/local/lib/python3.7/dist-packages (from optuna>=2.2.0->pycaret[full]) (0.8.2)\n",
            "Requirement already satisfied: colorlog in /usr/local/lib/python3.7/dist-packages (from optuna>=2.2.0->pycaret[full]) (6.7.0)\n",
            "Requirement already satisfied: cliff in /usr/local/lib/python3.7/dist-packages (from optuna>=2.2.0->pycaret[full]) (3.10.1)\n",
            "Requirement already satisfied: visions[type_image_path]==0.7.5 in /usr/local/lib/python3.7/dist-packages (from pandas-profiling>=3.1.0->pycaret[full]) (0.7.5)\n",
            "Requirement already satisfied: multimethod<1.9,>=1.4 in /usr/local/lib/python3.7/dist-packages (from pandas-profiling>=3.1.0->pycaret[full]) (1.8)\n",
            "Requirement already satisfied: tangled-up-in-unicode==0.2.0 in /usr/local/lib/python3.7/dist-packages (from pandas-profiling>=3.1.0->pycaret[full]) (0.2.0)\n",
            "Requirement already satisfied: htmlmin==0.1.12 in /usr/local/lib/python3.7/dist-packages (from pandas-profiling>=3.1.0->pycaret[full]) (0.1.12)\n",
            "Requirement already satisfied: phik<0.13,>=0.11.1 in /usr/local/lib/python3.7/dist-packages (from pandas-profiling>=3.1.0->pycaret[full]) (0.12.2)\n",
            "Requirement already satisfied: missingno<0.6,>=0.4.2 in /usr/local/lib/python3.7/dist-packages (from pandas-profiling>=3.1.0->pycaret[full]) (0.5.1)\n",
            "Requirement already satisfied: attrs>=19.3.0 in /usr/local/lib/python3.7/dist-packages (from visions[type_image_path]==0.7.5->pandas-profiling>=3.1.0->pycaret[full]) (22.1.0)\n",
            "Requirement already satisfied: imagehash in /usr/local/lib/python3.7/dist-packages (from visions[type_image_path]==0.7.5->pandas-profiling>=3.1.0->pycaret[full]) (4.3.1)\n",
            "Requirement already satisfied: bleach in /usr/local/lib/python3.7/dist-packages (from panel~=0.12.6->autoviz>=0.1.36->pycaret[full]) (5.0.1)\n",
            "Requirement already satisfied: markdown in /usr/local/lib/python3.7/dist-packages (from panel~=0.12.6->autoviz>=0.1.36->pycaret[full]) (3.4.1)\n",
            "Requirement already satisfied: locket in /usr/local/lib/python3.7/dist-packages (from partd>=0.3.10->dask[dataframe]>=2022.2.0->pycaret[full]) (1.0.0)\n",
            "Requirement already satisfied: tenacity>=6.2.0 in /usr/local/lib/python3.7/dist-packages (from plotly>=5.0.0->pycaret[full]) (8.1.0)\n",
            "Requirement already satisfied: Flask-Cors<4.0.0,>=3.0.10 in /usr/local/lib/python3.7/dist-packages (from plotly-resampler>=0.7.2.2->pycaret[full]) (3.0.10)\n",
            "Requirement already satisfied: trace-updater>=0.0.8 in /usr/local/lib/python3.7/dist-packages (from plotly-resampler>=0.7.2.2->pycaret[full]) (0.0.8)\n",
            "Requirement already satisfied: nest-asyncio in /usr/local/lib/python3.7/dist-packages (from jupyter-dash->explainerdashboard>=0.3.8->pycaret[full]) (1.5.6)\n",
            "Requirement already satisfied: ansi2html in /usr/local/lib/python3.7/dist-packages (from jupyter-dash->explainerdashboard>=0.3.8->pycaret[full]) (1.8.0)\n",
            "Requirement already satisfied: retrying in /usr/local/lib/python3.7/dist-packages (from jupyter-dash->explainerdashboard>=0.3.8->pycaret[full]) (1.3.3)\n",
            "Requirement already satisfied: Cython!=0.29.18,>=0.29 in /usr/local/lib/python3.7/dist-packages (from pmdarima!=1.8.1,<2.0.0,>=1.8.0->pycaret[full]) (0.29.32)\n",
            "Requirement already satisfied: prometheus-client in /usr/local/lib/python3.7/dist-packages (from prometheus-flask-exporter<1->mlflow>=1.24.0->pycaret[full]) (0.14.1)\n",
            "Requirement already satisfied: wcwidth in /usr/local/lib/python3.7/dist-packages (from prompt-toolkit<2.1.0,>=2.0.0->ipython>=5.5.0->pycaret[full]) (0.2.5)\n",
            "Requirement already satisfied: pluggy<2.0,>=0.12 in /usr/local/lib/python3.7/dist-packages (from pytest>=7.0.1->pycaret[full]) (1.0.0)\n",
            "Requirement already satisfied: py>=1.8.2 in /usr/local/lib/python3.7/dist-packages (from pytest>=7.0.1->pycaret[full]) (1.11.0)\n",
            "Requirement already satisfied: tomli>=1.0.0 in /usr/local/lib/python3.7/dist-packages (from pytest>=7.0.1->pycaret[full]) (2.0.1)\n",
            "Requirement already satisfied: iniconfig in /usr/local/lib/python3.7/dist-packages (from pytest>=7.0.1->pycaret[full]) (1.1.1)\n",
            "Requirement already satisfied: grpcio<=1.43.0,>=1.28.1 in /usr/local/lib/python3.7/dist-packages (from ray[tune]>=1.0.0->pycaret[full]) (1.43.0)\n",
            "Requirement already satisfied: jsonschema in /usr/local/lib/python3.7/dist-packages (from ray[tune]>=1.0.0->pycaret[full]) (4.3.3)\n",
            "Requirement already satisfied: frozenlist in /usr/local/lib/python3.7/dist-packages (from ray[tune]>=1.0.0->pycaret[full]) (1.3.1)\n",
            "Requirement already satisfied: virtualenv in /usr/local/lib/python3.7/dist-packages (from ray[tune]>=1.0.0->pycaret[full]) (20.16.5)\n",
            "Requirement already satisfied: msgpack<2.0.0,>=1.0.0 in /usr/local/lib/python3.7/dist-packages (from ray[tune]>=1.0.0->pycaret[full]) (1.0.4)\n",
            "Requirement already satisfied: aiosignal in /usr/local/lib/python3.7/dist-packages (from ray[tune]>=1.0.0->pycaret[full]) (1.2.0)\n",
            "Requirement already satisfied: filelock in /usr/local/lib/python3.7/dist-packages (from ray[tune]>=1.0.0->pycaret[full]) (3.8.0)\n",
            "Requirement already satisfied: tensorboardX>=1.9 in /usr/local/lib/python3.7/dist-packages (from ray[tune]>=1.0.0->pycaret[full]) (2.5.1)\n",
            "Requirement already satisfied: certifi>=2017.4.17 in /usr/local/lib/python3.7/dist-packages (from requests>=2.27.1->pycaret[full]) (2022.9.24)\n",
            "Requirement already satisfied: charset-normalizer<3,>=2 in /usr/local/lib/python3.7/dist-packages (from requests>=2.27.1->pycaret[full]) (2.1.1)\n",
            "Requirement already satisfied: pathos in /usr/local/lib/python3.7/dist-packages (from SALib>=1.3.3->interpret-core[dash,debug,decisiontree,ebm,lime,linear,notebook,plotly,required,sensitivity,shap,skoperules,treeinterpreter]>=0.2.7->interpret>=0.2.7->pycaret[full]) (0.2.9)\n",
            "Requirement already satisfied: tifffile>=2019.7.26 in /usr/local/lib/python3.7/dist-packages (from scikit-image>=0.12->lime>=0.1.1.33->interpret-core[dash,debug,decisiontree,ebm,lime,linear,notebook,plotly,required,sensitivity,shap,skoperules,treeinterpreter]>=0.2.7->interpret>=0.2.7->pycaret[full]) (2021.11.2)\n",
            "Requirement already satisfied: imageio>=2.3.0 in /usr/local/lib/python3.7/dist-packages (from scikit-image>=0.12->lime>=0.1.1.33->interpret-core[dash,debug,decisiontree,ebm,lime,linear,notebook,plotly,required,sensitivity,shap,skoperules,treeinterpreter]>=0.2.7->interpret>=0.2.7->pycaret[full]) (2.9.0)\n",
            "Requirement already satisfied: PyWavelets>=1.1.1 in /usr/local/lib/python3.7/dist-packages (from scikit-image>=0.12->lime>=0.1.1.33->interpret-core[dash,debug,decisiontree,ebm,lime,linear,notebook,plotly,required,sensitivity,shap,skoperules,treeinterpreter]>=0.2.7->interpret>=0.2.7->pycaret[full]) (1.3.0)\n",
            "Requirement already satisfied: threadpoolctl>=2.0.0 in /usr/local/lib/python3.7/dist-packages (from scikit-learn>=1.0->pycaret[full]) (3.1.0)\n",
            "Requirement already satisfied: daal4py==2021.6.3 in /usr/local/lib/python3.7/dist-packages (from scikit-learn-intelex>=2021.6.3->pycaret[full]) (2021.6.3)\n",
            "Requirement already satisfied: daal==2021.6.0 in /usr/local/lib/python3.7/dist-packages (from daal4py==2021.6.3->scikit-learn-intelex>=2021.6.3->pycaret[full]) (2021.6.0)\n",
            "Requirement already satisfied: tbb==2021.* in /usr/local/lib/python3.7/dist-packages (from daal==2021.6.0->daal4py==2021.6.3->scikit-learn-intelex>=2021.6.3->pycaret[full]) (2021.7.0)\n",
            "Requirement already satisfied: pyaml>=16.9 in /usr/local/lib/python3.7/dist-packages (from scikit-optimize>=0.9.0->pycaret[full]) (21.10.1)\n",
            "Requirement already satisfied: slicer==0.0.7 in /usr/local/lib/python3.7/dist-packages (from shap>=0.38.0->pycaret[full]) (0.0.7)\n",
            "Requirement already satisfied: deprecated>=1.2.13 in /usr/local/lib/python3.7/dist-packages (from sktime~=0.13.2->pycaret[full]) (1.2.13)\n",
            "Requirement already satisfied: wrapt<2,>=1.10 in /usr/local/lib/python3.7/dist-packages (from deprecated>=1.2.13->sktime~=0.13.2->pycaret[full]) (1.14.1)\n",
            "Requirement already satisfied: fs in /usr/local/lib/python3.7/dist-packages (from triad>=0.6.0->fugue~=0.6.6->pycaret[full]) (2.4.16)\n",
            "Requirement already satisfied: pynndescent>=0.5 in /usr/local/lib/python3.7/dist-packages (from umap-learn>=0.5.2->pycaret[full]) (0.5.7)\n",
            "Requirement already satisfied: notebook>=4.4.1 in /usr/local/lib/python3.7/dist-packages (from widgetsnbextension~=3.6.0->ipywidgets>=7.6.5->pycaret[full]) (5.3.1)\n",
            "Requirement already satisfied: Send2Trash in /usr/local/lib/python3.7/dist-packages (from notebook>=4.4.1->widgetsnbextension~=3.6.0->ipywidgets>=7.6.5->pycaret[full]) (1.8.0)\n",
            "Requirement already satisfied: jupyter-core>=4.4.0 in /usr/local/lib/python3.7/dist-packages (from notebook>=4.4.1->widgetsnbextension~=3.6.0->ipywidgets>=7.6.5->pycaret[full]) (4.11.1)\n",
            "Requirement already satisfied: terminado>=0.8.1 in /usr/local/lib/python3.7/dist-packages (from notebook>=4.4.1->widgetsnbextension~=3.6.0->ipywidgets>=7.6.5->pycaret[full]) (0.13.3)\n",
            "Requirement already satisfied: nbformat in /usr/local/lib/python3.7/dist-packages (from notebook>=4.4.1->widgetsnbextension~=3.6.0->ipywidgets>=7.6.5->pycaret[full]) (5.6.1)\n",
            "Requirement already satisfied: nbconvert in /usr/local/lib/python3.7/dist-packages (from notebook>=4.4.1->widgetsnbextension~=3.6.0->ipywidgets>=7.6.5->pycaret[full]) (5.6.1)\n",
            "Requirement already satisfied: pyzmq>=13 in /usr/local/lib/python3.7/dist-packages (from jupyter-client->ipykernel>=5.1.0->interpret-core[dash,debug,decisiontree,ebm,lime,linear,notebook,plotly,required,sensitivity,shap,skoperules,treeinterpreter]>=0.2.7->interpret>=0.2.7->pycaret[full]) (23.2.1)\n",
            "Requirement already satisfied: ptyprocess in /usr/local/lib/python3.7/dist-packages (from terminado>=0.8.1->notebook>=4.4.1->widgetsnbextension~=3.6.0->ipywidgets>=7.6.5->pycaret[full]) (0.7.0)\n",
            "Requirement already satisfied: async-timeout<5.0,>=4.0.0a3 in /usr/local/lib/python3.7/dist-packages (from aiohttp->gradio>=2.8.10->pycaret[full]) (4.0.2)\n",
            "Requirement already satisfied: multidict<7.0,>=4.5 in /usr/local/lib/python3.7/dist-packages (from aiohttp->gradio>=2.8.10->pycaret[full]) (6.0.2)\n",
            "Requirement already satisfied: asynctest==0.13.0 in /usr/local/lib/python3.7/dist-packages (from aiohttp->gradio>=2.8.10->pycaret[full]) (0.13.0)\n",
            "Requirement already satisfied: yarl<2.0,>=1.0 in /usr/local/lib/python3.7/dist-packages (from aiohttp->gradio>=2.8.10->pycaret[full]) (1.8.1)\n",
            "Requirement already satisfied: webencodings in /usr/local/lib/python3.7/dist-packages (from bleach->panel~=0.12.6->autoviz>=0.1.36->pycaret[full]) (0.5.1)\n",
            "Requirement already satisfied: PrettyTable>=0.7.2 in /usr/local/lib/python3.7/dist-packages (from cliff->optuna>=2.2.0->pycaret[full]) (3.4.1)\n",
            "Requirement already satisfied: autopage>=0.4.0 in /usr/local/lib/python3.7/dist-packages (from cliff->optuna>=2.2.0->pycaret[full]) (0.5.1)\n",
            "Requirement already satisfied: pbr!=2.1.0,>=2.0.0 in /usr/local/lib/python3.7/dist-packages (from cliff->optuna>=2.2.0->pycaret[full]) (5.10.0)\n",
            "Requirement already satisfied: cmd2>=1.0.0 in /usr/local/lib/python3.7/dist-packages (from cliff->optuna>=2.2.0->pycaret[full]) (2.4.2)\n",
            "Requirement already satisfied: stevedore>=2.0.1 in /usr/local/lib/python3.7/dist-packages (from cliff->optuna>=2.2.0->pycaret[full]) (3.5.0)\n",
            "Requirement already satisfied: pyperclip>=1.6 in /usr/local/lib/python3.7/dist-packages (from cmd2>=1.0.0->cliff->optuna>=2.2.0->pycaret[full]) (1.8.2)\n",
            "Requirement already satisfied: chart-studio>=1.0.0 in /usr/local/lib/python3.7/dist-packages (from dash-auth->explainerdashboard>=0.3.8->pycaret[full]) (1.1.0)\n",
            "Requirement already satisfied: flask-seasurf in /usr/local/lib/python3.7/dist-packages (from dash-auth->explainerdashboard>=0.3.8->pycaret[full]) (1.1.1)\n",
            "Requirement already satisfied: ua-parser in /usr/local/lib/python3.7/dist-packages (from dash-auth->explainerdashboard>=0.3.8->pycaret[full]) (0.16.1)\n",
            "Requirement already satisfied: selenium<=4.2.0,>=3.141.0 in /usr/local/lib/python3.7/dist-packages (from dash[testing]->pycaret[full]) (4.2.0)\n",
            "Requirement already satisfied: multiprocess>=0.70.12 in /usr/local/lib/python3.7/dist-packages (from dash[testing]->pycaret[full]) (0.70.13)\n",
            "Requirement already satisfied: percy>=2.0.2 in /usr/local/lib/python3.7/dist-packages (from dash[testing]->pycaret[full]) (2.0.2)\n",
            "Requirement already satisfied: beautifulsoup4>=4.8.2 in /usr/local/lib/python3.7/dist-packages (from dash[testing]->pycaret[full]) (4.11.1)\n",
            "Requirement already satisfied: lxml>=4.6.2 in /usr/local/lib/python3.7/dist-packages (from dash[testing]->pycaret[full]) (4.9.1)\n",
            "Requirement already satisfied: soupsieve>1.2 in /usr/local/lib/python3.7/dist-packages (from beautifulsoup4>=4.8.2->dash[testing]->pycaret[full]) (2.3.2.post1)\n",
            "Requirement already satisfied: trio~=0.17 in /usr/local/lib/python3.7/dist-packages (from selenium<=4.2.0,>=3.141.0->dash[testing]->pycaret[full]) (0.22.0)\n",
            "Requirement already satisfied: trio-websocket~=0.9 in /usr/local/lib/python3.7/dist-packages (from selenium<=4.2.0,>=3.141.0->dash[testing]->pycaret[full]) (0.9.2)\n",
            "Requirement already satisfied: exceptiongroup>=1.0.0rc9 in /usr/local/lib/python3.7/dist-packages (from trio~=0.17->selenium<=4.2.0,>=3.141.0->dash[testing]->pycaret[full]) (1.0.0rc9)\n",
            "Requirement already satisfied: sortedcontainers in /usr/local/lib/python3.7/dist-packages (from trio~=0.17->selenium<=4.2.0,>=3.141.0->dash[testing]->pycaret[full]) (2.4.0)\n",
            "Requirement already satisfied: async-generator>=1.9 in /usr/local/lib/python3.7/dist-packages (from trio~=0.17->selenium<=4.2.0,>=3.141.0->dash[testing]->pycaret[full]) (1.10)\n",
            "Requirement already satisfied: outcome in /usr/local/lib/python3.7/dist-packages (from trio~=0.17->selenium<=4.2.0,>=3.141.0->dash[testing]->pycaret[full]) (1.2.0)\n",
            "Requirement already satisfied: wsproto>=0.14 in /usr/local/lib/python3.7/dist-packages (from trio-websocket~=0.9->selenium<=4.2.0,>=3.141.0->dash[testing]->pycaret[full]) (1.2.0)\n",
            "Requirement already satisfied: PySocks!=1.5.7,<2.0,>=1.5.6 in /usr/local/lib/python3.7/dist-packages (from urllib3<1.27,>=1.25.4->botocore<1.28.0,>=1.27.89->boto3>=1.24.56->pycaret[full]) (1.7.1)\n",
            "Requirement already satisfied: pyOpenSSL>=0.14 in /usr/local/lib/python3.7/dist-packages (from urllib3<1.27,>=1.25.4->botocore<1.28.0,>=1.27.89->boto3>=1.24.56->pycaret[full]) (22.1.0)\n",
            "Requirement already satisfied: urllib3-secure-extra in /usr/local/lib/python3.7/dist-packages (from urllib3<1.27,>=1.25.4->botocore<1.28.0,>=1.27.89->boto3>=1.24.56->pycaret[full]) (0.1.0)\n",
            "Requirement already satisfied: brotli in /usr/local/lib/python3.7/dist-packages (from flask-compress->dash[testing]->pycaret[full]) (1.0.9)\n",
            "Requirement already satisfied: WTForms>=2.1 in /usr/local/lib/python3.7/dist-packages (from flask-simplelogin->explainerdashboard>=0.3.8->pycaret[full]) (3.0.1)\n",
            "Requirement already satisfied: Flask-WTF<0.16.0,>=0.15.1 in /usr/local/lib/python3.7/dist-packages (from flask-simplelogin->explainerdashboard>=0.3.8->pycaret[full]) (0.15.1)\n",
            "Requirement already satisfied: appdirs~=1.4.3 in /usr/local/lib/python3.7/dist-packages (from fs->triad>=0.6.0->fugue~=0.6.6->pycaret[full]) (1.4.4)\n",
            "Requirement already satisfied: rfc3986[idna2008]<2,>=1.3 in /usr/local/lib/python3.7/dist-packages (from httpx->gradio>=2.8.10->pycaret[full]) (1.5.0)\n",
            "Requirement already satisfied: httpcore<0.14.0,>=0.13.3 in /usr/local/lib/python3.7/dist-packages (from httpx->gradio>=2.8.10->pycaret[full]) (0.13.7)\n",
            "Requirement already satisfied: pyrsistent!=0.17.0,!=0.17.1,!=0.17.2,>=0.14.0 in /usr/local/lib/python3.7/dist-packages (from jsonschema->ray[tune]>=1.0.0->pycaret[full]) (0.18.1)\n",
            "Requirement already satisfied: jupyter-console in /usr/local/lib/python3.7/dist-packages (from jupyter->autoviz>=0.1.36->pycaret[full]) (6.1.0)\n",
            "Requirement already satisfied: qtconsole in /usr/local/lib/python3.7/dist-packages (from jupyter->autoviz>=0.1.36->pycaret[full]) (5.3.2)\n",
            "Requirement already satisfied: mdurl~=0.1 in /usr/local/lib/python3.7/dist-packages (from markdown-it-py[linkify,plugins]->gradio>=2.8.10->pycaret[full]) (0.1.2)\n",
            "Requirement already satisfied: linkify-it-py~=1.0 in /usr/local/lib/python3.7/dist-packages (from markdown-it-py[linkify,plugins]->gradio>=2.8.10->pycaret[full]) (1.0.3)\n",
            "Requirement already satisfied: mdit-py-plugins in /usr/local/lib/python3.7/dist-packages (from markdown-it-py[linkify,plugins]->gradio>=2.8.10->pycaret[full]) (0.3.1)\n",
            "Requirement already satisfied: uc-micro-py in /usr/local/lib/python3.7/dist-packages (from linkify-it-py~=1.0->markdown-it-py[linkify,plugins]->gradio>=2.8.10->pycaret[full]) (1.0.1)\n",
            "Requirement already satisfied: mistune<2,>=0.8.1 in /usr/local/lib/python3.7/dist-packages (from nbconvert->notebook>=4.4.1->widgetsnbextension~=3.6.0->ipywidgets>=7.6.5->pycaret[full]) (0.8.4)\n",
            "Requirement already satisfied: defusedxml in /usr/local/lib/python3.7/dist-packages (from nbconvert->notebook>=4.4.1->widgetsnbextension~=3.6.0->ipywidgets>=7.6.5->pycaret[full]) (0.7.1)\n",
            "Requirement already satisfied: testpath in /usr/local/lib/python3.7/dist-packages (from nbconvert->notebook>=4.4.1->widgetsnbextension~=3.6.0->ipywidgets>=7.6.5->pycaret[full]) (0.6.0)\n",
            "Requirement already satisfied: pandocfilters>=1.4.1 in /usr/local/lib/python3.7/dist-packages (from nbconvert->notebook>=4.4.1->widgetsnbextension~=3.6.0->ipywidgets>=7.6.5->pycaret[full]) (1.5.0)\n",
            "Requirement already satisfied: fastjsonschema in /usr/local/lib/python3.7/dist-packages (from nbformat->notebook>=4.4.1->widgetsnbextension~=3.6.0->ipywidgets>=7.6.5->pycaret[full]) (2.16.2)\n",
            "Requirement already satisfied: regex>=2021.8.3 in /usr/local/lib/python3.7/dist-packages (from nltk->autoviz>=0.1.36->pycaret[full]) (2022.6.2)\n",
            "Requirement already satisfied: bcrypt>=3.1.3 in /usr/local/lib/python3.7/dist-packages (from paramiko->gradio>=2.8.10->pycaret[full]) (4.0.1)\n",
            "Requirement already satisfied: pynacl>=1.0.1 in /usr/local/lib/python3.7/dist-packages (from paramiko->gradio>=2.8.10->pycaret[full]) (1.5.0)\n",
            "Requirement already satisfied: pox>=0.3.1 in /usr/local/lib/python3.7/dist-packages (from pathos->SALib>=1.3.3->interpret-core[dash,debug,decisiontree,ebm,lime,linear,notebook,plotly,required,sensitivity,shap,skoperules,treeinterpreter]>=0.2.7->interpret>=0.2.7->pycaret[full]) (0.3.1)\n",
            "Requirement already satisfied: ppft>=1.7.6.5 in /usr/local/lib/python3.7/dist-packages (from pathos->SALib>=1.3.3->interpret-core[dash,debug,decisiontree,ebm,lime,linear,notebook,plotly,required,sensitivity,shap,skoperules,treeinterpreter]>=0.2.7->interpret>=0.2.7->pycaret[full]) (1.7.6.5)\n",
            "Requirement already satisfied: qtpy>=2.0.1 in /usr/local/lib/python3.7/dist-packages (from qtconsole->jupyter->autoviz>=0.1.36->pycaret[full]) (2.2.1)\n",
            "Requirement already satisfied: distlib<1,>=0.3.5 in /usr/local/lib/python3.7/dist-packages (from virtualenv->ray[tune]>=1.0.0->pycaret[full]) (0.3.6)\n",
            "Requirement already satisfied: platformdirs<3,>=2.4 in /usr/local/lib/python3.7/dist-packages (from virtualenv->ray[tune]>=1.0.0->pycaret[full]) (2.5.2)\n"
          ]
        }
      ]
    },
    {
      "cell_type": "markdown",
      "metadata": {
        "id": "aFDMU-W_5qMZ"
      },
      "source": [
        "## **Habilitando bibliotecas necesarias**"
      ]
    },
    {
      "cell_type": "markdown",
      "metadata": {
        "id": "LmVSWh0aMaQc"
      },
      "source": [
        "### **Para el tratamiento de los datos**"
      ]
    },
    {
      "cell_type": "code",
      "metadata": {
        "id": "ws0qZHpS3WUG"
      },
      "source": [
        "import pandas as pd\n",
        "import numpy as np"
      ],
      "execution_count": 2,
      "outputs": []
    },
    {
      "cell_type": "markdown",
      "source": [
        "### **PyCaret**"
      ],
      "metadata": {
        "id": "zKRVLek_KeAf"
      }
    },
    {
      "cell_type": "code",
      "source": [
        "from pycaret.clustering import *"
      ],
      "metadata": {
        "id": "YkYalBUhKgnN"
      },
      "execution_count": 3,
      "outputs": []
    },
    {
      "cell_type": "markdown",
      "metadata": {
        "id": "QhP9QDanakVE"
      },
      "source": [
        "## **Extracción de Datos - Creación del DataFrame**"
      ]
    },
    {
      "cell_type": "markdown",
      "metadata": {
        "id": "rbXC-iIj5jeO"
      },
      "source": [
        "El dataframe contiene 5 variables y 400 observaciones. \n",
        "\n",
        "Las variables indican:\n",
        "- **ID:** La identificación del cliente\n",
        "- **Trabajo:** Corresponde 1 cuando es dependiente y 0 cuando es independiente\n",
        "- **Edad:** La edad del cliente\n",
        "- **Salario:** El salario estimado del cliente\n",
        "- **Compra:** Si, cuando el cliente ha comprado y no cuando no lo ha hecho.\n",
        "\n",
        "Pero para el desarrollo del algoritmo se simplificara a un problema bidimensional, seleccionando las variables de edad y salario."
      ]
    },
    {
      "cell_type": "code",
      "metadata": {
        "id": "G8vmNkoHasus"
      },
      "source": [
        "datos = \"https://raw.githubusercontent.com/cristiandarioortegayubro/BA/main/Datasets/Clientes.csv\""
      ],
      "execution_count": 4,
      "outputs": []
    },
    {
      "cell_type": "code",
      "metadata": {
        "colab": {
          "base_uri": "https://localhost:8080/",
          "height": 204
        },
        "id": "w1CY0Bo-b1Nh",
        "outputId": "a169ab10-ebfe-4da4-ce5e-4b626eb8d097"
      },
      "source": [
        "datos = pd.read_csv(datos)\n",
        "datos.head()"
      ],
      "execution_count": 5,
      "outputs": [
        {
          "output_type": "execute_result",
          "data": {
            "text/plain": [
              "         ID  Trabajo  Edad  Salario Compra\n",
              "0  15624510        1    19    19000     No\n",
              "1  15810944        1    35    20000     No\n",
              "2  15668575        0    26    43000     No\n",
              "3  15603246        0    27    57000     No\n",
              "4  15804002        1    19    76000     No"
            ],
            "text/html": [
              "\n",
              "  <div id=\"df-2f141e39-2a11-454b-a3a1-f1bcdf468370\">\n",
              "    <div class=\"colab-df-container\">\n",
              "      <div>\n",
              "<style scoped>\n",
              "    .dataframe tbody tr th:only-of-type {\n",
              "        vertical-align: middle;\n",
              "    }\n",
              "\n",
              "    .dataframe tbody tr th {\n",
              "        vertical-align: top;\n",
              "    }\n",
              "\n",
              "    .dataframe thead th {\n",
              "        text-align: right;\n",
              "    }\n",
              "</style>\n",
              "<table border=\"1\" class=\"dataframe\">\n",
              "  <thead>\n",
              "    <tr style=\"text-align: right;\">\n",
              "      <th></th>\n",
              "      <th>ID</th>\n",
              "      <th>Trabajo</th>\n",
              "      <th>Edad</th>\n",
              "      <th>Salario</th>\n",
              "      <th>Compra</th>\n",
              "    </tr>\n",
              "  </thead>\n",
              "  <tbody>\n",
              "    <tr>\n",
              "      <th>0</th>\n",
              "      <td>15624510</td>\n",
              "      <td>1</td>\n",
              "      <td>19</td>\n",
              "      <td>19000</td>\n",
              "      <td>No</td>\n",
              "    </tr>\n",
              "    <tr>\n",
              "      <th>1</th>\n",
              "      <td>15810944</td>\n",
              "      <td>1</td>\n",
              "      <td>35</td>\n",
              "      <td>20000</td>\n",
              "      <td>No</td>\n",
              "    </tr>\n",
              "    <tr>\n",
              "      <th>2</th>\n",
              "      <td>15668575</td>\n",
              "      <td>0</td>\n",
              "      <td>26</td>\n",
              "      <td>43000</td>\n",
              "      <td>No</td>\n",
              "    </tr>\n",
              "    <tr>\n",
              "      <th>3</th>\n",
              "      <td>15603246</td>\n",
              "      <td>0</td>\n",
              "      <td>27</td>\n",
              "      <td>57000</td>\n",
              "      <td>No</td>\n",
              "    </tr>\n",
              "    <tr>\n",
              "      <th>4</th>\n",
              "      <td>15804002</td>\n",
              "      <td>1</td>\n",
              "      <td>19</td>\n",
              "      <td>76000</td>\n",
              "      <td>No</td>\n",
              "    </tr>\n",
              "  </tbody>\n",
              "</table>\n",
              "</div>\n",
              "      <button class=\"colab-df-convert\" onclick=\"convertToInteractive('df-2f141e39-2a11-454b-a3a1-f1bcdf468370')\"\n",
              "              title=\"Convert this dataframe to an interactive table.\"\n",
              "              style=\"display:none;\">\n",
              "        \n",
              "  <svg xmlns=\"http://www.w3.org/2000/svg\" height=\"24px\"viewBox=\"0 0 24 24\"\n",
              "       width=\"24px\">\n",
              "    <path d=\"M0 0h24v24H0V0z\" fill=\"none\"/>\n",
              "    <path d=\"M18.56 5.44l.94 2.06.94-2.06 2.06-.94-2.06-.94-.94-2.06-.94 2.06-2.06.94zm-11 1L8.5 8.5l.94-2.06 2.06-.94-2.06-.94L8.5 2.5l-.94 2.06-2.06.94zm10 10l.94 2.06.94-2.06 2.06-.94-2.06-.94-.94-2.06-.94 2.06-2.06.94z\"/><path d=\"M17.41 7.96l-1.37-1.37c-.4-.4-.92-.59-1.43-.59-.52 0-1.04.2-1.43.59L10.3 9.45l-7.72 7.72c-.78.78-.78 2.05 0 2.83L4 21.41c.39.39.9.59 1.41.59.51 0 1.02-.2 1.41-.59l7.78-7.78 2.81-2.81c.8-.78.8-2.07 0-2.86zM5.41 20L4 18.59l7.72-7.72 1.47 1.35L5.41 20z\"/>\n",
              "  </svg>\n",
              "      </button>\n",
              "      \n",
              "  <style>\n",
              "    .colab-df-container {\n",
              "      display:flex;\n",
              "      flex-wrap:wrap;\n",
              "      gap: 12px;\n",
              "    }\n",
              "\n",
              "    .colab-df-convert {\n",
              "      background-color: #E8F0FE;\n",
              "      border: none;\n",
              "      border-radius: 50%;\n",
              "      cursor: pointer;\n",
              "      display: none;\n",
              "      fill: #1967D2;\n",
              "      height: 32px;\n",
              "      padding: 0 0 0 0;\n",
              "      width: 32px;\n",
              "    }\n",
              "\n",
              "    .colab-df-convert:hover {\n",
              "      background-color: #E2EBFA;\n",
              "      box-shadow: 0px 1px 2px rgba(60, 64, 67, 0.3), 0px 1px 3px 1px rgba(60, 64, 67, 0.15);\n",
              "      fill: #174EA6;\n",
              "    }\n",
              "\n",
              "    [theme=dark] .colab-df-convert {\n",
              "      background-color: #3B4455;\n",
              "      fill: #D2E3FC;\n",
              "    }\n",
              "\n",
              "    [theme=dark] .colab-df-convert:hover {\n",
              "      background-color: #434B5C;\n",
              "      box-shadow: 0px 1px 3px 1px rgba(0, 0, 0, 0.15);\n",
              "      filter: drop-shadow(0px 1px 2px rgba(0, 0, 0, 0.3));\n",
              "      fill: #FFFFFF;\n",
              "    }\n",
              "  </style>\n",
              "\n",
              "      <script>\n",
              "        const buttonEl =\n",
              "          document.querySelector('#df-2f141e39-2a11-454b-a3a1-f1bcdf468370 button.colab-df-convert');\n",
              "        buttonEl.style.display =\n",
              "          google.colab.kernel.accessAllowed ? 'block' : 'none';\n",
              "\n",
              "        async function convertToInteractive(key) {\n",
              "          const element = document.querySelector('#df-2f141e39-2a11-454b-a3a1-f1bcdf468370');\n",
              "          const dataTable =\n",
              "            await google.colab.kernel.invokeFunction('convertToInteractive',\n",
              "                                                     [key], {});\n",
              "          if (!dataTable) return;\n",
              "\n",
              "          const docLinkHtml = 'Like what you see? Visit the ' +\n",
              "            '<a target=\"_blank\" href=https://colab.research.google.com/notebooks/data_table.ipynb>data table notebook</a>'\n",
              "            + ' to learn more about interactive tables.';\n",
              "          element.innerHTML = '';\n",
              "          dataTable['output_type'] = 'display_data';\n",
              "          await google.colab.output.renderOutput(dataTable, element);\n",
              "          const docLink = document.createElement('div');\n",
              "          docLink.innerHTML = docLinkHtml;\n",
              "          element.appendChild(docLink);\n",
              "        }\n",
              "      </script>\n",
              "    </div>\n",
              "  </div>\n",
              "  "
            ]
          },
          "metadata": {},
          "execution_count": 5
        }
      ]
    },
    {
      "cell_type": "markdown",
      "metadata": {
        "id": "m9pwgoyGmBCW"
      },
      "source": [
        "### **Limpieza**"
      ]
    },
    {
      "cell_type": "code",
      "metadata": {
        "colab": {
          "base_uri": "https://localhost:8080/"
        },
        "id": "J_fVqk_Cx1Us",
        "outputId": "630b688f-57de-4bfe-8b2c-f2aa86b52b23"
      },
      "source": [
        "datos.info()"
      ],
      "execution_count": 6,
      "outputs": [
        {
          "output_type": "stream",
          "name": "stdout",
          "text": [
            "<class 'pandas.core.frame.DataFrame'>\n",
            "RangeIndex: 400 entries, 0 to 399\n",
            "Data columns (total 5 columns):\n",
            " #   Column   Non-Null Count  Dtype \n",
            "---  ------   --------------  ----- \n",
            " 0   ID       400 non-null    int64 \n",
            " 1   Trabajo  400 non-null    int64 \n",
            " 2   Edad     400 non-null    int64 \n",
            " 3   Salario  400 non-null    int64 \n",
            " 4   Compra   400 non-null    object\n",
            "dtypes: int64(4), object(1)\n",
            "memory usage: 15.8+ KB\n"
          ]
        }
      ]
    },
    {
      "cell_type": "code",
      "metadata": {
        "colab": {
          "base_uri": "https://localhost:8080/",
          "height": 142
        },
        "id": "f2UflgLqxhPR",
        "outputId": "5f9371c7-7387-4158-ba1e-a797389bc8b8"
      },
      "source": [
        "datos = datos.drop(columns=[\"ID\",\"Trabajo\",\"Compra\"]) #se eliminan las variables no relevantes para este problema\n",
        "datos.head(3) #vista del dataframe"
      ],
      "execution_count": 7,
      "outputs": [
        {
          "output_type": "execute_result",
          "data": {
            "text/plain": [
              "   Edad  Salario\n",
              "0    19    19000\n",
              "1    35    20000\n",
              "2    26    43000"
            ],
            "text/html": [
              "\n",
              "  <div id=\"df-3438ef94-01e5-4f88-8c72-f8c7c2d83501\">\n",
              "    <div class=\"colab-df-container\">\n",
              "      <div>\n",
              "<style scoped>\n",
              "    .dataframe tbody tr th:only-of-type {\n",
              "        vertical-align: middle;\n",
              "    }\n",
              "\n",
              "    .dataframe tbody tr th {\n",
              "        vertical-align: top;\n",
              "    }\n",
              "\n",
              "    .dataframe thead th {\n",
              "        text-align: right;\n",
              "    }\n",
              "</style>\n",
              "<table border=\"1\" class=\"dataframe\">\n",
              "  <thead>\n",
              "    <tr style=\"text-align: right;\">\n",
              "      <th></th>\n",
              "      <th>Edad</th>\n",
              "      <th>Salario</th>\n",
              "    </tr>\n",
              "  </thead>\n",
              "  <tbody>\n",
              "    <tr>\n",
              "      <th>0</th>\n",
              "      <td>19</td>\n",
              "      <td>19000</td>\n",
              "    </tr>\n",
              "    <tr>\n",
              "      <th>1</th>\n",
              "      <td>35</td>\n",
              "      <td>20000</td>\n",
              "    </tr>\n",
              "    <tr>\n",
              "      <th>2</th>\n",
              "      <td>26</td>\n",
              "      <td>43000</td>\n",
              "    </tr>\n",
              "  </tbody>\n",
              "</table>\n",
              "</div>\n",
              "      <button class=\"colab-df-convert\" onclick=\"convertToInteractive('df-3438ef94-01e5-4f88-8c72-f8c7c2d83501')\"\n",
              "              title=\"Convert this dataframe to an interactive table.\"\n",
              "              style=\"display:none;\">\n",
              "        \n",
              "  <svg xmlns=\"http://www.w3.org/2000/svg\" height=\"24px\"viewBox=\"0 0 24 24\"\n",
              "       width=\"24px\">\n",
              "    <path d=\"M0 0h24v24H0V0z\" fill=\"none\"/>\n",
              "    <path d=\"M18.56 5.44l.94 2.06.94-2.06 2.06-.94-2.06-.94-.94-2.06-.94 2.06-2.06.94zm-11 1L8.5 8.5l.94-2.06 2.06-.94-2.06-.94L8.5 2.5l-.94 2.06-2.06.94zm10 10l.94 2.06.94-2.06 2.06-.94-2.06-.94-.94-2.06-.94 2.06-2.06.94z\"/><path d=\"M17.41 7.96l-1.37-1.37c-.4-.4-.92-.59-1.43-.59-.52 0-1.04.2-1.43.59L10.3 9.45l-7.72 7.72c-.78.78-.78 2.05 0 2.83L4 21.41c.39.39.9.59 1.41.59.51 0 1.02-.2 1.41-.59l7.78-7.78 2.81-2.81c.8-.78.8-2.07 0-2.86zM5.41 20L4 18.59l7.72-7.72 1.47 1.35L5.41 20z\"/>\n",
              "  </svg>\n",
              "      </button>\n",
              "      \n",
              "  <style>\n",
              "    .colab-df-container {\n",
              "      display:flex;\n",
              "      flex-wrap:wrap;\n",
              "      gap: 12px;\n",
              "    }\n",
              "\n",
              "    .colab-df-convert {\n",
              "      background-color: #E8F0FE;\n",
              "      border: none;\n",
              "      border-radius: 50%;\n",
              "      cursor: pointer;\n",
              "      display: none;\n",
              "      fill: #1967D2;\n",
              "      height: 32px;\n",
              "      padding: 0 0 0 0;\n",
              "      width: 32px;\n",
              "    }\n",
              "\n",
              "    .colab-df-convert:hover {\n",
              "      background-color: #E2EBFA;\n",
              "      box-shadow: 0px 1px 2px rgba(60, 64, 67, 0.3), 0px 1px 3px 1px rgba(60, 64, 67, 0.15);\n",
              "      fill: #174EA6;\n",
              "    }\n",
              "\n",
              "    [theme=dark] .colab-df-convert {\n",
              "      background-color: #3B4455;\n",
              "      fill: #D2E3FC;\n",
              "    }\n",
              "\n",
              "    [theme=dark] .colab-df-convert:hover {\n",
              "      background-color: #434B5C;\n",
              "      box-shadow: 0px 1px 3px 1px rgba(0, 0, 0, 0.15);\n",
              "      filter: drop-shadow(0px 1px 2px rgba(0, 0, 0, 0.3));\n",
              "      fill: #FFFFFF;\n",
              "    }\n",
              "  </style>\n",
              "\n",
              "      <script>\n",
              "        const buttonEl =\n",
              "          document.querySelector('#df-3438ef94-01e5-4f88-8c72-f8c7c2d83501 button.colab-df-convert');\n",
              "        buttonEl.style.display =\n",
              "          google.colab.kernel.accessAllowed ? 'block' : 'none';\n",
              "\n",
              "        async function convertToInteractive(key) {\n",
              "          const element = document.querySelector('#df-3438ef94-01e5-4f88-8c72-f8c7c2d83501');\n",
              "          const dataTable =\n",
              "            await google.colab.kernel.invokeFunction('convertToInteractive',\n",
              "                                                     [key], {});\n",
              "          if (!dataTable) return;\n",
              "\n",
              "          const docLinkHtml = 'Like what you see? Visit the ' +\n",
              "            '<a target=\"_blank\" href=https://colab.research.google.com/notebooks/data_table.ipynb>data table notebook</a>'\n",
              "            + ' to learn more about interactive tables.';\n",
              "          element.innerHTML = '';\n",
              "          dataTable['output_type'] = 'display_data';\n",
              "          await google.colab.output.renderOutput(dataTable, element);\n",
              "          const docLink = document.createElement('div');\n",
              "          docLink.innerHTML = docLinkHtml;\n",
              "          element.appendChild(docLink);\n",
              "        }\n",
              "      </script>\n",
              "    </div>\n",
              "  </div>\n",
              "  "
            ]
          },
          "metadata": {},
          "execution_count": 7
        }
      ]
    },
    {
      "cell_type": "code",
      "metadata": {
        "id": "Nvwqcrp-uhAX",
        "colab": {
          "base_uri": "https://localhost:8080/"
        },
        "outputId": "b06fd603-6f12-4ec9-ab82-19dd76d29e0e"
      },
      "source": [
        "datos.shape"
      ],
      "execution_count": 8,
      "outputs": [
        {
          "output_type": "execute_result",
          "data": {
            "text/plain": [
              "(400, 2)"
            ]
          },
          "metadata": {},
          "execution_count": 8
        }
      ]
    },
    {
      "cell_type": "markdown",
      "metadata": {
        "id": "DIGOJB7Vp-TH"
      },
      "source": [
        "### **Dividiendo el conjunto de datos**"
      ]
    },
    {
      "cell_type": "code",
      "metadata": {
        "id": "hmd6P4Vsp9R2"
      },
      "source": [
        "clientes = datos.sample(frac = 0.75, random_state=0)\n",
        "clientes_no_vistos = datos.drop(clientes.index)"
      ],
      "execution_count": 9,
      "outputs": []
    },
    {
      "cell_type": "code",
      "metadata": {
        "id": "Hh4IWze2qfh2"
      },
      "source": [
        "clientes.reset_index(inplace=True, drop=True)\n",
        "clientes_no_vistos.reset_index(inplace=True, drop=True)"
      ],
      "execution_count": 10,
      "outputs": []
    },
    {
      "cell_type": "code",
      "metadata": {
        "colab": {
          "base_uri": "https://localhost:8080/"
        },
        "id": "OvtbkwiFqmNU",
        "outputId": "bab8fb04-9c8b-47aa-e590-97089ad7302f"
      },
      "source": [
        "print(\"Datos para Modelar: \" + str(clientes.shape))\n",
        "print(\"Datos no vistos para Predicciones: \" + str(clientes_no_vistos.shape))"
      ],
      "execution_count": 11,
      "outputs": [
        {
          "output_type": "stream",
          "name": "stdout",
          "text": [
            "Datos para Modelar: (300, 2)\n",
            "Datos no vistos para Predicciones: (100, 2)\n"
          ]
        }
      ]
    },
    {
      "cell_type": "code",
      "metadata": {
        "colab": {
          "base_uri": "https://localhost:8080/",
          "height": 204
        },
        "id": "CDGuy0tGryZC",
        "outputId": "ecbdfe40-eab1-4e90-98b6-9a6b8942aeec"
      },
      "source": [
        "clientes.head()"
      ],
      "execution_count": 12,
      "outputs": [
        {
          "output_type": "execute_result",
          "data": {
            "text/plain": [
              "   Edad  Salario\n",
              "0    30    87000\n",
              "1    38    50000\n",
              "2    35    75000\n",
              "3    30    79000\n",
              "4    35    50000"
            ],
            "text/html": [
              "\n",
              "  <div id=\"df-9bc86b3b-4266-47e4-b6ba-5d004a700c63\">\n",
              "    <div class=\"colab-df-container\">\n",
              "      <div>\n",
              "<style scoped>\n",
              "    .dataframe tbody tr th:only-of-type {\n",
              "        vertical-align: middle;\n",
              "    }\n",
              "\n",
              "    .dataframe tbody tr th {\n",
              "        vertical-align: top;\n",
              "    }\n",
              "\n",
              "    .dataframe thead th {\n",
              "        text-align: right;\n",
              "    }\n",
              "</style>\n",
              "<table border=\"1\" class=\"dataframe\">\n",
              "  <thead>\n",
              "    <tr style=\"text-align: right;\">\n",
              "      <th></th>\n",
              "      <th>Edad</th>\n",
              "      <th>Salario</th>\n",
              "    </tr>\n",
              "  </thead>\n",
              "  <tbody>\n",
              "    <tr>\n",
              "      <th>0</th>\n",
              "      <td>30</td>\n",
              "      <td>87000</td>\n",
              "    </tr>\n",
              "    <tr>\n",
              "      <th>1</th>\n",
              "      <td>38</td>\n",
              "      <td>50000</td>\n",
              "    </tr>\n",
              "    <tr>\n",
              "      <th>2</th>\n",
              "      <td>35</td>\n",
              "      <td>75000</td>\n",
              "    </tr>\n",
              "    <tr>\n",
              "      <th>3</th>\n",
              "      <td>30</td>\n",
              "      <td>79000</td>\n",
              "    </tr>\n",
              "    <tr>\n",
              "      <th>4</th>\n",
              "      <td>35</td>\n",
              "      <td>50000</td>\n",
              "    </tr>\n",
              "  </tbody>\n",
              "</table>\n",
              "</div>\n",
              "      <button class=\"colab-df-convert\" onclick=\"convertToInteractive('df-9bc86b3b-4266-47e4-b6ba-5d004a700c63')\"\n",
              "              title=\"Convert this dataframe to an interactive table.\"\n",
              "              style=\"display:none;\">\n",
              "        \n",
              "  <svg xmlns=\"http://www.w3.org/2000/svg\" height=\"24px\"viewBox=\"0 0 24 24\"\n",
              "       width=\"24px\">\n",
              "    <path d=\"M0 0h24v24H0V0z\" fill=\"none\"/>\n",
              "    <path d=\"M18.56 5.44l.94 2.06.94-2.06 2.06-.94-2.06-.94-.94-2.06-.94 2.06-2.06.94zm-11 1L8.5 8.5l.94-2.06 2.06-.94-2.06-.94L8.5 2.5l-.94 2.06-2.06.94zm10 10l.94 2.06.94-2.06 2.06-.94-2.06-.94-.94-2.06-.94 2.06-2.06.94z\"/><path d=\"M17.41 7.96l-1.37-1.37c-.4-.4-.92-.59-1.43-.59-.52 0-1.04.2-1.43.59L10.3 9.45l-7.72 7.72c-.78.78-.78 2.05 0 2.83L4 21.41c.39.39.9.59 1.41.59.51 0 1.02-.2 1.41-.59l7.78-7.78 2.81-2.81c.8-.78.8-2.07 0-2.86zM5.41 20L4 18.59l7.72-7.72 1.47 1.35L5.41 20z\"/>\n",
              "  </svg>\n",
              "      </button>\n",
              "      \n",
              "  <style>\n",
              "    .colab-df-container {\n",
              "      display:flex;\n",
              "      flex-wrap:wrap;\n",
              "      gap: 12px;\n",
              "    }\n",
              "\n",
              "    .colab-df-convert {\n",
              "      background-color: #E8F0FE;\n",
              "      border: none;\n",
              "      border-radius: 50%;\n",
              "      cursor: pointer;\n",
              "      display: none;\n",
              "      fill: #1967D2;\n",
              "      height: 32px;\n",
              "      padding: 0 0 0 0;\n",
              "      width: 32px;\n",
              "    }\n",
              "\n",
              "    .colab-df-convert:hover {\n",
              "      background-color: #E2EBFA;\n",
              "      box-shadow: 0px 1px 2px rgba(60, 64, 67, 0.3), 0px 1px 3px 1px rgba(60, 64, 67, 0.15);\n",
              "      fill: #174EA6;\n",
              "    }\n",
              "\n",
              "    [theme=dark] .colab-df-convert {\n",
              "      background-color: #3B4455;\n",
              "      fill: #D2E3FC;\n",
              "    }\n",
              "\n",
              "    [theme=dark] .colab-df-convert:hover {\n",
              "      background-color: #434B5C;\n",
              "      box-shadow: 0px 1px 3px 1px rgba(0, 0, 0, 0.15);\n",
              "      filter: drop-shadow(0px 1px 2px rgba(0, 0, 0, 0.3));\n",
              "      fill: #FFFFFF;\n",
              "    }\n",
              "  </style>\n",
              "\n",
              "      <script>\n",
              "        const buttonEl =\n",
              "          document.querySelector('#df-9bc86b3b-4266-47e4-b6ba-5d004a700c63 button.colab-df-convert');\n",
              "        buttonEl.style.display =\n",
              "          google.colab.kernel.accessAllowed ? 'block' : 'none';\n",
              "\n",
              "        async function convertToInteractive(key) {\n",
              "          const element = document.querySelector('#df-9bc86b3b-4266-47e4-b6ba-5d004a700c63');\n",
              "          const dataTable =\n",
              "            await google.colab.kernel.invokeFunction('convertToInteractive',\n",
              "                                                     [key], {});\n",
              "          if (!dataTable) return;\n",
              "\n",
              "          const docLinkHtml = 'Like what you see? Visit the ' +\n",
              "            '<a target=\"_blank\" href=https://colab.research.google.com/notebooks/data_table.ipynb>data table notebook</a>'\n",
              "            + ' to learn more about interactive tables.';\n",
              "          element.innerHTML = '';\n",
              "          dataTable['output_type'] = 'display_data';\n",
              "          await google.colab.output.renderOutput(dataTable, element);\n",
              "          const docLink = document.createElement('div');\n",
              "          docLink.innerHTML = docLinkHtml;\n",
              "          element.appendChild(docLink);\n",
              "        }\n",
              "      </script>\n",
              "    </div>\n",
              "  </div>\n",
              "  "
            ]
          },
          "metadata": {},
          "execution_count": 12
        }
      ]
    },
    {
      "cell_type": "code",
      "metadata": {
        "colab": {
          "base_uri": "https://localhost:8080/",
          "height": 204
        },
        "id": "ZyJClQYEr7Oa",
        "outputId": "505722dd-cc49-47d1-da15-14e82cf21fe0"
      },
      "source": [
        "clientes_no_vistos.head()"
      ],
      "execution_count": 13,
      "outputs": [
        {
          "output_type": "execute_result",
          "data": {
            "text/plain": [
              "   Edad  Salario\n",
              "0    35    65000\n",
              "1    47    20000\n",
              "2    29    43000\n",
              "3    27   137000\n",
              "4    21    16000"
            ],
            "text/html": [
              "\n",
              "  <div id=\"df-18606b9e-820e-4d9b-840c-4338d8ba7c6c\">\n",
              "    <div class=\"colab-df-container\">\n",
              "      <div>\n",
              "<style scoped>\n",
              "    .dataframe tbody tr th:only-of-type {\n",
              "        vertical-align: middle;\n",
              "    }\n",
              "\n",
              "    .dataframe tbody tr th {\n",
              "        vertical-align: top;\n",
              "    }\n",
              "\n",
              "    .dataframe thead th {\n",
              "        text-align: right;\n",
              "    }\n",
              "</style>\n",
              "<table border=\"1\" class=\"dataframe\">\n",
              "  <thead>\n",
              "    <tr style=\"text-align: right;\">\n",
              "      <th></th>\n",
              "      <th>Edad</th>\n",
              "      <th>Salario</th>\n",
              "    </tr>\n",
              "  </thead>\n",
              "  <tbody>\n",
              "    <tr>\n",
              "      <th>0</th>\n",
              "      <td>35</td>\n",
              "      <td>65000</td>\n",
              "    </tr>\n",
              "    <tr>\n",
              "      <th>1</th>\n",
              "      <td>47</td>\n",
              "      <td>20000</td>\n",
              "    </tr>\n",
              "    <tr>\n",
              "      <th>2</th>\n",
              "      <td>29</td>\n",
              "      <td>43000</td>\n",
              "    </tr>\n",
              "    <tr>\n",
              "      <th>3</th>\n",
              "      <td>27</td>\n",
              "      <td>137000</td>\n",
              "    </tr>\n",
              "    <tr>\n",
              "      <th>4</th>\n",
              "      <td>21</td>\n",
              "      <td>16000</td>\n",
              "    </tr>\n",
              "  </tbody>\n",
              "</table>\n",
              "</div>\n",
              "      <button class=\"colab-df-convert\" onclick=\"convertToInteractive('df-18606b9e-820e-4d9b-840c-4338d8ba7c6c')\"\n",
              "              title=\"Convert this dataframe to an interactive table.\"\n",
              "              style=\"display:none;\">\n",
              "        \n",
              "  <svg xmlns=\"http://www.w3.org/2000/svg\" height=\"24px\"viewBox=\"0 0 24 24\"\n",
              "       width=\"24px\">\n",
              "    <path d=\"M0 0h24v24H0V0z\" fill=\"none\"/>\n",
              "    <path d=\"M18.56 5.44l.94 2.06.94-2.06 2.06-.94-2.06-.94-.94-2.06-.94 2.06-2.06.94zm-11 1L8.5 8.5l.94-2.06 2.06-.94-2.06-.94L8.5 2.5l-.94 2.06-2.06.94zm10 10l.94 2.06.94-2.06 2.06-.94-2.06-.94-.94-2.06-.94 2.06-2.06.94z\"/><path d=\"M17.41 7.96l-1.37-1.37c-.4-.4-.92-.59-1.43-.59-.52 0-1.04.2-1.43.59L10.3 9.45l-7.72 7.72c-.78.78-.78 2.05 0 2.83L4 21.41c.39.39.9.59 1.41.59.51 0 1.02-.2 1.41-.59l7.78-7.78 2.81-2.81c.8-.78.8-2.07 0-2.86zM5.41 20L4 18.59l7.72-7.72 1.47 1.35L5.41 20z\"/>\n",
              "  </svg>\n",
              "      </button>\n",
              "      \n",
              "  <style>\n",
              "    .colab-df-container {\n",
              "      display:flex;\n",
              "      flex-wrap:wrap;\n",
              "      gap: 12px;\n",
              "    }\n",
              "\n",
              "    .colab-df-convert {\n",
              "      background-color: #E8F0FE;\n",
              "      border: none;\n",
              "      border-radius: 50%;\n",
              "      cursor: pointer;\n",
              "      display: none;\n",
              "      fill: #1967D2;\n",
              "      height: 32px;\n",
              "      padding: 0 0 0 0;\n",
              "      width: 32px;\n",
              "    }\n",
              "\n",
              "    .colab-df-convert:hover {\n",
              "      background-color: #E2EBFA;\n",
              "      box-shadow: 0px 1px 2px rgba(60, 64, 67, 0.3), 0px 1px 3px 1px rgba(60, 64, 67, 0.15);\n",
              "      fill: #174EA6;\n",
              "    }\n",
              "\n",
              "    [theme=dark] .colab-df-convert {\n",
              "      background-color: #3B4455;\n",
              "      fill: #D2E3FC;\n",
              "    }\n",
              "\n",
              "    [theme=dark] .colab-df-convert:hover {\n",
              "      background-color: #434B5C;\n",
              "      box-shadow: 0px 1px 3px 1px rgba(0, 0, 0, 0.15);\n",
              "      filter: drop-shadow(0px 1px 2px rgba(0, 0, 0, 0.3));\n",
              "      fill: #FFFFFF;\n",
              "    }\n",
              "  </style>\n",
              "\n",
              "      <script>\n",
              "        const buttonEl =\n",
              "          document.querySelector('#df-18606b9e-820e-4d9b-840c-4338d8ba7c6c button.colab-df-convert');\n",
              "        buttonEl.style.display =\n",
              "          google.colab.kernel.accessAllowed ? 'block' : 'none';\n",
              "\n",
              "        async function convertToInteractive(key) {\n",
              "          const element = document.querySelector('#df-18606b9e-820e-4d9b-840c-4338d8ba7c6c');\n",
              "          const dataTable =\n",
              "            await google.colab.kernel.invokeFunction('convertToInteractive',\n",
              "                                                     [key], {});\n",
              "          if (!dataTable) return;\n",
              "\n",
              "          const docLinkHtml = 'Like what you see? Visit the ' +\n",
              "            '<a target=\"_blank\" href=https://colab.research.google.com/notebooks/data_table.ipynb>data table notebook</a>'\n",
              "            + ' to learn more about interactive tables.';\n",
              "          element.innerHTML = '';\n",
              "          dataTable['output_type'] = 'display_data';\n",
              "          await google.colab.output.renderOutput(dataTable, element);\n",
              "          const docLink = document.createElement('div');\n",
              "          docLink.innerHTML = docLinkHtml;\n",
              "          element.appendChild(docLink);\n",
              "        }\n",
              "      </script>\n",
              "    </div>\n",
              "  </div>\n",
              "  "
            ]
          },
          "metadata": {},
          "execution_count": 13
        }
      ]
    },
    {
      "cell_type": "markdown",
      "metadata": {
        "id": "zaIIuDNisDtw"
      },
      "source": [
        "# **Configuración del entorno en PyCaret**"
      ]
    },
    {
      "cell_type": "markdown",
      "metadata": {
        "id": "89QSbNOm6_RP"
      },
      "source": [
        "***La función ```setup()``` inicializa el entorno en PyCaret y prepara los datos para el modelo seleccionado y la implementación de ese modelo. La función ```setup()``` debe ser llamada antes de ejecutar cualquier función de PyCaret.*** \n",
        "\n",
        "***Se necesitan dos parámetros obligatorios:***\n",
        "- Un marco de datos de Pandas y, \n",
        "- el nombre de la columna de destino. \n",
        "\n",
        "***Todos los demás parámetros son opcionales y se utilizan para personalizar el preprocesamiento de los datos.***"
      ]
    },
    {
      "cell_type": "markdown",
      "metadata": {
        "id": "SrtIqTKY7TEy"
      },
      "source": [
        "Cuando se ejecuta ```setup()```, el algoritmo de inferencia de PyCaret determina automáticamente los tipos de datos para todas las funciones en función de determinadas propiedades. \n",
        "\n",
        "El tipo de datos debe inferirse correctamente, pero no siempre es así. Para tener en cuenta esto, PyCaret muestra una tabla que contiene las características y sus tipos de datos inferidos después de que se ejecuta ```setup()```. \n",
        "\n",
        "Si todos los tipos de datos están identificados correctamente, se debe presionar enter para continuar o se puede ingresar salir para finalizar la experiencia. Asegurarse de que los tipos de datos sean correctos es  fundamental, ya que se realiza automáticamente algunas tareas de preprocesamiento que son imperativas para cualquier experimento de aprendizaje automático. \n",
        "\n",
        "Estas tareas se realizan de forma diferente para cada tipo de datos, por lo que es muy importante que estén configuradas correctamente."
      ]
    },
    {
      "cell_type": "code",
      "metadata": {
        "colab": {
          "base_uri": "https://localhost:8080/",
          "height": 483
        },
        "id": "C9NrD7gHsNjP",
        "outputId": "1051488d-3b3f-4cb9-8d74-9082b618b745"
      },
      "source": [
        "agrupacion = setup(clientes, session_id = 123)"
      ],
      "execution_count": 14,
      "outputs": [
        {
          "output_type": "display_data",
          "data": {
            "text/plain": [
              "<pandas.io.formats.style.Styler at 0x7f261534dc90>"
            ],
            "text/html": [
              "<style type=\"text/css\">\n",
              "#T_7117b_row4_col1 {\n",
              "  background-color: lightgreen;\n",
              "}\n",
              "</style>\n",
              "<table id=\"T_7117b_\" class=\"dataframe\">\n",
              "  <thead>\n",
              "    <tr>\n",
              "      <th class=\"blank level0\" >&nbsp;</th>\n",
              "      <th class=\"col_heading level0 col0\" >Description</th>\n",
              "      <th class=\"col_heading level0 col1\" >Value</th>\n",
              "    </tr>\n",
              "  </thead>\n",
              "  <tbody>\n",
              "    <tr>\n",
              "      <th id=\"T_7117b_level0_row0\" class=\"row_heading level0 row0\" >0</th>\n",
              "      <td id=\"T_7117b_row0_col0\" class=\"data row0 col0\" >Session id</td>\n",
              "      <td id=\"T_7117b_row0_col1\" class=\"data row0 col1\" >123</td>\n",
              "    </tr>\n",
              "    <tr>\n",
              "      <th id=\"T_7117b_level0_row1\" class=\"row_heading level0 row1\" >1</th>\n",
              "      <td id=\"T_7117b_row1_col0\" class=\"data row1 col0\" >Original data shape</td>\n",
              "      <td id=\"T_7117b_row1_col1\" class=\"data row1 col1\" >(300, 2)</td>\n",
              "    </tr>\n",
              "    <tr>\n",
              "      <th id=\"T_7117b_level0_row2\" class=\"row_heading level0 row2\" >2</th>\n",
              "      <td id=\"T_7117b_row2_col0\" class=\"data row2 col0\" >Transformed data shape</td>\n",
              "      <td id=\"T_7117b_row2_col1\" class=\"data row2 col1\" >(300, 2)</td>\n",
              "    </tr>\n",
              "    <tr>\n",
              "      <th id=\"T_7117b_level0_row3\" class=\"row_heading level0 row3\" >3</th>\n",
              "      <td id=\"T_7117b_row3_col0\" class=\"data row3 col0\" >Numeric features</td>\n",
              "      <td id=\"T_7117b_row3_col1\" class=\"data row3 col1\" >2</td>\n",
              "    </tr>\n",
              "    <tr>\n",
              "      <th id=\"T_7117b_level0_row4\" class=\"row_heading level0 row4\" >4</th>\n",
              "      <td id=\"T_7117b_row4_col0\" class=\"data row4 col0\" >Preprocess</td>\n",
              "      <td id=\"T_7117b_row4_col1\" class=\"data row4 col1\" >True</td>\n",
              "    </tr>\n",
              "    <tr>\n",
              "      <th id=\"T_7117b_level0_row5\" class=\"row_heading level0 row5\" >5</th>\n",
              "      <td id=\"T_7117b_row5_col0\" class=\"data row5 col0\" >Imputation type</td>\n",
              "      <td id=\"T_7117b_row5_col1\" class=\"data row5 col1\" >simple</td>\n",
              "    </tr>\n",
              "    <tr>\n",
              "      <th id=\"T_7117b_level0_row6\" class=\"row_heading level0 row6\" >6</th>\n",
              "      <td id=\"T_7117b_row6_col0\" class=\"data row6 col0\" >Numeric imputation</td>\n",
              "      <td id=\"T_7117b_row6_col1\" class=\"data row6 col1\" >mean</td>\n",
              "    </tr>\n",
              "    <tr>\n",
              "      <th id=\"T_7117b_level0_row7\" class=\"row_heading level0 row7\" >7</th>\n",
              "      <td id=\"T_7117b_row7_col0\" class=\"data row7 col0\" >Categorical imputation</td>\n",
              "      <td id=\"T_7117b_row7_col1\" class=\"data row7 col1\" >constant</td>\n",
              "    </tr>\n",
              "    <tr>\n",
              "      <th id=\"T_7117b_level0_row8\" class=\"row_heading level0 row8\" >8</th>\n",
              "      <td id=\"T_7117b_row8_col0\" class=\"data row8 col0\" >Low variance threshold</td>\n",
              "      <td id=\"T_7117b_row8_col1\" class=\"data row8 col1\" >0</td>\n",
              "    </tr>\n",
              "    <tr>\n",
              "      <th id=\"T_7117b_level0_row9\" class=\"row_heading level0 row9\" >9</th>\n",
              "      <td id=\"T_7117b_row9_col0\" class=\"data row9 col0\" >CPU Jobs</td>\n",
              "      <td id=\"T_7117b_row9_col1\" class=\"data row9 col1\" >-1</td>\n",
              "    </tr>\n",
              "    <tr>\n",
              "      <th id=\"T_7117b_level0_row10\" class=\"row_heading level0 row10\" >10</th>\n",
              "      <td id=\"T_7117b_row10_col0\" class=\"data row10 col0\" >Use GPU</td>\n",
              "      <td id=\"T_7117b_row10_col1\" class=\"data row10 col1\" >False</td>\n",
              "    </tr>\n",
              "    <tr>\n",
              "      <th id=\"T_7117b_level0_row11\" class=\"row_heading level0 row11\" >11</th>\n",
              "      <td id=\"T_7117b_row11_col0\" class=\"data row11 col0\" >Log Experiment</td>\n",
              "      <td id=\"T_7117b_row11_col1\" class=\"data row11 col1\" >False</td>\n",
              "    </tr>\n",
              "    <tr>\n",
              "      <th id=\"T_7117b_level0_row12\" class=\"row_heading level0 row12\" >12</th>\n",
              "      <td id=\"T_7117b_row12_col0\" class=\"data row12 col0\" >Experiment Name</td>\n",
              "      <td id=\"T_7117b_row12_col1\" class=\"data row12 col1\" >cluster-default-name</td>\n",
              "    </tr>\n",
              "    <tr>\n",
              "      <th id=\"T_7117b_level0_row13\" class=\"row_heading level0 row13\" >13</th>\n",
              "      <td id=\"T_7117b_row13_col0\" class=\"data row13 col0\" >USI</td>\n",
              "      <td id=\"T_7117b_row13_col1\" class=\"data row13 col1\" >8d29</td>\n",
              "    </tr>\n",
              "  </tbody>\n",
              "</table>\n"
            ]
          },
          "metadata": {}
        }
      ]
    },
    {
      "cell_type": "markdown",
      "metadata": {
        "id": "CYRPuXBf7jBz"
      },
      "source": [
        "***Una vez que la configuración se ha ejecutado con éxito, se muestra un cuadro de información que contiene elementos importantes. La mayor parte de la información está relacionada con el preprocesamiento que se construye cuando se ejecuta ```setup()```.*** "
      ]
    },
    {
      "cell_type": "markdown",
      "metadata": {
        "id": "bUgm3be5toCQ"
      },
      "source": [
        "# **Creación del Modelo**"
      ]
    },
    {
      "cell_type": "code",
      "metadata": {
        "colab": {
          "base_uri": "https://localhost:8080/",
          "height": 359
        },
        "id": "d8uBBurnuAeo",
        "outputId": "8f10c5e1-8cf0-4c66-eaf3-9d1c41173dd9"
      },
      "source": [
        "models()"
      ],
      "execution_count": 15,
      "outputs": [
        {
          "output_type": "execute_result",
          "data": {
            "text/plain": [
              "                                       Name  \\\n",
              "ID                                            \n",
              "kmeans                   K-Means Clustering   \n",
              "ap                     Affinity Propagation   \n",
              "meanshift             Mean Shift Clustering   \n",
              "sc                      Spectral Clustering   \n",
              "hclust             Agglomerative Clustering   \n",
              "dbscan     Density-Based Spatial Clustering   \n",
              "optics                    OPTICS Clustering   \n",
              "birch                      Birch Clustering   \n",
              "kmodes                   K-Modes Clustering   \n",
              "\n",
              "                                                   Reference  \n",
              "ID                                                            \n",
              "kmeans                        sklearn.cluster._kmeans.KMeans  \n",
              "ap         sklearn.cluster._affinity_propagation.Affinity...  \n",
              "meanshift              sklearn.cluster._mean_shift.MeanShift  \n",
              "sc              sklearn.cluster._spectral.SpectralClustering  \n",
              "hclust     sklearn.cluster._agglomerative.AgglomerativeCl...  \n",
              "dbscan                        sklearn.cluster._dbscan.DBSCAN  \n",
              "optics                        sklearn.cluster._optics.OPTICS  \n",
              "birch                           sklearn.cluster._birch.Birch  \n",
              "kmodes                                  kmodes.kmodes.KModes  "
            ],
            "text/html": [
              "\n",
              "  <div id=\"df-7f01a633-7bb8-4a4e-b9ed-692016ee5c83\">\n",
              "    <div class=\"colab-df-container\">\n",
              "      <div>\n",
              "<style scoped>\n",
              "    .dataframe tbody tr th:only-of-type {\n",
              "        vertical-align: middle;\n",
              "    }\n",
              "\n",
              "    .dataframe tbody tr th {\n",
              "        vertical-align: top;\n",
              "    }\n",
              "\n",
              "    .dataframe thead th {\n",
              "        text-align: right;\n",
              "    }\n",
              "</style>\n",
              "<table border=\"1\" class=\"dataframe\">\n",
              "  <thead>\n",
              "    <tr style=\"text-align: right;\">\n",
              "      <th></th>\n",
              "      <th>Name</th>\n",
              "      <th>Reference</th>\n",
              "    </tr>\n",
              "    <tr>\n",
              "      <th>ID</th>\n",
              "      <th></th>\n",
              "      <th></th>\n",
              "    </tr>\n",
              "  </thead>\n",
              "  <tbody>\n",
              "    <tr>\n",
              "      <th>kmeans</th>\n",
              "      <td>K-Means Clustering</td>\n",
              "      <td>sklearn.cluster._kmeans.KMeans</td>\n",
              "    </tr>\n",
              "    <tr>\n",
              "      <th>ap</th>\n",
              "      <td>Affinity Propagation</td>\n",
              "      <td>sklearn.cluster._affinity_propagation.Affinity...</td>\n",
              "    </tr>\n",
              "    <tr>\n",
              "      <th>meanshift</th>\n",
              "      <td>Mean Shift Clustering</td>\n",
              "      <td>sklearn.cluster._mean_shift.MeanShift</td>\n",
              "    </tr>\n",
              "    <tr>\n",
              "      <th>sc</th>\n",
              "      <td>Spectral Clustering</td>\n",
              "      <td>sklearn.cluster._spectral.SpectralClustering</td>\n",
              "    </tr>\n",
              "    <tr>\n",
              "      <th>hclust</th>\n",
              "      <td>Agglomerative Clustering</td>\n",
              "      <td>sklearn.cluster._agglomerative.AgglomerativeCl...</td>\n",
              "    </tr>\n",
              "    <tr>\n",
              "      <th>dbscan</th>\n",
              "      <td>Density-Based Spatial Clustering</td>\n",
              "      <td>sklearn.cluster._dbscan.DBSCAN</td>\n",
              "    </tr>\n",
              "    <tr>\n",
              "      <th>optics</th>\n",
              "      <td>OPTICS Clustering</td>\n",
              "      <td>sklearn.cluster._optics.OPTICS</td>\n",
              "    </tr>\n",
              "    <tr>\n",
              "      <th>birch</th>\n",
              "      <td>Birch Clustering</td>\n",
              "      <td>sklearn.cluster._birch.Birch</td>\n",
              "    </tr>\n",
              "    <tr>\n",
              "      <th>kmodes</th>\n",
              "      <td>K-Modes Clustering</td>\n",
              "      <td>kmodes.kmodes.KModes</td>\n",
              "    </tr>\n",
              "  </tbody>\n",
              "</table>\n",
              "</div>\n",
              "      <button class=\"colab-df-convert\" onclick=\"convertToInteractive('df-7f01a633-7bb8-4a4e-b9ed-692016ee5c83')\"\n",
              "              title=\"Convert this dataframe to an interactive table.\"\n",
              "              style=\"display:none;\">\n",
              "        \n",
              "  <svg xmlns=\"http://www.w3.org/2000/svg\" height=\"24px\"viewBox=\"0 0 24 24\"\n",
              "       width=\"24px\">\n",
              "    <path d=\"M0 0h24v24H0V0z\" fill=\"none\"/>\n",
              "    <path d=\"M18.56 5.44l.94 2.06.94-2.06 2.06-.94-2.06-.94-.94-2.06-.94 2.06-2.06.94zm-11 1L8.5 8.5l.94-2.06 2.06-.94-2.06-.94L8.5 2.5l-.94 2.06-2.06.94zm10 10l.94 2.06.94-2.06 2.06-.94-2.06-.94-.94-2.06-.94 2.06-2.06.94z\"/><path d=\"M17.41 7.96l-1.37-1.37c-.4-.4-.92-.59-1.43-.59-.52 0-1.04.2-1.43.59L10.3 9.45l-7.72 7.72c-.78.78-.78 2.05 0 2.83L4 21.41c.39.39.9.59 1.41.59.51 0 1.02-.2 1.41-.59l7.78-7.78 2.81-2.81c.8-.78.8-2.07 0-2.86zM5.41 20L4 18.59l7.72-7.72 1.47 1.35L5.41 20z\"/>\n",
              "  </svg>\n",
              "      </button>\n",
              "      \n",
              "  <style>\n",
              "    .colab-df-container {\n",
              "      display:flex;\n",
              "      flex-wrap:wrap;\n",
              "      gap: 12px;\n",
              "    }\n",
              "\n",
              "    .colab-df-convert {\n",
              "      background-color: #E8F0FE;\n",
              "      border: none;\n",
              "      border-radius: 50%;\n",
              "      cursor: pointer;\n",
              "      display: none;\n",
              "      fill: #1967D2;\n",
              "      height: 32px;\n",
              "      padding: 0 0 0 0;\n",
              "      width: 32px;\n",
              "    }\n",
              "\n",
              "    .colab-df-convert:hover {\n",
              "      background-color: #E2EBFA;\n",
              "      box-shadow: 0px 1px 2px rgba(60, 64, 67, 0.3), 0px 1px 3px 1px rgba(60, 64, 67, 0.15);\n",
              "      fill: #174EA6;\n",
              "    }\n",
              "\n",
              "    [theme=dark] .colab-df-convert {\n",
              "      background-color: #3B4455;\n",
              "      fill: #D2E3FC;\n",
              "    }\n",
              "\n",
              "    [theme=dark] .colab-df-convert:hover {\n",
              "      background-color: #434B5C;\n",
              "      box-shadow: 0px 1px 3px 1px rgba(0, 0, 0, 0.15);\n",
              "      filter: drop-shadow(0px 1px 2px rgba(0, 0, 0, 0.3));\n",
              "      fill: #FFFFFF;\n",
              "    }\n",
              "  </style>\n",
              "\n",
              "      <script>\n",
              "        const buttonEl =\n",
              "          document.querySelector('#df-7f01a633-7bb8-4a4e-b9ed-692016ee5c83 button.colab-df-convert');\n",
              "        buttonEl.style.display =\n",
              "          google.colab.kernel.accessAllowed ? 'block' : 'none';\n",
              "\n",
              "        async function convertToInteractive(key) {\n",
              "          const element = document.querySelector('#df-7f01a633-7bb8-4a4e-b9ed-692016ee5c83');\n",
              "          const dataTable =\n",
              "            await google.colab.kernel.invokeFunction('convertToInteractive',\n",
              "                                                     [key], {});\n",
              "          if (!dataTable) return;\n",
              "\n",
              "          const docLinkHtml = 'Like what you see? Visit the ' +\n",
              "            '<a target=\"_blank\" href=https://colab.research.google.com/notebooks/data_table.ipynb>data table notebook</a>'\n",
              "            + ' to learn more about interactive tables.';\n",
              "          element.innerHTML = '';\n",
              "          dataTable['output_type'] = 'display_data';\n",
              "          await google.colab.output.renderOutput(dataTable, element);\n",
              "          const docLink = document.createElement('div');\n",
              "          docLink.innerHTML = docLinkHtml;\n",
              "          element.appendChild(docLink);\n",
              "        }\n",
              "      </script>\n",
              "    </div>\n",
              "  </div>\n",
              "  "
            ]
          },
          "metadata": {},
          "execution_count": 15
        }
      ]
    },
    {
      "cell_type": "code",
      "source": [
        "print(f\"Hay {len(models())} algoritmos para clustering\")"
      ],
      "metadata": {
        "colab": {
          "base_uri": "https://localhost:8080/"
        },
        "id": "cBzo2KlaLXmh",
        "outputId": "f992767b-47e8-4c8f-9591-efd9c337ee3d"
      },
      "execution_count": 16,
      "outputs": [
        {
          "output_type": "stream",
          "name": "stdout",
          "text": [
            "Hay 9 algoritmos para clustering\n"
          ]
        }
      ]
    },
    {
      "cell_type": "markdown",
      "metadata": {
        "id": "uOiDssr_t4Zz"
      },
      "source": [
        "## **Algoritmo K-means**"
      ]
    },
    {
      "cell_type": "code",
      "metadata": {
        "colab": {
          "base_uri": "https://localhost:8080/",
          "height": 97,
          "referenced_widgets": [
            "5fe2f12b9f514ed69d4c95d94a9eda0c",
            "308e2d3912ba430c9b4e4d2ab3cfb84d",
            "b9c906f70b834e05a0fd457970ea8e43",
            "6d63889688814c1081f89f6dca56c9e9",
            "26f14f211fb341ceb0cef80d2df35a1e",
            "2776914909f443f0b0c62393b7b827e3",
            "178ba0a7c50b442fa344a47c7fad4725",
            "4ac0a8f8a75b48e9ad38dfb3e3f6ac9c",
            "7154ecf8cef44ae78ed1160a4757c85c",
            "20ef578a536c438ba2fa590fc5fce96f",
            "79ff170b9896476bbc309a178fe330cf"
          ]
        },
        "id": "_NJnSD6Nt0nx",
        "outputId": "958a3de0-cc38-4023-9b2f-ae3751243095"
      },
      "source": [
        "km = create_model('kmeans', num_clusters=4)\n",
        "print(km)"
      ],
      "execution_count": 17,
      "outputs": [
        {
          "output_type": "display_data",
          "data": {
            "text/plain": [
              "<IPython.core.display.HTML object>"
            ],
            "text/html": []
          },
          "metadata": {}
        },
        {
          "output_type": "display_data",
          "data": {
            "text/plain": [
              "<pandas.io.formats.style.Styler at 0x7f2620d84390>"
            ],
            "text/html": [
              "<style type=\"text/css\">\n",
              "</style>\n",
              "<table id=\"T_0ea26_\" class=\"dataframe\">\n",
              "  <thead>\n",
              "    <tr>\n",
              "      <th class=\"blank level0\" >&nbsp;</th>\n",
              "      <th class=\"col_heading level0 col0\" >Silhouette</th>\n",
              "      <th class=\"col_heading level0 col1\" >Calinski-Harabasz</th>\n",
              "      <th class=\"col_heading level0 col2\" >Davies-Bouldin</th>\n",
              "      <th class=\"col_heading level0 col3\" >Homogeneity</th>\n",
              "      <th class=\"col_heading level0 col4\" >Rand Index</th>\n",
              "      <th class=\"col_heading level0 col5\" >Completeness</th>\n",
              "    </tr>\n",
              "  </thead>\n",
              "  <tbody>\n",
              "    <tr>\n",
              "      <th id=\"T_0ea26_level0_row0\" class=\"row_heading level0 row0\" >0</th>\n",
              "      <td id=\"T_0ea26_row0_col0\" class=\"data row0 col0\" >0.6103</td>\n",
              "      <td id=\"T_0ea26_row0_col1\" class=\"data row0 col1\" >1320.0243</td>\n",
              "      <td id=\"T_0ea26_row0_col2\" class=\"data row0 col2\" >0.4538</td>\n",
              "      <td id=\"T_0ea26_row0_col3\" class=\"data row0 col3\" >0</td>\n",
              "      <td id=\"T_0ea26_row0_col4\" class=\"data row0 col4\" >0</td>\n",
              "      <td id=\"T_0ea26_row0_col5\" class=\"data row0 col5\" >0</td>\n",
              "    </tr>\n",
              "  </tbody>\n",
              "</table>\n"
            ]
          },
          "metadata": {}
        },
        {
          "output_type": "display_data",
          "data": {
            "text/plain": [
              "Processing:   0%|          | 0/3 [00:00<?, ?it/s]"
            ],
            "application/vnd.jupyter.widget-view+json": {
              "version_major": 2,
              "version_minor": 0,
              "model_id": "5fe2f12b9f514ed69d4c95d94a9eda0c"
            }
          },
          "metadata": {
            "application/vnd.jupyter.widget-view+json": {
              "colab": {
                "custom_widget_manager": {
                  "url": "https://ssl.gstatic.com/colaboratory-static/widgets/colab-cdn-widget-manager/d2e234f7cc04bf79/manager.min.js"
                }
              }
            }
          }
        },
        {
          "output_type": "display_data",
          "data": {
            "text/plain": [
              "<IPython.core.display.HTML object>"
            ],
            "text/html": []
          },
          "metadata": {}
        },
        {
          "output_type": "stream",
          "name": "stdout",
          "text": [
            "KMeans(n_clusters=4, random_state=123)\n"
          ]
        }
      ]
    },
    {
      "cell_type": "markdown",
      "metadata": {
        "id": "Daf6y1xfwsMt"
      },
      "source": [
        "# **Asignando el Modelo**"
      ]
    },
    {
      "cell_type": "markdown",
      "metadata": {
        "id": "mhw5o0mSenpg"
      },
      "source": [
        "**Ahora que hemos creado un modelo, nos gustaría asignar las etiquetas de grupo a nuestro conjunto de datos ($300$ muestras) para analizar los resultados. Lo lograremos usando la función ```assign_model()```.**"
      ]
    },
    {
      "cell_type": "code",
      "metadata": {
        "colab": {
          "base_uri": "https://localhost:8080/",
          "height": 204
        },
        "id": "QbrYDfvnwyOg",
        "outputId": "93669d40-bfb3-4324-df1d-09fe284126c5"
      },
      "source": [
        "km_resultados = assign_model(km)\n",
        "km_resultados.head()"
      ],
      "execution_count": 18,
      "outputs": [
        {
          "output_type": "execute_result",
          "data": {
            "text/plain": [
              "   Edad  Salario    Cluster\n",
              "0    30    87000  Cluster 0\n",
              "1    38    50000  Cluster 3\n",
              "2    35    75000  Cluster 0\n",
              "3    30    79000  Cluster 0\n",
              "4    35    50000  Cluster 3"
            ],
            "text/html": [
              "\n",
              "  <div id=\"df-d22f0a50-5639-4706-a39e-95b4d7929df5\">\n",
              "    <div class=\"colab-df-container\">\n",
              "      <div>\n",
              "<style scoped>\n",
              "    .dataframe tbody tr th:only-of-type {\n",
              "        vertical-align: middle;\n",
              "    }\n",
              "\n",
              "    .dataframe tbody tr th {\n",
              "        vertical-align: top;\n",
              "    }\n",
              "\n",
              "    .dataframe thead th {\n",
              "        text-align: right;\n",
              "    }\n",
              "</style>\n",
              "<table border=\"1\" class=\"dataframe\">\n",
              "  <thead>\n",
              "    <tr style=\"text-align: right;\">\n",
              "      <th></th>\n",
              "      <th>Edad</th>\n",
              "      <th>Salario</th>\n",
              "      <th>Cluster</th>\n",
              "    </tr>\n",
              "  </thead>\n",
              "  <tbody>\n",
              "    <tr>\n",
              "      <th>0</th>\n",
              "      <td>30</td>\n",
              "      <td>87000</td>\n",
              "      <td>Cluster 0</td>\n",
              "    </tr>\n",
              "    <tr>\n",
              "      <th>1</th>\n",
              "      <td>38</td>\n",
              "      <td>50000</td>\n",
              "      <td>Cluster 3</td>\n",
              "    </tr>\n",
              "    <tr>\n",
              "      <th>2</th>\n",
              "      <td>35</td>\n",
              "      <td>75000</td>\n",
              "      <td>Cluster 0</td>\n",
              "    </tr>\n",
              "    <tr>\n",
              "      <th>3</th>\n",
              "      <td>30</td>\n",
              "      <td>79000</td>\n",
              "      <td>Cluster 0</td>\n",
              "    </tr>\n",
              "    <tr>\n",
              "      <th>4</th>\n",
              "      <td>35</td>\n",
              "      <td>50000</td>\n",
              "      <td>Cluster 3</td>\n",
              "    </tr>\n",
              "  </tbody>\n",
              "</table>\n",
              "</div>\n",
              "      <button class=\"colab-df-convert\" onclick=\"convertToInteractive('df-d22f0a50-5639-4706-a39e-95b4d7929df5')\"\n",
              "              title=\"Convert this dataframe to an interactive table.\"\n",
              "              style=\"display:none;\">\n",
              "        \n",
              "  <svg xmlns=\"http://www.w3.org/2000/svg\" height=\"24px\"viewBox=\"0 0 24 24\"\n",
              "       width=\"24px\">\n",
              "    <path d=\"M0 0h24v24H0V0z\" fill=\"none\"/>\n",
              "    <path d=\"M18.56 5.44l.94 2.06.94-2.06 2.06-.94-2.06-.94-.94-2.06-.94 2.06-2.06.94zm-11 1L8.5 8.5l.94-2.06 2.06-.94-2.06-.94L8.5 2.5l-.94 2.06-2.06.94zm10 10l.94 2.06.94-2.06 2.06-.94-2.06-.94-.94-2.06-.94 2.06-2.06.94z\"/><path d=\"M17.41 7.96l-1.37-1.37c-.4-.4-.92-.59-1.43-.59-.52 0-1.04.2-1.43.59L10.3 9.45l-7.72 7.72c-.78.78-.78 2.05 0 2.83L4 21.41c.39.39.9.59 1.41.59.51 0 1.02-.2 1.41-.59l7.78-7.78 2.81-2.81c.8-.78.8-2.07 0-2.86zM5.41 20L4 18.59l7.72-7.72 1.47 1.35L5.41 20z\"/>\n",
              "  </svg>\n",
              "      </button>\n",
              "      \n",
              "  <style>\n",
              "    .colab-df-container {\n",
              "      display:flex;\n",
              "      flex-wrap:wrap;\n",
              "      gap: 12px;\n",
              "    }\n",
              "\n",
              "    .colab-df-convert {\n",
              "      background-color: #E8F0FE;\n",
              "      border: none;\n",
              "      border-radius: 50%;\n",
              "      cursor: pointer;\n",
              "      display: none;\n",
              "      fill: #1967D2;\n",
              "      height: 32px;\n",
              "      padding: 0 0 0 0;\n",
              "      width: 32px;\n",
              "    }\n",
              "\n",
              "    .colab-df-convert:hover {\n",
              "      background-color: #E2EBFA;\n",
              "      box-shadow: 0px 1px 2px rgba(60, 64, 67, 0.3), 0px 1px 3px 1px rgba(60, 64, 67, 0.15);\n",
              "      fill: #174EA6;\n",
              "    }\n",
              "\n",
              "    [theme=dark] .colab-df-convert {\n",
              "      background-color: #3B4455;\n",
              "      fill: #D2E3FC;\n",
              "    }\n",
              "\n",
              "    [theme=dark] .colab-df-convert:hover {\n",
              "      background-color: #434B5C;\n",
              "      box-shadow: 0px 1px 3px 1px rgba(0, 0, 0, 0.15);\n",
              "      filter: drop-shadow(0px 1px 2px rgba(0, 0, 0, 0.3));\n",
              "      fill: #FFFFFF;\n",
              "    }\n",
              "  </style>\n",
              "\n",
              "      <script>\n",
              "        const buttonEl =\n",
              "          document.querySelector('#df-d22f0a50-5639-4706-a39e-95b4d7929df5 button.colab-df-convert');\n",
              "        buttonEl.style.display =\n",
              "          google.colab.kernel.accessAllowed ? 'block' : 'none';\n",
              "\n",
              "        async function convertToInteractive(key) {\n",
              "          const element = document.querySelector('#df-d22f0a50-5639-4706-a39e-95b4d7929df5');\n",
              "          const dataTable =\n",
              "            await google.colab.kernel.invokeFunction('convertToInteractive',\n",
              "                                                     [key], {});\n",
              "          if (!dataTable) return;\n",
              "\n",
              "          const docLinkHtml = 'Like what you see? Visit the ' +\n",
              "            '<a target=\"_blank\" href=https://colab.research.google.com/notebooks/data_table.ipynb>data table notebook</a>'\n",
              "            + ' to learn more about interactive tables.';\n",
              "          element.innerHTML = '';\n",
              "          dataTable['output_type'] = 'display_data';\n",
              "          await google.colab.output.renderOutput(dataTable, element);\n",
              "          const docLink = document.createElement('div');\n",
              "          docLink.innerHTML = docLinkHtml;\n",
              "          element.appendChild(docLink);\n",
              "        }\n",
              "      </script>\n",
              "    </div>\n",
              "  </div>\n",
              "  "
            ]
          },
          "metadata": {},
          "execution_count": 18
        }
      ]
    },
    {
      "cell_type": "code",
      "metadata": {
        "colab": {
          "base_uri": "https://localhost:8080/"
        },
        "id": "CvvltSXOtbqg",
        "outputId": "06dff7cc-865c-44e7-fe98-1616a876c3bc"
      },
      "source": [
        "km_resultados.shape"
      ],
      "execution_count": 19,
      "outputs": [
        {
          "output_type": "execute_result",
          "data": {
            "text/plain": [
              "(300, 3)"
            ]
          },
          "metadata": {},
          "execution_count": 19
        }
      ]
    },
    {
      "cell_type": "markdown",
      "source": [
        "# **Evaluación del Modelo**"
      ],
      "metadata": {
        "id": "TNIE-pwhMK53"
      }
    },
    {
      "cell_type": "code",
      "source": [
        "evaluate_model(km)"
      ],
      "metadata": {
        "colab": {
          "base_uri": "https://localhost:8080/",
          "height": 170,
          "referenced_widgets": [
            "02133fa112354155beb62b603b49ff7f",
            "7aa02bbb518b4c71a744ceb283be05e3",
            "9e710abbc840439b816272d6fc066d7f",
            "557f3ec077fa4156b0f51e4b3e1742f2",
            "cfe32d5de88e4e19bebd26bdce055698",
            "903a695f704841bca11669e2cf18b8e7",
            "253aee3fe0434adfb52a2978122ca75a"
          ]
        },
        "id": "5ve8rh2QMO5x",
        "outputId": "e181da65-ad13-4df8-b55e-0e86f78463cb"
      },
      "execution_count": 20,
      "outputs": [
        {
          "output_type": "display_data",
          "data": {
            "text/plain": [
              "interactive(children=(ToggleButtons(description='Plot Type:', icons=('',), options=(('Pipeline Plot', 'pipelin…"
            ],
            "application/vnd.jupyter.widget-view+json": {
              "version_major": 2,
              "version_minor": 0,
              "model_id": "02133fa112354155beb62b603b49ff7f"
            }
          },
          "metadata": {
            "application/vnd.jupyter.widget-view+json": {
              "colab": {
                "custom_widget_manager": {
                  "url": "https://ssl.gstatic.com/colaboratory-static/widgets/colab-cdn-widget-manager/d2e234f7cc04bf79/manager.min.js"
                }
              }
            }
          }
        }
      ]
    },
    {
      "cell_type": "markdown",
      "metadata": {
        "id": "y_KMjaMdxAHB"
      },
      "source": [
        "# **Visualización del Modelo**"
      ]
    },
    {
      "cell_type": "markdown",
      "metadata": {
        "id": "qsrfw8kVe7jQ"
      },
      "source": [
        "**La función ```plot_model()``` se puede utilizar para analizar diferentes aspectos del \n",
        "modelo de agrupamiento. Esta función toma un objeto de modelo entrenado y devuelve un gráfico.**"
      ]
    },
    {
      "cell_type": "markdown",
      "metadata": {
        "id": "KSKqHX61kXiS"
      },
      "source": [
        "## **Visualización de los clusters**"
      ]
    },
    {
      "cell_type": "code",
      "metadata": {
        "colab": {
          "base_uri": "https://localhost:8080/",
          "height": 617
        },
        "id": "ho_HYtoexCKR",
        "outputId": "7f96fef8-f8c6-4291-f6a8-58e7d47bee22"
      },
      "source": [
        "plot_model(km)"
      ],
      "execution_count": 21,
      "outputs": [
        {
          "output_type": "display_data",
          "data": {
            "text/plain": [
              "<IPython.core.display.HTML object>"
            ],
            "text/html": []
          },
          "metadata": {}
        },
        {
          "output_type": "display_data",
          "data": {
            "text/html": [
              "<html>\n",
              "<head><meta charset=\"utf-8\" /></head>\n",
              "<body>\n",
              "    <div>            <script src=\"https://cdnjs.cloudflare.com/ajax/libs/mathjax/2.7.5/MathJax.js?config=TeX-AMS-MML_SVG\"></script><script type=\"text/javascript\">if (window.MathJax) {MathJax.Hub.Config({SVG: {font: \"STIX-Web\"}});}</script>                <script type=\"text/javascript\">window.PlotlyConfig = {MathJaxConfig: 'local'};</script>\n",
              "        <script src=\"https://cdn.plot.ly/plotly-2.8.3.min.js\"></script>                <div id=\"f3160d9d-f470-4a64-9746-17431fde016b\" class=\"plotly-graph-div\" style=\"height:600px; width:100%;\"></div>            <script type=\"text/javascript\">                                    window.PLOTLYENV=window.PLOTLYENV || {};                                    if (document.getElementById(\"f3160d9d-f470-4a64-9746-17431fde016b\")) {                    Plotly.newPlot(                        \"f3160d9d-f470-4a64-9746-17431fde016b\",                        [{\"customdata\":[[30],[42],[35],[40],[46],[36],[37],[20],[57],[26],[41],[27],[25],[35],[37],[26],[31],[25],[20],[41],[59],[42],[40],[24],[27],[48],[42],[53],[42],[31],[46],[60],[46],[39],[28],[33],[42],[41],[31],[29],[31],[38],[42],[39],[37],[38],[48],[53],[54],[30],[58],[45],[40],[54],[20],[48],[39],[35],[59],[42],[40],[46],[35],[58],[23],[28],[26],[37],[35],[46],[40],[32],[25],[35],[18],[35],[19],[47],[37],[22],[21],[24],[49],[36],[19],[37],[42],[20],[60],[39],[35],[29],[52],[37],[59],[28],[27],[27],[29],[35],[32],[26],[27],[30]],\"hovertemplate\":\"Cluster=Cluster 0<br>PCA1=%{x}<br>PCA2=%{y}<br>Feature=%{customdata[0]}<extra></extra>\",\"legendgroup\":\"Cluster 0\",\"marker\":{\"color\":\"#636efa\",\"opacity\":0.5,\"symbol\":\"circle\"},\"mode\":\"markers\",\"name\":\"Cluster 0\",\"orientation\":\"v\",\"showlegend\":true,\"x\":[16406.666297467364,9406.666852104596,1406.6665411361487,406.6667702411416,8406.667035596643,4406.666583628281,7406.666626120414,11406.665846539274,3406.667542540385,9406.666122297484,16406.666799209754,19406.666157507723,16406.666069402643,406.6665421764191,-593.3333655574212,15406.666116055863,3406.6663566038296,8406.66607772481,11406.665846539274,1406.6668148138153,12406.667624403839,9406.666852104596,4406.6667660800595,13406.666026910509,25406.666151266094,19406.667115379558,33406.666827138106,33406.667328880496,2406.6668593864893,18406.666340999775,11406.667032475832,31406.667650251642,25406.667017912045,25406.666698621433,18406.66620416094,-1593.3335469689284,8406.666853144867,9406.666806491652,406.6663597246414,4406.66626433767,5406.666354523289,9406.666669652817,4406.666857305949,4406.666720467115,9406.666624039874,406.66667901525267,3406.667132023885,1406.667362169148,-593.3325901373654,9406.666304749262,24406.667566307646,8406.6669899837,4406.6667660800595,33406.66737449344,3406.6658548614405,25406.667109137936,406.666724628197,17406.666524491822,5406.667631685733,19406.666841701892,7406.666762959247,3406.6670407979964,20406.666521371008,30406.66756006602,11406.665983378112,13406.66620936229,13406.666118136402,406.66663340230815,26406.666515129386,17406.66702623421,1406.666769200871,29406.66637516974,19406.666066281836,1406.6665411361487,11406.665755313383,4406.666538015336,5406.665807167955,34406.66705416255,8406.666625080145,10406.665938805436,17406.665885910592,18406.666021709156,15406.667165153583,28406.66655866179,14406.665797805517,6406.666627160684,-593.3331374926985,15406.665842378192,12406.667670016783,6406.666718386573,4406.666538015336,9406.666259136315,19406.667297831333,9406.666624039874,17406.667619202486,16406.66620624148,17406.666159588265,18406.666158547992,12406.666256015505,6406.666535934795,15406.666389733524,9406.666122297484,13406.666163749342,8406.666305789531],\"xaxis\":\"x\",\"y\":[-8.46835636922302,3.8509342302874767,-2.78416220586635,2.261450733502834,7.89654717069693,-1.9210010406182256,-1.057839875370101,-18.240291635967647,19.124611882106635,-12.1490657530682,2.5316436193340013,-11.605195199813819,-13.468356364021673,-2.7385492612958147,-0.6929363188058203,-12.422743420491411,-6.8753880908463385,-13.103452807457394,-18.240291635967647,3.2158377878920277,20.714095378891273,3.8509342302874767,2.0789989552206936,-14.331517529269798,-11.87887286723703,9.394804778340504,2.756223560594634,13.75622354915166,4.170224842281222,-7.559582259404365,7.759708336985325,20.84744943101084,7.121127112997833,0.12112712027972652,-10.559582256283555,-4.647323370074204,3.8965471748580116,2.8509342313277473,-6.738549257134733,-8.921001033336333,-6.966613979987409,-0.1490657655514415,4.078998953140152,1.0789989562609636,-1.1490657645111713,0.2614507355833743,10.124611891469065,15.215837775408783,16.307063663509584,-8.14906575722928,19.166740045085128,6.896547171737201,2.0789989552206936,14.756223548111393,-17.875388079403365,9.121127110917294,1.261450734543104,-3.5139693189949117,21.033385990885023,3.394804784582125,1.9421601215090882,8.124611893549606,-3.6508081527065164,18.893062377661916,-15.240291639088456,-10.331517533430878,-12.331517531350341,-0.7385492633763554,-3.924485820129727,7.486030669562114,2.215837788932299,-7.061324650720522,-13.605195197733279,-2.78416220586635,-20.240291633887107,-2.921001039577955,-18.966613967504166,7.710610610822749,-1.1034528199406362,-16.19467869347765,-17.51396930443113,-14.559582252122473,10.577256555582377,-3.0157117103110673,-19.37713046863898,-1.012226930799566,4.307063675992827,-18.422743414249787,21.714095377851006,0.9877730671198934,-2.921001039577955,-9.149065756189009,13.394804774179422,-1.1490657645111713,20.4860306560386,-10.468356367142484,-11.51396931067275,-11.559582255243285,-9.285904589900614,-3.012226928719025,-6.422743426733031,-12.1490657530682,-11.331517532390608,-8.103452812658745],\"yaxis\":\"y\",\"type\":\"scatter\",\"textposition\":\"top center\"},{\"customdata\":[[57],[52],[35],[45],[31],[48],[51],[31],[47],[35],[35],[37],[26],[47],[49],[27],[29],[45],[46],[24],[22],[33],[27],[31],[58],[22],[48],[19],[47],[46],[50],[28],[35],[19],[47],[32],[24],[23],[26],[46],[49],[48],[46],[30],[19],[32],[25],[44],[23],[26],[49],[52],[45],[45],[24],[35],[19],[48],[26],[59],[26],[34],[53],[58]],\"hovertemplate\":\"Cluster=Cluster 1<br>PCA1=%{x}<br>PCA2=%{y}<br>Feature=%{customdata[0]}<extra></extra>\",\"legendgroup\":\"Cluster 1\",\"marker\":{\"color\":\"#EF553B\",\"opacity\":0.5,\"symbol\":\"circle\"},\"mode\":\"markers\",\"name\":\"Cluster 1\",\"orientation\":\"v\",\"showlegend\":true,\"x\":[-44593.33240752662,-32593.3326480746,-43593.333412051674,-48593.33295072086,-52593.33358514102,-37593.33282532502,-47593.33267808348,-36593.33360178534,-47593.332860535265,-31593.33342453492,-50593.333404769786,-37593.33332706742,-40593.33382568899,-40593.33286781716,-34593.33278283288,-53593.333766552525,-42593.33368676961,-48593.33295072086,-48593.332905107934,-38593.33391899543,-52593.333995657515,-42593.333504317845,-50593.33376967333,-55593.333582020205,-47593.332358792875,-43593.334005019955,-41593.332821163945,-45593.33413977824,-45593.3328626158,-38593.33291551065,-50593.332720575614,-38593.33373654364,-48593.333406850325,-49593.334135617166,-36593.33287197824,-52593.33353952807,-43593.33391379407,-42593.33396044728,-53593.333812165474,-42593.332911349564,-42593.332774510716,-35593.33282740557,-47593.33290614821,-55593.33362763315,-51593.33413353662,-52593.33353952807,-37593.333874422744,-31593.33301401842,-50593.33395212511,-55593.33381008493,-42593.332774510716,-49593.33263038999,-44593.33295488195,-38593.33296112357,-51593.3339054719,-45593.333409971136,-44593.334140818515,-37593.33282532502,-35593.33383089034,-41593.33231942155,-55593.33381008493,-45593.33345558408,-36593.33259830057,-32593.332374396938],\"xaxis\":\"x\",\"y\":[21.31403322149232,15.766677891847245,-0.7315797001922704,9.496485012257702,-4.3210631948963725,11.994742618861004,15.450872061445544,-5.050870308024934,11.450872065606628,-1.2789350350386917,-0.41228908819852467,0.9947426303039786,-9.868418524541445,11.131581453612881,12.85790378410913,-8.275450246164757,-6.777192638521183,9.496485012257702,10.49648501121743,-11.959644411601973,-13.32106318553394,-2.777192642682265,-8.412289079876363,-4.184224361184768,22.450872054163657,-13.731579686668756,12.177194397143145,-16.640353794406874,11.359646176465558,10.04035556551208,14.587710896197422,-7.959644415763054,-0.5035149773395948,-16.457902016124734,10.949129675330742,-3.321063195936645,-11.731579688749298,-12.777192632279561,-9.275450245124489,10.22280734379422,13.222807340673413,11.903516729719934,10.450872066646896,-5.184224360144499,-16.366676126983666,-3.321063195936645,-11.005257357212777,7.721064955598875,-12.41228907571528,-9.184224355983417,13.222807340673413,16.542097949546342,9.314033233975561,9.040355566552352,-11.366676132185017,-0.6403538110512002,-16.68596673897741,11.994742618861004,-10.09648324739412,23.17719438570017,-9.184224355983417,-1.64035381001093,16.949129669089118,21.76667788560563],\"yaxis\":\"y\",\"type\":\"scatter\",\"textposition\":\"top center\"},{\"customdata\":[[40],[38],[55],[32],[53],[47],[32],[45],[49],[47],[57],[51],[34],[37],[37],[48],[47],[43],[58],[44],[32],[32],[36],[59],[51],[36],[36],[37],[40],[32],[59],[48],[48],[29],[35],[48],[43],[46],[30],[33],[36],[43],[28],[34],[38],[60],[52],[33],[31],[42]],\"hovertemplate\":\"Cluster=Cluster 2<br>PCA1=%{x}<br>PCA2=%{y}<br>Feature=%{customdata[0]}<extra></extra>\",\"legendgroup\":\"Cluster 2\",\"marker\":{\"color\":\"#00cc96\",\"opacity\":0.5,\"symbol\":\"circle\"},\"mode\":\"markers\",\"name\":\"Cluster 2\",\"orientation\":\"v\",\"showlegend\":true,\"x\":[71406.66669638193,41406.66663636416,59406.66739305935,49406.66635436433,72406.66728830992,73406.667013592,64406.66633876028,60406.66693588963,70406.66710793872,42406.66704584038,51406.6674926074,75406.66719396324,41406.666453912374,66406.66656474443,73406.66655746255,48406.66708521171,36406.66705208201,62406.6668425832,73406.66751533438,68406.66688195452,46406.66635748515,79406.6663231562,73406.66651184963,59406.66757551112,63406.66720644649,55406.666530574475,54406.66653161474,75406.66655538202,36406.666732791404,46406.66635748515,72406.6675619876,70406.66706232575,67406.66706544656,77406.66618839791,76406.66646311586,63406.66706960765,58406.66684674429,46406.666996066364,36406.666276661956,42406.66640725917,47406.66653889664,41406.66686442889,52406.66616879174,44406.66645079156,42406.66663532388,37406.66764401002,67406.66724789835,78406.66636980942,47406.666310831926,78406.66678032592],\"xaxis\":\"x\",\"y\":[-0.9770683310051574,-1.6086799918085648,14.570286988237207,-7.973583542131225,11.977318710900793,5.931705772571881,-8.65777771068925,4.524674054069377,8.068544604202945,7.345707054258469,16.93519054272095,9.840479879269727,-5.608679987647483,-3.749003605031671,-4.068294217025417,8.072029385794986,7.61938472168168,2.4334481670088466,16.93170576112891,3.1597704985453654,-7.836744708419619,-9.341971879247277,-5.068294215985148,18.570286984076127,10.38783521411615,-4.2472612137155155,-4.201648269144981,-4.159520106166488,0.6193847289635704,-7.836744708419619,17.97731870465917,7.068544605243215,7.20538343895482,-12.250745986985395,-6.205133048656482,7.38783521723696,2.615899945290987,6.163255277016597,-9.380615260633727,-6.654292931177748,-3.882357657151234,3.3913200029900836,-12.110422371681747,-5.745518821359089,-1.6542929363790997,20.57377176358763,11.205383434793736,-8.296358935717013,-8.882357651949883,0.7036410549205552],\"yaxis\":\"y\",\"type\":\"scatter\",\"textposition\":\"top center\"},{\"customdata\":[[18],[28],[42],[33],[30],[36],[39],[47],[41],[41],[41],[46],[27],[35],[28],[40],[33],[31],[38],[23],[35],[38],[38],[35],[35],[33],[42],[27],[22],[24],[24],[26],[35],[21],[39],[47],[28],[28],[24],[47],[22],[18],[49],[38],[37],[42],[47],[37],[45],[48],[60],[26],[57],[46],[59],[35],[40],[38],[37],[35],[36],[40],[23],[42],[40],[23],[60],[35],[50],[40],[27],[35],[38],[34],[41],[56],[35],[39],[38],[39],[36],[18]],\"hovertemplate\":\"Cluster=Cluster 3<br>PCA1=%{x}<br>PCA2=%{y}<br>Feature=%{customdata[0]}<extra></extra>\",\"legendgroup\":\"Cluster 3\",\"marker\":{\"color\":\"#ab63fa\",\"opacity\":0.5,\"symbol\":\"circle\"},\"mode\":\"markers\",\"name\":\"Cluster 3\",\"orientation\":\"v\",\"showlegend\":true,\"x\":[-2593.334230122824,-15593.333760469865,-6593.333131251076,-10593.333537606493,-21593.33366300235,-10593.333400767659,-9593.333264969096,-27593.33288134067,-18593.333164380776,-18593.333164380776,-10593.333172702938,-29593.332924873077,-13593.333808163348,-9593.333447420875,-26593.33374902689,-10593.33321831588,-29593.33351784135,-12593.333626751844,-19593.33330017934,-4593.33399997756,-17593.33343909871,-9593.333310582044,-20593.333299139078,-15593.333441179253,-13593.333443259795,-19593.333528244057,-5593.333132291347,-12593.33380920362,-7593.3340424696935,-15593.333942921641,-15593.333942921641,-18593.33384857494,-20593.333435977896,-2593.334093283992,-28593.333245203954,-23593.332885501753,-11593.333764630945,-11593.333764630945,-12593.333946042454,-21593.3328875823,-15593.33403414753,-26593.33420515633,-5593.332813000736,-11593.333308501502,-17593.33334787282,-5593.333132291347,-19593.332889662837,-8593.333357235255,-25593.3329746471,-29593.33283364719,-28593.332287332123,-27593.3338392125,-10593.332442895828,-11593.332943597945,-28593.33233294507,-11593.333445340335,-13593.33321519507,-5593.333314743124,-15593.33334995336,-20593.333435977896,-20593.33339036495,-9593.333219356153,-22593.33398125269,-17593.333119808096,-23593.333204792365,-7593.333996856749,-28593.332287332123,-10593.333446380606,-26593.33274554211,-11593.33321727561,-12593.33380920362,-23593.33343285708,-20593.333299139067,-27593.333474308947,-19593.333163340503,-10593.332488508773,-12593.333444300064,-28593.333245203954,-9593.333310582044,-11593.333262888556,-7593.333403888471,-18593.334213478494],\"xaxis\":\"x\",\"y\":[-19.601710409899614,-9.008742140885362,4.5807413434160384,-4.2368068689393885,-6.735064475542691,-1.236806872060199,1.717580180248455,10.538613174195925,4.12809667930273,4.12809667930273,3.763193122738449,9.629839064377263,-10.099968028986162,-2.2824198155904636,-8.506999750609475,2.76319312377872,-3.3701609220992217,-6.145580977717777,1.1737096269940763,-14.510484525959894,-1.917516259026183,0.7175801812887254,1.2193225715646117,-2.008742148167253,-2.099968037308323,-3.8262903678045728,4.535128398845503,-10.145580973556696,-15.373645691208019,-13.008742136724281,-13.008742136724281,-10.871903305093216,-1.7806774253145778,-16.601710413020427,2.5842261270886215,10.356161395913785,-9.191193919167503,-9.191193919167503,-13.145580970435885,10.264935506772714,-15.008742134643736,-18.506999740206773,11.535128391563612,0.8088060704297955,0.08248373889327633,4.535128398845503,10.173709617631646,-0.32803276224153965,8.447387287135395,11.629839062296725,23.584226105242948,-10.461386803958401,19.76319310609413,8.808806062107632,22.584226106283218,-2.1911939264493934,2.9000319574903255,0.5351284030065848,-0.008742150247793953,-1.7806774253145778,-0.780677426354848,2.717580179208185,-13.689451523690265,5.082483733691924,3.356161403195676,-14.37364569224829,23.584226105242948,-2.2368068710199287,13.493000226504579,2.808806068349255,-10.145580973556696,-1.6438385916029725,1.2193225715646114,-2.4613868122805624,4.173709623873265,18.76319310713439,-2.145580981878858,2.5842261270886215,0.7175801812887254,1.8088060693895252,-1.3736457057718043,-18.871903296771052],\"yaxis\":\"y\",\"type\":\"scatter\",\"textposition\":\"top center\"}],                        {\"template\":{\"data\":{\"bar\":[{\"error_x\":{\"color\":\"#2a3f5f\"},\"error_y\":{\"color\":\"#2a3f5f\"},\"marker\":{\"line\":{\"color\":\"#E5ECF6\",\"width\":0.5},\"pattern\":{\"fillmode\":\"overlay\",\"size\":10,\"solidity\":0.2}},\"type\":\"bar\"}],\"barpolar\":[{\"marker\":{\"line\":{\"color\":\"#E5ECF6\",\"width\":0.5},\"pattern\":{\"fillmode\":\"overlay\",\"size\":10,\"solidity\":0.2}},\"type\":\"barpolar\"}],\"carpet\":[{\"aaxis\":{\"endlinecolor\":\"#2a3f5f\",\"gridcolor\":\"white\",\"linecolor\":\"white\",\"minorgridcolor\":\"white\",\"startlinecolor\":\"#2a3f5f\"},\"baxis\":{\"endlinecolor\":\"#2a3f5f\",\"gridcolor\":\"white\",\"linecolor\":\"white\",\"minorgridcolor\":\"white\",\"startlinecolor\":\"#2a3f5f\"},\"type\":\"carpet\"}],\"choropleth\":[{\"colorbar\":{\"outlinewidth\":0,\"ticks\":\"\"},\"type\":\"choropleth\"}],\"contour\":[{\"colorbar\":{\"outlinewidth\":0,\"ticks\":\"\"},\"colorscale\":[[0.0,\"#0d0887\"],[0.1111111111111111,\"#46039f\"],[0.2222222222222222,\"#7201a8\"],[0.3333333333333333,\"#9c179e\"],[0.4444444444444444,\"#bd3786\"],[0.5555555555555556,\"#d8576b\"],[0.6666666666666666,\"#ed7953\"],[0.7777777777777778,\"#fb9f3a\"],[0.8888888888888888,\"#fdca26\"],[1.0,\"#f0f921\"]],\"type\":\"contour\"}],\"contourcarpet\":[{\"colorbar\":{\"outlinewidth\":0,\"ticks\":\"\"},\"type\":\"contourcarpet\"}],\"heatmap\":[{\"colorbar\":{\"outlinewidth\":0,\"ticks\":\"\"},\"colorscale\":[[0.0,\"#0d0887\"],[0.1111111111111111,\"#46039f\"],[0.2222222222222222,\"#7201a8\"],[0.3333333333333333,\"#9c179e\"],[0.4444444444444444,\"#bd3786\"],[0.5555555555555556,\"#d8576b\"],[0.6666666666666666,\"#ed7953\"],[0.7777777777777778,\"#fb9f3a\"],[0.8888888888888888,\"#fdca26\"],[1.0,\"#f0f921\"]],\"type\":\"heatmap\"}],\"heatmapgl\":[{\"colorbar\":{\"outlinewidth\":0,\"ticks\":\"\"},\"colorscale\":[[0.0,\"#0d0887\"],[0.1111111111111111,\"#46039f\"],[0.2222222222222222,\"#7201a8\"],[0.3333333333333333,\"#9c179e\"],[0.4444444444444444,\"#bd3786\"],[0.5555555555555556,\"#d8576b\"],[0.6666666666666666,\"#ed7953\"],[0.7777777777777778,\"#fb9f3a\"],[0.8888888888888888,\"#fdca26\"],[1.0,\"#f0f921\"]],\"type\":\"heatmapgl\"}],\"histogram\":[{\"marker\":{\"pattern\":{\"fillmode\":\"overlay\",\"size\":10,\"solidity\":0.2}},\"type\":\"histogram\"}],\"histogram2d\":[{\"colorbar\":{\"outlinewidth\":0,\"ticks\":\"\"},\"colorscale\":[[0.0,\"#0d0887\"],[0.1111111111111111,\"#46039f\"],[0.2222222222222222,\"#7201a8\"],[0.3333333333333333,\"#9c179e\"],[0.4444444444444444,\"#bd3786\"],[0.5555555555555556,\"#d8576b\"],[0.6666666666666666,\"#ed7953\"],[0.7777777777777778,\"#fb9f3a\"],[0.8888888888888888,\"#fdca26\"],[1.0,\"#f0f921\"]],\"type\":\"histogram2d\"}],\"histogram2dcontour\":[{\"colorbar\":{\"outlinewidth\":0,\"ticks\":\"\"},\"colorscale\":[[0.0,\"#0d0887\"],[0.1111111111111111,\"#46039f\"],[0.2222222222222222,\"#7201a8\"],[0.3333333333333333,\"#9c179e\"],[0.4444444444444444,\"#bd3786\"],[0.5555555555555556,\"#d8576b\"],[0.6666666666666666,\"#ed7953\"],[0.7777777777777778,\"#fb9f3a\"],[0.8888888888888888,\"#fdca26\"],[1.0,\"#f0f921\"]],\"type\":\"histogram2dcontour\"}],\"mesh3d\":[{\"colorbar\":{\"outlinewidth\":0,\"ticks\":\"\"},\"type\":\"mesh3d\"}],\"parcoords\":[{\"line\":{\"colorbar\":{\"outlinewidth\":0,\"ticks\":\"\"}},\"type\":\"parcoords\"}],\"pie\":[{\"automargin\":true,\"type\":\"pie\"}],\"scatter\":[{\"marker\":{\"colorbar\":{\"outlinewidth\":0,\"ticks\":\"\"}},\"type\":\"scatter\"}],\"scatter3d\":[{\"line\":{\"colorbar\":{\"outlinewidth\":0,\"ticks\":\"\"}},\"marker\":{\"colorbar\":{\"outlinewidth\":0,\"ticks\":\"\"}},\"type\":\"scatter3d\"}],\"scattercarpet\":[{\"marker\":{\"colorbar\":{\"outlinewidth\":0,\"ticks\":\"\"}},\"type\":\"scattercarpet\"}],\"scattergeo\":[{\"marker\":{\"colorbar\":{\"outlinewidth\":0,\"ticks\":\"\"}},\"type\":\"scattergeo\"}],\"scattergl\":[{\"marker\":{\"colorbar\":{\"outlinewidth\":0,\"ticks\":\"\"}},\"type\":\"scattergl\"}],\"scattermapbox\":[{\"marker\":{\"colorbar\":{\"outlinewidth\":0,\"ticks\":\"\"}},\"type\":\"scattermapbox\"}],\"scatterpolar\":[{\"marker\":{\"colorbar\":{\"outlinewidth\":0,\"ticks\":\"\"}},\"type\":\"scatterpolar\"}],\"scatterpolargl\":[{\"marker\":{\"colorbar\":{\"outlinewidth\":0,\"ticks\":\"\"}},\"type\":\"scatterpolargl\"}],\"scatterternary\":[{\"marker\":{\"colorbar\":{\"outlinewidth\":0,\"ticks\":\"\"}},\"type\":\"scatterternary\"}],\"surface\":[{\"colorbar\":{\"outlinewidth\":0,\"ticks\":\"\"},\"colorscale\":[[0.0,\"#0d0887\"],[0.1111111111111111,\"#46039f\"],[0.2222222222222222,\"#7201a8\"],[0.3333333333333333,\"#9c179e\"],[0.4444444444444444,\"#bd3786\"],[0.5555555555555556,\"#d8576b\"],[0.6666666666666666,\"#ed7953\"],[0.7777777777777778,\"#fb9f3a\"],[0.8888888888888888,\"#fdca26\"],[1.0,\"#f0f921\"]],\"type\":\"surface\"}],\"table\":[{\"cells\":{\"fill\":{\"color\":\"#EBF0F8\"},\"line\":{\"color\":\"white\"}},\"header\":{\"fill\":{\"color\":\"#C8D4E3\"},\"line\":{\"color\":\"white\"}},\"type\":\"table\"}]},\"layout\":{\"annotationdefaults\":{\"arrowcolor\":\"#2a3f5f\",\"arrowhead\":0,\"arrowwidth\":1},\"autotypenumbers\":\"strict\",\"coloraxis\":{\"colorbar\":{\"outlinewidth\":0,\"ticks\":\"\"}},\"colorscale\":{\"diverging\":[[0,\"#8e0152\"],[0.1,\"#c51b7d\"],[0.2,\"#de77ae\"],[0.3,\"#f1b6da\"],[0.4,\"#fde0ef\"],[0.5,\"#f7f7f7\"],[0.6,\"#e6f5d0\"],[0.7,\"#b8e186\"],[0.8,\"#7fbc41\"],[0.9,\"#4d9221\"],[1,\"#276419\"]],\"sequential\":[[0.0,\"#0d0887\"],[0.1111111111111111,\"#46039f\"],[0.2222222222222222,\"#7201a8\"],[0.3333333333333333,\"#9c179e\"],[0.4444444444444444,\"#bd3786\"],[0.5555555555555556,\"#d8576b\"],[0.6666666666666666,\"#ed7953\"],[0.7777777777777778,\"#fb9f3a\"],[0.8888888888888888,\"#fdca26\"],[1.0,\"#f0f921\"]],\"sequentialminus\":[[0.0,\"#0d0887\"],[0.1111111111111111,\"#46039f\"],[0.2222222222222222,\"#7201a8\"],[0.3333333333333333,\"#9c179e\"],[0.4444444444444444,\"#bd3786\"],[0.5555555555555556,\"#d8576b\"],[0.6666666666666666,\"#ed7953\"],[0.7777777777777778,\"#fb9f3a\"],[0.8888888888888888,\"#fdca26\"],[1.0,\"#f0f921\"]]},\"colorway\":[\"#636efa\",\"#EF553B\",\"#00cc96\",\"#ab63fa\",\"#FFA15A\",\"#19d3f3\",\"#FF6692\",\"#B6E880\",\"#FF97FF\",\"#FECB52\"],\"font\":{\"color\":\"#2a3f5f\"},\"geo\":{\"bgcolor\":\"white\",\"lakecolor\":\"white\",\"landcolor\":\"#E5ECF6\",\"showlakes\":true,\"showland\":true,\"subunitcolor\":\"white\"},\"hoverlabel\":{\"align\":\"left\"},\"hovermode\":\"closest\",\"mapbox\":{\"style\":\"light\"},\"paper_bgcolor\":\"white\",\"plot_bgcolor\":\"#E5ECF6\",\"polar\":{\"angularaxis\":{\"gridcolor\":\"white\",\"linecolor\":\"white\",\"ticks\":\"\"},\"bgcolor\":\"#E5ECF6\",\"radialaxis\":{\"gridcolor\":\"white\",\"linecolor\":\"white\",\"ticks\":\"\"}},\"scene\":{\"xaxis\":{\"backgroundcolor\":\"#E5ECF6\",\"gridcolor\":\"white\",\"gridwidth\":2,\"linecolor\":\"white\",\"showbackground\":true,\"ticks\":\"\",\"zerolinecolor\":\"white\"},\"yaxis\":{\"backgroundcolor\":\"#E5ECF6\",\"gridcolor\":\"white\",\"gridwidth\":2,\"linecolor\":\"white\",\"showbackground\":true,\"ticks\":\"\",\"zerolinecolor\":\"white\"},\"zaxis\":{\"backgroundcolor\":\"#E5ECF6\",\"gridcolor\":\"white\",\"gridwidth\":2,\"linecolor\":\"white\",\"showbackground\":true,\"ticks\":\"\",\"zerolinecolor\":\"white\"}},\"shapedefaults\":{\"line\":{\"color\":\"#2a3f5f\"}},\"ternary\":{\"aaxis\":{\"gridcolor\":\"white\",\"linecolor\":\"white\",\"ticks\":\"\"},\"baxis\":{\"gridcolor\":\"white\",\"linecolor\":\"white\",\"ticks\":\"\"},\"bgcolor\":\"#E5ECF6\",\"caxis\":{\"gridcolor\":\"white\",\"linecolor\":\"white\",\"ticks\":\"\"}},\"title\":{\"x\":0.05},\"xaxis\":{\"automargin\":true,\"gridcolor\":\"white\",\"linecolor\":\"white\",\"ticks\":\"\",\"title\":{\"standoff\":15},\"zerolinecolor\":\"white\",\"zerolinewidth\":2},\"yaxis\":{\"automargin\":true,\"gridcolor\":\"white\",\"linecolor\":\"white\",\"ticks\":\"\",\"title\":{\"standoff\":15},\"zerolinecolor\":\"white\",\"zerolinewidth\":2}}},\"xaxis\":{\"anchor\":\"y\",\"domain\":[0.0,1.0],\"title\":{\"text\":\"PCA1\"}},\"yaxis\":{\"anchor\":\"x\",\"domain\":[0.0,1.0],\"title\":{\"text\":\"PCA2\"}},\"legend\":{\"title\":{\"text\":\"Cluster\"},\"tracegroupgap\":0},\"margin\":{\"t\":60},\"plot_bgcolor\":\"rgb(240,240,240)\",\"title\":{\"text\":\"2D Cluster PCA Plot\"},\"height\":600},                        {\"responsive\": true}                    ).then(function(){\n",
              "                            \n",
              "var gd = document.getElementById('f3160d9d-f470-4a64-9746-17431fde016b');\n",
              "var x = new MutationObserver(function (mutations, observer) {{\n",
              "        var display = window.getComputedStyle(gd).display;\n",
              "        if (!display || display === 'none') {{\n",
              "            console.log([gd, 'removed!']);\n",
              "            Plotly.purge(gd);\n",
              "            observer.disconnect();\n",
              "        }}\n",
              "}});\n",
              "\n",
              "// Listen for the removal of the full notebook cells\n",
              "var notebookContainer = gd.closest('#notebook-container');\n",
              "if (notebookContainer) {{\n",
              "    x.observe(notebookContainer, {childList: true});\n",
              "}}\n",
              "\n",
              "// Listen for the clearing of the current output cell\n",
              "var outputEl = gd.closest('.output');\n",
              "if (outputEl) {{\n",
              "    x.observe(outputEl, {childList: true});\n",
              "}}\n",
              "\n",
              "                        })                };                            </script>        </div>\n",
              "</body>\n",
              "</html>"
            ]
          },
          "metadata": {}
        }
      ]
    },
    {
      "cell_type": "markdown",
      "metadata": {
        "id": "biFWhfQlkk_D"
      },
      "source": [
        "## **Visualización del Codo**"
      ]
    },
    {
      "cell_type": "code",
      "metadata": {
        "colab": {
          "base_uri": "https://localhost:8080/",
          "height": 294
        },
        "id": "xtdCneDKxTn5",
        "outputId": "9eddafde-cc44-4b2a-d703-7be6e6a34ced"
      },
      "source": [
        "plot_model(km, plot = 'elbow')"
      ],
      "execution_count": 22,
      "outputs": [
        {
          "output_type": "display_data",
          "data": {
            "text/plain": [
              "<IPython.core.display.HTML object>"
            ],
            "text/html": []
          },
          "metadata": {}
        },
        {
          "output_type": "display_data",
          "data": {
            "text/plain": [
              "<Figure size 432x288 with 1 Axes>"
            ],
            "image/png": "[encoded data removed]"
          },
          "metadata": {
            "needs_background": "light"
          }
        }
      ]
    },
    {
      "cell_type": "markdown",
      "metadata": {
        "id": "ZOiAtz2Xf1Qz"
      },
      "source": [
        "## **Visualización de la Silueta**"
      ]
    },
    {
      "cell_type": "code",
      "metadata": {
        "colab": {
          "base_uri": "https://localhost:8080/",
          "height": 294
        },
        "id": "N3PMa1naf2wl",
        "outputId": "2d3be2e0-8d94-4068-d28a-cb7fb540f13c"
      },
      "source": [
        "plot_model(km, plot = 'silhouette')"
      ],
      "execution_count": 23,
      "outputs": [
        {
          "output_type": "display_data",
          "data": {
            "text/plain": [
              "<IPython.core.display.HTML object>"
            ],
            "text/html": []
          },
          "metadata": {}
        },
        {
          "output_type": "display_data",
          "data": {
            "text/plain": [
              "<Figure size 432x288 with 1 Axes>"
            ],
            "image/png": "[encoded data removed]"
          },
          "metadata": {
            "needs_background": "light"
          }
        }
      ]
    },
    {
      "cell_type": "markdown",
      "metadata": {
        "id": "diMjePSmgFfZ"
      },
      "source": [
        "## **Visualización de la Distribución**"
      ]
    },
    {
      "cell_type": "markdown",
      "metadata": {
        "id": "oKTw7RW4gHir"
      },
      "source": [
        "La gráfica de distribución muestra el tamaño de cada grupo. Al pasar el cursor sobre las barras, verá el número de muestras asignadas a cada grupo. En el ejemplo anterior, podemos observar que el grupo 3 tiene el mayor número de muestras. También podemos usar la gráfica de distribución para ver la distribución de etiquetas de clusters en asociación con cualquier otra característica numérica o categórica. "
      ]
    },
    {
      "cell_type": "code",
      "metadata": {
        "colab": {
          "base_uri": "https://localhost:8080/",
          "height": 617
        },
        "id": "gLMmWq8SgMq4",
        "outputId": "5df775ee-92a8-4514-e11d-5a890e0f55f8"
      },
      "source": [
        "plot_model(km, plot = 'distribution')"
      ],
      "execution_count": 24,
      "outputs": [
        {
          "output_type": "display_data",
          "data": {
            "text/plain": [
              "<IPython.core.display.HTML object>"
            ],
            "text/html": []
          },
          "metadata": {}
        },
        {
          "output_type": "display_data",
          "data": {
            "text/html": [
              "<html>\n",
              "<head><meta charset=\"utf-8\" /></head>\n",
              "<body>\n",
              "    <div>            <script src=\"https://cdnjs.cloudflare.com/ajax/libs/mathjax/2.7.5/MathJax.js?config=TeX-AMS-MML_SVG\"></script><script type=\"text/javascript\">if (window.MathJax) {MathJax.Hub.Config({SVG: {font: \"STIX-Web\"}});}</script>                <script type=\"text/javascript\">window.PlotlyConfig = {MathJaxConfig: 'local'};</script>\n",
              "        <script src=\"https://cdn.plot.ly/plotly-2.8.3.min.js\"></script>                <div id=\"6aa4e854-afe8-4784-a951-45587bdb7476\" class=\"plotly-graph-div\" style=\"height:600px; width:100%;\"></div>            <script type=\"text/javascript\">                                    window.PLOTLYENV=window.PLOTLYENV || {};                                    if (document.getElementById(\"6aa4e854-afe8-4784-a951-45587bdb7476\")) {                    Plotly.newPlot(                        \"6aa4e854-afe8-4784-a951-45587bdb7476\",                        [{\"alignmentgroup\":\"True\",\"bingroup\":\"x\",\"hovertemplate\":\"Cluster=%{x}<br>count=%{y}<extra></extra>\",\"legendgroup\":\"Cluster 0\",\"marker\":{\"color\":\"#636efa\",\"opacity\":0.7,\"pattern\":{\"shape\":\"\"}},\"name\":\"Cluster 0\",\"offsetgroup\":\"Cluster 0\",\"orientation\":\"v\",\"showlegend\":true,\"x\":[\"Cluster 0\",\"Cluster 0\",\"Cluster 0\",\"Cluster 0\",\"Cluster 0\",\"Cluster 0\",\"Cluster 0\",\"Cluster 0\",\"Cluster 0\",\"Cluster 0\",\"Cluster 0\",\"Cluster 0\",\"Cluster 0\",\"Cluster 0\",\"Cluster 0\",\"Cluster 0\",\"Cluster 0\",\"Cluster 0\",\"Cluster 0\",\"Cluster 0\",\"Cluster 0\",\"Cluster 0\",\"Cluster 0\",\"Cluster 0\",\"Cluster 0\",\"Cluster 0\",\"Cluster 0\",\"Cluster 0\",\"Cluster 0\",\"Cluster 0\",\"Cluster 0\",\"Cluster 0\",\"Cluster 0\",\"Cluster 0\",\"Cluster 0\",\"Cluster 0\",\"Cluster 0\",\"Cluster 0\",\"Cluster 0\",\"Cluster 0\",\"Cluster 0\",\"Cluster 0\",\"Cluster 0\",\"Cluster 0\",\"Cluster 0\",\"Cluster 0\",\"Cluster 0\",\"Cluster 0\",\"Cluster 0\",\"Cluster 0\",\"Cluster 0\",\"Cluster 0\",\"Cluster 0\",\"Cluster 0\",\"Cluster 0\",\"Cluster 0\",\"Cluster 0\",\"Cluster 0\",\"Cluster 0\",\"Cluster 0\",\"Cluster 0\",\"Cluster 0\",\"Cluster 0\",\"Cluster 0\",\"Cluster 0\",\"Cluster 0\",\"Cluster 0\",\"Cluster 0\",\"Cluster 0\",\"Cluster 0\",\"Cluster 0\",\"Cluster 0\",\"Cluster 0\",\"Cluster 0\",\"Cluster 0\",\"Cluster 0\",\"Cluster 0\",\"Cluster 0\",\"Cluster 0\",\"Cluster 0\",\"Cluster 0\",\"Cluster 0\",\"Cluster 0\",\"Cluster 0\",\"Cluster 0\",\"Cluster 0\",\"Cluster 0\",\"Cluster 0\",\"Cluster 0\",\"Cluster 0\",\"Cluster 0\",\"Cluster 0\",\"Cluster 0\",\"Cluster 0\",\"Cluster 0\",\"Cluster 0\",\"Cluster 0\",\"Cluster 0\",\"Cluster 0\",\"Cluster 0\",\"Cluster 0\",\"Cluster 0\",\"Cluster 0\",\"Cluster 0\"],\"xaxis\":\"x\",\"yaxis\":\"y\",\"type\":\"histogram\"},{\"alignmentgroup\":\"True\",\"customdata\":[[30,87000],[42,80000],[35,72000],[40,71000],[46,79000],[36,75000],[37,78000],[20,82000],[57,74000],[26,80000],[41,87000],[27,90000],[25,87000],[35,71000],[37,70000],[26,86000],[31,74000],[25,79000],[20,82000],[41,72000],[59,83000],[42,80000],[40,75000],[24,84000],[27,96000],[48,90000],[42,104000],[53,104000],[42,73000],[31,89000],[46,82000],[60,102000],[46,96000],[39,96000],[28,89000],[33,69000],[42,79000],[41,80000],[31,71000],[29,75000],[31,76000],[38,80000],[42,75000],[39,75000],[37,80000],[38,71000],[48,74000],[53,72000],[54,70000],[30,80000],[58,95000],[45,79000],[40,75000],[54,104000],[20,74000],[48,96000],[39,71000],[35,88000],[59,76000],[42,90000],[40,78000],[46,74000],[35,91000],[58,101000],[23,82000],[28,84000],[26,84000],[37,71000],[35,97000],[46,88000],[40,72000],[32,100000],[25,90000],[35,72000],[18,82000],[35,75000],[19,76000],[47,105000],[37,79000],[22,81000],[21,88000],[24,89000],[49,86000],[36,99000],[19,85000],[37,77000],[42,70000],[20,86000],[60,83000],[39,77000],[35,75000],[29,80000],[52,90000],[37,80000],[59,88000],[28,87000],[27,88000],[27,89000],[29,83000],[35,77000],[32,86000],[26,80000],[27,84000],[30,79000]],\"hovertemplate\":\"Cluster=%{x}<br>Edad=%{customdata[0]}<br>Salario=%{customdata[1]}<extra></extra>\",\"legendgroup\":\"Cluster 0\",\"marker\":{\"color\":\"#636efa\"},\"name\":\"Cluster 0\",\"notched\":true,\"offsetgroup\":\"Cluster 0\",\"showlegend\":false,\"x\":[\"Cluster 0\",\"Cluster 0\",\"Cluster 0\",\"Cluster 0\",\"Cluster 0\",\"Cluster 0\",\"Cluster 0\",\"Cluster 0\",\"Cluster 0\",\"Cluster 0\",\"Cluster 0\",\"Cluster 0\",\"Cluster 0\",\"Cluster 0\",\"Cluster 0\",\"Cluster 0\",\"Cluster 0\",\"Cluster 0\",\"Cluster 0\",\"Cluster 0\",\"Cluster 0\",\"Cluster 0\",\"Cluster 0\",\"Cluster 0\",\"Cluster 0\",\"Cluster 0\",\"Cluster 0\",\"Cluster 0\",\"Cluster 0\",\"Cluster 0\",\"Cluster 0\",\"Cluster 0\",\"Cluster 0\",\"Cluster 0\",\"Cluster 0\",\"Cluster 0\",\"Cluster 0\",\"Cluster 0\",\"Cluster 0\",\"Cluster 0\",\"Cluster 0\",\"Cluster 0\",\"Cluster 0\",\"Cluster 0\",\"Cluster 0\",\"Cluster 0\",\"Cluster 0\",\"Cluster 0\",\"Cluster 0\",\"Cluster 0\",\"Cluster 0\",\"Cluster 0\",\"Cluster 0\",\"Cluster 0\",\"Cluster 0\",\"Cluster 0\",\"Cluster 0\",\"Cluster 0\",\"Cluster 0\",\"Cluster 0\",\"Cluster 0\",\"Cluster 0\",\"Cluster 0\",\"Cluster 0\",\"Cluster 0\",\"Cluster 0\",\"Cluster 0\",\"Cluster 0\",\"Cluster 0\",\"Cluster 0\",\"Cluster 0\",\"Cluster 0\",\"Cluster 0\",\"Cluster 0\",\"Cluster 0\",\"Cluster 0\",\"Cluster 0\",\"Cluster 0\",\"Cluster 0\",\"Cluster 0\",\"Cluster 0\",\"Cluster 0\",\"Cluster 0\",\"Cluster 0\",\"Cluster 0\",\"Cluster 0\",\"Cluster 0\",\"Cluster 0\",\"Cluster 0\",\"Cluster 0\",\"Cluster 0\",\"Cluster 0\",\"Cluster 0\",\"Cluster 0\",\"Cluster 0\",\"Cluster 0\",\"Cluster 0\",\"Cluster 0\",\"Cluster 0\",\"Cluster 0\",\"Cluster 0\",\"Cluster 0\",\"Cluster 0\",\"Cluster 0\"],\"xaxis\":\"x2\",\"yaxis\":\"y2\",\"type\":\"box\"},{\"alignmentgroup\":\"True\",\"bingroup\":\"x\",\"hovertemplate\":\"Cluster=%{x}<br>count=%{y}<extra></extra>\",\"legendgroup\":\"Cluster 1\",\"marker\":{\"color\":\"#EF553B\",\"opacity\":0.7,\"pattern\":{\"shape\":\"\"}},\"name\":\"Cluster 1\",\"offsetgroup\":\"Cluster 1\",\"orientation\":\"v\",\"showlegend\":true,\"x\":[\"Cluster 1\",\"Cluster 1\",\"Cluster 1\",\"Cluster 1\",\"Cluster 1\",\"Cluster 1\",\"Cluster 1\",\"Cluster 1\",\"Cluster 1\",\"Cluster 1\",\"Cluster 1\",\"Cluster 1\",\"Cluster 1\",\"Cluster 1\",\"Cluster 1\",\"Cluster 1\",\"Cluster 1\",\"Cluster 1\",\"Cluster 1\",\"Cluster 1\",\"Cluster 1\",\"Cluster 1\",\"Cluster 1\",\"Cluster 1\",\"Cluster 1\",\"Cluster 1\",\"Cluster 1\",\"Cluster 1\",\"Cluster 1\",\"Cluster 1\",\"Cluster 1\",\"Cluster 1\",\"Cluster 1\",\"Cluster 1\",\"Cluster 1\",\"Cluster 1\",\"Cluster 1\",\"Cluster 1\",\"Cluster 1\",\"Cluster 1\",\"Cluster 1\",\"Cluster 1\",\"Cluster 1\",\"Cluster 1\",\"Cluster 1\",\"Cluster 1\",\"Cluster 1\",\"Cluster 1\",\"Cluster 1\",\"Cluster 1\",\"Cluster 1\",\"Cluster 1\",\"Cluster 1\",\"Cluster 1\",\"Cluster 1\",\"Cluster 1\",\"Cluster 1\",\"Cluster 1\",\"Cluster 1\",\"Cluster 1\",\"Cluster 1\",\"Cluster 1\",\"Cluster 1\",\"Cluster 1\"],\"xaxis\":\"x\",\"yaxis\":\"y\",\"type\":\"histogram\"},{\"alignmentgroup\":\"True\",\"customdata\":[[57,26000],[52,38000],[35,27000],[45,22000],[31,18000],[48,33000],[51,23000],[31,34000],[47,23000],[35,39000],[35,20000],[37,33000],[26,30000],[47,30000],[49,36000],[27,17000],[29,28000],[45,22000],[46,22000],[24,32000],[22,18000],[33,28000],[27,20000],[31,15000],[58,23000],[22,27000],[48,29000],[19,25000],[47,25000],[46,32000],[50,20000],[28,32000],[35,22000],[19,21000],[47,34000],[32,18000],[24,27000],[23,28000],[26,17000],[46,28000],[49,28000],[48,35000],[46,23000],[30,15000],[19,19000],[32,18000],[25,33000],[44,39000],[23,20000],[26,15000],[49,28000],[52,21000],[45,26000],[45,32000],[24,19000],[35,25000],[19,26000],[48,33000],[26,35000],[59,29000],[26,15000],[34,25000],[53,34000],[58,38000]],\"hovertemplate\":\"Cluster=%{x}<br>Edad=%{customdata[0]}<br>Salario=%{customdata[1]}<extra></extra>\",\"legendgroup\":\"Cluster 1\",\"marker\":{\"color\":\"#EF553B\"},\"name\":\"Cluster 1\",\"notched\":true,\"offsetgroup\":\"Cluster 1\",\"showlegend\":false,\"x\":[\"Cluster 1\",\"Cluster 1\",\"Cluster 1\",\"Cluster 1\",\"Cluster 1\",\"Cluster 1\",\"Cluster 1\",\"Cluster 1\",\"Cluster 1\",\"Cluster 1\",\"Cluster 1\",\"Cluster 1\",\"Cluster 1\",\"Cluster 1\",\"Cluster 1\",\"Cluster 1\",\"Cluster 1\",\"Cluster 1\",\"Cluster 1\",\"Cluster 1\",\"Cluster 1\",\"Cluster 1\",\"Cluster 1\",\"Cluster 1\",\"Cluster 1\",\"Cluster 1\",\"Cluster 1\",\"Cluster 1\",\"Cluster 1\",\"Cluster 1\",\"Cluster 1\",\"Cluster 1\",\"Cluster 1\",\"Cluster 1\",\"Cluster 1\",\"Cluster 1\",\"Cluster 1\",\"Cluster 1\",\"Cluster 1\",\"Cluster 1\",\"Cluster 1\",\"Cluster 1\",\"Cluster 1\",\"Cluster 1\",\"Cluster 1\",\"Cluster 1\",\"Cluster 1\",\"Cluster 1\",\"Cluster 1\",\"Cluster 1\",\"Cluster 1\",\"Cluster 1\",\"Cluster 1\",\"Cluster 1\",\"Cluster 1\",\"Cluster 1\",\"Cluster 1\",\"Cluster 1\",\"Cluster 1\",\"Cluster 1\",\"Cluster 1\",\"Cluster 1\",\"Cluster 1\",\"Cluster 1\"],\"xaxis\":\"x2\",\"yaxis\":\"y2\",\"type\":\"box\"},{\"alignmentgroup\":\"True\",\"bingroup\":\"x\",\"hovertemplate\":\"Cluster=%{x}<br>count=%{y}<extra></extra>\",\"legendgroup\":\"Cluster 2\",\"marker\":{\"color\":\"#00cc96\",\"opacity\":0.7,\"pattern\":{\"shape\":\"\"}},\"name\":\"Cluster 2\",\"offsetgroup\":\"Cluster 2\",\"orientation\":\"v\",\"showlegend\":true,\"x\":[\"Cluster 2\",\"Cluster 2\",\"Cluster 2\",\"Cluster 2\",\"Cluster 2\",\"Cluster 2\",\"Cluster 2\",\"Cluster 2\",\"Cluster 2\",\"Cluster 2\",\"Cluster 2\",\"Cluster 2\",\"Cluster 2\",\"Cluster 2\",\"Cluster 2\",\"Cluster 2\",\"Cluster 2\",\"Cluster 2\",\"Cluster 2\",\"Cluster 2\",\"Cluster 2\",\"Cluster 2\",\"Cluster 2\",\"Cluster 2\",\"Cluster 2\",\"Cluster 2\",\"Cluster 2\",\"Cluster 2\",\"Cluster 2\",\"Cluster 2\",\"Cluster 2\",\"Cluster 2\",\"Cluster 2\",\"Cluster 2\",\"Cluster 2\",\"Cluster 2\",\"Cluster 2\",\"Cluster 2\",\"Cluster 2\",\"Cluster 2\",\"Cluster 2\",\"Cluster 2\",\"Cluster 2\",\"Cluster 2\",\"Cluster 2\",\"Cluster 2\",\"Cluster 2\",\"Cluster 2\",\"Cluster 2\",\"Cluster 2\"],\"xaxis\":\"x\",\"yaxis\":\"y\",\"type\":\"histogram\"},{\"alignmentgroup\":\"True\",\"customdata\":[[40,142000],[38,112000],[55,130000],[32,120000],[53,143000],[47,144000],[32,135000],[45,131000],[49,141000],[47,113000],[57,122000],[51,146000],[34,112000],[37,137000],[37,144000],[48,119000],[47,107000],[43,133000],[58,144000],[44,139000],[32,117000],[32,150000],[36,144000],[59,130000],[51,134000],[36,126000],[36,125000],[37,146000],[40,107000],[32,117000],[59,143000],[48,141000],[48,138000],[29,148000],[35,147000],[48,134000],[43,129000],[46,117000],[30,107000],[33,113000],[36,118000],[43,112000],[28,123000],[34,115000],[38,113000],[60,108000],[52,138000],[33,149000],[31,118000],[42,149000]],\"hovertemplate\":\"Cluster=%{x}<br>Edad=%{customdata[0]}<br>Salario=%{customdata[1]}<extra></extra>\",\"legendgroup\":\"Cluster 2\",\"marker\":{\"color\":\"#00cc96\"},\"name\":\"Cluster 2\",\"notched\":true,\"offsetgroup\":\"Cluster 2\",\"showlegend\":false,\"x\":[\"Cluster 2\",\"Cluster 2\",\"Cluster 2\",\"Cluster 2\",\"Cluster 2\",\"Cluster 2\",\"Cluster 2\",\"Cluster 2\",\"Cluster 2\",\"Cluster 2\",\"Cluster 2\",\"Cluster 2\",\"Cluster 2\",\"Cluster 2\",\"Cluster 2\",\"Cluster 2\",\"Cluster 2\",\"Cluster 2\",\"Cluster 2\",\"Cluster 2\",\"Cluster 2\",\"Cluster 2\",\"Cluster 2\",\"Cluster 2\",\"Cluster 2\",\"Cluster 2\",\"Cluster 2\",\"Cluster 2\",\"Cluster 2\",\"Cluster 2\",\"Cluster 2\",\"Cluster 2\",\"Cluster 2\",\"Cluster 2\",\"Cluster 2\",\"Cluster 2\",\"Cluster 2\",\"Cluster 2\",\"Cluster 2\",\"Cluster 2\",\"Cluster 2\",\"Cluster 2\",\"Cluster 2\",\"Cluster 2\",\"Cluster 2\",\"Cluster 2\",\"Cluster 2\",\"Cluster 2\",\"Cluster 2\",\"Cluster 2\"],\"xaxis\":\"x2\",\"yaxis\":\"y2\",\"type\":\"box\"},{\"alignmentgroup\":\"True\",\"bingroup\":\"x\",\"hovertemplate\":\"Cluster=%{x}<br>count=%{y}<extra></extra>\",\"legendgroup\":\"Cluster 3\",\"marker\":{\"color\":\"#ab63fa\",\"opacity\":0.7,\"pattern\":{\"shape\":\"\"}},\"name\":\"Cluster 3\",\"offsetgroup\":\"Cluster 3\",\"orientation\":\"v\",\"showlegend\":true,\"x\":[\"Cluster 3\",\"Cluster 3\",\"Cluster 3\",\"Cluster 3\",\"Cluster 3\",\"Cluster 3\",\"Cluster 3\",\"Cluster 3\",\"Cluster 3\",\"Cluster 3\",\"Cluster 3\",\"Cluster 3\",\"Cluster 3\",\"Cluster 3\",\"Cluster 3\",\"Cluster 3\",\"Cluster 3\",\"Cluster 3\",\"Cluster 3\",\"Cluster 3\",\"Cluster 3\",\"Cluster 3\",\"Cluster 3\",\"Cluster 3\",\"Cluster 3\",\"Cluster 3\",\"Cluster 3\",\"Cluster 3\",\"Cluster 3\",\"Cluster 3\",\"Cluster 3\",\"Cluster 3\",\"Cluster 3\",\"Cluster 3\",\"Cluster 3\",\"Cluster 3\",\"Cluster 3\",\"Cluster 3\",\"Cluster 3\",\"Cluster 3\",\"Cluster 3\",\"Cluster 3\",\"Cluster 3\",\"Cluster 3\",\"Cluster 3\",\"Cluster 3\",\"Cluster 3\",\"Cluster 3\",\"Cluster 3\",\"Cluster 3\",\"Cluster 3\",\"Cluster 3\",\"Cluster 3\",\"Cluster 3\",\"Cluster 3\",\"Cluster 3\",\"Cluster 3\",\"Cluster 3\",\"Cluster 3\",\"Cluster 3\",\"Cluster 3\",\"Cluster 3\",\"Cluster 3\",\"Cluster 3\",\"Cluster 3\",\"Cluster 3\",\"Cluster 3\",\"Cluster 3\",\"Cluster 3\",\"Cluster 3\",\"Cluster 3\",\"Cluster 3\",\"Cluster 3\",\"Cluster 3\",\"Cluster 3\",\"Cluster 3\",\"Cluster 3\",\"Cluster 3\",\"Cluster 3\",\"Cluster 3\",\"Cluster 3\",\"Cluster 3\"],\"xaxis\":\"x\",\"yaxis\":\"y\",\"type\":\"histogram\"},{\"alignmentgroup\":\"True\",\"customdata\":[[18,68000],[28,55000],[42,64000],[33,60000],[30,49000],[36,60000],[39,61000],[47,43000],[41,52000],[41,52000],[41,60000],[46,41000],[27,57000],[35,61000],[28,44000],[40,60000],[33,41000],[31,58000],[38,51000],[23,66000],[35,53000],[38,61000],[38,50000],[35,55000],[35,57000],[33,51000],[42,65000],[27,58000],[22,63000],[24,55000],[24,55000],[26,52000],[35,50000],[21,68000],[39,42000],[47,47000],[28,59000],[28,59000],[24,58000],[47,49000],[22,55000],[18,44000],[49,65000],[38,59000],[37,53000],[42,65000],[47,51000],[37,62000],[45,45000],[48,41000],[60,42000],[26,43000],[57,60000],[46,59000],[59,42000],[35,59000],[40,57000],[38,65000],[37,55000],[35,50000],[36,50000],[40,61000],[23,48000],[42,53000],[40,47000],[23,63000],[60,42000],[35,60000],[50,44000],[40,59000],[27,58000],[35,47000],[38,50000],[34,43000],[41,51000],[56,60000],[35,58000],[39,42000],[38,61000],[39,59000],[36,63000],[18,52000]],\"hovertemplate\":\"Cluster=%{x}<br>Edad=%{customdata[0]}<br>Salario=%{customdata[1]}<extra></extra>\",\"legendgroup\":\"Cluster 3\",\"marker\":{\"color\":\"#ab63fa\"},\"name\":\"Cluster 3\",\"notched\":true,\"offsetgroup\":\"Cluster 3\",\"showlegend\":false,\"x\":[\"Cluster 3\",\"Cluster 3\",\"Cluster 3\",\"Cluster 3\",\"Cluster 3\",\"Cluster 3\",\"Cluster 3\",\"Cluster 3\",\"Cluster 3\",\"Cluster 3\",\"Cluster 3\",\"Cluster 3\",\"Cluster 3\",\"Cluster 3\",\"Cluster 3\",\"Cluster 3\",\"Cluster 3\",\"Cluster 3\",\"Cluster 3\",\"Cluster 3\",\"Cluster 3\",\"Cluster 3\",\"Cluster 3\",\"Cluster 3\",\"Cluster 3\",\"Cluster 3\",\"Cluster 3\",\"Cluster 3\",\"Cluster 3\",\"Cluster 3\",\"Cluster 3\",\"Cluster 3\",\"Cluster 3\",\"Cluster 3\",\"Cluster 3\",\"Cluster 3\",\"Cluster 3\",\"Cluster 3\",\"Cluster 3\",\"Cluster 3\",\"Cluster 3\",\"Cluster 3\",\"Cluster 3\",\"Cluster 3\",\"Cluster 3\",\"Cluster 3\",\"Cluster 3\",\"Cluster 3\",\"Cluster 3\",\"Cluster 3\",\"Cluster 3\",\"Cluster 3\",\"Cluster 3\",\"Cluster 3\",\"Cluster 3\",\"Cluster 3\",\"Cluster 3\",\"Cluster 3\",\"Cluster 3\",\"Cluster 3\",\"Cluster 3\",\"Cluster 3\",\"Cluster 3\",\"Cluster 3\",\"Cluster 3\",\"Cluster 3\",\"Cluster 3\",\"Cluster 3\",\"Cluster 3\",\"Cluster 3\",\"Cluster 3\",\"Cluster 3\",\"Cluster 3\",\"Cluster 3\",\"Cluster 3\",\"Cluster 3\",\"Cluster 3\",\"Cluster 3\",\"Cluster 3\",\"Cluster 3\",\"Cluster 3\",\"Cluster 3\"],\"xaxis\":\"x2\",\"yaxis\":\"y2\",\"type\":\"box\"}],                        {\"template\":{\"data\":{\"bar\":[{\"error_x\":{\"color\":\"#2a3f5f\"},\"error_y\":{\"color\":\"#2a3f5f\"},\"marker\":{\"line\":{\"color\":\"#E5ECF6\",\"width\":0.5},\"pattern\":{\"fillmode\":\"overlay\",\"size\":10,\"solidity\":0.2}},\"type\":\"bar\"}],\"barpolar\":[{\"marker\":{\"line\":{\"color\":\"#E5ECF6\",\"width\":0.5},\"pattern\":{\"fillmode\":\"overlay\",\"size\":10,\"solidity\":0.2}},\"type\":\"barpolar\"}],\"carpet\":[{\"aaxis\":{\"endlinecolor\":\"#2a3f5f\",\"gridcolor\":\"white\",\"linecolor\":\"white\",\"minorgridcolor\":\"white\",\"startlinecolor\":\"#2a3f5f\"},\"baxis\":{\"endlinecolor\":\"#2a3f5f\",\"gridcolor\":\"white\",\"linecolor\":\"white\",\"minorgridcolor\":\"white\",\"startlinecolor\":\"#2a3f5f\"},\"type\":\"carpet\"}],\"choropleth\":[{\"colorbar\":{\"outlinewidth\":0,\"ticks\":\"\"},\"type\":\"choropleth\"}],\"contour\":[{\"colorbar\":{\"outlinewidth\":0,\"ticks\":\"\"},\"colorscale\":[[0.0,\"#0d0887\"],[0.1111111111111111,\"#46039f\"],[0.2222222222222222,\"#7201a8\"],[0.3333333333333333,\"#9c179e\"],[0.4444444444444444,\"#bd3786\"],[0.5555555555555556,\"#d8576b\"],[0.6666666666666666,\"#ed7953\"],[0.7777777777777778,\"#fb9f3a\"],[0.8888888888888888,\"#fdca26\"],[1.0,\"#f0f921\"]],\"type\":\"contour\"}],\"contourcarpet\":[{\"colorbar\":{\"outlinewidth\":0,\"ticks\":\"\"},\"type\":\"contourcarpet\"}],\"heatmap\":[{\"colorbar\":{\"outlinewidth\":0,\"ticks\":\"\"},\"colorscale\":[[0.0,\"#0d0887\"],[0.1111111111111111,\"#46039f\"],[0.2222222222222222,\"#7201a8\"],[0.3333333333333333,\"#9c179e\"],[0.4444444444444444,\"#bd3786\"],[0.5555555555555556,\"#d8576b\"],[0.6666666666666666,\"#ed7953\"],[0.7777777777777778,\"#fb9f3a\"],[0.8888888888888888,\"#fdca26\"],[1.0,\"#f0f921\"]],\"type\":\"heatmap\"}],\"heatmapgl\":[{\"colorbar\":{\"outlinewidth\":0,\"ticks\":\"\"},\"colorscale\":[[0.0,\"#0d0887\"],[0.1111111111111111,\"#46039f\"],[0.2222222222222222,\"#7201a8\"],[0.3333333333333333,\"#9c179e\"],[0.4444444444444444,\"#bd3786\"],[0.5555555555555556,\"#d8576b\"],[0.6666666666666666,\"#ed7953\"],[0.7777777777777778,\"#fb9f3a\"],[0.8888888888888888,\"#fdca26\"],[1.0,\"#f0f921\"]],\"type\":\"heatmapgl\"}],\"histogram\":[{\"marker\":{\"pattern\":{\"fillmode\":\"overlay\",\"size\":10,\"solidity\":0.2}},\"type\":\"histogram\"}],\"histogram2d\":[{\"colorbar\":{\"outlinewidth\":0,\"ticks\":\"\"},\"colorscale\":[[0.0,\"#0d0887\"],[0.1111111111111111,\"#46039f\"],[0.2222222222222222,\"#7201a8\"],[0.3333333333333333,\"#9c179e\"],[0.4444444444444444,\"#bd3786\"],[0.5555555555555556,\"#d8576b\"],[0.6666666666666666,\"#ed7953\"],[0.7777777777777778,\"#fb9f3a\"],[0.8888888888888888,\"#fdca26\"],[1.0,\"#f0f921\"]],\"type\":\"histogram2d\"}],\"histogram2dcontour\":[{\"colorbar\":{\"outlinewidth\":0,\"ticks\":\"\"},\"colorscale\":[[0.0,\"#0d0887\"],[0.1111111111111111,\"#46039f\"],[0.2222222222222222,\"#7201a8\"],[0.3333333333333333,\"#9c179e\"],[0.4444444444444444,\"#bd3786\"],[0.5555555555555556,\"#d8576b\"],[0.6666666666666666,\"#ed7953\"],[0.7777777777777778,\"#fb9f3a\"],[0.8888888888888888,\"#fdca26\"],[1.0,\"#f0f921\"]],\"type\":\"histogram2dcontour\"}],\"mesh3d\":[{\"colorbar\":{\"outlinewidth\":0,\"ticks\":\"\"},\"type\":\"mesh3d\"}],\"parcoords\":[{\"line\":{\"colorbar\":{\"outlinewidth\":0,\"ticks\":\"\"}},\"type\":\"parcoords\"}],\"pie\":[{\"automargin\":true,\"type\":\"pie\"}],\"scatter\":[{\"marker\":{\"colorbar\":{\"outlinewidth\":0,\"ticks\":\"\"}},\"type\":\"scatter\"}],\"scatter3d\":[{\"line\":{\"colorbar\":{\"outlinewidth\":0,\"ticks\":\"\"}},\"marker\":{\"colorbar\":{\"outlinewidth\":0,\"ticks\":\"\"}},\"type\":\"scatter3d\"}],\"scattercarpet\":[{\"marker\":{\"colorbar\":{\"outlinewidth\":0,\"ticks\":\"\"}},\"type\":\"scattercarpet\"}],\"scattergeo\":[{\"marker\":{\"colorbar\":{\"outlinewidth\":0,\"ticks\":\"\"}},\"type\":\"scattergeo\"}],\"scattergl\":[{\"marker\":{\"colorbar\":{\"outlinewidth\":0,\"ticks\":\"\"}},\"type\":\"scattergl\"}],\"scattermapbox\":[{\"marker\":{\"colorbar\":{\"outlinewidth\":0,\"ticks\":\"\"}},\"type\":\"scattermapbox\"}],\"scatterpolar\":[{\"marker\":{\"colorbar\":{\"outlinewidth\":0,\"ticks\":\"\"}},\"type\":\"scatterpolar\"}],\"scatterpolargl\":[{\"marker\":{\"colorbar\":{\"outlinewidth\":0,\"ticks\":\"\"}},\"type\":\"scatterpolargl\"}],\"scatterternary\":[{\"marker\":{\"colorbar\":{\"outlinewidth\":0,\"ticks\":\"\"}},\"type\":\"scatterternary\"}],\"surface\":[{\"colorbar\":{\"outlinewidth\":0,\"ticks\":\"\"},\"colorscale\":[[0.0,\"#0d0887\"],[0.1111111111111111,\"#46039f\"],[0.2222222222222222,\"#7201a8\"],[0.3333333333333333,\"#9c179e\"],[0.4444444444444444,\"#bd3786\"],[0.5555555555555556,\"#d8576b\"],[0.6666666666666666,\"#ed7953\"],[0.7777777777777778,\"#fb9f3a\"],[0.8888888888888888,\"#fdca26\"],[1.0,\"#f0f921\"]],\"type\":\"surface\"}],\"table\":[{\"cells\":{\"fill\":{\"color\":\"#EBF0F8\"},\"line\":{\"color\":\"white\"}},\"header\":{\"fill\":{\"color\":\"#C8D4E3\"},\"line\":{\"color\":\"white\"}},\"type\":\"table\"}]},\"layout\":{\"annotationdefaults\":{\"arrowcolor\":\"#2a3f5f\",\"arrowhead\":0,\"arrowwidth\":1},\"autotypenumbers\":\"strict\",\"coloraxis\":{\"colorbar\":{\"outlinewidth\":0,\"ticks\":\"\"}},\"colorscale\":{\"diverging\":[[0,\"#8e0152\"],[0.1,\"#c51b7d\"],[0.2,\"#de77ae\"],[0.3,\"#f1b6da\"],[0.4,\"#fde0ef\"],[0.5,\"#f7f7f7\"],[0.6,\"#e6f5d0\"],[0.7,\"#b8e186\"],[0.8,\"#7fbc41\"],[0.9,\"#4d9221\"],[1,\"#276419\"]],\"sequential\":[[0.0,\"#0d0887\"],[0.1111111111111111,\"#46039f\"],[0.2222222222222222,\"#7201a8\"],[0.3333333333333333,\"#9c179e\"],[0.4444444444444444,\"#bd3786\"],[0.5555555555555556,\"#d8576b\"],[0.6666666666666666,\"#ed7953\"],[0.7777777777777778,\"#fb9f3a\"],[0.8888888888888888,\"#fdca26\"],[1.0,\"#f0f921\"]],\"sequentialminus\":[[0.0,\"#0d0887\"],[0.1111111111111111,\"#46039f\"],[0.2222222222222222,\"#7201a8\"],[0.3333333333333333,\"#9c179e\"],[0.4444444444444444,\"#bd3786\"],[0.5555555555555556,\"#d8576b\"],[0.6666666666666666,\"#ed7953\"],[0.7777777777777778,\"#fb9f3a\"],[0.8888888888888888,\"#fdca26\"],[1.0,\"#f0f921\"]]},\"colorway\":[\"#636efa\",\"#EF553B\",\"#00cc96\",\"#ab63fa\",\"#FFA15A\",\"#19d3f3\",\"#FF6692\",\"#B6E880\",\"#FF97FF\",\"#FECB52\"],\"font\":{\"color\":\"#2a3f5f\"},\"geo\":{\"bgcolor\":\"white\",\"lakecolor\":\"white\",\"landcolor\":\"#E5ECF6\",\"showlakes\":true,\"showland\":true,\"subunitcolor\":\"white\"},\"hoverlabel\":{\"align\":\"left\"},\"hovermode\":\"closest\",\"mapbox\":{\"style\":\"light\"},\"paper_bgcolor\":\"white\",\"plot_bgcolor\":\"#E5ECF6\",\"polar\":{\"angularaxis\":{\"gridcolor\":\"white\",\"linecolor\":\"white\",\"ticks\":\"\"},\"bgcolor\":\"#E5ECF6\",\"radialaxis\":{\"gridcolor\":\"white\",\"linecolor\":\"white\",\"ticks\":\"\"}},\"scene\":{\"xaxis\":{\"backgroundcolor\":\"#E5ECF6\",\"gridcolor\":\"white\",\"gridwidth\":2,\"linecolor\":\"white\",\"showbackground\":true,\"ticks\":\"\",\"zerolinecolor\":\"white\"},\"yaxis\":{\"backgroundcolor\":\"#E5ECF6\",\"gridcolor\":\"white\",\"gridwidth\":2,\"linecolor\":\"white\",\"showbackground\":true,\"ticks\":\"\",\"zerolinecolor\":\"white\"},\"zaxis\":{\"backgroundcolor\":\"#E5ECF6\",\"gridcolor\":\"white\",\"gridwidth\":2,\"linecolor\":\"white\",\"showbackground\":true,\"ticks\":\"\",\"zerolinecolor\":\"white\"}},\"shapedefaults\":{\"line\":{\"color\":\"#2a3f5f\"}},\"ternary\":{\"aaxis\":{\"gridcolor\":\"white\",\"linecolor\":\"white\",\"ticks\":\"\"},\"baxis\":{\"gridcolor\":\"white\",\"linecolor\":\"white\",\"ticks\":\"\"},\"bgcolor\":\"#E5ECF6\",\"caxis\":{\"gridcolor\":\"white\",\"linecolor\":\"white\",\"ticks\":\"\"}},\"title\":{\"x\":0.05},\"xaxis\":{\"automargin\":true,\"gridcolor\":\"white\",\"linecolor\":\"white\",\"ticks\":\"\",\"title\":{\"standoff\":15},\"zerolinecolor\":\"white\",\"zerolinewidth\":2},\"yaxis\":{\"automargin\":true,\"gridcolor\":\"white\",\"linecolor\":\"white\",\"ticks\":\"\",\"title\":{\"standoff\":15},\"zerolinecolor\":\"white\",\"zerolinewidth\":2}}},\"xaxis\":{\"anchor\":\"y\",\"domain\":[0.0,1.0],\"categoryorder\":\"array\",\"categoryarray\":[\"Cluster 0\",\"Cluster 1\",\"Cluster 2\",\"Cluster 3\"],\"title\":{\"text\":\"Cluster\"}},\"yaxis\":{\"anchor\":\"x\",\"domain\":[0.0,0.7326],\"title\":{\"text\":\"count\"}},\"xaxis2\":{\"anchor\":\"y2\",\"domain\":[0.0,1.0],\"matches\":\"x\",\"showticklabels\":false,\"showgrid\":true},\"yaxis2\":{\"anchor\":\"x2\",\"domain\":[0.7426,1.0],\"matches\":\"y2\",\"showticklabels\":false,\"showline\":false,\"ticks\":\"\",\"showgrid\":false},\"legend\":{\"title\":{\"text\":\"Cluster\"},\"tracegroupgap\":0},\"margin\":{\"t\":60},\"barmode\":\"relative\",\"height\":600},                        {\"responsive\": true}                    ).then(function(){\n",
              "                            \n",
              "var gd = document.getElementById('6aa4e854-afe8-4784-a951-45587bdb7476');\n",
              "var x = new MutationObserver(function (mutations, observer) {{\n",
              "        var display = window.getComputedStyle(gd).display;\n",
              "        if (!display || display === 'none') {{\n",
              "            console.log([gd, 'removed!']);\n",
              "            Plotly.purge(gd);\n",
              "            observer.disconnect();\n",
              "        }}\n",
              "}});\n",
              "\n",
              "// Listen for the removal of the full notebook cells\n",
              "var notebookContainer = gd.closest('#notebook-container');\n",
              "if (notebookContainer) {{\n",
              "    x.observe(notebookContainer, {childList: true});\n",
              "}}\n",
              "\n",
              "// Listen for the clearing of the current output cell\n",
              "var outputEl = gd.closest('.output');\n",
              "if (outputEl) {{\n",
              "    x.observe(outputEl, {childList: true});\n",
              "}}\n",
              "\n",
              "                        })                };                            </script>        </div>\n",
              "</body>\n",
              "</html>"
            ]
          },
          "metadata": {}
        }
      ]
    },
    {
      "cell_type": "markdown",
      "metadata": {
        "id": "Stts-pEsgeOG"
      },
      "source": [
        "***También podemos usar la misma gráfica para ver la distribución de cualquier característica continua. Vea un ejemplo a continuación:***"
      ]
    },
    {
      "cell_type": "code",
      "metadata": {
        "colab": {
          "base_uri": "https://localhost:8080/",
          "height": 617
        },
        "id": "VHGllwTYgnK_",
        "outputId": "66c57d44-82fd-4c5c-ebaa-93db6e315493"
      },
      "source": [
        "plot_model(km, plot = 'distribution', feature = 'Edad')"
      ],
      "execution_count": 25,
      "outputs": [
        {
          "output_type": "display_data",
          "data": {
            "text/plain": [
              "<IPython.core.display.HTML object>"
            ],
            "text/html": []
          },
          "metadata": {}
        },
        {
          "output_type": "display_data",
          "data": {
            "text/html": [
              "<html>\n",
              "<head><meta charset=\"utf-8\" /></head>\n",
              "<body>\n",
              "    <div>            <script src=\"https://cdnjs.cloudflare.com/ajax/libs/mathjax/2.7.5/MathJax.js?config=TeX-AMS-MML_SVG\"></script><script type=\"text/javascript\">if (window.MathJax) {MathJax.Hub.Config({SVG: {font: \"STIX-Web\"}});}</script>                <script type=\"text/javascript\">window.PlotlyConfig = {MathJaxConfig: 'local'};</script>\n",
              "        <script src=\"https://cdn.plot.ly/plotly-2.8.3.min.js\"></script>                <div id=\"d98f1700-555f-4fbe-9014-6fe6338525e3\" class=\"plotly-graph-div\" style=\"height:600px; width:100%;\"></div>            <script type=\"text/javascript\">                                    window.PLOTLYENV=window.PLOTLYENV || {};                                    if (document.getElementById(\"d98f1700-555f-4fbe-9014-6fe6338525e3\")) {                    Plotly.newPlot(                        \"d98f1700-555f-4fbe-9014-6fe6338525e3\",                        [{\"alignmentgroup\":\"True\",\"bingroup\":\"x\",\"hovertemplate\":\"Cluster=Cluster 0<br>Edad=%{x}<br>count=%{y}<extra></extra>\",\"legendgroup\":\"Cluster 0\",\"marker\":{\"color\":\"#636efa\",\"opacity\":0.7,\"pattern\":{\"shape\":\"\"}},\"name\":\"Cluster 0\",\"offsetgroup\":\"Cluster 0\",\"orientation\":\"v\",\"showlegend\":true,\"x\":[30,42,35,40,46,36,37,20,57,26,41,27,25,35,37,26,31,25,20,41,59,42,40,24,27,48,42,53,42,31,46,60,46,39,28,33,42,41,31,29,31,38,42,39,37,38,48,53,54,30,58,45,40,54,20,48,39,35,59,42,40,46,35,58,23,28,26,37,35,46,40,32,25,35,18,35,19,47,37,22,21,24,49,36,19,37,42,20,60,39,35,29,52,37,59,28,27,27,29,35,32,26,27,30],\"xaxis\":\"x\",\"yaxis\":\"y\",\"type\":\"histogram\"},{\"alignmentgroup\":\"True\",\"customdata\":[[87000,\"Cluster 0\"],[80000,\"Cluster 0\"],[72000,\"Cluster 0\"],[71000,\"Cluster 0\"],[79000,\"Cluster 0\"],[75000,\"Cluster 0\"],[78000,\"Cluster 0\"],[82000,\"Cluster 0\"],[74000,\"Cluster 0\"],[80000,\"Cluster 0\"],[87000,\"Cluster 0\"],[90000,\"Cluster 0\"],[87000,\"Cluster 0\"],[71000,\"Cluster 0\"],[70000,\"Cluster 0\"],[86000,\"Cluster 0\"],[74000,\"Cluster 0\"],[79000,\"Cluster 0\"],[82000,\"Cluster 0\"],[72000,\"Cluster 0\"],[83000,\"Cluster 0\"],[80000,\"Cluster 0\"],[75000,\"Cluster 0\"],[84000,\"Cluster 0\"],[96000,\"Cluster 0\"],[90000,\"Cluster 0\"],[104000,\"Cluster 0\"],[104000,\"Cluster 0\"],[73000,\"Cluster 0\"],[89000,\"Cluster 0\"],[82000,\"Cluster 0\"],[102000,\"Cluster 0\"],[96000,\"Cluster 0\"],[96000,\"Cluster 0\"],[89000,\"Cluster 0\"],[69000,\"Cluster 0\"],[79000,\"Cluster 0\"],[80000,\"Cluster 0\"],[71000,\"Cluster 0\"],[75000,\"Cluster 0\"],[76000,\"Cluster 0\"],[80000,\"Cluster 0\"],[75000,\"Cluster 0\"],[75000,\"Cluster 0\"],[80000,\"Cluster 0\"],[71000,\"Cluster 0\"],[74000,\"Cluster 0\"],[72000,\"Cluster 0\"],[70000,\"Cluster 0\"],[80000,\"Cluster 0\"],[95000,\"Cluster 0\"],[79000,\"Cluster 0\"],[75000,\"Cluster 0\"],[104000,\"Cluster 0\"],[74000,\"Cluster 0\"],[96000,\"Cluster 0\"],[71000,\"Cluster 0\"],[88000,\"Cluster 0\"],[76000,\"Cluster 0\"],[90000,\"Cluster 0\"],[78000,\"Cluster 0\"],[74000,\"Cluster 0\"],[91000,\"Cluster 0\"],[101000,\"Cluster 0\"],[82000,\"Cluster 0\"],[84000,\"Cluster 0\"],[84000,\"Cluster 0\"],[71000,\"Cluster 0\"],[97000,\"Cluster 0\"],[88000,\"Cluster 0\"],[72000,\"Cluster 0\"],[100000,\"Cluster 0\"],[90000,\"Cluster 0\"],[72000,\"Cluster 0\"],[82000,\"Cluster 0\"],[75000,\"Cluster 0\"],[76000,\"Cluster 0\"],[105000,\"Cluster 0\"],[79000,\"Cluster 0\"],[81000,\"Cluster 0\"],[88000,\"Cluster 0\"],[89000,\"Cluster 0\"],[86000,\"Cluster 0\"],[99000,\"Cluster 0\"],[85000,\"Cluster 0\"],[77000,\"Cluster 0\"],[70000,\"Cluster 0\"],[86000,\"Cluster 0\"],[83000,\"Cluster 0\"],[77000,\"Cluster 0\"],[75000,\"Cluster 0\"],[80000,\"Cluster 0\"],[90000,\"Cluster 0\"],[80000,\"Cluster 0\"],[88000,\"Cluster 0\"],[87000,\"Cluster 0\"],[88000,\"Cluster 0\"],[89000,\"Cluster 0\"],[83000,\"Cluster 0\"],[77000,\"Cluster 0\"],[86000,\"Cluster 0\"],[80000,\"Cluster 0\"],[84000,\"Cluster 0\"],[79000,\"Cluster 0\"]],\"hovertemplate\":\"Cluster=%{customdata[1]}<br>Edad=%{x}<br>Salario=%{customdata[0]}<extra></extra>\",\"legendgroup\":\"Cluster 0\",\"marker\":{\"color\":\"#636efa\"},\"name\":\"Cluster 0\",\"notched\":true,\"offsetgroup\":\"Cluster 0\",\"showlegend\":false,\"x\":[30,42,35,40,46,36,37,20,57,26,41,27,25,35,37,26,31,25,20,41,59,42,40,24,27,48,42,53,42,31,46,60,46,39,28,33,42,41,31,29,31,38,42,39,37,38,48,53,54,30,58,45,40,54,20,48,39,35,59,42,40,46,35,58,23,28,26,37,35,46,40,32,25,35,18,35,19,47,37,22,21,24,49,36,19,37,42,20,60,39,35,29,52,37,59,28,27,27,29,35,32,26,27,30],\"xaxis\":\"x2\",\"yaxis\":\"y2\",\"type\":\"box\"},{\"alignmentgroup\":\"True\",\"bingroup\":\"x\",\"hovertemplate\":\"Cluster=Cluster 1<br>Edad=%{x}<br>count=%{y}<extra></extra>\",\"legendgroup\":\"Cluster 1\",\"marker\":{\"color\":\"#EF553B\",\"opacity\":0.7,\"pattern\":{\"shape\":\"\"}},\"name\":\"Cluster 1\",\"offsetgroup\":\"Cluster 1\",\"orientation\":\"v\",\"showlegend\":true,\"x\":[57,52,35,45,31,48,51,31,47,35,35,37,26,47,49,27,29,45,46,24,22,33,27,31,58,22,48,19,47,46,50,28,35,19,47,32,24,23,26,46,49,48,46,30,19,32,25,44,23,26,49,52,45,45,24,35,19,48,26,59,26,34,53,58],\"xaxis\":\"x\",\"yaxis\":\"y\",\"type\":\"histogram\"},{\"alignmentgroup\":\"True\",\"customdata\":[[26000,\"Cluster 1\"],[38000,\"Cluster 1\"],[27000,\"Cluster 1\"],[22000,\"Cluster 1\"],[18000,\"Cluster 1\"],[33000,\"Cluster 1\"],[23000,\"Cluster 1\"],[34000,\"Cluster 1\"],[23000,\"Cluster 1\"],[39000,\"Cluster 1\"],[20000,\"Cluster 1\"],[33000,\"Cluster 1\"],[30000,\"Cluster 1\"],[30000,\"Cluster 1\"],[36000,\"Cluster 1\"],[17000,\"Cluster 1\"],[28000,\"Cluster 1\"],[22000,\"Cluster 1\"],[22000,\"Cluster 1\"],[32000,\"Cluster 1\"],[18000,\"Cluster 1\"],[28000,\"Cluster 1\"],[20000,\"Cluster 1\"],[15000,\"Cluster 1\"],[23000,\"Cluster 1\"],[27000,\"Cluster 1\"],[29000,\"Cluster 1\"],[25000,\"Cluster 1\"],[25000,\"Cluster 1\"],[32000,\"Cluster 1\"],[20000,\"Cluster 1\"],[32000,\"Cluster 1\"],[22000,\"Cluster 1\"],[21000,\"Cluster 1\"],[34000,\"Cluster 1\"],[18000,\"Cluster 1\"],[27000,\"Cluster 1\"],[28000,\"Cluster 1\"],[17000,\"Cluster 1\"],[28000,\"Cluster 1\"],[28000,\"Cluster 1\"],[35000,\"Cluster 1\"],[23000,\"Cluster 1\"],[15000,\"Cluster 1\"],[19000,\"Cluster 1\"],[18000,\"Cluster 1\"],[33000,\"Cluster 1\"],[39000,\"Cluster 1\"],[20000,\"Cluster 1\"],[15000,\"Cluster 1\"],[28000,\"Cluster 1\"],[21000,\"Cluster 1\"],[26000,\"Cluster 1\"],[32000,\"Cluster 1\"],[19000,\"Cluster 1\"],[25000,\"Cluster 1\"],[26000,\"Cluster 1\"],[33000,\"Cluster 1\"],[35000,\"Cluster 1\"],[29000,\"Cluster 1\"],[15000,\"Cluster 1\"],[25000,\"Cluster 1\"],[34000,\"Cluster 1\"],[38000,\"Cluster 1\"]],\"hovertemplate\":\"Cluster=%{customdata[1]}<br>Edad=%{x}<br>Salario=%{customdata[0]}<extra></extra>\",\"legendgroup\":\"Cluster 1\",\"marker\":{\"color\":\"#EF553B\"},\"name\":\"Cluster 1\",\"notched\":true,\"offsetgroup\":\"Cluster 1\",\"showlegend\":false,\"x\":[57,52,35,45,31,48,51,31,47,35,35,37,26,47,49,27,29,45,46,24,22,33,27,31,58,22,48,19,47,46,50,28,35,19,47,32,24,23,26,46,49,48,46,30,19,32,25,44,23,26,49,52,45,45,24,35,19,48,26,59,26,34,53,58],\"xaxis\":\"x2\",\"yaxis\":\"y2\",\"type\":\"box\"},{\"alignmentgroup\":\"True\",\"bingroup\":\"x\",\"hovertemplate\":\"Cluster=Cluster 2<br>Edad=%{x}<br>count=%{y}<extra></extra>\",\"legendgroup\":\"Cluster 2\",\"marker\":{\"color\":\"#00cc96\",\"opacity\":0.7,\"pattern\":{\"shape\":\"\"}},\"name\":\"Cluster 2\",\"offsetgroup\":\"Cluster 2\",\"orientation\":\"v\",\"showlegend\":true,\"x\":[40,38,55,32,53,47,32,45,49,47,57,51,34,37,37,48,47,43,58,44,32,32,36,59,51,36,36,37,40,32,59,48,48,29,35,48,43,46,30,33,36,43,28,34,38,60,52,33,31,42],\"xaxis\":\"x\",\"yaxis\":\"y\",\"type\":\"histogram\"},{\"alignmentgroup\":\"True\",\"customdata\":[[142000,\"Cluster 2\"],[112000,\"Cluster 2\"],[130000,\"Cluster 2\"],[120000,\"Cluster 2\"],[143000,\"Cluster 2\"],[144000,\"Cluster 2\"],[135000,\"Cluster 2\"],[131000,\"Cluster 2\"],[141000,\"Cluster 2\"],[113000,\"Cluster 2\"],[122000,\"Cluster 2\"],[146000,\"Cluster 2\"],[112000,\"Cluster 2\"],[137000,\"Cluster 2\"],[144000,\"Cluster 2\"],[119000,\"Cluster 2\"],[107000,\"Cluster 2\"],[133000,\"Cluster 2\"],[144000,\"Cluster 2\"],[139000,\"Cluster 2\"],[117000,\"Cluster 2\"],[150000,\"Cluster 2\"],[144000,\"Cluster 2\"],[130000,\"Cluster 2\"],[134000,\"Cluster 2\"],[126000,\"Cluster 2\"],[125000,\"Cluster 2\"],[146000,\"Cluster 2\"],[107000,\"Cluster 2\"],[117000,\"Cluster 2\"],[143000,\"Cluster 2\"],[141000,\"Cluster 2\"],[138000,\"Cluster 2\"],[148000,\"Cluster 2\"],[147000,\"Cluster 2\"],[134000,\"Cluster 2\"],[129000,\"Cluster 2\"],[117000,\"Cluster 2\"],[107000,\"Cluster 2\"],[113000,\"Cluster 2\"],[118000,\"Cluster 2\"],[112000,\"Cluster 2\"],[123000,\"Cluster 2\"],[115000,\"Cluster 2\"],[113000,\"Cluster 2\"],[108000,\"Cluster 2\"],[138000,\"Cluster 2\"],[149000,\"Cluster 2\"],[118000,\"Cluster 2\"],[149000,\"Cluster 2\"]],\"hovertemplate\":\"Cluster=%{customdata[1]}<br>Edad=%{x}<br>Salario=%{customdata[0]}<extra></extra>\",\"legendgroup\":\"Cluster 2\",\"marker\":{\"color\":\"#00cc96\"},\"name\":\"Cluster 2\",\"notched\":true,\"offsetgroup\":\"Cluster 2\",\"showlegend\":false,\"x\":[40,38,55,32,53,47,32,45,49,47,57,51,34,37,37,48,47,43,58,44,32,32,36,59,51,36,36,37,40,32,59,48,48,29,35,48,43,46,30,33,36,43,28,34,38,60,52,33,31,42],\"xaxis\":\"x2\",\"yaxis\":\"y2\",\"type\":\"box\"},{\"alignmentgroup\":\"True\",\"bingroup\":\"x\",\"hovertemplate\":\"Cluster=Cluster 3<br>Edad=%{x}<br>count=%{y}<extra></extra>\",\"legendgroup\":\"Cluster 3\",\"marker\":{\"color\":\"#ab63fa\",\"opacity\":0.7,\"pattern\":{\"shape\":\"\"}},\"name\":\"Cluster 3\",\"offsetgroup\":\"Cluster 3\",\"orientation\":\"v\",\"showlegend\":true,\"x\":[18,28,42,33,30,36,39,47,41,41,41,46,27,35,28,40,33,31,38,23,35,38,38,35,35,33,42,27,22,24,24,26,35,21,39,47,28,28,24,47,22,18,49,38,37,42,47,37,45,48,60,26,57,46,59,35,40,38,37,35,36,40,23,42,40,23,60,35,50,40,27,35,38,34,41,56,35,39,38,39,36,18],\"xaxis\":\"x\",\"yaxis\":\"y\",\"type\":\"histogram\"},{\"alignmentgroup\":\"True\",\"customdata\":[[68000,\"Cluster 3\"],[55000,\"Cluster 3\"],[64000,\"Cluster 3\"],[60000,\"Cluster 3\"],[49000,\"Cluster 3\"],[60000,\"Cluster 3\"],[61000,\"Cluster 3\"],[43000,\"Cluster 3\"],[52000,\"Cluster 3\"],[52000,\"Cluster 3\"],[60000,\"Cluster 3\"],[41000,\"Cluster 3\"],[57000,\"Cluster 3\"],[61000,\"Cluster 3\"],[44000,\"Cluster 3\"],[60000,\"Cluster 3\"],[41000,\"Cluster 3\"],[58000,\"Cluster 3\"],[51000,\"Cluster 3\"],[66000,\"Cluster 3\"],[53000,\"Cluster 3\"],[61000,\"Cluster 3\"],[50000,\"Cluster 3\"],[55000,\"Cluster 3\"],[57000,\"Cluster 3\"],[51000,\"Cluster 3\"],[65000,\"Cluster 3\"],[58000,\"Cluster 3\"],[63000,\"Cluster 3\"],[55000,\"Cluster 3\"],[55000,\"Cluster 3\"],[52000,\"Cluster 3\"],[50000,\"Cluster 3\"],[68000,\"Cluster 3\"],[42000,\"Cluster 3\"],[47000,\"Cluster 3\"],[59000,\"Cluster 3\"],[59000,\"Cluster 3\"],[58000,\"Cluster 3\"],[49000,\"Cluster 3\"],[55000,\"Cluster 3\"],[44000,\"Cluster 3\"],[65000,\"Cluster 3\"],[59000,\"Cluster 3\"],[53000,\"Cluster 3\"],[65000,\"Cluster 3\"],[51000,\"Cluster 3\"],[62000,\"Cluster 3\"],[45000,\"Cluster 3\"],[41000,\"Cluster 3\"],[42000,\"Cluster 3\"],[43000,\"Cluster 3\"],[60000,\"Cluster 3\"],[59000,\"Cluster 3\"],[42000,\"Cluster 3\"],[59000,\"Cluster 3\"],[57000,\"Cluster 3\"],[65000,\"Cluster 3\"],[55000,\"Cluster 3\"],[50000,\"Cluster 3\"],[50000,\"Cluster 3\"],[61000,\"Cluster 3\"],[48000,\"Cluster 3\"],[53000,\"Cluster 3\"],[47000,\"Cluster 3\"],[63000,\"Cluster 3\"],[42000,\"Cluster 3\"],[60000,\"Cluster 3\"],[44000,\"Cluster 3\"],[59000,\"Cluster 3\"],[58000,\"Cluster 3\"],[47000,\"Cluster 3\"],[50000,\"Cluster 3\"],[43000,\"Cluster 3\"],[51000,\"Cluster 3\"],[60000,\"Cluster 3\"],[58000,\"Cluster 3\"],[42000,\"Cluster 3\"],[61000,\"Cluster 3\"],[59000,\"Cluster 3\"],[63000,\"Cluster 3\"],[52000,\"Cluster 3\"]],\"hovertemplate\":\"Cluster=%{customdata[1]}<br>Edad=%{x}<br>Salario=%{customdata[0]}<extra></extra>\",\"legendgroup\":\"Cluster 3\",\"marker\":{\"color\":\"#ab63fa\"},\"name\":\"Cluster 3\",\"notched\":true,\"offsetgroup\":\"Cluster 3\",\"showlegend\":false,\"x\":[18,28,42,33,30,36,39,47,41,41,41,46,27,35,28,40,33,31,38,23,35,38,38,35,35,33,42,27,22,24,24,26,35,21,39,47,28,28,24,47,22,18,49,38,37,42,47,37,45,48,60,26,57,46,59,35,40,38,37,35,36,40,23,42,40,23,60,35,50,40,27,35,38,34,41,56,35,39,38,39,36,18],\"xaxis\":\"x2\",\"yaxis\":\"y2\",\"type\":\"box\"}],                        {\"template\":{\"data\":{\"bar\":[{\"error_x\":{\"color\":\"#2a3f5f\"},\"error_y\":{\"color\":\"#2a3f5f\"},\"marker\":{\"line\":{\"color\":\"#E5ECF6\",\"width\":0.5},\"pattern\":{\"fillmode\":\"overlay\",\"size\":10,\"solidity\":0.2}},\"type\":\"bar\"}],\"barpolar\":[{\"marker\":{\"line\":{\"color\":\"#E5ECF6\",\"width\":0.5},\"pattern\":{\"fillmode\":\"overlay\",\"size\":10,\"solidity\":0.2}},\"type\":\"barpolar\"}],\"carpet\":[{\"aaxis\":{\"endlinecolor\":\"#2a3f5f\",\"gridcolor\":\"white\",\"linecolor\":\"white\",\"minorgridcolor\":\"white\",\"startlinecolor\":\"#2a3f5f\"},\"baxis\":{\"endlinecolor\":\"#2a3f5f\",\"gridcolor\":\"white\",\"linecolor\":\"white\",\"minorgridcolor\":\"white\",\"startlinecolor\":\"#2a3f5f\"},\"type\":\"carpet\"}],\"choropleth\":[{\"colorbar\":{\"outlinewidth\":0,\"ticks\":\"\"},\"type\":\"choropleth\"}],\"contour\":[{\"colorbar\":{\"outlinewidth\":0,\"ticks\":\"\"},\"colorscale\":[[0.0,\"#0d0887\"],[0.1111111111111111,\"#46039f\"],[0.2222222222222222,\"#7201a8\"],[0.3333333333333333,\"#9c179e\"],[0.4444444444444444,\"#bd3786\"],[0.5555555555555556,\"#d8576b\"],[0.6666666666666666,\"#ed7953\"],[0.7777777777777778,\"#fb9f3a\"],[0.8888888888888888,\"#fdca26\"],[1.0,\"#f0f921\"]],\"type\":\"contour\"}],\"contourcarpet\":[{\"colorbar\":{\"outlinewidth\":0,\"ticks\":\"\"},\"type\":\"contourcarpet\"}],\"heatmap\":[{\"colorbar\":{\"outlinewidth\":0,\"ticks\":\"\"},\"colorscale\":[[0.0,\"#0d0887\"],[0.1111111111111111,\"#46039f\"],[0.2222222222222222,\"#7201a8\"],[0.3333333333333333,\"#9c179e\"],[0.4444444444444444,\"#bd3786\"],[0.5555555555555556,\"#d8576b\"],[0.6666666666666666,\"#ed7953\"],[0.7777777777777778,\"#fb9f3a\"],[0.8888888888888888,\"#fdca26\"],[1.0,\"#f0f921\"]],\"type\":\"heatmap\"}],\"heatmapgl\":[{\"colorbar\":{\"outlinewidth\":0,\"ticks\":\"\"},\"colorscale\":[[0.0,\"#0d0887\"],[0.1111111111111111,\"#46039f\"],[0.2222222222222222,\"#7201a8\"],[0.3333333333333333,\"#9c179e\"],[0.4444444444444444,\"#bd3786\"],[0.5555555555555556,\"#d8576b\"],[0.6666666666666666,\"#ed7953\"],[0.7777777777777778,\"#fb9f3a\"],[0.8888888888888888,\"#fdca26\"],[1.0,\"#f0f921\"]],\"type\":\"heatmapgl\"}],\"histogram\":[{\"marker\":{\"pattern\":{\"fillmode\":\"overlay\",\"size\":10,\"solidity\":0.2}},\"type\":\"histogram\"}],\"histogram2d\":[{\"colorbar\":{\"outlinewidth\":0,\"ticks\":\"\"},\"colorscale\":[[0.0,\"#0d0887\"],[0.1111111111111111,\"#46039f\"],[0.2222222222222222,\"#7201a8\"],[0.3333333333333333,\"#9c179e\"],[0.4444444444444444,\"#bd3786\"],[0.5555555555555556,\"#d8576b\"],[0.6666666666666666,\"#ed7953\"],[0.7777777777777778,\"#fb9f3a\"],[0.8888888888888888,\"#fdca26\"],[1.0,\"#f0f921\"]],\"type\":\"histogram2d\"}],\"histogram2dcontour\":[{\"colorbar\":{\"outlinewidth\":0,\"ticks\":\"\"},\"colorscale\":[[0.0,\"#0d0887\"],[0.1111111111111111,\"#46039f\"],[0.2222222222222222,\"#7201a8\"],[0.3333333333333333,\"#9c179e\"],[0.4444444444444444,\"#bd3786\"],[0.5555555555555556,\"#d8576b\"],[0.6666666666666666,\"#ed7953\"],[0.7777777777777778,\"#fb9f3a\"],[0.8888888888888888,\"#fdca26\"],[1.0,\"#f0f921\"]],\"type\":\"histogram2dcontour\"}],\"mesh3d\":[{\"colorbar\":{\"outlinewidth\":0,\"ticks\":\"\"},\"type\":\"mesh3d\"}],\"parcoords\":[{\"line\":{\"colorbar\":{\"outlinewidth\":0,\"ticks\":\"\"}},\"type\":\"parcoords\"}],\"pie\":[{\"automargin\":true,\"type\":\"pie\"}],\"scatter\":[{\"marker\":{\"colorbar\":{\"outlinewidth\":0,\"ticks\":\"\"}},\"type\":\"scatter\"}],\"scatter3d\":[{\"line\":{\"colorbar\":{\"outlinewidth\":0,\"ticks\":\"\"}},\"marker\":{\"colorbar\":{\"outlinewidth\":0,\"ticks\":\"\"}},\"type\":\"scatter3d\"}],\"scattercarpet\":[{\"marker\":{\"colorbar\":{\"outlinewidth\":0,\"ticks\":\"\"}},\"type\":\"scattercarpet\"}],\"scattergeo\":[{\"marker\":{\"colorbar\":{\"outlinewidth\":0,\"ticks\":\"\"}},\"type\":\"scattergeo\"}],\"scattergl\":[{\"marker\":{\"colorbar\":{\"outlinewidth\":0,\"ticks\":\"\"}},\"type\":\"scattergl\"}],\"scattermapbox\":[{\"marker\":{\"colorbar\":{\"outlinewidth\":0,\"ticks\":\"\"}},\"type\":\"scattermapbox\"}],\"scatterpolar\":[{\"marker\":{\"colorbar\":{\"outlinewidth\":0,\"ticks\":\"\"}},\"type\":\"scatterpolar\"}],\"scatterpolargl\":[{\"marker\":{\"colorbar\":{\"outlinewidth\":0,\"ticks\":\"\"}},\"type\":\"scatterpolargl\"}],\"scatterternary\":[{\"marker\":{\"colorbar\":{\"outlinewidth\":0,\"ticks\":\"\"}},\"type\":\"scatterternary\"}],\"surface\":[{\"colorbar\":{\"outlinewidth\":0,\"ticks\":\"\"},\"colorscale\":[[0.0,\"#0d0887\"],[0.1111111111111111,\"#46039f\"],[0.2222222222222222,\"#7201a8\"],[0.3333333333333333,\"#9c179e\"],[0.4444444444444444,\"#bd3786\"],[0.5555555555555556,\"#d8576b\"],[0.6666666666666666,\"#ed7953\"],[0.7777777777777778,\"#fb9f3a\"],[0.8888888888888888,\"#fdca26\"],[1.0,\"#f0f921\"]],\"type\":\"surface\"}],\"table\":[{\"cells\":{\"fill\":{\"color\":\"#EBF0F8\"},\"line\":{\"color\":\"white\"}},\"header\":{\"fill\":{\"color\":\"#C8D4E3\"},\"line\":{\"color\":\"white\"}},\"type\":\"table\"}]},\"layout\":{\"annotationdefaults\":{\"arrowcolor\":\"#2a3f5f\",\"arrowhead\":0,\"arrowwidth\":1},\"autotypenumbers\":\"strict\",\"coloraxis\":{\"colorbar\":{\"outlinewidth\":0,\"ticks\":\"\"}},\"colorscale\":{\"diverging\":[[0,\"#8e0152\"],[0.1,\"#c51b7d\"],[0.2,\"#de77ae\"],[0.3,\"#f1b6da\"],[0.4,\"#fde0ef\"],[0.5,\"#f7f7f7\"],[0.6,\"#e6f5d0\"],[0.7,\"#b8e186\"],[0.8,\"#7fbc41\"],[0.9,\"#4d9221\"],[1,\"#276419\"]],\"sequential\":[[0.0,\"#0d0887\"],[0.1111111111111111,\"#46039f\"],[0.2222222222222222,\"#7201a8\"],[0.3333333333333333,\"#9c179e\"],[0.4444444444444444,\"#bd3786\"],[0.5555555555555556,\"#d8576b\"],[0.6666666666666666,\"#ed7953\"],[0.7777777777777778,\"#fb9f3a\"],[0.8888888888888888,\"#fdca26\"],[1.0,\"#f0f921\"]],\"sequentialminus\":[[0.0,\"#0d0887\"],[0.1111111111111111,\"#46039f\"],[0.2222222222222222,\"#7201a8\"],[0.3333333333333333,\"#9c179e\"],[0.4444444444444444,\"#bd3786\"],[0.5555555555555556,\"#d8576b\"],[0.6666666666666666,\"#ed7953\"],[0.7777777777777778,\"#fb9f3a\"],[0.8888888888888888,\"#fdca26\"],[1.0,\"#f0f921\"]]},\"colorway\":[\"#636efa\",\"#EF553B\",\"#00cc96\",\"#ab63fa\",\"#FFA15A\",\"#19d3f3\",\"#FF6692\",\"#B6E880\",\"#FF97FF\",\"#FECB52\"],\"font\":{\"color\":\"#2a3f5f\"},\"geo\":{\"bgcolor\":\"white\",\"lakecolor\":\"white\",\"landcolor\":\"#E5ECF6\",\"showlakes\":true,\"showland\":true,\"subunitcolor\":\"white\"},\"hoverlabel\":{\"align\":\"left\"},\"hovermode\":\"closest\",\"mapbox\":{\"style\":\"light\"},\"paper_bgcolor\":\"white\",\"plot_bgcolor\":\"#E5ECF6\",\"polar\":{\"angularaxis\":{\"gridcolor\":\"white\",\"linecolor\":\"white\",\"ticks\":\"\"},\"bgcolor\":\"#E5ECF6\",\"radialaxis\":{\"gridcolor\":\"white\",\"linecolor\":\"white\",\"ticks\":\"\"}},\"scene\":{\"xaxis\":{\"backgroundcolor\":\"#E5ECF6\",\"gridcolor\":\"white\",\"gridwidth\":2,\"linecolor\":\"white\",\"showbackground\":true,\"ticks\":\"\",\"zerolinecolor\":\"white\"},\"yaxis\":{\"backgroundcolor\":\"#E5ECF6\",\"gridcolor\":\"white\",\"gridwidth\":2,\"linecolor\":\"white\",\"showbackground\":true,\"ticks\":\"\",\"zerolinecolor\":\"white\"},\"zaxis\":{\"backgroundcolor\":\"#E5ECF6\",\"gridcolor\":\"white\",\"gridwidth\":2,\"linecolor\":\"white\",\"showbackground\":true,\"ticks\":\"\",\"zerolinecolor\":\"white\"}},\"shapedefaults\":{\"line\":{\"color\":\"#2a3f5f\"}},\"ternary\":{\"aaxis\":{\"gridcolor\":\"white\",\"linecolor\":\"white\",\"ticks\":\"\"},\"baxis\":{\"gridcolor\":\"white\",\"linecolor\":\"white\",\"ticks\":\"\"},\"bgcolor\":\"#E5ECF6\",\"caxis\":{\"gridcolor\":\"white\",\"linecolor\":\"white\",\"ticks\":\"\"}},\"title\":{\"x\":0.05},\"xaxis\":{\"automargin\":true,\"gridcolor\":\"white\",\"linecolor\":\"white\",\"ticks\":\"\",\"title\":{\"standoff\":15},\"zerolinecolor\":\"white\",\"zerolinewidth\":2},\"yaxis\":{\"automargin\":true,\"gridcolor\":\"white\",\"linecolor\":\"white\",\"ticks\":\"\",\"title\":{\"standoff\":15},\"zerolinecolor\":\"white\",\"zerolinewidth\":2}}},\"xaxis\":{\"anchor\":\"y\",\"domain\":[0.0,1.0],\"title\":{\"text\":\"Edad\"}},\"yaxis\":{\"anchor\":\"x\",\"domain\":[0.0,0.7326],\"title\":{\"text\":\"count\"}},\"xaxis2\":{\"anchor\":\"y2\",\"domain\":[0.0,1.0],\"matches\":\"x\",\"showticklabels\":false,\"showgrid\":true},\"yaxis2\":{\"anchor\":\"x2\",\"domain\":[0.7426,1.0],\"matches\":\"y2\",\"showticklabels\":false,\"showline\":false,\"ticks\":\"\",\"showgrid\":false},\"legend\":{\"title\":{\"text\":\"Cluster\"},\"tracegroupgap\":0},\"margin\":{\"t\":60},\"barmode\":\"relative\",\"height\":600},                        {\"responsive\": true}                    ).then(function(){\n",
              "                            \n",
              "var gd = document.getElementById('d98f1700-555f-4fbe-9014-6fe6338525e3');\n",
              "var x = new MutationObserver(function (mutations, observer) {{\n",
              "        var display = window.getComputedStyle(gd).display;\n",
              "        if (!display || display === 'none') {{\n",
              "            console.log([gd, 'removed!']);\n",
              "            Plotly.purge(gd);\n",
              "            observer.disconnect();\n",
              "        }}\n",
              "}});\n",
              "\n",
              "// Listen for the removal of the full notebook cells\n",
              "var notebookContainer = gd.closest('#notebook-container');\n",
              "if (notebookContainer) {{\n",
              "    x.observe(notebookContainer, {childList: true});\n",
              "}}\n",
              "\n",
              "// Listen for the clearing of the current output cell\n",
              "var outputEl = gd.closest('.output');\n",
              "if (outputEl) {{\n",
              "    x.observe(outputEl, {childList: true});\n",
              "}}\n",
              "\n",
              "                        })                };                            </script>        </div>\n",
              "</body>\n",
              "</html>"
            ]
          },
          "metadata": {}
        }
      ]
    },
    {
      "cell_type": "code",
      "metadata": {
        "colab": {
          "base_uri": "https://localhost:8080/",
          "height": 617
        },
        "id": "jRk-DPrlhI2K",
        "outputId": "67b4de18-fb1f-4233-8405-0bbade8b03f8"
      },
      "source": [
        "plot_model(km, plot = 'distribution', feature = 'Salario')"
      ],
      "execution_count": 26,
      "outputs": [
        {
          "output_type": "display_data",
          "data": {
            "text/plain": [
              "<IPython.core.display.HTML object>"
            ],
            "text/html": []
          },
          "metadata": {}
        },
        {
          "output_type": "display_data",
          "data": {
            "text/html": [
              "<html>\n",
              "<head><meta charset=\"utf-8\" /></head>\n",
              "<body>\n",
              "    <div>            <script src=\"https://cdnjs.cloudflare.com/ajax/libs/mathjax/2.7.5/MathJax.js?config=TeX-AMS-MML_SVG\"></script><script type=\"text/javascript\">if (window.MathJax) {MathJax.Hub.Config({SVG: {font: \"STIX-Web\"}});}</script>                <script type=\"text/javascript\">window.PlotlyConfig = {MathJaxConfig: 'local'};</script>\n",
              "        <script src=\"https://cdn.plot.ly/plotly-2.8.3.min.js\"></script>                <div id=\"ce535aa7-3056-4494-8510-3d40c39a3153\" class=\"plotly-graph-div\" style=\"height:600px; width:100%;\"></div>            <script type=\"text/javascript\">                                    window.PLOTLYENV=window.PLOTLYENV || {};                                    if (document.getElementById(\"ce535aa7-3056-4494-8510-3d40c39a3153\")) {                    Plotly.newPlot(                        \"ce535aa7-3056-4494-8510-3d40c39a3153\",                        [{\"alignmentgroup\":\"True\",\"bingroup\":\"x\",\"hovertemplate\":\"Cluster=Cluster 0<br>Salario=%{x}<br>count=%{y}<extra></extra>\",\"legendgroup\":\"Cluster 0\",\"marker\":{\"color\":\"#636efa\",\"opacity\":0.7,\"pattern\":{\"shape\":\"\"}},\"name\":\"Cluster 0\",\"offsetgroup\":\"Cluster 0\",\"orientation\":\"v\",\"showlegend\":true,\"x\":[87000,80000,72000,71000,79000,75000,78000,82000,74000,80000,87000,90000,87000,71000,70000,86000,74000,79000,82000,72000,83000,80000,75000,84000,96000,90000,104000,104000,73000,89000,82000,102000,96000,96000,89000,69000,79000,80000,71000,75000,76000,80000,75000,75000,80000,71000,74000,72000,70000,80000,95000,79000,75000,104000,74000,96000,71000,88000,76000,90000,78000,74000,91000,101000,82000,84000,84000,71000,97000,88000,72000,100000,90000,72000,82000,75000,76000,105000,79000,81000,88000,89000,86000,99000,85000,77000,70000,86000,83000,77000,75000,80000,90000,80000,88000,87000,88000,89000,83000,77000,86000,80000,84000,79000],\"xaxis\":\"x\",\"yaxis\":\"y\",\"type\":\"histogram\"},{\"alignmentgroup\":\"True\",\"customdata\":[[30,\"Cluster 0\"],[42,\"Cluster 0\"],[35,\"Cluster 0\"],[40,\"Cluster 0\"],[46,\"Cluster 0\"],[36,\"Cluster 0\"],[37,\"Cluster 0\"],[20,\"Cluster 0\"],[57,\"Cluster 0\"],[26,\"Cluster 0\"],[41,\"Cluster 0\"],[27,\"Cluster 0\"],[25,\"Cluster 0\"],[35,\"Cluster 0\"],[37,\"Cluster 0\"],[26,\"Cluster 0\"],[31,\"Cluster 0\"],[25,\"Cluster 0\"],[20,\"Cluster 0\"],[41,\"Cluster 0\"],[59,\"Cluster 0\"],[42,\"Cluster 0\"],[40,\"Cluster 0\"],[24,\"Cluster 0\"],[27,\"Cluster 0\"],[48,\"Cluster 0\"],[42,\"Cluster 0\"],[53,\"Cluster 0\"],[42,\"Cluster 0\"],[31,\"Cluster 0\"],[46,\"Cluster 0\"],[60,\"Cluster 0\"],[46,\"Cluster 0\"],[39,\"Cluster 0\"],[28,\"Cluster 0\"],[33,\"Cluster 0\"],[42,\"Cluster 0\"],[41,\"Cluster 0\"],[31,\"Cluster 0\"],[29,\"Cluster 0\"],[31,\"Cluster 0\"],[38,\"Cluster 0\"],[42,\"Cluster 0\"],[39,\"Cluster 0\"],[37,\"Cluster 0\"],[38,\"Cluster 0\"],[48,\"Cluster 0\"],[53,\"Cluster 0\"],[54,\"Cluster 0\"],[30,\"Cluster 0\"],[58,\"Cluster 0\"],[45,\"Cluster 0\"],[40,\"Cluster 0\"],[54,\"Cluster 0\"],[20,\"Cluster 0\"],[48,\"Cluster 0\"],[39,\"Cluster 0\"],[35,\"Cluster 0\"],[59,\"Cluster 0\"],[42,\"Cluster 0\"],[40,\"Cluster 0\"],[46,\"Cluster 0\"],[35,\"Cluster 0\"],[58,\"Cluster 0\"],[23,\"Cluster 0\"],[28,\"Cluster 0\"],[26,\"Cluster 0\"],[37,\"Cluster 0\"],[35,\"Cluster 0\"],[46,\"Cluster 0\"],[40,\"Cluster 0\"],[32,\"Cluster 0\"],[25,\"Cluster 0\"],[35,\"Cluster 0\"],[18,\"Cluster 0\"],[35,\"Cluster 0\"],[19,\"Cluster 0\"],[47,\"Cluster 0\"],[37,\"Cluster 0\"],[22,\"Cluster 0\"],[21,\"Cluster 0\"],[24,\"Cluster 0\"],[49,\"Cluster 0\"],[36,\"Cluster 0\"],[19,\"Cluster 0\"],[37,\"Cluster 0\"],[42,\"Cluster 0\"],[20,\"Cluster 0\"],[60,\"Cluster 0\"],[39,\"Cluster 0\"],[35,\"Cluster 0\"],[29,\"Cluster 0\"],[52,\"Cluster 0\"],[37,\"Cluster 0\"],[59,\"Cluster 0\"],[28,\"Cluster 0\"],[27,\"Cluster 0\"],[27,\"Cluster 0\"],[29,\"Cluster 0\"],[35,\"Cluster 0\"],[32,\"Cluster 0\"],[26,\"Cluster 0\"],[27,\"Cluster 0\"],[30,\"Cluster 0\"]],\"hovertemplate\":\"Cluster=%{customdata[1]}<br>Salario=%{x}<br>Edad=%{customdata[0]}<extra></extra>\",\"legendgroup\":\"Cluster 0\",\"marker\":{\"color\":\"#636efa\"},\"name\":\"Cluster 0\",\"notched\":true,\"offsetgroup\":\"Cluster 0\",\"showlegend\":false,\"x\":[87000,80000,72000,71000,79000,75000,78000,82000,74000,80000,87000,90000,87000,71000,70000,86000,74000,79000,82000,72000,83000,80000,75000,84000,96000,90000,104000,104000,73000,89000,82000,102000,96000,96000,89000,69000,79000,80000,71000,75000,76000,80000,75000,75000,80000,71000,74000,72000,70000,80000,95000,79000,75000,104000,74000,96000,71000,88000,76000,90000,78000,74000,91000,101000,82000,84000,84000,71000,97000,88000,72000,100000,90000,72000,82000,75000,76000,105000,79000,81000,88000,89000,86000,99000,85000,77000,70000,86000,83000,77000,75000,80000,90000,80000,88000,87000,88000,89000,83000,77000,86000,80000,84000,79000],\"xaxis\":\"x2\",\"yaxis\":\"y2\",\"type\":\"box\"},{\"alignmentgroup\":\"True\",\"bingroup\":\"x\",\"hovertemplate\":\"Cluster=Cluster 1<br>Salario=%{x}<br>count=%{y}<extra></extra>\",\"legendgroup\":\"Cluster 1\",\"marker\":{\"color\":\"#EF553B\",\"opacity\":0.7,\"pattern\":{\"shape\":\"\"}},\"name\":\"Cluster 1\",\"offsetgroup\":\"Cluster 1\",\"orientation\":\"v\",\"showlegend\":true,\"x\":[26000,38000,27000,22000,18000,33000,23000,34000,23000,39000,20000,33000,30000,30000,36000,17000,28000,22000,22000,32000,18000,28000,20000,15000,23000,27000,29000,25000,25000,32000,20000,32000,22000,21000,34000,18000,27000,28000,17000,28000,28000,35000,23000,15000,19000,18000,33000,39000,20000,15000,28000,21000,26000,32000,19000,25000,26000,33000,35000,29000,15000,25000,34000,38000],\"xaxis\":\"x\",\"yaxis\":\"y\",\"type\":\"histogram\"},{\"alignmentgroup\":\"True\",\"customdata\":[[57,\"Cluster 1\"],[52,\"Cluster 1\"],[35,\"Cluster 1\"],[45,\"Cluster 1\"],[31,\"Cluster 1\"],[48,\"Cluster 1\"],[51,\"Cluster 1\"],[31,\"Cluster 1\"],[47,\"Cluster 1\"],[35,\"Cluster 1\"],[35,\"Cluster 1\"],[37,\"Cluster 1\"],[26,\"Cluster 1\"],[47,\"Cluster 1\"],[49,\"Cluster 1\"],[27,\"Cluster 1\"],[29,\"Cluster 1\"],[45,\"Cluster 1\"],[46,\"Cluster 1\"],[24,\"Cluster 1\"],[22,\"Cluster 1\"],[33,\"Cluster 1\"],[27,\"Cluster 1\"],[31,\"Cluster 1\"],[58,\"Cluster 1\"],[22,\"Cluster 1\"],[48,\"Cluster 1\"],[19,\"Cluster 1\"],[47,\"Cluster 1\"],[46,\"Cluster 1\"],[50,\"Cluster 1\"],[28,\"Cluster 1\"],[35,\"Cluster 1\"],[19,\"Cluster 1\"],[47,\"Cluster 1\"],[32,\"Cluster 1\"],[24,\"Cluster 1\"],[23,\"Cluster 1\"],[26,\"Cluster 1\"],[46,\"Cluster 1\"],[49,\"Cluster 1\"],[48,\"Cluster 1\"],[46,\"Cluster 1\"],[30,\"Cluster 1\"],[19,\"Cluster 1\"],[32,\"Cluster 1\"],[25,\"Cluster 1\"],[44,\"Cluster 1\"],[23,\"Cluster 1\"],[26,\"Cluster 1\"],[49,\"Cluster 1\"],[52,\"Cluster 1\"],[45,\"Cluster 1\"],[45,\"Cluster 1\"],[24,\"Cluster 1\"],[35,\"Cluster 1\"],[19,\"Cluster 1\"],[48,\"Cluster 1\"],[26,\"Cluster 1\"],[59,\"Cluster 1\"],[26,\"Cluster 1\"],[34,\"Cluster 1\"],[53,\"Cluster 1\"],[58,\"Cluster 1\"]],\"hovertemplate\":\"Cluster=%{customdata[1]}<br>Salario=%{x}<br>Edad=%{customdata[0]}<extra></extra>\",\"legendgroup\":\"Cluster 1\",\"marker\":{\"color\":\"#EF553B\"},\"name\":\"Cluster 1\",\"notched\":true,\"offsetgroup\":\"Cluster 1\",\"showlegend\":false,\"x\":[26000,38000,27000,22000,18000,33000,23000,34000,23000,39000,20000,33000,30000,30000,36000,17000,28000,22000,22000,32000,18000,28000,20000,15000,23000,27000,29000,25000,25000,32000,20000,32000,22000,21000,34000,18000,27000,28000,17000,28000,28000,35000,23000,15000,19000,18000,33000,39000,20000,15000,28000,21000,26000,32000,19000,25000,26000,33000,35000,29000,15000,25000,34000,38000],\"xaxis\":\"x2\",\"yaxis\":\"y2\",\"type\":\"box\"},{\"alignmentgroup\":\"True\",\"bingroup\":\"x\",\"hovertemplate\":\"Cluster=Cluster 2<br>Salario=%{x}<br>count=%{y}<extra></extra>\",\"legendgroup\":\"Cluster 2\",\"marker\":{\"color\":\"#00cc96\",\"opacity\":0.7,\"pattern\":{\"shape\":\"\"}},\"name\":\"Cluster 2\",\"offsetgroup\":\"Cluster 2\",\"orientation\":\"v\",\"showlegend\":true,\"x\":[142000,112000,130000,120000,143000,144000,135000,131000,141000,113000,122000,146000,112000,137000,144000,119000,107000,133000,144000,139000,117000,150000,144000,130000,134000,126000,125000,146000,107000,117000,143000,141000,138000,148000,147000,134000,129000,117000,107000,113000,118000,112000,123000,115000,113000,108000,138000,149000,118000,149000],\"xaxis\":\"x\",\"yaxis\":\"y\",\"type\":\"histogram\"},{\"alignmentgroup\":\"True\",\"customdata\":[[40,\"Cluster 2\"],[38,\"Cluster 2\"],[55,\"Cluster 2\"],[32,\"Cluster 2\"],[53,\"Cluster 2\"],[47,\"Cluster 2\"],[32,\"Cluster 2\"],[45,\"Cluster 2\"],[49,\"Cluster 2\"],[47,\"Cluster 2\"],[57,\"Cluster 2\"],[51,\"Cluster 2\"],[34,\"Cluster 2\"],[37,\"Cluster 2\"],[37,\"Cluster 2\"],[48,\"Cluster 2\"],[47,\"Cluster 2\"],[43,\"Cluster 2\"],[58,\"Cluster 2\"],[44,\"Cluster 2\"],[32,\"Cluster 2\"],[32,\"Cluster 2\"],[36,\"Cluster 2\"],[59,\"Cluster 2\"],[51,\"Cluster 2\"],[36,\"Cluster 2\"],[36,\"Cluster 2\"],[37,\"Cluster 2\"],[40,\"Cluster 2\"],[32,\"Cluster 2\"],[59,\"Cluster 2\"],[48,\"Cluster 2\"],[48,\"Cluster 2\"],[29,\"Cluster 2\"],[35,\"Cluster 2\"],[48,\"Cluster 2\"],[43,\"Cluster 2\"],[46,\"Cluster 2\"],[30,\"Cluster 2\"],[33,\"Cluster 2\"],[36,\"Cluster 2\"],[43,\"Cluster 2\"],[28,\"Cluster 2\"],[34,\"Cluster 2\"],[38,\"Cluster 2\"],[60,\"Cluster 2\"],[52,\"Cluster 2\"],[33,\"Cluster 2\"],[31,\"Cluster 2\"],[42,\"Cluster 2\"]],\"hovertemplate\":\"Cluster=%{customdata[1]}<br>Salario=%{x}<br>Edad=%{customdata[0]}<extra></extra>\",\"legendgroup\":\"Cluster 2\",\"marker\":{\"color\":\"#00cc96\"},\"name\":\"Cluster 2\",\"notched\":true,\"offsetgroup\":\"Cluster 2\",\"showlegend\":false,\"x\":[142000,112000,130000,120000,143000,144000,135000,131000,141000,113000,122000,146000,112000,137000,144000,119000,107000,133000,144000,139000,117000,150000,144000,130000,134000,126000,125000,146000,107000,117000,143000,141000,138000,148000,147000,134000,129000,117000,107000,113000,118000,112000,123000,115000,113000,108000,138000,149000,118000,149000],\"xaxis\":\"x2\",\"yaxis\":\"y2\",\"type\":\"box\"},{\"alignmentgroup\":\"True\",\"bingroup\":\"x\",\"hovertemplate\":\"Cluster=Cluster 3<br>Salario=%{x}<br>count=%{y}<extra></extra>\",\"legendgroup\":\"Cluster 3\",\"marker\":{\"color\":\"#ab63fa\",\"opacity\":0.7,\"pattern\":{\"shape\":\"\"}},\"name\":\"Cluster 3\",\"offsetgroup\":\"Cluster 3\",\"orientation\":\"v\",\"showlegend\":true,\"x\":[68000,55000,64000,60000,49000,60000,61000,43000,52000,52000,60000,41000,57000,61000,44000,60000,41000,58000,51000,66000,53000,61000,50000,55000,57000,51000,65000,58000,63000,55000,55000,52000,50000,68000,42000,47000,59000,59000,58000,49000,55000,44000,65000,59000,53000,65000,51000,62000,45000,41000,42000,43000,60000,59000,42000,59000,57000,65000,55000,50000,50000,61000,48000,53000,47000,63000,42000,60000,44000,59000,58000,47000,50000,43000,51000,60000,58000,42000,61000,59000,63000,52000],\"xaxis\":\"x\",\"yaxis\":\"y\",\"type\":\"histogram\"},{\"alignmentgroup\":\"True\",\"customdata\":[[18,\"Cluster 3\"],[28,\"Cluster 3\"],[42,\"Cluster 3\"],[33,\"Cluster 3\"],[30,\"Cluster 3\"],[36,\"Cluster 3\"],[39,\"Cluster 3\"],[47,\"Cluster 3\"],[41,\"Cluster 3\"],[41,\"Cluster 3\"],[41,\"Cluster 3\"],[46,\"Cluster 3\"],[27,\"Cluster 3\"],[35,\"Cluster 3\"],[28,\"Cluster 3\"],[40,\"Cluster 3\"],[33,\"Cluster 3\"],[31,\"Cluster 3\"],[38,\"Cluster 3\"],[23,\"Cluster 3\"],[35,\"Cluster 3\"],[38,\"Cluster 3\"],[38,\"Cluster 3\"],[35,\"Cluster 3\"],[35,\"Cluster 3\"],[33,\"Cluster 3\"],[42,\"Cluster 3\"],[27,\"Cluster 3\"],[22,\"Cluster 3\"],[24,\"Cluster 3\"],[24,\"Cluster 3\"],[26,\"Cluster 3\"],[35,\"Cluster 3\"],[21,\"Cluster 3\"],[39,\"Cluster 3\"],[47,\"Cluster 3\"],[28,\"Cluster 3\"],[28,\"Cluster 3\"],[24,\"Cluster 3\"],[47,\"Cluster 3\"],[22,\"Cluster 3\"],[18,\"Cluster 3\"],[49,\"Cluster 3\"],[38,\"Cluster 3\"],[37,\"Cluster 3\"],[42,\"Cluster 3\"],[47,\"Cluster 3\"],[37,\"Cluster 3\"],[45,\"Cluster 3\"],[48,\"Cluster 3\"],[60,\"Cluster 3\"],[26,\"Cluster 3\"],[57,\"Cluster 3\"],[46,\"Cluster 3\"],[59,\"Cluster 3\"],[35,\"Cluster 3\"],[40,\"Cluster 3\"],[38,\"Cluster 3\"],[37,\"Cluster 3\"],[35,\"Cluster 3\"],[36,\"Cluster 3\"],[40,\"Cluster 3\"],[23,\"Cluster 3\"],[42,\"Cluster 3\"],[40,\"Cluster 3\"],[23,\"Cluster 3\"],[60,\"Cluster 3\"],[35,\"Cluster 3\"],[50,\"Cluster 3\"],[40,\"Cluster 3\"],[27,\"Cluster 3\"],[35,\"Cluster 3\"],[38,\"Cluster 3\"],[34,\"Cluster 3\"],[41,\"Cluster 3\"],[56,\"Cluster 3\"],[35,\"Cluster 3\"],[39,\"Cluster 3\"],[38,\"Cluster 3\"],[39,\"Cluster 3\"],[36,\"Cluster 3\"],[18,\"Cluster 3\"]],\"hovertemplate\":\"Cluster=%{customdata[1]}<br>Salario=%{x}<br>Edad=%{customdata[0]}<extra></extra>\",\"legendgroup\":\"Cluster 3\",\"marker\":{\"color\":\"#ab63fa\"},\"name\":\"Cluster 3\",\"notched\":true,\"offsetgroup\":\"Cluster 3\",\"showlegend\":false,\"x\":[68000,55000,64000,60000,49000,60000,61000,43000,52000,52000,60000,41000,57000,61000,44000,60000,41000,58000,51000,66000,53000,61000,50000,55000,57000,51000,65000,58000,63000,55000,55000,52000,50000,68000,42000,47000,59000,59000,58000,49000,55000,44000,65000,59000,53000,65000,51000,62000,45000,41000,42000,43000,60000,59000,42000,59000,57000,65000,55000,50000,50000,61000,48000,53000,47000,63000,42000,60000,44000,59000,58000,47000,50000,43000,51000,60000,58000,42000,61000,59000,63000,52000],\"xaxis\":\"x2\",\"yaxis\":\"y2\",\"type\":\"box\"}],                        {\"template\":{\"data\":{\"bar\":[{\"error_x\":{\"color\":\"#2a3f5f\"},\"error_y\":{\"color\":\"#2a3f5f\"},\"marker\":{\"line\":{\"color\":\"#E5ECF6\",\"width\":0.5},\"pattern\":{\"fillmode\":\"overlay\",\"size\":10,\"solidity\":0.2}},\"type\":\"bar\"}],\"barpolar\":[{\"marker\":{\"line\":{\"color\":\"#E5ECF6\",\"width\":0.5},\"pattern\":{\"fillmode\":\"overlay\",\"size\":10,\"solidity\":0.2}},\"type\":\"barpolar\"}],\"carpet\":[{\"aaxis\":{\"endlinecolor\":\"#2a3f5f\",\"gridcolor\":\"white\",\"linecolor\":\"white\",\"minorgridcolor\":\"white\",\"startlinecolor\":\"#2a3f5f\"},\"baxis\":{\"endlinecolor\":\"#2a3f5f\",\"gridcolor\":\"white\",\"linecolor\":\"white\",\"minorgridcolor\":\"white\",\"startlinecolor\":\"#2a3f5f\"},\"type\":\"carpet\"}],\"choropleth\":[{\"colorbar\":{\"outlinewidth\":0,\"ticks\":\"\"},\"type\":\"choropleth\"}],\"contour\":[{\"colorbar\":{\"outlinewidth\":0,\"ticks\":\"\"},\"colorscale\":[[0.0,\"#0d0887\"],[0.1111111111111111,\"#46039f\"],[0.2222222222222222,\"#7201a8\"],[0.3333333333333333,\"#9c179e\"],[0.4444444444444444,\"#bd3786\"],[0.5555555555555556,\"#d8576b\"],[0.6666666666666666,\"#ed7953\"],[0.7777777777777778,\"#fb9f3a\"],[0.8888888888888888,\"#fdca26\"],[1.0,\"#f0f921\"]],\"type\":\"contour\"}],\"contourcarpet\":[{\"colorbar\":{\"outlinewidth\":0,\"ticks\":\"\"},\"type\":\"contourcarpet\"}],\"heatmap\":[{\"colorbar\":{\"outlinewidth\":0,\"ticks\":\"\"},\"colorscale\":[[0.0,\"#0d0887\"],[0.1111111111111111,\"#46039f\"],[0.2222222222222222,\"#7201a8\"],[0.3333333333333333,\"#9c179e\"],[0.4444444444444444,\"#bd3786\"],[0.5555555555555556,\"#d8576b\"],[0.6666666666666666,\"#ed7953\"],[0.7777777777777778,\"#fb9f3a\"],[0.8888888888888888,\"#fdca26\"],[1.0,\"#f0f921\"]],\"type\":\"heatmap\"}],\"heatmapgl\":[{\"colorbar\":{\"outlinewidth\":0,\"ticks\":\"\"},\"colorscale\":[[0.0,\"#0d0887\"],[0.1111111111111111,\"#46039f\"],[0.2222222222222222,\"#7201a8\"],[0.3333333333333333,\"#9c179e\"],[0.4444444444444444,\"#bd3786\"],[0.5555555555555556,\"#d8576b\"],[0.6666666666666666,\"#ed7953\"],[0.7777777777777778,\"#fb9f3a\"],[0.8888888888888888,\"#fdca26\"],[1.0,\"#f0f921\"]],\"type\":\"heatmapgl\"}],\"histogram\":[{\"marker\":{\"pattern\":{\"fillmode\":\"overlay\",\"size\":10,\"solidity\":0.2}},\"type\":\"histogram\"}],\"histogram2d\":[{\"colorbar\":{\"outlinewidth\":0,\"ticks\":\"\"},\"colorscale\":[[0.0,\"#0d0887\"],[0.1111111111111111,\"#46039f\"],[0.2222222222222222,\"#7201a8\"],[0.3333333333333333,\"#9c179e\"],[0.4444444444444444,\"#bd3786\"],[0.5555555555555556,\"#d8576b\"],[0.6666666666666666,\"#ed7953\"],[0.7777777777777778,\"#fb9f3a\"],[0.8888888888888888,\"#fdca26\"],[1.0,\"#f0f921\"]],\"type\":\"histogram2d\"}],\"histogram2dcontour\":[{\"colorbar\":{\"outlinewidth\":0,\"ticks\":\"\"},\"colorscale\":[[0.0,\"#0d0887\"],[0.1111111111111111,\"#46039f\"],[0.2222222222222222,\"#7201a8\"],[0.3333333333333333,\"#9c179e\"],[0.4444444444444444,\"#bd3786\"],[0.5555555555555556,\"#d8576b\"],[0.6666666666666666,\"#ed7953\"],[0.7777777777777778,\"#fb9f3a\"],[0.8888888888888888,\"#fdca26\"],[1.0,\"#f0f921\"]],\"type\":\"histogram2dcontour\"}],\"mesh3d\":[{\"colorbar\":{\"outlinewidth\":0,\"ticks\":\"\"},\"type\":\"mesh3d\"}],\"parcoords\":[{\"line\":{\"colorbar\":{\"outlinewidth\":0,\"ticks\":\"\"}},\"type\":\"parcoords\"}],\"pie\":[{\"automargin\":true,\"type\":\"pie\"}],\"scatter\":[{\"marker\":{\"colorbar\":{\"outlinewidth\":0,\"ticks\":\"\"}},\"type\":\"scatter\"}],\"scatter3d\":[{\"line\":{\"colorbar\":{\"outlinewidth\":0,\"ticks\":\"\"}},\"marker\":{\"colorbar\":{\"outlinewidth\":0,\"ticks\":\"\"}},\"type\":\"scatter3d\"}],\"scattercarpet\":[{\"marker\":{\"colorbar\":{\"outlinewidth\":0,\"ticks\":\"\"}},\"type\":\"scattercarpet\"}],\"scattergeo\":[{\"marker\":{\"colorbar\":{\"outlinewidth\":0,\"ticks\":\"\"}},\"type\":\"scattergeo\"}],\"scattergl\":[{\"marker\":{\"colorbar\":{\"outlinewidth\":0,\"ticks\":\"\"}},\"type\":\"scattergl\"}],\"scattermapbox\":[{\"marker\":{\"colorbar\":{\"outlinewidth\":0,\"ticks\":\"\"}},\"type\":\"scattermapbox\"}],\"scatterpolar\":[{\"marker\":{\"colorbar\":{\"outlinewidth\":0,\"ticks\":\"\"}},\"type\":\"scatterpolar\"}],\"scatterpolargl\":[{\"marker\":{\"colorbar\":{\"outlinewidth\":0,\"ticks\":\"\"}},\"type\":\"scatterpolargl\"}],\"scatterternary\":[{\"marker\":{\"colorbar\":{\"outlinewidth\":0,\"ticks\":\"\"}},\"type\":\"scatterternary\"}],\"surface\":[{\"colorbar\":{\"outlinewidth\":0,\"ticks\":\"\"},\"colorscale\":[[0.0,\"#0d0887\"],[0.1111111111111111,\"#46039f\"],[0.2222222222222222,\"#7201a8\"],[0.3333333333333333,\"#9c179e\"],[0.4444444444444444,\"#bd3786\"],[0.5555555555555556,\"#d8576b\"],[0.6666666666666666,\"#ed7953\"],[0.7777777777777778,\"#fb9f3a\"],[0.8888888888888888,\"#fdca26\"],[1.0,\"#f0f921\"]],\"type\":\"surface\"}],\"table\":[{\"cells\":{\"fill\":{\"color\":\"#EBF0F8\"},\"line\":{\"color\":\"white\"}},\"header\":{\"fill\":{\"color\":\"#C8D4E3\"},\"line\":{\"color\":\"white\"}},\"type\":\"table\"}]},\"layout\":{\"annotationdefaults\":{\"arrowcolor\":\"#2a3f5f\",\"arrowhead\":0,\"arrowwidth\":1},\"autotypenumbers\":\"strict\",\"coloraxis\":{\"colorbar\":{\"outlinewidth\":0,\"ticks\":\"\"}},\"colorscale\":{\"diverging\":[[0,\"#8e0152\"],[0.1,\"#c51b7d\"],[0.2,\"#de77ae\"],[0.3,\"#f1b6da\"],[0.4,\"#fde0ef\"],[0.5,\"#f7f7f7\"],[0.6,\"#e6f5d0\"],[0.7,\"#b8e186\"],[0.8,\"#7fbc41\"],[0.9,\"#4d9221\"],[1,\"#276419\"]],\"sequential\":[[0.0,\"#0d0887\"],[0.1111111111111111,\"#46039f\"],[0.2222222222222222,\"#7201a8\"],[0.3333333333333333,\"#9c179e\"],[0.4444444444444444,\"#bd3786\"],[0.5555555555555556,\"#d8576b\"],[0.6666666666666666,\"#ed7953\"],[0.7777777777777778,\"#fb9f3a\"],[0.8888888888888888,\"#fdca26\"],[1.0,\"#f0f921\"]],\"sequentialminus\":[[0.0,\"#0d0887\"],[0.1111111111111111,\"#46039f\"],[0.2222222222222222,\"#7201a8\"],[0.3333333333333333,\"#9c179e\"],[0.4444444444444444,\"#bd3786\"],[0.5555555555555556,\"#d8576b\"],[0.6666666666666666,\"#ed7953\"],[0.7777777777777778,\"#fb9f3a\"],[0.8888888888888888,\"#fdca26\"],[1.0,\"#f0f921\"]]},\"colorway\":[\"#636efa\",\"#EF553B\",\"#00cc96\",\"#ab63fa\",\"#FFA15A\",\"#19d3f3\",\"#FF6692\",\"#B6E880\",\"#FF97FF\",\"#FECB52\"],\"font\":{\"color\":\"#2a3f5f\"},\"geo\":{\"bgcolor\":\"white\",\"lakecolor\":\"white\",\"landcolor\":\"#E5ECF6\",\"showlakes\":true,\"showland\":true,\"subunitcolor\":\"white\"},\"hoverlabel\":{\"align\":\"left\"},\"hovermode\":\"closest\",\"mapbox\":{\"style\":\"light\"},\"paper_bgcolor\":\"white\",\"plot_bgcolor\":\"#E5ECF6\",\"polar\":{\"angularaxis\":{\"gridcolor\":\"white\",\"linecolor\":\"white\",\"ticks\":\"\"},\"bgcolor\":\"#E5ECF6\",\"radialaxis\":{\"gridcolor\":\"white\",\"linecolor\":\"white\",\"ticks\":\"\"}},\"scene\":{\"xaxis\":{\"backgroundcolor\":\"#E5ECF6\",\"gridcolor\":\"white\",\"gridwidth\":2,\"linecolor\":\"white\",\"showbackground\":true,\"ticks\":\"\",\"zerolinecolor\":\"white\"},\"yaxis\":{\"backgroundcolor\":\"#E5ECF6\",\"gridcolor\":\"white\",\"gridwidth\":2,\"linecolor\":\"white\",\"showbackground\":true,\"ticks\":\"\",\"zerolinecolor\":\"white\"},\"zaxis\":{\"backgroundcolor\":\"#E5ECF6\",\"gridcolor\":\"white\",\"gridwidth\":2,\"linecolor\":\"white\",\"showbackground\":true,\"ticks\":\"\",\"zerolinecolor\":\"white\"}},\"shapedefaults\":{\"line\":{\"color\":\"#2a3f5f\"}},\"ternary\":{\"aaxis\":{\"gridcolor\":\"white\",\"linecolor\":\"white\",\"ticks\":\"\"},\"baxis\":{\"gridcolor\":\"white\",\"linecolor\":\"white\",\"ticks\":\"\"},\"bgcolor\":\"#E5ECF6\",\"caxis\":{\"gridcolor\":\"white\",\"linecolor\":\"white\",\"ticks\":\"\"}},\"title\":{\"x\":0.05},\"xaxis\":{\"automargin\":true,\"gridcolor\":\"white\",\"linecolor\":\"white\",\"ticks\":\"\",\"title\":{\"standoff\":15},\"zerolinecolor\":\"white\",\"zerolinewidth\":2},\"yaxis\":{\"automargin\":true,\"gridcolor\":\"white\",\"linecolor\":\"white\",\"ticks\":\"\",\"title\":{\"standoff\":15},\"zerolinecolor\":\"white\",\"zerolinewidth\":2}}},\"xaxis\":{\"anchor\":\"y\",\"domain\":[0.0,1.0],\"title\":{\"text\":\"Salario\"}},\"yaxis\":{\"anchor\":\"x\",\"domain\":[0.0,0.7326],\"title\":{\"text\":\"count\"}},\"xaxis2\":{\"anchor\":\"y2\",\"domain\":[0.0,1.0],\"matches\":\"x\",\"showticklabels\":false,\"showgrid\":true},\"yaxis2\":{\"anchor\":\"x2\",\"domain\":[0.7426,1.0],\"matches\":\"y2\",\"showticklabels\":false,\"showline\":false,\"ticks\":\"\",\"showgrid\":false},\"legend\":{\"title\":{\"text\":\"Cluster\"},\"tracegroupgap\":0},\"margin\":{\"t\":60},\"barmode\":\"relative\",\"height\":600},                        {\"responsive\": true}                    ).then(function(){\n",
              "                            \n",
              "var gd = document.getElementById('ce535aa7-3056-4494-8510-3d40c39a3153');\n",
              "var x = new MutationObserver(function (mutations, observer) {{\n",
              "        var display = window.getComputedStyle(gd).display;\n",
              "        if (!display || display === 'none') {{\n",
              "            console.log([gd, 'removed!']);\n",
              "            Plotly.purge(gd);\n",
              "            observer.disconnect();\n",
              "        }}\n",
              "}});\n",
              "\n",
              "// Listen for the removal of the full notebook cells\n",
              "var notebookContainer = gd.closest('#notebook-container');\n",
              "if (notebookContainer) {{\n",
              "    x.observe(notebookContainer, {childList: true});\n",
              "}}\n",
              "\n",
              "// Listen for the clearing of the current output cell\n",
              "var outputEl = gd.closest('.output');\n",
              "if (outputEl) {{\n",
              "    x.observe(outputEl, {childList: true});\n",
              "}}\n",
              "\n",
              "                        })                };                            </script>        </div>\n",
              "</body>\n",
              "</html>"
            ]
          },
          "metadata": {}
        }
      ]
    },
    {
      "cell_type": "markdown",
      "metadata": {
        "id": "DGEW1eluzpLc"
      },
      "source": [
        "# **Predecir sobre datos no disponibles**"
      ]
    },
    {
      "cell_type": "code",
      "metadata": {
        "colab": {
          "base_uri": "https://localhost:8080/",
          "height": 204
        },
        "id": "pG4jMvlkzr6O",
        "outputId": "2104d997-65cd-41a0-eeae-17bf9c818e57"
      },
      "source": [
        "clientes_no_vistos_prediccion = predict_model(km, data=clientes_no_vistos)\n",
        "clientes_no_vistos_prediccion.head()"
      ],
      "execution_count": 27,
      "outputs": [
        {
          "output_type": "execute_result",
          "data": {
            "text/plain": [
              "   Edad   Salario    Cluster\n",
              "0  35.0   65000.0  Cluster 3\n",
              "1  47.0   20000.0  Cluster 1\n",
              "2  29.0   43000.0  Cluster 3\n",
              "3  27.0  137000.0  Cluster 2\n",
              "4  21.0   16000.0  Cluster 1"
            ],
            "text/html": [
              "\n",
              "  <div id=\"df-20d3d9cc-cfbd-4a81-ac86-e474de53715d\">\n",
              "    <div class=\"colab-df-container\">\n",
              "      <div>\n",
              "<style scoped>\n",
              "    .dataframe tbody tr th:only-of-type {\n",
              "        vertical-align: middle;\n",
              "    }\n",
              "\n",
              "    .dataframe tbody tr th {\n",
              "        vertical-align: top;\n",
              "    }\n",
              "\n",
              "    .dataframe thead th {\n",
              "        text-align: right;\n",
              "    }\n",
              "</style>\n",
              "<table border=\"1\" class=\"dataframe\">\n",
              "  <thead>\n",
              "    <tr style=\"text-align: right;\">\n",
              "      <th></th>\n",
              "      <th>Edad</th>\n",
              "      <th>Salario</th>\n",
              "      <th>Cluster</th>\n",
              "    </tr>\n",
              "  </thead>\n",
              "  <tbody>\n",
              "    <tr>\n",
              "      <th>0</th>\n",
              "      <td>35.0</td>\n",
              "      <td>65000.0</td>\n",
              "      <td>Cluster 3</td>\n",
              "    </tr>\n",
              "    <tr>\n",
              "      <th>1</th>\n",
              "      <td>47.0</td>\n",
              "      <td>20000.0</td>\n",
              "      <td>Cluster 1</td>\n",
              "    </tr>\n",
              "    <tr>\n",
              "      <th>2</th>\n",
              "      <td>29.0</td>\n",
              "      <td>43000.0</td>\n",
              "      <td>Cluster 3</td>\n",
              "    </tr>\n",
              "    <tr>\n",
              "      <th>3</th>\n",
              "      <td>27.0</td>\n",
              "      <td>137000.0</td>\n",
              "      <td>Cluster 2</td>\n",
              "    </tr>\n",
              "    <tr>\n",
              "      <th>4</th>\n",
              "      <td>21.0</td>\n",
              "      <td>16000.0</td>\n",
              "      <td>Cluster 1</td>\n",
              "    </tr>\n",
              "  </tbody>\n",
              "</table>\n",
              "</div>\n",
              "      <button class=\"colab-df-convert\" onclick=\"convertToInteractive('df-20d3d9cc-cfbd-4a81-ac86-e474de53715d')\"\n",
              "              title=\"Convert this dataframe to an interactive table.\"\n",
              "              style=\"display:none;\">\n",
              "        \n",
              "  <svg xmlns=\"http://www.w3.org/2000/svg\" height=\"24px\"viewBox=\"0 0 24 24\"\n",
              "       width=\"24px\">\n",
              "    <path d=\"M0 0h24v24H0V0z\" fill=\"none\"/>\n",
              "    <path d=\"M18.56 5.44l.94 2.06.94-2.06 2.06-.94-2.06-.94-.94-2.06-.94 2.06-2.06.94zm-11 1L8.5 8.5l.94-2.06 2.06-.94-2.06-.94L8.5 2.5l-.94 2.06-2.06.94zm10 10l.94 2.06.94-2.06 2.06-.94-2.06-.94-.94-2.06-.94 2.06-2.06.94z\"/><path d=\"M17.41 7.96l-1.37-1.37c-.4-.4-.92-.59-1.43-.59-.52 0-1.04.2-1.43.59L10.3 9.45l-7.72 7.72c-.78.78-.78 2.05 0 2.83L4 21.41c.39.39.9.59 1.41.59.51 0 1.02-.2 1.41-.59l7.78-7.78 2.81-2.81c.8-.78.8-2.07 0-2.86zM5.41 20L4 18.59l7.72-7.72 1.47 1.35L5.41 20z\"/>\n",
              "  </svg>\n",
              "      </button>\n",
              "      \n",
              "  <style>\n",
              "    .colab-df-container {\n",
              "      display:flex;\n",
              "      flex-wrap:wrap;\n",
              "      gap: 12px;\n",
              "    }\n",
              "\n",
              "    .colab-df-convert {\n",
              "      background-color: #E8F0FE;\n",
              "      border: none;\n",
              "      border-radius: 50%;\n",
              "      cursor: pointer;\n",
              "      display: none;\n",
              "      fill: #1967D2;\n",
              "      height: 32px;\n",
              "      padding: 0 0 0 0;\n",
              "      width: 32px;\n",
              "    }\n",
              "\n",
              "    .colab-df-convert:hover {\n",
              "      background-color: #E2EBFA;\n",
              "      box-shadow: 0px 1px 2px rgba(60, 64, 67, 0.3), 0px 1px 3px 1px rgba(60, 64, 67, 0.15);\n",
              "      fill: #174EA6;\n",
              "    }\n",
              "\n",
              "    [theme=dark] .colab-df-convert {\n",
              "      background-color: #3B4455;\n",
              "      fill: #D2E3FC;\n",
              "    }\n",
              "\n",
              "    [theme=dark] .colab-df-convert:hover {\n",
              "      background-color: #434B5C;\n",
              "      box-shadow: 0px 1px 3px 1px rgba(0, 0, 0, 0.15);\n",
              "      filter: drop-shadow(0px 1px 2px rgba(0, 0, 0, 0.3));\n",
              "      fill: #FFFFFF;\n",
              "    }\n",
              "  </style>\n",
              "\n",
              "      <script>\n",
              "        const buttonEl =\n",
              "          document.querySelector('#df-20d3d9cc-cfbd-4a81-ac86-e474de53715d button.colab-df-convert');\n",
              "        buttonEl.style.display =\n",
              "          google.colab.kernel.accessAllowed ? 'block' : 'none';\n",
              "\n",
              "        async function convertToInteractive(key) {\n",
              "          const element = document.querySelector('#df-20d3d9cc-cfbd-4a81-ac86-e474de53715d');\n",
              "          const dataTable =\n",
              "            await google.colab.kernel.invokeFunction('convertToInteractive',\n",
              "                                                     [key], {});\n",
              "          if (!dataTable) return;\n",
              "\n",
              "          const docLinkHtml = 'Like what you see? Visit the ' +\n",
              "            '<a target=\"_blank\" href=https://colab.research.google.com/notebooks/data_table.ipynb>data table notebook</a>'\n",
              "            + ' to learn more about interactive tables.';\n",
              "          element.innerHTML = '';\n",
              "          dataTable['output_type'] = 'display_data';\n",
              "          await google.colab.output.renderOutput(dataTable, element);\n",
              "          const docLink = document.createElement('div');\n",
              "          docLink.innerHTML = docLinkHtml;\n",
              "          element.appendChild(docLink);\n",
              "        }\n",
              "      </script>\n",
              "    </div>\n",
              "  </div>\n",
              "  "
            ]
          },
          "metadata": {},
          "execution_count": 27
        }
      ]
    },
    {
      "cell_type": "markdown",
      "metadata": {
        "id": "MiYGLoai04Kf"
      },
      "source": [
        "# **Guardando el modelo**"
      ]
    },
    {
      "cell_type": "code",
      "metadata": {
        "id": "SRGvfPRq03Z_"
      },
      "source": [
        "#save_model(km,\"/content/drive/MyDrive/Modelos/modelo_km_PyCaret\")"
      ],
      "execution_count": 28,
      "outputs": []
    },
    {
      "cell_type": "markdown",
      "metadata": {
        "id": "FfV9MFJ21ipE"
      },
      "source": [
        "# **Accediendo al modelo guardado**"
      ]
    },
    {
      "cell_type": "code",
      "metadata": {
        "id": "6pbQ8k8H1mee"
      },
      "source": [
        "#saved_km = load_model(\"/content/drive/MyDrive/Modelos/modelo_km_PyCaret\")"
      ],
      "execution_count": 29,
      "outputs": []
    },
    {
      "cell_type": "code",
      "metadata": {
        "id": "Wp5uHlE813nT"
      },
      "source": [
        "#nueva_prediccion = predict_model(saved_km, data=clientes_no_vistos)\n",
        "#nueva_prediccion.head()"
      ],
      "execution_count": 30,
      "outputs": []
    }
  ]
}