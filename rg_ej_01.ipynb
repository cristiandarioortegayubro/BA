{
  "nbformat": 4,
  "nbformat_minor": 0,
  "metadata": {
    "colab": {
      "provenance": [],
      "collapsed_sections": [],
      "include_colab_link": true
    },
    "kernelspec": {
      "name": "python3",
      "display_name": "Python 3"
    }
  },
  "cells": [
    {
      "cell_type": "markdown",
      "metadata": {
        "id": "view-in-github",
        "colab_type": "text"
      },
      "source": [
        "<a href=\"https://colab.research.google.com/github/cristiandarioortegayubro/BA/blob/main/rg_ej_01.ipynb\" target=\"_parent\"><img src=\"https://colab.research.google.com/assets/colab-badge.svg\" alt=\"Open In Colab\"/></a>"
      ]
    },
    {
      "cell_type": "markdown",
      "source": [
        "![logo](https://github.com/cristiandarioortegayubro/BA/blob/main/dba.png?raw=true)"
      ],
      "metadata": {
        "id": "TqJPuGihc9cz"
      }
    },
    {
      "cell_type": "markdown",
      "source": [
        "# **Practico Nº 1 Regresion Lineal Simple**"
      ],
      "metadata": {
        "id": "u68NuD2-dCK6"
      }
    },
    {
      "cell_type": "markdown",
      "metadata": {
        "id": "vgKD1Py4TO_F"
      },
      "source": [
        "**Se propone ver la relación existente entre el número medio de habitaciones de un conjunto de viviendas en Boston y su valor medio. Para ello, en virtud del modelo desarrollado en la introducción, deberá desarrollar la consigna propuesta...**"
      ]
    },
    {
      "cell_type": "markdown",
      "metadata": {
        "id": "FQ8iYxg3gI4w"
      },
      "source": [
        "# **Introducción**"
      ]
    },
    {
      "cell_type": "markdown",
      "metadata": {
        "id": "aFDMU-W_5qMZ"
      },
      "source": [
        "## **Carga de librerías necesarias**"
      ]
    },
    {
      "cell_type": "code",
      "metadata": {
        "id": "dgWMRzBsCfMf"
      },
      "source": [
        "import pandas as pd \n",
        "import numpy as np\n",
        "import sklearn \n",
        "import sklearn.metrics as metrics \n",
        "from sklearn.model_selection import train_test_split\n",
        "from sklearn.metrics import mean_squared_error\n",
        "from sklearn import datasets\n",
        "from sklearn import linear_model\n",
        "from math import sqrt\n",
        "import plotly.express as px"
      ],
      "execution_count": 1,
      "outputs": []
    },
    {
      "cell_type": "markdown",
      "metadata": {
        "id": "Xx6jC6sSzFw0"
      },
      "source": [
        "## **Obtención de los Datos**"
      ]
    },
    {
      "cell_type": "markdown",
      "metadata": {
        "id": "QhP9QDanakVE"
      },
      "source": [
        "### **Extracción de Datos - Creación del DataFrame**"
      ]
    },
    {
      "cell_type": "code",
      "metadata": {
        "id": "G8vmNkoHasus"
      },
      "source": [
        "df = pd.read_csv(\"https://raw.githubusercontent.com/cristiandarioortegayubro/BA/main/Datasets/SaratogaHouses.csv\", index_col=0)"
      ],
      "execution_count": 2,
      "outputs": []
    },
    {
      "cell_type": "code",
      "source": [
        "df.head(3)"
      ],
      "metadata": {
        "colab": {
          "base_uri": "https://localhost:8080/",
          "height": 240
        },
        "id": "TQN6N0EmemVK",
        "outputId": "6814bb40-f9f1-463a-b8e7-fc5f25bc4876"
      },
      "execution_count": 3,
      "outputs": [
        {
          "output_type": "execute_result",
          "data": {
            "text/plain": [
              "   precio  metros_totales  antiguedad  precio_terreno  metros_habitables  \\\n",
              "0  132500            0.09          42           50000                906   \n",
              "1  181115            0.92           0           22300               1953   \n",
              "2  109000            0.19         133            7300               1944   \n",
              "\n",
              "   universitarios  dormitorios  baños  habitaciones      calefaccion  \\\n",
              "0              35            2    1.0             5         electric   \n",
              "1              51            3    2.5             6  hot water/steam   \n",
              "2              51            4    1.0             8  hot water/steam   \n",
              "\n",
              "  consumo_calefacion            desague vistas_lago nueva_construccion  \\\n",
              "0           electric             septic          No                 No   \n",
              "1                gas             septic          No                 No   \n",
              "2                gas  public/commercial          No                 No   \n",
              "\n",
              "  aire_acondicionado  \n",
              "0                 No  \n",
              "1                 No  \n",
              "2                 No  "
            ],
            "text/html": [
              "\n",
              "  <div id=\"df-597ce0e8-7520-4b1c-8e9b-2f05c02be3a3\">\n",
              "    <div class=\"colab-df-container\">\n",
              "      <div>\n",
              "<style scoped>\n",
              "    .dataframe tbody tr th:only-of-type {\n",
              "        vertical-align: middle;\n",
              "    }\n",
              "\n",
              "    .dataframe tbody tr th {\n",
              "        vertical-align: top;\n",
              "    }\n",
              "\n",
              "    .dataframe thead th {\n",
              "        text-align: right;\n",
              "    }\n",
              "</style>\n",
              "<table border=\"1\" class=\"dataframe\">\n",
              "  <thead>\n",
              "    <tr style=\"text-align: right;\">\n",
              "      <th></th>\n",
              "      <th>precio</th>\n",
              "      <th>metros_totales</th>\n",
              "      <th>antiguedad</th>\n",
              "      <th>precio_terreno</th>\n",
              "      <th>metros_habitables</th>\n",
              "      <th>universitarios</th>\n",
              "      <th>dormitorios</th>\n",
              "      <th>baños</th>\n",
              "      <th>habitaciones</th>\n",
              "      <th>calefaccion</th>\n",
              "      <th>consumo_calefacion</th>\n",
              "      <th>desague</th>\n",
              "      <th>vistas_lago</th>\n",
              "      <th>nueva_construccion</th>\n",
              "      <th>aire_acondicionado</th>\n",
              "    </tr>\n",
              "  </thead>\n",
              "  <tbody>\n",
              "    <tr>\n",
              "      <th>0</th>\n",
              "      <td>132500</td>\n",
              "      <td>0.09</td>\n",
              "      <td>42</td>\n",
              "      <td>50000</td>\n",
              "      <td>906</td>\n",
              "      <td>35</td>\n",
              "      <td>2</td>\n",
              "      <td>1.0</td>\n",
              "      <td>5</td>\n",
              "      <td>electric</td>\n",
              "      <td>electric</td>\n",
              "      <td>septic</td>\n",
              "      <td>No</td>\n",
              "      <td>No</td>\n",
              "      <td>No</td>\n",
              "    </tr>\n",
              "    <tr>\n",
              "      <th>1</th>\n",
              "      <td>181115</td>\n",
              "      <td>0.92</td>\n",
              "      <td>0</td>\n",
              "      <td>22300</td>\n",
              "      <td>1953</td>\n",
              "      <td>51</td>\n",
              "      <td>3</td>\n",
              "      <td>2.5</td>\n",
              "      <td>6</td>\n",
              "      <td>hot water/steam</td>\n",
              "      <td>gas</td>\n",
              "      <td>septic</td>\n",
              "      <td>No</td>\n",
              "      <td>No</td>\n",
              "      <td>No</td>\n",
              "    </tr>\n",
              "    <tr>\n",
              "      <th>2</th>\n",
              "      <td>109000</td>\n",
              "      <td>0.19</td>\n",
              "      <td>133</td>\n",
              "      <td>7300</td>\n",
              "      <td>1944</td>\n",
              "      <td>51</td>\n",
              "      <td>4</td>\n",
              "      <td>1.0</td>\n",
              "      <td>8</td>\n",
              "      <td>hot water/steam</td>\n",
              "      <td>gas</td>\n",
              "      <td>public/commercial</td>\n",
              "      <td>No</td>\n",
              "      <td>No</td>\n",
              "      <td>No</td>\n",
              "    </tr>\n",
              "  </tbody>\n",
              "</table>\n",
              "</div>\n",
              "      <button class=\"colab-df-convert\" onclick=\"convertToInteractive('df-597ce0e8-7520-4b1c-8e9b-2f05c02be3a3')\"\n",
              "              title=\"Convert this dataframe to an interactive table.\"\n",
              "              style=\"display:none;\">\n",
              "        \n",
              "  <svg xmlns=\"http://www.w3.org/2000/svg\" height=\"24px\"viewBox=\"0 0 24 24\"\n",
              "       width=\"24px\">\n",
              "    <path d=\"M0 0h24v24H0V0z\" fill=\"none\"/>\n",
              "    <path d=\"M18.56 5.44l.94 2.06.94-2.06 2.06-.94-2.06-.94-.94-2.06-.94 2.06-2.06.94zm-11 1L8.5 8.5l.94-2.06 2.06-.94-2.06-.94L8.5 2.5l-.94 2.06-2.06.94zm10 10l.94 2.06.94-2.06 2.06-.94-2.06-.94-.94-2.06-.94 2.06-2.06.94z\"/><path d=\"M17.41 7.96l-1.37-1.37c-.4-.4-.92-.59-1.43-.59-.52 0-1.04.2-1.43.59L10.3 9.45l-7.72 7.72c-.78.78-.78 2.05 0 2.83L4 21.41c.39.39.9.59 1.41.59.51 0 1.02-.2 1.41-.59l7.78-7.78 2.81-2.81c.8-.78.8-2.07 0-2.86zM5.41 20L4 18.59l7.72-7.72 1.47 1.35L5.41 20z\"/>\n",
              "  </svg>\n",
              "      </button>\n",
              "      \n",
              "  <style>\n",
              "    .colab-df-container {\n",
              "      display:flex;\n",
              "      flex-wrap:wrap;\n",
              "      gap: 12px;\n",
              "    }\n",
              "\n",
              "    .colab-df-convert {\n",
              "      background-color: #E8F0FE;\n",
              "      border: none;\n",
              "      border-radius: 50%;\n",
              "      cursor: pointer;\n",
              "      display: none;\n",
              "      fill: #1967D2;\n",
              "      height: 32px;\n",
              "      padding: 0 0 0 0;\n",
              "      width: 32px;\n",
              "    }\n",
              "\n",
              "    .colab-df-convert:hover {\n",
              "      background-color: #E2EBFA;\n",
              "      box-shadow: 0px 1px 2px rgba(60, 64, 67, 0.3), 0px 1px 3px 1px rgba(60, 64, 67, 0.15);\n",
              "      fill: #174EA6;\n",
              "    }\n",
              "\n",
              "    [theme=dark] .colab-df-convert {\n",
              "      background-color: #3B4455;\n",
              "      fill: #D2E3FC;\n",
              "    }\n",
              "\n",
              "    [theme=dark] .colab-df-convert:hover {\n",
              "      background-color: #434B5C;\n",
              "      box-shadow: 0px 1px 3px 1px rgba(0, 0, 0, 0.15);\n",
              "      filter: drop-shadow(0px 1px 2px rgba(0, 0, 0, 0.3));\n",
              "      fill: #FFFFFF;\n",
              "    }\n",
              "  </style>\n",
              "\n",
              "      <script>\n",
              "        const buttonEl =\n",
              "          document.querySelector('#df-597ce0e8-7520-4b1c-8e9b-2f05c02be3a3 button.colab-df-convert');\n",
              "        buttonEl.style.display =\n",
              "          google.colab.kernel.accessAllowed ? 'block' : 'none';\n",
              "\n",
              "        async function convertToInteractive(key) {\n",
              "          const element = document.querySelector('#df-597ce0e8-7520-4b1c-8e9b-2f05c02be3a3');\n",
              "          const dataTable =\n",
              "            await google.colab.kernel.invokeFunction('convertToInteractive',\n",
              "                                                     [key], {});\n",
              "          if (!dataTable) return;\n",
              "\n",
              "          const docLinkHtml = 'Like what you see? Visit the ' +\n",
              "            '<a target=\"_blank\" href=https://colab.research.google.com/notebooks/data_table.ipynb>data table notebook</a>'\n",
              "            + ' to learn more about interactive tables.';\n",
              "          element.innerHTML = '';\n",
              "          dataTable['output_type'] = 'display_data';\n",
              "          await google.colab.output.renderOutput(dataTable, element);\n",
              "          const docLink = document.createElement('div');\n",
              "          docLink.innerHTML = docLinkHtml;\n",
              "          element.appendChild(docLink);\n",
              "        }\n",
              "      </script>\n",
              "    </div>\n",
              "  </div>\n",
              "  "
            ]
          },
          "metadata": {},
          "execution_count": 3
        }
      ]
    },
    {
      "cell_type": "markdown",
      "metadata": {
        "id": "m9pwgoyGmBCW"
      },
      "source": [
        "### Selección de características"
      ]
    },
    {
      "cell_type": "code",
      "metadata": {
        "id": "J_fVqk_Cx1Us"
      },
      "source": [
        "y = df[\"precio\"]"
      ],
      "execution_count": 4,
      "outputs": []
    },
    {
      "cell_type": "code",
      "metadata": {
        "id": "Z-DpFo7vHX-5"
      },
      "source": [
        "X = df[[\"metros_habitables\"]]"
      ],
      "execution_count": 5,
      "outputs": []
    },
    {
      "cell_type": "markdown",
      "metadata": {
        "id": "crCB2GKRCT9b"
      },
      "source": [
        "## **División del dataframe**"
      ]
    },
    {
      "cell_type": "code",
      "metadata": {
        "id": "IgBKNGAcw1p2"
      },
      "source": [
        "X_train, X_test, y_train, y_test = train_test_split(X, \n",
        "                                                    y, \n",
        "                                                    test_size = 0.2, \n",
        "                                                    random_state = 123)"
      ],
      "execution_count": 6,
      "outputs": []
    },
    {
      "cell_type": "markdown",
      "metadata": {
        "id": "VXdYvT5txgGo"
      },
      "source": [
        "## **Modelo Regresión Lineal Simple**"
      ]
    },
    {
      "cell_type": "code",
      "metadata": {
        "id": "qQfG8fS5xi95"
      },
      "source": [
        "lr = linear_model.LinearRegression()"
      ],
      "execution_count": 7,
      "outputs": []
    },
    {
      "cell_type": "code",
      "metadata": {
        "colab": {
          "base_uri": "https://localhost:8080/"
        },
        "id": "M6A343WRyhZH",
        "outputId": "3a722e35-f65c-4c3c-9eaa-61e550901fb2"
      },
      "source": [
        "lr.fit(X_train, y_train)"
      ],
      "execution_count": 8,
      "outputs": [
        {
          "output_type": "execute_result",
          "data": {
            "text/plain": [
              "LinearRegression()"
            ]
          },
          "metadata": {},
          "execution_count": 8
        }
      ]
    },
    {
      "cell_type": "code",
      "metadata": {
        "id": "PAe5WMhAy8p5"
      },
      "source": [
        "y_pred_lr = lr.predict(X_test)"
      ],
      "execution_count": 9,
      "outputs": []
    },
    {
      "cell_type": "markdown",
      "metadata": {
        "id": "Zl-JOt39XB10"
      },
      "source": [
        "## **Metricas**"
      ]
    },
    {
      "cell_type": "code",
      "metadata": {
        "id": "YaA1yBoVOvdd"
      },
      "source": [
        "from sklearn.metrics import mean_squared_error\n",
        "from math import sqrt"
      ],
      "execution_count": 10,
      "outputs": []
    },
    {
      "cell_type": "markdown",
      "metadata": {
        "id": "dhhpGOFIXFvn"
      },
      "source": [
        "### Error de la media de los cuadrados - MSE"
      ]
    },
    {
      "cell_type": "code",
      "metadata": {
        "colab": {
          "base_uri": "https://localhost:8080/"
        },
        "id": "s4fru1wFO3jo",
        "outputId": "9c09b5f8-f525-491d-a9f6-9fe797851fa6"
      },
      "source": [
        "sqrt(mean_squared_error(y_test, y_pred_lr))"
      ],
      "execution_count": 11,
      "outputs": [
        {
          "output_type": "execute_result",
          "data": {
            "text/plain": [
              "84761.38058788743"
            ]
          },
          "metadata": {},
          "execution_count": 11
        }
      ]
    },
    {
      "cell_type": "markdown",
      "metadata": {
        "id": "X5jyxoWuXqie"
      },
      "source": [
        "Los valores más bajos del MSE indican un mejor ajuste en el modelo de regresión. "
      ]
    },
    {
      "cell_type": "markdown",
      "metadata": {
        "id": "edljOgxLXM0z"
      },
      "source": [
        "### Error de la media absoluta - MAE\n"
      ]
    },
    {
      "cell_type": "code",
      "metadata": {
        "colab": {
          "base_uri": "https://localhost:8080/"
        },
        "id": "uI7m4zWhaI1Y",
        "outputId": "8418f536-18df-4c55-ce5d-2543b7779c69"
      },
      "source": [
        "metrics.median_absolute_error(y_test, y_pred_lr)"
      ],
      "execution_count": 12,
      "outputs": [
        {
          "output_type": "execute_result",
          "data": {
            "text/plain": [
              "33859.368628971904"
            ]
          },
          "metadata": {},
          "execution_count": 12
        }
      ]
    },
    {
      "cell_type": "markdown",
      "metadata": {
        "id": "zkxT9EdFXzRJ"
      },
      "source": [
        "Promedio de la diferencia absoluta entre el valor observado y el valor resultante de la predicción"
      ]
    },
    {
      "cell_type": "markdown",
      "metadata": {
        "id": "ggtrPue_XR_Z"
      },
      "source": [
        "### Coeficiente de determinación ($R^2$)\n"
      ]
    },
    {
      "cell_type": "code",
      "metadata": {
        "colab": {
          "base_uri": "https://localhost:8080/"
        },
        "id": "wlPD1_j4WKzc",
        "outputId": "5c2a689a-fa9c-4ea3-8263-90c3949a558f"
      },
      "source": [
        "metrics.r2_score(y_test, y_pred_lr)"
      ],
      "execution_count": 13,
      "outputs": [
        {
          "output_type": "execute_result",
          "data": {
            "text/plain": [
              "0.4044249603027318"
            ]
          },
          "metadata": {},
          "execution_count": 13
        }
      ]
    },
    {
      "cell_type": "markdown",
      "metadata": {
        "id": "J91Ln0SiXm23"
      },
      "source": [
        "Cuanto más cerca de 1 se sitúe su valor, mayor será el ajuste del modelo a la variable que se está intentando predecir. De forma inversa, cuanto más cerca de 0 se en"
      ]
    },
    {
      "cell_type": "markdown",
      "metadata": {
        "id": "pvz4trrkg2va"
      },
      "source": [
        "# **Consigna**"
      ]
    },
    {
      "cell_type": "markdown",
      "metadata": {
        "id": "awB23_ychHdo"
      },
      "source": [
        "**Cambiar la variable independiente con el objetivo de lograr mejores métricas... por lo menos MSE y $R^2$**"
      ]
    }
  ]
}